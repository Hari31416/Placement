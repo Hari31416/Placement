{
 "cells": [
  {
   "cell_type": "markdown",
   "metadata": {},
   "source": [
    "# Tree"
   ]
  },
  {
   "cell_type": "markdown",
   "metadata": {},
   "source": [
    "A tree is an abstract data type that stores elements hierarchically. With the exception of the top element, each element in a tree has a parent element and zero or\n",
    "more children elements."
   ]
  },
  {
   "cell_type": "markdown",
   "metadata": {},
   "source": [
    "Formally, we define a tree T as a set of nodes storing elements such that the nodes\n",
    "have a parent-child relationship that satisfies the following properties:\n",
    "* If T is nonempty, it has a special node, called the **root** of T , that has no parent.\n",
    "* Each node v of T different from the root has a unique **parent** node w; every node with parent w is a **child** of w.\n"
   ]
  },
  {
   "cell_type": "markdown",
   "metadata": {},
   "source": [
    "## Other Node Relationships\n"
   ]
  },
  {
   "cell_type": "markdown",
   "metadata": {},
   "source": [
    "![](images/0301.png)"
   ]
  },
  {
   "cell_type": "markdown",
   "metadata": {},
   "source": [
    "Two nodes that are children of the same parent are **siblings**. A node v is **external**\n",
    "if v has no children. A node v is **internal** if it has one or more children. External\n",
    "nodes are also known as **leaves**."
   ]
  },
  {
   "cell_type": "markdown",
   "metadata": {},
   "source": [
    "A node u is an **ancestor** of a node v if u = v or u is an ancestor of the parent\n",
    "of v. Conversely, we say that a node v is a **descendant** of a node u if u is an ancestor\n",
    "of v. In the figure, `cs252/` is an ancestor of `papers/`, and `pr3` is a\n",
    "descendant of `cs016/`."
   ]
  },
  {
   "cell_type": "markdown",
   "metadata": {},
   "source": [
    "The **subtree** of T **rooted** at a node v is the tree consisting of\n",
    "all the descendants of v in T (including v itself).\n",
    "In the fugure, the subtree rooted at\n",
    "`cs016/` consists of the nodes `cs016/`, `grades`, `homeworks/`, `programs/`, `hw1`, `hw2`,\n",
    "`hw3`, `pr1`, `pr2`, and `pr3`.\n"
   ]
  },
  {
   "cell_type": "markdown",
   "metadata": {},
   "source": [
    "## Edges and Paths in Trees\n"
   ]
  },
  {
   "cell_type": "markdown",
   "metadata": {},
   "source": [
    "An **edge** of tree T is a pair of nodes (u, v) such that u is the parent of v, or vice\n",
    "versa. A **path** of T is a sequence of nodes such that any two consecutive nodes in\n",
    "the sequence form an edge. For example, the tree in the figure contains the path\n",
    "`(cs252/, projects/, demos/, market)`.\n"
   ]
  },
  {
   "cell_type": "markdown",
   "metadata": {},
   "source": [
    "## Ordered Trees"
   ]
  },
  {
   "cell_type": "markdown",
   "metadata": {},
   "source": [
    "A tree is **ordered** if there is a meaningful linear order among the children of each\n",
    "node; that is, we purposefully identify the children of a node as being the first,\n",
    "second, third, and so on. Such an order is usually visualized by arranging siblings\n",
    "left to right, according to their order.\n"
   ]
  },
  {
   "cell_type": "markdown",
   "metadata": {},
   "source": [
    "## Some More Properties"
   ]
  },
  {
   "cell_type": "markdown",
   "metadata": {},
   "source": [
    "<ul><li><strong>Number of edges:</strong> An edge can be defined as the connection between two nodes. If a tree has N nodes then it will have (N-1) edges. There is only one path from each node to any other node of the tree.</li><li><strong>Depth of a node:</strong> The depth of a node is defined as the length of the path from the root to that node. Each edge adds 1 unit of length to the path. So, it can also be defined as the number of edges in the path from the root of the tree to the node.</li><li><strong>Height of a node:</strong> The height of a node can be defined as the length of the longest path from the node to a leaf node of the tree.</li><li><strong>Height of the Tree:</strong> The height of a tree is the length of the longest path from the root of the tree to a leaf node of the tree.</li><li><strong>Degree of a Node:</strong> The total count of subtrees attached to that node is called the degree of the node. The degree of a leaf node must be <strong>0</strong>. The degree of a tree is the maximum degree of a node among all the nodes in the tree.</li></ul>"
   ]
  },
  {
   "cell_type": "markdown",
   "metadata": {},
   "source": [
    "## Depth of a Node"
   ]
  },
  {
   "cell_type": "markdown",
   "metadata": {},
   "source": [
    "Let p be the position of a node of a tree T . The **depth** of p is the number of\n",
    "ancestors of p, excluding p itself. The depth of p can also be recursively defined as follows:\n",
    "- If p is the root, then the depth of p is 0.\n",
    "- Otherwise, the depth of p is one plus the depth of the parent of p.\n"
   ]
  },
  {
   "cell_type": "markdown",
   "metadata": {},
   "source": [
    "## Height of a Node"
   ]
  },
  {
   "cell_type": "markdown",
   "metadata": {},
   "source": [
    "The **height** of a position p in a tree T is also defined recursively:\n",
    "- If p is a leaf, then the height of p is 0.\n",
    "- Otherwise, the height of p is one more than the maximum of the heights of\n",
    "p’s children.\n",
    "\n",
    "The **height** of a nonempty tree T is the height of the root of T ."
   ]
  },
  {
   "cell_type": "markdown",
   "metadata": {},
   "source": [
    "## Types of Tree data structures"
   ]
  },
  {
   "cell_type": "markdown",
   "metadata": {},
   "source": [
    "The different types of tree data structures are as follows:"
   ]
  },
  {
   "cell_type": "markdown",
   "metadata": {},
   "source": [
    "<p>1.<strong> General tree</strong></p>\n",
    "<p>A general tree data structure has no restriction on the number of nodes. It means that a parent node can have any number of child nodes. &nbsp;</p>\n",
    "<p>2. <strong>Binary tree &nbsp;</strong></p>\n",
    "<p>A node of a binary tree can have a maximum of two child nodes.</p>\n",
    "<p>3.<strong> Balanced tree</strong></p>\n",
    "<p>If the height of the left sub-tree and the right sub-tree is equal or differs at most by 1, the tree is known as a balanced tree. &nbsp;</p>"
   ]
  },
  {
   "cell_type": "markdown",
   "metadata": {},
   "source": [
    "# Binary Tree"
   ]
  },
  {
   "cell_type": "markdown",
   "metadata": {},
   "source": [
    "A tree whose elements have at most 2 children is called a binary tree. "
   ]
  },
  {
   "cell_type": "markdown",
   "metadata": {},
   "source": [
    "## Represenation"
   ]
  },
  {
   "cell_type": "markdown",
   "metadata": {},
   "source": [
    "A tree is represented by a pointer to the topmost node of the tree. If the tree is empty, then the value of the root is NULL. \n",
    "\n",
    "A Tree node contains the following parts. \n",
    "1. Every node has at most two children.\n",
    "2. Each child node is labeled as being either a **left child** or a **right child**.\n",
    "3. A left child precedes a right child in the order of children of a node."
   ]
  },
  {
   "cell_type": "markdown",
   "metadata": {},
   "source": [
    "The subtree rooted at a left or right child of an internal node v is called a **left subtree**\n",
    "or **right subtree**, respectively, of v. A binary tree is **proper** if each node has either\n",
    "zero or two children. Some people also refer to such trees as being **full** binary\n",
    "trees. Thus, in a proper binary tree, every internal node has exactly two children.\n",
    "A binary tree that is not proper is **improper**.\n"
   ]
  },
  {
   "cell_type": "markdown",
   "metadata": {},
   "source": [
    "## A Recursive Binary Tree Definition\n"
   ]
  },
  {
   "cell_type": "markdown",
   "metadata": {},
   "source": [
    "We can also define a binary tree in a recursive way such that a binary\n",
    "tree is either empty or consists of:\n",
    "- A node r, called the root of T , that stores an element\n",
    "- A binary tree (possibly empty), called the left subtree of T\n",
    "- A binary tree (possibly empty), called the right subtree of T\n"
   ]
  },
  {
   "cell_type": "markdown",
   "metadata": {},
   "source": [
    "## Linked Structure for Binary Trees"
   ]
  },
  {
   "cell_type": "markdown",
   "metadata": {},
   "source": [
    "A natural way to realize a binary tree T is to use a linked structure, with a node that maintains references to the element stored at a position p\n",
    "and to the nodes associated with the children and parent of p. If p is the root of\n",
    "T , then the parent field of p is None. Likewise, if p does not have a left child\n",
    "(respectively, right child), the associated field is None. The tree itself maintains an\n",
    "instance variable storing a reference to the root node (if any), and a variable, called\n",
    "size, that represents the overall number of nodes of T . "
   ]
  },
  {
   "cell_type": "markdown",
   "metadata": {},
   "source": [
    "![](images/0302.png)"
   ]
  },
  {
   "cell_type": "markdown",
   "metadata": {},
   "source": [
    "## Array-Based Representation of a Binary Tree\n"
   ]
  },
  {
   "cell_type": "markdown",
   "metadata": {},
   "source": [
    "An alternative representation of a binary tree T is based on a way of numbering the\n",
    "positions of T . For every position p of T , let $f (p)$ be the integer defined as follows.\n",
    "- If p is the root of T , then $f (p) = 0$.\n",
    "- If p is the left child of position q, then $f (p) = 2 f (q) + 1$.\n",
    "- If p is the right child of position q, then $f (p) = 2 f (q) + 2$."
   ]
  },
  {
   "cell_type": "markdown",
   "metadata": {},
   "source": [
    "The numbering function f is known as a level numbering of the positions in a\n",
    "binary tree T , for it numbers the positions on each level of T in increasing order\n",
    "from left to right. Note well that the level numbering is based\n",
    "on potential positions within the tree, not actual positions of a given tree, so they\n",
    "are not necessarily consecutive. For example, in the figure, there are no nodes\n",
    "with level numbering 13 or 14, because the node with level numbering 6 has no\n",
    "children.\n"
   ]
  },
  {
   "cell_type": "markdown",
   "metadata": {},
   "source": [
    "![](images/0303.png)"
   ]
  },
  {
   "cell_type": "markdown",
   "metadata": {},
   "source": [
    "One advantage of an array-based representation of a binary tree is that a position p can be represented by the single integer $f (p)$, and that position-based methods such as root, parent, left, and right can be implemented using simple arithmetic\n",
    "operations on the number $f (p)$. Based on our formula for the level numbering, the\n",
    "left child of p has index $2 f (p) + 1$, the right child of p has index 2 $f (p) + 2$, and\n",
    "the parent of p has index $\\lfloor( f (p) − 1)/2\\rfloor$."
   ]
  },
  {
   "cell_type": "markdown",
   "metadata": {},
   "source": [
    "## Types of Binary Tree"
   ]
  },
  {
   "cell_type": "markdown",
   "metadata": {},
   "source": [
    "### Full Binary Tree"
   ]
  },
  {
   "cell_type": "markdown",
   "metadata": {},
   "source": [
    " A Binary Tree is a full binary tree if every node has 0 or 2 children. The following are the examples of a full binary tree. We can also say a full binary tree is a binary tree in which all nodes except leaf nodes have two children. It is also known as a proper binary tree."
   ]
  },
  {
   "cell_type": "markdown",
   "metadata": {},
   "source": [
    "<pre>               18\n",
    "           /       \\  \n",
    "         15         30  \n",
    "        /  \\        /  \\\n",
    "      40    50    100   40\n",
    "\n",
    "\n",
    "             18\n",
    "           /    \\   \n",
    "         15     20    \n",
    "        /  \\       \n",
    "      40    50   \n",
    "    /   \\\n",
    "   30   50\n",
    "   \n",
    "\n",
    "               18\n",
    "            /     \\  \n",
    "          40       30  \n",
    "                   /  \\\n",
    "                 100   40</pre>"
   ]
  },
  {
   "cell_type": "markdown",
   "metadata": {},
   "source": [
    "### Complete Binary Tree"
   ]
  },
  {
   "cell_type": "markdown",
   "metadata": {},
   "source": [
    " A Binary Tree is a Complete Binary Tree if all the levels are completely filled except possibly the last level and the last level has all keys as left as possible.\n",
    "\n",
    "A complete binary tree is just like a full binary tree, but with three major differences:\n",
    "\n",
    "* Every level must be completely filled\n",
    "* All the leaf elements must lean towards the left.\n",
    "* The last leaf element might not have a right sibling i.e. a complete binary tree doesn’t have to be a full binary tree."
   ]
  },
  {
   "cell_type": "markdown",
   "metadata": {},
   "source": [
    "<pre>               18\n",
    "           /       \\  \n",
    "         15         30  \n",
    "        /  \\        /  \\\n",
    "      40    50    100   40\n",
    "\n",
    "\n",
    "               18\n",
    "           /       \\  \n",
    "         15         30  \n",
    "        /  \\        /  \\\n",
    "      40    50    100   40\n",
    "     /  \\   /\n",
    "    8   7  9 </pre>"
   ]
  },
  {
   "cell_type": "markdown",
   "metadata": {},
   "source": [
    "### Perfect Binary Tree"
   ]
  },
  {
   "cell_type": "markdown",
   "metadata": {},
   "source": [
    "A Binary tree is a Perfect Binary Tree in which all the internal nodes have two children and all leaf nodes are at the same level. "
   ]
  },
  {
   "cell_type": "markdown",
   "metadata": {},
   "source": [
    "<pre>               18\n",
    "           /       \\  \n",
    "         15         30  \n",
    "        /  \\        /  \\\n",
    "      40    50    100   40\n",
    "\n",
    "\n",
    "               18\n",
    "           /       \\  \n",
    "         15         30  </pre>"
   ]
  },
  {
   "cell_type": "markdown",
   "metadata": {},
   "source": [
    "### Balanced Binary Tree"
   ]
  },
  {
   "cell_type": "markdown",
   "metadata": {},
   "source": [
    "A balanced binary tree, also referred to as a height-balanced binary tree, is defined as a binary tree in which the height of the left and right subtree of any node differ by not more than 1. Furthermore, the height of the tree is O(Log n) where n is the number of nodes. "
   ]
  },
  {
   "cell_type": "markdown",
   "metadata": {},
   "source": [
    "![](https://cdn.programiz.com/sites/tutorial2program/files/balanced-binary-tree.png) \n",
    "\n",
    "![](https://cdn.programiz.com/sites/tutorial2program/files/unbalanced-binary-tree.png)"
   ]
  },
  {
   "cell_type": "markdown",
   "metadata": {},
   "source": [
    "### Degenerate Binary Tree"
   ]
  },
  {
   "cell_type": "markdown",
   "metadata": {},
   "source": [
    "A Tree where every internal node has one child. Such trees are performance-wise same as linked list. \n",
    "\n",
    "A degenerate or pathological tree is the tree having a single child either left or right."
   ]
  },
  {
   "cell_type": "markdown",
   "metadata": {},
   "source": [
    "<pre>      10\n",
    "      /\n",
    "    20\n",
    "     \\\n",
    "     30\n",
    "      \\\n",
    "      40    </pre>"
   ]
  },
  {
   "cell_type": "markdown",
   "metadata": {},
   "source": [
    "### Binary Search Tree"
   ]
  },
  {
   "cell_type": "markdown",
   "metadata": {},
   "source": [
    "A binary tree is binary search tree if it satisfies the following property:\n",
    "1. All nodes of left subtree are less than the root node\n",
    "2. All nodes of right subtree are more than the root node\n",
    "3. Both subtrees of each node are also BSTs i.e. they have the above two properties"
   ]
  },
  {
   "cell_type": "markdown",
   "metadata": {},
   "source": [
    "![](https://cdn.programiz.com/sites/tutorial2program/files/bst-vs-not-bst.png)"
   ]
  },
  {
   "cell_type": "markdown",
   "metadata": {},
   "source": [
    "# Implementation of a Binary Tree"
   ]
  },
  {
   "cell_type": "markdown",
   "metadata": {},
   "source": [
    "A tree is represented by a pointer to the topmost node of the tree. If the tree is empty, then the value of the root is `None`.  A Tree node contains the following parts. \n",
    "\n",
    "1. Data \n",
    "2. Pointer to the left child \n",
    "3. Pointer to the right child"
   ]
  },
  {
   "cell_type": "code",
   "execution_count": null,
   "metadata": {},
   "outputs": [],
   "source": [
    "class Node:\n",
    "    def __init__(self, data):\n",
    "        self.data = data\n",
    "        self.left = None\n",
    "        self.right = None\n"
   ]
  },
  {
   "cell_type": "markdown",
   "metadata": {},
   "source": [
    "### Height of a Binary Tree"
   ]
  },
  {
   "cell_type": "code",
   "execution_count": 1,
   "metadata": {},
   "outputs": [],
   "source": [
    "def height(root):\n",
    "    if not root:\n",
    "        return 0\n",
    "    else:\n",
    "        left_max = height(root.left)\n",
    "        right_max = height(root.right)\n",
    "        max_height = max(left_max, right_max)+1\n",
    "    return max_height"
   ]
  },
  {
   "cell_type": "markdown",
   "metadata": {},
   "source": [
    "## Tree Traversal"
   ]
  },
  {
   "cell_type": "markdown",
   "metadata": {},
   "source": [
    "### Inorder Traversal (Left, Root, Right)"
   ]
  },
  {
   "cell_type": "markdown",
   "metadata": {},
   "source": [
    "Algorithm Inorder(tree)\n",
    "   1. Traverse the left subtree, i.e., call Inorder(left-subtree)\n",
    "   2. Visit the root.\n",
    "   3. Traverse the right subtree, i.e., call Inorder(right-subtree)"
   ]
  },
  {
   "cell_type": "markdown",
   "metadata": {},
   "source": []
  }
 ],
 "metadata": {
  "kernelspec": {
   "display_name": "Python 3.9.12 ('data-science')",
   "language": "python",
   "name": "python3"
  },
  "language_info": {
   "codemirror_mode": {
    "name": "ipython",
    "version": 3
   },
   "file_extension": ".py",
   "mimetype": "text/x-python",
   "name": "python",
   "nbconvert_exporter": "python",
   "pygments_lexer": "ipython3",
   "version": "3.9.12"
  },
  "orig_nbformat": 4,
  "vscode": {
   "interpreter": {
    "hash": "2efee1efa502125d01e6b4768ba06d9453d29f3642bfd14ad5d4a769de82e88c"
   }
  }
 },
 "nbformat": 4,
 "nbformat_minor": 2
}
