{
 "cells": [
  {
   "attachments": {},
   "cell_type": "markdown",
   "metadata": {},
   "source": [
    "<h2 id=\"Contents\">Contents<a href=\"#Contents\"></a></h2>\n",
    "        <ol>\n",
    "        <li><a class=\"\" href=\"#Stack\">Stack</a></li>\n",
    "<ol><li><a class=\"\" href=\"#Basic-Operations-on-Stack\">Basic Operations on Stack</a></li>\n",
    "<li><a class=\"\" href=\"#Types-of-Stacks\">Types of Stacks</a></li>\n",
    "<li><a class=\"\" href=\"#Applications-of-Stacks\">Applications of Stacks</a></li>\n",
    "<li><a class=\"\" href=\"#Implementation-of-Stack\">Implementation of Stack</a></li>\n",
    "<li><a class=\"\" href=\"#Advantages-of-Stack\">Advantages of Stack</a></li>\n",
    "<li><a class=\"\" href=\"#Disadvantages-of-Stack\">Disadvantages of Stack</a></li>\n",
    "</ol><li><a class=\"\" href=\"#Queue\">Queue</a></li>\n",
    "<ol><li><a class=\"\" href=\"#Basic-Operations-for-Queue\">Basic Operations for Queue</a></li>\n",
    "<li><a class=\"\" href=\"#Different-Types-of-Queues\">Different Types of Queues</a></li>\n",
    "<ol><li><a class=\"\" href=\"#Circular-Queue\">Circular Queue</a></li>\n",
    "<li><a class=\"\" href=\"#Input-Restricted-Queue\">Input Restricted Queue</a></li>\n",
    "<li><a class=\"\" href=\"#Output-Restricted-Queue\">Output Restricted Queue</a></li>\n",
    "<li><a class=\"\" href=\"#Double-Ended-Queue-(Deque)\">Double Ended Queue (Deque)</a></li>\n",
    "<li><a class=\"\" href=\"#Priority-Queue\">Priority Queue</a></li></ol>\n",
    "<li><a class=\"\" href=\"#Applications-of-Queue\">Applications of Queue</a></li>\n",
    "</ol>"
   ]
  },
  {
   "attachments": {},
   "cell_type": "markdown",
   "metadata": {},
   "source": [
    "# Stack"
   ]
  },
  {
   "attachments": {},
   "cell_type": "markdown",
   "metadata": {},
   "source": [
    "Stack is a linear data structure which follows a particular order in which the operations are performed. The order may be LIFO(Last In First Out) or FILO(First In Last Out)."
   ]
  },
  {
   "attachments": {},
   "cell_type": "markdown",
   "metadata": {},
   "source": [
    "![](https://media.geeksforgeeks.org/wp-content/cdn-uploads/gq/2013/03/stack.png)"
   ]
  },
  {
   "attachments": {},
   "cell_type": "markdown",
   "metadata": {},
   "source": [
    "## Basic Operations on Stack"
   ]
  },
  {
   "attachments": {},
   "cell_type": "markdown",
   "metadata": {},
   "source": [
    "![](https://media.geeksforgeeks.org/wp-content/uploads/20220714004311/Stack-660x566.png)"
   ]
  },
  {
   "attachments": {},
   "cell_type": "markdown",
   "metadata": {},
   "source": [
    "- `push()`: to insert an element into the stack\n",
    "- `pop()`: to remove an element from the stack\n",
    "- `top()`: Returns the top element of the stack.\n",
    "- `isEmpty()`: returns true is stack is empty else false.\n",
    "- `size()`: returns the size of stack."
   ]
  },
  {
   "attachments": {},
   "cell_type": "markdown",
   "metadata": {},
   "source": [
    "<table><thead><tr><th><strong>Operations</strong> &nbsp;</th><th><strong>Complexity</strong></th></tr></thead><tbody><tr><td>push()&nbsp;</td><td>O(1)</td></tr><tr><td>pop()&nbsp;</td><td>O(1)</td></tr><tr><td>isEmpty()&nbsp;</td><td>O(1)</td></tr><tr><td>size()</td><td>O(1)</td></tr></tbody></table>"
   ]
  },
  {
   "attachments": {},
   "cell_type": "markdown",
   "metadata": {},
   "source": [
    "## Types of Stacks"
   ]
  },
  {
   "attachments": {},
   "cell_type": "markdown",
   "metadata": {},
   "source": [
    "- **Register Stack**: This type of stack is also a memory element present in the memory unit and can handle a small amount of data only. The height of the register stack is always limited as the size of the register stack is very small compared to the memory.\n",
    "- **Memory Stack**: This type of stack can handle a large amount of memory data. The height of the memory stack is flexible as it occupies a large amount of memory data. \n"
   ]
  },
  {
   "attachments": {},
   "cell_type": "markdown",
   "metadata": {},
   "source": [
    "## Applications of Stacks"
   ]
  },
  {
   "attachments": {},
   "cell_type": "markdown",
   "metadata": {},
   "source": [
    "- Redo-undo features at many places like editors, photoshop.\n",
    "- Forward and backward features in web browsers\n",
    "- Used in many algorithms like Tower of Hanoi, tree traversals, stock span problems, and histogram problems.\n",
    "- In Memory management, any modern computer uses a stack as the primary management for a running purpose. Each program that is running in a computer system has its own memory allocations\n",
    "- String reversal is also another application of stack. Here one by one each character gets inserted into the stack. So the first character of the string is on the bottom of the stack and the last element of a string is on the top of the stack. After Performing the pop operations on the stack we get a string in reverse order.\n",
    "- Stack also helps in implementing function call in computers. The last called function is always completed first."
   ]
  },
  {
   "attachments": {},
   "cell_type": "markdown",
   "metadata": {},
   "source": [
    "## Implementation of Stack"
   ]
  },
  {
   "attachments": {},
   "cell_type": "markdown",
   "metadata": {},
   "source": [
    "There are two ways to implement a stack\n",
    "\n",
    "- Using array\n",
    "- Using linked list"
   ]
  },
  {
   "cell_type": "code",
   "execution_count": 1,
   "metadata": {},
   "outputs": [
    {
     "name": "stdout",
     "output_type": "stream",
     "text": [
      "10 pushed to stack \n",
      "20 pushed to stack \n",
      "30 pushed to stack \n",
      "30 popped from stack\n"
     ]
    }
   ],
   "source": [
    "# Python program for implementation of stack\n",
    " \n",
    "# import maxsize from sys module\n",
    "# Used to return -infinite when stack is empty\n",
    "from sys import maxsize\n",
    " \n",
    "# Function to create a stack. It initializes size of stack as 0\n",
    "def createStack():\n",
    "    stack = []\n",
    "    return stack\n",
    " \n",
    "# Stack is empty when stack size is 0\n",
    "def isEmpty(stack):\n",
    "    return len(stack) == 0\n",
    " \n",
    "# Function to add an item to stack. It increases size by 1\n",
    "def push(stack, item):\n",
    "    stack.append(item)\n",
    "    print(item + \" pushed to stack \")\n",
    "     \n",
    "# Function to remove an item from stack. It decreases size by 1\n",
    "def pop(stack):\n",
    "    if (isEmpty(stack)):\n",
    "        return str(-maxsize -1) # return minus infinite\n",
    "     \n",
    "    return stack.pop()\n",
    " \n",
    "# Function to return the top from stack without removing it\n",
    "def peek(stack):\n",
    "    if (isEmpty(stack)):\n",
    "        return str(-maxsize -1) # return minus infinite\n",
    "    return stack[len(stack) - 1]\n",
    " \n",
    "# Driver program to test above functions   \n",
    "stack = createStack()\n",
    "push(stack, str(10))\n",
    "push(stack, str(20))\n",
    "push(stack, str(30))\n",
    "print(pop(stack) + \" popped from stack\")"
   ]
  },
  {
   "cell_type": "code",
   "execution_count": 2,
   "metadata": {},
   "outputs": [
    {
     "name": "stdout",
     "output_type": "stream",
     "text": [
      " 10 pushed to stack\n",
      " 20 pushed to stack\n",
      " 30 pushed to stack\n",
      " 30 popped from stack\n",
      "Top element is  20 \n"
     ]
    }
   ],
   "source": [
    "# Python program for linked list implementation of stack\n",
    " \n",
    "# Class to represent a node\n",
    " \n",
    " \n",
    "class StackNode:\n",
    " \n",
    "    # Constructor to initialize a node\n",
    "    def __init__(self, data):\n",
    "        self.data = data\n",
    "        self.next = None\n",
    " \n",
    " \n",
    "class Stack:\n",
    " \n",
    "    # Constructor to initialize the root of linked list\n",
    "    def __init__(self):\n",
    "        self.root = None\n",
    " \n",
    "    def isEmpty(self):\n",
    "        return True if self.root is None else False\n",
    " \n",
    "    def push(self, data):\n",
    "        newNode = StackNode(data)\n",
    "        newNode.next = self.root\n",
    "        self.root = newNode\n",
    "        print (\"% d pushed to stack\" % (data))\n",
    " \n",
    "    def pop(self):\n",
    "        if (self.isEmpty()):\n",
    "            return float(\"-inf\")\n",
    "        temp = self.root\n",
    "        self.root = self.root.next\n",
    "        popped = temp.data\n",
    "        return popped\n",
    " \n",
    "    def peek(self):\n",
    "        if self.isEmpty():\n",
    "            return float(\"-inf\")\n",
    "        return self.root.data\n",
    " \n",
    " \n",
    "# Driver code\n",
    "stack = Stack()\n",
    "stack.push(10)\n",
    "stack.push(20)\n",
    "stack.push(30)\n",
    " \n",
    "print(\"% d popped from stack\" % (stack.pop()))\n",
    "print(\"Top element is % d \" % (stack.peek()))"
   ]
  },
  {
   "attachments": {},
   "cell_type": "markdown",
   "metadata": {},
   "source": [
    "## Advantages of Stack"
   ]
  },
  {
   "attachments": {},
   "cell_type": "markdown",
   "metadata": {},
   "source": [
    "<ul><li>Stack helps in managing data that follows the LIFO technique.</li><li>Stacks are be used for systematic Memory Management.</li><li>It is used in many virtual machines like JVM.</li><li>When a function is called, the local variables and other function parameters are stored in the stack and automatically destroyed once returned from the function. Hence, efficient function management.</li><li>Stacks are more secure and reliable as they do not get corrupted easily.</li><li>Stack allows control over memory allocation and deallocation.</li><li>Stack cleans up the objects automatically.</li></ul>"
   ]
  },
  {
   "attachments": {},
   "cell_type": "markdown",
   "metadata": {},
   "source": [
    "## Disadvantages of Stack"
   ]
  },
  {
   "attachments": {},
   "cell_type": "markdown",
   "metadata": {},
   "source": [
    "<ul><li>Stack memory is of limited size.</li><li>The total of size of the stack must be defined before.</li><li>If too many objects are created then it can lead to stack overflow.</li><li>Random accessing is not possible in stack.</li><li>If the stack falls outside the memory it can lead to abnormal termination.</li></ul>"
   ]
  },
  {
   "attachments": {},
   "cell_type": "markdown",
   "metadata": {},
   "source": [
    "# Queue"
   ]
  },
  {
   "attachments": {},
   "cell_type": "markdown",
   "metadata": {},
   "source": [
    "A queue is a linear data structure that is open at both ends and the operations are performed in First In First Out (FIFO) order."
   ]
  },
  {
   "attachments": {},
   "cell_type": "markdown",
   "metadata": {},
   "source": [
    "## Basic Operations for Queue"
   ]
  },
  {
   "attachments": {},
   "cell_type": "markdown",
   "metadata": {},
   "source": [
    "<ol><li><code>Enqueue()</code>: Adds (or stores) an element to the end of the queue..</li><li><code>Dequeue()</code>: Removal of elements from the queue.</li><li><code>Peek()</code> or <code>front()</code> Acquires the data element available at the front node of the queue without deleting it.</li><li><code>rear()</code>: This operation returns the element at the rear end without removing it.</li><li><code>isFull()</code>: Validates if the queue is full.</li><li><code>isNull()</code>: Checks if the queue is empty.</li></ol>"
   ]
  },
  {
   "attachments": {},
   "cell_type": "markdown",
   "metadata": {},
   "source": [
    "## Different Types of Queues"
   ]
  },
  {
   "attachments": {},
   "cell_type": "markdown",
   "metadata": {},
   "source": [
    "There are five different types of queues that are used in different scenarios."
   ]
  },
  {
   "attachments": {},
   "cell_type": "markdown",
   "metadata": {},
   "source": [
    "![](https://media.geeksforgeeks.org/wp-content/uploads/20220623134709/typesofqueues.jpg)"
   ]
  },
  {
   "attachments": {},
   "cell_type": "markdown",
   "metadata": {},
   "source": [
    "### Circular Queue"
   ]
  },
  {
   "attachments": {},
   "cell_type": "markdown",
   "metadata": {},
   "source": [
    "Circular Queue is a linear data structure in which the operations are performed based on FIFO (First In First Out) principle and the last position is connected back to the first position to make a circle. It is also called ‘Ring Buffer’. This queue is primarily used in the following cases:"
   ]
  },
  {
   "attachments": {},
   "cell_type": "markdown",
   "metadata": {},
   "source": [
    "<ol><li><strong>Memory Management:</strong> The unused memory locations in the case of ordinary queues can be utilized in circular queues.</li><li><strong>Traffic system:</strong> In a computer-controlled traffic system, circular queues are used to switch on the traffic lights one by one repeatedly as per the time set.</li><li><strong>CPU Scheduling:</strong> Operating systems often maintain a queue of processes that are ready to execute or that are waiting for a particular event to occur.</li></ol>"
   ]
  },
  {
   "attachments": {},
   "cell_type": "markdown",
   "metadata": {},
   "source": [
    "### Input Restricted Queue"
   ]
  },
  {
   "attachments": {},
   "cell_type": "markdown",
   "metadata": {},
   "source": [
    "In this type of Queue, the input can be taken from one side only(rear) and deletion of elements can be done from both sides(front and rear). This kind of Queue does not follow FIFO(first in first out).  This queue is used in cases where the consumption of the data needs to be in FIFO order but if there is a need to remove the recently inserted data for some reason and one such case can be irrelevant data, performance issue, etc. "
   ]
  },
  {
   "attachments": {},
   "cell_type": "markdown",
   "metadata": {},
   "source": [
    "![](https://media.geeksforgeeks.org/wp-content/uploads/20220623131417/inputrestrictedqueue.jpg)"
   ]
  },
  {
   "attachments": {},
   "cell_type": "markdown",
   "metadata": {},
   "source": [
    "### Output Restricted Queue"
   ]
  },
  {
   "attachments": {},
   "cell_type": "markdown",
   "metadata": {},
   "source": [
    "In this type of Queue, the input can be taken from both sides(rear and front) and the deletion of the element can be done from only one side(front).  This queue is used in the case where the inputs have some priority order to be executed and the input can be placed even in the first place so that it is executed first. "
   ]
  },
  {
   "attachments": {},
   "cell_type": "markdown",
   "metadata": {},
   "source": [
    "![](https://media.geeksforgeeks.org/wp-content/uploads/20220623131455/outputrestrictedqueue.jpg)"
   ]
  },
  {
   "attachments": {},
   "cell_type": "markdown",
   "metadata": {},
   "source": [
    "### Double Ended Queue (Deque)"
   ]
  },
  {
   "attachments": {},
   "cell_type": "markdown",
   "metadata": {},
   "source": [
    "Double Ended Queue is also a Queue data structure in which the insertion and deletion operations are performed at both the ends (front and rear). That means, we can insert at both front and rear positions and can delete from both front and rear positions.  Since Deque supports both stack and queue operations, it can be used as both. The problems where elements need to be removed and or added both ends can be efficiently solved using Deque.\n",
    "\n"
   ]
  },
  {
   "attachments": {},
   "cell_type": "markdown",
   "metadata": {},
   "source": [
    "![](https://media.geeksforgeeks.org/wp-content/uploads/20220623131811/doubleended.jpg)"
   ]
  },
  {
   "attachments": {},
   "cell_type": "markdown",
   "metadata": {},
   "source": [
    "### Priority Queue"
   ]
  },
  {
   "attachments": {},
   "cell_type": "markdown",
   "metadata": {},
   "source": [
    "A priority queue is a special type of queue in which each element is associated with a priority and is served according to its priority. There are two types of Priority Queues. We have:"
   ]
  },
  {
   "attachments": {},
   "cell_type": "markdown",
   "metadata": {},
   "source": [
    "<ol><li><strong>Ascending Priority Queue:</strong> Element can be inserted arbitrarily but only smallest element can be removed. For example, suppose there is an array having elements 4, 2, 8 in the same order. So, while inserting the elements, the insertion will be in the same sequence but while deleting, the order will be 2, 4, 8.</li><li><strong>Descending priority Queue:</strong> Element can be inserted arbitrarily but only the largest element can be removed first from the given Queue. For example, suppose there is an array having elements 4, 2, 8 in the same order. So, while inserting the elements, the insertion will be in the same sequence but while deleting, the order will be 8, 4, 2.</li></ol>"
   ]
  },
  {
   "attachments": {},
   "cell_type": "markdown",
   "metadata": {},
   "source": [
    "Priority queue can be implemented in various ways. The time complexity corresponding to these implemetetions are in in the following table:"
   ]
  },
  {
   "attachments": {},
   "cell_type": "markdown",
   "metadata": {},
   "source": [
    "<table>\n",
    "    <thead>\n",
    "        <tr>\n",
    "            <th>Operation</th>\n",
    "            <th>peek()</th>\n",
    "            <th>insert()</th>\n",
    "            <th>delete()</th>\n",
    "        </tr>\n",
    "    </thead>\n",
    "    <tbody>\n",
    "        <tr>\n",
    "            <th>Arrays</th>\n",
    "            <td>O(n)</td>\n",
    "            <td>O(1)</td>\n",
    "            <td>O(n)</td>\n",
    "        </tr>\n",
    "        <tr>\n",
    "            <th>Linked List</th>\n",
    "            <td>O(1)</td>\n",
    "            <td>O(n)</td>\n",
    "            <td>O(1)</td>\n",
    "        </tr>\n",
    "        <tr>\n",
    "            <th>Binary Heap</th>\n",
    "            <td>O(1)</td>\n",
    "            <td>O(log n)</td>\n",
    "            <td>O(log n)</td>\n",
    "        </tr>\n",
    "        <tr>\n",
    "            <th>Binary Search Tree</th>\n",
    "            <td>O(1)</td>\n",
    "            <td>O(log n)</td>\n",
    "            <td>O(log n)</td>\n",
    "        </tr>\n",
    "    </tbody>\n",
    "</table>"
   ]
  },
  {
   "attachments": {},
   "cell_type": "markdown",
   "metadata": {},
   "source": [
    "### Applications of Queue"
   ]
  },
  {
   "attachments": {},
   "cell_type": "markdown",
   "metadata": {},
   "source": [
    "- When a resource is shared among multiple consumers. Examples include CPU scheduling, Disk Scheduling. \n",
    "- When data is transferred asynchronously (data not necessarily received at the same rate as sent) between two processes. Examples include IO Buffers, pipes, etc. \n",
    "- Memory management \n",
    "- Traffic software ( Each  light get on one by one after every time of interval of time.)"
   ]
  }
 ],
 "metadata": {
  "kernelspec": {
   "display_name": "data-science",
   "language": "python",
   "name": "python3"
  },
  "language_info": {
   "codemirror_mode": {
    "name": "ipython",
    "version": 3
   },
   "file_extension": ".py",
   "mimetype": "text/x-python",
   "name": "python",
   "nbconvert_exporter": "python",
   "pygments_lexer": "ipython3",
   "version": "3.9.12"
  },
  "orig_nbformat": 4,
  "vscode": {
   "interpreter": {
    "hash": "2efee1efa502125d01e6b4768ba06d9453d29f3642bfd14ad5d4a769de82e88c"
   }
  }
 },
 "nbformat": 4,
 "nbformat_minor": 2
}
