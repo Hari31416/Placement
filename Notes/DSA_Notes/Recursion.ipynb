{
 "cells": [
  {
   "cell_type": "markdown",
   "metadata": {},
   "source": [
    "<h2 id=\"Contents\">Contents<a href=\"#Contents\"></a></h2>\n",
    "        <ol>\n",
    "        <li><a class=\"\" href=\"#Recursion\">Recursion</a></li>\n",
    "<li><a class=\"\" href=\"#Some-Examples\">Some Examples</a></li>\n",
    "<ol><li><a class=\"\" href=\"#The-Factorial-Function\">The Factorial Function</a></li>\n",
    "<li><a class=\"\" href=\"#Drawing-an-English-Ruler\">Drawing an English Ruler</a></li>\n",
    "<li><a class=\"\" href=\"#Binary-Search\">Binary Search</a></li>\n",
    "<li><a class=\"\" href=\"#File-System\">File System</a></li>\n",
    "<li><a class=\"\" href=\"#Some-More-Examples\">Some More Examples</a></li>\n",
    "<ol><li><a class=\"\" href=\"#Fibonacci-Numbers\">Fibonacci Numbers</a></li>\n",
    "<li><a class=\"\" href=\"#Towers-of-Hanoi\">Towers of Hanoi</a></li>\n",
    "<li><a class=\"\" href=\"#Summing-a-Sequence\">Summing a Sequence</a></li>\n",
    "<li><a class=\"\" href=\"#Reversing-a-Sequence-with-Recursion\">Reversing a Sequence with Recursion</a></li>\n",
    "<li><a class=\"\" href=\"#Computing-Power\">Computing Power</a></li>\n",
    "<li><a class=\"\" href=\"#Binary-Sum\">Binary Sum</a></li>\n",
    "</ol></ol><li><a class=\"\" href=\"#Designing-Recursive-Algorithm\">Designing Recursive Algorithm</a></li>\n",
    "<ol><li><a class=\"\" href=\"#Parameterizing-a-Recursion\">Parameterizing a Recursion</a></li>\n",
    "</ol><li><a class=\"\" href=\"#Problems\">Problems</a></li>\n",
    "<ol><li><a class=\"\" href=\"#1\">1</a></li>\n",
    "<li><a class=\"\" href=\"#2\">2</a></li>\n",
    "</ol>"
   ]
  },
  {
   "cell_type": "markdown",
   "metadata": {},
   "source": [
    "# Recursion"
   ]
  },
  {
   "cell_type": "markdown",
   "metadata": {},
   "source": [
    "Recursion is a technique by which a function makes one or more calls to itself\n",
    "during execution, or by which a data structure relies upon smaller instances of\n",
    "the very same type of structure in its representation."
   ]
  },
  {
   "cell_type": "markdown",
   "metadata": {},
   "source": [
    "We will start by looking at some simple example of recursion."
   ]
  },
  {
   "cell_type": "markdown",
   "metadata": {},
   "source": [
    "# Some Examples"
   ]
  },
  {
   "cell_type": "markdown",
   "metadata": {},
   "source": [
    "## The Factorial Function\n"
   ]
  },
  {
   "cell_type": "markdown",
   "metadata": {},
   "source": [
    "The factorial function can be defined recursively as follows:\n",
    "$$\n",
    "\\begin{cases}\n",
    "0! = 1 & \\text{if} \\; n = 0 \\\\\n",
    "n! = n \\times (n-1)! & \\text{if} \\; n > 0\n",
    "\\end{cases}\n",
    "$$"
   ]
  },
  {
   "cell_type": "markdown",
   "metadata": {},
   "source": [
    "This definition is typical of many recursive definitions. First, it contains one\n",
    "or more base cases, which are defined nonrecursively in terms of fixed quantities.\n",
    "In this case, $n = 0$ is the base case. It also contains one or more recursive cases,\n",
    "which are defined by appealing to the definition of the function being defined.\n"
   ]
  },
  {
   "cell_type": "markdown",
   "metadata": {},
   "source": [
    "Using this definition, we can write a recursive algorithm to compute the factorial of a number."
   ]
  },
  {
   "cell_type": "code",
   "execution_count": 10,
   "metadata": {},
   "outputs": [],
   "source": [
    "def factorial(n):\n",
    "    if n <=1:\n",
    "        return 1\n",
    "    else:\n",
    "        return n * factorial(n-1)"
   ]
  },
  {
   "cell_type": "code",
   "execution_count": 12,
   "metadata": {},
   "outputs": [
    {
     "data": {
      "text/plain": [
       "120"
      ]
     },
     "execution_count": 12,
     "metadata": {},
     "output_type": "execute_result"
    }
   ],
   "source": [
    "factorial(5)"
   ]
  },
  {
   "cell_type": "markdown",
   "metadata": {},
   "source": [
    "Here the **recursion trace** for the factorial function for $n = 5$:"
   ]
  },
  {
   "cell_type": "markdown",
   "metadata": {},
   "source": [
    "![](images/0101.png)"
   ]
  },
  {
   "cell_type": "markdown",
   "metadata": {},
   "source": [
    "A recursion trace closely mirrors the programming language’s execution of the\n",
    "recursion. In Python, each time a function (recursive or otherwise) is called, a structure known as an activation record or frame is created to store information about\n",
    "the progress of that invocation of the function. This activation record includes a\n",
    "namespace for storing the function call’s parameters and local variables, and information about which command\n",
    "in the body of the function is currently executing.\n"
   ]
  },
  {
   "cell_type": "markdown",
   "metadata": {},
   "source": [
    "When the execution of a function leads to a nested function call, the execution of the former call is suspended and its activation record stores the place in the\n",
    "source code at which the flow of control should continue upon return of the nested\n",
    "call. This process is used both in the standard case of one function calling a different function, or in the recursive case in which a function invokes itself. The key\n",
    "point is that there is a different activation record for each active call.\n"
   ]
  },
  {
   "cell_type": "markdown",
   "metadata": {},
   "source": [
    "## Drawing an English Ruler\n"
   ]
  },
  {
   "cell_type": "markdown",
   "metadata": {},
   "source": [
    "In an english ruler, for\n",
    "each inch, we place a tick with a numeric label. We denote the length of the tick\n",
    "designating a whole inch as the major tick length. Between the marks for whole\n",
    "inches, the ruler contains a series of minor ticks, placed at intervals of 1/2 inch,\n",
    "1/4 inch, and so on. As the size of the interval decreases by half, the tick length\n",
    "decreases by one."
   ]
  },
  {
   "cell_type": "markdown",
   "metadata": {},
   "source": [
    "![](images/0102.png)"
   ]
  },
  {
   "cell_type": "markdown",
   "metadata": {},
   "source": [
    "An interval with a central tick length $L\\ge 1$ is composed of:\n",
    "* An interval with a central tick length $L − 1$\n",
    "* A single tick of length $L$\n",
    "* An interval with a central tick length $L − 1$\n"
   ]
  },
  {
   "cell_type": "markdown",
   "metadata": {},
   "source": [
    "Let’s write a recursive function to draw an english ruler."
   ]
  },
  {
   "cell_type": "code",
   "execution_count": 19,
   "metadata": {},
   "outputs": [],
   "source": [
    "def draw_line(tick_length, tick_label=\"\"):\n",
    "    line = \"-\" * tick_length\n",
    "    if tick_label:\n",
    "        line += \" \" + tick_label\n",
    "    print(line)\n",
    "\n",
    "def draw_interval(center_length):\n",
    "    if center_length > 0:\n",
    "        draw_interval(center_length - 1)\n",
    "        draw_line(center_length)\n",
    "        draw_interval(center_length - 1)\n",
    "\n",
    "def draw_ruler(num_inches, major_length):\n",
    "    draw_line(major_length, \"0\")\n",
    "    for j in range(1, 1 + num_inches):\n",
    "        draw_interval(major_length - 1)\n",
    "        draw_line(major_length, str(j))\n"
   ]
  },
  {
   "cell_type": "code",
   "execution_count": 20,
   "metadata": {},
   "outputs": [
    {
     "name": "stdout",
     "output_type": "stream",
     "text": [
      "-\n",
      "--\n",
      "-\n",
      "---\n",
      "-\n",
      "--\n",
      "-\n",
      "----\n",
      "-\n",
      "--\n",
      "-\n",
      "---\n",
      "-\n",
      "--\n",
      "-\n"
     ]
    }
   ],
   "source": [
    "draw_interval(4)"
   ]
  },
  {
   "cell_type": "markdown",
   "metadata": {},
   "source": [
    "![](images/0103.png)"
   ]
  },
  {
   "cell_type": "code",
   "execution_count": 24,
   "metadata": {},
   "outputs": [],
   "source": [
    "def ruler(n):\n",
    "    if n==0:\n",
    "        return\n",
    "    else:\n",
    "        ruler(n-1)\n",
    "        print(\"-\"*n)\n",
    "        ruler(n-1)"
   ]
  },
  {
   "cell_type": "code",
   "execution_count": 25,
   "metadata": {},
   "outputs": [
    {
     "name": "stdout",
     "output_type": "stream",
     "text": [
      "-\n",
      "--\n",
      "-\n",
      "---\n",
      "-\n",
      "--\n",
      "-\n",
      "----\n",
      "-\n",
      "--\n",
      "-\n",
      "---\n",
      "-\n",
      "--\n",
      "-\n"
     ]
    }
   ],
   "source": [
    "ruler(4)"
   ]
  },
  {
   "cell_type": "markdown",
   "metadata": {},
   "source": [
    "## Binary Search"
   ]
  },
  {
   "cell_type": "markdown",
   "metadata": {},
   "source": [
    "When the sequence is sorted and indexable, for any index j, we know that all the values stored at indices $0, \\ldots , j − 1$\n",
    "are less than or equal to the value at index j, and all the values stored at indices\n",
    "$j + 1, \\ldots , n − 1$ are greater than or equal to that at index j. This observation allows\n",
    "us to quickly “home in” on a search target using a variant of the children’s game\n",
    "“high-low.” We call an element of the sequence a candidate if, at the current stage\n",
    "of the search, we cannot rule out that this item matches the target. The algorithm\n",
    "maintains two parameters, `low` and `high`, such that all the candidate entries have\n",
    "index at least `low` and at most `high`. Initially, `low = 0` and `high = n − 1`. We then\n",
    "compare the target value to the median candidate, that is, the item `data[mid]` with\n",
    "index\n",
    "$$\n",
    "\\text{mid} = \\lfloor\\frac{low + high}{2}\\rfloor\n",
    "$$"
   ]
  },
  {
   "cell_type": "markdown",
   "metadata": {},
   "source": [
    "We consider three cases:\n",
    "* If the target equals `data[mid]`, then we have found the item we are looking\n",
    "for, and the search terminates successfully.\n",
    "* If `target < data[mid]`, then we recur on the first half of the sequence, that is,\n",
    "on the interval of indices from low to mid − 1.\n",
    "* If `target > data[mid]`, then we recur on the second half of the sequence, that\n",
    "is, on the interval of indices from mid + 1 to high.\n"
   ]
  },
  {
   "cell_type": "code",
   "execution_count": 28,
   "metadata": {},
   "outputs": [],
   "source": [
    "def binary_search(nums, target, low, high):\n",
    "    if low > high:\n",
    "        return -1\n",
    "    mid = (low + high) // 2\n",
    "    if nums[mid] == target:\n",
    "        return mid\n",
    "    elif nums[mid] > target:\n",
    "        return binary_search(nums, target, low, mid-1)\n",
    "    else:\n",
    "        return binary_search(nums, target, mid+1, high)   \n"
   ]
  },
  {
   "cell_type": "code",
   "execution_count": 30,
   "metadata": {},
   "outputs": [
    {
     "name": "stdout",
     "output_type": "stream",
     "text": [
      "9\n"
     ]
    }
   ],
   "source": [
    "nums = [2,4,5,7,9,12,14,17,19,22,25,27,28,33,37]\n",
    "target = 22\n",
    "print(binary_search(nums, target, 0, len(nums)-1))"
   ]
  },
  {
   "cell_type": "markdown",
   "metadata": {},
   "source": [
    "![](images/0104.png)"
   ]
  },
  {
   "cell_type": "markdown",
   "metadata": {},
   "source": [
    "The binary search is a very efficient algorithm for searching a sorted sequence. The time complexity is $O(\\log n)$."
   ]
  },
  {
   "cell_type": "markdown",
   "metadata": {},
   "source": [
    "## File System"
   ]
  },
  {
   "cell_type": "markdown",
   "metadata": {},
   "source": [
    "Modern operating systems define file-system directories (which are also sometimes\n",
    "called “folders”) in a recursive way. Namely, a file system consists of a top-level\n",
    "directory, and the contents of this directory consists of files and other directories,\n",
    "which in turn can contain files and other directories, and so on. "
   ]
  },
  {
   "cell_type": "markdown",
   "metadata": {},
   "source": [
    "Given the recursive nature of the file-system representation, it should not come\n",
    "as a surprise that many common behaviors of an operating system, such as copying\n",
    "a directory or deleting a directory, are implemented with recursive algorithms. In\n",
    "this section, we consider one such algorithm: computing the total disk usage for all\n",
    "files and directories nested within a particular directory.\n"
   ]
  },
  {
   "cell_type": "markdown",
   "metadata": {},
   "source": [
    "![](images/0105.png)"
   ]
  },
  {
   "cell_type": "markdown",
   "metadata": {},
   "source": [
    "The cumulative disk space for an entry can be computed with a simple recursive\n",
    "algorithm. It is equal to the immediate disk space used by the entry plus the sum\n",
    "of the cumulative disk space usage of any entries that are stored directly within\n",
    "the entry. For example, the cumulative disk space for cs016 is 249K because it\n",
    "uses 2K itself, 8K cumulatively in grades, 10K cumulatively in homeworks, and\n",
    "229K cumulatively in programs. "
   ]
  },
  {
   "cell_type": "code",
   "execution_count": 36,
   "metadata": {},
   "outputs": [],
   "source": [
    "import os\n",
    "def disc_usage(path):\n",
    "    total = os.path.getsize(path)\n",
    "    if os.path.isdir(path):\n",
    "        for item in os.listdir(path):\n",
    "            total+=(disc_usage(os.path.join(path, item)))\n",
    "    print(\"{0:<7}\".format(total), path)\n",
    "    return total\n"
   ]
  },
  {
   "cell_type": "code",
   "execution_count": 37,
   "metadata": {},
   "outputs": [
    {
     "name": "stdout",
     "output_type": "stream",
     "text": [
      "4096    ./.ipynb_checkpoints\n",
      "12392   ./ADT.py\n",
      "306960  ./Doubly_Linked_List.html\n",
      "17897   ./Doubly_Linked_List.ipynb\n",
      "48797   ./images/0101.png\n",
      "8961    ./images/0102.png\n",
      "89628   ./images/0103.png\n",
      "51008   ./images/0104.png\n",
      "64979   ./images/0105.png\n",
      "43335   ./images/0301.png\n",
      "49306   ./images/0302.png\n",
      "54702   ./images/0303.png\n",
      "414812  ./images\n",
      "320239  ./LinkedList.html\n",
      "15506   ./LinkedList.ipynb\n",
      "294068  ./Recursion.html\n",
      "16544   ./Recursion.ipynb\n",
      "279768  ./temp.html\n",
      "41431   ./temp.ipynb\n",
      "289104  ./Trees.html\n",
      "11704   ./Trees.ipynb\n",
      "8380    ./__pycache__/ADT.cpython-310.pyc\n",
      "8380    ./__pycache__\n",
      "2036997 .\n"
     ]
    }
   ],
   "source": [
    "totals = disc_usage('.')"
   ]
  },
  {
   "cell_type": "code",
   "execution_count": 38,
   "metadata": {},
   "outputs": [
    {
     "data": {
      "text/plain": [
       "2036997"
      ]
     },
     "execution_count": 38,
     "metadata": {},
     "output_type": "execute_result"
    }
   ],
   "source": [
    "totals"
   ]
  },
  {
   "cell_type": "markdown",
   "metadata": {},
   "source": [
    "## Some More Examples"
   ]
  },
  {
   "cell_type": "markdown",
   "metadata": {},
   "source": [
    "### Fibonacci Numbers"
   ]
  },
  {
   "cell_type": "markdown",
   "metadata": {},
   "source": [
    "Fibonaaci numbers are defined recursively as follows:\n",
    "$$\n",
    "\\begin{cases}\n",
    "f(0) = 0 & \\text{if} \\; n = 0 \\\\\n",
    "f(1) = 1 & \\text{if} \\; n = 1 \\\\\n",
    "f(n) = f(n-1) + f(n-2) & \\text{if} \\; n > 1\n",
    "\\end{cases}\n",
    "$$"
   ]
  },
  {
   "cell_type": "markdown",
   "metadata": {},
   "source": [
    "One intuitive way to implement this using recursion is as follows:"
   ]
  },
  {
   "cell_type": "code",
   "execution_count": 39,
   "metadata": {},
   "outputs": [],
   "source": [
    "def bad_fibonacci(n):\n",
    "    if n<=1:\n",
    "        return n\n",
    "    else:\n",
    "        return bad_fibonacci(n-1) + bad_fibonacci(n-2)"
   ]
  },
  {
   "cell_type": "code",
   "execution_count": 45,
   "metadata": {},
   "outputs": [
    {
     "name": "stdout",
     "output_type": "stream",
     "text": [
      "224 ms ± 7.23 ms per loop (mean ± std. dev. of 7 runs, 1 loop each)\n"
     ]
    }
   ],
   "source": [
    "%%timeit\n",
    "bad_fibonacci(30)"
   ]
  },
  {
   "cell_type": "markdown",
   "metadata": {},
   "source": [
    "However, the time complexity of this algorithm is $O(2^n)$, which is not very practical for large $n$. The same algorithm can be implemented using recursion with time complexity just $O(n)$:"
   ]
  },
  {
   "cell_type": "code",
   "execution_count": 41,
   "metadata": {},
   "outputs": [],
   "source": [
    "def good_fibo(n):\n",
    "    if n<=1:\n",
    "        return (1, 0)\n",
    "    else:\n",
    "        a, b = good_fibo(n-1)\n",
    "    return (a+b, a)"
   ]
  },
  {
   "cell_type": "code",
   "execution_count": 47,
   "metadata": {},
   "outputs": [
    {
     "name": "stdout",
     "output_type": "stream",
     "text": [
      "4.04 µs ± 113 ns per loop (mean ± std. dev. of 7 runs, 100,000 loops each)\n"
     ]
    }
   ],
   "source": [
    "%%timeit\n",
    "good_fibo(30)[0]"
   ]
  },
  {
   "cell_type": "markdown",
   "metadata": {},
   "source": [
    "### Towers of Hanoi"
   ]
  },
  {
   "cell_type": "markdown",
   "metadata": {},
   "source": [
    "In this game, Y=you are given a set of three pegs and $n$ disks, with each disk a different size. Let's name the pegs A, B, and C, and let's number the disks from 1, the smallest disk, to $n$, the largest disk. At the outset, all $n$ disks are on peg A, in order of decreasing size from bottom to top, so that disk $n$ is on the bottom and disk 1 is on the top. The goal is to move all nnn disks from one peg to another with constraint that no disk can be placed on top of a larger disk."
   ]
  },
  {
   "cell_type": "markdown",
   "metadata": {},
   "source": [
    "![](images/0106.png)"
   ]
  },
  {
   "cell_type": "markdown",
   "metadata": {},
   "source": [
    "The problem can be solved recursively by applying the following algorithm:"
   ]
  },
  {
   "cell_type": "code",
   "execution_count": 48,
   "metadata": {},
   "outputs": [],
   "source": [
    "def tower_of_hanoi(n, source, dest, temp):\n",
    "    if n == 1:\n",
    "        print('Move disk 1 from {} to {}'.format(source, dest))\n",
    "        return\n",
    "    tower_of_hanoi(n-1, source, temp, dest)\n",
    "    print('Move disk {} from {} to {}'.format(n, source, dest))\n",
    "    tower_of_hanoi(n-1, temp, dest, source)"
   ]
  },
  {
   "cell_type": "code",
   "execution_count": 50,
   "metadata": {},
   "outputs": [
    {
     "name": "stdout",
     "output_type": "stream",
     "text": [
      "Move disk 1 from A to B\n",
      "Move disk 2 from A to C\n",
      "Move disk 1 from B to C\n",
      "Move disk 3 from A to B\n",
      "Move disk 1 from C to A\n",
      "Move disk 2 from C to B\n",
      "Move disk 1 from A to B\n",
      "Move disk 4 from A to C\n",
      "Move disk 1 from B to C\n",
      "Move disk 2 from B to A\n",
      "Move disk 1 from C to A\n",
      "Move disk 3 from B to C\n",
      "Move disk 1 from A to B\n",
      "Move disk 2 from A to C\n",
      "Move disk 1 from B to C\n"
     ]
    }
   ],
   "source": [
    "tower_of_hanoi(4, 'A', 'C', 'B')"
   ]
  },
  {
   "cell_type": "markdown",
   "metadata": {},
   "source": [
    "### Summing a Sequence"
   ]
  },
  {
   "cell_type": "markdown",
   "metadata": {},
   "source": [
    "We can solve the summation problem using linear recursion by\n",
    "observing that the sum of all n integers in S is trivially 0, if n = 0, and otherwise\n",
    "that it is the sum of the first n − 1 integers in S plus the last element in S."
   ]
  },
  {
   "cell_type": "code",
   "execution_count": 1,
   "metadata": {},
   "outputs": [],
   "source": [
    "def linear_sum(S, n):\n",
    "    if n == 0:\n",
    "        return 0\n",
    "    else:\n",
    "        return linear_sum(S, n-1) + S[n-1]"
   ]
  },
  {
   "cell_type": "code",
   "execution_count": 2,
   "metadata": {},
   "outputs": [
    {
     "data": {
      "text/plain": [
       "23"
      ]
     },
     "execution_count": 2,
     "metadata": {},
     "output_type": "execute_result"
    }
   ],
   "source": [
    "S = [4,3,6,2,8]\n",
    "linear_sum(S, len(S))"
   ]
  },
  {
   "cell_type": "markdown",
   "metadata": {},
   "source": [
    "![](images/0107.png)"
   ]
  },
  {
   "cell_type": "markdown",
   "metadata": {},
   "source": [
    "### Reversing a Sequence with Recursion\n"
   ]
  },
  {
   "cell_type": "markdown",
   "metadata": {},
   "source": [
    "We can solve the problem using linear recursion, by observing that\n",
    "the reversal of a sequence can be achieved by swapping the first and last elements\n",
    "and then recursively reversing the remaining elements."
   ]
  },
  {
   "cell_type": "code",
   "execution_count": 3,
   "metadata": {},
   "outputs": [],
   "source": [
    "def linear_sum(S, sum=0):\n",
    "    if not S:\n",
    "        return sum\n",
    "    else:\n",
    "        return linear_sum(S[1:], sum+S[0])"
   ]
  },
  {
   "cell_type": "code",
   "execution_count": 4,
   "metadata": {},
   "outputs": [
    {
     "data": {
      "text/plain": [
       "23"
      ]
     },
     "execution_count": 4,
     "metadata": {},
     "output_type": "execute_result"
    }
   ],
   "source": [
    "S = [4,3,6,2,8]\n",
    "linear_sum(S)"
   ]
  },
  {
   "cell_type": "code",
   "execution_count": 8,
   "metadata": {},
   "outputs": [],
   "source": [
    "def reverse(nums, start, stop):\n",
    "    if start < stop:\n",
    "        nums[start], nums[stop] = nums[stop], nums[start]\n",
    "        reverse(nums, start+1, stop-1)\n",
    "    # return nums"
   ]
  },
  {
   "cell_type": "code",
   "execution_count": 9,
   "metadata": {},
   "outputs": [
    {
     "name": "stdout",
     "output_type": "stream",
     "text": [
      "None\n"
     ]
    },
    {
     "data": {
      "text/plain": [
       "[10, 9, 8, 7, 6, 5, 4, 3, 2, 1]"
      ]
     },
     "execution_count": 9,
     "metadata": {},
     "output_type": "execute_result"
    }
   ],
   "source": [
    "nums = [1,2,3,4,5,6,7,8,9,10]\n",
    "print(reverse(nums, 0, len(nums)-1))\n",
    "nums"
   ]
  },
  {
   "cell_type": "markdown",
   "metadata": {},
   "source": [
    "Note that there are two implicit base case scenarios: When` start == stop`, the\n",
    "implicit range is empty, and when `start == stop−1`, the implicit range has only\n",
    "one element. In either of these cases, there is no need for action, as a sequence\n",
    "with zero elements or one element is trivially equal to its reversal. When otherwise\n",
    "invoking recursion, we are guaranteed to make progress towards a base case, as\n",
    "the difference, `stop−start`, decreases by two with each call."
   ]
  },
  {
   "cell_type": "markdown",
   "metadata": {},
   "source": [
    "### Computing Power"
   ]
  },
  {
   "cell_type": "markdown",
   "metadata": {},
   "source": [
    "A recursive definition of power function can be given as:\n",
    "$$\n",
    "\\begin{align*}\n",
    "f(x,n) &= x^n & \\text{if} \\; n = 0 \\\\\n",
    "        &= f(x,n-1) * x & \\text{if} \\; n > 0\n",
    "\\end{align*}\n",
    "$$"
   ]
  },
  {
   "cell_type": "markdown",
   "metadata": {},
   "source": [
    "This definition leads to the following recursive algorithm:"
   ]
  },
  {
   "cell_type": "code",
   "execution_count": 58,
   "metadata": {},
   "outputs": [],
   "source": [
    "def power(x,n):\n",
    "    if n == 0:\n",
    "        return 1\n",
    "    else:\n",
    "        return x * power(x, n-1)"
   ]
  },
  {
   "cell_type": "code",
   "execution_count": 63,
   "metadata": {},
   "outputs": [
    {
     "name": "stdout",
     "output_type": "stream",
     "text": [
      "17.6 µs ± 409 ns per loop (mean ± std. dev. of 7 runs, 10,000 loops each)\n"
     ]
    }
   ],
   "source": [
    "%%timeit\n",
    "power(1234,111)"
   ]
  },
  {
   "cell_type": "markdown",
   "metadata": {},
   "source": [
    "The algorithm runs in $O(n)$ time, where $n$ is the size of the input sequence. However, we can so better by using a more efficient algorithm which runs in $O(\\log n)$ time."
   ]
  },
  {
   "cell_type": "markdown",
   "metadata": {},
   "source": [
    " Let $k = \\lfloor n/2\\rfloor$ denote the\n",
    "floor of the division (expressed as `n // 2` in Python). We consider the expression $(x^k)^2$. When $n$ is even, $\\lfloor n/2\\rfloor = n/2$ and therefore $(x^k)^2 = (x^{n/2})^2=x^n$. When n is odd,\n",
    "$\\lfloor n/2\\rfloor = (n-)/2$ and $(x^k)^2 = (x^{(n-1)/2})^2=x^{n-1}$.\n",
    "This analysis leads to the following recursive definition:\n",
    "$$\n",
    "f(x,n)\n",
    "\\begin{cases}\n",
    "&= 1 & \\text{if} \\; n = 0 \\\\\n",
    "&= xf(x,\\lfloor n/2 \\rfloor) & \\text{if} \\; n > 0 \\text{ is odd}\\\\\n",
    "&= f(x,\\lfloor n/2 \\rfloor) & \\text{if} \\; n > 0 \\text{ is even}\n",
    "\\end{cases}\n",
    "$$"
   ]
  },
  {
   "cell_type": "code",
   "execution_count": 64,
   "metadata": {},
   "outputs": [],
   "source": [
    "def power(x, n):\n",
    "    if n==0:\n",
    "        return 1\n",
    "    else:\n",
    "        partial = power(x, n//2)\n",
    "        if n%2 == 0:\n",
    "            return partial * partial\n",
    "        else:\n",
    "            return partial * partial * x"
   ]
  },
  {
   "cell_type": "code",
   "execution_count": 65,
   "metadata": {},
   "outputs": [
    {
     "name": "stdout",
     "output_type": "stream",
     "text": [
      "2.02 µs ± 44 ns per loop (mean ± std. dev. of 7 runs, 100,000 loops each)\n"
     ]
    }
   ],
   "source": [
    "%%timeit\n",
    "power(1234,111)"
   ]
  },
  {
   "cell_type": "markdown",
   "metadata": {},
   "source": [
    "### Binary Sum"
   ]
  },
  {
   "cell_type": "markdown",
   "metadata": {},
   "source": [
    "The problem, again is to sum a sequence of numbers.  Computing the sum of one\n",
    "or zero elements is trivial. With two or more elements, we can recursively compute the sum of the first half, and the sum of the second half, and add these sums\n",
    "together. Here is the algorithm:"
   ]
  },
  {
   "cell_type": "code",
   "execution_count": 70,
   "metadata": {},
   "outputs": [],
   "source": [
    "def binary_sum(S, start, stop):\n",
    "    if start>=stop:\n",
    "        return 0\n",
    "    elif start == stop-1:\n",
    "        return S[start]\n",
    "    else:\n",
    "        mid = (start + stop) // 2\n",
    "        return binary_sum(S, start, mid) + binary_sum(S, mid, stop)"
   ]
  },
  {
   "cell_type": "code",
   "execution_count": 71,
   "metadata": {},
   "outputs": [
    {
     "data": {
      "text/plain": [
       "23"
      ]
     },
     "execution_count": 71,
     "metadata": {},
     "output_type": "execute_result"
    }
   ],
   "source": [
    "S = [4,3,6,2,8]\n",
    "binary_sum(S, 0, len(S))"
   ]
  },
  {
   "cell_type": "markdown",
   "metadata": {},
   "source": [
    "The running time of this algorithm is $O(n)$."
   ]
  },
  {
   "cell_type": "markdown",
   "metadata": {},
   "source": [
    "# Designing Recursive Algorithm"
   ]
  },
  {
   "cell_type": "markdown",
   "metadata": {},
   "source": [
    "In general, an algorithm that uses recursion typically has the following form:\n",
    "* **Test for base cases** We begin by testing for a set of base cases (there should\n",
    "be at least one). These base cases should be defined so that every possible\n",
    "chain of recursive calls will eventually reach a base case, and the handling of\n",
    "each base case should not use recursion.\n",
    "* **Recur** If not a base case, we perform one or more recursive calls. This recursive step may involve a test that decides which of several possible recursive\n",
    "calls to make. We should define each possible recursive call so that it makes\n",
    "progress towards a base case.\n"
   ]
  },
  {
   "cell_type": "markdown",
   "metadata": {},
   "source": [
    "## Parameterizing a Recursion\n"
   ]
  },
  {
   "cell_type": "markdown",
   "metadata": {},
   "source": [
    "To design a recursive algorithm for a given problem, it is useful to think of the\n",
    "different ways we might define subproblems that have the same general structure\n",
    "as the original problem. If one has difficulty finding the repetitive structure needed\n",
    "to design a recursive algorithm, it is sometimes useful to work out the problem on\n",
    "a few concrete examples to see how the subproblems should be defined.\n"
   ]
  },
  {
   "cell_type": "markdown",
   "metadata": {},
   "source": [
    "A successful recursive design sometimes requires that we redefine the original\n",
    "problem to facilitate similar-looking subproblems. Often, this involved reparameterizing the signature of the function. For example, when performing a binary\n",
    "search in a sequence, a natural function signature for a caller would appear as\n",
    "`binary_search(data, target)`. However, later, we defined our function\n",
    "with calling signature `binary_search(data, target, low, high`), using the additional\n",
    "parameters to demarcate sublists as the recursion proceeds. This change in parameterization is critical for binary search. If we had insisted on the cleaner signature,\n",
    "`binary_search(data, target)`, the only way to invoke a search on half the list would\n",
    "have been to make a new list instance with only those elements to send as the first\n",
    "parameter. However, making a copy of half the list would already take $O(n)$ time,\n",
    "negating the whole benefit of the binary search algorithm.\n"
   ]
  },
  {
   "cell_type": "markdown",
   "metadata": {},
   "source": [
    "# Problems"
   ]
  },
  {
   "cell_type": "markdown",
   "metadata": {},
   "source": [
    "## 1"
   ]
  },
  {
   "cell_type": "markdown",
   "metadata": {},
   "source": [
    "Describe a recursive algorithm for finding the maximum element in a sequence, S, of n elements. "
   ]
  },
  {
   "cell_type": "markdown",
   "metadata": {},
   "source": [
    "Base case: If n = 1, then the maximum element is the only element in the sequence. Return this element.\n",
    "\n",
    "Recur: If n > 1, then the maximum element is the maximum of the first n−1 elements and the last element."
   ]
  },
  {
   "cell_type": "code",
   "execution_count": 83,
   "metadata": {},
   "outputs": [],
   "source": [
    "def find_max(S, n):\n",
    "    if n == 1:\n",
    "        return S[0]\n",
    "    else:\n",
    "        \n",
    "        return max(S[n-1], find_max(S, n-1))"
   ]
  },
  {
   "cell_type": "code",
   "execution_count": 84,
   "metadata": {},
   "outputs": [
    {
     "data": {
      "text/plain": [
       "8"
      ]
     },
     "execution_count": 84,
     "metadata": {},
     "output_type": "execute_result"
    }
   ],
   "source": [
    "S = [4,3,6,2,8, 3]\n",
    "find_max(S, len(S))"
   ]
  },
  {
   "cell_type": "markdown",
   "metadata": {},
   "source": [
    "## 2"
   ]
  },
  {
   "cell_type": "markdown",
   "metadata": {},
   "source": [
    "Describe a recursive function for converting a string of digits into the integer it represents. For example, 13531 represents the integer 13, 531.\n"
   ]
  },
  {
   "cell_type": "markdown",
   "metadata": {},
   "source": [
    "Base case: If the length of string is 0, return 0.\n",
    "\n",
    "Recur: If the length of string is > 0, then the first character is the digit, and the rest of the string is the rest of the number."
   ]
  },
  {
   "cell_type": "code",
   "execution_count": 87,
   "metadata": {},
   "outputs": [],
   "source": [
    "def string_to_digit_recur(s, n):\n",
    "    if n == 0:\n",
    "        return 0\n",
    "    else:\n",
    "        return 10 * string_to_digit_recur(s, n-1) + int(s[n-1])\n",
    "   "
   ]
  },
  {
   "cell_type": "code",
   "execution_count": 89,
   "metadata": {},
   "outputs": [
    {
     "data": {
      "text/plain": [
       "123"
      ]
     },
     "execution_count": 89,
     "metadata": {},
     "output_type": "execute_result"
    }
   ],
   "source": [
    "string_to_digit_recur(\"123\",3)"
   ]
  }
 ],
 "metadata": {
  "kernelspec": {
   "display_name": "Python 3.9.12 ('data-science')",
   "language": "python",
   "name": "python3"
  },
  "language_info": {
   "codemirror_mode": {
    "name": "ipython",
    "version": 3
   },
   "file_extension": ".py",
   "mimetype": "text/x-python",
   "name": "python",
   "nbconvert_exporter": "python",
   "pygments_lexer": "ipython3",
   "version": "3.9.12"
  },
  "orig_nbformat": 4,
  "vscode": {
   "interpreter": {
    "hash": "2efee1efa502125d01e6b4768ba06d9453d29f3642bfd14ad5d4a769de82e88c"
   }
  }
 },
 "nbformat": 4,
 "nbformat_minor": 2
}
