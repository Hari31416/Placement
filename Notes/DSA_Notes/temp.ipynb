{
 "cells": [
  {
   "cell_type": "code",
   "execution_count": 1,
   "metadata": {},
   "outputs": [],
   "source": [
    "import sys\n",
    "sys.path.append('../../tools')"
   ]
  },
  {
   "cell_type": "code",
   "execution_count": 2,
   "metadata": {},
   "outputs": [],
   "source": [
    "from files.notebook import Notebook"
   ]
  },
  {
   "cell_type": "code",
   "execution_count": 3,
   "metadata": {},
   "outputs": [],
   "source": [
    "nb = Notebook()"
   ]
  },
  {
   "cell_type": "code",
   "execution_count": 4,
   "metadata": {},
   "outputs": [
    {
     "data": {
      "text/plain": [
       "['./Doubly_Linked_List.ipynb',\n",
       " './LinkedList.ipynb',\n",
       " './Recursion.ipynb',\n",
       " './temp.ipynb',\n",
       " './Trees.ipynb']"
      ]
     },
     "execution_count": 4,
     "metadata": {},
     "output_type": "execute_result"
    }
   ],
   "source": [
    "nb.notebooks    "
   ]
  },
  {
   "cell_type": "code",
   "execution_count": 6,
   "metadata": {},
   "outputs": [
    {
     "name": "stdout",
     "output_type": "stream",
     "text": [
      "<h2 id=\"Contents\">Contents<a href=\"#Contents\"></a></h2>\n",
      "        <ol>\n",
      "        <li><a class=\"\" href=\"#Recursion\">Recursion</a></li>\n",
      "<li><a class=\"\" href=\"#Some-Examples\">Some Examples</a></li>\n",
      "<ol><li><a class=\"\" href=\"#The-Factorial-Function\">The Factorial Function</a></li>\n",
      "<li><a class=\"\" href=\"#Drawing-an-English-Ruler\">Drawing an English Ruler</a></li>\n",
      "<li><a class=\"\" href=\"#Binary-Search\">Binary Search</a></li>\n",
      "<li><a class=\"\" href=\"#File-System\">File System</a></li>\n",
      "<li><a class=\"\" href=\"#Some-More-Examples\">Some More Examples</a></li>\n",
      "<ol><li><a class=\"\" href=\"#Fibonacci-Numbers\">Fibonacci Numbers</a></li>\n",
      "<li><a class=\"\" href=\"#Towers-of-Hanoi\">Towers of Hanoi</a></li>\n",
      "<li><a class=\"\" href=\"#Summing-a-Sequence\">Summing a Sequence</a></li>\n",
      "<li><a class=\"\" href=\"#Reversing-a-Sequence-with-Recursion\">Reversing a Sequence with Recursion</a></li>\n",
      "<li><a class=\"\" href=\"#Computing-Power\">Computing Power</a></li>\n",
      "<li><a class=\"\" href=\"#Binary-Sum\">Binary Sum</a></li>\n",
      "</ol><li><a class=\"\" href=\"#Designing-Recursive-Algorithm\">Designing Recursive Algorithm</a></li>\n",
      "<ol><li><a class=\"\" href=\"#Parameterizing-a-Recursion\">Parameterizing a Recursion</a></li>\n",
      "</ol><li><a class=\"\" href=\"#Problems\">Problems</a></li>\n",
      "<ol><li><a class=\"\" href=\"#1\">1</a></li>\n",
      "<li><a class=\"\" href=\"#2\">2</a></li>\n",
      "</ol>\n"
     ]
    }
   ],
   "source": [
    "text = nb.create_content(nb.notebooks[2], verbose=0, return_string=True)\n",
    "print(text)"
   ]
  },
  {
   "cell_type": "code",
   "execution_count": 7,
   "metadata": {},
   "outputs": [
    {
     "data": {
      "text/plain": [
       "'./Recursion.html'"
      ]
     },
     "execution_count": 7,
     "metadata": {},
     "output_type": "execute_result"
    }
   ],
   "source": [
    "nb.export_notebook(nb.notebooks[2])"
   ]
  },
  {
   "cell_type": "code",
   "execution_count": 4,
   "metadata": {},
   "outputs": [
    {
     "name": "stderr",
     "output_type": "stream",
     "text": [
      "Exporting notebooks...: 100%|██████████| 5/5 [00:02<00:00,  1.73it/s]\n"
     ]
    }
   ],
   "source": [
    "files = nb.export_directory()"
   ]
  },
  {
   "cell_type": "code",
   "execution_count": 5,
   "metadata": {},
   "outputs": [
    {
     "data": {
      "text/plain": [
       "['././Doubly_Linked_List.html',\n",
       " '././LinkedList.html',\n",
       " '././Recursion.html',\n",
       " '././temp.html',\n",
       " '././Trees.html']"
      ]
     },
     "execution_count": 5,
     "metadata": {},
     "output_type": "execute_result"
    }
   ],
   "source": [
    "files"
   ]
  },
  {
   "cell_type": "code",
   "execution_count": 6,
   "metadata": {},
   "outputs": [
    {
     "name": "stdout",
     "output_type": "stream",
     "text": [
      "<ul><li>\n",
      "            <a href=\"Problems/LeetCode/Doubly_Linked_List.html\" target=\"blank\" class=\"links\">Doubly Linked List</a>\n",
      "          </li><li>\n",
      "            <a href=\"Problems/LeetCode/LinkedList.html\" target=\"blank\" class=\"links\">LinkedList</a>\n",
      "          </li><li>\n",
      "            <a href=\"Problems/LeetCode/Recursion.html\" target=\"blank\" class=\"links\">Recursion</a>\n",
      "          </li><li>\n",
      "            <a href=\"Problems/LeetCode/temp.html\" target=\"blank\" class=\"links\">temp</a>\n",
      "          </li><li>\n",
      "            <a href=\"Problems/LeetCode/Trees.html\" target=\"blank\" class=\"links\">Trees</a>\n",
      "          </li></ul>\n"
     ]
    }
   ],
   "source": [
    "start = \"<ul>\"\n",
    "end = \"</ul>\"\n",
    "for f in files:\n",
    "  # if \"temp\" in f:\n",
    "  #   continue\n",
    "    file = f.split(\"/\")[-1]\n",
    "    name = file.split(\".\")[0]\n",
    "    name = name.replace(\"_\", \" \")\n",
    "    start+=f\"\"\"<li>\n",
    "            <a href=\"Notes/DSA_Notes/{file}\" target=\"blank\" class=\"links\">{name}</a>\n",
    "          </li>\"\"\"\n",
    "start+=end\n",
    "print(start)"
   ]
  },
  {
   "cell_type": "code",
   "execution_count": 13,
   "metadata": {},
   "outputs": [
    {
     "data": {
      "text/plain": [
       "['.\\\\Easy_1.ipynb',\n",
       " '.\\\\Easy_2.ipynb',\n",
       " '.\\\\Easy_3.ipynb',\n",
       " '.\\\\Hard_1.ipynb',\n",
       " '.\\\\Medium_1.ipynb',\n",
       " '.\\\\Medium_2.ipynb',\n",
       " '.\\\\temp.ipynb']"
      ]
     },
     "execution_count": 13,
     "metadata": {},
     "output_type": "execute_result"
    }
   ],
   "source": [
    "nb.notebooks"
   ]
  },
  {
   "cell_type": "code",
   "execution_count": 15,
   "metadata": {},
   "outputs": [
    {
     "data": {
      "text/plain": [
       "'.\\\\Easy_3.html'"
      ]
     },
     "execution_count": 15,
     "metadata": {},
     "output_type": "execute_result"
    }
   ],
   "source": [
    "nb.export_notebook(nb.notebooks[2])"
   ]
  },
  {
   "cell_type": "code",
   "execution_count": 3,
   "metadata": {},
   "outputs": [],
   "source": [
    "import matplotlib.pyplot as plt\n",
    "import numpy as np\n",
    "import pandas as pd\n",
    "import statsmodels.api as sm"
   ]
  },
  {
   "cell_type": "code",
   "execution_count": 7,
   "metadata": {},
   "outputs": [],
   "source": [
    "x = np.linspace(0, 10, 100)\n",
    "y = x + np.random.randn(100)\n",
    "X = sm.add_constant(x)\n",
    "model = sm.OLS(y, X)"
   ]
  },
  {
   "cell_type": "code",
   "execution_count": 9,
   "metadata": {},
   "outputs": [],
   "source": [
    "res = model.fit()"
   ]
  },
  {
   "cell_type": "code",
   "execution_count": 10,
   "metadata": {},
   "outputs": [
    {
     "name": "stdout",
     "output_type": "stream",
     "text": [
      "                            OLS Regression Results                            \n",
      "==============================================================================\n",
      "Dep. Variable:                      y   R-squared:                       0.910\n",
      "Model:                            OLS   Adj. R-squared:                  0.909\n",
      "Method:                 Least Squares   F-statistic:                     991.2\n",
      "Date:                Fri, 19 Aug 2022   Prob (F-statistic):           4.75e-53\n",
      "Time:                        19:23:50   Log-Likelihood:                -135.22\n",
      "No. Observations:                 100   AIC:                             274.4\n",
      "Df Residuals:                      98   BIC:                             279.6\n",
      "Df Model:                           1                                         \n",
      "Covariance Type:            nonrobust                                         \n",
      "==============================================================================\n",
      "                 coef    std err          t      P>|t|      [0.025      0.975]\n",
      "------------------------------------------------------------------------------\n",
      "const         -0.1144      0.188     -0.610      0.543      -0.487       0.258\n",
      "x1             1.0203      0.032     31.484      0.000       0.956       1.085\n",
      "==============================================================================\n",
      "Omnibus:                        4.638   Durbin-Watson:                   1.986\n",
      "Prob(Omnibus):                  0.098   Jarque-Bera (JB):                4.102\n",
      "Skew:                          -0.484   Prob(JB):                        0.129\n",
      "Kurtosis:                       3.217   Cond. No.                         11.7\n",
      "==============================================================================\n",
      "\n",
      "Notes:\n",
      "[1] Standard Errors assume that the covariance matrix of the errors is correctly specified.\n"
     ]
    }
   ],
   "source": [
    "print(res.summary())"
   ]
  },
  {
   "cell_type": "code",
   "execution_count": 12,
   "metadata": {},
   "outputs": [
    {
     "data": {
      "text/plain": [
       "<matplotlib.legend.Legend at 0x7f2858e2b670>"
      ]
     },
     "execution_count": 12,
     "metadata": {},
     "output_type": "execute_result"
    },
    {
     "data": {
      "image/png": "[encoded data removed]",
      "text/plain": [
       "<Figure size 576x432 with 1 Axes>"
      ]
     },
     "metadata": {
      "needs_background": "light"
     },
     "output_type": "display_data"
    }
   ],
   "source": [
    "pred_ols = res.get_prediction()\n",
    "iv_l = pred_ols.summary_frame()[\"obs_ci_lower\"]\n",
    "iv_u = pred_ols.summary_frame()[\"obs_ci_upper\"]\n",
    "\n",
    "fig, ax = plt.subplots(figsize=(8, 6))\n",
    "\n",
    "ax.plot(x, y, \"o\", label=\"data\")\n",
    "ax.plot(x, x, \"b-\", label=\"True\")\n",
    "ax.plot(x, res.fittedvalues, \"r--.\", label=\"OLS\")\n",
    "ax.plot(x, iv_u, \"r--\")\n",
    "ax.plot(x, iv_l, \"r--\")\n",
    "ax.legend(loc=\"best\")"
   ]
  }
 ],
 "metadata": {
  "kernelspec": {
   "display_name": "Python 3.9.12 ('data-science')",
   "language": "python",
   "name": "python3"
  },
  "language_info": {
   "codemirror_mode": {
    "name": "ipython",
    "version": 3
   },
   "file_extension": ".py",
   "mimetype": "text/x-python",
   "name": "python",
   "nbconvert_exporter": "python",
   "pygments_lexer": "ipython3",
   "version": "3.9.12"
  },
  "orig_nbformat": 4,
  "vscode": {
   "interpreter": {
    "hash": "2efee1efa502125d01e6b4768ba06d9453d29f3642bfd14ad5d4a769de82e88c"
   }
  }
 },
 "nbformat": 4,
 "nbformat_minor": 2
}
