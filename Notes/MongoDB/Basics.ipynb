{
 "cells": [
  {
   "cell_type": "markdown",
   "metadata": {},
   "source": [
    "<h2 id=\"Contents\">Contents<a href=\"#Contents\"></a></h2>\n",
    "        <ol>\n",
    "        <li><a class=\"\" href=\"#Preliminary-Terminology\">Preliminary Terminology</a></li>\n",
    "<ol><li><a class=\"\" href=\"#Database\">Database</a></li>\n",
    "<li><a class=\"\" href=\"#Collection\">Collection</a></li>\n",
    "<li><a class=\"\" href=\"#Document\">Document</a></li>\n",
    "<li><a class=\"\" href=\"#Sample-Document\">Sample Document</a></li>\n",
    "</ol><li><a class=\"\" href=\"#Data-Model-Design\">Data Model Design</a></li>\n",
    "<ol><li><a class=\"\" href=\"#Embedded-Data-Model\">Embedded Data Model</a></li>\n",
    "<li><a class=\"\" href=\"#Normalized-Data-Model\">Normalized Data Model</a></li>\n",
    "</ol><li><a class=\"\" href=\"#Datatypes\">Datatypes</a></li>\n",
    "</ol>"
   ]
  },
  {
   "cell_type": "markdown",
   "metadata": {},
   "source": [
    "MongoDB is a cross-platform, document oriented database that provides, high performance, high availability, and easy scalability. MongoDB works on concept of collection and document."
   ]
  },
  {
   "cell_type": "markdown",
   "metadata": {},
   "source": [
    "# Preliminary Terminology"
   ]
  },
  {
   "cell_type": "markdown",
   "metadata": {},
   "source": [
    "## Database"
   ]
  },
  {
   "cell_type": "markdown",
   "metadata": {},
   "source": [
    "Database is a physical container for collections. Each database gets its own set of files on the file system. A single MongoDB server typically has multiple databases."
   ]
  },
  {
   "cell_type": "markdown",
   "metadata": {},
   "source": [
    "## Collection"
   ]
  },
  {
   "cell_type": "markdown",
   "metadata": {},
   "source": [
    "Collection is a group of MongoDB documents. It is the equivalent of an RDBMS table. A collection exists within a single database. Collections do not enforce a schema. Documents within a collection can have different fields. Typically, all documents in a collection are of similar or related purpose."
   ]
  },
  {
   "cell_type": "markdown",
   "metadata": {},
   "source": [
    "## Document"
   ]
  },
  {
   "cell_type": "markdown",
   "metadata": {},
   "source": [
    "A document is a set of key-value pairs. Documents have dynamic schema. Dynamic schema means that documents in the same collection do not need to have the same set of fields or structure, and common fields in a collection's documents may hold different types of data."
   ]
  },
  {
   "cell_type": "markdown",
   "metadata": {},
   "source": [
    "The following table shows the relationship of RDBMS terminology with MongoDB."
   ]
  },
  {
   "cell_type": "markdown",
   "metadata": {},
   "source": [
    "<table style=\"text-align:center;\" class=\"table table-bordered\">\n",
    "<tbody><tr>\n",
    "<th style=\"text-align:center;width:50%;\">RDBMS</th>\n",
    "<th style=\"text-align:center;\">MongoDB</th>\n",
    "</tr>\n",
    "<tr>\n",
    "<td>Database</td>\n",
    "<td>Database</td>\n",
    "</tr>\n",
    "<tr>\n",
    "<td>Table</td>\n",
    "<td>Collection</td>\n",
    "</tr>\n",
    "<tr>\n",
    "<td>Tuple/Row</td>\n",
    "<td>Document</td>\n",
    "</tr>\n",
    "<tr>\n",
    "<td>column</td>\n",
    "<td>Field</td>\n",
    "</tr>\n",
    "<tr>\n",
    "<td>Table Join</td>\n",
    "<td>Embedded Documents</td>\n",
    "</tr>\n",
    "<tr>\n",
    "<td>Primary Key</td>\n",
    "<td>Primary Key (Default key _id provided by MongoDB itself)</td>\n",
    "</tr>\n",
    "<tr>\n",
    "<th colspan=\"2\" style=\"text-align:center;\">Database Server and Client</th>\n",
    "</tr>\n",
    "<tr>\n",
    "<td>mysqld/Oracle</td>\n",
    "<td>mongod</td>\n",
    "</tr>\n",
    "<tr>\n",
    "<td>mysql/sqlplus</td>\n",
    "<td>mongo</td>\n",
    "</tr>\n",
    "</tbody></table>"
   ]
  },
  {
   "cell_type": "markdown",
   "metadata": {},
   "source": [
    "## Sample Document"
   ]
  },
  {
   "cell_type": "markdown",
   "metadata": {},
   "source": [
    "Following example shows the document structure of a blog site, which is simply a comma separated key value pair."
   ]
  },
  {
   "cell_type": "markdown",
   "metadata": {},
   "source": [
    "```\n",
    "{ _id: ObjectId(7df78ad8902c)\n",
    "   title: 'MongoDB Overview', \n",
    "   description: 'MongoDB is no sql database',\n",
    "   by: 'tutorials point',\n",
    "   url: 'http://www.tutorialspoint.com',\n",
    "   tags: ['mongodb', 'database', 'NoSQL'],\n",
    "   likes: 100, \n",
    "   comments: [\t\n",
    "      {\n",
    "         user:'user1',\n",
    "         message: 'My first comment',\n",
    "         dateCreated: new Date(2011,1,20,2,15),\n",
    "         like: 0 \n",
    "      },\n",
    "      {\n",
    "         user:'user2',\n",
    "         message: 'My second comments',\n",
    "         dateCreated: new Date(2011,1,25,7,45),\n",
    "         like: 5\n",
    "      }\n",
    "   ]\n",
    "}\n",
    "```"
   ]
  },
  {
   "cell_type": "markdown",
   "metadata": {},
   "source": [
    "# Data Model Design"
   ]
  },
  {
   "cell_type": "markdown",
   "metadata": {},
   "source": [
    "MongoDB provides two types of data models: — Embedded data model and Normalized data model."
   ]
  },
  {
   "cell_type": "markdown",
   "metadata": {},
   "source": [
    "## Embedded Data Model"
   ]
  },
  {
   "cell_type": "markdown",
   "metadata": {},
   "source": [
    "In this model, you can have (embed) all the related data in a single document, it is also known as de-normalized data model.\n",
    "\n",
    "For example, assume we are getting the details of employees in three different documents namely, Personal_details, Contact and, Address, you can embed all the three documents in a single one as shown below:"
   ]
  },
  {
   "cell_type": "markdown",
   "metadata": {},
   "source": [
    "    {\n",
    "\t_id: ,\n",
    "\tEmp_ID: \"10025AE336\"\n",
    "\tPersonal_details:{\n",
    "\t\tFirst_Name: \"Radhika\",\n",
    "\t\tLast_Name: \"Sharma\",\n",
    "\t\tDate_Of_Birth: \"1995-09-26\"\n",
    "\t},\n",
    "\tContact: {\n",
    "\t\te-mail: \"radhika_sharma.123@gmail.com\",\n",
    "\t\tphone: \"9848022338\"\n",
    "\t},\n",
    "\tAddress: {\n",
    "\t\tcity: \"Hyderabad\",\n",
    "\t\tArea: \"Madapur\",\n",
    "\t\tState: \"Telangana\"\n",
    "\t}\n",
    "}"
   ]
  },
  {
   "cell_type": "markdown",
   "metadata": {},
   "source": [
    "## Normalized Data Model"
   ]
  },
  {
   "cell_type": "markdown",
   "metadata": {},
   "source": [
    "In this model, you can refer the sub documents in the original document, using references. For example, you can re-write the above document in the normalized model as:"
   ]
  },
  {
   "cell_type": "markdown",
   "metadata": {},
   "source": [
    "Employee:\n",
    "\n",
    "    {\n",
    "        _id: <ObjectId101>,\n",
    "        Emp_ID: \"10025AE336\"\n",
    "    }\n",
    "\n",
    "Personal_details:\n",
    "\n",
    "    {\n",
    "        _id: <ObjectId102>,\n",
    "        empDocID: \" ObjectId101\",\n",
    "        First_Name: \"Radhika\",\n",
    "        Last_Name: \"Sharma\",\n",
    "        Date_Of_Birth: \"1995-09-26\"\n",
    "    }\n",
    "\n",
    "Contact:\n",
    "\n",
    "    {\n",
    "        _id: <ObjectId103>,\n",
    "        empDocID: \" ObjectId101\",\n",
    "        e-mail: \"radhika_sharma.123@gmail.com\",\n",
    "        phone: \"9848022338\"\n",
    "    }\n",
    "\n",
    "Address:\n",
    "\n",
    "    {\n",
    "        _id: <ObjectId104>,\n",
    "        empDocID: \" ObjectId101\",\n",
    "        city: \"Hyderabad\",\n",
    "        Area: \"Madapur\",\n",
    "        State: \"Telangana\"\n",
    "    }"
   ]
  },
  {
   "cell_type": "markdown",
   "metadata": {},
   "source": [
    "In RDBMS schema, design for above requirements will have minimum three tables.\n",
    "\n",
    "![](https://www.tutorialspoint.com/mongodb/images/rdbms.png)"
   ]
  },
  {
   "cell_type": "markdown",
   "metadata": {},
   "source": [
    "While in MongoDB schema, design will have one collection post and the following structure:\n",
    "\n",
    "    {\n",
    "      _id: POST_ID\n",
    "      title: TITLE_OF_POST, \n",
    "      description: POST_DESCRIPTION,\n",
    "      by: POST_BY,\n",
    "      url: URL_OF_POST,\n",
    "      tags: [TAG1, TAG2, TAG3],\n",
    "      likes: TOTAL_LIKES, \n",
    "      comments: [\t\n",
    "         {\n",
    "            user:'COMMENT_BY',\n",
    "            message: TEXT,\n",
    "            dateCreated: DATE_TIME,\n",
    "            like: LIKES \n",
    "         },\n",
    "         {\n",
    "            user:'COMMENT_BY',\n",
    "            message: TEXT,\n",
    "            dateCreated: DATE_TIME,\n",
    "            like: LIKES\n",
    "         }\n",
    "      ]\n",
    "    \n",
    "    }"
   ]
  },
  {
   "cell_type": "markdown",
   "metadata": {},
   "source": [
    "# Datatypes"
   ]
  },
  {
   "cell_type": "markdown",
   "metadata": {},
   "source": [
    "MongoDB supports many datatypes. Some of them are:"
   ]
  },
  {
   "cell_type": "markdown",
   "metadata": {},
   "source": [
    "<ul class=\"list\">\n",
    "<li><p><b>String</b> − This is the most commonly used datatype to store the data. String in MongoDB must be UTF-8 valid.</p></li>\n",
    "<li><p><b>Integer</b> − This type is used to store a numerical value. Integer can be 32 bit or 64 bit depending upon your server.</p></li>\n",
    "<li><p><b>Boolean</b> − This type is used to store a boolean (true/ false) value.</p></li>\n",
    "<li><p><b>Double</b> − This type is used to store floating point values.</p></li>\n",
    "<li><p><b>Min/ Max keys</b> − This type is used to compare a value against the lowest and highest BSON elements.</p></li>\n",
    "<li><p><b>Arrays</b> − This type is used to store arrays or list or multiple values into one key.</p></li>\n",
    "<li><p><b>Timestamp</b> − ctimestamp. This can be handy for recording when a document has been modified or added.</p></li>\n",
    "<li><p><b>Object</b> − This datatype is used for embedded documents.</p></li>\n",
    "<li><p><b>Null</b> − This type is used to store a Null value.</p></li>\n",
    "<li><p><b>Symbol</b> − This datatype is used identically to a string; however, it's generally reserved for languages that use a specific symbol type.</p></li>\n",
    "<li><p><b>Date </b> − This datatype is used to store the current date or time in UNIX time format. You can specify your own date time by creating object of Date and passing day, month, year into it.</p></li>\n",
    "<li><p><b>Object ID</b> − This datatype is used to store the document’s ID.</p></li>\n",
    "<li><p><b>Binary data</b> − This datatype is used to store binary data.</p></li>\n",
    "<li><p><b>Code</b> − This datatype is used to store JavaScript code into the document.</p></li>\n",
    "<li><p><b>Regular expression</b> − This datatype is used to store regular expression.</p></li>\n",
    "</ul>"
   ]
  }
 ],
 "metadata": {
  "language_info": {
   "name": "python"
  },
  "orig_nbformat": 4
 },
 "nbformat": 4,
 "nbformat_minor": 2
}
