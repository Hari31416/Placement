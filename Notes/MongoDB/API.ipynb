{
 "cells": [
  {
   "cell_type": "markdown",
   "metadata": {},
   "source": [
    "<h2 id=\"Contents\">Contents<a href=\"#Contents\"></a></h2>\n",
    "        <ol>\n",
    "        <li><a class=\"\" href=\"#Create-and-Drop\">Create and Drop</a></li>\n",
    "<ol><li><a class=\"\" href=\"#Creation\">Creation</a></li>\n",
    "<ol><li><a class=\"\" href=\"#The-use-Command\">The use Command</a></li>\n",
    "<li><a class=\"\" href=\"#Create-Collections\">Create Collections</a></li>\n",
    "</ol><li><a class=\"\" href=\"#Drop\">Drop</a></li>\n",
    "<ol><li><a class=\"\" href=\"#The-dropDatabase()-Method\">The dropDatabase() Method</a></li>\n",
    "<li><a class=\"\" href=\"#Drop-Collections\">Drop Collections</a></li>\n",
    "</ol></ol><li><a class=\"\" href=\"#Inserting\">Inserting</a></li>\n",
    "<ol><li><a class=\"\" href=\"#The-insert()-Method\">The insert() Method</a></li>\n",
    "<ol><li><a class=\"\" href=\"#The-insertOne()-method\">The insertOne() method</a></li>\n",
    "<li><a class=\"\" href=\"#The-insertMany()-method\">The insertMany() method</a></li>\n",
    "</ol></ol><li><a class=\"\" href=\"#Querying\">Querying</a></li>\n",
    "<ol><li><a class=\"\" href=\"#The-find()-Method\">The find() Method</a></li>\n",
    "<li><a class=\"\" href=\"#RDBMS-Where-Clause-Equivalents-in-MongoDB\">RDBMS Where Clause Equivalents in MongoDB</a></li>\n",
    "<ol><li><a class=\"\" href=\"#AND-Condition\">AND Condition</a></li>\n",
    "<li><a class=\"\" href=\"#OR-Condition\">OR Condition</a></li>\n",
    "</ol><li><a class=\"\" href=\"#Projection\">Projection</a></li>\n",
    "</ol><li><a class=\"\" href=\"#Update\">Update</a></li>\n",
    "<ol><li><a class=\"\" href=\"#update()-Method\">update() Method</a></li>\n",
    "<li><a class=\"\" href=\"#findOneAndUpdate()-method\">findOneAndUpdate() method</a></li>\n",
    "</ol><li><a class=\"\" href=\"#Delete\">Delete</a></li>\n",
    "<ol><li><a class=\"\" href=\"#The-remove()-Method\">The remove() Method</a></li>\n",
    "</ol><li><a class=\"\" href=\"#Limit-and-Sort\">Limit and Sort</a></li>\n",
    "<ol><li><a class=\"\" href=\"#Limit\">Limit</a></li>\n",
    "<ol><li><a class=\"\" href=\"#The-limit()-Method\">The limit() Method</a></li>\n",
    "<li><a class=\"\" href=\"#The-skip()-Method\">The skip() Method</a></li>\n",
    "</ol><li><a class=\"\" href=\"#Sorting\">Sorting</a></li>\n",
    "<ol><li><a class=\"\" href=\"#The-sort()-Method\">The sort() Method</a></li>\n",
    "</ol><li><a class=\"\" href=\"#Aggregation\">Aggregation</a></li>\n",
    "<ol><li><a class=\"\" href=\"#The-aggregate()-Method\">The aggregate() Method</a></li>\n",
    "</ol>"
   ]
  },
  {
   "cell_type": "markdown",
   "metadata": {},
   "source": [
    "# Create and Drop"
   ]
  },
  {
   "cell_type": "markdown",
   "metadata": {},
   "source": [
    "## Creation"
   ]
  },
  {
   "cell_type": "markdown",
   "metadata": {},
   "source": [
    "### The `use` Command"
   ]
  },
  {
   "cell_type": "markdown",
   "metadata": {},
   "source": [
    "MongoDB `use DATABASE_NAME` is used to create database. The command will create a new database if it doesn't exist, otherwise it will return the existing database.\n",
    "\n",
    "`use DATABASE_NAME`"
   ]
  },
  {
   "cell_type": "markdown",
   "metadata": {},
   "source": [
    "### Create Collections"
   ]
  },
  {
   "cell_type": "markdown",
   "metadata": {},
   "source": [
    "MongoDB `db.createCollection(name, options)` is used to create collection.\n",
    "\n",
    "`db.createCollection(name, options)`"
   ]
  },
  {
   "cell_type": "markdown",
   "metadata": {},
   "source": [
    "In the command, `name` is name of collection to be created. `options` is a document and is used to specify configuration of collection. `options` parameter is optional, so you need to specify only the name of the collection. Following is the list of options you can use:"
   ]
  },
  {
   "cell_type": "markdown",
   "metadata": {},
   "source": [
    "<table class=\"table table-bordered\">\n",
    "<tbody><tr>\n",
    "<th style=\"width:15%;text-align:center;\">Field</th>\n",
    "<th style=\"width:15%;text-align:center;\">Type</th>\n",
    "<th style=\"text-align:center;\">Description</th></tr>\n",
    "<tr>\n",
    "<td style=\"text-align:center;vertical-align:middle;\">capped</td>\n",
    "<td style=\"text-align:center;vertical-align:middle;\">Boolean</td>\n",
    "<td>(Optional) If true, enables a capped collection. Capped collection is a fixed size collection that automatically overwrites its oldest entries when it reaches its maximum size. <b>If you specify true, you need to specify size parameter also.</b></td>\n",
    "</tr>\n",
    "<tr>\n",
    "<td style=\"text-align:center;vertical-align:middle;\">autoIndexId</td>\n",
    "<td style=\"text-align:center;vertical-align:middle;\">Boolean</td>\n",
    "<td>(Optional) If true, automatically create index on _id field.s Default value is false.</td>\n",
    "</tr>\n",
    "<tr>\n",
    "<td style=\"text-align:center;vertical-align:middle;\">size</td>\n",
    "<td style=\"text-align:center;vertical-align:middle;\">number</td>\n",
    "<td>(Optional) Specifies a maximum size in bytes for a capped collection. <b>If capped is true, then you need to specify this field also.</b></td>\n",
    "</tr>\n",
    "<tr>\n",
    "<td style=\"text-align:center;vertical-align:middle;\">max</td>\n",
    "<td style=\"text-align:center;vertical-align:middle;\">number</td>\n",
    "<td>(Optional) Specifies the maximum number of documents allowed in the capped collection.</td>\n",
    "</tr>\n",
    "</tbody></table>"
   ]
  },
  {
   "cell_type": "markdown",
   "metadata": {},
   "source": [
    "For example,\n",
    "\n",
    "    use test\n",
    "    switched to db test\n",
    "    db.createCollection(\"mycollection\")\n",
    "    { \"ok\" : 1 }\n",
    "    "
   ]
  },
  {
   "cell_type": "markdown",
   "metadata": {},
   "source": [
    "    db.createCollection(\"mycol\", { capped : true, autoIndexID : true, size : 6142800, max : 10000 } ){\n",
    "    \"ok\" : 0,\n",
    "    \"errmsg\" : \"BSON field 'create.autoIndexID' is an unknown field.\",\n",
    "    \"code\" : 40415,\n",
    "    \"codeName\" : \"Location40415\"\n",
    "    }"
   ]
  },
  {
   "cell_type": "markdown",
   "metadata": {},
   "source": [
    "## Drop"
   ]
  },
  {
   "cell_type": "markdown",
   "metadata": {},
   "source": [
    "### The `dropDatabase()` Method"
   ]
  },
  {
   "cell_type": "markdown",
   "metadata": {},
   "source": [
    "MongoDB `db.dropDatabase()` command is used to drop a existing database.\n",
    "\n",
    "`db.dropDatabase()`"
   ]
  },
  {
   "cell_type": "markdown",
   "metadata": {},
   "source": [
    "### Drop Collections"
   ]
  },
  {
   "cell_type": "markdown",
   "metadata": {},
   "source": [
    "MongoDB's `db.collection.drop()` is used to drop a collection from the database.\n",
    "\n",
    "`db.mycollection.drop()`"
   ]
  },
  {
   "cell_type": "markdown",
   "metadata": {},
   "source": [
    "This will return `true` if the collection is dropped successfully, otherwise it will return false."
   ]
  },
  {
   "cell_type": "markdown",
   "metadata": {},
   "source": [
    "# Inserting"
   ]
  },
  {
   "cell_type": "markdown",
   "metadata": {},
   "source": [
    "## The `insert()` Method"
   ]
  },
  {
   "cell_type": "markdown",
   "metadata": {},
   "source": [
    "To insert data into MongoDB collection, you need to use MongoDB's `insert()` or `save()` method. The syntax is as follows:\n",
    "\n",
    "`db.collection.insert(document)`"
   ]
  },
  {
   "cell_type": "markdown",
   "metadata": {},
   "source": [
    "For example:\n",
    "\n",
    "    db.users.insert({\n",
    "    ... _id : ObjectId(\"507f191e810c19729de860ea\"),\n",
    "    ... title: \"MongoDB Overview\",\n",
    "    ... description: \"MongoDB is no sql database\",\n",
    "    ... by: \"tutorials point\",\n",
    "    ... url: \"http://www.tutorialspoint.com\",\n",
    "    ... tags: ['mongodb', 'database', 'NoSQL'],\n",
    "    ... likes: 100\n",
    "    ... })\n",
    "    WriteResult({ \"nInserted\" : 1 })"
   ]
  },
  {
   "cell_type": "markdown",
   "metadata": {},
   "source": [
    "If the collection doesn't exist in the database, then MongoDB will create this collection and then insert a document into it.\n",
    "\n",
    "In the inserted document, if we don't specify the `_id` parameter, then MongoDB assigns a unique ObjectId for this document."
   ]
  },
  {
   "cell_type": "markdown",
   "metadata": {},
   "source": [
    "You can also pass an array of documents into the insert() method."
   ]
  },
  {
   "cell_type": "markdown",
   "metadata": {},
   "source": [
    "### The `insertOne()` method"
   ]
  },
  {
   "cell_type": "markdown",
   "metadata": {},
   "source": [
    "Used to insert a single document into a collection.\n",
    "\n",
    "`db.collection.insertOne(document)`"
   ]
  },
  {
   "cell_type": "markdown",
   "metadata": {},
   "source": [
    "### The `insertMany()` method"
   ]
  },
  {
   "cell_type": "markdown",
   "metadata": {},
   "source": [
    "Used to insert multiple documents into a collection.\n",
    "\n",
    "`db.collection.insertMany([document1, document2, ...])`"
   ]
  },
  {
   "cell_type": "markdown",
   "metadata": {},
   "source": [
    "    db.empDetails.insertMany(\n",
    "        [\n",
    "            {\n",
    "                First_Name: \"Radhika\",\n",
    "                Last_Name: \"Sharma\",\n",
    "                Date_Of_Birth: \"1995-09-26\",\n",
    "                e_mail: \"radhika_sharma.123@gmail.com\",\n",
    "                phone: \"9000012345\"\n",
    "            },\n",
    "            {\n",
    "                First_Name: \"Rachel\",\n",
    "                Last_Name: \"Christopher\",\n",
    "                Date_Of_Birth: \"1990-02-16\",\n",
    "                e_mail: \"Rachel_Christopher.123@gmail.com\",\n",
    "                phone: \"9000054321\"\n",
    "            },\n",
    "            {\n",
    "                First_Name: \"Fathima\",\n",
    "                Last_Name: \"Sheik\",\n",
    "                Date_Of_Birth: \"1990-02-16\",\n",
    "                e_mail: \"Fathima_Sheik.123@gmail.com\",\n",
    "                phone: \"9000054321\"\n",
    "            }\n",
    "        ]\n",
    "    )\n",
    "    {\n",
    "        \"acknowledged\" : true,\n",
    "        \"insertedIds\" : [\n",
    "            ObjectId(\"5dd631f270fb13eec3963bed\"),\n",
    "            ObjectId(\"5dd631f270fb13eec3963bee\"),\n",
    "            ObjectId(\"5dd631f270fb13eec3963bef\")\n",
    "        ]\n",
    "    }"
   ]
  },
  {
   "cell_type": "markdown",
   "metadata": {},
   "source": [
    "# Querying"
   ]
  },
  {
   "cell_type": "markdown",
   "metadata": {},
   "source": [
    "## The `find()` Method"
   ]
  },
  {
   "cell_type": "markdown",
   "metadata": {},
   "source": [
    "To query data from MongoDB collection, you need to use MongoDB's `find()` method. The syntax is as follows:\n",
    "\n",
    "`db.collection.find(query)`"
   ]
  },
  {
   "cell_type": "markdown",
   "metadata": {},
   "source": [
    "Same as above, we have `findOne()` method to query a single document from a collection and `find()` method to query multiple documents from a collection."
   ]
  },
  {
   "cell_type": "markdown",
   "metadata": {},
   "source": [
    "## RDBMS Where Clause Equivalents in MongoDB"
   ]
  },
  {
   "cell_type": "markdown",
   "metadata": {},
   "source": [
    "To query the document on the basis of some condition, you can use following operations."
   ]
  },
  {
   "cell_type": "markdown",
   "metadata": {},
   "source": [
    "<table class=\"table table-bordered\">\n",
    "<tbody><tr>\n",
    "<th style=\"text-align:center;\">Operation</th>\n",
    "<th style=\"text-align:center;\">Syntax</th>\n",
    "<th style=\"text-align:center;\">Example</th>\n",
    "<th style=\"width:35%; text-align:center;\">RDBMS Equivalent</th>\n",
    "</tr>\n",
    "<tr>\n",
    "<td>Equality</td>\n",
    "<td>{&lt;key&gt;:{$eq;&lt;value&gt;}}</td>\n",
    "<td>db.mycol.find({\"by\":\"tutorials point\"})</td>\n",
    "<td>where by = 'tutorials point'</td>\n",
    "</tr>\n",
    "<tr>\n",
    "<td>Less Than</td>\n",
    "<td>{&lt;key&gt;:{$lt:&lt;value&gt;}}</td>\n",
    "<td>db.mycol.find({\"likes\":{$lt:50}})</td>\n",
    "<td>where likes &lt; 50</td>\n",
    "</tr>\n",
    "<tr>\n",
    "<td style=\"width:35%;\">Less Than Equals</td>\n",
    "<td>{&lt;key&gt;:{$lte:&lt;value&gt;}}</td>\n",
    "<td>db.mycol.find({\"likes\":{$lte:50}})</td>\n",
    "<td>where likes &lt;= 50</td>\n",
    "</tr>\n",
    "<tr>\n",
    "<td>Greater Than</td>\n",
    "<td>{&lt;key&gt;:{$gt:&lt;value&gt;}}</td>\n",
    "<td>db.mycol.find({\"likes\":{$gt:50}})</td>\n",
    "<td>where likes &gt; 50</td>\n",
    "</tr>\n",
    "<tr>\n",
    "<td>Greater Than Equals</td>\n",
    "<td>{&lt;key&gt;:{$gte:&lt;value&gt;}}</td>\n",
    "<td>db.mycol.find({\"likes\":{$gte:50}})</td>\n",
    "<td>where likes &gt;= 50</td>\n",
    "</tr>\n",
    "<tr>\n",
    "<td>Not Equals</td>\n",
    "<td>{&lt;key&gt;:{$ne:&lt;value&gt;}}</td>\n",
    "<td>db.mycol.find({\"likes\":{$ne:50}})</td>\n",
    "<td>where likes != 50</td>\n",
    "</tr>\n",
    "<tr>\n",
    "<td>Values in an array</td>\n",
    "<td>{&lt;key&gt;:{$in:[&lt;value1&gt;, &lt;value2&gt;,……&lt;valueN&gt;]}}</td>\n",
    "<td>db.mycol.find({\"name\":{$in:[\"Raj\", \"Ram\", \"Raghu\"]}})</td>\n",
    "<td>Where name matches any of the value in :[\"Raj\", \"Ram\", \"Raghu\"]</td>\n",
    "</tr>\n",
    "<tr>\n",
    "<td>Values not in an array</td>\n",
    "<td>{&lt;key&gt;:{$nin:&lt;value&gt;}}</td>\n",
    "<td>db.mycol.find({\"name\":{$nin:[\"Ramu\", \"Raghav\"]}})</td>\n",
    "<td>Where name values is not in the array :[\"Ramu\", \"Raghav\"] or, doesn’t exist at all</td>\n",
    "</tr>\n",
    "</tbody></table>"
   ]
  },
  {
   "cell_type": "markdown",
   "metadata": {},
   "source": [
    "### AND Condition"
   ]
  },
  {
   "cell_type": "markdown",
   "metadata": {},
   "source": [
    "To query documents based on the AND condition, you need to use `$and` keyword. Following is the basic syntax of AND:\n",
    "\n",
    "`db.mycol.find({ $and: [ {<key1>:<value1>}, { <key2>:<value2>} ] })`"
   ]
  },
  {
   "cell_type": "markdown",
   "metadata": {},
   "source": [
    "### OR Condition"
   ]
  },
  {
   "cell_type": "markdown",
   "metadata": {},
   "source": [
    "Same as above, to query documents based on the OR condition, you need to use `$or` keyword. Following is the basic syntax of OR:\n",
    "\n",
    "    db.mycol.find(\n",
    "    {\n",
    "        $or: [\n",
    "            {key1: value1}, {key2:value2}\n",
    "        ]\n",
    "    }\n",
    "    )"
   ]
  },
  {
   "cell_type": "markdown",
   "metadata": {},
   "source": [
    "> Same can be done for NOT, NOR."
   ]
  },
  {
   "cell_type": "markdown",
   "metadata": {},
   "source": [
    "## Projection"
   ]
  },
  {
   "cell_type": "markdown",
   "metadata": {},
   "source": [
    "In MongoDB, projection means selecting only the necessary data rather than selecting whole of the data of a document. If a document has 5 fields and you need to show only 3, then select only 3 fields from them."
   ]
  },
  {
   "cell_type": "markdown",
   "metadata": {},
   "source": [
    "MongoDB's `find()` method accepts second optional parameter that is list of fields that you want to retrieve. In MongoDB, when you execute `find()` method, then it displays all fields of a document. To limit this, you need to set a list of fields with value 1 or 0. 1 is used to show the field while 0 is used to hide the fields."
   ]
  },
  {
   "cell_type": "markdown",
   "metadata": {},
   "source": [
    "Basic syntax of projection is as follows:\n",
    "\n",
    "`db.COLLECTION_NAME.find({},{KEY:1})`"
   ]
  },
  {
   "cell_type": "markdown",
   "metadata": {},
   "source": [
    "For example:\n",
    "\n",
    "`db.mycol.find({},{\"title\":1,_id:0})`\n",
    "\n",
    "display the title of the document while querying the document. Here `_id=0` is used to hide the `_id` field."
   ]
  },
  {
   "cell_type": "markdown",
   "metadata": {},
   "source": [
    "# Update"
   ]
  },
  {
   "cell_type": "markdown",
   "metadata": {},
   "source": [
    "MongoDB's `update()` and `save()` methods are used to update document into a collection. The `update()` method updates the values in the existing document while the `save()` method replaces the existing document with the document passed in `save()` method."
   ]
  },
  {
   "cell_type": "markdown",
   "metadata": {},
   "source": [
    "## `update()` Method"
   ]
  },
  {
   "cell_type": "markdown",
   "metadata": {},
   "source": [
    "The syntax is:\n",
    "\n",
    "`db.COLLECTION_NAME.update(SELECTION_CRITERIA, UPDATED_DATA)`"
   ]
  },
  {
   "cell_type": "markdown",
   "metadata": {},
   "source": [
    "For example:\n",
    "\n",
    "`db.mycol.update({'title':'MongoDB Overview'},{$set:{'title':'New MongoDB Tutorial'}})`"
   ]
  },
  {
   "cell_type": "markdown",
   "metadata": {},
   "source": [
    "By default, MongoDB will update only a single document. To update multiple documents, you need to set a parameter 'multi' to true.\n",
    "\n",
    "`db.mycol.update({'title':'MongoDB Overview'},{$set:{'title':'New MongoDB Tutorial'}},{multi:true})`"
   ]
  },
  {
   "cell_type": "markdown",
   "metadata": {},
   "source": [
    "## `findOneAndUpdate()` method\n"
   ]
  },
  {
   "cell_type": "markdown",
   "metadata": {},
   "source": [
    "The `findOneAndUpdate()` method updates the values in the existing document. The syntax is\n",
    "\n",
    "`db.COLLECTION_NAME.findOneAndUpdate(SELECTIOIN_CRITERIA, UPDATED_DATA)`"
   ]
  },
  {
   "cell_type": "markdown",
   "metadata": {},
   "source": [
    "Similarly, we have `updateMany()` and `updateOne()` methods to update multiple and single documents respectively."
   ]
  },
  {
   "cell_type": "markdown",
   "metadata": {},
   "source": [
    "# Delete"
   ]
  },
  {
   "cell_type": "markdown",
   "metadata": {},
   "source": [
    "## The `remove()` Method"
   ]
  },
  {
   "cell_type": "markdown",
   "metadata": {},
   "source": [
    "MongoDB's remove() method is used to remove a document from the collection. remove() method accepts two parameters. One is deletion criteria and second is justOne flag.\n",
    "\n",
    "* deletion criteria − (Optional) deletion criteria according to documents will be removed.\n",
    "\n",
    "* justOne − (Optional) if set to true or 1, then remove only one document.\n",
    "\n",
    "The syntax is:\n",
    "\n",
    "`db.COLLECTION_NAME.remove(DELLETION_CRITTERIA)`"
   ]
  },
  {
   "cell_type": "markdown",
   "metadata": {},
   "source": [
    "If there are multiple records and you want to delete only the first record, then set justOne parameter in `remove()` method.\n",
    "\n",
    "`db.COLLECTION_NAME.remove(DELETION_CRITERIA,1)`"
   ]
  },
  {
   "cell_type": "markdown",
   "metadata": {},
   "source": [
    ">If you don't specify deletion criteria, then MongoDB will delete whole documents from the collection. This is equivalent of SQL's truncate command."
   ]
  },
  {
   "cell_type": "markdown",
   "metadata": {},
   "source": [
    "# Limit and Sort"
   ]
  },
  {
   "cell_type": "markdown",
   "metadata": {},
   "source": [
    "## Limit"
   ]
  },
  {
   "cell_type": "markdown",
   "metadata": {},
   "source": [
    "### The `limit()` Method"
   ]
  },
  {
   "cell_type": "markdown",
   "metadata": {},
   "source": [
    "To limit the records in MongoDB, you need to use `limit()` method. The method accepts one number type argument, which is the number of documents that you want to be displayed. The syntax is:\n",
    "\n",
    "`db.COLLECTION_NAME.find().limit(NUMBER)`"
   ]
  },
  {
   "cell_type": "markdown",
   "metadata": {},
   "source": [
    "### The `skip()` Method"
   ]
  },
  {
   "cell_type": "markdown",
   "metadata": {},
   "source": [
    "Apart from `limit()` method, there is one more method `skip()` which also accepts number type argument and is used to skip the number of documents. The syntax is:\n",
    "\n",
    "`db.COLLECTION_NAME.find().limit(NUMBER).skip(NUMBER)`"
   ]
  },
  {
   "cell_type": "markdown",
   "metadata": {},
   "source": [
    "For example:\n",
    "\n",
    "`db.mycol.find({},{\"title\":1,_id:0}).limit(1).skip(1)`"
   ]
  },
  {
   "cell_type": "markdown",
   "metadata": {},
   "source": [
    "## Sorting"
   ]
  },
  {
   "cell_type": "markdown",
   "metadata": {},
   "source": [
    "### The `sort()` Method"
   ]
  },
  {
   "cell_type": "markdown",
   "metadata": {},
   "source": [
    "To sort documents in MongoDB, you need to use `sort()` method. The method accepts a document containing a list of fields along with their sorting order. To specify sorting order 1 and -1 are used. 1 is used for ascending order while -1 is used for descending order.\n",
    "\n",
    "`db.COLLECTION_NAME.find().sort({KEY:1})`"
   ]
  },
  {
   "cell_type": "markdown",
   "metadata": {},
   "source": [
    "For example, the following query will sort the documents in ascending order of the title field.\n",
    "\n",
    "`db.mycol.find({},{\"title\":1,_id:0}).sort({\"title\":1})`"
   ]
  },
  {
   "cell_type": "markdown",
   "metadata": {},
   "source": [
    "## Aggregation"
   ]
  },
  {
   "cell_type": "markdown",
   "metadata": {},
   "source": [
    "Aggregations operations process data records and return computed results. Aggregation operations group values from multiple documents together, and can perform a variety of operations on the grouped data to return a single result."
   ]
  },
  {
   "cell_type": "markdown",
   "metadata": {},
   "source": [
    "### The `aggregate()` Method"
   ]
  },
  {
   "cell_type": "markdown",
   "metadata": {},
   "source": [
    "Basic syntax of aggregate() method is as follows\n",
    "\n",
    "`db.COLLECTION_NAME.aggregate(AGGREGATE_OPERATION)`"
   ]
  },
  {
   "cell_type": "markdown",
   "metadata": {},
   "source": [
    "Suppose you have the following data\n",
    "\n",
    "    {\n",
    "    _id: ObjectId(7df78ad8902c)\n",
    "    title: 'MongoDB Overview', \n",
    "    description: 'MongoDB is no sql database',\n",
    "    by_user: 'tutorials point',\n",
    "    url: 'http://www.tutorialspoint.com',\n",
    "    tags: ['mongodb', 'database', 'NoSQL'],\n",
    "    likes: 100\n",
    "    },\n",
    "    {\n",
    "    _id: ObjectId(7df78ad8902d)\n",
    "    title: 'NoSQL Overview', \n",
    "    description: 'No sql database is very fast',\n",
    "    by_user: 'tutorials point',\n",
    "    url: 'http://www.tutorialspoint.com',\n",
    "    tags: ['mongodb', 'database', 'NoSQL'],\n",
    "    likes: 10\n",
    "    },\n",
    "    {\n",
    "    _id: ObjectId(7df78ad8902e)\n",
    "    title: 'Neo4j Overview', \n",
    "    description: 'Neo4j is no sql database',\n",
    "    by_user: 'Neo4j',\n",
    "    url: 'http://www.neo4j.com',\n",
    "    tags: ['neo4j', 'database', 'NoSQL'],\n",
    "    likes: 750\n",
    "    },"
   ]
  },
  {
   "cell_type": "markdown",
   "metadata": {},
   "source": [
    "Now from the above collection, if you want to display a list stating how many tutorials are written by each user, then you will use the following `aggregate()` method\n",
    "\n",
    "`db.mycol.aggregate([{$group : {_id : \"$by_user\", num_tutorial : {$sum : 1}}}])`\n",
    "\n",
    "The output will be\n",
    "\n",
    "    { \"_id\" : \"tutorials point\", \"num_tutorial\" : 2 }\n",
    "    { \"_id\" : \"Neo4j\", \"num_tutorial\" : 1 }"
   ]
  },
  {
   "cell_type": "markdown",
   "metadata": {},
   "source": [
    ">Sql equivalent query for the above use case will be select by_user, count(*) from mycol group by by_user."
   ]
  },
  {
   "cell_type": "markdown",
   "metadata": {},
   "source": [
    "Following is a list of available aggregation expressions.\n",
    "\n",
    "<table class=\"table table-bordered\">\n",
    "<tbody><tr>\n",
    "<th style=\"width:10%; text-align:center;\">Expression</th>\n",
    "<th style=\"width:50%; text-align:center;\">Description</th>\n",
    "<th style=\"text-align:center;\">Example</th>\n",
    "</tr>\n",
    "<tr>\n",
    "<td style=\"text-align:center; vertical-align:middle;\">$sum</td>\n",
    "<td>Sums up the defined value from all documents in the collection.</td>\n",
    "<td>db.mycol.aggregate([{$group : {_id : \"$by_user\", num_tutorial : {$sum : \"$likes\"}}}])</td></tr>\n",
    "<tr>\n",
    "<td style=\"text-align:center; vertical-align:middle;\">$avg</td>\n",
    "<td>Calculates the average of all given values from all documents in the collection.</td>\n",
    "<td>db.mycol.aggregate([{$group : {_id : \"$by_user\", num_tutorial : {$avg : \"$likes\"}}}])</td></tr>\n",
    "<tr>\n",
    "<td style=\"text-align:center; vertical-align:middle;\">$min</td>\n",
    "<td>Gets the minimum of the corresponding values from all documents in the collection.</td>\n",
    "<td>db.mycol.aggregate([{$group : {_id : \"$by_user\", num_tutorial : {$min : \"$likes\"}}}])</td></tr>\n",
    "<tr>\n",
    "<td style=\"text-align:center; vertical-align:middle;\">$max</td>\n",
    "<td>Gets the maximum of the corresponding values from all documents in the collection.</td>\n",
    "<td>db.mycol.aggregate([{$group : {_id : \"$by_user\", num_tutorial : {$max : \"$likes\"}}}])</td></tr>\n",
    "<tr>\n",
    "<td style=\"text-align:center; vertical-align:middle;\">$push</td>\n",
    "<td>Inserts the value to an array in the resulting document.</td>\n",
    "<td>db.mycol.aggregate([{$group : {_id : \"$by_user\", url : {$push: \"$url\"}}}])</td></tr>\n",
    "<tr>\n",
    "<td style=\"text-align:center; vertical-align:middle;\">$addToSet</td>\n",
    "<td>Inserts the value to an array in the resulting document but does not create duplicates.</td>\n",
    "<td>db.mycol.aggregate([{$group : {_id : \"$by_user\", url : {$addToSet : \"$url\"}}}])</td></tr>\n",
    "<tr>\n",
    "<td style=\"text-align:center; vertical-align:middle;\">$first</td>\n",
    "<td>Gets the first document from the source documents according to the grouping. Typically this makes only sense together with some previously applied “$sort”-stage.</td>\n",
    "<td>db.mycol.aggregate([{$group : {_id : \"$by_user\", first_url : {$first : \"$url\"}}}])</td></tr>\n",
    "<tr>\n",
    "<td style=\"text-align:center; vertical-align:middle;\">$last</td>\n",
    "<td>Gets the last document from the source documents according to the grouping. Typically this makes only sense together with some previously applied “$sort”-stage.</td>\n",
    "<td>db.mycol.aggregate([{$group : {_id : \"$by_user\", last_url : {$last : \"$url\"}}}])</td></tr>\n",
    "</tbody></table>"
   ]
  }
 ],
 "metadata": {
  "language_info": {
   "name": "python"
  },
  "orig_nbformat": 4
 },
 "nbformat": 4,
 "nbformat_minor": 2
}
