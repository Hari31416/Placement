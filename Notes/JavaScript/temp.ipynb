{
 "cells": [
  {
   "cell_type": "code",
   "execution_count": 1,
   "metadata": {},
   "outputs": [],
   "source": [
    "import sys\n",
    "sys.path.append('../../tools')"
   ]
  },
  {
   "cell_type": "code",
   "execution_count": 2,
   "metadata": {},
   "outputs": [],
   "source": [
    "from files.notebook import Notebook"
   ]
  },
  {
   "cell_type": "code",
   "execution_count": 7,
   "metadata": {},
   "outputs": [
    {
     "name": "stdout",
     "output_type": "stream",
     "text": [
      "Converting the Notebook to HTML.\n",
      "Looking for the Headers and their positions.\n",
      "Getting correct order of the Headers.\n",
      "Creating the Contents.\n",
      "Content copied to clipboard.\n"
     ]
    },
    {
     "name": "stderr",
     "output_type": "stream",
     "text": [
      "QXcbClipboard::setMimeData: Cannot set X11 selection owner\n"
     ]
    }
   ],
   "source": [
    "nb = Notebook()\n",
    "text = nb.create_content(nb.notebooks[0], return_string=True)"
   ]
  },
  {
   "cell_type": "code",
   "execution_count": 8,
   "metadata": {},
   "outputs": [
    {
     "name": "stdout",
     "output_type": "stream",
     "text": [
      "<h2 id=\"Contents\">Contents<a href=\"#Contents\"></a></h2>\n",
      "        <ol>\n",
      "        <li><a class=\"\" href=\"#Array\">Array</a></li>\n",
      "<ol><li><a class=\"\" href=\"#Numeric-Sort\">Numeric Sort</a></li>\n",
      "<li><a class=\"\" href=\"#Min-and-Max-of-an-Array\">Min and Max of an Array</a></li>\n",
      "</ol><li><a class=\"\" href=\"#String\">String</a></li>\n",
      "<li><a class=\"\" href=\"#Number\">Number</a></li>\n",
      "<li><a class=\"\" href=\"#Math\">Math</a></li>\n",
      "<li><a class=\"\" href=\"#Date-Methods\">Date Methods</a></li>\n",
      "<li><a class=\"\" href=\"#JavaScript-Type-Conversion\">JavaScript Type Conversion</a></li>\n",
      "<ol><li><a class=\"\" href=\"#Converting-Strings-to-Numbers\">Converting Strings to Numbers</a></li>\n",
      "<li><a class=\"\" href=\"#Converting-Numbers-to-Strings\">Converting Numbers to Strings</a></li>\n",
      "<li><a class=\"\" href=\"#Converting-Dates-to-Numbers-and-Strings\">Converting Dates to Numbers and Strings</a></li>\n",
      "<li><a class=\"\" href=\"#Converting-Booleans-to-Numbers-and-Strings\">Converting Booleans to Numbers and Strings</a></li>\n",
      "<li><a class=\"\" href=\"#Automatic-Type-Conversion\">Automatic Type Conversion</a></li>\n",
      "</ol>\n"
     ]
    }
   ],
   "source": [
    "print(text)"
   ]
  },
  {
   "cell_type": "code",
   "execution_count": 9,
   "metadata": {},
   "outputs": [
    {
     "name": "stderr",
     "output_type": "stream",
     "text": [
      "Exporting notebooks...: 100%|██████████| 3/3 [00:01<00:00,  1.50it/s]\n"
     ]
    },
    {
     "data": {
      "text/plain": [
       "['././Some_Methods.html', '././temp.html', '././Terminology.html']"
      ]
     },
     "execution_count": 9,
     "metadata": {},
     "output_type": "execute_result"
    }
   ],
   "source": [
    "files = nb.export_directory()\n",
    "files"
   ]
  },
  {
   "cell_type": "code",
   "execution_count": 10,
   "metadata": {},
   "outputs": [
    {
     "name": "stdout",
     "output_type": "stream",
     "text": [
      "<ul><li>\n",
      "            <a href=\"Notes/JavaScript/Some_Methods.html\" target=\"blank\" class=\"links\">Some Methods</a>\n",
      "          </li><li>\n",
      "            <a href=\"Notes/JavaScript/Terminology.html\" target=\"blank\" class=\"links\">Terminology</a>\n",
      "          </li></ul>\n"
     ]
    }
   ],
   "source": [
    "start = \"<ul>\"\n",
    "end = \"</ul>\"\n",
    "for f in files:\n",
    "    if \"temp\" in f:\n",
    "        continue\n",
    "    file = f.split(\"/\")[-1]\n",
    "    name = file.split(\".\")[0]\n",
    "    name = name.replace(\"_\", \" \")\n",
    "    start+=f\"\"\"<li>\n",
    "            <a href=\"Notes/JavaScript/{file}\" target=\"blank\" class=\"links\">{name}</a>\n",
    "          </li>\"\"\"\n",
    "start+=end\n",
    "print(start)"
   ]
  },
  {
   "cell_type": "code",
   "execution_count": null,
   "metadata": {},
   "outputs": [],
   "source": []
  }
 ],
 "metadata": {
  "kernelspec": {
   "display_name": "Python 3.9.12 ('data-science')",
   "language": "python",
   "name": "python3"
  },
  "language_info": {
   "codemirror_mode": {
    "name": "ipython",
    "version": 3
   },
   "file_extension": ".py",
   "mimetype": "text/x-python",
   "name": "python",
   "nbconvert_exporter": "python",
   "pygments_lexer": "ipython3",
   "version": "3.9.12"
  },
  "orig_nbformat": 4,
  "vscode": {
   "interpreter": {
    "hash": "2efee1efa502125d01e6b4768ba06d9453d29f3642bfd14ad5d4a769de82e88c"
   }
  }
 },
 "nbformat": 4,
 "nbformat_minor": 2
}
