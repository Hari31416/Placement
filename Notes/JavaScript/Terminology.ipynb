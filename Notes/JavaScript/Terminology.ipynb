{
 "cells": [
  {
   "cell_type": "markdown",
   "metadata": {},
   "source": [
    "<h2 id=\"Contents\">Contents<a href=\"#Contents\"></a></h2>\n",
    "        <ol>\n",
    "        <li><a class=\"\" href=\"#Arrays\">Arrays</a></li>\n",
    "<ol><li><a class=\"\" href=\"#Accessing-Elements\">Accessing Elements</a></li>\n",
    "<li><a class=\"\" href=\"#Array-literals\">Array literals</a></li>\n",
    "<li><a class=\"\" href=\"#Array-constructor\">Array constructor</a></li>\n",
    "</ol><li><a class=\"\" href=\"#Booleans\">Booleans</a></li>\n",
    "<ol><li><a class=\"\" href=\"#%E2%80%9CTruthy%E2%80%9D-and-%E2%80%9CFalsy%E2%80%9D\">“Truthy” and “Falsy”</a></li>\n",
    "<li><a class=\"\" href=\"#==-vs.-===\">== vs. ===</a></li>\n",
    "</ol><li><a class=\"\" href=\"#Functions\">Functions</a></li>\n",
    "<ol><li><a class=\"\" href=\"#Function-hoisting\">Function hoisting</a></li>\n",
    "<li><a class=\"\" href=\"#Arrow-Functions\">Arrow Functions</a></li>\n",
    "<li><a class=\"\" href=\"#Anonymous-Functions\">Anonymous Functions</a></li>\n",
    "</ol><li><a class=\"\" href=\"#If-statement\">If statement</a></li>\n",
    "<ol><li><a class=\"\" href=\"#If\">If</a></li>\n",
    "<li><a class=\"\" href=\"#else\">else</a></li>\n",
    "<li><a class=\"\" href=\"#else-if\">else if</a></li>\n",
    "<li><a class=\"\" href=\"#Switch-statements\">Switch statements</a></li>\n",
    "</ol><li><a class=\"\" href=\"#Loops\">Loops</a></li>\n",
    "<ol><li><a class=\"\" href=\"#For-Loops\">For Loops</a></li>\n",
    "<ol><li><a class=\"\" href=\"#Looping-Through-Arrays\">Looping Through Arrays</a></li>\n",
    "<li><a class=\"\" href=\"#forEach()\">forEach()</a></li>\n",
    "</ol><li><a class=\"\" href=\"#While-Loops\">While Loops</a></li>\n",
    "<ol><li><a class=\"\" href=\"#Do-While-Loops\">Do While Loops</a></li>\n",
    "</ol></ol><li><a class=\"\" href=\"#Objects\">Objects</a></li>\n",
    "<ol><li><a class=\"\" href=\"#JavaScript-Objects-are-Mutable\">JavaScript Objects are Mutable</a></li>\n",
    "<li><a class=\"\" href=\"#Dot-Notation-for-Accessing-Object-Properties\">Dot Notation for Accessing Object Properties</a></li>\n",
    "<li><a class=\"\" href=\"#JavaScript-for...in-loop\">JavaScript for...in loop</a></li>\n",
    "</ol><li><a class=\"\" href=\"#OOP\">OOP</a></li>\n",
    "<ol><li><a class=\"\" href=\"#Classes\">Classes</a></li>\n",
    "<li><a class=\"\" href=\"#Creating-Class\">Creating Class</a></li>\n",
    "<ol><li><a class=\"\" href=\"#The-Constructor-Method\">The Constructor Method</a></li>\n",
    "<li><a class=\"\" href=\"#Class-Methods\">Class Methods</a></li>\n",
    "</ol></ol><li><a class=\"\" href=\"#Spread-Operator\">Spread Operator</a></li>\n",
    "<li><a class=\"\" href=\"#Strict-Mode\">Strict Mode</a></li>\n",
    "<ol><li><a class=\"\" href=\"#Why-Strict-Mode?\">Why Strict Mode?</a></li>\n",
    "<li><a class=\"\" href=\"#Changes-in-Strict-Mode\">Changes in Strict Mode</a></li>\n",
    "</ol><li><a class=\"\" href=\"#Template-Literals\">Template Literals</a></li>\n",
    "<ol><li><a class=\"\" href=\"#Usefulness-of-Template-Literals\">Usefulness of Template Literals</a></li>\n",
    "</ol><li><a class=\"\" href=\"#Ternary-Operator\">Ternary Operator</a></li>\n",
    "<li><a class=\"\" href=\"#Variables\">Variables</a></li>\n",
    "<ol><li><a class=\"\" href=\"#Variable-Assignment\">Variable Assignment</a></li>\n",
    "<li><a class=\"\" href=\"#Variable-Reassignment\">Variable Reassignment</a></li>\n",
    "</ol>\n"
   ]
  },
  {
   "cell_type": "markdown",
   "metadata": {},
   "source": [
    "# Arrays"
   ]
  },
  {
   "cell_type": "markdown",
   "metadata": {},
   "source": [
    "## Accessing Elements"
   ]
  },
  {
   "cell_type": "markdown",
   "metadata": {},
   "source": [
    "You can get elements out of arrays if you know their index. Array elements’ indices start at 0 and increment by 1. Syntax is\n",
    "``` javascript\n",
    "array[index]\n",
    "```\n",
    "where `array` is the array and `index` is the index of the element you want to get."
   ]
  },
  {
   "cell_type": "code",
   "execution_count": null,
   "metadata": {
    "vscode": {
     "languageId": "javascript"
    }
   },
   "outputs": [],
   "source": [
    "var primes = [2, 3, 5, 7, 11, 13, 17, 19, 23, 29, 31, 37];\n",
    "primes[0]; // 2\n",
    "primes[3]; // 7\n",
    "primes[150]; // undefined"
   ]
  },
  {
   "cell_type": "markdown",
   "metadata": {},
   "source": [
    "## Array literals"
   ]
  },
  {
   "cell_type": "markdown",
   "metadata": {},
   "source": [
    "You can create arrays in two different ways. The most common of which is to list values in a pair of square brackets. JavaScript arrays can contain any types of values and they can be of mixed types.\n",
    "\n",
    "``` javascript\n",
    "const arrayName = [element0, element1, ..., elementN]\n",
    "```"
   ]
  },
  {
   "cell_type": "code",
   "execution_count": null,
   "metadata": {
    "vscode": {
     "languageId": "javascript"
    }
   },
   "outputs": [],
   "source": [
    "const primes = [2, 3, 5, 7, 11, 13, 17, 19, 23, 29, 31, 37];"
   ]
  },
  {
   "cell_type": "markdown",
   "metadata": {},
   "source": [
    "## Array constructor"
   ]
  },
  {
   "cell_type": "markdown",
   "metadata": {},
   "source": [
    "You can also create an array using the Array constructor."
   ]
  },
  {
   "cell_type": "code",
   "execution_count": null,
   "metadata": {
    "vscode": {
     "languageId": "javascript"
    }
   },
   "outputs": [],
   "source": [
    "const stuff = new Array();\n",
    "\n",
    "stuff[0] = 34;\n",
    "stuff[4] = 20;\n",
    "\n",
    "stuff;\n",
    "// [34, undefined, undefined, undefined, 20]"
   ]
  },
  {
   "cell_type": "markdown",
   "metadata": {},
   "source": [
    "# Booleans"
   ]
  },
  {
   "cell_type": "markdown",
   "metadata": {},
   "source": [
    "## “Truthy” and “Falsy”"
   ]
  },
  {
   "cell_type": "markdown",
   "metadata": {},
   "source": [
    "Only Boolean literals (true and false) assert truth or false, but there are some other ways too to derive true or false. See the example below:"
   ]
  },
  {
   "cell_type": "code",
   "execution_count": null,
   "metadata": {
    "vscode": {
     "languageId": "javascript"
    }
   },
   "outputs": [],
   "source": [
    "if (1) {\n",
    "  // Output 'True!', since any non-zero number is considered to be true\n",
    "  console.log(\"True!\");\n",
    "}\n",
    "\n",
    "if (0) {\n",
    "  // Not executed, since 0 evaluates to falsy\n",
    "  console.log(\"I doubt if this gets executed\");\n",
    "}\n",
    "\n",
    "if (\"Hello\") {\n",
    "  // Gets executed because non-empty strings are truthy\n",
    "  console.log(\"So, any non-empty String is also true.\");\n",
    "}\n",
    "\n",
    "if (\"\") {\n",
    "  // Not executed\n",
    "  console.log(\"Hence , an empty String is false\");\n",
    "}\n"
   ]
  },
  {
   "cell_type": "markdown",
   "metadata": {},
   "source": [
    "## == vs. ==="
   ]
  },
  {
   "cell_type": "markdown",
   "metadata": {},
   "source": [
    "A simple explanation would be that `==` does just value checking (no type checking ), whereas, `===` does both value checking and type checking. Seeing the examples may make it all clear."
   ]
  },
  {
   "cell_type": "code",
   "execution_count": null,
   "metadata": {
    "vscode": {
     "languageId": "javascript"
    }
   },
   "outputs": [],
   "source": [
    "\"1\" == 1; // true (same value)\n",
    "\"1\" === 1; // false (not the same type)\n",
    "\n",
    "true == 1; // true (because 1 evaluates as truthy, though it's not the same type)\n",
    "true === 1; // false (not the same type)\n"
   ]
  },
  {
   "cell_type": "markdown",
   "metadata": {},
   "source": [
    "# Functions"
   ]
  },
  {
   "cell_type": "markdown",
   "metadata": {},
   "source": [
    "A function is a JavaScript procedure—a set of statements that performs a task or calculates a value.It is like a reusable piece of code. To use a function, you must define it somewhere in the scope from which you wish to call it. A function definition (also called a function declaration) consists of the function keyword, followed by the name of the function, a list of arguments to the function, enclosed in parentheses and separated by commas, the JavaScript statements that define the function, enclosed in curly braces, `{ }`."
   ]
  },
  {
   "cell_type": "markdown",
   "metadata": {},
   "source": [
    "``` javascript\n",
    "function name(argument1 , argument2, /* ..., argumentN */){\n",
    "  statement1;\n",
    "  statement2;\n",
    "  // ... \n",
    "  statementN;\n",
    "} \n",
    "```"
   ]
  },
  {
   "cell_type": "code",
   "execution_count": null,
   "metadata": {
    "vscode": {
     "languageId": "javascript"
    }
   },
   "outputs": [],
   "source": [
    "function greet(name) {\n",
    "  return \"Hello\" + name + \"!\";\n",
    "}\n"
   ]
  },
  {
   "cell_type": "markdown",
   "metadata": {},
   "source": [
    "## Function hoisting"
   ]
  },
  {
   "cell_type": "markdown",
   "metadata": {},
   "source": [
    "The two ways of declaring functions produce different results. Declaring a function one way “hoists” it to the top of the call, and makes it available before it’s actually defined."
   ]
  },
  {
   "cell_type": "code",
   "execution_count": null,
   "metadata": {
    "vscode": {
     "languageId": "javascript"
    }
   },
   "outputs": [],
   "source": [
    "hoistedFunction(); // Hello! I am defined immediately!\n",
    "notHoistedFunction(); // ReferenceError: notHoistedFunction is not defined\n",
    "\n",
    "function hoistedFunction() {\n",
    "  console.log(\"Hello! I am defined immediately!\");\n",
    "}\n",
    "\n",
    "var notHoistedFunction = function () {\n",
    "  console.log(\"I am not defined immediately.\");\n",
    "};\n"
   ]
  },
  {
   "cell_type": "markdown",
   "metadata": {},
   "source": [
    "## Arrow Functions"
   ]
  },
  {
   "cell_type": "markdown",
   "metadata": {},
   "source": [
    "The syntax for an arrow function expression does not require the `function` keyword and uses a fat arrow `=>` to separate the parameter(s) from the body."
   ]
  },
  {
   "cell_type": "markdown",
   "metadata": {},
   "source": [
    "There are several variations of arrow functions:\n",
    "* Arrow functions with a single parameter do not require () around the parameter list.\n",
    "* Arrow functions with a single expression can use the concise function body which returns the result of the expression without the return keyword."
   ]
  },
  {
   "cell_type": "code",
   "execution_count": null,
   "metadata": {
    "vscode": {
     "languageId": "javascript"
    }
   },
   "outputs": [],
   "source": [
    "// Arrow function with two arguments\n",
    "const sum = (firstParam, secondParam) => {\n",
    "  return firstParam + secondParam;\n",
    "};\n",
    "console.log(sum(2, 5)); // Prints: 7\n",
    "\n",
    "// Arrow function with no arguments\n",
    "const printHello = () => {\n",
    "  console.log(\"hello\");\n",
    "};\n",
    "printHello(); // Prints: hello\n",
    "\n",
    "// Arrow functions with a single argument\n",
    "const checkWeight = (weight) => {\n",
    "  console.log(`Baggage weight : ${weight} kilograms.`);\n",
    "};\n",
    "checkWeight(25); // Prints: Baggage weight : 25 kilograms.\n",
    "\n",
    "// Concise arrow functions\n",
    "const multiply = (a, b) => a * b;\n",
    "console.log(multiply(2, 30)); // Prints: 60\n"
   ]
  },
  {
   "cell_type": "markdown",
   "metadata": {},
   "source": [
    "## Anonymous Functions"
   ]
  },
  {
   "cell_type": "markdown",
   "metadata": {},
   "source": [
    "Anonymous functions in JavaScript do not have a name property. They can be defined using the `function` keyword, or as an arrow function. See the code example for the difference between a named function and an anonymous function.\n"
   ]
  },
  {
   "cell_type": "code",
   "execution_count": null,
   "metadata": {
    "vscode": {
     "languageId": "javascript"
    }
   },
   "outputs": [],
   "source": [
    "// Named function\n",
    "function rocketToMars() {\n",
    "  return \"BOOM!\";\n",
    "}\n",
    "\n",
    "// Anonymous function\n",
    "const rocketToMars = function () {\n",
    "  return \"BOOM!\";\n",
    "};"
   ]
  },
  {
   "cell_type": "markdown",
   "metadata": {},
   "source": [
    "# If statement"
   ]
  },
  {
   "cell_type": "markdown",
   "metadata": {},
   "source": [
    "## If"
   ]
  },
  {
   "cell_type": "markdown",
   "metadata": {},
   "source": [
    "It simply states that if this condition is true, do this, else do something else (or nothing). It occurs in varied forms.\n",
    "``` javascript\n",
    "// Form : Single If\n",
    "if (condition) {\n",
    "  // code that runs if the condition is true\n",
    "}\n",
    "```"
   ]
  },
  {
   "cell_type": "markdown",
   "metadata": {},
   "source": [
    "## else"
   ]
  },
  {
   "cell_type": "markdown",
   "metadata": {},
   "source": [
    "A fallback to an if statement. This will only get executed if the previous statement did not.\n",
    "\n",
    "``` javascript\n",
    "// If the condition is true, statement1 will be executed.\n",
    "// Otherwise, statement2 will be executed.\n",
    "\n",
    "if (condition) {\n",
    "  // statement1: code that runs if condition is true\n",
    "} else {\n",
    "  // statement2: code that runs if condition is false\n",
    "}\n",
    "```"
   ]
  },
  {
   "cell_type": "markdown",
   "metadata": {},
   "source": [
    "## else if"
   ]
  },
  {
   "cell_type": "markdown",
   "metadata": {},
   "source": [
    "This is like an else statement, but with its own condition. It will only run if its condition is true, and the previous statement’s condition was false.\n",
    "\n",
    "``` javascript\n",
    "// Form : else if. If the condition is true, statement1 will be executed. Otherwise, condition2 is checked. if it is true, then statement2 is executed. Else, if nothing is true, statement3 is executed.\n",
    "if (condition1) {\n",
    "  statement1;\n",
    "} else if (condition2) {\n",
    "  statement2;\n",
    "} else {\n",
    "  statement3;\n",
    "}\n",
    "```"
   ]
  },
  {
   "cell_type": "markdown",
   "metadata": {},
   "source": [
    "## Switch statements"
   ]
  },
  {
   "cell_type": "markdown",
   "metadata": {},
   "source": [
    "Acts like a big if / else if / else chain. Checks a value against a list of cases, and executes the first case that is true. It goes on executing all other cases it finds after the first true case till it finds a breaking statement, after which it breaks out of the switch If it does not find any matching case, it executes the default case.\n",
    "\n"
   ]
  },
  {
   "cell_type": "markdown",
   "metadata": {},
   "source": [
    "``` javascript\n",
    "switch (expression) {\n",
    "  case label1:\n",
    "    statements1;\n",
    "    break;\n",
    "  case label2\n",
    "    statements2;\n",
    "    break;\n",
    "  ...\n",
    "  case labelN:\n",
    "    statementsN;\n",
    "    break;\n",
    "  default:\n",
    "    defaultStatement;\n",
    "    break;\n",
    "}\n",
    "```"
   ]
  },
  {
   "cell_type": "code",
   "execution_count": null,
   "metadata": {
    "vscode": {
     "languageId": "javascript"
    }
   },
   "outputs": [],
   "source": [
    "const weather = \"clear\";\n",
    "\n",
    "switch (weather) {\n",
    "  case \"clear\":\n",
    "    console.log(\"Beautiful day!\");\n",
    "  case \"cloudy\":\n",
    "    console.log(\"I wish the sun were out!\");\n",
    "  default:\n",
    "    console.log(\"Some weather, huh?\");\n",
    "}\n",
    "\n",
    "// Because there are no breaks, all three statements will be logged\n"
   ]
  },
  {
   "cell_type": "markdown",
   "metadata": {},
   "source": [
    "# Loops"
   ]
  },
  {
   "cell_type": "markdown",
   "metadata": {},
   "source": [
    "## For Loops"
   ]
  },
  {
   "cell_type": "markdown",
   "metadata": {},
   "source": [
    "You use `for` loops, if you know how often you’ll loop. The most often used varName in loops is `i`.\n",
    "    \n",
    "``` javascript\n",
    "    for ([let i = startValue]; [i < endValue]; [i+=stepValue]) {\n",
    "  // Loop code here\n",
    "}\n",
    "```"
   ]
  },
  {
   "cell_type": "code",
   "execution_count": null,
   "metadata": {
    "vscode": {
     "languageId": "javascript"
    }
   },
   "outputs": [],
   "source": [
    "for (let i = 0; i < 5; i++) {\n",
    "  console.log(i); // Prints the numbers from 0 to 4\n",
    "}\n",
    "\n",
    "let i; // 'outsourcing' the definition\n",
    "for (i = 10; i >= 1; i--) {\n",
    "  console.log(i); // Prints the numbers from 10 to 1\n",
    "}\n",
    "\n",
    "/* Note that all of the three statements are optional, i.e. , */\n",
    "let i = 9;\n",
    "// This loop is perfectly valid:\n",
    "for(;;){\n",
    "    if(i === 0) {\n",
    "      break;\n",
    "    }\n",
    "    console.log(i);\n",
    "    i--;\n",
    "}"
   ]
  },
  {
   "cell_type": "markdown",
   "metadata": {},
   "source": [
    "### Looping Through Arrays"
   ]
  },
  {
   "cell_type": "markdown",
   "metadata": {},
   "source": [
    "An array’s length can be evaluated with the `.length` property. This is extremely helpful for looping through arrays, as the `.length` of the array can be used as the stopping condition in the loop."
   ]
  },
  {
   "cell_type": "code",
   "execution_count": null,
   "metadata": {
    "vscode": {
     "languageId": "javascript"
    }
   },
   "outputs": [],
   "source": [
    "for (let i = 0; i < array.length; i++) {\n",
    "  console.log(array[i]);\n",
    "}\n",
    "\n",
    "// Output: Every item in the array\n"
   ]
  },
  {
   "cell_type": "markdown",
   "metadata": {},
   "source": [
    "### forEach()"
   ]
  },
  {
   "cell_type": "markdown",
   "metadata": {},
   "source": [
    "This is another way to loop through arrays. It is a method of the array object. It takes a callback function as an argument. The callback function takes three arguments: the current element, the current index, and the array itself. The callback function is executed for each element in the array."
   ]
  },
  {
   "cell_type": "markdown",
   "metadata": {},
   "source": [
    "Syntax is:\n",
    "``` javascript\n",
    "// Arrow function\n",
    "forEach((element) => { /* … */ })\n",
    "forEach((element, index) => { /* … */ })\n",
    "forEach((element, index, array) => { /* … */ })\n",
    "\n",
    "// Callback function\n",
    "forEach(callbackFn)\n",
    "forEach(callbackFn, thisArg)\n",
    "\n",
    "// Inline callback function\n",
    "forEach(function(element) { /* … */ })\n",
    "forEach(function(element, index) { /* … */ })\n",
    "forEach(function(element, index, array){ /* … */ })\n",
    "forEach(function(element, index, array) { /* … */ }, thisArg)\n",
    "```"
   ]
  },
  {
   "cell_type": "code",
   "execution_count": null,
   "metadata": {
    "vscode": {
     "languageId": "javascript"
    }
   },
   "outputs": [],
   "source": [
    "const arraySparse = [1, 3 /* empty */, , 7];\n",
    "let numCallbackRuns = 0;\n",
    "\n",
    "arraySparse.forEach((element) => {\n",
    "  console.log({ element });\n",
    "  numCallbackRuns++;\n",
    "});\n",
    "\n",
    "console.log({ numCallbackRuns });\n",
    "\n",
    "// { element: 1 }\n",
    "// { element: 3 }\n",
    "// { element: 7 }\n",
    "// { numCallbackRuns: 3 }\n"
   ]
  },
  {
   "cell_type": "markdown",
   "metadata": {},
   "source": [
    "Here is an example of converting `for` loop to `forEach` loop:"
   ]
  },
  {
   "cell_type": "code",
   "execution_count": null,
   "metadata": {
    "vscode": {
     "languageId": "javascript"
    }
   },
   "outputs": [],
   "source": [
    "const items = [\"item1\", \"item2\", \"item3\"];\n",
    "const copyItems = [];\n",
    "\n",
    "// before\n",
    "for (let i = 0; i < items.length; i++) {\n",
    "  copyItems.push(items[i]);\n",
    "}\n",
    "\n",
    "// after\n",
    "items.forEach((item) => {\n",
    "  copyItems.push(item);\n",
    "});\n"
   ]
  },
  {
   "cell_type": "markdown",
   "metadata": {},
   "source": [
    "## While Loops"
   ]
  },
  {
   "cell_type": "markdown",
   "metadata": {},
   "source": [
    "You use while loops, if you don’t know how often you’ll loop.\n",
    "\n",
    "``` javascript\n",
    "while (condition) {\n",
    "  // Your code here\n",
    "}\n",
    "```"
   ]
  },
  {
   "cell_type": "code",
   "execution_count": null,
   "metadata": {
    "vscode": {
     "languageId": "javascript"
    }
   },
   "outputs": [],
   "source": [
    "let x = 0;\n",
    "while (x < 5) {\n",
    "  console.log(x); // Prints numbers from 0 to 4\n",
    "  x++;\n",
    "}\n",
    "\n",
    "let x = 10;\n",
    "while (x <= 5) {\n",
    "  console.log(x); // Won't be executed\n",
    "  x++;\n",
    "}"
   ]
  },
  {
   "cell_type": "markdown",
   "metadata": {},
   "source": [
    "### Do While Loops"
   ]
  },
  {
   "cell_type": "markdown",
   "metadata": {},
   "source": [
    "You use do while loops, if you have to loop at least once, but if you don’t know how often.\n",
    "``` javascript\n",
    "do {\n",
    "  // Your code here\n",
    "} while (condition);\n",
    "```"
   ]
  },
  {
   "cell_type": "code",
   "execution_count": null,
   "metadata": {
    "vscode": {
     "languageId": "javascript"
    }
   },
   "outputs": [],
   "source": [
    "let x = 0;\n",
    "do {\n",
    "  console.log(x); // Prints numbers from 0 to 4\n",
    "  x++;\n",
    "} while (x < 5);\n",
    "\n",
    "let x = 10;\n",
    "do {\n",
    "  console.log(x); // Prints 10\n",
    "  x++;\n",
    "} while (x <= 5);\n"
   ]
  },
  {
   "cell_type": "markdown",
   "metadata": {},
   "source": [
    "# Objects"
   ]
  },
  {
   "cell_type": "markdown",
   "metadata": {},
   "source": [
    "An object is a built-in data type for storing key-value pairs. Data inside objects are unordered, and the values can be of any type.\n",
    "``` javascript\n",
    "{\n",
    "  'property 1': value1,\n",
    "  property2: value2,\n",
    "  number: value3\n",
    "}\n",
    "```"
   ]
  },
  {
   "cell_type": "code",
   "execution_count": null,
   "metadata": {
    "vscode": {
     "languageId": "javascript"
    }
   },
   "outputs": [],
   "source": [
    "var obj = {\n",
    "  name: \"Bob\",\n",
    "  married: true,\n",
    "  \"mother's name\": \"Alice\",\n",
    "  \"year of birth\": 1987,\n",
    "  getAge: function () {\n",
    "    return 2012 - obj[\"year of birth\"];\n",
    "  },\n",
    "  1: \"one\",\n",
    "};\n"
   ]
  },
  {
   "cell_type": "markdown",
   "metadata": {},
   "source": [
    "## JavaScript Objects are Mutable"
   ]
  },
  {
   "cell_type": "markdown",
   "metadata": {},
   "source": [
    "JavaScript objects are mutable, meaning their contents can be changed, even when they are declared as `const`. New properties can be added, and existing property values can be changed or deleted.\n",
    "\n",
    "It is the reference to the object, bound to the variable, that cannot be changed."
   ]
  },
  {
   "cell_type": "code",
   "execution_count": null,
   "metadata": {
    "vscode": {
     "languageId": "javascript"
    }
   },
   "outputs": [],
   "source": [
    "const student = {\n",
    "  name: \"Sheldon\",\n",
    "  score: 100,\n",
    "  grade: \"A\",\n",
    "};\n",
    "\n",
    "console.log(student);\n",
    "// { name: 'Sheldon', score: 100, grade: 'A' }\n",
    "\n",
    "delete student.score;\n",
    "student.grade = \"F\";\n",
    "console.log(student);\n",
    "// { name: 'Sheldon', grade: 'F' }\n",
    "\n",
    "student = {};\n",
    "// TypeError: Assignment to constant variable.\n"
   ]
  },
  {
   "cell_type": "markdown",
   "metadata": {},
   "source": [
    "## Dot Notation for Accessing Object Properties"
   ]
  },
  {
   "cell_type": "markdown",
   "metadata": {},
   "source": [
    "Properties of a JavaScript object can be accessed using the dot notation in this manner: `object.propertyName`. Nested properties of an object can be accessed by chaining key names in the correct order."
   ]
  },
  {
   "cell_type": "markdown",
   "metadata": {},
   "source": [
    "``` javascript\n",
    "const apple = { \n",
    "  color: 'Green',\n",
    "  price: {\n",
    "    bulk: '$3/kg',\n",
    "    smallQty: '$4/kg'\n",
    "  }\n",
    "};\n",
    "console.log(apple.color); // 'Green'\n",
    "console.log(apple.price.bulk); // '$3/kg'\n",
    "\n",
    "```"
   ]
  },
  {
   "cell_type": "markdown",
   "metadata": {},
   "source": [
    "Objects can also be accessed using bracket notation. \n",
    "\n",
    "``` javascript\n",
    "obj['name'];  // 'Bob'\n",
    "obj['age'];   // 30\n",
    "```"
   ]
  },
  {
   "cell_type": "markdown",
   "metadata": {},
   "source": [
    "## JavaScript for...in loop"
   ]
  },
  {
   "cell_type": "markdown",
   "metadata": {},
   "source": [
    "The JavaScript `for...in` loop can be used to iterate over the keys of an object. In each iteration, one of the properties from the object is assigned to the variable of that loop."
   ]
  },
  {
   "cell_type": "markdown",
   "metadata": {},
   "source": [
    "``` javascript\n",
    "let mobile = {\n",
    "  brand: 'Samsung',\n",
    "  model: 'Galaxy Note 9'\n",
    "};\n",
    "\n",
    "for (let key in mobile) {\n",
    "  console.log(`${key}: ${mobile[key]}`);\n",
    "}\n",
    "```"
   ]
  },
  {
   "cell_type": "markdown",
   "metadata": {},
   "source": [
    "# OOP"
   ]
  },
  {
   "cell_type": "markdown",
   "metadata": {},
   "source": [
    "## Classes"
   ]
  },
  {
   "cell_type": "markdown",
   "metadata": {},
   "source": [
    "A class can be thought of as a template to create many objects with similar qualities. Classes are a fundamental component of object-oriented programming (OOP). The basic syntax is\n",
    "``` javascript\n",
    "SubClass.prototype = new SuperClass();\n",
    "```"
   ]
  },
  {
   "cell_type": "markdown",
   "metadata": {},
   "source": [
    "``` javascript\n",
    "const Lieutenant = function (age) {\n",
    "  this.rank = 'Lieutenant';\n",
    "  this.age = age;\n",
    "};\n",
    "\n",
    "Lieutenant.prototype = new PoliceOfficer();\n",
    "\n",
    "Lieutenant.prototype.getRank = function () {\n",
    "  return this.rank;\n",
    "};\n",
    "\n",
    "const John = new Lieutenant(67);\n",
    "\n",
    "John.getJob(); // 'Police Officer'\n",
    "John.getRank(); // 'Lieutenant'\n",
    "John.retire(); // true\n",
    "```"
   ]
  },
  {
   "cell_type": "markdown",
   "metadata": {},
   "source": [
    "## Creating Class"
   ]
  },
  {
   "cell_type": "markdown",
   "metadata": {},
   "source": [
    "Use the keyword `class` to create a class. Always add a method named `constructor()`:\n",
    "``` javascript\n",
    "class ClassName {\n",
    "  constructor() { ... }\n",
    "}\n",
    "```"
   ]
  },
  {
   "cell_type": "markdown",
   "metadata": {},
   "source": [
    "For example:\n",
    "``` javascript\n",
    "class Car {\n",
    "  constructor(name, year) {\n",
    "    this.name = name;\n",
    "    this.year = year;\n",
    "  }\n",
    "}\n",
    "```"
   ]
  },
  {
   "cell_type": "markdown",
   "metadata": {},
   "source": [
    "When you have a class, you can use the class to create objects:\n",
    "``` javascript\n",
    "let myCar1 = new Car(\"Ford\", 2014);\n",
    "let myCar2 = new Car(\"Audi\", 2019);\n",
    "```\n"
   ]
  },
  {
   "cell_type": "markdown",
   "metadata": {},
   "source": [
    "### The Constructor Method"
   ]
  },
  {
   "cell_type": "markdown",
   "metadata": {},
   "source": [
    "The constructor method is a special method:\n",
    "\n",
    "* It has to have the exact name \"constructor\"\n",
    "* It is executed automatically when a new object is created\n",
    "* It is used to initialize object properties\n",
    "\n",
    "If you do not define a constructor method, JavaScript will add an empty constructor method."
   ]
  },
  {
   "cell_type": "markdown",
   "metadata": {},
   "source": [
    "### Class Methods"
   ]
  },
  {
   "cell_type": "markdown",
   "metadata": {},
   "source": [
    "Class methods are created with the same syntax as object methods.\n",
    "``` javascript\n",
    "class ClassName {\n",
    "  constructor() { ... }\n",
    "  method_1() { ... }\n",
    "  method_2() { ... }\n",
    "  method_3() { ... }\n",
    "}\n",
    "`"
   ]
  },
  {
   "cell_type": "markdown",
   "metadata": {},
   "source": [
    "Here is an example:"
   ]
  },
  {
   "cell_type": "markdown",
   "metadata": {},
   "source": [
    "``` javascript\n",
    "class Car {\n",
    "  constructor(name, year) {\n",
    "    this.name = name;\n",
    "    this.year = year;\n",
    "  }\n",
    "  age() {\n",
    "    let date = new Date();\n",
    "    return date.getFullYear() - this.year;\n",
    "  }\n",
    "}\n",
    "\n",
    "let myCar = new Car(\"Ford\", 2014);\n",
    "console.log(myCar.age()); // 8\n",
    "```"
   ]
  },
  {
   "cell_type": "markdown",
   "metadata": {},
   "source": [
    "# Spread Operator"
   ]
  },
  {
   "cell_type": "markdown",
   "metadata": {},
   "source": [
    "Spread syntax `(...)` allows an iterable, such as an array or string, to be expanded in places where zero or more arguments (for function calls) or elements (for array literals) are expected. In an object literal, the spread syntax enumerates the properties of an object and adds the key-value pairs to the object being created."
   ]
  },
  {
   "cell_type": "markdown",
   "metadata": {},
   "source": [
    "```js\n",
    "function sum(x, y, z) {\n",
    "  return x + y + z;\n",
    "}\n",
    "\n",
    "const numbers = [1, 2, 3];\n",
    "\n",
    "console.log(sum(...numbers));\n",
    "// expected output: 6\n",
    "\n",
    "console.log(sum.apply(null, numbers));\n",
    "// expected output: 6\n",
    "```"
   ]
  },
  {
   "cell_type": "markdown",
   "metadata": {},
   "source": [
    "Here is another example used to copy an array:\n",
    "```js\n",
    "const arr = [1, 2, 3];\n",
    "const arr2 = [...arr]; // like arr.slice()\n",
    "\n",
    "arr2.push(4);\n",
    "//  arr2 becomes [1, 2, 3, 4]\n",
    "//  arr remains unaffected\n",
    "```"
   ]
  },
  {
   "cell_type": "markdown",
   "metadata": {},
   "source": [
    "Concatenating arrays:\n",
    "```js\n",
    "let arr1 = [0, 1, 2];\n",
    "const arr2 = [3, 4, 5];\n",
    "\n",
    "arr1 = [...arr1, ...arr2];\n",
    "// arr1 is now [0, 1, 2, 3, 4, 5]\n",
    "```"
   ]
  },
  {
   "cell_type": "markdown",
   "metadata": {},
   "source": [
    "# Strict Mode"
   ]
  },
  {
   "cell_type": "markdown",
   "metadata": {},
   "source": [
    "Strict mode is declared by adding \"use strict\"; to the beginning of a script or a function.\n",
    "\n",
    "Declared at the beginning of a script, it has global scope, however, Declared inside a function, it has local scope."
   ]
  },
  {
   "cell_type": "markdown",
   "metadata": {},
   "source": [
    "```js\n",
    "\"use strict\";\n",
    "x = 3.14;       // This will cause an error because x is not declared\n",
    "```"
   ]
  },
  {
   "cell_type": "markdown",
   "metadata": {},
   "source": [
    "## Why Strict Mode?"
   ]
  },
  {
   "cell_type": "markdown",
   "metadata": {},
   "source": [
    "Strict mode makes it easier to write \"secure\" JavaScript. Strict mode changes previously accepted \"bad syntax\" into real errors. As an example, in normal JavaScript, mistyping a variable name creates a new global variable. In strict mode, this will throw an error, making it impossible to accidentally create a global variable. In normal JavaScript, a developer will not receive any error feedback assigning values to non-writable properties.\n",
    "\n",
    "In strict mode, any assignment to a non-writable property, a getter-only property, a non-existing property, a non-existing variable, or a non-existing object, will throw an error."
   ]
  },
  {
   "cell_type": "markdown",
   "metadata": {},
   "source": [
    "## Changes in Strict Mode"
   ]
  },
  {
   "cell_type": "markdown",
   "metadata": {},
   "source": [
    "Some more examples of code that will throw errors in strict mode:\n",
    "* Deleting a function is not allowed.\n",
    "* Duplicating a parameter name is not allowed.\n",
    "* Octal numeric literals are not allowed.\n",
    "* Writing to a read-only property is not allowed.\n",
    "  ```js\n",
    "    \"use strict\";\n",
    "    const obj = {};\n",
    "    Object.defineProperty(obj, \"x\", {value:0, writable:false});\n",
    "\n",
    "    obj.x = 3.14;            // This will cause an error\n",
    "```"
   ]
  },
  {
   "cell_type": "markdown",
   "metadata": {},
   "source": [
    "Some keywords are reserved for future versions of JavaScript. Using these as variable names will throw an error in strict mode:\n",
    "```js\n",
    "\"use strict\";\n",
    "let arguments = 3.14;    // This will cause an error\n",
    "let eval = 3.14;         // This will cause an error\n",
    "```"
   ]
  },
  {
   "cell_type": "markdown",
   "metadata": {},
   "source": [
    "The `this` keyword in functions behaves differently in strict mode. The `this` keyword refers to the object that called the function.\n",
    "\n",
    "If the object is not specified, functions in strict mode will return `undefined` and functions in normal mode will return the global object (window)"
   ]
  },
  {
   "cell_type": "markdown",
   "metadata": {},
   "source": [
    "# Template Literals"
   ]
  },
  {
   "cell_type": "markdown",
   "metadata": {},
   "source": [
    "Template Literals use back-ticks (``) rather than the quotes (\"\") to define a string:\n",
    "``` javascript\n",
    "let person = `John Doe`;\n",
    "```"
   ]
  },
  {
   "cell_type": "markdown",
   "metadata": {},
   "source": [
    "## Usefulness of Template Literals"
   ]
  },
  {
   "cell_type": "markdown",
   "metadata": {},
   "source": [
    "With template literals, you can use both single and double quotes inside a string:\n",
    "``` javascript\n",
    "let text = `He's often called \"Johnny\"`;\n",
    "```"
   ]
  },
  {
   "cell_type": "markdown",
   "metadata": {},
   "source": [
    "Template literals allows multiline strings:\n",
    "``` javascript\n",
    "let text =\n",
    "`The quick\n",
    "brown fox\n",
    "jumps over\n",
    "the lazy dog`;\n",
    "```"
   ]
  },
  {
   "cell_type": "markdown",
   "metadata": {},
   "source": [
    "Template literals provide an easy way to interpolate variables and expressions into strings. The method is called string interpolation. The syntax is:\n",
    "``` javascript\n",
    "${...}\n",
    "```\n"
   ]
  },
  {
   "cell_type": "markdown",
   "metadata": {},
   "source": [
    "Template literals allow variables in strings:\n",
    "``` javascript\n",
    "let firstName = \"John\";\n",
    "let lastName = \"Doe\";\n",
    "\n",
    "let text = `Welcome ${firstName}, ${lastName}!`;\n",
    "```"
   ]
  },
  {
   "cell_type": "markdown",
   "metadata": {},
   "source": [
    "Template literals allow expressions in strings:\n",
    "``` javascript\n",
    "let price = 10;\n",
    "let VAT = 0.25;\n",
    "\n",
    "let total = `Total: ${(price * (1 + VAT)).toFixed(2)}`;\n",
    "```"
   ]
  },
  {
   "cell_type": "markdown",
   "metadata": {},
   "source": [
    "# Ternary Operator"
   ]
  },
  {
   "cell_type": "markdown",
   "metadata": {},
   "source": [
    "The ternary operator is usually used as a shortcut for the if statement.\n",
    "``` javascript\n",
    "condition ? value1 : value2;\n",
    "```"
   ]
  },
  {
   "cell_type": "markdown",
   "metadata": {},
   "source": [
    "For example:\n",
    "``` javascript\n",
    "const grade = 85;\n",
    "console.log('You ' + (grade > 50 ? 'passed!' : 'failed!'));\n",
    "\n",
    "//Output: You passed!\n",
    "\n",
    "/* The above statement is same as saying:\n",
    "if(grade > 50){\n",
    "  console.log('You ' + 'passed!');  // or simply 'You passed!'\n",
    "}\n",
    "else{\n",
    "    console.log('You ' + 'failed!'); \n",
    "}\n",
    "*/\n",
    "```"
   ]
  },
  {
   "cell_type": "markdown",
   "metadata": {},
   "source": [
    "# Variables"
   ]
  },
  {
   "cell_type": "markdown",
   "metadata": {},
   "source": [
    "## Variable Assignment"
   ]
  },
  {
   "cell_type": "markdown",
   "metadata": {},
   "source": [
    "Most common way to assign a value to a variable is using the `var` keyword:\n",
    "\n",
    "``` javascript\n",
    "var name = value;\n",
    "```"
   ]
  },
  {
   "cell_type": "markdown",
   "metadata": {},
   "source": [
    "For example:\n",
    "``` javascript\n",
    "var x = 1;\n",
    "var myName = 'Bob';\n",
    "var hisName = myName;\n",
    "```"
   ]
  },
  {
   "cell_type": "markdown",
   "metadata": {},
   "source": [
    "Other keywords for variable assignment are `let` and `const`. The difference between `let` and `var` is that `let` is block scoped, while `var` is function scoped. This can be a smaller scope than `var` variables, which are scoped to the function in which they are initialized.\n",
    "\n",
    "``` javascript\n",
    "const dog = true;\n",
    "if (dog) {\n",
    "  let mood = 'happy'\n",
    "}\n",
    "console.log(mood)\n",
    "// Error! mood is scoped to the if block, so it is not defined outside that block.\n",
    "```"
   ]
  },
  {
   "cell_type": "markdown",
   "metadata": {},
   "source": [
    "## Variable Reassignment"
   ]
  },
  {
   "cell_type": "markdown",
   "metadata": {},
   "source": [
    "The same variable can be reassigned a new value using the assignment operator `=`.\n",
    "\n",
    "``` javascript\n",
    "var name = value;\n",
    "```"
   ]
  },
  {
   "cell_type": "markdown",
   "metadata": {},
   "source": [
    "For example:\n",
    "``` javascript\n",
    "// Declare variable and give it value of 'Michael'\n",
    "let name = 'Michael'\n",
    "// Change the value of name to 'Samuel'\n",
    "name = 'Samuel'\n",
    "```"
   ]
  },
  {
   "cell_type": "markdown",
   "metadata": {},
   "source": [
    "However, `const` variables cannot be reassigned and attempting to do so will throw a `TypeError`:\n",
    "\n",
    "``` javascript\n",
    "    // Declare variable and give it value of 'Michael'\n",
    "const name = 'Michael'\n",
    "// Try changing the value of name to 'Samuel'\n",
    "name = 'Samuel'\n",
    "// Throws:\n",
    "// TypeError: Assignment to constant variable.\n",
    "```"
   ]
  }
 ],
 "metadata": {
  "language_info": {
   "name": "python"
  },
  "orig_nbformat": 4
 },
 "nbformat": 4,
 "nbformat_minor": 2
}
