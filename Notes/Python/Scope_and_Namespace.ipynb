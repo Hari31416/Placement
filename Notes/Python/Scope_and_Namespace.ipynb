{
 "cells": [
  {
   "cell_type": "markdown",
   "metadata": {},
   "source": [
    "<h2 id=\"Contents\">Contents<a href=\"#Contents\"></a></h2>\n",
    "        <ol>\n",
    "        <ol><li><a class=\"\" href=\"#Names-and-Scopes-in-Python\">Names and Scopes in Python</a></li>\n",
    "<li><a class=\"\" href=\"#Scope-Implementation-in-Python\">Scope Implementation in Python</a></li>\n",
    "<li><a class=\"\" href=\"#Python-Scopes-and-LEGB-Rule\">Python Scopes and LEGB Rule</a></li>\n",
    "<ol><li><a class=\"\" href=\"#Local-Scope\">Local Scope</a></li>\n",
    "<li><a class=\"\" href=\"#Enclosing-Scope\">Enclosing Scope</a></li>\n",
    "<li><a class=\"\" href=\"#Global-Scope\">Global Scope</a></li>\n",
    "<li><a class=\"\" href=\"#Built-in-Scope\">Built-in Scope</a></li>\n",
    "</ol><li><a class=\"\" href=\"#Modifying-the-Behavior-of-a-Python-Scope\">Modifying the Behavior of a Python Scope</a></li>\n",
    "<ol><li><a class=\"\" href=\"#The-global-Statement\">The global Statement</a></li>\n",
    "<li><a class=\"\" href=\"#The-nonlocal-Statement\">The nonlocal Statement</a></li>\n",
    "</ol><li><a class=\"\" href=\"#Some-Unusual-Python-Scope-Behavior\">Some Unusual Python Scope Behavior</a></li>\n",
    "<ol><li><a class=\"\" href=\"#Comprehension-Variables-Scope\">Comprehension Variables Scope</a></li>\n",
    "<li><a class=\"\" href=\"#Exception-Variables-Scope\">Exception Variables Scope</a></li>\n",
    "<li><a class=\"\" href=\"#Class-and-Instance-Attributes-Scope\">Class and Instance Attributes Scope</a></li>\n",
    "</ol><li><a class=\"\" href=\"#Scope-Related-Built-In-Functions\">Scope Related Built-In Functions</a></li>\n",
    "<ol><li><a class=\"\" href=\"#globals()\">globals()</a></li>\n",
    "<li><a class=\"\" href=\"#locals()\">locals()</a></li>\n",
    "<li><a class=\"\" href=\"#vars()\">vars()</a></li>\n",
    "</ol><li><a class=\"\" href=\"#Namespaces\">Namespaces</a></li>\n",
    "</ol>"
   ]
  },
  {
   "cell_type": "markdown",
   "metadata": {},
   "source": [
    "In programming, the scope of a name defines the area of a program in which you can unambiguously access that name, such as variables, functions, objects, and so on. A name will only be visible to and accessible by the code in its scope."
   ]
  },
  {
   "cell_type": "markdown",
   "metadata": {},
   "source": [
    "Most commonly, there are two general scopes:\n",
    "\n",
    "1. **Global scope**: The names that you define in this scope are available to all your code.\n",
    "\n",
    "2. **Local scope**: The names that you define in this scope are only available or visible to the code within the scope."
   ]
  },
  {
   "cell_type": "markdown",
   "metadata": {},
   "source": [
    "In Python, the names in your programs will have the scope of the block of code in which you define them. When you can access the value of a given name from someplace in your code, you’ll say that the name is in scope. If you can’t access the name, then you’ll say that the name is out of scope."
   ]
  },
  {
   "cell_type": "markdown",
   "metadata": {},
   "source": [
    "## Names and Scopes in Python"
   ]
  },
  {
   "cell_type": "markdown",
   "metadata": {},
   "source": [
    "Variables in Python come into existence when you first assign them a value. On the other hand, functions and classes are available after you define them using def or class, respectively. Finally, modules exist after you import them. "
   ]
  },
  {
   "cell_type": "markdown",
   "metadata": {},
   "source": [
    "<table class=\"table table-hover\">\n",
    "<thead>\n",
    "<tr>\n",
    "<th>Operation</th>\n",
    "<th>Statement</th>\n",
    "</tr>\n",
    "</thead>\n",
    "<tbody>\n",
    "<tr>\n",
    "<td>Assignments</td>\n",
    "<td><code>x = value</code></td>\n",
    "</tr>\n",
    "<tr>\n",
    "<td>Import operations</td>\n",
    "<td><code>import module</code> or <code>from module import name</code></td>\n",
    "</tr>\n",
    "<tr>\n",
    "<td>Function definitions</td>\n",
    "<td><code>def my_func(): ...</code></td>\n",
    "</tr>\n",
    "<tr>\n",
    "<td>Argument definitions in the context of functions</td>\n",
    "<td><code>def my_func(arg1, arg2,... argN): ...</code></td>\n",
    "</tr>\n",
    "<tr>\n",
    "<td>Class definitions</td>\n",
    "<td><code>class MyClass: ...</code></td>\n",
    "</tr>\n",
    "</tbody>\n",
    "</table>"
   ]
  },
  {
   "cell_type": "markdown",
   "metadata": {},
   "source": [
    "Python uses the location of the name assignment or definition to associate it with a particular scope. In other words, where you assign or define a name in your code determines the scope or visibility of that name.\n",
    "\n",
    "For example, if you assign a value to a name inside a function, then that name will have a **local Python scope**. In contrast, if you assign a value to a name outside of all functions—say, at the top level of a module—then that name will have a **global Python scope**."
   ]
  },
  {
   "cell_type": "markdown",
   "metadata": {},
   "source": [
    "## Scope Implementation in Python"
   ]
  },
  {
   "cell_type": "markdown",
   "metadata": {},
   "source": [
    "Python scopes are implemented as dictionaries that map names to objects. These dictionaries are commonly called namespaces. These are the concrete mechanisms that Python uses to store names. They’re stored in a special attribute called `.__dict__`.\n",
    "\n",
    "Names at the top level of a module are stored in the module’s namespace. In other words, they’re stored in the module’s `.__dict__` attribute. "
   ]
  },
  {
   "cell_type": "code",
   "execution_count": 5,
   "metadata": {},
   "outputs": [
    {
     "data": {
      "text/plain": [
       "dict_keys(['__name__', '__doc__', '__package__', '__loader__', '__spec__', 'addaudithook', 'audit', 'breakpointhook', '_clear_type_cache', '_current_frames', 'displayhook', 'exc_info', 'excepthook', 'exit', 'getdefaultencoding', 'getdlopenflags', 'getallocatedblocks', 'getfilesystemencoding', 'getfilesystemencodeerrors', 'getrefcount', 'getrecursionlimit', 'getsizeof', '_getframe', 'intern', 'is_finalizing', 'setswitchinterval', 'getswitchinterval', 'setdlopenflags', 'setprofile', 'getprofile', 'setrecursionlimit', 'settrace', 'gettrace', 'call_tracing', '_debugmallocstats', 'set_coroutine_origin_tracking_depth', 'get_coroutine_origin_tracking_depth', 'set_asyncgen_hooks', 'get_asyncgen_hooks', 'unraisablehook', 'modules', 'stderr', '__stderr__', '__displayhook__', '__excepthook__', '__breakpointhook__', '__unraisablehook__', 'version', 'hexversion', '_git', '_framework', 'api_version', 'copyright', 'platform', 'maxsize', 'float_info', 'int_info', 'hash_info', 'maxunicode', 'builtin_module_names', 'byteorder', 'abiflags', 'version_info', 'implementation', 'flags', 'float_repr_style', 'thread_info', 'meta_path', 'path_importer_cache', 'path_hooks', 'path', 'executable', '_base_executable', 'prefix', 'base_prefix', 'exec_prefix', 'base_exec_prefix', 'platlibdir', 'pycache_prefix', 'argv', 'warnoptions', '_xoptions', 'dont_write_bytecode', '__stdin__', 'stdin', '__stdout__', 'stdout', '_home', '__interactivehook__', 'ps1', 'ps2', 'ps3', 'last_type', 'last_value', 'last_traceback'])"
      ]
     },
     "execution_count": 5,
     "metadata": {},
     "output_type": "execute_result"
    }
   ],
   "source": [
    "import sys\n",
    "sys.__dict__.keys()"
   ]
  },
  {
   "cell_type": "markdown",
   "metadata": {},
   "source": [
    "If you want to use the name `ps1`, which is defined in sys. If you know how `.__dict__` and namespaces work in Python, then you can reference `ps1` in at least two different ways:\n",
    "\n",
    "1. Using the dot notation on the module’s name in the form module.name\n",
    "2. Using a subscription operation on `.__dict__` in the form module `__dict__['name']`\n"
   ]
  },
  {
   "cell_type": "code",
   "execution_count": 6,
   "metadata": {},
   "outputs": [
    {
     "data": {
      "text/plain": [
       "'In : '"
      ]
     },
     "execution_count": 6,
     "metadata": {},
     "output_type": "execute_result"
    }
   ],
   "source": [
    "sys.ps1"
   ]
  },
  {
   "cell_type": "code",
   "execution_count": 7,
   "metadata": {},
   "outputs": [
    {
     "data": {
      "text/plain": [
       "'In : '"
      ]
     },
     "execution_count": 7,
     "metadata": {},
     "output_type": "execute_result"
    }
   ],
   "source": [
    "sys.__dict__['ps1']"
   ]
  },
  {
   "cell_type": "markdown",
   "metadata": {},
   "source": [
    ">Whenever you use a name, such as a variable or a function name, Python searches through different scope levels (or namespaces) to determine whether the name exists or not. If the name exists, then you’ll always get the first occurrence of it. Otherwise, you’ll get an error. You’ll cover this search mechanism in the next section.\n",
    "\n"
   ]
  },
  {
   "cell_type": "markdown",
   "metadata": {},
   "source": [
    "## Python Scopes and LEGB Rule"
   ]
  },
  {
   "cell_type": "markdown",
   "metadata": {},
   "source": [
    "Python resolves names using the so-called LEGB rule, which is named after the Python scope for names. The letters in LEGB stand for Local, Enclosing, Global, and Built-in. Here is an overview of what these terms mean:"
   ]
  },
  {
   "cell_type": "markdown",
   "metadata": {},
   "source": [
    "### Local Scope"
   ]
  },
  {
   "cell_type": "markdown",
   "metadata": {},
   "source": [
    "**Local (or function) scope** is the code block or body of any Python function or lambda expression. This Python scope contains the names that you define inside the function. These names will only be visible from the code of the function. *It’s created at function call, not at function definition*, so you’ll have as many different local scopes as function calls. This is true even if you call the same function multiple times, or recursively. Each call will result in a new local scope being created."
   ]
  },
  {
   "cell_type": "markdown",
   "metadata": {},
   "source": [
    "By default, parameters and names that you assign inside a function exist only within the function or local scope associated with the function call. When the function returns, the local scope is destroyed and the names are forgotten. "
   ]
  },
  {
   "cell_type": "code",
   "execution_count": 22,
   "metadata": {},
   "outputs": [
    {
     "name": "stdout",
     "output_type": "stream",
     "text": [
      "Hello, there\n"
     ]
    }
   ],
   "source": [
    "def foo(name):\n",
    "    var = \"Hello,\"\n",
    "    print(var, name)\n",
    "foo(\"there\")"
   ]
  },
  {
   "cell_type": "code",
   "execution_count": 23,
   "metadata": {},
   "outputs": [
    {
     "ename": "NameError",
     "evalue": "name 'var' is not defined",
     "output_type": "error",
     "traceback": [
      "\u001b[0;31m---------------------------------------------------------------------------\u001b[0m",
      "\u001b[0;31mNameError\u001b[0m                                 Traceback (most recent call last)",
      "\u001b[1;32m/media/hari31416/Hari_SSD/Users/harik/Desktop/Placement/Notes/Python/Scope_and_Namespace.ipynb Cell 22\u001b[0m in \u001b[0;36m<cell line: 1>\u001b[0;34m()\u001b[0m\n\u001b[0;32m----> <a href='vscode-notebook-cell:/media/hari31416/Hari_SSD/Users/harik/Desktop/Placement/Notes/Python/Scope_and_Namespace.ipynb#X34sZmlsZQ%3D%3D?line=0'>1</a>\u001b[0m var\n",
      "\u001b[0;31mNameError\u001b[0m: name 'var' is not defined"
     ]
    }
   ],
   "source": [
    "var"
   ]
  },
  {
   "cell_type": "code",
   "execution_count": 24,
   "metadata": {},
   "outputs": [
    {
     "ename": "NameError",
     "evalue": "name 'name' is not defined",
     "output_type": "error",
     "traceback": [
      "\u001b[0;31m---------------------------------------------------------------------------\u001b[0m",
      "\u001b[0;31mNameError\u001b[0m                                 Traceback (most recent call last)",
      "\u001b[1;32m/media/hari31416/Hari_SSD/Users/harik/Desktop/Placement/Notes/Python/Scope_and_Namespace.ipynb Cell 23\u001b[0m in \u001b[0;36m<cell line: 1>\u001b[0;34m()\u001b[0m\n\u001b[0;32m----> <a href='vscode-notebook-cell:/media/hari31416/Hari_SSD/Users/harik/Desktop/Placement/Notes/Python/Scope_and_Namespace.ipynb#X61sZmlsZQ%3D%3D?line=0'>1</a>\u001b[0m name\n",
      "\u001b[0;31mNameError\u001b[0m: name 'name' is not defined"
     ]
    }
   ],
   "source": [
    "name"
   ]
  },
  {
   "cell_type": "markdown",
   "metadata": {},
   "source": [
    "Since you can’t access local names from statements that are outside the function, different functions can define objects with the same name. You can avoid name collisions in your programs by properly using the local Python scope. This also makes functions more self-contained and creates maintainable program units. Additionally, since you can’t change local names from remote places in your code, your programs will be easier to debug, read, and modify."
   ]
  },
  {
   "cell_type": "markdown",
   "metadata": {},
   "source": [
    "You can inspect the names and parameters of a function using `.__code__`, which is an attribute that holds information on the function’s internal code. Take a look at the code below:"
   ]
  },
  {
   "cell_type": "code",
   "execution_count": 25,
   "metadata": {},
   "outputs": [
    {
     "data": {
      "text/plain": [
       "('name', 'var')"
      ]
     },
     "execution_count": 25,
     "metadata": {},
     "output_type": "execute_result"
    }
   ],
   "source": [
    "foo.__code__.co_varnames"
   ]
  },
  {
   "cell_type": "code",
   "execution_count": 26,
   "metadata": {},
   "outputs": [
    {
     "data": {
      "text/plain": [
       "1"
      ]
     },
     "execution_count": 26,
     "metadata": {},
     "output_type": "execute_result"
    }
   ],
   "source": [
    "foo.__code__.co_argcount"
   ]
  },
  {
   "cell_type": "code",
   "execution_count": 27,
   "metadata": {},
   "outputs": [
    {
     "data": {
      "text/plain": [
       "(None, 'Hello,')"
      ]
     },
     "execution_count": 27,
     "metadata": {},
     "output_type": "execute_result"
    }
   ],
   "source": [
    "foo.__code__.co_consts"
   ]
  },
  {
   "cell_type": "code",
   "execution_count": 28,
   "metadata": {},
   "outputs": [
    {
     "data": {
      "text/plain": [
       "'foo'"
      ]
     },
     "execution_count": 28,
     "metadata": {},
     "output_type": "execute_result"
    }
   ],
   "source": [
    "foo.__code__.co_name"
   ]
  },
  {
   "cell_type": "markdown",
   "metadata": {},
   "source": [
    "### Enclosing Scope"
   ]
  },
  {
   "cell_type": "markdown",
   "metadata": {},
   "source": [
    "**Enclosing (or nonlocal) scope** is a special scope that only exists for nested functions. If the local scope is an inner or nested function, then the enclosing scope is the scope of the outer or enclosing function. This scope contains the names that you define in the enclosing function. The names in the enclosing scope are visible from the code of the inner and enclosing functions."
   ]
  },
  {
   "cell_type": "code",
   "execution_count": 30,
   "metadata": {},
   "outputs": [
    {
     "name": "stdout",
     "output_type": "stream",
     "text": [
      "Printing from inner: Hello\n",
      "Printing from outer: Hello\n"
     ]
    }
   ],
   "source": [
    "def outer_func():\n",
    "    var = \"Hello\"\n",
    "    def inner_func():\n",
    "        print(f\"Printing from inner: {var}\")\n",
    "    inner_func()\n",
    "    print(f\"Printing from outer: {var}\")\n",
    "outer_func()"
   ]
  },
  {
   "cell_type": "markdown",
   "metadata": {},
   "source": [
    "When you call `outer_func()`, you’re also creating a local scope. The local scope of `outer_func()` is, at the same time, the enclosing scope of `inner_func()`. From inside `inner_func()`, this scope is neither the global scope nor the local scope. It’s a special scope known as the enclosing scope."
   ]
  },
  {
   "cell_type": "markdown",
   "metadata": {},
   "source": [
    "All the names that you create in the enclosing scope are visible from inside `inner_func()`, except for those created after you call `inner_func()`."
   ]
  },
  {
   "cell_type": "code",
   "execution_count": 31,
   "metadata": {},
   "outputs": [
    {
     "name": "stdout",
     "output_type": "stream",
     "text": [
      "Printing from inner: Hello\n"
     ]
    },
    {
     "ename": "NameError",
     "evalue": "free variable 'another_var' referenced before assignment in enclosing scope",
     "output_type": "error",
     "traceback": [
      "\u001b[0;31m---------------------------------------------------------------------------\u001b[0m",
      "\u001b[0;31mNameError\u001b[0m                                 Traceback (most recent call last)",
      "\u001b[1;32m/media/hari31416/Hari_SSD/Users/harik/Desktop/Placement/Notes/Python/Scope_and_Namespace.ipynb Cell 35\u001b[0m in \u001b[0;36m<cell line: 9>\u001b[0;34m()\u001b[0m\n\u001b[1;32m      <a href='vscode-notebook-cell:/media/hari31416/Hari_SSD/Users/harik/Desktop/Placement/Notes/Python/Scope_and_Namespace.ipynb#Y103sZmlsZQ%3D%3D?line=6'>7</a>\u001b[0m     \u001b[39mprint\u001b[39m(\u001b[39mf\u001b[39m\u001b[39m\"\u001b[39m\u001b[39mPrinting from outer: \u001b[39m\u001b[39m{\u001b[39;00mvar\u001b[39m}\u001b[39;00m\u001b[39m\"\u001b[39m)\n\u001b[1;32m      <a href='vscode-notebook-cell:/media/hari31416/Hari_SSD/Users/harik/Desktop/Placement/Notes/Python/Scope_and_Namespace.ipynb#Y103sZmlsZQ%3D%3D?line=7'>8</a>\u001b[0m     another_var \u001b[39m=\u001b[39m \u001b[39m\"\u001b[39m\u001b[39mHmm\u001b[39m\u001b[39m\"\u001b[39m\n\u001b[0;32m----> <a href='vscode-notebook-cell:/media/hari31416/Hari_SSD/Users/harik/Desktop/Placement/Notes/Python/Scope_and_Namespace.ipynb#Y103sZmlsZQ%3D%3D?line=8'>9</a>\u001b[0m outer_func()\n",
      "\u001b[1;32m/media/hari31416/Hari_SSD/Users/harik/Desktop/Placement/Notes/Python/Scope_and_Namespace.ipynb Cell 35\u001b[0m in \u001b[0;36mouter_func\u001b[0;34m()\u001b[0m\n\u001b[1;32m      <a href='vscode-notebook-cell:/media/hari31416/Hari_SSD/Users/harik/Desktop/Placement/Notes/Python/Scope_and_Namespace.ipynb#Y103sZmlsZQ%3D%3D?line=3'>4</a>\u001b[0m     \u001b[39mprint\u001b[39m(\u001b[39mf\u001b[39m\u001b[39m\"\u001b[39m\u001b[39mPrinting from inner: \u001b[39m\u001b[39m{\u001b[39;00mvar\u001b[39m}\u001b[39;00m\u001b[39m\"\u001b[39m)\n\u001b[1;32m      <a href='vscode-notebook-cell:/media/hari31416/Hari_SSD/Users/harik/Desktop/Placement/Notes/Python/Scope_and_Namespace.ipynb#Y103sZmlsZQ%3D%3D?line=4'>5</a>\u001b[0m     \u001b[39mprint\u001b[39m(\u001b[39mf\u001b[39m\u001b[39m\"\u001b[39m\u001b[39mPrinting `another_var` from inner: \u001b[39m\u001b[39m{\u001b[39;00manother_var\u001b[39m}\u001b[39;00m\u001b[39m\"\u001b[39m)\n\u001b[0;32m----> <a href='vscode-notebook-cell:/media/hari31416/Hari_SSD/Users/harik/Desktop/Placement/Notes/Python/Scope_and_Namespace.ipynb#Y103sZmlsZQ%3D%3D?line=5'>6</a>\u001b[0m inner_func()\n\u001b[1;32m      <a href='vscode-notebook-cell:/media/hari31416/Hari_SSD/Users/harik/Desktop/Placement/Notes/Python/Scope_and_Namespace.ipynb#Y103sZmlsZQ%3D%3D?line=6'>7</a>\u001b[0m \u001b[39mprint\u001b[39m(\u001b[39mf\u001b[39m\u001b[39m\"\u001b[39m\u001b[39mPrinting from outer: \u001b[39m\u001b[39m{\u001b[39;00mvar\u001b[39m}\u001b[39;00m\u001b[39m\"\u001b[39m)\n\u001b[1;32m      <a href='vscode-notebook-cell:/media/hari31416/Hari_SSD/Users/harik/Desktop/Placement/Notes/Python/Scope_and_Namespace.ipynb#Y103sZmlsZQ%3D%3D?line=7'>8</a>\u001b[0m another_var \u001b[39m=\u001b[39m \u001b[39m\"\u001b[39m\u001b[39mHmm\u001b[39m\u001b[39m\"\u001b[39m\n",
      "\u001b[1;32m/media/hari31416/Hari_SSD/Users/harik/Desktop/Placement/Notes/Python/Scope_and_Namespace.ipynb Cell 35\u001b[0m in \u001b[0;36mouter_func.<locals>.inner_func\u001b[0;34m()\u001b[0m\n\u001b[1;32m      <a href='vscode-notebook-cell:/media/hari31416/Hari_SSD/Users/harik/Desktop/Placement/Notes/Python/Scope_and_Namespace.ipynb#Y103sZmlsZQ%3D%3D?line=2'>3</a>\u001b[0m \u001b[39mdef\u001b[39;00m \u001b[39minner_func\u001b[39m():\n\u001b[1;32m      <a href='vscode-notebook-cell:/media/hari31416/Hari_SSD/Users/harik/Desktop/Placement/Notes/Python/Scope_and_Namespace.ipynb#Y103sZmlsZQ%3D%3D?line=3'>4</a>\u001b[0m     \u001b[39mprint\u001b[39m(\u001b[39mf\u001b[39m\u001b[39m\"\u001b[39m\u001b[39mPrinting from inner: \u001b[39m\u001b[39m{\u001b[39;00mvar\u001b[39m}\u001b[39;00m\u001b[39m\"\u001b[39m)\n\u001b[0;32m----> <a href='vscode-notebook-cell:/media/hari31416/Hari_SSD/Users/harik/Desktop/Placement/Notes/Python/Scope_and_Namespace.ipynb#Y103sZmlsZQ%3D%3D?line=4'>5</a>\u001b[0m     \u001b[39mprint\u001b[39m(\u001b[39mf\u001b[39m\u001b[39m\"\u001b[39m\u001b[39mPrinting `another_var` from inner: \u001b[39m\u001b[39m{\u001b[39;00manother_var\u001b[39m}\u001b[39;00m\u001b[39m\"\u001b[39m)\n",
      "\u001b[0;31mNameError\u001b[0m: free variable 'another_var' referenced before assignment in enclosing scope"
     ]
    }
   ],
   "source": [
    "def outer_func():\n",
    "    var = \"Hello\"\n",
    "    def inner_func():\n",
    "        print(f\"Printing from inner: {var}\")\n",
    "        print(f\"Printing `another_var` from inner: {another_var}\")\n",
    "    inner_func()\n",
    "    print(f\"Printing from outer: {var}\")\n",
    "    another_var = \"Hmm\"\n",
    "outer_func()"
   ]
  },
  {
   "cell_type": "markdown",
   "metadata": {},
   "source": [
    "Also, you can’t modify names in the enclosing scope from inside a nested function unless you declare them as nonlocal in the nested function."
   ]
  },
  {
   "cell_type": "code",
   "execution_count": 32,
   "metadata": {},
   "outputs": [
    {
     "name": "stdout",
     "output_type": "stream",
     "text": [
      "Printing from inner: There\n",
      "Printing from outer: Hello\n"
     ]
    }
   ],
   "source": [
    "def outer_func():\n",
    "    var = \"Hello\"\n",
    "    def inner_func():\n",
    "        var = \"There\"\n",
    "        print(f\"Printing from inner: {var}\")\n",
    "    inner_func()\n",
    "    print(f\"Printing from outer: {var}\")\n",
    "outer_func()"
   ]
  },
  {
   "cell_type": "markdown",
   "metadata": {},
   "source": [
    "Pyhton creates a new object containing string \"There\" and a new *local* name `var` inside the `inner_func`."
   ]
  },
  {
   "cell_type": "markdown",
   "metadata": {},
   "source": [
    "### Global Scope"
   ]
  },
  {
   "cell_type": "markdown",
   "metadata": {},
   "source": [
    "**Global (or module) scope** is the top-most scope in a Python program, script, or module. This Python scope contains all of the names that you define at the top level of a program or a module. Names in this Python scope are visible from everywhere in your code."
   ]
  },
  {
   "cell_type": "code",
   "execution_count": 14,
   "metadata": {},
   "outputs": [
    {
     "name": "stdout",
     "output_type": "stream",
     "text": [
      "Hello\n"
     ]
    }
   ],
   "source": [
    "global_var = \"Hello\"\n",
    "print(global_var)"
   ]
  },
  {
   "cell_type": "markdown",
   "metadata": {},
   "source": [
    "Internally, Python turns your program’s main script into a module called `__main__` to hold the main program’s execution. The namespace of this module is the main global scope of your program."
   ]
  },
  {
   "cell_type": "code",
   "execution_count": 33,
   "metadata": {},
   "outputs": [
    {
     "data": {
      "text/plain": [
       "'__main__'"
      ]
     },
     "execution_count": 33,
     "metadata": {},
     "output_type": "execute_result"
    }
   ],
   "source": [
    "__name__"
   ]
  },
  {
   "cell_type": "markdown",
   "metadata": {},
   "source": [
    "To inspect the names within your main global scope, you can use `dir()`. If you call `dir()` without arguments, then you’ll get the list of names that live in your current global scope. "
   ]
  },
  {
   "cell_type": "code",
   "execution_count": 1,
   "metadata": {},
   "outputs": [
    {
     "data": {
      "text/plain": [
       "['In',\n",
       " 'Out',\n",
       " '_',\n",
       " '__',\n",
       " '___',\n",
       " '__builtin__',\n",
       " '__builtins__',\n",
       " '__doc__',\n",
       " '__loader__',\n",
       " '__name__',\n",
       " '__package__',\n",
       " '__spec__',\n",
       " '__vsc_ipynb_file__',\n",
       " '_dh',\n",
       " '_i',\n",
       " '_i1',\n",
       " '_ih',\n",
       " '_ii',\n",
       " '_iii',\n",
       " '_oh',\n",
       " 'exit',\n",
       " 'get_ipython',\n",
       " 'os',\n",
       " 'quit',\n",
       " 'sys']"
      ]
     },
     "execution_count": 1,
     "metadata": {},
     "output_type": "execute_result"
    }
   ],
   "source": [
    "dir()"
   ]
  },
  {
   "cell_type": "markdown",
   "metadata": {},
   "source": [
    "Now, if we assign a variable in global scop, it will be added to the above list."
   ]
  },
  {
   "cell_type": "code",
   "execution_count": 2,
   "metadata": {},
   "outputs": [
    {
     "data": {
      "text/plain": [
       "['In',\n",
       " 'Out',\n",
       " '_',\n",
       " '_1',\n",
       " '__',\n",
       " '___',\n",
       " '__builtin__',\n",
       " '__builtins__',\n",
       " '__doc__',\n",
       " '__loader__',\n",
       " '__name__',\n",
       " '__package__',\n",
       " '__spec__',\n",
       " '__vsc_ipynb_file__',\n",
       " '_dh',\n",
       " '_i',\n",
       " '_i1',\n",
       " '_i2',\n",
       " '_ih',\n",
       " '_ii',\n",
       " '_iii',\n",
       " '_oh',\n",
       " 'exit',\n",
       " 'get_ipython',\n",
       " 'os',\n",
       " 'quit',\n",
       " 'sys',\n",
       " 'var']"
      ]
     },
     "execution_count": 2,
     "metadata": {},
     "output_type": "execute_result"
    }
   ],
   "source": [
    "var = 1\n",
    "dir()"
   ]
  },
  {
   "cell_type": "markdown",
   "metadata": {},
   "source": [
    "You can access or reference the value of any global name from any place in your code. This includes functions and classes."
   ]
  },
  {
   "cell_type": "code",
   "execution_count": 4,
   "metadata": {},
   "outputs": [
    {
     "data": {
      "text/plain": [
       "100"
      ]
     },
     "execution_count": 4,
     "metadata": {},
     "output_type": "execute_result"
    }
   ],
   "source": [
    "var = 100\n",
    "def foo():\n",
    "    return var\n",
    "foo()"
   ]
  },
  {
   "cell_type": "markdown",
   "metadata": {},
   "source": [
    "The function `foo` can easily access the global variable `var`. However, you can’t assign global names inside functions unless you explicitly declare them as global names using a global statement.\n",
    "\n",
    "If you try to assign a value to a global name inside a function, then you’ll be creating that name in the function’s local scope, shadowing or overriding the global name. This means that you won’t be able to change most variables that have been defined outside the function from within the function."
   ]
  },
  {
   "cell_type": "code",
   "execution_count": 5,
   "metadata": {},
   "outputs": [
    {
     "ename": "UnboundLocalError",
     "evalue": "local variable 'var' referenced before assignment",
     "output_type": "error",
     "traceback": [
      "\u001b[0;31m---------------------------------------------------------------------------\u001b[0m",
      "\u001b[0;31mUnboundLocalError\u001b[0m                         Traceback (most recent call last)",
      "\u001b[1;32m/media/hari31416/Hari_SSD/Users/harik/Desktop/Placement/Notes/Python/Scope_and_Namespace.ipynb Cell 51\u001b[0m in \u001b[0;36m<cell line: 5>\u001b[0;34m()\u001b[0m\n\u001b[1;32m      <a href='vscode-notebook-cell:/media/hari31416/Hari_SSD/Users/harik/Desktop/Placement/Notes/Python/Scope_and_Namespace.ipynb#Y126sZmlsZQ%3D%3D?line=1'>2</a>\u001b[0m \u001b[39mdef\u001b[39;00m \u001b[39mincrement\u001b[39m():\n\u001b[1;32m      <a href='vscode-notebook-cell:/media/hari31416/Hari_SSD/Users/harik/Desktop/Placement/Notes/Python/Scope_and_Namespace.ipynb#Y126sZmlsZQ%3D%3D?line=2'>3</a>\u001b[0m     var \u001b[39m=\u001b[39m var \u001b[39m+\u001b[39m \u001b[39m1\u001b[39m  \u001b[39m# Try to update a global variable\u001b[39;00m\n\u001b[0;32m----> <a href='vscode-notebook-cell:/media/hari31416/Hari_SSD/Users/harik/Desktop/Placement/Notes/Python/Scope_and_Namespace.ipynb#Y126sZmlsZQ%3D%3D?line=4'>5</a>\u001b[0m increment()\n",
      "\u001b[1;32m/media/hari31416/Hari_SSD/Users/harik/Desktop/Placement/Notes/Python/Scope_and_Namespace.ipynb Cell 51\u001b[0m in \u001b[0;36mincrement\u001b[0;34m()\u001b[0m\n\u001b[1;32m      <a href='vscode-notebook-cell:/media/hari31416/Hari_SSD/Users/harik/Desktop/Placement/Notes/Python/Scope_and_Namespace.ipynb#Y126sZmlsZQ%3D%3D?line=1'>2</a>\u001b[0m \u001b[39mdef\u001b[39;00m \u001b[39mincrement\u001b[39m():\n\u001b[0;32m----> <a href='vscode-notebook-cell:/media/hari31416/Hari_SSD/Users/harik/Desktop/Placement/Notes/Python/Scope_and_Namespace.ipynb#Y126sZmlsZQ%3D%3D?line=2'>3</a>\u001b[0m     var \u001b[39m=\u001b[39m var \u001b[39m+\u001b[39m \u001b[39m1\u001b[39m\n",
      "\u001b[0;31mUnboundLocalError\u001b[0m: local variable 'var' referenced before assignment"
     ]
    }
   ],
   "source": [
    "var = 100 \n",
    "def increment():\n",
    "    var = var + 1  # Try to update a global variable\n",
    "\n",
    "increment()"
   ]
  },
  {
   "cell_type": "markdown",
   "metadata": {},
   "source": [
    "Within `increment()`, you try to increment the global variable, `var`. Since `var` isn’t declared global inside `increment()`, Python creates a new local variable with the same name, `var`, inside the function. In the process, Python realizes that you’re trying to use the local `var` before its first assignment `(var + 1)`, so it raises an `UnboundLocalError`."
   ]
  },
  {
   "cell_type": "markdown",
   "metadata": {},
   "source": [
    "Here is a more interesting example:"
   ]
  },
  {
   "cell_type": "code",
   "execution_count": 6,
   "metadata": {},
   "outputs": [
    {
     "ename": "UnboundLocalError",
     "evalue": "local variable 'var' referenced before assignment",
     "output_type": "error",
     "traceback": [
      "\u001b[0;31m---------------------------------------------------------------------------\u001b[0m",
      "\u001b[0;31mUnboundLocalError\u001b[0m                         Traceback (most recent call last)",
      "\u001b[1;32m/media/hari31416/Hari_SSD/Users/harik/Desktop/Placement/Notes/Python/Scope_and_Namespace.ipynb Cell 54\u001b[0m in \u001b[0;36m<cell line: 6>\u001b[0;34m()\u001b[0m\n\u001b[1;32m      <a href='vscode-notebook-cell:/media/hari31416/Hari_SSD/Users/harik/Desktop/Placement/Notes/Python/Scope_and_Namespace.ipynb#Y132sZmlsZQ%3D%3D?line=2'>3</a>\u001b[0m     \u001b[39mprint\u001b[39m(var)  \u001b[39m# Reference the global variable, var\u001b[39;00m\n\u001b[1;32m      <a href='vscode-notebook-cell:/media/hari31416/Hari_SSD/Users/harik/Desktop/Placement/Notes/Python/Scope_and_Namespace.ipynb#Y132sZmlsZQ%3D%3D?line=3'>4</a>\u001b[0m     var \u001b[39m=\u001b[39m \u001b[39m200\u001b[39m   \u001b[39m# Define a new local variable using the same name, var\u001b[39;00m\n\u001b[0;32m----> <a href='vscode-notebook-cell:/media/hari31416/Hari_SSD/Users/harik/Desktop/Placement/Notes/Python/Scope_and_Namespace.ipynb#Y132sZmlsZQ%3D%3D?line=5'>6</a>\u001b[0m func()\n",
      "\u001b[1;32m/media/hari31416/Hari_SSD/Users/harik/Desktop/Placement/Notes/Python/Scope_and_Namespace.ipynb Cell 54\u001b[0m in \u001b[0;36mfunc\u001b[0;34m()\u001b[0m\n\u001b[1;32m      <a href='vscode-notebook-cell:/media/hari31416/Hari_SSD/Users/harik/Desktop/Placement/Notes/Python/Scope_and_Namespace.ipynb#Y132sZmlsZQ%3D%3D?line=1'>2</a>\u001b[0m \u001b[39mdef\u001b[39;00m \u001b[39mfunc\u001b[39m():\n\u001b[0;32m----> <a href='vscode-notebook-cell:/media/hari31416/Hari_SSD/Users/harik/Desktop/Placement/Notes/Python/Scope_and_Namespace.ipynb#Y132sZmlsZQ%3D%3D?line=2'>3</a>\u001b[0m     \u001b[39mprint\u001b[39m(var)  \u001b[39m# Reference the global variable, var\u001b[39;00m\n\u001b[1;32m      <a href='vscode-notebook-cell:/media/hari31416/Hari_SSD/Users/harik/Desktop/Placement/Notes/Python/Scope_and_Namespace.ipynb#Y132sZmlsZQ%3D%3D?line=3'>4</a>\u001b[0m     var \u001b[39m=\u001b[39m \u001b[39m200\u001b[39m\n",
      "\u001b[0;31mUnboundLocalError\u001b[0m: local variable 'var' referenced before assignment"
     ]
    }
   ],
   "source": [
    "var = 100  # A global variable\n",
    "def func():\n",
    "    print(var)  # Reference the global variable, var\n",
    "    var = 200   # Define a new local variable using the same name, var\n",
    "\n",
    "func()"
   ]
  },
  {
   "cell_type": "markdown",
   "metadata": {},
   "source": [
    "You likely expect to be able to print the global `var` and be able to update `var` later, but again you get an UnboundLocalError. What happens here is that when you run the body of `func()`, Python decides that `var` is a local variable because it’s assigned within the function scope. "
   ]
  },
  {
   "cell_type": "markdown",
   "metadata": {},
   "source": [
    "### Built-in Scope "
   ]
  },
  {
   "cell_type": "markdown",
   "metadata": {},
   "source": [
    "This is a special Python scope that’s created or loaded whenever you run a script or open an interactive session. This scope contains names such as keywords, functions, exceptions, and other attributes that are built into Python. Names in this Python scope are also available from everywhere in your code. It’s automatically loaded by Python when you run a program or script.\n",
    "\n"
   ]
  },
  {
   "cell_type": "code",
   "execution_count": 18,
   "metadata": {},
   "outputs": [
    {
     "ename": "AttributeError",
     "evalue": "Raising an error using built-in scope",
     "output_type": "error",
     "traceback": [
      "\u001b[0;31m---------------------------------------------------------------------------\u001b[0m",
      "\u001b[0;31mAttributeError\u001b[0m                            Traceback (most recent call last)",
      "\u001b[1;32m/media/hari31416/Hari_SSD/Users/harik/Desktop/Placement/Notes/Python/Scope_and_Namespace.ipynb Cell 30\u001b[0m in \u001b[0;36m<cell line: 1>\u001b[0;34m()\u001b[0m\n\u001b[0;32m----> <a href='vscode-notebook-cell:/media/hari31416/Hari_SSD/Users/harik/Desktop/Placement/Notes/Python/Scope_and_Namespace.ipynb#X50sZmlsZQ%3D%3D?line=0'>1</a>\u001b[0m \u001b[39mraise\u001b[39;00m \u001b[39mAttributeError\u001b[39;00m(\u001b[39m\"\u001b[39m\u001b[39mRaising an error using built-in scope\u001b[39m\u001b[39m\"\u001b[39m)\n",
      "\u001b[0;31mAttributeError\u001b[0m: Raising an error using built-in scope"
     ]
    }
   ],
   "source": [
    "raise AttributeError(\"Raising an error using built-in scope\")"
   ]
  },
  {
   "cell_type": "markdown",
   "metadata": {},
   "source": [
    "The built-in scope is a special Python scope that’s implemented as a standard library module named builtins in Python 3.x. All of Python’s built-in objects live in this module. They’re automatically loaded to the built-in scope when you run the Python interpreter. Python searches builtins last in its LEGB lookup, so you get all the names it defines for free. This means that you can use them without importing any module."
   ]
  },
  {
   "cell_type": "markdown",
   "metadata": {},
   "source": [
    "Names available in this scope can be seen by using:"
   ]
  },
  {
   "cell_type": "code",
   "execution_count": 8,
   "metadata": {},
   "outputs": [
    {
     "data": {
      "text/plain": [
       "['FileNotFoundError',\n",
       " 'FloatingPointError',\n",
       " 'FutureWarning',\n",
       " 'GeneratorExit',\n",
       " 'IOError',\n",
       " 'ImportError',\n",
       " 'ImportWarning',\n",
       " 'IndentationError',\n",
       " 'IndexError',\n",
       " 'InterruptedError']"
      ]
     },
     "execution_count": 8,
     "metadata": {},
     "output_type": "execute_result"
    }
   ],
   "source": [
    "dir(__builtins__)[20:30]"
   ]
  },
  {
   "cell_type": "code",
   "execution_count": 9,
   "metadata": {},
   "outputs": [
    {
     "data": {
      "text/plain": [
       "155"
      ]
     },
     "execution_count": 9,
     "metadata": {},
     "output_type": "execute_result"
    }
   ],
   "source": [
    "len(dir(__builtins__))"
   ]
  },
  {
   "cell_type": "code",
   "execution_count": 11,
   "metadata": {},
   "outputs": [
    {
     "name": "stdout",
     "output_type": "stream",
     "text": [
      "155\n",
      "15\n",
      "100\n"
     ]
    }
   ],
   "source": [
    "import builtins\n",
    "print(len(dir(builtins)))\n",
    "print(builtins.sum([1, 2, 3, 4, 5]))\n",
    "print(builtins.pow(10, 2))"
   ]
  },
  {
   "cell_type": "markdown",
   "metadata": {},
   "source": [
    "Even though you can access all of these Python built-in objects for free (without importing anything), you can also explicitly import builtins and access the names using the dot notation."
   ]
  },
  {
   "cell_type": "markdown",
   "metadata": {},
   "source": [
    "You can override or redefine any built-in name in your global scope. If you do so, then keep in mind that this will affect all your code. For example:"
   ]
  },
  {
   "cell_type": "code",
   "execution_count": 12,
   "metadata": {},
   "outputs": [
    {
     "name": "stdout",
     "output_type": "stream",
     "text": [
      "15\n"
     ]
    },
    {
     "ename": "TypeError",
     "evalue": "'int' object is not callable",
     "output_type": "error",
     "traceback": [
      "\u001b[0;31m---------------------------------------------------------------------------\u001b[0m",
      "\u001b[0;31mTypeError\u001b[0m                                 Traceback (most recent call last)",
      "\u001b[1;32m/media/hari31416/Hari_SSD/Users/harik/Desktop/Placement/Notes/Python/Scope_and_Namespace.ipynb Cell 66\u001b[0m in \u001b[0;36m<cell line: 3>\u001b[0;34m()\u001b[0m\n\u001b[1;32m      <a href='vscode-notebook-cell:/media/hari31416/Hari_SSD/Users/harik/Desktop/Placement/Notes/Python/Scope_and_Namespace.ipynb#Y145sZmlsZQ%3D%3D?line=0'>1</a>\u001b[0m \u001b[39mprint\u001b[39m(\u001b[39mabs\u001b[39m(\u001b[39m-\u001b[39m\u001b[39m15\u001b[39m))\n\u001b[1;32m      <a href='vscode-notebook-cell:/media/hari31416/Hari_SSD/Users/harik/Desktop/Placement/Notes/Python/Scope_and_Namespace.ipynb#Y145sZmlsZQ%3D%3D?line=1'>2</a>\u001b[0m \u001b[39mabs\u001b[39m \u001b[39m=\u001b[39m \u001b[39m20\u001b[39m\n\u001b[0;32m----> <a href='vscode-notebook-cell:/media/hari31416/Hari_SSD/Users/harik/Desktop/Placement/Notes/Python/Scope_and_Namespace.ipynb#Y145sZmlsZQ%3D%3D?line=2'>3</a>\u001b[0m \u001b[39mabs\u001b[39;49m(\u001b[39m-\u001b[39;49m\u001b[39m15\u001b[39;49m)\n",
      "\u001b[0;31mTypeError\u001b[0m: 'int' object is not callable"
     ]
    }
   ],
   "source": [
    "print(abs(-15))\n",
    "abs = 20\n",
    "abs(-15)"
   ]
  },
  {
   "cell_type": "markdown",
   "metadata": {},
   "source": [
    "Here, `abs` is overwritten by 20 and you are getting a `TypeError` because abs now holds a reference to an `integer`, which is not callable."
   ]
  },
  {
   "cell_type": "markdown",
   "metadata": {},
   "source": [
    "If you’re experimenting with some code and you accidentally re-assign a built-in name at the interactive prompt, then you can either restart your session or run `del name` to remove the redefinition from your global Python scope. "
   ]
  },
  {
   "cell_type": "code",
   "execution_count": 13,
   "metadata": {},
   "outputs": [
    {
     "data": {
      "text/plain": [
       "15"
      ]
     },
     "execution_count": 13,
     "metadata": {},
     "output_type": "execute_result"
    }
   ],
   "source": [
    "del abs\n",
    "abs(-15)"
   ]
  },
  {
   "cell_type": "markdown",
   "metadata": {},
   "source": [
    "As a quick summary, some of the implications of Python scope are shown in the following table:\n"
   ]
  },
  {
   "cell_type": "markdown",
   "metadata": {},
   "source": [
    ">The LEGB rule is a kind of name lookup procedure, which determines the order in which Python looks up names. For example, if you reference a given name, then Python will look that name up sequentially in the local, enclosing, global, and built-in scope. If the name exists, then you’ll get the first occurrence of it. Otherwise, you’ll get an error."
   ]
  },
  {
   "cell_type": "markdown",
   "metadata": {},
   "source": [
    "<table class=\"table table-hover\">\n",
    "<thead>\n",
    "<tr>\n",
    "<th>Action</th>\n",
    "<th class=\"text-center\">Global Code</th>\n",
    "<th class=\"text-center\">Local Code</th>\n",
    "<th class=\"text-center\">Nested Function Code</th>\n",
    "</tr>\n",
    "</thead>\n",
    "<tbody>\n",
    "<tr>\n",
    "<td>Access or reference names that live in the global scope</td>\n",
    "<td class=\"text-center\">Yes</td>\n",
    "<td class=\"text-center\">Yes</td>\n",
    "<td class=\"text-center\">Yes</td>\n",
    "</tr>\n",
    "<tr>\n",
    "<td>Modify or update names that live in the global scope</td>\n",
    "<td class=\"text-center\">Yes</td>\n",
    "<td class=\"text-center\">No (unless declared <code>global</code>)</td>\n",
    "<td class=\"text-center\">No (unless declared <code>global</code>)</td>\n",
    "</tr>\n",
    "<tr>\n",
    "<td>Access or reference names that live in a local scope</td>\n",
    "<td class=\"text-center\">No</td>\n",
    "<td class=\"text-center\">Yes (its own local scope), No (other local scope)</td>\n",
    "<td class=\"text-center\">Yes (its own local scope), No (other local scope)</td>\n",
    "</tr>\n",
    "<tr>\n",
    "<td>Override names in the built-in scope</td>\n",
    "<td class=\"text-center\">Yes</td>\n",
    "<td class=\"text-center\">Yes (during function execution)</td>\n",
    "<td class=\"text-center\">Yes (during function execution)</td>\n",
    "</tr>\n",
    "<tr>\n",
    "<td>Access or reference names that live in their enclosing scope</td>\n",
    "<td class=\"text-center\">N/A</td>\n",
    "<td class=\"text-center\">N/A</td>\n",
    "<td class=\"text-center\">Yes</td>\n",
    "</tr>\n",
    "<tr>\n",
    "<td>Modify or update names that live in their enclosing scope</td>\n",
    "<td class=\"text-center\">N/A</td>\n",
    "<td class=\"text-center\">N/A</td>\n",
    "<td class=\"text-center\">No (unless declared <code>nonlocal</code>)</td>\n",
    "</tr>\n",
    "</tbody>\n",
    "</table>"
   ]
  },
  {
   "cell_type": "markdown",
   "metadata": {},
   "source": [
    "![](https://files.realpython.com/media/t.fd7bd78bbb47.png)"
   ]
  },
  {
   "cell_type": "markdown",
   "metadata": {},
   "source": [
    "## Modifying the Behavior of a Python Scope"
   ]
  },
  {
   "cell_type": "markdown",
   "metadata": {},
   "source": [
    "There are two keywords which can be used to modify the defualt behaviour of Python scope:\n",
    "1. `global`\n",
    "2. `nonlocal`"
   ]
  },
  {
   "cell_type": "markdown",
   "metadata": {},
   "source": [
    "### The `global` Statement"
   ]
  },
  {
   "cell_type": "markdown",
   "metadata": {},
   "source": [
    "When you try to assign a value to a global name inside a function, you create a new local name in the function scope. To modify this behavior, you can use a global statement. With this statement, you can define a list of names that are going to be treated as global names."
   ]
  },
  {
   "cell_type": "markdown",
   "metadata": {},
   "source": [
    "The statement consists of the `global` keyword followed by one or more names separated by commas. You can also use multiple `global` statements with a name (or a list of names). All the names that you list in a `global` statement will be mapped to the `global` or module scope in which you define them."
   ]
  },
  {
   "cell_type": "code",
   "execution_count": 14,
   "metadata": {},
   "outputs": [
    {
     "ename": "UnboundLocalError",
     "evalue": "local variable 'counter' referenced before assignment",
     "output_type": "error",
     "traceback": [
      "\u001b[0;31m---------------------------------------------------------------------------\u001b[0m",
      "\u001b[0;31mUnboundLocalError\u001b[0m                         Traceback (most recent call last)",
      "\u001b[1;32m/media/hari31416/Hari_SSD/Users/harik/Desktop/Placement/Notes/Python/Scope_and_Namespace.ipynb Cell 78\u001b[0m in \u001b[0;36m<cell line: 4>\u001b[0;34m()\u001b[0m\n\u001b[1;32m      <a href='vscode-notebook-cell:/media/hari31416/Hari_SSD/Users/harik/Desktop/Placement/Notes/Python/Scope_and_Namespace.ipynb#Y163sZmlsZQ%3D%3D?line=1'>2</a>\u001b[0m \u001b[39mdef\u001b[39;00m \u001b[39mupdate_counter\u001b[39m():\n\u001b[1;32m      <a href='vscode-notebook-cell:/media/hari31416/Hari_SSD/Users/harik/Desktop/Placement/Notes/Python/Scope_and_Namespace.ipynb#Y163sZmlsZQ%3D%3D?line=2'>3</a>\u001b[0m     counter \u001b[39m=\u001b[39m counter \u001b[39m+\u001b[39m \u001b[39m1\u001b[39m  \u001b[39m# Fail trying to update counter\u001b[39;00m\n\u001b[0;32m----> <a href='vscode-notebook-cell:/media/hari31416/Hari_SSD/Users/harik/Desktop/Placement/Notes/Python/Scope_and_Namespace.ipynb#Y163sZmlsZQ%3D%3D?line=3'>4</a>\u001b[0m update_counter()\n",
      "\u001b[1;32m/media/hari31416/Hari_SSD/Users/harik/Desktop/Placement/Notes/Python/Scope_and_Namespace.ipynb Cell 78\u001b[0m in \u001b[0;36mupdate_counter\u001b[0;34m()\u001b[0m\n\u001b[1;32m      <a href='vscode-notebook-cell:/media/hari31416/Hari_SSD/Users/harik/Desktop/Placement/Notes/Python/Scope_and_Namespace.ipynb#Y163sZmlsZQ%3D%3D?line=1'>2</a>\u001b[0m \u001b[39mdef\u001b[39;00m \u001b[39mupdate_counter\u001b[39m():\n\u001b[0;32m----> <a href='vscode-notebook-cell:/media/hari31416/Hari_SSD/Users/harik/Desktop/Placement/Notes/Python/Scope_and_Namespace.ipynb#Y163sZmlsZQ%3D%3D?line=2'>3</a>\u001b[0m     counter \u001b[39m=\u001b[39m counter \u001b[39m+\u001b[39m \u001b[39m1\u001b[39m\n",
      "\u001b[0;31mUnboundLocalError\u001b[0m: local variable 'counter' referenced before assignment"
     ]
    }
   ],
   "source": [
    "counter = 0  # A global name\n",
    "def update_counter():\n",
    "    counter = counter + 1  # Fail trying to update counter\n",
    "update_counter()"
   ]
  },
  {
   "cell_type": "markdown",
   "metadata": {},
   "source": [
    "As you saw earlier, the above function fails to execute. To make this code to work the way you expect here, you can use the `global` keyword:"
   ]
  },
  {
   "cell_type": "code",
   "execution_count": 15,
   "metadata": {},
   "outputs": [
    {
     "data": {
      "text/plain": [
       "1"
      ]
     },
     "execution_count": 15,
     "metadata": {},
     "output_type": "execute_result"
    }
   ],
   "source": [
    "counter = 0  # A global name\n",
    "def update_counter():\n",
    "    global counter\n",
    "    counter = counter + 1  # Fail trying to update counter\n",
    "update_counter()\n",
    "counter"
   ]
  },
  {
   "cell_type": "markdown",
   "metadata": {},
   "source": [
    "With the statement global `counter`, you’re telling Python to look in the global scope for the name `counter`. This way, the expression `counter = counter + 1` doesn’t create a new name in the function scope, but updates it in the global scope. What Python now does is it maps the name `counter` in the function scope to the same name in the global or module scope. "
   ]
  },
  {
   "cell_type": "markdown",
   "metadata": {},
   "source": [
    ">The use of global is considered bad practice in general. If you find yourself using global to fix problems like the one above, then stop and think if there is a better way to write your code."
   ]
  },
  {
   "cell_type": "markdown",
   "metadata": {},
   "source": [
    "You can also use a `global` statement to create lazy global names by declaring them inside a function. "
   ]
  },
  {
   "cell_type": "code",
   "execution_count": 16,
   "metadata": {},
   "outputs": [
    {
     "data": {
      "text/plain": [
       "100"
      ]
     },
     "execution_count": 16,
     "metadata": {},
     "output_type": "execute_result"
    }
   ],
   "source": [
    "def create_lazy_name():\n",
    "    global lazy  # Create a global name, lazy\n",
    "    lazy = 100\n",
    "    return lazy\n",
    "\n",
    "create_lazy_name()\n",
    "lazy"
   ]
  },
  {
   "cell_type": "markdown",
   "metadata": {},
   "source": [
    "When you call `create_lazy_name()`, you’re also creating a global variable called `lazy`. Notice that after calling the function, the name `lazy` is available in the global Python scope. If you inspect the global namespace using `dir()`, then you’ll see that `lazy` appears last in the list."
   ]
  },
  {
   "cell_type": "code",
   "execution_count": 17,
   "metadata": {},
   "outputs": [
    {
     "data": {
      "text/plain": [
       "True"
      ]
     },
     "execution_count": 17,
     "metadata": {},
     "output_type": "execute_result"
    }
   ],
   "source": [
    "\"lazy\" in dir()"
   ]
  },
  {
   "cell_type": "markdown",
   "metadata": {},
   "source": [
    ">It’s worth noting that you can use global from inside any function or nested function and the names listed will always be mapped to names in the global Python scope."
   ]
  },
  {
   "cell_type": "markdown",
   "metadata": {},
   "source": [
    "### The `nonlocal` Statement"
   ]
  },
  {
   "cell_type": "markdown",
   "metadata": {},
   "source": [
    "Similarly to global names, nonlocal names can be accessed from inner functions, but not assigned or updated. If you want to modify them, then you need to use a `nonlocal` statement. "
   ]
  },
  {
   "cell_type": "code",
   "execution_count": 18,
   "metadata": {},
   "outputs": [
    {
     "name": "stdout",
     "output_type": "stream",
     "text": [
      "200\n"
     ]
    }
   ],
   "source": [
    "def func():\n",
    "    var = 100  # A nonlocal variable\n",
    "    def nested():\n",
    "        nonlocal var  # Declare var as nonlocal\n",
    "        var += 100\n",
    "\n",
    "    nested()\n",
    "    print(var)\n",
    "\n",
    "func()"
   ]
  },
  {
   "cell_type": "markdown",
   "metadata": {},
   "source": [
    "With the statement nonlocal `var`, you tell Python that you’ll be modifying `var` inside `nested()`. Then, you increment `var` using an augmented assignment operation. This change is reflected in the nonlocal name var, which now has a value of 200.\n",
    "\n",
    "Unlike `global`, you can’t use `nonlocal` outside of a nested or enclosed function. To be more precise, you can’t use a `nonlocal` statement in either the global scope or in a local scope."
   ]
  },
  {
   "cell_type": "code",
   "execution_count": 19,
   "metadata": {},
   "outputs": [
    {
     "ename": "SyntaxError",
     "evalue": "nonlocal declaration not allowed at module level (2873581452.py, line 1)",
     "output_type": "error",
     "traceback": [
      "\u001b[0;36m  Input \u001b[0;32mIn [19]\u001b[0;36m\u001b[0m\n\u001b[0;31m    nonlocal my_var\u001b[0m\n\u001b[0m    ^\u001b[0m\n\u001b[0;31mSyntaxError\u001b[0m\u001b[0;31m:\u001b[0m nonlocal declaration not allowed at module level\n"
     ]
    }
   ],
   "source": [
    "nonlocal my_var"
   ]
  },
  {
   "cell_type": "code",
   "execution_count": 20,
   "metadata": {},
   "outputs": [
    {
     "ename": "SyntaxError",
     "evalue": "no binding for nonlocal 'var' found (3681423324.py, line 2)",
     "output_type": "error",
     "traceback": [
      "\u001b[0;36m  Input \u001b[0;32mIn [20]\u001b[0;36m\u001b[0m\n\u001b[0;31m    nonlocal var  # Try to use nonlocal in a local scope\u001b[0m\n\u001b[0m    ^\u001b[0m\n\u001b[0;31mSyntaxError\u001b[0m\u001b[0;31m:\u001b[0m no binding for nonlocal 'var' found\n"
     ]
    }
   ],
   "source": [
    "def func():\n",
    "    nonlocal var  # Try to use nonlocal in a local scope\n",
    "    print(var)"
   ]
  },
  {
   "cell_type": "markdown",
   "metadata": {},
   "source": [
    "Also, in contrast to `global`, you can’t use nonlocal to create lazy nonlocal names. Names must already exist in the enclosing Python scope if you want to use them as nonlocal names. This means that you can’t create nonlocal names by declaring them in a nonlocal statement in a nested function."
   ]
  },
  {
   "cell_type": "code",
   "execution_count": 21,
   "metadata": {},
   "outputs": [
    {
     "ename": "SyntaxError",
     "evalue": "no binding for nonlocal 'lazy_var' found (3873559692.py, line 3)",
     "output_type": "error",
     "traceback": [
      "\u001b[0;36m  Input \u001b[0;32mIn [21]\u001b[0;36m\u001b[0m\n\u001b[0;31m    nonlocal lazy_var\u001b[0m\n\u001b[0m    ^\u001b[0m\n\u001b[0;31mSyntaxError\u001b[0m\u001b[0;31m:\u001b[0m no binding for nonlocal 'lazy_var' found\n"
     ]
    }
   ],
   "source": [
    "def func():\n",
    "    def nested():\n",
    "        nonlocal lazy_var"
   ]
  },
  {
   "cell_type": "markdown",
   "metadata": {},
   "source": [
    "## Some *Unusual* Python Scope Behavior"
   ]
  },
  {
   "cell_type": "markdown",
   "metadata": {},
   "source": [
    "You’ll find some Python structures where name resolution seems not to fit into the LEGB rule for Python scopes. These structures include:\n",
    "1. Comprehensions\n",
    "2. Exception Blocks\n",
    "3. Classes and Instances"
   ]
  },
  {
   "cell_type": "markdown",
   "metadata": {},
   "source": [
    "### Comprehension Variables Scope"
   ]
  },
  {
   "cell_type": "markdown",
   "metadata": {},
   "source": [
    "Comprehensions consist of a pair of brackets ([]) or curly braces ({}) containing an expression, followed by one or more `for` clauses and then zero or one `if` clause per `for` clause.\n",
    "\n",
    "The `for` clause in a comprehension works similarly to a traditional `for` loop. The loop variable in a comprehension is local to the structure:"
   ]
  },
  {
   "cell_type": "code",
   "execution_count": 22,
   "metadata": {},
   "outputs": [
    {
     "data": {
      "text/plain": [
       "[0, 1, 2, 3, 4]"
      ]
     },
     "execution_count": 22,
     "metadata": {},
     "output_type": "execute_result"
    }
   ],
   "source": [
    "[item for item in range(5)]"
   ]
  },
  {
   "cell_type": "code",
   "execution_count": 23,
   "metadata": {},
   "outputs": [
    {
     "ename": "NameError",
     "evalue": "name 'item' is not defined",
     "output_type": "error",
     "traceback": [
      "\u001b[0;31m---------------------------------------------------------------------------\u001b[0m",
      "\u001b[0;31mNameError\u001b[0m                                 Traceback (most recent call last)",
      "\u001b[1;32m/media/hari31416/Hari_SSD/Users/harik/Desktop/Placement/Notes/Python/Scope_and_Namespace.ipynb Cell 101\u001b[0m in \u001b[0;36m<cell line: 1>\u001b[0;34m()\u001b[0m\n\u001b[0;32m----> <a href='vscode-notebook-cell:/media/hari31416/Hari_SSD/Users/harik/Desktop/Placement/Notes/Python/Scope_and_Namespace.ipynb#Y226sZmlsZQ%3D%3D?line=0'>1</a>\u001b[0m item\n",
      "\u001b[0;31mNameError\u001b[0m: name 'item' is not defined"
     ]
    }
   ],
   "source": [
    "item"
   ]
  },
  {
   "cell_type": "markdown",
   "metadata": {},
   "source": [
    "Once you run the list comprehension, the variable `item` is forgotten and you can’t access its value anymore. This is not the case with a traditional `for` loop:"
   ]
  },
  {
   "cell_type": "code",
   "execution_count": 24,
   "metadata": {},
   "outputs": [
    {
     "name": "stdout",
     "output_type": "stream",
     "text": [
      "0\n",
      "1\n",
      "2\n",
      "3\n",
      "4\n"
     ]
    },
    {
     "data": {
      "text/plain": [
       "4"
      ]
     },
     "execution_count": 24,
     "metadata": {},
     "output_type": "execute_result"
    }
   ],
   "source": [
    "for item in range(5):\n",
    "    print(item)\n",
    "item"
   ]
  },
  {
   "cell_type": "markdown",
   "metadata": {},
   "source": [
    "You can freely access the loop variable `item` once the loop has finished. Here, the loop variable holds the last value processed by the loop, which is 4 in this example."
   ]
  },
  {
   "cell_type": "markdown",
   "metadata": {},
   "source": [
    "### Exception Variables Scope\n"
   ]
  },
  {
   "cell_type": "markdown",
   "metadata": {},
   "source": [
    "Another atypical case of Python scope that you’ll encounter is the case of the exception variable. The exception variable is a variable that holds a reference to the exception raised by a try statement. In Python 3.x, such variables are local to the except block and are forgotten when the block ends. "
   ]
  },
  {
   "cell_type": "code",
   "execution_count": 25,
   "metadata": {},
   "outputs": [
    {
     "name": "stdout",
     "output_type": "stream",
     "text": [
      "list index out of range\n"
     ]
    },
    {
     "ename": "NameError",
     "evalue": "name 'err' is not defined",
     "output_type": "error",
     "traceback": [
      "\u001b[0;31m---------------------------------------------------------------------------\u001b[0m",
      "\u001b[0;31mNameError\u001b[0m                                 Traceback (most recent call last)",
      "\u001b[1;32m/media/hari31416/Hari_SSD/Users/harik/Desktop/Placement/Notes/Python/Scope_and_Namespace.ipynb Cell 107\u001b[0m in \u001b[0;36m<cell line: 8>\u001b[0;34m()\u001b[0m\n\u001b[1;32m      <a href='vscode-notebook-cell:/media/hari31416/Hari_SSD/Users/harik/Desktop/Placement/Notes/Python/Scope_and_Namespace.ipynb#Y235sZmlsZQ%3D%3D?line=3'>4</a>\u001b[0m \u001b[39mexcept\u001b[39;00m \u001b[39mIndexError\u001b[39;00m \u001b[39mas\u001b[39;00m err:\n\u001b[1;32m      <a href='vscode-notebook-cell:/media/hari31416/Hari_SSD/Users/harik/Desktop/Placement/Notes/Python/Scope_and_Namespace.ipynb#Y235sZmlsZQ%3D%3D?line=4'>5</a>\u001b[0m     \u001b[39mprint\u001b[39m(err)\n\u001b[0;32m----> <a href='vscode-notebook-cell:/media/hari31416/Hari_SSD/Users/harik/Desktop/Placement/Notes/Python/Scope_and_Namespace.ipynb#Y235sZmlsZQ%3D%3D?line=7'>8</a>\u001b[0m err\n",
      "\u001b[0;31mNameError\u001b[0m: name 'err' is not defined"
     ]
    }
   ],
   "source": [
    "lst = [1, 2, 3]\n",
    "try:\n",
    "    lst[4]\n",
    "except IndexError as err:\n",
    "    print(err)\n",
    "\n",
    "\n",
    "err"
   ]
  },
  {
   "cell_type": "markdown",
   "metadata": {},
   "source": [
    "`err` holds a reference to the exception raised by the `try` clause. You can use `err` only inside the code block of the `except` clause."
   ]
  },
  {
   "cell_type": "markdown",
   "metadata": {},
   "source": [
    "To work around this behavior, you can define an auxiliary variable out of the `try` statement and then assign the exception to that variable inside the `except` block."
   ]
  },
  {
   "cell_type": "code",
   "execution_count": 26,
   "metadata": {},
   "outputs": [
    {
     "name": "stdout",
     "output_type": "stream",
     "text": [
      "list index out of range\n"
     ]
    }
   ],
   "source": [
    "lst = [1, 2, 3]\n",
    "ex = None\n",
    "try:\n",
    "    lst[4]\n",
    "except IndexError as err:\n",
    "    ex = err\n",
    "    print(err)"
   ]
  },
  {
   "cell_type": "code",
   "execution_count": 28,
   "metadata": {},
   "outputs": [
    {
     "ename": "NameError",
     "evalue": "name 'err' is not defined",
     "output_type": "error",
     "traceback": [
      "\u001b[0;31m---------------------------------------------------------------------------\u001b[0m",
      "\u001b[0;31mNameError\u001b[0m                                 Traceback (most recent call last)",
      "\u001b[1;32m/media/hari31416/Hari_SSD/Users/harik/Desktop/Placement/Notes/Python/Scope_and_Namespace.ipynb Cell 111\u001b[0m in \u001b[0;36m<cell line: 1>\u001b[0;34m()\u001b[0m\n\u001b[0;32m----> <a href='vscode-notebook-cell:/media/hari31416/Hari_SSD/Users/harik/Desktop/Placement/Notes/Python/Scope_and_Namespace.ipynb#Y242sZmlsZQ%3D%3D?line=0'>1</a>\u001b[0m err\n",
      "\u001b[0;31mNameError\u001b[0m: name 'err' is not defined"
     ]
    }
   ],
   "source": [
    "err"
   ]
  },
  {
   "cell_type": "code",
   "execution_count": 29,
   "metadata": {},
   "outputs": [
    {
     "data": {
      "text/plain": [
       "IndexError('list index out of range')"
      ]
     },
     "execution_count": 29,
     "metadata": {},
     "output_type": "execute_result"
    }
   ],
   "source": [
    "ex"
   ]
  },
  {
   "cell_type": "markdown",
   "metadata": {},
   "source": [
    "### Class and Instance Attributes Scope"
   ]
  },
  {
   "cell_type": "markdown",
   "metadata": {},
   "source": [
    "When you define a class, you’re creating a new local Python scope. The names assigned at the top level of the class live in this local scope. The names that you assigned inside a class statement don’t clash with names elsewhere. You can say that these names follow the LEGB rule, where the class block represents the L level.\n",
    "\n",
    "Unlike functions, the class local scope isn’t created at call time, but at execution time. Each class object has its own `.__dict__` attribute that holds the class scope or namespace where all the class attributes live. "
   ]
  },
  {
   "cell_type": "code",
   "execution_count": 30,
   "metadata": {},
   "outputs": [
    {
     "data": {
      "text/plain": [
       "dict_keys(['__module__', 'attr', '__dict__', '__weakref__', '__doc__'])"
      ]
     },
     "execution_count": 30,
     "metadata": {},
     "output_type": "execute_result"
    }
   ],
   "source": [
    "class A:\n",
    "    attr = 100\n",
    "\n",
    "A.__dict__.keys()"
   ]
  },
  {
   "cell_type": "markdown",
   "metadata": {},
   "source": [
    "This dictionary represents the class local scope. The names in this scope are visible to all instances of the class and to the class itself.\n",
    "\n",
    "To get access to a class attribute from outside the class, you need to use the dot notation:"
   ]
  },
  {
   "cell_type": "code",
   "execution_count": 31,
   "metadata": {},
   "outputs": [
    {
     "name": "stdout",
     "output_type": "stream",
     "text": [
      "100\n"
     ]
    }
   ],
   "source": [
    "class A:\n",
    "    attr = 100\n",
    "    print(attr)"
   ]
  },
  {
   "cell_type": "code",
   "execution_count": 32,
   "metadata": {},
   "outputs": [
    {
     "data": {
      "text/plain": [
       "100"
      ]
     },
     "execution_count": 32,
     "metadata": {},
     "output_type": "execute_result"
    }
   ],
   "source": [
    "A.attr"
   ]
  },
  {
   "cell_type": "code",
   "execution_count": 33,
   "metadata": {},
   "outputs": [
    {
     "ename": "NameError",
     "evalue": "name 'attr' is not defined",
     "output_type": "error",
     "traceback": [
      "\u001b[0;31m---------------------------------------------------------------------------\u001b[0m",
      "\u001b[0;31mNameError\u001b[0m                                 Traceback (most recent call last)",
      "\u001b[1;32m/media/hari31416/Hari_SSD/Users/harik/Desktop/Placement/Notes/Python/Scope_and_Namespace.ipynb Cell 119\u001b[0m in \u001b[0;36m<cell line: 1>\u001b[0;34m()\u001b[0m\n\u001b[0;32m----> <a href='vscode-notebook-cell:/media/hari31416/Hari_SSD/Users/harik/Desktop/Placement/Notes/Python/Scope_and_Namespace.ipynb#Y253sZmlsZQ%3D%3D?line=0'>1</a>\u001b[0m attr\n",
      "\u001b[0;31mNameError\u001b[0m: name 'attr' is not defined"
     ]
    }
   ],
   "source": [
    "attr"
   ]
  },
  {
   "cell_type": "markdown",
   "metadata": {},
   "source": [
    "You can also access any class attribute using an instance of the class:"
   ]
  },
  {
   "cell_type": "code",
   "execution_count": 34,
   "metadata": {},
   "outputs": [
    {
     "data": {
      "text/plain": [
       "100"
      ]
     },
     "execution_count": 34,
     "metadata": {},
     "output_type": "execute_result"
    }
   ],
   "source": [
    "obj = A()\n",
    "obj.attr"
   ]
  },
  {
   "cell_type": "markdown",
   "metadata": {},
   "source": [
    "## Scope Related Built-In Functions"
   ]
  },
  {
   "cell_type": "markdown",
   "metadata": {},
   "source": [
    "There are many built-in functions that are closely related to the concept of Python scope and namespaces. Here, we'll discuss about some of them."
   ]
  },
  {
   "cell_type": "markdown",
   "metadata": {},
   "source": [
    "### `globals()`"
   ]
  },
  {
   "cell_type": "markdown",
   "metadata": {},
   "source": [
    "In Python, `globals()` is a built-in function that returns a reference to the current global scope or namespace dictionary. This dictionary always stores the names of the current module. This means that if you call `globals()` in a given module, then you’ll get a dictionary containing all the names that you’ve defined in that module, right before the call to `globals()`."
   ]
  },
  {
   "cell_type": "code",
   "execution_count": 1,
   "metadata": {},
   "outputs": [
    {
     "data": {
      "text/plain": [
       "{'__name__': '__main__',\n",
       " '__doc__': 'Automatically created module for IPython interactive environment',\n",
       " '__package__': None,\n",
       " '__loader__': None,\n",
       " '__spec__': None,\n",
       " '__builtin__': <module 'builtins' (built-in)>,\n",
       " '__builtins__': <module 'builtins' (built-in)>,\n",
       " '_ih': ['', 'globals()'],\n",
       " '_oh': {},\n",
       " '_dh': [PosixPath('/media/hari31416/Hari_SSD/Users/harik/Desktop/Placement/Notes/Python')],\n",
       " 'In': ['', 'globals()'],\n",
       " 'Out': {},\n",
       " 'get_ipython': <bound method InteractiveShell.get_ipython of <ipykernel.zmqshell.ZMQInteractiveShell object at 0x7ff9f8e38bb0>>,\n",
       " 'exit': <IPython.core.autocall.ZMQExitAutocall at 0x7ff9f8e4b850>,\n",
       " 'quit': <IPython.core.autocall.ZMQExitAutocall at 0x7ff9f8e4b850>,\n",
       " '_': '',\n",
       " '__': '',\n",
       " '___': '',\n",
       " 'os': <module 'os' from '/home/hari31416/anaconda3/envs/data-science/lib/python3.9/os.py'>,\n",
       " 'sys': <module 'sys' (built-in)>,\n",
       " '__vsc_ipynb_file__': '/media/hari31416/Hari_SSD/Users/harik/Desktop/Placement/Notes/Python/Scope_and_Namespace.ipynb',\n",
       " '_i': '',\n",
       " '_ii': '',\n",
       " '_iii': '',\n",
       " '_i1': 'globals()'}"
      ]
     },
     "execution_count": 1,
     "metadata": {},
     "output_type": "execute_result"
    }
   ],
   "source": [
    "globals()"
   ]
  },
  {
   "cell_type": "code",
   "execution_count": 2,
   "metadata": {},
   "outputs": [
    {
     "data": {
      "text/plain": [
       "{'__name__': '__main__',\n",
       " '__doc__': 'Automatically created module for IPython interactive environment',\n",
       " '__package__': None,\n",
       " '__loader__': None,\n",
       " '__spec__': None,\n",
       " '__builtin__': <module 'builtins' (built-in)>,\n",
       " '__builtins__': <module 'builtins' (built-in)>,\n",
       " '_ih': ['', 'globals()', 'var = 42\\nglobals()'],\n",
       " '_oh': {1: {...}},\n",
       " '_dh': [PosixPath('/media/hari31416/Hari_SSD/Users/harik/Desktop/Placement/Notes/Python')],\n",
       " 'In': ['', 'globals()', 'var = 42\\nglobals()'],\n",
       " 'Out': {1: {...}},\n",
       " 'get_ipython': <bound method InteractiveShell.get_ipython of <ipykernel.zmqshell.ZMQInteractiveShell object at 0x7ff9f8e38bb0>>,\n",
       " 'exit': <IPython.core.autocall.ZMQExitAutocall at 0x7ff9f8e4b850>,\n",
       " 'quit': <IPython.core.autocall.ZMQExitAutocall at 0x7ff9f8e4b850>,\n",
       " '_': {...},\n",
       " '__': '',\n",
       " '___': '',\n",
       " 'os': <module 'os' from '/home/hari31416/anaconda3/envs/data-science/lib/python3.9/os.py'>,\n",
       " 'sys': <module 'sys' (built-in)>,\n",
       " '__vsc_ipynb_file__': '/media/hari31416/Hari_SSD/Users/harik/Desktop/Placement/Notes/Python/Scope_and_Namespace.ipynb',\n",
       " '_i': 'globals()',\n",
       " '_ii': '',\n",
       " '_iii': '',\n",
       " '_i1': 'globals()',\n",
       " '_1': {...},\n",
       " '_i2': 'var = 42\\nglobals()',\n",
       " 'var': 42}"
      ]
     },
     "execution_count": 2,
     "metadata": {},
     "output_type": "execute_result"
    }
   ],
   "source": [
    "var = 42\n",
    "globals()"
   ]
  },
  {
   "cell_type": "markdown",
   "metadata": {},
   "source": [
    "An interesting example of how you can use `globals()` in your code would be to dynamically dispatch functions that live in the global scope. Suppose you want to dynamically dispatch platform-dependent functions. To do this, you can use `globals()` as follows"
   ]
  },
  {
   "cell_type": "code",
   "execution_count": 3,
   "metadata": {},
   "outputs": [
    {
     "name": "stdout",
     "output_type": "stream",
     "text": [
      "Printing from Linux...\n"
     ]
    }
   ],
   "source": [
    "from sys import platform\n",
    "\n",
    "def linux_print():\n",
    "    print('Printing from Linux...')\n",
    "\n",
    "def win32_print():\n",
    "    print('Printing from Windows...')\n",
    "\n",
    "def darwin_print():\n",
    "    print('Printing from macOS...')\n",
    "\n",
    "printer = globals()[platform + '_print']\n",
    "\n",
    "printer()"
   ]
  },
  {
   "cell_type": "markdown",
   "metadata": {},
   "source": [
    "Note that you can use the `globals()` dictionary just like you would use any regular dictionary. For example, you can iterate through it through it using the traditional methods.\n",
    "\n",
    "You can also perform regular subscription operations over `globals()` by using square brackets like in `globals()['name']`. "
   ]
  },
  {
   "cell_type": "code",
   "execution_count": 4,
   "metadata": {},
   "outputs": [
    {
     "data": {
      "text/plain": [
       "'Docstring for __main__.'"
      ]
     },
     "execution_count": 4,
     "metadata": {},
     "output_type": "execute_result"
    }
   ],
   "source": [
    "globals()['__doc__'] = \"\"\"Docstring for __main__.\"\"\"\n",
    "__doc__"
   ]
  },
  {
   "cell_type": "markdown",
   "metadata": {},
   "source": [
    "### `locals()`"
   ]
  },
  {
   "cell_type": "markdown",
   "metadata": {},
   "source": [
    "Another function related to Python scope and namespaces is `locals()`. This function updates and returns a dictionary that holds a copy of the current state of the local Python scope or namespace. When you call `locals()` in a function block, you get all the names assigned in the local or function scope up to the point where you call `locals()`. "
   ]
  },
  {
   "cell_type": "code",
   "execution_count": 5,
   "metadata": {},
   "outputs": [
    {
     "name": "stdout",
     "output_type": "stream",
     "text": [
      "{'arg': 300, 'var': 100}\n"
     ]
    }
   ],
   "source": [
    "def func(arg):\n",
    "    var = 100\n",
    "    print(locals())\n",
    "    another = 200\n",
    "\n",
    "func(300)"
   ]
  },
  {
   "cell_type": "markdown",
   "metadata": {},
   "source": [
    "If you call `locals()` in the global Python scope, then you’ll get the same dictionary that you would get if you were to call `globals()`."
   ]
  },
  {
   "cell_type": "code",
   "execution_count": 1,
   "metadata": {},
   "outputs": [
    {
     "data": {
      "text/plain": [
       "{'__name__': '__main__',\n",
       " '__doc__': 'Automatically created module for IPython interactive environment',\n",
       " '__package__': None,\n",
       " '__loader__': None,\n",
       " '__spec__': None,\n",
       " '__builtin__': <module 'builtins' (built-in)>,\n",
       " '__builtins__': <module 'builtins' (built-in)>,\n",
       " '_ih': ['', 'locals()'],\n",
       " '_oh': {},\n",
       " '_dh': [PosixPath('/media/hari31416/Hari_SSD/Users/harik/Desktop/Placement/Notes/Python')],\n",
       " 'In': ['', 'locals()'],\n",
       " 'Out': {},\n",
       " 'get_ipython': <bound method InteractiveShell.get_ipython of <ipykernel.zmqshell.ZMQInteractiveShell object at 0x7f7401872bb0>>,\n",
       " 'exit': <IPython.core.autocall.ZMQExitAutocall at 0x7f7401885850>,\n",
       " 'quit': <IPython.core.autocall.ZMQExitAutocall at 0x7f7401885850>,\n",
       " '_': '',\n",
       " '__': '',\n",
       " '___': '',\n",
       " 'sys': <module 'sys' (built-in)>,\n",
       " 'os': <module 'os' from '/home/hari31416/anaconda3/envs/data-science/lib/python3.9/os.py'>,\n",
       " '__vsc_ipynb_file__': '/media/hari31416/Hari_SSD/Users/harik/Desktop/Placement/Notes/Python/Scope_and_Namespace.ipynb',\n",
       " '_i': '',\n",
       " '_ii': '',\n",
       " '_iii': '',\n",
       " '_i1': 'locals()'}"
      ]
     },
     "execution_count": 1,
     "metadata": {},
     "output_type": "execute_result"
    }
   ],
   "source": [
    "locals()"
   ]
  },
  {
   "cell_type": "markdown",
   "metadata": {},
   "source": [
    "### `vars()`"
   ]
  },
  {
   "cell_type": "markdown",
   "metadata": {},
   "source": [
    "`vars()` is a Python built-in function that returns the `.__dict__` attribute of a module, class, instance, or any other object which has a dictionary attribute. Remember that `.__dict__` is a special dictionary that Python uses to implement namespaces. "
   ]
  },
  {
   "cell_type": "code",
   "execution_count": 2,
   "metadata": {},
   "outputs": [
    {
     "data": {
      "text/plain": [
       "True"
      ]
     },
     "execution_count": 2,
     "metadata": {},
     "output_type": "execute_result"
    }
   ],
   "source": [
    "import sys\n",
    "vars(sys) is sys.__dict__"
   ]
  },
  {
   "cell_type": "code",
   "execution_count": 3,
   "metadata": {},
   "outputs": [
    {
     "data": {
      "text/plain": [
       "{'var': 100}"
      ]
     },
     "execution_count": 3,
     "metadata": {},
     "output_type": "execute_result"
    }
   ],
   "source": [
    "class MyClass:\n",
    "    def __init__(self, var):\n",
    "        self.var = var\n",
    "\n",
    "obj = MyClass(100)\n",
    "vars(obj)"
   ]
  },
  {
   "cell_type": "code",
   "execution_count": 4,
   "metadata": {},
   "outputs": [
    {
     "data": {
      "text/plain": [
       "mappingproxy({'__module__': '__main__',\n",
       "              '__init__': <function __main__.MyClass.__init__(self, var)>,\n",
       "              '__dict__': <attribute '__dict__' of 'MyClass' objects>,\n",
       "              '__weakref__': <attribute '__weakref__' of 'MyClass' objects>,\n",
       "              '__doc__': None})"
      ]
     },
     "execution_count": 4,
     "metadata": {},
     "output_type": "execute_result"
    }
   ],
   "source": [
    "vars(MyClass)"
   ]
  },
  {
   "cell_type": "markdown",
   "metadata": {},
   "source": [
    "Without any argument, `vars()` acts like `locals()` and returns a dictionary with all the names in the local Python scope:"
   ]
  },
  {
   "cell_type": "code",
   "execution_count": 5,
   "metadata": {},
   "outputs": [
    {
     "data": {
      "text/plain": [
       "True"
      ]
     },
     "execution_count": 5,
     "metadata": {},
     "output_type": "execute_result"
    }
   ],
   "source": [
    "vars() is locals()"
   ]
  },
  {
   "cell_type": "markdown",
   "metadata": {},
   "source": [
    "If you call `vars()` with an object that doesn’t have a `.__dict__`, then you’ll get a `TypeError`."
   ]
  },
  {
   "cell_type": "code",
   "execution_count": 6,
   "metadata": {},
   "outputs": [
    {
     "ename": "TypeError",
     "evalue": "vars() argument must have __dict__ attribute",
     "output_type": "error",
     "traceback": [
      "\u001b[0;31m---------------------------------------------------------------------------\u001b[0m",
      "\u001b[0;31mTypeError\u001b[0m                                 Traceback (most recent call last)",
      "\u001b[1;32m/media/hari31416/Hari_SSD/Users/harik/Desktop/Placement/Notes/Python/Scope_and_Namespace.ipynb Cell 145\u001b[0m in \u001b[0;36m<cell line: 1>\u001b[0;34m()\u001b[0m\n\u001b[0;32m----> <a href='vscode-notebook-cell:/media/hari31416/Hari_SSD/Users/harik/Desktop/Placement/Notes/Python/Scope_and_Namespace.ipynb#Y264sZmlsZQ%3D%3D?line=0'>1</a>\u001b[0m \u001b[39mvars\u001b[39;49m(\u001b[39m10\u001b[39;49m)\n",
      "\u001b[0;31mTypeError\u001b[0m: vars() argument must have __dict__ attribute"
     ]
    }
   ],
   "source": [
    "vars(10)"
   ]
  },
  {
   "cell_type": "markdown",
   "metadata": {},
   "source": [
    "## Namespaces"
   ]
  },
  {
   "cell_type": "markdown",
   "metadata": {},
   "source": [
    "A namespace is a collection of currently defined symbolic names along with information about the object that each name references. You can think of a namespace as a dictionary in which the keys are the object names and the values are the objects themselves. Each key-value pair maps a name to its corresponding object."
   ]
  },
  {
   "cell_type": "markdown",
   "metadata": {},
   "source": [
    "In a Python program, there are four types of namespaces:\n",
    "1. The global namespace\n",
    "2. The local namespace\n",
    "3. The enclosing namespace\n",
    "4. The Build-in namespace"
   ]
  },
  {
   "cell_type": "markdown",
   "metadata": {},
   "source": [
    "![](https://media.geeksforgeeks.org/wp-content/uploads/types_namespace-1.png))"
   ]
  },
  {
   "cell_type": "markdown",
   "metadata": {},
   "source": [
    "[Reference 1](https://realpython.com/python-scope-legb-rule/)\n",
    "\n",
    "[Reference 2](https://realpython.com/python-namespaces-scope)"
   ]
  }
 ],
 "metadata": {
  "kernelspec": {
   "display_name": "Python 3.9.12 ('data-science')",
   "language": "python",
   "name": "python3"
  },
  "language_info": {
   "codemirror_mode": {
    "name": "ipython",
    "version": 3
   },
   "file_extension": ".py",
   "mimetype": "text/x-python",
   "name": "python",
   "nbconvert_exporter": "python",
   "pygments_lexer": "ipython3",
   "version": "3.9.12"
  },
  "orig_nbformat": 4,
  "vscode": {
   "interpreter": {
    "hash": "2efee1efa502125d01e6b4768ba06d9453d29f3642bfd14ad5d4a769de82e88c"
   }
  }
 },
 "nbformat": 4,
 "nbformat_minor": 2
}
