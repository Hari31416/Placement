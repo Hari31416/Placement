{
 "cells": [
  {
   "cell_type": "code",
   "execution_count": 1,
   "metadata": {},
   "outputs": [],
   "source": [
    "import sys\n",
    "sys.path.append('../../tools')"
   ]
  },
  {
   "cell_type": "code",
   "execution_count": 2,
   "metadata": {
    "scrolled": true
   },
   "outputs": [],
   "source": [
    "from files.notebook import Notebook"
   ]
  },
  {
   "cell_type": "code",
   "execution_count": 3,
   "metadata": {},
   "outputs": [],
   "source": [
    "nb = Notebook()"
   ]
  },
  {
   "cell_type": "code",
   "execution_count": 4,
   "metadata": {},
   "outputs": [
    {
     "data": {
      "text/plain": [
       "['./OOP.ipynb',\n",
       " './Scope_and_Namespace.ipynb',\n",
       " './temp.ipynb',\n",
       " './Terminology.ipynb',\n",
       " './Variables_and_Pointers.ipynb']"
      ]
     },
     "execution_count": 4,
     "metadata": {},
     "output_type": "execute_result"
    }
   ],
   "source": [
    "nb.notebooks"
   ]
  },
  {
   "cell_type": "code",
   "execution_count": 10,
   "metadata": {},
   "outputs": [
    {
     "name": "stdout",
     "output_type": "stream",
     "text": [
      "Converting the Notebook to HTML.\n",
      "Looking for the Headers and their positions.\n",
      "Getting correct order of the Headers.\n",
      "Creating the Contents.\n",
      "Content copied to clipboard.\n"
     ]
    },
    {
     "name": "stderr",
     "output_type": "stream",
     "text": [
      "QXcbClipboard::setMimeData: Cannot set X11 selection owner\n"
     ]
    }
   ],
   "source": [
    "text = nb.create_content(nb.notebooks[0], return_string=True)"
   ]
  },
  {
   "cell_type": "code",
   "execution_count": 11,
   "metadata": {},
   "outputs": [
    {
     "name": "stdout",
     "output_type": "stream",
     "text": [
      "<h2 id=\"Contents\">Contents<a href=\"#Contents\"></a></h2>\n",
      "        <ol>\n",
      "        <li><a class=\"\" href=\"#Python-OOP\">Python OOP</a></li>\n",
      "<ol><li><a class=\"\" href=\"#Class\">Class</a></li>\n",
      "<li><a class=\"\" href=\"#Objects\">Objects</a></li>\n",
      "<ol><li><a class=\"\" href=\"#The-self\">The self</a></li>\n",
      "<li><a class=\"\" href=\"#The-__init__-method\">The __init__ method</a></li>\n",
      "</ol><li><a class=\"\" href=\"#OOP-Concepts\">OOP Concepts</a></li>\n",
      "<ol><li><a class=\"\" href=\"#Abstraction\">Abstraction</a></li>\n",
      "<ol><li><a class=\"\" href=\"#Data-Abstraction\">Data Abstraction</a></li>\n",
      "<li><a class=\"\" href=\"#Process-Abstraction\">Process Abstraction</a></li>\n",
      "<li><a class=\"\" href=\"#Abstract-Class-in-Python\">Abstract Class in Python</a></li>\n",
      "</ol><li><a class=\"\" href=\"#Encapsulation\">Encapsulation</a></li>\n",
      "<ol><li><a class=\"\" href=\"#Encapsulation-in-Python\">Encapsulation in Python</a></li>\n",
      "<li><a class=\"\" href=\"#Getter-and-Setter\">Getter and Setter</a></li>\n",
      "</ol><li><a class=\"\" href=\"#Inheritance\">Inheritance</a></li>\n",
      "<ol><li><a class=\"\" href=\"#Inheritance-in-Python\">Inheritance in Python</a></li>\n",
      "<ol><li><a class=\"\" href=\"#Single-Inheritance\">Single Inheritance</a></li>\n",
      "<ol><li><a class=\"\" href=\"#The-super()-Keyword\">The super() Keyword</a></li>\n",
      "</ol><li><a class=\"\" href=\"#Multiple-inheritance\">Multiple inheritance</a></li>\n",
      "<ol><li><a class=\"\" href=\"#The-Diamond-Problem\">The Diamond Problem</a></li>\n",
      "</ol><li><a class=\"\" href=\"#Polymorphism\">Polymorphism</a></li>\n",
      "<ol><li><a class=\"\" href=\"#Compile-Time-Polymorphism-and-Method-Overloading\">Compile Time Polymorphism and Method Overloading</a></li>\n",
      "<li><a class=\"\" href=\"#Run-Time-Polymorphism-and-Method-Overriding\">Run-Time Polymorphism and Method Overriding</a></li>\n",
      "</ol><li><a class=\"\" href=\"#Some-More-Concepts\">Some More Concepts</a></li>\n",
      "<ol><li><a class=\"\" href=\"#Duck-Typing\">Duck Typing</a></li>\n",
      "<li><a class=\"\" href=\"#Composition\">Composition</a></li>\n",
      "<li><a class=\"\" href=\"#Difference-between-Abstraction-and-Encapsulation\">Difference between Abstraction and Encapsulation</a></li>\n",
      "</ol>\n"
     ]
    }
   ],
   "source": [
    "print(text)"
   ]
  },
  {
   "cell_type": "code",
   "execution_count": 12,
   "metadata": {},
   "outputs": [
    {
     "name": "stderr",
     "output_type": "stream",
     "text": [
      "Exporting notebooks...: 100%|██████████| 5/5 [00:01<00:00,  2.79it/s]\n"
     ]
    }
   ],
   "source": [
    "files = nb.export_directory()"
   ]
  },
  {
   "cell_type": "code",
   "execution_count": 8,
   "metadata": {},
   "outputs": [
    {
     "data": {
      "text/plain": [
       "['././OOP.html',\n",
       " '././Scope_and_Namespace.html',\n",
       " '././temp.html',\n",
       " '././Terminology.html',\n",
       " '././Variables_and_Pointers.html']"
      ]
     },
     "execution_count": 8,
     "metadata": {},
     "output_type": "execute_result"
    }
   ],
   "source": [
    "files"
   ]
  },
  {
   "cell_type": "code",
   "execution_count": 9,
   "metadata": {},
   "outputs": [
    {
     "name": "stdout",
     "output_type": "stream",
     "text": [
      "<ul><li>\n",
      "            <a href=\"Notes/Python/OOP.html\" target=\"blank\" class=\"links\">OOP</a>\n",
      "          </li><li>\n",
      "            <a href=\"Notes/Python/Scope_and_Namespace.html\" target=\"blank\" class=\"links\">Scope and Namespace</a>\n",
      "          </li><li>\n",
      "            <a href=\"Notes/Python/Terminology.html\" target=\"blank\" class=\"links\">Terminology</a>\n",
      "          </li><li>\n",
      "            <a href=\"Notes/Python/Variables_and_Pointers.html\" target=\"blank\" class=\"links\">Variables and Pointers</a>\n",
      "          </li></ul>\n"
     ]
    }
   ],
   "source": [
    "start = \"<ul>\"\n",
    "end = \"</ul>\"\n",
    "for f in files:\n",
    "    if \"temp\" in f:\n",
    "        continue\n",
    "    file = f.split(\"/\")[-1]\n",
    "    name = file.split(\".\")[0]\n",
    "    name = name.replace(\"_\", \" \")\n",
    "    start+=f\"\"\"<li>\n",
    "            <a href=\"Notes/Python/{file}\" target=\"blank\" class=\"links\">{name}</a>\n",
    "          </li>\"\"\"\n",
    "start+=end\n",
    "print(start)"
   ]
  },
  {
   "cell_type": "code",
   "execution_count": 20,
   "metadata": {},
   "outputs": [
    {
     "name": "stderr",
     "output_type": "stream",
     "text": [
      "QXcbClipboard::setMimeData: Cannot set X11 selection owner\n"
     ]
    }
   ],
   "source": [
    "import pyperclip\n",
    "pyperclip.copy(text)"
   ]
  },
  {
   "cell_type": "code",
   "execution_count": 13,
   "metadata": {},
   "outputs": [
    {
     "data": {
      "text/plain": [
       "['.\\\\Easy_1.ipynb',\n",
       " '.\\\\Easy_2.ipynb',\n",
       " '.\\\\Easy_3.ipynb',\n",
       " '.\\\\Hard_1.ipynb',\n",
       " '.\\\\Medium_1.ipynb',\n",
       " '.\\\\Medium_2.ipynb',\n",
       " '.\\\\temp.ipynb']"
      ]
     },
     "execution_count": 13,
     "metadata": {},
     "output_type": "execute_result"
    }
   ],
   "source": [
    "nb.notebooks"
   ]
  },
  {
   "cell_type": "code",
   "execution_count": 15,
   "metadata": {},
   "outputs": [
    {
     "data": {
      "text/plain": [
       "'.\\\\Easy_3.html'"
      ]
     },
     "execution_count": 15,
     "metadata": {},
     "output_type": "execute_result"
    }
   ],
   "source": [
    "nb.export_notebook(nb.notebooks[2])"
   ]
  },
  {
   "cell_type": "code",
   "execution_count": null,
   "metadata": {},
   "outputs": [],
   "source": []
  }
 ],
 "metadata": {
  "kernelspec": {
   "display_name": "Python 3 (ipykernel)",
   "language": "python",
   "name": "python3"
  },
  "language_info": {
   "codemirror_mode": {
    "name": "ipython",
    "version": 3
   },
   "file_extension": ".py",
   "mimetype": "text/x-python",
   "name": "python",
   "nbconvert_exporter": "python",
   "pygments_lexer": "ipython3",
   "version": "3.9.12"
  },
  "vscode": {
   "interpreter": {
    "hash": "2efee1efa502125d01e6b4768ba06d9453d29f3642bfd14ad5d4a769de82e88c"
   }
  }
 },
 "nbformat": 4,
 "nbformat_minor": 2
}
