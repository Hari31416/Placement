{
 "cells": [
  {
   "attachments": {},
   "cell_type": "markdown",
   "metadata": {},
   "source": [
    "<h2 id=\"Contents\">Contents<a href=\"#Contents\"></a></h2>\n",
    "        <ol>\n",
    "        <ol><li><a class=\"\" href=\"#JavaScript-Modules\">JavaScript Modules</a></li>\n",
    "<ol><li><a class=\"\" href=\"#Module-Exports\">Module Exports</a></li>\n",
    "<ol><li><a class=\"\" href=\"#Default-Exports\">Default Exports</a></li>\n",
    "<li><a class=\"\" href=\"#Named-Exports\">Named Exports</a></li>\n",
    "</ol><li><a class=\"\" href=\"#Importing-Modules\">Importing Modules</a></li>\n",
    "</ol><li><a class=\"\" href=\"#Setting-up-a-React-project-in-VS-Code\">Setting up a React project in VS Code</a></li>\n",
    "<li><a class=\"\" href=\"#Transpiling-JSX\">Transpiling JSX</a></li>\n",
    "<ol><li><a class=\"\" href=\"#What-is-JSX?\">What is JSX?</a></li>\n",
    "<li><a class=\"\" href=\"#Transpiling-JSX\">Transpiling JSX</a></li>\n",
    "</ol><li><a class=\"\" href=\"#React-Components\">React Components</a></li>\n",
    "<li><a class=\"\" href=\"#Props\">Props</a></li>\n",
    "<ol><li><a class=\"\" href=\"#Dissecting-props\">Dissecting props</a></li>\n",
    "</ol><li><a class=\"\" href=\"#Styling-JSX-elements\">Styling JSX elements</a></li>\n",
    "<ol><li><a class=\"\" href=\"#Using-link\">Using link</a></li>\n",
    "<li><a class=\"\" href=\"#Inline-CSS\">Inline CSS</a></li>\n",
    "</ol>"
   ]
  },
  {
   "attachments": {},
   "cell_type": "markdown",
   "metadata": {},
   "source": [
    "## JavaScript Modules\n"
   ]
  },
  {
   "attachments": {},
   "cell_type": "markdown",
   "metadata": {},
   "source": [
    "In JavaScript, a module is simply a file.\n",
    "\n",
    "The purpose of a module is to have more modular code, where you can work with smaller files, and import and export them so that the apps you build are more customizable and have more composable parts.\n"
   ]
  },
  {
   "cell_type": "code",
   "execution_count": null,
   "metadata": {
    "vscode": {
     "languageId": "javascript"
    }
   },
   "outputs": [],
   "source": [
    "function addTwo(a, b) {\n",
    "  console.log(a + b);\n",
    "}\n"
   ]
  },
  {
   "attachments": {},
   "cell_type": "markdown",
   "metadata": {},
   "source": [
    "### Module Exports\n"
   ]
  },
  {
   "attachments": {},
   "cell_type": "markdown",
   "metadata": {},
   "source": [
    "There is more than one way to export a module in JavaScript. Two of them are:\n",
    "\n",
    "1. Using default exports\n",
    "2. Using named exports\n"
   ]
  },
  {
   "attachments": {},
   "cell_type": "markdown",
   "metadata": {},
   "source": [
    "#### Default Exports\n"
   ]
  },
  {
   "cell_type": "code",
   "execution_count": null,
   "metadata": {
    "vscode": {
     "languageId": "javascript"
    }
   },
   "outputs": [],
   "source": [
    "export default function addTwo(a, b) {\n",
    "  console.log(a + b);\n",
    "}\n"
   ]
  },
  {
   "attachments": {},
   "cell_type": "markdown",
   "metadata": {},
   "source": [
    "Here's an alternative syntax:\n"
   ]
  },
  {
   "cell_type": "code",
   "execution_count": null,
   "metadata": {
    "vscode": {
     "languageId": "javascript"
    }
   },
   "outputs": [],
   "source": [
    "function addTwo(a, b) {\n",
    "  console.log(a + b);\n",
    "}\n",
    "\n",
    "export default addTwo;\n"
   ]
  },
  {
   "attachments": {},
   "cell_type": "markdown",
   "metadata": {},
   "source": [
    "#### Named Exports\n"
   ]
  },
  {
   "attachments": {},
   "cell_type": "markdown",
   "metadata": {},
   "source": [
    "Named exports are a way to export only certain parts of a given JavaScript file.\n",
    "\n",
    "In contrast with default exports, you can export as many items from any JavaScript file as you want. In other words, there can be only one default export, but as many named exports as you want.\n"
   ]
  },
  {
   "attachments": {},
   "cell_type": "markdown",
   "metadata": {},
   "source": [
    "If there are two functions `addTwo` and the `addThree` and toy want to export both, one way to do it would be the following:\n"
   ]
  },
  {
   "cell_type": "code",
   "execution_count": null,
   "metadata": {
    "vscode": {
     "languageId": "javascript"
    }
   },
   "outputs": [],
   "source": [
    "export function addTwo(a, b) {\n",
    "    console.log(a + b);\n",
    "}\n",
    "\n",
    "export function addThree(a + b + c) {\n",
    "    console.log(a + b + c);\n",
    "}"
   ]
  },
  {
   "attachments": {},
   "cell_type": "markdown",
   "metadata": {},
   "source": [
    "Or, you can do this:\n"
   ]
  },
  {
   "cell_type": "code",
   "execution_count": null,
   "metadata": {
    "vscode": {
     "languageId": "javascript"
    }
   },
   "outputs": [],
   "source": [
    "function addTwo(a, b) {\n",
    "    console.log(a + b);\n",
    "}\n",
    "\n",
    "function addThree(a + b + c) {\n",
    "    console.log(a + b + c);\n",
    "}\n",
    "\n",
    "export { addTwo, addThree };"
   ]
  },
  {
   "attachments": {},
   "cell_type": "markdown",
   "metadata": {},
   "source": [
    "### Importing Modules\n"
   ]
  },
  {
   "attachments": {},
   "cell_type": "markdown",
   "metadata": {},
   "source": [
    "Suppose you have a file called `math.js` that contains the following:\n"
   ]
  },
  {
   "cell_type": "code",
   "execution_count": null,
   "metadata": {
    "vscode": {
     "languageId": "javascript"
    }
   },
   "outputs": [],
   "source": [
    "// addTwo.js module:\n",
    "function addTwo(a, b) {\n",
    "  console.log(a + b);\n",
    "}\n",
    "\n",
    "export default addTwo;\n"
   ]
  },
  {
   "attachments": {},
   "cell_type": "markdown",
   "metadata": {},
   "source": [
    "To import the `addTwo` function from the `math.js` file, you can do the following in another file:\n"
   ]
  },
  {
   "cell_type": "code",
   "execution_count": null,
   "metadata": {
    "vscode": {
     "languageId": "javascript"
    }
   },
   "outputs": [],
   "source": [
    "import addTwo from \"./addTwo\";\n"
   ]
  },
  {
   "attachments": {},
   "cell_type": "markdown",
   "metadata": {},
   "source": [
    "Alternatively, you can do this:\n"
   ]
  },
  {
   "cell_type": "code",
   "execution_count": null,
   "metadata": {
    "vscode": {
     "languageId": "javascript"
    }
   },
   "outputs": [],
   "source": [
    "import { addTwo } from \"./addTwo\";\n"
   ]
  },
  {
   "attachments": {},
   "cell_type": "markdown",
   "metadata": {},
   "source": [
    "## Setting up a React project in VS Code\n"
   ]
  },
  {
   "attachments": {},
   "cell_type": "markdown",
   "metadata": {},
   "source": [
    "Once you have npm installed, you can create a new project using the following command:\n"
   ]
  },
  {
   "attachments": {},
   "cell_type": "markdown",
   "metadata": {},
   "source": [
    "```bash\n",
    "npm init react-app firstapp\n",
    "```\n"
   ]
  },
  {
   "attachments": {},
   "cell_type": "markdown",
   "metadata": {},
   "source": [
    "Then you can use `cd` to go into the `firstapp` directory and run the following command to start the development server:\n",
    "\n",
    "```bash\n",
    "npm start\n",
    "```\n"
   ]
  },
  {
   "attachments": {},
   "cell_type": "markdown",
   "metadata": {},
   "source": [
    "You will get a screen that looks like this:\n",
    "\n",
    "![React App](https://d3c33hcgiwev3.cloudfront.net/imageAssetProxy.v1/cnfWSqozTC631kqqM7wuBg_36c3f3d60b984ad89bd47496599b52e1_React-VSCode-2.png?expiry=1671753600000&hmac=cLMhcVdvNa3Z0JDxmYxpzxArV2uIDh3R4EQzKru8m3A)\n"
   ]
  },
  {
   "attachments": {},
   "cell_type": "markdown",
   "metadata": {},
   "source": [
    "## Transpiling JSX\n"
   ]
  },
  {
   "attachments": {},
   "cell_type": "markdown",
   "metadata": {},
   "source": [
    "### What is JSX?\n"
   ]
  },
  {
   "attachments": {},
   "cell_type": "markdown",
   "metadata": {},
   "source": [
    "JSX is a JavaScript Extension Syntax used in React to easily write HTML and JavaScript together. For example, take the following code:\n"
   ]
  },
  {
   "cell_type": "code",
   "execution_count": null,
   "metadata": {
    "vscode": {
     "languageId": "javascript"
    }
   },
   "outputs": [],
   "source": [
    "const element = <h1>Hello, world!</h1>;\n"
   ]
  },
  {
   "attachments": {},
   "cell_type": "markdown",
   "metadata": {},
   "source": [
    "This is neither valid JavaScript nor valid HTML. It is a combination of both. This is what JSX is.\n"
   ]
  },
  {
   "attachments": {},
   "cell_type": "markdown",
   "metadata": {},
   "source": [
    "### Transpiling JSX\n"
   ]
  },
  {
   "attachments": {},
   "cell_type": "markdown",
   "metadata": {},
   "source": [
    "A browser cannot understand JSX syntax. This means that making a browser understand React code requires a lot of supporting technologies.\n",
    "An example of such a technology is a transpiler.\n",
    "A transpiler takes a piece of code and transforms it into some other code.\n"
   ]
  },
  {
   "attachments": {},
   "cell_type": "markdown",
   "metadata": {},
   "source": [
    "One such transpiler is Babel. Babel is a JavaScript transpiler that takes JSX code and transforms it into JavaScript code that a browser can understand. You can have a look at the [Babel REPL](https://babeljs.io/repl) to see how it works.\n"
   ]
  },
  {
   "attachments": {},
   "cell_type": "markdown",
   "metadata": {},
   "source": [
    "For example, the following JSX code:\n"
   ]
  },
  {
   "cell_type": "code",
   "execution_count": null,
   "metadata": {
    "vscode": {
     "languageId": "javascript"
    }
   },
   "outputs": [],
   "source": [
    "function Heading(props) {\n",
    "  return <h1>{props.title}</h1>;\n",
    "}\n"
   ]
  },
  {
   "attachments": {},
   "cell_type": "markdown",
   "metadata": {},
   "source": [
    "After transpiling, becomes:\n"
   ]
  },
  {
   "cell_type": "code",
   "execution_count": null,
   "metadata": {
    "vscode": {
     "languageId": "javascript"
    }
   },
   "outputs": [],
   "source": [
    "\"use strict\";\n",
    "\n",
    "function Heading(props) {\n",
    "  return /*#__PURE__*/ React.createElement(\"h1\", null, props.title);\n",
    "}\n"
   ]
  },
  {
   "attachments": {},
   "cell_type": "markdown",
   "metadata": {},
   "source": [
    "Similarly:\n"
   ]
  },
  {
   "cell_type": "code",
   "execution_count": null,
   "metadata": {
    "vscode": {
     "languageId": "javascript"
    }
   },
   "outputs": [],
   "source": [
    "<Heading title=\"This is the heading text!\"></Heading>;\n"
   ]
  },
  {
   "attachments": {},
   "cell_type": "markdown",
   "metadata": {},
   "source": [
    "becomes\n"
   ]
  },
  {
   "cell_type": "code",
   "execution_count": null,
   "metadata": {
    "vscode": {
     "languageId": "javascript"
    }
   },
   "outputs": [],
   "source": [
    "\"use strict\";\n",
    "\n",
    "/*#__PURE__*/\n",
    "React.createElement(Heading, {\n",
    "  title: \"This is the heading text!\",\n",
    "});\n"
   ]
  },
  {
   "attachments": {},
   "cell_type": "markdown",
   "metadata": {},
   "source": [
    "## React Components\n"
   ]
  },
  {
   "attachments": {},
   "cell_type": "markdown",
   "metadata": {},
   "source": [
    "Components are independent and reusable bits of code. They serve the same purpose as JavaScript functions, but work in isolation and return HTML.\n"
   ]
  },
  {
   "attachments": {},
   "cell_type": "markdown",
   "metadata": {},
   "source": [
    "A component can also be used inside of another component, in the same way that a function can be used inside of another function. Here is an example:\n"
   ]
  },
  {
   "cell_type": "code",
   "execution_count": null,
   "metadata": {
    "vscode": {
     "languageId": "javascript"
    }
   },
   "outputs": [],
   "source": [
    "function Heading() {\n",
    "  return <h1>This is an h1 heading.</h1>;\n",
    "}\n",
    "\n",
    "function App() {\n",
    "  return (\n",
    "    <div className=\"App\">\n",
    "      This is the starting code for \"Your first component\" ungraded lab\n",
    "      <Heading />\n",
    "    </div>\n",
    "  );\n",
    "}\n",
    "\n",
    "export default App;\n"
   ]
  },
  {
   "attachments": {},
   "cell_type": "markdown",
   "metadata": {},
   "source": [
    "Here, we have two components, `App` and `Heading`. The `App` component returns the `Heading` component. The `Heading` component returns an `h1` element. We can see that the `Heading` component is used inside of the `App` component by using the `<Heading />` syntax.\n"
   ]
  },
  {
   "attachments": {},
   "cell_type": "markdown",
   "metadata": {},
   "source": [
    "## Props\n"
   ]
  },
  {
   "attachments": {},
   "cell_type": "markdown",
   "metadata": {},
   "source": [
    "Just like parameters in a JavaScript function allow you to pass in values as arguments, React uses properties, or props, to pass data between components. Props are read only. They form what we call a pure function, namely, the function that always returns the same result if the same arguments are passed in, it does not modify the arguments passed in, and it does not have any side effects.\n"
   ]
  },
  {
   "attachments": {},
   "cell_type": "markdown",
   "metadata": {},
   "source": [
    "### Dissecting props\n"
   ]
  },
  {
   "attachments": {},
   "cell_type": "markdown",
   "metadata": {},
   "source": [
    "To understand how props work, we'll use a transpiler like [Babel](https://babeljs.io/repl) to break JSX code to plain JavaScript, making its purpose more understandable. For example, let’s say you have a component that returns a piece of JSX:\n"
   ]
  },
  {
   "cell_type": "code",
   "execution_count": null,
   "metadata": {
    "vscode": {
     "languageId": "javascript"
    }
   },
   "outputs": [],
   "source": [
    "function App() {\n",
    "  return <h1>Hello there</h1>;\n",
    "}\n"
   ]
  },
  {
   "attachments": {},
   "cell_type": "markdown",
   "metadata": {},
   "source": [
    "Transpiling this code will give you the following:\n"
   ]
  },
  {
   "cell_type": "code",
   "execution_count": null,
   "metadata": {
    "vscode": {
     "languageId": "javascript"
    }
   },
   "outputs": [],
   "source": [
    "\"use strict\";\n",
    "function App() {\n",
    "  return /*#__PURE__*/ React.createElement(\"h1\", null, \"Hello there\");\n",
    "}\n"
   ]
  },
  {
   "attachments": {},
   "cell_type": "markdown",
   "metadata": {},
   "source": [
    "Let's focus on the `React.createElement(\"h1\", null, \"Hello there\");` part. The `createElement` function takes three arguments:\n",
    "\n",
    "1. The wrapping element to render.\n",
    "2. A null value (which is there to show an absence of an expected JavaScript object value).\n",
    "3. The inner content that will go inside the wrapping element.\n"
   ]
  },
  {
   "attachments": {},
   "cell_type": "markdown",
   "metadata": {},
   "source": [
    "> The inner content that will go inside the wrapping element can also be a call to the `createElement` function. This means that a nested JSX structure is just a bunch of nested `React.createElement` calls, passed in to other `React.createElement` calls as their third argument.\n"
   ]
  },
  {
   "attachments": {},
   "cell_type": "markdown",
   "metadata": {},
   "source": [
    "The `null` argument can be replaced by an object which is exactly what prop is! For example, transplining the following code:\n"
   ]
  },
  {
   "cell_type": "code",
   "execution_count": null,
   "metadata": {
    "vscode": {
     "languageId": "javascript"
    }
   },
   "outputs": [],
   "source": [
    "function App() {\n",
    "  return <h1 prop=\"prop\">Hello there</h1>;\n",
    "}\n"
   ]
  },
  {
   "attachments": {},
   "cell_type": "markdown",
   "metadata": {},
   "source": [
    "give:\n"
   ]
  },
  {
   "cell_type": "code",
   "execution_count": null,
   "metadata": {
    "vscode": {
     "languageId": "javascript"
    }
   },
   "outputs": [],
   "source": [
    "\"use strict\";\n",
    "\n",
    "function App() {\n",
    "  return /*#__PURE__*/ React.createElement(\n",
    "    \"h1\",\n",
    "    {\n",
    "      prop: \"prop\",\n",
    "    },\n",
    "    \"Hello there\"\n",
    "  );\n",
    "}\n"
   ]
  },
  {
   "attachments": {},
   "cell_type": "markdown",
   "metadata": {},
   "source": [
    "The genereal syntax for a `createElement` call is:\n",
    "\n",
    "```jsx\n",
    "React.createElement(type, [props], [...children]);\n",
    "```\n"
   ]
  },
  {
   "attachments": {},
   "cell_type": "markdown",
   "metadata": {},
   "source": [
    "The third argument `...children` can be a single child or an array of children. This is the inner content that will go inside the wrapping element. It's what makes it possible to nest elements inside other elements, mimicking the way that HTML works.\n"
   ]
  },
  {
   "attachments": {},
   "cell_type": "markdown",
   "metadata": {},
   "source": [
    "## Styling JSX elements\n"
   ]
  },
  {
   "attachments": {},
   "cell_type": "markdown",
   "metadata": {},
   "source": [
    "### Using `link`\n"
   ]
  },
  {
   "attachments": {},
   "cell_type": "markdown",
   "metadata": {},
   "source": [
    "There are multiple way to style JSX elements. One way is to the `link` tag in the `head` of the HTML document. For example, the following code:\n"
   ]
  },
  {
   "cell_type": "code",
   "execution_count": null,
   "metadata": {
    "vscode": {
     "languageId": "javascript"
    }
   },
   "outputs": [],
   "source": [
    "function Promo(props) {\n",
    "  return (\n",
    "    <div className=\"promo-section\">\n",
    "      <div>\n",
    "        <h1>{props.heading}</h1>\n",
    "      </div>\n",
    "      <div>\n",
    "        <h2>{props.promoSubHeading}</h2>\n",
    "      </div>\n",
    "    </div>\n",
    "  );\n",
    "}\n"
   ]
  },
  {
   "attachments": {},
   "cell_type": "markdown",
   "metadata": {},
   "source": [
    "Note that in JavaScript, `class` is a keyword, so you have to use `className` instead.\n"
   ]
  },
  {
   "attachments": {},
   "cell_type": "markdown",
   "metadata": {},
   "source": [
    "### Inline CSS\n"
   ]
  },
  {
   "attachments": {},
   "cell_type": "markdown",
   "metadata": {},
   "source": [
    "This is quick way to do styling, but it's not recommended. For example, the following code:\n"
   ]
  },
  {
   "cell_type": "code",
   "execution_count": null,
   "metadata": {
    "vscode": {
     "languageId": "javascript"
    }
   },
   "outputs": [],
   "source": [
    "function Promo(props) {\n",
    "  return (\n",
    "    <div className=\"promo-section\">\n",
    "      <div>\n",
    "        <h1 style={{ color: \"tomato\", fontSize: \"40px\", fontWeight: \"bold\" }}>\n",
    "          {props.heading}\n",
    "        </h1>\n",
    "      </div>\n",
    "      <div>\n",
    "        <h2>{props.promoSubHeading}</h2>\n",
    "      </div>\n",
    "    </div>\n",
    "  );\n",
    "}\n",
    "\n",
    "export default Promo;\n"
   ]
  },
  {
   "attachments": {},
   "cell_type": "markdown",
   "metadata": {},
   "source": [
    "Note that the css property names are somewhat different. Also, we need to use `{{}}` around the inline style because you are passing an `object` as style.\n"
   ]
  },
  {
   "attachments": {},
   "cell_type": "markdown",
   "metadata": {},
   "source": [
    "You can define the style in a variable and then use it as follows:\n"
   ]
  },
  {
   "cell_type": "code",
   "execution_count": null,
   "metadata": {
    "vscode": {
     "languageId": "javascript"
    }
   },
   "outputs": [],
   "source": [
    "function Promo(props) {\n",
    "  const styles = {\n",
    "    color: \"tomato\",\n",
    "    fontSize: \"40px\",\n",
    "  };\n",
    "\n",
    "  return (\n",
    "    <div className=\"promo-section\">\n",
    "      <div>\n",
    "        <h1 style={styles}>{props.heading}</h1>\n",
    "      </div>\n",
    "      <div>\n",
    "        <h2>{props.promoSubHeading}</h2>\n",
    "      </div>\n",
    "    </div>\n",
    "  );\n",
    "}\n"
   ]
  }
 ],
 "metadata": {
  "kernelspec": {
   "display_name": "Python 3",
   "language": "python",
   "name": "python3"
  },
  "language_info": {
   "name": "python",
   "version": "3.10.6 (main, Nov 14 2022, 16:10:14) [GCC 11.3.0]"
  },
  "orig_nbformat": 4,
  "vscode": {
   "interpreter": {
    "hash": "916dbcbb3f70747c44a77c7bcd40155683ae19c65e1c03b4aa3499c5328201f1"
   }
  }
 },
 "nbformat": 4,
 "nbformat_minor": 2
}
