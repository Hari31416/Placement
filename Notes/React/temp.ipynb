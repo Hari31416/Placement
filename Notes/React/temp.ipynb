{
 "cells": [
  {
   "cell_type": "code",
   "execution_count": 1,
   "metadata": {},
   "outputs": [],
   "source": [
    "import sys\n",
    "sys.path.append('../../tools')"
   ]
  },
  {
   "cell_type": "code",
   "execution_count": 2,
   "metadata": {},
   "outputs": [],
   "source": [
    "from files.notebook import Notebook"
   ]
  },
  {
   "cell_type": "code",
   "execution_count": 5,
   "metadata": {},
   "outputs": [
    {
     "data": {
      "text/plain": [
       "['./temp.ipynb', './W1.ipynb']"
      ]
     },
     "execution_count": 5,
     "metadata": {},
     "output_type": "execute_result"
    }
   ],
   "source": [
    "nb = Notebook()\n",
    "nb.notebooks"
   ]
  },
  {
   "cell_type": "code",
   "execution_count": 6,
   "metadata": {},
   "outputs": [
    {
     "name": "stdout",
     "output_type": "stream",
     "text": [
      "Converting the Notebook to HTML.\n",
      "Looking for the Headers and their positions.\n",
      "Getting correct order of the Headers.\n",
      "Creating the Contents.\n",
      "Content copied to clipboard.\n"
     ]
    },
    {
     "name": "stderr",
     "output_type": "stream",
     "text": [
      "QXcbClipboard::setMimeData: Cannot set X11 selection owner\n"
     ]
    }
   ],
   "source": [
    "text = nb.create_content(nb.notebooks[1], return_string=True)"
   ]
  },
  {
   "cell_type": "code",
   "execution_count": 7,
   "metadata": {},
   "outputs": [
    {
     "name": "stdout",
     "output_type": "stream",
     "text": [
      "<h2 id=\"Contents\">Contents<a href=\"#Contents\"></a></h2>\n",
      "        <ol>\n",
      "        <ol><li><a class=\"\" href=\"#JavaScript-Modules\">JavaScript Modules</a></li>\n",
      "<ol><li><a class=\"\" href=\"#Module-Exports\">Module Exports</a></li>\n",
      "<ol><li><a class=\"\" href=\"#Default-Exports\">Default Exports</a></li>\n",
      "<li><a class=\"\" href=\"#Named-Exports\">Named Exports</a></li>\n",
      "</ol><li><a class=\"\" href=\"#Importing-Modules\">Importing Modules</a></li>\n",
      "</ol><li><a class=\"\" href=\"#Setting-up-a-React-project-in-VS-Code\">Setting up a React project in VS Code</a></li>\n",
      "<li><a class=\"\" href=\"#Transpiling-JSX\">Transpiling JSX</a></li>\n",
      "<ol><li><a class=\"\" href=\"#What-is-JSX?\">What is JSX?</a></li>\n",
      "<li><a class=\"\" href=\"#Transpiling-JSX\">Transpiling JSX</a></li>\n",
      "</ol><li><a class=\"\" href=\"#React-Components\">React Components</a></li>\n",
      "<li><a class=\"\" href=\"#Props\">Props</a></li>\n",
      "<ol><li><a class=\"\" href=\"#Dissecting-props\">Dissecting props</a></li>\n",
      "</ol><li><a class=\"\" href=\"#Styling-JSX-elements\">Styling JSX elements</a></li>\n",
      "<ol><li><a class=\"\" href=\"#Using-link\">Using link</a></li>\n",
      "<li><a class=\"\" href=\"#Inline-CSS\">Inline CSS</a></li>\n",
      "</ol>\n"
     ]
    }
   ],
   "source": [
    "print(text)"
   ]
  },
  {
   "cell_type": "code",
   "execution_count": 8,
   "metadata": {},
   "outputs": [
    {
     "data": {
      "text/plain": [
       "'./W1.html'"
      ]
     },
     "execution_count": 8,
     "metadata": {},
     "output_type": "execute_result"
    }
   ],
   "source": [
    "nb.export_notebook(nb.notebooks[1])"
   ]
  },
  {
   "cell_type": "code",
   "execution_count": 7,
   "metadata": {},
   "outputs": [
    {
     "name": "stderr",
     "output_type": "stream",
     "text": [
      "Exporting notebooks...: 100%|██████████| 3/3 [00:00<00:00,  3.15it/s]\n"
     ]
    },
    {
     "data": {
      "text/plain": [
       "['././API.html', '././Basics.html', '././temp.html']"
      ]
     },
     "execution_count": 7,
     "metadata": {},
     "output_type": "execute_result"
    }
   ],
   "source": [
    "files = nb.export_directory()\n",
    "files"
   ]
  },
  {
   "cell_type": "code",
   "execution_count": 9,
   "metadata": {},
   "outputs": [
    {
     "name": "stdout",
     "output_type": "stream",
     "text": [
      "<ul><li>\n",
      "            <a href=\"Notes/MongoDB/API.html\" target=\"blank\" class=\"links\">API</a>\n",
      "          </li><li>\n",
      "            <a href=\"Notes/MongoDB/Basics.html\" target=\"blank\" class=\"links\">Basics</a>\n",
      "          </li></ul>\n"
     ]
    }
   ],
   "source": [
    "start = \"<ul>\"\n",
    "end = \"</ul>\"\n",
    "for f in files:\n",
    "    if \"temp\" in f:\n",
    "        continue\n",
    "    file = f.split(\"/\")[-1]\n",
    "    name = file.split(\".\")[0]\n",
    "    name = name.replace(\"_\", \" \")\n",
    "    start+=f\"\"\"<li>\n",
    "            <a href=\"Notes/MongoDB/{file}\" target=\"blank\" class=\"links\">{name}</a>\n",
    "          </li>\"\"\"\n",
    "start+=end\n",
    "print(start)"
   ]
  },
  {
   "cell_type": "code",
   "execution_count": null,
   "metadata": {},
   "outputs": [],
   "source": []
  }
 ],
 "metadata": {
  "kernelspec": {
   "display_name": "Python 3.9.12 ('data-science')",
   "language": "python",
   "name": "python3"
  },
  "language_info": {
   "codemirror_mode": {
    "name": "ipython",
    "version": 3
   },
   "file_extension": ".py",
   "mimetype": "text/x-python",
   "name": "python",
   "nbconvert_exporter": "python",
   "pygments_lexer": "ipython3",
   "version": "3.9.15"
  },
  "orig_nbformat": 4,
  "vscode": {
   "interpreter": {
    "hash": "2efee1efa502125d01e6b4768ba06d9453d29f3642bfd14ad5d4a769de82e88c"
   }
  }
 },
 "nbformat": 4,
 "nbformat_minor": 2
}
