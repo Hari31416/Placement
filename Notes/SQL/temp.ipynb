{
 "cells": [
  {
   "cell_type": "code",
   "execution_count": 1,
   "metadata": {},
   "outputs": [],
   "source": [
    "import sys\n",
    "sys.path.append('../../tools')"
   ]
  },
  {
   "cell_type": "code",
   "execution_count": 2,
   "metadata": {
    "scrolled": true
   },
   "outputs": [],
   "source": [
    "from files.notebook import Notebook"
   ]
  },
  {
   "cell_type": "code",
   "execution_count": 3,
   "metadata": {},
   "outputs": [],
   "source": [
    "nb = Notebook()"
   ]
  },
  {
   "cell_type": "code",
   "execution_count": 4,
   "metadata": {},
   "outputs": [
    {
     "data": {
      "text/plain": [
       "['./Basics.ipynb',\n",
       " './ERD.ipynb',\n",
       " './Intermediate_SQL.ipynb',\n",
       " './Joining_SQL_Tables.ipynb',\n",
       " './More.ipynb',\n",
       " './MySQL_Functions.ipynb',\n",
       " './temp.ipynb']"
      ]
     },
     "execution_count": 4,
     "metadata": {},
     "output_type": "execute_result"
    }
   ],
   "source": [
    "nb.notebooks"
   ]
  },
  {
   "cell_type": "code",
   "execution_count": 5,
   "metadata": {},
   "outputs": [
    {
     "name": "stdout",
     "output_type": "stream",
     "text": [
      "Converting the Notebook to HTML.\n",
      "Looking for the Headers and their positions.\n",
      "Getting correct order of the Headers.\n",
      "Creating the Contents.\n",
      "Content copied to clipboard.\n"
     ]
    },
    {
     "name": "stderr",
     "output_type": "stream",
     "text": [
      "qt.qpa.plugin: Could not find the Qt platform plugin \"wayland\" in \"\"\n"
     ]
    }
   ],
   "source": [
    "text = nb.create_content(nb.notebooks[1], return_string=True)"
   ]
  },
  {
   "cell_type": "code",
   "execution_count": 6,
   "metadata": {},
   "outputs": [
    {
     "name": "stdout",
     "output_type": "stream",
     "text": [
      "<h2 id=\"Contents\">Contents<a href=\"#Contents\"></a></h2>\n",
      "        <ol>\n",
      "        <li><a class=\"\" href=\"#ERD\">ERD</a></li>\n",
      "<ol><li><a class=\"\" href=\"#Parts-of-ERD\">Parts of ERD</a></li>\n",
      "<ol><li><a class=\"\" href=\"#Entity\">Entity</a></li>\n",
      "<li><a class=\"\" href=\"#Entity-Attributes\">Entity Attributes</a></li>\n",
      "<li><a class=\"\" href=\"#Primary-Key\">Primary Key</a></li>\n",
      "<li><a class=\"\" href=\"#Foreign-Key\">Foreign Key</a></li>\n",
      "<li><a class=\"\" href=\"#Relationship\">Relationship</a></li>\n",
      "<li><a class=\"\" href=\"#Cardinality\">Cardinality</a></li>\n",
      "<ol><li><a class=\"\" href=\"#One-to-One\">One-to-One</a></li>\n",
      "<li><a class=\"\" href=\"#One-to-Many\">One-to-Many</a></li>\n",
      "<li><a class=\"\" href=\"#Many-to-Many\">Many-to-Many</a></li>\n",
      "</ol><li><a class=\"\" href=\"#Types-of-ERD\">Types of ERD</a></li>\n",
      "<ol><li><a class=\"\" href=\"#Conceptual-ERD\">Conceptual ERD</a></li>\n",
      "<li><a class=\"\" href=\"#Logical-ERD\">Logical ERD</a></li>\n",
      "<li><a class=\"\" href=\"#Physical-ERD\">Physical ERD</a></li>\n",
      "<li><a class=\"\" href=\"#Some-Examples-of-ERD\">Some Examples of ERD</a></li>\n",
      "<ol><li><a class=\"\" href=\"#Movie-Rental-System\">Movie Rental System</a></li>\n",
      "<li><a class=\"\" href=\"#Loan-System\">Loan System</a></li>\n",
      "<li><a class=\"\" href=\"#Online-Shopping-System\">Online Shopping System</a></li>\n",
      "</ol><li><a class=\"\" href=\"#Notations\">Notations</a></li>\n",
      "</ol><li><a class=\"\" href=\"#UML-Class-Diagram\">UML Class Diagram</a></li>\n",
      "<ol><li><a class=\"\" href=\"#Class-Diagram\">Class Diagram</a></li>\n",
      "<li><a class=\"\" href=\"#UML-Class-Notation\">UML Class Notation</a></li>\n",
      "<ol><li><a class=\"\" href=\"#Name,-Methods,-and-Attributes\">Name, Methods, and Attributes</a></li>\n",
      "<li><a class=\"\" href=\"#Class-Visibility\">Class Visibility</a></li>\n",
      "</ol><li><a class=\"\" href=\"#Perspectives-of-Class-Diagram\">Perspectives of Class Diagram</a></li>\n",
      "<li><a class=\"\" href=\"#Relationships-between-classes\">Relationships between classes</a></li>\n",
      "<ol><li><a class=\"\" href=\"#Inheritance-(or-Generalization)\">Inheritance (or Generalization)</a></li>\n",
      "<li><a class=\"\" href=\"#Association\">Association</a></li>\n",
      "<li><a class=\"\" href=\"#Aggregation\">Aggregation</a></li>\n",
      "<li><a class=\"\" href=\"#Composition\">Composition</a></li>\n",
      "<li><a class=\"\" href=\"#Dependency\">Dependency</a></li>\n",
      "<li><a class=\"\" href=\"#Realization\">Realization</a></li>\n",
      "</ol><li><a class=\"\" href=\"#Examples\">Examples</a></li>\n",
      "<ol><li><a class=\"\" href=\"#Order-System\">Order System</a></li>\n",
      "<li><a class=\"\" href=\"#GUI\">GUI</a></li>\n",
      "<li><a class=\"\" href=\"#ATM\">ATM</a></li>\n",
      "<li><a class=\"\" href=\"#Library-Management-System\">Library Management System</a></li>\n",
      "</ol>\n"
     ]
    }
   ],
   "source": [
    "print(text)"
   ]
  },
  {
   "cell_type": "code",
   "execution_count": 7,
   "metadata": {},
   "outputs": [
    {
     "name": "stderr",
     "output_type": "stream",
     "text": [
      "Exporting notebooks...: 100%|██████████| 7/7 [00:02<00:00,  2.67it/s]\n"
     ]
    }
   ],
   "source": [
    "files = nb.export_directory()"
   ]
  },
  {
   "cell_type": "code",
   "execution_count": 16,
   "metadata": {},
   "outputs": [
    {
     "data": {
      "text/plain": [
       "['././Scope_and_Namespace.html',\n",
       " '././temp.html',\n",
       " '././Terminology.html',\n",
       " '././Variables_and_Pointers.html']"
      ]
     },
     "execution_count": 16,
     "metadata": {},
     "output_type": "execute_result"
    }
   ],
   "source": [
    "files"
   ]
  },
  {
   "cell_type": "code",
   "execution_count": 8,
   "metadata": {},
   "outputs": [
    {
     "name": "stdout",
     "output_type": "stream",
     "text": [
      "<ul><li>\n",
      "            <a href=\"Notes/SQL/Basics.html\" target=\"blank\" class=\"links\">Basics</a>\n",
      "          </li><li>\n",
      "            <a href=\"Notes/SQL/ERD.html\" target=\"blank\" class=\"links\">ERD</a>\n",
      "          </li><li>\n",
      "            <a href=\"Notes/SQL/Intermediate_SQL.html\" target=\"blank\" class=\"links\">Intermediate SQL</a>\n",
      "          </li><li>\n",
      "            <a href=\"Notes/SQL/Joining_SQL_Tables.html\" target=\"blank\" class=\"links\">Joining SQL Tables</a>\n",
      "          </li><li>\n",
      "            <a href=\"Notes/SQL/More.html\" target=\"blank\" class=\"links\">More</a>\n",
      "          </li><li>\n",
      "            <a href=\"Notes/SQL/MySQL_Functions.html\" target=\"blank\" class=\"links\">MySQL Functions</a>\n",
      "          </li></ul>\n"
     ]
    }
   ],
   "source": [
    "start = \"<ul>\"\n",
    "end = \"</ul>\"\n",
    "for f in files:\n",
    "    if \"temp\" in f:\n",
    "        continue\n",
    "    file = f.split(\"/\")[-1]\n",
    "    name = file.split(\".\")[0]\n",
    "    name = name.replace(\"_\", \" \")\n",
    "    start+=f\"\"\"<li>\n",
    "            <a href=\"Notes/SQL/{file}\" target=\"blank\" class=\"links\">{name}</a>\n",
    "          </li>\"\"\"\n",
    "start+=end\n",
    "print(start)"
   ]
  },
  {
   "cell_type": "code",
   "execution_count": 20,
   "metadata": {},
   "outputs": [
    {
     "name": "stderr",
     "output_type": "stream",
     "text": [
      "QXcbClipboard::setMimeData: Cannot set X11 selection owner\n"
     ]
    }
   ],
   "source": [
    "import pyperclip\n",
    "pyperclip.copy(text)"
   ]
  },
  {
   "cell_type": "code",
   "execution_count": 13,
   "metadata": {},
   "outputs": [
    {
     "data": {
      "text/plain": [
       "['.\\\\Easy_1.ipynb',\n",
       " '.\\\\Easy_2.ipynb',\n",
       " '.\\\\Easy_3.ipynb',\n",
       " '.\\\\Hard_1.ipynb',\n",
       " '.\\\\Medium_1.ipynb',\n",
       " '.\\\\Medium_2.ipynb',\n",
       " '.\\\\temp.ipynb']"
      ]
     },
     "execution_count": 13,
     "metadata": {},
     "output_type": "execute_result"
    }
   ],
   "source": [
    "nb.notebooks"
   ]
  },
  {
   "cell_type": "code",
   "execution_count": 15,
   "metadata": {},
   "outputs": [
    {
     "data": {
      "text/plain": [
       "'.\\\\Easy_3.html'"
      ]
     },
     "execution_count": 15,
     "metadata": {},
     "output_type": "execute_result"
    }
   ],
   "source": [
    "nb.export_notebook(nb.notebooks[2])"
   ]
  },
  {
   "cell_type": "code",
   "execution_count": null,
   "metadata": {},
   "outputs": [],
   "source": []
  }
 ],
 "metadata": {
  "kernelspec": {
   "display_name": "Python 3 (ipykernel)",
   "language": "python",
   "name": "python3"
  },
  "language_info": {
   "codemirror_mode": {
    "name": "ipython",
    "version": 3
   },
   "file_extension": ".py",
   "mimetype": "text/x-python",
   "name": "python",
   "nbconvert_exporter": "python",
   "pygments_lexer": "ipython3",
   "version": "3.9.12"
  },
  "vscode": {
   "interpreter": {
    "hash": "2efee1efa502125d01e6b4768ba06d9453d29f3642bfd14ad5d4a769de82e88c"
   }
  }
 },
 "nbformat": 4,
 "nbformat_minor": 2
}
