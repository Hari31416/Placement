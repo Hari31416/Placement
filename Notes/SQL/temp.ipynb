{
 "cells": [
  {
   "cell_type": "code",
   "execution_count": 1,
   "metadata": {},
   "outputs": [],
   "source": [
    "import sys\n",
    "sys.path.append('../../tools')"
   ]
  },
  {
   "cell_type": "code",
   "execution_count": 2,
   "metadata": {
    "scrolled": true
   },
   "outputs": [],
   "source": [
    "from files.notebook import Notebook"
   ]
  },
  {
   "cell_type": "code",
   "execution_count": 3,
   "metadata": {},
   "outputs": [],
   "source": [
    "nb = Notebook()"
   ]
  },
  {
   "cell_type": "code",
   "execution_count": 4,
   "metadata": {},
   "outputs": [
    {
     "data": {
      "text/plain": [
       "['./Basics.ipynb',\n",
       " './DBMS.ipynb',\n",
       " './ERD.ipynb',\n",
       " './Intermediate_SQL.ipynb',\n",
       " './Joining_SQL_Tables.ipynb',\n",
       " './More.ipynb',\n",
       " './MySQL_Functions.ipynb',\n",
       " './temp.ipynb']"
      ]
     },
     "execution_count": 4,
     "metadata": {},
     "output_type": "execute_result"
    }
   ],
   "source": [
    "nb.notebooks"
   ]
  },
  {
   "cell_type": "code",
   "execution_count": 5,
   "metadata": {},
   "outputs": [
    {
     "name": "stdout",
     "output_type": "stream",
     "text": [
      "Converting the Notebook to HTML.\n",
      "Looking for the Headers and their positions.\n",
      "Getting correct order of the Headers.\n",
      "Creating the Contents.\n",
      "Content copied to clipboard.\n"
     ]
    },
    {
     "name": "stderr",
     "output_type": "stream",
     "text": [
      "qt.qpa.plugin: Could not find the Qt platform plugin \"wayland\" in \"\"\n"
     ]
    }
   ],
   "source": [
    "text = nb.create_content(nb.notebooks[1], return_string=True)"
   ]
  },
  {
   "cell_type": "code",
   "execution_count": 6,
   "metadata": {},
   "outputs": [
    {
     "name": "stdout",
     "output_type": "stream",
     "text": [
      "<h2 id=\"Contents\">Contents<a href=\"#Contents\"></a></h2>\n",
      "        <ol>\n",
      "        <li><a class=\"\" href=\"#Data-and-Database\">Data and Database</a></li>\n",
      "<ol><li><a class=\"\" href=\"#Data\">Data</a></li>\n",
      "<li><a class=\"\" href=\"#Database\">Database</a></li>\n",
      "<ol><li><a class=\"\" href=\"#Hierarchical-Database\">Hierarchical Database</a></li>\n",
      "<li><a class=\"\" href=\"#Network-Database\">Network Database</a></li>\n",
      "<li><a class=\"\" href=\"#Object-Oriented-Database\">Object-Oriented Database</a></li>\n",
      "<li><a class=\"\" href=\"#NoSQL-Database\">NoSQL Database</a></li>\n",
      "<ol><li><a class=\"\" href=\"#Pros-and-Cons-of-NoSQL-Database\">Pros and Cons of NoSQL Database</a></li>\n",
      "<li><a class=\"\" href=\"#Typed-of-NoSQL-Database\">Typed of NoSQL Database</a></li>\n",
      "</ol><li><a class=\"\" href=\"#Relational-Databases\">Relational Databases</a></li>\n",
      "</ol><li><a class=\"\" href=\"#Database-Management-System\">Database Management System</a></li>\n",
      "<ol><li><a class=\"\" href=\"#Allowed-Tasks\">Allowed Tasks</a></li>\n",
      "<li><a class=\"\" href=\"#Characterstics-of-DBMS\">Characterstics of DBMS</a></li>\n",
      "<ol><li><a class=\"\" href=\"#Advantages-of-DBMS\">Advantages of DBMS</a></li>\n",
      "<li><a class=\"\" href=\"#Disadvantages-of-DBMS\">Disadvantages of DBMS</a></li>\n",
      "</ol><li><a class=\"\" href=\"#DBMS-vs.-File-System\">DBMS vs. File System</a></li>\n",
      "<li><a class=\"\" href=\"#DBMS-Architecture\">DBMS Architecture</a></li>\n",
      "<ol><li><a class=\"\" href=\"#1-Tier-Architecture\">1-Tier Architecture</a></li>\n",
      "<li><a class=\"\" href=\"#2-Tier-Architecture\">2-Tier Architecture</a></li>\n",
      "<li><a class=\"\" href=\"#3-Tier-Architecture\">3-Tier Architecture</a></li>\n",
      "</ol><li><a class=\"\" href=\"#Database-Language\">Database Language</a></li>\n",
      "<ol><li><a class=\"\" href=\"#Data-Definition-Language\">Data Definition Language</a></li>\n",
      "<li><a class=\"\" href=\"#Data-Manipulation-Language\">Data Manipulation Language</a></li>\n",
      "<li><a class=\"\" href=\"#Data-Control-Language\">Data Control Language</a></li>\n",
      "<li><a class=\"\" href=\"#Transaction-Control-Language\">Transaction Control Language</a></li>\n",
      "</ol><li><a class=\"\" href=\"#ACID-Properties-in-DBMS\">ACID Properties in DBMS</a></li>\n",
      "<ol><li><a class=\"\" href=\"#Atomicity\">Atomicity</a></li>\n",
      "<li><a class=\"\" href=\"#Consistency\">Consistency</a></li>\n",
      "<li><a class=\"\" href=\"#Isolation\">Isolation</a></li>\n",
      "<li><a class=\"\" href=\"#Durability\">Durability</a></li>\n",
      "</ol><li><a class=\"\" href=\"#Transaction\">Transaction</a></li>\n",
      "<ol><li><a class=\"\" href=\"#Active-State\">Active State</a></li>\n",
      "<li><a class=\"\" href=\"#Partially-Committed\">Partially Committed</a></li>\n",
      "<li><a class=\"\" href=\"#Commited\">Commited</a></li>\n",
      "<li><a class=\"\" href=\"#Failed-State\">Failed State</a></li>\n",
      "<li><a class=\"\" href=\"#Aborted\">Aborted</a></li>\n",
      "</ol><li><a class=\"\" href=\"#RDBMS\">RDBMS</a></li>\n",
      "<ol><li><a class=\"\" href=\"#Different-Part-of-RDBMS\">Different Part of RDBMS</a></li>\n",
      "<ol><li><a class=\"\" href=\"#Table/Relation\">Table/Relation</a></li>\n",
      "<li><a class=\"\" href=\"#Row/Tuple\">Row/Tuple</a></li>\n",
      "<li><a class=\"\" href=\"#Column/Attribute\">Column/Attribute</a></li>\n",
      "<li><a class=\"\" href=\"#Data-Item/Cells\">Data Item/Cells</a></li>\n",
      "</ol><li><a class=\"\" href=\"#Difference-between-DBMS-and-RDBMS\">Difference between DBMS and RDBMS</a></li>\n",
      "</ol>\n"
     ]
    }
   ],
   "source": [
    "print(text)"
   ]
  },
  {
   "cell_type": "code",
   "execution_count": 7,
   "metadata": {},
   "outputs": [
    {
     "data": {
      "text/plain": [
       "'./DBMS.html'"
      ]
     },
     "execution_count": 7,
     "metadata": {},
     "output_type": "execute_result"
    }
   ],
   "source": [
    "nb.export_notebook(nb.notebooks[1])"
   ]
  },
  {
   "cell_type": "code",
   "execution_count": 7,
   "metadata": {},
   "outputs": [
    {
     "name": "stderr",
     "output_type": "stream",
     "text": [
      "Exporting notebooks...: 100%|██████████| 7/7 [00:02<00:00,  2.67it/s]\n"
     ]
    }
   ],
   "source": [
    "files = nb.export_directory()"
   ]
  },
  {
   "cell_type": "code",
   "execution_count": 16,
   "metadata": {},
   "outputs": [
    {
     "data": {
      "text/plain": [
       "['././Scope_and_Namespace.html',\n",
       " '././temp.html',\n",
       " '././Terminology.html',\n",
       " '././Variables_and_Pointers.html']"
      ]
     },
     "execution_count": 16,
     "metadata": {},
     "output_type": "execute_result"
    }
   ],
   "source": [
    "files"
   ]
  },
  {
   "cell_type": "code",
   "execution_count": 8,
   "metadata": {},
   "outputs": [
    {
     "name": "stdout",
     "output_type": "stream",
     "text": [
      "<ul><li>\n",
      "            <a href=\"Notes/SQL/Basics.html\" target=\"blank\" class=\"links\">Basics</a>\n",
      "          </li><li>\n",
      "            <a href=\"Notes/SQL/ERD.html\" target=\"blank\" class=\"links\">ERD</a>\n",
      "          </li><li>\n",
      "            <a href=\"Notes/SQL/Intermediate_SQL.html\" target=\"blank\" class=\"links\">Intermediate SQL</a>\n",
      "          </li><li>\n",
      "            <a href=\"Notes/SQL/Joining_SQL_Tables.html\" target=\"blank\" class=\"links\">Joining SQL Tables</a>\n",
      "          </li><li>\n",
      "            <a href=\"Notes/SQL/More.html\" target=\"blank\" class=\"links\">More</a>\n",
      "          </li><li>\n",
      "            <a href=\"Notes/SQL/MySQL_Functions.html\" target=\"blank\" class=\"links\">MySQL Functions</a>\n",
      "          </li></ul>\n"
     ]
    }
   ],
   "source": [
    "start = \"<ul>\"\n",
    "end = \"</ul>\"\n",
    "for f in files:\n",
    "    if \"temp\" in f:\n",
    "        continue\n",
    "    file = f.split(\"/\")[-1]\n",
    "    name = file.split(\".\")[0]\n",
    "    name = name.replace(\"_\", \" \")\n",
    "    start+=f\"\"\"<li>\n",
    "            <a href=\"Notes/SQL/{file}\" target=\"blank\" class=\"links\">{name}</a>\n",
    "          </li>\"\"\"\n",
    "start+=end\n",
    "print(start)"
   ]
  },
  {
   "cell_type": "code",
   "execution_count": 20,
   "metadata": {},
   "outputs": [
    {
     "name": "stderr",
     "output_type": "stream",
     "text": [
      "QXcbClipboard::setMimeData: Cannot set X11 selection owner\n"
     ]
    }
   ],
   "source": [
    "import pyperclip\n",
    "pyperclip.copy(text)"
   ]
  },
  {
   "cell_type": "code",
   "execution_count": 13,
   "metadata": {},
   "outputs": [
    {
     "data": {
      "text/plain": [
       "['.\\\\Easy_1.ipynb',\n",
       " '.\\\\Easy_2.ipynb',\n",
       " '.\\\\Easy_3.ipynb',\n",
       " '.\\\\Hard_1.ipynb',\n",
       " '.\\\\Medium_1.ipynb',\n",
       " '.\\\\Medium_2.ipynb',\n",
       " '.\\\\temp.ipynb']"
      ]
     },
     "execution_count": 13,
     "metadata": {},
     "output_type": "execute_result"
    }
   ],
   "source": [
    "nb.notebooks"
   ]
  },
  {
   "cell_type": "code",
   "execution_count": 15,
   "metadata": {},
   "outputs": [
    {
     "data": {
      "text/plain": [
       "'.\\\\Easy_3.html'"
      ]
     },
     "execution_count": 15,
     "metadata": {},
     "output_type": "execute_result"
    }
   ],
   "source": [
    "nb.export_notebook(nb.notebooks[2])"
   ]
  },
  {
   "cell_type": "code",
   "execution_count": null,
   "metadata": {},
   "outputs": [],
   "source": []
  }
 ],
 "metadata": {
  "kernelspec": {
   "display_name": "Python 3 (ipykernel)",
   "language": "python",
   "name": "python3"
  },
  "language_info": {
   "codemirror_mode": {
    "name": "ipython",
    "version": 3
   },
   "file_extension": ".py",
   "mimetype": "text/x-python",
   "name": "python",
   "nbconvert_exporter": "python",
   "pygments_lexer": "ipython3",
   "version": "3.9.12"
  },
  "vscode": {
   "interpreter": {
    "hash": "2efee1efa502125d01e6b4768ba06d9453d29f3642bfd14ad5d4a769de82e88c"
   }
  }
 },
 "nbformat": 4,
 "nbformat_minor": 2
}
