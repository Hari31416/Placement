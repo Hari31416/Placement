{
 "cells": [
  {
   "cell_type": "markdown",
   "metadata": {},
   "source": [
    "<h2 id=\"Contents\">Contents<a href=\"#Contents\"></a></h2>\n",
    "        <ol>\n",
    "        <li><a class=\"\" href=\"#ERD\">ERD</a></li>\n",
    "<ol><li><a class=\"\" href=\"#Parts-of-ERD\">Parts of ERD</a></li>\n",
    "<ol><li><a class=\"\" href=\"#Entity\">Entity</a></li>\n",
    "<li><a class=\"\" href=\"#Entity-Attributes\">Entity Attributes</a></li>\n",
    "<li><a class=\"\" href=\"#Primary-Key\">Primary Key</a></li>\n",
    "<li><a class=\"\" href=\"#Foreign-Key\">Foreign Key</a></li>\n",
    "<li><a class=\"\" href=\"#Relationship\">Relationship</a></li>\n",
    "<li><a class=\"\" href=\"#Cardinality\">Cardinality</a></li>\n",
    "<ol><li><a class=\"\" href=\"#One-to-One\">One-to-One</a></li>\n",
    "<li><a class=\"\" href=\"#One-to-Many\">One-to-Many</a></li>\n",
    "<li><a class=\"\" href=\"#Many-to-Many\">Many-to-Many</a></li>\n",
    "</ol></ol><li><a class=\"\" href=\"#Types-of-ERD\">Types of ERD</a></li>\n",
    "<ol><li><a class=\"\" href=\"#Conceptual-ERD\">Conceptual ERD</a></li>\n",
    "<li><a class=\"\" href=\"#Logical-ERD\">Logical ERD</a></li>\n",
    "<li><a class=\"\" href=\"#Physical-ERD\">Physical ERD</a></li>\n",
    "<li><a class=\"\" href=\"#Some-Examples-of-ERD\">Some Examples of ERD</a></li>\n",
    "<ol><li><a class=\"\" href=\"#Movie-Rental-System\">Movie Rental System</a></li>\n",
    "<li><a class=\"\" href=\"#Loan-System\">Loan System</a></li>\n",
    "<li><a class=\"\" href=\"#Online-Shopping-System\">Online Shopping System</a></li>\n",
    "</ol><li><a class=\"\" href=\"#Notations\">Notations</a></li>\n",
    "</ol></ol><li><a class=\"\" href=\"#UML-Class-Diagram\">UML Class Diagram</a></li>\n",
    "<ol><li><a class=\"\" href=\"#Class-Diagram\">Class Diagram</a></li>\n",
    "<li><a class=\"\" href=\"#UML-Class-Notation\">UML Class Notation</a></li>\n",
    "<ol><li><a class=\"\" href=\"#Name,-Methods,-and-Attributes\">Name, Methods, and Attributes</a></li>\n",
    "<li><a class=\"\" href=\"#Class-Visibility\">Class Visibility</a></li>\n",
    "</ol><li><a class=\"\" href=\"#Perspectives-of-Class-Diagram\">Perspectives of Class Diagram</a></li>\n",
    "<li><a class=\"\" href=\"#Relationships-between-classes\">Relationships between classes</a></li>\n",
    "<ol><li><a class=\"\" href=\"#Inheritance-(or-Generalization)\">Inheritance (or Generalization)</a></li>\n",
    "<li><a class=\"\" href=\"#Association\">Association</a></li>\n",
    "<li><a class=\"\" href=\"#Aggregation\">Aggregation</a></li>\n",
    "<li><a class=\"\" href=\"#Composition\">Composition</a></li>\n",
    "<li><a class=\"\" href=\"#Dependency\">Dependency</a></li>\n",
    "<li><a class=\"\" href=\"#Realization\">Realization</a></li>\n",
    "</ol><li><a class=\"\" href=\"#Examples\">Examples</a></li>\n",
    "<ol><li><a class=\"\" href=\"#Order-System\">Order System</a></li>\n",
    "<li><a class=\"\" href=\"#GUI\">GUI</a></li>\n",
    "<li><a class=\"\" href=\"#ATM\">ATM</a></li>\n",
    "<li><a class=\"\" href=\"#Library-Management-System\">Library Management System</a></li>\n",
    "</ol>\n"
   ]
  },
  {
   "cell_type": "markdown",
   "metadata": {},
   "source": [
    "# ERD"
   ]
  },
  {
   "cell_type": "markdown",
   "metadata": {},
   "source": [
    "Entity Relationship Diagram, also known as ERD, ER Diagram or ER model, is a type of structural diagram for use in database design. An ERD contains different symbols and connectors that visualize two important information: The major entities within the system scope, and the inter-relationships among these entities."
   ]
  },
  {
   "cell_type": "markdown",
   "metadata": {},
   "source": [
    "## Parts of ERD"
   ]
  },
  {
   "cell_type": "markdown",
   "metadata": {},
   "source": [
    "### Entity"
   ]
  },
  {
   "cell_type": "markdown",
   "metadata": {},
   "source": [
    "An ERD entity is a definable thing or concept within a system, such as a person/role (e.g. Student), object (e.g. Invoice), concept (e.g. Profile) or event (e.g. Transaction) (note: In ERD, the term \"entity\" is often used instead of \"table\", but they are the same). When determining entities, think of them as nouns. In ER models, an entity is shown as a rounded rectangle, with its name on top and its attributes listed in the body of the entity shape.\n",
    "\n",
    "![](https://cdn-images.visual-paradigm.com/guide/data-modeling/what-is-erd/03-an-erd-entity.png)"
   ]
  },
  {
   "cell_type": "markdown",
   "metadata": {},
   "source": [
    "### Entity Attributes"
   ]
  },
  {
   "cell_type": "markdown",
   "metadata": {},
   "source": [
    "Also known as a column, an attribute is a property or characteristic of the entity that holds it.\n",
    "\n",
    "An attribute has a name that describes the property and a type that describes the kind of attribute it is, such as varchar for a string, and int for integer. When an ERD is drawn for physical database development, it is important to ensure the use of types that are supported by the target RDBMS."
   ]
  },
  {
   "cell_type": "markdown",
   "metadata": {},
   "source": [
    "![](https://cdn-images.visual-paradigm.com/guide/data-modeling/what-is-erd/04-an-erd-entity-with-entities.png)"
   ]
  },
  {
   "cell_type": "markdown",
   "metadata": {},
   "source": [
    "### Primary Key"
   ]
  },
  {
   "cell_type": "markdown",
   "metadata": {},
   "source": [
    "Also known as PK, a primary key is a special kind of entity attribute that uniquely defines a record in a database table. In other words, there must not be two (or more) records that share the same value for the primary key attribute. The ERD example below shows an entity 'Product' with a primary key attribute 'ID', and a preview of table records in the database. The third record is invalid because the value of ID 'PDT-0002' is already used by another record.\n",
    "\n",
    "![](https://cdn-images.visual-paradigm.com/guide/data-modeling/what-is-erd/05-concept-of-erd-primary-key.png)"
   ]
  },
  {
   "cell_type": "markdown",
   "metadata": {},
   "source": [
    "### Foreign Key"
   ]
  },
  {
   "cell_type": "markdown",
   "metadata": {},
   "source": [
    "Also known as FK, a foreign key is a reference to a primary key in a table. It is used to identify the relationships between entities. Note that foreign keys need not be unique. Multiple records can share the same values. The ER Diagram example below shows an entity with some columns, among which a foreign key is used in referencing another entity."
   ]
  },
  {
   "cell_type": "markdown",
   "metadata": {},
   "source": [
    "![](https://cdn-images.visual-paradigm.com/guide/data-modeling/what-is-erd/06-concept-of-erd-foreign-key.png)"
   ]
  },
  {
   "cell_type": "markdown",
   "metadata": {},
   "source": [
    "> Foreign key is the primary key of another table."
   ]
  },
  {
   "cell_type": "markdown",
   "metadata": {},
   "source": [
    "### Relationship"
   ]
  },
  {
   "cell_type": "markdown",
   "metadata": {},
   "source": [
    "A relationship between two entities signifies that the two entities are associated with each other somehow. For example, a student might enroll in a course. The entity Student is therefore related to Course, and a relationship is presented as a connector connecting between them."
   ]
  },
  {
   "cell_type": "markdown",
   "metadata": {},
   "source": [
    "### Cardinality"
   ]
  },
  {
   "cell_type": "markdown",
   "metadata": {},
   "source": [
    "Cardinality defines the possible number of occurrences in one entity which is associated with the number of occurrences in another. For example, ONE team has MANY players. When present in an ERD, the entity Team and Player are inter-connected with a one-to-many relationship.\n",
    "\n",
    "In an ER diagram, cardinality is represented as a crow's foot at the connector's ends. The three common cardinal relationships are one-to-one, one-to-many, and many-to-many."
   ]
  },
  {
   "cell_type": "markdown",
   "metadata": {},
   "source": [
    "#### One-to-One"
   ]
  },
  {
   "cell_type": "markdown",
   "metadata": {},
   "source": [
    "A one-to-one relationship is mostly used to split an entity in two to provide information concisely and make it more understandable. The figure below shows an example of a one-to-one relationship.\n",
    "\n",
    "![](https://cdn-images.visual-paradigm.com/guide/data-modeling/what-is-erd/07-erd-one-to-one-relationship-example.png)"
   ]
  },
  {
   "cell_type": "markdown",
   "metadata": {},
   "source": [
    "#### One-to-Many"
   ]
  },
  {
   "cell_type": "markdown",
   "metadata": {},
   "source": [
    "A one-to-many relationship refers to the relationship between two entities X and Y in which an instance of X may be linked to many instances of Y, but an instance of Y is linked to only one instance of X. The figure below shows an example of a one-to-many relationship.\n",
    "\n",
    "![](https://cdn-images.visual-paradigm.com/guide/data-modeling/what-is-erd/08-erd-one-to-many-example.png)"
   ]
  },
  {
   "cell_type": "markdown",
   "metadata": {},
   "source": [
    "#### Many-to-Many"
   ]
  },
  {
   "cell_type": "markdown",
   "metadata": {},
   "source": [
    "A many-to-many relationship refers to the relationship between two entities X and Y in which X may be linked to many instances of Y and vice versa. The figure below shows an example of a many-to-many relationship. Note that a many-to-many relationship is split into a pair of one-to-many relationships in a physical ERD.\n",
    "\n",
    "![](https://cdn-images.visual-paradigm.com/guide/data-modeling/what-is-erd/09-erd-many-to-many-example.png)"
   ]
  },
  {
   "cell_type": "markdown",
   "metadata": {},
   "source": [
    "## Types of ERD"
   ]
  },
  {
   "cell_type": "markdown",
   "metadata": {},
   "source": [
    "An ER model is typically drawn at up to three levels of abstraction:\n",
    "\n",
    "1. Conceptual ERD / Conceptual data model\n",
    "2. Logical ERD / Logical data model\n",
    "3. Physical ERD / Physical data model"
   ]
  },
  {
   "cell_type": "markdown",
   "metadata": {},
   "source": [
    "<table class=\"unstriped\">\n",
    "<tbody><tr>\n",
    "<th>ERD features</th>\n",
    "<th>Conceptual</th>\n",
    "<th>Logical</th>\n",
    "<th>Physical</th>\n",
    "</tr>\n",
    "<tr>\n",
    "<td>Entity (Name)</td>\n",
    "<td>Yes</td>\n",
    "<td>Yes</td>\n",
    "<td>Yes</td>\n",
    "</tr>\n",
    "<tr>\n",
    "<td>Relationship</td>\n",
    "<td>Yes</td>\n",
    "<td>Yes</td>\n",
    "<td>Yes</td>\n",
    "</tr>\n",
    "<tr>\n",
    "<td>Columns</td>\n",
    "<td></td>\n",
    "<td>Yes</td>\n",
    "<td>Yes</td>\n",
    "</tr>\n",
    "<tr>\n",
    "<td>Column's Types</td>\n",
    "<td></td>\n",
    "<td>Optional</td>\n",
    "<td>Yes</td>\n",
    "</tr>\n",
    "<tr>\n",
    "<td>Primary Key</td>\n",
    "<td></td>\n",
    "<td></td>\n",
    "<td>Yes</td>\n",
    "</tr>\n",
    "<tr>\n",
    "<td>Foreign Key</td>\n",
    "<td></td>\n",
    "<td></td>\n",
    "<td>Yes</td>\n",
    "</tr>\n",
    "</tbody></table>"
   ]
  },
  {
   "cell_type": "markdown",
   "metadata": {},
   "source": [
    "### Conceptual ERD"
   ]
  },
  {
   "cell_type": "markdown",
   "metadata": {},
   "source": [
    "Conceptual ERD models the business objects that should exist in a system and the relationships between them. A conceptual model is developed to present an overall picture of the system by recognizing the business objects involved. It defines what entities exist, NOT which tables. For example, 'many to many' tables may exist in a logical or physical data model but they are just shown as a relationship with no cardinality under the conceptual data model."
   ]
  },
  {
   "cell_type": "markdown",
   "metadata": {},
   "source": [
    "![](https://cdn-images.visual-paradigm.com/guide/data-modeling/what-is-erd/10-conceptual-data-model-example.png)"
   ]
  },
  {
   "cell_type": "markdown",
   "metadata": {},
   "source": [
    "### Logical ERD"
   ]
  },
  {
   "cell_type": "markdown",
   "metadata": {},
   "source": [
    "Logical ERD is a detailed version of a Conceptual ERD. A logical ER model is developed to enrich a conceptual model by defining explicitly the columns in each entity and introducing operational and transactional entities. Although a logical data model is still independent of the actual database system in which the database will be created, you can still take that into consideration if it affects the design.\n",
    "\n",
    "![](https://cdn-images.visual-paradigm.com/guide/data-modeling/what-is-erd/11-logical-data-model-example.png)"
   ]
  },
  {
   "cell_type": "markdown",
   "metadata": {},
   "source": [
    "### Physical ERD"
   ]
  },
  {
   "cell_type": "markdown",
   "metadata": {},
   "source": [
    "Physical ERD represents the actual design blueprint of a relational database. A physical data model elaborates on the logical data model by assigning each column with type, length, nullable, etc. Since a physical ERD represents how data should be structured and related in a specific DBMS it is important to consider the convention and restriction of the actual database system in which the database will be created. Make sure the column types are supported by the DBMS and reserved words are not used in naming entities and columns.\n",
    "\n",
    "![](https://cdn-images.visual-paradigm.com/guide/data-modeling/what-is-erd/12-physical-data-model-example.png)"
   ]
  },
  {
   "cell_type": "markdown",
   "metadata": {},
   "source": [
    "### Some Examples of ERD"
   ]
  },
  {
   "cell_type": "markdown",
   "metadata": {},
   "source": [
    "#### Movie Rental System"
   ]
  },
  {
   "cell_type": "markdown",
   "metadata": {},
   "source": [
    "![](https://cdn-images.visual-paradigm.com/guide/data-modeling/what-is-erd/13-erd-example-movie-rental-system.png)"
   ]
  },
  {
   "cell_type": "markdown",
   "metadata": {},
   "source": [
    "#### Loan System"
   ]
  },
  {
   "cell_type": "markdown",
   "metadata": {},
   "source": [
    "![](https://cdn-images.visual-paradigm.com/guide/data-modeling/what-is-erd/14-erd-example-loan-system.png)"
   ]
  },
  {
   "cell_type": "markdown",
   "metadata": {},
   "source": [
    "#### Online Shopping System"
   ]
  },
  {
   "cell_type": "markdown",
   "metadata": {},
   "source": [
    "![](https://cdn-images.visual-paradigm.com/guide/data-modeling/what-is-erd/15-erd-example-online-shop.png)"
   ]
  },
  {
   "cell_type": "markdown",
   "metadata": {},
   "source": [
    "## Notations"
   ]
  },
  {
   "cell_type": "markdown",
   "metadata": {},
   "source": [
    "<table><thead><tr><th>Entity Symbol</th><th>Name</th><th>Description</th></tr></thead><tbody><tr><td>\n",
    "\t\t\t<div class=\" table-div\" style=\"text-align: center;\"><img data-element-page-location=\"body\" data-element-type=\"image\" alt=\"Strong Entity Symbol\" class=\"overwrite-css css-1ig1qch-imageContainer\" loading=\"lazy\" src=\"https://d2slcw3kip6qmk.cloudfront.net/marketing/pages/chart/erd-symbols/Entity.PNG\"></div>\n",
    "\t\t\t</td><td>Strong entity</td><td>\n",
    "\t\t\t<p>These shapes are independent from other entities, and are often called parent entities, since they will often have weak entities that depend on them. They will also have a primary key, distinguishing each occurrence of the entity.</p>\n",
    "\t\t\t</td></tr><tr><td>\n",
    "\t\t\t<div class=\" table-div\" style=\"text-align: center;\"><img data-element-page-location=\"body\" data-element-type=\"image\" alt=\"Weak Entity Symbol\" class=\"overwrite-css css-1k7kxj2-imageContainer\" loading=\"lazy\" src=\"https://d2slcw3kip6qmk.cloudfront.net/marketing/pages/chart/erd-symbols/WeakEntity.PNG\"></div>\n",
    "\t\t\t</td><td>Weak entity</td><td>\n",
    "\t\t\t<p>Weak entities depend on some other entity type. They don't have primary keys, and have no meaning in the diagram without their parent entity.</p>\n",
    "\t\t\t</td></tr><tr><td>\n",
    "\t\t\t<div class=\" table-div\" style=\"text-align: center;\"><img data-element-page-location=\"body\" data-element-type=\"image\" alt=\"Associative entity symbol\" class=\"overwrite-css css-1ig1qch-imageContainer\" loading=\"lazy\" src=\"https://d2slcw3kip6qmk.cloudfront.net/marketing/pages/chart/erd-symbols/AssociativeEntity.PNG\"></div>\n",
    "\t\t\t</td><td>Associative entity</td><td>Associative entities relate the instances of several entity types. They also contain attributes specific to the relationship between those entity instances.</td></tr></tbody></table>"
   ]
  },
  {
   "cell_type": "markdown",
   "metadata": {},
   "source": [
    "<table><thead><tr><th>Relationship Symbol</th><th>Name</th><th>Description</th></tr></thead><tbody><tr><td>\n",
    "\t\t\t<div class=\" table-div\" style=\"text-align: center;\"><img data-element-page-location=\"body\" data-element-type=\"image\" alt=\"Relationship Symbol\" class=\"overwrite-css css-1ig1qch-imageContainer\" loading=\"lazy\" src=\"https://d2slcw3kip6qmk.cloudfront.net/marketing/pages/chart/erd-symbols/RelationshipShape.PNG\"></div>\n",
    "\t\t\t</td><td>Relationship</td><td>\n",
    "\t\t\t<p>Relationships are associations between or among entities.</p>\n",
    "\t\t\t</td></tr><tr><td>\n",
    "\t\t\t<div class=\" table-div\" style=\"text-align: center;\"><img data-element-page-location=\"body\" data-element-type=\"image\" alt=\"Weak Relationship Symbol\" class=\"overwrite-css css-1ig1qch-imageContainer\" loading=\"lazy\" src=\"https://d2slcw3kip6qmk.cloudfront.net/marketing/pages/chart/erd-symbols/WeakRelationship.PNG\"></div>\n",
    "\t\t\t</td><td>Weak relationship</td><td>\n",
    "\t\t\t<p>Weak Relationships are connections between a weak entity and its owner.</p>\n",
    "\t\t\t</td></tr></tbody></table>"
   ]
  },
  {
   "cell_type": "markdown",
   "metadata": {},
   "source": [
    "<table>\n",
    "\t<thead>\n",
    "\t\t<tr>\n",
    "\t\t\t<th>Attribute Symbol</th>\n",
    "\t\t\t<th>Name</th>\n",
    "\t\t\t<th>Description</th>\n",
    "\t\t</tr>\n",
    "\t</thead>\n",
    "\t<tbody>\n",
    "\t\t<tr>\n",
    "\t\t\t<td>\n",
    "\t\t\t\t<div class=\" table-div\" style=\"text-align: center;\"><img data-element-page-location=\"body\"\n",
    "\t\t\t\t\t\tdata-element-type=\"image\" alt=\"Attribute Symbol\"\n",
    "\t\t\t\t\t\tclass=\"overwrite-css css-1ig1qch-imageContainer\" loading=\"lazy\"\n",
    "\t\t\t\t\t\tsrc=\"https://d2slcw3kip6qmk.cloudfront.net/marketing/pages/chart/erd-symbols/Attribute.PNG\">\n",
    "\t\t\t\t</div>\n",
    "\t\t\t</td>\n",
    "\t\t\t<td>Attribute</td>\n",
    "\t\t\t<td>\n",
    "\t\t\t\t<p>Attributes are characteristics of an entity, a many-to-many relationship, or a one-to-one\n",
    "\t\t\t\t\trelationship.</p>\n",
    "\t\t\t</td>\n",
    "\t\t</tr>\n",
    "\t\t<tr>\n",
    "\t\t\t<td>\n",
    "\t\t\t\t<div class=\" table-div\" style=\"text-align: center;\"><img data-element-page-location=\"body\"\n",
    "\t\t\t\t\t\tdata-element-type=\"image\" alt=\"Multivalued Attribute Symbol\"\n",
    "\t\t\t\t\t\tclass=\"overwrite-css css-1ig1qch-imageContainer\" loading=\"lazy\"\n",
    "\t\t\t\t\t\tsrc=\"https://d2slcw3kip6qmk.cloudfront.net/marketing/pages/chart/erd-symbols/MultivaluedAttribute.PNG\">\n",
    "\t\t\t\t</div>\n",
    "\t\t\t</td>\n",
    "\t\t\t<td>Multivalued attribute</td>\n",
    "\t\t\t<td>\n",
    "\t\t\t\t<p>Multivalued attributes are those that are can take on more than one value.</p>\n",
    "\t\t\t</td>\n",
    "\t\t</tr>\n",
    "\t\t<tr>\n",
    "\t\t\t<td>\n",
    "\t\t\t\t<div class=\" table-div\" style=\"text-align: center;\"><img data-element-page-location=\"body\"\n",
    "\t\t\t\t\t\tdata-element-type=\"image\" alt=\"Derived Attribute Symbol\"\n",
    "\t\t\t\t\t\tclass=\"overwrite-css css-1ig1qch-imageContainer\" loading=\"lazy\"\n",
    "\t\t\t\t\t\tsrc=\"https://d2slcw3kip6qmk.cloudfront.net/marketing/pages/chart/erd-symbols/DerivedAttribute.PNG\">\n",
    "\t\t\t\t</div>\n",
    "\t\t\t</td>\n",
    "\t\t\t<td>Derived attribute</td>\n",
    "\t\t\t<td>\n",
    "\t\t\t\t<p>Derived attributes are attributes whose value can be calculated from related attribute values.</p>\n",
    "\t\t\t</td>\n",
    "\t\t</tr>\n",
    "\t</tbody>\n",
    "</table>"
   ]
  },
  {
   "cell_type": "markdown",
   "metadata": {},
   "source": [
    "![](https://d2slcw3kip6qmk.cloudfront.net/marketing/pages/chart/erd-symbols/ERD-Notation.PNG)"
   ]
  },
  {
   "cell_type": "markdown",
   "metadata": {},
   "source": [
    "# UML Class Diagram"
   ]
  },
  {
   "cell_type": "markdown",
   "metadata": {},
   "source": [
    "UML, short for Unified Modeling Language, is a standardized modeling language consisting of an integrated set of diagrams, developed to help system and software developers for specifying, visualizing, constructing, and documenting the artifacts of software systems, as well as for business modeling and other non-software systems. The UML represents a collection of best engineering practices that have proven successful in the modeling of large and complex systems. The UML is a very important part of developing object oriented software and the software development process. The UML uses mostly graphical notations to express the design of software projects. Using the UML helps project teams communicate, explore potential designs, and validate the architectural design of the software. "
   ]
  },
  {
   "cell_type": "markdown",
   "metadata": {},
   "source": [
    "There are a number of UML diagrams. Here, we'll discuss about the UML class diagram."
   ]
  },
  {
   "cell_type": "markdown",
   "metadata": {},
   "source": [
    "## Class Diagram"
   ]
  },
  {
   "cell_type": "markdown",
   "metadata": {},
   "source": [
    "The UML Class diagram is a graphical notation used to construct and visualize object oriented systems. A class diagram in the Unified Modeling Language (UML) is a type of static structure diagram that describes the structure of a system by showing the system's:\n",
    "* classes,\n",
    "* their attributes,\n",
    "* operations (or methods),\n",
    "* and the relationships among objects."
   ]
  },
  {
   "cell_type": "markdown",
   "metadata": {},
   "source": [
    "> A Class is a blueprint for an object. Classes describe the type of objects, while objects are usable instances of classes. Each Object was built from the same set of blueprints and therefore contains the same components (properties and methods). "
   ]
  },
  {
   "cell_type": "markdown",
   "metadata": {},
   "source": [
    "![](https://cdn-images.visual-paradigm.com/guide/uml/uml-class-diagram-tutorial/01-uml-base-class-and-object-explained.png)"
   ]
  },
  {
   "cell_type": "markdown",
   "metadata": {},
   "source": [
    "## UML Class Notation"
   ]
  },
  {
   "cell_type": "markdown",
   "metadata": {},
   "source": [
    "A class represent a concept which encapsulates state (attributes) and behavior (operations). Each attribute has a type. Each operation has a signature. The class name is the only mandatory information.\n",
    "\n",
    "![](https://cdn-images.visual-paradigm.com/guide/uml/uml-class-diagram-tutorial/02-class-notation.png)"
   ]
  },
  {
   "cell_type": "markdown",
   "metadata": {},
   "source": [
    "### Name, Methods, and Attributes"
   ]
  },
  {
   "cell_type": "markdown",
   "metadata": {},
   "source": [
    "**Class Name**:\n",
    "* The name of the class appears in the first partition.\n",
    "  \n",
    "**Class Attributes:**\n",
    "\n",
    "* Attributes are shown in the second partition.\n",
    "* The attribute type is shown after the colon.\n",
    "* Attributes map onto member variables (data members) in code.\n",
    "  \n",
    "**Class Operations (Methods):**\n",
    "* Operations are shown in the third partition. They are services the class provides.\n",
    "* The return type of a method is shown after the colon at the end of the method signature.\n",
    "* The return type of method parameters are shown after the colon following the parameter name. Operations map onto class methods in code"
   ]
  },
  {
   "cell_type": "markdown",
   "metadata": {},
   "source": [
    "![](https://cdn-images.visual-paradigm.com/guide/uml/uml-class-diagram-tutorial/03-class-notation-with-examples.png)"
   ]
  },
  {
   "cell_type": "markdown",
   "metadata": {},
   "source": [
    "### Class Visibility"
   ]
  },
  {
   "cell_type": "markdown",
   "metadata": {},
   "source": [
    "The +, - and # symbols before an attribute and operation name in a class denote the visibility of the attribute and operation.\n",
    "\n",
    "![](https://cdn-images.visual-paradigm.com/guide/uml/uml-class-diagram-tutorial/04-class-attributes-with-different-visibility.png)"
   ]
  },
  {
   "cell_type": "markdown",
   "metadata": {},
   "source": [
    "* `+` denotes public attributes or operations\n",
    "* `-` denotes private attributes or operations\n",
    "* `#` denotes protected attributes or operations"
   ]
  },
  {
   "cell_type": "markdown",
   "metadata": {},
   "source": [
    "## Perspectives of Class Diagram"
   ]
  },
  {
   "cell_type": "markdown",
   "metadata": {},
   "source": [
    "The choice of perspective depends on how far along you are in the development process. During the formulation of a domain model, for example, you would seldom move past the conceptual perspective. Analysis models will typically feature a mix of conceptual and specification perspectives. Design model development will typically start with heavy emphasis on the specification perspective, and evolve into the implementation perspective."
   ]
  },
  {
   "cell_type": "markdown",
   "metadata": {},
   "source": [
    "A diagram can be interpreted from various perspectives:\n",
    "\n",
    "* **Conceptual:** represents the concepts in the domain\n",
    "* **Specification:** focus is on the interfaces of Abstract Data Type (ADTs) in the software\n",
    "* **Implementation:** describes how classes will implement their interfaces"
   ]
  },
  {
   "cell_type": "markdown",
   "metadata": {},
   "source": [
    "![](https://cdn-images.visual-paradigm.com/guide/uml/uml-class-diagram-tutorial/06-perspective-of-class-diagram.png)"
   ]
  },
  {
   "cell_type": "markdown",
   "metadata": {},
   "source": [
    "## Relationships between classes"
   ]
  },
  {
   "cell_type": "markdown",
   "metadata": {},
   "source": [
    "![](https://cdn-images.visual-paradigm.com/guide/uml/uml-class-diagram-tutorial/07-relationships-between-classes.png)"
   ]
  },
  {
   "cell_type": "markdown",
   "metadata": {},
   "source": [
    "### Inheritance (or Generalization)"
   ]
  },
  {
   "cell_type": "markdown",
   "metadata": {},
   "source": [
    "Represents a \"is a\" relationship."
   ]
  },
  {
   "cell_type": "markdown",
   "metadata": {},
   "source": [
    "![](https://cdn-images.visual-paradigm.com/guide/uml/uml-class-diagram-tutorial/09-inheritance-hierarchy-example.png)"
   ]
  },
  {
   "cell_type": "markdown",
   "metadata": {},
   "source": [
    "### Association"
   ]
  },
  {
   "cell_type": "markdown",
   "metadata": {},
   "source": [
    "Associations are relationships between classes in a UML Class Diagram. They are represented by a solid line between classes. Associations are typically named using a verb or verb phrase which reflects the real world problem domain."
   ]
  },
  {
   "cell_type": "markdown",
   "metadata": {},
   "source": [
    "We have one to one, one to many, many to many associations."
   ]
  },
  {
   "cell_type": "markdown",
   "metadata": {},
   "source": [
    "![](https://cdn-images.visual-paradigm.com/guide/uml/uml-class-diagram-tutorial/11-associations-with-different-multiplicies.png)"
   ]
  },
  {
   "cell_type": "markdown",
   "metadata": {},
   "source": [
    "### Aggregation"
   ]
  },
  {
   "cell_type": "markdown",
   "metadata": {},
   "source": [
    "A special type of association.\n",
    "\n",
    "* It represents a \"part of\" relationship.\n",
    "* Class2 is part of Class1.\n",
    "* Many instances (denoted by the *) of Class2 can be associated with Class1."
   ]
  },
  {
   "cell_type": "markdown",
   "metadata": {},
   "source": [
    "### Composition"
   ]
  },
  {
   "cell_type": "markdown",
   "metadata": {},
   "source": [
    "* A special type of aggregation where parts are destroyed when the whole is destroyed.\n",
    "* Objects of Class2 live and die with Class1.\n",
    "* Class2 cannot stand by itself."
   ]
  },
  {
   "cell_type": "markdown",
   "metadata": {},
   "source": [
    "### Dependency"
   ]
  },
  {
   "cell_type": "markdown",
   "metadata": {},
   "source": [
    "An object of one class might use an object of another class in the code of a method. If the object is not stored in any field, then this is modeled as a dependency relationship.\n",
    "\n",
    "* A special type of association.\n",
    "* Exists between two classes if changes to the definition of one may cause changes to the other (but not the other way around).\n",
    "* Class1 depends on Class2"
   ]
  },
  {
   "cell_type": "markdown",
   "metadata": {},
   "source": [
    "![](https://cdn-images.visual-paradigm.com/guide/uml/uml-class-diagram-tutorial/15-dependency-example.png)"
   ]
  },
  {
   "cell_type": "markdown",
   "metadata": {},
   "source": [
    "### Realization"
   ]
  },
  {
   "cell_type": "markdown",
   "metadata": {},
   "source": [
    "Realization is a relationship between the blueprint class and the object containing its respective implementation level details. This object is said to realize the blueprint class. In other words, you can understand this as the relationship between the interface and the implementing class.\n",
    "\n",
    "For example, the Owner interface might specify methods for acquiring property and disposing of property. The Person and Corporation classes need to implement these methods, possibly in very different ways."
   ]
  },
  {
   "cell_type": "markdown",
   "metadata": {},
   "source": [
    "![](https://cdn-images.visual-paradigm.com/guide/uml/uml-class-diagram-tutorial/16-realization.png)"
   ]
  },
  {
   "cell_type": "markdown",
   "metadata": {},
   "source": [
    "## Examples"
   ]
  },
  {
   "cell_type": "markdown",
   "metadata": {},
   "source": [
    "### Order System"
   ]
  },
  {
   "cell_type": "markdown",
   "metadata": {},
   "source": [
    "![](https://cdn-images.visual-paradigm.com/guide/uml/uml-class-diagram-tutorial/17-class-diagram-example-order-system.png)"
   ]
  },
  {
   "cell_type": "markdown",
   "metadata": {},
   "source": [
    "### GUI"
   ]
  },
  {
   "cell_type": "markdown",
   "metadata": {},
   "source": [
    "![](https://cdn-images.visual-paradigm.com/guide/uml/uml-class-diagram-tutorial/18-uml-class-diagram-example-gui.png)"
   ]
  },
  {
   "cell_type": "markdown",
   "metadata": {},
   "source": [
    "### ATM"
   ]
  },
  {
   "cell_type": "markdown",
   "metadata": {},
   "source": [
    "![](https://images.edrawsoft.com/articles/class-diagram/class-diagram-for-atm.png)"
   ]
  },
  {
   "cell_type": "markdown",
   "metadata": {},
   "source": [
    "### Library Management System"
   ]
  },
  {
   "cell_type": "markdown",
   "metadata": {},
   "source": [
    "![](https://images.edrawsoft.com/articles/class-diagram/class-diagram-library-management-system.png)"
   ]
  },
  {
   "cell_type": "markdown",
   "metadata": {},
   "source": []
  }
 ],
 "metadata": {
  "kernelspec": {
   "display_name": "Python 3.9.12 ('data-science')",
   "language": "python",
   "name": "python3"
  },
  "language_info": {
   "codemirror_mode": {
    "name": "ipython",
    "version": 3
   },
   "file_extension": ".py",
   "mimetype": "text/x-python",
   "name": "python",
   "nbconvert_exporter": "python",
   "pygments_lexer": "ipython3",
   "version": "3.9.12"
  },
  "orig_nbformat": 4,
  "vscode": {
   "interpreter": {
    "hash": "2efee1efa502125d01e6b4768ba06d9453d29f3642bfd14ad5d4a769de82e88c"
   }
  }
 },
 "nbformat": 4,
 "nbformat_minor": 2
}
