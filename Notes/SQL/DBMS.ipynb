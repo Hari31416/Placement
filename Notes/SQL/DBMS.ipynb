{
 "cells": [
  {
   "cell_type": "markdown",
   "metadata": {},
   "source": [
    "<h2 id=\"Contents\">Contents<a href=\"#Contents\"></a></h2>\n",
    "        <ol>\n",
    "        <li><a class=\"\" href=\"#Data-and-Database\">Data and Database</a></li>\n",
    "<ol><li><a class=\"\" href=\"#Data\">Data</a></li>\n",
    "<li><a class=\"\" href=\"#Database\">Database</a></li>\n",
    "<ol><li><a class=\"\" href=\"#Hierarchical-Database\">Hierarchical Database</a></li>\n",
    "<li><a class=\"\" href=\"#Network-Database\">Network Database</a></li>\n",
    "<li><a class=\"\" href=\"#Object-Oriented-Database\">Object-Oriented Database</a></li>\n",
    "<li><a class=\"\" href=\"#NoSQL-Database\">NoSQL Database</a></li>\n",
    "<ol><li><a class=\"\" href=\"#Pros-and-Cons-of-NoSQL-Database\">Pros and Cons of NoSQL Database</a></li>\n",
    "<li><a class=\"\" href=\"#Typed-of-NoSQL-Database\">Typed of NoSQL Database</a></li>\n",
    "</ol><li><a class=\"\" href=\"#Relational-Databases\">Relational Databases</a></li>\n",
    "</ol></ol><li><a class=\"\" href=\"#Database-Management-System\">Database Management System</a></li>\n",
    "<ol><li><a class=\"\" href=\"#Allowed-Tasks\">Allowed Tasks</a></li>\n",
    "<li><a class=\"\" href=\"#Characterstics-of-DBMS\">Characterstics of DBMS</a></li>\n",
    "<ol><li><a class=\"\" href=\"#Advantages-of-DBMS\">Advantages of DBMS</a></li>\n",
    "<li><a class=\"\" href=\"#Disadvantages-of-DBMS\">Disadvantages of DBMS</a></li>\n",
    "</ol><li><a class=\"\" href=\"#DBMS-vs.-File-System\">DBMS vs. File System</a></li>\n",
    "<li><a class=\"\" href=\"#DBMS-Architecture\">DBMS Architecture</a></li>\n",
    "<ol><li><a class=\"\" href=\"#1-Tier-Architecture\">1-Tier Architecture</a></li>\n",
    "<li><a class=\"\" href=\"#2-Tier-Architecture\">2-Tier Architecture</a></li>\n",
    "<li><a class=\"\" href=\"#3-Tier-Architecture\">3-Tier Architecture</a></li>\n",
    "</ol><li><a class=\"\" href=\"#Database-Language\">Database Language</a></li>\n",
    "<ol><li><a class=\"\" href=\"#Data-Definition-Language\">Data Definition Language</a></li>\n",
    "<li><a class=\"\" href=\"#Data-Manipulation-Language\">Data Manipulation Language</a></li>\n",
    "<li><a class=\"\" href=\"#Data-Control-Language\">Data Control Language</a></li>\n",
    "<li><a class=\"\" href=\"#Transaction-Control-Language\">Transaction Control Language</a></li>\n",
    "</ol><li><a class=\"\" href=\"#ACID-Properties-in-DBMS\">ACID Properties in DBMS</a></li>\n",
    "<ol><li><a class=\"\" href=\"#Atomicity\">Atomicity</a></li>\n",
    "<li><a class=\"\" href=\"#Consistency\">Consistency</a></li>\n",
    "<li><a class=\"\" href=\"#Isolation\">Isolation</a></li>\n",
    "<li><a class=\"\" href=\"#Durability\">Durability</a></li>\n",
    "</ol><li><a class=\"\" href=\"#Transaction\">Transaction</a></li>\n",
    "<ol><li><a class=\"\" href=\"#Active-State\">Active State</a></li>\n",
    "<li><a class=\"\" href=\"#Partially-Committed\">Partially Committed</a></li>\n",
    "<li><a class=\"\" href=\"#Commited\">Commited</a></li>\n",
    "<li><a class=\"\" href=\"#Failed-State\">Failed State</a></li>\n",
    "<li><a class=\"\" href=\"#Aborted\">Aborted</a></li>\n",
    "</ol></ol><li><a class=\"\" href=\"#RDBMS\">RDBMS</a></li>\n",
    "<ol><li><a class=\"\" href=\"#Different-Part-of-RDBMS\">Different Part of RDBMS</a></li>\n",
    "<ol><li><a class=\"\" href=\"#Table/Relation\">Table/Relation</a></li>\n",
    "<li><a class=\"\" href=\"#Row/Tuple\">Row/Tuple</a></li>\n",
    "<li><a class=\"\" href=\"#Column/Attribute\">Column/Attribute</a></li>\n",
    "<li><a class=\"\" href=\"#Data-Item/Cells\">Data Item/Cells</a></li>\n",
    "</ol><li><a class=\"\" href=\"#Difference-between-DBMS-and-RDBMS\">Difference between DBMS and RDBMS</a></li>\n",
    "</ol>\n"
   ]
  },
  {
   "cell_type": "markdown",
   "metadata": {},
   "source": [
    "# Data and Database"
   ]
  },
  {
   "cell_type": "markdown",
   "metadata": {},
   "source": [
    "## Data"
   ]
  },
  {
   "cell_type": "markdown",
   "metadata": {},
   "source": [
    "Data is a collection of a distinct small unit of information. It can be used in a variety of forms like text, numbers, media, bytes, etc. it can be stored in pieces of paper or electronic memory, etc.\n",
    "\n",
    "Word 'Data' is originated from the word 'datum' that means 'single piece of information.' It is plural of the word datum."
   ]
  },
  {
   "cell_type": "markdown",
   "metadata": {},
   "source": [
    "## Database"
   ]
  },
  {
   "cell_type": "markdown",
   "metadata": {},
   "source": [
    "The database is a collection of inter-related data which is used to retrieve, insert and delete the data efficiently. It is also used to organize the data in the form of a table, schema, views, and reports, etc."
   ]
  },
  {
   "cell_type": "markdown",
   "metadata": {},
   "source": [
    "### Hierarchical Database"
   ]
  },
  {
   "cell_type": "markdown",
   "metadata": {},
   "source": [
    "A hierarchical database model is a data model in which the data are organized into a tree-like structure. The data are stored as records which are connected to one another through links. The hierarchical database model mandates that each child record has only one parent, whereas each parent record can have one or more child records. In order to retrieve data from a hierarchical database, the whole tree needs to be traversed starting from the root node. This model is recognized as the first database model created by IBM in the 1960s."
   ]
  },
  {
   "cell_type": "markdown",
   "metadata": {},
   "source": [
    "![](https://media.geeksforgeeks.org/wp-content/uploads/20200414091301/Hierarchical-DB.png)"
   ]
  },
  {
   "cell_type": "markdown",
   "metadata": {},
   "source": [
    "### Network Database"
   ]
  },
  {
   "cell_type": "markdown",
   "metadata": {},
   "source": [
    "A network database is a type of database model wherein multiple member records or files can be linked to multiple owner files and vice versa. The model can be viewed as an upside-down tree where each member information is the branch linked to the owner, which is the bottom of the tree.\n",
    "\n",
    "In Layman’s terms, a network database is a hierarchical database, but with a major tweak. The child records are given the freedom to associate with multiple parent records. As a result, a network or net of database files linked with multiple threads is observed."
   ]
  },
  {
   "cell_type": "markdown",
   "metadata": {},
   "source": [
    "![](https://media.geeksforgeeks.org/wp-content/uploads/20200414091455/Network-DB.png)"
   ]
  },
  {
   "cell_type": "markdown",
   "metadata": {},
   "source": [
    "### Object-Oriented Database"
   ]
  },
  {
   "cell_type": "markdown",
   "metadata": {},
   "source": [
    "An object-oriented database (OOD) is a database system that can work with complex data objects — that is, objects that mirror those used in object-oriented programming languages.\n",
    "\n",
    "In object-oriented programming, everything is an object, and many objects are quite complex, having different properties and methods. An object-oriented database management system works in concert with an object-oriented programming language to facilitate the storage and retrieval of object-oriented data."
   ]
  },
  {
   "cell_type": "markdown",
   "metadata": {},
   "source": [
    "The elements of a OODM are:\n",
    "\n",
    "* **Object**: A real world entity, such as a specific life task in a to-do list — “take the garbage out”.\n",
    "* **Attributes and Methods**: An object has state and behaviors. An object has properties (which might also be called attributes) like name, status, and create_date. The set of properties taken together represents its state. Along with this, an object has behaviors (also known as methods, actions, or functions) that modify or operate on its properties, like update_task() or get_task_history().\n",
    "* **Class**: The grouping of all objects with the same properties and behaviors form a class. In our example above, we talked about task objects. These objects together all belong to the Task class."
   ]
  },
  {
   "cell_type": "markdown",
   "metadata": {},
   "source": [
    "![](https://media.geeksforgeeks.org/wp-content/uploads/20200414093006/Object-Oriented-DB.png)"
   ]
  },
  {
   "cell_type": "markdown",
   "metadata": {},
   "source": [
    "In the chart above, we have different objects linked to one another using methods; one can get the address of the Person (represented by the Person Object) using the livesAt() method. Furthermore, these objects have attributes which are in fact the data elements that need to be defined in the database. "
   ]
  },
  {
   "cell_type": "markdown",
   "metadata": {},
   "source": [
    "### NoSQL Database"
   ]
  },
  {
   "cell_type": "markdown",
   "metadata": {},
   "source": [
    "NoSQL originally referring to non SQL or non relational is a database that provides a mechanism for storage and retrieval of data. This data is modeled in means other than the tabular relations used in relational databases."
   ]
  },
  {
   "cell_type": "markdown",
   "metadata": {},
   "source": [
    ">NoSQL systems are also sometimes called Not only SQL to emphasize the fact that they may support SQL-like query languages."
   ]
  },
  {
   "cell_type": "markdown",
   "metadata": {},
   "source": [
    "#### Pros and Cons of NoSQL Database"
   ]
  },
  {
   "cell_type": "markdown",
   "metadata": {},
   "source": [
    "Major advantages are:\n",
    "1. Flexible Data Model\n",
    "2. Elastic Scalability\n",
    "3. High Performance\n",
    "4. Open Source"
   ]
  },
  {
   "cell_type": "markdown",
   "metadata": {},
   "source": [
    "Major disadvantages are:\n",
    "1. Lack of Standardization\n",
    "2. Backup\n",
    "3. Consistency\n",
    "4. Management challenge\n",
    "5. Large Document Size"
   ]
  },
  {
   "cell_type": "markdown",
   "metadata": {},
   "source": [
    "#### Typed of NoSQL Database"
   ]
  },
  {
   "cell_type": "markdown",
   "metadata": {},
   "source": [
    "Types of NoSQL databases and the name of the databases system that falls in that category are:"
   ]
  },
  {
   "cell_type": "markdown",
   "metadata": {},
   "source": [
    "<ol><li><strong>Graph Databases</strong>: Amazon Neptune, Neo4j</li><li><strong>Key value store:</strong> Memcached, Redis, Coherence</li><li><strong>Tabular:</strong> Hbase, Big Table, Accumulo</li><li><strong>Document-based:</strong> MongoDB, CouchDB, Cloudant</li></ol>"
   ]
  },
  {
   "cell_type": "markdown",
   "metadata": {},
   "source": [
    "### Relational Databases"
   ]
  },
  {
   "cell_type": "markdown",
   "metadata": {},
   "source": [
    "A relational database organizes data into rows and columns, which collectively form a table. Data is typically structured across multiple tables, which can be joined together via a primary key or a foreign key. These unique identifiers demonstrate the different relationships which exist between tables, and these relationships are usually illustrated through different types of data models."
   ]
  },
  {
   "cell_type": "markdown",
   "metadata": {},
   "source": [
    "![](https://media.geeksforgeeks.org/wp-content/uploads/20200508135718/Capture3231.png)"
   ]
  },
  {
   "cell_type": "markdown",
   "metadata": {},
   "source": [
    "# Database Management System"
   ]
  },
  {
   "cell_type": "markdown",
   "metadata": {},
   "source": [
    "A database management system (DBMS) is system software for creating and managing databases. A DBMS makes it possible for end users to create, protect, read, update and delete data in a database. The most prevalent type of data management platform, the DBMS essentially serves as an interface between databases and users or application programs, ensuring that data is consistently organized and remains easily accessible."
   ]
  },
  {
   "cell_type": "markdown",
   "metadata": {},
   "source": [
    "## Allowed Tasks"
   ]
  },
  {
   "cell_type": "markdown",
   "metadata": {},
   "source": [
    "* DBMS provides an interface to perform various operations like database creation, storing data in it, updating data, creating a table in the database and a lot more.\n",
    "* It provides protection and security to the database. In the case of multiple users, it also maintains data consistency."
   ]
  },
  {
   "cell_type": "markdown",
   "metadata": {},
   "source": [
    "Following tasks are allowed by DBMS:\n",
    "<ul class=\"points\">\n",
    "<li><strong>Data Definition:</strong> It is used for creation, modification, and removal of definition that defines the organization of data in the database.</li>\n",
    "<li><strong>Data Updation:</strong> It is used for the insertion, modification, and deletion of the actual data in the database.</li>\n",
    "<li><strong>Data Retrieval:</strong> It is used to retrieve the data from the database which can be used by applications for various purposes.</li>\n",
    "<li><strong>User Administration:</strong> It is used for registering and monitoring users, maintain data integrity, enforcing data security, dealing with concurrency control, monitoring performance and recovering information corrupted by unexpected failure.</li>\n",
    "</ul>"
   ]
  },
  {
   "cell_type": "markdown",
   "metadata": {},
   "source": [
    "## Characterstics of DBMS"
   ]
  },
  {
   "cell_type": "markdown",
   "metadata": {},
   "source": [
    "<ul class=\"points\">\n",
    "<li>It uses a digital repository established on a server to store and manage the information. </li>\n",
    "<li>It can provide a clear and logical view of the process that manipulates data.</li>\n",
    "<li>DBMS contains automatic backup and recovery procedures.</li>\n",
    "<li>It can reduce the complex relationship between data.</li>\n",
    "<li>It is used to support manipulation and processing of data.</li>\n",
    "<li>It is used to provide security of data.</li>\n",
    "<li>It can view the database from different viewpoints according to the requirements of the user.</li>\n",
    "</ul>"
   ]
  },
  {
   "cell_type": "markdown",
   "metadata": {},
   "source": [
    "### Advantages of DBMS"
   ]
  },
  {
   "cell_type": "markdown",
   "metadata": {},
   "source": [
    "The advanatges of DBMS are:\n",
    "<ul class=\"points\">\n",
    "<li><strong>Controls database redundancy:</strong> It can control data redundancy because it stores all the data in one single database file and that recorded data is placed in the database. </li>\n",
    "<li><strong>Data sharing:</strong> In DBMS, the authorized users of an organization can share the data among multiple users.</li>\n",
    "<li><strong>Easily Maintenance:</strong> It can be easily maintainable due to the centralized nature of the database system.</li>\n",
    "<li><strong>Reduce time:</strong> It reduces development time and maintenance need.</li>\n",
    "<li><strong>Backup:</strong> It provides backup and recovery subsystems which create automatic backup of data from <a href=\"hardware\">hardware</a> and <a href=\"software\">software</a> failures and restores the data if required.</li>\n",
    "<li><strong>multiple user interface:</strong> It provides different types of user interfaces like graphical user interfaces, application program interfaces</li>\n",
    "</ul>"
   ]
  },
  {
   "cell_type": "markdown",
   "metadata": {},
   "source": [
    "### Disadvantages of DBMS"
   ]
  },
  {
   "cell_type": "markdown",
   "metadata": {},
   "source": [
    "DBMS has some disadvantages too, like:\n",
    "<ul class=\"points\">\n",
    "<li><strong>Cost of Hardware and Software:</strong> It requires a high speed of data processor and large memory size to run DBMS software. </li>\n",
    "<li><strong>Size:</strong> It occupies a large space of disks and large memory to run them efficiently.</li>\n",
    "<li><strong>Complexity:</strong> Database system creates additional complexity and requirements. </li>\n",
    "<li><strong>Higher impact of failure:</strong> Failure is highly impacted the database because in most of the organization, all the data stored in a single database and if the database is damaged due to electric failure or database corruption then the data may be lost forever.</li>\n",
    "</ul>"
   ]
  },
  {
   "cell_type": "markdown",
   "metadata": {},
   "source": [
    "## DBMS vs. File System"
   ]
  },
  {
   "cell_type": "markdown",
   "metadata": {},
   "source": [
    "File based systems were an early attempt to computerize the manual system. It is also called a traditional based approach in which a decentralized approach was taken where each department stored and controlled its own data with the help of a data processing specialist.\n",
    "\n",
    "![](https://static.javatpoint.com/dbms/images/dbms-vs-files-system.png)"
   ]
  },
  {
   "cell_type": "markdown",
   "metadata": {},
   "source": [
    "Meanwhile, A database approach is a well-organized collection of data that are related in a meaningful way which can be accessed by different users but stored only once in a system. The various operations performed by the DBMS system are: Insertion, deletion, selection, sorting etc.\n",
    "\n",
    "![](https://static.javatpoint.com/dbms/images/dbms-vs-files-system2.png)"
   ]
  },
  {
   "cell_type": "markdown",
   "metadata": {},
   "source": [
    "Some more differences are:"
   ]
  },
  {
   "cell_type": "markdown",
   "metadata": {},
   "source": [
    "<table class=\"alt\">\n",
    "<tbody><tr>\n",
    "<th>Basis</th>\n",
    "<th>DBMS Approach</th>\n",
    "<th>File System Approach</th>\n",
    "</tr>\n",
    "<tr>\n",
    "<td><strong>Meaning</strong></td>\n",
    "<td>DBMS is a collection of data. In DBMS, the user is not required to write the procedures.</td>\n",
    "<td>The file system is a collection of data. In this system, the user has to write the procedures for managing the database.</td>\n",
    "</tr>\n",
    "<tr>\n",
    "<td><strong>Sharing of data</strong></td>\n",
    "<td>Due to the centralized approach, data sharing is easy.</td>\n",
    "<td>Data is distributed in many files, and it may be of different formats, so it isn't easy to share data.</td>\n",
    "</tr>\n",
    "<tr>\n",
    "<td><strong>Data Abstraction</strong></td>\n",
    "<td>DBMS gives an abstract view of data that hides the details.</td>\n",
    "<td>The file system provides the detail of the data representation and storage of data.</td>\n",
    "</tr>\n",
    "<tr>\n",
    "<td><strong>Security and Protection</strong></td>\n",
    "<td>DBMS provides a good protection mechanism.</td>\n",
    "<td>It isn't easy to protect a file under the file system.</td>\n",
    "</tr>\n",
    "<tr>\n",
    "<td><strong>Recovery Mechanism</strong></td>\n",
    "<td>DBMS provides a crash recovery mechanism, i.e., DBMS protects the user from system failure.</td>\n",
    "<td>The file system doesn't have a crash mechanism, i.e., if the system crashes while entering some data, then the content of the file will be lost.</td>\n",
    "</tr>\n",
    "<tr>\n",
    "<td><strong>Manipulation Techniques</strong></td>\n",
    "<td>DBMS contains a wide variety of sophisticated techniques to store and retrieve the data.</td>\n",
    "<td>The file system can't efficiently store and retrieve the data.</td>\n",
    "</tr>\n",
    "<tr>\n",
    "<td><strong>Concurrency Problems</strong></td>\n",
    "<td>DBMS takes care of Concurrent access of data using some form of locking.</td>\n",
    "<td>In the File system, concurrent access has many problems like redirecting the file while deleting some information or updating some information.</td>\n",
    "</tr>\n",
    "<tr>\n",
    "<td><strong>Where to use</strong></td>\n",
    "<td>Database approach used in large systems which interrelate many files.</td>\n",
    "<td>File system approach used in large systems which interrelate many files.</td>\n",
    "</tr>\n",
    "<tr>\n",
    "<td><strong>Cost</strong></td>\n",
    "<td>The database system is expensive to design.</td>\n",
    "<td>The file system approach is cheaper to design.</td>\n",
    "</tr>\n",
    "<tr>\n",
    "<td><strong>Data Redundancy and Inconsistency</strong></td>\n",
    "<td>Due to the centralization of the database, the problems of data redundancy and inconsistency are controlled.</td>\n",
    "<td>In this, the files and application programs are created by different programmers so that there exists a lot of duplication of data which may lead to inconsistency.</td>\n",
    "</tr>\n",
    "<tr>\n",
    "<td><strong>Structure</strong></td>\n",
    "<td>The database structure is complex to design.</td>\n",
    "<td>The file system approach has a simple structure.</td>\n",
    "</tr>\n",
    "<tr>\n",
    "<td><strong>Data Independence</strong></td>\n",
    "<td>In this system, Data Independence exists, and it can be of two types.\n",
    "<ul class=\"points\">\n",
    "<li>Logical Data Independence</li>\n",
    "<li>Physical Data Independence</li>\n",
    "</ul></td>\n",
    "<td>In the File system approach, there exists no Data Independence.</td>\n",
    "</tr>\n",
    "<tr>\n",
    "<td><strong>Integrity Constraints</strong></td>\n",
    "<td>Integrity Constraints are easy to apply.</td>\n",
    "<td>Integrity Constraints are difficult to implement in file system.</td>\n",
    "</tr>\n",
    "<tr>\n",
    "<td><strong>Data Models</strong></td>\n",
    "<td>In the database approach, 3 types of data models exist:\n",
    "<ul class=\"points\">\n",
    "<li>Hierarchal data models</li>\n",
    "<li>Network data models</li>\n",
    "<li>Relational data models</li>\n",
    "</ul></td>\n",
    "<td>In the file system approach, there is no concept of data models exists.</td>\n",
    "</tr>\n",
    "<tr>\n",
    "<td><strong>Flexibility</strong> </td>\n",
    "<td>Changes are often a necessity to the content of the data stored in any system, and these changes are more easily with a database approach.</td>\n",
    "<td>The flexibility of the system is less as compared to the DBMS approach.</td>\n",
    "</tr>\n",
    "<tr>\n",
    "<td><strong>Examples</strong></td>\n",
    "<td>Oracle, SQL Server, Sybase etc.</td>\n",
    "<td>Cobol, C++ etc.</td>\n",
    "</tr>\n",
    "</tbody></table>"
   ]
  },
  {
   "cell_type": "markdown",
   "metadata": {},
   "source": [
    "## DBMS Architecture"
   ]
  },
  {
   "cell_type": "markdown",
   "metadata": {},
   "source": [
    "![](https://static.javatpoint.com/dbms/images/dbms-architecture.png)"
   ]
  },
  {
   "cell_type": "markdown",
   "metadata": {},
   "source": [
    "### 1-Tier Architecture"
   ]
  },
  {
   "cell_type": "markdown",
   "metadata": {},
   "source": [
    "<ul class=\"points\">\n",
    "<li>In this architecture, the database is directly available to the user. It means the user can directly sit on the DBMS and uses it.</li>\n",
    "<li>Any changes done here will directly be done on the database itself. It doesn't provide a handy tool for end users.</li>\n",
    "<li>The 1-Tier architecture is used for development of the local application, where programmers can directly communicate with the database for the quick response.</li>\n",
    "</ul>"
   ]
  },
  {
   "cell_type": "markdown",
   "metadata": {},
   "source": [
    "### 2-Tier Architecture"
   ]
  },
  {
   "cell_type": "markdown",
   "metadata": {},
   "source": [
    "<ul class=\"points\">\n",
    "<li>The 2-Tier architecture is same as basic client-server. In the two-tier architecture, applications on the client end can directly communicate with the database at the server side. For this interaction, API's like: <strong>ODBC</strong>, <strong>JDBC</strong> are used.</li>\n",
    "<li>The user interfaces and application programs are run on the client-side.</li>\n",
    "<li>The server side is responsible to provide the functionalities like: query processing and transaction management.</li>\n",
    "<li>To communicate with the DBMS, client-side application establishes a connection with the server side.</li>\n",
    "</ul>"
   ]
  },
  {
   "cell_type": "markdown",
   "metadata": {},
   "source": [
    "![](https://static.javatpoint.com/dbms/images/dbms-2-tier-architecture.png)"
   ]
  },
  {
   "cell_type": "markdown",
   "metadata": {},
   "source": [
    "### 3-Tier Architecture"
   ]
  },
  {
   "cell_type": "markdown",
   "metadata": {},
   "source": [
    "<ul class=\"points\">\n",
    "<li>The 3-Tier architecture contains another layer between the client and server. In this architecture, client can't directly communicate with the server.</li>\n",
    "<li>The application on the client-end interacts with an application server which further communicates with the database system.</li>\n",
    "<li>End user has no idea about the existence of the database beyond the application server. The database also has no idea about any other user beyond the application.</li>\n",
    "<li>The 3-Tier architecture is used in case of large web application. </li>\n",
    "</ul>"
   ]
  },
  {
   "cell_type": "markdown",
   "metadata": {},
   "source": [
    "![](https://static.javatpoint.com/dbms/images/dbms-3-tier-architecture.png)"
   ]
  },
  {
   "cell_type": "markdown",
   "metadata": {},
   "source": [
    "## Database Language"
   ]
  },
  {
   "cell_type": "markdown",
   "metadata": {},
   "source": [
    "A DBMS has appropriate languages and interfaces to express database queries and updates. Database languages can be used to read, store and update the data in the database.\n",
    "\n",
    "![](https://static.javatpoint.com/dbms/images/dbms-language.png)"
   ]
  },
  {
   "cell_type": "markdown",
   "metadata": {},
   "source": [
    "### Data Definition Language\n"
   ]
  },
  {
   "cell_type": "markdown",
   "metadata": {},
   "source": [
    "DDL is used to define database structure or pattern. It is used to create schema, tables, indexes, constraints, etc. in the database. Using the DDL statements, you can create the skeleton of the database. Data definition language is used to store the information of metadata like the number of tables and schemas, their names, indexes, columns in each table, constraints, etc.\n"
   ]
  },
  {
   "cell_type": "markdown",
   "metadata": {},
   "source": [
    "Here are some tasks that come under DDL\n",
    "<ul class=\"points\">\n",
    "<li><strong>Create:</strong> It is used to create objects in the database.</li>\n",
    "<li><strong>Alter:</strong> It is used to alter the structure of the database.</li>\n",
    "<li><strong>Drop:</strong> It is used to delete objects from the database.</li>\n",
    "<li><strong>Truncate:</strong> It is used to remove all records from a table.</li>\n",
    "<li><strong>Rename:</strong> It is used to rename an object.</li>\n",
    "<li><strong>Comment:</strong> It is used to comment on the data dictionary.</li>\n",
    "</ul>"
   ]
  },
  {
   "cell_type": "markdown",
   "metadata": {},
   "source": [
    "### Data Manipulation Language"
   ]
  },
  {
   "cell_type": "markdown",
   "metadata": {},
   "source": [
    "It is used for accessing and manipulating data in a database. It handles user requests."
   ]
  },
  {
   "cell_type": "markdown",
   "metadata": {},
   "source": [
    "Here are some tasks that come under DML\n",
    "<ul class=\"points\">\n",
    "<li><strong>Select:</strong> It is used to retrieve data from a database.</li>\n",
    "<li><strong>Insert:</strong> It is used to insert data into a table.</li>\n",
    "<li><strong>Update:</strong> It is used to update existing data within a table.</li>\n",
    "<li><strong>Delete:</strong> It is used to delete all records from a table.</li>\n",
    "<li><strong>Merge:</strong> It performs UPSERT operation, i.e., insert or update operations.</li>\n",
    "<li><strong>Call:</strong> It is used to call a structured query language or a Java subprogram.</li>\n",
    "<li><strong>Explain Plan:</strong> It has the parameter of explaining data.</li>\n",
    "<li><strong>Lock Table:</strong> It controls concurrency.</li>\n",
    "</ul>"
   ]
  },
  {
   "cell_type": "markdown",
   "metadata": {},
   "source": [
    "### Data Control Language"
   ]
  },
  {
   "cell_type": "markdown",
   "metadata": {},
   "source": [
    "It is used to retrieve the stored or saved data.\n",
    "The DCL execution is transactional. It also has rollback parameters.\n"
   ]
  },
  {
   "cell_type": "markdown",
   "metadata": {},
   "source": [
    "Under this, we have\n",
    "\n",
    "<ul class=\"points\">\n",
    "<li><strong>Grant:</strong> It is used to give user access privileges to a database.</li>\n",
    "<li><strong>Revoke:</strong> It is used to take back permissions from the user.</li>\n",
    "</ul>"
   ]
  },
  {
   "cell_type": "markdown",
   "metadata": {},
   "source": [
    "### Transaction Control Language"
   ]
  },
  {
   "cell_type": "markdown",
   "metadata": {},
   "source": [
    "TCL is used to run the changes made by the DML statement. TCL can be grouped into a logical transaction."
   ]
  },
  {
   "cell_type": "markdown",
   "metadata": {},
   "source": [
    "Here,\n",
    "\n",
    "<ul class=\"points\">\n",
    "<li><strong>Commit:</strong> It is used to save the transaction on the database.</li>\n",
    "<li><strong>Rollback:</strong> It is used to restore the database to original since the last Commit. </li>\n",
    "</ul>"
   ]
  },
  {
   "cell_type": "markdown",
   "metadata": {},
   "source": [
    "## ACID Properties in DBMS"
   ]
  },
  {
   "cell_type": "markdown",
   "metadata": {},
   "source": [
    "DBMS is the management of data that should remain integrated when any changes are done in it. It is because if the integrity of the data is affected, whole data will get disturbed and corrupted. Therefore, to maintain the integrity of the data, there are four properties described in the database management system, which are known as the ACID properties. \n",
    "\n",
    "![](https://static.javatpoint.com/dbms/images/acid-properties-in-dbms.png)"
   ]
  },
  {
   "cell_type": "markdown",
   "metadata": {},
   "source": [
    "### Atomicity"
   ]
  },
  {
   "cell_type": "markdown",
   "metadata": {},
   "source": [
    "The term atomicity defines that the data remains atomic. It means if any operation is performed on the data, either it should be performed or executed completely or should not be executed at all. It further means that the operation should not break in between or execute partially. In the case of executing operations on the transaction, the operation should be completely executed and not partially."
   ]
  },
  {
   "cell_type": "markdown",
   "metadata": {},
   "source": [
    "![](https://static.javatpoint.com/dbms/images/acid-properties-in-dbms2.png)"
   ]
  },
  {
   "cell_type": "markdown",
   "metadata": {},
   "source": [
    "![](https://static.javatpoint.com/dbms/images/acid-properties-in-dbms3.png)"
   ]
  },
  {
   "cell_type": "markdown",
   "metadata": {},
   "source": [
    "### Consistency"
   ]
  },
  {
   "cell_type": "markdown",
   "metadata": {},
   "source": [
    "The word consistency means that the value should remain preserved always. In DBMS, the integrity of the data should be maintained, which means if a change in the database is made, it should remain preserved always. In the case of transactions, the integrity of the data is very essential so that the database remains consistent before and after the transaction. "
   ]
  },
  {
   "cell_type": "markdown",
   "metadata": {},
   "source": [
    "![](https://static.javatpoint.com/dbms/images/acid-properties-in-dbms4.png)"
   ]
  },
  {
   "cell_type": "markdown",
   "metadata": {},
   "source": [
    "### Isolation"
   ]
  },
  {
   "cell_type": "markdown",
   "metadata": {},
   "source": [
    "In DBMS, Isolation is the property of a database where no data should affect the other one and may occur concurrently. In short, the operation on one database should begin when the operation on the first database gets complete. It means if two operations are being performed on two different databases, they may not affect the value of one another. In the case of transactions, when two or more transactions occur simultaneously, the consistency should remain maintained. Any changes that occur in any particular transaction will not be seen by other transactions until the change is not committed in the memory.\n"
   ]
  },
  {
   "cell_type": "markdown",
   "metadata": {},
   "source": [
    "![](https://static.javatpoint.com/dbms/images/acid-properties-in-dbms5.png)"
   ]
  },
  {
   "cell_type": "markdown",
   "metadata": {},
   "source": [
    "### Durability"
   ]
  },
  {
   "cell_type": "markdown",
   "metadata": {},
   "source": [
    "In DBMS, the term durability ensures that the data after the successful execution of the operation becomes permanent in the database. The durability of the data should be so perfect that even if the system fails or leads to a crash, the database still survives. For committing the values, the COMMIT command must be used every time we make changes."
   ]
  },
  {
   "cell_type": "markdown",
   "metadata": {},
   "source": [
    "## Transaction"
   ]
  },
  {
   "cell_type": "markdown",
   "metadata": {},
   "source": [
    "A transaction can be defined as a group of tasks. A single task is the minimum processing unit which cannot be divided further."
   ]
  },
  {
   "cell_type": "markdown",
   "metadata": {},
   "source": [
    "Let's talk about various states of transaction."
   ]
  },
  {
   "cell_type": "markdown",
   "metadata": {},
   "source": [
    "![](https://www.tutorialspoint.com/dbms/images/transaction_states.png)"
   ]
  },
  {
   "cell_type": "markdown",
   "metadata": {},
   "source": [
    "### Active State"
   ]
  },
  {
   "cell_type": "markdown",
   "metadata": {},
   "source": [
    "<ul class=\"points\">\n",
    "<li>The active state is the first state of every transaction. In this state, the transaction is being executed.</li>\n",
    "<li>For example: Insertion or deletion or updating a record is done here. But all the records are still not saved to the database. </li>\n",
    "</ul>"
   ]
  },
  {
   "cell_type": "markdown",
   "metadata": {},
   "source": [
    "### Partially Committed"
   ]
  },
  {
   "cell_type": "markdown",
   "metadata": {},
   "source": [
    "<ul class=\"points\">\n",
    "<li>In the partially committed state, a transaction executes its final operation, but the data is still not saved to the database.</li>\n",
    "<li>In the total mark calculation example, a final display of the total marks step is executed in this state.</li>\n",
    "</ul>"
   ]
  },
  {
   "cell_type": "markdown",
   "metadata": {},
   "source": [
    "### Commited"
   ]
  },
  {
   "cell_type": "markdown",
   "metadata": {},
   "source": [
    "A transaction is said to be in a committed state if it executes all its operations successfully. In this state, all the effects are now permanently saved on the database system."
   ]
  },
  {
   "cell_type": "markdown",
   "metadata": {},
   "source": [
    "### Failed State"
   ]
  },
  {
   "cell_type": "markdown",
   "metadata": {},
   "source": [
    "<ul class=\"points\">\n",
    "<li>If any of the checks made by the database recovery system fails, then the transaction is said to be in the failed state.</li>\n",
    "<li>In the example of total mark calculation, if the database is not able to fire a query to fetch the marks, then the transaction will fail to execute.</li>\n",
    "</ul>"
   ]
  },
  {
   "cell_type": "markdown",
   "metadata": {},
   "source": [
    "### Aborted"
   ]
  },
  {
   "cell_type": "markdown",
   "metadata": {},
   "source": [
    "<ul class=\"points\">\n",
    "<li>If any of the checks fail and the transaction has reached a failed state then the database recovery system will make sure that the database is in its previous consistent state. If not then it will abort or roll back the transaction to bring the database into a consistent state. </li>\n",
    "<li>If the transaction fails in the middle of the transaction then before executing the transaction, all the executed transactions are rolled back to its consistent state.</li>\n",
    "<li>After aborting the transaction, the database recovery module will select one of the two operations: </li>\n",
    "<ol class=\"points\">\n",
    "<li>Re-start the transaction</li>\n",
    "<li>Kill the transaction</li>\n",
    "</ol>\n",
    "</ul>"
   ]
  },
  {
   "cell_type": "markdown",
   "metadata": {},
   "source": [
    "# RDBMS"
   ]
  },
  {
   "cell_type": "markdown",
   "metadata": {},
   "source": [
    "RDBMS stands for Relational Database Management System.\n",
    "\n",
    "All modern database management systems like SQL, MS SQL Server, IBM DB2, ORACLE, My-SQL, and Microsoft Access are based on RDBMS. It is called Relational Database Management System (RDBMS) because it is based on the relational model. Here, data is represented in terms of tuples (rows)."
   ]
  },
  {
   "cell_type": "markdown",
   "metadata": {},
   "source": [
    "## Different Part of RDBMS"
   ]
  },
  {
   "cell_type": "markdown",
   "metadata": {},
   "source": [
    "### Table/Relation"
   ]
  },
  {
   "cell_type": "markdown",
   "metadata": {},
   "source": [
    "Everything in a relational database is stored in the form of relations. The RDBMS database uses tables to store data. A table is a collection of related data entries and contains rows and columns to store data. Each table represents some real-world objects such as person, place, or event about which information is collected. The organized collection of data into a relational table is known as the logical view of the database."
   ]
  },
  {
   "cell_type": "markdown",
   "metadata": {},
   "source": [
    "**Properties:**\n",
    "\n",
    "<ul class=\"points\">\n",
    "<li>Each relation has a unique name by which it is identified in the database.</li>\n",
    "<li>Relation does not contain duplicate tuples.</li>\n",
    "<li>The tuples of a relation have no specific order.</li>\n",
    "<li>All attributes in a relation are atomic, i.e., each cell of a relation contains exactly one value.</li>\n",
    "</ul>"
   ]
  },
  {
   "cell_type": "markdown",
   "metadata": {},
   "source": [
    "### Row/Tuple"
   ]
  },
  {
   "cell_type": "markdown",
   "metadata": {},
   "source": [
    "A row of a table is also called a record or tuple. It contains the specific information of each entry in the table. It is a horizontal entity in the table."
   ]
  },
  {
   "cell_type": "markdown",
   "metadata": {},
   "source": [
    "**Properties**\n",
    "\n",
    "<ul class=\"points\">\n",
    "<li>No two tuples are identical to each other in all their entries.</li>\n",
    "<li>All tuples of the relation have the same format and the same number of entries.</li>\n",
    "<li>The order of the tuple is irrelevant. They are identified by their content, not by their position.</li>\n",
    "</ul>"
   ]
  },
  {
   "cell_type": "markdown",
   "metadata": {},
   "source": [
    "### Column/Attribute"
   ]
  },
  {
   "cell_type": "markdown",
   "metadata": {},
   "source": [
    "A column is a vertical entity in the table which contains all information associated with a specific field in a table. For example, \"name\" is a column in the above table which contains all information about a student's name."
   ]
  },
  {
   "cell_type": "markdown",
   "metadata": {},
   "source": [
    "**Properties**\n",
    "\n",
    "<ul class=\"points\">\n",
    "<li>Every attribute of a relation must have a name.</li>\n",
    "<li>Null values are permitted for the attributes.</li>\n",
    "<li>Default values can be specified for an attribute automatically inserted if no other value is specified for an attribute.</li>\n",
    "<li>Attributes that uniquely identify each tuple of a relation are the primary key.</li>\n",
    "</ul>"
   ]
  },
  {
   "cell_type": "markdown",
   "metadata": {},
   "source": [
    "### Data Item/Cells"
   ]
  },
  {
   "cell_type": "markdown",
   "metadata": {},
   "source": [
    "The smallest unit of data in the table is the individual data item. It is stored at the intersection of tuples and attributes."
   ]
  },
  {
   "cell_type": "markdown",
   "metadata": {},
   "source": [
    "## Difference between DBMS and RDBMS"
   ]
  },
  {
   "cell_type": "markdown",
   "metadata": {},
   "source": [
    ">RDBMS is an extension of DBMS."
   ]
  },
  {
   "cell_type": "markdown",
   "metadata": {},
   "source": [
    "<table class=\"alt\">\n",
    "<tbody><tr>\n",
    "<th>No.</th>\n",
    "<th>DBMS</th>\n",
    "<th>RDBMS</th>\n",
    "</tr>\n",
    "<tr>\n",
    "<td>1)</td>\n",
    "<td>DBMS applications store <strong>data as file</strong>.</td>\n",
    "<td>RDBMS applications store <strong>data in a tabular form</strong>.</td>\n",
    "</tr>\n",
    "<tr>\n",
    "<td>2)</td>\n",
    "<td>In DBMS, data is generally stored in either a hierarchical form or a navigational form.</td>\n",
    "<td>In RDBMS, the tables have an identifier called primary key and the data values are stored in the form of tables.</td>\n",
    "</tr>\n",
    "<tr>\n",
    "<td>3)</td>\n",
    "<td><strong>Normalization is not</strong> present in DBMS.</td>\n",
    "<td><strong>Normalization is</strong> present in RDBMS.</td>\n",
    "</tr>\n",
    "<tr>\n",
    "<td>4)</td>\n",
    "<td>DBMS does <strong>not apply any security</strong> with regards to data manipulation.</td>\n",
    "<td>RDBMS <strong>defines the integrity constraint</strong> for the purpose of ACID (Atomocity, Consistency, Isolation and Durability) property.</td>\n",
    "</tr>\n",
    "<tr>\n",
    "<td>5)</td>\n",
    "<td>DBMS uses file system to store data, so there will be <strong>no relation between the tables</strong>.</td>\n",
    "<td>in RDBMS, data values are stored in the form of tables, so a <strong>relationship</strong> between these data values will be stored in the form of a table as well.</td>\n",
    "</tr>\n",
    "<tr>\n",
    "<td>6)</td>\n",
    "<td>DBMS has to provide some uniform methods to access the stored information.</td>\n",
    "<td>RDBMS system supports a tabular structure of the data and a relationship between them to access the stored information.</td>\n",
    "</tr>\n",
    "<tr>\n",
    "<td>7)</td>\n",
    "<td>DBMS <strong>does not support distributed database</strong>.</td>\n",
    "<td>RDBMS <strong>supports distributed database</strong>.</td>\n",
    "</tr>\n",
    "<tr>\n",
    "<td>8)</td>\n",
    "<td>DBMS is meant to be for small organization and <strong>deal with small data</strong>. it supports <strong>single user</strong>.</td>\n",
    "<td>RDBMS is designed to <strong>handle large amount of data</strong>. it supports <strong>multiple users</strong>.</td>\n",
    "</tr>\n",
    "<tr>\n",
    "<td>9)</td>\n",
    "<td>Examples of DBMS are file systems, <strong>xml</strong> etc.</td>\n",
    "<td>Example of RDBMS are <strong>mysql</strong>, <strong>postgre</strong>, <strong>sql server</strong>, <strong>oracle</strong> etc.</td>\n",
    "</tr>\n",
    "</tbody></table>"
   ]
  },
  {
   "cell_type": "markdown",
   "metadata": {},
   "source": [
    "<table>\n",
    "<thead>\n",
    "<tr class=\"row-1 odd\">\n",
    "<th class=\"column-1\">SQL</th><th class=\"column-2\">MySQL</th>\n",
    "</tr>\n",
    "</thead>\n",
    "<tbody class=\"row-hover\">\n",
    "<tr class=\"row-2 even\">\n",
    "<td class=\"column-1\">SQL is Structured Query Language used to manage the relational databases.</td><td class=\"column-2\">MySQL is a relational database management system used to store, retrieve, modify and administer a database using SQL. We have a lot of database software available in the market. The popular ones include MySQL, SQL Server, Oracle, Informix, etc.</td>\n",
    "</tr>\n",
    "<tr class=\"row-3 odd\">\n",
    "<td class=\"column-1\">It’s a query language.</td><td class=\"column-2\">It’s database software. It uses SQL as a language to query the database.</td>\n",
    "</tr>\n",
    "<tr class=\"row-4 even\">\n",
    "<td class=\"column-1\">Since this is a language, it does not get updates. SQL commands always remain the same.</td><td class=\"column-2\">Since it’s a software, it gets frequent updates.</td>\n",
    "</tr>\n",
    "</tbody>\n",
    "</table>"
   ]
  }
 ],
 "metadata": {
  "kernelspec": {
   "display_name": "Python 3.9.12 ('data-science')",
   "language": "python",
   "name": "python3"
  },
  "language_info": {
   "name": "python",
   "version": "3.9.12"
  },
  "orig_nbformat": 4,
  "vscode": {
   "interpreter": {
    "hash": "2efee1efa502125d01e6b4768ba06d9453d29f3642bfd14ad5d4a769de82e88c"
   }
  }
 },
 "nbformat": 4,
 "nbformat_minor": 2
}
