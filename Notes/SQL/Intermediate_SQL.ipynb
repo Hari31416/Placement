{
 "cells": [
  {
   "cell_type": "markdown",
   "metadata": {},
   "source": [
    "<h2 id=\"Contents\">Contents<a href=\"#Contents\"></a></h2>\n",
    "        <ol>\n",
    "        <ol><li><a class=\"\" href=\"#CASE-Statements\">CASE Statements</a></li>\n",
    "<ol><li><a class=\"\" href=\"#Basic-Case-Synanx\">Basic Case Synanx</a></li>\n",
    "</ol><li><a class=\"\" href=\"#Simple-Subqueries\">Simple Subqueries</a></li>\n",
    "<ol><li><a class=\"\" href=\"#Subqueries-in-WHERE\">Subqueries in WHERE</a></li>\n",
    "<ol><li><a class=\"\" href=\"#Filtering-using-a-subquery-with-a-scalar\">Filtering using a subquery with a scalar</a></li>\n",
    "<li><a class=\"\" href=\"#Filtering-using-a-subquery-with-a-list\">Filtering using a subquery with a list</a></li>\n",
    "</ol><li><a class=\"\" href=\"#Subqueries-in-FROM\">Subqueries in FROM</a></li>\n",
    "<li><a class=\"\" href=\"#Subqueries-in-SELECT\">Subqueries in SELECT</a></li>\n",
    "<li><a class=\"\" href=\"#Multiple-Subqueries\">Multiple Subqueries</a></li>\n",
    "</ol><li><a class=\"\" href=\"#Complex-Subqueries\">Complex Subqueries</a></li>\n",
    "<ol><li><a class=\"\" href=\"#Correlated-Subqueries\">Correlated Subqueries</a></li>\n",
    "</ol><li><a class=\"\" href=\"#Nested-Subqueries\">Nested Subqueries</a></li>\n",
    "<ol><li><a class=\"\" href=\"#Nested-simple-subqueries\">Nested simple subqueries</a></li>\n",
    "<li><a class=\"\" href=\"#Nest-a-subquery-in-FROM\">Nest a subquery in FROM</a></li>\n",
    "<li><a class=\"\" href=\"#Common-Table-Expressions\">Common Table Expressions</a></li>\n",
    "<ol><li><a class=\"\" href=\"#Common-Table-Expressions\">Common Table Expressions</a></li>\n",
    "<li><a class=\"\" href=\"#Readability\">Readability</a></li>\n",
    "<li><a class=\"\" href=\"#Organizing-with-CTEs\">Organizing with CTEs</a></li>\n",
    "<li><a class=\"\" href=\"#CTEs-with-nested-subqueries\">CTEs with nested subqueries</a></li>\n",
    "<li><a class=\"\" href=\"#Which-Method-to-Use?\">Which Method to Use?</a></li>\n",
    "</ol></ol><li><a class=\"\" href=\"#Window-Functions\">Window Functions</a></li>\n",
    "<ol><li><a class=\"\" href=\"#OVER()\">OVER()</a></li>\n",
    "<li><a class=\"\" href=\"#OVER-and-PARTITION-BY\">OVER and PARTITION BY</a></li>\n",
    "<li><a class=\"\" href=\"#Sliding-windows\">Sliding windows</a></li>\n",
    "<ol><li><a class=\"\" href=\"#Slide-to-the-left\">Slide to the left</a></li>\n",
    "<li><a class=\"\" href=\"#Slide-to-the-right\">Slide to the right</a></li>\n",
    "<li><a class=\"\" href=\"#Final-Exercise\">Final Exercise</a></li>\n",
    "</ol>\n"
   ]
  },
  {
   "cell_type": "markdown",
   "metadata": {},
   "source": [
    "## CASE Statements"
   ]
  },
  {
   "cell_type": "markdown",
   "metadata": {},
   "source": [
    "A `CASE` statement is SQl version of 'if this then that' statements.<br>\n",
    "`CASE` statements can be used to:\n",
    "* Categorizing data\n",
    "* Filtering data\n",
    "* Aggregating data"
   ]
  },
  {
   "cell_type": "markdown",
   "metadata": {},
   "source": [
    "### Basic Case Synanx"
   ]
  },
  {
   "cell_type": "markdown",
   "metadata": {},
   "source": [
    "<figure>\n",
    "<figcaption><p>Basic CASE Syntax</p><f/igcaption>\n",
    "<img src=\"img/02_01.png\"/>\n",
    "</figure>"
   ]
  },
  {
   "cell_type": "markdown",
   "metadata": {},
   "source": [
    ">SELECT date<br>\n",
    "\tCASE WHEN home_goal > away_goal THEN 'Home win!'<br>\n",
    "        WHEN home_goal < away_goal THEN 'Home loss :(' <br>\n",
    "        ELSE 'Tie' END AS outcome<br>\n",
    "FROM matches_spain;<br>"
   ]
  },
  {
   "cell_type": "markdown",
   "metadata": {},
   "source": [
    "The above query uses the `CASE` statement to create a new column called `outcome` that contains the outcome of the match."
   ]
  },
  {
   "cell_type": "markdown",
   "metadata": {},
   "source": [
    "It is possible to combine multiple logics inside a `CASE` statement. The following query check if the team is *Chelsea* and classifies the outcome only when this is true!"
   ]
  },
  {
   "cell_type": "markdown",
   "metadata": {},
   "source": [
    "<figure>\n",
    "<figcaption><p>CASE Syntax With AND</p><f/igcaption>\n",
    "<img src=\"img/02_02.png\"/>\n",
    "</figure>"
   ]
  },
  {
   "cell_type": "markdown",
   "metadata": {},
   "source": [
    "It is important to add the final `WHEN` condition otherwise the `CASE` statement will output the result coressponding to all teams, not only *Chelsea*."
   ]
  },
  {
   "cell_type": "markdown",
   "metadata": {},
   "source": [
    "If we don't want the final `ELSE` clause, we can leave out the `ELSE` clause and it will result in a value of `NULL` everywhere the `ELSE` clause was supposed to return. (In above case, there will be no *Loss or tie :(* in reslting table, instead, it will be `NULL`.). However, we can do better and drop all these `NULL` values using a `WHERE` clause. The syntax is:"
   ]
  },
  {
   "cell_type": "markdown",
   "metadata": {},
   "source": [
    "<figure>\n",
    "<figcaption><p>CASE Syntax With AND and WHERE</p><f/igcaption>\n",
    "<img src=\"img/02_03.png\"/>\n",
    "</figure>"
   ]
  },
  {
   "cell_type": "markdown",
   "metadata": {},
   "source": [
    "> We don't need to filter anymore. ):"
   ]
  },
  {
   "cell_type": "markdown",
   "metadata": {},
   "source": [
    ">SELECT <br>\n",
    "\tdate,<br>\n",
    "\tCASE WHEN hometeam_id = 8634 THEN 'FC Barcelona' <br>\n",
    "         ELSE 'Real Madrid CF' END as home,<br>\n",
    "\tCASE WHEN awayteam_id = 8634 THEN 'FC Barcelona' <br>\n",
    "         ELSE 'Real Madrid CF' END as away,<br>\n",
    "\tCASE WHEN home_goal > away_goal AND hometeam_id = 8634 THEN 'Barcelona win!'<br>\n",
    "        WHEN home_goal > away_goal AND hometeam_id = 8633 THEN 'Real Madrid win!'<br>\n",
    "        WHEN home_goal < away_goal AND awayteam_id = 8634 THEN 'Barcelona win!'<br>\n",
    "        WHEN home_goal < away_goal AND awayteam_id = 8633 THEN 'Real Madrid win!'<br>\n",
    "        ELSE 'Tie!' END AS outcome<br>\n",
    "FROM matches_spain<br>\n",
    "WHERE (awayteam_id = 8634 OR hometeam_id = 8634)<br>\n",
    "      AND (awayteam_id = 8633 OR hometeam_id = 8633);<br>"
   ]
  },
  {
   "cell_type": "markdown",
   "metadata": {},
   "source": [
    "The above query returns the result of all the matches between *Barcelona* and *Real Madrid*. The result is in column `outcome` and has three different values: `Barcelona win!`, `Real Madrid win!` and `Tie!`."
   ]
  },
  {
   "cell_type": "markdown",
   "metadata": {},
   "source": [
    ">`CASE` statements allow you to categorize data that you're interested in - and exclude data you're not interested in. In order to do this, you can use a `CASE` statement as a filter in the `WHERE` statement to remove output you don't want to see."
   ]
  },
  {
   "cell_type": "markdown",
   "metadata": {},
   "source": [
    ">SELECT <br>\n",
    "\tseason,<br>\n",
    "    date,<br>\n",
    "\thome_goal,<br>\n",
    "\taway_goal<br>\n",
    "FROM matches_italy<br>\n",
    "WHERE <br>\n",
    "\tCASE WHEN hometeam_id = 9857 AND home_goal > away_goal THEN 'Bologna Win'<br>\n",
    "\t\tWHEN awayteam_id = 9857 AND away_goal > home_goal THEN 'Bologna Win' <br>\n",
    "\t\tEND IS NOT NULL;"
   ]
  },
  {
   "cell_type": "markdown",
   "metadata": {},
   "source": [
    "The above query gives details on every match in this database where *Bologna* won. It excludes matches where *Bologna* didn't win."
   ]
  },
  {
   "cell_type": "markdown",
   "metadata": {},
   "source": [
    "`CASE` statements are like any column in our database. So, we can use `COUNT` on them to use `GROUP BY`. The syntax is:"
   ]
  },
  {
   "cell_type": "markdown",
   "metadata": {},
   "source": [
    "<figure>\n",
    "<figcaption><p>CASE Syntax With COUNT and GROUP BY</p><f/igcaption>\n",
    "<img src=\"img/02_04.png\"/>\n",
    "</figure>"
   ]
  },
  {
   "cell_type": "markdown",
   "metadata": {},
   "source": [
    "> Note that SQL counts the number of rows that match the `CASE` statement. So, you use any number or string between `THEN` and `END` to group the data."
   ]
  },
  {
   "cell_type": "markdown",
   "metadata": {},
   "source": [
    "In case the `CASE` statement returns a number, we can use `SUM` to sum the returned values."
   ]
  },
  {
   "cell_type": "markdown",
   "metadata": {},
   "source": [
    "<figure>\n",
    "<figcaption><p>CASE Syntax With SUM</p><f/igcaption>\n",
    "<img src=\"img/02_05.png\"/>\n",
    "</figure>"
   ]
  },
  {
   "cell_type": "markdown",
   "metadata": {},
   "source": [
    "> The `AVG` can be used the same way."
   ]
  },
  {
   "cell_type": "markdown",
   "metadata": {},
   "source": [
    "Another use of `AVG` function is to calculate percentages. The syntax is:"
   ]
  },
  {
   "cell_type": "markdown",
   "metadata": {},
   "source": [
    "<figure>\n",
    "<figcaption><p>CASE Syntax With AVG</p><f/igcaption>\n",
    "<img src=\"img/02_06.png\"/>\n",
    "</figure>"
   ]
  },
  {
   "cell_type": "markdown",
   "metadata": {},
   "source": [
    "Here, the query returns the percentage of matches where the team won. We have used the `ROUND` function to round the result to two decimal places."
   ]
  },
  {
   "cell_type": "markdown",
   "metadata": {},
   "source": [
    ">SELECT <br>\n",
    "\tc.name AS country,<br>\n",
    "\tCOUNT(CASE WHEN m.season = '2012/2013' THEN m.id END) AS matches_2012_2013,<br>\n",
    "\tCOUNT(CASE WHEN m.season = '2013/2014' THEN m.id END) AS matches_2013_2014,<br>\n",
    "\tCOUNT(CASE WHEN m.season = '2014/2015' THEN m.id END) AS matches_2014_2015<br>\n",
    "FROM country AS c<br>\n",
    "LEFT JOIN match AS m<br>\n",
    "ON c.id = m.country_id<br>\n",
    "GROUP BY c.name;"
   ]
  },
  {
   "cell_type": "markdown",
   "metadata": {},
   "source": [
    "The above query gives the number of matches played by countries in year 2012-13, 2013-14 and 2014-15."
   ]
  },
  {
   "cell_type": "markdown",
   "metadata": {},
   "source": [
    ">In R or Python, you have the ability to calculate a `SUM` of logical values (i.e., TRUE/FALSE) directly. In SQL, you have to convert these values into 1 and 0 before calculating a sum. This can be done using a `CASE` statement."
   ]
  },
  {
   "cell_type": "markdown",
   "metadata": {},
   "source": [
    ">SELECT <br>\n",
    "\tc.name AS country,<br>\n",
    "\tSUM(CASE WHEN m.season = '2012/2013' AND m.home_goal > m.away_goal <br>\n",
    "        THEN 1 ELSE 0 END) AS matches_2012_2013,<br>\n",
    " \tSUM(CASE WHEN m.season = '2013/2014' AND m.home_goal > m.away_goal <br>\n",
    "        THEN 1 ELSE 0 END) AS matches_2013_2014,<br>\n",
    "\tSUM(CASE WHEN m.season = '2014/2015' AND m.home_goal > m.away_goal <br>\n",
    "        THEN 1 ELSE 0 END) AS matches_2014_2015<br>\n",
    "FROM country AS c<br>\n",
    "LEFT JOIN match AS m<br>\n",
    "ON c.id = m.country_id<br>\n",
    "GROUP BY c.name;"
   ]
  },
  {
   "cell_type": "markdown",
   "metadata": {},
   "source": [
    "Here, we have converted the boolean `TRUE` and `FALSE` values into 1 and 0 and summed it."
   ]
  },
  {
   "cell_type": "markdown",
   "metadata": {},
   "source": [
    "`CASE` statements will return any value you specify in your `THEN` clause. This is an incredibly powerful tool for robust calculations and data manipulation when used in conjunction with an aggregate statement. One key task you can perform is using `CASE` inside an `AVG` function to calculate a percentage of information in your database.\n",
    ">AVG(CASE WHEN condition_is_met THEN 1<br>\n",
    "         WHEN condition_is_not_met THEN 0 END)"
   ]
  },
  {
   "cell_type": "markdown",
   "metadata": {},
   "source": [
    ">SELECT <br>\n",
    "\tc.name AS country,<br>\n",
    "\tROUND(AVG(CASE WHEN m.season='2013/2014' AND m.home_goal = m.away_goal THEN 1<br>\n",
    "\t\t\t WHEN m.season='2013/2014' AND m.home_goal != m.away_goal THEN 0<br>\n",
    "\t\t\t END),2) AS pct_ties_2013_2014,<br>\n",
    "\tROUND(AVG(CASE WHEN m.season='2014/2015' AND m.home_goal = m.away_goal THEN 1<br>\n",
    "\t\t\t WHEN m.season='2014/2015' AND m.home_goal != m.away_goal THEN 0<br>\n",
    "\t\t\t END),2) AS pct_ties_2014_2015<br>\n",
    "FROM country AS c<br>\n",
    "LEFT JOIN matches AS m<br>\n",
    "ON c.id = m.country_id<br>\n",
    "GROUP BY country;"
   ]
  },
  {
   "cell_type": "markdown",
   "metadata": {},
   "source": [
    "The above query gives the percentage of tied matches. It also rounds off the result to two decimal places."
   ]
  },
  {
   "cell_type": "markdown",
   "metadata": {},
   "source": [
    "## Simple Subqueries"
   ]
  },
  {
   "cell_type": "markdown",
   "metadata": {},
   "source": [
    "### Subqueries in `WHERE`"
   ]
  },
  {
   "cell_type": "markdown",
   "metadata": {},
   "source": [
    "#### Filtering using a subquery with a scalar"
   ]
  },
  {
   "cell_type": "markdown",
   "metadata": {},
   "source": [
    "Subqueries are incredibly powerful for performing complex filters and transformations. You can filter data based on single, scalar values using a subquery in ways you cannot by using `WHERE` statements or joins. Subqueries can also be used for more advanced manipulation of your data set."
   ]
  },
  {
   "cell_type": "markdown",
   "metadata": {},
   "source": [
    ">SELECT <br>\n",
    "    date,<br>\n",
    "\thome_goal,<br>\n",
    "\taway_goal<br>\n",
    "FROM  matches_2013_2014<br>\n",
    "WHERE (home_goal + away_goal) <br>\n",
    "       (SELECT 3 * AVG(home_goal + away_goal)<br>\n",
    "        FROM matches_2013_2014); <br>"
   ]
  },
  {
   "cell_type": "markdown",
   "metadata": {},
   "source": [
    "The above query filters only those matches where the total goals scored by the teams are greater than 3 times the average of the total goals scored by the teams in the 2013-14 season."
   ]
  },
  {
   "cell_type": "markdown",
   "metadata": {},
   "source": [
    "#### Filtering using a subquery with a list"
   ]
  },
  {
   "cell_type": "markdown",
   "metadata": {},
   "source": [
    "In addition to filtering using a single-value (scalar) subquery, you can create a list of values in a subquery to filter data based on a complex set of conditions. This type of subquery generates a one column reference list for the main query. As long as the values in your list match a column in your main query's table, you don't need to use a join -- even if the list is from a separate table."
   ]
  },
  {
   "cell_type": "markdown",
   "metadata": {},
   "source": [
    ">SELECT <br>\n",
    "\tteam_long_name,<br>\n",
    "\tteam_short_name<br>\n",
    "FROM team <br>\n",
    "WHERE team_api_id NOT IN<br>\n",
    "     (SELECT DISTINCT hometeam_ID  FROM match);"
   ]
  },
  {
   "cell_type": "markdown",
   "metadata": {},
   "source": [
    "Here, using a subquery, first, you will generate a list of unique hometeam_ID values from the unfiltered match table to exclude in the team table's team_api_ID column."
   ]
  },
  {
   "cell_type": "markdown",
   "metadata": {},
   "source": [
    "We can even create more complex subqueries."
   ]
  },
  {
   "cell_type": "markdown",
   "metadata": {},
   "source": [
    "### Subqueries in `FROM`"
   ]
  },
  {
   "cell_type": "markdown",
   "metadata": {},
   "source": [
    "If you're interested in filtering data from one table, you can also create a subquery from one of the tables, and then join it to an existing table in the database. A subquery in `FROM` is an effective way of answering detailed questions that requires filtering or transforming data before including it in your final results. A subquery in `FROM` returns a table of data that you can then use in your main query."
   ]
  },
  {
   "cell_type": "markdown",
   "metadata": {},
   "source": [
    "<figure>\n",
    "<!-- <figcaption><h4>'CASE Syntax With SUM'</h4><f/igcaption> -->\n",
    "<img src=\"img/02_07.png\"/>\n",
    "</figure>"
   ]
  },
  {
   "cell_type": "markdown",
   "metadata": {},
   "source": [
    ">SELECT<br>\n",
    "    c.name AS country_name,<br>\n",
    "    COUNT(sub.id) AS matches<br>\n",
    "FROM country AS c<br>\n",
    "INNER JOIN (SELECT country_id, id <br>\n",
    "           FROM match<br>\n",
    "           WHERE (home_goal + away_goal) >= 10) AS sub<br>\n",
    "ON c.id = sub.country_id<br>\n",
    "GROUP BY country_name;"
   ]
  },
  {
   "cell_type": "markdown",
   "metadata": {},
   "source": [
    "The above query generates a subquery using the match table, and then join that subquery to the country table to calculate information about matches with 10 or more goals in total! We can get more information about the matches with 10 or more goals in total by:"
   ]
  },
  {
   "cell_type": "markdown",
   "metadata": {},
   "source": [
    ">SELECT<br>\n",
    "    country,<br>\n",
    "    date,<br>\n",
    "    home_goal,<br>\n",
    "    away_goal<br>\n",
    "FROM <br>\n",
    "\t(SELECT c.name AS country, <br>\n",
    "     \t    m.date, <br>\n",
    "     \t\tm.home_goal, <br>\n",
    "     \t\tm.away_goal,<br>\n",
    "           (m.home_goal + m.away_goal) AS total_goals<br>\n",
    "    FROM match AS m<br>\n",
    "    LEFT JOIN country AS c<br>\n",
    "    ON m.country_id = c.id) AS subq<br>\n",
    "WHERE total_goals >= 10;"
   ]
  },
  {
   "cell_type": "markdown",
   "metadata": {},
   "source": [
    "### Subqueries in `SELECT`"
   ]
  },
  {
   "cell_type": "markdown",
   "metadata": {},
   "source": [
    "Subqueries in `SELECT` statements generate a single value that allow you to pass an aggregate value down a data frame. This is useful for performing calculations on data within your database."
   ]
  },
  {
   "cell_type": "markdown",
   "metadata": {},
   "source": [
    "<figure>\n",
    "<figcaption><p>Subqueries in SELECT</p><f/igcaption>\n",
    "<img src=\"img/02_08.png\"/>\n",
    "</figure>"
   ]
  },
  {
   "cell_type": "markdown",
   "metadata": {},
   "source": [
    ">SELECT <br>\n",
    "\tl.name AS league,<br>\n",
    "    ROUND(AVG(m.home_goal + m.away_goal), 2) AS avg_goals,<br>\n",
    "    (SELECT ROUND(AVG(home_goal + away_goal), 2) <br>\n",
    "     FROM match<br>\n",
    "     WHERE season = '2013/2014') AS overall_avg<br>\n",
    "FROM league AS l<br>\n",
    "LEFT JOIN match AS m<br>\n",
    "ON l.country_id = m.country_id<br>\n",
    "WHERE season = '2013/2014'<br>\n",
    "GROUP BY league;"
   ]
  },
  {
   "cell_type": "markdown",
   "metadata": {},
   "source": [
    "Above query calculates the average number of goals per match in each country's league."
   ]
  },
  {
   "cell_type": "markdown",
   "metadata": {},
   "source": [
    "Subqueries in `SELECT` are a useful way to create calculated columns in a query. A subquery in `SELECT` can be treated as a single numeric value to use in your calculations. When writing queries in `SELECT`, it's important to remember that **filtering the main query does not filter the subquery -- and vice versa.**"
   ]
  },
  {
   "cell_type": "markdown",
   "metadata": {},
   "source": [
    "### Multiple Subqueries"
   ]
  },
  {
   "cell_type": "markdown",
   "metadata": {},
   "source": [
    "Subqueries can be used in multiple ways. You can use a subquery in `WHERE` to filter data, and then use a subquery in `FROM` to join the data. You can use a subquery in `SELECT` to generate a single value that you can use in your calculations. These all can also be done in a single query."
   ]
  },
  {
   "cell_type": "markdown",
   "metadata": {},
   "source": [
    ">SELECT <br>\n",
    "\ts.stage,<br>\n",
    "\tROUND(s.avg_goals,2) AS avg_goals<br>\n",
    "FROM <br>\n",
    "\t(SELECT<br>\n",
    "\t\t stage,<br>\n",
    "         AVG(home_goal + away_goal) AS avg_goals<br>\n",
    "\t FROM match<br>\n",
    "\t WHERE season = '2012/2013'<br>\n",
    "\t GROUP BY stage) AS s<br>\n",
    "WHERE <br>\n",
    "\ts.avg_goals > (SELECT AVG(home_goal + away_goal) <br>\n",
    "                    FROM match WHERE season = '2012/2013');"
   ]
  },
  {
   "cell_type": "markdown",
   "metadata": {},
   "source": [
    "The above subquery to extracts a list of stages where the average home goals in a stage is higher than the overall average for home goals in a match."
   ]
  },
  {
   "cell_type": "markdown",
   "metadata": {},
   "source": [
    ">SELECT <br>\n",
    "\ts.stage,<br>\n",
    "    ROUND(s.avg_goals,2) AS avg_goal,<br>\n",
    "    (SELECT AVG(home_goal + away_goal) FROM match WHERE season = '2012/2013') AS overall_avg<br>\n",
    "FROM <br>\n",
    "\t(SELECT<br>\n",
    "\t\t stage,<br>\n",
    "         AVG(home_goal + away_goal) AS avg_goals<br>\n",
    "\t FROM match<br>\n",
    "\t WHERE season = '2012/2013'<br>\n",
    "\t GROUP BY stage) AS s<br>\n",
    "WHERE <br>\n",
    "\ts.avg_goals > (SELECT AVG(home_goal + away_goal) <br>\n",
    "                    FROM match WHERE season = '2012/2013');"
   ]
  },
  {
   "cell_type": "markdown",
   "metadata": {},
   "source": [
    "Here, we add a subquery in SELECT, in the previous query to compare the average number of goals scored in each stage to the total. This is an example of a query where we have used subqueries in multiple places (`WHERE`, `FROM`, `SELECT`)."
   ]
  },
  {
   "cell_type": "markdown",
   "metadata": {},
   "source": [
    "## Complex Subqueries"
   ]
  },
  {
   "cell_type": "markdown",
   "metadata": {},
   "source": [
    "### Correlated Subqueries"
   ]
  },
  {
   "cell_type": "markdown",
   "metadata": {},
   "source": [
    "Correlated subqueries are subqueries that reference one or more columns in the main query. Correlated subqueries depend on information in the main query to run, and thus, cannot be executed on their own.\n",
    "\n",
    "Correlated subqueries are evaluated in SQL once per row of data retrieved - a process that takes a lot more computing power and time than a simple subquery."
   ]
  },
  {
   "cell_type": "markdown",
   "metadata": {},
   "source": [
    "![](img/02_09.png)"
   ]
  },
  {
   "cell_type": "markdown",
   "metadata": {},
   "source": [
    "Difference between correlated subqueries and simple subqueries:"
   ]
  },
  {
   "cell_type": "markdown",
   "metadata": {},
   "source": [
    "![](img/02_10.png)"
   ]
  },
  {
   "cell_type": "markdown",
   "metadata": {},
   "source": [
    "## Nested Subqueries"
   ]
  },
  {
   "cell_type": "markdown",
   "metadata": {},
   "source": [
    "### Nested simple subqueries"
   ]
  },
  {
   "cell_type": "markdown",
   "metadata": {},
   "source": [
    "A nested subquery is a subquery that is used in another subquery. Nested subqueries can be either simple or correlated.\n",
    "Just like an unnested subquery, a nested subquery's components can be executed independently of the outer query, while a correlated subquery requires both the outer and inner subquery to run and produce results."
   ]
  },
  {
   "cell_type": "markdown",
   "metadata": {},
   "source": [
    ">SELECT<br>\n",
    "\tseason,<br>\n",
    "    MAX(home_goal + away_goal) AS max_goals,<br>\n",
    "   (SELECT max(home_goal + away_goal) FROM match) AS overall_max_goals,<br>\n",
    "   (SELECT max(home_goal + away_goal)<br>\n",
    "    FROM match<br>\n",
    "    WHERE id IN (<br>\n",
    "          SELECT id FROM match WHERE EXTRACT(MONTH FROM date) = 07)) AS july_max_goals<br>\n",
    "FROM match<br>\n",
    "GROUP BY season;"
   ]
  },
  {
   "cell_type": "markdown",
   "metadata": {},
   "source": [
    "This subquery gives the highest total number of goals in each season, overall, and during July across all seasons."
   ]
  },
  {
   "cell_type": "markdown",
   "metadata": {},
   "source": [
    "### Nest a subquery in `FROM`"
   ]
  },
  {
   "cell_type": "markdown",
   "metadata": {},
   "source": [
    "Nesting subqueries and performing your transformations one step at a time, adding it to a subquery, and then performing the next set of transformations is often the easiest way to yield accurate information about your data."
   ]
  },
  {
   "cell_type": "markdown",
   "metadata": {},
   "source": [
    "SELECT<br>\n",
    "\tc.name AS country,<br>\n",
    "\tAVG(outer_s.matches) AS avg_seasonal_high_scores<br>\n",
    "FROM country AS c<br>\n",
    "LEFT JOIN (<br>\n",
    "  SELECT country_id, season,<br>\n",
    "         COUNT(id) AS matches<br>\n",
    "  FROM (<br>\n",
    "    SELECT country_id, season, id<br>\n",
    "\tFROM match<br>\n",
    "\tWHERE home_goal >= 5 OR away_goal >= 5) AS inner_s<br>\n",
    "  GROUP BY country_id, season) AS outer_s<br>\n",
    "ON c.id = outer_s.country_id<br>\n",
    "GROUP BY country;<br>"
   ]
  },
  {
   "cell_type": "markdown",
   "metadata": {},
   "source": [
    "The query answers the question: \"What is the average number of matches in each country that have a home or away goal greater than or equal to 5?\""
   ]
  },
  {
   "cell_type": "markdown",
   "metadata": {},
   "source": [
    "### Common Table Expressions"
   ]
  },
  {
   "cell_type": "markdown",
   "metadata": {},
   "source": [
    "Common table expressions (CTEs) are a way to create a temporary table in your database that can be used in a query. These are used to increase the readability and accessibility of query."
   ]
  },
  {
   "cell_type": "markdown",
   "metadata": {},
   "source": [
    "<figure>\n",
    "<figcaption><h4></h4></figcaption>\n",
    "<img src =\"img/02_11.png\">\n",
    "</figure>"
   ]
  },
  {
   "cell_type": "markdown",
   "metadata": {},
   "source": [
    "![](img/02_12.png)"
   ]
  },
  {
   "cell_type": "markdown",
   "metadata": {},
   "source": [
    "The above figure shows the query to create a temporary table. If we need more than one cte, we can use the `WITH` keyword to create multiple ctes, seperated by commas."
   ]
  },
  {
   "cell_type": "markdown",
   "metadata": {},
   "source": [
    "![](img/02_13.png)"
   ]
  },
  {
   "cell_type": "markdown",
   "metadata": {},
   "source": [
    "#### Readability"
   ]
  },
  {
   "cell_type": "markdown",
   "metadata": {},
   "source": [
    ">WITH match_list AS (<br>\n",
    "    SELECT <br>\n",
    "  \t\tcountry_id, <br>\n",
    "  \t\tid<br>\n",
    "    FROM match<br>\n",
    "    WHERE (home_goal + away_goal) >= 10)<br>\n",
    "SELECT<br>\n",
    "    l.name AS league,<br>\n",
    "    COUNT(match_list.id) AS matches<br>\n",
    "FROM league AS l<br>\n",
    "LEFT JOIN match_list ON l.id = match_list.country_id<br>\n",
    "GROUP BY l.name;"
   ]
  },
  {
   "cell_type": "markdown",
   "metadata": {},
   "source": [
    "The above query generated a list of countries and the number of matches in each country with more than 10 total goals using a CTE to create a temporary table."
   ]
  },
  {
   "cell_type": "markdown",
   "metadata": {},
   "source": [
    "#### Organizing with CTEs"
   ]
  },
  {
   "cell_type": "markdown",
   "metadata": {},
   "source": [
    ">WITH match_list AS (<br>\n",
    "    SELECT <br>\n",
    "  \t\tl.name AS league, <br>\n",
    "     \tdate, <br>\n",
    "  \t\thome_goal, <br>\n",
    "  \t\tm.away_goal,<br>\n",
    "       (m.home_goal + m.away_goal) AS total_goals<br>\n",
    "    FROM match AS m<br>\n",
    "    LEFT JOIN league as l ON m.country_id = l.id)<br>\n",
    "SELECT league, date, home_goal, away_goal<br>\n",
    "FROM match_list<br>\n",
    "WHERE total_goals >=10;<br>"
   ]
  },
  {
   "cell_type": "markdown",
   "metadata": {},
   "source": [
    "This query gives details about matches with very high scores using CTEs. Just like a subquery in FROM, you can join tables inside a CTE."
   ]
  },
  {
   "cell_type": "markdown",
   "metadata": {},
   "source": [
    "#### CTEs with nested subqueries"
   ]
  },
  {
   "cell_type": "markdown",
   "metadata": {},
   "source": [
    "Since many queries are written with the intention of being saved and re-run in the future, proper organization is key to a seamless workflow. Arranging subqueries as CTEs will save you time, space, and confusion in the long run!"
   ]
  },
  {
   "cell_type": "markdown",
   "metadata": {},
   "source": [
    ">WITH match_list AS (<br>\n",
    "    SELECT <br>\n",
    "  \t\tcountry_id,<br>\n",
    "  \t   (home_goal + away_goal) AS goals<br>\n",
    "    FROM match<br>\n",
    "    WHERE id IN (<br>\n",
    "       SELECT id<br>\n",
    "       FROM match<br>\n",
    "       WHERE season = '2013/2014' AND EXTRACT(MONTH FROM date) = '08'))<br><br>\n",
    "SELECT <br>\n",
    "\tl.name,<br>\n",
    "    AVG(goals)<br>\n",
    "FROM league AS l<br>\n",
    "-- Join the CTE onto the league table<br>\n",
    "LEFT JOIN match_list ON l.id = match_list.country_id<br>\n",
    "GROUP BY l.name;<br>"
   ]
  },
  {
   "cell_type": "markdown",
   "metadata": {},
   "source": [
    "As you can see, CTE with a nested subquery is easy to read - and produces an interesting set of data! <br>\n",
    "Furthermore, as CTEs are evaluated in the starting of the query, they can be used in any part of the query."
   ]
  },
  {
   "cell_type": "markdown",
   "metadata": {},
   "source": [
    "#### Which Method to Use?"
   ]
  },
  {
   "cell_type": "markdown",
   "metadata": {},
   "source": [
    "There are alot of way to get the information we can want from a query. However, they all are not the same. The methods used above, all have some limitations and benefits."
   ]
  },
  {
   "cell_type": "markdown",
   "metadata": {},
   "source": [
    "![](img/02_14.png)"
   ]
  },
  {
   "cell_type": "markdown",
   "metadata": {},
   "source": [
    "Let's answer one single question using all these methods. The question is: How do you get both the home and away team names into one final query result?"
   ]
  },
  {
   "cell_type": "markdown",
   "metadata": {},
   "source": [
    ">SELECT<br>\n",
    "\tm.date,<br>\n",
    "    hometeam,<br>\n",
    "    awayteam,<br>\n",
    "    m.home_goal,<br>\n",
    "    m.away_goal<br>\n",
    "FROM match AS m<br><br>\n",
    "LEFT JOIN (<br>\n",
    "  SELECT match.id, team.team_long_name AS hometeam<br>\n",
    "  FROM match<br>\n",
    "  LEFT JOIN team<br>\n",
    "  ON match.hometeam_id = team.team_api_id) AS home<br>\n",
    "ON home.id = m.id<br><br>\n",
    "LEFT JOIN (<br>\n",
    "  SELECT match.id, team.team_long_name AS awayteam<br>\n",
    "  FROM match<br>\n",
    "  LEFT JOIN team<br>\n",
    "  ON match.awayteam_id = team.team_api_id) AS away<br>\n",
    "ON away.id = m.id;"
   ]
  },
  {
   "cell_type": "markdown",
   "metadata": {},
   "source": [
    "Here, we are using just `JOIN`. This is one way to generate a list of team names who played in a match. This is much easier to read than team ID numbers!"
   ]
  },
  {
   "cell_type": "markdown",
   "metadata": {},
   "source": [
    "Let's solve the same problem using correlated subqueries."
   ]
  },
  {
   "cell_type": "markdown",
   "metadata": {},
   "source": [
    ">SELECT<br>\n",
    "    m.date,<br>\n",
    "    (SELECT team_long_name<br>\n",
    "     FROM team AS t<br>\n",
    "     WHERE t.team_api_id = m.hometeam_id) AS hometeam,<br>\n",
    "    (SELECT team_long_name<br>\n",
    "     FROM team AS t<br>\n",
    "     WHERE t.team_api_id = m.awayteam_id) AS awayteam,<br>\n",
    "     home_goal,<br>\n",
    "     away_goal<br>\n",
    "FROM match AS m;"
   ]
  },
  {
   "cell_type": "markdown",
   "metadata": {},
   "source": [
    "Finally, let's explore the final method - common table expressions."
   ]
  },
  {
   "cell_type": "markdown",
   "metadata": {},
   "source": [
    ">WITH home AS (<br>\n",
    "  SELECT m.id, m.date, <br>\n",
    "  \t\t t.team_long_name AS hometeam, m.home_goal<br>\n",
    "  FROM match AS m<br>\n",
    "  LEFT JOIN team AS t <br>\n",
    "  ON m.hometeam_id = t.team_api_id),<br><br>\n",
    "away AS (<br>\n",
    "  SELECT m.id, m.date, <br>\n",
    "  \t\t t.team_long_name AS awayteam, m.away_goal<br>\n",
    "  FROM match AS m<br>\n",
    "  LEFT JOIN team AS t <br>\n",
    "  ON  m.awayteam_id = t.team_api_id)<br><br>\n",
    "SELECT <br>\n",
    "\thome.date,<br>\n",
    "    home.hometeam,<br>\n",
    "    away.awayteam,<br>\n",
    "    home.home_goal,<br>\n",
    "    away.away_goal<br>\n",
    "FROM home<br>\n",
    "INNER JOIN away<br>\n",
    "ON home.id = away.id;"
   ]
  },
  {
   "cell_type": "markdown",
   "metadata": {},
   "source": [
    "## Window Functions"
   ]
  },
  {
   "cell_type": "markdown",
   "metadata": {},
   "source": [
    "Window functions are a class of functions that perform calculations on a result set that has already been generated, also referred to as a \"window\". You can use window functions to perform aggregate calculations without having to group your data, just as you did with a subquery in `SELECT`. You can also use them to calculate information such as running totals, rankings, and moving averages."
   ]
  },
  {
   "cell_type": "markdown",
   "metadata": {},
   "source": [
    "![](img/02_15.png)"
   ]
  },
  {
   "cell_type": "markdown",
   "metadata": {},
   "source": [
    "### `OVER()`"
   ]
  },
  {
   "cell_type": "markdown",
   "metadata": {},
   "source": [
    "The `OVER()` clause allows you to pass an aggregate function down a data set, similar to subqueries in `SELECT`. The `OVER()` clause offers significant benefits over subqueries in select - namely, your queries will run faster, and the `OVER()` clause has a wide range of additional functions and clauses you can include with it that we will cover later on in this chapter."
   ]
  },
  {
   "cell_type": "markdown",
   "metadata": {},
   "source": [
    ">SELECT <br>\n",
    "\tm.id, <br>\n",
    "    c.name AS country, <br>\n",
    "    m.season,<br>\n",
    "\tm.home_goal,<br>\n",
    "\tm.away_goal,<br>\n",
    "\tAVG(m.home_goal + m.away_goal) OVER() AS overall_avg<br>\n",
    "FROM match AS m<br>\n",
    "LEFT JOIN country AS c ON m.country_id = c.id;<br>"
   ]
  },
  {
   "cell_type": "markdown",
   "metadata": {},
   "source": [
    "The above query calculates the average number of goals scored overall and then includes the aggregate value in each row using a window function."
   ]
  },
  {
   "cell_type": "markdown",
   "metadata": {},
   "source": [
    "Window functions allow you to create a RANK of information according to any variable you want to use to sort your data. When setting this up, you will need to specify what column/calculation you want to use to calculate your rank. This is done by including an `ORDER BY` clause inside the `OVER()` clause."
   ]
  },
  {
   "cell_type": "markdown",
   "metadata": {},
   "source": [
    ">SELECT <br>\n",
    "\tl.name AS league,<br>\n",
    "    AVG(m.home_goal + m.away_goal) AS avg_goals,<br>\n",
    "    RANK() OVER(ORDER BY AVG(m.home_goal + m.away_goal)) AS league_rank<br>\n",
    "FROM league AS l<br>\n",
    "LEFT JOIN match AS m <br>\n",
    "ON l.id = m.country_id<br>\n",
    "WHERE m.season = '2011/2012'<br>\n",
    "GROUP BY l.name<br>\n",
    "ORDER BY league_rank;"
   ]
  },
  {
   "cell_type": "markdown",
   "metadata": {},
   "source": [
    "The query above RANKs the average number of goals scored by each league in ascending order."
   ]
  },
  {
   "cell_type": "markdown",
   "metadata": {},
   "source": [
    "To get this in decending order, you can use:"
   ]
  },
  {
   "cell_type": "markdown",
   "metadata": {},
   "source": [
    ">SELECT <br>\n",
    "\tl.name AS league,<br>\n",
    "    AVG(m.home_goal + m.away_goal) AS avg_goals,<br>\n",
    "    RANK() OVER(ORDER BY AVG(m.home_goal + m.away_goal) DESC) AS league_rank<br>\n",
    "FROM league AS l<br>\n",
    "LEFT JOIN match AS m <br>\n",
    "ON l.id = m.country_id<br>\n",
    "WHERE m.season = '2011/2012'<br>\n",
    "GROUP BY l.name<br>\n",
    "ORDER BY league_rank;<br>"
   ]
  },
  {
   "cell_type": "markdown",
   "metadata": {},
   "source": [
    "### `OVER` and `PARTITION BY`"
   ]
  },
  {
   "cell_type": "markdown",
   "metadata": {},
   "source": [
    "A partition allows you to calculate separate values for different categories established in a partition. This is one way to calculate different aggregate values within one column of data, and pass them down a data set, instead of having to calculate them in different columns. You can also use PARTITION to calculate values broken out by multiple columns."
   ]
  },
  {
   "cell_type": "markdown",
   "metadata": {},
   "source": [
    "![](img/02_16.png)"
   ]
  },
  {
   "cell_type": "markdown",
   "metadata": {},
   "source": [
    ">SELECT<br>\n",
    "\tdate,<br>\n",
    "\tseason,<br>\n",
    "\thome_goal,<br>\n",
    "\taway_goal,<br>\n",
    "\tCASE WHEN hometeam_id = 8673 THEN 'home' <br>\n",
    "\t\t ELSE 'away' END AS warsaw_location,<br>\n",
    "    AVG(home_goal) OVER(PARTITION BY season) AS season_homeavg,<br>\n",
    "    AVG(away_goal) OVER(PARTITION BY season) AS season_awayavg<br>\n",
    "FROM match<br>\n",
    "WHERE <br>\n",
    "\thometeam_id = 8673 <br>\n",
    "    OR awayteam_id = 8673 <br>\n",
    "ORDER BY (home_goal + away_goal) DESC;"
   ]
  },
  {
   "cell_type": "markdown",
   "metadata": {},
   "source": [
    "The `PARTITION BY` clause can be used to break out window averages by multiple data points (columns). You can even calculate the information you want to use to partition your data!"
   ]
  },
  {
   "cell_type": "markdown",
   "metadata": {},
   "source": [
    ">SELECT <br>\n",
    "\tdate,<br>\n",
    "\tseason,<br>\n",
    "\thome_goal,<br>\n",
    "\taway_goal,<br>\n",
    "\tCASE WHEN hometeam_id = 8673 THEN 'home' <br>\n",
    "         ELSE 'away' END AS warsaw_location,<br>\n",
    "    AVG(home_goal) OVER(PARTITION BY season, <br>\n",
    "         \tEXTRACT(month FROM date)) AS season_mo_home,<br>\n",
    "    AVG(away_goal) OVER(PARTITION BY season, <br>\n",
    "         \tEXTRACT(month FROM date)) AS season_mo_away<br>\n",
    "FROM match<br>\n",
    "WHERE \n",
    "\thometeam_id = 8673<br>\n",
    "    OR awayteam_id = 8673 <br>\n",
    "ORDER BY (home_goal + away_goal) DESC;"
   ]
  },
  {
   "cell_type": "markdown",
   "metadata": {},
   "source": [
    "### Sliding windows"
   ]
  },
  {
   "cell_type": "markdown",
   "metadata": {},
   "source": [
    "Sliding windows are functions that perform calculations relative to the current row of a data set. You can use sliding windows to calculate a wide variety of information that aggregates one row at a time down your data set - running totals, sums, counts, and averages in any order you need. A sliding window function contains specific functions within the OVER clause to specify the data you want to use in your calculations. Some of the keywords are:\n"
   ]
  },
  {
   "cell_type": "markdown",
   "metadata": {},
   "source": [
    "![](img/02_18.png)"
   ]
  },
  {
   "cell_type": "markdown",
   "metadata": {},
   "source": [
    "![](img/02_17.png)"
   ]
  },
  {
   "cell_type": "markdown",
   "metadata": {},
   "source": [
    "#### Slide to the left\n",
    "Sliding windows allow you to create running calculations between any two points in a window using functions such as PRECEDING, FOLLOWING, and CURRENT ROW. You can calculate running counts, sums, averages, and other aggregate functions between any two points you specify in the data set."
   ]
  },
  {
   "cell_type": "markdown",
   "metadata": {},
   "source": [
    ">SELECT <br>\n",
    "\tdate,<br>\n",
    "\thome_goal,<br>\n",
    "\taway_goal,<br>\n",
    "    SUM(home_goal) OVER(ORDER BY date <br>\n",
    "         ROWS BETWEEN UNBOUNDED PRECEDING AND CURRENT ROW) AS running_total,<br>\n",
    "    AVG(home_goal) OVER(ORDER BY date <br>\n",
    "         ROWS BETWEEN UNBOUNDED PRECEDING AND CURRENT ROW)  AS running_avg<br>\n",
    "FROM match<br>\n",
    "WHERE <br>\n",
    "\thometeam_id = 9908 <br>\n",
    "\tAND season = '2011/2012';<br>"
   ]
  },
  {
   "cell_type": "markdown",
   "metadata": {},
   "source": [
    "The above query calculates the running total and average goals scored by the FC Utrecht team in 2011/2012."
   ]
  },
  {
   "cell_type": "markdown",
   "metadata": {},
   "source": [
    "#### Slide to the right"
   ]
  },
  {
   "cell_type": "markdown",
   "metadata": {},
   "source": [
    "Here, we will slightly modify the query from the previous exercise by sorting the data set in reverse order and calculating a backward running total from the CURRENT ROW to the end of the data set (earliest record)."
   ]
  },
  {
   "cell_type": "markdown",
   "metadata": {},
   "source": [
    "> SELECT <br>\n",
    "\tdate,<br>\n",
    "    home_goal,<br>\n",
    "    away_goal,<br>\n",
    "    SUM(home_goal) OVER(ORDER BY date DESC<br>\n",
    "         ROWS BETWEEN CURRENT ROW AND UNBOUNDED FOLLOWING) AS running_total,<br>\n",
    "    AVG(home_goal) OVER(ORDER BY date DESC<br>\n",
    "         ROWS BETWEEN CURRENT ROW AND UNBOUNDED FOLLOWING) AS running_avg<br>\n",
    "FROM match<br>\n",
    "WHERE <br>\n",
    "\tawayteam_id = 9908 <br>\n",
    "    AND season = '2011/2012';"
   ]
  },
  {
   "cell_type": "markdown",
   "metadata": {},
   "source": [
    "#### Final Exercise"
   ]
  },
  {
   "cell_type": "markdown",
   "metadata": {},
   "source": [
    "Here, we will be using all of the concepts listed above to generate a list of matches in which Manchester United was defeated during the 2014/2015 English Premier League season."
   ]
  },
  {
   "cell_type": "markdown",
   "metadata": {},
   "source": [
    "1. Step I\n",
    "\n",
    "Create the first query that filters for matches where Manchester United played as the home team. This will become a common table expression in a later exercise."
   ]
  },
  {
   "cell_type": "markdown",
   "metadata": {},
   "source": [
    ">SELECT <br>\n",
    "\tm.id, <br>\n",
    "    t.team_long_name,<br>\n",
    "    -- Identify matches as home/away wins or ties<br>\n",
    "\tCASE WHEN m.home_goal > m.away_goal THEN 'MU Win'<br>\n",
    "\t\tWHEN m.home_goal < m.away_goal THEN 'MU Loss'<br>\n",
    "        ELSE 'Tie' END AS outcome<br>\n",
    "FROM match AS m<br>\n",
    "-- Left join team on the home team ID and team API id<br>\n",
    "LEFT JOIN team AS t <br>\n",
    "ON m.hometeam_id = t.team_api_id<br>\n",
    "WHERE <br>\n",
    "\t-- Filter for 2014/2015 and Manchester United as the home team<br>\n",
    "\tm.season = '2014/2015'<br>\n",
    "\tAND t.team_long_name = 'Manchester United';"
   ]
  },
  {
   "cell_type": "markdown",
   "metadata": {},
   "source": [
    "2. Step II\n",
    "\n",
    "We'll to a similar query to get the matches where Manchester United played as the away team."
   ]
  },
  {
   "cell_type": "markdown",
   "metadata": {},
   "source": [
    ">SELECT <br>\n",
    "\tm.id, <br>\n",
    "    t.team_long_name,<br>\n",
    "    -- Identify matches as home/away wins or ties<br>\n",
    "\tCASE WHEN m.home_goal < m.away_goal THEN 'MU Win'<br>\n",
    "\t\tWHEN m.home_goal > m.away_goal THEN 'MU Loss'<br>\n",
    "        ELSE 'Tie' END AS outcome<br>\n",
    "FROM match AS m<br>\n",
    "-- Left join team on the home team ID and team API id<br>\n",
    "LEFT JOIN team AS t <br>\n",
    "ON m.awayteam_id = t.team_api_id<br>\n",
    "WHERE <br>\n",
    "\t-- Filter for 2014/2015 and Manchester United as the home team<br>\n",
    "\tm.season = '2014/2015'<br>\n",
    "\tAND t.team_long_name = 'Manchester United';"
   ]
  },
  {
   "cell_type": "markdown",
   "metadata": {},
   "source": [
    "3. Step III\n",
    "\n",
    "We'll use the above two queries a common table expression to get a list of matches played by Manchester United during the 2014/2015 English Premier League season."
   ]
  },
  {
   "cell_type": "markdown",
   "metadata": {},
   "source": [
    ">-- Set up the home team CTE<br>\n",
    "WITH home AS (<br>\n",
    "  SELECT m.id, t.team_long_name,<br>\n",
    "\t  CASE WHEN m.home_goal > m.away_goal THEN 'MU Win'<br>\n",
    "\t\t   WHEN m.home_goal < m.away_goal THEN 'MU Loss' <br>\n",
    "  \t\t   ELSE 'Tie' END AS outcome<br>\n",
    "  FROM match AS m<br>\n",
    "  LEFT JOIN team AS t ON m.hometeam_id = t.team_api_id),<br>\n",
    "-- Set up the away team CTE<br>\n",
    "away AS (<br>\n",
    "  SELECT m.id, t.team_long_name,<br>\n",
    "\t  CASE WHEN m.home_goal > m.away_goal THEN 'MU Loss'<br>\n",
    "\t\t   WHEN m.home_goal < m.away_goal THEN 'MU Win' <br>\n",
    "  \t\t   ELSE 'Tie' END AS outcome<br>\n",
    "  FROM match AS m<br>\n",
    "  LEFT JOIN team AS t ON m.awayteam_id = t.team_api_id)<br>\n",
    "-- Select team names, the date and goals<br>\n",
    "SELECT DISTINCT<br>\n",
    "    m.date,<br>\n",
    "    home.team_long_name AS home_team,<br>\n",
    "    away.team_long_name AS away_team,<br>\n",
    "    m.home_goal, m.away_goal<br>\n",
    "-- Join the CTEs onto the match table<br>\n",
    "FROM match AS m<br>\n",
    "LEFT JOIN home ON m.id = home.id<br>\n",
    "LEFT JOIN away ON m.id = away.id<br>\n",
    "WHERE m.season = '2014/2015'<br>\n",
    "      AND (home.team_long_name = 'Manchester United' <br>\n",
    "           OR away.team_long_name = 'Manchester United');"
   ]
  },
  {
   "cell_type": "markdown",
   "metadata": {},
   "source": [
    "4. Step IV\n",
    "\n",
    "Here, we'll answer the question: how badly did Manchester United lose in each match?"
   ]
  },
  {
   "cell_type": "markdown",
   "metadata": {},
   "source": [
    ">-- Set up the home team CTE<br>\n",
    "WITH home AS (<br>\n",
    "  SELECT m.id, t.team_long_name,<br>\n",
    "\t  CASE WHEN m.home_goal > m.away_goal THEN 'MU Win'<br>\n",
    "\t\t   WHEN m.home_goal < m.away_goal THEN 'MU Loss' <br>\n",
    "  \t\t   ELSE 'Tie' END AS outcome<br>\n",
    "  FROM match AS m<br>\n",
    "  LEFT JOIN team AS t ON m.hometeam_id = t.team_api_id),<br>\n",
    "-- Set up the away team CTE<br>\n",
    "away AS (<br>\n",
    "  SELECT m.id, t.team_long_name,<br>\n",
    "\t  CASE WHEN m.home_goal > m.away_goal THEN 'MU Loss'<br>\n",
    "\t\t   WHEN m.home_goal < m.away_goal THEN 'MU Win' <br>\n",
    "  \t\t   ELSE 'Tie' END AS outcome<br>\n",
    "  FROM match AS m<br>\n",
    "  LEFT JOIN team AS t ON m.awayteam_id = t.team_api_id)<br>\n",
    "-- Select team names, the date and goals<br>\n",
    "SELECT DISTINCT<br>\n",
    "    m.date,<br>\n",
    "    home.team_long_name AS home_team,<br>\n",
    "    away.team_long_name AS away_team,<br>\n",
    "    m.home_goal, m.away_goal,<br>\n",
    "    RANK() OVER(ORDER BY ABS(home_goal - away_goal) DESC) as match_rank<br>\n",
    "-- Join the CTEs onto the match table<br>\n",
    "FROM match AS m<br>\n",
    "LEFT JOIN home ON m.id = home.id<br>\n",
    "LEFT JOIN away ON m.id = away.id<br>\n",
    "WHERE m.season = '2014/2015'<br>\n",
    "      AND ((home.team_long_name = 'Manchester United' AND home.outcome = 'MU Loss')<br>\n",
    "      OR (away.team_long_name = 'Manchester United' AND away.outcome = 'MU Loss'));"
   ]
  }
 ],
 "metadata": {
  "language_info": {
   "name": "python"
  },
  "orig_nbformat": 4
 },
 "nbformat": 4,
 "nbformat_minor": 2
}
