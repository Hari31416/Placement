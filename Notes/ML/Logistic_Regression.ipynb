{
 "cells": [
  {
   "cell_type": "markdown",
   "metadata": {},
   "source": [
    "<h1 id=\"Contents\">Contents<a href=\"#Contents\"></a></h1>\n",
    "        <ol>\n",
    "        <li><a class=\"\" href=\"#Logistic-Regression-in-Scikit-Learn\">Logistic Regression in Scikit-Learn</a></li>\n",
    "<ol><li><a class=\"\" href=\"#Logistic-Function\">Logistic Function</a></li>\n",
    "<li><a class=\"\" href=\"#LogisticRegression-Class\">LogisticRegression Class</a></li>\n",
    "<li><a class=\"\" href=\"#Solvers\">Solvers</a></li>\n",
    "<li><a class=\"\" href=\"#Parameters\">Parameters</a></li>\n",
    "<li><a class=\"\" href=\"#Attributes\">Attributes</a></li>\n",
    "</ol>"
   ]
  },
  {
   "cell_type": "markdown",
   "metadata": {},
   "source": [
    "# Logistic Regression in Scikit-Learn"
   ]
  },
  {
   "cell_type": "markdown",
   "metadata": {},
   "source": [
    "Logistic regression, despite its name, is a linear model for classification rather than regression. Logistic regression is also known in the literature as logit regression, maximum-entropy classification (MaxEnt) or the log-linear classifier. In this model, the probabilities describing the possible outcomes of a single trial are modeled using a logistic function."
   ]
  },
  {
   "cell_type": "markdown",
   "metadata": {},
   "source": [
    "## Logistic Function"
   ]
  },
  {
   "cell_type": "markdown",
   "metadata": {},
   "source": [
    "Logistic function is defined as:\n",
    "$$\n",
    "f(x) = \\frac{1}{1+e^{-x}}\n",
    "$$"
   ]
  },
  {
   "cell_type": "code",
   "execution_count": 3,
   "metadata": {},
   "outputs": [],
   "source": [
    "import matplotlib.pyplot as plt\n",
    "import numpy as np\n",
    "plt.rcdefaults()"
   ]
  },
  {
   "cell_type": "code",
   "execution_count": 4,
   "metadata": {},
   "outputs": [
    {
     "data": {
      "image/png": "[encoded data removed]",
      "text/plain": [
       "<Figure size 640x480 with 1 Axes>"
      ]
     },
     "metadata": {},
     "output_type": "display_data"
    }
   ],
   "source": [
    "x = np.arange(-5, 5, 0.1)\n",
    "y = 1 / (1 + np.exp(-x))\n",
    "plt.plot(x, y)\n",
    "plt.show()"
   ]
  },
  {
   "cell_type": "markdown",
   "metadata": {},
   "source": [
    "## `LogisticRegression` Class"
   ]
  },
  {
   "cell_type": "markdown",
   "metadata": {},
   "source": [
    "Logistic regression is implemented in `LogisticRegression`. This implementation can fit binary, One-vs-Rest, or multinomial logistic regression with optional $l_1, l_2$ or Elastic-Net regularization."
   ]
  },
  {
   "cell_type": "markdown",
   "metadata": {},
   "source": [
    "As an optimization problem, binary class $l_2$ penalized logistic regression minimizes the following cost function:\n",
    "$$\n",
    "\\min_{w, c} \\frac{1}{2}w^T w + C \\sum_{i=1}^n \\log(\\exp(- y_i (X_i^T w + c)) + 1) .\n",
    "$$\n",
    "Similarly, for $l_1$ regularization, the cost function is:\n",
    "$$\n",
    "\\min_{w, c} \\|w\\|_1 + C \\sum_{i=1}^n \\log(\\exp(- y_i (X_i^T w + c)) + 1).\n",
    "$$\n",
    "while the elastic net equivalent is:\n",
    "$$\n",
    "\\min_{w, c} \\frac{1 - \\rho}{2}w^T w + \\rho \\|w\\|_1 + C \\sum_{i=1}^n \\log(\\exp(- y_i (X_i^T w + c)) + 1),\n",
    "$$\n"
   ]
  },
  {
   "cell_type": "markdown",
   "metadata": {},
   "source": [
    "> Note that, in this notation, it’s assumed that the target $y_i$ takes values in the set $\\{-1, 1\\}$ at trial $i$."
   ]
  },
  {
   "cell_type": "markdown",
   "metadata": {},
   "source": [
    "## Solvers"
   ]
  },
  {
   "cell_type": "markdown",
   "metadata": {},
   "source": [
    "The solvers implemented in the class LogisticRegression are “liblinear”, “newton-cg”, “lbfgs”, “sag” and “saga”:\n",
    "\n",
    "The solver “liblinear” uses a coordinate descent (CD) algorithm, and relies on the C++ LIBLINEAR library, which is shipped with scikit-learn. However, the CD algorithm implemented in liblinear cannot learn a true multinomial (multiclass) model; instead, the optimization problem is decomposed in a “one-vs-rest” fashion so separate binary classifiers are trained for all classes. This happens under the hood, so LogisticRegression instances using this solver behave as multiclass classifiers. "
   ]
  },
  {
   "cell_type": "markdown",
   "metadata": {},
   "source": [
    "The “lbfgs”, “sag” and “newton-cg” solvers only support $l_1$ regularization or no regularization, and are found to converge faster for some high-dimensional data. Setting multi_class to “multinomial” with these solvers learns a true multinomial logistic regression model, which means that its probability estimates should be better calibrated than the default “one-vs-rest” setting."
   ]
  },
  {
   "cell_type": "markdown",
   "metadata": {},
   "source": [
    "The “sag” solver uses Stochastic Average Gradient descent. It is faster than other solvers for large datasets, when both the number of samples and the number of features are large.\n",
    "\n",
    "The “saga” solver is a variant of “sag” that also supports the non-smooth `penalty=\"l1\"`. This is therefore the solver of choice for sparse multinomial logistic regression. It is also the only solver that supports `penalty=\"elasticnet\"`.\n",
    "\n",
    "The “lbfgs” is an optimization algorithm that approximates the Broyden–Fletcher–Goldfarb–Shanno algorithm, which belongs to quasi-Newton methods. The “lbfgs” solver is recommended for use for small data-sets but for larger datasets its performance suffers."
   ]
  },
  {
   "cell_type": "markdown",
   "metadata": {},
   "source": [
    "The following table summarizes the penalties supported by each solver:\n",
    "<table class=\"docutils align-default\">\n",
    "<colgroup>\n",
    "<col style=\"width: 30%\">\n",
    "<col style=\"width: 17%\">\n",
    "<col style=\"width: 13%\">\n",
    "<col style=\"width: 17%\">\n",
    "<col style=\"width: 11%\">\n",
    "<col style=\"width: 12%\">\n",
    "</colgroup>\n",
    "<tbody>\n",
    "<tr class=\"row-odd\"><td></td>\n",
    "<td colspan=\"5\"><p><strong>Solvers</strong></p></td>\n",
    "</tr>\n",
    "<tr class=\"row-even\"><td><p><strong>Penalties</strong></p></td>\n",
    "<td><p><strong>‘liblinear’</strong></p></td>\n",
    "<td><p><strong>‘lbfgs’</strong></p></td>\n",
    "<td><p><strong>‘newton-cg’</strong></p></td>\n",
    "<td><p><strong>‘sag’</strong></p></td>\n",
    "<td><p><strong>‘saga’</strong></p></td>\n",
    "</tr>\n",
    "<tr class=\"row-odd\"><td><p>Multinomial + L2 penalty</p></td>\n",
    "<td><p>no</p></td>\n",
    "<td><p>yes</p></td>\n",
    "<td><p>yes</p></td>\n",
    "<td><p>yes</p></td>\n",
    "<td><p>yes</p></td>\n",
    "</tr>\n",
    "<tr class=\"row-even\"><td><p>OVR + L2 penalty</p></td>\n",
    "<td><p>yes</p></td>\n",
    "<td><p>yes</p></td>\n",
    "<td><p>yes</p></td>\n",
    "<td><p>yes</p></td>\n",
    "<td><p>yes</p></td>\n",
    "</tr>\n",
    "<tr class=\"row-odd\"><td><p>Multinomial + L1 penalty</p></td>\n",
    "<td><p>no</p></td>\n",
    "<td><p>no</p></td>\n",
    "<td><p>no</p></td>\n",
    "<td><p>no</p></td>\n",
    "<td><p>yes</p></td>\n",
    "</tr>\n",
    "<tr class=\"row-even\"><td><p>OVR + L1 penalty</p></td>\n",
    "<td><p>yes</p></td>\n",
    "<td><p>no</p></td>\n",
    "<td><p>no</p></td>\n",
    "<td><p>no</p></td>\n",
    "<td><p>yes</p></td>\n",
    "</tr>\n",
    "<tr class=\"row-odd\"><td><p>Elastic-Net</p></td>\n",
    "<td><p>no</p></td>\n",
    "<td><p>no</p></td>\n",
    "<td><p>no</p></td>\n",
    "<td><p>no</p></td>\n",
    "<td><p>yes</p></td>\n",
    "</tr>\n",
    "<tr class=\"row-even\"><td><p>No penalty (‘none’)</p></td>\n",
    "<td><p>no</p></td>\n",
    "<td><p>yes</p></td>\n",
    "<td><p>yes</p></td>\n",
    "<td><p>yes</p></td>\n",
    "<td><p>yes</p></td>\n",
    "</tr>\n",
    "<tr class=\"row-odd\"><td><p><strong>Behaviors</strong></p></td>\n",
    "<td colspan=\"5\"></td>\n",
    "</tr>\n",
    "<tr class=\"row-even\"><td><p>Penalize the intercept (bad)</p></td>\n",
    "<td><p>yes</p></td>\n",
    "<td><p>no</p></td>\n",
    "<td><p>no</p></td>\n",
    "<td><p>no</p></td>\n",
    "<td><p>no</p></td>\n",
    "</tr>\n",
    "<tr class=\"row-odd\"><td><p>Faster for large datasets</p></td>\n",
    "<td><p>no</p></td>\n",
    "<td><p>no</p></td>\n",
    "<td><p>no</p></td>\n",
    "<td><p>yes</p></td>\n",
    "<td><p>yes</p></td>\n",
    "</tr>\n",
    "<tr class=\"row-even\"><td><p>Robust to unscaled datasets</p></td>\n",
    "<td><p>yes</p></td>\n",
    "<td><p>yes</p></td>\n",
    "<td><p>yes</p></td>\n",
    "<td><p>no</p></td>\n",
    "<td><p>no</p></td>\n",
    "</tr>\n",
    "</tbody>\n",
    "</table>"
   ]
  },
  {
   "cell_type": "markdown",
   "metadata": {},
   "source": [
    "For more informations, see the [paper](https://arxiv.org/abs/1407.0202).\n",
    "\n",
    "For comparision of performance of different solvers, see the [article](http://www.fuzihao.org/blog/2016/01/16/Comparison-of-Gradient-Descent-Stochastic-Gradient-Descent-and-L-BFGS/). "
   ]
  },
  {
   "cell_type": "markdown",
   "metadata": {},
   "source": [
    "## Parameters"
   ]
  },
  {
   "cell_type": "markdown",
   "metadata": {},
   "source": [
    "Here are some of the parameters taken by the `LogisticRegression` class:\n",
    "* **penalty**: {‘l1’, ‘l2’, ‘elasticnet’, ‘none’}, default=’l2’\n",
    "\n",
    "    Specify the norm of the penalty:\n",
    "\n",
    "    * 'none': no penalty is added;\n",
    "\n",
    "    * 'l2': add a L2 penalty term and it is the default choice;\n",
    "\n",
    "    * 'l1': add a L1 penalty term;\n",
    "\n",
    "    * 'elasticnet': both L1 and L2 penalty terms are added.\n",
    "* **tol**: float, default=1e-4\n",
    "  \n",
    "    Tolerance for stopping criteria.\n",
    "* **C**: float, default=1.0\n",
    "  \n",
    "    Inverse of regularization strength; must be positive. Regularization is applied when C is greater than 0.\n",
    "* **fit_intercept**: bool, default=True\n",
    "  \n",
    "    Whether to calculate the intercept for this model. If set to false, no intercept will be used in calculations (i.e. data is expected to be centered).\n",
    "* **intercept_scaling**: float, default=1.0\n",
    "  \n",
    "    When self.fit_intercept is True, instance vector y becomes y = intercept_scaling * y + intercept. Must be positive.\n",
    "* **class_weight**: {dict, ‘balanced’}, default=None\n",
    "  \n",
    "    Weights associated with classes in the form {class_label: weight}. If not given, all classes are supposed to have weight one. For multi-output problems, a list of dicts can be provided in the same order as the columns of y.\n",
    "    The “balanced” mode uses the values of y to automatically adjust weights inversely proportional to class frequencies in the input data as n_samples / (n_classes * np.bincount(y)).\n",
    "* **solver**: {‘newton-cg’, ‘lbfgs’, ‘liblinear’, ‘sag’, ‘saga’}, default=’lbfgs’\n",
    "  \n",
    "    Algorithm to use in the optimization problem.   \n",
    "* **max_iter**: int, default=100\n",
    "\n",
    "    Maximum number of iterations for the solver.    \n",
    "* **multi_class**: {‘ovr’, ‘multinomial’}, default=’ovr’\n",
    "  \n",
    "    If the option chosen is ‘ovr’, then a binary problem is fit for each label. For ‘multinomial’ the loss minimised is the multinomial loss fit across the entire probability distribution, even when the data is binary. ‘multinomial’ is unavailable when solver=’liblinear’. ‘auto’ selects ‘ovr’ if the data is binary, or if solver=’liblinear’, and otherwise selects ‘multinomial’.\n",
    "* **warm_start**: bool, default=False\n",
    "  \n",
    "    When set to True, reuse the solution of the previous call to fit as initialization, otherwise, just erase the previous solution.\n",
    "* **l1_ratio**: float, default=None\n",
    "  \n",
    "    The Elastic Net mixing parameter, with 0 <= l1_ratio <= 1. l1_ratio=0 corresponds to L2 penalty, l1_ratio=1 to L1."
   ]
  },
  {
   "cell_type": "markdown",
   "metadata": {},
   "source": [
    "The choice of the algorithm depends on the penalty chosen: Supported penalties by solver:\n",
    "* ‘newton-cg’ - [‘l2’, ‘none’]\n",
    "* ‘lbfgs’ - [‘l2’, ‘none’]\n",
    "\n",
    "* ‘liblinear’ - [‘l1’, ‘l2’]\n",
    "\n",
    "* ‘sag’ - [‘l2’, ‘none’]\n",
    "\n",
    "* ‘saga’ - [‘elasticnet’, ‘l1’, ‘l2’, ‘none’]"
   ]
  },
  {
   "cell_type": "markdown",
   "metadata": {},
   "source": [
    "## Attributes"
   ]
  },
  {
   "cell_type": "markdown",
   "metadata": {},
   "source": [
    "The class has the following attributes:\n",
    "* **classes_**: array of shape (n_classes,)\n",
    "  \n",
    "    A list of class labels known to the classifier.\n",
    "* **coef_**: array, shape (1, n_features) or (n_classes, n_features)\n",
    "  \n",
    "    Coefficient of the features in the decision function.\n",
    "\n",
    "    `coef_` is of shape (1, n_features) when the given problem is binary. In particular, when `multi_class='multinomial'`, `coef_` corresponds to outcome 1 (True) and -`coef_` corresponds to outcome 0 (False).\n",
    "* **intercept_**: array, shape (1,) or (n_classes,)\n",
    "  \n",
    "    Intercept (a.k.a. bias) added to the decision function.\n",
    "\n",
    "    If `fit_intercept` is set to False, the intercept is set to zero. `intercept_` is of shape (1,) when the given problem is binary. In particular, when `multi_class='multinomial'`, `intercept_` corresponds to outcome 1 (True) and -`intercept_` corresponds to outcome 0 (False)."
   ]
  }
 ],
 "metadata": {
  "kernelspec": {
   "display_name": "Python 3.8.5",
   "language": "python",
   "name": "python3"
  },
  "language_info": {
   "codemirror_mode": {
    "name": "ipython",
    "version": 3
   },
   "file_extension": ".py",
   "mimetype": "text/x-python",
   "name": "python",
   "nbconvert_exporter": "python",
   "pygments_lexer": "ipython3",
   "version": "3.8.5"
  },
  "orig_nbformat": 4,
  "vscode": {
   "interpreter": {
    "hash": "98a06921e42c4ae689d578665f28201be7cad9b45c4149f8887161f1353af971"
   }
  }
 },
 "nbformat": 4,
 "nbformat_minor": 2
}
