{
 "cells": [
  {
   "cell_type": "markdown",
   "metadata": {},
   "source": [
    "<h2 id=\"Contents\">Contents<a href=\"#Contents\"></a></h2>\n",
    "        <ol>\n",
    "        <li><a class=\"\" href=\"#Multiclass-and-multioutput-algorithms\">Multiclass and multioutput algorithms</a></li>\n",
    "<ol><li><a class=\"\" href=\"#Multiclass-classification\">Multiclass classification</a></li>\n",
    "<li><a class=\"\" href=\"#Multilabel-classification\">Multilabel classification</a></li>\n",
    "<li><a class=\"\" href=\"#Multiclass-multioutput-classification\">Multiclass-multioutput classification</a></li>\n",
    "<li><a class=\"\" href=\"#Multioutput-regression\">Multioutput regression</a></li>\n",
    "</ol>"
   ]
  },
  {
   "cell_type": "markdown",
   "metadata": {},
   "source": [
    "#  Multiclass and multioutput algorithms"
   ]
  },
  {
   "cell_type": "markdown",
   "metadata": {},
   "source": [
    "scikit-learn provides two modules to deal with  multiclass, multilabel, and multioutput classification and regression: `sklearn.multiclass` and `sklearn.multioutput`."
   ]
  },
  {
   "cell_type": "markdown",
   "metadata": {},
   "source": [
    "The modules above implement meta-estimators, which require a base estimator to be provided in their constructor. Meta-estimators extend the functionality of the base estimator to support multi-learning problems, which is accomplished by transforming the multi-learning problem into a set of simpler problems, then fitting one estimator per problem."
   ]
  },
  {
   "cell_type": "markdown",
   "metadata": {},
   "source": [
    "![](https://scikit-learn.org/stable/_images/multi_org_chart.png)"
   ]
  },
  {
   "cell_type": "markdown",
   "metadata": {},
   "source": [
    "<table class=\"align-default\">\n",
    "<colgroup>\n",
    "<col style=\"width: 23%\">\n",
    "<col style=\"width: 18%\">\n",
    "<col style=\"width: 20%\">\n",
    "<col style=\"width: 39%\">\n",
    "</colgroup>\n",
    "<thead>\n",
    "<tr class=\"row-odd\"><th class=\"head\"></th>\n",
    "<th class=\"head\"><p>Number of targets</p></th>\n",
    "<th class=\"head\"><p>Target cardinality</p></th>\n",
    "<th class=\"head\"><p>Valid <br>\n",
    "type_of_target</th>\n",
    "</tr>\n",
    "</thead>\n",
    "<tbody>\n",
    "<tr class=\"row-even\"><td><p>Multiclass\n",
    "classification</p></td>\n",
    "<td><p>1</p></td>\n",
    "<td><p>&gt;2</p></td>\n",
    "<td><p>‘multiclass’</p></td>\n",
    "</tr>\n",
    "<tr class=\"row-odd\"><td><p>Multilabel\n",
    "classification</p></td>\n",
    "<td><p>&gt;1</p></td>\n",
    "<td><p>2 (0 or 1)</p></td>\n",
    "<td><p>‘multilabel-indicator’</p></td>\n",
    "</tr>\n",
    "<tr class=\"row-even\"><td><p>Multiclass-multioutput\n",
    "classification</p></td>\n",
    "<td><p>&gt;1</p></td>\n",
    "<td><p>&gt;2</p></td>\n",
    "<td><p>‘multiclass-multioutput’</p></td>\n",
    "</tr>\n",
    "<tr class=\"row-odd\"><td><p>Multioutput\n",
    "regression</p></td>\n",
    "<td><p>&gt;1</p></td>\n",
    "<td><p>Continuous</p></td>\n",
    "<td><p>‘continuous-multioutput’</p></td>\n",
    "</tr>\n",
    "</tbody>\n",
    "</table>"
   ]
  },
  {
   "cell_type": "markdown",
   "metadata": {},
   "source": [
    "A lot of scikit-learn estimators already have multi-class support built in and we don't need meta-estimators for them. Furthermor, a lot od estimators also support multi-label classification and multi-output regression."
   ]
  },
  {
   "cell_type": "markdown",
   "metadata": {},
   "source": [
    "## Multiclass classification"
   ]
  },
  {
   "cell_type": "markdown",
   "metadata": {},
   "source": [
    "Multiclass classification is a classification task with more than two classes. Each sample can only be labeled as one class.\n",
    "\n",
    "For example, classification using features extracted from a set of images of fruit, where each image may either be of an orange, an apple, or a pear. Each image is one sample and is labeled as one of the 3 possible classes. Multiclass classification makes the assumption that each sample is assigned to one and only one label - one sample cannot, for example, be both a pear and an apple.\n",
    "\n",
    "While all scikit-learn classifiers are capable of multiclass classification, the meta-estimators offered by sklearn.multiclass permit changing the way they handle more than two classes because this may have an effect on classifier performance."
   ]
  },
  {
   "cell_type": "markdown",
   "metadata": {},
   "source": [
    "## Multilabel classification"
   ]
  },
  {
   "cell_type": "markdown",
   "metadata": {},
   "source": [
    "Multilabel classification (closely related to multioutput classification) is a classification task labeling each sample with `m` labels from `n_classes` possible classes, where `m` can be 0 to `n_classes` inclusive. This can be thought of as predicting properties of a sample that are not mutually exclusive. Formally, a binary output is assigned to each class, for every sample. Positive classes are indicated with 1 and negative classes with 0 or -1. It is thus comparable to running `n_classes` binary classification tasks, for example with MultiOutputClassifier. This approach treats each label independently whereas multilabel classifiers may treat the multiple classes simultaneously, accounting for correlated behavior among them.\n",
    "\n",
    "For example, prediction of the topics relevant to a text document or video. The document or video may be about one of ‘religion’, ‘politics’, ‘finance’ or ‘education’, several of the topic classes or all of the topic classes."
   ]
  },
  {
   "cell_type": "markdown",
   "metadata": {},
   "source": [
    "## Multiclass-multioutput classification"
   ]
  },
  {
   "cell_type": "markdown",
   "metadata": {},
   "source": [
    "Multiclass-multioutput classification (also known as multitask classification) is a classification task which labels each sample with a set of non-binary properties. Both the number of properties and the number of classes per property is greater than 2. A single estimator thus handles several joint classification tasks. This is both a generalization of the multilabel classification task, which only considers binary attributes, as well as a generalization of the multiclass classification task, where only one property is considered.\n",
    "\n",
    "For example, classification of the properties “type of fruit” and “colour” for a set of images of fruit. The property “type of fruit” has the possible classes: “apple”, “pear” and “orange”. The property “colour” has the possible classes: “green”, “red”, “yellow” and “orange”. Each sample is an image of a fruit, a label is output for both properties and each label is one of the possible classes of the corresponding property."
   ]
  },
  {
   "cell_type": "markdown",
   "metadata": {},
   "source": [
    "## Multioutput regression"
   ]
  },
  {
   "cell_type": "markdown",
   "metadata": {},
   "source": [
    "Multioutput regression predicts multiple numerical properties for each sample. Each property is a numerical variable and the number of properties to be predicted for each sample is greater than or equal to 2. Some estimators that support multioutput regression are faster than just running `n_output` estimators.\n",
    "\n",
    "For example, prediction of both wind speed and wind direction, in degrees, using data obtained at a certain location. Each sample would be data obtained at one location and both wind speed and direction would be output for each sample."
   ]
  }
 ],
 "metadata": {
  "kernelspec": {
   "display_name": "Python 3.9.12",
   "language": "python",
   "name": "python3"
  },
  "language_info": {
   "name": "python",
   "version": "3.9.12"
  },
  "orig_nbformat": 4,
  "vscode": {
   "interpreter": {
    "hash": "de718a8ad747ee7ac49283422c9dd388de3f9fba8ab4214a5db121921f189761"
   }
  }
 },
 "nbformat": 4,
 "nbformat_minor": 2
}
