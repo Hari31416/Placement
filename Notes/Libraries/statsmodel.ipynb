{
 "cells": [
  {
   "cell_type": "markdown",
   "metadata": {},
   "source": [
    "<h2 id=\"Contents\">Contents<a href=\"#Contents\"></a></h2>\n",
    "        <ol>\n",
    "        <li><a class=\"\" href=\"#Imports\">Imports</a></li>\n",
    "<li><a class=\"\" href=\"#The-API\">The API</a></li>\n",
    "<ol><li><a class=\"\" href=\"#statsmodel.api\">statsmodel.api</a></li>\n",
    "</ol><li><a class=\"\" href=\"#Getting-Started\">Getting Started</a></li>\n",
    "<ol><li><a class=\"\" href=\"#Design-matrices-(endog-&amp;-exog)\">Design matrices (endog & exog)</a></li>\n",
    "<li><a class=\"\" href=\"#Fitting-Model\">Fitting Model</a></li>\n",
    "<li><a class=\"\" href=\"#Explaining-Various-Terms-in-the-Summary\">Explaining Various Terms in the Summary</a></li>\n",
    "<ol><li><a class=\"\" href=\"#Model-and-Method\">Model and Method</a></li>\n",
    "<li><a class=\"\" href=\"#DF-residuals-and-DF-model\">DF residuals and DF model</a></li>\n",
    "<li><a class=\"\" href=\"#Covariance-type\">Covariance type</a></li>\n",
    "<li><a class=\"\" href=\"#R-squared-and-Adj.-R-squared\">R-squared and Adj. R-squared</a></li>\n",
    "<li><a class=\"\" href=\"#coef-and-std-err\">coef and std err</a></li>\n",
    "<li><a class=\"\" href=\"#t-values-and-P%3E%7Ct%7C\">t-values and P>|t|</a></li>\n",
    "<li><a class=\"\" href=\"#F-statistics\">F-statistics</a></li>\n",
    "<li><a class=\"\" href=\"#Log-likelihood\">Log-likelihood</a></li>\n",
    "<li><a class=\"\" href=\"#More\">More</a></li>\n",
    "</ol></ol><li><a class=\"\" href=\"#Others\">Others</a></li>\n",
    "</ol>"
   ]
  },
  {
   "cell_type": "markdown",
   "metadata": {},
   "source": [
    "# Imports"
   ]
  },
  {
   "cell_type": "code",
   "execution_count": 33,
   "metadata": {},
   "outputs": [],
   "source": [
    "import pandas as pd\n",
    "import numpy as np\n",
    "import matplotlib.pyplot as plt\n",
    "import statsmodels.api as sm"
   ]
  },
  {
   "cell_type": "markdown",
   "metadata": {},
   "source": [
    "# The API"
   ]
  },
  {
   "cell_type": "markdown",
   "metadata": {},
   "source": [
    "`statsmodel` is composed of a number of submodules, from Linear models to time series analysis as well as statistical tools. "
   ]
  },
  {
   "cell_type": "markdown",
   "metadata": {},
   "source": [
    "The main statsmodels API is split into models:\n",
    "\n",
    "1. `statsmodels.api`: Cross-sectional models and methods. Canonically imported using import `statsmodels.api` as `sm`.\n",
    "\n",
    "2. `statsmodels.tsa.api`: Time-series models and methods. Canonically imported using import `statsmodels.tsa.api` as `tsa`.\n",
    "\n",
    "3. `statsmodels.formula.api`: A convenience interface for specifying models using formula strings and DataFrames. This API directly exposes the `from_formula` class method of models that support the formula API. Canonically imported using import `statsmodels.formula.api` as `smf`."
   ]
  },
  {
   "cell_type": "markdown",
   "metadata": {},
   "source": [
    "Out of these, the first one is the most important one. It contains the main classes and functions for linear models. For details, follow the [link](https://www.statsmodels.org/dev/api.html)."
   ]
  },
  {
   "cell_type": "markdown",
   "metadata": {},
   "source": [
    "## `statsmodel.api`"
   ]
  },
  {
   "cell_type": "markdown",
   "metadata": {},
   "source": [
    "The module has classes for the following topics:\n",
    "1. Regression\n",
    "2. Imputation\n",
    "3. Generalized Estimating Equations\n",
    "4. Generalized Linear Models\n",
    "5. Discrete and Count Models\n",
    "6. Multivariate Models"
   ]
  },
  {
   "cell_type": "markdown",
   "metadata": {},
   "source": [
    "Some models are:\n",
    "\n",
    "**`OLS(endog[, exog, missing, hasconst])`**: Ordinary Least Squares\n",
    "\n",
    "**`WLS(endog, exog[, weights, missing, hasconst])`**: Weighted Least Squares\n",
    "\n",
    "**`GLS(endog, exog[, sigma, missing, hasconst])`**: Generalized Least Squares\n",
    "\n",
    "**`GLSAR(endog[, exog, rho, missing, hasconst])`**: Generalized Least Squares with AR covariance structure\n",
    "\n",
    "**`RecursiveLS(endog, exog[, constraints])`**: Recursive least squares\n",
    "\n",
    "**`RollingOLS(endog, exog[, window, min_nobs, ...])`**: Rolling Ordinary Least Squares\n",
    "\n",
    "**`RollingWLS(endog, exog[, window, weights, ...])`**: Rolling Weighted Least Squares\n",
    "\n",
    "**`BayesGaussMI(data[, mean_prior, cov_prior, ...])`**: Bayesian Imputation using a Gaussian model.\n",
    "\n",
    "**`GEE(endog, exog, groups[, time, family, ...])`**: Marginal Regression Model using Generalized Estimating Equations.\n",
    "\n",
    "**`GLM(endog, exog[, family, offset, exposure, ...])`**: Generalized Linear Models\n",
    "\n",
    "**`GLMGam(endog[, exog, smoother, alpha, ...])`**: Generalized Additive Models (GAM)\n",
    "\n",
    "**`BinomialBayesMixedGLM(endog, exog, exog_vc, ...)`**: Generalized Linear Mixed Model with Bayesian estimation\n",
    "\n",
    "**`Logit(endog, exog[, offset, check_rank])`**: Logit Model\n",
    "\n",
    "**`Probit(endog, exog[, offset, check_rank])`**: Probit Model\n",
    "\n",
    "**`MNLogit(endog, exog[, check_rank])`**: Multinomial Logit Model\n",
    "\n",
    "**`QuantReg(endog, exog, **kwargs)`**: Quantile Regression\n",
    "\n",
    "**`RLM(endog, exog[, M, missing])`**: Robust Linear Model"
   ]
  },
  {
   "cell_type": "markdown",
   "metadata": {},
   "source": [
    "Apart from these, the module has some more tools related to graphics and statistics like:\n",
    "\n",
    "**`ProbPlot(data[, dist, fit, distargs, a, ...])`**: Q-Q and P-P Probability Plots\n",
    "\n",
    "**`qqline(ax, line[, x, y, dist, fmt])`**: Plot a reference line for a qqplot.\n",
    "\n",
    "**`qqplot(data[, dist, distargs, a, loc, ...])`**: Q-Q plot of the quantiles of x versus the quantiles/ppf of a distribution.\n",
    "\n",
    "**`Description(data[, stats, numeric, ...])`**: Extended descriptive statistics for data\n",
    "\n",
    "**`describe(data[, stats, numeric, ...])`**: Extended descriptive statistics for data\n",
    "\n",
    "**`add_constant(data[, prepend, has_constant])`**: Add a column of ones to an array."
   ]
  },
  {
   "cell_type": "markdown",
   "metadata": {},
   "source": [
    "# Getting Started"
   ]
  },
  {
   "cell_type": "markdown",
   "metadata": {},
   "source": [
    "We'll be using the *tips* dataset."
   ]
  },
  {
   "cell_type": "code",
   "execution_count": 2,
   "metadata": {},
   "outputs": [],
   "source": [
    "tips = pd.read_csv(\"tips.csv\")"
   ]
  },
  {
   "cell_type": "code",
   "execution_count": 3,
   "metadata": {},
   "outputs": [
    {
     "data": {
      "text/html": [
       "<div>\n",
       "<style scoped>\n",
       "    .dataframe tbody tr th:only-of-type {\n",
       "        vertical-align: middle;\n",
       "    }\n",
       "\n",
       "    .dataframe tbody tr th {\n",
       "        vertical-align: top;\n",
       "    }\n",
       "\n",
       "    .dataframe thead th {\n",
       "        text-align: right;\n",
       "    }\n",
       "</style>\n",
       "<table border=\"1\" class=\"dataframe\">\n",
       "  <thead>\n",
       "    <tr style=\"text-align: right;\">\n",
       "      <th></th>\n",
       "      <th>total_bill</th>\n",
       "      <th>tip</th>\n",
       "      <th>sex</th>\n",
       "      <th>smoker</th>\n",
       "      <th>day</th>\n",
       "      <th>time</th>\n",
       "      <th>size</th>\n",
       "    </tr>\n",
       "  </thead>\n",
       "  <tbody>\n",
       "    <tr>\n",
       "      <th>0</th>\n",
       "      <td>16.99</td>\n",
       "      <td>1.01</td>\n",
       "      <td>Female</td>\n",
       "      <td>No</td>\n",
       "      <td>Sun</td>\n",
       "      <td>Dinner</td>\n",
       "      <td>2</td>\n",
       "    </tr>\n",
       "    <tr>\n",
       "      <th>1</th>\n",
       "      <td>10.34</td>\n",
       "      <td>1.66</td>\n",
       "      <td>Male</td>\n",
       "      <td>No</td>\n",
       "      <td>Sun</td>\n",
       "      <td>Dinner</td>\n",
       "      <td>3</td>\n",
       "    </tr>\n",
       "    <tr>\n",
       "      <th>2</th>\n",
       "      <td>21.01</td>\n",
       "      <td>3.50</td>\n",
       "      <td>Male</td>\n",
       "      <td>No</td>\n",
       "      <td>Sun</td>\n",
       "      <td>Dinner</td>\n",
       "      <td>3</td>\n",
       "    </tr>\n",
       "    <tr>\n",
       "      <th>3</th>\n",
       "      <td>23.68</td>\n",
       "      <td>3.31</td>\n",
       "      <td>Male</td>\n",
       "      <td>No</td>\n",
       "      <td>Sun</td>\n",
       "      <td>Dinner</td>\n",
       "      <td>2</td>\n",
       "    </tr>\n",
       "    <tr>\n",
       "      <th>4</th>\n",
       "      <td>24.59</td>\n",
       "      <td>3.61</td>\n",
       "      <td>Female</td>\n",
       "      <td>No</td>\n",
       "      <td>Sun</td>\n",
       "      <td>Dinner</td>\n",
       "      <td>4</td>\n",
       "    </tr>\n",
       "  </tbody>\n",
       "</table>\n",
       "</div>"
      ],
      "text/plain": [
       "   total_bill   tip     sex smoker  day    time  size\n",
       "0       16.99  1.01  Female     No  Sun  Dinner     2\n",
       "1       10.34  1.66    Male     No  Sun  Dinner     3\n",
       "2       21.01  3.50    Male     No  Sun  Dinner     3\n",
       "3       23.68  3.31    Male     No  Sun  Dinner     2\n",
       "4       24.59  3.61  Female     No  Sun  Dinner     4"
      ]
     },
     "execution_count": 3,
     "metadata": {},
     "output_type": "execute_result"
    }
   ],
   "source": [
    "tips.head()"
   ]
  },
  {
   "cell_type": "code",
   "execution_count": 17,
   "metadata": {},
   "outputs": [],
   "source": [
    "tips[\"sex\"] = tips[\"sex\"].apply(lambda x: 0 if x==\"Male\" else 1)\n",
    "tips[\"smoker\"] = tips[\"smoker\"].apply(lambda x: 0 if x==\"No\" else 1)\n",
    "tips[\"time\"] = tips[\"time\"].apply(lambda x: 0 if x==\"Dinner\" else 1)"
   ]
  },
  {
   "cell_type": "code",
   "execution_count": 20,
   "metadata": {},
   "outputs": [],
   "source": [
    "tips.drop(\"day\", axis=1, inplace=True)"
   ]
  },
  {
   "cell_type": "markdown",
   "metadata": {},
   "source": [
    "## Design matrices (endog & exog)"
   ]
  },
  {
   "cell_type": "markdown",
   "metadata": {},
   "source": [
    "To fit most of the models covered by statsmodels, you will need to create two design matrices. The first is a matrix of endogenous variable(s) (i.e. dependent, response, regressand, etc.). The second is a matrix of exogenous variable(s) (i.e. independent, predictor, regressor, etc.). The OLS coefficient estimates are calculated as usual:\n",
    "$$\n",
    "\\hat{\\beta} = (X'X)^{-1} X'y\n",
    "$$"
   ]
  },
  {
   "cell_type": "markdown",
   "metadata": {},
   "source": [
    "In our case, all the columns other than the \"tip\" column, along with a column conaining just ones form the *endog* while the \"tip\" columns forms the *exog*."
   ]
  },
  {
   "cell_type": "markdown",
   "metadata": {},
   "source": [
    "Let's make these matrices:"
   ]
  },
  {
   "cell_type": "markdown",
   "metadata": {},
   "source": [
    "## Fitting Model"
   ]
  },
  {
   "cell_type": "code",
   "execution_count": 21,
   "metadata": {},
   "outputs": [],
   "source": [
    "y = tips[\"tip\"]\n",
    "X = tips.drop(\"tip\", axis=1)\n",
    "X = sm.add_constant(X)"
   ]
  },
  {
   "cell_type": "markdown",
   "metadata": {},
   "source": [
    "Now, we can fit the model:"
   ]
  },
  {
   "cell_type": "code",
   "execution_count": 23,
   "metadata": {},
   "outputs": [],
   "source": [
    "model = sm.OLS(y, X)\n",
    "result = model.fit()"
   ]
  },
  {
   "cell_type": "markdown",
   "metadata": {},
   "source": [
    "Let's see the summary:"
   ]
  },
  {
   "cell_type": "code",
   "execution_count": 24,
   "metadata": {},
   "outputs": [
    {
     "name": "stdout",
     "output_type": "stream",
     "text": [
      "                            OLS Regression Results                            \n",
      "==============================================================================\n",
      "Dep. Variable:                    tip   R-squared:                       0.469\n",
      "Model:                            OLS   Adj. R-squared:                  0.458\n",
      "Method:                 Least Squares   F-statistic:                     42.00\n",
      "Date:                Wed, 24 Aug 2022   Prob (F-statistic):           6.57e-31\n",
      "Time:                        15:12:15   Log-Likelihood:                -347.78\n",
      "No. Observations:                 244   AIC:                             707.6\n",
      "Df Residuals:                     238   BIC:                             728.5\n",
      "Df Model:                           5                                         \n",
      "Covariance Type:            nonrobust                                         \n",
      "==============================================================================\n",
      "                 coef    std err          t      P>|t|      [0.025      0.975]\n",
      "------------------------------------------------------------------------------\n",
      "const          0.6971      0.225      3.100      0.002       0.254       1.140\n",
      "total_bill     0.0941      0.010      9.898      0.000       0.075       0.113\n",
      "sex            0.0281      0.140      0.201      0.841      -0.248       0.304\n",
      "smoker        -0.0839      0.139     -0.605      0.546      -0.357       0.189\n",
      "time          -0.0049      0.151     -0.033      0.974      -0.302       0.292\n",
      "size           0.1803      0.088      2.045      0.042       0.007       0.354\n",
      "==============================================================================\n",
      "Omnibus:                       26.859   Durbin-Watson:                   2.099\n",
      "Prob(Omnibus):                  0.000   Jarque-Bera (JB):               50.399\n",
      "Skew:                           0.588   Prob(JB):                     1.14e-11\n",
      "Kurtosis:                       4.891   Cond. No.                         81.4\n",
      "==============================================================================\n",
      "\n",
      "Notes:\n",
      "[1] Standard Errors assume that the covariance matrix of the errors is correctly specified.\n"
     ]
    }
   ],
   "source": [
    "print(result.summary())"
   ]
  },
  {
   "cell_type": "markdown",
   "metadata": {},
   "source": [
    "The `result` object has many useful attributes. For example, we can extract parameter estimates and r-squared by typing:"
   ]
  },
  {
   "cell_type": "code",
   "execution_count": 25,
   "metadata": {},
   "outputs": [
    {
     "data": {
      "text/plain": [
       "const         0.697142\n",
       "total_bill    0.094068\n",
       "sex           0.028111\n",
       "smoker       -0.083902\n",
       "time         -0.004947\n",
       "size          0.180274\n",
       "dtype: float64"
      ]
     },
     "execution_count": 25,
     "metadata": {},
     "output_type": "execute_result"
    }
   ],
   "source": [
    "result.params"
   ]
  },
  {
   "cell_type": "code",
   "execution_count": 26,
   "metadata": {},
   "outputs": [
    {
     "data": {
      "text/plain": [
       "0.46876846977091013"
      ]
     },
     "execution_count": 26,
     "metadata": {},
     "output_type": "execute_result"
    }
   ],
   "source": [
    "result.rsquared"
   ]
  },
  {
   "cell_type": "markdown",
   "metadata": {},
   "source": [
    "## Explaining Various Terms in the Summary"
   ]
  },
  {
   "cell_type": "markdown",
   "metadata": {},
   "source": [
    "### Model and Method"
   ]
  },
  {
   "cell_type": "markdown",
   "metadata": {},
   "source": [
    "OLS which stands for Ordinary Least Square. The model tries to find out a linear expression for the dataset which minimizes the sum of residual squares."
   ]
  },
  {
   "cell_type": "markdown",
   "metadata": {},
   "source": [
    "### DF residuals and DF model"
   ]
  },
  {
   "cell_type": "markdown",
   "metadata": {},
   "source": [
    "We have total 244 observation and 6 features. Out of 6 features, 5 features are independent. DF Model is therefore 5. DF residual is calculated from total observation-DF model-1 which is 244-5-1 = 238 in our case."
   ]
  },
  {
   "cell_type": "markdown",
   "metadata": {},
   "source": [
    "### Covariance type"
   ]
  },
  {
   "cell_type": "markdown",
   "metadata": {},
   "source": [
    "Covariance type is typically nonrobust which means there is no elimination of data to calculate the covariance between features. Covariance shows how two variables move with respect to each other. If this value is greater than 0, both move in same direction and if this is less than 0, the variables mode in opposite direction. Covariance is difference from correlation. Covariance does not provide the strength of the relationship, only the direction of movement whereas, correlation value is normalized and ranges between -1 to +1 and correlation provides the strength of relationship. "
   ]
  },
  {
   "cell_type": "markdown",
   "metadata": {},
   "source": [
    "###  R-squared and Adj. R-squared"
   ]
  },
  {
   "cell_type": "markdown",
   "metadata": {},
   "source": [
    "R-squared value is the coefficient of determination which indicates the percentage of the variability if the data explained by the selected independent variables."
   ]
  },
  {
   "cell_type": "markdown",
   "metadata": {},
   "source": [
    "As we add more and more independent variables to our model, the R-squared values increases but in reality, those variables do not necessarily make any contribution towards explaining the dependent variable. Therefore addition of each unnecessary variables needs some sort of penalty. The original R-squared values is adjusted when there are multiple variables incorporated. In essence, we should always look for adjusted R-squared value while performing multiple linear regression. For a single independent variable, both R-squared and adjusted R-squared value are same."
   ]
  },
  {
   "cell_type": "markdown",
   "metadata": {},
   "source": [
    "### coef and std err"
   ]
  },
  {
   "cell_type": "markdown",
   "metadata": {},
   "source": [
    "The coef column represents the coefficients for each independent variable along with intercept value. Std err is the standard deviation of the corresponding variable’s coefficient across all the data points."
   ]
  },
  {
   "cell_type": "markdown",
   "metadata": {},
   "source": [
    "### t-values and P>|t|"
   ]
  },
  {
   "cell_type": "markdown",
   "metadata": {},
   "source": [
    "The t-column provides the t-values corresponding to to each independent variables. T-statistics are used to calculate the p-values. Typically when p-value is less than 0.05, it indicates a strong evidence against null hypothesis which states that the corresponding independent variable has no effect on the dependent variable."
   ]
  },
  {
   "cell_type": "markdown",
   "metadata": {},
   "source": [
    "P-value of 0.042 for size says that there is 4.2% size has no effect on tip. total_bill has p-value of zero. These two tells that we can reject the null hypothesis and say that tips is highly dependent on total_bill and tip."
   ]
  },
  {
   "cell_type": "markdown",
   "metadata": {},
   "source": [
    "### F-statistics"
   ]
  },
  {
   "cell_type": "markdown",
   "metadata": {},
   "source": [
    "F-test provides a way to check all the independent variables all together if any of those are related to the dependent variable. If Prob(F-statistic) is greater than 0.05, there is no evidence of relationship between any of the independent variable with the output. If it is less than 0.05, we can say that there is at least one variable which is significantly related with the output. In our example, the p-value is less than 0.05 and therefore, one or more than one of the independent variable are related to output variable."
   ]
  },
  {
   "cell_type": "markdown",
   "metadata": {},
   "source": [
    "However, there may be some cases when prob(F-statistic) may be greater than 0.05 but one of the independent variable shows strong correlation. This is because each t-test is carried out with different set of data whereas F-test checks the combined effect including all variables globally."
   ]
  },
  {
   "cell_type": "markdown",
   "metadata": {},
   "source": [
    "### Log-likelihood"
   ]
  },
  {
   "cell_type": "markdown",
   "metadata": {},
   "source": [
    "The log-likelihood value is a measure for fit of the model with the given data. It is useful when we compare two or more models. The higher the value of log-likelihood, the better the model fits the given data. It can range from negative infinity to positive infinity."
   ]
  },
  {
   "cell_type": "markdown",
   "metadata": {},
   "source": [
    "### More"
   ]
  },
  {
   "cell_type": "markdown",
   "metadata": {},
   "source": [
    "**AIC and BIC:** AIC (stands for Akaike’s Information Criteria developed by Japanese statistician Hirotugo Akaike) and BIC (stands for Bayesian Information Criteria) are also used as criteria for model robustness. The goal is to minimize these values to get a better model."
   ]
  },
  {
   "cell_type": "markdown",
   "metadata": {},
   "source": [
    "**Omnibus and Prob(Omnibus):** Omnibus test checks the normality of the residuals once the model is deployed. If the value is zero, it means the residuals are perfectly normal. Here, in the example prob(Omnibus) is 0.0 indicating that there is 0% chance that the residuals the normally distributed. For a model to be robust, besides checking R-squared and other rubrics, the residual distribution is also required to be normal ideally."
   ]
  },
  {
   "cell_type": "markdown",
   "metadata": {},
   "source": [
    "**Skew and Kurtosis:** Skew values tells us the skewness of the residual distribution. Normally distributed variables have 0 skew values. Kurtosis is a measure of light-tailed or heavy-tailed distribution compared to normal distribution. High kurtosis indicates the distribution is too narrow and low kurtosis indicates the distribution is too flat. A kurtosis value between -2 and +2 is good to prove normalcy."
   ]
  },
  {
   "cell_type": "markdown",
   "metadata": {},
   "source": [
    "**Durbin-Watson:** Durbin-Watson statistic provides a measure of autocorrelation in the residual. If the residual values are autocorrelated, the model becomes biased and it is not expected. This simply means that one value should not be depending on any of the previous values. An ideal value for this test ranges from 0 to 4."
   ]
  },
  {
   "cell_type": "markdown",
   "metadata": {},
   "source": [
    "# Others"
   ]
  },
  {
   "cell_type": "code",
   "execution_count": 28,
   "metadata": {},
   "outputs": [
    {
     "data": {
      "image/png": "[encoded data removed]",
      "text/plain": [
       "<Figure size 432x288 with 1 Axes>"
      ]
     },
     "metadata": {
      "needs_background": "light"
     },
     "output_type": "display_data"
    }
   ],
   "source": [
    "import statsmodels.api as sm\n",
    "from matplotlib import pyplot as plt\n",
    "data = sm.datasets.longley.load()\n",
    "exog = sm.add_constant(data.exog)\n",
    "mod_fit = sm.OLS(data.endog, exog).fit()\n",
    "res = mod_fit.resid # residuals\n",
    "fig = sm.qqplot(res)\n",
    "plt.show()"
   ]
  },
  {
   "cell_type": "code",
   "execution_count": 38,
   "metadata": {},
   "outputs": [
    {
     "data": {
      "image/png": "[encoded data removed]",
      "text/plain": [
       "<Figure size 432x288 with 1 Axes>"
      ]
     },
     "execution_count": 38,
     "metadata": {},
     "output_type": "execute_result"
    },
    {
     "data": {
      "image/png": "[encoded data removed]",
      "text/plain": [
       "<Figure size 432x288 with 1 Axes>"
      ]
     },
     "metadata": {
      "needs_background": "light"
     },
     "output_type": "display_data"
    }
   ],
   "source": [
    "sm.qqplot(X[\"total_bill\"])"
   ]
  },
  {
   "cell_type": "code",
   "execution_count": 29,
   "metadata": {},
   "outputs": [
    {
     "data": {
      "image/png": "[encoded data removed]",
      "text/plain": [
       "<Figure size 432x288 with 1 Axes>"
      ]
     },
     "metadata": {
      "needs_background": "light"
     },
     "output_type": "display_data"
    }
   ],
   "source": [
    "import scipy.stats as stats\n",
    "fig = sm.qqplot(res, stats.t, distargs=(4,))\n",
    "plt.show()"
   ]
  },
  {
   "cell_type": "code",
   "execution_count": 37,
   "metadata": {},
   "outputs": [
    {
     "data": {
      "text/html": [
       "<div>\n",
       "<style scoped>\n",
       "    .dataframe tbody tr th:only-of-type {\n",
       "        vertical-align: middle;\n",
       "    }\n",
       "\n",
       "    .dataframe tbody tr th {\n",
       "        vertical-align: top;\n",
       "    }\n",
       "\n",
       "    .dataframe thead th {\n",
       "        text-align: right;\n",
       "    }\n",
       "</style>\n",
       "<table border=\"1\" class=\"dataframe\">\n",
       "  <thead>\n",
       "    <tr style=\"text-align: right;\">\n",
       "      <th></th>\n",
       "      <th>const</th>\n",
       "      <th>total_bill</th>\n",
       "      <th>sex</th>\n",
       "      <th>smoker</th>\n",
       "      <th>time</th>\n",
       "      <th>size</th>\n",
       "    </tr>\n",
       "  </thead>\n",
       "  <tbody>\n",
       "    <tr>\n",
       "      <th>nobs</th>\n",
       "      <td>2.440000e+02</td>\n",
       "      <td>2.440000e+02</td>\n",
       "      <td>2.440000e+02</td>\n",
       "      <td>2.440000e+02</td>\n",
       "      <td>2.440000e+02</td>\n",
       "      <td>2.440000e+02</td>\n",
       "    </tr>\n",
       "    <tr>\n",
       "      <th>missing</th>\n",
       "      <td>0.000000e+00</td>\n",
       "      <td>0.000000e+00</td>\n",
       "      <td>0.000000e+00</td>\n",
       "      <td>0.000000e+00</td>\n",
       "      <td>0.000000e+00</td>\n",
       "      <td>0.000000e+00</td>\n",
       "    </tr>\n",
       "    <tr>\n",
       "      <th>mean</th>\n",
       "      <td>1.000000e+00</td>\n",
       "      <td>1.978594e+01</td>\n",
       "      <td>3.565574e-01</td>\n",
       "      <td>3.811475e-01</td>\n",
       "      <td>2.786885e-01</td>\n",
       "      <td>2.569672e+00</td>\n",
       "    </tr>\n",
       "    <tr>\n",
       "      <th>std_err</th>\n",
       "      <td>0.000000e+00</td>\n",
       "      <td>3.648529e-02</td>\n",
       "      <td>1.967078e-03</td>\n",
       "      <td>1.994537e-03</td>\n",
       "      <td>1.841293e-03</td>\n",
       "      <td>3.897950e-03</td>\n",
       "    </tr>\n",
       "    <tr>\n",
       "      <th>upper_ci</th>\n",
       "      <td>1.000000e+00</td>\n",
       "      <td>1.985745e+01</td>\n",
       "      <td>3.604128e-01</td>\n",
       "      <td>3.850568e-01</td>\n",
       "      <td>2.822974e-01</td>\n",
       "      <td>2.577312e+00</td>\n",
       "    </tr>\n",
       "    <tr>\n",
       "      <th>lower_ci</th>\n",
       "      <td>1.000000e+00</td>\n",
       "      <td>1.971443e+01</td>\n",
       "      <td>3.527020e-01</td>\n",
       "      <td>3.772383e-01</td>\n",
       "      <td>2.750797e-01</td>\n",
       "      <td>2.562032e+00</td>\n",
       "    </tr>\n",
       "    <tr>\n",
       "      <th>std</th>\n",
       "      <td>0.000000e+00</td>\n",
       "      <td>8.902412e+00</td>\n",
       "      <td>4.799670e-01</td>\n",
       "      <td>4.866670e-01</td>\n",
       "      <td>4.492755e-01</td>\n",
       "      <td>9.510998e-01</td>\n",
       "    </tr>\n",
       "    <tr>\n",
       "      <th>iqr</th>\n",
       "      <td>0.000000e+00</td>\n",
       "      <td>1.078000e+01</td>\n",
       "      <td>1.000000e+00</td>\n",
       "      <td>1.000000e+00</td>\n",
       "      <td>1.000000e+00</td>\n",
       "      <td>1.000000e+00</td>\n",
       "    </tr>\n",
       "    <tr>\n",
       "      <th>iqr_normal</th>\n",
       "      <td>0.000000e+00</td>\n",
       "      <td>7.991226e+00</td>\n",
       "      <td>7.413011e-01</td>\n",
       "      <td>7.413011e-01</td>\n",
       "      <td>7.413011e-01</td>\n",
       "      <td>7.413011e-01</td>\n",
       "    </tr>\n",
       "    <tr>\n",
       "      <th>mad</th>\n",
       "      <td>0.000000e+00</td>\n",
       "      <td>6.869440e+00</td>\n",
       "      <td>4.588484e-01</td>\n",
       "      <td>4.717482e-01</td>\n",
       "      <td>4.020425e-01</td>\n",
       "      <td>7.798979e-01</td>\n",
       "    </tr>\n",
       "    <tr>\n",
       "      <th>mad_normal</th>\n",
       "      <td>0.000000e+00</td>\n",
       "      <td>8.609566e+00</td>\n",
       "      <td>5.750812e-01</td>\n",
       "      <td>5.912487e-01</td>\n",
       "      <td>5.038855e-01</td>\n",
       "      <td>9.774570e-01</td>\n",
       "    </tr>\n",
       "    <tr>\n",
       "      <th>coef_var</th>\n",
       "      <td>0.000000e+00</td>\n",
       "      <td>4.499362e-01</td>\n",
       "      <td>1.346114e+00</td>\n",
       "      <td>1.276847e+00</td>\n",
       "      <td>1.612106e+00</td>\n",
       "      <td>3.701250e-01</td>\n",
       "    </tr>\n",
       "    <tr>\n",
       "      <th>range</th>\n",
       "      <td>0.000000e+00</td>\n",
       "      <td>4.774000e+01</td>\n",
       "      <td>1.000000e+00</td>\n",
       "      <td>1.000000e+00</td>\n",
       "      <td>1.000000e+00</td>\n",
       "      <td>5.000000e+00</td>\n",
       "    </tr>\n",
       "    <tr>\n",
       "      <th>max</th>\n",
       "      <td>1.000000e+00</td>\n",
       "      <td>5.081000e+01</td>\n",
       "      <td>1.000000e+00</td>\n",
       "      <td>1.000000e+00</td>\n",
       "      <td>1.000000e+00</td>\n",
       "      <td>6.000000e+00</td>\n",
       "    </tr>\n",
       "    <tr>\n",
       "      <th>min</th>\n",
       "      <td>1.000000e+00</td>\n",
       "      <td>3.070000e+00</td>\n",
       "      <td>0.000000e+00</td>\n",
       "      <td>0.000000e+00</td>\n",
       "      <td>0.000000e+00</td>\n",
       "      <td>1.000000e+00</td>\n",
       "    </tr>\n",
       "    <tr>\n",
       "      <th>skew</th>\n",
       "      <td>0.000000e+00</td>\n",
       "      <td>1.126235e+00</td>\n",
       "      <td>5.989473e-01</td>\n",
       "      <td>4.894384e-01</td>\n",
       "      <td>9.872178e-01</td>\n",
       "      <td>1.438965e+00</td>\n",
       "    </tr>\n",
       "    <tr>\n",
       "      <th>kurtosis</th>\n",
       "      <td>0.000000e+00</td>\n",
       "      <td>4.169168e+00</td>\n",
       "      <td>1.358738e+00</td>\n",
       "      <td>1.239550e+00</td>\n",
       "      <td>1.974599e+00</td>\n",
       "      <td>4.671928e+00</td>\n",
       "    </tr>\n",
       "    <tr>\n",
       "      <th>jarque_bera</th>\n",
       "      <td>9.150000e+01</td>\n",
       "      <td>6.547915e+01</td>\n",
       "      <td>4.197504e+01</td>\n",
       "      <td>4.125007e+01</td>\n",
       "      <td>5.032340e+01</td>\n",
       "      <td>1.126246e+02</td>\n",
       "    </tr>\n",
       "    <tr>\n",
       "      <th>jarque_bera_pval</th>\n",
       "      <td>1.352158e-20</td>\n",
       "      <td>6.044825e-15</td>\n",
       "      <td>7.677769e-10</td>\n",
       "      <td>1.103216e-09</td>\n",
       "      <td>1.181440e-11</td>\n",
       "      <td>3.498511e-25</td>\n",
       "    </tr>\n",
       "    <tr>\n",
       "      <th>mode</th>\n",
       "      <td>1.000000e+00</td>\n",
       "      <td>1.342000e+01</td>\n",
       "      <td>0.000000e+00</td>\n",
       "      <td>0.000000e+00</td>\n",
       "      <td>0.000000e+00</td>\n",
       "      <td>2.000000e+00</td>\n",
       "    </tr>\n",
       "    <tr>\n",
       "      <th>mode_freq</th>\n",
       "      <td>1.000000e+00</td>\n",
       "      <td>1.229508e-02</td>\n",
       "      <td>6.434426e-01</td>\n",
       "      <td>6.188525e-01</td>\n",
       "      <td>7.213115e-01</td>\n",
       "      <td>6.393443e-01</td>\n",
       "    </tr>\n",
       "    <tr>\n",
       "      <th>median</th>\n",
       "      <td>1.000000e+00</td>\n",
       "      <td>1.779500e+01</td>\n",
       "      <td>0.000000e+00</td>\n",
       "      <td>0.000000e+00</td>\n",
       "      <td>0.000000e+00</td>\n",
       "      <td>2.000000e+00</td>\n",
       "    </tr>\n",
       "    <tr>\n",
       "      <th>1%</th>\n",
       "      <td>1.000000e+00</td>\n",
       "      <td>7.250000e+00</td>\n",
       "      <td>0.000000e+00</td>\n",
       "      <td>0.000000e+00</td>\n",
       "      <td>0.000000e+00</td>\n",
       "      <td>1.000000e+00</td>\n",
       "    </tr>\n",
       "    <tr>\n",
       "      <th>5%</th>\n",
       "      <td>1.000000e+00</td>\n",
       "      <td>9.557500e+00</td>\n",
       "      <td>0.000000e+00</td>\n",
       "      <td>0.000000e+00</td>\n",
       "      <td>0.000000e+00</td>\n",
       "      <td>2.000000e+00</td>\n",
       "    </tr>\n",
       "    <tr>\n",
       "      <th>10%</th>\n",
       "      <td>1.000000e+00</td>\n",
       "      <td>1.034000e+01</td>\n",
       "      <td>0.000000e+00</td>\n",
       "      <td>0.000000e+00</td>\n",
       "      <td>0.000000e+00</td>\n",
       "      <td>2.000000e+00</td>\n",
       "    </tr>\n",
       "    <tr>\n",
       "      <th>25%</th>\n",
       "      <td>1.000000e+00</td>\n",
       "      <td>1.334750e+01</td>\n",
       "      <td>0.000000e+00</td>\n",
       "      <td>0.000000e+00</td>\n",
       "      <td>0.000000e+00</td>\n",
       "      <td>2.000000e+00</td>\n",
       "    </tr>\n",
       "    <tr>\n",
       "      <th>50%</th>\n",
       "      <td>1.000000e+00</td>\n",
       "      <td>1.779500e+01</td>\n",
       "      <td>0.000000e+00</td>\n",
       "      <td>0.000000e+00</td>\n",
       "      <td>0.000000e+00</td>\n",
       "      <td>2.000000e+00</td>\n",
       "    </tr>\n",
       "    <tr>\n",
       "      <th>75%</th>\n",
       "      <td>1.000000e+00</td>\n",
       "      <td>2.412750e+01</td>\n",
       "      <td>1.000000e+00</td>\n",
       "      <td>1.000000e+00</td>\n",
       "      <td>1.000000e+00</td>\n",
       "      <td>3.000000e+00</td>\n",
       "    </tr>\n",
       "    <tr>\n",
       "      <th>90%</th>\n",
       "      <td>1.000000e+00</td>\n",
       "      <td>3.223500e+01</td>\n",
       "      <td>1.000000e+00</td>\n",
       "      <td>1.000000e+00</td>\n",
       "      <td>1.000000e+00</td>\n",
       "      <td>4.000000e+00</td>\n",
       "    </tr>\n",
       "    <tr>\n",
       "      <th>95%</th>\n",
       "      <td>1.000000e+00</td>\n",
       "      <td>3.806100e+01</td>\n",
       "      <td>1.000000e+00</td>\n",
       "      <td>1.000000e+00</td>\n",
       "      <td>1.000000e+00</td>\n",
       "      <td>4.000000e+00</td>\n",
       "    </tr>\n",
       "    <tr>\n",
       "      <th>99%</th>\n",
       "      <td>1.000000e+00</td>\n",
       "      <td>4.822700e+01</td>\n",
       "      <td>1.000000e+00</td>\n",
       "      <td>1.000000e+00</td>\n",
       "      <td>1.000000e+00</td>\n",
       "      <td>6.000000e+00</td>\n",
       "    </tr>\n",
       "  </tbody>\n",
       "</table>\n",
       "</div>"
      ],
      "text/plain": [
       "                         const    total_bill           sex        smoker  \\\n",
       "nobs              2.440000e+02  2.440000e+02  2.440000e+02  2.440000e+02   \n",
       "missing           0.000000e+00  0.000000e+00  0.000000e+00  0.000000e+00   \n",
       "mean              1.000000e+00  1.978594e+01  3.565574e-01  3.811475e-01   \n",
       "std_err           0.000000e+00  3.648529e-02  1.967078e-03  1.994537e-03   \n",
       "upper_ci          1.000000e+00  1.985745e+01  3.604128e-01  3.850568e-01   \n",
       "lower_ci          1.000000e+00  1.971443e+01  3.527020e-01  3.772383e-01   \n",
       "std               0.000000e+00  8.902412e+00  4.799670e-01  4.866670e-01   \n",
       "iqr               0.000000e+00  1.078000e+01  1.000000e+00  1.000000e+00   \n",
       "iqr_normal        0.000000e+00  7.991226e+00  7.413011e-01  7.413011e-01   \n",
       "mad               0.000000e+00  6.869440e+00  4.588484e-01  4.717482e-01   \n",
       "mad_normal        0.000000e+00  8.609566e+00  5.750812e-01  5.912487e-01   \n",
       "coef_var          0.000000e+00  4.499362e-01  1.346114e+00  1.276847e+00   \n",
       "range             0.000000e+00  4.774000e+01  1.000000e+00  1.000000e+00   \n",
       "max               1.000000e+00  5.081000e+01  1.000000e+00  1.000000e+00   \n",
       "min               1.000000e+00  3.070000e+00  0.000000e+00  0.000000e+00   \n",
       "skew              0.000000e+00  1.126235e+00  5.989473e-01  4.894384e-01   \n",
       "kurtosis          0.000000e+00  4.169168e+00  1.358738e+00  1.239550e+00   \n",
       "jarque_bera       9.150000e+01  6.547915e+01  4.197504e+01  4.125007e+01   \n",
       "jarque_bera_pval  1.352158e-20  6.044825e-15  7.677769e-10  1.103216e-09   \n",
       "mode              1.000000e+00  1.342000e+01  0.000000e+00  0.000000e+00   \n",
       "mode_freq         1.000000e+00  1.229508e-02  6.434426e-01  6.188525e-01   \n",
       "median            1.000000e+00  1.779500e+01  0.000000e+00  0.000000e+00   \n",
       "1%                1.000000e+00  7.250000e+00  0.000000e+00  0.000000e+00   \n",
       "5%                1.000000e+00  9.557500e+00  0.000000e+00  0.000000e+00   \n",
       "10%               1.000000e+00  1.034000e+01  0.000000e+00  0.000000e+00   \n",
       "25%               1.000000e+00  1.334750e+01  0.000000e+00  0.000000e+00   \n",
       "50%               1.000000e+00  1.779500e+01  0.000000e+00  0.000000e+00   \n",
       "75%               1.000000e+00  2.412750e+01  1.000000e+00  1.000000e+00   \n",
       "90%               1.000000e+00  3.223500e+01  1.000000e+00  1.000000e+00   \n",
       "95%               1.000000e+00  3.806100e+01  1.000000e+00  1.000000e+00   \n",
       "99%               1.000000e+00  4.822700e+01  1.000000e+00  1.000000e+00   \n",
       "\n",
       "                          time          size  \n",
       "nobs              2.440000e+02  2.440000e+02  \n",
       "missing           0.000000e+00  0.000000e+00  \n",
       "mean              2.786885e-01  2.569672e+00  \n",
       "std_err           1.841293e-03  3.897950e-03  \n",
       "upper_ci          2.822974e-01  2.577312e+00  \n",
       "lower_ci          2.750797e-01  2.562032e+00  \n",
       "std               4.492755e-01  9.510998e-01  \n",
       "iqr               1.000000e+00  1.000000e+00  \n",
       "iqr_normal        7.413011e-01  7.413011e-01  \n",
       "mad               4.020425e-01  7.798979e-01  \n",
       "mad_normal        5.038855e-01  9.774570e-01  \n",
       "coef_var          1.612106e+00  3.701250e-01  \n",
       "range             1.000000e+00  5.000000e+00  \n",
       "max               1.000000e+00  6.000000e+00  \n",
       "min               0.000000e+00  1.000000e+00  \n",
       "skew              9.872178e-01  1.438965e+00  \n",
       "kurtosis          1.974599e+00  4.671928e+00  \n",
       "jarque_bera       5.032340e+01  1.126246e+02  \n",
       "jarque_bera_pval  1.181440e-11  3.498511e-25  \n",
       "mode              0.000000e+00  2.000000e+00  \n",
       "mode_freq         7.213115e-01  6.393443e-01  \n",
       "median            0.000000e+00  2.000000e+00  \n",
       "1%                0.000000e+00  1.000000e+00  \n",
       "5%                0.000000e+00  2.000000e+00  \n",
       "10%               0.000000e+00  2.000000e+00  \n",
       "25%               0.000000e+00  2.000000e+00  \n",
       "50%               0.000000e+00  2.000000e+00  \n",
       "75%               1.000000e+00  3.000000e+00  \n",
       "90%               1.000000e+00  4.000000e+00  \n",
       "95%               1.000000e+00  4.000000e+00  \n",
       "99%               1.000000e+00  6.000000e+00  "
      ]
     },
     "execution_count": 37,
     "metadata": {},
     "output_type": "execute_result"
    }
   ],
   "source": [
    "import statsmodels\n",
    "statsmodels.stats.descriptivestats.describe(X)"
   ]
  },
  {
   "cell_type": "code",
   "execution_count": null,
   "metadata": {},
   "outputs": [],
   "source": []
  }
 ],
 "metadata": {
  "kernelspec": {
   "display_name": "Python 3.9.12 ('data-science')",
   "language": "python",
   "name": "python3"
  },
  "language_info": {
   "codemirror_mode": {
    "name": "ipython",
    "version": 3
   },
   "file_extension": ".py",
   "mimetype": "text/x-python",
   "name": "python",
   "nbconvert_exporter": "python",
   "pygments_lexer": "ipython3",
   "version": "3.9.12"
  },
  "orig_nbformat": 4,
  "vscode": {
   "interpreter": {
    "hash": "2efee1efa502125d01e6b4768ba06d9453d29f3642bfd14ad5d4a769de82e88c"
   }
  }
 },
 "nbformat": 4,
 "nbformat_minor": 2
}
