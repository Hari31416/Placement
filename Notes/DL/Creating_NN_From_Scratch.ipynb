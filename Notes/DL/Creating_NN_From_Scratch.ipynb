{
 "cells": [
  {
   "cell_type": "markdown",
   "metadata": {},
   "source": [
    "<h2 id=\"Contents\">Contents<a href=\"#Contents\"></a></h2>\n",
    "        <ol>\n",
    "        <li><a class=\"\" href=\"#Imports\">Imports</a></li>\n",
    "<li><a class=\"\" href=\"#Notation\">Notation</a></li>\n",
    "<li><a class=\"\" href=\"#Outline\">Outline</a></li>\n",
    "<li><a class=\"\" href=\"#Forward-Propagation\">Forward Propagation</a></li>\n",
    "<ol><li><a class=\"\" href=\"#Initialization\">Initialization</a></li>\n",
    "<ol><li><a class=\"\" href=\"#Getting-the-Shapes-Right\">Getting the Shapes Right</a></li>\n",
    "<li><a class=\"\" href=\"#initialize_parameters_deep\">initialize_parameters_deep</a></li>\n",
    "</ol><li><a class=\"\" href=\"#Activation-Functions\">Activation Functions</a></li>\n",
    "<ol><li><a class=\"\" href=\"#relu\">relu</a></li>\n",
    "<li><a class=\"\" href=\"#sigmoid\">sigmoid</a></li>\n",
    "</ol><li><a class=\"\" href=\"#Stacking-Linear-Layer-with-Activation\">Stacking Linear Layer with Activation</a></li>\n",
    "<ol><li><a class=\"\" href=\"#linear_forward\">linear_forward</a></li>\n",
    "<li><a class=\"\" href=\"#linear_activation_forward\">linear_activation_forward</a></li>\n",
    "<li><a class=\"\" href=\"#L_model_forward\">L_model_forward</a></li>\n",
    "</ol></ol><li><a class=\"\" href=\"#The-Cost\">The Cost</a></li>\n",
    "<li><a class=\"\" href=\"#Backpropagation\">Backpropagation</a></li>\n",
    "<ol><li><a class=\"\" href=\"#Linear-Backward\">Linear Backward</a></li>\n",
    "<ol><li><a class=\"\" href=\"#linear_backward\">linear_backward</a></li>\n",
    "</ol><li><a class=\"\" href=\"#Backpropagation-for-Activation-Functions\">Backpropagation for Activation Functions</a></li>\n",
    "<ol><li><a class=\"\" href=\"#relu_backward\">relu_backward</a></li>\n",
    "<li><a class=\"\" href=\"#sigmoid_backward\">sigmoid_backward</a></li>\n",
    "</ol><li><a class=\"\" href=\"#Linear-Activation-Backward\">Linear-Activation Backward</a></li>\n",
    "<ol><li><a class=\"\" href=\"#linear_activation_backward\">linear_activation_backward</a></li>\n",
    "</ol><li><a class=\"\" href=\"#L-Model-Backward\">L-Model Backward</a></li>\n",
    "<ol><li><a class=\"\" href=\"#L_model_backward\">L_model_backward</a></li>\n",
    "</ol><li><a class=\"\" href=\"#Update-Parameters\">Update Parameters</a></li>\n",
    "<ol><li><a class=\"\" href=\"#update_parameters\">update_parameters</a></li>\n",
    "</ol><li><a class=\"\" href=\"#The-Model\">The Model</a></li>\n",
    "<ol><li><a class=\"\" href=\"#L_layer_model\">L_layer_model</a></li>\n",
    "<li><a class=\"\" href=\"#Train-the-model\">Train the model</a></li>\n",
    "<ol><li><a class=\"\" href=\"#Creating-the-Dataset\">Creating the Dataset</a></li>\n",
    "</ol>"
   ]
  },
  {
   "cell_type": "markdown",
   "metadata": {},
   "source": [
    "# Imports"
   ]
  },
  {
   "cell_type": "code",
   "execution_count": 25,
   "metadata": {},
   "outputs": [],
   "source": [
    "import numpy as np\n",
    "import matplotlib.pyplot as plt\n",
    "import h5py\n",
    "plt.rcdefaults()\n"
   ]
  },
  {
   "cell_type": "markdown",
   "metadata": {},
   "source": [
    "# Notation"
   ]
  },
  {
   "cell_type": "markdown",
   "metadata": {},
   "source": [
    "Here are the notation we'll using in this notebook:\n",
    "- Superscript $[l]$ denotes a quantity associated with the $l^{th}$ layer. \n",
    "    - Example: $a^{[L]}$ is the $L^{th}$ layer activation. $W^{[L]}$ and $b^{[L]}$ are the $L^{th}$ layer parameters.\n",
    "- Superscript $(i)$ denotes a quantity associated with the $i^{th}$ example. \n",
    "    - Example: $x^{(i)}$ is the $i^{th}$ training example.\n",
    "- Lowerscript $i$ denotes the $i^{th}$ entry of a vector.\n",
    "    - Example: $a^{[l]}_i$ denotes the $i^{th}$ entry of the $l^{th}$ layer's activations)."
   ]
  },
  {
   "cell_type": "markdown",
   "metadata": {},
   "source": [
    "The idea is to create some helper functions which will be used later to create an arbitrarily deep neural network."
   ]
  },
  {
   "cell_type": "markdown",
   "metadata": {},
   "source": [
    "# Outline"
   ]
  },
  {
   "cell_type": "markdown",
   "metadata": {},
   "source": [
    "Here's an outline of the steps in this assignment:\n",
    "\n",
    "- Initialize the parameters for an $L$-layer neural network\n",
    "- Implement the forward propagation module (shown in purple in the figure below)\n",
    "     - Complete the LINEAR part of a layer's forward propagation step (resulting in $Z^{[l]}$).\n",
    "     - Implement the activation functions (relu/sigmoid)\n",
    "     - Combine the previous two steps into a new [LINEAR->ACTIVATION] forward function.\n",
    "     - Stack the [LINEAR->RELU] forward function L-1 time (for layers 1 through L-1) and add a [LINEAR->SIGMOID] at the end (for the final layer $L$). This gives you a new `L_model_forward` function.\n",
    "- Compute the loss\n",
    "- Implement the backward propagation module (denoted in red in the figure below)\n",
    "    - Complete the LINEAR part of a layer's backward propagation step\n",
    "    - Create functions for the gradient of the ACTIVATE function(relu_backward/sigmoid_backward) \n",
    "    - Combine the previous two steps into a new [LINEAR->ACTIVATION] backward function\n",
    "    - Stack [LINEAR->RELU] backward L-1 times and add [LINEAR->SIGMOID] backward in a new `L_model_backward` function\n",
    "- Finally, update the parameters."
   ]
  },
  {
   "cell_type": "markdown",
   "metadata": {},
   "source": [
    "<img src=\"images/0201.png\" style=\"width:800px;height:500px;\">\n",
    "<caption><center><b>Outline</b></center></caption>"
   ]
  },
  {
   "cell_type": "markdown",
   "metadata": {},
   "source": [
    "For every forward function, there is a corresponding backward function. This is why at every step of your forward module you will be storing some values in a cache. These cached values are useful for computing gradients.\n",
    "\n",
    "In the backpropagation module, you can then use the cache to calculate the gradients. Don't worry, this assignment will show you exactly how to carry out each of these steps!"
   ]
  },
  {
   "cell_type": "markdown",
   "metadata": {},
   "source": [
    "Let's get started!"
   ]
  },
  {
   "cell_type": "markdown",
   "metadata": {},
   "source": [
    "# Forward Propagation"
   ]
  },
  {
   "cell_type": "markdown",
   "metadata": {},
   "source": [
    "## Initialization"
   ]
  },
  {
   "cell_type": "markdown",
   "metadata": {},
   "source": [
    "### Getting the Shapes Right"
   ]
  },
  {
   "cell_type": "markdown",
   "metadata": {},
   "source": [
    "Before we create a function to initialize the parameters, we should make sure that the weights are of the correct shape. Assuming  the size of your input $X$ is $(12288, 209)$ (with $m=209$ examples) then the shapes of weights and biases of various layers should be:\n",
    "<table style=\"width:100%\">\n",
    "    <tr>\n",
    "        <td>  </td> \n",
    "        <td> <b>Shape of W</b> </td> \n",
    "        <td> <b>Shape of b</b>  </td> \n",
    "        <td> <b>Activation</b> </td>\n",
    "        <td> <b>Shape of Activation</b> </td> \n",
    "    <tr>\n",
    "    <tr>\n",
    "        <td> <b>Layer 1</b> </td> \n",
    "        <td> $(n^{[1]},12288)$ </td> \n",
    "        <td> $(n^{[1]},1)$ </td> \n",
    "        <td> $Z^{[1]} = W^{[1]}  X + b^{[1]} $ </td> \n",
    "        <td> $(n^{[1]},209)$ </td> \n",
    "    <tr>\n",
    "    <tr>\n",
    "        <td> <b>Layer 2</b> </td> \n",
    "        <td> $(n^{[2]}, n^{[1]})$  </td> \n",
    "        <td> $(n^{[2]},1)$ </td> \n",
    "        <td>$Z^{[2]} = W^{[2]} A^{[1]} + b^{[2]}$ </td> \n",
    "        <td> $(n^{[2]}, 209)$ </td> \n",
    "    <tr>\n",
    "       <tr>\n",
    "        <td> $\\vdots$ </td> \n",
    "        <td> $\\vdots$  </td> \n",
    "        <td> $\\vdots$  </td> \n",
    "        <td> $\\vdots$</td> \n",
    "        <td> $\\vdots$  </td> \n",
    "    <tr>  \n",
    "   <tr>\n",
    "       <td> <b>Layer L-1</b> </td> \n",
    "        <td> $(n^{[L-1]}, n^{[L-2]})$ </td> \n",
    "        <td> $(n^{[L-1]}, 1)$  </td> \n",
    "        <td>$Z^{[L-1]} =  W^{[L-1]} A^{[L-2]} + b^{[L-1]}$ </td> \n",
    "        <td> $(n^{[L-1]}, 209)$ </td> \n",
    "   <tr>\n",
    "   <tr>\n",
    "       <td> <b>Layer L</b> </td> \n",
    "        <td> $(n^{[L]}, n^{[L-1]})$ </td> \n",
    "        <td> $(n^{[L]}, 1)$ </td>\n",
    "        <td> $Z^{[L]} =  W^{[L]} A^{[L-1]} + b^{[L]}$</td>\n",
    "        <td> $(n^{[L]}, 209)$  </td> \n",
    "    <tr>\n",
    "</table>"
   ]
  },
  {
   "cell_type": "markdown",
   "metadata": {},
   "source": [
    "Keeping this table in mind, let's initialize the parameters for for an L-layer Neural Network."
   ]
  },
  {
   "cell_type": "markdown",
   "metadata": {},
   "source": [
    "### `initialize_parameters_deep`"
   ]
  },
  {
   "cell_type": "markdown",
   "metadata": {},
   "source": [
    "**Steps**\n",
    "\n",
    "- The model's structure is *[LINEAR -> RELU] $ \\times$ (L-1) -> LINEAR -> SIGMOID*. i.e., it has $L-1$ layers using a ReLU activation function followed by an output layer with a sigmoid activation function.\n",
    "- Use random initialization for the weight matrices. Use `np.random.randn(shape) * 0.01`.\n",
    "- Use zeros initialization for the biases. Use `np.zeros(shape)`.\n",
    "- We'll store $n^{[l]}$, the number of units in different layers, in a variable `layer_dims`. "
   ]
  },
  {
   "cell_type": "code",
   "execution_count": 2,
   "metadata": {},
   "outputs": [],
   "source": [
    "def initialize_parameters_deep(layer_dims):\n",
    "    \"\"\"\n",
    "    Arguments\n",
    "    ---------\n",
    "    layer_dims : list of ints\n",
    "        The dimensions of each layer in the network.\n",
    "    \n",
    "    Returns\n",
    "    -------\n",
    "    parameters : dictionary\n",
    "        A dictionary containing the parameters of the network.\\\\\n",
    "        The dictionary has the following keys:\n",
    "        * Wl: The weight matrix of shape (layer_dims[l], layer_dims[l-1])\n",
    "        * bl: The bias vector of shape (layer_dims[l], 1)\\\\\n",
    "        for l in range(1, len(layer_dims))\n",
    "    \"\"\"\n",
    "    parameters = {}\n",
    "    L = len(layer_dims)\n",
    "    for l in range(1, L):\n",
    "        parameters['W' + str(l)] = np.random.randn(layer_dims[l], layer_dims[l-1])*0.01\n",
    "        parameters['b' + str(l)] = np.zeros((layer_dims[l], 1))\n",
    "        \n",
    "        assert(parameters['W' + str(l)].shape == (layer_dims[l], layer_dims[l - 1]))\n",
    "        assert(parameters['b' + str(l)].shape == (layer_dims[l], 1))\n",
    "        \n",
    "    return parameters"
   ]
  },
  {
   "cell_type": "markdown",
   "metadata": {},
   "source": [
    "## Activation Functions"
   ]
  },
  {
   "cell_type": "markdown",
   "metadata": {},
   "source": [
    "Here, we'll implement the two activation functions that you'll use in the model:\n",
    "1. **Relu:** $\\max(0, x)$\n",
    "2. **Sigmod:** $\\frac{1}{1+e^{-x}}$\n",
    "The functions will also return the value of `x` as cache to be used in backpropagation."
   ]
  },
  {
   "cell_type": "markdown",
   "metadata": {},
   "source": [
    "### `relu`"
   ]
  },
  {
   "cell_type": "code",
   "execution_count": 3,
   "metadata": {},
   "outputs": [],
   "source": [
    "def relu(x):\n",
    "    \"\"\"\n",
    "    Arguments\n",
    "    ---------\n",
    "    x : numpy array\n",
    "        The input array.\n",
    "    \n",
    "    Returns\n",
    "    -------\n",
    "    x : numpy array\n",
    "        The output array.\n",
    "    \"\"\"\n",
    "    return np.maximum(0, x), x"
   ]
  },
  {
   "cell_type": "code",
   "execution_count": 4,
   "metadata": {},
   "outputs": [
    {
     "data": {
      "image/png": "[encoded data removed]",
      "text/plain": [
       "<Figure size 640x480 with 1 Axes>"
      ]
     },
     "metadata": {},
     "output_type": "display_data"
    }
   ],
   "source": [
    "X = np.linspace(-1, 1, 100)\n",
    "Y, _ = relu(X)\n",
    "plt.plot(X, Y)\n",
    "plt.axvline(x=0, color='black')\n",
    "plt.show()"
   ]
  },
  {
   "cell_type": "markdown",
   "metadata": {},
   "source": [
    "### `sigmoid`"
   ]
  },
  {
   "cell_type": "code",
   "execution_count": 5,
   "metadata": {},
   "outputs": [],
   "source": [
    "def sigmoid(x):\n",
    "    \"\"\"\n",
    "    Arguments\n",
    "    ---------\n",
    "    x : numpy array\n",
    "        The input array.\n",
    "\n",
    "    Returns\n",
    "    -------\n",
    "    x : numpy array\n",
    "    \"\"\"\n",
    "    return 1/(1+np.exp(-x)), x"
   ]
  },
  {
   "cell_type": "code",
   "execution_count": 6,
   "metadata": {},
   "outputs": [
    {
     "data": {
      "image/png": "[encoded data removed]",
      "text/plain": [
       "<Figure size 640x480 with 1 Axes>"
      ]
     },
     "metadata": {},
     "output_type": "display_data"
    }
   ],
   "source": [
    "X = np.linspace(-10, 10, 200)\n",
    "Y, _ = sigmoid(X)\n",
    "plt.plot(X, Y)\n",
    "plt.axvline(x=0, color='black')\n",
    "plt.show()"
   ]
  },
  {
   "cell_type": "markdown",
   "metadata": {},
   "source": [
    "## Stacking Linear Layer with Activation"
   ]
  },
  {
   "cell_type": "markdown",
   "metadata": {},
   "source": [
    "Next, we'll be stacking a linear layer with a ReLU activation layer to create one layer of the neural network. We'll also be returning the values of `A`, `W` and `b` as `cache` to be used later during backpropagation."
   ]
  },
  {
   "cell_type": "markdown",
   "metadata": {},
   "source": [
    "The output of a unit without any activation function is given by:\n",
    "$$Z^{[l]} = W^{[l]} A^{[l-1]} + b^{[l]}$$\n",
    "If $g$ is the activation function, then the activation of a unit is:\n",
    "$$A^{[l]} = g(Z^{[l]})$$"
   ]
  },
  {
   "cell_type": "markdown",
   "metadata": {},
   "source": [
    "### `linear_forward`"
   ]
  },
  {
   "cell_type": "code",
   "execution_count": 7,
   "metadata": {},
   "outputs": [],
   "source": [
    "def linear_forward(A, W, b):\n",
    "    \"\"\"\n",
    "    Implement the linear part of a layer's forward propagation.\n",
    "    Attributes\n",
    "    ----------\n",
    "    A : numpy array\n",
    "        The input array.\n",
    "    W : numpy array\n",
    "        The weight matrix.\n",
    "    b : numpy array\n",
    "        The bias vector.\n",
    "    \n",
    "    Returns\n",
    "    -------\n",
    "    Z : numpy array\n",
    "        The output array.\n",
    "    cache : tuple\n",
    "        A tuple of (A, W, b) to be used in the backward pass.\n",
    "    \"\"\"\n",
    "    Z = np.dot(W, A) + b\n",
    "    assert (Z.shape == (W.shape[0], A.shape[1])), \"Shape of Z is not correct\"\n",
    "    cache = (A, W, b)\n",
    "    return Z, cache\n"
   ]
  },
  {
   "cell_type": "markdown",
   "metadata": {},
   "source": [
    "### `linear_activation_forward`"
   ]
  },
  {
   "cell_type": "code",
   "execution_count": 8,
   "metadata": {},
   "outputs": [],
   "source": [
    "def linear_activation_forward(A_prev, W, b, activation):\n",
    "    \"\"\"\n",
    "    Implement the forward propagation for the LINEAR->ACTIVATION layer\n",
    "\n",
    "    Arguments\n",
    "    ---------\n",
    "    A_prev : numpy array\n",
    "        The input array.\n",
    "    W : numpy array\n",
    "        The weight matrix.\n",
    "    b : numpy array\n",
    "        The bias vector.\n",
    "    activation : string\n",
    "        The activation function to use. Available functions are:\n",
    "        * relu\n",
    "        * sigmoid\n",
    "\n",
    "    Returns\n",
    "    -------\n",
    "    A : numpy array\n",
    "        The output array.\n",
    "    cache : tuple\n",
    "        a python tuple containing \"linear_cache\" and \"activation_cache\"\\\\\n",
    "             stored for computing the backward pass efficiently\n",
    "    \"\"\"\n",
    "    \n",
    "    if activation == \"sigmoid\":\n",
    "        Z, linear_cache = linear_forward(A_prev, W, b)\n",
    "        A, activation_cache = sigmoid(Z)\n",
    "    \n",
    "    elif activation == \"relu\":\n",
    "        Z, linear_cache = linear_forward(A_prev, W, b)\n",
    "        A, activation_cache = relu(Z)\n",
    "\n",
    "    cache = (linear_cache, activation_cache)\n",
    "\n",
    "    return A, cache"
   ]
  },
  {
   "cell_type": "markdown",
   "metadata": {},
   "source": [
    "### `L_model_forward`"
   ]
  },
  {
   "cell_type": "markdown",
   "metadata": {},
   "source": [
    "Now as we have the `linear_activation_forward` function implemented, we can implement the `L_model_forward` function. The function loops through `linear_activation_forward` to  LINEAR->RELU (L-1) times. Also, the function adds the output from the activation function to the cache. After that, the function also implments the LINEAR->SIGMOID as the final layer."
   ]
  },
  {
   "cell_type": "code",
   "execution_count": 9,
   "metadata": {},
   "outputs": [],
   "source": [
    "def L_model_forward(X, parameters):\n",
    "    \"\"\"\n",
    "    Implement forward propagation for the [LINEAR->RELU]*(L-1)->LINEAR->SIGMOID computation\n",
    "    \n",
    "    Arguments\n",
    "    ---------\n",
    "    X : numpy array\n",
    "        The input data, of shape (input size, number of examples)\n",
    "    parameters : dictionary\n",
    "        A dictionary containing the parameters of the network.\\\\\n",
    "        The dictionary has the following keys:\n",
    "        * Wl: The weight matrix of shape (layer_dims[l], layer_dims[l-1])\n",
    "        * bl: The bias vector of shape (layer_dims[l], 1)\\\\\n",
    "        for l in range(1, len(layer_dims))\n",
    "    \n",
    "    Returns\n",
    "    -------\n",
    "    AL : numpy array\n",
    "        The output of the forward propagation, of shape (output size, number of examples)\n",
    "    caches : list\n",
    "        A list of tuples, where each tuple contains the inputs and outputs of a layer.\\\\\n",
    "        For each layer, the tuple contains (A_prev, W, b)\n",
    "    \"\"\"\n",
    "\n",
    "    caches = []\n",
    "    A = X\n",
    "    # number of layers in the neural network\n",
    "    L = len(parameters) // 2                  \n",
    "    \n",
    "    for l in range(1, L):\n",
    "        A_prev = A \n",
    "        A, cache = linear_activation_forward(A_prev, parameters[f'W{l}'], parameters[f'b{l}'], 'relu')\n",
    "        caches.append(cache)\n",
    "    AL, cache = linear_activation_forward(A, parameters[f'W{L}'], parameters[f'b{L}'], 'sigmoid')\n",
    "    caches.append(cache)\n",
    "          \n",
    "    return AL, caches"
   ]
  },
  {
   "cell_type": "markdown",
   "metadata": {},
   "source": [
    "# The Cost"
   ]
  },
  {
   "cell_type": "markdown",
   "metadata": {},
   "source": [
    "Here, we'll implement the cost function for the model. We'll use the cross-entropy cost function $J$, using the following formula: \n",
    "$$-\\frac{1}{m} \\sum\\limits_{i = 1}^{m} (y^{(i)}\\log\\left(a^{[L] (i)}\\right) + (1-y^{(i)})\\log\\left(1- a^{[L](i)}\\right))$$"
   ]
  },
  {
   "cell_type": "code",
   "execution_count": 10,
   "metadata": {},
   "outputs": [],
   "source": [
    "def compute_cost(AL, Y):\n",
    "    \"\"\"\n",
    "    Implement the cost function\n",
    "\n",
    "    Arguments\n",
    "    ---------\n",
    "    AL : numpy array\n",
    "        The output of the forward propagation, of shape (1, number of examples)\n",
    "    Y : numpy array\n",
    "        The true labels, of shape (1, number of examples)\n",
    "    \"\"\"\n",
    "    \n",
    "    m = Y.shape[1]\n",
    "    cost = -(np.sum(Y*np.log(AL)+(1-Y)*np.log(1-AL)))/m\n",
    "    cost = np.squeeze(cost)\n",
    "    return cost"
   ]
  },
  {
   "cell_type": "markdown",
   "metadata": {},
   "source": [
    "# Backpropagation"
   ]
  },
  {
   "cell_type": "markdown",
   "metadata": {},
   "source": [
    "This section will be about implementing the backpropagation algorithm to compute the gradients.\n",
    "![](images/0202.png)"
   ]
  },
  {
   "cell_type": "markdown",
   "metadata": {},
   "source": [
    "similarly to forward propagation, you're going to build the backward propagation in three steps:\n",
    "1. LINEAR backward\n",
    "2. LINEAR -> ACTIVATION backward where ACTIVATION computes the derivative of either the ReLU or sigmoid activation\n",
    "3. [LINEAR -> RELU] $\\times$ (L-1) -> LINEAR -> SIGMOID backward (whole model)"
   ]
  },
  {
   "cell_type": "markdown",
   "metadata": {},
   "source": [
    "## Linear Backward"
   ]
  },
  {
   "cell_type": "markdown",
   "metadata": {},
   "source": [
    "For layer $l$, the linear part is: $Z^{[l]} = W^{[l]} A^{[l-1]} + b^{[l]}$ (followed by an activation).\n",
    "\n",
    "Suppose you have already calculated the derivative $dZ^{[l]} = \\frac{\\partial \\mathcal{L} }{\\partial Z^{[l]}}$. You want to get $(dW^{[l]}, db^{[l]}, dA^{[l-1]})$."
   ]
  },
  {
   "cell_type": "markdown",
   "metadata": {},
   "source": [
    "The three outputs $(dW^{[l]}, db^{[l]}, dA^{[l-1]})$ are computed using the input $dZ^{[l]}$.\n",
    "\n",
    "Here are the formulas:\n",
    "$$ dW^{[l]} = \\frac{\\partial \\mathcal{J} }{\\partial W^{[l]}} = \\frac{1}{m} dZ^{[l]} A^{[l-1] T} $$\n",
    "$$ db^{[l]} = \\frac{\\partial \\mathcal{J} }{\\partial b^{[l]}} = \\frac{1}{m} \\sum_{i = 1}^{m} dZ^{[l](i)}$$\n",
    "$$ dA^{[l-1]} = \\frac{\\partial \\mathcal{L} }{\\partial A^{[l-1]}} = W^{[l] T} dZ^{[l]} $$\n"
   ]
  },
  {
   "cell_type": "markdown",
   "metadata": {},
   "source": [
    "### `linear_backward`"
   ]
  },
  {
   "cell_type": "code",
   "execution_count": 11,
   "metadata": {},
   "outputs": [],
   "source": [
    "# GRADED FUNCTION: linear_backward\n",
    "\n",
    "def linear_backward(dZ, cache):\n",
    "    \"\"\"\n",
    "    Implement the linear portion of backward propagation for a single layer (layer l)\n",
    "\n",
    "    Arguments\n",
    "    ---------\n",
    "    dZ : numpy array\n",
    "        The gradient of the cost with respect to the linear output (of current layer l)\n",
    "    cache : tuple\n",
    "        A tuple of values (A_prev, W, b) coming from the forward propagation in the current layer\n",
    "    \n",
    "    Returns\n",
    "    -------\n",
    "    dA_prev : numpy array\n",
    "        The gradient of the cost with respect to the activation (of the previous layer l-1), same shape as A_prev\n",
    "    dW : numpy array\n",
    "        The gradient of the cost with respect to W (current layer l), same shape as W\n",
    "    db : numpy array\n",
    "        The gradient of the cost with respect to b (current layer l), same shape as b\n",
    "    \"\"\"\n",
    "    A_prev, W, b = cache\n",
    "    m = A_prev.shape[1]\n",
    "    dW = np.dot(dZ, A_prev.T)/m\n",
    "    db = np.sum(dZ,axis = 1, keepdims=True)/m\n",
    "    dA_prev = np.dot(W.T, dZ)\n",
    "    \n",
    "    return dA_prev, dW, db"
   ]
  },
  {
   "cell_type": "markdown",
   "metadata": {},
   "source": [
    "## Backpropagation for Activation Functions"
   ]
  },
  {
   "cell_type": "markdown",
   "metadata": {},
   "source": [
    "We'll create two functions to implement the backward propagation for the activation functions, `relu_backward` and `sigmoid_backward`. The function will `dA` as well as `cache` as inputs and return `dZ`."
   ]
  },
  {
   "cell_type": "markdown",
   "metadata": {},
   "source": [
    "### `relu_backward`"
   ]
  },
  {
   "cell_type": "code",
   "execution_count": 12,
   "metadata": {},
   "outputs": [],
   "source": [
    "def relu_backward(dA, cache):\n",
    "    \"\"\"\n",
    "    Implement the backward propagation for a single RELU unit.\n",
    "\n",
    "    Arguments\n",
    "    ---------\n",
    "    dA : numpy array\n",
    "        post-activation gradient\n",
    "    cache : tuple\n",
    "        tuple of values (Z) from forward propagation\n",
    "    \n",
    "    Returns\n",
    "    -------\n",
    "    dZ : numpy array\n",
    "        Gradient of the cost with respect to Z\n",
    "    \"\"\"\n",
    "    \n",
    "    Z = cache\n",
    "    dZ = np.array(dA, copy=True)\n",
    "    dZ[Z <= 0] = 0\n",
    "    assert (dZ.shape == Z.shape)\n",
    "    return dZ\n"
   ]
  },
  {
   "cell_type": "markdown",
   "metadata": {},
   "source": [
    "### `sigmoid_backward`"
   ]
  },
  {
   "cell_type": "code",
   "execution_count": 13,
   "metadata": {},
   "outputs": [],
   "source": [
    "def sigmoid_backward(dA, cache):\n",
    "    \"\"\"\n",
    "    Implement the backward propagation for a single SIGMOID unit.\n",
    "\n",
    "    Arguments\n",
    "    ---------\n",
    "    dA : numpy array\n",
    "        post-activation gradient\n",
    "    cache : tuple\n",
    "        tuple of values (Z) from forward propagation\n",
    "    \n",
    "    Returns\n",
    "    -------\n",
    "    dZ : numpy array\n",
    "        Gradient of the cost with respect to Z\n",
    "    \"\"\"\n",
    "    \n",
    "    Z = cache\n",
    "    s = 1/(1+np.exp(-Z))\n",
    "    dZ = dA * s * (1-s)\n",
    "    assert (dZ.shape == Z.shape)\n",
    "    return dZ"
   ]
  },
  {
   "cell_type": "markdown",
   "metadata": {},
   "source": [
    "##  Linear-Activation Backward"
   ]
  },
  {
   "cell_type": "markdown",
   "metadata": {},
   "source": [
    "Next, you will create a function that merges the two helper functions: `linear_backward` and the backward step for the activation `linear_activation_backward`."
   ]
  },
  {
   "cell_type": "markdown",
   "metadata": {},
   "source": [
    "### `linear_activation_backward`"
   ]
  },
  {
   "cell_type": "code",
   "execution_count": 14,
   "metadata": {},
   "outputs": [],
   "source": [
    "# GRADED FUNCTION: linear_activation_backward\n",
    "\n",
    "def linear_activation_backward(dA, cache, activation):\n",
    "    \"\"\"\n",
    "    Implement the backward propagation for the LINEAR->ACTIVATION layer.\n",
    "    \n",
    "    Arguments\n",
    "    ---------\n",
    "    dA : numpy array\n",
    "        post-activation gradient for current layer l\n",
    "    cache : tuple\n",
    "        tuple of values (linear_cache, activation_cache) we store for computing backward propagation efficiently\n",
    "    activation : string\n",
    "        the activation to be used in this layer, stored as a text string: \"sigmoid\" or \"relu\"\n",
    "\n",
    "    Returns\n",
    "    -------\n",
    "    dA_prev : numpy array\n",
    "        Gradient of the cost with respect to the activation (of the previous layer l-1), same shape as A_prev\n",
    "    dW : numpy array\n",
    "        Gradient of the cost with respect to W (current layer l), same shape as W\n",
    "    db : numpy array\n",
    "        Gradient of the cost with respect to b (current layer l), same shape as b\n",
    "    \"\"\"\n",
    "    linear_cache, activation_cache = cache\n",
    "    if activation == \"relu\":\n",
    "        dZ = relu_backward(dA, activation_cache)\n",
    "        dA_prev, dW, db = linear_backward(dZ, linear_cache)     \n",
    "    elif activation == \"sigmoid\":\n",
    "        dZ = sigmoid_backward(dA, activation_cache)\n",
    "        dA_prev, dW, db = linear_backward(dZ, linear_cache)\n",
    "\n",
    "    return dA_prev, dW, db"
   ]
  },
  {
   "cell_type": "markdown",
   "metadata": {},
   "source": [
    "##  L-Model Backward"
   ]
  },
  {
   "cell_type": "markdown",
   "metadata": {},
   "source": [
    "When we implemented the L_model_forward function, at each iteration, we stored a cache which contains (X,W,b, and z). In the back propagation module, we'll use those variables to compute the gradients. Therefore, in the L_model_backward function, we'll iterate through all the hidden layers backward, starting from layer  L . On each step, we will use the cached values for layer  l  to backpropagate through layer l ."
   ]
  },
  {
   "cell_type": "markdown",
   "metadata": {},
   "source": [
    "But first, we need an initial value of `dA`, which is the derivative of the cost with respect to the activation of the output layer. This can be calculated using the formula:\n",
    "$$\n",
    "dA^{[L]} = -\\left(\\frac{Y}{A_L}-\\frac{1-Y}{1-A_L}\\right)\n",
    "$$\n",
    "We can then use this post-activation gradient dAL to keep going backward."
   ]
  },
  {
   "cell_type": "markdown",
   "metadata": {},
   "source": [
    "### `L_model_backward`"
   ]
  },
  {
   "cell_type": "code",
   "execution_count": 15,
   "metadata": {},
   "outputs": [],
   "source": [
    "def L_model_backward(AL, Y, caches):\n",
    "    \"\"\"\n",
    "    Implement the backward propagation for the [LINEAR->RELU] * (L-1) -> LINEAR -> SIGMOID group\n",
    "    \n",
    "    Arguments\n",
    "    ---------\n",
    "    AL : numpy array\n",
    "        probability vector, output of forward propagation (L_model_forward())\n",
    "    Y : numpy array\n",
    "        true \"label\" vector\n",
    "    caches : list\n",
    "        list of caches containing:\n",
    "            every cache of linear_activation_forward() with \"relu\" (there are (L-1) ors)\n",
    "            the cache of linear_activation_forward() with \"sigmoid\" (there is one)\n",
    "\n",
    "    Returns\n",
    "    -------\n",
    "    grads : dictionary\n",
    "\n",
    "        grads[\"dA\" + str(l)] = ...\\\\\n",
    "        grads[\"dW\" + str(l)] = ...\\\\\n",
    "        grads[\"db\" + str(l)] = ...\n",
    "    \"\"\"\n",
    "\n",
    "    grads = {}\n",
    "    L = len(caches)\n",
    "    m = AL.shape[1]\n",
    "    Y = Y.reshape(AL.shape)\n",
    "    dAL = - (np.divide(Y, AL) - np.divide(1 - Y, 1 - AL))\n",
    "    \n",
    "    current_cache = caches[L-1]\n",
    "    dA_prev_temp, dW_temp, db_temp = linear_activation_backward(dAL, current_cache, 'sigmoid')\n",
    "    grads[\"dA\" + str(L-1)] = dA_prev_temp\n",
    "    grads[\"dW\" + str(L)] = dW_temp\n",
    "    grads[\"db\" + str(L)] = db_temp\n",
    "\n",
    "    for l in reversed(range(L-1)):\n",
    "        current_cache = caches[l]\n",
    "        dA_prev_temp, dW_temp, db_temp = linear_activation_backward(dA_prev_temp, current_cache, 'relu')\n",
    "        grads[\"dA\" + str(l)] = dA_prev_temp\n",
    "        grads[\"dW\" + str(l + 1)] = dW_temp\n",
    "        grads[\"db\" + str(l + 1)] = db_temp\n",
    "\n",
    "    return grads"
   ]
  },
  {
   "cell_type": "markdown",
   "metadata": {},
   "source": [
    "## Update Parameters"
   ]
  },
  {
   "cell_type": "markdown",
   "metadata": {},
   "source": [
    "In this section, we'll update the parameters of the model, using gradient descent: \n",
    "\n",
    "$$ W^{[l]} = W^{[l]} - \\alpha \\text{ } dW^{[l]}$$\n",
    "$$ b^{[l]} = b^{[l]} - \\alpha \\text{ } db^{[l]}$$\n",
    "\n",
    "where $\\alpha$ is the learning rate. "
   ]
  },
  {
   "cell_type": "markdown",
   "metadata": {},
   "source": [
    "### `update_parameters`"
   ]
  },
  {
   "cell_type": "code",
   "execution_count": 16,
   "metadata": {},
   "outputs": [],
   "source": [
    "def update_parameters(params, grads, learning_rate):\n",
    "    \"\"\"\n",
    "    Update parameters using gradient descent\n",
    "    \n",
    "    Arguments\n",
    "    ---------\n",
    "    params : dictionary\n",
    "        parameters to be updated\n",
    "    grads : dictionary\n",
    "        python dictionary containing your gradients, output of L_model_backward\n",
    "\n",
    "    Returns\n",
    "    -------\n",
    "    params : dictionary\n",
    "        python dictionary containing your updated parameters after one pass of gradient descent\n",
    "            parameters[\"W\" + str(l)] = ... \\\\\n",
    "            parameters[\"b\" + str(l)] = ...\n",
    "    \"\"\"\n",
    "    parameters = params.copy()\n",
    "    grads = grads.copy()\n",
    "    L = len(parameters) // 2\n",
    "    for l in range(L):\n",
    "        parameters[\"W\" + str(l+1)] = parameters[\"W\" + str(l+1)] - learning_rate*grads[\"dW\" + str(l+1)]\n",
    "        parameters[\"b\" + str(l+1)] = parameters[\"b\" + str(l+1)]- learning_rate*grads[\"db\" + str(l+1)]\n",
    "\n",
    "    return parameters"
   ]
  },
  {
   "cell_type": "markdown",
   "metadata": {},
   "source": [
    "This completes the implementation of the helper functions needed to build a neural network. Next, we'll use those functions to build the model."
   ]
  },
  {
   "cell_type": "markdown",
   "metadata": {},
   "source": [
    "# The Model"
   ]
  },
  {
   "cell_type": "markdown",
   "metadata": {},
   "source": [
    "In this section, we'll build a L-layer neural network with the following structure: *[LINEAR -> RELU] × (L-1) -> LINEAR -> SIGMOID*. "
   ]
  },
  {
   "cell_type": "markdown",
   "metadata": {},
   "source": [
    "The number of layers and the number of units in each layer will be determined using the `layers_dims` parameter which is a list containing the number of units in each layer of the network. Let's create the model!"
   ]
  },
  {
   "cell_type": "markdown",
   "metadata": {},
   "source": [
    "## `L_layer_model`"
   ]
  },
  {
   "cell_type": "code",
   "execution_count": 17,
   "metadata": {},
   "outputs": [],
   "source": [
    "# GRADED FUNCTION: L_layer_model\n",
    "\n",
    "def L_layer_model(X, Y, layers_dims, learning_rate = 0.0075, num_iterations = 3000, print_cost=False):\n",
    "    \"\"\"\n",
    "    Implements a L-layer neural network: [LINEAR->RELU]*(L-1)->LINEAR->SIGMOID.\n",
    "    \n",
    "    Arguments\n",
    "    ---------\n",
    "    X : numpy array\n",
    "        (n_x, m) matrix, training examples\n",
    "    Y : numpy array\n",
    "        (1, m) matrix, training labels\n",
    "    layers_dims : list\n",
    "        dimensions of each layer\n",
    "    learning_rate : float\n",
    "        learning rate of the gradient descent update rule\n",
    "    num_iterations : int\n",
    "        number of iterations of the optimization loop\n",
    "    print_cost : bool\n",
    "        if True, it prints the cost every 100 steps\n",
    "\n",
    "    Returns\n",
    "    -------\n",
    "    parameters : dictionary\n",
    "        parameters learnt by the model. They can then be used to predict.\n",
    "    \"\"\"\n",
    "\n",
    "    np.random.seed(1)\n",
    "    costs = []\n",
    "    parameters = initialize_parameters_deep(layers_dims)\n",
    "    for i in range(0, num_iterations):\n",
    "        AL, caches = L_model_forward(X, parameters)\n",
    "        cost = compute_cost(AL, Y)\n",
    "        grads = L_model_backward(AL, Y, caches)\n",
    "        parameters = update_parameters(parameters, grads, learning_rate)\n",
    "                \n",
    "        # Print the cost every 100 iterations\n",
    "        if print_cost and i % 100 == 0 or i == num_iterations - 1:\n",
    "            print(f\"Cost after iteration {i}: {np.squeeze(cost)}\")\n",
    "        if i % 100 == 0 or i == num_iterations:\n",
    "            costs.append(cost)\n",
    "    return parameters, costs"
   ]
  },
  {
   "cell_type": "markdown",
   "metadata": {},
   "source": [
    "## Train the model"
   ]
  },
  {
   "cell_type": "markdown",
   "metadata": {},
   "source": [
    "### Creating the Dataset"
   ]
  },
  {
   "cell_type": "markdown",
   "metadata": {},
   "source": [
    "Let's create a dataset to be trained on."
   ]
  },
  {
   "cell_type": "code",
   "execution_count": 26,
   "metadata": {},
   "outputs": [],
   "source": [
    "def load_data():\n",
    "    train_dataset = h5py.File('datasets/train_catvnoncat.h5', \"r\")\n",
    "    train_set_x_orig = np.array(train_dataset[\"train_set_x\"][:]) # your train set features\n",
    "    train_set_y_orig = np.array(train_dataset[\"train_set_y\"][:]) # your train set labels\n",
    "\n",
    "    test_dataset = h5py.File('datasets/test_catvnoncat.h5', \"r\")\n",
    "    test_set_x_orig = np.array(test_dataset[\"test_set_x\"][:]) # your test set features\n",
    "    test_set_y_orig = np.array(test_dataset[\"test_set_y\"][:]) # your test set labels\n",
    "\n",
    "    classes = np.array(test_dataset[\"list_classes\"][:]) # the list of classes\n",
    "    \n",
    "    train_set_y_orig = train_set_y_orig.reshape((1, train_set_y_orig.shape[0]))\n",
    "    test_set_y_orig = test_set_y_orig.reshape((1, test_set_y_orig.shape[0]))\n",
    "    \n",
    "    return train_set_x_orig, train_set_y_orig, test_set_x_orig, test_set_y_orig, classes"
   ]
  },
  {
   "cell_type": "code",
   "execution_count": 27,
   "metadata": {},
   "outputs": [],
   "source": [
    "train_x_orig, train_y, test_x_orig, test_y, classes = load_data()"
   ]
  },
  {
   "cell_type": "code",
   "execution_count": 29,
   "metadata": {},
   "outputs": [
    {
     "name": "stdout",
     "output_type": "stream",
     "text": [
      "train_x's shape: (12288, 209)\n",
      "test_x's shape: (12288, 50)\n"
     ]
    }
   ],
   "source": [
    "# Reshape the training and test examples \n",
    "train_x_flatten = train_x_orig.reshape(train_x_orig.shape[0], -1).T   # The \"-1\" makes reshape flatten the remaining dimensions\n",
    "test_x_flatten = test_x_orig.reshape(test_x_orig.shape[0], -1).T\n",
    "\n",
    "# Standardize data to have feature values between 0 and 1.\n",
    "train_x = train_x_flatten/255.\n",
    "test_x = test_x_flatten/255.\n",
    "\n",
    "print (\"train_x's shape: \" + str(train_x.shape))\n",
    "print (\"test_x's shape: \" + str(test_x.shape))"
   ]
  },
  {
   "cell_type": "code",
   "execution_count": 28,
   "metadata": {},
   "outputs": [],
   "source": [
    "layers_dims = [12288, 20, 7, 5, 1] #  4-layer model"
   ]
  },
  {
   "cell_type": "code",
   "execution_count": 37,
   "metadata": {},
   "outputs": [
    {
     "name": "stdout",
     "output_type": "stream",
     "text": [
      "Cost after iteration 0: 0.6931489045172448\n",
      "Cost after iteration 100: 0.6624971419117535\n",
      "Cost after iteration 200: 0.651094757435918\n",
      "Cost after iteration 300: 0.6467572191732891\n",
      "Cost after iteration 400: 0.6450746296904617\n",
      "Cost after iteration 500: 0.6444126114559184\n",
      "Cost after iteration 600: 0.6441496227067939\n",
      "Cost after iteration 700: 0.6440444862712489\n",
      "Cost after iteration 800: 0.6440022822578234\n",
      "Cost after iteration 900: 0.6439852956688383\n",
      "Cost after iteration 1000: 0.643978446974854\n",
      "Cost after iteration 1100: 0.6439756825182593\n",
      "Cost after iteration 1200: 0.643974565630174\n",
      "Cost after iteration 1300: 0.6439741139342244\n",
      "Cost after iteration 1400: 0.6439739310230211\n",
      "Cost after iteration 1500: 0.6439738567187566\n",
      "Cost after iteration 1600: 0.643973826351625\n",
      "Cost after iteration 1700: 0.643973813766312\n",
      "Cost after iteration 1800: 0.6439738083386956\n",
      "Cost after iteration 1900: 0.6439738057896578\n",
      "Cost after iteration 2000: 0.6439738043154932\n",
      "Cost after iteration 2100: 0.6439738031521817\n",
      "Cost after iteration 2200: 0.643973802338866\n",
      "Cost after iteration 2300: 0.6439738016972762\n",
      "Cost after iteration 2400: 0.6439738011387375\n",
      "Cost after iteration 2499: 0.6439738006062699\n"
     ]
    }
   ],
   "source": [
    "parameters, costs = L_layer_model(train_x, train_y, layers_dims, learning_rate=0.02, num_iterations = 2500, print_cost = True)"
   ]
  },
  {
   "cell_type": "code",
   "execution_count": 38,
   "metadata": {},
   "outputs": [],
   "source": [
    "def predict(X, y, parameters):\n",
    "    m = X.shape[1]\n",
    "    n = len(parameters) // 2 # number of layers in the neural network\n",
    "    p = np.zeros((1,m))\n",
    "    \n",
    "    # Forward propagation\n",
    "    probas, caches = L_model_forward(X, parameters)\n",
    "\n",
    "    \n",
    "    # convert probas to 0/1 predictions\n",
    "    for i in range(0, probas.shape[1]):\n",
    "        if probas[0,i] > 0.5:\n",
    "            p[0,i] = 1\n",
    "        else:\n",
    "            p[0,i] = 0\n",
    "    \n",
    "    print(\"Accuracy: \"  + str(np.sum((p == y)/m)))\n",
    "        \n",
    "    return p"
   ]
  },
  {
   "cell_type": "code",
   "execution_count": 39,
   "metadata": {},
   "outputs": [
    {
     "name": "stdout",
     "output_type": "stream",
     "text": [
      "Accuracy: 0.6555023923444976\n"
     ]
    }
   ],
   "source": [
    "pred_train = predict(train_x, train_y, parameters)"
   ]
  },
  {
   "cell_type": "code",
   "execution_count": 40,
   "metadata": {},
   "outputs": [
    {
     "name": "stdout",
     "output_type": "stream",
     "text": [
      "Accuracy: 0.3400000000000001\n"
     ]
    }
   ],
   "source": [
    "pred_test = predict(test_x, test_y, parameters)"
   ]
  }
 ],
 "metadata": {
  "kernelspec": {
   "display_name": "Python 3.9.7 ('base')",
   "language": "python",
   "name": "python3"
  },
  "language_info": {
   "codemirror_mode": {
    "name": "ipython",
    "version": 3
   },
   "file_extension": ".py",
   "mimetype": "text/x-python",
   "name": "python",
   "nbconvert_exporter": "python",
   "pygments_lexer": "ipython3",
   "version": "3.9.7"
  },
  "orig_nbformat": 4,
  "vscode": {
   "interpreter": {
    "hash": "ad2bdc8ecc057115af97d19610ffacc2b4e99fae6737bb82f5d7fb13d2f2c186"
   }
  }
 },
 "nbformat": 4,
 "nbformat_minor": 2
}
