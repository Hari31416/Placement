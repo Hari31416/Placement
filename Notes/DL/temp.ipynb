{
 "cells": [
  {
   "cell_type": "code",
   "execution_count": 9,
   "metadata": {},
   "outputs": [],
   "source": [
    "import sys\n",
    "sys.path.append('../../tools')"
   ]
  },
  {
   "cell_type": "code",
   "execution_count": 10,
   "metadata": {
    "scrolled": true
   },
   "outputs": [],
   "source": [
    "from files.notebook import Notebook"
   ]
  },
  {
   "cell_type": "code",
   "execution_count": 11,
   "metadata": {},
   "outputs": [],
   "source": [
    "nb = Notebook()"
   ]
  },
  {
   "cell_type": "code",
   "execution_count": 12,
   "metadata": {},
   "outputs": [
    {
     "data": {
      "text/plain": [
       "['./CNN.ipynb',\n",
       " './Creating_NN_From_Scratch.ipynb',\n",
       " './Different_Initializations.ipynb',\n",
       " './Neural_Networks.ipynb',\n",
       " './Optimization_Methods.ipynb',\n",
       " './Sequence_Models.ipynb',\n",
       " './temp.ipynb']"
      ]
     },
     "execution_count": 12,
     "metadata": {},
     "output_type": "execute_result"
    }
   ],
   "source": [
    "nb.notebooks"
   ]
  },
  {
   "cell_type": "code",
   "execution_count": 17,
   "metadata": {},
   "outputs": [
    {
     "name": "stdout",
     "output_type": "stream",
     "text": [
      "Converting the Notebook to HTML.\n",
      "Looking for the Headers and their positions.\n",
      "Getting correct order of the Headers.\n",
      "Creating the Contents.\n",
      "Content copied to clipboard.\n"
     ]
    },
    {
     "name": "stderr",
     "output_type": "stream",
     "text": [
      "QXcbClipboard::setMimeData: Cannot set X11 selection owner\n"
     ]
    }
   ],
   "source": [
    "content = nb.create_content(nb.notebooks[-2], return_string = True)"
   ]
  },
  {
   "cell_type": "code",
   "execution_count": 18,
   "metadata": {},
   "outputs": [
    {
     "name": "stdout",
     "output_type": "stream",
     "text": [
      "<h2 id=\"Contents\">Contents<a href=\"#Contents\"></a></h2>\n",
      "        <ol>\n",
      "        <li><a class=\"\" href=\"#Sequence-Models\">Sequence Models</a></li>\n",
      "<ol><li><a class=\"\" href=\"#Why-Sequence-Models?\">Why Sequence Models?</a></li>\n",
      "<li><a class=\"\" href=\"#RNN\">RNN</a></li>\n",
      "<ol><li><a class=\"\" href=\"#Forward-Propagation\">Forward Propagation</a></li>\n",
      "<li><a class=\"\" href=\"#Simplified-RNN\">Simplified RNN</a></li>\n",
      "<li><a class=\"\" href=\"#Backward-Propagation-(Backpropagation-through-time!)\">Backward Propagation (Backpropagation through time!)</a></li>\n",
      "<li><a class=\"\" href=\"#Bidirectional-RNN-(BRNN)\">Bidirectional RNN (BRNN)</a></li>\n",
      "<li><a class=\"\" href=\"#Problem-with-RNN\">Problem with RNN</a></li>\n",
      "<ol><li><a class=\"\" href=\"#Long-Term-Dependencies\">Long-Term Dependencies</a></li>\n",
      "<li><a class=\"\" href=\"#Vanishing/Exploding-Gradient\">Vanishing/Exploding Gradient</a></li>\n",
      "</ol><li><a class=\"\" href=\"#GRU\">GRU</a></li>\n",
      "<ol><li><a class=\"\" href=\"#Update-Gate\">Update Gate</a></li>\n",
      "<li><a class=\"\" href=\"#Reset-Gate\">Reset Gate</a></li>\n",
      "<li><a class=\"\" href=\"#Cell-State-Calculation\">Cell State Calculation</a></li>\n",
      "</ol><li><a class=\"\" href=\"#LSTM\">LSTM</a></li>\n",
      "<ol><li><a class=\"\" href=\"#Cell-State\">Cell State</a></li>\n",
      "<li><a class=\"\" href=\"#Gates\">Gates</a></li>\n",
      "<ol><li><a class=\"\" href=\"#Forget-Gate\">Forget Gate</a></li>\n",
      "<li><a class=\"\" href=\"#Input-Gate\">Input Gate</a></li>\n",
      "<li><a class=\"\" href=\"#Output-Gate\">Output Gate</a></li>\n",
      "</ol><li><a class=\"\" href=\"#Variants-of-LSTM\">Variants of LSTM</a></li>\n",
      "<ol><li><a class=\"\" href=\"#Peephole-Connections\">Peephole Connections</a></li>\n",
      "<li><a class=\"\" href=\"#Coupled-Input-and-Forget-Gates\">Coupled Input and Forget Gates</a></li>\n",
      "<li><a class=\"\" href=\"#GRU\">GRU</a></li>\n",
      "</ol><li><a class=\"\" href=\"#References\">References</a></li>\n",
      "</ol>\n"
     ]
    }
   ],
   "source": [
    "print(content)"
   ]
  },
  {
   "cell_type": "code",
   "execution_count": 20,
   "metadata": {},
   "outputs": [
    {
     "name": "stderr",
     "output_type": "stream",
     "text": [
      "Exporting notebooks...: 100%|██████████| 7/7 [00:02<00:00,  3.17it/s]\n"
     ]
    }
   ],
   "source": [
    "files = nb.export_directory()"
   ]
  },
  {
   "cell_type": "code",
   "execution_count": 6,
   "metadata": {},
   "outputs": [
    {
     "data": {
      "text/plain": [
       "['././CNN.html',\n",
       " '././Creating_NN_From_Scratch.html',\n",
       " '././Different_Initializations.html',\n",
       " '././Neural_Networks.html',\n",
       " '././Optimization_Methods.html',\n",
       " '././temp.html']"
      ]
     },
     "execution_count": 6,
     "metadata": {},
     "output_type": "execute_result"
    }
   ],
   "source": [
    "files"
   ]
  },
  {
   "cell_type": "code",
   "execution_count": 21,
   "metadata": {},
   "outputs": [
    {
     "name": "stdout",
     "output_type": "stream",
     "text": [
      "<ul><li>\n",
      "            <a href=\"Notes/DL/CNN.html\" target=\"blank\" class=\"links\">CNN</a>\n",
      "          </li><li>\n",
      "            <a href=\"Notes/DL/Creating_NN_From_Scratch.html\" target=\"blank\" class=\"links\">Creating NN From Scratch</a>\n",
      "          </li><li>\n",
      "            <a href=\"Notes/DL/Different_Initializations.html\" target=\"blank\" class=\"links\">Different Initializations</a>\n",
      "          </li><li>\n",
      "            <a href=\"Notes/DL/Neural_Networks.html\" target=\"blank\" class=\"links\">Neural Networks</a>\n",
      "          </li><li>\n",
      "            <a href=\"Notes/DL/Optimization_Methods.html\" target=\"blank\" class=\"links\">Optimization Methods</a>\n",
      "          </li><li>\n",
      "            <a href=\"Notes/DL/Sequence_Models.html\" target=\"blank\" class=\"links\">Sequence Models</a>\n",
      "          </li></ul>\n"
     ]
    }
   ],
   "source": [
    "start = \"<ul>\"\n",
    "end = \"</ul>\"\n",
    "for f in files:\n",
    "    if \"temp\" in f:\n",
    "        continue\n",
    "    file = f.split(\"/\")[-1]\n",
    "    name = file.split(\".\")[0]\n",
    "    name = name.replace(\"_\", \" \")\n",
    "    start+=f\"\"\"<li>\n",
    "            <a href=\"Notes/DL/{file}\" target=\"blank\" class=\"links\">{name}</a>\n",
    "          </li>\"\"\"\n",
    "start+=end\n",
    "print(start)"
   ]
  },
  {
   "cell_type": "code",
   "execution_count": null,
   "metadata": {},
   "outputs": [],
   "source": []
  }
 ],
 "metadata": {
  "kernelspec": {
   "display_name": "Python 3 (ipykernel)",
   "language": "python",
   "name": "python3"
  },
  "language_info": {
   "codemirror_mode": {
    "name": "ipython",
    "version": 3
   },
   "file_extension": ".py",
   "mimetype": "text/x-python",
   "name": "python",
   "nbconvert_exporter": "python",
   "pygments_lexer": "ipython3",
   "version": "3.9.12"
  },
  "vscode": {
   "interpreter": {
    "hash": "2efee1efa502125d01e6b4768ba06d9453d29f3642bfd14ad5d4a769de82e88c"
   }
  }
 },
 "nbformat": 4,
 "nbformat_minor": 2
}
