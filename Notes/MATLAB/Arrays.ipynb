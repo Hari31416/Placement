{
 "cells": [
  {
   "cell_type": "markdown",
   "metadata": {},
   "source": [
    "<h3 style=\"color:#48d96e\">For a quick reference, follow the <a href=\"https://matlabacademy.mathworks.com/artifacts/quick-reference.html?course=mlbe&release=R2022a&language=en&\">link.</a></h3>"
   ]
  },
  {
   "cell_type": "markdown",
   "metadata": {},
   "source": [
    "<h2 id=\"Contents\">Contents<a href=\"#Contents\"></a></h2>\n",
    "<ol><li><a class=\"\" href=\"#Creating-Arrays\">Creating Arrays</a></li>\n",
    "<ol><li><a class=\"\" href=\"#Array-Creation-Functions\">Array Creation Functions</a></li>\n",
    "</ol><li><a class=\"\" href=\"#Concatenating-Arrays\">Concatenating Arrays</a></li>\n",
    "<ol><li><a class=\"\" href=\"#Reshaping-Arrays\">Reshaping Arrays</a></li>\n",
    "</ol><li><a class=\"\" href=\"#Accessing-Data\">Accessing Data</a></li>\n",
    "<ol><li><a class=\"\" href=\"#Data-From-Vectors\">Data From Vectors</a></li>\n",
    "<li><a class=\"\" href=\"#Data-From-Matrices\">Data From Matrices</a></li>\n",
    "</ol><li><a class=\"\" href=\"#Mathematical-Operations\">Mathematical Operations</a></li>\n",
    "<ol><li><a class=\"\" href=\"#Implicit-Expansions\">Implicit Expansions</a></li>\n",
    "</ol>"
   ]
  },
  {
   "cell_type": "markdown",
   "metadata": {},
   "source": [
    "# Creating Arrays"
   ]
  },
  {
   "cell_type": "markdown",
   "metadata": {},
   "source": [
    "You can use the colon operator (:) or the `linspace` function to create vectors. However, both methods are not equivalent.\n",
    "![](images/01_01.png)"
   ]
  },
  {
   "cell_type": "markdown",
   "metadata": {},
   "source": [
    "## Array Creation Functions"
   ]
  },
  {
   "cell_type": "markdown",
   "metadata": {},
   "source": [
    "MATLAB has several functions that you can use to create arrays. For example, an array of all zeros or an array of all ones.\n",
    "\n",
    "The syntax for these functions all have the same basic structure in that you must specify the number of rows and columns of the array."
   ]
  },
  {
   "cell_type": "markdown",
   "metadata": {},
   "source": [
    "![](images/01_02.png)"
   ]
  },
  {
   "cell_type": "markdown",
   "metadata": {},
   "source": [
    "# Concatenating Arrays"
   ]
  },
  {
   "cell_type": "markdown",
   "metadata": {},
   "source": [
    "You can concatenate two matrices horizontally (side-by-side) if they are the same height (have an equal number of rows).\n",
    "![](images/01_03.png)"
   ]
  },
  {
   "cell_type": "markdown",
   "metadata": {},
   "source": [
    "Use square brackets around the matrices and separate them with a space. \n",
    "```\n",
    "x = [x11 ; x21];\n",
    "y = [y11 y12 ; y21 y22];\n",
    "z = [x y]\n",
    "    x11 y11 y12\n",
    "    x21 y21 y22\n",
    "```"
   ]
  },
  {
   "cell_type": "markdown",
   "metadata": {},
   "source": [
    "You can concatenate two matrices vertically (stacked on top of one another) using ; if they are the same width (have an equal number of columns).\n",
    "![](images/01_04.png)"
   ]
  },
  {
   "cell_type": "markdown",
   "metadata": {},
   "source": [
    "Use square brackets around the matrices and separate them with a ;.\n",
    "```\n",
    "x = [x11 x12; x21 x22];\n",
    "y = [y11 y12];\n",
    "z = [x;y]\n",
    "     x11 x12\n",
    "     x21 x22\n",
    "     y11 y12\n",
    "```"
   ]
  },
  {
   "cell_type": "markdown",
   "metadata": {},
   "source": [
    "![](images/01_05.png)|"
   ]
  },
  {
   "cell_type": "markdown",
   "metadata": {},
   "source": [
    "## Reshaping Arrays"
   ]
  },
  {
   "cell_type": "markdown",
   "metadata": {},
   "source": [
    "You can use the `reshape` function to reshape an m-by-n matrix into a p-by-q matrix, as long as the total number of elements remains the same (i.e., m×n = p×q).\n",
    "\n",
    "`B = reshape(A,p,q)`"
   ]
  },
  {
   "cell_type": "markdown",
   "metadata": {},
   "source": [
    "> Note that in MATLAB, data is filled by column first, that is, first column of the new array is filled first then the second column, and so on. If we want to extract elements row-wise, use the transpose operator, `'`, to transpose the matrix before reshaping."
   ]
  },
  {
   "cell_type": "markdown",
   "metadata": {},
   "source": [
    "For convenience, you can leave one of the dimensions blank, using `[]`, when calling reshape and that dimension will be calculated automatically.\n",
    "\n",
    "`B = reshape(A,[],q)`"
   ]
  },
  {
   "cell_type": "markdown",
   "metadata": {},
   "source": [
    "An array `A` can be converted into a vector `V` by using the colon operator.\n",
    "\n",
    "`V = A(:)`"
   ]
  },
  {
   "cell_type": "markdown",
   "metadata": {},
   "source": [
    "# Accessing Data"
   ]
  },
  {
   "cell_type": "markdown",
   "metadata": {},
   "source": [
    "## Data From Vectors"
   ]
  },
  {
   "cell_type": "markdown",
   "metadata": {},
   "source": [
    "`x(i)` Returns the i-th element of the vector `x`.\n",
    "\n",
    "`x(i:j)` Returns the elements of the vector `x` between the indices `i` and `j`.\n",
    "\n",
    "Note that the command `(i:j)` creates a vector of indices from `i` to `j`, so, using `x(i:j)` is similar to `x(V)` where `V` is the vector `[i,i+1,i+2,...,j]`."
   ]
  },
  {
   "cell_type": "markdown",
   "metadata": {},
   "source": [
    "You can also use the indexing to assign values to elements of a vector. Also, the `end` keyword can be used to access the last element of a vector."
   ]
  },
  {
   "cell_type": "markdown",
   "metadata": {},
   "source": [
    "If the index does not exits, an error is thrown. However, if you assign a value to the index that does not exist, MATLAB will add that number to the specified index and all the intermediate indices will be filled with zeros."
   ]
  },
  {
   "cell_type": "markdown",
   "metadata": {},
   "source": [
    "You can assign multiple elements of a vector to the same value simultaneously by indexing with a second vector. For instance, the following code uses an indexing vector to change the second and fourth elements of v to 0.\n",
    "```\n",
    "v = [1 2 3 4 5];\n",
    "v([2 4]) = 0\n",
    ">>[1 0 3 0 5]```"
   ]
  },
  {
   "cell_type": "markdown",
   "metadata": {},
   "source": [
    "If you want to remove elements from a vector, you can do so by assigning:\n",
    "```\n",
    "v = [1 2 3 4 5];\n",
    "v([2 4]) = []\n",
    ">>[1 3 5]\n",
    "```"
   ]
  },
  {
   "cell_type": "markdown",
   "metadata": {},
   "source": [
    "## Data From Matrices"
   ]
  },
  {
   "cell_type": "markdown",
   "metadata": {},
   "source": [
    "To extract an entire row or column from an array, you can use :.\n",
    "\n",
    "`x = M(:,colNum);`\n",
    "\n",
    "The above code extracts a column from M."
   ]
  },
  {
   "cell_type": "markdown",
   "metadata": {},
   "source": [
    "If you wanted to extract multiple rows or columns, you can index using a vector containing those index values. For example, both lines of the following code will extract the first three rows of `price`:\n",
    "```\n",
    "firstThree = price(1:3,:);\n",
    "firstThree = price([1 2 3],:);\n",
    "```"
   ]
  },
  {
   "cell_type": "markdown",
   "metadata": {},
   "source": [
    "# Mathematical Operations"
   ]
  },
  {
   "cell_type": "markdown",
   "metadata": {},
   "source": [
    "MATLAB has two types of mathematical operations:\n",
    "1. Matrix operations\n",
    "2. Element-wise operations"
   ]
  },
  {
   "cell_type": "markdown",
   "metadata": {},
   "source": [
    "The matrix operations, like multpliplication, division and exponentiation, are performed using the `*`, `/` and `^` operators, respectively. Their element-wise equivalents are the `.*`, `./` and `.^` operators."
   ]
  },
  {
   "cell_type": "markdown",
   "metadata": {},
   "source": [
    "## Implicit Expansions"
   ]
  },
  {
   "cell_type": "markdown",
   "metadata": {},
   "source": [
    "MATLAB has inbuilt support for expansion. When necessary, MATLAB expands the dimensions of a matrix to perform the operation."
   ]
  },
  {
   "cell_type": "markdown",
   "metadata": {},
   "source": [
    "![](images/01_06.png)"
   ]
  },
  {
   "cell_type": "markdown",
   "metadata": {},
   "source": [
    "In the image above, a scalar is expanded to a matrix of the same size as the matrix to facilitate the operation."
   ]
  },
  {
   "cell_type": "markdown",
   "metadata": {},
   "source": [
    "![](images/01_07.png)"
   ]
  },
  {
   "cell_type": "markdown",
   "metadata": {},
   "source": [
    "The same is happening here. The column vector is expanded to a matrix of the same size as the matrix to make the operation work."
   ]
  },
  {
   "cell_type": "markdown",
   "metadata": {},
   "source": [
    "> MATLAB will expand an array along any dimension of length 1 to match the dimension of the other array. "
   ]
  },
  {
   "cell_type": "markdown",
   "metadata": {},
   "source": [
    "MATLAB's implicit expansion may give some unexpected results. For example, trying to add a row vector to a column vector will return a matrix of size $n\\times n$ where $n$ is the length of the row vector."
   ]
  },
  {
   "cell_type": "markdown",
   "metadata": {},
   "source": [
    "![](images/01_08.png)"
   ]
  },
  {
   "cell_type": "markdown",
   "metadata": {},
   "source": []
  }
 ],
 "metadata": {
  "language_info": {
   "name": "python"
  },
  "orig_nbformat": 4
 },
 "nbformat": 4,
 "nbformat_minor": 2
}
