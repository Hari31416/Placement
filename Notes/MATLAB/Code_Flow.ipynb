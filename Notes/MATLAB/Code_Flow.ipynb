{
 "cells": [
  {
   "cell_type": "markdown",
   "metadata": {},
   "source": [
    "<h3 style=\"color:#48d96e\">For a quick reference, follow the <a href=\"https://matlabacademy.mathworks.com/artifacts/quick-reference.html?course=mlbe&release=R2022a&language=en&\">link</a>.</h3>"
   ]
  },
  {
   "cell_type": "markdown",
   "metadata": {},
   "source": [
    "<h2 id=\"Contents\">Contents<a href=\"#Contents\"></a></h2>\n",
    "        <ol><li><a class=\"\" href=\"#Logical-Operators\">Logical Operators</a></li>\n",
    "<ol><li><a class=\"\" href=\"#The-switch-case-Construction\">The switch-case Construction</a></li>\n",
    "</ol><li><a class=\"\" href=\"#Loops\">Loops</a></li>\n",
    "<ol><li><a class=\"\" href=\"#for-Loop\">for Loop</a></li>\n",
    "<li><a class=\"\" href=\"#while-Loop\">while Loop</a></li>\n",
    "</ol><li><a class=\"\" href=\"#Function\">Function</a></li>\n",
    "<ol><li><a class=\"\" href=\"#Local-Functions\">Local Functions</a></li>\n",
    "<li><a class=\"\" href=\"#Function-Files\">Function Files</a></li>\n",
    "<li><a class=\"\" href=\"#MATALB-Calling-Precedence\">MATALB Calling Precedence</a></li>\n",
    "</ol>"
   ]
  },
  {
   "cell_type": "markdown",
   "metadata": {},
   "source": [
    "# Logical Operators"
   ]
  },
  {
   "cell_type": "markdown",
   "metadata": {},
   "source": [
    "The keywords used in MATLAB are `if`, `elseif` and `else`. A logical statement must end with the keyword `end`. For example:\n",
    "\n",
    "```\n",
    "if condition1\n",
    "    code\n",
    "elseif condition2\n",
    "    code\n",
    "elseif condition3\n",
    "    code\n",
    "else\n",
    "    code\n",
    "end\n",
    "```"
   ]
  },
  {
   "cell_type": "markdown",
   "metadata": {},
   "source": [
    "## The `switch-case` Construction"
   ]
  },
  {
   "cell_type": "markdown",
   "metadata": {},
   "source": [
    "If there is a finite set of discrete possible values for a variable (e.g., a set of menu options or the number of dimensions of an array), you can use the `switch-case` construction in place of an `if-elseif-else` construction.\n",
    "\n",
    "![](images/02_01.png)"
   ]
  },
  {
   "cell_type": "markdown",
   "metadata": {},
   "source": [
    "The syntax is:\n",
    "```\n",
    "switch expression\n",
    "    case value_1\n",
    "        code_1\n",
    "    case value_2\n",
    "        code_2\n",
    "    otherwise\n",
    "        code_3\n",
    "end\n",
    "```"
   ]
  },
  {
   "cell_type": "markdown",
   "metadata": {},
   "source": [
    "The expression contains an `expression` that evaluates to a value. If `expression` equals `value_1`, then `code_1` is executed. Otherwise, the next case is tested. There can be any number of cases. If none of the cases are a match, then the code, `code_3`, in otherwise is executed. The otherwise block is optional."
   ]
  },
  {
   "cell_type": "markdown",
   "metadata": {},
   "source": [
    "A concrete example is:\n",
    "```\n",
    "switch x\n",
    "    case 1\n",
    "        disp(\"x is 1\")\n",
    "    case 2\n",
    "        disp(\"x is 2\")\n",
    "    otherwise\n",
    "        disp(\"x is neither 1 nor 2\")\n",
    "end\n",
    "```"
   ]
  },
  {
   "cell_type": "markdown",
   "metadata": {},
   "source": [
    "# Loops"
   ]
  },
  {
   "cell_type": "markdown",
   "metadata": {},
   "source": [
    "## `for` Loop"
   ]
  },
  {
   "cell_type": "markdown",
   "metadata": {},
   "source": [
    "One can use a `for` loop to iterate over a vector. The syntax is:\n",
    "\n",
    "```\n",
    "for i = 1:n\n",
    "    code\n",
    "end\n",
    "```"
   ]
  },
  {
   "cell_type": "markdown",
   "metadata": {},
   "source": [
    "The portion `1:n` creates a vector ranging from 1 to n and then the `for` loop iterates over this vector. Any other vector can also be used."
   ]
  },
  {
   "cell_type": "markdown",
   "metadata": {},
   "source": [
    "> If you don't know the size of the vector (or any array), you can use the `size` function to determine it. This will be useful when you want to iterate over an array."
   ]
  },
  {
   "cell_type": "markdown",
   "metadata": {},
   "source": [
    "![](images/02_02.png)"
   ]
  },
  {
   "cell_type": "markdown",
   "metadata": {},
   "source": [
    "## `while` Loop"
   ]
  },
  {
   "cell_type": "markdown",
   "metadata": {},
   "source": [
    "The syntax for a `while` loop is similar to the for loop:\n",
    "```\n",
    "while condition\n",
    "    code\n",
    "end\n",
    "```\n"
   ]
  },
  {
   "cell_type": "markdown",
   "metadata": {},
   "source": [
    "# Function"
   ]
  },
  {
   "cell_type": "markdown",
   "metadata": {},
   "source": [
    "The syntax for defining a function is similar to the syntax for calling any MATLAB function with the keyword `function` at the beginning."
   ]
  },
  {
   "cell_type": "markdown",
   "metadata": {},
   "source": [
    "![](images/02_03.png)"
   ]
  },
  {
   "cell_type": "markdown",
   "metadata": {},
   "source": [
    "The general syntax is:\n",
    "```\n",
    "function [out1,out2,...] = fun_name(in1,in2,...)\n",
    "    code\n",
    "end\n",
    "```\n"
   ]
  },
  {
   "cell_type": "markdown",
   "metadata": {},
   "source": [
    "## Local Functions"
   ]
  },
  {
   "cell_type": "markdown",
   "metadata": {},
   "source": [
    "You can define local functions at the end of a script. Your script can call any local function defined within it. However, as the name implies, these functions are local to that script – they are not accessible from outside the script where they are defined. You cannot call a local function from the Command Window or another script or function."
   ]
  },
  {
   "cell_type": "markdown",
   "metadata": {},
   "source": [
    "## Function Files"
   ]
  },
  {
   "cell_type": "markdown",
   "metadata": {},
   "source": [
    "These are functions written in seperate file which can be accessed from the Command Window or another script or function. For this, write the function code as usual. The first line of code must be the function declaration, starting with the function keyword. The outputs should be assigned before the end of the function, which terminates with the end keyword. Note that the declaration must be the first line of executable code. This is what distinguishes a function file from a script."
   ]
  },
  {
   "cell_type": "markdown",
   "metadata": {},
   "source": [
    "Now, save the file. The file name must match the name of the function (given in the function declaration). A function can be in live (.mlx) or plain-text (.m) format. A function can also contain its own local functions, if desired. As always, these local functions are accessible only within the file. That is, they can be called only by the primary function. The primary function is always the first function in the file and its name matches the file name.\n",
    "\n",
    "The primary function can now be called from the Command Window, scripts, and functions.\n"
   ]
  },
  {
   "cell_type": "markdown",
   "metadata": {},
   "source": [
    "## MATALB Calling Precedence"
   ]
  },
  {
   "cell_type": "markdown",
   "metadata": {},
   "source": [
    "In MATLAB, there are rules for interpreting any named item. These rules are referred to as the function precedence order. Most of the common reference conflicts can be resolved using the following order:\n",
    "1. Variables\n",
    "2. Functions defined in the current script\n",
    "3. Files in the current folder\n",
    "4. Files on MATLAB search path"
   ]
  }
 ],
 "metadata": {
  "language_info": {
   "name": "python"
  },
  "orig_nbformat": 4
 },
 "nbformat": 4,
 "nbformat_minor": 2
}
