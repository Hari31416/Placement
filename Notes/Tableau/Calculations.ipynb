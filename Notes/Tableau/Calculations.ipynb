{
 "cells": [
  {
   "cell_type": "markdown",
   "metadata": {},
   "source": [
    "<h2 id=\"Contents\">Contents<a href=\"#Contents\"></a></h2>\n",
    "        <ol>\n",
    "        <li><a class=\"\" href=\"#Tableau-Calculation\">Tableau Calculation</a></li>\n",
    "<ol><li><a class=\"\" href=\"#Functions\">Functions</a></li>\n",
    "<ol><li><a class=\"\" href=\"#Number-Functions\">Number Functions</a></li>\n",
    "<li><a class=\"\" href=\"#String-Functions\">String Functions</a></li>\n",
    "<li><a class=\"\" href=\"#Date-Functions\">Date Functions</a></li>\n",
    "<li><a class=\"\" href=\"#Logical-Functions\">Logical Functions</a></li>\n",
    "<li><a class=\"\" href=\"#Aggregate-Functions\">Aggregate Functions</a></li>\n",
    "</ol><li><a class=\"\" href=\"#Tableau-Table-Calculations\">Tableau Table Calculations</a></li>\n",
    "<li><a class=\"\" href=\"#Tableau-LOD-Expressions\">Tableau LOD Expressions</a></li>\n",
    "</ol>"
   ]
  },
  {
   "cell_type": "markdown",
   "metadata": {},
   "source": [
    "# Tableau Calculation"
   ]
  },
  {
   "cell_type": "markdown",
   "metadata": {},
   "source": [
    "There are four necessary components to the calculation in Tableau:"
   ]
  },
  {
   "cell_type": "markdown",
   "metadata": {},
   "source": [
    "<ol class=\"points\">\n",
    "<li><strong>Function:</strong> Function statements are used to transform the values or members in a field.<br>\n",
    "<strong>For Example:</strong> The format of all functions in Tableau such as SUM (expression).</li>\n",
    "<li><strong>Fields:</strong> Field is dimensions and measures from your data source.<br>\n",
    "<strong>For Example:</strong> A field in a calculation is often surrounded by brackets [ ] such as [Sales].</li>\n",
    "<li><strong>Operators:</strong> Operator is a symbol that denotes an operation between the operands.<br>\n",
    "<strong>For Example:</strong> The types of operators you can use in Tableau calculations, as well as the order they are performed in a formula such as +, -, *, /, %, ==, =, &gt;, &lt;, &gt;=, &lt;=, ! =, &lt;&gt;, ^, AND, OR, NOT, ( )</li>\n",
    "<li><strong>Literal Expression:</strong> Literals expression are represent the constant values \"as is\" such as \"profitable\" and \"unprofitable\".<br>\n",
    "<strong>For Example:</strong> See the below calculation</li>\n",
    "</ol>"
   ]
  },
  {
   "cell_type": "markdown",
   "metadata": {},
   "source": [
    "Let's see the below example:\n",
    "\n",
    "    IF [Profit per Day] > 5000 THEN\"Highly Profitable\"  \n",
    "    ELSEIF [Profit per Day] <= 0 THEN\"Unprofitable\"  \n",
    "    ELSE \"Profitable\"  \n",
    "    END "
   ]
  },
  {
   "cell_type": "markdown",
   "metadata": {},
   "source": [
    "The component of the above calculation can be further divided into the following:"
   ]
  },
  {
   "cell_type": "markdown",
   "metadata": {},
   "source": [
    "<ol class=\"points\" type=\"I\">\n",
    "<li><strong>Functions:</strong> IF, THEN, ELSEIF, ELSE, and END.</li>\n",
    "<li><strong>Field:</strong> Profit per Day.</li>\n",
    "<li><strong>Operators:</strong> &gt; and &lt;=.</li>\n",
    "<li><strong>Literal Expression</strong>\n",
    "<ul class=\"points\">\n",
    "<li><strong>String Literals:</strong> \"Highly Profitable\", \"Unprofitable\", and \"Profitable\".</li>\n",
    "<li><strong>Numeric Literals:</strong> 5000, and 0.</li>\n",
    "</ul></li>\n",
    "</ol>"
   ]
  },
  {
   "cell_type": "markdown",
   "metadata": {},
   "source": [
    "Here is some important point for literal expression syntax:\n",
    "\n",
    "<ul class=\"points\">\n",
    "<li>Numeric literals are written as numbers.<br>\n",
    "<strong>Example:</strong> 27 or 1.3567</li>\n",
    "<li>String literals are written with quotation marks.<br>\n",
    "<strong>Example:</strong> \"profitable.\" </li>\n",
    "<li>Date literals are written with the # symbol.<br>\n",
    "<strong>Example:</strong> # June 8, 2018 #</li>\n",
    "<li>Boolean literals are written as either true or false.<br>\n",
    "<strong>Example:</strong> \"True\" or \"False\"</li>\n",
    "<li>Null literals are written as null.<br>\n",
    "<strong>Example:</strong> \"NULL\"</li>\n",
    "</ul>"
   ]
  },
  {
   "cell_type": "markdown",
   "metadata": {},
   "source": [
    "There are some more important points for the calculation in Tableau:\n",
    "<ol class=\"points\">\n",
    "<li><strong>Parameters:</strong> Parameter is a placeholder variable that can be inserted into calculations to replace the constant values.<br>\n",
    "A parameter in a calculation is surrounded by brackets [ ].<br>\n",
    "<strong>For Example:</strong> [Profit Bin Size]</li>\n",
    "<li><strong>Comments:</strong> Comment is defined as the notes about a calculation or its parts, but comments not included in the computation of the calculation.<br>\n",
    "To enter a comment in a calculation, use two forward slashes //.<br>\n",
    "<strong>For Example</strong></li>\n",
    "</ol>"
   ]
  },
  {
   "cell_type": "markdown",
   "metadata": {},
   "source": [
    "## Functions"
   ]
  },
  {
   "cell_type": "markdown",
   "metadata": {},
   "source": [
    "Tableau has many built in functions for numbers, strings and dates as well as aggregate functions. The following are some of the most commonly used functions:"
   ]
  },
  {
   "cell_type": "markdown",
   "metadata": {},
   "source": [
    "### Number Functions"
   ]
  },
  {
   "cell_type": "markdown",
   "metadata": {},
   "source": [
    "<ul class=\"points\">\n",
    "<li><strong>Ceiling (Number):</strong> It rounds a number to the nearest integer of equal or greater values.<br>\n",
    "<strong>Example:</strong> CEILING (4.155) = 5</li>\n",
    "<li><strong>Power (Number, Power):</strong> It raises the number to the specified power.<br>\n",
    "<strong>Example:</strong> POWER (2^3) = 8</li>\n",
    "<li><strong>Round (Number, Decimals):</strong> It rounds the number to a specified number of digits.<br>\n",
    "<strong>Example:</strong> ROUND (5.14522) = 5.14</li>\n",
    "</ul>"
   ]
  },
  {
   "cell_type": "markdown",
   "metadata": {},
   "source": [
    "### String Functions"
   ]
  },
  {
   "cell_type": "markdown",
   "metadata": {},
   "source": [
    "<ul class=\"points\">\n",
    "<li><strong>LEN (String):</strong> LEN string returns the length of the string.<br>\n",
    "<strong>Example:</strong> LEN (\"Tableau\") = 7</li>\n",
    "<li><strong>LTrim (String):</strong> It returns a string that contains a copy of the specified string with no leading (LTrim) or trailing (RTrim) spaces.<br>\n",
    "<strong>Example:</strong> LTrim (\" Tableau \") = \"Tableau\"</li>\n",
    "<li><strong>REPLACE (String, Substring Replacement):</strong> It searches the string for substring and replaces it. If the substring is not found, that string is not changed.<br>\n",
    "<strong>Example:</strong> REPLACE (\"Green yellow Green\", \"yellow\", \"Red\") = \"Green Red Green\"</li>\n",
    "<li><strong>UPPER (String):</strong> It returns the string with all uppercase characters.<br>\n",
    "<strong>Example:</strong> UPPER (\"Tableau\") = \"TABLEAU\"</li>\n",
    "</ul>"
   ]
  },
  {
   "cell_type": "markdown",
   "metadata": {},
   "source": [
    "### Date Functions"
   ]
  },
  {
   "cell_type": "markdown",
   "metadata": {},
   "source": [
    "<ul class=\"points\">\n",
    "<li><strong>DATEADD (date_part, increment, date):</strong> It's added an increment to the date. The type of increment is specified in the date_part.<br>\n",
    "<strong>Example:</strong> DATEADD ('month', 5, #2018-06-15#) = 2018-11-15 01:00:00 AM</li>\n",
    "<li><strong>DATENAME (date_part, date, start_of_week):</strong> It returns <strong>date_part</strong> of date as a string. And the <strong>start_of_week</strong> parameter is optional.<br>\n",
    "<strong>Example:</strong> DATENAME ('month', #2018-03-15#) = \"March\"</li>\n",
    "<li><strong>DAY (date):</strong> It returns the day of the given date in integer form.<br>\n",
    "<strong>Example:</strong> DAY (#2018-04-12#) = 12</li>\n",
    "<li><strong>NOW ():</strong> It returns the current time and date.<br>\n",
    "<strong>Example:</strong> NOW ( ) = 2018-04-15 1:08:21 PM</li>\n",
    "</ul>"
   ]
  },
  {
   "cell_type": "markdown",
   "metadata": {},
   "source": [
    "### Logical Functions"
   ]
  },
  {
   "cell_type": "markdown",
   "metadata": {},
   "source": [
    "<ul class=\"points\">\n",
    "<li><strong>IFNULL (expression1, expression2):</strong> If the result is not null, then <strong>IFNULL</strong> function returns the first expression, and if it is null, then it returns the second expression.<br>\n",
    "<strong>Example:</strong> IFNULL ([Sales], 0) = [Sales]</li>\n",
    "<li><strong>ISDATE (string):</strong> If the string argument can be converted to a date, the ISDATE function returns TRUE, and if it cannot, it returns FALSE.<br>\n",
    "<strong>Example:</strong> ISDATE (\"12/06/99\") = \"TRUE\"<br>\n",
    "&nbsp; &nbsp; &nbsp; &nbsp; &nbsp; &nbsp; &nbsp; &nbsp; &nbsp; ISDATE (\"14/06/99\") = \"FALSE\"</li>\n",
    "<li><strong>MIN (expression):</strong> The MIN function returns the minimum result for each record.</li>\n",
    "</ul>"
   ]
  },
  {
   "cell_type": "markdown",
   "metadata": {},
   "source": [
    "### Aggregate Functions"
   ]
  },
  {
   "cell_type": "markdown",
   "metadata": {},
   "source": [
    "<ul class=\"points\">\n",
    "<li><strong>AVG (expression):</strong> It returns the average of all the values in the expression. AVG is used only with numeric fields. And the Null values are ignored.</li>\n",
    "<li><strong>COUNT (expression):</strong> It returns the number of items in a group. And the Null values are not counted.</li>\n",
    "<li><strong>MEDIAN (expression):</strong> It returns the median of an expression over all records. Median can only be used with numeric fields, and Null values are ignored.</li>\n",
    "<li><strong>STDEV (expression):</strong> It returns the statistical standard deviation of all values in the given expression based on a sample of the population.</li>\n",
    "</ul>"
   ]
  },
  {
   "cell_type": "markdown",
   "metadata": {},
   "source": [
    "## Tableau Table Calculations"
   ]
  },
  {
   "cell_type": "markdown",
   "metadata": {},
   "source": [
    "Table calculation is a special type of calculated field that computes on the local data in Tableau. These calculations are applied to the values of the entire table, not on the some selected rows or columns. Table calculations are used for a variety of purposes, such as:\n",
    "- Transforming values to rankings.\n",
    "- Transforming values to show running totals.\n",
    "- Transforming values to show the percent of the total."
   ]
  },
  {
   "cell_type": "markdown",
   "metadata": {},
   "source": [
    "The table has a feature known as \"Quick Table Calculations\", which is used to create such calculations."
   ]
  },
  {
   "cell_type": "markdown",
   "metadata": {},
   "source": [
    "## Tableau LOD Expressions"
   ]
  },
  {
   "cell_type": "markdown",
   "metadata": {},
   "source": [
    "LOD (level of Details) expression is used to run complex queries involving many dimensions at the data sources instead of bringing all the data to the Tableau interface. There are three types of LOD expressions in the Tableau."
   ]
  },
  {
   "cell_type": "markdown",
   "metadata": {},
   "source": [
    "<ul class=\"points\">\n",
    "<li><strong>FIXED LOD:</strong> This LOD expression computes the values using the specified dimensions without reference to any other dimensions in the view.</li>\n",
    "<li><strong>INCLUDE LOD:</strong> This LOD expression computes the values using the specified dimensions with any other dimensions in the view.</li>\n",
    "<li><strong>EXCLUDE LOD:</strong> These LOD expressions subtract dimensions from the view level of detail.</li>\n",
    "</ul>"
   ]
  }
 ],
 "metadata": {
  "kernelspec": {
   "display_name": "Python 3.9.12 ('data-science')",
   "language": "python",
   "name": "python3"
  },
  "language_info": {
   "name": "python",
   "version": "3.9.12"
  },
  "orig_nbformat": 4,
  "vscode": {
   "interpreter": {
    "hash": "2efee1efa502125d01e6b4768ba06d9453d29f3642bfd14ad5d4a769de82e88c"
   }
  }
 },
 "nbformat": 4,
 "nbformat_minor": 2
}
