{
 "cells": [
  {
   "cell_type": "markdown",
   "metadata": {},
   "source": [
    "<h2 id=\"Contents\">Contents<a href=\"#Contents\"></a></h2>\n",
    "        <ol>\n",
    "        <li><a class=\"\" href=\"#What-Is-Tableau?\">What Is Tableau?</a></li>\n",
    "<ol><li><a class=\"\" href=\"#Some-Terminology\">Some Terminology</a></li>\n",
    "</ol><li><a class=\"\" href=\"#Concepts\">Concepts</a></li>\n",
    "<ol><li><a class=\"\" href=\"#Data-Type\">Data Type</a></li>\n",
    "<ol><li><a class=\"\" href=\"#Dimension\">Dimension</a></li>\n",
    "<li><a class=\"\" href=\"#Measure\">Measure</a></li>\n",
    "<li><a class=\"\" href=\"#Data-type-icons-in-Tableau\">Data type icons in Tableau</a></li>\n",
    "<li><a class=\"\" href=\"#Continuous-and-Discrete\">Continuous and Discrete</a></li>\n",
    "</ol>"
   ]
  },
  {
   "cell_type": "markdown",
   "metadata": {},
   "source": [
    "# What Is Tableau?"
   ]
  },
  {
   "cell_type": "markdown",
   "metadata": {},
   "source": [
    "Tableau Software is an American interactive data visualization software company focused on business intelligence. \n",
    "\n",
    "Tableau is a visual analytics platform transforming the way we use data to solve problems—empowering people and organizations to make the most of their data."
   ]
  },
  {
   "cell_type": "markdown",
   "metadata": {},
   "source": [
    "## Some Terminology"
   ]
  },
  {
   "cell_type": "markdown",
   "metadata": {},
   "source": [
    "<table class=\"table table-bordered\">\n",
    "<tbody><tr>\n",
    "<th style=\"text-align:center;\">S.No</th>\n",
    "<th style=\"text-align:center;\">Terms &amp; Meaning</th>\n",
    "</tr>\n",
    "<tr>\n",
    "<td style=\"text-align:center; vertical-align:middle;\">1</td>\n",
    "<td><p><b>Alias</b></p>\n",
    "<p>An alternative name that you can assign to a field or to a dimension member.</p></td>\n",
    "</tr>\n",
    "<tr>\n",
    "<td style=\"text-align:center; vertical-align:middle;\">2</td>\n",
    "<td><p><b>Bin</b></p>\t\n",
    "<p>A user-defined grouping of measures in the data source.</p></td>\n",
    "</tr>\n",
    "<tr>\n",
    "<td style=\"text-align:center; vertical-align:middle;\">3</td>\n",
    "<td><p><b>Bookmark</b></p>\n",
    "<p>A <b>.tbm</b> file in the Bookmarks folder in the Tableau repository that contains a single worksheet. Much like web browser bookmarks, <b>.tbm</b> files are a convenient way to quickly display different analyses.</p></td>\n",
    "</tr>\n",
    "<tr>\n",
    "<td style=\"text-align:center; vertical-align:middle;\">4</td>\n",
    "<td><p><b>Calculated Field</b></p>\n",
    "<p>A new field that you create by using a formula to modify the existing fields in your data source.</p></td>\n",
    "</tr>\n",
    "<tr>\n",
    "<td style=\"text-align:center; vertical-align:middle;\">5</td>\n",
    "<td><p><b>Crosstab</b></p>\n",
    "<p>A text table view. Use text tables to display the numbers associated with dimension members.</p></td>\n",
    "</tr>\n",
    "<tr>\n",
    "<td style=\"text-align:center; vertical-align:middle;\">6</td>\n",
    "<td><p><b>Dashboard</b></p>\n",
    "<p>A combination of several views arranged on a single page. Use dashboards to compare and monitor a variety of data simultaneously.</p></td>\n",
    "</tr>\n",
    "<tr>\n",
    "<td style=\"text-align:center; vertical-align:middle;\">7</td>\n",
    "<td><p><b>Data Pane</b></p>\n",
    "<p>A pane on the left side of the workbook that displays the fields of the data sources to which Tableau is connected. The fields are divided into dimensions and measures. The data pane also displays custom fields such as calculations, binned fields, and groups. You build views of your data by dragging fields from the data pane onto the various shelves that are a part of every worksheet.</p></td>\n",
    "</tr>\n",
    "<tr>\n",
    "<td style=\"text-align:center; vertical-align:middle;\">8</td>\n",
    "<td><p><b>Data Source Page</b></p>\n",
    "<p>A page where you can set up your data source. The data source page generally consists of four main areas − left pane, join area, preview area, and metadata area.</p></td>\n",
    "</tr>\n",
    "<tr>\n",
    "<td style=\"text-align:center; vertical-align:middle;\">9</td>\n",
    "<td><p><b>Dimension</b></p>\n",
    "<p>A field of categorical data. Dimensions typically hold discrete data such as hierarchies and members that cannot be aggregated. Examples of dimensions include dates, customer names, and customer segments.</p></td>\n",
    "</tr>\n",
    "<tr>\n",
    "<td style=\"text-align:center; vertical-align:middle;\">10</td>\n",
    "<td><p><b>Extract</b></p>\n",
    "<p>A saved subset of a data source that you can use to improve performance and analyze offline. You can create an extract by defining filters and limits that include the data you want in the extract.</p></td>\n",
    "</tr>\n",
    "<tr>\n",
    "<td style=\"text-align:center; vertical-align:middle;\">11</td>\n",
    "<td><p><b>Filters Shelf</b></p>\n",
    "<p>A shelf on the left of the workbook that you can use to exclude data from a view by filtering it using measures and dimensions.</p></td>\n",
    "</tr>\n",
    "<tr>\n",
    "<td style=\"text-align:center; vertical-align:middle;\">12</td>\n",
    "<td><p><b>Format Pane</b></p>\n",
    "<p>A pane that contains formatting settings that control the entire worksheet, as well as individual fields in the view. When open, the Format pane appears on the left side of the workbook.</p></td>\n",
    "</tr>\n",
    "<tr>\n",
    "<td style=\"text-align:center; vertical-align:middle;\">13</td>\n",
    "<td><p><b>Level Of Detail (LOD) Expression</b></p>\n",
    "<p>A syntax that supports aggregation at dimensionalities other than the view level. With the level of detail expressions, you can attach one or more dimensions to any aggregate expression.</p></td>\n",
    "</tr>\n",
    "<tr>\n",
    "<td style=\"text-align:center; vertical-align:middle;\">14</td>\n",
    "<td><p><b>Marks</b></p>\n",
    "<p>A part of the view that visually represents one or more rows in a data source. A mark can be, for example, a bar, line, or square. You can control the type, color, and size of marks.</p></td>\n",
    "</tr>\n",
    "<tr>\n",
    "<td style=\"text-align:center; vertical-align:middle;\">15</td>\n",
    "<td><p><b>Marks Card</b></p>\n",
    "<p>A card to the left of the view, where you can drag fields to control mark properties such as type, color, size, shape, label, tooltip, and detail.</p></td>\n",
    "</tr>\n",
    "<tr>\n",
    "<td style=\"text-align:center; vertical-align:middle;\">16</td>\n",
    "<td><p><b>Pages Shelf</b></p>\n",
    "<p>A shelf to the left of the view that you can use to split a view into a sequence of pages based on the members and values in a discrete or continuous field. Adding a field to the Pages shelf is like adding a field to the Rows shelf, except that a new page is created for each new row.</p></td>\n",
    "</tr>\n",
    "<tr>\n",
    "<td style=\"text-align:center; vertical-align:middle;\">17</td>\n",
    "<td><p><b>Rows Shelf</b></p>\n",
    "<p>A shelf at the top of the workbook that you can use to create the rows of a data table. The shelf accepts any number of dimensions and measures. When you place a dimension on the Rows shelf, Tableau creates headers for the members of that dimension. When you place a measure on the Rows shelf, Tableau creates quantitative axes for that measure.</p></td>\n",
    "</tr>\n",
    "<tr>\n",
    "<td style=\"text-align:center; vertical-align:middle;\">18</td>\n",
    "<td><p><b>Shelves</b></p>\n",
    "<p>Named areas to the left and top of the view. You build views by placing fields onto the shelves. Some shelves are available only when you select certain mark types. For example, the Shape shelf is available only when you select the Shape mark type.</p></td>\n",
    "</tr>\n",
    "<tr>\n",
    "<td style=\"text-align:center; vertical-align:middle;\">19</td>\n",
    "<td><p><b>Workbook</b></p>\n",
    "<p>A file with a <b>.twb</b> extension that contains one or more worksheets (and possibly also dashboards and stories).</p></td>\n",
    "</tr>\n",
    "<tr>\n",
    "<td style=\"text-align:center; vertical-align:middle;\">20</td>\n",
    "<td><p><b>Worksheet</b></p>\n",
    "<p>A sheet where you build views of your data by dragging fields onto shelves.</p></td>\n",
    "</tr>\n",
    "</tbody></table>"
   ]
  },
  {
   "cell_type": "markdown",
   "metadata": {},
   "source": [
    "![](0101.jpg)"
   ]
  },
  {
   "cell_type": "markdown",
   "metadata": {},
   "source": [
    "# Concepts"
   ]
  },
  {
   "cell_type": "markdown",
   "metadata": {},
   "source": [
    "## Data Type"
   ]
  },
  {
   "cell_type": "markdown",
   "metadata": {},
   "source": [
    "Tableau classifies every field in a dataset in mainly two categories −\n",
    "\n",
    "  * Dimension\n",
    "  * Measure"
   ]
  },
  {
   "cell_type": "markdown",
   "metadata": {},
   "source": [
    "### Dimension"
   ]
  },
  {
   "cell_type": "markdown",
   "metadata": {},
   "source": [
    "By default, Tableau classifies qualitative fields and dates as\n",
    "dimensions. Dimensions are considered independent because\n",
    "some information about them is inherent. For example, the\n",
    "Category dimension in the Sample – Superstore dataset con‐\n",
    "tains three dimension members: Furniture, Office Supplies,\n",
    "and Technology."
   ]
  },
  {
   "cell_type": "markdown",
   "metadata": {},
   "source": [
    "Dimensions contain qualitative values (such as names, dates, or geographical data). You can use dimensions to categorize, segment, and reveal the details in your data. Dimensions affect the level of detail in the view.\n",
    "\n"
   ]
  },
  {
   "cell_type": "markdown",
   "metadata": {},
   "source": [
    "### Measure"
   ]
  },
  {
   "cell_type": "markdown",
   "metadata": {},
   "source": [
    "By default, Tableau classifies quantitative fields as measures.\n",
    "Measures are considered dependent because they tell us very\n",
    "little on their own. "
   ]
  },
  {
   "cell_type": "markdown",
   "metadata": {},
   "source": [
    "Measures contain numeric, quantitative values that you can measure. Measures can be aggregated. When you drag a measure into the view, Tableau applies an aggregation to that measure (by default)"
   ]
  },
  {
   "cell_type": "markdown",
   "metadata": {},
   "source": [
    "But you can change the classification of a field by right-clicking\n",
    "the field and selecting the appropriate option from the\n",
    "context menu."
   ]
  },
  {
   "cell_type": "markdown",
   "metadata": {},
   "source": [
    ">A quick rule of thumb to help you determine whether a\n",
    "measure should ever be reclassified as a dimension is to ask\n",
    "yourself, “Would it ever make sense to add these numbers\n",
    "up?” In the case of Customer Number, for example, it\n",
    "would not make sense to add Customer Number 1, to 2, to\n",
    "3, to get to 6. Instead, I would start with a measure such as\n",
    "Profit, and break up that value by Customer Number to see\n",
    "how much profit I made per customer."
   ]
  },
  {
   "cell_type": "markdown",
   "metadata": {},
   "source": [
    "### Data type icons in Tableau"
   ]
  },
  {
   "cell_type": "markdown",
   "metadata": {},
   "source": [
    "![](0102.jpg)"
   ]
  },
  {
   "cell_type": "markdown",
   "metadata": {},
   "source": [
    "### Continuous and Discrete"
   ]
  },
  {
   "cell_type": "markdown",
   "metadata": {},
   "source": [
    "The second major way Tableau classifies every field being used\n",
    "on a view is called discrete versus continuous. This classification\n",
    "is what the blue and green color-coding throughout Tableau\n",
    "Desktop’s interfaces represent. Anytime you see blue, the field\n",
    "being used is discrete. Anytime you see green, the field being\n",
    "used is continuous."
   ]
  },
  {
   "cell_type": "markdown",
   "metadata": {},
   "source": [
    "Green measures  and dimensions  are continuous. Continuous field values are treated as an infinite range. Generally, continuous fields add axes to the view.\n",
    "\n",
    "Blue measures  and dimensions  are discrete. Discrete values are treated as finite. Generally, discrete fields add headers to the view.\n"
   ]
  },
  {
   "cell_type": "markdown",
   "metadata": {},
   "source": [
    "In the example on the left (below), because the Quantity field is set to Continuous, it creates a horizontal axis along the bottom of the view. The green background and the axis help you to see that it's a continuous field.\n",
    "\n",
    "In the example on the right, the Quantity field has been set to Discrete. It creates horizontal headers instead of an axis. The blue background and the horizontal headers help you to see that it's discrete."
   ]
  },
  {
   "cell_type": "markdown",
   "metadata": {},
   "source": [
    "![](https://help.tableau.com/current/pro/desktop/en-us/Img/cont_disct_1.png)\n",
    "![](https://help.tableau.com/current/pro/desktop/en-us/Img/cont_disct_2.png)"
   ]
  },
  {
   "cell_type": "markdown",
   "metadata": {},
   "source": []
  }
 ],
 "metadata": {
  "kernelspec": {
   "display_name": "Python 3.9.12 ('data-science')",
   "language": "python",
   "name": "python3"
  },
  "language_info": {
   "name": "python",
   "version": "3.9.12"
  },
  "orig_nbformat": 4,
  "vscode": {
   "interpreter": {
    "hash": "2efee1efa502125d01e6b4768ba06d9453d29f3642bfd14ad5d4a769de82e88c"
   }
  }
 },
 "nbformat": 4,
 "nbformat_minor": 2
}
