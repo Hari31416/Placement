{
 "cells": [
  {
   "attachments": {},
   "cell_type": "markdown",
   "metadata": {},
   "source": [
    "<h2 id=\"Contents\">Contents<a href=\"#Contents\"></a></h2>\n",
    "        <ol>\n",
    "        <li><a class=\"\" href=\"#Variables\">Variables</a></li>\n",
    "<ol><li><a class=\"\" href=\"#Discrete-Variables\">Discrete Variables</a></li>\n",
    "<ol><li><a class=\"\" href=\"#Ordinal-Variables\">Ordinal Variables</a></li>\n",
    "<li><a class=\"\" href=\"#Nominal-Variables\">Nominal Variables</a></li>\n",
    "</ol><li><a class=\"\" href=\"#Numerical-Varibales\">Numerical Varibales</a></li>\n",
    "<ol><li><a class=\"\" href=\"#Interval-Measurable-Variables\">Interval Measurable Variables</a></li>\n",
    "<li><a class=\"\" href=\"#Ratio-Measurable-Variables\">Ratio Measurable Variables</a></li>\n",
    "</ol></ol><li><a class=\"\" href=\"#Central-Tendency\">Central Tendency</a></li>\n",
    "<ol><li><a class=\"\" href=\"#The-Sample-Mean\">The Sample Mean</a></li>\n",
    "<li><a class=\"\" href=\"#The-Sample-Median\">The Sample Median</a></li>\n",
    "<li><a class=\"\" href=\"#Tha-Sample-Mode\">Tha Sample Mode</a></li>\n",
    "<li><a class=\"\" href=\"#Sensitivity-to-outliers\">Sensitivity to outliers</a></li>\n",
    "</ol><li><a class=\"\" href=\"#Spread\">Spread</a></li>\n",
    "<ol><li><a class=\"\" href=\"#Variance\">Variance</a></li>\n",
    "<li><a class=\"\" href=\"#Standard-Deviation\">Standard Deviation</a></li>\n",
    "<li><a class=\"\" href=\"#Skewness\">Skewness</a></li>\n",
    "<li><a class=\"\" href=\"#Kurtosis\">Kurtosis</a></li>\n",
    "<ol><li><a class=\"\" href=\"#Examples\">Examples</a></li>\n",
    "</ol><li><a class=\"\" href=\"#Sample-Quantiles\">Sample Quantiles</a></li>\n",
    "<li><a class=\"\" href=\"#Variance-of-Random-Variables\">Variance of Random Variables</a></li>\n",
    "<li><a class=\"\" href=\"#Probabilities-for-Normal-Distribution\">Probabilities for Normal Distribution</a></li>\n",
    "</ol><li><a class=\"\" href=\"#Sampling\">Sampling</a></li>\n",
    "<ol><li><a class=\"\" href=\"#Classification-of-Sampling-Techniques\">Classification of Sampling Techniques</a></li>\n",
    "<ol><li><a class=\"\" href=\"#Non-Probability-Sampling-Techniques\">Non-Probability Sampling Techniques</a></li>\n",
    "<ol><li><a class=\"\" href=\"#Convenience-sampling\">Convenience sampling</a></li>\n",
    "<li><a class=\"\" href=\"#Judgemental-sampling\">Judgemental sampling</a></li>\n",
    "<li><a class=\"\" href=\"#Quota-sampling\">Quota sampling</a></li>\n",
    "<li><a class=\"\" href=\"#Snowball-sampling\">Snowball sampling</a></li>\n",
    "</ol><li><a class=\"\" href=\"#Probability-sampling\">Probability sampling</a></li>\n",
    "<ol><li><a class=\"\" href=\"#Simple-random-sampling-(SRS)\">Simple random sampling (SRS)</a></li>\n",
    "<li><a class=\"\" href=\"#Systematic-sampling\">Systematic sampling</a></li>\n",
    "<li><a class=\"\" href=\"#Stratified-sampling\">Stratified sampling</a></li>\n",
    "<li><a class=\"\" href=\"#Cluster-sampling\">Cluster sampling</a></li>\n",
    "<li><a class=\"\" href=\"#Multistage-sampling\">Multistage sampling</a></li>\n",
    "</ol></ol></ol><li><a class=\"\" href=\"#Sampling-Distributions\">Sampling Distributions</a></li>\n",
    "<ol><li><a class=\"\" href=\"#Confidence-Intervals\">Confidence Intervals</a></li>\n",
    "<ol><li><a class=\"\" href=\"#Influences-on-the-margin-of-error\">Influences on the margin of error</a></li>\n",
    "<li><a class=\"\" href=\"#Confidence-coefficients\">Confidence coefficients</a></li>\n",
    "</ol>\n"
   ]
  },
  {
   "cell_type": "markdown",
   "metadata": {},
   "source": [
    "# Variables"
   ]
  },
  {
   "cell_type": "markdown",
   "metadata": {},
   "source": [
    "A variable is a characteristic that can be measured and that can assume different values."
   ]
  },
  {
   "cell_type": "markdown",
   "metadata": {},
   "source": [
    "There are mainly two types of variables:\n",
    "1. Discrete variables: variables that can assume only a finite number of values.\n",
    "2. Continuous variables: variables that can assume any value between a minimum and a maximum."
   ]
  },
  {
   "cell_type": "markdown",
   "metadata": {},
   "source": [
    "## Discrete Variables"
   ]
  },
  {
   "cell_type": "markdown",
   "metadata": {},
   "source": [
    "These are things you can count. Examples include the number of passengers on\n",
    "a flight and the number of telephone calls received each day in a call centre. Observed\n",
    "values for these will be $0, 1, 2, \\ldots$ (i.e. non-negative integers)."
   ]
  },
  {
   "cell_type": "markdown",
   "metadata": {},
   "source": [
    "These are also called the categorical variables. These can further be divided into two categories."
   ]
  },
  {
   "cell_type": "markdown",
   "metadata": {},
   "source": [
    "### Ordinal Variables"
   ]
  },
  {
   "cell_type": "markdown",
   "metadata": {},
   "source": [
    "An ordinal variable has a ranking scale in which numbers are assigned to cases to indicate\n",
    "the relative extent to which the cases possess some characteristic. It is possible to determine\n",
    "if a case has more or less of a characteristic than some other case, but not how much more or\n",
    "less.\n",
    "\n",
    "Any series of numbers can be assigned which preserves the ordered relationships between the\n",
    "cases. In addition to the counting operation possible with nominal variables, ordinal variables\n",
    "permit the use of statistics based on centiles such as percentiles, quartiles and the median."
   ]
  },
  {
   "cell_type": "markdown",
   "metadata": {},
   "source": [
    "Some examples of ordinal varaibles are:\n",
    "1. socio economic status (“low income”,”middle income”,”high income”)\n",
    "2.  education level (“high school”,”BS”,”MS”,”PhD”)\n",
    "3. income level (“less than 50K”, “50K-100K”, “over 100K”)\n",
    "4. satisfaction rating (“extremely dislike”, “dislike”, “neutral”, “like”, “extremely like”)"
   ]
  },
  {
   "cell_type": "markdown",
   "metadata": {},
   "source": [
    "### Nominal Variables"
   ]
  },
  {
   "cell_type": "markdown",
   "metadata": {},
   "source": [
    "A nominal variable does not have a ranking scale. The numbers (values) serve only as labels or tags for\n",
    "identifying and classifying cases. When used for identification, there is a strict one-to-one\n",
    "correspondence between the numbers and the cases. For example, your passport or driving\n",
    "licence number uniquely identifies you.\n",
    "\n",
    "Any numerical values do not reflect the amount of the characteristic possessed by the cases.\n",
    "Counting is the only arithmetic operation on values measured on a nominal scale, and hence\n",
    "only a very limited number of statistics, all of which are based on frequency counts, can be\n",
    "determined"
   ]
  },
  {
   "cell_type": "markdown",
   "metadata": {},
   "source": [
    "Some examples are:\n",
    "1. Gender (“male”, “female”)\n",
    "2. Identification Number\n",
    "3. Nationality\n",
    "4. Book Genre"
   ]
  },
  {
   "cell_type": "markdown",
   "metadata": {},
   "source": [
    "## Numerical Varibales"
   ]
  },
  {
   "cell_type": "markdown",
   "metadata": {},
   "source": [
    "These are things you can measure. Examples include height, weight and time\n",
    "which can be measured to several decimal places."
   ]
  },
  {
   "cell_type": "markdown",
   "metadata": {},
   "source": [
    "Numerical variables can be divided into two categories."
   ]
  },
  {
   "cell_type": "markdown",
   "metadata": {},
   "source": [
    "### Interval Measurable Variables"
   ]
  },
  {
   "cell_type": "markdown",
   "metadata": {},
   "source": [
    "Interval-level variables have scales where numerically equal distances on the scale represent\n",
    "equal value differences in the characteristic being measured. For example, if the temperatures\n",
    "on three days were 0, 10 and 20 degrees, then there is a constant 10-degree differential between\n",
    "0 and 10, and 10 and 20. This allows comparisons of differences between values. The location\n",
    "of the zero point is not fixed – both the zero point and the units of measurement are arbitrary.\n",
    "For example, temperature can be measured in different (arbitrary) units, such as degrees Celsius\n",
    "and degrees Fahrenheit.\n",
    "\n",
    "Any positive linear transformation of the form $y = a + bx$ will preserve the properties of\n",
    "the scale, hence it is not meaningful to take ratios of scale values. Statistical techniques which\n",
    "may be used include all of those which can be applied to nominal and ordinal variables. In\n",
    "addition statistics such as the mean and standard deviation are\n",
    "applicable.\n"
   ]
  },
  {
   "cell_type": "markdown",
   "metadata": {},
   "source": [
    "Some examples are:\n",
    "1. Temperature (degrees Celsius, degrees Fahrenheit)\n",
    "2. Mark Grading\n",
    "3. IQ Score"
   ]
  },
  {
   "cell_type": "markdown",
   "metadata": {},
   "source": [
    "### Ratio Measurable Variables"
   ]
  },
  {
   "cell_type": "markdown",
   "metadata": {},
   "source": [
    "Ratio-level variables possess all the properties of nominal, ordinal and interval variables. A\n",
    "ratio variable has an absolute zero point and it is meaningful to compute ratios of scale values.\n",
    "\n",
    "Only proportionate transformations of the form $y = bx$, where $b$ is a positive constant, are\n",
    "allowed. All statistical techniques can be applied to ratio data."
   ]
  },
  {
   "cell_type": "markdown",
   "metadata": {},
   "source": [
    "![](images/0201.png)"
   ]
  },
  {
   "cell_type": "markdown",
   "metadata": {},
   "source": [
    "# Central Tendency"
   ]
  },
  {
   "cell_type": "markdown",
   "metadata": {},
   "source": [
    "Descriptive statistics summarises (describe) one feature\n",
    "of the sample distribution in a single number: *summary (descriptive) statistics*. We begin with measures of central tendency. These answer the question: where is the\n",
    "‘centre’ or ‘average’ of the distribution?\n",
    "\n",
    "There are thre main types of central tendency measures:\n",
    "1. Mean: the average of the values in the sample.\n",
    "2. Median: the middle value in the sample.\n",
    "3. Mode: the value which occurs most often in the sample."
   ]
  },
  {
   "cell_type": "markdown",
   "metadata": {},
   "source": [
    "## The Sample Mean"
   ]
  },
  {
   "cell_type": "markdown",
   "metadata": {},
   "source": [
    "It is the ‘sum of the observations’ divided by the ‘number of observations’ (sample size)\n",
    "expressed as:\n",
    "$$\n",
    "\\bar{X} = \\frac{1}{n} \\sum_{i=1}^{n} X_i\n",
    "$$"
   ]
  },
  {
   "cell_type": "markdown",
   "metadata": {},
   "source": [
    "If a variable has a small number of distinct values, $\\bar{X}$ is easy to calculate from the frequency\n",
    "table. Suppose $X$ has $K$ different values $X_1, X_2, \\ldots , X_K$, with corresponding frequencies $f_1, f_2, \\ldots , f_K$. Then we have:\n",
    "$$\n",
    "\\bar{X} = \\frac{1}{n} \\sum_{i=1}^{K} f_i X_i\n",
    "$$"
   ]
  },
  {
   "cell_type": "markdown",
   "metadata": {},
   "source": [
    "By definition of mean, we can see that:\n",
    "$$\n",
    "\\sum_{i=1}^n(X_i-\\bar{X}) = 0\n",
    "$$"
   ]
  },
  {
   "cell_type": "markdown",
   "metadata": {},
   "source": [
    "Also, the smallest possible value of the sum of squared deviations $\\sum_{i=1}^n(X_i-C)^2$\n",
    "for any constant\n",
    "$C$ is obtained when $C=\\bar{X}$."
   ]
  },
  {
   "cell_type": "markdown",
   "metadata": {},
   "source": [
    "## The Sample Median"
   ]
  },
  {
   "cell_type": "markdown",
   "metadata": {},
   "source": [
    "Let $X_{(1)}, X_{(2)}, \\dots , X_{(n)}$ denote the sample values of $X$ when ordered from the smallest to the\n",
    "largest, known as the order statistics, such that:\n",
    "* $X_{(1)}$ is the smallest observed value (the minimum) of $X$\n",
    "* $X_{(n)}$\n",
    "is the largest observed value (the maximum) of $X$.\n"
   ]
  },
  {
   "cell_type": "markdown",
   "metadata": {},
   "source": [
    "The (sample) median, $q_{50}$, of a variable $X$ is the value which is ‘in the middle’ of the ordered\n",
    "sample.\n",
    "\n",
    "If $n$ is odd, then $q_{50} = X_{((n+1)/2)}$.\n",
    "\n",
    "If $n$ is even, then $q_{50} = (X_{(n/2)} + X_{(n/2+1)})/2$"
   ]
  },
  {
   "cell_type": "markdown",
   "metadata": {},
   "source": [
    "## Tha Sample Mode"
   ]
  },
  {
   "cell_type": "markdown",
   "metadata": {},
   "source": [
    "The (sample) mode of a variable is the value which has the highest frequency (i.e. appears\n",
    "most often) in the data."
   ]
  },
  {
   "cell_type": "markdown",
   "metadata": {},
   "source": [
    "## Sensitivity to outliers"
   ]
  },
  {
   "cell_type": "markdown",
   "metadata": {},
   "source": [
    "In general, the mean is affected much more than the median by outliers, i.e. unusually small\n",
    "or large observations. The median is less affected."
   ]
  },
  {
   "cell_type": "markdown",
   "metadata": {},
   "source": [
    "Due to its sensitivity to outliers, the mean, more than the median, is pulled toward the longer\n",
    "tail of the sample distribution.\n",
    "* For a positively-skewed distribution, the mean is larger than the median.\n",
    "* For a negatively-skewed distribution, the mean is smaller than the median.\n",
    "* For an exactly symmetric distribution, the mean and median are equal.\n"
   ]
  },
  {
   "cell_type": "markdown",
   "metadata": {},
   "source": [
    "# Spread"
   ]
  },
  {
   "cell_type": "markdown",
   "metadata": {},
   "source": [
    "Central tendency is not the whole story. Even if two distribution has the same mean, they can be very different. The two sample distributions shown below have the\n",
    "same mean, but they are clearly not the same. In one (red) the values have more dispersion\n",
    "(variation) than in the other"
   ]
  },
  {
   "cell_type": "markdown",
   "metadata": {},
   "source": [
    "![](images/0202.png)"
   ]
  },
  {
   "cell_type": "markdown",
   "metadata": {},
   "source": [
    "## Variance"
   ]
  },
  {
   "cell_type": "markdown",
   "metadata": {},
   "source": [
    "The sample variance of a variable $X$, denoted $S^2$ or $S_X^2$ is defined as:\n",
    "$$\n",
    "S^2 = \\frac{1}{n-1} \\sum_{i=1}^{n} (X_i - \\bar{X})^2\n",
    "$$"
   ]
  },
  {
   "cell_type": "markdown",
   "metadata": {},
   "source": [
    "## Standard Deviation"
   ]
  },
  {
   "cell_type": "markdown",
   "metadata": {},
   "source": [
    "The sample standard deviation of $X$, denoted $S$ (or $S_X$), is the positive square root of the\n",
    "sample variance:\n",
    "$$\n",
    "S = \\sqrt{\\frac{1}{n-1} \\sum_{i=1}^{n} (X_i - \\bar{X})^2}\n",
    "$$"
   ]
  },
  {
   "cell_type": "markdown",
   "metadata": {},
   "source": [
    "These are the most commonly-used measures of dispersion. The standard deviation is more\n",
    "understandable than the variance, because the standard deviation is expressed in the same\n",
    "units as $X$ (rather than the variance, which is expressed in squared units)."
   ]
  },
  {
   "cell_type": "markdown",
   "metadata": {},
   "source": [
    "A useful rule-of-thumb for interpretation is that for many symmetric distributions, such as the\n",
    "‘normal’ distribution:\n",
    "* about 2/3 of the observations are between $\\bar{X} −S$ and $\\bar{X} +S$, that is, within one (sample)\n",
    "standard deviation about the (sample) mean\n",
    "* about 95% of the observations are between $\\bar{X} −2S$ and $\\bar{X} +2S$, that is, within two\n",
    "(sample) standard deviations about the (sample) mean.\n"
   ]
  },
  {
   "cell_type": "markdown",
   "metadata": {},
   "source": [
    ">Standard deviations (and variances) are never negative, and they are zero only\n",
    "if all the $X_i$ observations are the same (that is, there is no variation in the data)."
   ]
  },
  {
   "attachments": {},
   "cell_type": "markdown",
   "metadata": {},
   "source": [
    "## Skewness"
   ]
  },
  {
   "attachments": {},
   "cell_type": "markdown",
   "metadata": {},
   "source": [
    "Skewness is a measure of symmetry, or more precisely, the lack of symmetry. A distribution, or data set, is symmetric if it looks the same to the left and right of the center point. The skewness of a univariate data is:\n",
    "$$\n",
    "\\gamma_1 = \\frac{m_3}{m_2^{3/2}}\n",
    "$$\n",
    "where $m_3$ is the third central moment and $m_2$ is the second central moment. Writing in terms of the sample mean and standard deviation:\n",
    "$$\n",
    "\\gamma_1 = \\frac{\\frac{1}{n} \\sum_{i=1}^{N} (X_i - \\bar{X})^3}{\\sigma^3}\n",
    "$$\n",
    "where $\\sigma$ is the sample standard deviation."
   ]
  },
  {
   "attachments": {},
   "cell_type": "markdown",
   "metadata": {},
   "source": [
    "The above formula for skewness is referred to as the Fisher-Pearson coefficient of skewness. Many software programs actually compute the adjusted Fisher-Pearson coefficient of skewness"
   ]
  },
  {
   "attachments": {},
   "cell_type": "markdown",
   "metadata": {},
   "source": [
    "$$\n",
    "\\gamma_{1} = \\frac{\\sqrt{N(N-1)}}{N-2}\n",
    "              \\frac{\\sum_{i=1}^{N}(Y_{i} - \\bar{Y})^{3}/N} {\\sigma^{3}}\n",
    "$$"
   ]
  },
  {
   "attachments": {},
   "cell_type": "markdown",
   "metadata": {},
   "source": [
    ">The skewness for a normal distribution is zero, and any symmetric data should have a skewness near zero. Negative values for the skewness indicate data that are skewed left and positive values for the skewness indicate data that are skewed right. By skewed left, we mean that the left tail is long relative to the right tail. Similarly, skewed right means that the right tail is long relative to the left tail. If the data are multi-modal, then this may affect the sign of the skewness."
   ]
  },
  {
   "attachments": {},
   "cell_type": "markdown",
   "metadata": {},
   "source": [
    "## Kurtosis"
   ]
  },
  {
   "attachments": {},
   "cell_type": "markdown",
   "metadata": {},
   "source": [
    "The kurtosis of a distribution is a measure of whether the data are heavy-tailed or light-tailed relative to a normal distribution. That is, data sets with high kurtosis tend to have heavy tails, or outliers. Data sets with low kurtosis tend to have light tails, or lack of outliers. A uniform distribution would be the extreme case. The kurtosis of a univariate data is:\n",
    "$$\n",
    "\\gamma_2 = \\frac{m_4}{m_2^2}\n",
    "$$\n",
    "where $m_4$ is the fourth central moment and $m_2$ is the second central moment. Writing in terms of the sample mean and standard deviation:\n",
    "$$\n",
    "\\gamma_2 = \\frac{\\frac{1}{n} \\sum_{i=1}^{N} (X_i - \\bar{X})^4}{\\sigma^4}\n",
    "$$\n",
    "where $\\sigma$ is the sample standard deviation."
   ]
  },
  {
   "attachments": {},
   "cell_type": "markdown",
   "metadata": {},
   "source": [
    "For a standard normal distribution, the kurtosis is 3. So, sometimes, kurtosis is measured relative to a normal distribution with kurtosis equal to 3. This is called the excess kurtosis. The excess kurtosis is:\n",
    "$$\n",
    "\\gamma_2 = \\frac{\\frac{1}{n} \\sum_{i=1}^{N} (X_i - \\bar{X})^4}{\\sigma^4} - 3\n",
    "$$"
   ]
  },
  {
   "attachments": {},
   "cell_type": "markdown",
   "metadata": {},
   "source": [
    ">Data sets with high kurtosis tend to have heavy tails, or outliers. Data sets with low kurtosis tend to have light tails, or lack of outliers. "
   ]
  },
  {
   "attachments": {},
   "cell_type": "markdown",
   "metadata": {},
   "source": [
    "### Examples"
   ]
  },
  {
   "attachments": {},
   "cell_type": "markdown",
   "metadata": {},
   "source": [
    "![](https://www.itl.nist.gov/div898/handbook/eda/section3/gif/skewness.gif)"
   ]
  },
  {
   "attachments": {},
   "cell_type": "markdown",
   "metadata": {},
   "source": [
    "The following example shows histograms for 10,000 random numbers generated from a normal, a double exponential, a Cauchy, and a Weibull distribution."
   ]
  },
  {
   "attachments": {},
   "cell_type": "markdown",
   "metadata": {},
   "source": [
    "1. The first histogram is a sample from a normal distribution. The normal distribution is a symmetric distribution with well-behaved tails. This is indicated by the skewness of 0.03. The kurtosis of 2.96 is near the expected value of 3. The histogram verifies the symmetry."
   ]
  },
  {
   "attachments": {},
   "cell_type": "markdown",
   "metadata": {},
   "source": [
    "2. The second histogram is a sample from a double exponential distribution. The double exponential is a symmetric distribution. Compared to the normal, it has a stronger peak, more rapid decay, and heavier tails. That is, we would expect a skewness near zero and a kurtosis higher than 3. The skewness is 0.06 and the kurtosis is 5.9.\n",
    "3. The Cauchy distribution is a symmetric distribution with heavy tails and a single peak at the center of the distribution. Since it is symmetric, we would expect a skewness near zero. Due to the heavier tails, we might expect the kurtosis to be larger than for a normal distribution. In fact the skewness is 69.99 and the kurtosis is 6,693. These extremely high values can be explained by the heavy tails. Just as the mean and standard deviation can be distorted by extreme values in the tails, so too can the skewness and kurtosis measures.\n",
    "4. The fourth histogram is a sample from a Weibull distribution with shape parameter 1.5. The Weibull distribution is a skewed distribution with the amount of skewness depending on the value of the shape parameter. The degree of decay as we move away from the center also depends on the value of the shape parameter. For this data set, the skewness is 1.08 and the kurtosis is 4.46, which indicates moderate skewness and kurtosis."
   ]
  },
  {
   "cell_type": "markdown",
   "metadata": {},
   "source": [
    "## Sample Quantiles"
   ]
  },
  {
   "cell_type": "markdown",
   "metadata": {},
   "source": [
    "The median, $q_{50}$, is basically the value which divides the sample into the smallest 50% of\n",
    "observations and the largest 50%. If we consider other percentage splits, we get other (sample)\n",
    "quantiles (percentiles), $q_c$. Some special quantiles are given below."
   ]
  },
  {
   "cell_type": "markdown",
   "metadata": {},
   "source": [
    "* The first quartile, $q_{25}$ or $Q_1$, is the value which divides the sample into the smallest\n",
    "25% of observations and the largest 75%.\n",
    "* The third quartile, $q_{75}$ or $Q_3$, gives the 75%–25% split.\n",
    "* The extremes in this spirit are the minimum, $X_{(1)}$ (the ‘0% quantile’, so to speak), and\n",
    "the maximum, $X_{(n)}$\n",
    "(the ‘100% quantile’)"
   ]
  },
  {
   "cell_type": "markdown",
   "metadata": {},
   "source": [
    "These are no longer ‘in the middle’ of the sample, but they are more general measures of\n",
    "location of the sample distribution. Two measures based on quantile-type statistics are the:\n",
    "* range: $X_{(n)} − X_{(1)} = \\text{maximum} − \\text{minimum}$\n",
    "* interquartile range (IQR): $\\text{IQR} = q_{75} − q_{25} = Q_3 − Q_1$.\n"
   ]
  },
  {
   "cell_type": "markdown",
   "metadata": {},
   "source": [
    "## Variance of Random Variables"
   ]
  },
  {
   "cell_type": "markdown",
   "metadata": {},
   "source": [
    "There are two types of variance:\n",
    "1. The population variance $\\text{Var}(X) = \\sigma^2$: the variance of the entire population.\n",
    "2. Sample variance $S^2$: the variance of a sample, or a subset of the population."
   ]
  },
  {
   "cell_type": "markdown",
   "metadata": {},
   "source": [
    "We already defined the sample variance above, given by:\n",
    "$$\n",
    "S^2 = \\frac{1}{n-1} \\sum_{i=1}^{n} (X_i - \\bar{X})^2\n",
    "$$"
   ]
  },
  {
   "cell_type": "markdown",
   "metadata": {},
   "source": [
    "Meanwhile, the population variance is given by:\n",
    "$$\n",
    "\\sigma^2 = \\text{Var}(X) = E((X-\\mu)^2) = \\sum_{i=1}^N(x_i-\\mu)^2p(x_i)\n",
    "$$"
   ]
  },
  {
   "cell_type": "markdown",
   "metadata": {},
   "source": [
    "The expression  represents the dispersion of a (discrete) probability distribution."
   ]
  },
  {
   "cell_type": "markdown",
   "metadata": {},
   "source": [
    "For example, in case of roling of a fair die:\n",
    "$$\n",
    "\\mu = E(X)=3.5\\\\\n",
    "\\sigma^2 = E((X-\\mu)^2)=2.92\\\\\n",
    "\\sigma = 1.71\n",
    "$$"
   ]
  },
  {
   "cell_type": "markdown",
   "metadata": {},
   "source": [
    "## Probabilities for Normal Distribution"
   ]
  },
  {
   "cell_type": "markdown",
   "metadata": {},
   "source": [
    "For a standard normal distribution $X ∼ N(\\mu, \\sigma^2)$:\n",
    "* 68.3% of the values are between $-\\sigma$ and $\\sigma$\n",
    "* 95.0% of the values are between $-2\\sigma$ and $2\\sigma$\n",
    "* 99.7% of the values are between $-3\\sigma$ and $3\\sigma$"
   ]
  },
  {
   "cell_type": "markdown",
   "metadata": {},
   "source": [
    "Hence, on a standardised basis, it is very easy to determine whether a value is ‘extreme’, as\n",
    "only 5% of the time would a standardised value be expected to be beyond ±2 (which we could\n",
    "classify as an outlier), and only 0.3% of the time beyond ±3 (which we could classify as an\n",
    "extreme outlier). Values beyond four standard deviations from the mean (i.e. beyond ±4 on\n",
    "a standardised scale) could be considered as black swan events.\n"
   ]
  },
  {
   "cell_type": "markdown",
   "metadata": {},
   "source": [
    "# Sampling"
   ]
  },
  {
   "cell_type": "markdown",
   "metadata": {},
   "source": [
    "The term target **population** represents the collection of units\n",
    "(people, objects etc.) in which we are interested. In the absence of time and budgetary\n",
    "constraints we conduct a **census**, that is a total enumeration of the population. Its\n",
    "advantage is that there is no sampling error because all population units are observed\n",
    "and so there is no estimation of population parameters. Due to the large size, N, of most\n",
    "populations, an obvious disadvantage with a census is cost, so it is often not feasible in\n",
    "practice. Even with a census non-sampling error may occur, for example if we have to\n",
    "resort to using cheaper (hence less reliable) interviewers who may erroneously record data,\n",
    "misunderstand a respondent etc.\n",
    "\n",
    "So we select a sample, that is a certain number of population members are selected and studied.\n",
    "The selected members are known as elementary sampling units. Sample surveys (hereafter\n",
    "‘surveys’) are how new data are collected on a population and tend to be based on samples\n",
    "rather than a census. Selected respondents may be contacted in a variety of methods such as\n",
    "face-to-face interviews, telephone, mail or email questionnaires.\n"
   ]
  },
  {
   "cell_type": "markdown",
   "metadata": {},
   "source": [
    "Sampling is a key component of any research design. The key to the use of statistics in research\n",
    "is being able to take data from a sample and make inferences about a large population."
   ]
  },
  {
   "cell_type": "markdown",
   "metadata": {},
   "source": [
    "We introduce some important terminology.\n",
    "* **Population** – The aggregate of all the elements, sharing some common set of\n",
    "characteristics, which comprise the universe for the purpose of the problem being\n",
    "investigated.\n",
    "* **Census** – A complete enumeration of the elements of a population or study objects.\n",
    "* **Sample** – A subgroup of the elements of the population selected for participation in the\n",
    "study."
   ]
  },
  {
   "cell_type": "markdown",
   "metadata": {},
   "source": [
    "## Classification of Sampling Techniques"
   ]
  },
  {
   "cell_type": "markdown",
   "metadata": {},
   "source": [
    "We draw a sample from the target population, which is the collection of elements or objects\n",
    "which possess the information sought by the researcher and about which inferences are to\n",
    "be made. Different types of sampling techniques can be decomposed into **non-probability sampling techniques**  and **probability sampling techniques**.\n"
   ]
  },
  {
   "cell_type": "markdown",
   "metadata": {},
   "source": [
    "### Non-Probability Sampling Techniques"
   ]
  },
  {
   "cell_type": "markdown",
   "metadata": {},
   "source": [
    "Non-probability sampling techniques are characterised by the fact that some units in the\n",
    "population do not have a chance of selection in the sample. Other individual units in the\n",
    "population have an unknown probability of being selected. There is also an inability to\n",
    "measure sampling error. Examples of such techniques are:\n",
    "* convenience sampling\n",
    "* judgemental sampling\n",
    "* quota sampling\n",
    "* snowball sampling.\n"
   ]
  },
  {
   "cell_type": "markdown",
   "metadata": {},
   "source": [
    "To\n",
    "illustrate each, we will use the example of 25 students (labelled ‘1’ to ‘25’) who happen to be\n",
    "in a particular class (labelled ‘A’ to ‘E’) as follows:"
   ]
  },
  {
   "cell_type": "markdown",
   "metadata": {},
   "source": [
    "|A|B|C|D|E|\n",
    "|:--:|:--:|:--:|:--:|:--:|\n",
    "|1|6|11|16|21|\n",
    "|2|7|12|17|22|\n",
    "|3|8|13|18|23|\n",
    "|4|9|14|19|24|\n",
    "|5|10|15|20|25|"
   ]
  },
  {
   "cell_type": "markdown",
   "metadata": {},
   "source": [
    "#### Convenience sampling"
   ]
  },
  {
   "cell_type": "markdown",
   "metadata": {},
   "source": [
    "Convenience sampling attempts to obtain a sample of convenient elements (hence the name!).\n",
    "Often, respondents are selected because they happen to be in the right place at the right time.\n",
    "Examples include using students and members of social organisations; also ‘people-in-the-street’\n",
    "interviews.\n"
   ]
  },
  {
   "cell_type": "markdown",
   "metadata": {},
   "source": [
    "Suppose class D happens to assemble at a convenient time and place, so all elements (students)\n",
    "in this class are selected. The resulting sample consists of students 16, 17, 18, 19 and 20. Note\n",
    "in this case there are no students selected from classes A, B, C and E.\n"
   ]
  },
  {
   "cell_type": "markdown",
   "metadata": {},
   "source": [
    "|A|B|C|D|E|\n",
    "|:--:|:--:|:--:|:--:|:--:|\n",
    "|1|6|11|<span style=\"color:blue;border-style:solid;padding:2px\">16</span>|21|\n",
    "|2|7|12|<span style=\"color:blue;border-style:solid;padding:2px\">17</span>|22|\n",
    "|3|8|13|<span style=\"color:blue;border-style:solid;padding:2px\">18</span>|23|\n",
    "|4|9|14|<span style=\"color:blue;border-style:solid;padding:2px\">19</span>|24|\n",
    "|5|10|15|<span style=\"color:blue;border-style:solid;padding:2px\">20</span>|25|"
   ]
  },
  {
   "cell_type": "markdown",
   "metadata": {},
   "source": [
    "#### Judgemental sampling"
   ]
  },
  {
   "cell_type": "markdown",
   "metadata": {},
   "source": [
    "Judgemental sampling is a form of convenience sampling in which the population elements are\n",
    "selected based on the judgement of the researcher. Examples include purchase engineers being\n",
    "selected in industrial market research; also expert witnesses used in court.\n",
    "Suppose a researcher believes classes B, C and E to be ‘typical’ and ‘convenient’. Within each\n",
    "of these classes one or two students are selected based on typicality and convenience. The\n",
    "resulting sample here consists of students 8, 10, 11, 13 and 24. Note in this case there are no\n",
    "students selected from classes A and D."
   ]
  },
  {
   "cell_type": "markdown",
   "metadata": {},
   "source": [
    "|A|B|C|D|E|\n",
    "|:--:|:--:|:--:|:--:|:--:|\n",
    "|1|6|<span style=\"color:blue;border-style:solid;padding:2px\">11</span>|16|21|\n",
    "|2|7|12|17|22|\n",
    "|3|<span style=\"color:blue;border-style:solid;padding:2px\">8|</span><span style=\"color:blue;border-style:solid;padding:2px\">13</span>|18|23|\n",
    "|4|9|14|19|<span style=\"color:blue;border-style:solid;padding:2px\">24</span>|\n",
    "|5|<span style=\"color:blue;border-style:solid;padding:2px\">10</span>|15|20|25|"
   ]
  },
  {
   "cell_type": "markdown",
   "metadata": {},
   "source": [
    "Judgemental sampling is achieved at low cost, is convenient, not particularly time-consuming\n",
    "and good for ‘exploratory’ research designs. However, it does not allow generalisations and is\n",
    "subjective due to the judgement of the researcher."
   ]
  },
  {
   "cell_type": "markdown",
   "metadata": {},
   "source": [
    "#### Quota sampling"
   ]
  },
  {
   "cell_type": "markdown",
   "metadata": {},
   "source": [
    "Quota sampling may be viewed as two-stage restricted judgemental sampling. The first stage\n",
    "consists of developing control categories, or quota controls, of population elements. In the\n",
    "second stage, sample elements are selected based on convenience or judgement. Suppose a\n",
    "quota of one student from each class is imposed. Within each class, one student is selected\n",
    "based on judgement or convenience. The resulting sample consists of students 3, 6, 13, 20 and\n",
    "22."
   ]
  },
  {
   "cell_type": "markdown",
   "metadata": {},
   "source": [
    "|A|B|C|D|E|\n",
    "|:--:|:--:|:--:|:--:|:--:|\n",
    "|1|<span style=\"color:blue;border-style:solid;padding:2px\">6</span>|11|16|21|\n",
    "|2|7|12|17|<span style=\"color:blue;border-style:solid;padding:2px\">22</span>|\n",
    "|<span style=\"color:blue;border-style:solid;padding:2px\">3|</span>8|<span style=\"color:blue;border-style:solid;padding:2px\">13</span>|18|23|\n",
    "|4|9|14|19|24|\n",
    "|5|10|15|<span style=\"color:blue;border-style:solid;padding:2px\">20</span>|25|"
   ]
  },
  {
   "cell_type": "markdown",
   "metadata": {},
   "source": [
    "Quota sampling is advantageous in that a sample can be controlled for certain characteristics.\n",
    "However, it suffers from selection bias and there is no guarantee of representativeness of the\n",
    "sample."
   ]
  },
  {
   "cell_type": "markdown",
   "metadata": {},
   "source": [
    "#### Snowball sampling"
   ]
  },
  {
   "cell_type": "markdown",
   "metadata": {},
   "source": [
    "In snowball sampling an initial group of respondents is selected, usually at random. After being\n",
    "interviewed, these respondents are asked to identify others who belong to the target population\n",
    "of interest. Subsequent respondents are selected based on these referrals.\n",
    "Suppose students 2 and 9 are selected randomly from classes A and B. Student 2 refers students\n",
    "12 and 13, while student 9 refers student 18. The resulting sample consists of students 2, 9,\n",
    "12, 13 and 18. Note in this case there are no students from class E included in the sample.\n"
   ]
  },
  {
   "cell_type": "markdown",
   "metadata": {},
   "source": [
    "|A|B|C|D|E|\n",
    "|:--:|:--:|:--:|:--:|:--:|\n",
    "|1|6|11|16|21|\n",
    "|<span style=\"color:blue;border-style:solid;padding:2px\">2</span>|7|<span style=\"color:blue;border-style:solid;padding:2px\">12</span>|17|22|\n",
    "|3|8|<span style=\"color:blue;border-style:solid;padding:2px\">13</span>|<span style=\"color:blue;border-style:solid;padding:2px\">18</span>|23|\n",
    "|4|<span style=\"color:blue;border-style:solid;padding:2px\">9</span>|14|19|24|\n",
    "|5|10|15|20|25|"
   ]
  },
  {
   "cell_type": "markdown",
   "metadata": {},
   "source": [
    "### Probability sampling"
   ]
  },
  {
   "cell_type": "markdown",
   "metadata": {},
   "source": [
    "Probability sampling techniques mean every population element has a known, non-zero\n",
    "probability of being selected in the sample. Probability sampling makes it possible to\n",
    "estimate the margins of sampling error, therefore all statistical techniques (such as confidence\n",
    "intervals and hypothesis testing – covered later in the course) can be applied.\n",
    "\n",
    "Examples of probability sampling techniques are:\n",
    "\n",
    "* simple random sampling\n",
    "* systematic sampling\n",
    "* stratified sampling\n",
    "* cluster sampling\n",
    "* multistage sampling.\n"
   ]
  },
  {
   "cell_type": "markdown",
   "metadata": {},
   "source": [
    "#### Simple random sampling (SRS)"
   ]
  },
  {
   "cell_type": "markdown",
   "metadata": {},
   "source": [
    "In a simple random sample each element in the population has a known and equal probability\n",
    "of selection. Each possible sample of a given size, n, has a known and equal probability of being\n",
    "the sample which is actually selected. This implies that every element is selected independently\n",
    "of every other element.\n",
    "Suppose we select five random numbers (using a random number generator) from 1 to\n",
    "25. Suppose the random number generator returns 3, 7, 9, 16 and 24. The resulting sample\n",
    "therefore consists of students 3, 7, 9, 16 and 24. Note in this case there are no students from\n",
    "class C."
   ]
  },
  {
   "cell_type": "markdown",
   "metadata": {},
   "source": [
    "|A|B|C|D|E|\n",
    "|:--:|:--:|:--:|:--:|:--:|\n",
    "|1|6|11|<span style=\"color:blue;border-style:solid;padding:2px\">16</span>|21|\n",
    "|2|<span style=\"color:blue;border-style:solid;padding:2px\">7</span>|12|17|22|\n",
    "|<span style=\"color:blue;border-style:solid;padding:2px\">3</span>|8|13|18|23|\n",
    "|4|<span style=\"color:blue;border-style:solid;padding:2px\">9</span>|14|19|<span style=\"color:blue;border-style:solid;padding:2px\">24</span>|\n",
    "|5|10|15|20|25|"
   ]
  },
  {
   "cell_type": "markdown",
   "metadata": {},
   "source": [
    "#### Systematic sampling"
   ]
  },
  {
   "cell_type": "markdown",
   "metadata": {},
   "source": [
    "In systematic sampling, the sample is chosen by selecting a random starting point and then\n",
    "picking every ith element in succession from the sampling frame. The sampling interval, i,\n",
    "is determined by dividing the population size, N, by the sample size, n, and rounding to the\n",
    "nearest integer. When the ordering of the elements is related to the characteristic of interest,\n",
    "systematic sampling increases the representativeness of the sample. If the ordering of the\n",
    "elements produces a cyclical pattern, systematic sampling may actually decrease the\n",
    "representativeness of the sample.\n",
    "Suppose there are 100,000 elements in the population and a sample of 1,000 is required. In\n",
    "this case the sampling interval is:\n",
    "$$\n",
    "i = \\frac{N}{n} = \\frac{100,000}{1000} = 10,000\n",
    "$$\n",
    "A random number between 1 and 100 is selected. If, for example, this number is 23, then the\n",
    "sample consists of elements 23, 123, 223, 323, 423, 523, and so on."
   ]
  },
  {
   "cell_type": "markdown",
   "metadata": {},
   "source": [
    "Suppose we select a random number between 1 and 5, say 2. The resulting sample of students\n",
    "consists of students 2, (2 + 5 =) 7, (2 + 5 × 2 =) 12, (2 + 5 × 3 =) 17 and (2 + 5 × 4 =) 22.\n",
    "Note in this case all the students are selected from a single row."
   ]
  },
  {
   "cell_type": "markdown",
   "metadata": {},
   "source": [
    "|A|B|C|D|E|\n",
    "|:--:|:--:|:--:|:--:|:--:|\n",
    "|1|6|11|16|21|\n",
    "|<span style=\"color:blue;border-style:solid;padding:2px\">2</span>|<span style=\"color:blue;border-style:solid;padding:2px\">7</span>|<span style=\"color:blue;border-style:solid;padding:2px\">12|<span style=\"color:blue;border-style:solid;padding:2px\">17|<span style=\"color:blue;border-style:solid;padding:2px\">22|\n",
    "|3|8|13|18|23|\n",
    "|4|9|14|19|24|\n",
    "|5|10|15|20|25|"
   ]
  },
  {
   "cell_type": "markdown",
   "metadata": {},
   "source": [
    "Systematic sampling may or may not increase representativeness – it depends on whether there\n",
    "is any ‘ordering’ in the sampling frame. It is easier to implement relative to SRS."
   ]
  },
  {
   "cell_type": "markdown",
   "metadata": {},
   "source": [
    "#### Stratified sampling"
   ]
  },
  {
   "cell_type": "markdown",
   "metadata": {},
   "source": [
    "Stratified sampling is a two-step process in which the population is partitioned (divided up)\n",
    "into subpopulations known as strata. The strata should be mutually exclusive and collectively\n",
    "exhaustive in that every population element should be assigned to one and only one stratum\n",
    "and no population elements should be omitted. Next, elements are selected from each stratum\n",
    "by a random procedure, usually SRS. A major objective of stratified sampling is to increase\n",
    "the precision of statistical inference without increasing cost.\n"
   ]
  },
  {
   "cell_type": "markdown",
   "metadata": {},
   "source": [
    "The elements within a stratum should be as homogeneous as possible (i.e. as similar as possible),\n",
    "but the elements between strata should be as heterogeneous as possible (i.e. as different as\n",
    "possible). The stratification factors should also be closely related to the characteristic of\n",
    "interest. Finally, the factors (variables) should decrease the cost of the stratification process\n",
    "by being easy to measure and apply.\n",
    "\n",
    "In proportionate stratified sampling, the size of the sample drawn from each stratum is\n",
    "proportional to the relative size of that stratum in the total population. In disproportionate\n",
    "(optimal) stratified sampling, the size of the sample from each stratum is proportional\n",
    "to the relative size of that stratum and to the standard deviation of the distribution of the\n",
    "characteristic of interest among all the elements in that stratum."
   ]
  },
  {
   "cell_type": "markdown",
   "metadata": {},
   "source": [
    "Suppose we randomly select a number from 1 to 5 for each class (stratum) A to E. This might\n",
    "result, say, in the stratified sample consisting of students 4, 7, 13, 19 and 21. Note in this case\n",
    "one student is selected from each class."
   ]
  },
  {
   "cell_type": "markdown",
   "metadata": {},
   "source": [
    "|A|B|C|D|E|\n",
    "|:--:|:--:|:--:|:--:|:--:|\n",
    "|1|<span style=\"color:blue;border-style:solid;padding:2px\">6</span>|11|16|21|\n",
    "|2|7|12|17|<span style=\"color:blue;border-style:solid;padding:2px\">22</span>|\n",
    "|<span style=\"color:blue;border-style:solid;padding:2px\">3|</span>8|<span style=\"color:blue;border-style:solid;padding:2px\">13</span>|18|23|\n",
    "|4|9|14|19|24|\n",
    "|5|10|15|<span style=\"color:blue;border-style:solid;padding:2px\">20</span>|25||"
   ]
  },
  {
   "cell_type": "markdown",
   "metadata": {},
   "source": [
    "Stratified sampling includes all important subpopulations and ensures a high level of precision.\n",
    "However, sometimes it might be difficult to select relevant stratification factors and the\n",
    "stratification process itself might not be feasible in practice if it was not known to which\n",
    "stratum each population element belonged."
   ]
  },
  {
   "cell_type": "markdown",
   "metadata": {},
   "source": [
    "#### Cluster sampling"
   ]
  },
  {
   "cell_type": "markdown",
   "metadata": {},
   "source": [
    "In cluster sampling the target population is first divided into mutually exclusive and collectively\n",
    "exhaustive subpopulations known as clusters. A random sample of clusters is then selected,\n",
    "based on a probability sampling technique such as SRS. For each selected cluster, either all\n",
    "the elements are included in the sample (one-stage cluster sampling), or a sample of elements\n",
    "is drawn probabilistically (two-stage cluster sampling)."
   ]
  },
  {
   "cell_type": "markdown",
   "metadata": {},
   "source": [
    "Elements within a cluster should be as heterogeneous as possible, but clusters themselves should\n",
    "be as homogeneous as possible. Ideally, each cluster should be a small-scale representation of the\n",
    "population. In probability proportionate to size sampling, the clusters are sampled with\n",
    "probability proportional to size. In the second stage, the probability of selecting a sampling\n",
    "unit in a selected cluster varies inversely with the size of the cluster.\n",
    "Suppose we randomly select three clusters: B, D and E. Within each cluster, we randomly\n",
    "select one or two elements. The resulting sample here consists of students 7, 18, 20, 21 and 23.\n",
    "Note in this case there are no students selected from clusters A and C."
   ]
  },
  {
   "cell_type": "markdown",
   "metadata": {},
   "source": [
    "|A|B|C|D|E|\n",
    "|:--:|:--:|:--:|:--:|:--:|\n",
    "|1|6|11|16|<span style=\"color:blue;border-style:solid;padding:2px\">21</span>|\n",
    "|2|<span style=\"color:blue;border-style:solid;padding:2px\">7</span>|12|17|22|\n",
    "|3|8|13|<span style=\"color:blue;border-style:solid;padding:2px\">18</span>|<span style=\"color:blue;border-style:solid;padding:2px\">23</span>|\n",
    "|4|9|14|19|24|\n",
    "|5|10|15|<span style=\"color:blue;border-style:solid;padding:2px\">20</span>|25||"
   ]
  },
  {
   "cell_type": "markdown",
   "metadata": {},
   "source": [
    "#### Multistage sampling"
   ]
  },
  {
   "cell_type": "markdown",
   "metadata": {},
   "source": [
    "In multistage sampling selection is performed at two or more successive stages. This technique\n",
    "is often adopted in large surveys. At the first stage, large ‘compound’ units are sampled\n",
    "(primary units), and several sampling stages of this type may be performed until we at last\n",
    "sample the basic units.\n",
    "\n",
    "The technique is commonly used in cluster sampling so that we are at first sampling the main\n",
    "clusters, and then clusters within clusters etc. We can also use multistage sampling with mixed\n",
    "techniques, i.e. cluster sampling at Stage 1 and stratified sampling at Stage 2 etc.\n",
    "\n",
    "An example might be a national survey of salespeople in a company. Sales areas could be\n",
    "identified from which a random selection is taken from these areas. Instead of interviewing\n",
    "every person in the chosen clusters (which would be a one-stage cluster sample), only randomly\n",
    "selected salespeople within the chosen clusters will be interviewed.\n"
   ]
  },
  {
   "cell_type": "markdown",
   "metadata": {},
   "source": [
    "#  Sampling Distributions"
   ]
  },
  {
   "cell_type": "markdown",
   "metadata": {},
   "source": [
    "A population has particular characteristics of interest such as the mean, $\\mu$, and variance, $\\sigma^2$.\n",
    "Collectively, we refer to these characteristics as parameters. If we do not have population\n",
    "data, the parameter values will be unknown."
   ]
  },
  {
   "cell_type": "markdown",
   "metadata": {},
   "source": [
    "‘Statistical inference’ is the process of estimating the (unknown) parameter values using the\n",
    "(known) sample data.\n",
    "We use a statistic (called an estimator) calculated from sample observations to provide a\n",
    "point estimate of a parameter."
   ]
  },
  {
   "cell_type": "markdown",
   "metadata": {},
   "source": [
    "## Confidence Intervals"
   ]
  },
  {
   "cell_type": "markdown",
   "metadata": {},
   "source": [
    "A point estimate (such as a sample mean, $\\bar{x}$) is our ‘best guess’ of an unknown population\n",
    "parameter (such as a population mean, $\\mu$) based on sample data. Although\n",
    "$$\n",
    "E(\\bar{X}) = \\mu\n",
    "$$"
   ]
  },
  {
   "cell_type": "markdown",
   "metadata": {},
   "source": [
    "meaning that on average the sample mean is equal to the population mean, as it is based on a\n",
    "sample there is some uncertainty (imprecision) in the accuracy of the estimate. Different\n",
    "random samples would tend to lead to different observed sample means. Confidence intervals\n",
    "communicate the level of imprecision by converting a point estimate into an interval estimate.\n",
    "\n",
    "Formally, an $x\\%$ confidence interval covers the unknown parameter with $x\\%$ probability over\n",
    "repeated samples. The shorter the confidence interval, the more reliable the estimate."
   ]
  },
  {
   "cell_type": "markdown",
   "metadata": {},
   "source": [
    "If we assume we have either \n",
    "1. known $\\sigma$, or \n",
    "2. unknown $\\sigma$ but a large sample size, say\n",
    "$n \\ge 50$, then the formulae for the endpoints of a confidence interval for a single mean are:\n",
    "\n",
    "$$\n",
    "1. \\:\\:\\bar{x}\\pm z\\times\\frac{\\sigma}{\\sqrt{n}}\\\\\n",
    "2. \\:\\:\\bar{x}\\pm z\\times\\frac{s}{\\sqrt{n}}\n",
    "$$"
   ]
  },
  {
   "cell_type": "markdown",
   "metadata": {},
   "source": [
    "Here $\\bar{x}$ is the sample mean, $\\sigma$ is the population standard deviation, $s$ is the sample standard\n",
    "deviation, $n$ is the sample size and $z$ is the confidence coefficient, reflecting the confidence\n",
    "level."
   ]
  },
  {
   "cell_type": "markdown",
   "metadata": {},
   "source": [
    "### Influences on the margin of error"
   ]
  },
  {
   "cell_type": "markdown",
   "metadata": {},
   "source": [
    "More simply, we can view the confidence interval for a mean as:\n",
    "$$\\text{best guess} \\pm \\text{margin of error}$$\n",
    "where $\\bar{x}$ is the best guess, and the margin of error is:"
   ]
  },
  {
   "cell_type": "markdown",
   "metadata": {},
   "source": [
    "$$\n",
    "1. \\:\\:z\\times\\frac{\\sigma}{\\sqrt{n}}\\\\\n",
    "2. \\:\\:z\\times\\frac{s}{\\sqrt{n}}\n",
    "$$"
   ]
  },
  {
   "cell_type": "markdown",
   "metadata": {},
   "source": [
    "Therefore, we see that there are three influences on the size of the margin of error (and\n",
    "hence on the width of the confidence interval). Specifically:\n",
    "1. The size of the margin of error is proportional to the size of the population standard deviation.\n",
    "$$\n",
    "\\text{as }\\sigma \\uparrow \\implies \\text{margin of error }\\uparrow \\implies \\text{width } \\uparrow\n",
    "$$\n",
    "2. The size of the margin of error is inversely proportional to the size of the population size.\n",
    "$$\n",
    "\\text{as }n \\uparrow \\implies \\text{margin of error }\\downarrow \\implies \\text{width } \\downarrow\n",
    "$$\n",
    "3. The size of the margin of error is proportional to the confidence coeefficient.\n",
    "$$\n",
    "\\text{as confidence level } \\uparrow \\implies \\text{margin of error }\\uparrow \\implies \\text{width } \\uparrow$$"
   ]
  },
  {
   "cell_type": "markdown",
   "metadata": {},
   "source": [
    "### Confidence coefficients"
   ]
  },
  {
   "cell_type": "markdown",
   "metadata": {},
   "source": [
    "For\n",
    "large n, we obtain this coefficient from the standard normal distribution.\n"
   ]
  },
  {
   "cell_type": "markdown",
   "metadata": {},
   "source": [
    "* For $90\\%$ confidence, use the confidence coefficient $z = 1.645$.\n",
    "* For $95\\%$ confidence, use the confidence coefficient $z = 1.960$.\n",
    "* For $99\\%$ confidence, use the confidence coefficient $z = 2.576$."
   ]
  }
 ],
 "metadata": {
  "kernelspec": {
   "display_name": "Python 3.9.12 ('data-science')",
   "language": "python",
   "name": "python3"
  },
  "language_info": {
   "name": "python",
   "version": "3.9.12 (main, Jun  1 2022, 11:38:51) \n[GCC 7.5.0]"
  },
  "orig_nbformat": 4,
  "vscode": {
   "interpreter": {
    "hash": "2efee1efa502125d01e6b4768ba06d9453d29f3642bfd14ad5d4a769de82e88c"
   }
  }
 },
 "nbformat": 4,
 "nbformat_minor": 2
}
