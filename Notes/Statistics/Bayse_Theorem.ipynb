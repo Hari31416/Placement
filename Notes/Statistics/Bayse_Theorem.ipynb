{
 "cells": [
  {
   "cell_type": "markdown",
   "metadata": {},
   "source": [
    "<h2 id=\"Contents\">Contents<a href=\"#Contents\"></a></h2>\n",
    "        <ol>\n",
    "        <li><a class=\"\" href=\"#Bayes'-Theorem\">Bayes' Theorem</a></li>\n",
    "<ol><li><a class=\"\" href=\"#Hypothesis-and-Evidence\">Hypothesis and Evidence</a></li>\n",
    "<li><a class=\"\" href=\"#Bayes'-for-Two-Events\">Bayes' for Two Events</a></li>\n",
    "<li><a class=\"\" href=\"#Generalization-of-Bayes-Theorem\">Generalization of Bayes' Theorem</a></li>\n",
    "</ol><li><a class=\"\" href=\"#Examples\">Examples</a></li>\n",
    "<ol><li><a class=\"\" href=\"#Simple-Bayes-Theorem\">Simple Bayes' Theorem</a></li>\n",
    "<ol><li><a class=\"\" href=\"#Fire-Given-Smoke\">Fire Given Smoke</a></li>\n",
    "<li><a class=\"\" href=\"#Picnic-or-Not\">Picnic or Not</a></li>\n",
    "</ol><li><a class=\"\" href=\"#Bayes-Theorem-for-Two-Events\">Bayes' Theorem for Two Events</a></li>\n",
    "<ol><li><a class=\"\" href=\"#Cat-Allergy\">Cat Allergy</a></li>\n",
    "</ol><li><a class=\"\" href=\"#Bayes-Theorem-for-Multiple-Events\">Bayes' Theorem for Multiple Events</a></li>\n",
    "<ol><li><a class=\"\" href=\"#Who-Wins-the-Prize?\">Who Wins the Prize?</a></li>\n",
    "</ol>"
   ]
  },
  {
   "cell_type": "markdown",
   "metadata": {},
   "source": [
    "# Bayes' Theorem"
   ]
  },
  {
   "cell_type": "markdown",
   "metadata": {},
   "source": [
    "Bayes' theorem is a theorem in probability and statistics, named after the Thomas Bayes, that helps in determining the probability of an event that is based on some event that has already occurred. \n",
    "\n",
    "Bayes' theorem, in simple words, determines the conditional probability of an event A given that event B has already occurred."
   ]
  },
  {
   "cell_type": "markdown",
   "metadata": {},
   "source": [
    "Simply, the expression for Bayes' theorem is given as:\n",
    "$$\n",
    "P(A|B) = \\dfrac{P(B|A)P(A)}{P(B)}\n",
    "$$\n",
    "\n",
    "where,\n",
    "P(A|B) is the probability of event A given that event B has occurred. \n",
    "\n",
    "P(B|A) is the probability of event B given that event A has occurred.\n",
    "\n",
    "P(A) is the probability of event A.\n",
    "\n",
    "P(B) is the probability of event B."
   ]
  },
  {
   "cell_type": "markdown",
   "metadata": {},
   "source": [
    "![](https://miro.medium.com/max/1400/1*CnoTGGO7XeUpUMeXDrIfvA.png)"
   ]
  },
  {
   "cell_type": "markdown",
   "metadata": {},
   "source": [
    "## Hypothesis and Evidence"
   ]
  },
  {
   "cell_type": "markdown",
   "metadata": {},
   "source": [
    "The theorem can also be written in terms of hypothesis and evidence. The hypothesis is the event that we are trying to prove and the evidence is the event that has already occurred. Then, the probability of the hypothesis given the evidence is given by the Bayes' theorem as:\n",
    "\n",
    "![](https://www.gaussianwaves.com/gaussianwaves/wp-content/uploads/2021/04/bayes-theorem.png)"
   ]
  },
  {
   "cell_type": "markdown",
   "metadata": {},
   "source": [
    "## Bayes' for Two Events"
   ]
  },
  {
   "cell_type": "markdown",
   "metadata": {},
   "source": [
    "This is a special case of Bayes' theorem where we have two events A and not A. We want to calculate the probability of event B given event A. The Bayes' theorem for this case is becomes:\n",
    "$$\n",
    "P(A|B) =  \\frac{P(A)P(B|A)}{P(A)P(B|A) + P(not A)P(B|not A)}\n",
    "$$"
   ]
  },
  {
   "cell_type": "markdown",
   "metadata": {},
   "source": [
    "## Generalization of Bayes' Theorem"
   ]
  },
  {
   "cell_type": "markdown",
   "metadata": {},
   "source": [
    "In fact, if there are more than two events, Bayes' theorem can be generalized to the following form:\n",
    "$$\n",
    "P(A_i|B) = \\dfrac{P(A_i)P(B|A_i)}{\\sum_{i=1}^{n}P(A_i)P(B|A_i)}\n",
    "$$\n",
    "\n",
    "where,\n",
    "$P(A_i|B)$ is the probability of event $A_i$ given that event B has occurred.\n",
    "\n",
    "$P(A_i)$ is the probability of event $A_i$.\n",
    "\n",
    "$P(B|A_i)$ is the probability of event B given that event $A_i$ has occurred."
   ]
  },
  {
   "cell_type": "markdown",
   "metadata": {},
   "source": [
    "# Examples"
   ]
  },
  {
   "cell_type": "markdown",
   "metadata": {},
   "source": [
    "## Simple Bayes' Theorem"
   ]
  },
  {
   "cell_type": "markdown",
   "metadata": {},
   "source": [
    "### Fire Given Smoke"
   ]
  },
  {
   "cell_type": "markdown",
   "metadata": {},
   "source": [
    "Suppose we want to get the probability of there being fire given that we see smoke. We define the following events:\n",
    "\n",
    "- $F$ = There is fire\n",
    "- $S$ = We see smoke\n",
    "\n",
    "The different probabilities are given as:\n",
    "- $P(F)$ - Probability of fire\n",
    "- $P(S)$ - Probability of smoke\n",
    "- $P(S|F)$ - Probability of smoke given that there is fire\n",
    "- $P(F|S)$ - Probability of fire given that we see smoke\n"
   ]
  },
  {
   "cell_type": "markdown",
   "metadata": {},
   "source": [
    "Since we want to get the probability of fire given that we see smoke, we can use the Bayes' theorem as:\n",
    "$$\n",
    "P(F|S) = \\dfrac{P(F)P(S|F)}{P(S)}\n",
    "$$"
   ]
  },
  {
   "cell_type": "markdown",
   "metadata": {},
   "source": [
    "For this example, we have the following observations:\n",
    "- dangerous fires are rare (1%)\n",
    "- but smoke is fairly common (10%) due to barbecues,\n",
    "- and 90% of dangerous fires make smoke"
   ]
  },
  {
   "cell_type": "markdown",
   "metadata": {},
   "source": [
    "Using these, the probabilties are given as:\n",
    "- $P(F) = 0.01$\n",
    "- $P(S) = 0.1$\n",
    "- $P(S|F) = 0.9$\n",
    "\n",
    "So, Bayes' theorem becomes:\n",
    "$$\n",
    "P(F|S) = \\dfrac{0.01 \\times 0.9}{0.1} = 0.09 = 9\\%\n",
    "$$"
   ]
  },
  {
   "cell_type": "markdown",
   "metadata": {},
   "source": [
    "### Picnic or Not"
   ]
  },
  {
   "cell_type": "markdown",
   "metadata": {},
   "source": [
    "You are planning a picnic today, but the morning is cloudy. Following are the observations:\n",
    "- 50% of all rainy days start off cloudy!\n",
    "- But cloudy mornings are common (about 40% of days start cloudy)\n",
    "- And this is usually a dry month (only 3 of 30 days tend to be rainy, or 10%)"
   ]
  },
  {
   "cell_type": "markdown",
   "metadata": {},
   "source": [
    "Same as above, we define two events:\n",
    "- $C$ = Cloudy\n",
    "- $R$ = Rainy\n",
    "\n",
    "The probabilities are given as:\n",
    "- $P(C)$ - Probability of cloudy\n",
    "- $P(R)$ - Probability of rainy\n",
    "- $P(R|C)$ - Probability of rain given that it is cloudy\n",
    "- $P(C|R)$ - Probability of cloudy given that it is rainy"
   ]
  },
  {
   "cell_type": "markdown",
   "metadata": {},
   "source": [
    "The values of different probabilities are given as:\n",
    "- $P(C) = 0.4$\n",
    "- $P(R) = 0.1$\n",
    "- $P(R|C) = 0.5$"
   ]
  },
  {
   "cell_type": "markdown",
   "metadata": {},
   "source": [
    "So, the probaility that it is going to rain given that it is cloudy is given as:\n",
    "$$\n",
    "P(R|C) = \\dfrac{0.1 \\times 0.5}{0.5} = 0.125 = 12.5\\%\n",
    "$$"
   ]
  },
  {
   "cell_type": "markdown",
   "metadata": {},
   "source": [
    "## Bayes' Theorem for Two Events"
   ]
  },
  {
   "cell_type": "markdown",
   "metadata": {},
   "source": [
    "### Cat Allergy"
   ]
  },
  {
   "cell_type": "markdown",
   "metadata": {},
   "source": [
    "Here is the problem statement:\n",
    "\n",
    "Hunter says she is itchy. There is a test for Allergy to Cats, but this test is not always right:\n",
    "\n",
    "- For people that really do have the allergy, the test says \"Yes\" 80% of the time\n",
    "- For people that do not have the allergy, the test says \"Yes\" 10% of the time (\"false positive\")\n",
    " \n",
    "If 1% of the population have the allergy, and Hunter's test says \"Yes\", what are the chances that Hunter really has the allergy?"
   ]
  },
  {
   "cell_type": "markdown",
   "metadata": {},
   "source": [
    "We'll be using the followinf form of Bayes' theorem:\n",
    "$$\n",
    "P(A|B) =  \\frac{P(A)P(B|A)}{P(A)P(B|A) + P(not A)P(B|not A)}\n",
    "$$"
   ]
  },
  {
   "cell_type": "markdown",
   "metadata": {},
   "source": [
    "The event are:\n",
    "- $A$ = Allergy\n",
    "- $B$ = Test says \"Yes\""
   ]
  },
  {
   "cell_type": "markdown",
   "metadata": {},
   "source": [
    "Now, the different values of probabilities are given as:\n",
    "- $P(A) = 0.01$\n",
    "- $P(B|A) = 0.8$\n",
    "- $P(not A) = 0.99$\n",
    "- $P(B|not A) = 0.1$"
   ]
  },
  {
   "cell_type": "markdown",
   "metadata": {},
   "source": [
    "Putting values, the theorem gives:\n",
    "$$\n",
    "P(A|B) =  \\frac{0.01 \\times 0.8}{0.01 \\times 0.8 + 0.99 \\times 0.1} = 0.071 = 7.5\\%\n",
    "$$"
   ]
  },
  {
   "cell_type": "markdown",
   "metadata": {},
   "source": [
    "## Bayes' Theorem for Multiple Events"
   ]
  },
  {
   "cell_type": "markdown",
   "metadata": {},
   "source": [
    "### Who Wins the Prize?"
   ]
  },
  {
   "cell_type": "markdown",
   "metadata": {},
   "source": [
    "Here, we'll consider a case where there are three events. The problem statement is given as:\n",
    "\n",
    "The Art Competition has entries from three painters: Pam, Pia and Pablo\n",
    "- Pam put in 15 paintings, 4% of her works have won First Prize.\n",
    "- Pia put in 5 paintings, 6% of her works have won First Prize.\n",
    "- Pablo put in 10 paintings, 3% of his works have won First Prize.\n",
    "\n",
    "What is the chance that Pam will win First Prize?"
   ]
  },
  {
   "cell_type": "markdown",
   "metadata": {},
   "source": [
    "We have to use the follwoing form of Bayes' theorem:\n",
    "$$\n",
    "P(A_i|B) = \\dfrac{P(A_i)P(B|A_i)}{\\sum_{i=1}^{n}P(A_i)P(B|A_i)}\n",
    "$$"
   ]
  },
  {
   "cell_type": "markdown",
   "metadata": {},
   "source": [
    "Let us define the events as\n",
    "- $A_1$ = Pam wins the first prize\n",
    "- $A_2$ = Pia wins the first prize\n",
    "- $A_3$ = Pablo wins the first prize"
   ]
  },
  {
   "cell_type": "markdown",
   "metadata": {},
   "source": [
    "So, we need to calculate the following expressions:\n",
    "$$\n",
    "P(A_1|B) = \\dfrac{P(A_1)P(B|A_1)}{P(A_1)P(B|A_1)+P(A_2)P(B|A_2)+P(A_3)P(B|A_3)}\n",
    "$$"
   ]
  },
  {
   "cell_type": "markdown",
   "metadata": {},
   "source": [
    "The values of different probabilities are given as:\n",
    "- $P(A_1) = 15/30$\n",
    "- $P(A_2) = 5/30$\n",
    "- $P(A_3) = 10/30$\n",
    "- $P(B|A_1) = 4/100$\n",
    "- $P(B|A_2) = 6/100$\n",
    "- $P(B|A_3) = 3/100$"
   ]
  },
  {
   "cell_type": "markdown",
   "metadata": {},
   "source": [
    "Putting values, the theorem gives:\n",
    "$$\n",
    "P(A_1|B) = \\dfrac{15/30 \\times 4/100}{15/30 \\times 4/100 + 5/30 \\times 6/100 + 10/30 \\times 3/100} = 0.50 = 50\\%\n",
    "$$"
   ]
  }
 ],
 "metadata": {
  "language_info": {
   "name": "python"
  },
  "orig_nbformat": 4
 },
 "nbformat": 4,
 "nbformat_minor": 2
}
