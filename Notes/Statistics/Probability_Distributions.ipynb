{
 "cells": [
  {
   "cell_type": "markdown",
   "metadata": {},
   "source": [
    "<h2 id=\"Contents\">Contents<a href=\"#Contents\"></a></h2>\n",
    "        <ol>\n",
    "        <li><a class=\"\" href=\"#Imports\">Imports</a></li>\n",
    "<li><a class=\"\" href=\"#Probabilty\">Probabilty</a></li>\n",
    "<ol><li><a class=\"\" href=\"#Probability-Principles\">Probability Principles</a></li>\n",
    "<li><a class=\"\" href=\"#What-is-Probability?\">What is Probability?</a></li>\n",
    "<li><a class=\"\" href=\"#How-do-we-calculate-probabilities?\">How do we calculate probabilities?</a></li>\n",
    "</ol><li><a class=\"\" href=\"#Probability-Distribution\">Probability Distribution</a></li>\n",
    "<ol><li><a class=\"\" href=\"#Random-Variables\">Random Variables</a></li>\n",
    "<li><a class=\"\" href=\"#Types-of-Random-Variables\">Types of Random Variables</a></li>\n",
    "<li><a class=\"\" href=\"#Expectation-Value\">Expectation Value</a></li>\n",
    "<li><a class=\"\" href=\"#Bayesian-Update\">Bayesian Update</a></li>\n",
    "</ol><li><a class=\"\" href=\"#Family-of-Distributions\">Family of Distributions</a></li>\n",
    "<ol><li><a class=\"\" href=\"#Bernoulli-Distribution\">Bernoulli Distribution</a></li>\n",
    "<ol><li><a class=\"\" href=\"#Examples\">Examples</a></li>\n",
    "</ol><li><a class=\"\" href=\"#Binomial-Distribution\">Binomial Distribution</a></li>\n",
    "<li><a class=\"\" href=\"#Poisson-Distribution\">Poisson Distribution</a></li>\n",
    "<li><a class=\"\" href=\"#The-Normal-Distribution\">The Normal Distribution</a></li>\n",
    "<ol><li><a class=\"\" href=\"#Standard-Normal-Distribution\">Standard Normal Distribution</a></li>\n",
    "</ol><li><a class=\"\" href=\"#Connection-Between-Probability-Distributions\">Connection Between Probability Distributions</a></li>\n",
    "<ol><li><a class=\"\" href=\"#Poisson-approximation-of-the-binomial-distribution\">Poisson approximation of the binomial distribution</a></li>\n",
    "</ol>"
   ]
  },
  {
   "cell_type": "markdown",
   "metadata": {},
   "source": [
    "# Imports"
   ]
  },
  {
   "cell_type": "code",
   "execution_count": 31,
   "metadata": {},
   "outputs": [],
   "source": [
    "import matplotlib.pyplot as plt\n",
    "import numpy as np\n",
    "import pandas as pd\n",
    "plt.rcParams['figure.figsize'] = (10, 6)\n",
    "from math import factorial"
   ]
  },
  {
   "cell_type": "markdown",
   "metadata": {},
   "source": [
    "# Probabilty"
   ]
  },
  {
   "cell_type": "markdown",
   "metadata": {},
   "source": [
    "##  Probability Principles"
   ]
  },
  {
   "cell_type": "markdown",
   "metadata": {},
   "source": [
    "Probability is very important for statistics because it provides the rules which allow us to\n",
    "reason about uncertainty and randomness, which is the basis of statistics and must be fully\n",
    "understood in order to think clearly about any statistical investigation.\n",
    "The first basic concepts in probability will be the following:\n",
    "* **Experiment**: For example, rolling a single die and recording the outcome.\n",
    "* **Outcome of the experiment**: For example, rolling a 3.\n",
    "* **Sample space S**: The set of all possible outcomes, here $\\{1, 2, 3, 4, 5, 6\\}$.\n",
    "* **Event**: Any subset A of the sample space, for example $A = \\{4, 5, 6\\}$."
   ]
  },
  {
   "cell_type": "markdown",
   "metadata": {},
   "source": [
    "Probability, $P(A)$, will be defined as a function which assigns probabilities (real numbers) to\n",
    "events (sets)."
   ]
  },
  {
   "cell_type": "markdown",
   "metadata": {},
   "source": [
    "## What is Probability?"
   ]
  },
  {
   "cell_type": "markdown",
   "metadata": {},
   "source": [
    "We define probabilities to span the unit interval, i.e. $[0, 1]$, such that for any event A we\n",
    "have:\n",
    "$$0 \\leq P(A) \\leq 1$$\n",
    "\n",
    "At the extremes, an impossible event occurs with a probability of zero, and a certain event\n",
    "occurs with a probability of one, hence $P(S) = 1$ by definition of the sample space. For any\n",
    "event A,$ P(A) \\to 1$ as the event becomes more likely, and $P(A) \\to 0$ as the event becomes\n",
    "less likely. Therefore, the probability value is a quantified measure of how likely an event is to\n",
    "occur.\n"
   ]
  },
  {
   "cell_type": "markdown",
   "metadata": {},
   "source": [
    "There is another interpretation of probability, which is called the **frequency interpretation of probability**. This states that the probability of an outcome A of an experiment is the proportion (relative\n",
    "frequency) of trials in which A would be the outcome if the experiment was repeated a very\n",
    "large number of times under similar conditions."
   ]
  },
  {
   "cell_type": "markdown",
   "metadata": {},
   "source": [
    "## How do we calculate probabilities?"
   ]
  },
  {
   "cell_type": "markdown",
   "metadata": {},
   "source": [
    "A key question is how to determine appropriate numerical values, P(A), for the probabilities\n",
    "of particular events.\n",
    "In practice we could determine probabilities using one of three methods:\n",
    "* **subjectively**\n",
    "* **by experimentation (empirically)**\n",
    "* **theoretically**"
   ]
  },
  {
   "cell_type": "markdown",
   "metadata": {},
   "source": [
    "# Probability Distribution"
   ]
  },
  {
   "cell_type": "markdown",
   "metadata": {},
   "source": [
    "## Random Variables"
   ]
  },
  {
   "cell_type": "markdown",
   "metadata": {},
   "source": [
    "A random variable is a ‘mapping’ of the elementary outcomes in the sample space to real\n",
    "numbers. This allows us to attach probabilities to the experimental outcomes. Hence the\n",
    "concept of a random variable is that of a measurement which takes a particular value for each\n",
    "possible trial (experiment). Frequently, this will be a numerical value."
   ]
  },
  {
   "cell_type": "markdown",
   "metadata": {},
   "source": [
    "For example: Suppose we sample at random five people and measure their heights, hence ‘height’ is the\n",
    "random variable and the five (observed) values of this random variable are the realised\n",
    "measurements for the heights of these five people."
   ]
  },
  {
   "cell_type": "markdown",
   "metadata": {},
   "source": [
    "Another example is tossing of a coin. This is an example of an experiment with non-numerical outcomes would be a coin toss, for which\n",
    "recall $S = \\{H, T\\}$. We can use a random variable, $X$, to convert the sample space elements to\n",
    "real numbers such as:\n",
    "$$\n",
    "X = \\begin{cases}\n",
    "1 & \\text{if } H \\\\\n",
    "0 & \\text{if } T\n",
    "\\end{cases}\n",
    "$$"
   ]
  },
  {
   "cell_type": "markdown",
   "metadata": {},
   "source": [
    ">So each experimental random variable has a collection of possible outcomes, and a numerical\n",
    "value associated with each outcome"
   ]
  },
  {
   "cell_type": "markdown",
   "metadata": {},
   "source": [
    "## Types of Random Variables"
   ]
  },
  {
   "cell_type": "markdown",
   "metadata": {},
   "source": [
    "There are two types of random variables:\n",
    "* **Discrete**: Synonymous with ‘count data’, that is, random variables which take\n",
    "non-negative integer values, such as $0, 1, 2, \\ldots$. For example, the number of heads in\n",
    "$n$ coin tosses.\n",
    "* **Continuous**: Synonymous with ‘measured data’ such as the real line, $\\mathbb{R} = (−\\infty, \\infty)$, or\n",
    "some subset of $\\mathbb{R}$, for example the unit interval $[0, 1]$. For example, the height of adults\n",
    "in centimetres."
   ]
  },
  {
   "cell_type": "markdown",
   "metadata": {},
   "source": [
    "In most cases there will be a higher chance of the random variable taking some sample\n",
    "space values relative to others. Our objective is to express these chances using an associated probability distribution. In the discrete case, we can associate with each ‘point’ in the sample\n",
    "space a probability which represents the chance of the random variable being equal to that\n",
    "particular value."
   ]
  },
  {
   "cell_type": "markdown",
   "metadata": {},
   "source": [
    "For example, Let $X =$ ‘the upper-faced score after rolling a fair die’. If the die results in a 3, then this is\n",
    "written as $x = 3$. The probability distribution of $X$ is uniform, that is, $P(x) = 1/6 \\; \\forall x$. The distribution is plotted below:"
   ]
  },
  {
   "cell_type": "code",
   "execution_count": 12,
   "metadata": {},
   "outputs": [
    {
     "data": {
      "image/png": "[encoded data removed]",
      "text/plain": [
       "<Figure size 720x432 with 1 Axes>"
      ]
     },
     "metadata": {
      "needs_background": "light"
     },
     "output_type": "display_data"
    }
   ],
   "source": [
    "X = [1,2,3,4,5,6]\n",
    "Y = [1/6,1/6,1/6,1/6,1/6,1/6]\n",
    "plt.bar(X,Y,color='g', width=0.02)\n",
    "plt.ylim(0,1)\n",
    "plt.xlim(0.5,6.5)\n",
    "plt.xlabel('X')\n",
    "plt.ylabel('P(X)')\n",
    "plt.title('Probability Distribution of Score on Die')\n",
    "plt.show()"
   ]
  },
  {
   "cell_type": "markdown",
   "metadata": {},
   "source": [
    "## Expectation Value"
   ]
  },
  {
   "cell_type": "markdown",
   "metadata": {},
   "source": [
    "The expected value of $X$ is the probability-weighted\n",
    "average of the sample space values. If $x_1, x_2, \\ldots , x_N$ are the possible values of the random variable X, with corresponding\n",
    "probabilities $p(x_1), p(x_2), \\ldots , p(x_N )$, then:\n",
    "$$\n",
    "E(X)=\\mu = \\sum_{i=1}^N p(x_i) x_i = x_1 p(x_1) + x_2 p(x_2) + \\ldots + x_N p(x_N)\n",
    "$$"
   ]
  },
  {
   "cell_type": "markdown",
   "metadata": {},
   "source": [
    "The expected value is alo known as the \\timespopulation mean\\times. To get a concrete example, we'll use the distribution plotted above. The expected value of $X$ will be:\n",
    "$$\n",
    "E(X)=\\frac{1}{6}\\times1+\\frac{1}{6}\\times2+\\frac{1}{6}\\times3+\\frac{1}{6}\\times4+\\frac{1}{6}\\times5+\\frac{1}{6}\\times6 = 3.5\n",
    "$$"
   ]
  },
  {
   "cell_type": "markdown",
   "metadata": {},
   "source": [
    "We should view 3.5 as a *long-run average* since, clearly, the score from a single roll of a die\n",
    "can never be 3.5, as it is not a member of the sample space. However, if we rolled the die a (very)\n",
    "large number of times, then the average of all of these outcomes would be (approximately) 3.5. Let's role a die 6000 times and calculate the expectation value to see whether we get a 3.5."
   ]
  },
  {
   "cell_type": "code",
   "execution_count": 27,
   "metadata": {},
   "outputs": [],
   "source": [
    "np.random.seed(42)\n",
    "max_throws = 6000\n",
    "def roll_die():\n",
    "    return np.random.randint(1,7)\n",
    "count = {\n",
    "    1:0,\n",
    "    2:0,\n",
    "    3:0,\n",
    "    4:0,\n",
    "    5:0,\n",
    "    6:0\n",
    "}\n",
    "for _ in range(max_throws):\n",
    "    count[roll_die()] += 1"
   ]
  },
  {
   "cell_type": "code",
   "execution_count": 28,
   "metadata": {},
   "outputs": [
    {
     "name": "stdout",
     "output_type": "stream",
     "text": [
      "3.509\n"
     ]
    }
   ],
   "source": [
    "sum_ = 0\n",
    "for key in count:\n",
    "    sum_ += count[key]*key\n",
    "expecataion_value = sum_/max_throws\n",
    "print(expecataion_value)"
   ]
  },
  {
   "cell_type": "markdown",
   "metadata": {},
   "source": [
    "We are getting 3.509, which is very close to 3.5."
   ]
  },
  {
   "cell_type": "markdown",
   "metadata": {},
   "source": [
    "## Bayesian Update"
   ]
  },
  {
   "cell_type": "markdown",
   "metadata": {},
   "source": [
    "Bayesian updating is the act of updating your (probabilistic) beliefs in light of new information.\n",
    "For two events $A$ and $B$, the simplest form of\n",
    "Bayes’ theorem is:\n",
    "$$\n",
    "P(A|B)=\\frac{P(B|A)P(A)}{P(B)}\n",
    "$$"
   ]
  },
  {
   "cell_type": "markdown",
   "metadata": {},
   "source": [
    "For example, consider the probability distribution of the score on a die. Suppose we define the event $A$ to be ‘roll a 6’. Unconditionally, i.e. a priori (before we receive\n",
    "any additional information), we have:\n",
    "$$\n",
    "P(A) = P(X=6)= \\frac{1}{6}\n",
    "$$"
   ]
  },
  {
   "cell_type": "markdown",
   "metadata": {},
   "source": [
    "Now, we are told that the event $B$:\n",
    "$$\n",
    "B = \\text{even score} = \\{2, 4, 6\\}\n",
    "$$\n",
    "has occured. We can then update our beliefs about $A$ by eliminating the $1,2,5$ from sample space. The revised sample space is:\n",
    "$$\n",
    "S = \\{2,4,6\\}\n",
    "$$\n",
    "And hence the probability that the die has rolled a 6 is:\n",
    "$$\n",
    "P(X=6) = \\frac{1}{3}\n",
    "$$"
   ]
  },
  {
   "cell_type": "markdown",
   "metadata": {},
   "source": [
    "The same can be calculated from the formula above. As $P(A)=1/6, P(B)=1/2$. Also, $P(B|A)=1$ as this is nothing but s the probability of an even score given a score\n",
    "of 6. So, we get:\n",
    "$$\n",
    "P(A|B)=\\frac{P(B|A)P(A)}{P(B)} = \\frac{1\\times 1/6}{1/2} = \\frac{1}{3}\n",
    "$$"
   ]
  },
  {
   "cell_type": "markdown",
   "metadata": {},
   "source": [
    "# Family of Distributions"
   ]
  },
  {
   "cell_type": "markdown",
   "metadata": {},
   "source": [
    "Probability distributions may differ from each other in a broader or narrower sense. In the\n",
    "broader sense, we have different *families* of distributions which may have quite different\n",
    "characteristics. eg.\n",
    "* discrete distributions versus continuous distributions\n",
    "* among discrete distributions: a finite versus an infinite number of possible values\n",
    "* among continuous distributions: different sets of possible values (for example, all real\n",
    "numbers $x, x > 0$, or $x \\in [0, 1]$); symmetric versus skewed distributions."
   ]
  },
  {
   "cell_type": "markdown",
   "metadata": {},
   "source": [
    "In the narrower sense, individual distributions within a family differ in having different values\n",
    "of the *parameters* of the distribution. The parameters determine the mean and variance of\n",
    "the distribution, values of probabilities from it etc.\n"
   ]
  },
  {
   "cell_type": "markdown",
   "metadata": {},
   "source": [
    "In the statistical analysis of a random variable X we typically:\n",
    "* select a family of distributions based on the basic characteristics of X\n",
    "* use observed data to choose (estimate) values for the parameters of that distribution,\n",
    "and perform statistical inference on them.\n"
   ]
  },
  {
   "cell_type": "markdown",
   "metadata": {},
   "source": [
    "## Bernoulli Distribution"
   ]
  },
  {
   "cell_type": "markdown",
   "metadata": {},
   "source": [
    "A **Bernoulli trial** is an experiment with only two possible outcomes. We will number these\n",
    "outcomes 1 and 0, and refer to them as ‘success’ and ‘failure’, respectively. Note these are\n",
    "notional successes and failures – the success does not necessarily have to be a ‘good’ outcome,\n",
    "nor a failure a ‘bad’ outcome!\n"
   ]
  },
  {
   "cell_type": "markdown",
   "metadata": {},
   "source": [
    "The Bernoulli distribution is the distribution of the outcome of a single Bernoulli trial. This is the distribution of a random variable $X$\n",
    "with the following probability function:\n",
    "$$\n",
    "P(X=x) = \\begin{cases}\n",
    "\\pi^x(1-\\pi)^{1-x} & \\text{if } x = 0 ,1\\\\\n",
    "0 & \\text{if } x \\neq 0,1\n",
    "\\end{cases}\n",
    "$$"
   ]
  },
  {
   "cell_type": "markdown",
   "metadata": {},
   "source": [
    "where $0 \\le π \\le 1$ is the probability of ‘success’. Note that just as a sample space represents\n",
    "all possible values of a random variable, a parameter space represents all possible values of\n",
    "a parameter. Clearly, as a probability, we must have that $0 \\le π \\le 1$"
   ]
  },
  {
   "cell_type": "markdown",
   "metadata": {},
   "source": [
    "Such a random variable X has a Bernoulli distribution with (probability) parameter $\\pi$. This\n",
    "is often written as:\n",
    "$$X ∼ \\text{Bernoulli}(\\pi) $$ \n",
    "The expected value of $X$ is:\n",
    "$$E(X) = 0\\times (1-\\pi)+1\\times \\pi= \\pi$$"
   ]
  },
  {
   "cell_type": "markdown",
   "metadata": {},
   "source": [
    "Different members of this family of distributions differ in terms of the value of π."
   ]
  },
  {
   "cell_type": "markdown",
   "metadata": {},
   "source": [
    "### Examples"
   ]
  },
  {
   "cell_type": "markdown",
   "metadata": {},
   "source": [
    "Consider the toss of a fair coin, where $X = 1$ denotes ‘heads’ and $X = 0$ denotes ‘tails’. As\n",
    "this is a fair coin, heads and tails are equally likely and hence $\\pi = 0.5$ leading to the specific\n",
    "Bernoulli distribution $X ∼ \\text{Bernoulli}(0.5)$."
   ]
  },
  {
   "cell_type": "markdown",
   "metadata": {},
   "source": [
    "Another example is An opinion poll on a referendum, where each $X_i$\n",
    "is an answer to the question ‘Will you vote\n",
    "‘Yes’ or ‘No’ to joining/leaving1\n",
    "the European Union?’ has answers recorded as $X_i = 0$ if ‘No’\n",
    "and $X_i = 1$ if ‘Yes’. In a poll of 950 people, 513 answered ‘Yes’. Here, the value of the parameter is $\\pi = 513/950=0.54$. Hence this can be written as: $X ∼ \\text{Bernoulli}(0.54)$."
   ]
  },
  {
   "cell_type": "markdown",
   "metadata": {},
   "source": [
    "## Binomial Distribution"
   ]
  },
  {
   "cell_type": "markdown",
   "metadata": {},
   "source": [
    "Suppose we carry out n Bernoulli trials such that:\n",
    "* at each trial, the probability of success is $\\pi$\n",
    "* different trials are statistically independent events."
   ]
  },
  {
   "cell_type": "markdown",
   "metadata": {},
   "source": [
    "Let $X$ denote the total number of successes in these $n$ trials, then $X$ follows a binomial\n",
    "distribution with parameters $n$ and $\\pi$, where $n\\ge 1$ is a known integer and $0 \\le π \\le 1$. This\n",
    "is often written as:\n",
    "$$X ∼ \\text{Binomial}(n, \\pi)$$\n",
    "Th expected value of $X$ is:\n",
    "$$E(X) = n\\times \\pi$$"
   ]
  },
  {
   "cell_type": "markdown",
   "metadata": {},
   "source": [
    "For example, a multiple choice test has 4 questions, each with 4 possible answers. James is taking the test,\n",
    "but has no idea at all about the correct answers. So he guesses every answer and, therefore,\n",
    "has the probability of 1/4 of getting any individual question correct.\n",
    "Let $X$ denote the number of correct answers in James’ test. $X$ follows the binomial distribution\n",
    "with $n = 4$ and $\\pi = 0.25$, i.e. we have: $$X ∼ \\text{Binomial}(4, 0.25)$$"
   ]
  },
  {
   "cell_type": "markdown",
   "metadata": {},
   "source": [
    "The probability distribution of $X~\\text{Binomial}(n, \\pi)$ is:\n",
    "$$\n",
    "P(X=x) = \\begin{cases}\n",
    "\\frac{n!}{x!(n-x)!} \\times {\\pi^x(1-\\pi)^{n-x}}\n",
    "& \\text{if } x = 0, 1, \\ldots , n\\\\\n",
    "0 & \\text{if } \\text{otherwise}\n",
    "\\end{cases}\n",
    "$$"
   ]
  },
  {
   "cell_type": "markdown",
   "metadata": {},
   "source": [
    "Let's plot some of these distributions."
   ]
  },
  {
   "cell_type": "code",
   "execution_count": 81,
   "metadata": {},
   "outputs": [],
   "source": [
    "def binomial(p,n, x):\n",
    "    if x<=x: \n",
    "        return (factorial(n)/(factorial(x)*factorial(n-x)))*(p**x)*((1-p)**(n-x))\n",
    "    return 0"
   ]
  },
  {
   "cell_type": "code",
   "execution_count": 99,
   "metadata": {},
   "outputs": [],
   "source": [
    "def plot_distribution(p, n, ax):\n",
    "    prob = []\n",
    "    for i in range(n+1):\n",
    "        prob.append(binomial(p,n,i))\n",
    "    ax.bar(range(n+1), prob, color='g', width=0.1)\n",
    "    ax.scatter(range(n+1), prob, color='r', s=50)\n",
    "    ax.set_ylim(0,0.3)\n",
    "    ax.set_xlim(-0.05,n+0.5)\n",
    "    ax.set_xticks(range(n+1))\n",
    "    ax.set_title(rf\"$\\pi = {p}, E(X) = {n*p:.0f}$\")"
   ]
  },
  {
   "cell_type": "code",
   "execution_count": 101,
   "metadata": {},
   "outputs": [
    {
     "data": {
      "image/png": "[encoded data removed]",
      "text/plain": [
       "<Figure size 1080x720 with 4 Axes>"
      ]
     },
     "metadata": {
      "needs_background": "light"
     },
     "output_type": "display_data"
    }
   ],
   "source": [
    "fig, axes = plt.subplots(2,2, figsize=(15,10))\n",
    "pies = [0.25, 0.5, 0.7, 0.9]\n",
    "axes = axes.flatten()\n",
    "for pie, ax in zip(pies, axes):\n",
    "    plot_distribution(pie, 20, ax)"
   ]
  },
  {
   "cell_type": "markdown",
   "metadata": {},
   "source": [
    "We can see that as $\\pi$ increases, the probability of getting $x$ correct increases."
   ]
  },
  {
   "cell_type": "markdown",
   "metadata": {},
   "source": [
    "## Poisson Distribution"
   ]
  },
  {
   "cell_type": "markdown",
   "metadata": {},
   "source": [
    "The possible values of the Poisson distribution are the non-negative integers $0, 1, 2, \\ldots$.\n",
    "The probability function of the Poisson distribution is:\n",
    "$$\n",
    "P(X=x) =\\begin{cases} \n",
    "\\frac{e^{-\\lambda}\\lambda^x}{x!}\n",
    "& \\text{if } x = 0,1,2,\\ldots\\\\\n",
    "0 & \\text{otherwise }\n",
    "\\end{cases}\n",
    "$$"
   ]
  },
  {
   "cell_type": "markdown",
   "metadata": {},
   "source": [
    "If a random variable $X$ has a Poisson distribution with parameter $\\lambda$, this is often denoted by: $$X ∼ \\text{Poisson}(\\lambda)$$"
   ]
  },
  {
   "cell_type": "markdown",
   "metadata": {},
   "source": [
    "The expected value of $X$ is:\n",
    "$$E(X) = \\lambda$$"
   ]
  },
  {
   "cell_type": "markdown",
   "metadata": {},
   "source": [
    "The plots of this distribution are:"
   ]
  },
  {
   "cell_type": "code",
   "execution_count": 105,
   "metadata": {},
   "outputs": [],
   "source": [
    "def poisson(lambd, x):\n",
    "    if x>=0:\n",
    "        return np.exp(-lambd)*(lambd**x)/factorial(x)\n",
    "    return 0"
   ]
  },
  {
   "cell_type": "code",
   "execution_count": 110,
   "metadata": {},
   "outputs": [],
   "source": [
    "def plot_distribution(lambd, x, ax):\n",
    "    prob = []\n",
    "    for i in range(x+1):\n",
    "        prob.append(poisson(lambd,i))\n",
    "    ax.bar(range(x+1), prob, color='g', width=0.1)\n",
    "    ax.scatter(range(x+1), prob, color='r', s=50)\n",
    "    ax.set_ylim(0,0.3)\n",
    "    ax.set_xlim(-0.05,x+0.5)\n",
    "    ax.set_xticks(range(x+1))\n",
    "    ax.set_title(rf\"$\\lambda = {lambd}, E(X) = {lambd:.0f}$\")"
   ]
  },
  {
   "cell_type": "code",
   "execution_count": 114,
   "metadata": {},
   "outputs": [
    {
     "data": {
      "image/png": "[encoded data removed]",
      "text/plain": [
       "<Figure size 1080x720 with 4 Axes>"
      ]
     },
     "metadata": {
      "needs_background": "light"
     },
     "output_type": "display_data"
    }
   ],
   "source": [
    "fig, axes = plt.subplots(2,2, figsize=(15,10))\n",
    "lambds = [2, 4, 6, 8]\n",
    "axes = axes.flatten()\n",
    "for lambd, ax in zip(lambds, axes):\n",
    "    plot_distribution(lambd, 20, ax)"
   ]
  },
  {
   "cell_type": "markdown",
   "metadata": {},
   "source": [
    "Poisson distributions are used for counts of occurrences of various kinds. To give a formal\n",
    "motivation, suppose that we consider the number of occurrences of some phenomenon in time,\n",
    "and that the process which generates the occurrences satisfies the following conditions:\n",
    "1. The numbers of occurrences in any two disjoint intervals of time are independent of each\n",
    "other.\n",
    "2. The probability of two or more occurrences at the same time is negligibly small.\n",
    "3. The probability of one occurrence in any short time interval of length $t$ is $\\lambda t$ for some\n",
    "constant $\\lambda \\gt 0$."
   ]
  },
  {
   "cell_type": "markdown",
   "metadata": {},
   "source": [
    ">In essence, these state that individual occurrences should be independent, sufficiently rare, and\n",
    "happen at a constant rate $\\lambda$ per unit of time. A process like this is a **Poisson process**."
   ]
  },
  {
   "cell_type": "markdown",
   "metadata": {},
   "source": [
    "Examples of variables for which we might use a Poisson distribution include the following.\n",
    "* The number of telephone calls received at a call centre per minute.\n",
    "* The number of accidents on a stretch of motorway per week.\n",
    "* The number of customers arriving at a checkout per minute.\n",
    "* The number of misprints per page of newsprint."
   ]
  },
  {
   "cell_type": "markdown",
   "metadata": {},
   "source": [
    "## The Normal Distribution"
   ]
  },
  {
   "cell_type": "markdown",
   "metadata": {},
   "source": [
    "The normal distribution is by far the most important probability distribution in statistics.\n",
    "This is for three broad reasons.\n",
    "* Many variables have distributions which are approximately normal, for example heights\n",
    "of humans or animals, and weights of various products.\n",
    "* The normal distribution has extremely convenient mathematical properties, which make\n",
    "it a useful default choice of distribution in many contexts.\n",
    "* Even when a variable is not itself even approximately normally distributed, functions\n",
    "of several observations of the variable (‘sampling distributions’) are often approximately\n",
    "normal, due to the **central limit theorem**."
   ]
  },
  {
   "cell_type": "markdown",
   "metadata": {},
   "source": [
    "The equation of the normal distribution curve is:\n",
    "$$\n",
    "P(X=x) = \\frac{1}{\\sqrt{2\\pi\\sigma^2}} e^{-\\frac{(x-\\mu)^2}{2\\sigma^2}}\n",
    "$$\n",
    "\n",
    "where $x$ is the value of the random variable, $\\mu$ is the mean, and $\\sigma$ is the standard deviation."
   ]
  },
  {
   "cell_type": "markdown",
   "metadata": {},
   "source": [
    "A random variable $X$ with this function is said to have a normal distribution with a mean\n",
    "of $\\mu$ and a variance of $\\sigma^2$.\n",
    ", denoted $X ∼ N(\\mu, \\sigma^2)$.. The mean can also be inferred from the\n",
    "observation that the normal distribution is symmetric about $\\mu$, which also implies that the\n",
    "median of the normal distribution is $\\mu$."
   ]
  },
  {
   "cell_type": "markdown",
   "metadata": {},
   "source": [
    "Let's plot the distribution."
   ]
  },
  {
   "cell_type": "code",
   "execution_count": 115,
   "metadata": {},
   "outputs": [],
   "source": [
    "def normal(x, mu, sigma):\n",
    "    return 1/(sigma*np.sqrt(2*np.pi))*np.exp(-((x-mu)**2)/(2*sigma**2))"
   ]
  },
  {
   "cell_type": "code",
   "execution_count": 124,
   "metadata": {},
   "outputs": [
    {
     "data": {
      "image/png": "[encoded data removed]",
      "text/plain": [
       "<Figure size 720x432 with 1 Axes>"
      ]
     },
     "metadata": {
      "needs_background": "light"
     },
     "output_type": "display_data"
    }
   ],
   "source": [
    "X = np.linspace(-10,10,1000)\n",
    "mu = 0\n",
    "sigma = np.sqrt(9)\n",
    "plt.plot(X, normal(X, mu, sigma), label=f\"$N({mu}, {int(sigma**2)})$\")\n",
    "mu = 0\n",
    "sigma = np.sqrt(1)\n",
    "plt.plot(X, normal(X, mu, sigma), label=f\"$N({mu}, {int(sigma**2)})$\")\n",
    "mu = 5\n",
    "sigma = np.sqrt(1)\n",
    "plt.plot(X, normal(X, mu, sigma), label=f\"$N({mu}, {int(sigma**2)})$\")\n",
    "plt.legend()\n",
    "plt.xlim(-10, 10)\n",
    "plt.ylim(0, 0.5)\n",
    "plt.xlabel('X')\n",
    "plt.ylabel('P(X)')\n",
    "plt.show()"
   ]
  },
  {
   "cell_type": "markdown",
   "metadata": {},
   "source": [
    "From the figure, we can see that:\n",
    "* The mean $\\mu$ determines the location of the curve.\n",
    "* The variance $\\sigma^2$ determines the dispersion (spread) of the curve."
   ]
  },
  {
   "cell_type": "markdown",
   "metadata": {},
   "source": [
    "### Standard Normal Distribution"
   ]
  },
  {
   "cell_type": "markdown",
   "metadata": {},
   "source": [
    "The normal distribution has the following property:\n",
    "If we apply the transformation:\n",
    "$$\n",
    "Y = aX+b\n",
    "$$\n",
    "And if $X$ follows normal distribution with parameters $\\mu$ and $\\sigma^2$, then $Y$ follows normal distribution with parameters $a\\mu+b$ and $a^2\\sigma^2$. That is:\n",
    "$$\n",
    "Y = aX+b ∼ N(a\\mu+b, a^2\\sigma^2)\n",
    "$$"
   ]
  },
  {
   "cell_type": "markdown",
   "metadata": {},
   "source": [
    "This type of result is not true in general. For other families of distributions, the distribution\n",
    "of $Y = aX + b$ is not always in the same family as $X$.\n"
   ]
  },
  {
   "cell_type": "markdown",
   "metadata": {},
   "source": [
    "Now, if we choose $a = 1/\\sigma$ and $b = -\\mu/\\sigma$, the new distribution is:\n",
    "$$\n",
    "Z = \\frac{1}{\\sigma}(X-\\mu) ∼ N(0, 1)\n",
    "$$"
   ]
  },
  {
   "cell_type": "markdown",
   "metadata": {},
   "source": [
    "The transformed variable $Z = \\frac{1}{\\sigma}(X-\\mu)$ is known as a standardised variable or a **z-score**. The distribution of the z-score is $N(0, 1)$, i.e. the normal distribution with mean $\\mu = 0$ and\n",
    "variance $\\sigma^\n",
    "2 = 1$ (and, therefore, a standard deviation of 1). This is known as the standard\n",
    "normal distribution."
   ]
  },
  {
   "cell_type": "code",
   "execution_count": 127,
   "metadata": {},
   "outputs": [
    {
     "data": {
      "image/png": "[encoded data removed]",
      "text/plain": [
       "<Figure size 720x432 with 1 Axes>"
      ]
     },
     "metadata": {
      "needs_background": "light"
     },
     "output_type": "display_data"
    }
   ],
   "source": [
    "X = np.linspace(-10,10,1000)\n",
    "mu = 0\n",
    "sigma = np.sqrt(1)\n",
    "plt.plot(X, normal(X, mu, sigma))\n",
    "plt.title(\"Standard Normal Distribution\")\n",
    "plt.xlim(-5, 5)\n",
    "plt.ylim(0, 0.5)\n",
    "plt.xlabel('X')\n",
    "plt.ylabel('P(X)')\n",
    "plt.show()"
   ]
  },
  {
   "cell_type": "markdown",
   "metadata": {},
   "source": [
    "## Connection Between Probability Distributions"
   ]
  },
  {
   "cell_type": "markdown",
   "metadata": {},
   "source": [
    "There are close connections between some probability distributions, even across different\n",
    "families of them. Some connections are exact, i.e. one distribution is exactly equal to another,\n",
    "for particular values of the parameters. For example, Bernoulli($\\pi$) is the same distribution as\n",
    "Bin(1, $\\pi$).\n"
   ]
  },
  {
   "cell_type": "markdown",
   "metadata": {},
   "source": [
    "Some connections are approximate (or asymptotic), i.e. one distribution is closely\n",
    "approximated by another under some limiting conditions. This is the case with Poisson distributions and binomial distributions."
   ]
  },
  {
   "cell_type": "markdown",
   "metadata": {},
   "source": [
    "### Poisson approximation of the binomial distribution"
   ]
  },
  {
   "cell_type": "markdown",
   "metadata": {},
   "source": [
    "Suppose that:\n",
    "* $X ∼ \\text{Bin}(n, \\pi)$.\n",
    "* $n$ is large and $\\pi$ is small.\n",
    "  \n",
    "Under such circumstances, the distribution of $X$ is well-approximated by a Poisson($\\lambda$)\n",
    "distribution with $\\lambda = n \\pi$.\n",
    "\n",
    "The connection is exact at the limit, i.e. Bin(n, $\\pi$) → Poisson($\\lambda$) if $n \\to \\infty$ and $\\pi \\to 0$ in such\n",
    "a way that $n \\pi = \\lambda$ remains constant."
   ]
  },
  {
   "cell_type": "markdown",
   "metadata": {},
   "source": []
  }
 ],
 "metadata": {
  "kernelspec": {
   "display_name": "Python 3.9.12 ('data-science')",
   "language": "python",
   "name": "python3"
  },
  "language_info": {
   "codemirror_mode": {
    "name": "ipython",
    "version": 3
   },
   "file_extension": ".py",
   "mimetype": "text/x-python",
   "name": "python",
   "nbconvert_exporter": "python",
   "pygments_lexer": "ipython3",
   "version": "3.9.12"
  },
  "orig_nbformat": 4,
  "vscode": {
   "interpreter": {
    "hash": "d74fc908eae79b02b8cce18e1a025ddee3cde1cb9b0b41023c6cc1f310bb259d"
   }
  }
 },
 "nbformat": 4,
 "nbformat_minor": 2
}
