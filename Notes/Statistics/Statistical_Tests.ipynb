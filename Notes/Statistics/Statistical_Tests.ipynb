{
 "cells": [
  {
   "cell_type": "markdown",
   "metadata": {},
   "source": [
    "<h2 id=\"Contents\">Contents<a href=\"#Contents\"></a></h2>\n",
    "        <ol>\n",
    "        <li><a class=\"\" href=\"#Imports\">Imports</a></li>\n",
    "<li><a class=\"\" href=\"#Hypothesis-Testing\">Hypothesis Testing</a></li>\n",
    "<ol><li><a class=\"\" href=\"#Null-Hypothesis\">Null Hypothesis</a></li>\n",
    "<li><a class=\"\" href=\"#Example\">Example</a></li>\n",
    "<li><a class=\"\" href=\"#Errors\">Errors</a></li>\n",
    "<ol><li><a class=\"\" href=\"#Significance-Level\">Significance Level</a></li>\n",
    "</ol><li><a class=\"\" href=\"#p-Value\">p-Value</a></li>\n",
    "<li><a class=\"\" href=\"#Example-of-p-value\">Example of p-value</a></li>\n",
    "<ol><li><a class=\"\" href=\"#Interpretation-of-p-values\">Interpretation of p-values</a></li>\n",
    "</ol><li><a class=\"\" href=\"#Effect-on-Value-of-p-value\">Effect on Value of p-value</a></li>\n",
    "<ol><li><a class=\"\" href=\"#Effect-Size\">Effect Size</a></li>\n",
    "<li><a class=\"\" href=\"#Sample-Size\">Sample Size</a></li>\n",
    "</ol></ol><li><a class=\"\" href=\"#Central-Limit-Theorem\">Central Limit Theorem</a></li>\n",
    "<ol><li><a class=\"\" href=\"#How-Large-$n$?\">How Large $n$?</a></li>\n",
    "<li><a class=\"\" href=\"#Examples-of-CLT\">Examples of CLT</a></li>\n",
    "<ol><li><a class=\"\" href=\"#1.-Binomial-Distribution\">1. Binomial Distribution</a></li>\n",
    "</ol>"
   ]
  },
  {
   "cell_type": "markdown",
   "metadata": {},
   "source": [
    "# Imports"
   ]
  },
  {
   "cell_type": "code",
   "execution_count": 1,
   "metadata": {},
   "outputs": [],
   "source": [
    "import numpy as np\n",
    "import matplotlib.pyplot as plt"
   ]
  },
  {
   "cell_type": "markdown",
   "metadata": {},
   "source": [
    "# Hypothesis Testing"
   ]
  },
  {
   "cell_type": "markdown",
   "metadata": {},
   "source": [
    "Hypothesis testing in statistics is a way for you to test the results of a survey or experiment to see if you have meaningful results. You’re basically testing whether your results are valid by figuring out the odds that your results have happened by chance. If your results may have happened by chance, the experiment won’t be repeatable and so has little use."
   ]
  },
  {
   "cell_type": "markdown",
   "metadata": {},
   "source": [
    "In hypothesis thesting, we make a binary decision\n",
    "between two competing hypotheses:\n",
    "$$\n",
    "H_0: \\text{the null hypothesis} \\\\\n",
    "H_1: \\text{the alternative hypothesis}\n",
    "$$"
   ]
  },
  {
   "cell_type": "markdown",
   "metadata": {},
   "source": [
    "The binary decision is whether to ‘reject $H_0$’ or ‘fail to reject $H_0$’."
   ]
  },
  {
   "cell_type": "markdown",
   "metadata": {},
   "source": [
    "## Null Hypothesis"
   ]
  },
  {
   "cell_type": "markdown",
   "metadata": {},
   "source": [
    "The null hypothesis, $H_0$ is the commonly accepted fact; it is the opposite of the alternate hypothesis. Researchers work to reject, nullify or disprove the null hypothesis. Researchers come up with an alternate hypothesis, one that they think explains a phenomenon, and then work to reject the null hypothesis."
   ]
  },
  {
   "cell_type": "markdown",
   "metadata": {},
   "source": [
    "## Example"
   ]
  },
  {
   "cell_type": "markdown",
   "metadata": {},
   "source": [
    "In a criminal court, defendants are put on trial because the police suspect they are guilty of\n",
    "a crime. Of course, the police are biased due to their suspicion of guilt so determination of\n",
    "whether a defendant is guilty or not guilty is undertaken by an independent (and hopefully\n",
    "objective!) jury."
   ]
  },
  {
   "cell_type": "markdown",
   "metadata": {},
   "source": [
    "The jury has to decide between the two competing hypotheses:\n",
    "$$\n",
    "H_0 : \\text{not guilty and }  H_1 : \\text{guilty}$$\n"
   ]
  },
  {
   "cell_type": "markdown",
   "metadata": {},
   "source": [
    "In most jury-based legal systems around the world there is the ‘presumption of innocence\n",
    "until proven guilty’. This equates to the jury initially believing H0, which is the working\n",
    "hypothesis. A jury must continue to believe in the null hypothesis until they feel the evidence\n",
    "presented to the court proves guilt ‘beyond a reasonable doubt’, which represents the\n",
    "burden of proof required to establish guilt. In our statistical world of hypothesis testing, this\n",
    "will be known as the significance level, i.e. the amount of evidence needed to reject $H_0$.\n"
   ]
  },
  {
   "cell_type": "markdown",
   "metadata": {},
   "source": [
    "The jury uses the following decision rule to make a judgement. If the evidence is:\n",
    "* sufficiently inconsistent with the defendant being not guilty, then reject the null\n",
    "hypothesis (i.e. convict)\n",
    "* not indicating guilt beyond a reasonable doubt, then fail to reject the null hypothesis –\n",
    "note that failing to prove guilt does not prove that the defendant is innocent!"
   ]
  },
  {
   "cell_type": "markdown",
   "metadata": {},
   "source": [
    "## Errors"
   ]
  },
  {
   "cell_type": "markdown",
   "metadata": {},
   "source": [
    "In any hypothesis test there are two types of inferential decision error which could be\n",
    "committed. These\n",
    "two types of error are called a Type I error and a Type II error."
   ]
  },
  {
   "cell_type": "markdown",
   "metadata": {},
   "source": [
    "* Type I error: rejecting $H_0$ when it is true. This can be thought of as a ‘false positive’.\n",
    "Denote the probability of this type of error by $\\alpha$.\n",
    "* Type II error: failing to reject $H_0$ when it is false. This can be thought of as a ‘false\n",
    "negative’. Denote the probability of this type of error by $\\beta$.\n"
   ]
  },
  {
   "cell_type": "markdown",
   "metadata": {},
   "source": [
    "For example, if $H_0$ was being ‘not guilty’ and $H_1$ was being ‘guilty’, a Type I error would be\n",
    "finding an innocent person guilty (bad for him/her), while a Type II error would be finding a\n",
    "guilty person innocent (bad for the victim/society, but admittedly good for him/her!)."
   ]
  },
  {
   "cell_type": "markdown",
   "metadata": {},
   "source": [
    "> Both errors are undesirable and, depending on the context of the hypothesis test, it could be\n",
    "argued that either one is worse than the other.\n",
    "However, on balance, a Type I error is usually considered to be more problematic."
   ]
  },
  {
   "cell_type": "markdown",
   "metadata": {},
   "source": [
    "The complement of a Type II error, that is $1 − \\beta$, is called the power of the test – the\n",
    "probability that the test will reject a false null hypothesis. Hence power measures the\n",
    "ability of the test to reject a false $H_0$, and so we seek the most powerful test for any testing\n",
    "situation."
   ]
  },
  {
   "cell_type": "markdown",
   "metadata": {},
   "source": [
    "We have:\n",
    "$$\n",
    "P(H_0 \\text{ not rejected } | H_0 \\text{ is true }) = 1 − \\alpha\\\\\n",
    "P(H_0 \\text{ rejected } | H_0 \\text{ is true }) = \\alpha\\\\\n",
    "P(H_0 \\text{ not rejected } | H_1 \\text{ is true }) = \\beta\\\\\n",
    "P(H_0 \\text{ rejected } | H_1 \\text{ is true }) = 1 − \\beta\\\\\n",
    "$$"
   ]
  },
  {
   "cell_type": "markdown",
   "metadata": {},
   "source": [
    "Other things equal, if you decrease $\\alpha$ you increase $\\beta$ and vice-versa. Hence there is a trade-of."
   ]
  },
  {
   "cell_type": "markdown",
   "metadata": {},
   "source": [
    "### Significance Level"
   ]
  },
  {
   "cell_type": "markdown",
   "metadata": {},
   "source": [
    "The probability of a Type I error, $\\alpha$, is called the significance level. Significance\n",
    "level can also be viewed as the complement of the confidence level. For example:\n",
    "* a 90% confidence level equates to a 10% significance level\n",
    "* a 95% confidence level equates to a 5% significance level\n",
    "* a 99% confidence level equates to a 1% significance level."
   ]
  },
  {
   "cell_type": "markdown",
   "metadata": {},
   "source": [
    "## p-Value"
   ]
  },
  {
   "cell_type": "markdown",
   "metadata": {},
   "source": [
    "A p-value is the probability of the event that the ‘test statistic’ takes the observed value or\n",
    "more extreme (i.e. more unlikely) values under $H_0$. It is a measure of the discrepancy between\n",
    "the hypothesis $H_0$ and the data evidence.\n"
   ]
  },
  {
   "cell_type": "markdown",
   "metadata": {},
   "source": [
    "* A ‘small’ p-value indicates that H0 is not supported by the data.\n",
    "* A ‘large’ p-value indicates that H0 is not inconsistent with the data.\n",
    "So p-values may be seen as a risk measure of rejecting $H_0$."
   ]
  },
  {
   "cell_type": "markdown",
   "metadata": {},
   "source": [
    "## Example of p-value"
   ]
  },
  {
   "cell_type": "markdown",
   "metadata": {},
   "source": [
    "Suppose one is interested in evaluating the mean income (in £000s) of a community. Suppose\n",
    "income in the population is modelled as $N(\\mu, 25)$ and a random sample of n = 25 observations\n",
    "is taken, yielding the sample mean $\\bar{x}=17$."
   ]
  },
  {
   "cell_type": "markdown",
   "metadata": {},
   "source": [
    "Independently of the data, three expert economists give their own opinions as follows.\n",
    "* Dr A claims the mean income is $\\mu = 16$.\n",
    "* Ms B claims the mean income is $\\mu = 15$.\n",
    "* Mr C claims the mean income is $\\mu = 14$."
   ]
  },
  {
   "cell_type": "markdown",
   "metadata": {},
   "source": [
    "We'll assess thsese statements using $\\bar{X}\\sim N(\\mu, \\sigma^2/n)=N(\\mu, 1)$"
   ]
  },
  {
   "cell_type": "markdown",
   "metadata": {},
   "source": [
    "If Dr A’s claim is correct, $\\bar{X}\\sim N(16, 1)$. The observed value $\\bar{x}=17$ is one standard\n",
    "deviation away from µ, and may be regarded as a typical observation from the distribution.\n",
    "Hence there is little inconsistency between the claim and the data evidence. "
   ]
  },
  {
   "cell_type": "markdown",
   "metadata": {},
   "source": [
    "If Ms B’s claim is correct, $\\bar{X}\\sim N(15, 1)$. The observed value $\\bar{x}=17$ begins to look a bit\n",
    "‘extreme’, as it is two standard deviations away from µ. Hence there is some\n",
    "inconsistency between the claim and the data evidence."
   ]
  },
  {
   "cell_type": "markdown",
   "metadata": {},
   "source": [
    "If Mr C’s claim is correct, $\\bar{X}\\sim N(14, 1)$. The observed value $\\bar{x}=17$ 7 is very extreme, as it is\n",
    "three standard deviations away from µ. Hence there is strong inconsistency between\n",
    "the claim and the data evidenced the data evidence."
   ]
  },
  {
   "cell_type": "markdown",
   "metadata": {},
   "source": [
    "It follows that:\n",
    "* under $H_0$: $\\mu = 16, P(\\bar{X}\\ge 17)+P(\\bar{X}\\le 15)=P(|\\bar{X}-16|\\ge 1)=0.3173$\n",
    "* under $H_0$: $\\mu = 15 P(\\bar{X}\\ge 17)+P(\\bar{X}\\le 13)=P(|\\bar{X}-15|\\ge 2)=0.0455$\n",
    "* under $H_0$: $\\mu = 14, P(\\bar{X}\\ge 17)+P(\\bar{X}\\le 11)=P(|\\bar{X}-14|\\ge 3)=0.0027$"
   ]
  },
  {
   "cell_type": "markdown",
   "metadata": {},
   "source": [
    "In summary, we reject the hypothesis µ = 15 or µ = 14, as, for example, if the hypothesis\n",
    "µ = 14 is true, the probability of observing $\\bar{x}=17$, or more extreme values, would be as small\n",
    "as 0.003. We are comfortable with this decision, as a small probability event would be\n",
    "very unlikely to occur in a single experiment."
   ]
  },
  {
   "cell_type": "markdown",
   "metadata": {},
   "source": [
    "### Interpretation of p-values"
   ]
  },
  {
   "cell_type": "markdown",
   "metadata": {},
   "source": [
    "We know that we control for the probability of a Type I error through our choice\n",
    "of significance level, $\\alpha$, where $\\alpha \\in [0, 1]$. Since p-values are also probabilities, as defined above,\n",
    "we simply compare p-values with our chosen benchmark significance level, $\\alpha$."
   ]
  },
  {
   "cell_type": "markdown",
   "metadata": {},
   "source": [
    "Our decision is to reject $H_0$ if the p-value is $\\le \\alpha$. Otherwise, $H_0$ is not rejected."
   ]
  },
  {
   "cell_type": "markdown",
   "metadata": {},
   "source": [
    "## Effect on Value of p-value"
   ]
  },
  {
   "cell_type": "markdown",
   "metadata": {},
   "source": [
    "The magnitude of the p-value (compared with $\\alpha$) determines whether or not $H_0$ is\n",
    "rejected. Therefore, it is important to consider two key influences on the magnitude of the\n",
    "p-value: the effect size and the sample size."
   ]
  },
  {
   "cell_type": "markdown",
   "metadata": {},
   "source": [
    "### Effect Size"
   ]
  },
  {
   "cell_type": "markdown",
   "metadata": {},
   "source": [
    "The effect size reflects the difference between what you would expect to observe if the null\n",
    "hypothesis is true and what is actually observed in a random experiment. Equality between\n",
    "our expectation and observation would equate to a zero effect size, which (while not proof that\n",
    "$H_0$ is true) provides the most convincing evidence in favour of $H_0$. As the difference between\n",
    "our expectation and observation increases, the data evidence becomes increasingly inconsistent\n",
    "with $H_0$ making us more likely to reject $H_0$. Hence as the effect size gets larger, the\n",
    "p-value gets smaller."
   ]
  },
  {
   "cell_type": "markdown",
   "metadata": {},
   "source": [
    "For example, consider the experiment of tossing a coin 100 times and observing the\n",
    "number of heads. Quite rightly, you would not doubt the coin is fair (i.e. unbiased) if you\n",
    "observed exactly 50 heads as this is what you would expect from a fair coin (50% of tosses\n",
    "would be expected to be heads, and the other 50% tails). However, it is possible that you are:"
   ]
  },
  {
   "cell_type": "markdown",
   "metadata": {},
   "source": [
    "* somewhat sceptical that the coin is fair if you observe 40 or 60 heads, say\n",
    "* even more sceptical that the coin is fair if you observe 35 or 65 heads, say\n",
    "* highly sceptical that the coin is fair if you observe 30 or 70 heads, say"
   ]
  },
  {
   "cell_type": "markdown",
   "metadata": {},
   "source": [
    "> In this situation, the greater the difference between the number of heads and tails, the more\n",
    "evidence you have that the coin is not fair."
   ]
  },
  {
   "cell_type": "markdown",
   "metadata": {},
   "source": [
    "If we calculate the p-value of different scenes of tossing a coin 100 times, we can see that:\n",
    "\n",
    "|Number of heads|Number of Tails|p-value|\n",
    "|:-------------:|:-------------:|:-----:|\n",
    "|50|50|0.5|\n",
    "|55|45|0.3682|\n",
    "|60|40|0.0569|\n",
    "|70|30|<0.0001|\n",
    "|80|20|$\\approx$ 0|"
   ]
  },
  {
   "cell_type": "markdown",
   "metadata": {},
   "source": [
    "If we take $\\alpha = 0.05$ we have to reject $H_0$ for the last two cases."
   ]
  },
  {
   "cell_type": "markdown",
   "metadata": {},
   "source": [
    "### Sample Size"
   ]
  },
  {
   "cell_type": "markdown",
   "metadata": {},
   "source": [
    "Other things equal, a larger sample size should lead to a more representative\n",
    "random sample and the characteristics of the sample should more closely resemble those\n",
    "of the population distribution from which the sample is drawn.\n",
    "\n",
    "In the context of the coin toss, this would mean the observed sample proportion of heads should\n",
    "converge to the true probability of heads, $\\pi$, as $n \\to \\infty$.\n",
    "\n",
    "As such, we consider the sample size influence on the p-value. For a non-zero effect size\n",
    "the p-value decreases as the sample size increases."
   ]
  },
  {
   "cell_type": "markdown",
   "metadata": {},
   "source": [
    "Continuing the coin toss example, let us fix the (absolute) effect size at 0.1, i.e. in each of the\n",
    "following examples the observed sample proportion of heads differs by a fixed proportion of 0.1"
   ]
  },
  {
   "cell_type": "markdown",
   "metadata": {},
   "source": [
    "|Observation (H, T)|Sample Size|p-value|\n",
    "|:-------------:|:-------------:|:-----:|\n",
    "|6, 4|10|0.7539|\n",
    "|12, 8|20|0.5034|\n",
    "|18, 12|30|0.3616|\n",
    "|60, 40|100|0.0569|\n",
    "|150, 100|250|0.0019|"
   ]
  },
  {
   "cell_type": "markdown",
   "metadata": {},
   "source": [
    "So we clearly see the inverse relationship between the sample size and the p-value.\n",
    "\n",
    "Again, if we take $\\alpha = 0.05$ we have to reject $H_0$ for the last case."
   ]
  },
  {
   "cell_type": "markdown",
   "metadata": {},
   "source": [
    "# Central Limit Theorem"
   ]
  },
  {
   "cell_type": "markdown",
   "metadata": {},
   "source": [
    "Tthe central limit theorem (CLT) states that the normal sampling distribution of $\\bar{X}$ which holds exactly for\n",
    "random samples from a normal distribution, also holds approximately for random samples from\n",
    "nearly any distribution"
   ]
  },
  {
   "cell_type": "markdown",
   "metadata": {},
   "source": [
    ">The CLT applies to ‘nearly any’ distribution because it requires that the variance of the\n",
    "population distribution is finite. If it is not, the CLT does not hold. However, such\n",
    "distributions are not common."
   ]
  },
  {
   "cell_type": "markdown",
   "metadata": {},
   "source": [
    "The central limit theorem in statistics states that, given a sufficiently large sample size, the sampling distribution of the mean for a variable will approximate a normal distribution regardless of that variable’s distribution in the population. This means that for a random sample from nearly any distribution\n",
    "with mean $\\mu$ and variance $\\sigma^2$\n",
    "then:\n",
    "$$\n",
    "\\bar{X} \\sim N(\\mu, \\frac{\\sigma^2}{n})\n",
    "$$\n"
   ]
  },
  {
   "cell_type": "markdown",
   "metadata": {},
   "source": [
    "approximately, when $n$ is sufficiently large. We can then say that $\\bar{X}$ is asymptotically\n",
    "normally distributed with mean $\\mu$ and variance $\\sigma^2/2$."
   ]
  },
  {
   "cell_type": "markdown",
   "metadata": {},
   "source": [
    "## How Large $n$?"
   ]
  },
  {
   "cell_type": "markdown",
   "metadata": {},
   "source": [
    "The larger the sample size n, the better the normal approximation provided by the CLT is. In\n",
    "practice, we have various rules-of-thumb for what is ‘large enough’ for the approximation to be\n",
    "‘accurate enough’. This also depends on the population distribution of $X_i$\n",
    ". For example:\n",
    "* for symmetric distributions, even small $n$ is enough\n",
    "* for very skewed distributions, larger $n$ is required."
   ]
  },
  {
   "cell_type": "markdown",
   "metadata": {},
   "source": [
    "For many distributions, $n \\gt 50$ is sufficient for the approximation to be reasonably\n",
    "accurate.\n"
   ]
  },
  {
   "cell_type": "markdown",
   "metadata": {},
   "source": [
    "## Examples of CLT"
   ]
  },
  {
   "cell_type": "markdown",
   "metadata": {},
   "source": [
    "### 1. Binomial Distribution"
   ]
  },
  {
   "cell_type": "code",
   "execution_count": 2,
   "metadata": {},
   "outputs": [],
   "source": [
    "def normal(x, mu, sigma):\n",
    "    return 1/(sigma*np.sqrt(2*np.pi))*np.exp(-((x-mu)**2)/(2*sigma**2))"
   ]
  },
  {
   "cell_type": "code",
   "execution_count": 8,
   "metadata": {},
   "outputs": [
    {
     "data": {
      "image/png": "[encoded data removed]",
      "text/plain": [
       "<Figure size 1080x720 with 6 Axes>"
      ]
     },
     "metadata": {
      "needs_background": "light"
     },
     "output_type": "display_data"
    }
   ],
   "source": [
    "ns = [1,10,30,50,100,1000]\n",
    "X = np.linspace(-10,10,1000)\n",
    "limits = [(0,40),(0,14),(0,10),(0,7),(0,6), (0,5)]\n",
    "mu = 4\n",
    "sigma = 16\n",
    "fig, axes = plt.subplots(3,2, figsize=(15,10))\n",
    "axes = axes.flatten()\n",
    "i=0\n",
    "for n in ns:\n",
    "    axes[i].hist(np.random.binomial(n=n, p=0.25, size=10000), density=True, bins=100)\n",
    "    axes[i].set_title(f'n = {n}')\n",
    "    i+=1"
   ]
  },
  {
   "cell_type": "markdown",
   "metadata": {},
   "source": [
    "We can see that the distribution becomes normal as we increase the sample size."
   ]
  }
 ],
 "metadata": {
  "kernelspec": {
   "display_name": "Python 3.9.12 ('data-science')",
   "language": "python",
   "name": "python3"
  },
  "language_info": {
   "codemirror_mode": {
    "name": "ipython",
    "version": 3
   },
   "file_extension": ".py",
   "mimetype": "text/x-python",
   "name": "python",
   "nbconvert_exporter": "python",
   "pygments_lexer": "ipython3",
   "version": "3.9.12"
  },
  "orig_nbformat": 4,
  "vscode": {
   "interpreter": {
    "hash": "2efee1efa502125d01e6b4768ba06d9453d29f3642bfd14ad5d4a769de82e88c"
   }
  }
 },
 "nbformat": 4,
 "nbformat_minor": 2
}
