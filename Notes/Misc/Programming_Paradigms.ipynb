{
 "cells": [
  {
   "cell_type": "markdown",
   "metadata": {},
   "source": [
    "<h2 id=\"Contents\">Contents<a href=\"#Contents\"></a></h2>\n",
    "        <ol>\n",
    "        <li><a class=\"\" href=\"#Programming-Paradigms\">Programming Paradigms</a></li>\n",
    "<ol><li><a class=\"\" href=\"#Imperative-Programming\">Imperative Programming</a></li>\n",
    "<ol><li><a class=\"\" href=\"#Procedural-Programming\">Procedural Programming</a></li>\n",
    "<li><a class=\"\" href=\"#Object-Oriented-Programming\">Object-Oriented Programming</a></li>\n",
    "<ol><li><a class=\"\" href=\"#Advantages-and-Disadvantages-of-OOP\">Advantages and Disadvantages of OOP</a></li>\n",
    "</ol><li><a class=\"\" href=\"#Parallel-Processing\">Parallel Processing</a></li>\n",
    "</ol><li><a class=\"\" href=\"#Declarative-Programming\">Declarative Programming</a></li>\n",
    "<ol><li><a class=\"\" href=\"#Logic-Programming\">Logic Programming</a></li>\n",
    "<li><a class=\"\" href=\"#Functional-Programming\">Functional Programming</a></li>\n",
    "<ol><li><a class=\"\" href=\"#Pure-Functions\">Pure Functions</a></li>\n",
    "<li><a class=\"\" href=\"#Recursion\">Recursion</a></li>\n",
    "<li><a class=\"\" href=\"#Referential-Transparency\">Referential Transparency</a></li>\n",
    "<li><a class=\"\" href=\"#Immutability\">Immutability</a></li>\n",
    "<li><a class=\"\" href=\"#Advantages-and-Disadvantages-of-Functional-programming\">Advantages and Disadvantages of Functional programming</a></li>\n",
    "</ol><li><a class=\"\" href=\"#Database-Programming\">Database Programming</a></li>\n",
    "</ol>"
   ]
  },
  {
   "cell_type": "markdown",
   "metadata": {},
   "source": [
    "# Programming Paradigms"
   ]
  },
  {
   "cell_type": "markdown",
   "metadata": {},
   "source": [
    "The term programming paradigm refers to a style of programming. It does not refer to a specific language, but rather it refers to the way you program. Programming paradigm is an approach to solve problem using some programming language."
   ]
  },
  {
   "cell_type": "markdown",
   "metadata": {},
   "source": [
    "![](https://media.geeksforgeeks.org/wp-content/uploads/1-344.png)"
   ]
  },
  {
   "cell_type": "markdown",
   "metadata": {},
   "source": [
    "## Imperative Programming"
   ]
  },
  {
   "cell_type": "markdown",
   "metadata": {},
   "source": [
    "Imperative programming is a programming paradigm of software that uses statements that change a program's state. Imperative programming focuses on describing how a program operates step by step, rather than on high-level descriptions of its expected results."
   ]
  },
  {
   "cell_type": "markdown",
   "metadata": {},
   "source": [
    "### Procedural Programming"
   ]
  },
  {
   "cell_type": "markdown",
   "metadata": {},
   "source": [
    "Procedural Programming can be defined as a programming model which is derived from structured programming, based upon the concept of calling procedure. Procedures, also known as routines, subroutines or functions, simply consist of a series of computational steps to be carried out. During a program’s execution, any given procedure might be called at any point, including by other procedures or itself. "
   ]
  },
  {
   "cell_type": "markdown",
   "metadata": {},
   "source": [
    "eg: FORTRAN, COBOL, Pascal"
   ]
  },
  {
   "cell_type": "markdown",
   "metadata": {},
   "source": [
    "### Object-Oriented Programming"
   ]
  },
  {
   "cell_type": "markdown",
   "metadata": {},
   "source": [
    "Object-oriented programming can be defined as a programming model which is based upon the concept of objects. Objects contain data in the form of attributes and code in the form of methods. In object-oriented programming, computer programs are designed using the concept of objects that interact with the real world."
   ]
  },
  {
   "cell_type": "markdown",
   "metadata": {},
   "source": [
    "eg: C++, Java, Python"
   ]
  },
  {
   "cell_type": "markdown",
   "metadata": {},
   "source": [
    "<table><thead><tr><th>Procedural Oriented Programming</th><th>Object-Oriented Programming</th></tr></thead><tbody><tr><td>In procedural programming, the program is divided into small parts called <i><strong>functions</strong></i>.</td><td>In object-oriented programming, the program is divided into small parts called <i><strong>objects</strong></i>.</td></tr><tr><td>Procedural programming follows a <i><strong>top-down approach</strong></i>.</td><td>Object-oriented programming follows a <i><strong>bottom-up approach</strong></i>.</td></tr><tr><td>There is no access specifier in procedural programming.</td><td>Object-oriented programming has access specifiers like private, public, protected, etc.</td></tr><tr><td>Adding new data and functions is not easy.</td><td>Adding new data and function is easy.</td></tr><tr><td>Procedural programming does not have any proper way of hiding data so it is <i><strong>less secure</strong></i>.</td><td>Object-oriented programming provides data hiding so it is <i><strong>more secure</strong></i>.</td></tr><tr><td>In procedural programming, overloading is not possible.</td><td>Overloading is possible in object-oriented programming.</td></tr><tr><td>In procedural programming, there is no concept of data hiding and inheritance.</td><td>In object-oriented programming, the concept of data hiding and inheritance is used.</td></tr><tr><td>In procedural programming, the function is more important than the data.</td><td>In object-oriented programming, data is more important than function.</td></tr><tr><td>Procedural programming is based on the <i><strong>unreal world</strong></i>.</td><td>Object-oriented programming is based on the <i><strong>real world</strong></i>.</td></tr><tr><td>Procedural programming is used for designing medium-sized programs.</td><td>Object-oriented programming is used for designing large and complex programs.</td></tr><tr><td>Procedural programming uses the concept of procedure abstraction.</td><td>Object-oriented programming uses the concept of data abstraction.</td></tr><tr><td>Code reusability absent in procedural programming,</td><td>Code reusability present in object-oriented programming.</td></tr><tr><td><strong>Examples:</strong> C, FORTRAN, Pascal, Basic, etc.</td><td><strong>Examples: </strong>C++, Java, Python, C#, etc.</td></tr></tbody></table>"
   ]
  },
  {
   "cell_type": "markdown",
   "metadata": {},
   "source": [
    "#### Advantages and Disadvantages of OOP"
   ]
  },
  {
   "cell_type": "markdown",
   "metadata": {},
   "source": [
    "**Benefits**"
   ]
  },
  {
   "cell_type": "markdown",
   "metadata": {},
   "source": [
    "<ul><li>We can build the programs from standard working modules that communicate with one another, rather than having to start writing the code from scratch which leads to saving of development time and higher productivity,</li><li>OOP language allows to break the program into the bit-sized problems that can be solved easily (one object at a time).</li><li>The new technology promises greater programmer productivity, better quality of software and lesser maintenance cost.</li><li>OOP systems can be easily upgraded from small to large systems.</li><li>It is possible that multiple instances of objects co-exist without any interference,</li><li>It is very easy to partition the work in a project based on objects.</li><li>It is possible to map the objects in problem domain to those in the program.</li><li>The principle of data hiding helps the programmer to build secure programs which cannot be invaded by the code in other parts of the program.</li><li>By using inheritance, we can eliminate redundant code and extend the use of existing classes.</li><li>Message passing techniques is used for communication between objects which makes the interface descriptions with external systems much simpler.</li><li>The data-centered design approach enables us to capture more details of model in an implementable form.</li></ul>"
   ]
  },
  {
   "cell_type": "markdown",
   "metadata": {},
   "source": [
    "**Disadvantages**"
   ]
  },
  {
   "cell_type": "markdown",
   "metadata": {},
   "source": [
    "<ul><li>The length of the programmes developed using OOP language is much larger than the procedural approach. Since the programme becomes larger in size, it requires more time to be executed that leads to slower execution of the programme.</li><li>We can not apply OOP everywhere as it is not a universal language. It is applied only when it is required. &nbsp;It is not suitable for all types of problems.</li><li>Programmers need to have brilliant designing skill and programming skill along with proper planning because using OOP is little bit tricky.</li><li>OOPs take time to get used to it. &nbsp;The thought process involved in object-oriented programming may not be natural for some people.</li><li>Everything is treated as object in OOP so before applying it we need to have excellent thinking in terms of objects.</li></ul>"
   ]
  },
  {
   "cell_type": "markdown",
   "metadata": {},
   "source": [
    "### Parallel Processing"
   ]
  },
  {
   "cell_type": "markdown",
   "metadata": {},
   "source": [
    "Parallel processing is the processing of program instructions by dividing them among multiple processors. A parallel processing system posses many numbers of processor with the objective of running a program in less time by dividing them. "
   ]
  },
  {
   "cell_type": "markdown",
   "metadata": {},
   "source": [
    "eg: OpenMP, MPI"
   ]
  },
  {
   "cell_type": "markdown",
   "metadata": {},
   "source": [
    "## Declarative Programming"
   ]
  },
  {
   "cell_type": "markdown",
   "metadata": {},
   "source": [
    "Declarative programming is a non-imperative style of programming in which programs describe their desired results without explicitly listing commands or steps that must be performed. Functional and logical programming languages are characterized by a declarative programming style. "
   ]
  },
  {
   "cell_type": "markdown",
   "metadata": {},
   "source": [
    "### Logic Programming"
   ]
  },
  {
   "cell_type": "markdown",
   "metadata": {},
   "source": [
    "It can be termed as abstract model of computation. It would solve logical problems like puzzles, series etc. In logic programming we have a knowledge base which we know before and along with the question and knowledge base which is given to machine, it produces result. In normal programming languages, such concept of knowledge base is not available but while using the concept of artificial intelligence, machine learning we have some models like Perception model which is using the same mechanism. "
   ]
  },
  {
   "cell_type": "markdown",
   "metadata": {},
   "source": [
    "eg: Prolog, Lisp"
   ]
  },
  {
   "cell_type": "markdown",
   "metadata": {},
   "source": [
    "### Functional Programming"
   ]
  },
  {
   "cell_type": "markdown",
   "metadata": {},
   "source": [
    "Functional programming is a programming paradigm in which we try to bind everything in pure mathematical functions style. It is a declarative type of programming style. Its main focus is on “what to solve” in contrast to an imperative style where the main focus is “how to solve”. It uses expressions instead of statements. An expression is evaluated to produce a value whereas a statement is executed to assign variables. "
   ]
  },
  {
   "cell_type": "markdown",
   "metadata": {},
   "source": [
    "#### Pure Functions"
   ]
  },
  {
   "cell_type": "markdown",
   "metadata": {},
   "source": [
    "These functions have two main properties. First, they always produce the same output for same arguments irrespective of anything else. \n",
    "Secondly, they have no side-effects i.e. they do not modify any arguments or local/global variables or input/output streams."
   ]
  },
  {
   "cell_type": "markdown",
   "metadata": {},
   "source": [
    "#### Recursion"
   ]
  },
  {
   "cell_type": "markdown",
   "metadata": {},
   "source": [
    "There are no “for” or “while” loop in functional languages. Iteration in functional languages is implemented through recursion. Recursive functions repeatedly call themselves, until it reaches the base case. "
   ]
  },
  {
   "cell_type": "markdown",
   "metadata": {},
   "source": [
    "#### Referential Transparency"
   ]
  },
  {
   "cell_type": "markdown",
   "metadata": {},
   "source": [
    "In functional programs variables once defined do not change their value throughout the program. Functional programs do not have assignment statements. If we have to store some value, we define new variables instead. This eliminates any chances of side effects because any variable can be replaced with its actual value at any point of execution. State of any variable is constant at any instant. "
   ]
  },
  {
   "cell_type": "markdown",
   "metadata": {},
   "source": [
    "#### Immutability"
   ]
  },
  {
   "cell_type": "markdown",
   "metadata": {},
   "source": [
    "In functional programming, we can’t modify a variable after it’s been initialized. We can create new variables – but we can’t modify existing variables, and this really helps to maintain state throughout the runtime of a program. Once we create a variable and set its value, we can have full confidence knowing that the value of that variable will never change.  "
   ]
  },
  {
   "cell_type": "markdown",
   "metadata": {},
   "source": [
    "#### Advantages and Disadvantages of Functional programming"
   ]
  },
  {
   "cell_type": "markdown",
   "metadata": {},
   "source": [
    "**Advantages**"
   ]
  },
  {
   "cell_type": "markdown",
   "metadata": {},
   "source": [
    "<ol><li>Pure functions are easier to understand because they don’t change any states and depend only on the input given to them. Whatever output they produce is the return value they give. Their function signature gives all the information about them i.e. their return type and their arguments.</li><li>The ability of functional programming languages to treat functions as values and pass them to functions as parameters make the code more readable and easily understandable.</li><li>Testing and debugging is easier. Since pure functions take only arguments and produce output, they don’t produce any changes don’t take input or produce some hidden output. They use immutable values, so it becomes easier to check some problems in programs written uses pure functions.</li><li>It is used to implement concurrency/parallelism because pure functions don’t change variables or any other data outside of it.</li><li>It adopts lazy evaluation which avoids repeated evaluation because the value is evaluated and stored only when it is needed.</li></ol>"
   ]
  },
  {
   "cell_type": "markdown",
   "metadata": {},
   "source": [
    "**Disadvantages**"
   ]
  },
  {
   "cell_type": "markdown",
   "metadata": {},
   "source": [
    "<ol><li>Sometimes writing pure functions can reduce the readability of code.</li><li>Writing programs in recursive style instead of using loops can be bit intimidating.</li><li>Writing pure functions are easy but combining them with the rest of the application and I/O operations is a difficult task.</li><li>Immutable values and recursion can lead to decrease in performance.</li></ol>"
   ]
  },
  {
   "cell_type": "markdown",
   "metadata": {},
   "source": [
    "### Database Programming"
   ]
  },
  {
   "cell_type": "markdown",
   "metadata": {},
   "source": [
    "This programming methodology is based on data and its movement. Program statements are defined by data rather than hard-coding a series of steps. A database program is the heart of a business information system and provides file creation, data entry, update, query and reporting functions. There are several programming languages that are developed mostly for database application. For example SQL. It is applied to streams of structured data, for filtering, transforming, aggregating, or calling other programs."
   ]
  }
 ],
 "metadata": {
  "kernelspec": {
   "display_name": "Python 3.9.12 ('data-science')",
   "language": "python",
   "name": "python3"
  },
  "language_info": {
   "name": "python",
   "version": "3.9.12"
  },
  "orig_nbformat": 4,
  "vscode": {
   "interpreter": {
    "hash": "2efee1efa502125d01e6b4768ba06d9453d29f3642bfd14ad5d4a769de82e88c"
   }
  }
 },
 "nbformat": 4,
 "nbformat_minor": 2
}
