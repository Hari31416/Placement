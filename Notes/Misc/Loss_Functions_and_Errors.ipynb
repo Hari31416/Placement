{
 "cells": [
  {
   "cell_type": "markdown",
   "metadata": {},
   "source": [
    "<h2 id=\"Contents\">Contents<a href=\"#Contents\"></a></h2>\n",
    "        <ol>\n",
    "        <li><a class=\"\" href=\"#Imports\">Imports</a></li>\n",
    "<li><a class=\"\" href=\"#Classificication\">Classificication</a></li>\n",
    "<ol><li><a class=\"\" href=\"#Confusion-Matrix\">Confusion Matrix</a></li>\n",
    "<li><a class=\"\" href=\"#Accuracy\">Accuracy</a></li>\n",
    "<li><a class=\"\" href=\"#Precision\">Precision</a></li>\n",
    "<li><a class=\"\" href=\"#Recall\">Recall</a></li>\n",
    "<li><a class=\"\" href=\"#False-Positive-Rate\">False Positive Rate</a></li>\n",
    "<li><a class=\"\" href=\"#Specificity\">Specificity</a></li>\n",
    "<ol><li><a class=\"\" href=\"#Accuracy-And-Precision\">Accuracy And Precision</a></li>\n",
    "<li><a class=\"\" href=\"#Precision-and-Recall\">Precision and Recall</a></li>\n",
    "<li><a class=\"\" href=\"#Specificity-and-Sensitivity\">Specificity and Sensitivity</a></li>\n",
    "<li><a class=\"\" href=\"#An-Analogy\">An Analogy</a></li>\n",
    "</ol><li><a class=\"\" href=\"#F1-Score\">F1 Score</a></li>\n",
    "<li><a class=\"\" href=\"#AUC-ROC-curve\">AUC-ROC curve</a></li>\n",
    "<li><a class=\"\" href=\"#Cross-Entropy\">Cross Entropy</a></li>\n",
    "</ol><li><a class=\"\" href=\"#Regression\">Regression</a></li>\n",
    "<ol><li><a class=\"\" href=\"#Mean-Absolute-Error\">Mean Absolute Error</a></li>\n",
    "<li><a class=\"\" href=\"#Mean-Squared-Error\">Mean Squared Error</a></li>\n",
    "<li><a class=\"\" href=\"#Mean-Squared-Log-Error\">Mean Squared Log Error</a></li>\n",
    "<li><a class=\"\" href=\"#$R%5E2$-Score\">$R^2$ Score</a></li>\n",
    "</ol>"
   ]
  },
  {
   "cell_type": "markdown",
   "metadata": {},
   "source": [
    "# Imports"
   ]
  },
  {
   "cell_type": "code",
   "execution_count": 1,
   "metadata": {},
   "outputs": [],
   "source": [
    "import matplotlib.pyplot as plt\n",
    "import numpy as np"
   ]
  },
  {
   "cell_type": "markdown",
   "metadata": {},
   "source": [
    "# Classificication"
   ]
  },
  {
   "cell_type": "markdown",
   "metadata": {},
   "source": [
    "## Confusion Matrix"
   ]
  },
  {
   "cell_type": "markdown",
   "metadata": {},
   "source": [
    "A Confusion matrix is an $N \\times N$ matrix used for evaluating the performance of a classification model, where N is the number of target classes. The matrix compares the actual target values with those predicted by the machine learning model."
   ]
  },
  {
   "cell_type": "markdown",
   "metadata": {},
   "source": [
    "![](https://miro.medium.com/max/750/1*jMs1RmSwnYgR9CsBw-z1dw.png)"
   ]
  },
  {
   "cell_type": "markdown",
   "metadata": {},
   "source": [
    "In confusion matrix, we have four different types of outcomes:\n",
    "* **True Positives (TP):** when the actual value is Positive and predicted is also Positive.\n",
    "* **True negatives (TN):** when the actual value is Negative and prediction is also Negative.\n",
    "* **False positives (FP):** When the actual is negative but prediction is Positive. Also known as the Type 1 error\n",
    "* **False negatives (FN):** When the actual is Positive but the prediction is Negative. Also known as the Type 2 error"
   ]
  },
  {
   "cell_type": "markdown",
   "metadata": {},
   "source": [
    "Let's make the following definitions:\n",
    "* \"Wolf\" is a positive class.\n",
    "* \"No wolf\" is a negative class."
   ]
  },
  {
   "cell_type": "markdown",
   "metadata": {},
   "source": [
    "![](images/2.png)"
   ]
  },
  {
   "cell_type": "markdown",
   "metadata": {},
   "source": [
    "## Accuracy"
   ]
  },
  {
   "cell_type": "markdown",
   "metadata": {},
   "source": [
    "Accuracy is defined as:\n",
    "$$\n",
    "\\text{Accuracy} = \\frac{\\text{Number of correct predictions}}{\\text{Number of all predictions}}\\\\\n",
    "\\text{Accuracy} = \\frac{TP + TN}{TP + TN + FP + FN}\n",
    "$$"
   ]
  },
  {
   "cell_type": "markdown",
   "metadata": {},
   "source": [
    "## Precision"
   ]
  },
  {
   "cell_type": "markdown",
   "metadata": {},
   "source": [
    "Precision is defined as:\n",
    "$$\n",
    "\\text{Precision} = \\frac{\\text{Number of true positives}}{\\text{Number of true positives} + \\text{Number of false positives}}\\\\\n",
    "\\text{Precision} = \\frac{TP}{TP + FP}\n",
    "$$"
   ]
  },
  {
   "cell_type": "markdown",
   "metadata": {},
   "source": [
    "So, Precision is calculated by dividing the true positives by anything that was predicted as a positive."
   ]
  },
  {
   "cell_type": "markdown",
   "metadata": {},
   "source": [
    ">The number of instances that are relevant, out of the total instances the model retrieved. **How many retrieved items are relevant?**"
   ]
  },
  {
   "cell_type": "markdown",
   "metadata": {},
   "source": [
    "## Recall"
   ]
  },
  {
   "cell_type": "markdown",
   "metadata": {},
   "source": [
    "Recall is calculated as the number of true positives divided by the total number of true positives and false negatives. That is\n",
    "$$\n",
    "\\text{Recall} = \\frac{\\text{Number of true positives}}{\\text{Number of true positives} + \\text{Number of false negatives}}\\\\\n",
    "\\text{Recall} = \\frac{TP}{TP + FN}\n",
    "$$"
   ]
  },
  {
   "cell_type": "markdown",
   "metadata": {},
   "source": [
    "So, Recall is calculated by dividing the true positives by anything that was actually a positive."
   ]
  },
  {
   "cell_type": "markdown",
   "metadata": {},
   "source": [
    ">The number of instances which the model correctly identified as relevant out of the total relevant instances. **How many relevant items are retrieved?**"
   ]
  },
  {
   "cell_type": "markdown",
   "metadata": {},
   "source": [
    "> Sensitivity True Positive Rate and Recall are the same thing."
   ]
  },
  {
   "cell_type": "markdown",
   "metadata": {},
   "source": [
    "## False Positive Rate"
   ]
  },
  {
   "cell_type": "markdown",
   "metadata": {},
   "source": [
    "FTR is calculated as the number of false positives divided by the total number of false positives and true negatives. That is\n",
    "$$\n",
    "\\text{FPR} = \\frac{\\text{Number of false positives}}{\\text{Number of false positives} + \\text{Number of true negatives}}\\\\\n",
    "\\text{FPR} = \\frac{FP}{FP + TN}\n",
    "$$"
   ]
  },
  {
   "cell_type": "markdown",
   "metadata": {},
   "source": [
    "This is equivalent to 1 - specificity. \n",
    "\n",
    ">FTR is ratio of flase positive divided by total false predictions."
   ]
  },
  {
   "cell_type": "markdown",
   "metadata": {},
   "source": [
    "## Specificity"
   ]
  },
  {
   "cell_type": "markdown",
   "metadata": {},
   "source": [
    "We have:\n",
    "$$\n",
    "\\text{Specificity} = \\frac{\\text{Number of true negatives}}{\\text{Number of true negatives} + \\text{Number of false positives}}\\\\\n",
    "\\text{Specificity} = \\frac{TN}{TN + FP}\n",
    "$$"
   ]
  },
  {
   "cell_type": "markdown",
   "metadata": {},
   "source": [
    ">Sensitivity and specificity use all four numbers in the confusion matrix, as opposed to precision and recall which only use three."
   ]
  },
  {
   "cell_type": "markdown",
   "metadata": {},
   "source": [
    "Specificity is the ratio of negative predictions by the model to the total number of negatives. This is also called the true negative rate."
   ]
  },
  {
   "cell_type": "markdown",
   "metadata": {},
   "source": [
    "### Accuracy And Precision"
   ]
  },
  {
   "cell_type": "markdown",
   "metadata": {},
   "source": [
    "**Accuracy** is how close a measured value is to the actual (true) value.\n",
    "\n",
    "**Precision** is how close the measured values are to each other."
   ]
  },
  {
   "cell_type": "markdown",
   "metadata": {},
   "source": [
    "![](images/3.png)"
   ]
  },
  {
   "cell_type": "markdown",
   "metadata": {},
   "source": [
    "### Precision and Recall"
   ]
  },
  {
   "cell_type": "markdown",
   "metadata": {},
   "source": [
    "There is a trade-off between precision and recall. Increasing the precision will increase the recall, but vice versa. Let's see an example. Suppose we have a model that predicts spam images. If we change the threshold, it will change which mails are classified as spam and which are not. Increseing the threshold will increase the precision, but decrease the recall."
   ]
  },
  {
   "cell_type": "markdown",
   "metadata": {},
   "source": [
    "![](images/4_1.png)"
   ]
  },
  {
   "cell_type": "markdown",
   "metadata": {},
   "source": [
    "In the above image, the precision and recall are 0.8 and 0.73.\n",
    "\n",
    "In the image below, we have increased the threshold. This results in a lower number of false negative and hence it decreses the recall. and increases precision. The precision and recall are 0.88 and 0.64."
   ]
  },
  {
   "cell_type": "markdown",
   "metadata": {},
   "source": [
    "![](images/4_2.png)"
   ]
  },
  {
   "cell_type": "markdown",
   "metadata": {},
   "source": [
    "On the other hand, in the image below, we have decreased the threshold which increases the number of false negative and hence increases the recall but on the cost of an decrease in precision. The precision and recall in this case are are 0.75 and 0.82."
   ]
  },
  {
   "cell_type": "markdown",
   "metadata": {},
   "source": [
    "![](images/4_3.png)"
   ]
  },
  {
   "cell_type": "markdown",
   "metadata": {},
   "source": [
    ">Precision: Appropriate when minimizing false positives is the focus.\n",
    ">\n",
    ">Recall: Appropriate when minimizing false negatives is the focus."
   ]
  },
  {
   "cell_type": "markdown",
   "metadata": {},
   "source": [
    "### Specificity and Sensitivity"
   ]
  },
  {
   "cell_type": "markdown",
   "metadata": {},
   "source": [
    "* Sensitivity (true positive rate) refers to the probability of a positive test, conditioned on truly being positive.\n",
    "* Specificity (true negative rate) refers to the probability of a negative test, conditioned on truly being negative.\n"
   ]
  },
  {
   "cell_type": "markdown",
   "metadata": {},
   "source": [
    "![](https://upload.wikimedia.org/wikipedia/commons/thumb/5/5a/Sensitivity_and_specificity_1.01.svg/512px-Sensitivity_and_specificity_1.01.svg.png)"
   ]
  },
  {
   "cell_type": "markdown",
   "metadata": {},
   "source": [
    "![](https://miro.medium.com/max/828/1*FJNxbk7Ccr1hINGQmgKMcw.jpeg)"
   ]
  },
  {
   "cell_type": "markdown",
   "metadata": {},
   "source": [
    "### An Analogy"
   ]
  },
  {
   "cell_type": "markdown",
   "metadata": {},
   "source": [
    "You use a wide net, and catch 80 of 100 total fish in a lake. That’s 80% recall. But you also get 80 rocks in your net. That means 50% precision, half of the net’s contents is junk.\n",
    "\n",
    "You could use a smaller net and target one pocket of the lake where there are lots of fish and no rocks, but you might only get 20 of the fish in order to get 0 rocks. That is 20% recall and 100% precision."
   ]
  },
  {
   "cell_type": "markdown",
   "metadata": {},
   "source": [
    "## F1 Score"
   ]
  },
  {
   "cell_type": "markdown",
   "metadata": {},
   "source": [
    "Since there is a trade-off between precision and recall we can not use a single of them to judge the performance of our model. Due to this, we use the **F1 Score** which is the harmonic mean of precision and recall. That is:\n",
    "$$\n",
    "\\text{F1 Score} = \\frac{2 \\times \\text{Precision} \\times \\text{Recall}}{\\text{Precision} + \\text{Recall}}\n",
    "$$"
   ]
  },
  {
   "cell_type": "markdown",
   "metadata": {},
   "source": [
    "## AUC-ROC curve"
   ]
  },
  {
   "cell_type": "markdown",
   "metadata": {},
   "source": [
    "An ROC curve (receiver operating characteristic curve) is a graph showing the performance of a classification model at all classification thresholds. This curve plots **false positive rate** (FPR) against **true positive rate** (TPR). TPR is nothing but recall while FPR is defined as:\n",
    "$$\n",
    "FPR = \\frac{FP}{FP + TN}\n",
    "$$"
   ]
  },
  {
   "cell_type": "markdown",
   "metadata": {},
   "source": [
    "An ROC curve plots TPR vs. FPR at different classification thresholds.\n",
    "\n",
    "![](images/5.png)"
   ]
  },
  {
   "cell_type": "markdown",
   "metadata": {},
   "source": [
    "An excellent model has AUC near to the 1 which means it has a good measure of separability. A poor model has an AUC near 0 which means it has the worst measure of separability. In fact, it means it is reciprocating the result. It is predicting 0s as 1s and 1s as 0s. And when AUC is 0.5, it means the model has no class separation capacity whatsoever."
   ]
  },
  {
   "cell_type": "markdown",
   "metadata": {},
   "source": [
    "## Cross Entropy"
   ]
  },
  {
   "cell_type": "markdown",
   "metadata": {},
   "source": [
    "Cross-entropy loss, or log loss, measures the performance of a classification model whose output is a probability value between 0 and 1. Cross-entropy loss increases as the predicted probability diverges from the actual label. Mathematically, in binary classification, the cross-entropy loss is defined as:\n",
    "$$\n",
    "-{(y\\log(p) + (1 - y)\\log(1 - p))}\n",
    "$$"
   ]
  },
  {
   "cell_type": "markdown",
   "metadata": {},
   "source": [
    "The cross-entropy penalizes both types of errors, but especially those predictions that are confident and wrong! To see this, we'll plot the cross-entropy for the case when the true label is 1 and the predicted probability is varying."
   ]
  },
  {
   "cell_type": "code",
   "execution_count": 7,
   "metadata": {},
   "outputs": [
    {
     "data": {
      "image/png": "[encoded data removed]",
      "text/plain": [
       "<Figure size 720x432 with 1 Axes>"
      ]
     },
     "metadata": {},
     "output_type": "display_data"
    }
   ],
   "source": [
    "y_true = 1\n",
    "y_pred = np.arange(0.001, 1, 0.01)\n",
    "\n",
    "def log_loss(y_true, pred):\n",
    "    first = y_true * np.log(pred)\n",
    "    second = (1 - y_true) * np.log(1 - pred)\n",
    "    return -(first + second)\n",
    "\n",
    "loss = log_loss(y_true, y_pred)\n",
    "plt.figure(figsize=(10, 6))\n",
    "plt.plot(y_pred, loss)\n",
    "plt.xlabel('Predicted Probability', fontdict={'fontsize': 15})\n",
    "plt.ylabel('Loss', fontdict={'fontsize': 15})\n",
    "plt.title('Cross Entropy Loss', fontdict={'fontsize': 15})\n",
    "plt.show()"
   ]
  },
  {
   "cell_type": "markdown",
   "metadata": {},
   "source": [
    "We can see that the loss increases exponentially as the prediction is wrong and confident."
   ]
  },
  {
   "cell_type": "markdown",
   "metadata": {},
   "source": [
    "If $M\\gt2$ (i.e. multiclass classification), we calculate a separate loss for each class label per observation and sum the result.\n",
    "$$-\\sum_{c=1}^My_{o,c}\\log(p_{o,c})$$"
   ]
  },
  {
   "cell_type": "markdown",
   "metadata": {},
   "source": [
    "Here are some articles:\n",
    "\n",
    "[1](https://medium.com/analytics-vidhya/what-is-a-confusion-matrix-d1c0f8feda5)\n",
    "\n",
    "[2](https://machinelearningmastery.com/precision-recall-and-f-measure-for-imbalanced-classification)\n",
    "\n",
    "[3](https://towardsdatascience.com/precision-and-recall-88a3776c8007)\n"
   ]
  },
  {
   "cell_type": "markdown",
   "metadata": {},
   "source": [
    "# Regression"
   ]
  },
  {
   "cell_type": "markdown",
   "metadata": {},
   "source": [
    "## Mean Absolute Error"
   ]
  },
  {
   "cell_type": "markdown",
   "metadata": {},
   "source": [
    "Mean Absolute Error is defined as:\n",
    "$$\n",
    "MAE = \\sum_{i=1}^{n} \\frac{|y_i - \\hat{y_i}|}{n}\n",
    "$$\n",
    "Here $y_i$ is the actual value and $\\hat{y_i}$ is the predicted value."
   ]
  },
  {
   "cell_type": "markdown",
   "metadata": {},
   "source": [
    "## Mean Squared Error"
   ]
  },
  {
   "cell_type": "markdown",
   "metadata": {},
   "source": [
    "This is defined as:\n",
    "$$\n",
    "MSE = \\sum_{i=1}^{n} \\frac{(y_i - \\hat{y_i})^2}{n}\n",
    "$$\n",
    "Here $y_i$ is the actual value and $\\hat{y_i}$ is the predicted value."
   ]
  },
  {
   "cell_type": "markdown",
   "metadata": {},
   "source": [
    "## Mean Squared Log Error"
   ]
  },
  {
   "cell_type": "markdown",
   "metadata": {},
   "source": [
    "MSLE is defined as:\n",
    "$$\n",
    "MSLE = \\sum_{i=1}^{n} \\frac{(log(y_i + 1) - log(\\hat{y_i} + 1))^2}{n}\\\\\n",
    "$$\n",
    "Here $y_i$ is the actual value and $\\hat{y_i}$ is the predicted value."
   ]
  },
  {
   "cell_type": "markdown",
   "metadata": {},
   "source": [
    "## $R^2$ Score"
   ]
  },
  {
   "cell_type": "markdown",
   "metadata": {},
   "source": [
    "Simply speaking, $R^2$ score is defined as:\n",
    "$$\n",
    "R^2 = 1- \\frac{RSS}{TSS}\n",
    "$$\n",
    "Here $RSS$ is the residual sum of squares and $TSS$ is the total sum of squares, defined as:\n",
    "$$\n",
    "TSS = \\sum_{i=1}^{n} (y_i - \\bar{y})^2\\\\\n",
    "RSS = \\sum_{i=1}^{n} (y_i - \\hat{y_i})^2\n",
    "$$\n",
    "Where, $y_i$ is the actual value, $\\hat{y_i}$ is the predicted value and $\\bar{y}$ is the mean of the actual values."
   ]
  },
  {
   "cell_type": "markdown",
   "metadata": {},
   "source": [
    "$R^2$ score is equal to the ratio of total variance explained by model and total variance."
   ]
  }
 ],
 "metadata": {
  "kernelspec": {
   "display_name": "Python 3.9.12 ('data-science')",
   "language": "python",
   "name": "python3"
  },
  "language_info": {
   "codemirror_mode": {
    "name": "ipython",
    "version": 3
   },
   "file_extension": ".py",
   "mimetype": "text/x-python",
   "name": "python",
   "nbconvert_exporter": "python",
   "pygments_lexer": "ipython3",
   "version": "3.9.12"
  },
  "orig_nbformat": 4,
  "vscode": {
   "interpreter": {
    "hash": "2efee1efa502125d01e6b4768ba06d9453d29f3642bfd14ad5d4a769de82e88c"
   }
  }
 },
 "nbformat": 4,
 "nbformat_minor": 2
}
