{
 "cells": [
  {
   "cell_type": "code",
   "execution_count": 1,
   "metadata": {},
   "outputs": [],
   "source": [
    "import sys\n",
    "sys.path.append('../../tools')"
   ]
  },
  {
   "cell_type": "code",
   "execution_count": 2,
   "metadata": {
    "scrolled": true
   },
   "outputs": [],
   "source": [
    "from files.notebook import Notebook"
   ]
  },
  {
   "cell_type": "code",
   "execution_count": 3,
   "metadata": {},
   "outputs": [],
   "source": [
    "nb = Notebook()"
   ]
  },
  {
   "cell_type": "code",
   "execution_count": 4,
   "metadata": {},
   "outputs": [
    {
     "data": {
      "text/plain": [
       "['./Anamoly_Detection.ipynb',\n",
       " './Bias_Variance.ipynb',\n",
       " './CSS_Selection_Rules.ipynb',\n",
       " './Loss_Functions_and_Errors.ipynb',\n",
       " './Model_Params.ipynb',\n",
       " './OOPs.ipynb',\n",
       " './Programming_Language_Terms.ipynb',\n",
       " './temp.ipynb',\n",
       " './Terminology.ipynb']"
      ]
     },
     "execution_count": 4,
     "metadata": {},
     "output_type": "execute_result"
    }
   ],
   "source": [
    "nb.notebooks"
   ]
  },
  {
   "cell_type": "code",
   "execution_count": 7,
   "metadata": {},
   "outputs": [
    {
     "name": "stdout",
     "output_type": "stream",
     "text": [
      "Converting the Notebook to HTML.\n",
      "Looking for the Headers and their positions.\n",
      "Getting correct order of the Headers.\n",
      "Creating the Contents.\n",
      "Content copied to clipboard.\n"
     ]
    }
   ],
   "source": [
    "text = nb.create_content(nb.notebooks[-3], return_string=True)"
   ]
  },
  {
   "cell_type": "code",
   "execution_count": 8,
   "metadata": {},
   "outputs": [
    {
     "name": "stdout",
     "output_type": "stream",
     "text": [
      "<h2 id=\"Contents\">Contents<a href=\"#Contents\"></a></h2>\n",
      "        <ol>\n",
      "        <ol><li><a class=\"\" href=\"#Compiler-and-Interpreter\">Compiler and Interpreter</a></li>\n",
      "<ol><li><a class=\"\" href=\"#Compiler\">Compiler</a></li>\n",
      "<li><a class=\"\" href=\"#Interpreter\">Interpreter</a></li>\n",
      "</ol><li><a class=\"\" href=\"#High-level-and-Low-Level-Programming-Language\">High-level and Low-Level Programming Language</a></li>\n",
      "<li><a class=\"\" href=\"#Compiled-and-Interpreted-Programming-Language\">Compiled and Interpreted Programming Language</a></li>\n",
      "<ol><li><a class=\"\" href=\"#Compiled-Language?\">Compiled Language?</a></li>\n",
      "<li><a class=\"\" href=\"#Interpreted-Language\">Interpreted Language</a></li>\n",
      "</ol><li><a class=\"\" href=\"#Statically-and-Dynamically-typed-languages\">Statically and Dynamically typed languages</a></li>\n",
      "<ol><li><a class=\"\" href=\"#Statically-typed-languages\">Statically typed languages</a></li>\n",
      "<li><a class=\"\" href=\"#Dynamically-typed-languages\">Dynamically typed languages</a></li>\n",
      "</ol><li><a class=\"\" href=\"#General-purpose-programming-language\">General-purpose programming language</a></li>\n",
      "<li><a class=\"\" href=\"#Various-Implementations-of-Python\">Various Implementations of Python</a></li>\n",
      "<ol><li><a class=\"\" href=\"#Machine-Code\">Machine Code</a></li>\n",
      "<li><a class=\"\" href=\"#Bytecode\">Bytecode</a></li>\n",
      "<li><a class=\"\" href=\"#Cpython\">Cpython</a></li>\n",
      "<li><a class=\"\" href=\"#Jython\">Jython</a></li>\n",
      "<li><a class=\"\" href=\"#PyPy\">PyPy</a></li>\n",
      "</ol>\n"
     ]
    }
   ],
   "source": [
    "print(text)"
   ]
  },
  {
   "cell_type": "code",
   "execution_count": 9,
   "metadata": {},
   "outputs": [
    {
     "data": {
      "text/plain": [
       "'./Programming_Language_Terms.html'"
      ]
     },
     "execution_count": 9,
     "metadata": {},
     "output_type": "execute_result"
    }
   ],
   "source": [
    "nb.export_notebook(nb.notebooks[-3])"
   ]
  },
  {
   "cell_type": "code",
   "execution_count": 7,
   "metadata": {},
   "outputs": [
    {
     "name": "stderr",
     "output_type": "stream",
     "text": [
      "Exporting notebooks...: 100%|██████████| 6/6 [00:01<00:00,  3.10it/s]\n"
     ]
    }
   ],
   "source": [
    "files = nb.export_directory()"
   ]
  },
  {
   "cell_type": "code",
   "execution_count": 8,
   "metadata": {},
   "outputs": [
    {
     "data": {
      "text/plain": [
       "['././Anamoly_Detection.html', '././temp.html']"
      ]
     },
     "execution_count": 8,
     "metadata": {},
     "output_type": "execute_result"
    }
   ],
   "source": [
    "files"
   ]
  },
  {
   "cell_type": "code",
   "execution_count": 15,
   "metadata": {},
   "outputs": [
    {
     "name": "stdout",
     "output_type": "stream",
     "text": [
      "<ul><li>\n",
      "            <a href=\"Notes/Misc/Anamoly_Detection.html\" target=\"blank\" class=\"links\">Anamoly Detection</a>\n",
      "          </li><li>\n",
      "            <a href=\"Notes/Misc/Bias_Variance.html\" target=\"blank\" class=\"links\">Bias Variance</a>\n",
      "          </li><li>\n",
      "            <a href=\"Notes/Misc/Loss_Functions_and_Errors.html\" target=\"blank\" class=\"links\">Loss Functions and Errors</a>\n",
      "          </li><li>\n",
      "            <a href=\"Notes/Misc/Terminology.html\" target=\"blank\" class=\"links\">Terminology</a>\n",
      "          </li></ul>\n"
     ]
    }
   ],
   "source": [
    "start = \"<ul>\"\n",
    "end = \"</ul>\"\n",
    "for f in files:\n",
    "    if \"temp\" in f:\n",
    "        continue\n",
    "    file = f.split(\"/\")[-1]\n",
    "    name = file.split(\".\")[0]\n",
    "    name = name.replace(\"_\", \" \")\n",
    "    start+=f\"\"\"<li>\n",
    "            <a href=\"Notes/Misc/{file}\" target=\"blank\" class=\"links\">{name}</a>\n",
    "          </li>\"\"\"\n",
    "start+=end\n",
    "print(start)"
   ]
  },
  {
   "cell_type": "code",
   "execution_count": 20,
   "metadata": {},
   "outputs": [
    {
     "name": "stderr",
     "output_type": "stream",
     "text": [
      "QXcbClipboard::setMimeData: Cannot set X11 selection owner\n"
     ]
    }
   ],
   "source": [
    "import pyperclip\n",
    "pyperclip.copy(text)"
   ]
  },
  {
   "cell_type": "code",
   "execution_count": 13,
   "metadata": {},
   "outputs": [
    {
     "data": {
      "text/plain": [
       "['.\\\\Easy_1.ipynb',\n",
       " '.\\\\Easy_2.ipynb',\n",
       " '.\\\\Easy_3.ipynb',\n",
       " '.\\\\Hard_1.ipynb',\n",
       " '.\\\\Medium_1.ipynb',\n",
       " '.\\\\Medium_2.ipynb',\n",
       " '.\\\\temp.ipynb']"
      ]
     },
     "execution_count": 13,
     "metadata": {},
     "output_type": "execute_result"
    }
   ],
   "source": [
    "nb.notebooks"
   ]
  },
  {
   "cell_type": "code",
   "execution_count": 15,
   "metadata": {},
   "outputs": [
    {
     "data": {
      "text/plain": [
       "'.\\\\Easy_3.html'"
      ]
     },
     "execution_count": 15,
     "metadata": {},
     "output_type": "execute_result"
    }
   ],
   "source": [
    "nb.export_notebook(nb.notebooks[2])"
   ]
  }
 ],
 "metadata": {
  "kernelspec": {
   "display_name": "Python 3.9.12 ('data-science')",
   "language": "python",
   "name": "python3"
  },
  "language_info": {
   "codemirror_mode": {
    "name": "ipython",
    "version": 3
   },
   "file_extension": ".py",
   "mimetype": "text/x-python",
   "name": "python",
   "nbconvert_exporter": "python",
   "pygments_lexer": "ipython3",
   "version": "3.9.12"
  },
  "vscode": {
   "interpreter": {
    "hash": "2efee1efa502125d01e6b4768ba06d9453d29f3642bfd14ad5d4a769de82e88c"
   }
  }
 },
 "nbformat": 4,
 "nbformat_minor": 2
}
