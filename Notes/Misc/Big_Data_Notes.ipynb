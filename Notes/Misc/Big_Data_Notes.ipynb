{
 "cells": [
  {
   "attachments": {},
   "cell_type": "markdown",
   "metadata": {},
   "source": [
    "# Some Articles"
   ]
  },
  {
   "attachments": {},
   "cell_type": "markdown",
   "metadata": {},
   "source": [
    "- [Dask vs Spark](https://docs.dask.org/en/stable/spark.html)\n",
    "- [Big Data Analytics: How It Works, Tools, and Real-Life Applications](https://www.altexsoft.com/blog/big-data-analytics-explained/)\n",
    "- [What is Big Data Analytics and Why It is Important?](https://www.simplilearn.com/what-is-big-data-analytics-article)\n",
    "- [A Beginner’s Guide to Apache Spark](https://towardsdatascience.com/a-beginners-guide-to-apache-spark-ff301cb4cd92)\n",
    "- [What Is Hadoop? Components of Hadoop and How Does It Work](https://www.simplilearn.com/tutorials/hadoop-tutorial/what-is-hadoop)"
   ]
  }
 ],
 "metadata": {
  "kernelspec": {
   "display_name": "data-science",
   "language": "python",
   "name": "python3"
  },
  "language_info": {
   "name": "python",
   "version": "3.9.12 (main, Jun  1 2022, 11:38:51) \n[GCC 7.5.0]"
  },
  "orig_nbformat": 4,
  "vscode": {
   "interpreter": {
    "hash": "2efee1efa502125d01e6b4768ba06d9453d29f3642bfd14ad5d4a769de82e88c"
   }
  }
 },
 "nbformat": 4,
 "nbformat_minor": 2
}
