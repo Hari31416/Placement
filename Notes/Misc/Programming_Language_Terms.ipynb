{
 "cells": [
  {
   "cell_type": "markdown",
   "metadata": {},
   "source": [
    "<h2 id=\"Contents\">Contents<a href=\"#Contents\"></a></h2>\n",
    "        <ol>\n",
    "        <ol><li><a class=\"\" href=\"#Compiler-and-Interpreter\">Compiler and Interpreter</a></li>\n",
    "<ol><li><a class=\"\" href=\"#Compiler\">Compiler</a></li>\n",
    "<li><a class=\"\" href=\"#Interpreter\">Interpreter</a></li>\n",
    "</ol><li><a class=\"\" href=\"#High-level-and-Low-Level-Programming-Language\">High-level and Low-Level Programming Language</a></li>\n",
    "<li><a class=\"\" href=\"#Compiled-and-Interpreted-Programming-Language\">Compiled and Interpreted Programming Language</a></li>\n",
    "<ol><li><a class=\"\" href=\"#Compiled-Language?\">Compiled Language?</a></li>\n",
    "<li><a class=\"\" href=\"#Interpreted-Language\">Interpreted Language</a></li>\n",
    "</ol><li><a class=\"\" href=\"#Statically-and-Dynamically-typed-languages\">Statically and Dynamically typed languages</a></li>\n",
    "<ol><li><a class=\"\" href=\"#Statically-typed-languages\">Statically typed languages</a></li>\n",
    "<li><a class=\"\" href=\"#Dynamically-typed-languages\">Dynamically typed languages</a></li>\n",
    "</ol><li><a class=\"\" href=\"#General-purpose-programming-language\">General-purpose programming language</a></li>\n",
    "<li><a class=\"\" href=\"#Various-Implementations-of-Python\">Various Implementations of Python</a></li>\n",
    "<ol><li><a class=\"\" href=\"#Machine-Code\">Machine Code</a></li>\n",
    "<li><a class=\"\" href=\"#Bytecode\">Bytecode</a></li>\n",
    "<li><a class=\"\" href=\"#Cpython\">Cpython</a></li>\n",
    "<li><a class=\"\" href=\"#Jython\">Jython</a></li>\n",
    "<li><a class=\"\" href=\"#PyPy\">PyPy</a></li>\n",
    "</ol>"
   ]
  },
  {
   "cell_type": "markdown",
   "metadata": {},
   "source": [
    "## Compiler and Interpreter"
   ]
  },
  {
   "cell_type": "markdown",
   "metadata": {},
   "source": [
    "### Compiler"
   ]
  },
  {
   "cell_type": "markdown",
   "metadata": {},
   "source": [
    "The language processor that reads the complete source program written in high-level language as a whole in one go and translates it into an equivalent program in machine language is called a Compiler.  Example: C, C++, C#, Java.   \n",
    "\n",
    "In a compiler, the source code is translated to object code successfully if it is free of errors. The compiler specifies the errors at the end of the compilation with line numbers when there are any errors in the source code. The errors must be removed before the compiler can successfully recompile the source code again"
   ]
  },
  {
   "cell_type": "markdown",
   "metadata": {},
   "source": [
    "![Compiler](https://media.geeksforgeeks.org/wp-content/uploads/com.png)"
   ]
  },
  {
   "cell_type": "markdown",
   "metadata": {},
   "source": [
    "### Interpreter"
   ]
  },
  {
   "cell_type": "markdown",
   "metadata": {},
   "source": [
    "The translation of a single statement of the source program into machine code is done by a language processor and executes immediately before moving on to the next line is called an interpreter. If there is an error in the statement, the interpreter terminates its translating process at that statement and displays an error message. The interpreter moves on to the next line for execution only after the removal of the error. An Interpreter directly executes instructions written in a programming or scripting language without previously converting them to an object code or machine code.            \n",
    "\n",
    "Example: Perl, Python and Matlab."
   ]
  },
  {
   "cell_type": "markdown",
   "metadata": {},
   "source": [
    "![](https://media.geeksforgeeks.org/wp-content/uploads/20210617144008/interpreter.png)"
   ]
  },
  {
   "cell_type": "markdown",
   "metadata": {},
   "source": [
    "<table><thead><tr><th>Compiler</th><th>Interpreter</th></tr></thead><tbody><tr><td>A compiler is a program that converts the entire source code of a programming language into executable machine code for a CPU.&nbsp;&nbsp;<br>&nbsp;</td><td>An interpreter takes a source program and runs it line by line, translating each line as it comes to it</td></tr><tr><td>The compiler takes a large amount of time to analyze the entire source code but the overall execution time of the program is comparatively faster.&nbsp;<br>&nbsp;</td><td>An interpreter takes less amount of time to analyze the source code but the overall execution time of the program is slower.</td></tr><tr><td>The compiler generates the error message only after scanning the whole program, so debugging is comparatively hard as the error can be present anywhere in the program.&nbsp;&nbsp;</td><td>Its Debugging is easier as it continues translating the program until the error is met.</td></tr><tr><td>The compiler requires a lot of memory for generating object codes.</td><td>It requires less memory than a compiler because no object code is generated.</td></tr><tr><td>Generates intermediate object code.&nbsp;</td><td>No intermediate object code is generated.</td></tr><tr><td>For Security purpose compiler is more useful.</td><td>The interpreter is a little vulnerable in case of security.</td></tr><tr><td>Examples: C, C++, Java&nbsp;&nbsp;</td><td>Examples: Python, Perl, JavaScript, <a href=\"https://www.geeksforgeeks.org/ruby-programming-language/\">Ruby</a></td></tr></tbody></table>"
   ]
  },
  {
   "cell_type": "markdown",
   "metadata": {},
   "source": [
    "## High-level and Low-Level Programming Language"
   ]
  },
  {
   "cell_type": "markdown",
   "metadata": {},
   "source": [
    "A high-level programming language is a programming language with strong abstraction from the details of the computer. It is often easier to use than low-level programming languages, but it may execute more slowly and may require more memory to perform the same task. High-level languages are generally portable across many types of computer. Examples of high-level languages include C, C++, Java, Perl, Python, and Ruby."
   ]
  },
  {
   "cell_type": "markdown",
   "metadata": {},
   "source": [
    "<table>\n",
    "<tr><th>Number</th><th>HLL</th><th>LLL</th></tr>\n",
    "    <tbody>\n",
    "        <tr>\n",
    "            <th>1.</th>\n",
    "            <th>It is programmer friendly language.</th>\n",
    "            <th>It is a machine friendly language.</th>\n",
    "        </tr>\n",
    "        <tr>\n",
    "            <th>2.</th>\n",
    "            <th>High level language is less memory efficient.</th>\n",
    "            <th>Low level language is high memory efficient.</th>\n",
    "        </tr>\n",
    "        <tr>\n",
    "            <th>3.</th>\n",
    "            <th>It is easy to understand.</th>\n",
    "            <th>It is tough to understand.</th>\n",
    "        </tr>\n",
    "        <tr>\n",
    "            <th>4.</th>\n",
    "            <th>Debugging is easy.</th>\n",
    "            <th>Debugging is complex comparatively.</th>\n",
    "        </tr>\n",
    "        <tr>\n",
    "            <th>5.</th>\n",
    "            <th>It is simple to maintain.</th>\n",
    "            <th>It is complex to maintain comparatively.</th>\n",
    "        </tr>\n",
    "        <tr>\n",
    "            <th>6.</th>\n",
    "            <th>It is portable.</th>\n",
    "            <th>It is non-portable.</th>\n",
    "        </tr>\n",
    "        <tr>\n",
    "            <th>7.</th>\n",
    "            <th>It can run on any platform.</th>\n",
    "            <th>It is machine-dependent.</th>\n",
    "        </tr>\n",
    "        <tr>\n",
    "            <th>8.</th>\n",
    "            <th>It needs compiler or interpreter for translation.</th>\n",
    "            <th>It needs assembler for translation.</th>\n",
    "        </tr>\n",
    "        <tr>\n",
    "            <th>9.</th>\n",
    "            <th>It is used widely for programming.</th>\n",
    "            <th>It is not commonly used now-a-days in programming.</th>\n",
    "        </tr>\n",
    "    </tbody>\n",
    "</table>"
   ]
  },
  {
   "cell_type": "markdown",
   "metadata": {},
   "source": [
    "A low-level programming language is a programming language that provides little or no abstraction from a computer's instruction set architecture—commands or functions in the language map that are structurally similar to processor's instructions. Generally, this refers to either machine code or assembly language. Some examples are Machine language and Assembly language."
   ]
  },
  {
   "cell_type": "markdown",
   "metadata": {},
   "source": [
    "## Compiled and Interpreted Programming Language"
   ]
  },
  {
   "cell_type": "markdown",
   "metadata": {},
   "source": [
    "### Compiled Language?"
   ]
  },
  {
   "cell_type": "markdown",
   "metadata": {},
   "source": [
    "A compiled language is a programming language that is generally compiled and not interpreted. It is one where the program, once compiled, is expressed in the instructions of the target machine; this machine code is undecipherable by humans. Types of compiled language – C, C++, C#, CLEO, COBOL, etc. "
   ]
  },
  {
   "cell_type": "markdown",
   "metadata": {},
   "source": [
    "![](https://media.geeksforgeeks.org/wp-content/uploads/20200326222732/com4.png)"
   ]
  },
  {
   "cell_type": "markdown",
   "metadata": {},
   "source": [
    "### Interpreted Language"
   ]
  },
  {
   "cell_type": "markdown",
   "metadata": {},
   "source": [
    "An interpreted language is a programming language that is generally interpreted, without compiling a program into machine instructions. It is one where the instructions are not directly executed by the target machine, but instead, read and executed by some other program. Interpreted language ranges – JavaScript, Perl, Python, BASIC, etc. "
   ]
  },
  {
   "cell_type": "markdown",
   "metadata": {},
   "source": [
    "![](https://media.geeksforgeeks.org/wp-content/uploads/20200326222734/int2.png)"
   ]
  },
  {
   "cell_type": "markdown",
   "metadata": {},
   "source": [
    "<table><thead><tr><th>S.NO.</th><th>COMPILED LANGUAGE</th><th>INTERPRETED LANGUAGE</th></tr></thead><tbody><tr><td>1</td><td>A compiled language is a programming language whose implementations are typically compilers and not interpreters.</td><td>An interpreted language is a programming language whose implementations execute instructions directly and freely, without previously compiling a program into machine-language instructions.</td></tr><tr><td>2</td><td>In this language, once the program is compiled it is expressed in the instructions of the target machine.</td><td>While in this language, the instructions are not directly executed by the target machine.</td></tr><tr><td>3</td><td>There are at least two steps to get from source code to execution.</td><td>There is only one step to get from source code to execution.</td></tr><tr><td>4</td><td>In this language, compiled programs run faster than interpreted programs.</td><td>While in this language, interpreted programs can be modified while the program is running.</td></tr><tr><td>5</td><td>In this language, compilation errors prevent the code from compiling.</td><td>In this languages, all the debugging occurs at run-time.</td></tr><tr><td>6</td><td>The code of compiled language can be executed directly by the computer’s CPU.</td><td>A program written in an interpreted language is not compiled, it is interpreted.</td></tr><tr><td>7</td><td>This language delivers better performance.</td><td>This language example delivers relatively slower performance.</td></tr><tr><td>8</td><td>Example of compiled language – C, C++, C#, CLEO, COBOL, etc.</td><td>Example of Interpreted language – JavaScript, Perl, Python, BASIC, etc.</td></tr></tbody></table>"
   ]
  },
  {
   "cell_type": "markdown",
   "metadata": {},
   "source": [
    "## Statically and Dynamically typed languages"
   ]
  },
  {
   "cell_type": "markdown",
   "metadata": {},
   "source": [
    "### Statically typed languages"
   ]
  },
  {
   "cell_type": "markdown",
   "metadata": {},
   "source": [
    "\n",
    "A language is statically typed if the type of a variable is known at compile time. For some languages this means that you as the programmer must specify what type each variable is; other languages (e.g.: Java, C, C++) offer some form of type inference, the capability of the type system to deduce the type of a variable (e.g.: OCaml, Haskell, Scala, Kotlin).\n",
    "\n",
    "The main advantage here is that all kinds of checking can be done by the compiler, and therefore a lot of trivial bugs are caught at a very early stage.\n",
    "\n",
    "Examples: C, C++, Java, Rust, Go, Scala"
   ]
  },
  {
   "cell_type": "markdown",
   "metadata": {},
   "source": [
    "### Dynamically typed languages"
   ]
  },
  {
   "cell_type": "markdown",
   "metadata": {},
   "source": [
    "A language is dynamically typed if the type is associated with run-time values, and not named variables/fields/etc. This means that you as a programmer can write a little quicker because you do not have to specify types every time (unless using a statically-typed language with type inference).\n",
    "\n",
    "Examples: Perl, Ruby, Python, PHP, JavaScript, Erlang\n",
    "\n",
    "Most scripting languages have this feature as there is no compiler to do static type-checking anyway, but you may find yourself searching for a bug that is due to the interpreter misinterpreting the type of a variable. Luckily, scripts tend to be small so bugs have not so many places to hide."
   ]
  },
  {
   "cell_type": "markdown",
   "metadata": {},
   "source": [
    "![](https://www.baeldung.com/wp-content/ql-cache/quicklatex.com-e416d185fb97d7bd48be3a93bb722e36_l3.svg)"
   ]
  },
  {
   "cell_type": "markdown",
   "metadata": {},
   "source": [
    "## General-purpose programming language"
   ]
  },
  {
   "cell_type": "markdown",
   "metadata": {},
   "source": [
    "In computer software, a general-purpose programming language (GPL) is a programming language designed to be used for building software in a wide variety of application domains, across a multitude of hardware configurations and operating systems. In theory, a GPL program can run equivalently on a single processor or on a network. The opposite of a general-purpose programming language is a domain-specific programming language, which is designed to be used within a specific area, for example, querying databases. For example, SQL was designed for querying databases.\n",
    "\n"
   ]
  },
  {
   "cell_type": "markdown",
   "metadata": {},
   "source": [
    "## Various Implementations of Python"
   ]
  },
  {
   "cell_type": "markdown",
   "metadata": {},
   "source": [
    "### Machine Code"
   ]
  },
  {
   "cell_type": "markdown",
   "metadata": {},
   "source": [
    "Machine code is set of instructions that directly gets executed by the CPU. Each instruction performs a very unique task, such as load or an logical operation on data in CPU memory. Almost all the high level languages such as C translate the source code into executable machine code with the help of Compilers, loaders and linkers. Every processor or processor family has its own machine code instruction set."
   ]
  },
  {
   "cell_type": "markdown",
   "metadata": {},
   "source": [
    "![](https://media.geeksforgeeks.org/wp-content/uploads/Machine.jpg)"
   ]
  },
  {
   "cell_type": "markdown",
   "metadata": {},
   "source": [
    "### Bytecode"
   ]
  },
  {
   "cell_type": "markdown",
   "metadata": {},
   "source": [
    "Bytecode is also binary representation executed by virtual machine (not by CPU directly). The virtual machine (which is written different for different machines) converts binary instruction into a specific machine instruction. One of the language that uses the concept of Bytecode is Java."
   ]
  },
  {
   "cell_type": "markdown",
   "metadata": {},
   "source": [
    "![](https://media.geeksforgeeks.org/wp-content/uploads/byteCode.jpg)"
   ]
  },
  {
   "cell_type": "markdown",
   "metadata": {},
   "source": [
    "### Cpython"
   ]
  },
  {
   "cell_type": "markdown",
   "metadata": {},
   "source": [
    "The default implementation of the Python programming language is Cpython. As the name suggests Cpython is written in C language. Cpython compiles the python source code into intermediate bytecode, which is executed by the Cpython virtual machine. CPython is distributed with a large standard library written in a mixture of C and Python. CPython provides the highest level of compatibility with Python packages and C extension modules. All versions of the Python language are implemented in C because CPython is the reference implementation."
   ]
  },
  {
   "cell_type": "markdown",
   "metadata": {},
   "source": [
    "### Jython"
   ]
  },
  {
   "cell_type": "markdown",
   "metadata": {},
   "source": [
    "Jython is an implementation of the Python programming language that can run on the Java platform. Jython programs use Java classes instead of Python modules .Jython compiles into Java byte code, which can then be run by Java virtual machine. Jython enables the use of Java class library functions from the Python program. Jython is slow as compared to Cpython and lacks compatibility with CPython libraries."
   ]
  },
  {
   "cell_type": "markdown",
   "metadata": {},
   "source": [
    "![](https://media.geeksforgeeks.org/wp-content/uploads/python.jpg)"
   ]
  },
  {
   "cell_type": "markdown",
   "metadata": {},
   "source": [
    "### PyPy"
   ]
  },
  {
   "cell_type": "markdown",
   "metadata": {},
   "source": [
    "Python is dynamic programming language. Python is said to be slow as the default CPython implementation compiles the python source code in bytecode which is slow as compared to machine code(native code). Here PyPy comes in.\n",
    "PyPy is an implementation of the Python programming language written in Python. The Interpreter is written in RPython (a subset of Python)."
   ]
  },
  {
   "cell_type": "markdown",
   "metadata": {},
   "source": [
    "![](https://media.geeksforgeeks.org/wp-content/uploads/pythonByteCode.jpg)"
   ]
  }
 ],
 "metadata": {
  "kernelspec": {
   "display_name": "Python 3.9.12 ('data-science')",
   "language": "python",
   "name": "python3"
  },
  "language_info": {
   "name": "python",
   "version": "3.9.12"
  },
  "orig_nbformat": 4,
  "vscode": {
   "interpreter": {
    "hash": "2efee1efa502125d01e6b4768ba06d9453d29f3642bfd14ad5d4a769de82e88c"
   }
  }
 },
 "nbformat": 4,
 "nbformat_minor": 2
}
