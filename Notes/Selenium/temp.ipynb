{
 "cells": [
  {
   "cell_type": "code",
   "execution_count": 4,
   "metadata": {},
   "outputs": [],
   "source": [
    "import webdriver_manager\n",
    "from selenium.webdriver.common.by import By\n",
    "from selenium.webdriver.common.keys import Keys\n",
    "from selenium import webdriver\n",
    "from webdriver_manager.chrome import ChromeDriverManager\n",
    "from webdriver_manager.firefox import GeckoDriverManager\n",
    "from selenium.webdriver.chrome.service import Service as ChromeService\n",
    "from IPython.display import clear_output\n",
    "import time\n",
    "import pandas as pd\n",
    "import IPython"
   ]
  },
  {
   "cell_type": "code",
   "execution_count": 5,
   "metadata": {},
   "outputs": [],
   "source": [
    "driver = webdriver.Chrome(service=ChromeService(ChromeDriverManager().install()))"
   ]
  },
  {
   "cell_type": "code",
   "execution_count": 144,
   "metadata": {},
   "outputs": [],
   "source": [
    "def login():\n",
    "    driver.get(\"https://ocs.iitd.ac.in/portal/login\")\n",
    "    ID = \"phs217181\"\n",
    "    password = input(\"Enter your password: \")\n",
    "    driver.get(\"https://ocs.iitd.ac.in/portal/login\")\n",
    "    driver.find_element(By.ID, \"mat-input-0\").send_keys(ID)\n",
    "    driver.find_element(By.ID, \"mat-input-1\").send_keys(password)\n",
    "    captcha = driver.find_element(By.TAG_NAME, \"object\")\n",
    "    captcha.screenshot(\"captcha.png\")\n",
    "    IPython.display.display(IPython.display.Image(\"captcha.png\"))\n",
    "    captcha_code = input(\"Enter the captcha code: \")\n",
    "    driver.find_element(By.ID, \"mat-input-2\").send_keys(captcha_code)\n",
    "    driver.find_element(By.TAG_NAME, \"button\").click()"
   ]
  },
  {
   "cell_type": "code",
   "execution_count": 160,
   "metadata": {},
   "outputs": [],
   "source": [
    "def list_companies(url = \"https://ocs.iitd.ac.in/portal/student/applications\", class1= \"mat-select-value-5\", class2 = \"mat-option-14\"):\n",
    "    driver.get(url)\n",
    "    driver.find_element(By.ID, class1).click()\n",
    "    driver.find_element(By.ID, class2).click()\n",
    "    max_rows = int(driver.find_element(By.CLASS_NAME, \"mat-paginator-range-label\").text.split(\" \")[-1])\n",
    "    return max_rows"
   ]
  },
  {
   "cell_type": "code",
   "execution_count": 146,
   "metadata": {},
   "outputs": [],
   "source": [
    "def result(max_rows):\n",
    "    companies = []\n",
    "    profiles = []\n",
    "    page_num = 0\n",
    "    per_page = 50\n",
    "    while page_num*per_page<=max_rows:\n",
    "        print(f\"Currently on page {page_num+1}\")\n",
    "        table = driver.find_element(By.TAG_NAME, \"table\")\n",
    "        rows = table.find_elements(By.TAG_NAME, \"tr\")\n",
    "        for i in range(1, len(rows)):\n",
    "            data = rows[i].find_element(By.TAG_NAME, \"td\").text.split(\"\\n\")[0]\n",
    "            company = data.split(\"(\")[0]\n",
    "            profile = data.split(\"(\")[1].split(\")\")[0]\n",
    "            companies.append(company.strip())\n",
    "            profiles.append(profile.strip())\n",
    "        next_btn = driver.find_elements(By.CLASS_NAME, \"mat-button-wrapper\")[1]\n",
    "        next_btn.click()\n",
    "        page_num+=1\n",
    "    all_companies = pd.DataFrame([companies, profiles]).T\n",
    "    all_companies.columns = [\"Company\", \"Profile\"]\n",
    "    return all_companies"
   ]
  },
  {
   "cell_type": "code",
   "execution_count": 169,
   "metadata": {},
   "outputs": [],
   "source": [
    "def logout():\n",
    "    for item in driver.find_elements(By.TAG_NAME ,\"mat-icon\"):\n",
    "        if item.text == \"exit_to_app\":\n",
    "            item.click()\n",
    "            return None"
   ]
  },
  {
   "cell_type": "code",
   "execution_count": 171,
   "metadata": {},
   "outputs": [
    {
     "data": {
      "image/png": "[encoded data removed]",
      "text/plain": [
       "<IPython.core.display.Image object>"
      ]
     },
     "metadata": {},
     "output_type": "display_data"
    }
   ],
   "source": [
    "login()"
   ]
  },
  {
   "cell_type": "markdown",
   "metadata": {},
   "source": [
    "## MSC List"
   ]
  },
  {
   "cell_type": "code",
   "execution_count": 163,
   "metadata": {},
   "outputs": [
    {
     "name": "stdout",
     "output_type": "stream",
     "text": [
      "Currently on page 1\n",
      "Currently on page 2\n"
     ]
    }
   ],
   "source": [
    "max_rows = list_companies()\n",
    "msc_df = result(max_rows=max_rows)"
   ]
  },
  {
   "cell_type": "code",
   "execution_count": 173,
   "metadata": {},
   "outputs": [
    {
     "data": {
      "text/html": [
       "<div>\n",
       "<style scoped>\n",
       "    .dataframe tbody tr th:only-of-type {\n",
       "        vertical-align: middle;\n",
       "    }\n",
       "\n",
       "    .dataframe tbody tr th {\n",
       "        vertical-align: top;\n",
       "    }\n",
       "\n",
       "    .dataframe thead th {\n",
       "        text-align: right;\n",
       "    }\n",
       "</style>\n",
       "<table border=\"1\" class=\"dataframe\">\n",
       "  <thead>\n",
       "    <tr style=\"text-align: right;\">\n",
       "      <th></th>\n",
       "      <th>Company</th>\n",
       "      <th>Profile</th>\n",
       "    </tr>\n",
       "  </thead>\n",
       "  <tbody>\n",
       "    <tr>\n",
       "      <th>0</th>\n",
       "      <td>DMI Finance</td>\n",
       "      <td>Data Scientist</td>\n",
       "    </tr>\n",
       "    <tr>\n",
       "      <th>1</th>\n",
       "      <td>Sony Group Corporation</td>\n",
       "      <td>JAF1 : XR System Engineer</td>\n",
       "    </tr>\n",
       "    <tr>\n",
       "      <th>2</th>\n",
       "      <td>Sony Group Corporation</td>\n",
       "      <td>JAF2 : Software and Hardware engineer for Robo...</td>\n",
       "    </tr>\n",
       "    <tr>\n",
       "      <th>3</th>\n",
       "      <td>Sony Group Corporation</td>\n",
       "      <td>JAF3 : Visual Recognition Computation Systems ...</td>\n",
       "    </tr>\n",
       "    <tr>\n",
       "      <th>4</th>\n",
       "      <td>Sony Group Corporation</td>\n",
       "      <td>JAF4 : Software Engineer, Parallel Programming...</td>\n",
       "    </tr>\n",
       "    <tr>\n",
       "      <th>...</th>\n",
       "      <td>...</td>\n",
       "      <td>...</td>\n",
       "    </tr>\n",
       "    <tr>\n",
       "      <th>89</th>\n",
       "      <td>Honda R&amp;D</td>\n",
       "      <td>5</td>\n",
       "    </tr>\n",
       "    <tr>\n",
       "      <th>90</th>\n",
       "      <td>Apport Software Solutions Private Ltd</td>\n",
       "      <td>UX Designer</td>\n",
       "    </tr>\n",
       "    <tr>\n",
       "      <th>91</th>\n",
       "      <td>Zupee</td>\n",
       "      <td>Founder's Team</td>\n",
       "    </tr>\n",
       "    <tr>\n",
       "      <th>92</th>\n",
       "      <td>Morgan Stanley</td>\n",
       "      <td>Strats and Quants</td>\n",
       "    </tr>\n",
       "    <tr>\n",
       "      <th>93</th>\n",
       "      <td>Morgan Stanley</td>\n",
       "      <td>Sales and Trading</td>\n",
       "    </tr>\n",
       "  </tbody>\n",
       "</table>\n",
       "<p>94 rows × 2 columns</p>\n",
       "</div>"
      ],
      "text/plain": [
       "                                  Company  \\\n",
       "0                             DMI Finance   \n",
       "1                  Sony Group Corporation   \n",
       "2                  Sony Group Corporation   \n",
       "3                  Sony Group Corporation   \n",
       "4                  Sony Group Corporation   \n",
       "..                                    ...   \n",
       "89                              Honda R&D   \n",
       "90  Apport Software Solutions Private Ltd   \n",
       "91                                  Zupee   \n",
       "92                         Morgan Stanley   \n",
       "93                         Morgan Stanley   \n",
       "\n",
       "                                              Profile  \n",
       "0                                      Data Scientist  \n",
       "1                           JAF1 : XR System Engineer  \n",
       "2   JAF2 : Software and Hardware engineer for Robo...  \n",
       "3   JAF3 : Visual Recognition Computation Systems ...  \n",
       "4   JAF4 : Software Engineer, Parallel Programming...  \n",
       "..                                                ...  \n",
       "89                                                  5  \n",
       "90                                        UX Designer  \n",
       "91                                     Founder's Team  \n",
       "92                                  Strats and Quants  \n",
       "93                                  Sales and Trading  \n",
       "\n",
       "[94 rows x 2 columns]"
      ]
     },
     "execution_count": 173,
     "metadata": {},
     "output_type": "execute_result"
    }
   ],
   "source": [
    "msc_df"
   ]
  },
  {
   "cell_type": "markdown",
   "metadata": {},
   "source": [
    "## All List"
   ]
  },
  {
   "cell_type": "code",
   "execution_count": 164,
   "metadata": {},
   "outputs": [
    {
     "name": "stdout",
     "output_type": "stream",
     "text": [
      "Currently on page 1\n",
      "Currently on page 2\n",
      "Currently on page 3\n",
      "Currently on page 4\n",
      "Currently on page 5\n",
      "Currently on page 6\n",
      "Currently on page 7\n",
      "Currently on page 8\n",
      "Currently on page 9\n",
      "Currently on page 10\n",
      "Currently on page 11\n"
     ]
    }
   ],
   "source": [
    "url = \"https://ocs.iitd.ac.in/portal/student/companies\"\n",
    "class1= \"mat-select-value-3\"\n",
    "class2 = \"mat-option-10\"\n",
    "max_rows = list_companies(url = url, class1=class1, class2=class2)\n",
    "all_df = result(max_rows=max_rows)"
   ]
  },
  {
   "cell_type": "code",
   "execution_count": 174,
   "metadata": {},
   "outputs": [
    {
     "data": {
      "text/html": [
       "<div>\n",
       "<style scoped>\n",
       "    .dataframe tbody tr th:only-of-type {\n",
       "        vertical-align: middle;\n",
       "    }\n",
       "\n",
       "    .dataframe tbody tr th {\n",
       "        vertical-align: top;\n",
       "    }\n",
       "\n",
       "    .dataframe thead th {\n",
       "        text-align: right;\n",
       "    }\n",
       "</style>\n",
       "<table border=\"1\" class=\"dataframe\">\n",
       "  <thead>\n",
       "    <tr style=\"text-align: right;\">\n",
       "      <th></th>\n",
       "      <th>Company</th>\n",
       "      <th>Profile</th>\n",
       "    </tr>\n",
       "  </thead>\n",
       "  <tbody>\n",
       "    <tr>\n",
       "      <th>0</th>\n",
       "      <td>Inito</td>\n",
       "      <td>JRS Biotechnology</td>\n",
       "    </tr>\n",
       "    <tr>\n",
       "      <th>1</th>\n",
       "      <td>AlphaGrep Securities</td>\n",
       "      <td>Quantitative Trading Analyst</td>\n",
       "    </tr>\n",
       "    <tr>\n",
       "      <th>2</th>\n",
       "      <td>AlphaGrep Securities</td>\n",
       "      <td>Software Developer</td>\n",
       "    </tr>\n",
       "    <tr>\n",
       "      <th>3</th>\n",
       "      <td>Cohesity</td>\n",
       "      <td>Member of Technical Staff</td>\n",
       "    </tr>\n",
       "    <tr>\n",
       "      <th>4</th>\n",
       "      <td>Cohesity</td>\n",
       "      <td>Member of Technical Staff</td>\n",
       "    </tr>\n",
       "    <tr>\n",
       "      <th>...</th>\n",
       "      <td>...</td>\n",
       "      <td>...</td>\n",
       "    </tr>\n",
       "    <tr>\n",
       "      <th>498</th>\n",
       "      <td>Wipro Enterprises</td>\n",
       "      <td>P</td>\n",
       "    </tr>\n",
       "    <tr>\n",
       "      <th>499</th>\n",
       "      <td>WorldQuant</td>\n",
       "      <td>Quantitative Researcher</td>\n",
       "    </tr>\n",
       "    <tr>\n",
       "      <th>500</th>\n",
       "      <td>zHealth</td>\n",
       "      <td>Software Development Engineer I</td>\n",
       "    </tr>\n",
       "    <tr>\n",
       "      <th>501</th>\n",
       "      <td>Zomato Limited</td>\n",
       "      <td>Sde</td>\n",
       "    </tr>\n",
       "    <tr>\n",
       "      <th>502</th>\n",
       "      <td>Zupee</td>\n",
       "      <td>Founder's Team</td>\n",
       "    </tr>\n",
       "  </tbody>\n",
       "</table>\n",
       "<p>503 rows × 2 columns</p>\n",
       "</div>"
      ],
      "text/plain": [
       "                  Company                          Profile\n",
       "0                   Inito                JRS Biotechnology\n",
       "1    AlphaGrep Securities     Quantitative Trading Analyst\n",
       "2    AlphaGrep Securities               Software Developer\n",
       "3                Cohesity        Member of Technical Staff\n",
       "4                Cohesity        Member of Technical Staff\n",
       "..                    ...                              ...\n",
       "498     Wipro Enterprises                                P\n",
       "499            WorldQuant          Quantitative Researcher\n",
       "500               zHealth  Software Development Engineer I\n",
       "501        Zomato Limited                              Sde\n",
       "502                 Zupee                   Founder's Team\n",
       "\n",
       "[503 rows x 2 columns]"
      ]
     },
     "execution_count": 174,
     "metadata": {},
     "output_type": "execute_result"
    }
   ],
   "source": [
    "all_df"
   ]
  },
  {
   "cell_type": "code",
   "execution_count": 172,
   "metadata": {},
   "outputs": [
    {
     "ename": "StaleElementReferenceException",
     "evalue": "Message: stale element reference: element is not attached to the page document\n  (Session info: chrome=106.0.5249.119)\nStacktrace:\n#0 0x56100010e2c3 <unknown>\n#1 0x560ffff1783a <unknown>\n#2 0x560ffff1a9d7 <unknown>\n#3 0x560ffff1a877 <unknown>\n#4 0x560ffff1ab3c <unknown>\n#5 0x560ffff4b21b <unknown>\n#6 0x560ffff6ef42 <unknown>\n#7 0x560ffff45073 <unknown>\n#8 0x560ffff6f0ae <unknown>\n#9 0x560ffff86a50 <unknown>\n#10 0x560ffff6ed63 <unknown>\n#11 0x560ffff437e3 <unknown>\n#12 0x560ffff44a21 <unknown>\n#13 0x56100015c18e <unknown>\n#14 0x56100015f622 <unknown>\n#15 0x561000142aae <unknown>\n#16 0x5610001602a3 <unknown>\n#17 0x561000136ecf <unknown>\n#18 0x561000180588 <unknown>\n#19 0x561000180706 <unknown>\n#20 0x56100019a8b2 <unknown>\n#21 0x7f85fe1eeb43 <unknown>\n",
     "output_type": "error",
     "traceback": [
      "\u001b[0;31m---------------------------------------------------------------------------\u001b[0m",
      "\u001b[0;31mStaleElementReferenceException\u001b[0m            Traceback (most recent call last)",
      "\u001b[1;32m/media/hari31416/Hari_SSD/Users/harik/Desktop/Placement/Notes/Selenium/temp.ipynb Cell 12\u001b[0m in \u001b[0;36m<cell line: 1>\u001b[0;34m()\u001b[0m\n\u001b[0;32m----> <a href='vscode-notebook-cell:/media/hari31416/Hari_SSD/Users/harik/Desktop/Placement/Notes/Selenium/temp.ipynb#Y100sZmlsZQ%3D%3D?line=0'>1</a>\u001b[0m logout()\n",
      "\u001b[1;32m/media/hari31416/Hari_SSD/Users/harik/Desktop/Placement/Notes/Selenium/temp.ipynb Cell 12\u001b[0m in \u001b[0;36mlogout\u001b[0;34m()\u001b[0m\n\u001b[1;32m      <a href='vscode-notebook-cell:/media/hari31416/Hari_SSD/Users/harik/Desktop/Placement/Notes/Selenium/temp.ipynb#Y100sZmlsZQ%3D%3D?line=0'>1</a>\u001b[0m \u001b[39mdef\u001b[39;00m \u001b[39mlogout\u001b[39m():\n\u001b[1;32m      <a href='vscode-notebook-cell:/media/hari31416/Hari_SSD/Users/harik/Desktop/Placement/Notes/Selenium/temp.ipynb#Y100sZmlsZQ%3D%3D?line=1'>2</a>\u001b[0m     \u001b[39mfor\u001b[39;00m item \u001b[39min\u001b[39;00m driver\u001b[39m.\u001b[39mfind_elements(By\u001b[39m.\u001b[39mTAG_NAME ,\u001b[39m\"\u001b[39m\u001b[39mmat-icon\u001b[39m\u001b[39m\"\u001b[39m):\n\u001b[0;32m----> <a href='vscode-notebook-cell:/media/hari31416/Hari_SSD/Users/harik/Desktop/Placement/Notes/Selenium/temp.ipynb#Y100sZmlsZQ%3D%3D?line=2'>3</a>\u001b[0m         \u001b[39mif\u001b[39;00m item\u001b[39m.\u001b[39;49mtext \u001b[39m==\u001b[39m \u001b[39m\"\u001b[39m\u001b[39mexit_to_app\u001b[39m\u001b[39m\"\u001b[39m:\n\u001b[1;32m      <a href='vscode-notebook-cell:/media/hari31416/Hari_SSD/Users/harik/Desktop/Placement/Notes/Selenium/temp.ipynb#Y100sZmlsZQ%3D%3D?line=3'>4</a>\u001b[0m             item\u001b[39m.\u001b[39mclick()\n",
      "File \u001b[0;32m~/anaconda3/envs/data-science/lib/python3.9/site-packages/selenium/webdriver/remote/webelement.py:84\u001b[0m, in \u001b[0;36mWebElement.text\u001b[0;34m(self)\u001b[0m\n\u001b[1;32m     81\u001b[0m \u001b[39m@property\u001b[39m\n\u001b[1;32m     82\u001b[0m \u001b[39mdef\u001b[39;00m \u001b[39mtext\u001b[39m(\u001b[39mself\u001b[39m) \u001b[39m-\u001b[39m\u001b[39m>\u001b[39m \u001b[39mstr\u001b[39m:\n\u001b[1;32m     83\u001b[0m     \u001b[39m\"\"\"The text of the element.\"\"\"\u001b[39;00m\n\u001b[0;32m---> 84\u001b[0m     \u001b[39mreturn\u001b[39;00m \u001b[39mself\u001b[39;49m\u001b[39m.\u001b[39;49m_execute(Command\u001b[39m.\u001b[39;49mGET_ELEMENT_TEXT)[\u001b[39m'\u001b[39m\u001b[39mvalue\u001b[39m\u001b[39m'\u001b[39m]\n",
      "File \u001b[0;32m~/anaconda3/envs/data-science/lib/python3.9/site-packages/selenium/webdriver/remote/webelement.py:396\u001b[0m, in \u001b[0;36mWebElement._execute\u001b[0;34m(self, command, params)\u001b[0m\n\u001b[1;32m    394\u001b[0m     params \u001b[39m=\u001b[39m {}\n\u001b[1;32m    395\u001b[0m params[\u001b[39m'\u001b[39m\u001b[39mid\u001b[39m\u001b[39m'\u001b[39m] \u001b[39m=\u001b[39m \u001b[39mself\u001b[39m\u001b[39m.\u001b[39m_id\n\u001b[0;32m--> 396\u001b[0m \u001b[39mreturn\u001b[39;00m \u001b[39mself\u001b[39;49m\u001b[39m.\u001b[39;49m_parent\u001b[39m.\u001b[39;49mexecute(command, params)\n",
      "File \u001b[0;32m~/anaconda3/envs/data-science/lib/python3.9/site-packages/selenium/webdriver/remote/webdriver.py:435\u001b[0m, in \u001b[0;36mWebDriver.execute\u001b[0;34m(self, driver_command, params)\u001b[0m\n\u001b[1;32m    433\u001b[0m response \u001b[39m=\u001b[39m \u001b[39mself\u001b[39m\u001b[39m.\u001b[39mcommand_executor\u001b[39m.\u001b[39mexecute(driver_command, params)\n\u001b[1;32m    434\u001b[0m \u001b[39mif\u001b[39;00m response:\n\u001b[0;32m--> 435\u001b[0m     \u001b[39mself\u001b[39;49m\u001b[39m.\u001b[39;49merror_handler\u001b[39m.\u001b[39;49mcheck_response(response)\n\u001b[1;32m    436\u001b[0m     response[\u001b[39m'\u001b[39m\u001b[39mvalue\u001b[39m\u001b[39m'\u001b[39m] \u001b[39m=\u001b[39m \u001b[39mself\u001b[39m\u001b[39m.\u001b[39m_unwrap_value(\n\u001b[1;32m    437\u001b[0m         response\u001b[39m.\u001b[39mget(\u001b[39m'\u001b[39m\u001b[39mvalue\u001b[39m\u001b[39m'\u001b[39m, \u001b[39mNone\u001b[39;00m))\n\u001b[1;32m    438\u001b[0m     \u001b[39mreturn\u001b[39;00m response\n",
      "File \u001b[0;32m~/anaconda3/envs/data-science/lib/python3.9/site-packages/selenium/webdriver/remote/errorhandler.py:247\u001b[0m, in \u001b[0;36mErrorHandler.check_response\u001b[0;34m(self, response)\u001b[0m\n\u001b[1;32m    245\u001b[0m         alert_text \u001b[39m=\u001b[39m value[\u001b[39m'\u001b[39m\u001b[39malert\u001b[39m\u001b[39m'\u001b[39m]\u001b[39m.\u001b[39mget(\u001b[39m'\u001b[39m\u001b[39mtext\u001b[39m\u001b[39m'\u001b[39m)\n\u001b[1;32m    246\u001b[0m     \u001b[39mraise\u001b[39;00m exception_class(message, screen, stacktrace, alert_text)  \u001b[39m# type: ignore[call-arg]  # mypy is not smart enough here\u001b[39;00m\n\u001b[0;32m--> 247\u001b[0m \u001b[39mraise\u001b[39;00m exception_class(message, screen, stacktrace)\n",
      "\u001b[0;31mStaleElementReferenceException\u001b[0m: Message: stale element reference: element is not attached to the page document\n  (Session info: chrome=106.0.5249.119)\nStacktrace:\n#0 0x56100010e2c3 <unknown>\n#1 0x560ffff1783a <unknown>\n#2 0x560ffff1a9d7 <unknown>\n#3 0x560ffff1a877 <unknown>\n#4 0x560ffff1ab3c <unknown>\n#5 0x560ffff4b21b <unknown>\n#6 0x560ffff6ef42 <unknown>\n#7 0x560ffff45073 <unknown>\n#8 0x560ffff6f0ae <unknown>\n#9 0x560ffff86a50 <unknown>\n#10 0x560ffff6ed63 <unknown>\n#11 0x560ffff437e3 <unknown>\n#12 0x560ffff44a21 <unknown>\n#13 0x56100015c18e <unknown>\n#14 0x56100015f622 <unknown>\n#15 0x561000142aae <unknown>\n#16 0x5610001602a3 <unknown>\n#17 0x561000136ecf <unknown>\n#18 0x561000180588 <unknown>\n#19 0x561000180706 <unknown>\n#20 0x56100019a8b2 <unknown>\n#21 0x7f85fe1eeb43 <unknown>\n"
     ]
    }
   ],
   "source": [
    "logout()"
   ]
  },
  {
   "cell_type": "code",
   "execution_count": null,
   "metadata": {},
   "outputs": [],
   "source": [
    "driver.close()"
   ]
  },
  {
   "cell_type": "code",
   "execution_count": 132,
   "metadata": {},
   "outputs": [],
   "source": [
    "driver.get(\"https://ocs.iitd.ac.in/portal/student/applications\")\n",
    "driver.find_element(By.ID, \"mat-select-value-5\").click()\n",
    "driver.find_element(By.ID, \"mat-option-14\").click()"
   ]
  },
  {
   "cell_type": "code",
   "execution_count": 133,
   "metadata": {},
   "outputs": [
    {
     "data": {
      "text/plain": [
       "94"
      ]
     },
     "execution_count": 133,
     "metadata": {},
     "output_type": "execute_result"
    }
   ],
   "source": [
    "max_rows = int(driver.find_element(By.CLASS_NAME, \"mat-paginator-range-label\").text.split(\" \")[-1])\n",
    "max_rows"
   ]
  },
  {
   "cell_type": "code",
   "execution_count": 134,
   "metadata": {},
   "outputs": [
    {
     "name": "stdout",
     "output_type": "stream",
     "text": [
      "Currently on page 1\n",
      "Currently on page 2\n"
     ]
    }
   ],
   "source": [
    "companies = []\n",
    "profiles = []\n",
    "page_num = 0\n",
    "per_page = 50\n",
    "while page_num*per_page<=max_rows:\n",
    "    print(f\"Currently on page {page_num+1}\")\n",
    "    table = driver.find_element(By.TAG_NAME, \"table\")\n",
    "    rows = table.find_elements(By.TAG_NAME, \"tr\")\n",
    "    for i in range(1, len(rows)):\n",
    "        data = rows[i].find_element(By.TAG_NAME, \"td\").text.split(\"\\n\")[0]\n",
    "        company = data.split(\"(\")[0]\n",
    "        profile = data.split(\"(\")[1].split(\")\")[0]\n",
    "        companies.append(company.strip())\n",
    "        profiles.append(profile.strip())\n",
    "    next_btn = driver.find_elements(By.CLASS_NAME, \"mat-button-wrapper\")[1]\n",
    "    next_btn.click()\n",
    "    page_num+=1"
   ]
  },
  {
   "cell_type": "code",
   "execution_count": 135,
   "metadata": {},
   "outputs": [
    {
     "data": {
      "text/html": [
       "<div>\n",
       "<style scoped>\n",
       "    .dataframe tbody tr th:only-of-type {\n",
       "        vertical-align: middle;\n",
       "    }\n",
       "\n",
       "    .dataframe tbody tr th {\n",
       "        vertical-align: top;\n",
       "    }\n",
       "\n",
       "    .dataframe thead th {\n",
       "        text-align: right;\n",
       "    }\n",
       "</style>\n",
       "<table border=\"1\" class=\"dataframe\">\n",
       "  <thead>\n",
       "    <tr style=\"text-align: right;\">\n",
       "      <th></th>\n",
       "      <th>Company</th>\n",
       "      <th>Profile</th>\n",
       "    </tr>\n",
       "  </thead>\n",
       "  <tbody>\n",
       "    <tr>\n",
       "      <th>0</th>\n",
       "      <td>DMI Finance</td>\n",
       "      <td>Data Scientist</td>\n",
       "    </tr>\n",
       "    <tr>\n",
       "      <th>1</th>\n",
       "      <td>Sony Group Corporation</td>\n",
       "      <td>JAF1 : XR System Engineer</td>\n",
       "    </tr>\n",
       "    <tr>\n",
       "      <th>2</th>\n",
       "      <td>Sony Group Corporation</td>\n",
       "      <td>JAF2 : Software and Hardware engineer for Robo...</td>\n",
       "    </tr>\n",
       "    <tr>\n",
       "      <th>3</th>\n",
       "      <td>Sony Group Corporation</td>\n",
       "      <td>JAF3 : Visual Recognition Computation Systems ...</td>\n",
       "    </tr>\n",
       "    <tr>\n",
       "      <th>4</th>\n",
       "      <td>Sony Group Corporation</td>\n",
       "      <td>JAF4 : Software Engineer, Parallel Programming...</td>\n",
       "    </tr>\n",
       "    <tr>\n",
       "      <th>...</th>\n",
       "      <td>...</td>\n",
       "      <td>...</td>\n",
       "    </tr>\n",
       "    <tr>\n",
       "      <th>89</th>\n",
       "      <td>Honda R&amp;D</td>\n",
       "      <td>5</td>\n",
       "    </tr>\n",
       "    <tr>\n",
       "      <th>90</th>\n",
       "      <td>Apport Software Solutions Private Ltd</td>\n",
       "      <td>UX Designer</td>\n",
       "    </tr>\n",
       "    <tr>\n",
       "      <th>91</th>\n",
       "      <td>Zupee</td>\n",
       "      <td>Founder's Team</td>\n",
       "    </tr>\n",
       "    <tr>\n",
       "      <th>92</th>\n",
       "      <td>Morgan Stanley</td>\n",
       "      <td>Strats and Quants</td>\n",
       "    </tr>\n",
       "    <tr>\n",
       "      <th>93</th>\n",
       "      <td>Morgan Stanley</td>\n",
       "      <td>Sales and Trading</td>\n",
       "    </tr>\n",
       "  </tbody>\n",
       "</table>\n",
       "<p>94 rows × 2 columns</p>\n",
       "</div>"
      ],
      "text/plain": [
       "                                  Company  \\\n",
       "0                             DMI Finance   \n",
       "1                  Sony Group Corporation   \n",
       "2                  Sony Group Corporation   \n",
       "3                  Sony Group Corporation   \n",
       "4                  Sony Group Corporation   \n",
       "..                                    ...   \n",
       "89                              Honda R&D   \n",
       "90  Apport Software Solutions Private Ltd   \n",
       "91                                  Zupee   \n",
       "92                         Morgan Stanley   \n",
       "93                         Morgan Stanley   \n",
       "\n",
       "                                              Profile  \n",
       "0                                      Data Scientist  \n",
       "1                           JAF1 : XR System Engineer  \n",
       "2   JAF2 : Software and Hardware engineer for Robo...  \n",
       "3   JAF3 : Visual Recognition Computation Systems ...  \n",
       "4   JAF4 : Software Engineer, Parallel Programming...  \n",
       "..                                                ...  \n",
       "89                                                  5  \n",
       "90                                        UX Designer  \n",
       "91                                     Founder's Team  \n",
       "92                                  Strats and Quants  \n",
       "93                                  Sales and Trading  \n",
       "\n",
       "[94 rows x 2 columns]"
      ]
     },
     "execution_count": 135,
     "metadata": {},
     "output_type": "execute_result"
    }
   ],
   "source": [
    "all_companies = pd.DataFrame([companies, profiles]).T\n",
    "all_companies.columns = [\"Company\", \"Profile\"]\n",
    "all_companies"
   ]
  },
  {
   "cell_type": "code",
   "execution_count": null,
   "metadata": {},
   "outputs": [],
   "source": [
    "def logout():\n",
    "    for item in driver.find_elements(By.TAG_NAME ,\"mat-icon\"):\n",
    "        if item.text == \"exit_to_app\":\n",
    "            item.click()"
   ]
  },
  {
   "cell_type": "code",
   "execution_count": 168,
   "metadata": {},
   "outputs": [
    {
     "name": "stdout",
     "output_type": "stream",
     "text": [
      "chevron_left\n",
      "home\n",
      "assignment\n",
      "public\n",
      "exit_to_app\n",
      "notifications\n",
      "account_circle\n",
      "vpn_key\n",
      "speaker_notes\n",
      "speaker_notes\n",
      "speaker_notes\n"
     ]
    }
   ],
   "source": [
    "for item in driver.find_elements(By.TAG_NAME ,\"mat-icon\"):\n",
    "    if item.text == \"exit_to_app\":\n",
    "        item.click()"
   ]
  },
  {
   "cell_type": "code",
   "execution_count": 136,
   "metadata": {},
   "outputs": [],
   "source": []
  }
 ],
 "metadata": {
  "kernelspec": {
   "display_name": "Python 3.9.12 ('data-science')",
   "language": "python",
   "name": "python3"
  },
  "language_info": {
   "codemirror_mode": {
    "name": "ipython",
    "version": 3
   },
   "file_extension": ".py",
   "mimetype": "text/x-python",
   "name": "python",
   "nbconvert_exporter": "python",
   "pygments_lexer": "ipython3",
   "version": "3.9.12"
  },
  "orig_nbformat": 4,
  "vscode": {
   "interpreter": {
    "hash": "2efee1efa502125d01e6b4768ba06d9453d29f3642bfd14ad5d4a769de82e88c"
   }
  }
 },
 "nbformat": 4,
 "nbformat_minor": 2
}
