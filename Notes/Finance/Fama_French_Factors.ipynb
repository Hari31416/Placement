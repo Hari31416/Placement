{
 "cells": [
  {
   "cell_type": "code",
   "execution_count": 6,
   "metadata": {},
   "outputs": [],
   "source": [
    "import pandas as pd\n",
    "import numpy as np\n",
    "import matplotlib.pyplot as plt\n",
    "import seaborn as sns\n",
    "import mplfinance as mpf\n",
    "import matplotlib.dates as mdates\n",
    "import datetime\n",
    "import pandas_datareader as datareader\n",
    "import datetime\n",
    "import yfinance as yf\n",
    "import tqdm\n",
    "\n",
    "import plotly.graph_objects as go\n",
    "import plotly.express as px\n",
    "import plotly.io as pio\n",
    "from plotly.subplots import make_subplots\n",
    "\n",
    "pio.renderers.default = \"notebook\"\n",
    "pio.templates.default = \"plotly_dark\"\n",
    "import gc\n",
    "import warnings\n",
    "\n",
    "warnings.filterwarnings(\"ignore\")\n",
    "plt.rcParams[\"figure.figsize\"] = [12, 8]"
   ]
  },
  {
   "cell_type": "code",
   "execution_count": 40,
   "metadata": {},
   "outputs": [],
   "source": [
    "fff = pd.read_csv(\"fff3_daily.CSV\", skiprows=3, index_col=0)"
   ]
  },
  {
   "cell_type": "code",
   "execution_count": 41,
   "metadata": {},
   "outputs": [
    {
     "data": {
      "text/html": [
       "<div>\n",
       "<style scoped>\n",
       "    .dataframe tbody tr th:only-of-type {\n",
       "        vertical-align: middle;\n",
       "    }\n",
       "\n",
       "    .dataframe tbody tr th {\n",
       "        vertical-align: top;\n",
       "    }\n",
       "\n",
       "    .dataframe thead th {\n",
       "        text-align: right;\n",
       "    }\n",
       "</style>\n",
       "<table border=\"1\" class=\"dataframe\">\n",
       "  <thead>\n",
       "    <tr style=\"text-align: right;\">\n",
       "      <th></th>\n",
       "      <th>Mkt-RF</th>\n",
       "      <th>SMB</th>\n",
       "      <th>HML</th>\n",
       "      <th>RF</th>\n",
       "    </tr>\n",
       "  </thead>\n",
       "  <tbody>\n",
       "    <tr>\n",
       "      <th>19260701</th>\n",
       "      <td>0.10</td>\n",
       "      <td>-0.25</td>\n",
       "      <td>-0.27</td>\n",
       "      <td>0.009</td>\n",
       "    </tr>\n",
       "    <tr>\n",
       "      <th>19260702</th>\n",
       "      <td>0.45</td>\n",
       "      <td>-0.33</td>\n",
       "      <td>-0.06</td>\n",
       "      <td>0.009</td>\n",
       "    </tr>\n",
       "    <tr>\n",
       "      <th>19260706</th>\n",
       "      <td>0.17</td>\n",
       "      <td>0.30</td>\n",
       "      <td>-0.39</td>\n",
       "      <td>0.009</td>\n",
       "    </tr>\n",
       "    <tr>\n",
       "      <th>19260707</th>\n",
       "      <td>0.09</td>\n",
       "      <td>-0.58</td>\n",
       "      <td>0.02</td>\n",
       "      <td>0.009</td>\n",
       "    </tr>\n",
       "    <tr>\n",
       "      <th>19260708</th>\n",
       "      <td>0.21</td>\n",
       "      <td>-0.38</td>\n",
       "      <td>0.19</td>\n",
       "      <td>0.009</td>\n",
       "    </tr>\n",
       "    <tr>\n",
       "      <th>...</th>\n",
       "      <td>...</td>\n",
       "      <td>...</td>\n",
       "      <td>...</td>\n",
       "      <td>...</td>\n",
       "    </tr>\n",
       "    <tr>\n",
       "      <th>20221125</th>\n",
       "      <td>-0.02</td>\n",
       "      <td>0.22</td>\n",
       "      <td>0.44</td>\n",
       "      <td>0.014</td>\n",
       "    </tr>\n",
       "    <tr>\n",
       "      <th>20221128</th>\n",
       "      <td>-1.55</td>\n",
       "      <td>-0.40</td>\n",
       "      <td>-0.20</td>\n",
       "      <td>0.014</td>\n",
       "    </tr>\n",
       "    <tr>\n",
       "      <th>20221129</th>\n",
       "      <td>-0.18</td>\n",
       "      <td>0.10</td>\n",
       "      <td>1.03</td>\n",
       "      <td>0.014</td>\n",
       "    </tr>\n",
       "    <tr>\n",
       "      <th>20221130</th>\n",
       "      <td>3.12</td>\n",
       "      <td>0.36</td>\n",
       "      <td>-2.07</td>\n",
       "      <td>0.014</td>\n",
       "    </tr>\n",
       "    <tr>\n",
       "      <th>Copyright 2022 Kenneth R. French</th>\n",
       "      <td>NaN</td>\n",
       "      <td>NaN</td>\n",
       "      <td>NaN</td>\n",
       "      <td>NaN</td>\n",
       "    </tr>\n",
       "  </tbody>\n",
       "</table>\n",
       "<p>25379 rows × 4 columns</p>\n",
       "</div>"
      ],
      "text/plain": [
       "                                  Mkt-RF   SMB   HML     RF\n",
       "19260701                            0.10 -0.25 -0.27  0.009\n",
       "19260702                            0.45 -0.33 -0.06  0.009\n",
       "19260706                            0.17  0.30 -0.39  0.009\n",
       "19260707                            0.09 -0.58  0.02  0.009\n",
       "19260708                            0.21 -0.38  0.19  0.009\n",
       "...                                  ...   ...   ...    ...\n",
       "20221125                           -0.02  0.22  0.44  0.014\n",
       "20221128                           -1.55 -0.40 -0.20  0.014\n",
       "20221129                           -0.18  0.10  1.03  0.014\n",
       "20221130                            3.12  0.36 -2.07  0.014\n",
       "Copyright 2022 Kenneth R. French     NaN   NaN   NaN    NaN\n",
       "\n",
       "[25379 rows x 4 columns]"
      ]
     },
     "execution_count": 41,
     "metadata": {},
     "output_type": "execute_result"
    }
   ],
   "source": [
    "fff"
   ]
  },
  {
   "cell_type": "code",
   "execution_count": 42,
   "metadata": {},
   "outputs": [],
   "source": [
    "fff = fff.dropna()"
   ]
  },
  {
   "cell_type": "code",
   "execution_count": 43,
   "metadata": {},
   "outputs": [],
   "source": [
    "fff.index = fff.index.astype(str)"
   ]
  },
  {
   "cell_type": "code",
   "execution_count": 44,
   "metadata": {},
   "outputs": [
    {
     "data": {
      "text/plain": [
       "Index(['19260701', '19260702', '19260706', '19260707', '19260708', '19260709',\n",
       "       '19260710', '19260712', '19260713', '19260714',\n",
       "       ...\n",
       "       '20221116', '20221117', '20221118', '20221121', '20221122', '20221123',\n",
       "       '20221125', '20221128', '20221129', '20221130'],\n",
       "      dtype='object', length=25378)"
      ]
     },
     "execution_count": 44,
     "metadata": {},
     "output_type": "execute_result"
    }
   ],
   "source": [
    "fff.index"
   ]
  },
  {
   "cell_type": "code",
   "execution_count": 45,
   "metadata": {},
   "outputs": [],
   "source": [
    "def convert_to_datetime(x):\n",
    "    return datetime.datetime.strptime(x, \"%Y%m%d\")"
   ]
  },
  {
   "cell_type": "code",
   "execution_count": 46,
   "metadata": {},
   "outputs": [
    {
     "data": {
      "text/plain": [
       "0       1926-07-01\n",
       "1       1926-07-02\n",
       "2       1926-07-06\n",
       "3       1926-07-07\n",
       "4       1926-07-08\n",
       "           ...    \n",
       "25373   2022-11-23\n",
       "25374   2022-11-25\n",
       "25375   2022-11-28\n",
       "25376   2022-11-29\n",
       "25377   2022-11-30\n",
       "Length: 25378, dtype: datetime64[ns]"
      ]
     },
     "execution_count": 46,
     "metadata": {},
     "output_type": "execute_result"
    }
   ],
   "source": [
    "pd.Series(fff.index).apply(convert_to_datetime)"
   ]
  },
  {
   "attachments": {},
   "cell_type": "markdown",
   "metadata": {},
   "source": [
    "## Using BS4"
   ]
  },
  {
   "cell_type": "code",
   "execution_count": 47,
   "metadata": {},
   "outputs": [],
   "source": [
    "from bs4 import BeautifulSoup\n",
    "import requests"
   ]
  },
  {
   "cell_type": "code",
   "execution_count": 48,
   "metadata": {},
   "outputs": [],
   "source": [
    "url = \"https://mba.tuck.dartmouth.edu/pages/faculty/ken.french/data_library.html\"\n",
    "page = requests.get(url)\n",
    "soup = BeautifulSoup(page.content, \"html.parser\")"
   ]
  },
  {
   "cell_type": "code",
   "execution_count": 81,
   "metadata": {},
   "outputs": [],
   "source": [
    "para = soup.find(\"p\", style=\"width: 737px;\")"
   ]
  },
  {
   "cell_type": "code",
   "execution_count": 82,
   "metadata": {},
   "outputs": [],
   "source": [
    "links = para.find_all(\"a\")"
   ]
  },
  {
   "cell_type": "code",
   "execution_count": 83,
   "metadata": {},
   "outputs": [
    {
     "data": {
      "text/plain": [
       "[<a name=\"Research\"></a>,\n",
       " <a href=\"Data_Library/changes_crsp.html\"><font color=\"#336699\" size=\"2\">Changes in CRSP\n",
       " \t\t\t\t\t\t\t\t\t\tData</font></a>,\n",
       " <a href=\"ftp/F-F_Research_Data_Factors_TXT.zip\"><font color=\"#336699\" face=\"Times New Roman, Times, serif\" size=\"1\">TXT</font></a>,\n",
       " <a href=\"ftp/F-F_Research_Data_Factors_CSV.zip\"><font color=\"#336699\" face=\"Times New Roman, Times, serif\" size=\"1\">CSV</font></a>,\n",
       " <a href=\"Data_Library/f-f_factors.html\"><font color=\"#336699\" face=\"Times New Roman, Times, serif\" size=\"1\">Details</font></a>,\n",
       " <a href=\"Data_Library/f-f_factors_archive.html\"><font color=\"#336699\" face=\"Times New Roman, Times, serif\" size=\"1\">Historical Archives</font></a>,\n",
       " <a href=\"ftp/F-F_Research_Data_Factors_weekly_TXT.zip\"><font color=\"#336699\" face=\"Times New Roman, Times, serif\" size=\"1\">TXT</font></a>,\n",
       " <a href=\"ftp/F-F_Research_Data_Factors_weekly_CSV.zip\"><font color=\"#336699\" face=\"Times New Roman, Times, serif\" size=\"1\">CSV</font></a>,\n",
       " <a href=\"Data_Library/f-f_factors.html\"><font color=\"#336699\" face=\"Times New Roman, Times, serif\" size=\"1\">Details</font></a>,\n",
       " <a href=\"ftp/F-F_Research_Data_Factors_daily_TXT.zip\"><font color=\"#336699\" face=\"Times New Roman, Times, serif\" size=\"1\">TXT</font></a>,\n",
       " <a href=\"ftp/F-F_Research_Data_Factors_daily_CSV.zip\"><font color=\"#336699\" face=\"Times New Roman, Times, serif\" size=\"1\">CSV</font></a>,\n",
       " <a href=\"Data_Library/f-f_factors.html\"><font color=\"#336699\" face=\"Times New Roman, Times, serif\" size=\"1\">Details</font></a>,\n",
       " <a href=\"ftp/F-F_Research_Data_5_Factors_2x3_TXT.zip\"><font color=\"#336699\" face=\"Times New Roman, Times, serif\" size=\"1\">TXT</font></a>,\n",
       " <a href=\"ftp/F-F_Research_Data_5_Factors_2x3_CSV.zip\"><font color=\"#336699\" face=\"Times New Roman, Times, serif\" size=\"1\">CSV</font></a>,\n",
       " <a href=\"Data_Library/f-f_5_factors_2x3.html\"><font color=\"#336699\" face=\"Times New Roman, Times, serif\" size=\"1\">Details</font></a>,\n",
       " <a href=\"Data_Library/f-f_5_factors_2x3_archive.html\"><font color=\"#336699\" face=\"Times New Roman, Times, serif\" size=\"1\">Historical Archives</font></a>,\n",
       " <a href=\"ftp/F-F_Research_Data_5_Factors_2x3_daily_TXT.zip\"><font color=\"#336699\" face=\"Times New Roman, Times, serif\" size=\"1\">TXT</font></a>,\n",
       " <a href=\"ftp/F-F_Research_Data_5_Factors_2x3_daily_CSV.zip\"><font color=\"#336699\" face=\"Times New Roman, Times, serif\" size=\"1\">CSV</font></a>,\n",
       " <a href=\"Data_Library/f-f_5_factors_2x3.html\"><font color=\"#336699\" face=\"Times New Roman, Times, serif\" size=\"1\">Details</font></a>]"
      ]
     },
     "execution_count": 83,
     "metadata": {},
     "output_type": "execute_result"
    }
   ],
   "source": [
    "links"
   ]
  },
  {
   "cell_type": "code",
   "execution_count": 84,
   "metadata": {},
   "outputs": [
    {
     "data": {
      "text/plain": [
       "0                                                  []\n",
       "1     [[Changes in CRSP\\r\\n\\t\\t\\t\\t\\t\\t\\t\\t\\t\\tData]]\n",
       "2                                             [[TXT]]\n",
       "3                                             [[CSV]]\n",
       "4                                         [[Details]]\n",
       "5                             [[Historical Archives]]\n",
       "6                                             [[TXT]]\n",
       "7                                             [[CSV]]\n",
       "8                                         [[Details]]\n",
       "9                                             [[TXT]]\n",
       "10                                            [[CSV]]\n",
       "11                                        [[Details]]\n",
       "12                                            [[TXT]]\n",
       "13                                            [[CSV]]\n",
       "14                                        [[Details]]\n",
       "15                            [[Historical Archives]]\n",
       "16                                            [[TXT]]\n",
       "17                                            [[CSV]]\n",
       "18                                        [[Details]]\n",
       "dtype: object"
      ]
     },
     "execution_count": 84,
     "metadata": {},
     "output_type": "execute_result"
    }
   ],
   "source": [
    "links = pd.Series(links)\n",
    "links"
   ]
  },
  {
   "cell_type": "code",
   "execution_count": 86,
   "metadata": {},
   "outputs": [
    {
     "data": {
      "text/plain": [
       "<a href=\"ftp/F-F_Research_Data_Factors_daily_CSV.zip\"><font color=\"#336699\" face=\"Times New Roman, Times, serif\" size=\"1\">CSV</font></a>"
      ]
     },
     "execution_count": 86,
     "metadata": {},
     "output_type": "execute_result"
    }
   ],
   "source": [
    "links[10]"
   ]
  },
  {
   "cell_type": "code",
   "execution_count": 108,
   "metadata": {},
   "outputs": [],
   "source": [
    "def find_factors(x, frequency=\"daily\", factor=3, format=\"csv\"):\n",
    "    try:\n",
    "        x = x[\"href\"]\n",
    "    except:\n",
    "        return False\n",
    "    is_fff = False\n",
    "    found_factor = False\n",
    "    found_frequency = False\n",
    "    found_format = False\n",
    "    if frequency == \"monthly\":\n",
    "        frequency = \"\"\n",
    "    \n",
    "    if factor == 3:\n",
    "        factor = \"data_factor\"\n",
    "    elif factor == 5:\n",
    "        factor = \"data_5_factor\"\n",
    "\n",
    "    x = x.lower()\n",
    "    x = x.replace(\"2x3\", \"\")\n",
    "    if \"research_data\" in x:\n",
    "        is_fff = True\n",
    "    if frequency in x:\n",
    "        found_frequency = True\n",
    "    if factor in x:\n",
    "        found_factor = True\n",
    "    if format in x:\n",
    "        found_format = True\n",
    "    if is_fff and found_factor and found_frequency and found_format:\n",
    "        return True\n",
    "    else:\n",
    "        return False"
   ]
  },
  {
   "cell_type": "code",
   "execution_count": 116,
   "metadata": {},
   "outputs": [
    {
     "data": {
      "text/plain": [
       "'ftp/F-F_Research_Data_Factors_weekly_TXT.zip'"
      ]
     },
     "execution_count": 116,
     "metadata": {},
     "output_type": "execute_result"
    }
   ],
   "source": [
    "links[links.apply(lambda x: find_factors(x, frequency=\"weekly\", factor=3, format=\"txt\"))].iloc[0][\"href\"]"
   ]
  },
  {
   "cell_type": "code",
   "execution_count": 117,
   "metadata": {},
   "outputs": [],
   "source": [
    "def find_url(urls, frequency=\"daily\", factor=3, format=\"csv\"):\n",
    "    filter_links = urls[urls.apply(lambda x: find_factors(x, frequency=frequency, factor=factor, format=format))]\n",
    "    if len(filter_links) == 0:\n",
    "        return None\n",
    "    else:\n",
    "        return filter_links.iloc[0][\"href\"]"
   ]
  },
  {
   "cell_type": "code",
   "execution_count": 119,
   "metadata": {},
   "outputs": [
    {
     "data": {
      "text/plain": [
       "'ftp/F-F_Research_Data_Factors_weekly_CSV.zip'"
      ]
     },
     "execution_count": 119,
     "metadata": {},
     "output_type": "execute_result"
    }
   ],
   "source": [
    "find_url(links, frequency=\"weekly\", factor=3, format=\"csv\")"
   ]
  },
  {
   "cell_type": "code",
   "execution_count": 120,
   "metadata": {},
   "outputs": [
    {
     "data": {
      "text/plain": [
       "'https://mba.tuck.dartmouth.edu/pages/faculty/ken.french/data_library.html'"
      ]
     },
     "execution_count": 120,
     "metadata": {},
     "output_type": "execute_result"
    }
   ],
   "source": [
    "url"
   ]
  },
  {
   "cell_type": "code",
   "execution_count": 134,
   "metadata": {},
   "outputs": [
    {
     "data": {
      "text/plain": [
       "'https://mba.tuck.dartmouth.edu/pages/faculty/ken.french/ftp/F-F_Research_Data_Factors_weekly_CSV.zip'"
      ]
     },
     "execution_count": 134,
     "metadata": {},
     "output_type": "execute_result"
    }
   ],
   "source": [
    "zip_url = url.split(\"data_library.html\")[0] + find_url(links, frequency=\"weekly\", factor=3, format=\"csv\")\n",
    "zip_url"
   ]
  },
  {
   "cell_type": "code",
   "execution_count": 123,
   "metadata": {},
   "outputs": [],
   "source": [
    "with open(\"fff3_weekly_raw.zip\", \"wb\") as f:\n",
    "    f.write(requests.get(zip_url).content)"
   ]
  },
  {
   "cell_type": "code",
   "execution_count": 132,
   "metadata": {},
   "outputs": [
    {
     "name": "stdout",
     "output_type": "stream",
     "text": [
      "F-F_Research_Data_Factors_weekly.csv\n"
     ]
    }
   ],
   "source": [
    "import zipfile\n",
    "\n",
    "with zipfile.ZipFile(\"fff3_weekly_raw.zip\", \"r\") as zip_ref:\n",
    "    zip_ref.extractall(\".\")\n",
    "    print(zip_ref.namelist()[0])"
   ]
  },
  {
   "cell_type": "code",
   "execution_count": 133,
   "metadata": {},
   "outputs": [],
   "source": [
    "import os"
   ]
  },
  {
   "cell_type": "code",
   "execution_count": 135,
   "metadata": {},
   "outputs": [],
   "source": [
    "r = requests.get(zip_url)"
   ]
  },
  {
   "cell_type": "code",
   "execution_count": 136,
   "metadata": {},
   "outputs": [],
   "source": [
    "file_name = \"fffff.csv\""
   ]
  },
  {
   "cell_type": "code",
   "execution_count": 137,
   "metadata": {},
   "outputs": [],
   "source": [
    "with open(\".fff.zip\", \"wb\") as f:\n",
    "        f.write(r.content)\n",
    "        with zipfile.ZipFile(\".fff.zip\", \"r\") as zip_ref:\n",
    "            zip_ref.extractall()\n",
    "            old_name = zip_ref.namelist()[0]\n",
    "            os.rename(old_name, file_name)\n",
    "        os.remove(\".fff.zip\")"
   ]
  },
  {
   "cell_type": "code",
   "execution_count": 1,
   "metadata": {},
   "outputs": [],
   "source": [
    "from pystock.FFF import FamaFrenchFactors"
   ]
  },
  {
   "cell_type": "code",
   "execution_count": 2,
   "metadata": {},
   "outputs": [],
   "source": [
    "fff = FamaFrenchFactors()"
   ]
  },
  {
   "cell_type": "code",
   "execution_count": 5,
   "metadata": {},
   "outputs": [
    {
     "name": "stdout",
     "output_type": "stream",
     "text": [
      "File already exists. Use load() to load the file. Or set overwrite=True to overwrite the file.\n"
     ]
    }
   ],
   "source": [
    "fff.download(frequency=\"daily\", factors=5, dir=\"fff\")"
   ]
  },
  {
   "cell_type": "code",
   "execution_count": 12,
   "metadata": {},
   "outputs": [],
   "source": [
    "df = fff.load(frequency=\"quarterly\", factors=5, dir=\"fff\", preprocess=True)"
   ]
  },
  {
   "cell_type": "code",
   "execution_count": 13,
   "metadata": {},
   "outputs": [
    {
     "data": {
      "text/html": [
       "<div>\n",
       "<style scoped>\n",
       "    .dataframe tbody tr th:only-of-type {\n",
       "        vertical-align: middle;\n",
       "    }\n",
       "\n",
       "    .dataframe tbody tr th {\n",
       "        vertical-align: top;\n",
       "    }\n",
       "\n",
       "    .dataframe thead th {\n",
       "        text-align: right;\n",
       "    }\n",
       "</style>\n",
       "<table border=\"1\" class=\"dataframe\">\n",
       "  <thead>\n",
       "    <tr style=\"text-align: right;\">\n",
       "      <th></th>\n",
       "      <th>Mkt-RF</th>\n",
       "      <th>SMB</th>\n",
       "      <th>HML</th>\n",
       "      <th>RMW</th>\n",
       "      <th>CMA</th>\n",
       "      <th>RF</th>\n",
       "    </tr>\n",
       "  </thead>\n",
       "  <tbody>\n",
       "    <tr>\n",
       "      <th>1963-09-30</th>\n",
       "      <td>-0.0060</td>\n",
       "      <td>0.0021</td>\n",
       "      <td>0.0008</td>\n",
       "      <td>0.0024</td>\n",
       "      <td>0.0013</td>\n",
       "      <td>0.00014</td>\n",
       "    </tr>\n",
       "    <tr>\n",
       "      <th>1963-12-31</th>\n",
       "      <td>0.0056</td>\n",
       "      <td>0.0044</td>\n",
       "      <td>-0.0009</td>\n",
       "      <td>0.0017</td>\n",
       "      <td>-0.0022</td>\n",
       "      <td>0.00014</td>\n",
       "    </tr>\n",
       "    <tr>\n",
       "      <th>1964-03-31</th>\n",
       "      <td>-0.0019</td>\n",
       "      <td>0.0021</td>\n",
       "      <td>-0.0030</td>\n",
       "      <td>0.0001</td>\n",
       "      <td>-0.0002</td>\n",
       "      <td>0.00015</td>\n",
       "    </tr>\n",
       "    <tr>\n",
       "      <th>1964-06-30</th>\n",
       "      <td>0.0003</td>\n",
       "      <td>-0.0009</td>\n",
       "      <td>-0.0012</td>\n",
       "      <td>0.0030</td>\n",
       "      <td>-0.0034</td>\n",
       "      <td>0.00014</td>\n",
       "    </tr>\n",
       "    <tr>\n",
       "      <th>1964-09-30</th>\n",
       "      <td>-0.0003</td>\n",
       "      <td>0.0018</td>\n",
       "      <td>-0.0009</td>\n",
       "      <td>0.0008</td>\n",
       "      <td>0.0025</td>\n",
       "      <td>0.00013</td>\n",
       "    </tr>\n",
       "    <tr>\n",
       "      <th>...</th>\n",
       "      <td>...</td>\n",
       "      <td>...</td>\n",
       "      <td>...</td>\n",
       "      <td>...</td>\n",
       "      <td>...</td>\n",
       "      <td>...</td>\n",
       "    </tr>\n",
       "    <tr>\n",
       "      <th>2021-09-30</th>\n",
       "      <td>-0.0102</td>\n",
       "      <td>0.0008</td>\n",
       "      <td>-0.0078</td>\n",
       "      <td>-0.0123</td>\n",
       "      <td>-0.0036</td>\n",
       "      <td>0.00000</td>\n",
       "    </tr>\n",
       "    <tr>\n",
       "      <th>2021-12-31</th>\n",
       "      <td>-0.0031</td>\n",
       "      <td>0.0017</td>\n",
       "      <td>0.0053</td>\n",
       "      <td>0.0036</td>\n",
       "      <td>0.0041</td>\n",
       "      <td>0.00000</td>\n",
       "    </tr>\n",
       "    <tr>\n",
       "      <th>2022-03-31</th>\n",
       "      <td>-0.0155</td>\n",
       "      <td>0.0063</td>\n",
       "      <td>-0.0044</td>\n",
       "      <td>-0.0022</td>\n",
       "      <td>0.0040</td>\n",
       "      <td>0.00000</td>\n",
       "    </tr>\n",
       "    <tr>\n",
       "      <th>2022-06-30</th>\n",
       "      <td>-0.0096</td>\n",
       "      <td>0.0051</td>\n",
       "      <td>-0.0014</td>\n",
       "      <td>0.0089</td>\n",
       "      <td>-0.0016</td>\n",
       "      <td>0.00003</td>\n",
       "    </tr>\n",
       "    <tr>\n",
       "      <th>2022-09-30</th>\n",
       "      <td>-0.0142</td>\n",
       "      <td>0.0059</td>\n",
       "      <td>0.0027</td>\n",
       "      <td>-0.0067</td>\n",
       "      <td>-0.0009</td>\n",
       "      <td>0.00009</td>\n",
       "    </tr>\n",
       "  </tbody>\n",
       "</table>\n",
       "<p>237 rows × 6 columns</p>\n",
       "</div>"
      ],
      "text/plain": [
       "            Mkt-RF     SMB     HML     RMW     CMA       RF\n",
       "1963-09-30 -0.0060  0.0021  0.0008  0.0024  0.0013  0.00014\n",
       "1963-12-31  0.0056  0.0044 -0.0009  0.0017 -0.0022  0.00014\n",
       "1964-03-31 -0.0019  0.0021 -0.0030  0.0001 -0.0002  0.00015\n",
       "1964-06-30  0.0003 -0.0009 -0.0012  0.0030 -0.0034  0.00014\n",
       "1964-09-30 -0.0003  0.0018 -0.0009  0.0008  0.0025  0.00013\n",
       "...            ...     ...     ...     ...     ...      ...\n",
       "2021-09-30 -0.0102  0.0008 -0.0078 -0.0123 -0.0036  0.00000\n",
       "2021-12-31 -0.0031  0.0017  0.0053  0.0036  0.0041  0.00000\n",
       "2022-03-31 -0.0155  0.0063 -0.0044 -0.0022  0.0040  0.00000\n",
       "2022-06-30 -0.0096  0.0051 -0.0014  0.0089 -0.0016  0.00003\n",
       "2022-09-30 -0.0142  0.0059  0.0027 -0.0067 -0.0009  0.00009\n",
       "\n",
       "[237 rows x 6 columns]"
      ]
     },
     "execution_count": 13,
     "metadata": {},
     "output_type": "execute_result"
    }
   ],
   "source": [
    "df"
   ]
  },
  {
   "cell_type": "code",
   "execution_count": 7,
   "metadata": {},
   "outputs": [],
   "source": [
    "def convert_to_datetime(x):\n",
    "    return datetime.datetime.strptime(x, \"%Y%m%d\")"
   ]
  },
  {
   "cell_type": "code",
   "execution_count": 11,
   "metadata": {},
   "outputs": [
    {
     "data": {
      "text/html": [
       "<div>\n",
       "<style scoped>\n",
       "    .dataframe tbody tr th:only-of-type {\n",
       "        vertical-align: middle;\n",
       "    }\n",
       "\n",
       "    .dataframe tbody tr th {\n",
       "        vertical-align: top;\n",
       "    }\n",
       "\n",
       "    .dataframe thead th {\n",
       "        text-align: right;\n",
       "    }\n",
       "</style>\n",
       "<table border=\"1\" class=\"dataframe\">\n",
       "  <thead>\n",
       "    <tr style=\"text-align: right;\">\n",
       "      <th></th>\n",
       "      <th>Mkt-RF</th>\n",
       "      <th>SMB</th>\n",
       "      <th>HML</th>\n",
       "      <th>RF</th>\n",
       "    </tr>\n",
       "  </thead>\n",
       "  <tbody>\n",
       "    <tr>\n",
       "      <th>1926-07-02</th>\n",
       "      <td>1.60</td>\n",
       "      <td>-0.62</td>\n",
       "      <td>-0.83</td>\n",
       "      <td>0.056</td>\n",
       "    </tr>\n",
       "    <tr>\n",
       "      <th>1926-07-10</th>\n",
       "      <td>0.36</td>\n",
       "      <td>-0.88</td>\n",
       "      <td>0.31</td>\n",
       "      <td>0.056</td>\n",
       "    </tr>\n",
       "    <tr>\n",
       "      <th>1926-07-17</th>\n",
       "      <td>1.01</td>\n",
       "      <td>0.59</td>\n",
       "      <td>-1.44</td>\n",
       "      <td>0.056</td>\n",
       "    </tr>\n",
       "    <tr>\n",
       "      <th>1926-07-24</th>\n",
       "      <td>-2.05</td>\n",
       "      <td>0.10</td>\n",
       "      <td>-0.18</td>\n",
       "      <td>0.056</td>\n",
       "    </tr>\n",
       "    <tr>\n",
       "      <th>1926-07-31</th>\n",
       "      <td>3.04</td>\n",
       "      <td>-1.82</td>\n",
       "      <td>-0.90</td>\n",
       "      <td>0.056</td>\n",
       "    </tr>\n",
       "    <tr>\n",
       "      <th>...</th>\n",
       "      <td>...</td>\n",
       "      <td>...</td>\n",
       "      <td>...</td>\n",
       "      <td>...</td>\n",
       "    </tr>\n",
       "    <tr>\n",
       "      <th>2022-10-28</th>\n",
       "      <td>3.97</td>\n",
       "      <td>1.31</td>\n",
       "      <td>0.70</td>\n",
       "      <td>0.058</td>\n",
       "    </tr>\n",
       "    <tr>\n",
       "      <th>2022-11-04</th>\n",
       "      <td>-3.56</td>\n",
       "      <td>-0.84</td>\n",
       "      <td>4.55</td>\n",
       "      <td>0.074</td>\n",
       "    </tr>\n",
       "    <tr>\n",
       "      <th>2022-11-11</th>\n",
       "      <td>5.85</td>\n",
       "      <td>0.15</td>\n",
       "      <td>-3.33</td>\n",
       "      <td>0.074</td>\n",
       "    </tr>\n",
       "    <tr>\n",
       "      <th>2022-11-18</th>\n",
       "      <td>-1.00</td>\n",
       "      <td>-1.42</td>\n",
       "      <td>0.76</td>\n",
       "      <td>0.074</td>\n",
       "    </tr>\n",
       "    <tr>\n",
       "      <th>2022-11-25</th>\n",
       "      <td>1.41</td>\n",
       "      <td>-0.66</td>\n",
       "      <td>0.91</td>\n",
       "      <td>0.074</td>\n",
       "    </tr>\n",
       "  </tbody>\n",
       "</table>\n",
       "<p>5030 rows × 4 columns</p>\n",
       "</div>"
      ],
      "text/plain": [
       "            Mkt-RF   SMB   HML     RF\n",
       "1926-07-02    1.60 -0.62 -0.83  0.056\n",
       "1926-07-10    0.36 -0.88  0.31  0.056\n",
       "1926-07-17    1.01  0.59 -1.44  0.056\n",
       "1926-07-24   -2.05  0.10 -0.18  0.056\n",
       "1926-07-31    3.04 -1.82 -0.90  0.056\n",
       "...            ...   ...   ...    ...\n",
       "2022-10-28    3.97  1.31  0.70  0.058\n",
       "2022-11-04   -3.56 -0.84  4.55  0.074\n",
       "2022-11-11    5.85  0.15 -3.33  0.074\n",
       "2022-11-18   -1.00 -1.42  0.76  0.074\n",
       "2022-11-25    1.41 -0.66  0.91  0.074\n",
       "\n",
       "[5030 rows x 4 columns]"
      ]
     },
     "execution_count": 11,
     "metadata": {},
     "output_type": "execute_result"
    }
   ],
   "source": [
    "df.index = df.index.astype(str)\n",
    "df.index = pd.Series(df.index).apply(lambda x : pd.to_datetime(x, format=\"%Y%m%d\"))\n",
    "df"
   ]
  },
  {
   "cell_type": "code",
   "execution_count": 14,
   "metadata": {},
   "outputs": [
    {
     "data": {
      "text/plain": [
       "DatetimeIndex(['1926-07-02', '1926-07-10', '1926-07-17', '1926-07-24',\n",
       "               '1926-07-31', '1926-08-07', '1926-08-14', '1926-08-21',\n",
       "               '1926-08-28', '1926-09-03',\n",
       "               ...\n",
       "               '2022-09-23', '2022-09-30', '2022-10-07', '2022-10-14',\n",
       "               '2022-10-21', '2022-10-28', '2022-11-04', '2022-11-11',\n",
       "               '2022-11-18', '2022-11-25'],\n",
       "              dtype='datetime64[ns]', length=5030, freq=None)"
      ]
     },
     "execution_count": 14,
     "metadata": {},
     "output_type": "execute_result"
    }
   ],
   "source": [
    "pd.to_datetime(df.index)"
   ]
  },
  {
   "cell_type": "code",
   "execution_count": 16,
   "metadata": {},
   "outputs": [],
   "source": [
    "import getFamaFrenchFactors as gff"
   ]
  },
  {
   "cell_type": "code",
   "execution_count": 17,
   "metadata": {},
   "outputs": [],
   "source": [
    "ff3_monthly = gff.famaFrench3Factor(frequency='m')"
   ]
  },
  {
   "cell_type": "code",
   "execution_count": 18,
   "metadata": {},
   "outputs": [
    {
     "data": {
      "text/html": [
       "<div>\n",
       "<style scoped>\n",
       "    .dataframe tbody tr th:only-of-type {\n",
       "        vertical-align: middle;\n",
       "    }\n",
       "\n",
       "    .dataframe tbody tr th {\n",
       "        vertical-align: top;\n",
       "    }\n",
       "\n",
       "    .dataframe thead th {\n",
       "        text-align: right;\n",
       "    }\n",
       "</style>\n",
       "<table border=\"1\" class=\"dataframe\">\n",
       "  <thead>\n",
       "    <tr style=\"text-align: right;\">\n",
       "      <th></th>\n",
       "      <th>date_ff_factors</th>\n",
       "      <th>Mkt-RF</th>\n",
       "      <th>SMB</th>\n",
       "      <th>HML</th>\n",
       "      <th>RF</th>\n",
       "    </tr>\n",
       "  </thead>\n",
       "  <tbody>\n",
       "    <tr>\n",
       "      <th>0</th>\n",
       "      <td>1926-07-31</td>\n",
       "      <td>0.0296</td>\n",
       "      <td>-0.0256</td>\n",
       "      <td>-0.0243</td>\n",
       "      <td>0.0022</td>\n",
       "    </tr>\n",
       "    <tr>\n",
       "      <th>1</th>\n",
       "      <td>1926-08-31</td>\n",
       "      <td>0.0264</td>\n",
       "      <td>-0.0117</td>\n",
       "      <td>0.0382</td>\n",
       "      <td>0.0025</td>\n",
       "    </tr>\n",
       "    <tr>\n",
       "      <th>2</th>\n",
       "      <td>1926-09-30</td>\n",
       "      <td>0.0036</td>\n",
       "      <td>-0.0140</td>\n",
       "      <td>0.0013</td>\n",
       "      <td>0.0023</td>\n",
       "    </tr>\n",
       "    <tr>\n",
       "      <th>3</th>\n",
       "      <td>1926-10-31</td>\n",
       "      <td>-0.0324</td>\n",
       "      <td>-0.0009</td>\n",
       "      <td>0.0070</td>\n",
       "      <td>0.0032</td>\n",
       "    </tr>\n",
       "    <tr>\n",
       "      <th>4</th>\n",
       "      <td>1926-11-30</td>\n",
       "      <td>0.0253</td>\n",
       "      <td>-0.0010</td>\n",
       "      <td>-0.0051</td>\n",
       "      <td>0.0031</td>\n",
       "    </tr>\n",
       "    <tr>\n",
       "      <th>...</th>\n",
       "      <td>...</td>\n",
       "      <td>...</td>\n",
       "      <td>...</td>\n",
       "      <td>...</td>\n",
       "      <td>...</td>\n",
       "    </tr>\n",
       "    <tr>\n",
       "      <th>1152</th>\n",
       "      <td>2022-07-31</td>\n",
       "      <td>0.0957</td>\n",
       "      <td>0.0281</td>\n",
       "      <td>-0.0410</td>\n",
       "      <td>0.0008</td>\n",
       "    </tr>\n",
       "    <tr>\n",
       "      <th>1153</th>\n",
       "      <td>2022-08-31</td>\n",
       "      <td>-0.0377</td>\n",
       "      <td>0.0139</td>\n",
       "      <td>0.0031</td>\n",
       "      <td>0.0019</td>\n",
       "    </tr>\n",
       "    <tr>\n",
       "      <th>1154</th>\n",
       "      <td>2022-09-30</td>\n",
       "      <td>-0.0935</td>\n",
       "      <td>-0.0082</td>\n",
       "      <td>0.0003</td>\n",
       "      <td>0.0019</td>\n",
       "    </tr>\n",
       "    <tr>\n",
       "      <th>1155</th>\n",
       "      <td>2022-10-31</td>\n",
       "      <td>0.0783</td>\n",
       "      <td>0.0010</td>\n",
       "      <td>0.0805</td>\n",
       "      <td>0.0023</td>\n",
       "    </tr>\n",
       "    <tr>\n",
       "      <th>1156</th>\n",
       "      <td>2022-11-30</td>\n",
       "      <td>0.0460</td>\n",
       "      <td>-0.0340</td>\n",
       "      <td>0.0139</td>\n",
       "      <td>0.0029</td>\n",
       "    </tr>\n",
       "  </tbody>\n",
       "</table>\n",
       "<p>1157 rows × 5 columns</p>\n",
       "</div>"
      ],
      "text/plain": [
       "     date_ff_factors  Mkt-RF     SMB     HML      RF\n",
       "0         1926-07-31  0.0296 -0.0256 -0.0243  0.0022\n",
       "1         1926-08-31  0.0264 -0.0117  0.0382  0.0025\n",
       "2         1926-09-30  0.0036 -0.0140  0.0013  0.0023\n",
       "3         1926-10-31 -0.0324 -0.0009  0.0070  0.0032\n",
       "4         1926-11-30  0.0253 -0.0010 -0.0051  0.0031\n",
       "...              ...     ...     ...     ...     ...\n",
       "1152      2022-07-31  0.0957  0.0281 -0.0410  0.0008\n",
       "1153      2022-08-31 -0.0377  0.0139  0.0031  0.0019\n",
       "1154      2022-09-30 -0.0935 -0.0082  0.0003  0.0019\n",
       "1155      2022-10-31  0.0783  0.0010  0.0805  0.0023\n",
       "1156      2022-11-30  0.0460 -0.0340  0.0139  0.0029\n",
       "\n",
       "[1157 rows x 5 columns]"
      ]
     },
     "execution_count": 18,
     "metadata": {},
     "output_type": "execute_result"
    }
   ],
   "source": [
    "ff3_monthly"
   ]
  },
  {
   "cell_type": "code",
   "execution_count": 19,
   "metadata": {},
   "outputs": [
    {
     "name": "stdout",
     "output_type": "stream",
     "text": [
      "Downloading Fama French Factors. This may take about 10 seconds.\n",
      "Download complete. File saved as fff/fff_monthly_3_factors.csv\n"
     ]
    },
    {
     "data": {
      "text/plain": [
       "'fff/fff_monthly_3_factors.csv'"
      ]
     },
     "execution_count": 19,
     "metadata": {},
     "output_type": "execute_result"
    }
   ],
   "source": [
    "fff.download(frequency=\"monthly\", factors=3, format=\"csv\", dir=\"fff\")"
   ]
  },
  {
   "cell_type": "code",
   "execution_count": 20,
   "metadata": {},
   "outputs": [],
   "source": [
    "fff_m = fff.load(frequency=\"monthly\", factors=3, format=\"csv\", dir=\"fff\")"
   ]
  },
  {
   "cell_type": "code",
   "execution_count": 21,
   "metadata": {},
   "outputs": [
    {
     "data": {
      "text/html": [
       "<div>\n",
       "<style scoped>\n",
       "    .dataframe tbody tr th:only-of-type {\n",
       "        vertical-align: middle;\n",
       "    }\n",
       "\n",
       "    .dataframe tbody tr th {\n",
       "        vertical-align: top;\n",
       "    }\n",
       "\n",
       "    .dataframe thead th {\n",
       "        text-align: right;\n",
       "    }\n",
       "</style>\n",
       "<table border=\"1\" class=\"dataframe\">\n",
       "  <thead>\n",
       "    <tr style=\"text-align: right;\">\n",
       "      <th></th>\n",
       "      <th>Mkt-RF</th>\n",
       "      <th>SMB</th>\n",
       "      <th>HML</th>\n",
       "      <th>RF</th>\n",
       "    </tr>\n",
       "  </thead>\n",
       "  <tbody>\n",
       "    <tr>\n",
       "      <th>192607</th>\n",
       "      <td>2.96</td>\n",
       "      <td>-2.56</td>\n",
       "      <td>-2.43</td>\n",
       "      <td>0.22</td>\n",
       "    </tr>\n",
       "    <tr>\n",
       "      <th>192608</th>\n",
       "      <td>2.64</td>\n",
       "      <td>-1.17</td>\n",
       "      <td>3.82</td>\n",
       "      <td>0.25</td>\n",
       "    </tr>\n",
       "    <tr>\n",
       "      <th>192609</th>\n",
       "      <td>0.36</td>\n",
       "      <td>-1.40</td>\n",
       "      <td>0.13</td>\n",
       "      <td>0.23</td>\n",
       "    </tr>\n",
       "    <tr>\n",
       "      <th>192610</th>\n",
       "      <td>-3.24</td>\n",
       "      <td>-0.09</td>\n",
       "      <td>0.70</td>\n",
       "      <td>0.32</td>\n",
       "    </tr>\n",
       "    <tr>\n",
       "      <th>192611</th>\n",
       "      <td>2.53</td>\n",
       "      <td>-0.10</td>\n",
       "      <td>-0.51</td>\n",
       "      <td>0.31</td>\n",
       "    </tr>\n",
       "    <tr>\n",
       "      <th>...</th>\n",
       "      <td>...</td>\n",
       "      <td>...</td>\n",
       "      <td>...</td>\n",
       "      <td>...</td>\n",
       "    </tr>\n",
       "    <tr>\n",
       "      <th>2017</th>\n",
       "      <td>21.51</td>\n",
       "      <td>-4.97</td>\n",
       "      <td>-13.51</td>\n",
       "      <td>0.80</td>\n",
       "    </tr>\n",
       "    <tr>\n",
       "      <th>2018</th>\n",
       "      <td>-6.95</td>\n",
       "      <td>-3.21</td>\n",
       "      <td>-9.73</td>\n",
       "      <td>1.83</td>\n",
       "    </tr>\n",
       "    <tr>\n",
       "      <th>2019</th>\n",
       "      <td>28.28</td>\n",
       "      <td>-6.10</td>\n",
       "      <td>-10.34</td>\n",
       "      <td>2.15</td>\n",
       "    </tr>\n",
       "    <tr>\n",
       "      <th>2020</th>\n",
       "      <td>23.66</td>\n",
       "      <td>13.17</td>\n",
       "      <td>-46.57</td>\n",
       "      <td>0.45</td>\n",
       "    </tr>\n",
       "    <tr>\n",
       "      <th>2021</th>\n",
       "      <td>23.56</td>\n",
       "      <td>-3.92</td>\n",
       "      <td>25.57</td>\n",
       "      <td>0.04</td>\n",
       "    </tr>\n",
       "  </tbody>\n",
       "</table>\n",
       "<p>1253 rows × 4 columns</p>\n",
       "</div>"
      ],
      "text/plain": [
       "          Mkt-RF       SMB       HML        RF\n",
       "192607      2.96     -2.56     -2.43      0.22\n",
       "192608      2.64     -1.17      3.82      0.25\n",
       "192609      0.36     -1.40      0.13      0.23\n",
       "192610     -3.24     -0.09      0.70      0.32\n",
       "192611      2.53     -0.10     -0.51      0.31\n",
       "...          ...       ...       ...       ...\n",
       "  2017     21.51     -4.97    -13.51      0.80\n",
       "  2018     -6.95     -3.21     -9.73      1.83\n",
       "  2019     28.28     -6.10    -10.34      2.15\n",
       "  2020     23.66     13.17    -46.57      0.45\n",
       "  2021     23.56     -3.92     25.57      0.04\n",
       "\n",
       "[1253 rows x 4 columns]"
      ]
     },
     "execution_count": 21,
     "metadata": {},
     "output_type": "execute_result"
    }
   ],
   "source": [
    "fff_m"
   ]
  },
  {
   "cell_type": "code",
   "execution_count": 33,
   "metadata": {},
   "outputs": [
    {
     "data": {
      "text/plain": [
       "Index(['  1927'], dtype='object')"
      ]
     },
     "execution_count": 33,
     "metadata": {},
     "output_type": "execute_result"
    }
   ],
   "source": [
    "fff_m[fff_m.index == '  1927']"
   ]
  },
  {
   "cell_type": "code",
   "execution_count": 28,
   "metadata": {},
   "outputs": [
    {
     "data": {
      "text/plain": [
       "Index(['192607', '192608', '192609', '192610', '192611', '192612', '192701',\n",
       "       '192702', '192703', '192704',\n",
       "       ...\n",
       "       '  2012', '  2013', '  2014', '  2015', '  2016', '  2017', '  2018',\n",
       "       '  2019', '  2020', '  2021'],\n",
       "      dtype='object', length=1253)"
      ]
     },
     "execution_count": 28,
     "metadata": {},
     "output_type": "execute_result"
    }
   ],
   "source": [
    "fff_m.index"
   ]
  },
  {
   "cell_type": "code",
   "execution_count": 50,
   "metadata": {},
   "outputs": [],
   "source": [
    "fff_daily = fff.load(frequency=\"daily\", factors=3, format=\"csv\", dir=\"fff\")"
   ]
  },
  {
   "cell_type": "code",
   "execution_count": 51,
   "metadata": {},
   "outputs": [],
   "source": [
    "fff_daily.index = pd.to_datetime(fff_daily.index)"
   ]
  },
  {
   "cell_type": "code",
   "execution_count": 56,
   "metadata": {},
   "outputs": [],
   "source": [
    "fff_monthly = fff_daily.asfreq(\"M\", method=\"ffill\")"
   ]
  },
  {
   "cell_type": "code",
   "execution_count": 57,
   "metadata": {},
   "outputs": [
    {
     "data": {
      "text/html": [
       "<div>\n",
       "<style scoped>\n",
       "    .dataframe tbody tr th:only-of-type {\n",
       "        vertical-align: middle;\n",
       "    }\n",
       "\n",
       "    .dataframe tbody tr th {\n",
       "        vertical-align: top;\n",
       "    }\n",
       "\n",
       "    .dataframe thead th {\n",
       "        text-align: right;\n",
       "    }\n",
       "</style>\n",
       "<table border=\"1\" class=\"dataframe\">\n",
       "  <thead>\n",
       "    <tr style=\"text-align: right;\">\n",
       "      <th></th>\n",
       "      <th>Mkt-RF</th>\n",
       "      <th>SMB</th>\n",
       "      <th>HML</th>\n",
       "      <th>RF</th>\n",
       "    </tr>\n",
       "  </thead>\n",
       "  <tbody>\n",
       "    <tr>\n",
       "      <th>1926-07-31</th>\n",
       "      <td>0.46</td>\n",
       "      <td>-0.12</td>\n",
       "      <td>-0.17</td>\n",
       "      <td>0.009</td>\n",
       "    </tr>\n",
       "    <tr>\n",
       "      <th>1926-08-31</th>\n",
       "      <td>0.58</td>\n",
       "      <td>-0.52</td>\n",
       "      <td>-0.04</td>\n",
       "      <td>0.010</td>\n",
       "    </tr>\n",
       "    <tr>\n",
       "      <th>1926-09-30</th>\n",
       "      <td>0.30</td>\n",
       "      <td>-0.22</td>\n",
       "      <td>0.05</td>\n",
       "      <td>0.009</td>\n",
       "    </tr>\n",
       "    <tr>\n",
       "      <th>1926-10-31</th>\n",
       "      <td>-0.25</td>\n",
       "      <td>0.21</td>\n",
       "      <td>0.22</td>\n",
       "      <td>0.013</td>\n",
       "    </tr>\n",
       "    <tr>\n",
       "      <th>1926-11-30</th>\n",
       "      <td>0.26</td>\n",
       "      <td>0.02</td>\n",
       "      <td>-0.49</td>\n",
       "      <td>0.013</td>\n",
       "    </tr>\n",
       "    <tr>\n",
       "      <th>...</th>\n",
       "      <td>...</td>\n",
       "      <td>...</td>\n",
       "      <td>...</td>\n",
       "      <td>...</td>\n",
       "    </tr>\n",
       "    <tr>\n",
       "      <th>2022-07-31</th>\n",
       "      <td>1.44</td>\n",
       "      <td>-0.96</td>\n",
       "      <td>0.45</td>\n",
       "      <td>0.004</td>\n",
       "    </tr>\n",
       "    <tr>\n",
       "      <th>2022-08-31</th>\n",
       "      <td>-0.74</td>\n",
       "      <td>0.28</td>\n",
       "      <td>-0.44</td>\n",
       "      <td>0.008</td>\n",
       "    </tr>\n",
       "    <tr>\n",
       "      <th>2022-09-30</th>\n",
       "      <td>-1.42</td>\n",
       "      <td>0.50</td>\n",
       "      <td>0.27</td>\n",
       "      <td>0.009</td>\n",
       "    </tr>\n",
       "    <tr>\n",
       "      <th>2022-10-31</th>\n",
       "      <td>-0.67</td>\n",
       "      <td>0.39</td>\n",
       "      <td>0.75</td>\n",
       "      <td>0.011</td>\n",
       "    </tr>\n",
       "    <tr>\n",
       "      <th>2022-11-30</th>\n",
       "      <td>3.12</td>\n",
       "      <td>0.36</td>\n",
       "      <td>-2.07</td>\n",
       "      <td>0.014</td>\n",
       "    </tr>\n",
       "  </tbody>\n",
       "</table>\n",
       "<p>1157 rows × 4 columns</p>\n",
       "</div>"
      ],
      "text/plain": [
       "            Mkt-RF   SMB   HML     RF\n",
       "1926-07-31    0.46 -0.12 -0.17  0.009\n",
       "1926-08-31    0.58 -0.52 -0.04  0.010\n",
       "1926-09-30    0.30 -0.22  0.05  0.009\n",
       "1926-10-31   -0.25  0.21  0.22  0.013\n",
       "1926-11-30    0.26  0.02 -0.49  0.013\n",
       "...            ...   ...   ...    ...\n",
       "2022-07-31    1.44 -0.96  0.45  0.004\n",
       "2022-08-31   -0.74  0.28 -0.44  0.008\n",
       "2022-09-30   -1.42  0.50  0.27  0.009\n",
       "2022-10-31   -0.67  0.39  0.75  0.011\n",
       "2022-11-30    3.12  0.36 -2.07  0.014\n",
       "\n",
       "[1157 rows x 4 columns]"
      ]
     },
     "execution_count": 57,
     "metadata": {},
     "output_type": "execute_result"
    }
   ],
   "source": [
    "fff_monthly"
   ]
  },
  {
   "cell_type": "code",
   "execution_count": 61,
   "metadata": {},
   "outputs": [
    {
     "data": {
      "text/plain": [
       "1926-07-31    0.0046\n",
       "1926-08-31    0.0058\n",
       "1926-09-30    0.0030\n",
       "1926-10-31   -0.0025\n",
       "1926-11-30    0.0026\n",
       "               ...  \n",
       "2022-07-31    0.0144\n",
       "2022-08-31   -0.0074\n",
       "2022-09-30   -0.0142\n",
       "2022-10-31   -0.0067\n",
       "2022-11-30    0.0312\n",
       "Freq: M, Name: Mkt-RF, Length: 1157, dtype: float64"
      ]
     },
     "execution_count": 61,
     "metadata": {},
     "output_type": "execute_result"
    }
   ],
   "source": [
    "pd.to_numeric(fff_monthly[\"Mkt-RF\"])*0.01"
   ]
  },
  {
   "cell_type": "code",
   "execution_count": null,
   "metadata": {},
   "outputs": [],
   "source": []
  }
 ],
 "metadata": {
  "kernelspec": {
   "display_name": "Python 3",
   "language": "python",
   "name": "python3"
  },
  "language_info": {
   "codemirror_mode": {
    "name": "ipython",
    "version": 3
   },
   "file_extension": ".py",
   "mimetype": "text/x-python",
   "name": "python",
   "nbconvert_exporter": "python",
   "pygments_lexer": "ipython3",
   "version": "3.10.6 (main, Nov 14 2022, 16:10:14) [GCC 11.3.0]"
  },
  "orig_nbformat": 4,
  "vscode": {
   "interpreter": {
    "hash": "916dbcbb3f70747c44a77c7bcd40155683ae19c65e1c03b4aa3499c5328201f1"
   }
  }
 },
 "nbformat": 4,
 "nbformat_minor": 2
}
