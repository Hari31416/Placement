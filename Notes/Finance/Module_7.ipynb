{
 "cells": [
  {
   "attachments": {},
   "cell_type": "markdown",
   "metadata": {},
   "source": [
    "<h1 id=\"Contents\">Contents<a href=\"#Contents\"></a></h1>\n",
    "        <ol>\n",
    "        <li><a class=\"\" href=\"#Imports\">Imports</a></li>\n",
    "<li><a class=\"\" href=\"#Topics-cum-Notes\">Topics cum Notes</a></li>\n",
    "<ol><li><a class=\"\" href=\"#L17\">L17</a></li>\n",
    "<ol><li><a class=\"\" href=\"#Nonprofit-Organizations\">Nonprofit Organizations</a></li>\n",
    "<li><a class=\"\" href=\"#Financial-Cooperative\">Financial Cooperative</a></li>\n",
    "</ol><li><a class=\"\" href=\"#L18\">L18</a></li>\n",
    "<ol><li><a class=\"\" href=\"#Critisim-of-Finance\">Critisim of Finance</a></li>\n",
    "<li><a class=\"\" href=\"#Democratization-of-Finance\">Democratization of Finance</a></li>\n",
    "<li><a class=\"\" href=\"#Crowdfunding\">Crowdfunding</a></li>\n",
    "<li><a class=\"\" href=\"#Importance-of-Financial-Theory\">Importance of Financial Theory</a></li>\n",
    "</ol>"
   ]
  },
  {
   "attachments": {},
   "cell_type": "markdown",
   "metadata": {},
   "source": [
    "# Imports\n"
   ]
  },
  {
   "cell_type": "code",
   "execution_count": null,
   "metadata": {},
   "outputs": [],
   "source": [
    "import pandas as pd\n",
    "import numpy as np\n",
    "import matplotlib.pyplot as plt\n",
    "import seaborn as sns\n",
    "import mplfinance as mpf\n",
    "import matplotlib.dates as mdates\n",
    "import datetime as dt\n",
    "\n",
    "import plotly.graph_objects as go\n",
    "import plotly.express as px\n",
    "import plotly.io as pio\n",
    "from plotly.subplots import make_subplots\n",
    "\n",
    "pio.renderers.default = \"notebook\"\n",
    "pio.templates.default = \"plotly_dark\"\n",
    "import gc\n",
    "\n",
    "np.random.seed(42)\n"
   ]
  },
  {
   "cell_type": "code",
   "execution_count": null,
   "metadata": {},
   "outputs": [],
   "source": [
    "import warnings\n",
    "\n",
    "warnings.filterwarnings(\"ignore\")\n"
   ]
  },
  {
   "attachments": {},
   "cell_type": "markdown",
   "metadata": {},
   "source": [
    "# Topics cum Notes\n"
   ]
  },
  {
   "attachments": {},
   "cell_type": "markdown",
   "metadata": {},
   "source": [
    "## L17"
   ]
  },
  {
   "attachments": {},
   "cell_type": "markdown",
   "metadata": {},
   "source": [
    "### Nonprofit Organizations"
   ]
  },
  {
   "attachments": {},
   "cell_type": "markdown",
   "metadata": {},
   "source": [
    "Traditional economic theory describes people as having a utility function, which is arguments include own consumption, and they care only about that. Nonprofit organizations don't work this way. They exist for the benefit of their cause."
   ]
  },
  {
   "attachments": {},
   "cell_type": "markdown",
   "metadata": {},
   "source": [
    "It's an organization, it's a business but with one key different, there's a non-distribution constraint. They don't give back the dividend, the profits as dividend. They have to re-invest them. Either give them away or reinvest them in the activities of the organization."
   ]
  },
  {
   "attachments": {},
   "cell_type": "markdown",
   "metadata": {},
   "source": [
    "### Financial Cooperative"
   ]
  },
  {
   "attachments": {},
   "cell_type": "markdown",
   "metadata": {},
   "source": [
    "A financial cooperative (co-op) is a type of financial institution that is owned and operated by its members. The goal of a financial cooperative is to act on behalf of a unified group to offer traditional banking services. These institutions attempt to differentiate themselves by offering above-average services along with competitive rates in the areas of insurance, lending, and investment dealings."
   ]
  },
  {
   "attachments": {},
   "cell_type": "markdown",
   "metadata": {},
   "source": [
    "## L18"
   ]
  },
  {
   "attachments": {},
   "cell_type": "markdown",
   "metadata": {},
   "source": [
    "### Critisim of Finance"
   ]
  },
  {
   "attachments": {},
   "cell_type": "markdown",
   "metadata": {},
   "source": [
    "### Democratization of Finance"
   ]
  },
  {
   "attachments": {},
   "cell_type": "markdown",
   "metadata": {},
   "source": [
    "By democratization we mean that it should benefit real people. Everyone, not just the rich. It shouldn't be a plot to preserve the riches of the already rich."
   ]
  },
  {
   "attachments": {},
   "cell_type": "markdown",
   "metadata": {},
   "source": [
    "### Crowdfunding"
   ]
  },
  {
   "attachments": {},
   "cell_type": "markdown",
   "metadata": {},
   "source": [
    "### Importance of Financial Theory"
   ]
  },
  {
   "attachments": {},
   "cell_type": "markdown",
   "metadata": {},
   "source": [
    "1. Mathematical Finance\n",
    "2. Behavioral Finance"
   ]
  }
 ],
 "metadata": {
  "kernelspec": {
   "display_name": "Python 3",
   "language": "python",
   "name": "python3"
  },
  "language_info": {
   "name": "python",
   "version": "3.10.6 (main, Nov 14 2022, 16:10:14) [GCC 11.3.0]"
  },
  "orig_nbformat": 4,
  "vscode": {
   "interpreter": {
    "hash": "916dbcbb3f70747c44a77c7bcd40155683ae19c65e1c03b4aa3499c5328201f1"
   }
  }
 },
 "nbformat": 4,
 "nbformat_minor": 2
}
