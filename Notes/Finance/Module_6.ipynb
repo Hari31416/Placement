{
 "cells": [
  {
   "attachments": {},
   "cell_type": "markdown",
   "metadata": {},
   "source": [
    "<h1 id=\"Contents\">Contents<a href=\"#Contents\"></a></h1>\n",
    "        <ol>\n",
    "        <li><a class=\"\" href=\"#Imports\">Imports</a></li>\n",
    "<li><a class=\"\" href=\"#Topics-cum-Notes\">Topics cum Notes</a></li>\n",
    "<ol><li><a class=\"\" href=\"#L14\">L14</a></li>\n",
    "<ol><li><a class=\"\" href=\"#Investment-Banks\">Investment Banks</a></li>\n",
    "<li><a class=\"\" href=\"#Underwriting-Syndicate\">Underwriting Syndicate</a></li>\n",
    "<li><a class=\"\" href=\"#Underwriting\">Underwriting</a></li>\n",
    "<li><a class=\"\" href=\"#Stabilization\">Stabilization</a></li>\n",
    "<li><a class=\"\" href=\"#Initial-Public-Offering-(IPO)\">Initial Public Offering (IPO)</a></li>\n",
    "<li><a class=\"\" href=\"#Rating-Agencies\">Rating Agencies</a></li>\n",
    "<li><a class=\"\" href=\"#The-Prudent-Person\">The Prudent Person</a></li>\n",
    "<li><a class=\"\" href=\"#Financial-Advisors\">Financial Advisors</a></li>\n",
    "<li><a class=\"\" href=\"#Mutual-Fund\">Mutual Fund</a></li>\n",
    "<li><a class=\"\" href=\"#Exchange-Traded-Fund-(ETF)\">Exchange Traded Fund (ETF)</a></li>\n",
    "</ol><li><a class=\"\" href=\"#L15\">L15</a></li>\n",
    "<ol><li><a class=\"\" href=\"#Broker\">Broker</a></li>\n",
    "<li><a class=\"\" href=\"#Dealer\">Dealer</a></li>\n",
    "<li><a class=\"\" href=\"#Churn\">Churn</a></li>\n",
    "<li><a class=\"\" href=\"#High-Frequency-Trading\">High Frequency Trading</a></li>\n",
    "<li><a class=\"\" href=\"#Kinds-of-Order\">Kinds of Order</a></li>\n",
    "</ol><li><a class=\"\" href=\"#L16\">L16</a></li>\n",
    "<ol><li><a class=\"\" href=\"#Government-Debt\">Government Debt</a></li>\n",
    "<li><a class=\"\" href=\"#Repudiation\">Repudiation</a></li>\n",
    "<li><a class=\"\" href=\"#Odious-Debt\">Odious Debt</a></li>\n",
    "<li><a class=\"\" href=\"#Default-and-Restructuring\">Default and Restructuring</a></li>\n",
    "<li><a class=\"\" href=\"#Collective-Action-Clause\">Collective Action Clause</a></li>\n",
    "<li><a class=\"\" href=\"#Municipal-Finance\">Municipal Finance</a></li>\n",
    "<li><a class=\"\" href=\"#Revenue-Bonds\">Revenue Bonds</a></li>\n",
    "</ol>"
   ]
  },
  {
   "attachments": {},
   "cell_type": "markdown",
   "metadata": {},
   "source": [
    "# Imports\n"
   ]
  },
  {
   "cell_type": "code",
   "execution_count": null,
   "metadata": {},
   "outputs": [],
   "source": [
    "import pandas as pd\n",
    "import numpy as np\n",
    "import matplotlib.pyplot as plt\n",
    "import seaborn as sns\n",
    "import mplfinance as mpf\n",
    "import matplotlib.dates as mdates\n",
    "import datetime as dt\n",
    "\n",
    "import plotly.graph_objects as go\n",
    "import plotly.express as px\n",
    "import plotly.io as pio\n",
    "from plotly.subplots import make_subplots\n",
    "\n",
    "pio.renderers.default = \"notebook\"\n",
    "pio.templates.default = \"plotly_dark\"\n",
    "import gc\n",
    "\n",
    "np.random.seed(42)\n"
   ]
  },
  {
   "cell_type": "code",
   "execution_count": null,
   "metadata": {},
   "outputs": [],
   "source": [
    "import warnings\n",
    "\n",
    "warnings.filterwarnings(\"ignore\")\n"
   ]
  },
  {
   "attachments": {},
   "cell_type": "markdown",
   "metadata": {},
   "source": [
    "# Topics cum Notes\n"
   ]
  },
  {
   "attachments": {},
   "cell_type": "markdown",
   "metadata": {},
   "source": [
    "## L14"
   ]
  },
  {
   "attachments": {},
   "cell_type": "markdown",
   "metadata": {},
   "source": [
    "### Investment Banks"
   ]
  },
  {
   "attachments": {},
   "cell_type": "markdown",
   "metadata": {},
   "source": [
    "Investment banks are financial institutions that help companies raise capital by issuing securities. They also provide advice on mergers and acquisitions, and help companies manage their finances. Investment banks are also known as underwriters. They are the institutions that companies go to, or non profits or even governments go to, when they want to raise money, and they do it with them as a broker, intervening."
   ]
  },
  {
   "attachments": {},
   "cell_type": "markdown",
   "metadata": {},
   "source": [
    ">A consulting firm, is a firm that a company will go to for advice. They have researchers there. But the difference, in investment bank, you go to for advice to, but an investment bank is like a consulting firm with an army. And I shouldn't say army. With resources. They know where the money is and they can get it for you. And so, they'll give you advice. And it may share some of the risks of the offering. But the really important thing that investment banks do is put their reputation behind the issue. They check you out, due diligence."
   ]
  },
  {
   "attachments": {},
   "cell_type": "markdown",
   "metadata": {},
   "source": [
    "### Underwriting Syndicate"
   ]
  },
  {
   "attachments": {},
   "cell_type": "markdown",
   "metadata": {},
   "source": [
    "An underwriting syndicate is a band of investment banks and broker dealers who come together to sell new offerings of equity or debt securities of a firm to investors when the issue is too large for a single firm to handle. The syndicate takes on inventory risk by committing to purchase the full issue upfront, and selling it afterwards to investors in the market. It is compensated by the underwriting spread, which is the difference between the price paid to the issuer, and the price received from investors."
   ]
  },
  {
   "attachments": {},
   "cell_type": "markdown",
   "metadata": {},
   "source": [
    ">Underwriters under-price the offer and from what they know they could get, that way it sells out quickly, it looks great."
   ]
  },
  {
   "attachments": {},
   "cell_type": "markdown",
   "metadata": {},
   "source": [
    "### Underwriting"
   ]
  },
  {
   "attachments": {},
   "cell_type": "markdown",
   "metadata": {},
   "source": [
    "Underwriting is the issuance of shares and corporate debt."
   ]
  },
  {
   "attachments": {},
   "cell_type": "markdown",
   "metadata": {},
   "source": [
    "There are a number of steps involved in underwriting. Some of them are:\n",
    "- **Prefilling Period** - The period of time before the offering when the investment bank and the company work together to prepare the offering documents. Here, you get advice from the investment bank, about choices."
   ]
  },
  {
   "attachments": {},
   "cell_type": "markdown",
   "metadata": {},
   "source": [
    "- **Forming Syndicate**- This happens if the issue to be underwritten is large. The investment bank will form a syndicate of other investment banks to help underwrite the issue. The syndicate will share the risk and the profits of the issue."
   ]
  },
  {
   "attachments": {},
   "cell_type": "markdown",
   "metadata": {},
   "source": [
    "- **Registration with SEC**- The company files a registration statement with the SEC. The SEC reviews the registration statement and approves it."
   ]
  },
  {
   "attachments": {},
   "cell_type": "markdown",
   "metadata": {},
   "source": [
    "- **Cooling off Period**- The SEC requires a cooling off period of 20 days after the registration statement is filed. This is to give investors time to review the registration statement. SEC regulates a document which shows the risk involved in the security so that the investors can make an informed decision."
   ]
  },
  {
   "attachments": {},
   "cell_type": "markdown",
   "metadata": {},
   "source": [
    "- **Offering Price**- The investment bank and the company decide on the offering price. The offering price is the price at which the shares are sold to the investors. The offering price is determined by the investment bank and the company. The investment bank will advise the company on the offering price. The company will also consider the offering price in deciding whether to go ahead with the offering."
   ]
  },
  {
   "attachments": {},
   "cell_type": "markdown",
   "metadata": {},
   "source": [
    "- **IPO** - After the registration statement is approved, the company goes ahead with the offering. The company sells the shares to the investors at the offering price. The company receives the proceeds from the sale of the shares. The investment bank receives the underwriting spread."
   ]
  },
  {
   "attachments": {},
   "cell_type": "markdown",
   "metadata": {},
   "source": [
    "### Stabilization"
   ]
  },
  {
   "attachments": {},
   "cell_type": "markdown",
   "metadata": {},
   "source": [
    "This is a form of market manipulation. After IPO is done, if the price of the security comes down, the investment bank will buy the security from the market and sell it to the investors at the offering price. This is done to stabilize the price of the security. This is done to avoid panic selling."
   ]
  },
  {
   "attachments": {},
   "cell_type": "markdown",
   "metadata": {},
   "source": [
    "### Initial Public Offering (IPO)"
   ]
  },
  {
   "attachments": {},
   "cell_type": "markdown",
   "metadata": {},
   "source": [
    "An initial public offering is an offering of a shares in a company for the first time publicly."
   ]
  },
  {
   "attachments": {},
   "cell_type": "markdown",
   "metadata": {},
   "source": [
    "### Rating Agencies"
   ]
  },
  {
   "attachments": {},
   "cell_type": "markdown",
   "metadata": {},
   "source": [
    "Rating agencies are independent organizations that rate the creditworthiness of a company. They rate the creditworthiness of a company by assigning a credit rating to it. The credit rating is a letter grade that indicates the creditworthiness of a company. The credit rating is based on the company's financial statements and other information. The credit rating is used by investors to decide whether to invest in a company's securities."
   ]
  },
  {
   "attachments": {},
   "cell_type": "markdown",
   "metadata": {},
   "source": [
    ">They publishes its information which makes it more trustworthy."
   ]
  },
  {
   "attachments": {},
   "cell_type": "markdown",
   "metadata": {},
   "source": [
    "They give rating as letter grades. AAA is the highest and D is the lowest. The higher the rating, the lower the risk."
   ]
  },
  {
   "attachments": {},
   "cell_type": "markdown",
   "metadata": {},
   "source": [
    "At starting, rating agencies did not take money from the compnaies they rated. However, later, it turned out to be very difficult to keep track of all the securities and mortgages and they started charging. This let to the rating agencies beging 'casual'. They started giving higher ratings to securities that were not so good. This led to the 2008 crisis.\n",
    "\n",
    "New regulations were put in place to prevent this."
   ]
  },
  {
   "attachments": {},
   "cell_type": "markdown",
   "metadata": {},
   "source": [
    "### The Prudent Person"
   ]
  },
  {
   "attachments": {},
   "cell_type": "markdown",
   "metadata": {},
   "source": [
    "Regulations requires investment managers to be prudent."
   ]
  },
  {
   "attachments": {},
   "cell_type": "markdown",
   "metadata": {},
   "source": [
    "The prudent person is defined as: \"With the care, skill, prudence and diligence under the circumstances then prevailing that a prudent man acting in a like capacity and familiar with such matters would use in the conduct of an enterprise of a like character and with like aims.\""
   ]
  },
  {
   "attachments": {},
   "cell_type": "markdown",
   "metadata": {},
   "source": [
    "It's telling investment managers to do is do what somebody else would do in this circumstance."
   ]
  },
  {
   "attachments": {},
   "cell_type": "markdown",
   "metadata": {},
   "source": [
    "### Financial Advisors"
   ]
  },
  {
   "attachments": {},
   "cell_type": "markdown",
   "metadata": {},
   "source": [
    "A financial advisor is anyone who advises others on the value of securities or the advisability of an investment or who publishes analysis. It excludes bankers, lawyers, reporters, and professors."
   ]
  },
  {
   "attachments": {},
   "cell_type": "markdown",
   "metadata": {},
   "source": [
    "### Mutual Fund"
   ]
  },
  {
   "attachments": {},
   "cell_type": "markdown",
   "metadata": {},
   "source": [
    "A mutual fund is a financial vehicle that pools assets from shareholders to invest in securities like stocks, bonds, money market instruments, and other assets. Mutual funds are operated by professional money managers, who allocate the fund's assets and attempt to produce capital gains or income for the fund's investors. "
   ]
  },
  {
   "attachments": {},
   "cell_type": "markdown",
   "metadata": {},
   "source": [
    "### Exchange Traded Fund (ETF)"
   ]
  },
  {
   "attachments": {},
   "cell_type": "markdown",
   "metadata": {},
   "source": [
    "The term stock exchange-traded fund (ETF) refers to a security that tracks a particular set of equities. These ETFs trade on exchanges the same way normal stocks do and track equities just like an index. They can track stocks in a single industry or an entire index of equities. Investors who purchase shares of stock exchange ETF can gain exposure to a basket of equities and limited company-specific risk associated with single stocks, providing them with a cost-effective way to diversify their portfolios."
   ]
  },
  {
   "attachments": {},
   "cell_type": "markdown",
   "metadata": {},
   "source": [
    "Research suggests that passive-investment vehicles like ETFs tend to return more than actively-managed vehicles like mutual funds over the long run."
   ]
  },
  {
   "attachments": {},
   "cell_type": "markdown",
   "metadata": {},
   "source": [
    "## L15"
   ]
  },
  {
   "attachments": {},
   "cell_type": "markdown",
   "metadata": {},
   "source": [
    "### Broker"
   ]
  },
  {
   "attachments": {},
   "cell_type": "markdown",
   "metadata": {},
   "source": [
    "Brokers act on behalf of Others as their Agent for which they earn a Commision. So a stock broker, what he or she does is brings people together so that if someone who wants to buy a stock, he finds someone who wants to sell that. Puts the two together, charges a commission for finding the other side. "
   ]
  },
  {
   "attachments": {},
   "cell_type": "markdown",
   "metadata": {},
   "source": [
    "### Dealer"
   ]
  },
  {
   "attachments": {},
   "cell_type": "markdown",
   "metadata": {},
   "source": [
    "A dealer always acts for himself. When you buy from a dealer, they don't charge commison but you are getting a higher price. This is called markup.\n",
    " \n",
    "So a dealer posts prices, bid and asked, and stands ready to buy."
   ]
  },
  {
   "attachments": {},
   "cell_type": "markdown",
   "metadata": {},
   "source": [
    "### Churn"
   ]
  },
  {
   "attachments": {},
   "cell_type": "markdown",
   "metadata": {},
   "source": [
    "Churn is the rate at which a broker trades the fund's portfolio. The higher the churn, the higher the trading costs and the lower the returns."
   ]
  },
  {
   "attachments": {},
   "cell_type": "markdown",
   "metadata": {},
   "source": [
    "### High Frequency Trading"
   ]
  },
  {
   "attachments": {},
   "cell_type": "markdown",
   "metadata": {},
   "source": [
    "Instead of sitting there with your finger to push the button, when a bidder ask comes up that you want, you can program a computer to do that, and the computer program can trade algorithmically."
   ]
  },
  {
   "attachments": {},
   "cell_type": "markdown",
   "metadata": {},
   "source": [
    "### Kinds of Order"
   ]
  },
  {
   "attachments": {},
   "cell_type": "markdown",
   "metadata": {},
   "source": [
    "1. Market Order - Buy or sell at the current market price.\n",
    "2. Limit Order - Buy or sell at a specified price or better.\n",
    "3. Stop Order - Buy or sell when the price reaches a specified price."
   ]
  },
  {
   "attachments": {},
   "cell_type": "markdown",
   "metadata": {},
   "source": [
    "## L16"
   ]
  },
  {
   "attachments": {},
   "cell_type": "markdown",
   "metadata": {},
   "source": [
    "### Government Debt"
   ]
  },
  {
   "attachments": {},
   "cell_type": "markdown",
   "metadata": {},
   "source": [
    "Government debt, also known as national or sovereign debt, is incurred when countries borrow funds to pay for more public services and projects than they raise in taxes."
   ]
  },
  {
   "attachments": {},
   "cell_type": "markdown",
   "metadata": {},
   "source": [
    "### Repudiation"
   ]
  },
  {
   "attachments": {},
   "cell_type": "markdown",
   "metadata": {},
   "source": [
    "Repudiation of a debt occurs when the government announces, we're never going to pay. Like the communist governments in Russia and China repudiated their government debt. "
   ]
  },
  {
   "attachments": {},
   "cell_type": "markdown",
   "metadata": {},
   "source": [
    "### Odious Debt"
   ]
  },
  {
   "attachments": {},
   "cell_type": "markdown",
   "metadata": {},
   "source": [
    "If a new government comes in, they can sometimes say, \"The past government was so corrupt and stealing, this is not the debt of our people, it's the debt of some criminal that we've finally got rid of. So that's odious debt, it stinks. We will not pay it back and we're morally right not to pay back what this person took from all of us.\""
   ]
  },
  {
   "attachments": {},
   "cell_type": "markdown",
   "metadata": {},
   "source": [
    "### Default and Restructuring"
   ]
  },
  {
   "attachments": {},
   "cell_type": "markdown",
   "metadata": {},
   "source": [
    "Usually, when a government id unable to pay its full debt to investors, it offers restructuring. It offers to pay back some of the debt, but not all of it. The investors agree to this because they know that if the government defaults, they will get nothing. So they agree to take a haircut, which is a reduction in the amount of money they will get back."
   ]
  },
  {
   "attachments": {},
   "cell_type": "markdown",
   "metadata": {},
   "source": [
    "### Collective Action Clause"
   ]
  },
  {
   "attachments": {},
   "cell_type": "markdown",
   "metadata": {},
   "source": [
    "When you buy the debt from some organization or country, it says you sign a contract when you buy it that you will agree to anything that's voted by a super-majority of the other investors in the same bonds."
   ]
  },
  {
   "attachments": {},
   "cell_type": "markdown",
   "metadata": {},
   "source": [
    "### Municipal Finance"
   ]
  },
  {
   "attachments": {},
   "cell_type": "markdown",
   "metadata": {},
   "source": [
    "Municipal finance is the financing of municipal governments. Municipal governments are the governments of cities, towns, and villages. Municipal governments are funded by taxes and fees. They also borrow money from investors. Municipal bonds are bonds issued by municipal governments. Municipal bonds are issued to finance capital projects. Municipal bonds are issued to finance operating expenses. Municipal bonds are issued to refinance existing debt. Municipal bonds are issued to fund pension plans."
   ]
  },
  {
   "attachments": {},
   "cell_type": "markdown",
   "metadata": {},
   "source": [
    "### Revenue Bonds"
   ]
  },
  {
   "attachments": {},
   "cell_type": "markdown",
   "metadata": {},
   "source": [
    "These are bonds that are backed by the revenue of a specific project. For example, a toll road. The revenue from the tolls is used to pay back the bondholders."
   ]
  }
 ],
 "metadata": {
  "kernelspec": {
   "display_name": "Python 3",
   "language": "python",
   "name": "python3"
  },
  "language_info": {
   "name": "python",
   "version": "3.10.6 (main, Nov 14 2022, 16:10:14) [GCC 11.3.0]"
  },
  "orig_nbformat": 4,
  "vscode": {
   "interpreter": {
    "hash": "916dbcbb3f70747c44a77c7bcd40155683ae19c65e1c03b4aa3499c5328201f1"
   }
  }
 },
 "nbformat": 4,
 "nbformat_minor": 2
}
