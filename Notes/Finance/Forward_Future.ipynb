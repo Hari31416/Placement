{
 "cells": [
  {
   "attachments": {},
   "cell_type": "markdown",
   "metadata": {},
   "source": [
    "<h1 id=\"Contents\">Contents<a href=\"#Contents\"></a></h1>\n",
    "        <ol>\n",
    "        <li><a class=\"\" href=\"#Forward\">Forward</a></li>\n",
    "<li><a class=\"\" href=\"#Future\">Future</a></li>\n",
    "<ol><li><a class=\"\" href=\"#Future-Price-Formula\">Future Price Formula</a></li>\n",
    "</ol>"
   ]
  },
  {
   "cell_type": "code",
   "execution_count": 1,
   "metadata": {},
   "outputs": [],
   "source": [
    "import pandas as pd\n",
    "import numpy as np\n",
    "import matplotlib.pyplot as plt\n",
    "import os\n",
    "import glob\n",
    "\n",
    "import plotly.graph_objects as go\n",
    "import plotly.express as px\n",
    "import plotly.io as pio\n",
    "pio.renderers.default = \"notebook\"\n",
    "pio.templates.default = \"plotly_dark\""
   ]
  },
  {
   "attachments": {},
   "cell_type": "markdown",
   "metadata": {},
   "source": [
    "# Forward"
   ]
  },
  {
   "attachments": {},
   "cell_type": "markdown",
   "metadata": {},
   "source": [
    "# Future"
   ]
  },
  {
   "attachments": {},
   "cell_type": "markdown",
   "metadata": {},
   "source": [
    "## Future Price Formula"
   ]
  },
  {
   "attachments": {},
   "cell_type": "markdown",
   "metadata": {},
   "source": [
    "The future price of a stock is the price of the stock at a future date. The future price of a stock is calculated by using the following formula:\n",
    "$$\n",
    "F = S \\times (1+R_f*T) - D_1\n",
    "$$\n",
    "where:\n",
    "* $F$ is the future price of the stock\n",
    "* $S$ is the current price of the stock\n",
    "* $R_f$ is the risk-free rate of return\n",
    "* $D_1$ is the dividend paid on the stock\n",
    "* $T$ is the time to maturity"
   ]
  },
  {
   "cell_type": "code",
   "execution_count": 2,
   "metadata": {},
   "outputs": [],
   "source": [
    "nifty = pd.read_csv(\"option_data/NIFTY.csv\", parse_dates=[\"Date\"], index_col=\"Date\")\n",
    "future = pd.read_csv('option_data/final/NIFTY_Futures_29-Dec-2022.csv', parse_dates=[\"Date\"], index_col=\"Date\")\n",
    "bond = pd.read_csv('option_data/10Y.csv', parse_dates=[\"Date\"], index_col=\"Date\")"
   ]
  },
  {
   "attachments": {},
   "cell_type": "markdown",
   "metadata": {},
   "source": [
    "We'll be working with just the `Close` column. In India, risk-free rate of return is 7.3% (as of Jan 2023). We'll assume that there is no dividend paid on the stock."
   ]
  },
  {
   "cell_type": "code",
   "execution_count": 3,
   "metadata": {},
   "outputs": [
    {
     "data": {
      "text/html": [
       "<div>\n",
       "<style scoped>\n",
       "    .dataframe tbody tr th:only-of-type {\n",
       "        vertical-align: middle;\n",
       "    }\n",
       "\n",
       "    .dataframe tbody tr th {\n",
       "        vertical-align: top;\n",
       "    }\n",
       "\n",
       "    .dataframe thead th {\n",
       "        text-align: right;\n",
       "    }\n",
       "</style>\n",
       "<table border=\"1\" class=\"dataframe\">\n",
       "  <thead>\n",
       "    <tr style=\"text-align: right;\">\n",
       "      <th></th>\n",
       "      <th>Nifty</th>\n",
       "      <th>Future</th>\n",
       "      <th>Bond</th>\n",
       "    </tr>\n",
       "    <tr>\n",
       "      <th>Date</th>\n",
       "      <th></th>\n",
       "      <th></th>\n",
       "      <th></th>\n",
       "    </tr>\n",
       "  </thead>\n",
       "  <tbody>\n",
       "    <tr>\n",
       "      <th>2022-12-27</th>\n",
       "      <td>18132.30</td>\n",
       "      <td>18138.00</td>\n",
       "      <td>7.310</td>\n",
       "    </tr>\n",
       "    <tr>\n",
       "      <th>2022-12-26</th>\n",
       "      <td>18014.60</td>\n",
       "      <td>18027.30</td>\n",
       "      <td>7.319</td>\n",
       "    </tr>\n",
       "    <tr>\n",
       "      <th>2022-12-23</th>\n",
       "      <td>17806.80</td>\n",
       "      <td>17863.90</td>\n",
       "      <td>7.318</td>\n",
       "    </tr>\n",
       "    <tr>\n",
       "      <th>2022-12-22</th>\n",
       "      <td>18127.35</td>\n",
       "      <td>18170.35</td>\n",
       "      <td>7.316</td>\n",
       "    </tr>\n",
       "    <tr>\n",
       "      <th>2022-12-21</th>\n",
       "      <td>18199.10</td>\n",
       "      <td>18275.90</td>\n",
       "      <td>7.287</td>\n",
       "    </tr>\n",
       "  </tbody>\n",
       "</table>\n",
       "</div>"
      ],
      "text/plain": [
       "               Nifty    Future   Bond\n",
       "Date                                 \n",
       "2022-12-27  18132.30  18138.00  7.310\n",
       "2022-12-26  18014.60  18027.30  7.319\n",
       "2022-12-23  17806.80  17863.90  7.318\n",
       "2022-12-22  18127.35  18170.35  7.316\n",
       "2022-12-21  18199.10  18275.90  7.287"
      ]
     },
     "execution_count": 3,
     "metadata": {},
     "output_type": "execute_result"
    }
   ],
   "source": [
    "nifty = nifty[\"Close\"]\n",
    "future = future[\"Close\"]\n",
    "bond = bond[\"Close\"]\n",
    "\n",
    "merged = pd.merge(nifty, future, left_index=True, right_index=True, how=\"inner\")\n",
    "merged = pd.merge(merged, bond, left_index=True, right_index=True, how=\"inner\")\n",
    "\n",
    "merged.columns = [\"Nifty\", \"Future\", \"Bond\"]\n",
    "merged.head()"
   ]
  },
  {
   "cell_type": "code",
   "execution_count": 4,
   "metadata": {},
   "outputs": [],
   "source": [
    "merged[\"Bond\"] = merged[\"Bond\"]/100/365"
   ]
  },
  {
   "cell_type": "code",
   "execution_count": 9,
   "metadata": {},
   "outputs": [
    {
     "data": {
      "text/html": [
       "<div>\n",
       "<style scoped>\n",
       "    .dataframe tbody tr th:only-of-type {\n",
       "        vertical-align: middle;\n",
       "    }\n",
       "\n",
       "    .dataframe tbody tr th {\n",
       "        vertical-align: top;\n",
       "    }\n",
       "\n",
       "    .dataframe thead th {\n",
       "        text-align: right;\n",
       "    }\n",
       "</style>\n",
       "<table border=\"1\" class=\"dataframe\">\n",
       "  <thead>\n",
       "    <tr style=\"text-align: right;\">\n",
       "      <th></th>\n",
       "      <th>Nifty</th>\n",
       "      <th>Future</th>\n",
       "      <th>Bond</th>\n",
       "      <th>Days_remaining</th>\n",
       "      <th>F_Simple</th>\n",
       "      <th>F_Compound</th>\n",
       "    </tr>\n",
       "    <tr>\n",
       "      <th>Date</th>\n",
       "      <th></th>\n",
       "      <th></th>\n",
       "      <th></th>\n",
       "      <th></th>\n",
       "      <th></th>\n",
       "      <th></th>\n",
       "    </tr>\n",
       "  </thead>\n",
       "  <tbody>\n",
       "    <tr>\n",
       "      <th>2022-12-27</th>\n",
       "      <td>18132.30</td>\n",
       "      <td>18138.00</td>\n",
       "      <td>0.000200</td>\n",
       "      <td>0</td>\n",
       "      <td>18132.300000</td>\n",
       "      <td>18132.300000</td>\n",
       "    </tr>\n",
       "    <tr>\n",
       "      <th>2022-12-26</th>\n",
       "      <td>18014.60</td>\n",
       "      <td>18027.30</td>\n",
       "      <td>0.000201</td>\n",
       "      <td>1</td>\n",
       "      <td>18018.212297</td>\n",
       "      <td>18018.212297</td>\n",
       "    </tr>\n",
       "    <tr>\n",
       "      <th>2022-12-23</th>\n",
       "      <td>17806.80</td>\n",
       "      <td>17863.90</td>\n",
       "      <td>0.000200</td>\n",
       "      <td>2</td>\n",
       "      <td>17821.080566</td>\n",
       "      <td>17821.084861</td>\n",
       "    </tr>\n",
       "    <tr>\n",
       "      <th>2022-12-22</th>\n",
       "      <td>18127.35</td>\n",
       "      <td>18170.35</td>\n",
       "      <td>0.000200</td>\n",
       "      <td>3</td>\n",
       "      <td>18145.517081</td>\n",
       "      <td>18145.524365</td>\n",
       "    </tr>\n",
       "    <tr>\n",
       "      <th>2022-12-21</th>\n",
       "      <td>18199.10</td>\n",
       "      <td>18275.90</td>\n",
       "      <td>0.000200</td>\n",
       "      <td>4</td>\n",
       "      <td>18220.900029</td>\n",
       "      <td>18220.910912</td>\n",
       "    </tr>\n",
       "  </tbody>\n",
       "</table>\n",
       "</div>"
      ],
      "text/plain": [
       "               Nifty    Future      Bond  Days_remaining      F_Simple  \\\n",
       "Date                                                                     \n",
       "2022-12-27  18132.30  18138.00  0.000200               0  18132.300000   \n",
       "2022-12-26  18014.60  18027.30  0.000201               1  18018.212297   \n",
       "2022-12-23  17806.80  17863.90  0.000200               2  17821.080566   \n",
       "2022-12-22  18127.35  18170.35  0.000200               3  18145.517081   \n",
       "2022-12-21  18199.10  18275.90  0.000200               4  18220.900029   \n",
       "\n",
       "              F_Compound  \n",
       "Date                      \n",
       "2022-12-27  18132.300000  \n",
       "2022-12-26  18018.212297  \n",
       "2022-12-23  17821.084861  \n",
       "2022-12-22  18145.524365  \n",
       "2022-12-21  18220.910912  "
      ]
     },
     "execution_count": 9,
     "metadata": {},
     "output_type": "execute_result"
    }
   ],
   "source": [
    "merged[\"Days_remaining\"] = -(merged.index - merged.index[0]).days\n",
    "# merged[\"Days_remaining\"] = np.arange(0, len(merged))\n",
    "merged[\"Days_remaining\"] = merged[\"Days_remaining\"].astype(int)\n",
    "merged.head()"
   ]
  },
  {
   "cell_type": "code",
   "execution_count": 10,
   "metadata": {},
   "outputs": [],
   "source": [
    "merged[\"F_Simple\"] = merged[\"Nifty\"] * (1+merged[\"Bond\"] * merged[\"Days_remaining\"])\n",
    "merged[\"F_Compound\"] = merged[\"Nifty\"] * (1+merged[\"Bond\"])**merged[\"Days_remaining\"]"
   ]
  },
  {
   "cell_type": "code",
   "execution_count": 11,
   "metadata": {},
   "outputs": [
    {
     "data": {
      "text/html": [
       "<div>\n",
       "<style scoped>\n",
       "    .dataframe tbody tr th:only-of-type {\n",
       "        vertical-align: middle;\n",
       "    }\n",
       "\n",
       "    .dataframe tbody tr th {\n",
       "        vertical-align: top;\n",
       "    }\n",
       "\n",
       "    .dataframe thead th {\n",
       "        text-align: right;\n",
       "    }\n",
       "</style>\n",
       "<table border=\"1\" class=\"dataframe\">\n",
       "  <thead>\n",
       "    <tr style=\"text-align: right;\">\n",
       "      <th></th>\n",
       "      <th>Nifty</th>\n",
       "      <th>Future</th>\n",
       "      <th>Bond</th>\n",
       "      <th>Days_remaining</th>\n",
       "      <th>F_Simple</th>\n",
       "      <th>F_Compound</th>\n",
       "    </tr>\n",
       "    <tr>\n",
       "      <th>Date</th>\n",
       "      <th></th>\n",
       "      <th></th>\n",
       "      <th></th>\n",
       "      <th></th>\n",
       "      <th></th>\n",
       "      <th></th>\n",
       "    </tr>\n",
       "  </thead>\n",
       "  <tbody>\n",
       "    <tr>\n",
       "      <th>2022-12-27</th>\n",
       "      <td>18132.30</td>\n",
       "      <td>18138.00</td>\n",
       "      <td>0.000200</td>\n",
       "      <td>0</td>\n",
       "      <td>18132.300000</td>\n",
       "      <td>18132.300000</td>\n",
       "    </tr>\n",
       "    <tr>\n",
       "      <th>2022-12-26</th>\n",
       "      <td>18014.60</td>\n",
       "      <td>18027.30</td>\n",
       "      <td>0.000201</td>\n",
       "      <td>1</td>\n",
       "      <td>18018.212297</td>\n",
       "      <td>18018.212297</td>\n",
       "    </tr>\n",
       "    <tr>\n",
       "      <th>2022-12-23</th>\n",
       "      <td>17806.80</td>\n",
       "      <td>17863.90</td>\n",
       "      <td>0.000200</td>\n",
       "      <td>2</td>\n",
       "      <td>17813.940283</td>\n",
       "      <td>17813.940999</td>\n",
       "    </tr>\n",
       "    <tr>\n",
       "      <th>2022-12-22</th>\n",
       "      <td>18127.35</td>\n",
       "      <td>18170.35</td>\n",
       "      <td>0.000200</td>\n",
       "      <td>3</td>\n",
       "      <td>18138.250249</td>\n",
       "      <td>18138.252434</td>\n",
       "    </tr>\n",
       "    <tr>\n",
       "      <th>2022-12-21</th>\n",
       "      <td>18199.10</td>\n",
       "      <td>18275.90</td>\n",
       "      <td>0.000200</td>\n",
       "      <td>4</td>\n",
       "      <td>18213.633353</td>\n",
       "      <td>18213.637705</td>\n",
       "    </tr>\n",
       "  </tbody>\n",
       "</table>\n",
       "</div>"
      ],
      "text/plain": [
       "               Nifty    Future      Bond  Days_remaining      F_Simple  \\\n",
       "Date                                                                     \n",
       "2022-12-27  18132.30  18138.00  0.000200               0  18132.300000   \n",
       "2022-12-26  18014.60  18027.30  0.000201               1  18018.212297   \n",
       "2022-12-23  17806.80  17863.90  0.000200               2  17813.940283   \n",
       "2022-12-22  18127.35  18170.35  0.000200               3  18138.250249   \n",
       "2022-12-21  18199.10  18275.90  0.000200               4  18213.633353   \n",
       "\n",
       "              F_Compound  \n",
       "Date                      \n",
       "2022-12-27  18132.300000  \n",
       "2022-12-26  18018.212297  \n",
       "2022-12-23  17813.940999  \n",
       "2022-12-22  18138.252434  \n",
       "2022-12-21  18213.637705  "
      ]
     },
     "execution_count": 11,
     "metadata": {},
     "output_type": "execute_result"
    }
   ],
   "source": [
    "merged.head()"
   ]
  },
  {
   "attachments": {},
   "cell_type": "markdown",
   "metadata": {},
   "source": [
    "Let's plot the historical future price of the stock and the calculated future price of the stock."
   ]
  },
  {
   "cell_type": "code",
   "execution_count": 12,
   "metadata": {},
   "outputs": [
    {
     "data": {
      "text/html": [
       "<div>                            <div id=\"d6462651-24c8-4618-90ea-2e4e3b245fdd\" class=\"plotly-graph-div\" style=\"height:525px; width:100%;\"></div>            <script type=\"text/javascript\">                require([\"plotly\"], function(Plotly) {                    window.PLOTLYENV=window.PLOTLYENV || {};                                    if (document.getElementById(\"d6462651-24c8-4618-90ea-2e4e3b245fdd\")) {                    Plotly.newPlot(                        \"d6462651-24c8-4618-90ea-2e4e3b245fdd\",                        [{\"name\":\"Nifty\",\"x\":[\"2022-12-27T00:00:00\",\"2022-12-26T00:00:00\",\"2022-12-23T00:00:00\",\"2022-12-22T00:00:00\",\"2022-12-21T00:00:00\",\"2022-12-20T00:00:00\",\"2022-12-19T00:00:00\",\"2022-12-16T00:00:00\",\"2022-12-15T00:00:00\",\"2022-12-14T00:00:00\",\"2022-12-13T00:00:00\",\"2022-12-12T00:00:00\",\"2022-12-09T00:00:00\",\"2022-12-08T00:00:00\",\"2022-12-07T00:00:00\",\"2022-12-06T00:00:00\",\"2022-12-05T00:00:00\",\"2022-12-02T00:00:00\",\"2022-12-01T00:00:00\",\"2022-11-30T00:00:00\",\"2022-11-29T00:00:00\",\"2022-11-28T00:00:00\",\"2022-11-25T00:00:00\",\"2022-11-24T00:00:00\",\"2022-11-23T00:00:00\",\"2022-11-22T00:00:00\",\"2022-11-21T00:00:00\",\"2022-11-18T00:00:00\",\"2022-11-17T00:00:00\",\"2022-11-16T00:00:00\",\"2022-11-15T00:00:00\",\"2022-11-14T00:00:00\",\"2022-11-11T00:00:00\",\"2022-11-10T00:00:00\",\"2022-11-09T00:00:00\",\"2022-11-07T00:00:00\",\"2022-11-04T00:00:00\",\"2022-11-03T00:00:00\",\"2022-11-01T00:00:00\",\"2022-10-31T00:00:00\",\"2022-10-28T00:00:00\",\"2022-10-27T00:00:00\",\"2022-10-25T00:00:00\",\"2022-10-21T00:00:00\",\"2022-10-20T00:00:00\",\"2022-10-19T00:00:00\",\"2022-10-18T00:00:00\",\"2022-10-17T00:00:00\",\"2022-10-14T00:00:00\",\"2022-10-13T00:00:00\",\"2022-10-12T00:00:00\",\"2022-10-11T00:00:00\",\"2022-10-10T00:00:00\",\"2022-10-07T00:00:00\",\"2022-10-06T00:00:00\",\"2022-10-04T00:00:00\",\"2022-10-03T00:00:00\",\"2022-09-30T00:00:00\"],\"y\":[18132.3,18014.6,17806.8,18127.35,18199.1,18385.3,18420.45,18269.0,18414.9,18660.3,18608.0,18497.15,18496.6,18609.35,18560.5,18642.75,18701.05,18696.1,18812.5,18758.35,18618.05,18562.75,18512.75,18484.1,18267.25,18244.2,18159.95,18307.65,18343.9,18409.65,18403.4,18329.15,18349.7,18028.2,18157.0,18202.8,18117.15,18052.7,18145.4,18012.2,17786.8,17736.95,17656.35,17576.3,17563.95,17512.25,17486.95,17311.8,17185.7,17014.35,17123.6,16983.55,17241.0,17314.65,17331.8,17274.3,16887.35,17094.35],\"type\":\"scatter\"},{\"name\":\"Future\",\"x\":[\"2022-12-27T00:00:00\",\"2022-12-26T00:00:00\",\"2022-12-23T00:00:00\",\"2022-12-22T00:00:00\",\"2022-12-21T00:00:00\",\"2022-12-20T00:00:00\",\"2022-12-19T00:00:00\",\"2022-12-16T00:00:00\",\"2022-12-15T00:00:00\",\"2022-12-14T00:00:00\",\"2022-12-13T00:00:00\",\"2022-12-12T00:00:00\",\"2022-12-09T00:00:00\",\"2022-12-08T00:00:00\",\"2022-12-07T00:00:00\",\"2022-12-06T00:00:00\",\"2022-12-05T00:00:00\",\"2022-12-02T00:00:00\",\"2022-12-01T00:00:00\",\"2022-11-30T00:00:00\",\"2022-11-29T00:00:00\",\"2022-11-28T00:00:00\",\"2022-11-25T00:00:00\",\"2022-11-24T00:00:00\",\"2022-11-23T00:00:00\",\"2022-11-22T00:00:00\",\"2022-11-21T00:00:00\",\"2022-11-18T00:00:00\",\"2022-11-17T00:00:00\",\"2022-11-16T00:00:00\",\"2022-11-15T00:00:00\",\"2022-11-14T00:00:00\",\"2022-11-11T00:00:00\",\"2022-11-10T00:00:00\",\"2022-11-09T00:00:00\",\"2022-11-07T00:00:00\",\"2022-11-04T00:00:00\",\"2022-11-03T00:00:00\",\"2022-11-01T00:00:00\",\"2022-10-31T00:00:00\",\"2022-10-28T00:00:00\",\"2022-10-27T00:00:00\",\"2022-10-25T00:00:00\",\"2022-10-21T00:00:00\",\"2022-10-20T00:00:00\",\"2022-10-19T00:00:00\",\"2022-10-18T00:00:00\",\"2022-10-17T00:00:00\",\"2022-10-14T00:00:00\",\"2022-10-13T00:00:00\",\"2022-10-12T00:00:00\",\"2022-10-11T00:00:00\",\"2022-10-10T00:00:00\",\"2022-10-07T00:00:00\",\"2022-10-06T00:00:00\",\"2022-10-04T00:00:00\",\"2022-10-03T00:00:00\",\"2022-09-30T00:00:00\"],\"y\":[18138.0,18027.3,17863.9,18170.35,18275.9,18423.95,18499.3,18328.65,18467.0,18748.9,18703.85,18605.2,18583.65,18720.15,18670.25,18771.35,18817.75,18812.55,18948.3,18874.5,18733.6,18694.1,18646.1,18626.15,18396.85,18373.85,18284.05,18442.9,18470.65,18539.55,18554.3,18468.55,18514.45,18182.35,18299.95,18347.45,18270.05,18186.2,18274.45,18109.95,17893.1,17848.0,17748.45,17656.05,17637.05,17587.65,17588.3,17394.25,17293.75,17110.6,17217.4,17087.75,17328.25,17432.25,17430.2,17393.45,17002.4,17212.3],\"type\":\"scatter\"},{\"name\":\"F_Compound\",\"x\":[\"2022-12-27T00:00:00\",\"2022-12-26T00:00:00\",\"2022-12-23T00:00:00\",\"2022-12-22T00:00:00\",\"2022-12-21T00:00:00\",\"2022-12-20T00:00:00\",\"2022-12-19T00:00:00\",\"2022-12-16T00:00:00\",\"2022-12-15T00:00:00\",\"2022-12-14T00:00:00\",\"2022-12-13T00:00:00\",\"2022-12-12T00:00:00\",\"2022-12-09T00:00:00\",\"2022-12-08T00:00:00\",\"2022-12-07T00:00:00\",\"2022-12-06T00:00:00\",\"2022-12-05T00:00:00\",\"2022-12-02T00:00:00\",\"2022-12-01T00:00:00\",\"2022-11-30T00:00:00\",\"2022-11-29T00:00:00\",\"2022-11-28T00:00:00\",\"2022-11-25T00:00:00\",\"2022-11-24T00:00:00\",\"2022-11-23T00:00:00\",\"2022-11-22T00:00:00\",\"2022-11-21T00:00:00\",\"2022-11-18T00:00:00\",\"2022-11-17T00:00:00\",\"2022-11-16T00:00:00\",\"2022-11-15T00:00:00\",\"2022-11-14T00:00:00\",\"2022-11-11T00:00:00\",\"2022-11-10T00:00:00\",\"2022-11-09T00:00:00\",\"2022-11-07T00:00:00\",\"2022-11-04T00:00:00\",\"2022-11-03T00:00:00\",\"2022-11-01T00:00:00\",\"2022-10-31T00:00:00\",\"2022-10-28T00:00:00\",\"2022-10-27T00:00:00\",\"2022-10-25T00:00:00\",\"2022-10-21T00:00:00\",\"2022-10-20T00:00:00\",\"2022-10-19T00:00:00\",\"2022-10-18T00:00:00\",\"2022-10-17T00:00:00\",\"2022-10-14T00:00:00\",\"2022-10-13T00:00:00\",\"2022-10-12T00:00:00\",\"2022-10-11T00:00:00\",\"2022-10-10T00:00:00\",\"2022-10-07T00:00:00\",\"2022-10-06T00:00:00\",\"2022-10-04T00:00:00\",\"2022-10-03T00:00:00\",\"2022-09-30T00:00:00\"],\"y\":[18132.3,18018.21229746301,17813.94099866014,18138.25243368076,18213.63770533572,18403.690135041434,18442.556502074363,18294.525302024496,18444.25513585012,18693.55135211249,18645.07075872814,18537.850934328133,18541.03460912787,18657.7126869805,18612.315749058376,18698.364794200454,18760.3747643605,18759.078441843318,18879.50246377226,18829.564186951397,18692.448817639946,18640.59088554731,18594.38859143597,18568.787739139283,18355.026166394757,18335.451925194197,18254.878213083008,18406.864071260152,18446.63486683979,18516.343051976175,18513.54787857836,18442.92872164341,18467.61617970747,18148.32226789305,18282.357177861308,18333.00882069312,18251.092382043793,18190.12699298329,18285.643618669532,18156.042518046685,17931.929718222094,17885.225790991022,17808.182032453034,17732.49919505826,17722.938261250718,17673.844996891527,17651.358179121828,17477.689172377133,17355.339291901164,17184.707226183826,17298.87591361382,17160.671550653908,17425.591774716224,17503.208131104744,17523.97028339048,17466.97847099372,17081.933804886958,17292.966704977094],\"type\":\"scatter\"},{\"name\":\"F_Simple\",\"x\":[\"2022-12-27T00:00:00\",\"2022-12-26T00:00:00\",\"2022-12-23T00:00:00\",\"2022-12-22T00:00:00\",\"2022-12-21T00:00:00\",\"2022-12-20T00:00:00\",\"2022-12-19T00:00:00\",\"2022-12-16T00:00:00\",\"2022-12-15T00:00:00\",\"2022-12-14T00:00:00\",\"2022-12-13T00:00:00\",\"2022-12-12T00:00:00\",\"2022-12-09T00:00:00\",\"2022-12-08T00:00:00\",\"2022-12-07T00:00:00\",\"2022-12-06T00:00:00\",\"2022-12-05T00:00:00\",\"2022-12-02T00:00:00\",\"2022-12-01T00:00:00\",\"2022-11-30T00:00:00\",\"2022-11-29T00:00:00\",\"2022-11-28T00:00:00\",\"2022-11-25T00:00:00\",\"2022-11-24T00:00:00\",\"2022-11-23T00:00:00\",\"2022-11-22T00:00:00\",\"2022-11-21T00:00:00\",\"2022-11-18T00:00:00\",\"2022-11-17T00:00:00\",\"2022-11-16T00:00:00\",\"2022-11-15T00:00:00\",\"2022-11-14T00:00:00\",\"2022-11-11T00:00:00\",\"2022-11-10T00:00:00\",\"2022-11-09T00:00:00\",\"2022-11-07T00:00:00\",\"2022-11-04T00:00:00\",\"2022-11-03T00:00:00\",\"2022-11-01T00:00:00\",\"2022-10-31T00:00:00\",\"2022-10-28T00:00:00\",\"2022-10-27T00:00:00\",\"2022-10-25T00:00:00\",\"2022-10-21T00:00:00\",\"2022-10-20T00:00:00\",\"2022-10-19T00:00:00\",\"2022-10-18T00:00:00\",\"2022-10-17T00:00:00\",\"2022-10-14T00:00:00\",\"2022-10-13T00:00:00\",\"2022-10-12T00:00:00\",\"2022-10-11T00:00:00\",\"2022-10-10T00:00:00\",\"2022-10-07T00:00:00\",\"2022-10-06T00:00:00\",\"2022-10-04T00:00:00\",\"2022-10-03T00:00:00\",\"2022-09-30T00:00:00\"],\"y\":[18132.3,18018.21229746301,17813.940282871234,18138.25024870685,18213.633352515066,18403.682781465755,18442.54545594247,18294.510030767124,18444.2346834411,18693.525047580824,18645.03756712329,18537.810283098628,18540.985758926025,18657.654774147944,18612.2487080274,18698.28751839041,18760.28672867945,18758.978825964383,18879.390034246575,18829.43643758904,18692.307964904106,18640.43587160274,18594.217258369863,18568.602721821917,18354.82469791781,18335.23355958904,18254.64045709589,18406.60610851644,18446.358471375344,18516.045672024662,18513.230482794523,18442.58835609726,18467.250691857535,18147.935895550683,18281.93906317808,18332.558535123288,18250.61333590685,18189.62057950137,18285.118585731507,18155.48581728767,17931.35551649315,17884.62444409315,17807.548339216435,17731.82521479178,17722.23920462466,17673.120407226026,17650.606771841096,17476.916154032875,17354.524783342466,17183.877254227395,17298.002693150684,17159.772245405482,17424.629403616436,17502.207981287673,17522.932241336985,17465.931145561644,17080.84109229589,17291.841728057534],\"type\":\"scatter\"}],                        {\"template\":{\"data\":{\"histogram2dcontour\":[{\"type\":\"histogram2dcontour\",\"colorbar\":{\"outlinewidth\":0,\"ticks\":\"\"},\"colorscale\":[[0.0,\"#0d0887\"],[0.1111111111111111,\"#46039f\"],[0.2222222222222222,\"#7201a8\"],[0.3333333333333333,\"#9c179e\"],[0.4444444444444444,\"#bd3786\"],[0.5555555555555556,\"#d8576b\"],[0.6666666666666666,\"#ed7953\"],[0.7777777777777778,\"#fb9f3a\"],[0.8888888888888888,\"#fdca26\"],[1.0,\"#f0f921\"]]}],\"choropleth\":[{\"type\":\"choropleth\",\"colorbar\":{\"outlinewidth\":0,\"ticks\":\"\"}}],\"histogram2d\":[{\"type\":\"histogram2d\",\"colorbar\":{\"outlinewidth\":0,\"ticks\":\"\"},\"colorscale\":[[0.0,\"#0d0887\"],[0.1111111111111111,\"#46039f\"],[0.2222222222222222,\"#7201a8\"],[0.3333333333333333,\"#9c179e\"],[0.4444444444444444,\"#bd3786\"],[0.5555555555555556,\"#d8576b\"],[0.6666666666666666,\"#ed7953\"],[0.7777777777777778,\"#fb9f3a\"],[0.8888888888888888,\"#fdca26\"],[1.0,\"#f0f921\"]]}],\"heatmap\":[{\"type\":\"heatmap\",\"colorbar\":{\"outlinewidth\":0,\"ticks\":\"\"},\"colorscale\":[[0.0,\"#0d0887\"],[0.1111111111111111,\"#46039f\"],[0.2222222222222222,\"#7201a8\"],[0.3333333333333333,\"#9c179e\"],[0.4444444444444444,\"#bd3786\"],[0.5555555555555556,\"#d8576b\"],[0.6666666666666666,\"#ed7953\"],[0.7777777777777778,\"#fb9f3a\"],[0.8888888888888888,\"#fdca26\"],[1.0,\"#f0f921\"]]}],\"heatmapgl\":[{\"type\":\"heatmapgl\",\"colorbar\":{\"outlinewidth\":0,\"ticks\":\"\"},\"colorscale\":[[0.0,\"#0d0887\"],[0.1111111111111111,\"#46039f\"],[0.2222222222222222,\"#7201a8\"],[0.3333333333333333,\"#9c179e\"],[0.4444444444444444,\"#bd3786\"],[0.5555555555555556,\"#d8576b\"],[0.6666666666666666,\"#ed7953\"],[0.7777777777777778,\"#fb9f3a\"],[0.8888888888888888,\"#fdca26\"],[1.0,\"#f0f921\"]]}],\"contourcarpet\":[{\"type\":\"contourcarpet\",\"colorbar\":{\"outlinewidth\":0,\"ticks\":\"\"}}],\"contour\":[{\"type\":\"contour\",\"colorbar\":{\"outlinewidth\":0,\"ticks\":\"\"},\"colorscale\":[[0.0,\"#0d0887\"],[0.1111111111111111,\"#46039f\"],[0.2222222222222222,\"#7201a8\"],[0.3333333333333333,\"#9c179e\"],[0.4444444444444444,\"#bd3786\"],[0.5555555555555556,\"#d8576b\"],[0.6666666666666666,\"#ed7953\"],[0.7777777777777778,\"#fb9f3a\"],[0.8888888888888888,\"#fdca26\"],[1.0,\"#f0f921\"]]}],\"surface\":[{\"type\":\"surface\",\"colorbar\":{\"outlinewidth\":0,\"ticks\":\"\"},\"colorscale\":[[0.0,\"#0d0887\"],[0.1111111111111111,\"#46039f\"],[0.2222222222222222,\"#7201a8\"],[0.3333333333333333,\"#9c179e\"],[0.4444444444444444,\"#bd3786\"],[0.5555555555555556,\"#d8576b\"],[0.6666666666666666,\"#ed7953\"],[0.7777777777777778,\"#fb9f3a\"],[0.8888888888888888,\"#fdca26\"],[1.0,\"#f0f921\"]]}],\"mesh3d\":[{\"type\":\"mesh3d\",\"colorbar\":{\"outlinewidth\":0,\"ticks\":\"\"}}],\"scatter\":[{\"marker\":{\"line\":{\"color\":\"#283442\"}},\"type\":\"scatter\"}],\"parcoords\":[{\"type\":\"parcoords\",\"line\":{\"colorbar\":{\"outlinewidth\":0,\"ticks\":\"\"}}}],\"scatterpolargl\":[{\"type\":\"scatterpolargl\",\"marker\":{\"colorbar\":{\"outlinewidth\":0,\"ticks\":\"\"}}}],\"bar\":[{\"error_x\":{\"color\":\"#f2f5fa\"},\"error_y\":{\"color\":\"#f2f5fa\"},\"marker\":{\"line\":{\"color\":\"rgb(17,17,17)\",\"width\":0.5},\"pattern\":{\"fillmode\":\"overlay\",\"size\":10,\"solidity\":0.2}},\"type\":\"bar\"}],\"scattergeo\":[{\"type\":\"scattergeo\",\"marker\":{\"colorbar\":{\"outlinewidth\":0,\"ticks\":\"\"}}}],\"scatterpolar\":[{\"type\":\"scatterpolar\",\"marker\":{\"colorbar\":{\"outlinewidth\":0,\"ticks\":\"\"}}}],\"histogram\":[{\"marker\":{\"pattern\":{\"fillmode\":\"overlay\",\"size\":10,\"solidity\":0.2}},\"type\":\"histogram\"}],\"scattergl\":[{\"marker\":{\"line\":{\"color\":\"#283442\"}},\"type\":\"scattergl\"}],\"scatter3d\":[{\"type\":\"scatter3d\",\"line\":{\"colorbar\":{\"outlinewidth\":0,\"ticks\":\"\"}},\"marker\":{\"colorbar\":{\"outlinewidth\":0,\"ticks\":\"\"}}}],\"scattermapbox\":[{\"type\":\"scattermapbox\",\"marker\":{\"colorbar\":{\"outlinewidth\":0,\"ticks\":\"\"}}}],\"scatterternary\":[{\"type\":\"scatterternary\",\"marker\":{\"colorbar\":{\"outlinewidth\":0,\"ticks\":\"\"}}}],\"scattercarpet\":[{\"type\":\"scattercarpet\",\"marker\":{\"colorbar\":{\"outlinewidth\":0,\"ticks\":\"\"}}}],\"carpet\":[{\"aaxis\":{\"endlinecolor\":\"#A2B1C6\",\"gridcolor\":\"#506784\",\"linecolor\":\"#506784\",\"minorgridcolor\":\"#506784\",\"startlinecolor\":\"#A2B1C6\"},\"baxis\":{\"endlinecolor\":\"#A2B1C6\",\"gridcolor\":\"#506784\",\"linecolor\":\"#506784\",\"minorgridcolor\":\"#506784\",\"startlinecolor\":\"#A2B1C6\"},\"type\":\"carpet\"}],\"table\":[{\"cells\":{\"fill\":{\"color\":\"#506784\"},\"line\":{\"color\":\"rgb(17,17,17)\"}},\"header\":{\"fill\":{\"color\":\"#2a3f5f\"},\"line\":{\"color\":\"rgb(17,17,17)\"}},\"type\":\"table\"}],\"barpolar\":[{\"marker\":{\"line\":{\"color\":\"rgb(17,17,17)\",\"width\":0.5},\"pattern\":{\"fillmode\":\"overlay\",\"size\":10,\"solidity\":0.2}},\"type\":\"barpolar\"}],\"pie\":[{\"automargin\":true,\"type\":\"pie\"}]},\"layout\":{\"autotypenumbers\":\"strict\",\"colorway\":[\"#636efa\",\"#EF553B\",\"#00cc96\",\"#ab63fa\",\"#FFA15A\",\"#19d3f3\",\"#FF6692\",\"#B6E880\",\"#FF97FF\",\"#FECB52\"],\"font\":{\"color\":\"#f2f5fa\"},\"hovermode\":\"closest\",\"hoverlabel\":{\"align\":\"left\"},\"paper_bgcolor\":\"rgb(17,17,17)\",\"plot_bgcolor\":\"rgb(17,17,17)\",\"polar\":{\"bgcolor\":\"rgb(17,17,17)\",\"angularaxis\":{\"gridcolor\":\"#506784\",\"linecolor\":\"#506784\",\"ticks\":\"\"},\"radialaxis\":{\"gridcolor\":\"#506784\",\"linecolor\":\"#506784\",\"ticks\":\"\"}},\"ternary\":{\"bgcolor\":\"rgb(17,17,17)\",\"aaxis\":{\"gridcolor\":\"#506784\",\"linecolor\":\"#506784\",\"ticks\":\"\"},\"baxis\":{\"gridcolor\":\"#506784\",\"linecolor\":\"#506784\",\"ticks\":\"\"},\"caxis\":{\"gridcolor\":\"#506784\",\"linecolor\":\"#506784\",\"ticks\":\"\"}},\"coloraxis\":{\"colorbar\":{\"outlinewidth\":0,\"ticks\":\"\"}},\"colorscale\":{\"sequential\":[[0.0,\"#0d0887\"],[0.1111111111111111,\"#46039f\"],[0.2222222222222222,\"#7201a8\"],[0.3333333333333333,\"#9c179e\"],[0.4444444444444444,\"#bd3786\"],[0.5555555555555556,\"#d8576b\"],[0.6666666666666666,\"#ed7953\"],[0.7777777777777778,\"#fb9f3a\"],[0.8888888888888888,\"#fdca26\"],[1.0,\"#f0f921\"]],\"sequentialminus\":[[0.0,\"#0d0887\"],[0.1111111111111111,\"#46039f\"],[0.2222222222222222,\"#7201a8\"],[0.3333333333333333,\"#9c179e\"],[0.4444444444444444,\"#bd3786\"],[0.5555555555555556,\"#d8576b\"],[0.6666666666666666,\"#ed7953\"],[0.7777777777777778,\"#fb9f3a\"],[0.8888888888888888,\"#fdca26\"],[1.0,\"#f0f921\"]],\"diverging\":[[0,\"#8e0152\"],[0.1,\"#c51b7d\"],[0.2,\"#de77ae\"],[0.3,\"#f1b6da\"],[0.4,\"#fde0ef\"],[0.5,\"#f7f7f7\"],[0.6,\"#e6f5d0\"],[0.7,\"#b8e186\"],[0.8,\"#7fbc41\"],[0.9,\"#4d9221\"],[1,\"#276419\"]]},\"xaxis\":{\"gridcolor\":\"#283442\",\"linecolor\":\"#506784\",\"ticks\":\"\",\"title\":{\"standoff\":15},\"zerolinecolor\":\"#283442\",\"automargin\":true,\"zerolinewidth\":2},\"yaxis\":{\"gridcolor\":\"#283442\",\"linecolor\":\"#506784\",\"ticks\":\"\",\"title\":{\"standoff\":15},\"zerolinecolor\":\"#283442\",\"automargin\":true,\"zerolinewidth\":2},\"scene\":{\"xaxis\":{\"backgroundcolor\":\"rgb(17,17,17)\",\"gridcolor\":\"#506784\",\"linecolor\":\"#506784\",\"showbackground\":true,\"ticks\":\"\",\"zerolinecolor\":\"#C8D4E3\",\"gridwidth\":2},\"yaxis\":{\"backgroundcolor\":\"rgb(17,17,17)\",\"gridcolor\":\"#506784\",\"linecolor\":\"#506784\",\"showbackground\":true,\"ticks\":\"\",\"zerolinecolor\":\"#C8D4E3\",\"gridwidth\":2},\"zaxis\":{\"backgroundcolor\":\"rgb(17,17,17)\",\"gridcolor\":\"#506784\",\"linecolor\":\"#506784\",\"showbackground\":true,\"ticks\":\"\",\"zerolinecolor\":\"#C8D4E3\",\"gridwidth\":2}},\"shapedefaults\":{\"line\":{\"color\":\"#f2f5fa\"}},\"annotationdefaults\":{\"arrowcolor\":\"#f2f5fa\",\"arrowhead\":0,\"arrowwidth\":1},\"geo\":{\"bgcolor\":\"rgb(17,17,17)\",\"landcolor\":\"rgb(17,17,17)\",\"subunitcolor\":\"#506784\",\"showland\":true,\"showlakes\":true,\"lakecolor\":\"rgb(17,17,17)\"},\"title\":{\"x\":0.05},\"updatemenudefaults\":{\"bgcolor\":\"#506784\",\"borderwidth\":0},\"sliderdefaults\":{\"bgcolor\":\"#C8D4E3\",\"borderwidth\":1,\"bordercolor\":\"rgb(17,17,17)\",\"tickwidth\":0},\"mapbox\":{\"style\":\"dark\"}}}},                        {\"responsive\": true}                    ).then(function(){\n",
       "                            \n",
       "var gd = document.getElementById('d6462651-24c8-4618-90ea-2e4e3b245fdd');\n",
       "var x = new MutationObserver(function (mutations, observer) {{\n",
       "        var display = window.getComputedStyle(gd).display;\n",
       "        if (!display || display === 'none') {{\n",
       "            console.log([gd, 'removed!']);\n",
       "            Plotly.purge(gd);\n",
       "            observer.disconnect();\n",
       "        }}\n",
       "}});\n",
       "\n",
       "// Listen for the removal of the full notebook cells\n",
       "var notebookContainer = gd.closest('#notebook-container');\n",
       "if (notebookContainer) {{\n",
       "    x.observe(notebookContainer, {childList: true});\n",
       "}}\n",
       "\n",
       "// Listen for the clearing of the current output cell\n",
       "var outputEl = gd.closest('.output');\n",
       "if (outputEl) {{\n",
       "    x.observe(outputEl, {childList: true});\n",
       "}}\n",
       "\n",
       "                        })                };                });            </script>        </div>"
      ]
     },
     "metadata": {},
     "output_type": "display_data"
    }
   ],
   "source": [
    "fig = go.Figure()\n",
    "fig.add_trace(go.Scatter(x=merged.index, y=merged[\"Nifty\"], name=\"Nifty\"))\n",
    "fig.add_trace(go.Scatter(x=merged.index, y=merged[\"Future\"], name=\"Future\"))\n",
    "fig.add_trace(go.Scatter(x=merged.index, y=merged[\"F_Compound\"], name=\"F_Compound\"))\n",
    "fig.add_trace(go.Scatter(x=merged.index, y=merged[\"F_Simple\"], name=\"F_Simple\"))\n",
    "fig.show()\n"
   ]
  },
  {
   "attachments": {},
   "cell_type": "markdown",
   "metadata": {},
   "source": [
    "We see that the calculated future price of the stock is very close to the historical future price of the stock. Though the calculated value is slightly lower than the historical value. This can be attributed to the fact that there is also a price due to supply and demand of the stock."
   ]
  }
 ],
 "metadata": {
  "kernelspec": {
   "display_name": "data-science",
   "language": "python",
   "name": "python3"
  },
  "language_info": {
   "codemirror_mode": {
    "name": "ipython",
    "version": 3
   },
   "file_extension": ".py",
   "mimetype": "text/x-python",
   "name": "python",
   "nbconvert_exporter": "python",
   "pygments_lexer": "ipython3",
   "version": "3.9.15 (main, Nov 24 2022, 14:31:59) \n[GCC 11.2.0]"
  },
  "orig_nbformat": 4,
  "vscode": {
   "interpreter": {
    "hash": "2efee1efa502125d01e6b4768ba06d9453d29f3642bfd14ad5d4a769de82e88c"
   }
  }
 },
 "nbformat": 4,
 "nbformat_minor": 2
}
