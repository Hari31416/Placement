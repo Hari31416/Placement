{
 "cells": [
  {
   "attachments": {},
   "cell_type": "markdown",
   "metadata": {},
   "source": [
    "<h1 id=\"Contents\">Contents<a href=\"#Contents\"></a></h1>\n",
    "        <ol>\n",
    "        <li><a class=\"\" href=\"#Efficient-Market-Hypothesis\">Efficient Market Hypothesis</a></li>\n",
    "<ol><li><a class=\"\" href=\"#Weak-Form\">Weak Form</a></li>\n",
    "<li><a class=\"\" href=\"#Semi-Strong-Form\">Semi-Strong Form</a></li>\n",
    "<li><a class=\"\" href=\"#Strong-Form\">Strong Form</a></li>\n",
    "</ol><li><a class=\"\" href=\"#Behavioral-Finance-Hypothesis\">Behavioral Finance Hypothesis</a></li>\n",
    "<ol><li><a class=\"\" href=\"#Expected-Utility-Theory\">Expected Utility Theory</a></li>\n",
    "<ol><li><a class=\"\" href=\"#Expected-Utility\">Expected Utility</a></li>\n",
    "<li><a class=\"\" href=\"#Marginal-Utility\">Marginal Utility</a></li>\n",
    "</ol><li><a class=\"\" href=\"#Prospect-Theory\">Prospect Theory</a></li>\n",
    "<ol><li><a class=\"\" href=\"#Value-Function-in-Prospect-Theory\">Value Function in Prospect Theory</a></li>\n",
    "</ol>"
   ]
  },
  {
   "attachments": {},
   "cell_type": "markdown",
   "metadata": {},
   "source": [
    "# Efficient Market Hypothesis"
   ]
  },
  {
   "attachments": {},
   "cell_type": "markdown",
   "metadata": {},
   "source": [
    "The efficient market hypothesis (EMH), alternatively known as the efficient market theory, is a hypothesis that states that share prices reflect all information.\n",
    "\n",
    "According to the EMH, stocks always trade at their fair value on exchanges, making it impossible for investors to purchase undervalued stocks or sell stocks for inflated prices. Therefore, it should be impossible to outperform the overall market through expert stock selection or market timing, and the only way an investor can obtain higher returns is by purchasing riskier investments."
   ]
  },
  {
   "attachments": {},
   "cell_type": "markdown",
   "metadata": {},
   "source": [
    "## Weak Form"
   ]
  },
  {
   "attachments": {},
   "cell_type": "markdown",
   "metadata": {},
   "source": [
    "Weak form efficiency claims that past price movements, volume, and earnings data do not affect a stock’s price and can’t be used to predict its future direction. This is essentially same as the random walk hypothesis."
   ]
  },
  {
   "attachments": {},
   "cell_type": "markdown",
   "metadata": {},
   "source": [
    "Advocates of weak form efficiency believe all current information is reflected in stock prices and past information has no relationship with current market prices."
   ]
  },
  {
   "attachments": {},
   "cell_type": "markdown",
   "metadata": {},
   "source": [
    "Weak form efficiency doesn’t consider technical analysis to be accurate and asserts that even fundamental analysis, at times, can be flawed. It’s therefore extremely difficult, according to weak form efficiency, to outperform the market, especially in the short term. For example, if a person agrees with this type of efficiency, they believe that there’s no point in having a financial advisor or active portfolio manager. Instead, investors who advocate weak form efficiency assume they can randomly pick an investment or a portfolio that will provide similar returns."
   ]
  },
  {
   "attachments": {},
   "cell_type": "markdown",
   "metadata": {},
   "source": [
    "## Semi-Strong Form"
   ]
  },
  {
   "attachments": {},
   "cell_type": "markdown",
   "metadata": {},
   "source": [
    "Semi-strong form efficiency is an aspect of the Efficient Market Hypothesis (EMH) that assumes that current stock prices adjust rapidly to the release of all new public information."
   ]
  },
  {
   "attachments": {},
   "cell_type": "markdown",
   "metadata": {},
   "source": [
    "Semi-strong form efficiency contends that security prices have factored in publicly-available market and that price changes to new equilibrium levels are reflections of that information. It is considered the most practical of all EMH hypotheses  but is unable to explain the context for material nonpublic information (MNPI)."
   ]
  },
  {
   "attachments": {},
   "cell_type": "markdown",
   "metadata": {},
   "source": [
    "It concludes that neither fundamental nor technical analysis can be used to achieve superior gains and suggests that only MNPI would benefit investors seeking to earn above average returns on investments."
   ]
  },
  {
   "attachments": {},
   "cell_type": "markdown",
   "metadata": {},
   "source": [
    "## Strong Form"
   ]
  },
  {
   "attachments": {},
   "cell_type": "markdown",
   "metadata": {},
   "source": [
    "Strong form efficiency is the most stringent version of the efficient market hypothesis (EMH) investment theory, stating that all information in a market, whether public or private, is accounted for in a stock's price."
   ]
  },
  {
   "attachments": {},
   "cell_type": "markdown",
   "metadata": {},
   "source": [
    "Practitioners of strong form efficiency believe that even insider information cannot give an investor an advantage. This degree of market efficiency implies that profits exceeding normal returns cannot be realized regardless of the amount of research or information investors have access to."
   ]
  },
  {
   "attachments": {},
   "cell_type": "markdown",
   "metadata": {},
   "source": [
    "# Behavioral Finance Hypothesis"
   ]
  },
  {
   "attachments": {},
   "cell_type": "markdown",
   "metadata": {},
   "source": [
    "Behavioral finance, a subfield of behavioral economics, proposes that psychological influences and biases affect the financial behaviors of investors and financial practitioners. Moreover, influences and biases can be the source for the explanation of all types of market anomalies and specifically market anomalies in the stock market, such as severe rises or falls in stock price."
   ]
  },
  {
   "attachments": {},
   "cell_type": "markdown",
   "metadata": {},
   "source": [
    "## Expected Utility Theory\n"
   ]
  },
  {
   "attachments": {},
   "cell_type": "markdown",
   "metadata": {},
   "source": [
    "In economics, utility is a term used to determine the worth or value of a good or service. More specifically, utility is the total satisfaction or benefit derived from consuming a good or service. Economic theories based on rational choice usually assume that consumers will strive to maximize their utility."
   ]
  },
  {
   "attachments": {},
   "cell_type": "markdown",
   "metadata": {},
   "source": [
    "People are rational and are trying to maximize their utility which is an measure of happiness.\n"
   ]
  },
  {
   "attachments": {},
   "cell_type": "markdown",
   "metadata": {},
   "source": [
    "### Expected Utility"
   ]
  },
  {
   "attachments": {},
   "cell_type": "markdown",
   "metadata": {},
   "source": [
    "\"Expected utility\" is an economic term summarizing the utility that an entity or aggregate economy is expected to reach under any number of circumstances. The expected utility is calculated by taking the weighted average of all possible outcomes under certain circumstances. With the weights being assigned by the likelihood or probability, any particular event will occur."
   ]
  },
  {
   "attachments": {},
   "cell_type": "markdown",
   "metadata": {},
   "source": [
    "Expected utility theory is then used for analyzing situations in which individuals must make a decision without knowing the outcomes that may result from that decision"
   ]
  },
  {
   "attachments": {},
   "cell_type": "markdown",
   "metadata": {},
   "source": [
    ">The expected utility of an entity is derived from the expected utility hypothesis. This hypothesis states that under uncertainty, the weighted average of all possible levels of utility will best represent the utility at any given point in time."
   ]
  },
  {
   "attachments": {},
   "cell_type": "markdown",
   "metadata": {},
   "source": [
    "Let's say you have a 50% chance of winning 100 and a 50% chance of losing 100. The expected utility of this gamble is 0. The expected utility of a gamble is the sum of the product of the probability of each outcome and the utility of that outcome. "
   ]
  },
  {
   "attachments": {},
   "cell_type": "markdown",
   "metadata": {},
   "source": [
    "As another example, consider the case of lottery tickets. Suppose there is a lottey of 1000 tickets and winner gets 100,000. Also assume that each lottery ticket costs 100. We'll calculate the expected utility of buying a lottery ticket."
   ]
  },
  {
   "cell_type": "code",
   "execution_count": 3,
   "metadata": {},
   "outputs": [
    {
     "name": "stdout",
     "output_type": "stream",
     "text": [
      "The utility of buying the ticket is 10.0\n"
     ]
    }
   ],
   "source": [
    "N = 1000\n",
    "G = 100000\n",
    "L = 1000\n",
    "p_w = 10/1000\n",
    "p_l = 1- p_w\n",
    "\n",
    "utility = p_w*G - p_l*L\n",
    "print(\"The utility of buying the ticket is\", utility)"
   ]
  },
  {
   "attachments": {},
   "cell_type": "markdown",
   "metadata": {},
   "source": [
    "This is small but positive expected utility. This means that buying a lottery ticket is a good idea."
   ]
  },
  {
   "attachments": {},
   "cell_type": "markdown",
   "metadata": {},
   "source": [
    "### Marginal Utility"
   ]
  },
  {
   "attachments": {},
   "cell_type": "markdown",
   "metadata": {},
   "source": [
    "Marginal utility is the added satisfaction that a consumer gets from having one more unit of a good or service. The concept of marginal utility is used by economists to determine how much of an item consumers are willing to purchase.\n",
    "\n",
    "Positive marginal utility occurs when the consumption of an additional item increases the total utility. On the other hand, negative marginal utility occurs when the consumption of one more unit decreases the overall utility."
   ]
  },
  {
   "attachments": {},
   "cell_type": "markdown",
   "metadata": {},
   "source": [
    "## Prospect Theory\n"
   ]
  },
  {
   "attachments": {},
   "cell_type": "markdown",
   "metadata": {},
   "source": [
    "Prospect theory is is a experimentally based set of knowledge about mistakes that people make. This is based on research by Kahneman and Tversky of people making decisions under uncertainty and is a modification of the expected utility theory. The theory is based on some real life facts such as:\n",
    "\n",
    "1. People are overly focused on little losses, little gains and losses.\n",
    "2. Another thing is that people will often try to gamble out of losses. If you went to the casino and you lost money, you think, maybe I should gamble some more, maybe I can get back to where I was.\n",
    "3. People have a skewed representation of probability, and they do not treat gains and losses equivalently.\n"
   ]
  },
  {
   "attachments": {},
   "cell_type": "markdown",
   "metadata": {},
   "source": [
    "Prospect theory assumes that losses and gains are valued differently, and thus individuals make decisions based on perceived gains instead of perceived losses. Also known as the \"loss-aversion\" theory, the general concept is that if two choices are put before an individual, both equal, with one presented in terms of potential gains and the other in terms of possible losses, the former option will be chosen."
   ]
  },
  {
   "attachments": {},
   "cell_type": "markdown",
   "metadata": {},
   "source": [
    "The main assumption of the prospect theory is that people are not very rational; which is in contrast with the traditional economic models that people are very sensible and calculating.\n"
   ]
  },
  {
   "attachments": {},
   "cell_type": "markdown",
   "metadata": {},
   "source": [
    "> Efficient market hypothesis and behavioral finance are two main revolution of past 50-60 years. These two revolutions are kind of incompatible views of the world. But they both offer insights, they're both exciting.\n"
   ]
  },
  {
   "attachments": {},
   "cell_type": "markdown",
   "metadata": {},
   "source": [
    "### Value Function in Prospect Theory\n"
   ]
  },
  {
   "attachments": {},
   "cell_type": "markdown",
   "metadata": {},
   "source": [
    "Tversky and Kahneman proposed that losses cause a greater emotional impact on an individual than does an equivalent amount of gain, so given choices presented two ways—with both offering the same result—an individual will pick the option offering perceived gains."
   ]
  },
  {
   "attachments": {},
   "cell_type": "markdown",
   "metadata": {},
   "source": [
    "For example, assume that the end result of receiving 25. One option is being given 25 outright. The other option is being given 50 and then having to give back 25. The utility of the 25 is exactly the same in both options. However, individuals are most likely to choose to receive straight cash because a single gain is generally observed as more favorable than initially having more cash and then suffering a loss.\n",
    "\n"
   ]
  },
  {
   "attachments": {},
   "cell_type": "markdown",
   "metadata": {},
   "source": [
    "![](https://www.cnr.com/content/dam/cnrcom/articles/other/wp-behavioral-finance-fig-1.JPG)\n"
   ]
  },
  {
   "attachments": {},
   "cell_type": "markdown",
   "metadata": {},
   "source": [
    "Example: Let's say I toss a coin. If it turns head, I'll give you 200 and if it turns tail you'll give me 100. So, you have an expected return of 50. By expected utility theory, you should take the bet. However, people don't usually take the bet.\n"
   ]
  },
  {
   "attachments": {},
   "cell_type": "markdown",
   "metadata": {},
   "source": [
    "This can be understood by the prospect thoery. People don't take the bet because the gaining 200 gives a little happiness but losing 100 gives a lot of unhappiness. This is called the **loss aversion** namely, people are more afraid of loosing. (\"You are always worried about little losses today.\")\n"
   ]
  },
  {
   "attachments": {},
   "cell_type": "markdown",
   "metadata": {},
   "source": [
    "![](https://www.dreamendstate.com/wp-content/uploads/2021/02/ProspectTheory-1200x903.jpg)\n"
   ]
  }
 ],
 "metadata": {
  "kernelspec": {
   "display_name": "data-science",
   "language": "python",
   "name": "python3"
  },
  "language_info": {
   "codemirror_mode": {
    "name": "ipython",
    "version": 3
   },
   "file_extension": ".py",
   "mimetype": "text/x-python",
   "name": "python",
   "nbconvert_exporter": "python",
   "pygments_lexer": "ipython3",
   "version": "3.9.15"
  },
  "orig_nbformat": 4,
  "vscode": {
   "interpreter": {
    "hash": "2efee1efa502125d01e6b4768ba06d9453d29f3642bfd14ad5d4a769de82e88c"
   }
  }
 },
 "nbformat": 4,
 "nbformat_minor": 2
}
