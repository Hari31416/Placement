{
 "cells": [
  {
   "cell_type": "code",
   "execution_count": 1,
   "metadata": {},
   "outputs": [],
   "source": [
    "import sys\n",
    "sys.path.append('../../tools')"
   ]
  },
  {
   "cell_type": "code",
   "execution_count": 2,
   "metadata": {
    "scrolled": true
   },
   "outputs": [],
   "source": [
    "from files.notebook import Notebook"
   ]
  },
  {
   "cell_type": "code",
   "execution_count": 3,
   "metadata": {},
   "outputs": [],
   "source": [
    "nb = Notebook()"
   ]
  },
  {
   "cell_type": "code",
   "execution_count": 4,
   "metadata": {},
   "outputs": [
    {
     "data": {
      "text/plain": [
       "['./CAPM.ipynb',\n",
       " './Module_1.ipynb',\n",
       " './Module_2.ipynb',\n",
       " './Module_3.ipynb',\n",
       " './Module_4.ipynb',\n",
       " './Module_5.ipynb',\n",
       " './Polygon.ipynb',\n",
       " './temp.ipynb']"
      ]
     },
     "execution_count": 4,
     "metadata": {},
     "output_type": "execute_result"
    }
   ],
   "source": [
    "nb.notebooks"
   ]
  },
  {
   "cell_type": "code",
   "execution_count": 5,
   "metadata": {},
   "outputs": [
    {
     "name": "stdout",
     "output_type": "stream",
     "text": [
      "Converting the Notebook to HTML.\n",
      "Looking for the Headers and their positions.\n",
      "Getting correct order of the Headers.\n",
      "Creating the Contents.\n",
      "Content copied to clipboard.\n"
     ]
    },
    {
     "name": "stderr",
     "output_type": "stream",
     "text": [
      "qt.qpa.plugin: Could not find the Qt platform plugin \"wayland\" in \"\"\n"
     ]
    }
   ],
   "source": [
    "text = nb.create_content(nb.notebooks[-3], return_string=True)"
   ]
  },
  {
   "cell_type": "code",
   "execution_count": 6,
   "metadata": {},
   "outputs": [
    {
     "name": "stdout",
     "output_type": "stream",
     "text": [
      "<h1 id=\"Contents\">Contents<a href=\"#Contents\"></a></h1>\n",
      "        <ol>\n",
      "        <li><a class=\"\" href=\"#Imports\">Imports</a></li>\n",
      "<li><a class=\"\" href=\"#Topics-cum-Notes\">Topics cum Notes</a></li>\n",
      "<ol><li><a class=\"\" href=\"#L12\">L12</a></li>\n",
      "<ol><li><a class=\"\" href=\"#Hedging\">Hedging</a></li>\n",
      "<li><a class=\"\" href=\"#Forward-and-Future-Markets\">Forward and Future Markets</a></li>\n",
      "<li><a class=\"\" href=\"#Forwrad-Contracts\">Forwrad Contracts</a></li>\n",
      "<li><a class=\"\" href=\"#Forward-Interest-Parity\">Forward Interest Parity</a></li>\n",
      "<li><a class=\"\" href=\"#Forward-Rate-Agreement\">Forward Rate Agreement</a></li>\n",
      "<li><a class=\"\" href=\"#Futures-Contracts\">Futures Contracts</a></li>\n",
      "<li><a class=\"\" href=\"#Margins\">Margins</a></li>\n",
      "<li><a class=\"\" href=\"#Margin-Calls\">Margin Calls</a></li>\n",
      "<li><a class=\"\" href=\"#Contango\">Contango</a></li>\n",
      "<li><a class=\"\" href=\"#Buying/Selling-Futures\">Buying/Selling Futures</a></li>\n",
      "<li><a class=\"\" href=\"#Daily-Settlement\">Daily Settlement</a></li>\n",
      "<li><a class=\"\" href=\"#Arbitrage\">Arbitrage</a></li>\n",
      "<li><a class=\"\" href=\"#Fair-Value-in-Futures-Contracts\">Fair Value in Futures Contracts</a></li>\n",
      "<li><a class=\"\" href=\"#Oil-Futures\">Oil Futures</a></li>\n",
      "<li><a class=\"\" href=\"#SPI-Futures\">SPI Futures</a></li>\n",
      "</ol><li><a class=\"\" href=\"#L13\">L13</a></li>\n",
      "<ol><li><a class=\"\" href=\"#Options\">Options</a></li>\n",
      "<li><a class=\"\" href=\"#Call-Option\">Call Option</a></li>\n",
      "<li><a class=\"\" href=\"#Put-Option\">Put Option</a></li>\n",
      "<li><a class=\"\" href=\"#Difference-between-Futures-and-Options\">Difference between Futures and Options</a></li>\n",
      "<li><a class=\"\" href=\"#Terms-of-Options\">Terms of Options</a></li>\n",
      "<li><a class=\"\" href=\"#Reading-Options-Prices\">Reading Options Prices</a></li>\n",
      "<li><a class=\"\" href=\"#Bid,-Ask-and-Last-Price\">Bid, Ask and Last Price</a></li>\n",
      "<li><a class=\"\" href=\"#Why-Options-Exist?\">Why Options Exist?</a></li>\n",
      "<li><a class=\"\" href=\"#European-and-American-Options\">European and American Options</a></li>\n",
      "<li><a class=\"\" href=\"#Put/Call-Parity\">Put/Call Parity</a></li>\n",
      "<li><a class=\"\" href=\"#Put-Call-Parity-Relationship\">Put-Call Parity Relationship</a></li>\n",
      "<li><a class=\"\" href=\"#Using-Options-to-Hedge\">Using Options to Hedge</a></li>\n",
      "</ol>\n"
     ]
    }
   ],
   "source": [
    "print(text)"
   ]
  },
  {
   "cell_type": "code",
   "execution_count": 7,
   "metadata": {},
   "outputs": [
    {
     "data": {
      "text/plain": [
       "'./Module_4.html'"
      ]
     },
     "execution_count": 7,
     "metadata": {},
     "output_type": "execute_result"
    }
   ],
   "source": [
    "nb.export_notebook(nb.notebooks[-2])"
   ]
  },
  {
   "cell_type": "code",
   "execution_count": 11,
   "metadata": {},
   "outputs": [
    {
     "name": "stderr",
     "output_type": "stream",
     "text": [
      "Exporting notebooks...: 100%|██████████| 3/3 [00:02<00:00,  1.11it/s]\n"
     ]
    }
   ],
   "source": [
    "files = nb.export_directory()"
   ]
  },
  {
   "cell_type": "code",
   "execution_count": 12,
   "metadata": {},
   "outputs": [
    {
     "data": {
      "text/plain": [
       "['././CAPM.html', '././Module_1.html', '././temp.html']"
      ]
     },
     "execution_count": 12,
     "metadata": {},
     "output_type": "execute_result"
    }
   ],
   "source": [
    "files"
   ]
  },
  {
   "cell_type": "code",
   "execution_count": 14,
   "metadata": {},
   "outputs": [
    {
     "name": "stdout",
     "output_type": "stream",
     "text": [
      "<ul><li>\n",
      "            <a href=\"Notes/Finance/CAPM.html\" target=\"blank\" class=\"links\">CAPM</a>\n",
      "          </li><li>\n",
      "            <a href=\"Notes/Finance/Module_1.html\" target=\"blank\" class=\"links\">Module 1</a>\n",
      "          </li></ul>\n"
     ]
    }
   ],
   "source": [
    "start = \"<ul>\"\n",
    "end = \"</ul>\"\n",
    "for f in files:\n",
    "    if \"temp\" in f:\n",
    "        continue\n",
    "    file = f.split(\"/\")[-1]\n",
    "    name = file.split(\".\")[0]\n",
    "    name = name.replace(\"_\", \" \")\n",
    "    start+=f\"\"\"<li>\n",
    "            <a href=\"Notes/Finance/{file}\" target=\"blank\" class=\"links\">{name}</a>\n",
    "          </li>\"\"\"\n",
    "start+=end\n",
    "print(start)"
   ]
  },
  {
   "cell_type": "code",
   "execution_count": 20,
   "metadata": {},
   "outputs": [
    {
     "name": "stderr",
     "output_type": "stream",
     "text": [
      "QXcbClipboard::setMimeData: Cannot set X11 selection owner\n"
     ]
    }
   ],
   "source": [
    "import pyperclip\n",
    "pyperclip.copy(text)"
   ]
  },
  {
   "cell_type": "code",
   "execution_count": 13,
   "metadata": {},
   "outputs": [
    {
     "data": {
      "text/plain": [
       "['.\\\\Easy_1.ipynb',\n",
       " '.\\\\Easy_2.ipynb',\n",
       " '.\\\\Easy_3.ipynb',\n",
       " '.\\\\Hard_1.ipynb',\n",
       " '.\\\\Medium_1.ipynb',\n",
       " '.\\\\Medium_2.ipynb',\n",
       " '.\\\\temp.ipynb']"
      ]
     },
     "execution_count": 13,
     "metadata": {},
     "output_type": "execute_result"
    }
   ],
   "source": [
    "nb.notebooks"
   ]
  },
  {
   "cell_type": "code",
   "execution_count": 15,
   "metadata": {},
   "outputs": [
    {
     "data": {
      "text/plain": [
       "'.\\\\Easy_3.html'"
      ]
     },
     "execution_count": 15,
     "metadata": {},
     "output_type": "execute_result"
    }
   ],
   "source": [
    "nb.export_notebook(nb.notebooks[2])"
   ]
  },
  {
   "cell_type": "code",
   "execution_count": null,
   "metadata": {},
   "outputs": [],
   "source": []
  }
 ],
 "metadata": {
  "kernelspec": {
   "display_name": "data-science",
   "language": "python",
   "name": "python3"
  },
  "language_info": {
   "codemirror_mode": {
    "name": "ipython",
    "version": 3
   },
   "file_extension": ".py",
   "mimetype": "text/x-python",
   "name": "python",
   "nbconvert_exporter": "python",
   "pygments_lexer": "ipython3",
   "version": "3.9.15"
  },
  "vscode": {
   "interpreter": {
    "hash": "2efee1efa502125d01e6b4768ba06d9453d29f3642bfd14ad5d4a769de82e88c"
   }
  }
 },
 "nbformat": 4,
 "nbformat_minor": 2
}
