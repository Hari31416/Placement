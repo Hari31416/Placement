{
 "cells": [
  {
   "cell_type": "code",
   "execution_count": 1,
   "metadata": {},
   "outputs": [],
   "source": [
    "import sys\n",
    "sys.path.append('../../tools')"
   ]
  },
  {
   "cell_type": "code",
   "execution_count": 2,
   "metadata": {
    "scrolled": true
   },
   "outputs": [],
   "source": [
    "from files.notebook import Notebook"
   ]
  },
  {
   "cell_type": "code",
   "execution_count": 3,
   "metadata": {},
   "outputs": [],
   "source": [
    "nb = Notebook()"
   ]
  },
  {
   "cell_type": "code",
   "execution_count": 4,
   "metadata": {},
   "outputs": [
    {
     "data": {
      "text/plain": [
       "['./CAPM.ipynb', './Module_1.ipynb', './temp.ipynb']"
      ]
     },
     "execution_count": 4,
     "metadata": {},
     "output_type": "execute_result"
    }
   ],
   "source": [
    "nb.notebooks"
   ]
  },
  {
   "cell_type": "code",
   "execution_count": 9,
   "metadata": {},
   "outputs": [
    {
     "name": "stdout",
     "output_type": "stream",
     "text": [
      "Converting the Notebook to HTML.\n",
      "Looking for the Headers and their positions.\n",
      "Getting correct order of the Headers.\n",
      "Creating the Contents.\n",
      "Content copied to clipboard.\n"
     ]
    },
    {
     "name": "stderr",
     "output_type": "stream",
     "text": [
      "QXcbClipboard::setMimeData: Cannot set X11 selection owner\n"
     ]
    }
   ],
   "source": [
    "text = nb.create_content(nb.notebooks[1], return_string=True)"
   ]
  },
  {
   "cell_type": "code",
   "execution_count": 10,
   "metadata": {},
   "outputs": [
    {
     "name": "stdout",
     "output_type": "stream",
     "text": [
      "<h2 id=\"Contents\">Contents<a href=\"#Contents\"></a></h2>\n",
      "        <ol>\n",
      "        <li><a class=\"\" href=\"#Imports\">Imports</a></li>\n",
      "<li><a class=\"\" href=\"#Topics-cum-Notes\">Topics cum Notes</a></li>\n",
      "<ol><li><a class=\"\" href=\"#L1\">L1</a></li>\n",
      "<li><a class=\"\" href=\"#L2\">L2</a></li>\n",
      "<ol><li><a class=\"\" href=\"#Var-Variance/Value-at-Risk\">Var Variance/Value at Risk</a></li>\n",
      "<li><a class=\"\" href=\"#Stress-Testing\">Stress Testing</a></li>\n",
      "<li><a class=\"\" href=\"#S&amp;P-500\">S&P 500</a></li>\n",
      "<li><a class=\"\" href=\"#Beta\">Beta</a></li>\n",
      "<li><a class=\"\" href=\"#Market-and-Idiosyncratic-Risk\">Market and Idiosyncratic Risk</a></li>\n",
      "<li><a class=\"\" href=\"#Normal-and-Cauchy-Distribution\">Normal and Cauchy Distribution</a></li>\n",
      "<li><a class=\"\" href=\"#Central-Limit-Theorem\">Central Limit Theorem</a></li>\n",
      "<li><a class=\"\" href=\"#Covariance-and-Correlation\">Covariance and Correlation</a></li>\n",
      "</ol><li><a class=\"\" href=\"#L3\">L3</a></li>\n",
      "<ol><li><a class=\"\" href=\"#Insurance\">Insurance</a></li>\n",
      "<li><a class=\"\" href=\"#Risk-Pooling\">Risk Pooling</a></li>\n",
      "<li><a class=\"\" href=\"#Moral-Hazard-and-Selection-Bias\">Moral Hazard and Selection Bias</a></li>\n",
      "<li><a class=\"\" href=\"#Health-Insurance\">Health Insurance</a></li>\n",
      "<li><a class=\"\" href=\"#The-Health-Maintenance-Organization\">The Health Maintenance Organization</a></li>\n",
      "<li><a class=\"\" href=\"#EMTALA-(Emergency-Medical-Treatment-and-Active-Labor-Act)\">EMTALA (Emergency Medical Treatment and Active Labor Act)</a></li>\n",
      "</ol><li><a class=\"\" href=\"#L4\">L4</a></li>\n",
      "<ol><li><a class=\"\" href=\"#Portfolio-Management-as-an-Alternative-to-Insurance\">Portfolio Management as an Alternative to Insurance</a></li>\n",
      "<li><a class=\"\" href=\"#Portfolio-Diversification\">Portfolio Diversification</a></li>\n",
      "<li><a class=\"\" href=\"#Hedge-Funds\">Hedge Funds</a></li>\n",
      "<li><a class=\"\" href=\"#Systematic-Risk\">Systematic Risk</a></li>\n",
      "<li><a class=\"\" href=\"#Captial-Asset-Pricing-Model-(CAPM)\">Captial Asset Pricing Model (CAPM)</a></li>\n",
      "<li><a class=\"\" href=\"#Short-Sales\">Short Sales</a></li>\n",
      "<li><a class=\"\" href=\"#Calculating-the-Optimal-Portfolio\">Calculating the Optimal Portfolio</a></li>\n",
      "<li><a class=\"\" href=\"#Efficient-Portfolio-Frontier\">Efficient Portfolio Frontier</a></li>\n",
      "<li><a class=\"\" href=\"#Gordon-Growth-Model\">Gordon Growth Model</a></li>\n",
      "</ol>\n"
     ]
    }
   ],
   "source": [
    "print(text)"
   ]
  },
  {
   "cell_type": "code",
   "execution_count": 11,
   "metadata": {},
   "outputs": [
    {
     "name": "stderr",
     "output_type": "stream",
     "text": [
      "Exporting notebooks...: 100%|██████████| 3/3 [00:02<00:00,  1.11it/s]\n"
     ]
    }
   ],
   "source": [
    "files = nb.export_directory()"
   ]
  },
  {
   "cell_type": "code",
   "execution_count": 12,
   "metadata": {},
   "outputs": [
    {
     "data": {
      "text/plain": [
       "['././CAPM.html', '././Module_1.html', '././temp.html']"
      ]
     },
     "execution_count": 12,
     "metadata": {},
     "output_type": "execute_result"
    }
   ],
   "source": [
    "files"
   ]
  },
  {
   "cell_type": "code",
   "execution_count": 14,
   "metadata": {},
   "outputs": [
    {
     "name": "stdout",
     "output_type": "stream",
     "text": [
      "<ul><li>\n",
      "            <a href=\"Notes/Finance/CAPM.html\" target=\"blank\" class=\"links\">CAPM</a>\n",
      "          </li><li>\n",
      "            <a href=\"Notes/Finance/Module_1.html\" target=\"blank\" class=\"links\">Module 1</a>\n",
      "          </li></ul>\n"
     ]
    }
   ],
   "source": [
    "start = \"<ul>\"\n",
    "end = \"</ul>\"\n",
    "for f in files:\n",
    "    if \"temp\" in f:\n",
    "        continue\n",
    "    file = f.split(\"/\")[-1]\n",
    "    name = file.split(\".\")[0]\n",
    "    name = name.replace(\"_\", \" \")\n",
    "    start+=f\"\"\"<li>\n",
    "            <a href=\"Notes/Finance/{file}\" target=\"blank\" class=\"links\">{name}</a>\n",
    "          </li>\"\"\"\n",
    "start+=end\n",
    "print(start)"
   ]
  },
  {
   "cell_type": "code",
   "execution_count": 20,
   "metadata": {},
   "outputs": [
    {
     "name": "stderr",
     "output_type": "stream",
     "text": [
      "QXcbClipboard::setMimeData: Cannot set X11 selection owner\n"
     ]
    }
   ],
   "source": [
    "import pyperclip\n",
    "pyperclip.copy(text)"
   ]
  },
  {
   "cell_type": "code",
   "execution_count": 13,
   "metadata": {},
   "outputs": [
    {
     "data": {
      "text/plain": [
       "['.\\\\Easy_1.ipynb',\n",
       " '.\\\\Easy_2.ipynb',\n",
       " '.\\\\Easy_3.ipynb',\n",
       " '.\\\\Hard_1.ipynb',\n",
       " '.\\\\Medium_1.ipynb',\n",
       " '.\\\\Medium_2.ipynb',\n",
       " '.\\\\temp.ipynb']"
      ]
     },
     "execution_count": 13,
     "metadata": {},
     "output_type": "execute_result"
    }
   ],
   "source": [
    "nb.notebooks"
   ]
  },
  {
   "cell_type": "code",
   "execution_count": 15,
   "metadata": {},
   "outputs": [
    {
     "data": {
      "text/plain": [
       "'.\\\\Easy_3.html'"
      ]
     },
     "execution_count": 15,
     "metadata": {},
     "output_type": "execute_result"
    }
   ],
   "source": [
    "nb.export_notebook(nb.notebooks[2])"
   ]
  },
  {
   "cell_type": "code",
   "execution_count": null,
   "metadata": {},
   "outputs": [],
   "source": []
  }
 ],
 "metadata": {
  "kernelspec": {
   "display_name": "Python 3 (ipykernel)",
   "language": "python",
   "name": "python3"
  },
  "language_info": {
   "codemirror_mode": {
    "name": "ipython",
    "version": 3
   },
   "file_extension": ".py",
   "mimetype": "text/x-python",
   "name": "python",
   "nbconvert_exporter": "python",
   "pygments_lexer": "ipython3",
   "version": "3.9.15"
  },
  "vscode": {
   "interpreter": {
    "hash": "2efee1efa502125d01e6b4768ba06d9453d29f3642bfd14ad5d4a769de82e88c"
   }
  }
 },
 "nbformat": 4,
 "nbformat_minor": 2
}
