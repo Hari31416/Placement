{
 "cells": [
  {
   "cell_type": "code",
   "execution_count": 1,
   "metadata": {},
   "outputs": [],
   "source": [
    "import sys\n",
    "sys.path.append('../../tools')"
   ]
  },
  {
   "cell_type": "code",
   "execution_count": 2,
   "metadata": {
    "scrolled": true
   },
   "outputs": [],
   "source": [
    "from files.notebook import Notebook"
   ]
  },
  {
   "cell_type": "code",
   "execution_count": 3,
   "metadata": {},
   "outputs": [],
   "source": [
    "nb = Notebook()"
   ]
  },
  {
   "cell_type": "code",
   "execution_count": 4,
   "metadata": {},
   "outputs": [
    {
     "data": {
      "text/plain": [
       "['./CAPM.ipynb',\n",
       " './Module_1.ipynb',\n",
       " './Module_2.ipynb',\n",
       " './Module_3.ipynb',\n",
       " './Module_4.ipynb',\n",
       " './temp.ipynb']"
      ]
     },
     "execution_count": 4,
     "metadata": {},
     "output_type": "execute_result"
    }
   ],
   "source": [
    "nb.notebooks"
   ]
  },
  {
   "cell_type": "code",
   "execution_count": 5,
   "metadata": {},
   "outputs": [
    {
     "name": "stdout",
     "output_type": "stream",
     "text": [
      "Converting the Notebook to HTML.\n",
      "Looking for the Headers and their positions.\n",
      "Getting correct order of the Headers.\n",
      "Creating the Contents.\n",
      "Content copied to clipboard.\n"
     ]
    },
    {
     "name": "stderr",
     "output_type": "stream",
     "text": [
      "qt.qpa.plugin: Could not find the Qt platform plugin \"wayland\" in \"\"\n"
     ]
    }
   ],
   "source": [
    "text = nb.create_content(nb.notebooks[-3], return_string=True)"
   ]
  },
  {
   "cell_type": "code",
   "execution_count": 6,
   "metadata": {},
   "outputs": [
    {
     "name": "stdout",
     "output_type": "stream",
     "text": [
      "<h2 id=\"Contents\">Contents<a href=\"#Contents\"></a></h2>\n",
      "        <ol>\n",
      "        <li><a class=\"\" href=\"#Imports\">Imports</a></li>\n",
      "<li><a class=\"\" href=\"#Topics-cum-Notes\">Topics cum Notes</a></li>\n",
      "<ol><li><a class=\"\" href=\"#L8\">L8</a></li>\n",
      "<ol><li><a class=\"\" href=\"#Term\">Term</a></li>\n",
      "<li><a class=\"\" href=\"#Federal-Funds-Rate-and-EONIA\">Federal Funds Rate and EONIA</a></li>\n",
      "<li><a class=\"\" href=\"#Interest-and-Compound-Interest\">Interest and Compound Interest</a></li>\n",
      "<li><a class=\"\" href=\"#Continuos-Compounding\">Continuos Compounding</a></li>\n",
      "<li><a class=\"\" href=\"#Bonds\">Bonds</a></li>\n",
      "<li><a class=\"\" href=\"#Discount-Bonds\">Discount Bonds</a></li>\n",
      "<li><a class=\"\" href=\"#Consol\">Consol</a></li>\n",
      "<li><a class=\"\" href=\"#Forward-Rate\">Forward Rate</a></li>\n",
      "<li><a class=\"\" href=\"#Real-Interest-Rate\">Real Interest Rate</a></li>\n",
      "<li><a class=\"\" href=\"#Leverage\">Leverage</a></li>\n",
      "</ol><li><a class=\"\" href=\"#L9\">L9</a></li>\n",
      "<ol><li><a class=\"\" href=\"#Corporation\">Corporation</a></li>\n",
      "<li><a class=\"\" href=\"#For-Profit-and-Non-Profit\">For-Profit and Non-Profit</a></li>\n",
      "<li><a class=\"\" href=\"#Shares\">Shares</a></li>\n",
      "<li><a class=\"\" href=\"#Share-Splitting\">Share Splitting</a></li>\n",
      "<li><a class=\"\" href=\"#Market-Cap\">Market Cap</a></li>\n",
      "<li><a class=\"\" href=\"#Dividend\">Dividend</a></li>\n",
      "<li><a class=\"\" href=\"#Classes-of-Shares\">Classes of Shares</a></li>\n",
      "<li><a class=\"\" href=\"#Dilution\">Dilution</a></li>\n",
      "<li><a class=\"\" href=\"#Stock-Dividend\">Stock Dividend</a></li>\n",
      "<li><a class=\"\" href=\"#Share-Repurchase\">Share Repurchase</a></li>\n",
      "<li><a class=\"\" href=\"#P/E-Ratio\">P/E Ratio</a></li>\n",
      "<li><a class=\"\" href=\"#Pecking-Order-Theory\">Pecking Order Theory</a></li>\n",
      "</ol>\n"
     ]
    }
   ],
   "source": [
    "print(text)"
   ]
  },
  {
   "cell_type": "code",
   "execution_count": 11,
   "metadata": {},
   "outputs": [
    {
     "data": {
      "text/plain": [
       "'./Module_3.html'"
      ]
     },
     "execution_count": 11,
     "metadata": {},
     "output_type": "execute_result"
    }
   ],
   "source": [
    "nb.export_notebook(nb.notebooks[-3])"
   ]
  },
  {
   "cell_type": "code",
   "execution_count": 11,
   "metadata": {},
   "outputs": [
    {
     "name": "stderr",
     "output_type": "stream",
     "text": [
      "Exporting notebooks...: 100%|██████████| 3/3 [00:02<00:00,  1.11it/s]\n"
     ]
    }
   ],
   "source": [
    "files = nb.export_directory()"
   ]
  },
  {
   "cell_type": "code",
   "execution_count": 12,
   "metadata": {},
   "outputs": [
    {
     "data": {
      "text/plain": [
       "['././CAPM.html', '././Module_1.html', '././temp.html']"
      ]
     },
     "execution_count": 12,
     "metadata": {},
     "output_type": "execute_result"
    }
   ],
   "source": [
    "files"
   ]
  },
  {
   "cell_type": "code",
   "execution_count": 14,
   "metadata": {},
   "outputs": [
    {
     "name": "stdout",
     "output_type": "stream",
     "text": [
      "<ul><li>\n",
      "            <a href=\"Notes/Finance/CAPM.html\" target=\"blank\" class=\"links\">CAPM</a>\n",
      "          </li><li>\n",
      "            <a href=\"Notes/Finance/Module_1.html\" target=\"blank\" class=\"links\">Module 1</a>\n",
      "          </li></ul>\n"
     ]
    }
   ],
   "source": [
    "start = \"<ul>\"\n",
    "end = \"</ul>\"\n",
    "for f in files:\n",
    "    if \"temp\" in f:\n",
    "        continue\n",
    "    file = f.split(\"/\")[-1]\n",
    "    name = file.split(\".\")[0]\n",
    "    name = name.replace(\"_\", \" \")\n",
    "    start+=f\"\"\"<li>\n",
    "            <a href=\"Notes/Finance/{file}\" target=\"blank\" class=\"links\">{name}</a>\n",
    "          </li>\"\"\"\n",
    "start+=end\n",
    "print(start)"
   ]
  },
  {
   "cell_type": "code",
   "execution_count": 20,
   "metadata": {},
   "outputs": [
    {
     "name": "stderr",
     "output_type": "stream",
     "text": [
      "QXcbClipboard::setMimeData: Cannot set X11 selection owner\n"
     ]
    }
   ],
   "source": [
    "import pyperclip\n",
    "pyperclip.copy(text)"
   ]
  },
  {
   "cell_type": "code",
   "execution_count": 13,
   "metadata": {},
   "outputs": [
    {
     "data": {
      "text/plain": [
       "['.\\\\Easy_1.ipynb',\n",
       " '.\\\\Easy_2.ipynb',\n",
       " '.\\\\Easy_3.ipynb',\n",
       " '.\\\\Hard_1.ipynb',\n",
       " '.\\\\Medium_1.ipynb',\n",
       " '.\\\\Medium_2.ipynb',\n",
       " '.\\\\temp.ipynb']"
      ]
     },
     "execution_count": 13,
     "metadata": {},
     "output_type": "execute_result"
    }
   ],
   "source": [
    "nb.notebooks"
   ]
  },
  {
   "cell_type": "code",
   "execution_count": 15,
   "metadata": {},
   "outputs": [
    {
     "data": {
      "text/plain": [
       "'.\\\\Easy_3.html'"
      ]
     },
     "execution_count": 15,
     "metadata": {},
     "output_type": "execute_result"
    }
   ],
   "source": [
    "nb.export_notebook(nb.notebooks[2])"
   ]
  },
  {
   "cell_type": "code",
   "execution_count": null,
   "metadata": {},
   "outputs": [],
   "source": []
  }
 ],
 "metadata": {
  "kernelspec": {
   "display_name": "data-science",
   "language": "python",
   "name": "python3"
  },
  "language_info": {
   "codemirror_mode": {
    "name": "ipython",
    "version": 3
   },
   "file_extension": ".py",
   "mimetype": "text/x-python",
   "name": "python",
   "nbconvert_exporter": "python",
   "pygments_lexer": "ipython3",
   "version": "3.9.15"
  },
  "vscode": {
   "interpreter": {
    "hash": "2efee1efa502125d01e6b4768ba06d9453d29f3642bfd14ad5d4a769de82e88c"
   }
  }
 },
 "nbformat": 4,
 "nbformat_minor": 2
}
