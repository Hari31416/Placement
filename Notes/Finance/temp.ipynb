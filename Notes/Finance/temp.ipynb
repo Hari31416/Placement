{
 "cells": [
  {
   "cell_type": "code",
   "execution_count": 1,
   "metadata": {},
   "outputs": [],
   "source": [
    "import sys\n",
    "sys.path.append('../../tools')"
   ]
  },
  {
   "cell_type": "code",
   "execution_count": 2,
   "metadata": {
    "scrolled": true
   },
   "outputs": [],
   "source": [
    "from files.notebook import Notebook"
   ]
  },
  {
   "cell_type": "code",
   "execution_count": 3,
   "metadata": {},
   "outputs": [],
   "source": [
    "nb = Notebook()"
   ]
  },
  {
   "cell_type": "code",
   "execution_count": 4,
   "metadata": {},
   "outputs": [
    {
     "data": {
      "text/plain": [
       "['./CAPM.ipynb',\n",
       " './Module_1.ipynb',\n",
       " './Module_2.ipynb',\n",
       " './Module_3.ipynb',\n",
       " './Module_4.ipynb',\n",
       " './temp.ipynb']"
      ]
     },
     "execution_count": 4,
     "metadata": {},
     "output_type": "execute_result"
    }
   ],
   "source": [
    "nb.notebooks"
   ]
  },
  {
   "cell_type": "code",
   "execution_count": 5,
   "metadata": {},
   "outputs": [
    {
     "name": "stdout",
     "output_type": "stream",
     "text": [
      "Converting the Notebook to HTML.\n",
      "Looking for the Headers and their positions.\n",
      "Getting correct order of the Headers.\n",
      "Creating the Contents.\n",
      "Content copied to clipboard.\n"
     ]
    },
    {
     "name": "stderr",
     "output_type": "stream",
     "text": [
      "qt.qpa.plugin: Could not find the Qt platform plugin \"wayland\" in \"\"\n"
     ]
    }
   ],
   "source": [
    "text = nb.create_content(nb.notebooks[-2], return_string=True)"
   ]
  },
  {
   "cell_type": "code",
   "execution_count": 6,
   "metadata": {},
   "outputs": [
    {
     "name": "stdout",
     "output_type": "stream",
     "text": [
      "<h2 id=\"Contents\">Contents<a href=\"#Contents\"></a></h2>\n",
      "        <ol>\n",
      "        <li><a class=\"\" href=\"#Imports\">Imports</a></li>\n",
      "<li><a class=\"\" href=\"#Topics-cum-Notes\">Topics cum Notes</a></li>\n",
      "<ol><li><a class=\"\" href=\"#L10\">L10</a></li>\n",
      "<ol><li><a class=\"\" href=\"#Inverted-Yield-Curve\">Inverted Yield Curve</a></li>\n",
      "<li><a class=\"\" href=\"#LIBOR-OIS-Spread\">LIBOR-OIS Spread</a></li>\n",
      "<li><a class=\"\" href=\"#Mortgage\">Mortgage</a></li>\n",
      "<li><a class=\"\" href=\"#Commercial-Real-Estate-Vehicles\">Commercial Real Estate Vehicles</a></li>\n",
      "<li><a class=\"\" href=\"#Real-Estate\">Real Estate</a></li>\n",
      "<li><a class=\"\" href=\"#Real-Estate-Investment-Trust-(REIT)\">Real Estate Investment Trust (REIT)</a></li>\n",
      "<li><a class=\"\" href=\"#Limited-Partnership\">Limited Partnership</a></li>\n",
      "<li><a class=\"\" href=\"#Direct-Participation-Program-(DPP)\">Direct Participation Program (DPP)</a></li>\n",
      "<li><a class=\"\" href=\"#Amortization\">Amortization</a></li>\n",
      "<li><a class=\"\" href=\"#Kind-of-Mortgages\">Kind of Mortgages</a></li>\n",
      "<li><a class=\"\" href=\"#Private-Mortgage-Insurance-(PMI)\">Private Mortgage Insurance (PMI)</a></li>\n",
      "<li><a class=\"\" href=\"#Centralized-Mortgage-Obligation-(CMO)\">Centralized Mortgage Obligation (CMO)</a></li>\n",
      "<li><a class=\"\" href=\"#Tranch-and-A-Ratings?\">Tranch and A-Ratings?</a></li>\n",
      "<li><a class=\"\" href=\"#Centralized-Debt-Obligation-(CDO)\">Centralized Debt Obligation (CDO)</a></li>\n",
      "<li><a class=\"\" href=\"#Excess-Reserves\">Excess Reserves</a></li>\n",
      "<li><a class=\"\" href=\"#Real-Estate-Bubble\">Real Estate Bubble</a></li>\n",
      "</ol><li><a class=\"\" href=\"#L11\">L11</a></li>\n",
      "<ol><li><a class=\"\" href=\"#Regulation-and-Human-Behavior\">Regulation and Human Behavior</a></li>\n",
      "<li><a class=\"\" href=\"#Dodd-Frank-Act\">Dodd-Frank Act</a></li>\n",
      "<li><a class=\"\" href=\"#Levels-of-Financial-Regulation\">Levels of Financial Regulation</a></li>\n",
      "<li><a class=\"\" href=\"#Tunneling\">Tunneling</a></li>\n",
      "<li><a class=\"\" href=\"#Hedge-Funds\">Hedge Funds</a></li>\n",
      "<li><a class=\"\" href=\"#Public-and-Private-Securities\">Public and Private Securities</a></li>\n",
      "<li><a class=\"\" href=\"#Insiders-and-Outsiders\">Insiders and Outsiders</a></li>\n",
      "<li><a class=\"\" href=\"#Front-Running\">Front Running</a></li>\n",
      "<li><a class=\"\" href=\"#Generally-Accepted-Accounting-Principles-(GAAP)\">Generally Accepted Accounting Principles (GAAP)</a></li>\n",
      "</ol>\n"
     ]
    }
   ],
   "source": [
    "print(text)"
   ]
  },
  {
   "cell_type": "code",
   "execution_count": 7,
   "metadata": {},
   "outputs": [
    {
     "data": {
      "text/plain": [
       "'./Module_4.html'"
      ]
     },
     "execution_count": 7,
     "metadata": {},
     "output_type": "execute_result"
    }
   ],
   "source": [
    "nb.export_notebook(nb.notebooks[-2])"
   ]
  },
  {
   "cell_type": "code",
   "execution_count": 11,
   "metadata": {},
   "outputs": [
    {
     "name": "stderr",
     "output_type": "stream",
     "text": [
      "Exporting notebooks...: 100%|██████████| 3/3 [00:02<00:00,  1.11it/s]\n"
     ]
    }
   ],
   "source": [
    "files = nb.export_directory()"
   ]
  },
  {
   "cell_type": "code",
   "execution_count": 12,
   "metadata": {},
   "outputs": [
    {
     "data": {
      "text/plain": [
       "['././CAPM.html', '././Module_1.html', '././temp.html']"
      ]
     },
     "execution_count": 12,
     "metadata": {},
     "output_type": "execute_result"
    }
   ],
   "source": [
    "files"
   ]
  },
  {
   "cell_type": "code",
   "execution_count": 14,
   "metadata": {},
   "outputs": [
    {
     "name": "stdout",
     "output_type": "stream",
     "text": [
      "<ul><li>\n",
      "            <a href=\"Notes/Finance/CAPM.html\" target=\"blank\" class=\"links\">CAPM</a>\n",
      "          </li><li>\n",
      "            <a href=\"Notes/Finance/Module_1.html\" target=\"blank\" class=\"links\">Module 1</a>\n",
      "          </li></ul>\n"
     ]
    }
   ],
   "source": [
    "start = \"<ul>\"\n",
    "end = \"</ul>\"\n",
    "for f in files:\n",
    "    if \"temp\" in f:\n",
    "        continue\n",
    "    file = f.split(\"/\")[-1]\n",
    "    name = file.split(\".\")[0]\n",
    "    name = name.replace(\"_\", \" \")\n",
    "    start+=f\"\"\"<li>\n",
    "            <a href=\"Notes/Finance/{file}\" target=\"blank\" class=\"links\">{name}</a>\n",
    "          </li>\"\"\"\n",
    "start+=end\n",
    "print(start)"
   ]
  },
  {
   "cell_type": "code",
   "execution_count": 20,
   "metadata": {},
   "outputs": [
    {
     "name": "stderr",
     "output_type": "stream",
     "text": [
      "QXcbClipboard::setMimeData: Cannot set X11 selection owner\n"
     ]
    }
   ],
   "source": [
    "import pyperclip\n",
    "pyperclip.copy(text)"
   ]
  },
  {
   "cell_type": "code",
   "execution_count": 13,
   "metadata": {},
   "outputs": [
    {
     "data": {
      "text/plain": [
       "['.\\\\Easy_1.ipynb',\n",
       " '.\\\\Easy_2.ipynb',\n",
       " '.\\\\Easy_3.ipynb',\n",
       " '.\\\\Hard_1.ipynb',\n",
       " '.\\\\Medium_1.ipynb',\n",
       " '.\\\\Medium_2.ipynb',\n",
       " '.\\\\temp.ipynb']"
      ]
     },
     "execution_count": 13,
     "metadata": {},
     "output_type": "execute_result"
    }
   ],
   "source": [
    "nb.notebooks"
   ]
  },
  {
   "cell_type": "code",
   "execution_count": 15,
   "metadata": {},
   "outputs": [
    {
     "data": {
      "text/plain": [
       "'.\\\\Easy_3.html'"
      ]
     },
     "execution_count": 15,
     "metadata": {},
     "output_type": "execute_result"
    }
   ],
   "source": [
    "nb.export_notebook(nb.notebooks[2])"
   ]
  },
  {
   "cell_type": "code",
   "execution_count": null,
   "metadata": {},
   "outputs": [],
   "source": []
  }
 ],
 "metadata": {
  "kernelspec": {
   "display_name": "data-science",
   "language": "python",
   "name": "python3"
  },
  "language_info": {
   "codemirror_mode": {
    "name": "ipython",
    "version": 3
   },
   "file_extension": ".py",
   "mimetype": "text/x-python",
   "name": "python",
   "nbconvert_exporter": "python",
   "pygments_lexer": "ipython3",
   "version": "3.9.15"
  },
  "vscode": {
   "interpreter": {
    "hash": "2efee1efa502125d01e6b4768ba06d9453d29f3642bfd14ad5d4a769de82e88c"
   }
  }
 },
 "nbformat": 4,
 "nbformat_minor": 2
}
