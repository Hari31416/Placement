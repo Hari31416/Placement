{
 "cells": [
  {
   "cell_type": "code",
   "execution_count": 1,
   "metadata": {},
   "outputs": [],
   "source": [
    "import sys\n",
    "sys.path.append('../../tools')"
   ]
  },
  {
   "cell_type": "code",
   "execution_count": 2,
   "metadata": {
    "scrolled": true
   },
   "outputs": [],
   "source": [
    "from files.notebook import Notebook"
   ]
  },
  {
   "cell_type": "code",
   "execution_count": 3,
   "metadata": {},
   "outputs": [],
   "source": [
    "nb = Notebook()"
   ]
  },
  {
   "cell_type": "code",
   "execution_count": 4,
   "metadata": {},
   "outputs": [
    {
     "data": {
      "text/plain": [
       "['./CAPM.ipynb',\n",
       " './Code.ipynb',\n",
       " './Market_Hypothesis.ipynb',\n",
       " './Module_1.ipynb',\n",
       " './Module_2.ipynb',\n",
       " './Module_3.ipynb',\n",
       " './Module_4.ipynb',\n",
       " './Module_5.ipynb',\n",
       " './Module_6.ipynb',\n",
       " './Module_7.ipynb',\n",
       " './temp.ipynb']"
      ]
     },
     "execution_count": 4,
     "metadata": {},
     "output_type": "execute_result"
    }
   ],
   "source": [
    "nb.notebooks"
   ]
  },
  {
   "cell_type": "code",
   "execution_count": 11,
   "metadata": {},
   "outputs": [
    {
     "name": "stdout",
     "output_type": "stream",
     "text": [
      "<h1 id=\"Contents\">Contents<a href=\"#Contents\"></a></h1>\n",
      "        <ol>\n",
      "        <li><a class=\"\" href=\"#Imports\">Imports</a></li>\n",
      "<li><a class=\"\" href=\"#Topics-cum-Notes\">Topics cum Notes</a></li>\n",
      "<ol><li><a class=\"\" href=\"#L17\">L17</a></li>\n",
      "<ol><li><a class=\"\" href=\"#Nonprofit-Organizations\">Nonprofit Organizations</a></li>\n",
      "<li><a class=\"\" href=\"#Financial-Cooperative\">Financial Cooperative</a></li>\n",
      "</ol><li><a class=\"\" href=\"#L18\">L18</a></li>\n",
      "<ol><li><a class=\"\" href=\"#Critisim-of-Finance\">Critisim of Finance</a></li>\n",
      "<li><a class=\"\" href=\"#Democratization-of-Finance\">Democratization of Finance</a></li>\n",
      "<li><a class=\"\" href=\"#Crowdfunding\">Crowdfunding</a></li>\n",
      "<li><a class=\"\" href=\"#Importance-of-Financial-Theory\">Importance of Financial Theory</a></li>\n",
      "</ol>\n"
     ]
    },
    {
     "name": "stderr",
     "output_type": "stream",
     "text": [
      "QXcbClipboard::setMimeData: Cannot set X11 selection owner\n"
     ]
    }
   ],
   "source": [
    "text = nb.create_content(nb.notebooks[9], return_string=True, verbose=0)\n",
    "print(text)"
   ]
  },
  {
   "cell_type": "code",
   "execution_count": 7,
   "metadata": {},
   "outputs": [
    {
     "data": {
      "text/plain": [
       "'./Module_4.html'"
      ]
     },
     "execution_count": 7,
     "metadata": {},
     "output_type": "execute_result"
    }
   ],
   "source": [
    "nb.export_notebook(nb.notebooks[-2])"
   ]
  },
  {
   "cell_type": "code",
   "execution_count": 12,
   "metadata": {},
   "outputs": [
    {
     "name": "stderr",
     "output_type": "stream",
     "text": [
      "Exporting notebooks...: 100%|██████████| 11/11 [00:09<00:00,  1.11it/s]\n"
     ]
    }
   ],
   "source": [
    "files = nb.export_directory()"
   ]
  },
  {
   "cell_type": "code",
   "execution_count": 13,
   "metadata": {},
   "outputs": [
    {
     "data": {
      "text/plain": [
       "['././CAPM.html',\n",
       " '././Code.html',\n",
       " '././Market_Hypothesis.html',\n",
       " '././Module_1.html',\n",
       " '././Module_2.html',\n",
       " '././Module_3.html',\n",
       " '././Module_4.html',\n",
       " '././Module_5.html',\n",
       " '././Module_6.html',\n",
       " '././Module_7.html',\n",
       " '././temp.html']"
      ]
     },
     "execution_count": 13,
     "metadata": {},
     "output_type": "execute_result"
    }
   ],
   "source": [
    "files"
   ]
  },
  {
   "cell_type": "code",
   "execution_count": 14,
   "metadata": {},
   "outputs": [
    {
     "name": "stdout",
     "output_type": "stream",
     "text": [
      "<ul><li>\n",
      "            <a href=\"Notes/Finance/CAPM.html\" target=\"blank\" class=\"links\">CAPM</a>\n",
      "          </li><li>\n",
      "            <a href=\"Notes/Finance/Code.html\" target=\"blank\" class=\"links\">Code</a>\n",
      "          </li><li>\n",
      "            <a href=\"Notes/Finance/Market_Hypothesis.html\" target=\"blank\" class=\"links\">Market Hypothesis</a>\n",
      "          </li><li>\n",
      "            <a href=\"Notes/Finance/Module_1.html\" target=\"blank\" class=\"links\">Module 1</a>\n",
      "          </li><li>\n",
      "            <a href=\"Notes/Finance/Module_2.html\" target=\"blank\" class=\"links\">Module 2</a>\n",
      "          </li><li>\n",
      "            <a href=\"Notes/Finance/Module_3.html\" target=\"blank\" class=\"links\">Module 3</a>\n",
      "          </li><li>\n",
      "            <a href=\"Notes/Finance/Module_4.html\" target=\"blank\" class=\"links\">Module 4</a>\n",
      "          </li><li>\n",
      "            <a href=\"Notes/Finance/Module_5.html\" target=\"blank\" class=\"links\">Module 5</a>\n",
      "          </li><li>\n",
      "            <a href=\"Notes/Finance/Module_6.html\" target=\"blank\" class=\"links\">Module 6</a>\n",
      "          </li><li>\n",
      "            <a href=\"Notes/Finance/Module_7.html\" target=\"blank\" class=\"links\">Module 7</a>\n",
      "          </li></ul>\n"
     ]
    }
   ],
   "source": [
    "start = \"<ul>\"\n",
    "end = \"</ul>\"\n",
    "for f in files:\n",
    "    if \"temp\" in f:\n",
    "        continue\n",
    "    file = f.split(\"/\")[-1]\n",
    "    name = file.split(\".\")[0]\n",
    "    name = name.replace(\"_\", \" \")\n",
    "    start+=f\"\"\"<li>\n",
    "            <a href=\"Notes/Finance/{file}\" target=\"blank\" class=\"links\">{name}</a>\n",
    "          </li>\"\"\"\n",
    "start+=end\n",
    "print(start)"
   ]
  },
  {
   "cell_type": "code",
   "execution_count": 20,
   "metadata": {},
   "outputs": [
    {
     "name": "stderr",
     "output_type": "stream",
     "text": [
      "QXcbClipboard::setMimeData: Cannot set X11 selection owner\n"
     ]
    }
   ],
   "source": [
    "import pyperclip\n",
    "pyperclip.copy(text)"
   ]
  },
  {
   "cell_type": "code",
   "execution_count": 13,
   "metadata": {},
   "outputs": [
    {
     "data": {
      "text/plain": [
       "['.\\\\Easy_1.ipynb',\n",
       " '.\\\\Easy_2.ipynb',\n",
       " '.\\\\Easy_3.ipynb',\n",
       " '.\\\\Hard_1.ipynb',\n",
       " '.\\\\Medium_1.ipynb',\n",
       " '.\\\\Medium_2.ipynb',\n",
       " '.\\\\temp.ipynb']"
      ]
     },
     "execution_count": 13,
     "metadata": {},
     "output_type": "execute_result"
    }
   ],
   "source": [
    "nb.notebooks"
   ]
  },
  {
   "cell_type": "code",
   "execution_count": 15,
   "metadata": {},
   "outputs": [
    {
     "data": {
      "text/plain": [
       "'.\\\\Easy_3.html'"
      ]
     },
     "execution_count": 15,
     "metadata": {},
     "output_type": "execute_result"
    }
   ],
   "source": [
    "nb.export_notebook(nb.notebooks[2])"
   ]
  },
  {
   "cell_type": "code",
   "execution_count": null,
   "metadata": {},
   "outputs": [],
   "source": []
  }
 ],
 "metadata": {
  "kernelspec": {
   "display_name": "data-science",
   "language": "python",
   "name": "python3"
  },
  "language_info": {
   "codemirror_mode": {
    "name": "ipython",
    "version": 3
   },
   "file_extension": ".py",
   "mimetype": "text/x-python",
   "name": "python",
   "nbconvert_exporter": "python",
   "pygments_lexer": "ipython3",
   "version": "3.9.15"
  },
  "vscode": {
   "interpreter": {
    "hash": "2efee1efa502125d01e6b4768ba06d9453d29f3642bfd14ad5d4a769de82e88c"
   }
  }
 },
 "nbformat": 4,
 "nbformat_minor": 2
}
