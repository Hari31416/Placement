{
 "cells": [
  {
   "attachments": {},
   "cell_type": "markdown",
   "metadata": {},
   "source": [
    "<h1 id=\"Contents\">Contents<a href=\"#Contents\"></a></h1>\n",
    "        <ol>\n",
    "        <li><a class=\"\" href=\"#Imports\">Imports</a></li>\n",
    "<li><a class=\"\" href=\"#Introduction\">Introduction</a></li>\n",
    "<ol><li><a class=\"\" href=\"#Assumptions\">Assumptions</a></li>\n",
    "<ol><li><a class=\"\" href=\"#Assets-Assumptions\">Assets Assumptions</a></li>\n",
    "<li><a class=\"\" href=\"#Market-Assumptions\">Market Assumptions</a></li>\n",
    "</ol></ol><li><a class=\"\" href=\"#Black-Scholes-Equation\">Black-Scholes Equation</a></li>\n",
    "<ol><li><a class=\"\" href=\"#Notations\">Notations</a></li>\n",
    "<ol><li><a class=\"\" href=\"#General-and-Market-Parameters\">General and Market Parameters</a></li>\n",
    "<li><a class=\"\" href=\"#Asset-Parameters\">Asset Parameters</a></li>\n",
    "<li><a class=\"\" href=\"#Option-Parameters\">Option Parameters</a></li>\n",
    "</ol><li><a class=\"\" href=\"#Differential-Equation\">Differential Equation</a></li>\n",
    "<li><a class=\"\" href=\"#Solution-and-the-Black-Scholes-Formula\">Solution and the Black-Scholes Formula</a></li>\n",
    "<ol><li><a class=\"\" href=\"#Call-Option\">Call Option</a></li>\n",
    "<li><a class=\"\" href=\"#Put-Option\">Put Option</a></li>\n",
    "<li><a class=\"\" href=\"#An-Example-Calculation\">An Example Calculation</a></li>\n",
    "</ol><li><a class=\"\" href=\"#Python-Implementation\">Python Implementation</a></li>\n",
    "</ol><li><a class=\"\" href=\"#Greeks\">Greeks</a></li>\n",
    "<ol><li><a class=\"\" href=\"#Mathematical-Form-of-Greeks\">Mathematical Form of Greeks</a></li>\n",
    "<ol><li><a class=\"\" href=\"#Greeks-for-Call\">Greeks for Call</a></li>\n",
    "<li><a class=\"\" href=\"#Greeks-for-Put\">Greeks for Put</a></li>\n",
    "</ol></ol><li><a class=\"\" href=\"#Volatility\">Volatility</a></li>\n",
    "<ol><li><a class=\"\" href=\"#Log-Returns\">Log Returns</a></li>\n",
    "<ol><li><a class=\"\" href=\"#Adding-Log-Returns\">Adding Log Returns</a></li>\n",
    "</ol><li><a class=\"\" href=\"#Calculating-Volatility\">Calculating Volatility</a></li>\n",
    "<ol><li><a class=\"\" href=\"#Using-Simple-Returns\">Using Simple Returns</a></li>\n",
    "<li><a class=\"\" href=\"#Using-the-Log-Return\">Using the Log Return</a></li>\n",
    "<li><a class=\"\" href=\"#Using-the-Black-Scholes-Model\">Using the Black-Scholes Model</a></li>\n",
    "</ol>"
   ]
  },
  {
   "attachments": {},
   "cell_type": "markdown",
   "metadata": {},
   "source": [
    "# Imports"
   ]
  },
  {
   "cell_type": "code",
   "execution_count": 5,
   "metadata": {},
   "outputs": [],
   "source": [
    "import pandas as pd\n",
    "import numpy as np\n",
    "import matplotlib.pyplot as plt\n",
    "import os\n",
    "import glob\n",
    "from scipy.stats import norm\n",
    "import datetime\n",
    "\n",
    "import plotly.graph_objects as go\n",
    "import plotly.express as px\n",
    "import plotly.io as pio\n",
    "pio.renderers.default = \"notebook\"\n",
    "pio.templates.default = \"plotly_dark\""
   ]
  },
  {
   "attachments": {},
   "cell_type": "markdown",
   "metadata": {},
   "source": [
    "# Introduction"
   ]
  },
  {
   "attachments": {},
   "cell_type": "markdown",
   "metadata": {},
   "source": [
    "Developed in 1973 by Fischer Black, Robert Merton, and Myron Scholes, the Black-Scholes model was the first widely used mathematical method to calculate the theoretical value of an option contract, using current stock prices, expected dividends, the option's strike price, expected interest rates, time to expiration, and expected volatility."
   ]
  },
  {
   "attachments": {},
   "cell_type": "markdown",
   "metadata": {},
   "source": [
    "The model shows that the option has a unique price given the risk of the security and its expected return. The model is based on a partial differential equation (PDE), the so-called Black-Scholes equation, from which one can deduce the Black-Scholes formula, which gives a theoretical estimate of the correct price of European stock options."
   ]
  },
  {
   "attachments": {},
   "cell_type": "markdown",
   "metadata": {},
   "source": [
    "## Assumptions"
   ]
  },
  {
   "attachments": {},
   "cell_type": "markdown",
   "metadata": {},
   "source": [
    "The original Black-Scholes model is based on a core assumption that the market consists of at least one risky asset (such as a stock) and one (essentially) risk-free asset, such as a money market fund, cash or a government bond. In addition, it assumes three properties of the two assets, and four of the market itself."
   ]
  },
  {
   "attachments": {},
   "cell_type": "markdown",
   "metadata": {},
   "source": [
    "### Assets Assumptions"
   ]
  },
  {
   "attachments": {},
   "cell_type": "markdown",
   "metadata": {},
   "source": [
    "Assumptions about the assets in the market are: "
   ]
  },
  {
   "attachments": {},
   "cell_type": "markdown",
   "metadata": {},
   "source": [
    "1. The rate of return on the risk-free asset is constant and known. This behaves as interest rate."
   ]
  },
  {
   "attachments": {},
   "cell_type": "markdown",
   "metadata": {},
   "source": [
    "1. The riky asset follows geometric Brownian motion, which is a continuous-time stochastic process. That is, the instantaneous log return of the risky asset’s price is assumed to behave as an infinitesimal random walk with constant drift and volatility"
   ]
  },
  {
   "attachments": {},
   "cell_type": "markdown",
   "metadata": {},
   "source": [
    "3. The risky asset pays no dividends."
   ]
  },
  {
   "attachments": {},
   "cell_type": "markdown",
   "metadata": {},
   "source": [
    "### Market Assumptions"
   ]
  },
  {
   "attachments": {},
   "cell_type": "markdown",
   "metadata": {},
   "source": [
    "Here are the four market assumptions:"
   ]
  },
  {
   "attachments": {},
   "cell_type": "markdown",
   "metadata": {},
   "source": [
    "1. The market is complete, which means that there are no arbitrage (risk-free profit) opportunities.\n",
    "2. It is possible to borrow and lend any amount of cash at the same rate as the interest rate of the risk-free asset\n",
    "3. It is possible to buy and sell any amount of the stock (including short selling)\n",
    "4. There are no transaction costs in the market (i.e. no commission for buying or selling securities or derivative instruments)"
   ]
  },
  {
   "attachments": {},
   "cell_type": "markdown",
   "metadata": {},
   "source": [
    "Of course, the assumptions are not realistic, but they are useful for the purpose of the model."
   ]
  },
  {
   "attachments": {},
   "cell_type": "markdown",
   "metadata": {},
   "source": [
    "In subsequent extensions of the original model, these assumptions have been revised to adjust for dynamic interest rates for the risk-free asset (Merton, 1976), transaction costs for buying and selling (Ingersoll, 1976) and dividend payouts for the risky asset (Whaley, 1981)."
   ]
  },
  {
   "attachments": {},
   "cell_type": "markdown",
   "metadata": {},
   "source": [
    "# Black-Scholes Equation"
   ]
  },
  {
   "attachments": {},
   "cell_type": "markdown",
   "metadata": {},
   "source": [
    "With these assumptions, suppose there is a derivative security also trading in this market. It is specified that this security will have a certain payoff at a specified date in the future, depending on the values taken by the stock up to that date. Even though the path the stock price will take in the future is unknown, the derivative's price can be determined at the current time. For the special case of a European call or put option, Black and Scholes showed that \"it is possible to create a hedged position, consisting of a long position in the stock and a short position in the option, whose value will not depend on the price of the stock\". Their dynamic hedging strategy led to a partial differential equation which governs the price of the option. Its solution is given by the Black–Scholes formula."
   ]
  },
  {
   "attachments": {},
   "cell_type": "markdown",
   "metadata": {},
   "source": [
    "## Notations"
   ]
  },
  {
   "attachments": {},
   "cell_type": "markdown",
   "metadata": {},
   "source": [
    "Let's define some notations."
   ]
  },
  {
   "attachments": {},
   "cell_type": "markdown",
   "metadata": {},
   "source": [
    "### General and Market Parameters"
   ]
  },
  {
   "attachments": {},
   "cell_type": "markdown",
   "metadata": {},
   "source": [
    "$t$ is a time usually in years. $t=0$ is the current time.\n",
    "\n",
    "$r$ is the annualized risk-free interest rate, continuously compounded."
   ]
  },
  {
   "attachments": {},
   "cell_type": "markdown",
   "metadata": {},
   "source": [
    "### Asset Parameters"
   ]
  },
  {
   "attachments": {},
   "cell_type": "markdown",
   "metadata": {},
   "source": [
    "$S(t)$ is the price of the underlying asset at time $t$.\n",
    "\n",
    "$\\mu$  is the drift rate of $S$, annualized.\n",
    "\n",
    "$\\sigma$  is the standard deviation of the stock's returns. This is the square root of the quadratic variation of the stock's log price process, a measure of its volatility."
   ]
  },
  {
   "attachments": {},
   "cell_type": "markdown",
   "metadata": {},
   "source": [
    "### Option Parameters"
   ]
  },
  {
   "attachments": {},
   "cell_type": "markdown",
   "metadata": {},
   "source": [
    "$V(S,t)$ is the price of the option as a function of the underlying asset $S$ at time $t$, in particular:\n",
    "- $C(S,t)$ is the price of a European call option\n",
    "- $P(S,t)$ is the price of a European put option"
   ]
  },
  {
   "attachments": {},
   "cell_type": "markdown",
   "metadata": {},
   "source": [
    "$T$ is the time to maturity of the option, in years.\n",
    "$\\tau = T-t$ is the time to maturity of the option, in years.\n",
    "$K$ is the strike price of the option."
   ]
  },
  {
   "attachments": {},
   "cell_type": "markdown",
   "metadata": {},
   "source": [
    "$N(x)$ denotes the standard normal cumulative distribution function:\n",
    "\n",
    "${\\displaystyle N(x)={\\frac {1}{\\sqrt {2\\pi }}}\\int _{-\\infty }^{x}e^{-z^{2}/2}\\,dz.}$"
   ]
  },
  {
   "attachments": {},
   "cell_type": "markdown",
   "metadata": {},
   "source": [
    "$N'(x)$ denotes the standard normal probability density function:\n",
    "\n",
    "${\\displaystyle N'(x)={\\frac {dN(x)}{dx}}={\\frac {1}{\\sqrt {2\\pi }}}e^{-x^{2}/2}.}$\n"
   ]
  },
  {
   "attachments": {},
   "cell_type": "markdown",
   "metadata": {},
   "source": [
    "## Differential Equation"
   ]
  },
  {
   "attachments": {},
   "cell_type": "markdown",
   "metadata": {},
   "source": [
    "BS equation describes the price of an option as a function of the underlying asset price $S$ and time $t$. The equation is a partial differential equation (PDE) of the second order in $S$ and the first order in $t$. We have\n",
    "\n",
    "${\\displaystyle {\\frac {\\partial V}{\\partial t}}+rS{\\frac {\\partial V}{\\partial S}}+{\\frac {1}{2}}\\sigma ^{2}S^{2}{\\frac {\\partial ^{2}V}{\\partial S^{2}}}-rV=0}$"
   ]
  },
  {
   "attachments": {},
   "cell_type": "markdown",
   "metadata": {},
   "source": [
    "Let's rewrite the equation as:\n",
    "$$\n",
    "{\\frac {\\partial V}{\\partial t}}+{\\frac {1}{2}}\\sigma ^{2}S^{2}{\\frac {\\partial ^{2}V}{\\partial S^{2}}} = rV-rS{\\frac {\\partial V}{\\partial S}}\n",
    "$$"
   ]
  },
  {
   "attachments": {},
   "cell_type": "markdown",
   "metadata": {},
   "source": [
    "In terms of greeks, we have\n",
    "$$\n",
    "\\Theta+{\\frac {1}{2}}\\sigma ^{2}S^{2}\\Tau = rV-rS\\Delta\n",
    "$$"
   ]
  },
  {
   "attachments": {},
   "cell_type": "markdown",
   "metadata": {},
   "source": [
    "## Solution and the Black-Scholes Formula"
   ]
  },
  {
   "attachments": {},
   "cell_type": "markdown",
   "metadata": {},
   "source": [
    "To solve the equation, we need to specify the boundary conditions. The boundary conditions are the values of the option price at the boundaries of the domain of the option price. In the case of a European option, the boundary conditions are the payoff of the option at maturity. For a call option, the payoff is $S-K$ if $S>K$ and zero otherwise. For a put option, the payoff is $K-S$ if $S<K$ and zero otherwise. Therefore, the boundary conditions are\n",
    "\n",
    "${\\displaystyle C(S,T)=\\max (S-K,0)}$\n",
    "\n",
    "and\n",
    "\n",
    "${\\displaystyle P(S,T)=\\max (K-S,0)}$"
   ]
  },
  {
   "attachments": {},
   "cell_type": "markdown",
   "metadata": {},
   "source": [
    "### Call Option"
   ]
  },
  {
   "attachments": {},
   "cell_type": "markdown",
   "metadata": {},
   "source": [
    "The value of a call option for a non-dividend-paying underlying stock in terms of the Black–Scholes parameters is:"
   ]
  },
  {
   "attachments": {},
   "cell_type": "markdown",
   "metadata": {},
   "source": [
    "$$\n",
    "{\\displaystyle {\\begin{aligned}C(S_{t},t)&=N(d_{1})S_{t}-N(d_{2})Ke^{-r(T-t)}\\\\d_{1}&={\\frac {1}{\\sigma {\\sqrt {T-t}}}}\\left[\\ln \\left({\\frac {S_{t}}{K}}\\right)+\\left(r+{\\frac {\\sigma ^{2}}{2}}\\right)(T-t)\\right]\\\\d_{2}&=d_{1}-\\sigma {\\sqrt {T-t}}\\\\\\end{aligned}}}\n",
    "$$"
   ]
  },
  {
   "attachments": {},
   "cell_type": "markdown",
   "metadata": {},
   "source": [
    "### Put Option"
   ]
  },
  {
   "attachments": {},
   "cell_type": "markdown",
   "metadata": {},
   "source": [
    "For a put option, the value is:"
   ]
  },
  {
   "attachments": {},
   "cell_type": "markdown",
   "metadata": {},
   "source": [
    "$$\n",
    "{\\displaystyle {\\begin{aligned}P(S_{t},t)&=Ke^{-r(T-t)}-S_{t}+C(S_{t},t)\\\\&=N(-d_{2})Ke^{-r(T-t)}-N(-d_{1})S_{t}\\end{aligned}}\\,}\n",
    "$$"
   ]
  },
  {
   "attachments": {},
   "cell_type": "markdown",
   "metadata": {},
   "source": [
    "The function $N(・)$ represents the cumulative distribution function for a normal distribution and may be thought of as ‘the probability that a random variable is less or equal to its input. See the terminology section above for more details."
   ]
  },
  {
   "attachments": {},
   "cell_type": "markdown",
   "metadata": {},
   "source": [
    ">Very informally, the two terms in the sum given by the Black-Scholes formula may be thought of as ‘the current price of the stock weighted by the probability that you will exercise your option to buy the stock’ minus ‘the discounted price of exercising the option weighted by the probability that you will exercise the option’, or simply ‘what you are going to get’ minus ‘what you are going to pay’"
   ]
  },
  {
   "attachments": {},
   "cell_type": "markdown",
   "metadata": {},
   "source": [
    "### An Example Calculation"
   ]
  },
  {
   "attachments": {},
   "cell_type": "markdown",
   "metadata": {},
   "source": [
    "We see, from the formula that in order to calculate the price of a call option, we need to know the following parameters:\n",
    "1. $S_{t}$, the current price of the underlying asset\n",
    "2. $K$, the strike price of the option\n",
    "3. $r$, the risk-free interest rate\n",
    "4. $T-t$, the time to maturity of the option\n",
    "5. $\\sigma$, the volatility of the underlying asset"
   ]
  },
  {
   "attachments": {},
   "cell_type": "markdown",
   "metadata": {},
   "source": [
    "Here, we'll give an example of how to calculate the price of a European call option using the Black-Scholes formula. We'll use Tesla."
   ]
  },
  {
   "attachments": {},
   "cell_type": "markdown",
   "metadata": {},
   "source": [
    "The current price of TSLA today (6 Jan 2023) is 110.34. We'll buy a call option trading at a strike price of 120. Suppose the option strike date of April 21 2022. We'll be using the US governments' 10Y bond rate as risk free rate. It is currently trading at 3.72% or 0.0372."
   ]
  },
  {
   "attachments": {},
   "cell_type": "markdown",
   "metadata": {},
   "source": [
    "Only thing which remains is the volatility $\\sigma$. We can estimate any stock’s volatility by observing its historical prices, or, even simpler, by calculating other option prices for the same stock at different maturity/expiration dates (T) and exercise/strike prices (X), if we know they have been set according to a Black-Scholes model. The resulting value, $\\sigma$, is a number between 0 and 1, representing the market’s implied volatility for the stock. We'll talk about this in the next section. We'll calculate the volatility based on historical data. Using the log returns of the stock, we can calculate the volatility as follows:\n",
    "$$\n",
    "\\sigma = \\sqrt{\\frac{1}{n}\\sum_{i=1}^{n}(\\ln(S_{i})-\\ln(S_{i-1}))^{2}}\n",
    "$$\n",
    "where $n$ is the number of observations, $S_{i}$ is the price of the stock at time $i$ and $S_{i-1}$ is the price of the stock at time $i-1$."
   ]
  },
  {
   "cell_type": "code",
   "execution_count": 6,
   "metadata": {},
   "outputs": [
    {
     "name": "stdout",
     "output_type": "stream",
     "text": [
      "0.5854294125474527\n"
     ]
    }
   ],
   "source": [
    "df = pd.read_csv(\"../../Data/Stocks/nasdaq200/TSLA.csv\", parse_dates=[\"Date\"], index_col=\"Date\")\n",
    "df = df[df.index>=datetime.datetime(2016,1,1)]\n",
    "return_ = df[\"Close\"].pct_change(1).dropna()\n",
    "log_return = np.log(1+return_)\n",
    "sigma = log_return.std()*np.sqrt(252)\n",
    "print(sigma)"
   ]
  },
  {
   "cell_type": "code",
   "execution_count": 7,
   "metadata": {},
   "outputs": [
    {
     "name": "stdout",
     "output_type": "stream",
     "text": [
      "103\n"
     ]
    }
   ],
   "source": [
    "today = datetime.datetime.today()\n",
    "april_expiry_date = datetime.datetime(today.year, 4, 21)\n",
    "\n",
    "num_days = (april_expiry_date - today).days\n",
    "print(num_days)"
   ]
  },
  {
   "cell_type": "code",
   "execution_count": 8,
   "metadata": {},
   "outputs": [],
   "source": [
    "S = 110.34\n",
    "K = 120\n",
    "r = 0.0342\n",
    "tau = num_days/252"
   ]
  },
  {
   "cell_type": "code",
   "execution_count": 9,
   "metadata": {},
   "outputs": [],
   "source": [
    "def d1(S, K, r, sigma, tau):\n",
    "    return (np.log(S/K) + (r + sigma**2/2)*tau)/(sigma*np.sqrt(tau))\n",
    "\n",
    "def d2(S, K, r, sigma, tau):\n",
    "    return (np.log(S/K) + (r - sigma**2/2)*tau)/(sigma*np.sqrt(tau))\n",
    "\n",
    "def call_price(sigma, S, K, r, tau):\n",
    "    return S*norm.cdf(d1(S, K, r, sigma, tau)) - K*np.exp(-r*tau)*norm.cdf(d2(S, K, r, sigma, tau))\n",
    "\n",
    "def put_price(sigma, S, K, r, tau):\n",
    "    return K*np.exp(-r*tau)*norm.cdf(-d2(S, K, r, sigma, tau)) - S*norm.cdf(-d1(S, K, r, sigma, tau))"
   ]
  },
  {
   "cell_type": "code",
   "execution_count": 10,
   "metadata": {},
   "outputs": [
    {
     "name": "stdout",
     "output_type": "stream",
     "text": [
      "13.267939948942484\n"
     ]
    }
   ],
   "source": [
    "price = call_price(sigma, S, K, r, tau)\n",
    "print(price)"
   ]
  },
  {
   "attachments": {},
   "cell_type": "markdown",
   "metadata": {},
   "source": [
    "Looking for the option chain at the internet, we find that the option is trading at 13.86. The difference is mainly because we have used the volatility calculated from historical data while the BS model uses implied volatilities, which may be different from historical volatilities."
   ]
  },
  {
   "attachments": {},
   "cell_type": "markdown",
   "metadata": {},
   "source": [
    "## Python Implementation"
   ]
  },
  {
   "attachments": {},
   "cell_type": "markdown",
   "metadata": {},
   "source": [
    "Here, we'll do a simple implementation of the Black-Scholes formula in Python."
   ]
  },
  {
   "cell_type": "code",
   "execution_count": 19,
   "metadata": {},
   "outputs": [],
   "source": [
    "class BlackScholes:\n",
    "    def __init__(self) -> None:\n",
    "        pass\n",
    "\n",
    "    def __d1(self, S, K, r, sigma, tau):\n",
    "        multiplier = 1 / (sigma * np.sqrt(tau)+1e-10)\n",
    "        term1 = np.log(S / K)\n",
    "        term2 = (r + sigma**2 / 2) * tau\n",
    "        return multiplier * (term1 + term2)\n",
    "\n",
    "    def __d2(self, S, K, r, sigma, tau):\n",
    "        d1 = self.__d1(S, K, r, sigma, tau)\n",
    "        return d1 - sigma * np.sqrt(tau)\n",
    "\n",
    "    def call(self, S, K, r, sigma, tau):\n",
    "        \"\"\"\n",
    "        Calculates the price of a call option using the Black-Scholes model.\n",
    "\n",
    "        Parameters\n",
    "        ----------\n",
    "        S : float\n",
    "            The current price of the underlying asset.\n",
    "        K : float\n",
    "            The strike price of the option.\n",
    "        r : float\n",
    "            The risk-free interest rate.\n",
    "        sigma : float\n",
    "            The volatility of the underlying asset.\n",
    "        tau : float\n",
    "            The time to maturity of the option in years.\n",
    "\n",
    "        Returns\n",
    "        -------\n",
    "        float\n",
    "            The price of the call option.\n",
    "        \"\"\"\n",
    "        d1 = self.__d1(S, K, r, sigma, tau)\n",
    "        d2 = self.__d2(S, K, r, sigma, tau)\n",
    "        term_1 = S * norm.cdf(d1)\n",
    "        term_2 = K * np.exp(-r * tau) * norm.cdf(d2)\n",
    "        return term_1 - term_2\n",
    "\n",
    "    def put(self, S, K, r, sigma, tau):\n",
    "        \"\"\"\n",
    "        Calculates the price of a put option using the Black-Scholes model.\n",
    "\n",
    "        Parameters\n",
    "        ----------\n",
    "        S : float\n",
    "            The current price of the underlying asset.\n",
    "        K : float\n",
    "            The strike price of the option.\n",
    "        r : float\n",
    "            The risk-free interest rate.\n",
    "        sigma : float\n",
    "            The volatility of the underlying asset.\n",
    "        tau : float\n",
    "            The time to maturity of the option in years.\n",
    "\n",
    "        Returns\n",
    "        -------\n",
    "        float\n",
    "            The price of the put option.\n",
    "        \"\"\"\n",
    "        d1 = self.__d1(S, K, r, sigma, tau)\n",
    "        d2 = self.__d2(S, K, r, sigma, tau)\n",
    "        term_1 = K * np.exp(-r * tau) * norm.cdf(-d2)\n",
    "        term_2 = S * norm.cdf(-d1)\n",
    "        return term_1 - term_2"
   ]
  },
  {
   "cell_type": "code",
   "execution_count": 29,
   "metadata": {},
   "outputs": [
    {
     "name": "stdout",
     "output_type": "stream",
     "text": [
      "Call Price 0.004372032161472195\n",
      "Put Price 9.648087422927802\n",
      "119.9880874229278\n",
      "110.34437203216147\n"
     ]
    }
   ],
   "source": [
    "S = 110.34\n",
    "K = 120\n",
    "r = 0.0342\n",
    "num_days = 1\n",
    "tau = num_days/252\n",
    "sigma = 0.5\n",
    "bs = BlackScholes()\n",
    "call_price = bs.call(S, K, r, sigma, tau)\n",
    "put_price = bs.put(S, K, r, sigma, tau)\n",
    "print(\"Call Price\", call_price)\n",
    "print(\"Put Price\", put_price)\n",
    "print(S+put_price)\n",
    "print(S+call_price)"
   ]
  },
  {
   "cell_type": "code",
   "execution_count": 27,
   "metadata": {},
   "outputs": [
    {
     "name": "stdout",
     "output_type": "stream",
     "text": [
      "Call Price 10.354368191030673\n",
      "Put Price 0.0007976833359694818\n",
      "110.34079768333598\n"
     ]
    }
   ],
   "source": [
    "S = 110.34\n",
    "K = 100\n",
    "r = 0.0342\n",
    "num_days = 1\n",
    "tau = num_days/252\n",
    "sigma = 0.5\n",
    "bs = BlackScholes()\n",
    "call_price = bs.call(S, K, r, sigma, tau)\n",
    "put_price = bs.put(S, K, r, sigma, tau)\n",
    "print(\"Call Price\", call_price)\n",
    "print(\"Put Price\", put_price)\n",
    "print(S+put_price)"
   ]
  },
  {
   "attachments": {},
   "cell_type": "markdown",
   "metadata": {},
   "source": [
    "# Greeks"
   ]
  },
  {
   "attachments": {},
   "cell_type": "markdown",
   "metadata": {},
   "source": [
    "\"The Greeks\" measure the sensitivity of the value of a derivative product or a financial portfolio to changes in parameter values while holding the other parameters fixed. They are partial derivatives of the price with respect to the parameter values. For details, see the Options notebook."
   ]
  },
  {
   "attachments": {},
   "cell_type": "markdown",
   "metadata": {},
   "source": [
    "The greeks can directly be calculated by taking derivatives of the Black–Scholes formula."
   ]
  },
  {
   "attachments": {},
   "cell_type": "markdown",
   "metadata": {},
   "source": [
    "## Mathematical Form of Greeks"
   ]
  },
  {
   "attachments": {},
   "cell_type": "markdown",
   "metadata": {},
   "source": [
    "### Greeks for Call"
   ]
  },
  {
   "attachments": {},
   "cell_type": "markdown",
   "metadata": {},
   "source": [
    "**Delta $\\mathbf{\\left({\\frac {\\partial V}{\\partial S}}\\right)}$**\n",
    "\n",
    "$$\n",
    "N(d_1)\n",
    "$$"
   ]
  },
  {
   "attachments": {},
   "cell_type": "markdown",
   "metadata": {},
   "source": [
    "**Gamma $\\left(\\mathbf{{\\frac {\\partial ^{2}V}{\\partial S^{2}}}}\\right)$**"
   ]
  },
  {
   "attachments": {},
   "cell_type": "markdown",
   "metadata": {},
   "source": [
    "$${\\frac {N'(d_{1})}{S\\sigma {\\sqrt {T-t}}}}\\$$"
   ]
  },
  {
   "attachments": {},
   "cell_type": "markdown",
   "metadata": {},
   "source": [
    "**Vega** $\\left(\\mathbf{{\\displaystyle {\\frac {\\partial V}{\\partial \\sigma }}}}\\right)$"
   ]
  },
  {
   "attachments": {},
   "cell_type": "markdown",
   "metadata": {},
   "source": [
    "$$SN'(d_{1}){\\sqrt {T-t}}\\,$$"
   ]
  },
  {
   "attachments": {},
   "cell_type": "markdown",
   "metadata": {},
   "source": [
    "**Theta** $\\left(\\mathbf{{\\frac  {\\partial V}{\\partial t}}}\\right)$"
   ]
  },
  {
   "attachments": {},
   "cell_type": "markdown",
   "metadata": {},
   "source": [
    "$${\\displaystyle -{\\frac {SN'(d_{1})\\sigma }{2{\\sqrt {T-t}}}}-rKe^{-r(T-t)}N(d_{2})\\,}$$"
   ]
  },
  {
   "attachments": {},
   "cell_type": "markdown",
   "metadata": {},
   "source": [
    "**Rho** $\\left(\\mathbf{{\\displaystyle {\\frac {\\partial V}{\\partial r}}}}\\right)$"
   ]
  },
  {
   "attachments": {},
   "cell_type": "markdown",
   "metadata": {},
   "source": [
    "$$K(T-t)e^{-r(T-t)}N(d_{2})\\,$$"
   ]
  },
  {
   "attachments": {},
   "cell_type": "markdown",
   "metadata": {},
   "source": [
    "### Greeks for Put"
   ]
  },
  {
   "attachments": {},
   "cell_type": "markdown",
   "metadata": {},
   "source": [
    "**Delta $\\mathbf{\\left({\\frac {\\partial V}{\\partial S}}\\right)}$**\n",
    "\n",
    "$$\n",
    "-N(-d_{1})=N(d_{1})-1\\,\n",
    "$$"
   ]
  },
  {
   "attachments": {},
   "cell_type": "markdown",
   "metadata": {},
   "source": [
    "**Gamma $\\left(\\mathbf{{\\frac {\\partial ^{2}V}{\\partial S^{2}}}}\\right)$**"
   ]
  },
  {
   "attachments": {},
   "cell_type": "markdown",
   "metadata": {},
   "source": [
    "$${\\frac {N'(d_{1})}{S\\sigma {\\sqrt {T-t}}}}\\$$"
   ]
  },
  {
   "attachments": {},
   "cell_type": "markdown",
   "metadata": {},
   "source": [
    "**Vega** $\\left(\\mathbf{{\\displaystyle {\\frac {\\partial V}{\\partial \\sigma }}}}\\right)$"
   ]
  },
  {
   "attachments": {},
   "cell_type": "markdown",
   "metadata": {},
   "source": [
    "$$SN'(d_{1}){\\sqrt {T-t}}\\,$$"
   ]
  },
  {
   "attachments": {},
   "cell_type": "markdown",
   "metadata": {},
   "source": [
    "**Theta** $\\left(\\mathbf{{\\frac  {\\partial V}{\\partial t}}}\\right)$"
   ]
  },
  {
   "attachments": {},
   "cell_type": "markdown",
   "metadata": {},
   "source": [
    "$${\\displaystyle -{\\frac {SN'(d_{1})\\sigma }{2{\\sqrt {T-t}}}}+rKe^{-r(T-t)}N(-d_{2})\\,}$$"
   ]
  },
  {
   "attachments": {},
   "cell_type": "markdown",
   "metadata": {},
   "source": [
    "**Rho** $\\left(\\mathbf{{\\displaystyle {\\frac {\\partial V}{\\partial r}}}}\\right)$"
   ]
  },
  {
   "attachments": {},
   "cell_type": "markdown",
   "metadata": {},
   "source": [
    "$$-K(T-t)e^{-r(T-t)}N(-d_{2})\\,$$"
   ]
  },
  {
   "attachments": {},
   "cell_type": "markdown",
   "metadata": {},
   "source": [
    "# Volatility"
   ]
  },
  {
   "attachments": {},
   "cell_type": "markdown",
   "metadata": {},
   "source": [
    "Volatility is a statistical measure of the dispersion of returns for a given security or market index. In most cases, the higher the volatility, the riskier the security. Volatility is often measured from either the standard deviation or variance between returns from that same security or market index."
   ]
  },
  {
   "attachments": {},
   "cell_type": "markdown",
   "metadata": {},
   "source": [
    "## Log Returns"
   ]
  },
  {
   "attachments": {},
   "cell_type": "markdown",
   "metadata": {},
   "source": [
    "If we consider a conitnuous compounding model, the log return of a stock is given by:\n",
    "\n",
    "$$\n",
    "R_t = \\ln \\left( \\frac{S_t}{S_{t-1}} \\right)\n",
    "$$"
   ]
  },
  {
   "attachments": {},
   "cell_type": "markdown",
   "metadata": {},
   "source": [
    "If $r_t$ is the usual return, then the log return is given by:\n",
    "$$\n",
    "R_t = \\ln \\left( 1 + r_t \\right)\n",
    "$$"
   ]
  },
  {
   "attachments": {},
   "cell_type": "markdown",
   "metadata": {},
   "source": [
    "This shows that $R$ is the continuously compounded return needed to produce the simple return $r$ during that period."
   ]
  },
  {
   "attachments": {},
   "cell_type": "markdown",
   "metadata": {},
   "source": [
    "### Adding Log Returns"
   ]
  },
  {
   "attachments": {},
   "cell_type": "markdown",
   "metadata": {},
   "source": [
    "Simple returns can not be added. For example, suppose a stock is trading at 100. After a month, it goes to 120, which has a return of 0.20. Now, if the stock comes back to 100, the return is -0.167. The total return is 0.00, however, the simple returns add up to 0.033. Which is not zero!"
   ]
  },
  {
   "cell_type": "code",
   "execution_count": 7,
   "metadata": {},
   "outputs": [
    {
     "name": "stdout",
     "output_type": "stream",
     "text": [
      "Sum of Simple Returns:  0.033\n"
     ]
    }
   ],
   "source": [
    "r1 = 0.20\n",
    "r2 = -0.167\n",
    "print(\"Sum of Simple Returns: \", r1 + r2)"
   ]
  },
  {
   "attachments": {},
   "cell_type": "markdown",
   "metadata": {},
   "source": [
    "Now, let's use the log return:"
   ]
  },
  {
   "cell_type": "code",
   "execution_count": 8,
   "metadata": {},
   "outputs": [
    {
     "name": "stdout",
     "output_type": "stream",
     "text": [
      "Sum of Log Returns:  -0.0004000800213398159\n"
     ]
    }
   ],
   "source": [
    "R1 = np.log(1+r1)\n",
    "R2 = np.log(1+r2)\n",
    "\n",
    "print(\"Sum of Log Returns: \", R1 + R2)"
   ]
  },
  {
   "attachments": {},
   "cell_type": "markdown",
   "metadata": {},
   "source": [
    "This is very near to zero. In fact, if we set `r2` to be closer to 0.1666667, we get a value of zero."
   ]
  },
  {
   "cell_type": "code",
   "execution_count": 9,
   "metadata": {},
   "outputs": [
    {
     "name": "stdout",
     "output_type": "stream",
     "text": [
      "Sum of Log Returns:  -4.0000000756101883e-08\n"
     ]
    }
   ],
   "source": [
    "r1 = 0.20\n",
    "r2 = -0.1666667\n",
    "R1 = np.log(1+r1)\n",
    "R2 = np.log(1+r2)\n",
    "\n",
    "print(\"Sum of Log Returns: \", R1 + R2)"
   ]
  },
  {
   "attachments": {},
   "cell_type": "markdown",
   "metadata": {},
   "source": [
    "> Note, however that unlike simple returns, you can not ad log return across securities of a portfolio in the same time period."
   ]
  },
  {
   "attachments": {},
   "cell_type": "markdown",
   "metadata": {},
   "source": [
    "## Calculating Volatility"
   ]
  },
  {
   "attachments": {},
   "cell_type": "markdown",
   "metadata": {},
   "source": [
    "### Using Simple Returns"
   ]
  },
  {
   "attachments": {},
   "cell_type": "markdown",
   "metadata": {},
   "source": [
    "Simple returns can be used to calculate volatility. The formula is:\n",
    "$$\n",
    "\\sigma = \\sqrt{\\frac{1}{n-1}\\sum_{i=1}^{n} (r_i - \\bar{r})^2}\n",
    "$$\n",
    "\n",
    "where $n$ is the number of observations, $r_i$ is the return of the $i$th observation, and $\\bar{r}$ is the mean of the returns."
   ]
  },
  {
   "cell_type": "code",
   "execution_count": 30,
   "metadata": {},
   "outputs": [
    {
     "name": "stdout",
     "output_type": "stream",
     "text": [
      "0.5860743591289022\n"
     ]
    }
   ],
   "source": [
    "df = pd.read_csv(\"../../Data/Stocks/nasdaq200/TSLA.csv\", parse_dates=[\"Date\"], index_col=\"Date\")\n",
    "df = df[df.index>=datetime.datetime(2016,1,1)]\n",
    "return_ = df[\"Close\"].pct_change(1).dropna()\n",
    "sigma = return_.std()*np.sqrt(252)\n",
    "print(sigma)"
   ]
  },
  {
   "attachments": {},
   "cell_type": "markdown",
   "metadata": {},
   "source": [
    "So, the volatility of TSLA is 0.586 annually, which is 58.6% annually."
   ]
  },
  {
   "attachments": {},
   "cell_type": "markdown",
   "metadata": {},
   "source": [
    "### Using the Log Return"
   ]
  },
  {
   "attachments": {},
   "cell_type": "markdown",
   "metadata": {},
   "source": [
    "We can use the standard deviation of the log returns to calculate the volatility of a stock. The standard deviation of the log returns is given by:\n",
    "$$\n",
    "\\sigma = \\sqrt{\\frac{1}{T}\\sum_{t=1}^T (R_t - \\bar{R})^2}\n",
    "$$\n",
    "\n",
    "where $\\bar{R}$ is the mean of the log returns."
   ]
  },
  {
   "cell_type": "code",
   "execution_count": 31,
   "metadata": {},
   "outputs": [
    {
     "name": "stdout",
     "output_type": "stream",
     "text": [
      "0.5854294125474527\n"
     ]
    }
   ],
   "source": [
    "df = pd.read_csv(\"../../Data/Stocks/nasdaq200/TSLA.csv\", parse_dates=[\"Date\"], index_col=\"Date\")\n",
    "df = df[df.index>=datetime.datetime(2016,1,1)]\n",
    "return_ = df[\"Close\"].pct_change(1).dropna()\n",
    "log_return = np.log(1+return_)\n",
    "sigma = log_return.std()*np.sqrt(252)\n",
    "print(sigma)"
   ]
  },
  {
   "attachments": {},
   "cell_type": "markdown",
   "metadata": {},
   "source": [
    "So, the volatility of TSLA is 0.585 annually, which is 58.5% annually."
   ]
  },
  {
   "attachments": {},
   "cell_type": "markdown",
   "metadata": {},
   "source": [
    "### Using the Black-Scholes Model"
   ]
  },
  {
   "attachments": {},
   "cell_type": "markdown",
   "metadata": {},
   "source": [
    "If we use the BS model to solve for $\\sigma$ by using the option prices, volatility can be calculated. This is done by using the `fsolve` function from `scipy.optimize`. The function takes in the parameters of the BS model and the option price, and returns the volatility."
   ]
  },
  {
   "cell_type": "code",
   "execution_count": 11,
   "metadata": {},
   "outputs": [],
   "source": [
    "from scipy.optimize import minimize\n",
    "from functools import partial"
   ]
  },
  {
   "cell_type": "code",
   "execution_count": 16,
   "metadata": {},
   "outputs": [],
   "source": [
    "def get_sigma(S, K, r, tau, current_price):\n",
    "    call_price_final = partial(call_price, S=S, K=K, r=r, tau=tau)\n",
    "    def error(sigma):\n",
    "        return np.square(call_price_final(sigma) - current_price)\n",
    "    return minimize(error, 0.2).x[0]"
   ]
  },
  {
   "cell_type": "code",
   "execution_count": 17,
   "metadata": {},
   "outputs": [
    {
     "name": "stdout",
     "output_type": "stream",
     "text": [
      "The implied volatility is:  0.6064680543474251\n"
     ]
    }
   ],
   "source": [
    "S = 110.34\n",
    "K = 120\n",
    "r = 0.0342\n",
    "tau = num_days/252\n",
    "current_price = 13.86\n",
    "sigma = get_sigma(S, K, r, tau, current_price)\n",
    "print(\"The implied volatility is: \", sigma)"
   ]
  },
  {
   "attachments": {},
   "cell_type": "markdown",
   "metadata": {},
   "source": [
    "We can see that the implied volatility is greater than the historical volatility."
   ]
  }
 ],
 "metadata": {
  "kernelspec": {
   "display_name": "pystock",
   "language": "python",
   "name": "python3"
  },
  "language_info": {
   "codemirror_mode": {
    "name": "ipython",
    "version": 3
   },
   "file_extension": ".py",
   "mimetype": "text/x-python",
   "name": "python",
   "nbconvert_exporter": "python",
   "pygments_lexer": "ipython3",
   "version": "3.10.8 (main, Nov 24 2022, 14:13:03) [GCC 11.2.0]"
  },
  "orig_nbformat": 4,
  "vscode": {
   "interpreter": {
    "hash": "7ebaacb0403aebb325b7fb1ecd0dc0a490fa477092d0e43a0ad42b3d0b95a2ea"
   }
  }
 },
 "nbformat": 4,
 "nbformat_minor": 2
}
