{
 "cells": [
  {
   "attachments": {},
   "cell_type": "markdown",
   "metadata": {},
   "source": [
    "<h1 id=\"Contents\">Contents<a href=\"#Contents\"></a></h1>\n",
    "        <ol>\n",
    "        <li><a class=\"\" href=\"#Fama%E2%80%93French-five-factor-model\">Fama–French five-factor model</a></li>\n",
    "<ol><li><a class=\"\" href=\"#Market-Excess-Return\">Market Excess Return</a></li>\n",
    "<li><a class=\"\" href=\"#Small-Minus-Big\">Small Minus Big</a></li>\n",
    "<li><a class=\"\" href=\"#High-Minus-Low\">High Minus Low</a></li>\n",
    "<li><a class=\"\" href=\"#Robust-Minus-Weak\">Robust Minus Weak</a></li>\n",
    "<li><a class=\"\" href=\"#Conservative-Minus-Aggressive\">Conservative Minus Aggressive</a></li>\n",
    "<li><a class=\"\" href=\"#The-Model\">The Model</a></li>\n",
    "<li><a class=\"\" href=\"#Calculating-the-Factors-for-Apple\">Calculating the Factors for Apple</a></li>\n",
    "</ol>"
   ]
  },
  {
   "cell_type": "code",
   "execution_count": 1,
   "metadata": {},
   "outputs": [],
   "source": [
    "import pandas as pd\n",
    "import numpy as np\n",
    "import plotly.graph_objects as go\n",
    "import plotly.express as px\n",
    "import plotly.io as pio\n",
    "from plotly.subplots import make_subplots\n",
    "\n",
    "pio.renderers.default = \"notebook\"\n",
    "pio.templates.default = \"plotly_dark\"\n",
    "\n",
    "from pystock.FFF import FamaFrenchFactors\n",
    "from pystock.portfolio import Stock\n",
    "from pystock.utils import merge_dfs"
   ]
  },
  {
   "cell_type": "code",
   "execution_count": 2,
   "metadata": {},
   "outputs": [
    {
     "data": {
      "text/html": [
       "<div>\n",
       "<style scoped>\n",
       "    .dataframe tbody tr th:only-of-type {\n",
       "        vertical-align: middle;\n",
       "    }\n",
       "\n",
       "    .dataframe tbody tr th {\n",
       "        vertical-align: top;\n",
       "    }\n",
       "\n",
       "    .dataframe thead th {\n",
       "        text-align: right;\n",
       "    }\n",
       "</style>\n",
       "<table border=\"1\" class=\"dataframe\">\n",
       "  <thead>\n",
       "    <tr style=\"text-align: right;\">\n",
       "      <th></th>\n",
       "      <th>Mkt-RF</th>\n",
       "      <th>SMB</th>\n",
       "      <th>HML</th>\n",
       "      <th>RMW</th>\n",
       "      <th>CMA</th>\n",
       "      <th>RF</th>\n",
       "    </tr>\n",
       "  </thead>\n",
       "  <tbody>\n",
       "    <tr>\n",
       "      <th>1963-07-31</th>\n",
       "      <td>-0.0013</td>\n",
       "      <td>0.0011</td>\n",
       "      <td>-0.0003</td>\n",
       "      <td>-0.0013</td>\n",
       "      <td>0.0030</td>\n",
       "      <td>0.00012</td>\n",
       "    </tr>\n",
       "    <tr>\n",
       "      <th>1963-08-31</th>\n",
       "      <td>0.0044</td>\n",
       "      <td>0.0015</td>\n",
       "      <td>-0.0013</td>\n",
       "      <td>0.0015</td>\n",
       "      <td>-0.0021</td>\n",
       "      <td>0.00011</td>\n",
       "    </tr>\n",
       "    <tr>\n",
       "      <th>1963-09-30</th>\n",
       "      <td>-0.0060</td>\n",
       "      <td>0.0021</td>\n",
       "      <td>0.0008</td>\n",
       "      <td>0.0024</td>\n",
       "      <td>0.0013</td>\n",
       "      <td>0.00014</td>\n",
       "    </tr>\n",
       "    <tr>\n",
       "      <th>1963-10-31</th>\n",
       "      <td>0.0021</td>\n",
       "      <td>-0.0003</td>\n",
       "      <td>0.0008</td>\n",
       "      <td>0.0010</td>\n",
       "      <td>-0.0026</td>\n",
       "      <td>0.00013</td>\n",
       "    </tr>\n",
       "    <tr>\n",
       "      <th>1963-11-30</th>\n",
       "      <td>0.0134</td>\n",
       "      <td>0.0030</td>\n",
       "      <td>0.0029</td>\n",
       "      <td>-0.0031</td>\n",
       "      <td>-0.0015</td>\n",
       "      <td>0.00015</td>\n",
       "    </tr>\n",
       "  </tbody>\n",
       "</table>\n",
       "</div>"
      ],
      "text/plain": [
       "            Mkt-RF     SMB     HML     RMW     CMA       RF\n",
       "1963-07-31 -0.0013  0.0011 -0.0003 -0.0013  0.0030  0.00012\n",
       "1963-08-31  0.0044  0.0015 -0.0013  0.0015 -0.0021  0.00011\n",
       "1963-09-30 -0.0060  0.0021  0.0008  0.0024  0.0013  0.00014\n",
       "1963-10-31  0.0021 -0.0003  0.0008  0.0010 -0.0026  0.00013\n",
       "1963-11-30  0.0134  0.0030  0.0029 -0.0031 -0.0015  0.00015"
      ]
     },
     "execution_count": 2,
     "metadata": {},
     "output_type": "execute_result"
    }
   ],
   "source": [
    "fff = FamaFrenchFactors()\n",
    "apple = Stock(\"AAPL\", directory=\"Data/AAPL.csv\")\n",
    "apple.load_data(columns=[\"Adj Close\"], rename_cols=[\"Close\"], frequency=\"M\")\n",
    "\n",
    "fff5 = fff.load(factors=5, directory=\"fff\", frequency=\"M\")\n",
    "fff5.head()"
   ]
  },
  {
   "cell_type": "code",
   "execution_count": 5,
   "metadata": {},
   "outputs": [
    {
     "data": {
      "text/plain": [
       "Mkt-RF    0.000799\n",
       "SMB       0.001204\n",
       "HML      -0.000043\n",
       "RMW      -0.000530\n",
       "CMA      -0.000082\n",
       "RF        0.000172\n",
       "dtype: float64"
      ]
     },
     "execution_count": 5,
     "metadata": {},
     "output_type": "execute_result"
    }
   ],
   "source": [
    "fff.mean_values()"
   ]
  },
  {
   "cell_type": "code",
   "execution_count": 6,
   "metadata": {},
   "outputs": [
    {
     "data": {
      "text/html": [
       "<div>\n",
       "<style scoped>\n",
       "    .dataframe tbody tr th:only-of-type {\n",
       "        vertical-align: middle;\n",
       "    }\n",
       "\n",
       "    .dataframe tbody tr th {\n",
       "        vertical-align: top;\n",
       "    }\n",
       "\n",
       "    .dataframe thead th {\n",
       "        text-align: right;\n",
       "    }\n",
       "</style>\n",
       "<table border=\"1\" class=\"dataframe\">\n",
       "  <thead>\n",
       "    <tr style=\"text-align: right;\">\n",
       "      <th></th>\n",
       "      <th>Close</th>\n",
       "    </tr>\n",
       "    <tr>\n",
       "      <th>Date</th>\n",
       "      <th></th>\n",
       "    </tr>\n",
       "  </thead>\n",
       "  <tbody>\n",
       "    <tr>\n",
       "      <th>1980-12-31</th>\n",
       "      <td>0.118546</td>\n",
       "    </tr>\n",
       "    <tr>\n",
       "      <th>1981-01-31</th>\n",
       "      <td>0.098137</td>\n",
       "    </tr>\n",
       "    <tr>\n",
       "      <th>1981-02-28</th>\n",
       "      <td>0.092058</td>\n",
       "    </tr>\n",
       "    <tr>\n",
       "      <th>1981-03-31</th>\n",
       "      <td>0.085110</td>\n",
       "    </tr>\n",
       "    <tr>\n",
       "      <th>1981-04-30</th>\n",
       "      <td>0.098571</td>\n",
       "    </tr>\n",
       "    <tr>\n",
       "      <th>...</th>\n",
       "      <td>...</td>\n",
       "    </tr>\n",
       "    <tr>\n",
       "      <th>2022-07-31</th>\n",
       "      <td>162.015808</td>\n",
       "    </tr>\n",
       "    <tr>\n",
       "      <th>2022-08-31</th>\n",
       "      <td>156.959625</td>\n",
       "    </tr>\n",
       "    <tr>\n",
       "      <th>2022-09-30</th>\n",
       "      <td>137.971115</td>\n",
       "    </tr>\n",
       "    <tr>\n",
       "      <th>2022-10-31</th>\n",
       "      <td>153.086044</td>\n",
       "    </tr>\n",
       "    <tr>\n",
       "      <th>2022-11-30</th>\n",
       "      <td>148.029999</td>\n",
       "    </tr>\n",
       "  </tbody>\n",
       "</table>\n",
       "<p>504 rows × 1 columns</p>\n",
       "</div>"
      ],
      "text/plain": [
       "                 Close\n",
       "Date                  \n",
       "1980-12-31    0.118546\n",
       "1981-01-31    0.098137\n",
       "1981-02-28    0.092058\n",
       "1981-03-31    0.085110\n",
       "1981-04-30    0.098571\n",
       "...                ...\n",
       "2022-07-31  162.015808\n",
       "2022-08-31  156.959625\n",
       "2022-09-30  137.971115\n",
       "2022-10-31  153.086044\n",
       "2022-11-30  148.029999\n",
       "\n",
       "[504 rows x 1 columns]"
      ]
     },
     "execution_count": 6,
     "metadata": {},
     "output_type": "execute_result"
    }
   ],
   "source": [
    "apple.data"
   ]
  },
  {
   "attachments": {},
   "cell_type": "markdown",
   "metadata": {},
   "source": [
    "# Fama–French five-factor model"
   ]
  },
  {
   "attachments": {},
   "cell_type": "markdown",
   "metadata": {},
   "source": [
    "The five factor model is a model of asset returns that attempts to explain the returns of assets by five factors: size, value, momentum, profitability, and investment. The model was developed by Fama and French in 1993 and has been widely used in the finance industry since then."
   ]
  },
  {
   "attachments": {},
   "cell_type": "markdown",
   "metadata": {},
   "source": [
    "The five factors describing the model are:\n",
    "\n",
    "1. market excess return (MKT)\n",
    "2. the outperformance of small versus big companies (SMB)\n",
    "3. the outperformance of high book/market versus low book/market companies (HML)\n",
    "4. the profitability factor (RMW)\n",
    "5. investment factor (CMA)"
   ]
  },
  {
   "attachments": {},
   "cell_type": "markdown",
   "metadata": {},
   "source": [
    "Let's consider these factors in more detail."
   ]
  },
  {
   "attachments": {},
   "cell_type": "markdown",
   "metadata": {},
   "source": [
    "## Market Excess Return"
   ]
  },
  {
   "attachments": {},
   "cell_type": "markdown",
   "metadata": {},
   "source": [
    "This is equal to $R_m- R_f$ and gives the return of the market portfolio minus the risk-free rate. It is the return that an investor would expect to receive if they invested in the market portfolio."
   ]
  },
  {
   "attachments": {},
   "cell_type": "markdown",
   "metadata": {},
   "source": [
    "Rm-Rf includes all NYSE, AMEX, and NASDAQ firms. It is a market capitalization weighted index of all common stocks listed on the NYSE, AMEX, and NASDAQ. It is a price-weighted index of 3,000 stocks. The index is rebalanced quarterly and reconstituted annually."
   ]
  },
  {
   "attachments": {},
   "cell_type": "markdown",
   "metadata": {},
   "source": [
    "We'll be denoting it as $MER$."
   ]
  },
  {
   "attachments": {},
   "cell_type": "markdown",
   "metadata": {},
   "source": [
    "## Small Minus Big"
   ]
  },
  {
   "attachments": {},
   "cell_type": "markdown",
   "metadata": {},
   "source": [
    "This is the average return on the nine small stock portfolios minus the average return on the nine big stock portfolios,"
   ]
  },
  {
   "attachments": {},
   "cell_type": "markdown",
   "metadata": {},
   "source": [
    "<table>\n",
    "<tbody><tr>\n",
    "<td width=\"10\">&nbsp;</td>\n",
    "<td valign=\"top\" class=\"style1\">\n",
    "<font face=\"Times New Roman, Times, serif\" size=\"4\"><i>SMB<sub>(B/M)</sub> =<br>\n",
    "<br>\n",
    "<br>\n",
    "<br>\n",
    "SMB<sub>(OP)</sub> =<br>\n",
    "<br>\n",
    "<br>\n",
    "<br>\n",
    "SMB<sub>(INV)</sub> =<br>\n",
    "<br>\n",
    "<br>\n",
    "<br>\n",
    "<br>\n",
    "SMB = </i></font></td>\n",
    "<td valign=\"top\"><font face=\"Times New Roman, Times, serif\" size=\"4\"><i>\n",
    "1/3 (Small Value + Small Neutral + Small Growth) <br>\n",
    "&nbsp; - 1/3 (Big Value + Big Neutral + Big Growth).\t <br>\n",
    "<br>\n",
    "1/3 (Small Robust + Small Neutral + Small Weak)<br>\n",
    "&nbsp; - 1/3 (Big Robust + Big Neutral + Big Weak).<br>\n",
    "<br>\n",
    "1/3 (Small Conservative + Small Neutral + Small Aggressive)<br>\n",
    "&nbsp; - 1/3 (Big Conservative + Big Neutral + Big Aggressive).\n",
    "<br>\n",
    "<br>\n",
    "<br>\n",
    "1/3 (  SMB<sub>(B/M)</sub> + SMB<sub>(OP)</sub> + SMB<sub>(INV)</sub> ).<br>\n",
    "</i></font></td>\n",
    "<td width=\"10\">&nbsp;</td>\n",
    "</tr>\n",
    "</tbody></table>"
   ]
  },
  {
   "attachments": {},
   "cell_type": "markdown",
   "metadata": {},
   "source": [
    "We'll be denoting it as $SMB$."
   ]
  },
  {
   "attachments": {},
   "cell_type": "markdown",
   "metadata": {},
   "source": [
    "## High Minus Low"
   ]
  },
  {
   "attachments": {},
   "cell_type": "markdown",
   "metadata": {},
   "source": [
    "HML (High Minus Low) is the average return on the two value portfolios minus the average return on the two growth portfolios."
   ]
  },
  {
   "attachments": {},
   "cell_type": "markdown",
   "metadata": {},
   "source": [
    "<table><tbody><tr>\n",
    "<td width=\"10\">&nbsp;</td>\n",
    "<td valign=\"top\" class=\"style1\">\n",
    "<font face=\"Times New Roman, Times, serif\" size=\"4\"><i>HML =<br>\n",
    "<br>\n",
    "</i></font>\n",
    "</td>\n",
    "<td valign=\"top\"><font face=\"Times New Roman, Times, serif\" size=\"4\"><i>1/2 (Small Value +\n",
    "Big Value)<br>\n",
    "&nbsp;- 1/2 (Small Growth + Big Growth).</i></font></td>\n",
    "<td width=\"10\">&nbsp;</td>\n",
    "</tr>\n",
    "</tbody></table>"
   ]
  },
  {
   "attachments": {},
   "cell_type": "markdown",
   "metadata": {},
   "source": [
    "We'll be denoting it as $HML$."
   ]
  },
  {
   "attachments": {},
   "cell_type": "markdown",
   "metadata": {},
   "source": [
    "## Robust Minus Weak"
   ]
  },
  {
   "attachments": {},
   "cell_type": "markdown",
   "metadata": {},
   "source": [
    "RMW (Robust Minus Weak) is the average return on the two robust operating profitability portfolios minus the average return on the two weak operating profitability portfolios"
   ]
  },
  {
   "attachments": {},
   "cell_type": "markdown",
   "metadata": {},
   "source": [
    "<table><tbody><tr>\n",
    "    <td width=\"10\">&nbsp;</td>\n",
    "    <td valign=\"top\" class=\"style1\">\n",
    "    <font face=\"Times New Roman, Times, serif\" size=\"4\"><i>RMW =<br>\n",
    "    <br>\n",
    "    </i></font>\n",
    "    </td>\n",
    "    <td valign=\"top\"><font face=\"Times New Roman, Times, serif\" size=\"4\"><i>1/2 (Small Robust + Big Robust)<br>\n",
    "    &nbsp; - 1/2 (Small Weak + Big Weak).</i></font></td>\n",
    "    <td width=\"10\">&nbsp;</td>\n",
    "    </tr>\n",
    "    </tbody></table>"
   ]
  },
  {
   "attachments": {},
   "cell_type": "markdown",
   "metadata": {},
   "source": [
    "We'll be denoting it as $RMW$."
   ]
  },
  {
   "attachments": {},
   "cell_type": "markdown",
   "metadata": {},
   "source": [
    "## Conservative Minus Aggressive"
   ]
  },
  {
   "attachments": {},
   "cell_type": "markdown",
   "metadata": {},
   "source": [
    "CMA (Conservative Minus Aggressive) is the average return on the two conservative investment portfolios minus the average return on the two aggressive investment portfolios"
   ]
  },
  {
   "attachments": {},
   "cell_type": "markdown",
   "metadata": {},
   "source": [
    "<table><tbody><tr>\n",
    "    <td width=\"10\">&nbsp;</td>\n",
    "    <td valign=\"top\" class=\"style1\">\n",
    "    <font face=\"Times New Roman, Times, serif\" size=\"4\"><i>CMA =<br>\n",
    "    <br>\n",
    "    </i></font>\n",
    "    </td>\n",
    "    <td valign=\"top\"><font face=\"Times New Roman, Times, serif\" size=\"4\"><i>1/2 (Small\n",
    "    Conservative + Big Conservative)<br>\n",
    "    &nbsp; - 1/2 (Small Aggressive + Big Aggressive).</i></font></td>\n",
    "    <td width=\"10\">&nbsp;</td>\n",
    "    </tr>\n",
    "    </tbody></table>"
   ]
  },
  {
   "attachments": {},
   "cell_type": "markdown",
   "metadata": {},
   "source": [
    "## The Model"
   ]
  },
  {
   "attachments": {},
   "cell_type": "markdown",
   "metadata": {},
   "source": [
    "Using these factors, we can write the model as\n",
    "\n",
    "$$\n",
    "R = \\alpha + \\beta_i MER + \\beta_i SMB + \\beta_i HML + \\beta_i RMW + \\beta_i CMA + \\epsilon\n",
    "$$\n",
    "\n",
    "where $R$ is the return of the asset, $\\alpha$ is the intercept, $\\beta_i$ are the slopes, and $\\epsilon$ is the error term."
   ]
  },
  {
   "attachments": {},
   "cell_type": "markdown",
   "metadata": {},
   "source": [
    "If $R_f$ is the risk-free rate, then the model can be modified to include the risk-free rate as\n",
    "\n",
    "$$\n",
    "R - R_f = \\alpha + \\beta_i MER + \\beta_i SMB + \\beta_i HML + \\beta_i RMW + \\beta_i CMA + \\epsilon\n",
    "$$"
   ]
  },
  {
   "attachments": {},
   "cell_type": "markdown",
   "metadata": {},
   "source": [
    "The return value of one stock is a linear combination of the five factors. The coefficients $\\beta_i$ are the weights of the factors in the linear combination. The intercept $\\alpha$ is the expected return of the asset when all the factors are zero. The formula can be applied to all the stocks in the portfolio to get the expected return of the portfolio."
   ]
  },
  {
   "attachments": {},
   "cell_type": "markdown",
   "metadata": {},
   "source": [
    "## Calculating the Factors for Apple"
   ]
  },
  {
   "cell_type": "code",
   "execution_count": 7,
   "metadata": {},
   "outputs": [
    {
     "data": {
      "text/html": [
       "<div>\n",
       "<style scoped>\n",
       "    .dataframe tbody tr th:only-of-type {\n",
       "        vertical-align: middle;\n",
       "    }\n",
       "\n",
       "    .dataframe tbody tr th {\n",
       "        vertical-align: top;\n",
       "    }\n",
       "\n",
       "    .dataframe thead th {\n",
       "        text-align: right;\n",
       "    }\n",
       "</style>\n",
       "<table border=\"1\" class=\"dataframe\">\n",
       "  <thead>\n",
       "    <tr style=\"text-align: right;\">\n",
       "      <th></th>\n",
       "      <th>Close</th>\n",
       "    </tr>\n",
       "    <tr>\n",
       "      <th>Date</th>\n",
       "      <th></th>\n",
       "    </tr>\n",
       "  </thead>\n",
       "  <tbody>\n",
       "    <tr>\n",
       "      <th>1980-12-31</th>\n",
       "      <td>0.118546</td>\n",
       "    </tr>\n",
       "    <tr>\n",
       "      <th>1981-01-31</th>\n",
       "      <td>0.098137</td>\n",
       "    </tr>\n",
       "    <tr>\n",
       "      <th>1981-02-28</th>\n",
       "      <td>0.092058</td>\n",
       "    </tr>\n",
       "    <tr>\n",
       "      <th>1981-03-31</th>\n",
       "      <td>0.085110</td>\n",
       "    </tr>\n",
       "    <tr>\n",
       "      <th>1981-04-30</th>\n",
       "      <td>0.098571</td>\n",
       "    </tr>\n",
       "  </tbody>\n",
       "</table>\n",
       "</div>"
      ],
      "text/plain": [
       "               Close\n",
       "Date                \n",
       "1980-12-31  0.118546\n",
       "1981-01-31  0.098137\n",
       "1981-02-28  0.092058\n",
       "1981-03-31  0.085110\n",
       "1981-04-30  0.098571"
      ]
     },
     "execution_count": 7,
     "metadata": {},
     "output_type": "execute_result"
    }
   ],
   "source": [
    "apple.data.head()"
   ]
  },
  {
   "cell_type": "code",
   "execution_count": 8,
   "metadata": {},
   "outputs": [
    {
     "data": {
      "text/html": [
       "<div>\n",
       "<style scoped>\n",
       "    .dataframe tbody tr th:only-of-type {\n",
       "        vertical-align: middle;\n",
       "    }\n",
       "\n",
       "    .dataframe tbody tr th {\n",
       "        vertical-align: top;\n",
       "    }\n",
       "\n",
       "    .dataframe thead th {\n",
       "        text-align: right;\n",
       "    }\n",
       "</style>\n",
       "<table border=\"1\" class=\"dataframe\">\n",
       "  <thead>\n",
       "    <tr style=\"text-align: right;\">\n",
       "      <th></th>\n",
       "      <th>Mkt-RF</th>\n",
       "      <th>SMB</th>\n",
       "      <th>HML</th>\n",
       "      <th>RMW</th>\n",
       "      <th>CMA</th>\n",
       "      <th>RF</th>\n",
       "    </tr>\n",
       "  </thead>\n",
       "  <tbody>\n",
       "    <tr>\n",
       "      <th>1963-07-31</th>\n",
       "      <td>-0.0013</td>\n",
       "      <td>0.0011</td>\n",
       "      <td>-0.0003</td>\n",
       "      <td>-0.0013</td>\n",
       "      <td>0.0030</td>\n",
       "      <td>0.00012</td>\n",
       "    </tr>\n",
       "    <tr>\n",
       "      <th>1963-08-31</th>\n",
       "      <td>0.0044</td>\n",
       "      <td>0.0015</td>\n",
       "      <td>-0.0013</td>\n",
       "      <td>0.0015</td>\n",
       "      <td>-0.0021</td>\n",
       "      <td>0.00011</td>\n",
       "    </tr>\n",
       "    <tr>\n",
       "      <th>1963-09-30</th>\n",
       "      <td>-0.0060</td>\n",
       "      <td>0.0021</td>\n",
       "      <td>0.0008</td>\n",
       "      <td>0.0024</td>\n",
       "      <td>0.0013</td>\n",
       "      <td>0.00014</td>\n",
       "    </tr>\n",
       "    <tr>\n",
       "      <th>1963-10-31</th>\n",
       "      <td>0.0021</td>\n",
       "      <td>-0.0003</td>\n",
       "      <td>0.0008</td>\n",
       "      <td>0.0010</td>\n",
       "      <td>-0.0026</td>\n",
       "      <td>0.00013</td>\n",
       "    </tr>\n",
       "    <tr>\n",
       "      <th>1963-11-30</th>\n",
       "      <td>0.0134</td>\n",
       "      <td>0.0030</td>\n",
       "      <td>0.0029</td>\n",
       "      <td>-0.0031</td>\n",
       "      <td>-0.0015</td>\n",
       "      <td>0.00015</td>\n",
       "    </tr>\n",
       "  </tbody>\n",
       "</table>\n",
       "</div>"
      ],
      "text/plain": [
       "            Mkt-RF     SMB     HML     RMW     CMA       RF\n",
       "1963-07-31 -0.0013  0.0011 -0.0003 -0.0013  0.0030  0.00012\n",
       "1963-08-31  0.0044  0.0015 -0.0013  0.0015 -0.0021  0.00011\n",
       "1963-09-30 -0.0060  0.0021  0.0008  0.0024  0.0013  0.00014\n",
       "1963-10-31  0.0021 -0.0003  0.0008  0.0010 -0.0026  0.00013\n",
       "1963-11-30  0.0134  0.0030  0.0029 -0.0031 -0.0015  0.00015"
      ]
     },
     "execution_count": 8,
     "metadata": {},
     "output_type": "execute_result"
    }
   ],
   "source": [
    "fff5.head()"
   ]
  },
  {
   "cell_type": "code",
   "execution_count": 9,
   "metadata": {},
   "outputs": [
    {
     "data": {
      "text/html": [
       "<div>\n",
       "<style scoped>\n",
       "    .dataframe tbody tr th:only-of-type {\n",
       "        vertical-align: middle;\n",
       "    }\n",
       "\n",
       "    .dataframe tbody tr th {\n",
       "        vertical-align: top;\n",
       "    }\n",
       "\n",
       "    .dataframe thead th {\n",
       "        text-align: right;\n",
       "    }\n",
       "</style>\n",
       "<table border=\"1\" class=\"dataframe\">\n",
       "  <thead>\n",
       "    <tr style=\"text-align: right;\">\n",
       "      <th></th>\n",
       "      <th>Mkt-RF</th>\n",
       "      <th>SMB</th>\n",
       "      <th>HML</th>\n",
       "      <th>RMW</th>\n",
       "      <th>CMA</th>\n",
       "      <th>RF</th>\n",
       "    </tr>\n",
       "  </thead>\n",
       "  <tbody>\n",
       "    <tr>\n",
       "      <th>2022-07-31</th>\n",
       "      <td>0.0144</td>\n",
       "      <td>-0.0088</td>\n",
       "      <td>0.0045</td>\n",
       "      <td>0.0048</td>\n",
       "      <td>-0.0118</td>\n",
       "      <td>0.00004</td>\n",
       "    </tr>\n",
       "    <tr>\n",
       "      <th>2022-08-31</th>\n",
       "      <td>-0.0074</td>\n",
       "      <td>0.0022</td>\n",
       "      <td>-0.0044</td>\n",
       "      <td>-0.0063</td>\n",
       "      <td>-0.0012</td>\n",
       "      <td>0.00008</td>\n",
       "    </tr>\n",
       "    <tr>\n",
       "      <th>2022-09-30</th>\n",
       "      <td>-0.0142</td>\n",
       "      <td>0.0059</td>\n",
       "      <td>0.0027</td>\n",
       "      <td>-0.0067</td>\n",
       "      <td>-0.0009</td>\n",
       "      <td>0.00009</td>\n",
       "    </tr>\n",
       "    <tr>\n",
       "      <th>2022-10-31</th>\n",
       "      <td>-0.0067</td>\n",
       "      <td>0.0047</td>\n",
       "      <td>0.0075</td>\n",
       "      <td>-0.0021</td>\n",
       "      <td>0.0048</td>\n",
       "      <td>0.00011</td>\n",
       "    </tr>\n",
       "    <tr>\n",
       "      <th>2022-11-30</th>\n",
       "      <td>0.0312</td>\n",
       "      <td>-0.0014</td>\n",
       "      <td>-0.0207</td>\n",
       "      <td>-0.0078</td>\n",
       "      <td>-0.0142</td>\n",
       "      <td>0.00014</td>\n",
       "    </tr>\n",
       "  </tbody>\n",
       "</table>\n",
       "</div>"
      ],
      "text/plain": [
       "            Mkt-RF     SMB     HML     RMW     CMA       RF\n",
       "2022-07-31  0.0144 -0.0088  0.0045  0.0048 -0.0118  0.00004\n",
       "2022-08-31 -0.0074  0.0022 -0.0044 -0.0063 -0.0012  0.00008\n",
       "2022-09-30 -0.0142  0.0059  0.0027 -0.0067 -0.0009  0.00009\n",
       "2022-10-31 -0.0067  0.0047  0.0075 -0.0021  0.0048  0.00011\n",
       "2022-11-30  0.0312 -0.0014 -0.0207 -0.0078 -0.0142  0.00014"
      ]
     },
     "execution_count": 9,
     "metadata": {},
     "output_type": "execute_result"
    }
   ],
   "source": [
    "fff5.tail()"
   ]
  },
  {
   "cell_type": "code",
   "execution_count": 10,
   "metadata": {},
   "outputs": [
    {
     "data": {
      "text/html": [
       "<div>\n",
       "<style scoped>\n",
       "    .dataframe tbody tr th:only-of-type {\n",
       "        vertical-align: middle;\n",
       "    }\n",
       "\n",
       "    .dataframe tbody tr th {\n",
       "        vertical-align: top;\n",
       "    }\n",
       "\n",
       "    .dataframe thead th {\n",
       "        text-align: right;\n",
       "    }\n",
       "</style>\n",
       "<table border=\"1\" class=\"dataframe\">\n",
       "  <thead>\n",
       "    <tr style=\"text-align: right;\">\n",
       "      <th></th>\n",
       "      <th>Close</th>\n",
       "    </tr>\n",
       "    <tr>\n",
       "      <th>Date</th>\n",
       "      <th></th>\n",
       "    </tr>\n",
       "  </thead>\n",
       "  <tbody>\n",
       "    <tr>\n",
       "      <th>1981-01-31</th>\n",
       "      <td>-0.172163</td>\n",
       "    </tr>\n",
       "    <tr>\n",
       "      <th>1981-02-28</th>\n",
       "      <td>-0.061943</td>\n",
       "    </tr>\n",
       "    <tr>\n",
       "      <th>1981-03-31</th>\n",
       "      <td>-0.075475</td>\n",
       "    </tr>\n",
       "    <tr>\n",
       "      <th>1981-04-30</th>\n",
       "      <td>0.158162</td>\n",
       "    </tr>\n",
       "    <tr>\n",
       "      <th>1981-05-31</th>\n",
       "      <td>0.167398</td>\n",
       "    </tr>\n",
       "  </tbody>\n",
       "</table>\n",
       "</div>"
      ],
      "text/plain": [
       "               Close\n",
       "Date                \n",
       "1981-01-31 -0.172163\n",
       "1981-02-28 -0.061943\n",
       "1981-03-31 -0.075475\n",
       "1981-04-30  0.158162\n",
       "1981-05-31  0.167398"
      ]
     },
     "execution_count": 10,
     "metadata": {},
     "output_type": "execute_result"
    }
   ],
   "source": [
    "apple = apple.data.pct_change().dropna()\n",
    "apple.head()"
   ]
  },
  {
   "cell_type": "code",
   "execution_count": 12,
   "metadata": {},
   "outputs": [
    {
     "data": {
      "text/html": [
       "<div>\n",
       "<style scoped>\n",
       "    .dataframe tbody tr th:only-of-type {\n",
       "        vertical-align: middle;\n",
       "    }\n",
       "\n",
       "    .dataframe tbody tr th {\n",
       "        vertical-align: top;\n",
       "    }\n",
       "\n",
       "    .dataframe thead th {\n",
       "        text-align: right;\n",
       "    }\n",
       "</style>\n",
       "<table border=\"1\" class=\"dataframe\">\n",
       "  <thead>\n",
       "    <tr style=\"text-align: right;\">\n",
       "      <th></th>\n",
       "      <th>Close</th>\n",
       "      <th>Mkt-RF</th>\n",
       "      <th>SMB</th>\n",
       "      <th>HML</th>\n",
       "      <th>RMW</th>\n",
       "      <th>CMA</th>\n",
       "      <th>RF</th>\n",
       "    </tr>\n",
       "  </thead>\n",
       "  <tbody>\n",
       "    <tr>\n",
       "      <th>1981-01-31</th>\n",
       "      <td>-0.172163</td>\n",
       "      <td>-0.0048</td>\n",
       "      <td>0.0046</td>\n",
       "      <td>0.0095</td>\n",
       "      <td>-0.0051</td>\n",
       "      <td>0.0078</td>\n",
       "      <td>0.00049</td>\n",
       "    </tr>\n",
       "    <tr>\n",
       "      <th>1981-02-28</th>\n",
       "      <td>-0.061943</td>\n",
       "      <td>0.0095</td>\n",
       "      <td>0.0014</td>\n",
       "      <td>-0.0049</td>\n",
       "      <td>0.0035</td>\n",
       "      <td>-0.0045</td>\n",
       "      <td>0.00056</td>\n",
       "    </tr>\n",
       "    <tr>\n",
       "      <th>1981-03-31</th>\n",
       "      <td>-0.075475</td>\n",
       "      <td>0.0105</td>\n",
       "      <td>-0.0019</td>\n",
       "      <td>-0.0010</td>\n",
       "      <td>-0.0014</td>\n",
       "      <td>-0.0021</td>\n",
       "      <td>0.00055</td>\n",
       "    </tr>\n",
       "    <tr>\n",
       "      <th>1981-04-30</th>\n",
       "      <td>0.158162</td>\n",
       "      <td>0.0001</td>\n",
       "      <td>0.0019</td>\n",
       "      <td>-0.0042</td>\n",
       "      <td>-0.0010</td>\n",
       "      <td>0.0004</td>\n",
       "      <td>0.00051</td>\n",
       "    </tr>\n",
       "    <tr>\n",
       "      <th>1981-05-31</th>\n",
       "      <td>0.167398</td>\n",
       "      <td>-0.0046</td>\n",
       "      <td>0.0068</td>\n",
       "      <td>0.0034</td>\n",
       "      <td>-0.0001</td>\n",
       "      <td>0.0026</td>\n",
       "      <td>0.00057</td>\n",
       "    </tr>\n",
       "  </tbody>\n",
       "</table>\n",
       "</div>"
      ],
      "text/plain": [
       "               Close  Mkt-RF     SMB     HML     RMW     CMA       RF\n",
       "1981-01-31 -0.172163 -0.0048  0.0046  0.0095 -0.0051  0.0078  0.00049\n",
       "1981-02-28 -0.061943  0.0095  0.0014 -0.0049  0.0035 -0.0045  0.00056\n",
       "1981-03-31 -0.075475  0.0105 -0.0019 -0.0010 -0.0014 -0.0021  0.00055\n",
       "1981-04-30  0.158162  0.0001  0.0019 -0.0042 -0.0010  0.0004  0.00051\n",
       "1981-05-31  0.167398 -0.0046  0.0068  0.0034 -0.0001  0.0026  0.00057"
      ]
     },
     "execution_count": 12,
     "metadata": {},
     "output_type": "execute_result"
    }
   ],
   "source": [
    "df = merge_dfs([apple, fff5], join=\"inner\")\n",
    "df.head()"
   ]
  },
  {
   "attachments": {},
   "cell_type": "markdown",
   "metadata": {},
   "source": [
    "Now, we'll create a new column which will contain the expected return of the stock - the risk-free rate."
   ]
  },
  {
   "cell_type": "code",
   "execution_count": 13,
   "metadata": {},
   "outputs": [],
   "source": [
    "y = df[\"Close\"]-df[\"RF\"]"
   ]
  },
  {
   "cell_type": "code",
   "execution_count": 14,
   "metadata": {},
   "outputs": [],
   "source": [
    "X = df.drop([\"Close\", \"RF\"], axis=1)"
   ]
  },
  {
   "cell_type": "code",
   "execution_count": 15,
   "metadata": {},
   "outputs": [
    {
     "data": {
      "text/plain": [
       "Index(['Mkt-RF', 'SMB', 'HML', 'RMW', 'CMA'], dtype='object')"
      ]
     },
     "execution_count": 15,
     "metadata": {},
     "output_type": "execute_result"
    }
   ],
   "source": [
    "X.columns"
   ]
  },
  {
   "cell_type": "code",
   "execution_count": 16,
   "metadata": {},
   "outputs": [],
   "source": [
    "import statsmodels.api as sm"
   ]
  },
  {
   "cell_type": "code",
   "execution_count": 17,
   "metadata": {},
   "outputs": [],
   "source": [
    "X = sm.add_constant(X)"
   ]
  },
  {
   "cell_type": "code",
   "execution_count": 18,
   "metadata": {},
   "outputs": [],
   "source": [
    "model = sm.OLS(y, X).fit()"
   ]
  },
  {
   "cell_type": "code",
   "execution_count": 19,
   "metadata": {},
   "outputs": [
    {
     "name": "stdout",
     "output_type": "stream",
     "text": [
      "                            OLS Regression Results                            \n",
      "==============================================================================\n",
      "Dep. Variable:                      y   R-squared:                       0.018\n",
      "Model:                            OLS   Adj. R-squared:                  0.008\n",
      "Method:                 Least Squares   F-statistic:                     1.848\n",
      "Date:                Sun, 01 Jan 2023   Prob (F-statistic):              0.102\n",
      "Time:                        15:37:32   Log-Likelihood:                 321.73\n",
      "No. Observations:                 503   AIC:                            -631.5\n",
      "Df Residuals:                     497   BIC:                            -606.1\n",
      "Df Model:                           5                                         \n",
      "Covariance Type:            nonrobust                                         \n",
      "==============================================================================\n",
      "                 coef    std err          t      P>|t|      [0.025      0.975]\n",
      "------------------------------------------------------------------------------\n",
      "const          0.0230      0.006      3.919      0.000       0.011       0.035\n",
      "Mkt-RF        -0.0342      0.661     -0.052      0.959      -1.333       1.265\n",
      "SMB           -0.4239      0.924     -0.459      0.646      -2.238       1.391\n",
      "HML           -3.0842      1.105     -2.791      0.005      -5.256      -0.913\n",
      "RMW            0.0967      1.503      0.064      0.949      -2.856       3.049\n",
      "CMA            0.8200      1.914      0.428      0.669      -2.940       4.580\n",
      "==============================================================================\n",
      "Omnibus:                       11.678   Durbin-Watson:                   1.892\n",
      "Prob(Omnibus):                  0.003   Jarque-Bera (JB):               21.601\n",
      "Skew:                           0.019   Prob(JB):                     2.04e-05\n",
      "Kurtosis:                       4.014   Cond. No.                         352.\n",
      "==============================================================================\n",
      "\n",
      "Notes:\n",
      "[1] Standard Errors assume that the covariance matrix of the errors is correctly specified.\n"
     ]
    }
   ],
   "source": [
    "print(model.summary())"
   ]
  },
  {
   "cell_type": "code",
   "execution_count": 20,
   "metadata": {},
   "outputs": [],
   "source": [
    "params = model.params"
   ]
  },
  {
   "cell_type": "code",
   "execution_count": 21,
   "metadata": {},
   "outputs": [
    {
     "data": {
      "text/plain": [
       "const     0.023013\n",
       "Mkt-RF   -0.034175\n",
       "SMB      -0.423884\n",
       "HML      -3.084173\n",
       "RMW       0.096715\n",
       "CMA       0.819950\n",
       "dtype: float64"
      ]
     },
     "execution_count": 21,
     "metadata": {},
     "output_type": "execute_result"
    }
   ],
   "source": [
    "params"
   ]
  },
  {
   "cell_type": "code",
   "execution_count": 24,
   "metadata": {},
   "outputs": [
    {
     "data": {
      "text/plain": [
       "const     0.023013\n",
       "Mkt-RF   -0.034175\n",
       "SMB      -0.423884\n",
       "HML      -3.084173\n",
       "RMW       0.096715\n",
       "CMA       0.819950\n",
       "rf        1.000000\n",
       "dtype: float64"
      ]
     },
     "execution_count": 24,
     "metadata": {},
     "output_type": "execute_result"
    }
   ],
   "source": [
    "params[\"rf\"] = 1\n",
    "params"
   ]
  },
  {
   "cell_type": "code",
   "execution_count": 36,
   "metadata": {},
   "outputs": [],
   "source": [
    "A = [1]\n",
    "A.extend(params.values)"
   ]
  },
  {
   "cell_type": "code",
   "execution_count": 38,
   "metadata": {},
   "outputs": [
    {
     "data": {
      "text/plain": [
       "const     1.000000\n",
       "const     0.023013\n",
       "Mkt-RF   -0.034175\n",
       "SMB      -0.423884\n",
       "HML      -3.084173\n",
       "RMW       0.096715\n",
       "CMA       0.819950\n",
       "rf        1.000000\n",
       "dtype: float64"
      ]
     },
     "execution_count": 38,
     "metadata": {},
     "output_type": "execute_result"
    }
   ],
   "source": [
    "pd.Series(A, index=[\"const\"]+list(params.index))"
   ]
  },
  {
   "cell_type": "code",
   "execution_count": 25,
   "metadata": {},
   "outputs": [],
   "source": [
    "mean_mkt = df[\"Mkt-RF\"].mean()\n",
    "mean_smb = df[\"SMB\"].mean()\n",
    "mean_hml = df[\"HML\"].mean()\n",
    "mean_rf = df[\"RF\"].mean()\n",
    "mean_rmw = df[\"RMW\"].mean()\n",
    "mean_cma = df[\"CMA\"].mean()\n",
    "\n",
    "data = np.array([1, mean_mkt, mean_smb, mean_hml, mean_rmw, mean_cma, mean_rf])"
   ]
  },
  {
   "cell_type": "code",
   "execution_count": 26,
   "metadata": {},
   "outputs": [
    {
     "name": "stdout",
     "output_type": "stream",
     "text": [
      "Expected return: 2.27%\n"
     ]
    }
   ],
   "source": [
    "expected_return = np.dot(params, data)\n",
    "print(f\"Expected return: {expected_return*100:.2f}%\")"
   ]
  },
  {
   "cell_type": "code",
   "execution_count": 29,
   "metadata": {},
   "outputs": [],
   "source": [
    "def bigger_frequency(freq1, freq2):\n",
    "    \"\"\"\n",
    "    Check if `freq1` is a bigger frequency than `freq2`\n",
    "\n",
    "    Parameters\n",
    "    ----------\n",
    "    freq1 : str\n",
    "        Frequency 1\n",
    "    freq2 : str\n",
    "        Frequency 2\n",
    "\n",
    "    Returns\n",
    "    -------\n",
    "    bool\n",
    "        True if `freq1` is bigger than `freq2`\n",
    "    \"\"\"\n",
    "\n",
    "    freq_map = {\n",
    "        \"D\": 1,\n",
    "        \"W\": 2,\n",
    "        \"M\": 3,\n",
    "        \"Q\": 4,\n",
    "        \"Y\": 5,\n",
    "    }\n",
    "    return freq_map[freq1] > freq_map[freq2]"
   ]
  },
  {
   "cell_type": "code",
   "execution_count": 30,
   "metadata": {},
   "outputs": [
    {
     "data": {
      "text/plain": [
       "True"
      ]
     },
     "execution_count": 30,
     "metadata": {},
     "output_type": "execute_result"
    }
   ],
   "source": [
    "bigger_frequency(\"M\", \"D\")"
   ]
  },
  {
   "cell_type": "code",
   "execution_count": 1,
   "metadata": {},
   "outputs": [],
   "source": [
    "from pystock.portfolio import Stock"
   ]
  },
  {
   "cell_type": "code",
   "execution_count": 2,
   "metadata": {},
   "outputs": [],
   "source": [
    "apple = Stock(\"AAPL\", directory=\"Data/AAPL.csv\")"
   ]
  },
  {
   "cell_type": "code",
   "execution_count": 3,
   "metadata": {},
   "outputs": [
    {
     "data": {
      "text/html": [
       "<div>\n",
       "<style scoped>\n",
       "    .dataframe tbody tr th:only-of-type {\n",
       "        vertical-align: middle;\n",
       "    }\n",
       "\n",
       "    .dataframe tbody tr th {\n",
       "        vertical-align: top;\n",
       "    }\n",
       "\n",
       "    .dataframe thead th {\n",
       "        text-align: right;\n",
       "    }\n",
       "</style>\n",
       "<table border=\"1\" class=\"dataframe\">\n",
       "  <thead>\n",
       "    <tr style=\"text-align: right;\">\n",
       "      <th></th>\n",
       "      <th>Close</th>\n",
       "    </tr>\n",
       "    <tr>\n",
       "      <th>Date</th>\n",
       "      <th></th>\n",
       "    </tr>\n",
       "  </thead>\n",
       "  <tbody>\n",
       "    <tr>\n",
       "      <th>1980-12-12</th>\n",
       "      <td>0.099874</td>\n",
       "    </tr>\n",
       "    <tr>\n",
       "      <th>1980-12-13</th>\n",
       "      <td>0.099874</td>\n",
       "    </tr>\n",
       "    <tr>\n",
       "      <th>1980-12-14</th>\n",
       "      <td>0.099874</td>\n",
       "    </tr>\n",
       "    <tr>\n",
       "      <th>1980-12-15</th>\n",
       "      <td>0.094663</td>\n",
       "    </tr>\n",
       "    <tr>\n",
       "      <th>1980-12-16</th>\n",
       "      <td>0.087715</td>\n",
       "    </tr>\n",
       "    <tr>\n",
       "      <th>...</th>\n",
       "      <td>...</td>\n",
       "    </tr>\n",
       "    <tr>\n",
       "      <th>2022-12-25</th>\n",
       "      <td>131.860001</td>\n",
       "    </tr>\n",
       "    <tr>\n",
       "      <th>2022-12-26</th>\n",
       "      <td>131.860001</td>\n",
       "    </tr>\n",
       "    <tr>\n",
       "      <th>2022-12-27</th>\n",
       "      <td>130.029999</td>\n",
       "    </tr>\n",
       "    <tr>\n",
       "      <th>2022-12-28</th>\n",
       "      <td>126.040001</td>\n",
       "    </tr>\n",
       "    <tr>\n",
       "      <th>2022-12-29</th>\n",
       "      <td>129.610001</td>\n",
       "    </tr>\n",
       "  </tbody>\n",
       "</table>\n",
       "<p>15358 rows × 1 columns</p>\n",
       "</div>"
      ],
      "text/plain": [
       "                 Close\n",
       "Date                  \n",
       "1980-12-12    0.099874\n",
       "1980-12-13    0.099874\n",
       "1980-12-14    0.099874\n",
       "1980-12-15    0.094663\n",
       "1980-12-16    0.087715\n",
       "...                ...\n",
       "2022-12-25  131.860001\n",
       "2022-12-26  131.860001\n",
       "2022-12-27  130.029999\n",
       "2022-12-28  126.040001\n",
       "2022-12-29  129.610001\n",
       "\n",
       "[15358 rows x 1 columns]"
      ]
     },
     "execution_count": 3,
     "metadata": {},
     "output_type": "execute_result"
    }
   ],
   "source": [
    "apple.load_data(columns=[\"Adj Close\"], rename_cols=[\"Close\"], frequency=\"D\")"
   ]
  },
  {
   "cell_type": "code",
   "execution_count": 4,
   "metadata": {},
   "outputs": [
    {
     "data": {
      "text/html": [
       "<div>\n",
       "<style scoped>\n",
       "    .dataframe tbody tr th:only-of-type {\n",
       "        vertical-align: middle;\n",
       "    }\n",
       "\n",
       "    .dataframe tbody tr th {\n",
       "        vertical-align: top;\n",
       "    }\n",
       "\n",
       "    .dataframe thead th {\n",
       "        text-align: right;\n",
       "    }\n",
       "</style>\n",
       "<table border=\"1\" class=\"dataframe\">\n",
       "  <thead>\n",
       "    <tr style=\"text-align: right;\">\n",
       "      <th></th>\n",
       "      <th>Mkt-RF</th>\n",
       "      <th>SMB</th>\n",
       "      <th>HML</th>\n",
       "      <th>RMW</th>\n",
       "      <th>CMA</th>\n",
       "      <th>RF</th>\n",
       "    </tr>\n",
       "  </thead>\n",
       "  <tbody>\n",
       "    <tr>\n",
       "      <th>1963-07-31</th>\n",
       "      <td>-0.0013</td>\n",
       "      <td>0.0011</td>\n",
       "      <td>-0.0003</td>\n",
       "      <td>-0.0013</td>\n",
       "      <td>0.0030</td>\n",
       "      <td>0.00012</td>\n",
       "    </tr>\n",
       "    <tr>\n",
       "      <th>1963-08-31</th>\n",
       "      <td>0.0044</td>\n",
       "      <td>0.0015</td>\n",
       "      <td>-0.0013</td>\n",
       "      <td>0.0015</td>\n",
       "      <td>-0.0021</td>\n",
       "      <td>0.00011</td>\n",
       "    </tr>\n",
       "    <tr>\n",
       "      <th>1963-09-30</th>\n",
       "      <td>-0.0060</td>\n",
       "      <td>0.0021</td>\n",
       "      <td>0.0008</td>\n",
       "      <td>0.0024</td>\n",
       "      <td>0.0013</td>\n",
       "      <td>0.00014</td>\n",
       "    </tr>\n",
       "    <tr>\n",
       "      <th>1963-10-31</th>\n",
       "      <td>0.0021</td>\n",
       "      <td>-0.0003</td>\n",
       "      <td>0.0008</td>\n",
       "      <td>0.0010</td>\n",
       "      <td>-0.0026</td>\n",
       "      <td>0.00013</td>\n",
       "    </tr>\n",
       "    <tr>\n",
       "      <th>1963-11-30</th>\n",
       "      <td>0.0134</td>\n",
       "      <td>0.0030</td>\n",
       "      <td>0.0029</td>\n",
       "      <td>-0.0031</td>\n",
       "      <td>-0.0015</td>\n",
       "      <td>0.00015</td>\n",
       "    </tr>\n",
       "    <tr>\n",
       "      <th>...</th>\n",
       "      <td>...</td>\n",
       "      <td>...</td>\n",
       "      <td>...</td>\n",
       "      <td>...</td>\n",
       "      <td>...</td>\n",
       "      <td>...</td>\n",
       "    </tr>\n",
       "    <tr>\n",
       "      <th>2022-07-31</th>\n",
       "      <td>0.0144</td>\n",
       "      <td>-0.0088</td>\n",
       "      <td>0.0045</td>\n",
       "      <td>0.0048</td>\n",
       "      <td>-0.0118</td>\n",
       "      <td>0.00004</td>\n",
       "    </tr>\n",
       "    <tr>\n",
       "      <th>2022-08-31</th>\n",
       "      <td>-0.0074</td>\n",
       "      <td>0.0022</td>\n",
       "      <td>-0.0044</td>\n",
       "      <td>-0.0063</td>\n",
       "      <td>-0.0012</td>\n",
       "      <td>0.00008</td>\n",
       "    </tr>\n",
       "    <tr>\n",
       "      <th>2022-09-30</th>\n",
       "      <td>-0.0142</td>\n",
       "      <td>0.0059</td>\n",
       "      <td>0.0027</td>\n",
       "      <td>-0.0067</td>\n",
       "      <td>-0.0009</td>\n",
       "      <td>0.00009</td>\n",
       "    </tr>\n",
       "    <tr>\n",
       "      <th>2022-10-31</th>\n",
       "      <td>-0.0067</td>\n",
       "      <td>0.0047</td>\n",
       "      <td>0.0075</td>\n",
       "      <td>-0.0021</td>\n",
       "      <td>0.0048</td>\n",
       "      <td>0.00011</td>\n",
       "    </tr>\n",
       "    <tr>\n",
       "      <th>2022-11-30</th>\n",
       "      <td>0.0312</td>\n",
       "      <td>-0.0014</td>\n",
       "      <td>-0.0207</td>\n",
       "      <td>-0.0078</td>\n",
       "      <td>-0.0142</td>\n",
       "      <td>0.00014</td>\n",
       "    </tr>\n",
       "  </tbody>\n",
       "</table>\n",
       "<p>713 rows × 6 columns</p>\n",
       "</div>"
      ],
      "text/plain": [
       "            Mkt-RF     SMB     HML     RMW     CMA       RF\n",
       "1963-07-31 -0.0013  0.0011 -0.0003 -0.0013  0.0030  0.00012\n",
       "1963-08-31  0.0044  0.0015 -0.0013  0.0015 -0.0021  0.00011\n",
       "1963-09-30 -0.0060  0.0021  0.0008  0.0024  0.0013  0.00014\n",
       "1963-10-31  0.0021 -0.0003  0.0008  0.0010 -0.0026  0.00013\n",
       "1963-11-30  0.0134  0.0030  0.0029 -0.0031 -0.0015  0.00015\n",
       "...            ...     ...     ...     ...     ...      ...\n",
       "2022-07-31  0.0144 -0.0088  0.0045  0.0048 -0.0118  0.00004\n",
       "2022-08-31 -0.0074  0.0022 -0.0044 -0.0063 -0.0012  0.00008\n",
       "2022-09-30 -0.0142  0.0059  0.0027 -0.0067 -0.0009  0.00009\n",
       "2022-10-31 -0.0067  0.0047  0.0075 -0.0021  0.0048  0.00011\n",
       "2022-11-30  0.0312 -0.0014 -0.0207 -0.0078 -0.0142  0.00014\n",
       "\n",
       "[713 rows x 6 columns]"
      ]
     },
     "execution_count": 4,
     "metadata": {},
     "output_type": "execute_result"
    }
   ],
   "source": [
    "apple.load_fff(factors=5, directory=\"fff\", frequency=\"M\")"
   ]
  },
  {
   "cell_type": "code",
   "execution_count": 5,
   "metadata": {},
   "outputs": [
    {
     "name": "stdout",
     "output_type": "stream",
     "text": [
      "Frequency of stock stock and fama french factors are not equal. Equating frequencies... to D and M respectively.\n",
      "Fama French Factors Calculated\n",
      "                            OLS Regression Results                            \n",
      "==============================================================================\n",
      "Dep. Variable:                      y   R-squared:                       0.018\n",
      "Model:                            OLS   Adj. R-squared:                  0.008\n",
      "Method:                 Least Squares   F-statistic:                     1.848\n",
      "Date:                Sun, 01 Jan 2023   Prob (F-statistic):              0.102\n",
      "Time:                        15:14:49   Log-Likelihood:                 321.73\n",
      "No. Observations:                 503   AIC:                            -631.5\n",
      "Df Residuals:                     497   BIC:                            -606.1\n",
      "Df Model:                           5                                         \n",
      "Covariance Type:            nonrobust                                         \n",
      "==============================================================================\n",
      "                 coef    std err          t      P>|t|      [0.025      0.975]\n",
      "------------------------------------------------------------------------------\n",
      "const          0.0230      0.006      3.919      0.000       0.011       0.035\n",
      "Mkt-RF        -0.0342      0.661     -0.052      0.959      -1.333       1.265\n",
      "SMB           -0.4239      0.924     -0.459      0.646      -2.238       1.391\n",
      "HML           -3.0842      1.105     -2.791      0.005      -5.256      -0.913\n",
      "RMW            0.0967      1.503      0.064      0.949      -2.856       3.049\n",
      "CMA            0.8200      1.914      0.428      0.669      -2.940       4.580\n",
      "==============================================================================\n",
      "Omnibus:                       11.678   Durbin-Watson:                   1.892\n",
      "Prob(Omnibus):                  0.003   Jarque-Bera (JB):               21.601\n",
      "Skew:                           0.019   Prob(JB):                     2.04e-05\n",
      "Kurtosis:                       4.014   Cond. No.                         352.\n",
      "==============================================================================\n",
      "\n",
      "Notes:\n",
      "[1] Standard Errors assume that the covariance matrix of the errors is correctly specified.\n"
     ]
    }
   ],
   "source": [
    "params = apple.calculate_fff()"
   ]
  },
  {
   "cell_type": "code",
   "execution_count": 9,
   "metadata": {},
   "outputs": [
    {
     "data": {
      "text/plain": [
       "const     0.023013\n",
       "Mkt-RF   -0.034175\n",
       "SMB      -0.423884\n",
       "HML      -3.084173\n",
       "RMW       0.096715\n",
       "CMA       0.819950\n",
       "dtype: float64"
      ]
     },
     "execution_count": 9,
     "metadata": {},
     "output_type": "execute_result"
    }
   ],
   "source": [
    "apple.params"
   ]
  },
  {
   "cell_type": "code",
   "execution_count": 10,
   "metadata": {},
   "outputs": [
    {
     "data": {
      "text/plain": [
       "dict_keys(['name', 'directory', 'loaded', 'return_', 'fff', 'data', 'columns', 'start_date', 'end_date', 'frequency', 'params'])"
      ]
     },
     "execution_count": 10,
     "metadata": {},
     "output_type": "execute_result"
    }
   ],
   "source": [
    "apple.__dict__.keys()"
   ]
  },
  {
   "cell_type": "code",
   "execution_count": 12,
   "metadata": {},
   "outputs": [
    {
     "data": {
      "text/plain": [
       "'M'"
      ]
     },
     "execution_count": 12,
     "metadata": {},
     "output_type": "execute_result"
    }
   ],
   "source": [
    "apple.frequency"
   ]
  },
  {
   "cell_type": "code",
   "execution_count": 1,
   "metadata": {},
   "outputs": [],
   "source": [
    "from pystock.portfolio import Portfolio\n",
    "from pystock.models import Model\n",
    "from pystock.FFF import FamaFrenchFactors\n",
    "import numpy as np"
   ]
  },
  {
   "cell_type": "code",
   "execution_count": 2,
   "metadata": {},
   "outputs": [],
   "source": [
    "benchmark_dir = \"Data/GSPC.csv\"\n",
    "benchmark_name = \"S&P\"\n",
    "\n",
    "stock_dirs = [\"Data/AAPL.csv\", \"Data/MSFT.csv\", \"Data/GOOG.csv\", \"Data/TSLA.csv\"]\n",
    "stock_names = [\"AAPL\", \"MSFT\", \"GOOG\", \"TSLA\"]\n",
    "\n",
    "pt = Portfolio(benchmark_dir, benchmark_name, stock_dirs, stock_names)\n",
    "start_date = \"2012-01-01\"\n",
    "end_date = \"2022-12-20\"\n",
    "pt.load_benchmark(columns=[\"Adj Close\"], rename_cols=[\"Close\"], start_date=start_date, end_date=end_date)\n",
    "pt.load_all(columns=[\"Adj Close\"], rename_cols=[\"Close\"], start_date=start_date, end_date=end_date)"
   ]
  },
  {
   "cell_type": "code",
   "execution_count": 3,
   "metadata": {},
   "outputs": [],
   "source": [
    "m = Model(\"M\")"
   ]
  },
  {
   "cell_type": "code",
   "execution_count": 4,
   "metadata": {},
   "outputs": [
    {
     "name": "stdout",
     "output_type": "stream",
     "text": [
      "Frequency of stock stock and fama french factors are not equal. Equating frequencies... to D and M respectively.\n",
      "Frequency of stock stock and fama french factors are not equal. Equating frequencies... to D and M respectively.\n",
      "Frequency of stock stock and fama french factors are not equal. Equating frequencies... to D and M respectively.\n",
      "Frequency of stock stock and fama french factors are not equal. Equating frequencies... to D and M respectively.\n",
      "Done. Here are the parameters\n",
      "+------------+------------+------------+------------+\n",
      "|       AAPL |       MSFT |       GOOG |       TSLA |\n",
      "|------------+------------+------------+------------|\n",
      "|  0.0185366 |  0.0192982 |  0.0140484 |  0.0389433 |\n",
      "|  0.791173  |  1.05123   |  0.0481774 | -2.34344   |\n",
      "| -3.74438   | -1.16769   | -1.68188   | -9.60767   |\n",
      "| -2.06079   | -1.68714   | -2.2483    | -1.77381   |\n",
      "|  1.57347   |  2.876     |  3.37034   | -2.31403   |\n",
      "|  3.77877   |  1.96595   |  0.6877    | -4.76799   |\n",
      "|  1         |  1         |  1         |  1         |\n",
      "+------------+------------+------------+------------+\n"
     ]
    }
   ],
   "source": [
    "pt.calculate_fff_params(factors=5, directory=\"fff\", frequency=\"M\", verbose=0)"
   ]
  },
  {
   "cell_type": "code",
   "execution_count": 8,
   "metadata": {},
   "outputs": [
    {
     "data": {
      "text/plain": [
       "const     0.018537\n",
       "Mkt-RF    0.791173\n",
       "SMB      -3.744382\n",
       "HML      -2.060791\n",
       "RMW       1.573470\n",
       "CMA       3.778772\n",
       "rf        1.000000\n",
       "dtype: float64"
      ]
     },
     "execution_count": 8,
     "metadata": {},
     "output_type": "execute_result"
    }
   ],
   "source": [
    "pt.stocks[0].params"
   ]
  },
  {
   "cell_type": "code",
   "execution_count": 6,
   "metadata": {},
   "outputs": [
    {
     "data": {
      "text/html": [
       "<div>\n",
       "<style scoped>\n",
       "    .dataframe tbody tr th:only-of-type {\n",
       "        vertical-align: middle;\n",
       "    }\n",
       "\n",
       "    .dataframe tbody tr th {\n",
       "        vertical-align: top;\n",
       "    }\n",
       "\n",
       "    .dataframe thead th {\n",
       "        text-align: right;\n",
       "    }\n",
       "</style>\n",
       "<table border=\"1\" class=\"dataframe\">\n",
       "  <thead>\n",
       "    <tr style=\"text-align: right;\">\n",
       "      <th></th>\n",
       "      <th>Mkt-RF</th>\n",
       "      <th>SMB</th>\n",
       "      <th>HML</th>\n",
       "      <th>RMW</th>\n",
       "      <th>CMA</th>\n",
       "      <th>RF</th>\n",
       "    </tr>\n",
       "  </thead>\n",
       "  <tbody>\n",
       "    <tr>\n",
       "      <th>1963-07-31</th>\n",
       "      <td>-0.0013</td>\n",
       "      <td>0.0011</td>\n",
       "      <td>-0.0003</td>\n",
       "      <td>-0.0013</td>\n",
       "      <td>0.0030</td>\n",
       "      <td>0.00012</td>\n",
       "    </tr>\n",
       "    <tr>\n",
       "      <th>1963-08-31</th>\n",
       "      <td>0.0044</td>\n",
       "      <td>0.0015</td>\n",
       "      <td>-0.0013</td>\n",
       "      <td>0.0015</td>\n",
       "      <td>-0.0021</td>\n",
       "      <td>0.00011</td>\n",
       "    </tr>\n",
       "    <tr>\n",
       "      <th>1963-09-30</th>\n",
       "      <td>-0.0060</td>\n",
       "      <td>0.0021</td>\n",
       "      <td>0.0008</td>\n",
       "      <td>0.0024</td>\n",
       "      <td>0.0013</td>\n",
       "      <td>0.00014</td>\n",
       "    </tr>\n",
       "    <tr>\n",
       "      <th>1963-10-31</th>\n",
       "      <td>0.0021</td>\n",
       "      <td>-0.0003</td>\n",
       "      <td>0.0008</td>\n",
       "      <td>0.0010</td>\n",
       "      <td>-0.0026</td>\n",
       "      <td>0.00013</td>\n",
       "    </tr>\n",
       "    <tr>\n",
       "      <th>1963-11-30</th>\n",
       "      <td>0.0134</td>\n",
       "      <td>0.0030</td>\n",
       "      <td>0.0029</td>\n",
       "      <td>-0.0031</td>\n",
       "      <td>-0.0015</td>\n",
       "      <td>0.00015</td>\n",
       "    </tr>\n",
       "  </tbody>\n",
       "</table>\n",
       "</div>"
      ],
      "text/plain": [
       "            Mkt-RF     SMB     HML     RMW     CMA       RF\n",
       "1963-07-31 -0.0013  0.0011 -0.0003 -0.0013  0.0030  0.00012\n",
       "1963-08-31  0.0044  0.0015 -0.0013  0.0015 -0.0021  0.00011\n",
       "1963-09-30 -0.0060  0.0021  0.0008  0.0024  0.0013  0.00014\n",
       "1963-10-31  0.0021 -0.0003  0.0008  0.0010 -0.0026  0.00013\n",
       "1963-11-30  0.0134  0.0030  0.0029 -0.0031 -0.0015  0.00015"
      ]
     },
     "execution_count": 6,
     "metadata": {},
     "output_type": "execute_result"
    }
   ],
   "source": [
    "fff = FamaFrenchFactors()\n",
    "\n",
    "fff5 = fff.load(factors=5, directory=\"fff\", frequency=\"M\")\n",
    "fff5.head()"
   ]
  },
  {
   "cell_type": "code",
   "execution_count": 7,
   "metadata": {},
   "outputs": [],
   "source": [
    "means = fff.mean_values()"
   ]
  },
  {
   "cell_type": "code",
   "execution_count": 8,
   "metadata": {},
   "outputs": [
    {
     "data": {
      "text/plain": [
       "const     1.000000\n",
       "Mkt-RF    0.000799\n",
       "SMB       0.001204\n",
       "HML      -0.000043\n",
       "RMW      -0.000530\n",
       "CMA      -0.000082\n",
       "RF        0.000172\n",
       "dtype: float64"
      ]
     },
     "execution_count": 8,
     "metadata": {},
     "output_type": "execute_result"
    }
   ],
   "source": [
    "means"
   ]
  },
  {
   "cell_type": "code",
   "execution_count": 11,
   "metadata": {},
   "outputs": [
    {
     "data": {
      "text/plain": [
       "0.010487174535701976"
      ]
     },
     "execution_count": 11,
     "metadata": {},
     "output_type": "execute_result"
    }
   ],
   "source": [
    "np.dot(means, pt.stocks[2].params)"
   ]
  },
  {
   "cell_type": "code",
   "execution_count": 14,
   "metadata": {},
   "outputs": [
    {
     "data": {
      "text/plain": [
       "const     0.018537\n",
       "Mkt-RF    0.791173\n",
       "SMB      -3.744382\n",
       "HML      -2.060791\n",
       "RMW       1.573470\n",
       "CMA       3.778772\n",
       "rf        1.000000\n",
       "dtype: float64"
      ]
     },
     "execution_count": 14,
     "metadata": {},
     "output_type": "execute_result"
    }
   ],
   "source": [
    "pt[\"AAPL\"].params"
   ]
  },
  {
   "cell_type": "code",
   "execution_count": 19,
   "metadata": {},
   "outputs": [
    {
     "data": {
      "text/plain": [
       "const     1.000000\n",
       "Mkt-RF    0.000799\n",
       "SMB       0.001204\n",
       "HML      -0.000043\n",
       "RMW      -0.000530\n",
       "CMA      -0.000082\n",
       "RF        0.000172\n",
       "dtype: float64"
      ]
     },
     "execution_count": 19,
     "metadata": {},
     "output_type": "execute_result"
    }
   ],
   "source": [
    "pt[\"AAPL\"].fff.mean_values()"
   ]
  },
  {
   "cell_type": "code",
   "execution_count": 22,
   "metadata": {},
   "outputs": [
    {
     "data": {
      "text/plain": [
       "const     1.000000\n",
       "Mkt-RF    0.000799\n",
       "SMB       0.001204\n",
       "HML      -0.000043\n",
       "RF        0.000172\n",
       "dtype: float64"
      ]
     },
     "execution_count": 22,
     "metadata": {},
     "output_type": "execute_result"
    }
   ],
   "source": [
    "means.iloc[[0,1,2,3,-1]]"
   ]
  },
  {
   "cell_type": "code",
   "execution_count": 23,
   "metadata": {},
   "outputs": [
    {
     "data": {
      "text/plain": [
       "const     0.018537\n",
       "Mkt-RF    0.791173\n",
       "SMB      -3.744382\n",
       "HML      -2.060791\n",
       "rf        1.000000\n",
       "dtype: float64"
      ]
     },
     "execution_count": 23,
     "metadata": {},
     "output_type": "execute_result"
    }
   ],
   "source": [
    "pt[\"AAPL\"].params.iloc[[0,1,2,3,-1]]"
   ]
  },
  {
   "cell_type": "code",
   "execution_count": 7,
   "metadata": {},
   "outputs": [
    {
     "data": {
      "text/plain": [
       "True"
      ]
     },
     "execution_count": 7,
     "metadata": {},
     "output_type": "execute_result"
    }
   ],
   "source": [
    "isinstance(None, object)"
   ]
  },
  {
   "cell_type": "code",
   "execution_count": null,
   "metadata": {},
   "outputs": [],
   "source": []
  }
 ],
 "metadata": {
  "kernelspec": {
   "display_name": "data-science",
   "language": "python",
   "name": "python3"
  },
  "language_info": {
   "codemirror_mode": {
    "name": "ipython",
    "version": 3
   },
   "file_extension": ".py",
   "mimetype": "text/x-python",
   "name": "python",
   "nbconvert_exporter": "python",
   "pygments_lexer": "ipython3",
   "version": "3.9.15 (main, Nov 24 2022, 14:31:59) \n[GCC 11.2.0]"
  },
  "orig_nbformat": 4,
  "vscode": {
   "interpreter": {
    "hash": "2efee1efa502125d01e6b4768ba06d9453d29f3642bfd14ad5d4a769de82e88c"
   }
  }
 },
 "nbformat": 4,
 "nbformat_minor": 2
}
