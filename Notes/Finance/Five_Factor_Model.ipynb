{
 "cells": [
  {
   "attachments": {},
   "cell_type": "markdown",
   "metadata": {},
   "source": [
    "<h1 id=\"Contents\">Contents<a href=\"#Contents\"></a></h1>\n",
    "        <ol>\n",
    "        <li><a class=\"\" href=\"#Fama%E2%80%93French-five-factor-model\">Fama–French five-factor model</a></li>\n",
    "<ol><li><a class=\"\" href=\"#Market-Excess-Return\">Market Excess Return</a></li>\n",
    "<li><a class=\"\" href=\"#Small-Minus-Big\">Small Minus Big</a></li>\n",
    "<li><a class=\"\" href=\"#High-Minus-Low\">High Minus Low</a></li>\n",
    "<li><a class=\"\" href=\"#Robust-Minus-Weak\">Robust Minus Weak</a></li>\n",
    "<li><a class=\"\" href=\"#Conservative-Minus-Aggressive\">Conservative Minus Aggressive</a></li>\n",
    "<li><a class=\"\" href=\"#The-Model\">The Model</a></li>\n",
    "</ol>"
   ]
  },
  {
   "attachments": {},
   "cell_type": "markdown",
   "metadata": {},
   "source": [
    "# Fama–French five-factor model"
   ]
  },
  {
   "attachments": {},
   "cell_type": "markdown",
   "metadata": {},
   "source": [
    "The five factor model is a model of asset returns that attempts to explain the returns of assets by five factors: size, value, momentum, profitability, and investment. The model was developed by Fama and French in 1993 and has been widely used in the finance industry since then."
   ]
  },
  {
   "attachments": {},
   "cell_type": "markdown",
   "metadata": {},
   "source": [
    "The five factors describing the model are:\n",
    "\n",
    "1. market excess return (MKT)\n",
    "2. the outperformance of small versus big companies (SMB)\n",
    "3. the outperformance of high book/market versus low book/market companies (HML)\n",
    "4. the profitability factor (RMW)\n",
    "5. investment factor (CMA)"
   ]
  },
  {
   "attachments": {},
   "cell_type": "markdown",
   "metadata": {},
   "source": [
    "Let's consider these factors in more detail."
   ]
  },
  {
   "attachments": {},
   "cell_type": "markdown",
   "metadata": {},
   "source": [
    "## Market Excess Return"
   ]
  },
  {
   "attachments": {},
   "cell_type": "markdown",
   "metadata": {},
   "source": [
    "This is equal to $R_m- R_f$ and gives the return of the market portfolio minus the risk-free rate. It is the return that an investor would expect to receive if they invested in the market portfolio."
   ]
  },
  {
   "attachments": {},
   "cell_type": "markdown",
   "metadata": {},
   "source": [
    "Rm-Rf includes all NYSE, AMEX, and NASDAQ firms. It is a market capitalization weighted index of all common stocks listed on the NYSE, AMEX, and NASDAQ. It is a price-weighted index of 3,000 stocks. The index is rebalanced quarterly and reconstituted annually."
   ]
  },
  {
   "attachments": {},
   "cell_type": "markdown",
   "metadata": {},
   "source": [
    "We'll be denoting it as $MER$."
   ]
  },
  {
   "attachments": {},
   "cell_type": "markdown",
   "metadata": {},
   "source": [
    "## Small Minus Big"
   ]
  },
  {
   "attachments": {},
   "cell_type": "markdown",
   "metadata": {},
   "source": [
    "This is the average return on the nine small stock portfolios minus the average return on the nine big stock portfolios,"
   ]
  },
  {
   "attachments": {},
   "cell_type": "markdown",
   "metadata": {},
   "source": [
    "<table>\n",
    "<tbody><tr>\n",
    "<td width=\"10\">&nbsp;</td>\n",
    "<td valign=\"top\" class=\"style1\">\n",
    "<font face=\"Times New Roman, Times, serif\" size=\"4\"><i>SMB<sub>(B/M)</sub> =<br>\n",
    "<br>\n",
    "<br>\n",
    "<br>\n",
    "SMB<sub>(OP)</sub> =<br>\n",
    "<br>\n",
    "<br>\n",
    "<br>\n",
    "SMB<sub>(INV)</sub> =<br>\n",
    "<br>\n",
    "<br>\n",
    "<br>\n",
    "<br>\n",
    "SMB = </i></font></td>\n",
    "<td valign=\"top\"><font face=\"Times New Roman, Times, serif\" size=\"4\"><i>\n",
    "1/3 (Small Value + Small Neutral + Small Growth) <br>\n",
    "&nbsp; - 1/3 (Big Value + Big Neutral + Big Growth).\t <br>\n",
    "<br>\n",
    "1/3 (Small Robust + Small Neutral + Small Weak)<br>\n",
    "&nbsp; - 1/3 (Big Robust + Big Neutral + Big Weak).<br>\n",
    "<br>\n",
    "1/3 (Small Conservative + Small Neutral + Small Aggressive)<br>\n",
    "&nbsp; - 1/3 (Big Conservative + Big Neutral + Big Aggressive).\n",
    "<br>\n",
    "<br>\n",
    "<br>\n",
    "1/3 (  SMB<sub>(B/M)</sub> + SMB<sub>(OP)</sub> + SMB<sub>(INV)</sub> ).<br>\n",
    "</i></font></td>\n",
    "<td width=\"10\">&nbsp;</td>\n",
    "</tr>\n",
    "</tbody></table>"
   ]
  },
  {
   "attachments": {},
   "cell_type": "markdown",
   "metadata": {},
   "source": [
    "We'll be denoting it as $SMB$."
   ]
  },
  {
   "attachments": {},
   "cell_type": "markdown",
   "metadata": {},
   "source": [
    "## High Minus Low"
   ]
  },
  {
   "attachments": {},
   "cell_type": "markdown",
   "metadata": {},
   "source": [
    "HML (High Minus Low) is the average return on the two value portfolios minus the average return on the two growth portfolios."
   ]
  },
  {
   "attachments": {},
   "cell_type": "markdown",
   "metadata": {},
   "source": [
    "<table><tbody><tr>\n",
    "<td width=\"10\">&nbsp;</td>\n",
    "<td valign=\"top\" class=\"style1\">\n",
    "<font face=\"Times New Roman, Times, serif\" size=\"4\"><i>HML =<br>\n",
    "<br>\n",
    "</i></font>\n",
    "</td>\n",
    "<td valign=\"top\"><font face=\"Times New Roman, Times, serif\" size=\"4\"><i>1/2 (Small Value +\n",
    "Big Value)<br>\n",
    "&nbsp;- 1/2 (Small Growth + Big Growth).</i></font></td>\n",
    "<td width=\"10\">&nbsp;</td>\n",
    "</tr>\n",
    "</tbody></table>"
   ]
  },
  {
   "attachments": {},
   "cell_type": "markdown",
   "metadata": {},
   "source": [
    "We'll be denoting it as $HML$."
   ]
  },
  {
   "attachments": {},
   "cell_type": "markdown",
   "metadata": {},
   "source": [
    "## Robust Minus Weak"
   ]
  },
  {
   "attachments": {},
   "cell_type": "markdown",
   "metadata": {},
   "source": [
    "RMW (Robust Minus Weak) is the average return on the two robust operating profitability portfolios minus the average return on the two weak operating profitability portfolios"
   ]
  },
  {
   "attachments": {},
   "cell_type": "markdown",
   "metadata": {},
   "source": [
    "<table><tbody><tr>\n",
    "    <td width=\"10\">&nbsp;</td>\n",
    "    <td valign=\"top\" class=\"style1\">\n",
    "    <font face=\"Times New Roman, Times, serif\" size=\"4\"><i>RMW =<br>\n",
    "    <br>\n",
    "    </i></font>\n",
    "    </td>\n",
    "    <td valign=\"top\"><font face=\"Times New Roman, Times, serif\" size=\"4\"><i>1/2 (Small Robust + Big Robust)<br>\n",
    "    &nbsp; - 1/2 (Small Weak + Big Weak).</i></font></td>\n",
    "    <td width=\"10\">&nbsp;</td>\n",
    "    </tr>\n",
    "    </tbody></table>"
   ]
  },
  {
   "attachments": {},
   "cell_type": "markdown",
   "metadata": {},
   "source": [
    "We'll be denoting it as $RMW$."
   ]
  },
  {
   "attachments": {},
   "cell_type": "markdown",
   "metadata": {},
   "source": [
    "## Conservative Minus Aggressive"
   ]
  },
  {
   "attachments": {},
   "cell_type": "markdown",
   "metadata": {},
   "source": [
    "CMA (Conservative Minus Aggressive) is the average return on the two conservative investment portfolios minus the average return on the two aggressive investment portfolios"
   ]
  },
  {
   "attachments": {},
   "cell_type": "markdown",
   "metadata": {},
   "source": [
    "<table><tbody><tr>\n",
    "    <td width=\"10\">&nbsp;</td>\n",
    "    <td valign=\"top\" class=\"style1\">\n",
    "    <font face=\"Times New Roman, Times, serif\" size=\"4\"><i>CMA =<br>\n",
    "    <br>\n",
    "    </i></font>\n",
    "    </td>\n",
    "    <td valign=\"top\"><font face=\"Times New Roman, Times, serif\" size=\"4\"><i>1/2 (Small\n",
    "    Conservative + Big Conservative)<br>\n",
    "    &nbsp; - 1/2 (Small Aggressive + Big Aggressive).</i></font></td>\n",
    "    <td width=\"10\">&nbsp;</td>\n",
    "    </tr>\n",
    "    </tbody></table>"
   ]
  },
  {
   "attachments": {},
   "cell_type": "markdown",
   "metadata": {},
   "source": [
    "## The Model"
   ]
  },
  {
   "attachments": {},
   "cell_type": "markdown",
   "metadata": {},
   "source": [
    "Using these factors, we can write the model as\n",
    "\n",
    "$$\n",
    "R = \\alpha + \\beta_i MER + \\beta_i SMB + \\beta_i HML + \\beta_i RMW + \\beta_i CMA + \\epsilon\n",
    "$$\n",
    "\n",
    "where $R$ is the return of the asset, $\\alpha$ is the intercept, $\\beta_i$ are the slopes, and $\\epsilon$ is the error term."
   ]
  },
  {
   "attachments": {},
   "cell_type": "markdown",
   "metadata": {},
   "source": [
    "If $R_f$ is the risk-free rate, then the model can be modified to include the risk-free rate as\n",
    "\n",
    "$$\n",
    "R - R_f = \\alpha + \\beta_i MER + \\beta_i SMB + \\beta_i HML + \\beta_i RMW + \\beta_i CMA + \\epsilon\n",
    "$$"
   ]
  },
  {
   "attachments": {},
   "cell_type": "markdown",
   "metadata": {},
   "source": [
    "The return value of one stock is a linear combination of the five factors. The coefficients $\\beta_i$ are the weights of the factors in the linear combination. The intercept $\\alpha$ is the expected return of the asset when all the factors are zero. The formula can be applied to all the stocks in the portfolio to get the expected return of the portfolio."
   ]
  }
 ],
 "metadata": {
  "kernelspec": {
   "display_name": "data-science",
   "language": "python",
   "name": "python3"
  },
  "language_info": {
   "codemirror_mode": {
    "name": "ipython",
    "version": 3
   },
   "file_extension": ".py",
   "mimetype": "text/x-python",
   "name": "python",
   "nbconvert_exporter": "python",
   "pygments_lexer": "ipython3",
   "version": "3.9.15 (main, Nov 24 2022, 14:31:59) \n[GCC 11.2.0]"
  },
  "orig_nbformat": 4,
  "vscode": {
   "interpreter": {
    "hash": "2efee1efa502125d01e6b4768ba06d9453d29f3642bfd14ad5d4a769de82e88c"
   }
  }
 },
 "nbformat": 4,
 "nbformat_minor": 2
}
