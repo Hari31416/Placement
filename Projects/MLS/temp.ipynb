{
 "cells": [
  {
   "cell_type": "code",
   "execution_count": 6,
   "metadata": {},
   "outputs": [],
   "source": [
    "import sys\n",
    "sys.path.append('../../tools')"
   ]
  },
  {
   "cell_type": "code",
   "execution_count": 7,
   "metadata": {
    "scrolled": true
   },
   "outputs": [],
   "source": [
    "from files.notebook import Notebook"
   ]
  },
  {
   "cell_type": "code",
   "execution_count": 8,
   "metadata": {},
   "outputs": [],
   "source": [
    "nb = Notebook()"
   ]
  },
  {
   "cell_type": "code",
   "execution_count": 11,
   "metadata": {},
   "outputs": [
    {
     "data": {
      "text/plain": [
       "['./Notes.ipynb', './temp.ipynb']"
      ]
     },
     "execution_count": 11,
     "metadata": {},
     "output_type": "execute_result"
    }
   ],
   "source": [
    "nb.notebooks"
   ]
  },
  {
   "cell_type": "code",
   "execution_count": 12,
   "metadata": {},
   "outputs": [
    {
     "name": "stdout",
     "output_type": "stream",
     "text": [
      "Converting the Notebook to HTML.\n",
      "Looking for the Headers and their positions.\n",
      "Getting correct order of the Headers.\n",
      "Creating the Contents.\n",
      "Content copied to clipboard.\n"
     ]
    }
   ],
   "source": [
    "text = nb.create_content(nb.notebooks[0], return_string=True)"
   ]
  },
  {
   "cell_type": "code",
   "execution_count": 13,
   "metadata": {},
   "outputs": [
    {
     "name": "stdout",
     "output_type": "stream",
     "text": [
      "<h2 id=\"Contents\">Contents<a href=\"#Contents\"></a></h2>\n",
      "        <ol>\n",
      "        <li><a class=\"\" href=\"#Imports\">Imports</a></li>\n",
      "<li><a class=\"\" href=\"#Course-2\">Course 2</a></li>\n",
      "<ol><li><a class=\"\" href=\"#Improved-Implementation-of-softmax\">Improved Implementation of softmax</a></li>\n",
      "<li><a class=\"\" href=\"#Measuring-Purity\">Measuring Purity</a></li>\n",
      "<ol><li><a class=\"\" href=\"#Entropy\">Entropy</a></li>\n",
      "<li><a class=\"\" href=\"#Gini-Index\">Gini Index</a></li>\n",
      "</ol><li><a class=\"\" href=\"#Choosing-a-split:-Information-Gain\">Choosing a split: Information Gain</a></li>\n",
      "</ol><li><a class=\"\" href=\"#Course-3\">Course 3</a></li>\n",
      "<ol><li><a class=\"\" href=\"#Anomaly-detection-vs.-supervised-learning\">Anomaly detection vs. supervised learning</a></li>\n",
      "<ol><li><a class=\"\" href=\"#Anomaly-detection\">Anomaly detection</a></li>\n",
      "<li><a class=\"\" href=\"#Supervised-learning\">Supervised learning</a></li>\n",
      "</ol><li><a class=\"\" href=\"#Recommender-Systems\">Recommender Systems</a></li>\n",
      "<ol><li><a class=\"\" href=\"#Deep-Learning-for-recommender-systems\">Deep Learning for recommender systems</a></li>\n",
      "</ol><li><a class=\"\" href=\"#Reinforcement-Learning\">Reinforcement Learning</a></li>\n",
      "<ol><li><a class=\"\" href=\"#Markov-Decision-Process\">Markov Decision Process</a></li>\n",
      "<li><a class=\"\" href=\"#The-Mars-Rover-Example\">The Mars Rover Example</a></li>\n",
      "<li><a class=\"\" href=\"#State\">State</a></li>\n",
      "<li><a class=\"\" href=\"#Action\">Action</a></li>\n",
      "<li><a class=\"\" href=\"#Reward\">Reward</a></li>\n",
      "<li><a class=\"\" href=\"#Return\">Return</a></li>\n",
      "<li><a class=\"\" href=\"#Policy\">Policy</a></li>\n",
      "<li><a class=\"\" href=\"#Review\">Review</a></li>\n",
      "<li><a class=\"\" href=\"#State-Action-Value-Function:-Q\">State-Action Value Function: Q</a></li>\n",
      "<li><a class=\"\" href=\"#Bellman-Equation\">Bellman Equation</a></li>\n",
      "<li><a class=\"\" href=\"#Continuous-State\">Continuous State</a></li>\n",
      "<li><a class=\"\" href=\"#Lunar-Lander\">Lunar Lander</a></li>\n",
      "<li><a class=\"\" href=\"#Training-a-Neural-Network\">Training a Neural Network</a></li>\n",
      "<li><a class=\"\" href=\"#$%5Cepsilon$---Greedy-Policy\">$\\epsilon$ - Greedy Policy</a></li>\n",
      "</ol>\n"
     ]
    }
   ],
   "source": [
    "print(text)"
   ]
  },
  {
   "cell_type": "code",
   "execution_count": 14,
   "metadata": {},
   "outputs": [
    {
     "name": "stderr",
     "output_type": "stream",
     "text": [
      "Exporting notebooks...: 100%|██████████| 2/2 [00:00<00:00,  3.02it/s]\n"
     ]
    }
   ],
   "source": [
    "files = nb.export_directory()"
   ]
  },
  {
   "cell_type": "code",
   "execution_count": 15,
   "metadata": {},
   "outputs": [
    {
     "data": {
      "text/plain": [
       "['././Notes.html', '././temp.html']"
      ]
     },
     "execution_count": 15,
     "metadata": {},
     "output_type": "execute_result"
    }
   ],
   "source": [
    "files"
   ]
  },
  {
   "cell_type": "code",
   "execution_count": 16,
   "metadata": {},
   "outputs": [
    {
     "name": "stdout",
     "output_type": "stream",
     "text": [
      "<ul><li>\n",
      "            <a href=\"Projects/MLS/Notes.html\" target=\"blank\" class=\"links\">Notes</a>\n",
      "          </li></ul>\n"
     ]
    }
   ],
   "source": [
    "start = \"<ul>\"\n",
    "end = \"</ul>\"\n",
    "for f in files:\n",
    "    if \"temp\" in f:\n",
    "        continue\n",
    "    file = f.split(\"/\")[-1]\n",
    "    name = file.split(\".\")[0]\n",
    "    name = name.replace(\"_\", \" \")\n",
    "    start+=f\"\"\"<li>\n",
    "            <a href=\"Projects/MLS/{file}\" target=\"blank\" class=\"links\">{name}</a>\n",
    "          </li>\"\"\"\n",
    "start+=end\n",
    "print(start)"
   ]
  },
  {
   "cell_type": "code",
   "execution_count": 20,
   "metadata": {},
   "outputs": [
    {
     "name": "stderr",
     "output_type": "stream",
     "text": [
      "QXcbClipboard::setMimeData: Cannot set X11 selection owner\n"
     ]
    }
   ],
   "source": [
    "import pyperclip\n",
    "pyperclip.copy(text)"
   ]
  },
  {
   "cell_type": "code",
   "execution_count": 13,
   "metadata": {},
   "outputs": [
    {
     "data": {
      "text/plain": [
       "['.\\\\Easy_1.ipynb',\n",
       " '.\\\\Easy_2.ipynb',\n",
       " '.\\\\Easy_3.ipynb',\n",
       " '.\\\\Hard_1.ipynb',\n",
       " '.\\\\Medium_1.ipynb',\n",
       " '.\\\\Medium_2.ipynb',\n",
       " '.\\\\temp.ipynb']"
      ]
     },
     "execution_count": 13,
     "metadata": {},
     "output_type": "execute_result"
    }
   ],
   "source": [
    "nb.notebooks"
   ]
  },
  {
   "cell_type": "code",
   "execution_count": 15,
   "metadata": {},
   "outputs": [
    {
     "data": {
      "text/plain": [
       "'.\\\\Easy_3.html'"
      ]
     },
     "execution_count": 15,
     "metadata": {},
     "output_type": "execute_result"
    }
   ],
   "source": [
    "nb.export_notebook(nb.notebooks[2])"
   ]
  },
  {
   "cell_type": "code",
   "execution_count": null,
   "metadata": {},
   "outputs": [],
   "source": []
  }
 ],
 "metadata": {
  "kernelspec": {
   "display_name": "Python 3 (ipykernel)",
   "language": "python",
   "name": "python3"
  },
  "language_info": {
   "codemirror_mode": {
    "name": "ipython",
    "version": 3
   },
   "file_extension": ".py",
   "mimetype": "text/x-python",
   "name": "python",
   "nbconvert_exporter": "python",
   "pygments_lexer": "ipython3",
   "version": "3.9.12"
  },
  "vscode": {
   "interpreter": {
    "hash": "2efee1efa502125d01e6b4768ba06d9453d29f3642bfd14ad5d4a769de82e88c"
   }
  }
 },
 "nbformat": 4,
 "nbformat_minor": 2
}
