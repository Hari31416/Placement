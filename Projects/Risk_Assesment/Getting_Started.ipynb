{
 "cells": [
  {
   "attachments": {},
   "cell_type": "markdown",
   "metadata": {},
   "source": [
    "# Download Dataset"
   ]
  },
  {
   "cell_type": "code",
   "execution_count": 1,
   "metadata": {},
   "outputs": [
    {
     "name": "stdout",
     "output_type": "stream",
     "text": [
      "Downloading credit-risk-dataset.zip to /media/hari31416/Hari_SSD/Users/harik/Desktop/Placement/Projects/Risk_Assesment\n",
      "  0%|                                                | 0.00/368k [00:00<?, ?B/s]\n",
      "100%|████████████████████████████████████████| 368k/368k [00:00<00:00, 5.10MB/s]\n"
     ]
    }
   ],
   "source": [
    "!kaggle datasets download -d laotse/credit-risk-dataset"
   ]
  },
  {
   "cell_type": "code",
   "execution_count": 2,
   "metadata": {},
   "outputs": [
    {
     "name": "stdout",
     "output_type": "stream",
     "text": [
      "Archive:  credit-risk-dataset.zip\n",
      "  inflating: credit_risk_dataset.csv  \n"
     ]
    }
   ],
   "source": [
    "!unzip credit-risk-dataset.zip"
   ]
  },
  {
   "cell_type": "code",
   "execution_count": 3,
   "metadata": {},
   "outputs": [],
   "source": [
    "!rm credit-risk-dataset.zip"
   ]
  },
  {
   "attachments": {},
   "cell_type": "markdown",
   "metadata": {},
   "source": [
    "# Imports"
   ]
  },
  {
   "cell_type": "code",
   "execution_count": 4,
   "metadata": {},
   "outputs": [],
   "source": [
    "import pandas as pd\n",
    "import numpy as np\n",
    "import matplotlib.pyplot as plt\n",
    "import seaborn as sns\n",
    "import plotly.express as px\n",
    "import plotly.graph_objects as go\n",
    "import plotly.io as io\n",
    "\n",
    "io.templates.default = \"plotly_dark\"\n",
    "io.renderers.default = \"notebook_connected\"\n"
   ]
  },
  {
   "cell_type": "code",
   "execution_count": 56,
   "metadata": {},
   "outputs": [],
   "source": [
    "from sklearn.model_selection import train_test_split\n",
    "from sklearn.preprocessing import StandardScaler\n",
    "from catboost import CatBoostClassifier\n",
    "from sklearn.metrics import accuracy_score, confusion_matrix, classification_report\n",
    "import optuna"
   ]
  },
  {
   "attachments": {},
   "cell_type": "markdown",
   "metadata": {},
   "source": [
    "# EDA"
   ]
  },
  {
   "cell_type": "code",
   "execution_count": 5,
   "metadata": {},
   "outputs": [
    {
     "data": {
      "text/html": [
       "<div>\n",
       "<style scoped>\n",
       "    .dataframe tbody tr th:only-of-type {\n",
       "        vertical-align: middle;\n",
       "    }\n",
       "\n",
       "    .dataframe tbody tr th {\n",
       "        vertical-align: top;\n",
       "    }\n",
       "\n",
       "    .dataframe thead th {\n",
       "        text-align: right;\n",
       "    }\n",
       "</style>\n",
       "<table border=\"1\" class=\"dataframe\">\n",
       "  <thead>\n",
       "    <tr style=\"text-align: right;\">\n",
       "      <th></th>\n",
       "      <th>person_age</th>\n",
       "      <th>person_income</th>\n",
       "      <th>person_home_ownership</th>\n",
       "      <th>person_emp_length</th>\n",
       "      <th>loan_intent</th>\n",
       "      <th>loan_grade</th>\n",
       "      <th>loan_amnt</th>\n",
       "      <th>loan_int_rate</th>\n",
       "      <th>loan_status</th>\n",
       "      <th>loan_percent_income</th>\n",
       "      <th>cb_person_default_on_file</th>\n",
       "      <th>cb_person_cred_hist_length</th>\n",
       "    </tr>\n",
       "  </thead>\n",
       "  <tbody>\n",
       "    <tr>\n",
       "      <th>0</th>\n",
       "      <td>22</td>\n",
       "      <td>59000</td>\n",
       "      <td>RENT</td>\n",
       "      <td>123.0</td>\n",
       "      <td>PERSONAL</td>\n",
       "      <td>D</td>\n",
       "      <td>35000</td>\n",
       "      <td>16.02</td>\n",
       "      <td>1</td>\n",
       "      <td>0.59</td>\n",
       "      <td>Y</td>\n",
       "      <td>3</td>\n",
       "    </tr>\n",
       "    <tr>\n",
       "      <th>1</th>\n",
       "      <td>21</td>\n",
       "      <td>9600</td>\n",
       "      <td>OWN</td>\n",
       "      <td>5.0</td>\n",
       "      <td>EDUCATION</td>\n",
       "      <td>B</td>\n",
       "      <td>1000</td>\n",
       "      <td>11.14</td>\n",
       "      <td>0</td>\n",
       "      <td>0.10</td>\n",
       "      <td>N</td>\n",
       "      <td>2</td>\n",
       "    </tr>\n",
       "    <tr>\n",
       "      <th>2</th>\n",
       "      <td>25</td>\n",
       "      <td>9600</td>\n",
       "      <td>MORTGAGE</td>\n",
       "      <td>1.0</td>\n",
       "      <td>MEDICAL</td>\n",
       "      <td>C</td>\n",
       "      <td>5500</td>\n",
       "      <td>12.87</td>\n",
       "      <td>1</td>\n",
       "      <td>0.57</td>\n",
       "      <td>N</td>\n",
       "      <td>3</td>\n",
       "    </tr>\n",
       "    <tr>\n",
       "      <th>3</th>\n",
       "      <td>23</td>\n",
       "      <td>65500</td>\n",
       "      <td>RENT</td>\n",
       "      <td>4.0</td>\n",
       "      <td>MEDICAL</td>\n",
       "      <td>C</td>\n",
       "      <td>35000</td>\n",
       "      <td>15.23</td>\n",
       "      <td>1</td>\n",
       "      <td>0.53</td>\n",
       "      <td>N</td>\n",
       "      <td>2</td>\n",
       "    </tr>\n",
       "    <tr>\n",
       "      <th>4</th>\n",
       "      <td>24</td>\n",
       "      <td>54400</td>\n",
       "      <td>RENT</td>\n",
       "      <td>8.0</td>\n",
       "      <td>MEDICAL</td>\n",
       "      <td>C</td>\n",
       "      <td>35000</td>\n",
       "      <td>14.27</td>\n",
       "      <td>1</td>\n",
       "      <td>0.55</td>\n",
       "      <td>Y</td>\n",
       "      <td>4</td>\n",
       "    </tr>\n",
       "  </tbody>\n",
       "</table>\n",
       "</div>"
      ],
      "text/plain": [
       "   person_age  person_income person_home_ownership  person_emp_length  \\\n",
       "0          22          59000                  RENT              123.0   \n",
       "1          21           9600                   OWN                5.0   \n",
       "2          25           9600              MORTGAGE                1.0   \n",
       "3          23          65500                  RENT                4.0   \n",
       "4          24          54400                  RENT                8.0   \n",
       "\n",
       "  loan_intent loan_grade  loan_amnt  loan_int_rate  loan_status  \\\n",
       "0    PERSONAL          D      35000          16.02            1   \n",
       "1   EDUCATION          B       1000          11.14            0   \n",
       "2     MEDICAL          C       5500          12.87            1   \n",
       "3     MEDICAL          C      35000          15.23            1   \n",
       "4     MEDICAL          C      35000          14.27            1   \n",
       "\n",
       "   loan_percent_income cb_person_default_on_file  cb_person_cred_hist_length  \n",
       "0                 0.59                         Y                           3  \n",
       "1                 0.10                         N                           2  \n",
       "2                 0.57                         N                           3  \n",
       "3                 0.53                         N                           2  \n",
       "4                 0.55                         Y                           4  "
      ]
     },
     "execution_count": 5,
     "metadata": {},
     "output_type": "execute_result"
    }
   ],
   "source": [
    "df = pd.read_csv(\"credit_risk_dataset.csv\")\n",
    "df.head()"
   ]
  },
  {
   "cell_type": "code",
   "execution_count": 6,
   "metadata": {},
   "outputs": [
    {
     "data": {
      "text/html": [
       "<div>\n",
       "<style scoped>\n",
       "    .dataframe tbody tr th:only-of-type {\n",
       "        vertical-align: middle;\n",
       "    }\n",
       "\n",
       "    .dataframe tbody tr th {\n",
       "        vertical-align: top;\n",
       "    }\n",
       "\n",
       "    .dataframe thead th {\n",
       "        text-align: right;\n",
       "    }\n",
       "</style>\n",
       "<table border=\"1\" class=\"dataframe\">\n",
       "  <thead>\n",
       "    <tr style=\"text-align: right;\">\n",
       "      <th></th>\n",
       "      <th>person_age</th>\n",
       "      <th>person_income</th>\n",
       "      <th>person_emp_length</th>\n",
       "      <th>loan_amnt</th>\n",
       "      <th>loan_int_rate</th>\n",
       "      <th>loan_status</th>\n",
       "      <th>loan_percent_income</th>\n",
       "      <th>cb_person_cred_hist_length</th>\n",
       "    </tr>\n",
       "  </thead>\n",
       "  <tbody>\n",
       "    <tr>\n",
       "      <th>count</th>\n",
       "      <td>32581.000000</td>\n",
       "      <td>3.258100e+04</td>\n",
       "      <td>31686.000000</td>\n",
       "      <td>32581.000000</td>\n",
       "      <td>29465.000000</td>\n",
       "      <td>32581.000000</td>\n",
       "      <td>32581.000000</td>\n",
       "      <td>32581.000000</td>\n",
       "    </tr>\n",
       "    <tr>\n",
       "      <th>mean</th>\n",
       "      <td>27.734600</td>\n",
       "      <td>6.607485e+04</td>\n",
       "      <td>4.789686</td>\n",
       "      <td>9589.371106</td>\n",
       "      <td>11.011695</td>\n",
       "      <td>0.218164</td>\n",
       "      <td>0.170203</td>\n",
       "      <td>5.804211</td>\n",
       "    </tr>\n",
       "    <tr>\n",
       "      <th>std</th>\n",
       "      <td>6.348078</td>\n",
       "      <td>6.198312e+04</td>\n",
       "      <td>4.142630</td>\n",
       "      <td>6322.086646</td>\n",
       "      <td>3.240459</td>\n",
       "      <td>0.413006</td>\n",
       "      <td>0.106782</td>\n",
       "      <td>4.055001</td>\n",
       "    </tr>\n",
       "    <tr>\n",
       "      <th>min</th>\n",
       "      <td>20.000000</td>\n",
       "      <td>4.000000e+03</td>\n",
       "      <td>0.000000</td>\n",
       "      <td>500.000000</td>\n",
       "      <td>5.420000</td>\n",
       "      <td>0.000000</td>\n",
       "      <td>0.000000</td>\n",
       "      <td>2.000000</td>\n",
       "    </tr>\n",
       "    <tr>\n",
       "      <th>25%</th>\n",
       "      <td>23.000000</td>\n",
       "      <td>3.850000e+04</td>\n",
       "      <td>2.000000</td>\n",
       "      <td>5000.000000</td>\n",
       "      <td>7.900000</td>\n",
       "      <td>0.000000</td>\n",
       "      <td>0.090000</td>\n",
       "      <td>3.000000</td>\n",
       "    </tr>\n",
       "    <tr>\n",
       "      <th>50%</th>\n",
       "      <td>26.000000</td>\n",
       "      <td>5.500000e+04</td>\n",
       "      <td>4.000000</td>\n",
       "      <td>8000.000000</td>\n",
       "      <td>10.990000</td>\n",
       "      <td>0.000000</td>\n",
       "      <td>0.150000</td>\n",
       "      <td>4.000000</td>\n",
       "    </tr>\n",
       "    <tr>\n",
       "      <th>75%</th>\n",
       "      <td>30.000000</td>\n",
       "      <td>7.920000e+04</td>\n",
       "      <td>7.000000</td>\n",
       "      <td>12200.000000</td>\n",
       "      <td>13.470000</td>\n",
       "      <td>0.000000</td>\n",
       "      <td>0.230000</td>\n",
       "      <td>8.000000</td>\n",
       "    </tr>\n",
       "    <tr>\n",
       "      <th>max</th>\n",
       "      <td>144.000000</td>\n",
       "      <td>6.000000e+06</td>\n",
       "      <td>123.000000</td>\n",
       "      <td>35000.000000</td>\n",
       "      <td>23.220000</td>\n",
       "      <td>1.000000</td>\n",
       "      <td>0.830000</td>\n",
       "      <td>30.000000</td>\n",
       "    </tr>\n",
       "  </tbody>\n",
       "</table>\n",
       "</div>"
      ],
      "text/plain": [
       "         person_age  person_income  person_emp_length     loan_amnt  \\\n",
       "count  32581.000000   3.258100e+04       31686.000000  32581.000000   \n",
       "mean      27.734600   6.607485e+04           4.789686   9589.371106   \n",
       "std        6.348078   6.198312e+04           4.142630   6322.086646   \n",
       "min       20.000000   4.000000e+03           0.000000    500.000000   \n",
       "25%       23.000000   3.850000e+04           2.000000   5000.000000   \n",
       "50%       26.000000   5.500000e+04           4.000000   8000.000000   \n",
       "75%       30.000000   7.920000e+04           7.000000  12200.000000   \n",
       "max      144.000000   6.000000e+06         123.000000  35000.000000   \n",
       "\n",
       "       loan_int_rate   loan_status  loan_percent_income  \\\n",
       "count   29465.000000  32581.000000         32581.000000   \n",
       "mean       11.011695      0.218164             0.170203   \n",
       "std         3.240459      0.413006             0.106782   \n",
       "min         5.420000      0.000000             0.000000   \n",
       "25%         7.900000      0.000000             0.090000   \n",
       "50%        10.990000      0.000000             0.150000   \n",
       "75%        13.470000      0.000000             0.230000   \n",
       "max        23.220000      1.000000             0.830000   \n",
       "\n",
       "       cb_person_cred_hist_length  \n",
       "count                32581.000000  \n",
       "mean                     5.804211  \n",
       "std                      4.055001  \n",
       "min                      2.000000  \n",
       "25%                      3.000000  \n",
       "50%                      4.000000  \n",
       "75%                      8.000000  \n",
       "max                     30.000000  "
      ]
     },
     "execution_count": 6,
     "metadata": {},
     "output_type": "execute_result"
    }
   ],
   "source": [
    "df.describe()"
   ]
  },
  {
   "cell_type": "code",
   "execution_count": 17,
   "metadata": {},
   "outputs": [
    {
     "data": {
      "text/plain": [
       "person_age                      int64\n",
       "person_income                   int64\n",
       "person_home_ownership          object\n",
       "person_emp_length             float64\n",
       "loan_intent                    object\n",
       "loan_grade                     object\n",
       "loan_amnt                       int64\n",
       "loan_int_rate                 float64\n",
       "loan_status                     int64\n",
       "loan_percent_income           float64\n",
       "cb_person_default_on_file      object\n",
       "cb_person_cred_hist_length      int64\n",
       "dtype: object"
      ]
     },
     "execution_count": 17,
     "metadata": {},
     "output_type": "execute_result"
    }
   ],
   "source": [
    "df.dtypes"
   ]
  },
  {
   "cell_type": "code",
   "execution_count": 37,
   "metadata": {},
   "outputs": [
    {
     "name": "stderr",
     "output_type": "stream",
     "text": [
      "/tmp/ipykernel_26136/820435583.py:1: FutureWarning:\n",
      "\n",
      "The default value of numeric_only in DataFrame.mean is deprecated. In a future version, it will default to False. In addition, specifying 'numeric_only=None' is deprecated. Select only valid columns or specify the value of numeric_only to silence this warning.\n",
      "\n"
     ]
    }
   ],
   "source": [
    "df.fillna(df.mean(), inplace=True)"
   ]
  },
  {
   "cell_type": "code",
   "execution_count": 38,
   "metadata": {},
   "outputs": [
    {
     "data": {
      "text/plain": [
       "person_age                    0\n",
       "person_income                 0\n",
       "person_home_ownership         0\n",
       "person_emp_length             0\n",
       "loan_intent                   0\n",
       "loan_grade                    0\n",
       "loan_amnt                     0\n",
       "loan_int_rate                 0\n",
       "loan_status                   0\n",
       "loan_percent_income           0\n",
       "cb_person_default_on_file     0\n",
       "cb_person_cred_hist_length    0\n",
       "dtype: int64"
      ]
     },
     "execution_count": 38,
     "metadata": {},
     "output_type": "execute_result"
    }
   ],
   "source": [
    "df.isnull().sum()"
   ]
  },
  {
   "cell_type": "code",
   "execution_count": 39,
   "metadata": {},
   "outputs": [
    {
     "data": {
      "text/plain": [
       "Index(['person_home_ownership', 'loan_intent', 'loan_grade',\n",
       "       'cb_person_default_on_file'],\n",
       "      dtype='object')"
      ]
     },
     "execution_count": 39,
     "metadata": {},
     "output_type": "execute_result"
    }
   ],
   "source": [
    "str_columns = df.dtypes[df.dtypes == \"object\"].index\n",
    "str_columns"
   ]
  },
  {
   "cell_type": "code",
   "execution_count": 40,
   "metadata": {},
   "outputs": [],
   "source": [
    "for col in str_columns:\n",
    "    df[col] = df[col].apply(lambda x: str(x).strip())"
   ]
  },
  {
   "cell_type": "code",
   "execution_count": 41,
   "metadata": {},
   "outputs": [
    {
     "data": {
      "text/plain": [
       "person_age                      int64\n",
       "person_income                   int64\n",
       "person_home_ownership          object\n",
       "person_emp_length             float64\n",
       "loan_intent                    object\n",
       "loan_grade                     object\n",
       "loan_amnt                       int64\n",
       "loan_int_rate                 float64\n",
       "loan_status                     int64\n",
       "loan_percent_income           float64\n",
       "cb_person_default_on_file      object\n",
       "cb_person_cred_hist_length      int64\n",
       "dtype: object"
      ]
     },
     "execution_count": 41,
     "metadata": {},
     "output_type": "execute_result"
    }
   ],
   "source": [
    "df.dtypes"
   ]
  },
  {
   "cell_type": "code",
   "execution_count": 42,
   "metadata": {},
   "outputs": [
    {
     "data": {
      "text/plain": [
       "0    0.781836\n",
       "1    0.218164\n",
       "Name: loan_status, dtype: float64"
      ]
     },
     "execution_count": 42,
     "metadata": {},
     "output_type": "execute_result"
    }
   ],
   "source": [
    "df[\"loan_status\"].value_counts()/len(df)"
   ]
  },
  {
   "cell_type": "code",
   "execution_count": 48,
   "metadata": {},
   "outputs": [],
   "source": [
    "X = df.drop(\"loan_status\", axis=1)\n",
    "y = df[\"loan_status\"]\n",
    "cat_features = X.columns[np.where(X.dtypes != float)[0]].values.tolist()"
   ]
  },
  {
   "cell_type": "code",
   "execution_count": 49,
   "metadata": {},
   "outputs": [],
   "source": [
    "X_train, X_test, y_train, y_test = train_test_split(X, y, test_size=0.2, random_state=42)"
   ]
  },
  {
   "cell_type": "code",
   "execution_count": 50,
   "metadata": {},
   "outputs": [
    {
     "name": "stdout",
     "output_type": "stream",
     "text": [
      "0:\ttest: 0.8452308\tbest: 0.8452308 (0)\ttotal: 107ms\tremaining: 1m 46s\n",
      "100:\ttest: 0.9570248\tbest: 0.9570248 (100)\ttotal: 5.74s\tremaining: 51s\n",
      "200:\ttest: 0.9613269\tbest: 0.9613370 (193)\ttotal: 12s\tremaining: 47.7s\n",
      "300:\ttest: 0.9625046\tbest: 0.9625046 (300)\ttotal: 19s\tremaining: 44.1s\n",
      "400:\ttest: 0.9629026\tbest: 0.9630238 (363)\ttotal: 24.8s\tremaining: 37s\n",
      "500:\ttest: 0.9636308\tbest: 0.9636308 (500)\ttotal: 30.6s\tremaining: 30.5s\n",
      "600:\ttest: 0.9633975\tbest: 0.9636308 (500)\ttotal: 36.7s\tremaining: 24.4s\n",
      "700:\ttest: 0.9631335\tbest: 0.9636308 (500)\ttotal: 43.3s\tremaining: 18.5s\n",
      "800:\ttest: 0.9633454\tbest: 0.9636308 (500)\ttotal: 50.4s\tremaining: 12.5s\n",
      "900:\ttest: 0.9629589\tbest: 0.9636308 (500)\ttotal: 56.9s\tremaining: 6.25s\n",
      "999:\ttest: 0.9630222\tbest: 0.9636308 (500)\ttotal: 1m 3s\tremaining: 0us\n",
      "\n",
      "bestTest = 0.9636308439\n",
      "bestIteration = 500\n",
      "\n",
      "Shrink model to first 501 iterations.\n"
     ]
    },
    {
     "data": {
      "text/plain": [
       "<catboost.core.CatBoostClassifier at 0x7f6e60d7de80>"
      ]
     },
     "execution_count": 50,
     "metadata": {},
     "output_type": "execute_result"
    }
   ],
   "source": [
    "catboost = CatBoostClassifier(iterations=1000, learning_rate=0.1, depth=6, loss_function=\"Logloss\", eval_metric=\"AUC\", random_seed=42, use_best_model=True)\n",
    "catboost.fit(X_train, y_train, eval_set=(X_test, y_test), verbose=100, cat_features=cat_features)"
   ]
  },
  {
   "cell_type": "code",
   "execution_count": 51,
   "metadata": {},
   "outputs": [
    {
     "data": {
      "text/plain": [
       "{'learn': {'Logloss': 0.11028521931653382},\n",
       " 'validation': {'Logloss': 0.16496361740286555, 'AUC': 0.9636308438758692}}"
      ]
     },
     "execution_count": 51,
     "metadata": {},
     "output_type": "execute_result"
    }
   ],
   "source": [
    "catboost.get_best_score()"
   ]
  },
  {
   "cell_type": "code",
   "execution_count": 52,
   "metadata": {},
   "outputs": [],
   "source": [
    "y_pred = catboost.predict(X_test)"
   ]
  },
  {
   "cell_type": "code",
   "execution_count": 53,
   "metadata": {},
   "outputs": [
    {
     "name": "stdout",
     "output_type": "stream",
     "text": [
      "              precision    recall  f1-score   support\n",
      "\n",
      "           0       0.94      0.99      0.96      5072\n",
      "           1       0.96      0.78      0.86      1445\n",
      "\n",
      "    accuracy                           0.94      6517\n",
      "   macro avg       0.95      0.88      0.91      6517\n",
      "weighted avg       0.94      0.94      0.94      6517\n",
      "\n"
     ]
    }
   ],
   "source": [
    "print(classification_report(y_test, y_pred))"
   ]
  },
  {
   "cell_type": "code",
   "execution_count": 54,
   "metadata": {},
   "outputs": [
    {
     "data": {
      "text/plain": [
       "0.9427650759551941"
      ]
     },
     "execution_count": 54,
     "metadata": {},
     "output_type": "execute_result"
    }
   ],
   "source": [
    "accuracy_score(y_test, y_pred)"
   ]
  },
  {
   "cell_type": "code",
   "execution_count": 57,
   "metadata": {},
   "outputs": [
    {
     "name": "stderr",
     "output_type": "stream",
     "text": [
      "\u001b[32m[I 2023-01-11 12:07:12,623]\u001b[0m A new study created in memory with name: no-name-45b2860b-2492-46ec-85de-fc9f3d571bfb\u001b[0m\n",
      "/tmp/ipykernel_26136/780873226.py:6: FutureWarning:\n",
      "\n",
      "suggest_loguniform has been deprecated in v3.0.0. This feature will be removed in v6.0.0. See https://github.com/optuna/optuna/releases/tag/v3.0.0. Use :func:`~optuna.trial.Trial.suggest_float` instead.\n",
      "\n"
     ]
    },
    {
     "name": "stdout",
     "output_type": "stream",
     "text": [
      "0:\ttest: 0.8427404\tbest: 0.8427404 (0)\ttotal: 69.6ms\tremaining: 1m 9s\n",
      "100:\ttest: 0.8630100\tbest: 0.8632258 (91)\ttotal: 3.84s\tremaining: 34.2s\n",
      "200:\ttest: 0.9161063\tbest: 0.9161063 (200)\ttotal: 7.24s\tremaining: 28.8s\n",
      "300:\ttest: 0.9312711\tbest: 0.9312711 (300)\ttotal: 10.2s\tremaining: 23.7s\n",
      "400:\ttest: 0.9370707\tbest: 0.9370707 (400)\ttotal: 13.3s\tremaining: 19.8s\n",
      "500:\ttest: 0.9399149\tbest: 0.9399149 (500)\ttotal: 16.6s\tremaining: 16.6s\n",
      "600:\ttest: 0.9418791\tbest: 0.9418791 (600)\ttotal: 20.1s\tremaining: 13.3s\n",
      "700:\ttest: 0.9433868\tbest: 0.9433876 (699)\ttotal: 23.8s\tremaining: 10.1s\n",
      "800:\ttest: 0.9449891\tbest: 0.9449891 (800)\ttotal: 27.3s\tremaining: 6.79s\n",
      "900:\ttest: 0.9464747\tbest: 0.9464747 (900)\ttotal: 31.2s\tremaining: 3.42s\n"
     ]
    },
    {
     "name": "stderr",
     "output_type": "stream",
     "text": [
      "\u001b[32m[I 2023-01-11 12:07:48,702]\u001b[0m Trial 0 finished with value: 0.9483293855675504 and parameters: {'learning_rate': 0.004941949914593827, 'depth': 4}. Best is trial 0 with value: 0.9483293855675504.\u001b[0m\n"
     ]
    },
    {
     "name": "stdout",
     "output_type": "stream",
     "text": [
      "999:\ttest: 0.9483294\tbest: 0.9483294 (999)\ttotal: 35.2s\tremaining: 0us\n",
      "\n",
      "bestTest = 0.9483293856\n",
      "bestIteration = 999\n",
      "\n",
      "0:\ttest: 0.8375186\tbest: 0.8375186 (0)\ttotal: 38.8ms\tremaining: 38.8s\n",
      "100:\ttest: 0.8450211\tbest: 0.8450218 (88)\ttotal: 2.89s\tremaining: 25.7s\n",
      "200:\ttest: 0.8480512\tbest: 0.8480731 (197)\ttotal: 6.33s\tremaining: 25.2s\n",
      "300:\ttest: 0.8579926\tbest: 0.8580121 (285)\ttotal: 9.19s\tremaining: 21.3s\n",
      "400:\ttest: 0.8629460\tbest: 0.8633868 (399)\ttotal: 12s\tremaining: 17.9s\n",
      "500:\ttest: 0.8631463\tbest: 0.8633868 (399)\ttotal: 14.9s\tremaining: 14.8s\n",
      "600:\ttest: 0.8635892\tbest: 0.8636635 (525)\ttotal: 17.7s\tremaining: 11.7s\n",
      "700:\ttest: 0.8962782\tbest: 0.8962782 (700)\ttotal: 20.2s\tremaining: 8.62s\n",
      "800:\ttest: 0.9094312\tbest: 0.9094312 (800)\ttotal: 22.8s\tremaining: 5.67s\n",
      "900:\ttest: 0.9144484\tbest: 0.9144484 (900)\ttotal: 25.5s\tremaining: 2.8s\n"
     ]
    },
    {
     "name": "stderr",
     "output_type": "stream",
     "text": [
      "\u001b[32m[I 2023-01-11 12:08:17,681]\u001b[0m Trial 1 finished with value: 0.919175771997424 and parameters: {'learning_rate': 0.0012737888340198951, 'depth': 3}. Best is trial 0 with value: 0.9483293855675504.\u001b[0m\n"
     ]
    },
    {
     "name": "stdout",
     "output_type": "stream",
     "text": [
      "999:\ttest: 0.9191758\tbest: 0.9191758 (999)\ttotal: 28.2s\tremaining: 0us\n",
      "\n",
      "bestTest = 0.919175772\n",
      "bestIteration = 999\n",
      "\n",
      "0:\ttest: 0.8452308\tbest: 0.8452308 (0)\ttotal: 52.7ms\tremaining: 52.6s\n",
      "100:\ttest: 0.8677179\tbest: 0.8677751 (98)\ttotal: 4.85s\tremaining: 43.1s\n",
      "200:\ttest: 0.8864250\tbest: 0.8864250 (200)\ttotal: 9.56s\tremaining: 38s\n",
      "300:\ttest: 0.9302027\tbest: 0.9302027 (300)\ttotal: 13.9s\tremaining: 32.2s\n",
      "400:\ttest: 0.9378196\tbest: 0.9378196 (400)\ttotal: 18.5s\tremaining: 27.6s\n",
      "500:\ttest: 0.9410652\tbest: 0.9410652 (500)\ttotal: 23.1s\tremaining: 23s\n",
      "600:\ttest: 0.9433487\tbest: 0.9433487 (600)\ttotal: 27.8s\tremaining: 18.4s\n",
      "700:\ttest: 0.9450568\tbest: 0.9450568 (700)\ttotal: 32.6s\tremaining: 13.9s\n",
      "800:\ttest: 0.9462930\tbest: 0.9462930 (800)\ttotal: 37.6s\tremaining: 9.35s\n",
      "900:\ttest: 0.9473726\tbest: 0.9473726 (900)\ttotal: 42.8s\tremaining: 4.71s\n"
     ]
    },
    {
     "name": "stderr",
     "output_type": "stream",
     "text": [
      "\u001b[32m[I 2023-01-11 12:09:06,499]\u001b[0m Trial 2 finished with value: 0.9484400412605198 and parameters: {'learning_rate': 0.0032856092034610454, 'depth': 6}. Best is trial 2 with value: 0.9484400412605198.\u001b[0m\n"
     ]
    },
    {
     "name": "stdout",
     "output_type": "stream",
     "text": [
      "999:\ttest: 0.9484400\tbest: 0.9484400 (999)\ttotal: 48s\tremaining: 0us\n",
      "\n",
      "bestTest = 0.9484400413\n",
      "bestIteration = 999\n",
      "\n",
      "0:\ttest: 0.8452308\tbest: 0.8452308 (0)\ttotal: 63.8ms\tremaining: 1m 3s\n",
      "100:\ttest: 0.9405241\tbest: 0.9405241 (100)\ttotal: 4.35s\tremaining: 38.7s\n",
      "200:\ttest: 0.9483668\tbest: 0.9483668 (200)\ttotal: 9.01s\tremaining: 35.8s\n",
      "300:\ttest: 0.9533287\tbest: 0.9533287 (300)\ttotal: 14.4s\tremaining: 33.4s\n",
      "400:\ttest: 0.9549700\tbest: 0.9549700 (400)\ttotal: 19.9s\tremaining: 29.8s\n",
      "500:\ttest: 0.9563495\tbest: 0.9563495 (500)\ttotal: 25.6s\tremaining: 25.5s\n",
      "600:\ttest: 0.9570566\tbest: 0.9570566 (600)\ttotal: 31.2s\tremaining: 20.7s\n",
      "700:\ttest: 0.9576058\tbest: 0.9576065 (698)\ttotal: 36.9s\tremaining: 15.7s\n",
      "800:\ttest: 0.9580312\tbest: 0.9580312 (800)\ttotal: 42.6s\tremaining: 10.6s\n",
      "900:\ttest: 0.9581281\tbest: 0.9581610 (839)\ttotal: 48.4s\tremaining: 5.31s\n"
     ]
    },
    {
     "name": "stderr",
     "output_type": "stream",
     "text": [
      "\u001b[32m[I 2023-01-11 12:10:01,722]\u001b[0m Trial 3 finished with value: 0.9585215799067818 and parameters: {'learning_rate': 0.01629855372310976, 'depth': 6}. Best is trial 3 with value: 0.9585215799067818.\u001b[0m\n"
     ]
    },
    {
     "name": "stdout",
     "output_type": "stream",
     "text": [
      "999:\ttest: 0.9585216\tbest: 0.9585216 (999)\ttotal: 54.3s\tremaining: 0us\n",
      "\n",
      "bestTest = 0.9585215799\n",
      "bestIteration = 999\n",
      "\n",
      "0:\ttest: 0.8427404\tbest: 0.8427404 (0)\ttotal: 50.2ms\tremaining: 50.2s\n",
      "100:\ttest: 0.8566349\tbest: 0.8566862 (98)\ttotal: 3.6s\tremaining: 32.1s\n",
      "200:\ttest: 0.8628699\tbest: 0.8631856 (177)\ttotal: 7.34s\tremaining: 29.2s\n",
      "300:\ttest: 0.8649634\tbest: 0.8650202 (291)\ttotal: 11.1s\tremaining: 25.8s\n",
      "400:\ttest: 0.9044571\tbest: 0.9044571 (400)\ttotal: 13.9s\tremaining: 20.8s\n",
      "500:\ttest: 0.9216895\tbest: 0.9216895 (500)\ttotal: 16.8s\tremaining: 16.7s\n",
      "600:\ttest: 0.9286136\tbest: 0.9286136 (600)\ttotal: 19.8s\tremaining: 13.1s\n",
      "700:\ttest: 0.9330141\tbest: 0.9330141 (700)\ttotal: 23s\tremaining: 9.81s\n",
      "800:\ttest: 0.9356292\tbest: 0.9356292 (800)\ttotal: 26.3s\tremaining: 6.54s\n",
      "900:\ttest: 0.9376895\tbest: 0.9376895 (900)\ttotal: 29.4s\tremaining: 3.23s\n"
     ]
    },
    {
     "name": "stderr",
     "output_type": "stream",
     "text": [
      "\u001b[32m[I 2023-01-11 12:10:35,119]\u001b[0m Trial 4 finished with value: 0.9390783786143888 and parameters: {'learning_rate': 0.0022394246633486914, 'depth': 4}. Best is trial 3 with value: 0.9585215799067818.\u001b[0m\n"
     ]
    },
    {
     "name": "stdout",
     "output_type": "stream",
     "text": [
      "999:\ttest: 0.9390784\tbest: 0.9390784 (999)\ttotal: 32.6s\tremaining: 0us\n",
      "\n",
      "bestTest = 0.9390783786\n",
      "bestIteration = 999\n",
      "\n",
      "0:\ttest: 0.8375186\tbest: 0.8375186 (0)\ttotal: 34.6ms\tremaining: 34.6s\n",
      "100:\ttest: 0.9394199\tbest: 0.9394199 (100)\ttotal: 2.66s\tremaining: 23.7s\n",
      "200:\ttest: 0.9473808\tbest: 0.9473808 (200)\ttotal: 5.93s\tremaining: 23.6s\n",
      "300:\ttest: 0.9528191\tbest: 0.9528191 (300)\ttotal: 9.15s\tremaining: 21.2s\n",
      "400:\ttest: 0.9547787\tbest: 0.9547787 (400)\ttotal: 12.2s\tremaining: 18.2s\n",
      "500:\ttest: 0.9561656\tbest: 0.9561656 (500)\ttotal: 15.7s\tremaining: 15.6s\n",
      "600:\ttest: 0.9571401\tbest: 0.9571401 (600)\ttotal: 19s\tremaining: 12.6s\n",
      "700:\ttest: 0.9579809\tbest: 0.9579809 (700)\ttotal: 22.9s\tremaining: 9.78s\n",
      "800:\ttest: 0.9586850\tbest: 0.9586850 (800)\ttotal: 26.4s\tremaining: 6.57s\n",
      "900:\ttest: 0.9591480\tbest: 0.9591485 (899)\ttotal: 29.9s\tremaining: 3.29s\n"
     ]
    },
    {
     "name": "stderr",
     "output_type": "stream",
     "text": [
      "\u001b[32m[I 2023-01-11 12:11:09,608]\u001b[0m Trial 5 finished with value: 0.9596340039077423 and parameters: {'learning_rate': 0.037610313644443304, 'depth': 3}. Best is trial 5 with value: 0.9596340039077423.\u001b[0m\n"
     ]
    },
    {
     "name": "stdout",
     "output_type": "stream",
     "text": [
      "999:\ttest: 0.9596340\tbest: 0.9596340 (999)\ttotal: 33.6s\tremaining: 0us\n",
      "\n",
      "bestTest = 0.9596340039\n",
      "bestIteration = 999\n",
      "\n",
      "0:\ttest: 0.8534399\tbest: 0.8534399 (0)\ttotal: 186ms\tremaining: 3m 5s\n",
      "100:\ttest: 0.9564442\tbest: 0.9564442 (100)\ttotal: 13.7s\tremaining: 2m 2s\n",
      "200:\ttest: 0.9609780\tbest: 0.9609780 (200)\ttotal: 28.7s\tremaining: 1m 54s\n",
      "300:\ttest: 0.9620657\tbest: 0.9620978 (294)\ttotal: 45.3s\tremaining: 1m 45s\n",
      "400:\ttest: 0.9626681\tbest: 0.9627127 (384)\ttotal: 1m 2s\tremaining: 1m 32s\n",
      "500:\ttest: 0.9629969\tbest: 0.9630757 (494)\ttotal: 1m 17s\tremaining: 1m 17s\n",
      "600:\ttest: 0.9631411\tbest: 0.9631897 (567)\ttotal: 1m 33s\tremaining: 1m 1s\n",
      "700:\ttest: 0.9628981\tbest: 0.9631897 (567)\ttotal: 1m 49s\tremaining: 46.6s\n",
      "800:\ttest: 0.9628661\tbest: 0.9631897 (567)\ttotal: 2m 7s\tremaining: 31.7s\n",
      "900:\ttest: 0.9627743\tbest: 0.9631897 (567)\ttotal: 2m 24s\tremaining: 15.9s\n"
     ]
    },
    {
     "name": "stderr",
     "output_type": "stream",
     "text": [
      "\u001b[32m[I 2023-01-11 12:13:53,109]\u001b[0m Trial 6 finished with value: 0.963189721982688 and parameters: {'learning_rate': 0.05572689809873393, 'depth': 10}. Best is trial 6 with value: 0.963189721982688.\u001b[0m\n"
     ]
    },
    {
     "name": "stdout",
     "output_type": "stream",
     "text": [
      "999:\ttest: 0.9628268\tbest: 0.9631897 (567)\ttotal: 2m 42s\tremaining: 0us\n",
      "\n",
      "bestTest = 0.963189722\n",
      "bestIteration = 567\n",
      "\n",
      "Shrink model to first 568 iterations.\n",
      "0:\ttest: 0.8530298\tbest: 0.8530298 (0)\ttotal: 75.3ms\tremaining: 1m 15s\n",
      "100:\ttest: 0.9398996\tbest: 0.9398996 (100)\ttotal: 6.53s\tremaining: 58.1s\n",
      "200:\ttest: 0.9473119\tbest: 0.9473119 (200)\ttotal: 13.3s\tremaining: 52.9s\n",
      "300:\ttest: 0.9509558\tbest: 0.9509558 (300)\ttotal: 20.6s\tremaining: 48s\n",
      "400:\ttest: 0.9544054\tbest: 0.9544054 (400)\ttotal: 28.6s\tremaining: 42.7s\n",
      "500:\ttest: 0.9565561\tbest: 0.9565561 (500)\ttotal: 34.8s\tremaining: 34.6s\n",
      "600:\ttest: 0.9578346\tbest: 0.9578346 (600)\ttotal: 40.3s\tremaining: 26.7s\n",
      "700:\ttest: 0.9587415\tbest: 0.9587415 (700)\ttotal: 45.5s\tremaining: 19.4s\n",
      "800:\ttest: 0.9593336\tbest: 0.9593336 (800)\ttotal: 50.5s\tremaining: 12.6s\n",
      "900:\ttest: 0.9601727\tbest: 0.9601727 (900)\ttotal: 55.6s\tremaining: 6.1s\n"
     ]
    },
    {
     "name": "stderr",
     "output_type": "stream",
     "text": [
      "\u001b[32m[I 2023-01-11 12:14:54,999]\u001b[0m Trial 7 finished with value: 0.9606408206258937 and parameters: {'learning_rate': 0.010709877570200562, 'depth': 8}. Best is trial 6 with value: 0.963189721982688.\u001b[0m\n"
     ]
    },
    {
     "name": "stdout",
     "output_type": "stream",
     "text": [
      "999:\ttest: 0.9606373\tbest: 0.9606408 (996)\ttotal: 1m 1s\tremaining: 0us\n",
      "\n",
      "bestTest = 0.9606408206\n",
      "bestIteration = 996\n",
      "\n",
      "Shrink model to first 997 iterations.\n",
      "0:\ttest: 0.8452308\tbest: 0.8452308 (0)\ttotal: 38.6ms\tremaining: 38.6s\n",
      "100:\ttest: 0.9326687\tbest: 0.9326687 (100)\ttotal: 2.65s\tremaining: 23.6s\n",
      "200:\ttest: 0.9435579\tbest: 0.9435579 (200)\ttotal: 5.55s\tremaining: 22.1s\n",
      "300:\ttest: 0.9481687\tbest: 0.9481687 (300)\ttotal: 8.44s\tremaining: 19.6s\n",
      "400:\ttest: 0.9511209\tbest: 0.9511209 (400)\ttotal: 11.8s\tremaining: 17.6s\n",
      "500:\ttest: 0.9537035\tbest: 0.9537035 (500)\ttotal: 15.2s\tremaining: 15.2s\n",
      "600:\ttest: 0.9556318\tbest: 0.9556318 (600)\ttotal: 18.7s\tremaining: 12.4s\n",
      "700:\ttest: 0.9568294\tbest: 0.9568294 (700)\ttotal: 22.1s\tremaining: 9.44s\n",
      "800:\ttest: 0.9575944\tbest: 0.9575962 (799)\ttotal: 25.7s\tremaining: 6.38s\n",
      "900:\ttest: 0.9583737\tbest: 0.9583737 (900)\ttotal: 29.3s\tremaining: 3.22s\n"
     ]
    },
    {
     "name": "stderr",
     "output_type": "stream",
     "text": [
      "\u001b[32m[I 2023-01-11 12:15:28,617]\u001b[0m Trial 8 finished with value: 0.9589794843526573 and parameters: {'learning_rate': 0.010565846981597665, 'depth': 6}. Best is trial 6 with value: 0.963189721982688.\u001b[0m\n"
     ]
    },
    {
     "name": "stdout",
     "output_type": "stream",
     "text": [
      "999:\ttest: 0.9589795\tbest: 0.9589795 (999)\ttotal: 32.9s\tremaining: 0us\n",
      "\n",
      "bestTest = 0.9589794844\n",
      "bestIteration = 999\n",
      "\n",
      "0:\ttest: 0.8534399\tbest: 0.8534399 (0)\ttotal: 101ms\tremaining: 1m 40s\n",
      "100:\ttest: 0.9505821\tbest: 0.9505821 (100)\ttotal: 8.56s\tremaining: 1m 16s\n",
      "200:\ttest: 0.9569664\tbest: 0.9569664 (200)\ttotal: 18.3s\tremaining: 1m 12s\n",
      "300:\ttest: 0.9595007\tbest: 0.9595007 (300)\ttotal: 28.1s\tremaining: 1m 5s\n",
      "400:\ttest: 0.9608890\tbest: 0.9608898 (399)\ttotal: 37.9s\tremaining: 56.6s\n",
      "500:\ttest: 0.9617414\tbest: 0.9617442 (499)\ttotal: 49.1s\tremaining: 48.9s\n",
      "600:\ttest: 0.9623224\tbest: 0.9623224 (600)\ttotal: 59.9s\tremaining: 39.7s\n",
      "700:\ttest: 0.9625996\tbest: 0.9626364 (679)\ttotal: 1m 10s\tremaining: 30s\n",
      "800:\ttest: 0.9628932\tbest: 0.9629357 (757)\ttotal: 1m 20s\tremaining: 20s\n",
      "900:\ttest: 0.9627845\tbest: 0.9629357 (757)\ttotal: 1m 30s\tremaining: 9.96s\n"
     ]
    },
    {
     "name": "stderr",
     "output_type": "stream",
     "text": [
      "\u001b[32m[I 2023-01-11 12:17:10,522]\u001b[0m Trial 9 finished with value: 0.9630109809743159 and parameters: {'learning_rate': 0.029144686717713766, 'depth': 10}. Best is trial 6 with value: 0.963189721982688.\u001b[0m\n"
     ]
    },
    {
     "name": "stdout",
     "output_type": "stream",
     "text": [
      "999:\ttest: 0.9629961\tbest: 0.9630110 (953)\ttotal: 1m 41s\tremaining: 0us\n",
      "\n",
      "bestTest = 0.963010981\n",
      "bestIteration = 953\n",
      "\n",
      "Shrink model to first 954 iterations.\n",
      "0:\ttest: 0.8534399\tbest: 0.8534399 (0)\ttotal: 97ms\tremaining: 1m 36s\n",
      "100:\ttest: 0.9575517\tbest: 0.9575751 (95)\ttotal: 10.8s\tremaining: 1m 35s\n",
      "200:\ttest: 0.9606224\tbest: 0.9608819 (183)\ttotal: 21.8s\tremaining: 1m 26s\n",
      "300:\ttest: 0.9601762\tbest: 0.9608819 (183)\ttotal: 32s\tremaining: 1m 14s\n",
      "400:\ttest: 0.9602706\tbest: 0.9608819 (183)\ttotal: 42.3s\tremaining: 1m 3s\n",
      "500:\ttest: 0.9605924\tbest: 0.9608819 (183)\ttotal: 52.7s\tremaining: 52.4s\n",
      "600:\ttest: 0.9603030\tbest: 0.9608819 (183)\ttotal: 1m 2s\tremaining: 41.8s\n",
      "700:\ttest: 0.9602978\tbest: 0.9608819 (183)\ttotal: 1m 13s\tremaining: 31.2s\n",
      "800:\ttest: 0.9606792\tbest: 0.9608819 (183)\ttotal: 1m 23s\tremaining: 20.7s\n",
      "900:\ttest: 0.9603971\tbest: 0.9608819 (183)\ttotal: 1m 34s\tremaining: 10.3s\n"
     ]
    },
    {
     "name": "stderr",
     "output_type": "stream",
     "text": [
      "\u001b[32m[I 2023-01-11 12:18:55,767]\u001b[0m Trial 10 finished with value: 0.9608819163219193 and parameters: {'learning_rate': 0.09823668121981591, 'depth': 10}. Best is trial 6 with value: 0.963189721982688.\u001b[0m\n"
     ]
    },
    {
     "name": "stdout",
     "output_type": "stream",
     "text": [
      "999:\ttest: 0.9604606\tbest: 0.9608819 (183)\ttotal: 1m 44s\tremaining: 0us\n",
      "\n",
      "bestTest = 0.9608819163\n",
      "bestIteration = 183\n",
      "\n",
      "Shrink model to first 184 iterations.\n",
      "0:\ttest: 0.8534399\tbest: 0.8534399 (0)\ttotal: 103ms\tremaining: 1m 42s\n",
      "100:\ttest: 0.9551600\tbest: 0.9551600 (100)\ttotal: 9.44s\tremaining: 1m 24s\n",
      "200:\ttest: 0.9592072\tbest: 0.9592072 (200)\ttotal: 19.8s\tremaining: 1m 18s\n",
      "300:\ttest: 0.9613217\tbest: 0.9613217 (300)\ttotal: 31.8s\tremaining: 1m 13s\n"
     ]
    },
    {
     "name": "stderr",
     "output_type": "stream",
     "text": [
      "\u001b[33m[W 2023-01-11 12:19:30,684]\u001b[0m Trial 11 failed because of the following error: KeyboardInterrupt('')\u001b[0m\n",
      "Traceback (most recent call last):\n",
      "  File \"/home/hari31416/anaconda3/envs/data-science/lib/python3.9/site-packages/optuna/study/_optimize.py\", line 196, in _run_trial\n",
      "    value_or_values = func(trial)\n",
      "  File \"/tmp/ipykernel_26136/780873226.py\", line 15, in objective\n",
      "    catboost.fit(X_train, y_train, eval_set=(X_test, y_test), cat_features=cat_features)\n",
      "  File \"/home/hari31416/anaconda3/envs/data-science/lib/python3.9/site-packages/catboost/core.py\", line 5128, in fit\n",
      "    self._fit(X, y, cat_features, text_features, embedding_features, None, sample_weight, None, None, None, None, baseline, use_best_model,\n",
      "  File \"/home/hari31416/anaconda3/envs/data-science/lib/python3.9/site-packages/catboost/core.py\", line 2355, in _fit\n",
      "    self._train(\n",
      "  File \"/home/hari31416/anaconda3/envs/data-science/lib/python3.9/site-packages/catboost/core.py\", line 1759, in _train\n",
      "    self._object._train(train_pool, test_pool, params, allow_clear_pool, init_model._object if init_model else None)\n",
      "  File \"_catboost.pyx\", line 4623, in _catboost._CatBoost._train\n",
      "  File \"_catboost.pyx\", line 4672, in _catboost._CatBoost._train\n",
      "KeyboardInterrupt\n"
     ]
    },
    {
     "ename": "KeyboardInterrupt",
     "evalue": "",
     "output_type": "error",
     "traceback": [
      "\u001b[0;31m---------------------------------------------------------------------------\u001b[0m",
      "\u001b[0;31mKeyboardInterrupt\u001b[0m                         Traceback (most recent call last)",
      "Cell \u001b[0;32mIn[57], line 19\u001b[0m\n\u001b[1;32m     16\u001b[0m     \u001b[39mreturn\u001b[39;00m catboost\u001b[39m.\u001b[39mget_best_score()[\u001b[39m'\u001b[39m\u001b[39mvalidation\u001b[39m\u001b[39m'\u001b[39m][\u001b[39m'\u001b[39m\u001b[39mAUC\u001b[39m\u001b[39m'\u001b[39m]\n\u001b[1;32m     18\u001b[0m study \u001b[39m=\u001b[39m optuna\u001b[39m.\u001b[39mcreate_study(direction\u001b[39m=\u001b[39m\u001b[39m'\u001b[39m\u001b[39mmaximize\u001b[39m\u001b[39m'\u001b[39m)\n\u001b[0;32m---> 19\u001b[0m study\u001b[39m.\u001b[39;49moptimize(objective, n_trials\u001b[39m=\u001b[39;49m\u001b[39m100\u001b[39;49m)\n",
      "File \u001b[0;32m~/anaconda3/envs/data-science/lib/python3.9/site-packages/optuna/study/study.py:419\u001b[0m, in \u001b[0;36mStudy.optimize\u001b[0;34m(self, func, n_trials, timeout, n_jobs, catch, callbacks, gc_after_trial, show_progress_bar)\u001b[0m\n\u001b[1;32m    315\u001b[0m \u001b[39mdef\u001b[39;00m \u001b[39moptimize\u001b[39m(\n\u001b[1;32m    316\u001b[0m     \u001b[39mself\u001b[39m,\n\u001b[1;32m    317\u001b[0m     func: ObjectiveFuncType,\n\u001b[0;32m   (...)\u001b[0m\n\u001b[1;32m    324\u001b[0m     show_progress_bar: \u001b[39mbool\u001b[39m \u001b[39m=\u001b[39m \u001b[39mFalse\u001b[39;00m,\n\u001b[1;32m    325\u001b[0m ) \u001b[39m-\u001b[39m\u001b[39m>\u001b[39m \u001b[39mNone\u001b[39;00m:\n\u001b[1;32m    326\u001b[0m     \u001b[39m\"\"\"Optimize an objective function.\u001b[39;00m\n\u001b[1;32m    327\u001b[0m \n\u001b[1;32m    328\u001b[0m \u001b[39m    Optimization is done by choosing a suitable set of hyperparameter values from a given\u001b[39;00m\n\u001b[0;32m   (...)\u001b[0m\n\u001b[1;32m    416\u001b[0m \u001b[39m            If nested invocation of this method occurs.\u001b[39;00m\n\u001b[1;32m    417\u001b[0m \u001b[39m    \"\"\"\u001b[39;00m\n\u001b[0;32m--> 419\u001b[0m     _optimize(\n\u001b[1;32m    420\u001b[0m         study\u001b[39m=\u001b[39;49m\u001b[39mself\u001b[39;49m,\n\u001b[1;32m    421\u001b[0m         func\u001b[39m=\u001b[39;49mfunc,\n\u001b[1;32m    422\u001b[0m         n_trials\u001b[39m=\u001b[39;49mn_trials,\n\u001b[1;32m    423\u001b[0m         timeout\u001b[39m=\u001b[39;49mtimeout,\n\u001b[1;32m    424\u001b[0m         n_jobs\u001b[39m=\u001b[39;49mn_jobs,\n\u001b[1;32m    425\u001b[0m         catch\u001b[39m=\u001b[39;49mcatch,\n\u001b[1;32m    426\u001b[0m         callbacks\u001b[39m=\u001b[39;49mcallbacks,\n\u001b[1;32m    427\u001b[0m         gc_after_trial\u001b[39m=\u001b[39;49mgc_after_trial,\n\u001b[1;32m    428\u001b[0m         show_progress_bar\u001b[39m=\u001b[39;49mshow_progress_bar,\n\u001b[1;32m    429\u001b[0m     )\n",
      "File \u001b[0;32m~/anaconda3/envs/data-science/lib/python3.9/site-packages/optuna/study/_optimize.py:66\u001b[0m, in \u001b[0;36m_optimize\u001b[0;34m(study, func, n_trials, timeout, n_jobs, catch, callbacks, gc_after_trial, show_progress_bar)\u001b[0m\n\u001b[1;32m     64\u001b[0m \u001b[39mtry\u001b[39;00m:\n\u001b[1;32m     65\u001b[0m     \u001b[39mif\u001b[39;00m n_jobs \u001b[39m==\u001b[39m \u001b[39m1\u001b[39m:\n\u001b[0;32m---> 66\u001b[0m         _optimize_sequential(\n\u001b[1;32m     67\u001b[0m             study,\n\u001b[1;32m     68\u001b[0m             func,\n\u001b[1;32m     69\u001b[0m             n_trials,\n\u001b[1;32m     70\u001b[0m             timeout,\n\u001b[1;32m     71\u001b[0m             catch,\n\u001b[1;32m     72\u001b[0m             callbacks,\n\u001b[1;32m     73\u001b[0m             gc_after_trial,\n\u001b[1;32m     74\u001b[0m             reseed_sampler_rng\u001b[39m=\u001b[39;49m\u001b[39mFalse\u001b[39;49;00m,\n\u001b[1;32m     75\u001b[0m             time_start\u001b[39m=\u001b[39;49m\u001b[39mNone\u001b[39;49;00m,\n\u001b[1;32m     76\u001b[0m             progress_bar\u001b[39m=\u001b[39;49mprogress_bar,\n\u001b[1;32m     77\u001b[0m         )\n\u001b[1;32m     78\u001b[0m     \u001b[39melse\u001b[39;00m:\n\u001b[1;32m     79\u001b[0m         \u001b[39mif\u001b[39;00m n_jobs \u001b[39m==\u001b[39m \u001b[39m-\u001b[39m\u001b[39m1\u001b[39m:\n",
      "File \u001b[0;32m~/anaconda3/envs/data-science/lib/python3.9/site-packages/optuna/study/_optimize.py:160\u001b[0m, in \u001b[0;36m_optimize_sequential\u001b[0;34m(study, func, n_trials, timeout, catch, callbacks, gc_after_trial, reseed_sampler_rng, time_start, progress_bar)\u001b[0m\n\u001b[1;32m    157\u001b[0m         \u001b[39mbreak\u001b[39;00m\n\u001b[1;32m    159\u001b[0m \u001b[39mtry\u001b[39;00m:\n\u001b[0;32m--> 160\u001b[0m     frozen_trial \u001b[39m=\u001b[39m _run_trial(study, func, catch)\n\u001b[1;32m    161\u001b[0m \u001b[39mfinally\u001b[39;00m:\n\u001b[1;32m    162\u001b[0m     \u001b[39m# The following line mitigates memory problems that can be occurred in some\u001b[39;00m\n\u001b[1;32m    163\u001b[0m     \u001b[39m# environments (e.g., services that use computing containers such as CircleCI).\u001b[39;00m\n\u001b[1;32m    164\u001b[0m     \u001b[39m# Please refer to the following PR for further details:\u001b[39;00m\n\u001b[1;32m    165\u001b[0m     \u001b[39m# https://github.com/optuna/optuna/pull/325.\u001b[39;00m\n\u001b[1;32m    166\u001b[0m     \u001b[39mif\u001b[39;00m gc_after_trial:\n",
      "File \u001b[0;32m~/anaconda3/envs/data-science/lib/python3.9/site-packages/optuna/study/_optimize.py:234\u001b[0m, in \u001b[0;36m_run_trial\u001b[0;34m(study, func, catch)\u001b[0m\n\u001b[1;32m    227\u001b[0m         \u001b[39massert\u001b[39;00m \u001b[39mFalse\u001b[39;00m, \u001b[39m\"\u001b[39m\u001b[39mShould not reach.\u001b[39m\u001b[39m\"\u001b[39m\n\u001b[1;32m    229\u001b[0m \u001b[39mif\u001b[39;00m (\n\u001b[1;32m    230\u001b[0m     frozen_trial\u001b[39m.\u001b[39mstate \u001b[39m==\u001b[39m TrialState\u001b[39m.\u001b[39mFAIL\n\u001b[1;32m    231\u001b[0m     \u001b[39mand\u001b[39;00m func_err \u001b[39mis\u001b[39;00m \u001b[39mnot\u001b[39;00m \u001b[39mNone\u001b[39;00m\n\u001b[1;32m    232\u001b[0m     \u001b[39mand\u001b[39;00m \u001b[39mnot\u001b[39;00m \u001b[39misinstance\u001b[39m(func_err, catch)\n\u001b[1;32m    233\u001b[0m ):\n\u001b[0;32m--> 234\u001b[0m     \u001b[39mraise\u001b[39;00m func_err\n\u001b[1;32m    235\u001b[0m \u001b[39mreturn\u001b[39;00m frozen_trial\n",
      "File \u001b[0;32m~/anaconda3/envs/data-science/lib/python3.9/site-packages/optuna/study/_optimize.py:196\u001b[0m, in \u001b[0;36m_run_trial\u001b[0;34m(study, func, catch)\u001b[0m\n\u001b[1;32m    194\u001b[0m \u001b[39mwith\u001b[39;00m get_heartbeat_thread(trial\u001b[39m.\u001b[39m_trial_id, study\u001b[39m.\u001b[39m_storage):\n\u001b[1;32m    195\u001b[0m     \u001b[39mtry\u001b[39;00m:\n\u001b[0;32m--> 196\u001b[0m         value_or_values \u001b[39m=\u001b[39m func(trial)\n\u001b[1;32m    197\u001b[0m     \u001b[39mexcept\u001b[39;00m exceptions\u001b[39m.\u001b[39mTrialPruned \u001b[39mas\u001b[39;00m e:\n\u001b[1;32m    198\u001b[0m         \u001b[39m# TODO(mamu): Handle multi-objective cases.\u001b[39;00m\n\u001b[1;32m    199\u001b[0m         state \u001b[39m=\u001b[39m TrialState\u001b[39m.\u001b[39mPRUNED\n",
      "Cell \u001b[0;32mIn[57], line 15\u001b[0m, in \u001b[0;36mobjective\u001b[0;34m(trial)\u001b[0m\n\u001b[1;32m      4\u001b[0m params \u001b[39m=\u001b[39m {\n\u001b[1;32m      5\u001b[0m     \u001b[39m'\u001b[39m\u001b[39miterations\u001b[39m\u001b[39m'\u001b[39m: \u001b[39m1000\u001b[39m,\n\u001b[1;32m      6\u001b[0m     \u001b[39m'\u001b[39m\u001b[39mlearning_rate\u001b[39m\u001b[39m'\u001b[39m: trial\u001b[39m.\u001b[39msuggest_loguniform(\u001b[39m'\u001b[39m\u001b[39mlearning_rate\u001b[39m\u001b[39m'\u001b[39m, \u001b[39m1e-3\u001b[39m, \u001b[39m1e-1\u001b[39m),\n\u001b[0;32m   (...)\u001b[0m\n\u001b[1;32m     12\u001b[0m     \u001b[39m'\u001b[39m\u001b[39mverbose\u001b[39m\u001b[39m'\u001b[39m: \u001b[39m100\u001b[39m\n\u001b[1;32m     13\u001b[0m }\n\u001b[1;32m     14\u001b[0m catboost \u001b[39m=\u001b[39m CatBoostClassifier(\u001b[39m*\u001b[39m\u001b[39m*\u001b[39mparams)\n\u001b[0;32m---> 15\u001b[0m catboost\u001b[39m.\u001b[39;49mfit(X_train, y_train, eval_set\u001b[39m=\u001b[39;49m(X_test, y_test), cat_features\u001b[39m=\u001b[39;49mcat_features)\n\u001b[1;32m     16\u001b[0m \u001b[39mreturn\u001b[39;00m catboost\u001b[39m.\u001b[39mget_best_score()[\u001b[39m'\u001b[39m\u001b[39mvalidation\u001b[39m\u001b[39m'\u001b[39m][\u001b[39m'\u001b[39m\u001b[39mAUC\u001b[39m\u001b[39m'\u001b[39m]\n",
      "File \u001b[0;32m~/anaconda3/envs/data-science/lib/python3.9/site-packages/catboost/core.py:5128\u001b[0m, in \u001b[0;36mCatBoostClassifier.fit\u001b[0;34m(self, X, y, cat_features, text_features, embedding_features, sample_weight, baseline, use_best_model, eval_set, verbose, logging_level, plot, plot_file, column_description, verbose_eval, metric_period, silent, early_stopping_rounds, save_snapshot, snapshot_file, snapshot_interval, init_model, callbacks, log_cout, log_cerr)\u001b[0m\n\u001b[1;32m   5125\u001b[0m \u001b[39mif\u001b[39;00m \u001b[39m'\u001b[39m\u001b[39mloss_function\u001b[39m\u001b[39m'\u001b[39m \u001b[39min\u001b[39;00m params:\n\u001b[1;32m   5126\u001b[0m     CatBoostClassifier\u001b[39m.\u001b[39m_check_is_compatible_loss(params[\u001b[39m'\u001b[39m\u001b[39mloss_function\u001b[39m\u001b[39m'\u001b[39m])\n\u001b[0;32m-> 5128\u001b[0m \u001b[39mself\u001b[39;49m\u001b[39m.\u001b[39;49m_fit(X, y, cat_features, text_features, embedding_features, \u001b[39mNone\u001b[39;49;00m, sample_weight, \u001b[39mNone\u001b[39;49;00m, \u001b[39mNone\u001b[39;49;00m, \u001b[39mNone\u001b[39;49;00m, \u001b[39mNone\u001b[39;49;00m, baseline, use_best_model,\n\u001b[1;32m   5129\u001b[0m           eval_set, verbose, logging_level, plot, plot_file, column_description, verbose_eval, metric_period,\n\u001b[1;32m   5130\u001b[0m           silent, early_stopping_rounds, save_snapshot, snapshot_file, snapshot_interval, init_model, callbacks, log_cout, log_cerr)\n\u001b[1;32m   5131\u001b[0m \u001b[39mreturn\u001b[39;00m \u001b[39mself\u001b[39m\n",
      "File \u001b[0;32m~/anaconda3/envs/data-science/lib/python3.9/site-packages/catboost/core.py:2355\u001b[0m, in \u001b[0;36mCatBoost._fit\u001b[0;34m(self, X, y, cat_features, text_features, embedding_features, pairs, sample_weight, group_id, group_weight, subgroup_id, pairs_weight, baseline, use_best_model, eval_set, verbose, logging_level, plot, plot_file, column_description, verbose_eval, metric_period, silent, early_stopping_rounds, save_snapshot, snapshot_file, snapshot_interval, init_model, callbacks, log_cout, log_cerr)\u001b[0m\n\u001b[1;32m   2351\u001b[0m allow_clear_pool \u001b[39m=\u001b[39m train_params[\u001b[39m\"\u001b[39m\u001b[39mallow_clear_pool\u001b[39m\u001b[39m\"\u001b[39m]\n\u001b[1;32m   2353\u001b[0m \u001b[39mwith\u001b[39;00m log_fixup(log_cout, log_cerr), \\\n\u001b[1;32m   2354\u001b[0m     plot_wrapper(plot, plot_file, \u001b[39m'\u001b[39m\u001b[39mTraining plots\u001b[39m\u001b[39m'\u001b[39m, [_get_train_dir(\u001b[39mself\u001b[39m\u001b[39m.\u001b[39mget_params())]):\n\u001b[0;32m-> 2355\u001b[0m     \u001b[39mself\u001b[39;49m\u001b[39m.\u001b[39;49m_train(\n\u001b[1;32m   2356\u001b[0m         train_pool,\n\u001b[1;32m   2357\u001b[0m         train_params[\u001b[39m\"\u001b[39;49m\u001b[39meval_sets\u001b[39;49m\u001b[39m\"\u001b[39;49m],\n\u001b[1;32m   2358\u001b[0m         params,\n\u001b[1;32m   2359\u001b[0m         allow_clear_pool,\n\u001b[1;32m   2360\u001b[0m         train_params[\u001b[39m\"\u001b[39;49m\u001b[39minit_model\u001b[39;49m\u001b[39m\"\u001b[39;49m]\n\u001b[1;32m   2361\u001b[0m     )\n\u001b[1;32m   2363\u001b[0m \u001b[39m# Have property feature_importance possibly set\u001b[39;00m\n\u001b[1;32m   2364\u001b[0m loss \u001b[39m=\u001b[39m \u001b[39mself\u001b[39m\u001b[39m.\u001b[39m_object\u001b[39m.\u001b[39m_get_loss_function_name()\n",
      "File \u001b[0;32m~/anaconda3/envs/data-science/lib/python3.9/site-packages/catboost/core.py:1759\u001b[0m, in \u001b[0;36m_CatBoostBase._train\u001b[0;34m(self, train_pool, test_pool, params, allow_clear_pool, init_model)\u001b[0m\n\u001b[1;32m   1758\u001b[0m \u001b[39mdef\u001b[39;00m \u001b[39m_train\u001b[39m(\u001b[39mself\u001b[39m, train_pool, test_pool, params, allow_clear_pool, init_model):\n\u001b[0;32m-> 1759\u001b[0m     \u001b[39mself\u001b[39;49m\u001b[39m.\u001b[39;49m_object\u001b[39m.\u001b[39;49m_train(train_pool, test_pool, params, allow_clear_pool, init_model\u001b[39m.\u001b[39;49m_object \u001b[39mif\u001b[39;49;00m init_model \u001b[39melse\u001b[39;49;00m \u001b[39mNone\u001b[39;49;00m)\n\u001b[1;32m   1760\u001b[0m     \u001b[39mself\u001b[39m\u001b[39m.\u001b[39m_set_trained_model_attributes()\n",
      "File \u001b[0;32m_catboost.pyx:4623\u001b[0m, in \u001b[0;36m_catboost._CatBoost._train\u001b[0;34m()\u001b[0m\n",
      "File \u001b[0;32m_catboost.pyx:4672\u001b[0m, in \u001b[0;36m_catboost._CatBoost._train\u001b[0;34m()\u001b[0m\n",
      "\u001b[0;31mKeyboardInterrupt\u001b[0m: "
     ]
    }
   ],
   "source": [
    "#Fine tune using optuna\n",
    "\n",
    "def objective(trial):\n",
    "    params = {\n",
    "        'iterations': 1000,\n",
    "        'learning_rate': trial.suggest_loguniform('learning_rate', 1e-3, 1e-1),\n",
    "        'depth': trial.suggest_int('depth', 3, 10),\n",
    "        'loss_function': 'Logloss',\n",
    "        'eval_metric': 'AUC',\n",
    "        'random_seed': 42,\n",
    "        'use_best_model': True,\n",
    "        'verbose': 100\n",
    "    }\n",
    "    catboost = CatBoostClassifier(**params)\n",
    "    catboost.fit(X_train, y_train, eval_set=(X_test, y_test), cat_features=cat_features)\n",
    "    return catboost.get_best_score()['validation']['AUC']\n",
    "\n",
    "study = optuna.create_study(direction='maximize')\n",
    "study.optimize(objective, n_trials=100)"
   ]
  },
  {
   "cell_type": "code",
   "execution_count": 60,
   "metadata": {},
   "outputs": [],
   "source": [
    "best_params = study.best_params"
   ]
  },
  {
   "cell_type": "code",
   "execution_count": 61,
   "metadata": {},
   "outputs": [],
   "source": [
    "final_model = CatBoostClassifier(iterations=1000, learning_rate=best_params[\"learning_rate\"], depth=best_params[\"depth\"], loss_function=\"Logloss\", eval_metric=\"AUC\", random_seed=42, use_best_model=True)"
   ]
  },
  {
   "cell_type": "code",
   "execution_count": 62,
   "metadata": {},
   "outputs": [
    {
     "name": "stdout",
     "output_type": "stream",
     "text": [
      "0:\ttest: 0.8534399\tbest: 0.8534399 (0)\ttotal: 109ms\tremaining: 1m 48s\n",
      "100:\ttest: 0.9564442\tbest: 0.9564442 (100)\ttotal: 9.6s\tremaining: 1m 25s\n",
      "200:\ttest: 0.9609780\tbest: 0.9609780 (200)\ttotal: 20s\tremaining: 1m 19s\n",
      "300:\ttest: 0.9620657\tbest: 0.9620978 (294)\ttotal: 32.2s\tremaining: 1m 14s\n",
      "400:\ttest: 0.9626681\tbest: 0.9627127 (384)\ttotal: 43.4s\tremaining: 1m 4s\n",
      "500:\ttest: 0.9629969\tbest: 0.9630757 (494)\ttotal: 54.7s\tremaining: 54.4s\n",
      "600:\ttest: 0.9631411\tbest: 0.9631897 (567)\ttotal: 1m 5s\tremaining: 43.6s\n",
      "700:\ttest: 0.9628981\tbest: 0.9631897 (567)\ttotal: 1m 17s\tremaining: 32.9s\n",
      "800:\ttest: 0.9628661\tbest: 0.9631897 (567)\ttotal: 1m 29s\tremaining: 22.2s\n",
      "900:\ttest: 0.9627743\tbest: 0.9631897 (567)\ttotal: 1m 41s\tremaining: 11.2s\n",
      "999:\ttest: 0.9628268\tbest: 0.9631897 (567)\ttotal: 1m 53s\tremaining: 0us\n",
      "\n",
      "bestTest = 0.963189722\n",
      "bestIteration = 567\n",
      "\n",
      "Shrink model to first 568 iterations.\n"
     ]
    },
    {
     "data": {
      "text/plain": [
       "<catboost.core.CatBoostClassifier at 0x7f6e59c78eb0>"
      ]
     },
     "execution_count": 62,
     "metadata": {},
     "output_type": "execute_result"
    }
   ],
   "source": [
    "final_model.fit(X_train, y_train, eval_set=(X_test, y_test), verbose=100, cat_features=cat_features)"
   ]
  },
  {
   "cell_type": "code",
   "execution_count": 63,
   "metadata": {},
   "outputs": [
    {
     "name": "stdout",
     "output_type": "stream",
     "text": [
      "              precision    recall  f1-score   support\n",
      "\n",
      "           0       0.94      0.99      0.96      5072\n",
      "           1       0.96      0.76      0.85      1445\n",
      "\n",
      "    accuracy                           0.94      6517\n",
      "   macro avg       0.95      0.88      0.91      6517\n",
      "weighted avg       0.94      0.94      0.94      6517\n",
      "\n"
     ]
    },
    {
     "data": {
      "text/plain": [
       "0.9398496240601504"
      ]
     },
     "execution_count": 63,
     "metadata": {},
     "output_type": "execute_result"
    }
   ],
   "source": [
    "y_pred = final_model.predict(X_test)\n",
    "print(classification_report(y_test, y_pred))\n",
    "accuracy_score(y_test, y_pred)"
   ]
  },
  {
   "cell_type": "code",
   "execution_count": null,
   "metadata": {},
   "outputs": [],
   "source": []
  }
 ],
 "metadata": {
  "kernelspec": {
   "display_name": "data-science",
   "language": "python",
   "name": "python3"
  },
  "language_info": {
   "codemirror_mode": {
    "name": "ipython",
    "version": 3
   },
   "file_extension": ".py",
   "mimetype": "text/x-python",
   "name": "python",
   "nbconvert_exporter": "python",
   "pygments_lexer": "ipython3",
   "version": "3.9.15 (main, Nov 24 2022, 14:31:59) \n[GCC 11.2.0]"
  },
  "orig_nbformat": 4,
  "vscode": {
   "interpreter": {
    "hash": "2efee1efa502125d01e6b4768ba06d9453d29f3642bfd14ad5d4a769de82e88c"
   }
  }
 },
 "nbformat": 4,
 "nbformat_minor": 2
}
