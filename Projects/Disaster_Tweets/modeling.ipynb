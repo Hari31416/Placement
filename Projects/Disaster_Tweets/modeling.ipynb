{
  "cells": [
    {
      "cell_type": "markdown",
      "metadata": {},
      "source": [
        "<table class=\"tfo-notebook-buttons\" align=\"left\">\n",
        "<td style=\"border: none;\">\n",
        "<a target=\"blank\" href=\"https://colab.research.google.com/github/Hari31416/Portfolio/blob/main/ML\\Disaster_Tweets\\modeling.ipynb?hl=en\"><img src=\"https://colab.research.google.com/img/colab_favicon_256px.png\" width=\"28\" height=\"28\"/>Run on Google Colab</a></td>\n",
        "<td style=\"border: none;\">\n",
        "<a target=\"blank\" href=\"https://github.com/Hari31416/Portfolio/blob/main/ML\\Disaster_Tweets\\modeling.ipynb\"><img src=\"https://cdn.icon-icons.com/icons2/2368/PNG/512/github_logo_icon_143772.png\" width=\"28\" height=\"28\"/>View on Github</a></td>\n",
        "<td style=\"border: none;\">\n",
        "</table>\n"
      ]
    },
    {
      "cell_type": "markdown",
      "metadata": {},
      "source": [
        "<h1 id=\"Contents\">Contents<a href=\"#Contents\"></a></h1>\n",
        "        <ol>\n",
        "        <li><a class=\"\" href=\"#Imports\">Imports</a></li>\n",
        "<li><a class=\"\" href=\"#Loading-Data\">Loading Data</a></li>\n",
        "<ol><li><a class=\"\" href=\"#Downloading-Data\">Downloading Data</a></li>\n",
        "<li><a class=\"\" href=\"#Reading-and-Making-Data-Ready\">Reading and Making Data Ready</a></li>\n",
        "</ol><li><a class=\"\" href=\"#Modeling\">Modeling</a></li>\n",
        "<ol><li><a class=\"\" href=\"#Some-Functions\">Some Functions</a></li>\n",
        "<li><a class=\"\" href=\"#Base-Model-(Naive-Bayes)\">Base Model (Naive Bayes)</a></li>\n",
        "<li><a class=\"\" href=\"#Deep-Learning-Models\">Deep Learning Models</a></li>\n",
        "<ol><li><a class=\"\" href=\"#Text-Vectorization-and-Embedding\">Text Vectorization and Embedding</a></li>\n",
        "<li><a class=\"\" href=\"#Creating-Datasets\">Creating Datasets</a></li>\n",
        "<li><a class=\"\" href=\"#Model-1\">Model 1</a></li>\n",
        "<li><a class=\"\" href=\"#Transfer-Learning\">Transfer Learning</a></li>\n",
        "<ol><li><a class=\"\" href=\"#Conv-Model\">Conv Model</a></li>\n",
        "<li><a class=\"\" href=\"#LSTM-Model\">LSTM Model</a></li>\n",
        "<li><a class=\"\" href=\"#Bidirectional-LSTM\">Bidirectional LSTM</a></li>\n",
        "<li><a class=\"\" href=\"#GRU-Unit\">GRU Unit</a></li>\n",
        "<li><a class=\"\" href=\"#Final-Model\">Final Model</a></li>\n",
        "</ol><li><a class=\"\" href=\"#Creating-a-Multivariate-Model\">Creating a Multivariate Model</a></li>\n",
        "<ol><li><a class=\"\" href='#Using-\"USE\"-For-both-the-text-and-keyword'>Using \"USE\" For both the text and keyword</a></li>\n",
        "<li><a class=\"\" href=\"#Using-Character-Level-Encoding-for-keyword\">Using Character Level Encoding for keyword</a></li>\n",
        "</ol>"
      ]
    },
    {
      "cell_type": "markdown",
      "metadata": {
        "id": "EE3Z0ftI7YIC"
      },
      "source": [
        "# Imports"
      ]
    },
    {
      "cell_type": "code",
      "execution_count": 1,
      "metadata": {
        "id": "J28EAW417Z3l"
      },
      "outputs": [],
      "source": [
        "import pandas as pd\n",
        "import numpy as np\n",
        "import matplotlib.pyplot as plt\n",
        "\n",
        "import tensorflow as tf\n",
        "import tensorflow.keras.layers as tfl\n",
        "from tensorflow.keras.models import Sequential, Model\n",
        "from tensorflow.keras.callbacks import ModelCheckpoint, EarlyStopping, TensorBoard\n",
        "\n",
        "from sklearn.feature_extraction.text import TfidfVectorizer\n",
        "from sklearn.naive_bayes import MultinomialNB\n",
        "from sklearn.pipeline import Pipeline\n",
        "from sklearn.model_selection import train_test_split"
      ]
    },
    {
      "cell_type": "code",
      "execution_count": 2,
      "metadata": {
        "id": "KjgFWB-uHxvt"
      },
      "outputs": [],
      "source": [
        "import warnings\n",
        "warnings.filterwarnings('ignore')"
      ]
    },
    {
      "cell_type": "markdown",
      "metadata": {
        "id": "ZuP-lwkQ7Q9f"
      },
      "source": [
        "# Loading Data"
      ]
    },
    {
      "cell_type": "markdown",
      "metadata": {
        "id": "vW7x-hhC7T-h"
      },
      "source": [
        "## Downloading Data"
      ]
    },
    {
      "cell_type": "markdown",
      "metadata": {},
      "source": [
        "Run this cell on Google Colab to get the cleaned data."
      ]
    },
    {
      "cell_type": "code",
      "execution_count": 3,
      "metadata": {
        "colab": {
          "base_uri": "https://localhost:8080/"
        },
        "id": "QaJvuot34Nw6",
        "outputId": "c838edeb-ee51-496f-aa01-49355f8a3320"
      },
      "outputs": [
        {
          "name": "stdout",
          "output_type": "stream",
          "text": [
            "--2022-06-18 04:03:17--  https://raw.githubusercontent.com/Hari31416/Portfolio/main/ML/Disaster_Tweets/data/train_clean.csv\n",
            "Resolving raw.githubusercontent.com (raw.githubusercontent.com)... 185.199.108.133, 185.199.109.133, 185.199.110.133, ...\n",
            "Connecting to raw.githubusercontent.com (raw.githubusercontent.com)|185.199.108.133|:443... connected.\n",
            "HTTP request sent, awaiting response... 200 OK\n",
            "Length: 687237 (671K) [text/plain]\n",
            "Saving to: ‘train_clean.csv’\n",
            "\n",
            "train_clean.csv     100%[===================>] 671.13K  --.-KB/s    in 0.04s   \n",
            "\n",
            "2022-06-18 04:03:17 (15.8 MB/s) - ‘train_clean.csv’ saved [687237/687237]\n",
            "\n",
            "--2022-06-18 04:03:18--  https://raw.githubusercontent.com/Hari31416/Portfolio/main/ML/Disaster_Tweets/data/test_clean.csv\n",
            "Resolving raw.githubusercontent.com (raw.githubusercontent.com)... 185.199.108.133, 185.199.109.133, 185.199.110.133, ...\n",
            "Connecting to raw.githubusercontent.com (raw.githubusercontent.com)|185.199.108.133|:443... connected.\n",
            "HTTP request sent, awaiting response... 200 OK\n",
            "Length: 290529 (284K) [text/plain]\n",
            "Saving to: ‘test_clean.csv’\n",
            "\n",
            "test_clean.csv      100%[===================>] 283.72K  --.-KB/s    in 0.03s   \n",
            "\n",
            "2022-06-18 04:03:18 (9.11 MB/s) - ‘test_clean.csv’ saved [290529/290529]\n",
            "\n"
          ]
        }
      ],
      "source": [
        "!wget https://raw.githubusercontent.com/Hari31416/Portfolio/main/ML/Disaster_Tweets/data/train_clean.csv\n",
        "!wget https://raw.githubusercontent.com/Hari31416/Portfolio/main/ML/Disaster_Tweets/data/test_clean.csv"
      ]
    },
    {
      "cell_type": "markdown",
      "metadata": {
        "id": "F21tkCjc7cQa"
      },
      "source": [
        "## Reading and Making Data Ready"
      ]
    },
    {
      "cell_type": "code",
      "execution_count": 4,
      "metadata": {
        "id": "4u42RXaF4VQb"
      },
      "outputs": [],
      "source": [
        "train = pd.read_csv(r'train_clean.csv')\n",
        "test = pd.read_csv(r'test_clean.csv')"
      ]
    },
    {
      "cell_type": "code",
      "execution_count": 5,
      "metadata": {
        "id": "f-e7SY3B4c2O"
      },
      "outputs": [],
      "source": [
        "id = test[\"id\"]"
      ]
    },
    {
      "cell_type": "code",
      "execution_count": 6,
      "metadata": {
        "id": "Bh4oAokv4X8N"
      },
      "outputs": [],
      "source": [
        "train_text = train[\"text\"]\n",
        "test_text = test[\"text\"]\n",
        "target = train[\"target\"]"
      ]
    },
    {
      "cell_type": "markdown",
      "metadata": {},
      "source": [
        "We'll create the train test split."
      ]
    },
    {
      "cell_type": "code",
      "execution_count": null,
      "metadata": {
        "id": "NA3IMLTX5ICD"
      },
      "outputs": [],
      "source": [
        "X_train, X_test, y_train, y_test = train_test_split(train_text, target, test_size=0.1, random_state=42)"
      ]
    },
    {
      "cell_type": "markdown",
      "metadata": {
        "id": "9OQZwXjl7goG"
      },
      "source": [
        "# Modeling"
      ]
    },
    {
      "cell_type": "markdown",
      "metadata": {
        "id": "cZ2YDBjo75b8"
      },
      "source": [
        "## Some Functions"
      ]
    },
    {
      "cell_type": "markdown",
      "metadata": {},
      "source": [
        "Let's write some functions to help us."
      ]
    },
    {
      "cell_type": "code",
      "execution_count": 7,
      "metadata": {
        "id": "1Tio-1PN78Rr"
      },
      "outputs": [],
      "source": [
        "from sklearn.metrics import accuracy_score, precision_recall_fscore_support\n",
        "\n",
        "def calculate_results(y_true, y_pred):\n",
        "  \"\"\"\n",
        "  Calculates model accuracy, precision, recall and f1 score of a binary classification model.\n",
        "\n",
        "  Args:\n",
        "  -----\n",
        "  y_true = true labels in the form of a 1D array\n",
        "  y_pred = predicted labels in the form of a 1D array\n",
        "\n",
        "  Returns a dictionary of accuracy, precision, recall, f1-score.\n",
        "  \"\"\"\n",
        "  # Calculate model accuracy\n",
        "  model_accuracy = accuracy_score(y_true, y_pred) * 100\n",
        "  # Calculate model precision, recall and f1 score using \"weighted\" average\n",
        "  model_precision, model_recall, model_f1, _ = precision_recall_fscore_support(y_true, y_pred, average=\"weighted\")\n",
        "  model_results = {\"accuracy\": model_accuracy,\n",
        "                  \"precision\": model_precision,\n",
        "                  \"recall\": model_recall,\n",
        "                  \"f1\": model_f1}\n",
        "  return model_results"
      ]
    },
    {
      "cell_type": "code",
      "execution_count": 32,
      "metadata": {
        "id": "m9r1x3_YDrdp"
      },
      "outputs": [],
      "source": [
        "import datetime\n",
        "def create_tensorboard_callback(experiment_name, dir_name=\"mnist\"):\n",
        "  log_dir = dir_name + \"/\" + experiment_name + \"/\" + datetime.datetime.now().strftime(\"%Y%m%d-%H%M%S\")\n",
        "  tensorboard_callback = tf.keras.callbacks.TensorBoard(\n",
        "      log_dir=log_dir\n",
        "  )\n",
        "  print(f\"Saving TensorBoard log files to: {log_dir}\")\n",
        "  return tensorboard_callback\n",
        "\n",
        "def create_early_stopping_callback(monitor = 'val_accuracy', patience=5):\n",
        "  early_stopping_callback = tf.keras.callbacks.EarlyStopping(\n",
        "      monitor=monitor, patience=patience\n",
        "  )\n",
        "  return early_stopping_callback\n",
        "\n",
        "def create_model_checkpoint(experiment_name, dir_name=\"tweets\",\n",
        "                            save_freq='epoch', monitor = \"val_accuracy\"):\n",
        "\n",
        "  checkpoint_dir = dir_name + \"/\" + experiment_name\n",
        "  checkpoint_callback = ModelCheckpoint(\n",
        "    checkpoint_dir, monitor=monitor, verbose=1, save_best_only=True,\n",
        "    save_weights_only=False, mode='auto', save_freq=save_freq,\n",
        "  )\n",
        "  print(f\"Saving model checkpoint to: {checkpoint_dir}\")\n",
        "  return checkpoint_callback"
      ]
    },
    {
      "cell_type": "markdown",
      "metadata": {
        "id": "UkxKiye473DF"
      },
      "source": [
        "## Base Model (Naive Bayes)"
      ]
    },
    {
      "cell_type": "markdown",
      "metadata": {},
      "source": [
        "Before begining our modeling, we'll create a base model. This will ve a Naive Bayes model."
      ]
    },
    {
      "cell_type": "code",
      "execution_count": null,
      "metadata": {
        "colab": {
          "base_uri": "https://localhost:8080/"
        },
        "id": "mhTAmH7x8FgU",
        "outputId": "8a816add-7dd5-409c-e32f-774ecfc1593b"
      },
      "outputs": [
        {
          "data": {
            "text/plain": [
              "Pipeline(steps=[('tfidf', TfidfVectorizer(stop_words='english')),\n",
              "                ('nb', MultinomialNB())])"
            ]
          },
          "execution_count": 9,
          "metadata": {},
          "output_type": "execute_result"
        }
      ],
      "source": [
        "pipe = Pipeline([\n",
        "    (\"tfidf\", TfidfVectorizer(stop_words=\"english\")),\n",
        "    (\"nb\", MultinomialNB())\n",
        "])\n",
        "pipe.fit(X_train, y_train)"
      ]
    },
    {
      "cell_type": "code",
      "execution_count": null,
      "metadata": {
        "colab": {
          "base_uri": "https://localhost:8080/"
        },
        "id": "h1TkvuZr8H9W",
        "outputId": "97edd8db-af40-4a7e-d5b6-d0bca4ca6430"
      },
      "outputs": [
        {
          "data": {
            "text/plain": [
              "(0.8982481751824818, 0.7913385826771654)"
            ]
          },
          "execution_count": 10,
          "metadata": {},
          "output_type": "execute_result"
        }
      ],
      "source": [
        "pipe.score(X_train, y_train), pipe.score(X_test, y_test)"
      ]
    },
    {
      "cell_type": "markdown",
      "metadata": {
        "id": "3Hm3NsNx8Q0Q"
      },
      "source": [
        "The base model is giving an accuracy of 79%."
      ]
    },
    {
      "cell_type": "code",
      "execution_count": null,
      "metadata": {
        "colab": {
          "base_uri": "https://localhost:8080/"
        },
        "id": "KTGjoLy_8YGb",
        "outputId": "339e366b-0ce5-427a-cbe9-2eb6f17f7e3d"
      },
      "outputs": [
        {
          "data": {
            "text/plain": [
              "{'accuracy': 79.13385826771653,\n",
              " 'f1': 0.7865535576835297,\n",
              " 'precision': 0.7974211556888723,\n",
              " 'recall': 0.7913385826771654}"
            ]
          },
          "execution_count": 11,
          "metadata": {},
          "output_type": "execute_result"
        }
      ],
      "source": [
        "base_model_performance = calculate_results(y_test, pipe.predict(X_test))\n",
        "base_model_performance"
      ]
    },
    {
      "cell_type": "markdown",
      "metadata": {},
      "source": [
        "Now that we have our base model, we can start experimenting with other models."
      ]
    },
    {
      "cell_type": "markdown",
      "metadata": {
        "id": "saL9iyZZ8cYO"
      },
      "source": [
        "## Deep Learning Models"
      ]
    },
    {
      "cell_type": "markdown",
      "metadata": {},
      "source": [
        "Before we can use deep learning models, we need to make sure that our data is in the right format. We have to vectorize our data and make an embedding."
      ]
    },
    {
      "cell_type": "markdown",
      "metadata": {
        "id": "2_6D_aCL8ir5"
      },
      "source": [
        "### Text Vectorization and Embedding"
      ]
    },
    {
      "cell_type": "code",
      "execution_count": null,
      "metadata": {
        "id": "0WTkeSnG8oo4"
      },
      "outputs": [],
      "source": [
        "MAX_VOCAB_SIZE = 10000\n",
        "MAX_LENGTH = 20\n",
        "tokenizer = tfl.TextVectorization(max_tokens=MAX_VOCAB_SIZE, output_sequence_length=MAX_LENGTH, name=\"tokenizer\")\n",
        "tokenizer.adapt(train_text)"
      ]
    },
    {
      "cell_type": "code",
      "execution_count": null,
      "metadata": {
        "colab": {
          "base_uri": "https://localhost:8080/"
        },
        "id": "gTmpjRam8tZ7",
        "outputId": "f5dc25f8-135e-407b-926c-f8f0caf18841"
      },
      "outputs": [
        {
          "data": {
            "text/plain": [
              "(['', '[UNK]', 'like', 'e', 'amp', 'im', 'a', 'fire', 't', 'get'],\n",
              " ['nailreal',\n",
              "  'nagaski',\n",
              "  'naemolgo',\n",
              "  'nades',\n",
              "  'naayf',\n",
              "  'naaa',\n",
              "  'na',\n",
              "  'n36',\n",
              "  'n15b',\n",
              "  'myths'])"
            ]
          },
          "execution_count": 10,
          "metadata": {},
          "output_type": "execute_result"
        }
      ],
      "source": [
        "vocab = tokenizer.get_vocabulary()\n",
        "vocab[:10], vocab[-10:]"
      ]
    },
    {
      "cell_type": "code",
      "execution_count": null,
      "metadata": {
        "id": "shKdY7Yc8wYG"
      },
      "outputs": [],
      "source": [
        "embedd = tfl.Embedding(input_dim=MAX_VOCAB_SIZE, output_dim=128, input_length=MAX_LENGTH, name=\"embedd_1\")"
      ]
    },
    {
      "cell_type": "markdown",
      "metadata": {
        "id": "Mu1JnlEv9W31"
      },
      "source": [
        "### Creating Datasets"
      ]
    },
    {
      "cell_type": "markdown",
      "metadata": {},
      "source": [
        "This will result in faster training."
      ]
    },
    {
      "cell_type": "code",
      "execution_count": null,
      "metadata": {
        "id": "78WQ_NMk9fsO"
      },
      "outputs": [],
      "source": [
        "train_dataset = tf.data.Dataset.from_tensor_slices((X_train, y_train))\n",
        "test_dataset = tf.data.Dataset.from_tensor_slices((X_test, y_test))"
      ]
    },
    {
      "cell_type": "code",
      "execution_count": null,
      "metadata": {
        "id": "f0zhBwtB98pt"
      },
      "outputs": [],
      "source": [
        "train_dataset = train_dataset.batch(32).prefetch(tf.data.AUTOTUNE)\n",
        "test_dataset = test_dataset.batch(32).prefetch(tf.data.AUTOTUNE)"
      ]
    },
    {
      "cell_type": "markdown",
      "metadata": {
        "id": "xKXvbf2T8z1i"
      },
      "source": [
        "### Model 1"
      ]
    },
    {
      "cell_type": "markdown",
      "metadata": {
        "id": "P7bVqVvr81X7"
      },
      "source": [
        "We'll start with a small model."
      ]
    },
    {
      "cell_type": "code",
      "execution_count": null,
      "metadata": {
        "colab": {
          "base_uri": "https://localhost:8080/"
        },
        "id": "pGnLuYJD8xOw",
        "outputId": "2e9c0b4f-642e-461f-97bd-82517e240945"
      },
      "outputs": [
        {
          "name": "stdout",
          "output_type": "stream",
          "text": [
            "Model: \"model_3\"\n",
            "_________________________________________________________________\n",
            " Layer (type)                Output Shape              Param #   \n",
            "=================================================================\n",
            " input1 (InputLayer)         [(None, 1)]               0         \n",
            "                                                                 \n",
            " tokenizer (TextVectorizatio  (None, 20)               0         \n",
            " n)                                                              \n",
            "                                                                 \n",
            " embedd_1 (Embedding)        (None, 20, 128)           1280000   \n",
            "                                                                 \n",
            " flatten1 (Flatten)          (None, 2560)              0         \n",
            "                                                                 \n",
            " dense1 (Dense)              (None, 128)               327808    \n",
            "                                                                 \n",
            " dense_9 (Dense)             (None, 1)                 129       \n",
            "                                                                 \n",
            "=================================================================\n",
            "Total params: 1,607,937\n",
            "Trainable params: 1,607,937\n",
            "Non-trainable params: 0\n",
            "_________________________________________________________________\n"
          ]
        }
      ],
      "source": [
        "input = tfl.Input(shape=(1,), dtype=\"string\", name=\"input1\")\n",
        "x = tokenizer(input)\n",
        "x = embedd(x)\n",
        "x = tfl.Flatten(name=\"flatten1\")(x) \n",
        "x = tfl.Dense(128, activation=\"relu\", name=\"dense1\")(x)\n",
        "output = tfl.Dense(1, activation=\"sigmoid\")(x)\n",
        "model_1 = Model(inputs=input, outputs=output)\n",
        "model_1.compile(optimizer=\"adam\", loss=\"binary_crossentropy\", metrics = [\"accuracy\"])\n",
        "model_1.summary()"
      ]
    },
    {
      "cell_type": "code",
      "execution_count": null,
      "metadata": {
        "colab": {
          "base_uri": "https://localhost:8080/"
        },
        "id": "nYdPpgKT9E3R",
        "outputId": "d35b0392-00a3-4233-9ab8-8fd986486d1d"
      },
      "outputs": [
        {
          "name": "stdout",
          "output_type": "stream",
          "text": [
            "Epoch 1/10\n",
            "215/215 [==============================] - 1s 5ms/step - loss: 0.0749 - accuracy: 0.9728 - val_loss: 0.7744 - val_accuracy: 0.7612\n",
            "Epoch 2/10\n",
            "215/215 [==============================] - 1s 4ms/step - loss: 0.0299 - accuracy: 0.9851 - val_loss: 0.9334 - val_accuracy: 0.7572\n",
            "Epoch 3/10\n",
            "215/215 [==============================] - 1s 4ms/step - loss: 0.0269 - accuracy: 0.9857 - val_loss: 1.0584 - val_accuracy: 0.7559\n",
            "Epoch 4/10\n",
            "215/215 [==============================] - 1s 4ms/step - loss: 0.0258 - accuracy: 0.9855 - val_loss: 1.1475 - val_accuracy: 0.7572\n",
            "Epoch 5/10\n",
            "215/215 [==============================] - 1s 4ms/step - loss: 0.0253 - accuracy: 0.9858 - val_loss: 1.2092 - val_accuracy: 0.7572\n",
            "Epoch 6/10\n",
            "215/215 [==============================] - 1s 4ms/step - loss: 0.0249 - accuracy: 0.9861 - val_loss: 1.2625 - val_accuracy: 0.7598\n",
            "Epoch 7/10\n",
            "215/215 [==============================] - 1s 4ms/step - loss: 0.0248 - accuracy: 0.9864 - val_loss: 1.3058 - val_accuracy: 0.7493\n",
            "Epoch 8/10\n",
            "215/215 [==============================] - 1s 4ms/step - loss: 0.0247 - accuracy: 0.9866 - val_loss: 1.3540 - val_accuracy: 0.7493\n",
            "Epoch 9/10\n",
            "215/215 [==============================] - 1s 4ms/step - loss: 0.0247 - accuracy: 0.9863 - val_loss: 1.3910 - val_accuracy: 0.7493\n",
            "Epoch 10/10\n",
            "215/215 [==============================] - 1s 4ms/step - loss: 0.0245 - accuracy: 0.9863 - val_loss: 1.4387 - val_accuracy: 0.7467\n"
          ]
        }
      ],
      "source": [
        "history_1 = model_1.fit(train_dataset,\n",
        "                        epochs=10,\n",
        "                        steps_per_epoch = len(train_dataset),\n",
        "                        validation_data = test_dataset,\n",
        "                        validation_steps = len(test_dataset),\n",
        "                        )"
      ]
    },
    {
      "cell_type": "markdown",
      "metadata": {
        "id": "_NK9RLa1-us-"
      },
      "source": [
        "The model is quickly overfitting."
      ]
    },
    {
      "cell_type": "markdown",
      "metadata": {
        "id": "fwuz4sF8-1iF"
      },
      "source": [
        "### Transfer Learning"
      ]
    },
    {
      "cell_type": "markdown",
      "metadata": {},
      "source": [
        "Using transfer learning can significantly improve the performance of our model. This is what we'll do."
      ]
    },
    {
      "cell_type": "markdown",
      "metadata": {
        "id": "CVjnGmnYH39e"
      },
      "source": [
        "#### Conv Model"
      ]
    },
    {
      "cell_type": "markdown",
      "metadata": {
        "id": "Vpim1qt5-8t0"
      },
      "source": [
        "Let's use the USE encoder from tensorflow hub. Let's use a `Conv1D` layer with this encoder."
      ]
    },
    {
      "cell_type": "code",
      "execution_count": null,
      "metadata": {
        "id": "yKLvmuio48iT"
      },
      "outputs": [],
      "source": [
        "import tensorflow_hub as hub\n",
        "# We can use this encoding layer in place of our text_vectorizer and embedding layer\n",
        "sentence_encoder_layer = hub.KerasLayer(\"https://tfhub.dev/google/universal-sentence-encoder/4\",\n",
        "                                        input_shape=[], # shape of inputs coming to our model \n",
        "                                        dtype=tf.string, # data type of inputs coming to the USE layer\n",
        "                                        trainable=False, # keep the pretrained weights (we'll create a feature extractor)\n",
        "                                        name=\"USE\") "
      ]
    },
    {
      "cell_type": "code",
      "execution_count": null,
      "metadata": {
        "colab": {
          "base_uri": "https://localhost:8080/"
        },
        "id": "9QIblE9HBMAM",
        "outputId": "c2c92e11-0998-4fc5-b35a-bd1379deaa04"
      },
      "outputs": [
        {
          "name": "stdout",
          "output_type": "stream",
          "text": [
            "Model: \"model_2_USE\"\n",
            "_________________________________________________________________\n",
            " Layer (type)                Output Shape              Param #   \n",
            "=================================================================\n",
            " USE (KerasLayer)            (None, 512)               256797824 \n",
            "                                                                 \n",
            " reshape_9 (Reshape)         (None, 64, 8)             0         \n",
            "                                                                 \n",
            " conv1d_37 (Conv1D)          (None, 60, 32)            1312      \n",
            "                                                                 \n",
            " conv1d_38 (Conv1D)          (None, 56, 64)            10304     \n",
            "                                                                 \n",
            " max_pooling1d_18 (MaxPoolin  (None, 28, 64)           0         \n",
            " g1D)                                                            \n",
            "                                                                 \n",
            " dropout_31 (Dropout)        (None, 28, 64)            0         \n",
            "                                                                 \n",
            " batch_normalization_31 (Bat  (None, 28, 64)           256       \n",
            " chNormalization)                                                \n",
            "                                                                 \n",
            " conv1d_39 (Conv1D)          (None, 24, 128)           41088     \n",
            "                                                                 \n",
            " conv1d_40 (Conv1D)          (None, 20, 256)           164096    \n",
            "                                                                 \n",
            " max_pooling1d_19 (MaxPoolin  (None, 10, 256)          0         \n",
            " g1D)                                                            \n",
            "                                                                 \n",
            " dropout_32 (Dropout)        (None, 10, 256)           0         \n",
            "                                                                 \n",
            " batch_normalization_32 (Bat  (None, 10, 256)          1024      \n",
            " chNormalization)                                                \n",
            "                                                                 \n",
            " conv1d_41 (Conv1D)          (None, 8, 256)            196864    \n",
            "                                                                 \n",
            " conv1d_42 (Conv1D)          (None, 6, 512)            393728    \n",
            "                                                                 \n",
            " dropout_33 (Dropout)        (None, 6, 512)            0         \n",
            "                                                                 \n",
            " batch_normalization_33 (Bat  (None, 6, 512)           2048      \n",
            " chNormalization)                                                \n",
            "                                                                 \n",
            " dense_26 (Dense)            (None, 6, 128)            65664     \n",
            "                                                                 \n",
            " dropout_34 (Dropout)        (None, 6, 128)            0         \n",
            "                                                                 \n",
            " batch_normalization_34 (Bat  (None, 6, 128)           512       \n",
            " chNormalization)                                                \n",
            "                                                                 \n",
            " global_average_pooling1d_7   (None, 128)              0         \n",
            " (GlobalAveragePooling1D)                                        \n",
            "                                                                 \n",
            " dense_27 (Dense)            (None, 1)                 129       \n",
            "                                                                 \n",
            "=================================================================\n",
            "Total params: 257,674,849\n",
            "Trainable params: 875,105\n",
            "Non-trainable params: 256,799,744\n",
            "_________________________________________________________________\n"
          ]
        }
      ],
      "source": [
        "# Create model using the Sequential API\n",
        "model_2 = tf.keras.Sequential([\n",
        "  sentence_encoder_layer, # take in sentences and then encode them into an embedding\n",
        "  tfl.Reshape((64, 8), input_shape=(512,)),\n",
        "\n",
        "  tfl.Conv1D(32, 5, padding=\"valid\"),\n",
        "  tfl.Conv1D(64, 5, padding=\"valid\"),\n",
        "   tfl.MaxPool1D(2),\n",
        "  tfl.Dropout(0.7),\n",
        "  tfl.BatchNormalization(),\n",
        "\n",
        "  tfl.Conv1D(128, 5, padding=\"valid\"),\n",
        "  tfl.Conv1D(256, 5, padding=\"valid\"),\n",
        "   tfl.MaxPool1D(2),\n",
        "  tfl.Dropout(0.7),\n",
        "  tfl.BatchNormalization(),\n",
        "\n",
        "  tfl.Conv1D(256, 3, padding=\"valid\"),\n",
        "  tfl.Conv1D(512, 3, padding=\"valid\"),\n",
        "  tfl.Dropout(0.8),\n",
        "  tfl.BatchNormalization(),\n",
        "  tfl.Dense(128, activation=\"relu\"),\n",
        "  tfl.Dropout(0.8),\n",
        "  tfl.BatchNormalization(),\n",
        "    tfl.GlobalAveragePooling1D(),\n",
        "  tfl.Dense(1, activation=\"sigmoid\")\n",
        "], name=\"model_2_USE\")\n",
        "\n",
        "# Compile model\n",
        "model_2.compile(loss=\"binary_crossentropy\",\n",
        "                optimizer=tf.keras.optimizers.Adam(),\n",
        "                metrics=[\"accuracy\"])\n",
        "\n",
        "model_2.summary()"
      ]
    },
    {
      "cell_type": "code",
      "execution_count": null,
      "metadata": {
        "colab": {
          "base_uri": "https://localhost:8080/"
        },
        "id": "4SUPAnGLCKee",
        "outputId": "7b46c8ef-335c-4b45-a76d-462fab137b94"
      },
      "outputs": [
        {
          "name": "stdout",
          "output_type": "stream",
          "text": [
            "Epoch 1/10\n",
            "215/215 [==============================] - 8s 20ms/step - loss: 0.6544 - accuracy: 0.6232 - val_loss: 0.6550 - val_accuracy: 0.5682\n",
            "Epoch 2/10\n",
            "215/215 [==============================] - 4s 17ms/step - loss: 0.5841 - accuracy: 0.7066 - val_loss: 0.5830 - val_accuracy: 0.6719\n",
            "Epoch 3/10\n",
            "215/215 [==============================] - 4s 18ms/step - loss: 0.5414 - accuracy: 0.7387 - val_loss: 0.4887 - val_accuracy: 0.7835\n",
            "Epoch 4/10\n",
            "215/215 [==============================] - 4s 17ms/step - loss: 0.5248 - accuracy: 0.7472 - val_loss: 0.4579 - val_accuracy: 0.8005\n",
            "Epoch 5/10\n",
            "215/215 [==============================] - 4s 18ms/step - loss: 0.5028 - accuracy: 0.7655 - val_loss: 0.4517 - val_accuracy: 0.8084\n",
            "Epoch 6/10\n",
            "215/215 [==============================] - 4s 18ms/step - loss: 0.5049 - accuracy: 0.7679 - val_loss: 0.4459 - val_accuracy: 0.8071\n",
            "Epoch 7/10\n",
            "215/215 [==============================] - 4s 18ms/step - loss: 0.4883 - accuracy: 0.7790 - val_loss: 0.4428 - val_accuracy: 0.8136\n",
            "Epoch 8/10\n",
            "215/215 [==============================] - 4s 18ms/step - loss: 0.4840 - accuracy: 0.7812 - val_loss: 0.4398 - val_accuracy: 0.8123\n",
            "Epoch 9/10\n",
            "215/215 [==============================] - 4s 17ms/step - loss: 0.4808 - accuracy: 0.7829 - val_loss: 0.4444 - val_accuracy: 0.8202\n",
            "Epoch 10/10\n",
            "215/215 [==============================] - 4s 18ms/step - loss: 0.4755 - accuracy: 0.7858 - val_loss: 0.4486 - val_accuracy: 0.8058\n"
          ]
        }
      ],
      "source": [
        "history_2 = model_2.fit(train_dataset,\n",
        "                        epochs=10,\n",
        "                        steps_per_epoch = len(train_dataset),\n",
        "                        validation_data = test_dataset,\n",
        "                        validation_steps = len(test_dataset),\n",
        "                        )"
      ]
    },
    {
      "cell_type": "markdown",
      "metadata": {
        "id": "BXNG39WxDUUB"
      },
      "source": [
        "Looks promising. Let's fit for some more epochs with callbacks."
      ]
    },
    {
      "cell_type": "code",
      "execution_count": null,
      "metadata": {
        "colab": {
          "base_uri": "https://localhost:8080/"
        },
        "id": "popd7NUJDxdb",
        "outputId": "daad9a84-ceb0-48a7-a01e-e851d6321ab8"
      },
      "outputs": [
        {
          "name": "stdout",
          "output_type": "stream",
          "text": [
            "Saving model checkpoint to: tweets/conv\n",
            "Epoch 1/50\n",
            "215/215 [==============================] - ETA: 0s - loss: 0.4741 - accuracy: 0.7857\n",
            "Epoch 1: val_accuracy improved from -inf to 0.78346, saving model to tweets/conv\n"
          ]
        },
        {
          "name": "stderr",
          "output_type": "stream",
          "text": [
            "WARNING:absl:Function `_wrapped_model` contains input name(s) USE_input with unsupported characters which will be renamed to use_input in the SavedModel.\n"
          ]
        },
        {
          "name": "stdout",
          "output_type": "stream",
          "text": [
            "INFO:tensorflow:Assets written to: tweets/conv/assets\n"
          ]
        },
        {
          "name": "stderr",
          "output_type": "stream",
          "text": [
            "INFO:tensorflow:Assets written to: tweets/conv/assets\n"
          ]
        },
        {
          "name": "stdout",
          "output_type": "stream",
          "text": [
            "\b\b\b\b\b\b\b\b\b\b\b\b\b\b\b\b\b\b\b\b\b\b\b\b\b\b\b\b\b\b\b\b\b\b\b\b\b\b\b\b\b\b\b\b\b\b\b\b\b\b\b\b\b\b\b\b\b\b\b\b\b\b\b\b\b\b\b\b\b\b\b\b\b\b\b\b\b\b\b\b\b\b\b\b\r215/215 [==============================] - 16s 77ms/step - loss: 0.4741 - accuracy: 0.7857 - val_loss: 0.4932 - val_accuracy: 0.7835\n",
            "Epoch 2/50\n",
            "212/215 [============================>.] - ETA: 0s - loss: 0.4728 - accuracy: 0.7883\n",
            "Epoch 2: val_accuracy improved from 0.78346 to 0.81365, saving model to tweets/conv\n"
          ]
        },
        {
          "name": "stderr",
          "output_type": "stream",
          "text": [
            "WARNING:absl:Function `_wrapped_model` contains input name(s) USE_input with unsupported characters which will be renamed to use_input in the SavedModel.\n"
          ]
        },
        {
          "name": "stdout",
          "output_type": "stream",
          "text": [
            "INFO:tensorflow:Assets written to: tweets/conv/assets\n"
          ]
        },
        {
          "name": "stderr",
          "output_type": "stream",
          "text": [
            "INFO:tensorflow:Assets written to: tweets/conv/assets\n"
          ]
        },
        {
          "name": "stdout",
          "output_type": "stream",
          "text": [
            "\b\b\b\b\b\b\b\b\b\b\b\b\b\b\b\b\b\b\b\b\b\b\b\b\b\b\b\b\b\b\b\b\b\b\b\b\b\b\b\b\b\b\b\b\b\b\b\b\b\b\b\b\b\b\b\b\b\b\b\b\b\b\b\b\b\b\b\b\b\b\b\b\b\b\b\b\b\b\b\b\b\b\b\b\r215/215 [==============================] - 15s 68ms/step - loss: 0.4724 - accuracy: 0.7886 - val_loss: 0.4404 - val_accuracy: 0.8136\n",
            "Epoch 3/50\n",
            "214/215 [============================>.] - ETA: 0s - loss: 0.4659 - accuracy: 0.7912\n",
            "Epoch 3: val_accuracy did not improve from 0.81365\n",
            "215/215 [==============================] - 4s 17ms/step - loss: 0.4661 - accuracy: 0.7911 - val_loss: 0.4350 - val_accuracy: 0.8136\n",
            "Epoch 4/50\n",
            "215/215 [==============================] - ETA: 0s - loss: 0.4605 - accuracy: 0.7920\n",
            "Epoch 4: val_accuracy improved from 0.81365 to 0.81890, saving model to tweets/conv\n"
          ]
        },
        {
          "name": "stderr",
          "output_type": "stream",
          "text": [
            "WARNING:absl:Function `_wrapped_model` contains input name(s) USE_input with unsupported characters which will be renamed to use_input in the SavedModel.\n"
          ]
        },
        {
          "name": "stdout",
          "output_type": "stream",
          "text": [
            "INFO:tensorflow:Assets written to: tweets/conv/assets\n"
          ]
        },
        {
          "name": "stderr",
          "output_type": "stream",
          "text": [
            "INFO:tensorflow:Assets written to: tweets/conv/assets\n"
          ]
        },
        {
          "name": "stdout",
          "output_type": "stream",
          "text": [
            "\b\b\b\b\b\b\b\b\b\b\b\b\b\b\b\b\b\b\b\b\b\b\b\b\b\b\b\b\b\b\b\b\b\b\b\b\b\b\b\b\b\b\b\b\b\b\b\b\b\b\b\b\b\b\b\b\b\b\b\b\b\b\b\b\b\b\b\b\b\b\b\b\b\b\b\b\b\b\b\b\b\b\b\b\r215/215 [==============================] - 15s 69ms/step - loss: 0.4605 - accuracy: 0.7920 - val_loss: 0.4296 - val_accuracy: 0.8189\n",
            "Epoch 5/50\n",
            "214/215 [============================>.] - ETA: 0s - loss: 0.4644 - accuracy: 0.7937\n",
            "Epoch 5: val_accuracy did not improve from 0.81890\n",
            "215/215 [==============================] - 4s 18ms/step - loss: 0.4645 - accuracy: 0.7936 - val_loss: 0.4364 - val_accuracy: 0.8058\n",
            "Epoch 6/50\n",
            "212/215 [============================>.] - ETA: 0s - loss: 0.4543 - accuracy: 0.7978\n",
            "Epoch 6: val_accuracy did not improve from 0.81890\n",
            "215/215 [==============================] - 4s 18ms/step - loss: 0.4542 - accuracy: 0.7977 - val_loss: 0.4348 - val_accuracy: 0.8163\n",
            "Epoch 7/50\n",
            "214/215 [============================>.] - ETA: 0s - loss: 0.4612 - accuracy: 0.7953\n",
            "Epoch 7: val_accuracy did not improve from 0.81890\n",
            "215/215 [==============================] - 6s 27ms/step - loss: 0.4613 - accuracy: 0.7952 - val_loss: 0.4444 - val_accuracy: 0.8071\n",
            "Epoch 8/50\n",
            "213/215 [============================>.] - ETA: 0s - loss: 0.4525 - accuracy: 0.7983\n",
            "Epoch 8: val_accuracy did not improve from 0.81890\n",
            "215/215 [==============================] - 4s 18ms/step - loss: 0.4528 - accuracy: 0.7981 - val_loss: 0.4367 - val_accuracy: 0.8150\n",
            "Epoch 9/50\n",
            "215/215 [==============================] - ETA: 0s - loss: 0.4515 - accuracy: 0.8029\n",
            "Epoch 9: val_accuracy did not improve from 0.81890\n",
            "215/215 [==============================] - 6s 27ms/step - loss: 0.4515 - accuracy: 0.8029 - val_loss: 0.4648 - val_accuracy: 0.7992\n",
            "Epoch 10/50\n",
            "215/215 [==============================] - ETA: 0s - loss: 0.4530 - accuracy: 0.7978\n",
            "Epoch 10: val_accuracy did not improve from 0.81890\n",
            "215/215 [==============================] - 4s 18ms/step - loss: 0.4530 - accuracy: 0.7978 - val_loss: 0.4362 - val_accuracy: 0.8136\n",
            "Epoch 11/50\n",
            "213/215 [============================>.] - ETA: 0s - loss: 0.4545 - accuracy: 0.8006\n",
            "Epoch 11: val_accuracy did not improve from 0.81890\n",
            "215/215 [==============================] - 4s 18ms/step - loss: 0.4547 - accuracy: 0.8006 - val_loss: 0.4319 - val_accuracy: 0.8084\n",
            "Epoch 12/50\n",
            "213/215 [============================>.] - ETA: 0s - loss: 0.4434 - accuracy: 0.8041\n",
            "Epoch 12: val_accuracy did not improve from 0.81890\n",
            "215/215 [==============================] - 6s 28ms/step - loss: 0.4440 - accuracy: 0.8036 - val_loss: 0.4473 - val_accuracy: 0.8058\n",
            "Epoch 13/50\n",
            "215/215 [==============================] - ETA: 0s - loss: 0.4535 - accuracy: 0.7947\n",
            "Epoch 13: val_accuracy did not improve from 0.81890\n",
            "215/215 [==============================] - 5s 23ms/step - loss: 0.4535 - accuracy: 0.7947 - val_loss: 0.4363 - val_accuracy: 0.8189\n",
            "Epoch 14/50\n",
            "214/215 [============================>.] - ETA: 0s - loss: 0.4428 - accuracy: 0.8045\n",
            "Epoch 14: val_accuracy improved from 0.81890 to 0.82546, saving model to tweets/conv\n"
          ]
        },
        {
          "name": "stderr",
          "output_type": "stream",
          "text": [
            "WARNING:absl:Function `_wrapped_model` contains input name(s) USE_input with unsupported characters which will be renamed to use_input in the SavedModel.\n"
          ]
        },
        {
          "name": "stdout",
          "output_type": "stream",
          "text": [
            "INFO:tensorflow:Assets written to: tweets/conv/assets\n"
          ]
        },
        {
          "name": "stderr",
          "output_type": "stream",
          "text": [
            "INFO:tensorflow:Assets written to: tweets/conv/assets\n"
          ]
        },
        {
          "name": "stdout",
          "output_type": "stream",
          "text": [
            "\b\b\b\b\b\b\b\b\b\b\b\b\b\b\b\b\b\b\b\b\b\b\b\b\b\b\b\b\b\b\b\b\b\b\b\b\b\b\b\b\b\b\b\b\b\b\b\b\b\b\b\b\b\b\b\b\b\b\b\b\b\b\b\b\b\b\b\b\b\b\b\b\b\b\b\b\b\b\b\b\b\b\b\b\r215/215 [==============================] - 20s 94ms/step - loss: 0.4429 - accuracy: 0.8044 - val_loss: 0.4344 - val_accuracy: 0.8255\n",
            "Epoch 15/50\n",
            "214/215 [============================>.] - ETA: 0s - loss: 0.4499 - accuracy: 0.8015\n",
            "Epoch 15: val_accuracy did not improve from 0.82546\n",
            "215/215 [==============================] - 5s 25ms/step - loss: 0.4501 - accuracy: 0.8015 - val_loss: 0.4330 - val_accuracy: 0.8084\n",
            "Epoch 16/50\n",
            "212/215 [============================>.] - ETA: 0s - loss: 0.4387 - accuracy: 0.8068\n",
            "Epoch 16: val_accuracy did not improve from 0.82546\n",
            "215/215 [==============================] - 6s 27ms/step - loss: 0.4394 - accuracy: 0.8061 - val_loss: 0.4387 - val_accuracy: 0.8058\n",
            "Epoch 17/50\n",
            "215/215 [==============================] - ETA: 0s - loss: 0.4411 - accuracy: 0.8053\n",
            "Epoch 17: val_accuracy did not improve from 0.82546\n",
            "215/215 [==============================] - 4s 18ms/step - loss: 0.4411 - accuracy: 0.8053 - val_loss: 0.4283 - val_accuracy: 0.8189\n",
            "Epoch 18/50\n",
            "212/215 [============================>.] - ETA: 0s - loss: 0.4336 - accuracy: 0.8084\n",
            "Epoch 18: val_accuracy did not improve from 0.82546\n",
            "215/215 [==============================] - 4s 18ms/step - loss: 0.4340 - accuracy: 0.8076 - val_loss: 0.4407 - val_accuracy: 0.8045\n",
            "Epoch 19/50\n",
            "212/215 [============================>.] - ETA: 0s - loss: 0.4379 - accuracy: 0.8096\n",
            "Epoch 19: val_accuracy did not improve from 0.82546\n",
            "215/215 [==============================] - 4s 18ms/step - loss: 0.4381 - accuracy: 0.8093 - val_loss: 0.4331 - val_accuracy: 0.8228\n",
            "Epoch 20/50\n",
            "214/215 [============================>.] - ETA: 0s - loss: 0.4387 - accuracy: 0.8094\n",
            "Epoch 20: val_accuracy did not improve from 0.82546\n",
            "215/215 [==============================] - 4s 17ms/step - loss: 0.4388 - accuracy: 0.8093 - val_loss: 0.4442 - val_accuracy: 0.8058\n",
            "Epoch 21/50\n",
            "212/215 [============================>.] - ETA: 0s - loss: 0.4407 - accuracy: 0.8029\n",
            "Epoch 21: val_accuracy did not improve from 0.82546\n",
            "215/215 [==============================] - 4s 18ms/step - loss: 0.4416 - accuracy: 0.8026 - val_loss: 0.4542 - val_accuracy: 0.8058\n",
            "Epoch 22/50\n",
            "214/215 [============================>.] - ETA: 0s - loss: 0.4496 - accuracy: 0.7963\n",
            "Epoch 22: val_accuracy did not improve from 0.82546\n",
            "215/215 [==============================] - 6s 26ms/step - loss: 0.4497 - accuracy: 0.7962 - val_loss: 0.4513 - val_accuracy: 0.8163\n",
            "Epoch 23/50\n",
            "215/215 [==============================] - ETA: 0s - loss: 0.4339 - accuracy: 0.8073\n",
            "Epoch 23: val_accuracy did not improve from 0.82546\n",
            "215/215 [==============================] - 5s 22ms/step - loss: 0.4339 - accuracy: 0.8073 - val_loss: 0.4377 - val_accuracy: 0.8163\n",
            "Epoch 24/50\n",
            "214/215 [============================>.] - ETA: 0s - loss: 0.4384 - accuracy: 0.8068\n",
            "Epoch 24: val_accuracy did not improve from 0.82546\n",
            "215/215 [==============================] - 6s 27ms/step - loss: 0.4386 - accuracy: 0.8067 - val_loss: 0.4362 - val_accuracy: 0.8110\n",
            "Epoch 25/50\n",
            "214/215 [============================>.] - ETA: 0s - loss: 0.4301 - accuracy: 0.8058\n",
            "Epoch 25: val_accuracy did not improve from 0.82546\n",
            "215/215 [==============================] - 6s 27ms/step - loss: 0.4302 - accuracy: 0.8057 - val_loss: 0.4422 - val_accuracy: 0.8097\n",
            "Epoch 26/50\n",
            "215/215 [==============================] - ETA: 0s - loss: 0.4299 - accuracy: 0.8109\n",
            "Epoch 26: val_accuracy did not improve from 0.82546\n",
            "215/215 [==============================] - 5s 22ms/step - loss: 0.4299 - accuracy: 0.8109 - val_loss: 0.4317 - val_accuracy: 0.8097\n",
            "Epoch 27/50\n",
            "213/215 [============================>.] - ETA: 0s - loss: 0.4322 - accuracy: 0.8087\n",
            "Epoch 27: val_accuracy did not improve from 0.82546\n",
            "215/215 [==============================] - 5s 23ms/step - loss: 0.4332 - accuracy: 0.8080 - val_loss: 0.4338 - val_accuracy: 0.8228\n",
            "Epoch 28/50\n",
            "214/215 [============================>.] - ETA: 0s - loss: 0.4323 - accuracy: 0.8084\n",
            "Epoch 28: val_accuracy did not improve from 0.82546\n",
            "215/215 [==============================] - 6s 29ms/step - loss: 0.4324 - accuracy: 0.8083 - val_loss: 0.4382 - val_accuracy: 0.8110\n",
            "Epoch 29/50\n",
            "214/215 [============================>.] - ETA: 0s - loss: 0.4278 - accuracy: 0.8131\n",
            "Epoch 29: val_accuracy did not improve from 0.82546\n",
            "215/215 [==============================] - 7s 32ms/step - loss: 0.4279 - accuracy: 0.8130 - val_loss: 0.4408 - val_accuracy: 0.8110\n",
            "Epoch 30/50\n",
            "214/215 [============================>.] - ETA: 0s - loss: 0.4240 - accuracy: 0.8145\n",
            "Epoch 30: val_accuracy did not improve from 0.82546\n",
            "215/215 [==============================] - 6s 28ms/step - loss: 0.4242 - accuracy: 0.8145 - val_loss: 0.4614 - val_accuracy: 0.8031\n",
            "Epoch 31/50\n",
            "214/215 [============================>.] - ETA: 0s - loss: 0.4286 - accuracy: 0.8056\n",
            "Epoch 31: val_accuracy did not improve from 0.82546\n",
            "215/215 [==============================] - 6s 29ms/step - loss: 0.4287 - accuracy: 0.8055 - val_loss: 0.4370 - val_accuracy: 0.8136\n",
            "Epoch 32/50\n",
            "212/215 [============================>.] - ETA: 0s - loss: 0.4253 - accuracy: 0.8146\n",
            "Epoch 32: val_accuracy did not improve from 0.82546\n",
            "215/215 [==============================] - 4s 18ms/step - loss: 0.4260 - accuracy: 0.8137 - val_loss: 0.4353 - val_accuracy: 0.8163\n",
            "Epoch 33/50\n",
            "213/215 [============================>.] - ETA: 0s - loss: 0.4228 - accuracy: 0.8118\n",
            "Epoch 33: val_accuracy did not improve from 0.82546\n",
            "215/215 [==============================] - 4s 18ms/step - loss: 0.4234 - accuracy: 0.8115 - val_loss: 0.4401 - val_accuracy: 0.8123\n",
            "Epoch 34/50\n",
            "213/215 [============================>.] - ETA: 0s - loss: 0.4264 - accuracy: 0.8060\n",
            "Epoch 34: val_accuracy did not improve from 0.82546\n",
            "215/215 [==============================] - 4s 17ms/step - loss: 0.4268 - accuracy: 0.8058 - val_loss: 0.4541 - val_accuracy: 0.8058\n",
            "Epoch 35/50\n",
            "213/215 [============================>.] - ETA: 0s - loss: 0.4245 - accuracy: 0.8181\n",
            "Epoch 35: val_accuracy did not improve from 0.82546\n",
            "215/215 [==============================] - 4s 18ms/step - loss: 0.4248 - accuracy: 0.8178 - val_loss: 0.4350 - val_accuracy: 0.8176\n",
            "Epoch 36/50\n",
            "214/215 [============================>.] - ETA: 0s - loss: 0.4210 - accuracy: 0.8129\n",
            "Epoch 36: val_accuracy did not improve from 0.82546\n",
            "215/215 [==============================] - 4s 18ms/step - loss: 0.4212 - accuracy: 0.8128 - val_loss: 0.4323 - val_accuracy: 0.8123\n",
            "Epoch 37/50\n",
            "214/215 [============================>.] - ETA: 0s - loss: 0.4255 - accuracy: 0.8100\n",
            "Epoch 37: val_accuracy did not improve from 0.82546\n",
            "215/215 [==============================] - 4s 18ms/step - loss: 0.4257 - accuracy: 0.8099 - val_loss: 0.4322 - val_accuracy: 0.8136\n",
            "Epoch 38/50\n",
            "215/215 [==============================] - ETA: 0s - loss: 0.4207 - accuracy: 0.8143\n",
            "Epoch 38: val_accuracy did not improve from 0.82546\n",
            "215/215 [==============================] - 4s 18ms/step - loss: 0.4207 - accuracy: 0.8143 - val_loss: 0.4454 - val_accuracy: 0.8005\n",
            "Epoch 39/50\n",
            "213/215 [============================>.] - ETA: 0s - loss: 0.4214 - accuracy: 0.8157\n",
            "Epoch 39: val_accuracy did not improve from 0.82546\n",
            "215/215 [==============================] - 4s 18ms/step - loss: 0.4220 - accuracy: 0.8153 - val_loss: 0.4382 - val_accuracy: 0.8136\n",
            "Epoch 40/50\n",
            "214/215 [============================>.] - ETA: 0s - loss: 0.4202 - accuracy: 0.8131\n",
            "Epoch 40: val_accuracy did not improve from 0.82546\n",
            "215/215 [==============================] - 4s 18ms/step - loss: 0.4203 - accuracy: 0.8130 - val_loss: 0.4318 - val_accuracy: 0.8136\n",
            "Epoch 41/50\n",
            "214/215 [============================>.] - ETA: 0s - loss: 0.4224 - accuracy: 0.8144\n",
            "Epoch 41: val_accuracy did not improve from 0.82546\n",
            "215/215 [==============================] - 4s 18ms/step - loss: 0.4225 - accuracy: 0.8143 - val_loss: 0.4669 - val_accuracy: 0.7966\n",
            "Epoch 42/50\n",
            "215/215 [==============================] - ETA: 0s - loss: 0.4108 - accuracy: 0.8222\n",
            "Epoch 42: val_accuracy did not improve from 0.82546\n",
            "215/215 [==============================] - 4s 18ms/step - loss: 0.4108 - accuracy: 0.8222 - val_loss: 0.4307 - val_accuracy: 0.8202\n",
            "Epoch 43/50\n",
            "212/215 [============================>.] - ETA: 0s - loss: 0.4185 - accuracy: 0.8169\n",
            "Epoch 43: val_accuracy did not improve from 0.82546\n",
            "215/215 [==============================] - 4s 18ms/step - loss: 0.4190 - accuracy: 0.8162 - val_loss: 0.4342 - val_accuracy: 0.8136\n",
            "Epoch 44/50\n",
            "214/215 [============================>.] - ETA: 0s - loss: 0.4199 - accuracy: 0.8189\n",
            "Epoch 44: val_accuracy did not improve from 0.82546\n",
            "215/215 [==============================] - 4s 18ms/step - loss: 0.4200 - accuracy: 0.8188 - val_loss: 0.4688 - val_accuracy: 0.7979\n",
            "Epoch 45/50\n",
            "215/215 [==============================] - ETA: 0s - loss: 0.4173 - accuracy: 0.8107\n",
            "Epoch 45: val_accuracy did not improve from 0.82546\n",
            "215/215 [==============================] - 4s 18ms/step - loss: 0.4173 - accuracy: 0.8107 - val_loss: 0.4358 - val_accuracy: 0.8163\n",
            "Epoch 46/50\n",
            "213/215 [============================>.] - ETA: 0s - loss: 0.4155 - accuracy: 0.8116\n",
            "Epoch 46: val_accuracy did not improve from 0.82546\n",
            "215/215 [==============================] - 4s 18ms/step - loss: 0.4159 - accuracy: 0.8114 - val_loss: 0.4551 - val_accuracy: 0.8097\n",
            "Epoch 47/50\n",
            "214/215 [============================>.] - ETA: 0s - loss: 0.4111 - accuracy: 0.8210\n",
            "Epoch 47: val_accuracy did not improve from 0.82546\n",
            "215/215 [==============================] - 4s 18ms/step - loss: 0.4112 - accuracy: 0.8209 - val_loss: 0.4416 - val_accuracy: 0.8150\n",
            "Epoch 48/50\n",
            "215/215 [==============================] - ETA: 0s - loss: 0.4351 - accuracy: 0.8045\n",
            "Epoch 48: val_accuracy did not improve from 0.82546\n",
            "215/215 [==============================] - 4s 18ms/step - loss: 0.4351 - accuracy: 0.8045 - val_loss: 0.4364 - val_accuracy: 0.8163\n",
            "Epoch 49/50\n",
            "214/215 [============================>.] - ETA: 0s - loss: 0.4199 - accuracy: 0.8189\n",
            "Epoch 49: val_accuracy did not improve from 0.82546\n",
            "215/215 [==============================] - 4s 18ms/step - loss: 0.4200 - accuracy: 0.8188 - val_loss: 0.4393 - val_accuracy: 0.8189\n",
            "Epoch 50/50\n",
            "213/215 [============================>.] - ETA: 0s - loss: 0.4168 - accuracy: 0.8217\n",
            "Epoch 50: val_accuracy did not improve from 0.82546\n",
            "215/215 [==============================] - 4s 18ms/step - loss: 0.4166 - accuracy: 0.8216 - val_loss: 0.4523 - val_accuracy: 0.8136\n"
          ]
        }
      ],
      "source": [
        "history_3 = model_2.fit(train_dataset,\n",
        "                        epochs=50,\n",
        "                        steps_per_epoch = len(train_dataset),\n",
        "                        validation_data = test_dataset,\n",
        "                        validation_steps = len(test_dataset),\n",
        "                        callbacks = [create_model_checkpoint(\"conv\")]\n",
        "                        )"
      ]
    },
    {
      "cell_type": "code",
      "execution_count": null,
      "metadata": {
        "id": "UpQbcnN-HFd1"
      },
      "outputs": [],
      "source": [
        "best_model = tf.keras.models.load_model(\"tweets/conv\")"
      ]
    },
    {
      "cell_type": "code",
      "execution_count": null,
      "metadata": {
        "colab": {
          "base_uri": "https://localhost:8080/"
        },
        "id": "tCXWbsCuHNq8",
        "outputId": "b3c3d25e-c7e3-4bba-edc2-283fee06ff58"
      },
      "outputs": [
        {
          "name": "stdout",
          "output_type": "stream",
          "text": [
            "24/24 [==============================] - 1s 12ms/step - loss: 0.4344 - accuracy: 0.8255\n"
          ]
        },
        {
          "data": {
            "text/plain": [
              "[0.4343593716621399, 0.8254593014717102]"
            ]
          },
          "execution_count": 61,
          "metadata": {},
          "output_type": "execute_result"
        }
      ],
      "source": [
        "best_model.evaluate(test_dataset)"
      ]
    },
    {
      "cell_type": "markdown",
      "metadata": {
        "id": "7m6JFMm5IcQH"
      },
      "source": [
        "#### LSTM Model"
      ]
    },
    {
      "cell_type": "code",
      "execution_count": null,
      "metadata": {
        "colab": {
          "base_uri": "https://localhost:8080/"
        },
        "id": "XwpR8WJc45qO",
        "outputId": "88262107-1a0c-4fb2-ea34-f47bce2bb547"
      },
      "outputs": [
        {
          "name": "stdout",
          "output_type": "stream",
          "text": [
            "Model: \"model_3_USE\"\n",
            "_________________________________________________________________\n",
            " Layer (type)                Output Shape              Param #   \n",
            "=================================================================\n",
            " USE (KerasLayer)            (None, 512)               256797824 \n",
            "                                                                 \n",
            " reshape_14 (Reshape)        (None, 64, 8)             0         \n",
            "                                                                 \n",
            " lstm_9 (LSTM)               (None, 64, 32)            5248      \n",
            "                                                                 \n",
            " lstm_10 (LSTM)              (None, 64, 64)            24832     \n",
            "                                                                 \n",
            " max_pooling1d_28 (MaxPoolin  (None, 32, 64)           0         \n",
            " g1D)                                                            \n",
            "                                                                 \n",
            " dropout_80 (Dropout)        (None, 32, 64)            0         \n",
            "                                                                 \n",
            " batch_normalization_81 (Bat  (None, 32, 64)           256       \n",
            " chNormalization)                                                \n",
            "                                                                 \n",
            " lstm_11 (LSTM)              (None, 32, 128)           98816     \n",
            "                                                                 \n",
            " global_average_pooling1d_9   (None, 128)              0         \n",
            " (GlobalAveragePooling1D)                                        \n",
            "                                                                 \n",
            " dense_69 (Dense)            (None, 1)                 129       \n",
            "                                                                 \n",
            "=================================================================\n",
            "Total params: 256,927,105\n",
            "Trainable params: 129,153\n",
            "Non-trainable params: 256,797,952\n",
            "_________________________________________________________________\n"
          ]
        }
      ],
      "source": [
        "# Create model using the Sequential API\n",
        "model_3 = tf.keras.Sequential([\n",
        "  sentence_encoder_layer, # take in sentences and then encode them into an embedding\n",
        "  tfl.Reshape((64, 8), input_shape=(512,)),\n",
        "\n",
        "  tfl.LSTM(32, return_sequences = True, activation=\"tanh\"),\n",
        "  tfl.LSTM(64, return_sequences = True , activation=\"tanh\"),\n",
        "  tfl.MaxPool1D(2),\n",
        "  tfl.Dropout(0.6),\n",
        "  tfl.BatchNormalization(),\n",
        "\n",
        "   tfl.LSTM(128, return_sequences = True, activation=\"tanh\"),\n",
        "#   tfl.Dropout(0.6),\n",
        "\n",
        "    tfl.GlobalAveragePooling1D(),\n",
        "    # tfl.Dense(128, \"relu\"),\n",
        "    # tfl.Dropout(0.7),\n",
        "    #   tfl.BatchNormalization(),\n",
        "    # tfl.Dense(256, \"relu\"),\n",
        "    # tfl.Dropout(0.8),\n",
        "  tfl.Dense(1, activation=\"sigmoid\")\n",
        "], name=\"model_3_USE\")\n",
        "\n",
        "# Compile model\n",
        "model_3.compile(loss=\"binary_crossentropy\",\n",
        "                optimizer=tf.keras.optimizers.Adam(),\n",
        "                metrics=[\"accuracy\"])\n",
        "\n",
        "model_3.summary()"
      ]
    },
    {
      "cell_type": "code",
      "execution_count": null,
      "metadata": {
        "colab": {
          "base_uri": "https://localhost:8080/"
        },
        "id": "1hVktelRJqs9",
        "outputId": "8c739123-6ef3-4eed-9816-064d9370e934"
      },
      "outputs": [
        {
          "name": "stdout",
          "output_type": "stream",
          "text": [
            "Epoch 1/10\n",
            "215/215 [==============================] - 12s 29ms/step - loss: 0.6447 - accuracy: 0.6307 - val_loss: 0.6750 - val_accuracy: 0.5656\n",
            "Epoch 2/10\n",
            "215/215 [==============================] - 5s 22ms/step - loss: 0.6219 - accuracy: 0.6565 - val_loss: 0.6599 - val_accuracy: 0.6640\n",
            "Epoch 3/10\n",
            "215/215 [==============================] - 5s 22ms/step - loss: 0.6152 - accuracy: 0.6682 - val_loss: 0.6813 - val_accuracy: 0.5486\n",
            "Epoch 4/10\n",
            "215/215 [==============================] - 5s 22ms/step - loss: 0.6077 - accuracy: 0.6731 - val_loss: 0.6163 - val_accuracy: 0.6627\n",
            "Epoch 5/10\n",
            "215/215 [==============================] - 5s 22ms/step - loss: 0.6029 - accuracy: 0.6800 - val_loss: 0.6162 - val_accuracy: 0.6745\n",
            "Epoch 6/10\n",
            "215/215 [==============================] - 5s 22ms/step - loss: 0.5943 - accuracy: 0.6872 - val_loss: 0.6030 - val_accuracy: 0.6929\n",
            "Epoch 7/10\n",
            "215/215 [==============================] - 5s 22ms/step - loss: 0.5871 - accuracy: 0.6959 - val_loss: 0.6034 - val_accuracy: 0.6850\n",
            "Epoch 8/10\n",
            "215/215 [==============================] - 5s 23ms/step - loss: 0.5857 - accuracy: 0.6945 - val_loss: 0.5934 - val_accuracy: 0.6942\n",
            "Epoch 9/10\n",
            "215/215 [==============================] - 5s 22ms/step - loss: 0.5770 - accuracy: 0.7047 - val_loss: 0.6168 - val_accuracy: 0.6522\n",
            "Epoch 10/10\n",
            "215/215 [==============================] - 5s 22ms/step - loss: 0.5669 - accuracy: 0.7133 - val_loss: 0.6118 - val_accuracy: 0.6732\n"
          ]
        }
      ],
      "source": [
        "history_4 = model_3.fit(train_dataset,\n",
        "                        epochs=10,\n",
        "                        steps_per_epoch = len(train_dataset),\n",
        "                        validation_data = test_dataset,\n",
        "                        validation_steps = len(test_dataset),\n",
        "                        # callbacks = [create_model_checkpoint(\"conv\")]\n",
        "                        )"
      ]
    },
    {
      "cell_type": "markdown",
      "metadata": {
        "id": "TykbFRLsMaNB"
      },
      "source": [
        "LSTM is not performing very well. Let's try birectional LSTM."
      ]
    },
    {
      "cell_type": "markdown",
      "metadata": {
        "id": "asLPU6qkMjxe"
      },
      "source": [
        "#### Bidirectional LSTM"
      ]
    },
    {
      "cell_type": "code",
      "execution_count": null,
      "metadata": {
        "colab": {
          "base_uri": "https://localhost:8080/"
        },
        "id": "PmPQMAPVMnbG",
        "outputId": "c61f3b21-4d0d-4e23-e5d1-18feaad1da2b"
      },
      "outputs": [
        {
          "name": "stdout",
          "output_type": "stream",
          "text": [
            "Model: \"model_4_USE\"\n",
            "_________________________________________________________________\n",
            " Layer (type)                Output Shape              Param #   \n",
            "=================================================================\n",
            " USE (KerasLayer)            (None, 512)               256797824 \n",
            "                                                                 \n",
            " reshape_29 (Reshape)        (None, 64, 8)             0         \n",
            "                                                                 \n",
            " bidirectional_20 (Bidirecti  (None, 64, 128)          37376     \n",
            " onal)                                                           \n",
            "                                                                 \n",
            " bidirectional_21 (Bidirecti  (None, 64, 256)          263168    \n",
            " onal)                                                           \n",
            "                                                                 \n",
            " dropout_89 (Dropout)        (None, 64, 256)           0         \n",
            "                                                                 \n",
            " bidirectional_22 (Bidirecti  (None, 64, 256)          394240    \n",
            " onal)                                                           \n",
            "                                                                 \n",
            " bidirectional_23 (Bidirecti  (None, 64, 512)          1050624   \n",
            " onal)                                                           \n",
            "                                                                 \n",
            " dropout_90 (Dropout)        (None, 64, 512)           0         \n",
            "                                                                 \n",
            " global_average_pooling1d_27  (None, 512)              0         \n",
            "  (GlobalAveragePooling1D)                                       \n",
            "                                                                 \n",
            " dense_70 (Dense)            (None, 1)                 513       \n",
            "                                                                 \n",
            "=================================================================\n",
            "Total params: 258,543,745\n",
            "Trainable params: 1,745,921\n",
            "Non-trainable params: 256,797,824\n",
            "_________________________________________________________________\n"
          ]
        }
      ],
      "source": [
        "# Create model using the Sequential API\n",
        "model_4 = tf.keras.Sequential([\n",
        "  sentence_encoder_layer, # take in sentences and then encode them into an embedding\n",
        "  tfl.Reshape((64, 8), input_shape=(512,)),\n",
        "\n",
        "  tfl.Bidirectional(tfl.LSTM(64, return_sequences = True)),\n",
        "  tfl.Bidirectional(tfl.LSTM(128, return_sequences = True)),\n",
        "#   tfl.Bidirectional(tfl.LSTM(256, return_sequences = True)),\n",
        "#   tfl.MaxPool1D(2),\n",
        "  tfl.Dropout(0.6),\n",
        "#   tfl.BatchNormalization(),\n",
        "\n",
        "   tfl.Bidirectional(tfl.LSTM(128, return_sequences = True)),\n",
        "   tfl.Bidirectional(tfl.LSTM(256, return_sequences = True)),\n",
        "  tfl.Dropout(0.6),\n",
        "\n",
        "    tfl.GlobalAveragePooling1D(),\n",
        "    # tfl.Dense(128, \"relu\"),\n",
        "    # tfl.Dropout(0.5),\n",
        "    # tfl.BatchNormalization(),\n",
        "    # tfl.Dense(256, \"relu\"),\n",
        "    # tfl.Dropout(0.5),\n",
        "\n",
        "  tfl.Dense(1, activation=\"sigmoid\")\n",
        "], name=\"model_4_USE\")\n",
        "\n",
        "# Compile model\n",
        "model_4.compile(loss=\"binary_crossentropy\",\n",
        "                optimizer=tf.keras.optimizers.Adam(),\n",
        "                metrics=[\"accuracy\"])\n",
        "\n",
        "model_4.summary()"
      ]
    },
    {
      "cell_type": "code",
      "execution_count": null,
      "metadata": {
        "colab": {
          "base_uri": "https://localhost:8080/"
        },
        "id": "AttelyWSM5ZN",
        "outputId": "34979b12-725e-4c8c-c47c-1c7d8098c422"
      },
      "outputs": [
        {
          "name": "stdout",
          "output_type": "stream",
          "text": [
            "Epoch 1/10\n",
            "215/215 [==============================] - 23s 59ms/step - loss: 0.6587 - accuracy: 0.6178 - val_loss: 0.6677 - val_accuracy: 0.6417\n",
            "Epoch 2/10\n",
            "215/215 [==============================] - 9s 42ms/step - loss: 0.6394 - accuracy: 0.6416 - val_loss: 0.6337 - val_accuracy: 0.6706\n",
            "Epoch 3/10\n",
            "215/215 [==============================] - 9s 41ms/step - loss: 0.6302 - accuracy: 0.6530 - val_loss: 0.6260 - val_accuracy: 0.6654\n",
            "Epoch 4/10\n",
            "215/215 [==============================] - 9s 41ms/step - loss: 0.6231 - accuracy: 0.6645 - val_loss: 0.6236 - val_accuracy: 0.6706\n",
            "Epoch 5/10\n",
            "215/215 [==============================] - 9s 41ms/step - loss: 0.6045 - accuracy: 0.6759 - val_loss: 0.6040 - val_accuracy: 0.6982\n",
            "Epoch 6/10\n",
            "215/215 [==============================] - 9s 41ms/step - loss: 0.6182 - accuracy: 0.6607 - val_loss: 0.6435 - val_accuracy: 0.6850\n",
            "Epoch 7/10\n",
            "215/215 [==============================] - 9s 42ms/step - loss: 0.6796 - accuracy: 0.5726 - val_loss: 0.6773 - val_accuracy: 0.5722\n",
            "Epoch 8/10\n",
            "215/215 [==============================] - 9s 41ms/step - loss: 0.6430 - accuracy: 0.6328 - val_loss: 0.6147 - val_accuracy: 0.6654\n",
            "Epoch 9/10\n",
            "215/215 [==============================] - 9s 42ms/step - loss: 0.6057 - accuracy: 0.6784 - val_loss: 0.5845 - val_accuracy: 0.7073\n",
            "Epoch 10/10\n",
            "215/215 [==============================] - 9s 41ms/step - loss: 0.5647 - accuracy: 0.7164 - val_loss: 0.5516 - val_accuracy: 0.7297\n"
          ]
        }
      ],
      "source": [
        "history_5 = model_4.fit(train_dataset,\n",
        "                        epochs=10,\n",
        "                        steps_per_epoch = len(train_dataset),\n",
        "                        validation_data = test_dataset,\n",
        "                        validation_steps = len(test_dataset),\n",
        "                        # callbacks = [create_model_checkpoint(\"conv\")]\n",
        "                        )"
      ]
    },
    {
      "cell_type": "markdown",
      "metadata": {
        "id": "KzXWs_C1OnC7"
      },
      "source": [
        "Let's fit for some more epochs"
      ]
    },
    {
      "cell_type": "code",
      "execution_count": null,
      "metadata": {
        "colab": {
          "base_uri": "https://localhost:8080/"
        },
        "id": "uDzs94SnWY9r",
        "outputId": "5cbb3358-acf6-435c-d036-c0071a6b6e83"
      },
      "outputs": [
        {
          "name": "stdout",
          "output_type": "stream",
          "text": [
            "Saving model checkpoint to: tweets/bi_LSTM\n",
            "Epoch 1/50\n",
            "215/215 [==============================] - ETA: 0s - loss: 0.5465 - accuracy: 0.7328\n",
            "Epoch 1: val_accuracy improved from -inf to 0.74541, saving model to tweets/bi_LSTM\n"
          ]
        },
        {
          "name": "stderr",
          "output_type": "stream",
          "text": [
            "WARNING:absl:Function `_wrapped_model` contains input name(s) USE_input with unsupported characters which will be renamed to use_input in the SavedModel.\n",
            "WARNING:absl:Found untraced functions such as lstm_cell_98_layer_call_fn, lstm_cell_98_layer_call_and_return_conditional_losses, lstm_cell_99_layer_call_fn, lstm_cell_99_layer_call_and_return_conditional_losses, lstm_cell_101_layer_call_fn while saving (showing 5 of 16). These functions will not be directly callable after loading.\n"
          ]
        },
        {
          "name": "stdout",
          "output_type": "stream",
          "text": [
            "INFO:tensorflow:Assets written to: tweets/bi_LSTM/assets\n"
          ]
        },
        {
          "name": "stderr",
          "output_type": "stream",
          "text": [
            "INFO:tensorflow:Assets written to: tweets/bi_LSTM/assets\n",
            "WARNING:absl:<keras.layers.recurrent.LSTMCell object at 0x7f199eb7fa10> has the same name 'LSTMCell' as a built-in Keras object. Consider renaming <class 'keras.layers.recurrent.LSTMCell'> to avoid naming conflicts when loading with `tf.keras.models.load_model`. If renaming is not possible, pass the object in the `custom_objects` parameter of the load function.\n",
            "WARNING:absl:<keras.layers.recurrent.LSTMCell object at 0x7f199eba1610> has the same name 'LSTMCell' as a built-in Keras object. Consider renaming <class 'keras.layers.recurrent.LSTMCell'> to avoid naming conflicts when loading with `tf.keras.models.load_model`. If renaming is not possible, pass the object in the `custom_objects` parameter of the load function.\n",
            "WARNING:absl:<keras.layers.recurrent.LSTMCell object at 0x7f199ebb3250> has the same name 'LSTMCell' as a built-in Keras object. Consider renaming <class 'keras.layers.recurrent.LSTMCell'> to avoid naming conflicts when loading with `tf.keras.models.load_model`. If renaming is not possible, pass the object in the `custom_objects` parameter of the load function.\n",
            "WARNING:absl:<keras.layers.recurrent.LSTMCell object at 0x7f199ebb3ed0> has the same name 'LSTMCell' as a built-in Keras object. Consider renaming <class 'keras.layers.recurrent.LSTMCell'> to avoid naming conflicts when loading with `tf.keras.models.load_model`. If renaming is not possible, pass the object in the `custom_objects` parameter of the load function.\n",
            "WARNING:absl:<keras.layers.recurrent.LSTMCell object at 0x7f19a04b5d50> has the same name 'LSTMCell' as a built-in Keras object. Consider renaming <class 'keras.layers.recurrent.LSTMCell'> to avoid naming conflicts when loading with `tf.keras.models.load_model`. If renaming is not possible, pass the object in the `custom_objects` parameter of the load function.\n",
            "WARNING:absl:<keras.layers.recurrent.LSTMCell object at 0x7f19a0484a50> has the same name 'LSTMCell' as a built-in Keras object. Consider renaming <class 'keras.layers.recurrent.LSTMCell'> to avoid naming conflicts when loading with `tf.keras.models.load_model`. If renaming is not possible, pass the object in the `custom_objects` parameter of the load function.\n",
            "WARNING:absl:<keras.layers.recurrent.LSTMCell object at 0x7f19a049f650> has the same name 'LSTMCell' as a built-in Keras object. Consider renaming <class 'keras.layers.recurrent.LSTMCell'> to avoid naming conflicts when loading with `tf.keras.models.load_model`. If renaming is not possible, pass the object in the `custom_objects` parameter of the load function.\n",
            "WARNING:absl:<keras.layers.recurrent.LSTMCell object at 0x7f1868c89310> has the same name 'LSTMCell' as a built-in Keras object. Consider renaming <class 'keras.layers.recurrent.LSTMCell'> to avoid naming conflicts when loading with `tf.keras.models.load_model`. If renaming is not possible, pass the object in the `custom_objects` parameter of the load function.\n"
          ]
        },
        {
          "name": "stdout",
          "output_type": "stream",
          "text": [
            "\b\b\b\b\b\b\b\b\b\b\b\b\b\b\b\b\b\b\b\b\b\b\b\b\b\b\b\b\b\b\b\b\b\b\b\b\b\b\b\b\b\b\b\b\b\b\b\b\b\b\b\b\b\b\b\b\b\b\b\b\b\b\b\b\b\b\b\b\b\b\b\b\b\b\b\b\b\b\b\b\b\b\b\b\r215/215 [==============================] - 61s 282ms/step - loss: 0.5465 - accuracy: 0.7328 - val_loss: 0.5433 - val_accuracy: 0.7454\n",
            "Epoch 2/50\n",
            "214/215 [============================>.] - ETA: 0s - loss: 0.5349 - accuracy: 0.7404\n",
            "Epoch 2: val_accuracy did not improve from 0.74541\n",
            "215/215 [==============================] - 9s 43ms/step - loss: 0.5350 - accuracy: 0.7403 - val_loss: 0.5352 - val_accuracy: 0.7388\n",
            "Epoch 3/50\n",
            "214/215 [============================>.] - ETA: 0s - loss: 0.5281 - accuracy: 0.7449\n",
            "Epoch 3: val_accuracy improved from 0.74541 to 0.75591, saving model to tweets/bi_LSTM\n"
          ]
        },
        {
          "name": "stderr",
          "output_type": "stream",
          "text": [
            "WARNING:absl:Function `_wrapped_model` contains input name(s) USE_input with unsupported characters which will be renamed to use_input in the SavedModel.\n",
            "WARNING:absl:Found untraced functions such as lstm_cell_98_layer_call_fn, lstm_cell_98_layer_call_and_return_conditional_losses, lstm_cell_99_layer_call_fn, lstm_cell_99_layer_call_and_return_conditional_losses, lstm_cell_101_layer_call_fn while saving (showing 5 of 16). These functions will not be directly callable after loading.\n"
          ]
        },
        {
          "name": "stdout",
          "output_type": "stream",
          "text": [
            "INFO:tensorflow:Assets written to: tweets/bi_LSTM/assets\n"
          ]
        },
        {
          "name": "stderr",
          "output_type": "stream",
          "text": [
            "INFO:tensorflow:Assets written to: tweets/bi_LSTM/assets\n",
            "WARNING:absl:<keras.layers.recurrent.LSTMCell object at 0x7f199eb7fa10> has the same name 'LSTMCell' as a built-in Keras object. Consider renaming <class 'keras.layers.recurrent.LSTMCell'> to avoid naming conflicts when loading with `tf.keras.models.load_model`. If renaming is not possible, pass the object in the `custom_objects` parameter of the load function.\n",
            "WARNING:absl:<keras.layers.recurrent.LSTMCell object at 0x7f199eba1610> has the same name 'LSTMCell' as a built-in Keras object. Consider renaming <class 'keras.layers.recurrent.LSTMCell'> to avoid naming conflicts when loading with `tf.keras.models.load_model`. If renaming is not possible, pass the object in the `custom_objects` parameter of the load function.\n",
            "WARNING:absl:<keras.layers.recurrent.LSTMCell object at 0x7f199ebb3250> has the same name 'LSTMCell' as a built-in Keras object. Consider renaming <class 'keras.layers.recurrent.LSTMCell'> to avoid naming conflicts when loading with `tf.keras.models.load_model`. If renaming is not possible, pass the object in the `custom_objects` parameter of the load function.\n",
            "WARNING:absl:<keras.layers.recurrent.LSTMCell object at 0x7f199ebb3ed0> has the same name 'LSTMCell' as a built-in Keras object. Consider renaming <class 'keras.layers.recurrent.LSTMCell'> to avoid naming conflicts when loading with `tf.keras.models.load_model`. If renaming is not possible, pass the object in the `custom_objects` parameter of the load function.\n",
            "WARNING:absl:<keras.layers.recurrent.LSTMCell object at 0x7f19a04b5d50> has the same name 'LSTMCell' as a built-in Keras object. Consider renaming <class 'keras.layers.recurrent.LSTMCell'> to avoid naming conflicts when loading with `tf.keras.models.load_model`. If renaming is not possible, pass the object in the `custom_objects` parameter of the load function.\n",
            "WARNING:absl:<keras.layers.recurrent.LSTMCell object at 0x7f19a0484a50> has the same name 'LSTMCell' as a built-in Keras object. Consider renaming <class 'keras.layers.recurrent.LSTMCell'> to avoid naming conflicts when loading with `tf.keras.models.load_model`. If renaming is not possible, pass the object in the `custom_objects` parameter of the load function.\n",
            "WARNING:absl:<keras.layers.recurrent.LSTMCell object at 0x7f19a049f650> has the same name 'LSTMCell' as a built-in Keras object. Consider renaming <class 'keras.layers.recurrent.LSTMCell'> to avoid naming conflicts when loading with `tf.keras.models.load_model`. If renaming is not possible, pass the object in the `custom_objects` parameter of the load function.\n",
            "WARNING:absl:<keras.layers.recurrent.LSTMCell object at 0x7f1868c89310> has the same name 'LSTMCell' as a built-in Keras object. Consider renaming <class 'keras.layers.recurrent.LSTMCell'> to avoid naming conflicts when loading with `tf.keras.models.load_model`. If renaming is not possible, pass the object in the `custom_objects` parameter of the load function.\n"
          ]
        },
        {
          "name": "stdout",
          "output_type": "stream",
          "text": [
            "\b\b\b\b\b\b\b\b\b\b\b\b\b\b\b\b\b\b\b\b\b\b\b\b\b\b\b\b\b\b\b\b\b\b\b\b\b\b\b\b\b\b\b\b\b\b\b\b\b\b\b\b\b\b\b\b\b\b\b\b\b\b\b\b\b\b\b\b\b\b\b\b\b\b\b\b\b\b\b\b\b\b\b\b\r215/215 [==============================] - 60s 280ms/step - loss: 0.5282 - accuracy: 0.7448 - val_loss: 0.5225 - val_accuracy: 0.7559\n",
            "Epoch 4/50\n",
            "214/215 [============================>.] - ETA: 0s - loss: 0.5234 - accuracy: 0.7484\n",
            "Epoch 4: val_accuracy did not improve from 0.75591\n",
            "215/215 [==============================] - 9s 42ms/step - loss: 0.5235 - accuracy: 0.7483 - val_loss: 0.5134 - val_accuracy: 0.7480\n",
            "Epoch 5/50\n",
            "214/215 [============================>.] - ETA: 0s - loss: 0.5183 - accuracy: 0.7560\n",
            "Epoch 5: val_accuracy did not improve from 0.75591\n",
            "215/215 [==============================] - 9s 42ms/step - loss: 0.5183 - accuracy: 0.7559 - val_loss: 0.5200 - val_accuracy: 0.7454\n",
            "Epoch 6/50\n",
            "214/215 [============================>.] - ETA: 0s - loss: 0.5573 - accuracy: 0.7180\n",
            "Epoch 6: val_accuracy did not improve from 0.75591\n",
            "215/215 [==============================] - 9s 41ms/step - loss: 0.5572 - accuracy: 0.7181 - val_loss: 0.5598 - val_accuracy: 0.7336\n",
            "Epoch 7/50\n",
            "215/215 [==============================] - ETA: 0s - loss: 0.5495 - accuracy: 0.7323\n",
            "Epoch 7: val_accuracy did not improve from 0.75591\n",
            "215/215 [==============================] - 9s 41ms/step - loss: 0.5495 - accuracy: 0.7323 - val_loss: 0.5226 - val_accuracy: 0.7546\n",
            "Epoch 8/50\n",
            "214/215 [============================>.] - ETA: 0s - loss: 0.5279 - accuracy: 0.7475\n",
            "Epoch 8: val_accuracy improved from 0.75591 to 0.76115, saving model to tweets/bi_LSTM\n"
          ]
        },
        {
          "name": "stderr",
          "output_type": "stream",
          "text": [
            "WARNING:absl:Function `_wrapped_model` contains input name(s) USE_input with unsupported characters which will be renamed to use_input in the SavedModel.\n",
            "WARNING:absl:Found untraced functions such as lstm_cell_98_layer_call_fn, lstm_cell_98_layer_call_and_return_conditional_losses, lstm_cell_99_layer_call_fn, lstm_cell_99_layer_call_and_return_conditional_losses, lstm_cell_101_layer_call_fn while saving (showing 5 of 16). These functions will not be directly callable after loading.\n"
          ]
        },
        {
          "name": "stdout",
          "output_type": "stream",
          "text": [
            "INFO:tensorflow:Assets written to: tweets/bi_LSTM/assets\n"
          ]
        },
        {
          "name": "stderr",
          "output_type": "stream",
          "text": [
            "INFO:tensorflow:Assets written to: tweets/bi_LSTM/assets\n",
            "WARNING:absl:<keras.layers.recurrent.LSTMCell object at 0x7f199eb7fa10> has the same name 'LSTMCell' as a built-in Keras object. Consider renaming <class 'keras.layers.recurrent.LSTMCell'> to avoid naming conflicts when loading with `tf.keras.models.load_model`. If renaming is not possible, pass the object in the `custom_objects` parameter of the load function.\n",
            "WARNING:absl:<keras.layers.recurrent.LSTMCell object at 0x7f199eba1610> has the same name 'LSTMCell' as a built-in Keras object. Consider renaming <class 'keras.layers.recurrent.LSTMCell'> to avoid naming conflicts when loading with `tf.keras.models.load_model`. If renaming is not possible, pass the object in the `custom_objects` parameter of the load function.\n",
            "WARNING:absl:<keras.layers.recurrent.LSTMCell object at 0x7f199ebb3250> has the same name 'LSTMCell' as a built-in Keras object. Consider renaming <class 'keras.layers.recurrent.LSTMCell'> to avoid naming conflicts when loading with `tf.keras.models.load_model`. If renaming is not possible, pass the object in the `custom_objects` parameter of the load function.\n",
            "WARNING:absl:<keras.layers.recurrent.LSTMCell object at 0x7f199ebb3ed0> has the same name 'LSTMCell' as a built-in Keras object. Consider renaming <class 'keras.layers.recurrent.LSTMCell'> to avoid naming conflicts when loading with `tf.keras.models.load_model`. If renaming is not possible, pass the object in the `custom_objects` parameter of the load function.\n",
            "WARNING:absl:<keras.layers.recurrent.LSTMCell object at 0x7f19a04b5d50> has the same name 'LSTMCell' as a built-in Keras object. Consider renaming <class 'keras.layers.recurrent.LSTMCell'> to avoid naming conflicts when loading with `tf.keras.models.load_model`. If renaming is not possible, pass the object in the `custom_objects` parameter of the load function.\n",
            "WARNING:absl:<keras.layers.recurrent.LSTMCell object at 0x7f19a0484a50> has the same name 'LSTMCell' as a built-in Keras object. Consider renaming <class 'keras.layers.recurrent.LSTMCell'> to avoid naming conflicts when loading with `tf.keras.models.load_model`. If renaming is not possible, pass the object in the `custom_objects` parameter of the load function.\n",
            "WARNING:absl:<keras.layers.recurrent.LSTMCell object at 0x7f19a049f650> has the same name 'LSTMCell' as a built-in Keras object. Consider renaming <class 'keras.layers.recurrent.LSTMCell'> to avoid naming conflicts when loading with `tf.keras.models.load_model`. If renaming is not possible, pass the object in the `custom_objects` parameter of the load function.\n",
            "WARNING:absl:<keras.layers.recurrent.LSTMCell object at 0x7f1868c89310> has the same name 'LSTMCell' as a built-in Keras object. Consider renaming <class 'keras.layers.recurrent.LSTMCell'> to avoid naming conflicts when loading with `tf.keras.models.load_model`. If renaming is not possible, pass the object in the `custom_objects` parameter of the load function.\n"
          ]
        },
        {
          "name": "stdout",
          "output_type": "stream",
          "text": [
            "\b\b\b\b\b\b\b\b\b\b\b\b\b\b\b\b\b\b\b\b\b\b\b\b\b\b\b\b\b\b\b\b\b\b\b\b\b\b\b\b\b\b\b\b\b\b\b\b\b\b\b\b\b\b\b\b\b\b\b\b\b\b\b\b\b\b\b\b\b\b\b\b\b\b\b\b\b\b\b\b\b\b\b\b\r215/215 [==============================] - 62s 291ms/step - loss: 0.5280 - accuracy: 0.7474 - val_loss: 0.5165 - val_accuracy: 0.7612\n",
            "Epoch 9/50\n",
            "215/215 [==============================] - ETA: 0s - loss: 0.5181 - accuracy: 0.7569\n",
            "Epoch 9: val_accuracy improved from 0.76115 to 0.77034, saving model to tweets/bi_LSTM\n"
          ]
        },
        {
          "name": "stderr",
          "output_type": "stream",
          "text": [
            "WARNING:absl:Function `_wrapped_model` contains input name(s) USE_input with unsupported characters which will be renamed to use_input in the SavedModel.\n",
            "WARNING:absl:Found untraced functions such as lstm_cell_98_layer_call_fn, lstm_cell_98_layer_call_and_return_conditional_losses, lstm_cell_99_layer_call_fn, lstm_cell_99_layer_call_and_return_conditional_losses, lstm_cell_101_layer_call_fn while saving (showing 5 of 16). These functions will not be directly callable after loading.\n"
          ]
        },
        {
          "name": "stdout",
          "output_type": "stream",
          "text": [
            "INFO:tensorflow:Assets written to: tweets/bi_LSTM/assets\n"
          ]
        },
        {
          "name": "stderr",
          "output_type": "stream",
          "text": [
            "INFO:tensorflow:Assets written to: tweets/bi_LSTM/assets\n",
            "WARNING:absl:<keras.layers.recurrent.LSTMCell object at 0x7f199eb7fa10> has the same name 'LSTMCell' as a built-in Keras object. Consider renaming <class 'keras.layers.recurrent.LSTMCell'> to avoid naming conflicts when loading with `tf.keras.models.load_model`. If renaming is not possible, pass the object in the `custom_objects` parameter of the load function.\n",
            "WARNING:absl:<keras.layers.recurrent.LSTMCell object at 0x7f199eba1610> has the same name 'LSTMCell' as a built-in Keras object. Consider renaming <class 'keras.layers.recurrent.LSTMCell'> to avoid naming conflicts when loading with `tf.keras.models.load_model`. If renaming is not possible, pass the object in the `custom_objects` parameter of the load function.\n",
            "WARNING:absl:<keras.layers.recurrent.LSTMCell object at 0x7f199ebb3250> has the same name 'LSTMCell' as a built-in Keras object. Consider renaming <class 'keras.layers.recurrent.LSTMCell'> to avoid naming conflicts when loading with `tf.keras.models.load_model`. If renaming is not possible, pass the object in the `custom_objects` parameter of the load function.\n",
            "WARNING:absl:<keras.layers.recurrent.LSTMCell object at 0x7f199ebb3ed0> has the same name 'LSTMCell' as a built-in Keras object. Consider renaming <class 'keras.layers.recurrent.LSTMCell'> to avoid naming conflicts when loading with `tf.keras.models.load_model`. If renaming is not possible, pass the object in the `custom_objects` parameter of the load function.\n",
            "WARNING:absl:<keras.layers.recurrent.LSTMCell object at 0x7f19a04b5d50> has the same name 'LSTMCell' as a built-in Keras object. Consider renaming <class 'keras.layers.recurrent.LSTMCell'> to avoid naming conflicts when loading with `tf.keras.models.load_model`. If renaming is not possible, pass the object in the `custom_objects` parameter of the load function.\n",
            "WARNING:absl:<keras.layers.recurrent.LSTMCell object at 0x7f19a0484a50> has the same name 'LSTMCell' as a built-in Keras object. Consider renaming <class 'keras.layers.recurrent.LSTMCell'> to avoid naming conflicts when loading with `tf.keras.models.load_model`. If renaming is not possible, pass the object in the `custom_objects` parameter of the load function.\n",
            "WARNING:absl:<keras.layers.recurrent.LSTMCell object at 0x7f19a049f650> has the same name 'LSTMCell' as a built-in Keras object. Consider renaming <class 'keras.layers.recurrent.LSTMCell'> to avoid naming conflicts when loading with `tf.keras.models.load_model`. If renaming is not possible, pass the object in the `custom_objects` parameter of the load function.\n",
            "WARNING:absl:<keras.layers.recurrent.LSTMCell object at 0x7f1868c89310> has the same name 'LSTMCell' as a built-in Keras object. Consider renaming <class 'keras.layers.recurrent.LSTMCell'> to avoid naming conflicts when loading with `tf.keras.models.load_model`. If renaming is not possible, pass the object in the `custom_objects` parameter of the load function.\n"
          ]
        },
        {
          "name": "stdout",
          "output_type": "stream",
          "text": [
            "\b\b\b\b\b\b\b\b\b\b\b\b\b\b\b\b\b\b\b\b\b\b\b\b\b\b\b\b\b\b\b\b\b\b\b\b\b\b\b\b\b\b\b\b\b\b\b\b\b\b\b\b\b\b\b\b\b\b\b\b\b\b\b\b\b\b\b\b\b\b\b\b\b\b\b\b\b\b\b\b\b\b\b\b\r215/215 [==============================] - 60s 278ms/step - loss: 0.5181 - accuracy: 0.7569 - val_loss: 0.5109 - val_accuracy: 0.7703\n",
            "Epoch 10/50\n",
            "215/215 [==============================] - ETA: 0s - loss: 0.5153 - accuracy: 0.7565\n",
            "Epoch 10: val_accuracy did not improve from 0.77034\n",
            "215/215 [==============================] - 9s 42ms/step - loss: 0.5153 - accuracy: 0.7565 - val_loss: 0.5056 - val_accuracy: 0.7612\n",
            "Epoch 11/50\n",
            "215/215 [==============================] - ETA: 0s - loss: 0.5077 - accuracy: 0.7601\n",
            "Epoch 11: val_accuracy improved from 0.77034 to 0.77428, saving model to tweets/bi_LSTM\n"
          ]
        },
        {
          "name": "stderr",
          "output_type": "stream",
          "text": [
            "WARNING:absl:Function `_wrapped_model` contains input name(s) USE_input with unsupported characters which will be renamed to use_input in the SavedModel.\n",
            "WARNING:absl:Found untraced functions such as lstm_cell_98_layer_call_fn, lstm_cell_98_layer_call_and_return_conditional_losses, lstm_cell_99_layer_call_fn, lstm_cell_99_layer_call_and_return_conditional_losses, lstm_cell_101_layer_call_fn while saving (showing 5 of 16). These functions will not be directly callable after loading.\n"
          ]
        },
        {
          "name": "stdout",
          "output_type": "stream",
          "text": [
            "INFO:tensorflow:Assets written to: tweets/bi_LSTM/assets\n"
          ]
        },
        {
          "name": "stderr",
          "output_type": "stream",
          "text": [
            "INFO:tensorflow:Assets written to: tweets/bi_LSTM/assets\n",
            "WARNING:absl:<keras.layers.recurrent.LSTMCell object at 0x7f199eb7fa10> has the same name 'LSTMCell' as a built-in Keras object. Consider renaming <class 'keras.layers.recurrent.LSTMCell'> to avoid naming conflicts when loading with `tf.keras.models.load_model`. If renaming is not possible, pass the object in the `custom_objects` parameter of the load function.\n",
            "WARNING:absl:<keras.layers.recurrent.LSTMCell object at 0x7f199eba1610> has the same name 'LSTMCell' as a built-in Keras object. Consider renaming <class 'keras.layers.recurrent.LSTMCell'> to avoid naming conflicts when loading with `tf.keras.models.load_model`. If renaming is not possible, pass the object in the `custom_objects` parameter of the load function.\n",
            "WARNING:absl:<keras.layers.recurrent.LSTMCell object at 0x7f199ebb3250> has the same name 'LSTMCell' as a built-in Keras object. Consider renaming <class 'keras.layers.recurrent.LSTMCell'> to avoid naming conflicts when loading with `tf.keras.models.load_model`. If renaming is not possible, pass the object in the `custom_objects` parameter of the load function.\n",
            "WARNING:absl:<keras.layers.recurrent.LSTMCell object at 0x7f199ebb3ed0> has the same name 'LSTMCell' as a built-in Keras object. Consider renaming <class 'keras.layers.recurrent.LSTMCell'> to avoid naming conflicts when loading with `tf.keras.models.load_model`. If renaming is not possible, pass the object in the `custom_objects` parameter of the load function.\n",
            "WARNING:absl:<keras.layers.recurrent.LSTMCell object at 0x7f19a04b5d50> has the same name 'LSTMCell' as a built-in Keras object. Consider renaming <class 'keras.layers.recurrent.LSTMCell'> to avoid naming conflicts when loading with `tf.keras.models.load_model`. If renaming is not possible, pass the object in the `custom_objects` parameter of the load function.\n",
            "WARNING:absl:<keras.layers.recurrent.LSTMCell object at 0x7f19a0484a50> has the same name 'LSTMCell' as a built-in Keras object. Consider renaming <class 'keras.layers.recurrent.LSTMCell'> to avoid naming conflicts when loading with `tf.keras.models.load_model`. If renaming is not possible, pass the object in the `custom_objects` parameter of the load function.\n",
            "WARNING:absl:<keras.layers.recurrent.LSTMCell object at 0x7f19a049f650> has the same name 'LSTMCell' as a built-in Keras object. Consider renaming <class 'keras.layers.recurrent.LSTMCell'> to avoid naming conflicts when loading with `tf.keras.models.load_model`. If renaming is not possible, pass the object in the `custom_objects` parameter of the load function.\n",
            "WARNING:absl:<keras.layers.recurrent.LSTMCell object at 0x7f1868c89310> has the same name 'LSTMCell' as a built-in Keras object. Consider renaming <class 'keras.layers.recurrent.LSTMCell'> to avoid naming conflicts when loading with `tf.keras.models.load_model`. If renaming is not possible, pass the object in the `custom_objects` parameter of the load function.\n"
          ]
        },
        {
          "name": "stdout",
          "output_type": "stream",
          "text": [
            "\b\b\b\b\b\b\b\b\b\b\b\b\b\b\b\b\b\b\b\b\b\b\b\b\b\b\b\b\b\b\b\b\b\b\b\b\b\b\b\b\b\b\b\b\b\b\b\b\b\b\b\b\b\b\b\b\b\b\b\b\b\b\b\b\b\b\b\b\b\b\b\b\b\b\b\b\b\b\b\b\b\b\b\b\r215/215 [==============================] - 60s 280ms/step - loss: 0.5077 - accuracy: 0.7601 - val_loss: 0.4977 - val_accuracy: 0.7743\n",
            "Epoch 12/50\n",
            "215/215 [==============================] - ETA: 0s - loss: 0.5015 - accuracy: 0.7653\n",
            "Epoch 12: val_accuracy did not improve from 0.77428\n",
            "215/215 [==============================] - 9s 42ms/step - loss: 0.5015 - accuracy: 0.7653 - val_loss: 0.5034 - val_accuracy: 0.7690\n",
            "Epoch 13/50\n",
            "214/215 [============================>.] - ETA: 0s - loss: 0.4988 - accuracy: 0.7694\n",
            "Epoch 13: val_accuracy did not improve from 0.77428\n",
            "215/215 [==============================] - 9s 41ms/step - loss: 0.4988 - accuracy: 0.7693 - val_loss: 0.4968 - val_accuracy: 0.7690\n",
            "Epoch 14/50\n",
            "215/215 [==============================] - ETA: 0s - loss: 0.5031 - accuracy: 0.7650\n",
            "Epoch 14: val_accuracy did not improve from 0.77428\n",
            "215/215 [==============================] - 9s 41ms/step - loss: 0.5031 - accuracy: 0.7650 - val_loss: 0.5018 - val_accuracy: 0.7690\n",
            "Epoch 15/50\n",
            "215/215 [==============================] - ETA: 0s - loss: 0.4939 - accuracy: 0.7698\n",
            "Epoch 15: val_accuracy improved from 0.77428 to 0.77559, saving model to tweets/bi_LSTM\n"
          ]
        },
        {
          "name": "stderr",
          "output_type": "stream",
          "text": [
            "WARNING:absl:Function `_wrapped_model` contains input name(s) USE_input with unsupported characters which will be renamed to use_input in the SavedModel.\n",
            "WARNING:absl:Found untraced functions such as lstm_cell_98_layer_call_fn, lstm_cell_98_layer_call_and_return_conditional_losses, lstm_cell_99_layer_call_fn, lstm_cell_99_layer_call_and_return_conditional_losses, lstm_cell_101_layer_call_fn while saving (showing 5 of 16). These functions will not be directly callable after loading.\n"
          ]
        },
        {
          "name": "stdout",
          "output_type": "stream",
          "text": [
            "INFO:tensorflow:Assets written to: tweets/bi_LSTM/assets\n"
          ]
        },
        {
          "name": "stderr",
          "output_type": "stream",
          "text": [
            "INFO:tensorflow:Assets written to: tweets/bi_LSTM/assets\n",
            "WARNING:absl:<keras.layers.recurrent.LSTMCell object at 0x7f199eb7fa10> has the same name 'LSTMCell' as a built-in Keras object. Consider renaming <class 'keras.layers.recurrent.LSTMCell'> to avoid naming conflicts when loading with `tf.keras.models.load_model`. If renaming is not possible, pass the object in the `custom_objects` parameter of the load function.\n",
            "WARNING:absl:<keras.layers.recurrent.LSTMCell object at 0x7f199eba1610> has the same name 'LSTMCell' as a built-in Keras object. Consider renaming <class 'keras.layers.recurrent.LSTMCell'> to avoid naming conflicts when loading with `tf.keras.models.load_model`. If renaming is not possible, pass the object in the `custom_objects` parameter of the load function.\n",
            "WARNING:absl:<keras.layers.recurrent.LSTMCell object at 0x7f199ebb3250> has the same name 'LSTMCell' as a built-in Keras object. Consider renaming <class 'keras.layers.recurrent.LSTMCell'> to avoid naming conflicts when loading with `tf.keras.models.load_model`. If renaming is not possible, pass the object in the `custom_objects` parameter of the load function.\n",
            "WARNING:absl:<keras.layers.recurrent.LSTMCell object at 0x7f199ebb3ed0> has the same name 'LSTMCell' as a built-in Keras object. Consider renaming <class 'keras.layers.recurrent.LSTMCell'> to avoid naming conflicts when loading with `tf.keras.models.load_model`. If renaming is not possible, pass the object in the `custom_objects` parameter of the load function.\n",
            "WARNING:absl:<keras.layers.recurrent.LSTMCell object at 0x7f19a04b5d50> has the same name 'LSTMCell' as a built-in Keras object. Consider renaming <class 'keras.layers.recurrent.LSTMCell'> to avoid naming conflicts when loading with `tf.keras.models.load_model`. If renaming is not possible, pass the object in the `custom_objects` parameter of the load function.\n",
            "WARNING:absl:<keras.layers.recurrent.LSTMCell object at 0x7f19a0484a50> has the same name 'LSTMCell' as a built-in Keras object. Consider renaming <class 'keras.layers.recurrent.LSTMCell'> to avoid naming conflicts when loading with `tf.keras.models.load_model`. If renaming is not possible, pass the object in the `custom_objects` parameter of the load function.\n",
            "WARNING:absl:<keras.layers.recurrent.LSTMCell object at 0x7f19a049f650> has the same name 'LSTMCell' as a built-in Keras object. Consider renaming <class 'keras.layers.recurrent.LSTMCell'> to avoid naming conflicts when loading with `tf.keras.models.load_model`. If renaming is not possible, pass the object in the `custom_objects` parameter of the load function.\n",
            "WARNING:absl:<keras.layers.recurrent.LSTMCell object at 0x7f1868c89310> has the same name 'LSTMCell' as a built-in Keras object. Consider renaming <class 'keras.layers.recurrent.LSTMCell'> to avoid naming conflicts when loading with `tf.keras.models.load_model`. If renaming is not possible, pass the object in the `custom_objects` parameter of the load function.\n"
          ]
        },
        {
          "name": "stdout",
          "output_type": "stream",
          "text": [
            "\b\b\b\b\b\b\b\b\b\b\b\b\b\b\b\b\b\b\b\b\b\b\b\b\b\b\b\b\b\b\b\b\b\b\b\b\b\b\b\b\b\b\b\b\b\b\b\b\b\b\b\b\b\b\b\b\b\b\b\b\b\b\b\b\b\b\b\b\b\b\b\b\b\b\b\b\b\b\b\b\b\b\b\b\r215/215 [==============================] - 60s 279ms/step - loss: 0.4939 - accuracy: 0.7698 - val_loss: 0.4930 - val_accuracy: 0.7756\n",
            "Epoch 16/50\n",
            "215/215 [==============================] - ETA: 0s - loss: 0.4927 - accuracy: 0.7712\n",
            "Epoch 16: val_accuracy did not improve from 0.77559\n",
            "215/215 [==============================] - 9s 41ms/step - loss: 0.4927 - accuracy: 0.7712 - val_loss: 0.4924 - val_accuracy: 0.7664\n",
            "Epoch 17/50\n",
            "215/215 [==============================] - ETA: 0s - loss: 0.4884 - accuracy: 0.7764\n",
            "Epoch 17: val_accuracy did not improve from 0.77559\n",
            "215/215 [==============================] - 9s 42ms/step - loss: 0.4884 - accuracy: 0.7764 - val_loss: 0.4949 - val_accuracy: 0.7743\n",
            "Epoch 18/50\n",
            "214/215 [============================>.] - ETA: 0s - loss: 0.4837 - accuracy: 0.7795\n",
            "Epoch 18: val_accuracy did not improve from 0.77559\n",
            "215/215 [==============================] - 9s 41ms/step - loss: 0.4836 - accuracy: 0.7796 - val_loss: 0.4945 - val_accuracy: 0.7677\n",
            "Epoch 19/50\n",
            "215/215 [==============================] - ETA: 0s - loss: 0.4855 - accuracy: 0.7734\n",
            "Epoch 19: val_accuracy did not improve from 0.77559\n",
            "215/215 [==============================] - 9s 40ms/step - loss: 0.4855 - accuracy: 0.7734 - val_loss: 0.4974 - val_accuracy: 0.7638\n",
            "Epoch 20/50\n",
            "215/215 [==============================] - ETA: 0s - loss: 0.4923 - accuracy: 0.7734\n",
            "Epoch 20: val_accuracy improved from 0.77559 to 0.77690, saving model to tweets/bi_LSTM\n"
          ]
        },
        {
          "name": "stderr",
          "output_type": "stream",
          "text": [
            "WARNING:absl:Function `_wrapped_model` contains input name(s) USE_input with unsupported characters which will be renamed to use_input in the SavedModel.\n",
            "WARNING:absl:Found untraced functions such as lstm_cell_98_layer_call_fn, lstm_cell_98_layer_call_and_return_conditional_losses, lstm_cell_99_layer_call_fn, lstm_cell_99_layer_call_and_return_conditional_losses, lstm_cell_101_layer_call_fn while saving (showing 5 of 16). These functions will not be directly callable after loading.\n"
          ]
        },
        {
          "name": "stdout",
          "output_type": "stream",
          "text": [
            "INFO:tensorflow:Assets written to: tweets/bi_LSTM/assets\n"
          ]
        },
        {
          "name": "stderr",
          "output_type": "stream",
          "text": [
            "INFO:tensorflow:Assets written to: tweets/bi_LSTM/assets\n",
            "WARNING:absl:<keras.layers.recurrent.LSTMCell object at 0x7f199eb7fa10> has the same name 'LSTMCell' as a built-in Keras object. Consider renaming <class 'keras.layers.recurrent.LSTMCell'> to avoid naming conflicts when loading with `tf.keras.models.load_model`. If renaming is not possible, pass the object in the `custom_objects` parameter of the load function.\n",
            "WARNING:absl:<keras.layers.recurrent.LSTMCell object at 0x7f199eba1610> has the same name 'LSTMCell' as a built-in Keras object. Consider renaming <class 'keras.layers.recurrent.LSTMCell'> to avoid naming conflicts when loading with `tf.keras.models.load_model`. If renaming is not possible, pass the object in the `custom_objects` parameter of the load function.\n",
            "WARNING:absl:<keras.layers.recurrent.LSTMCell object at 0x7f199ebb3250> has the same name 'LSTMCell' as a built-in Keras object. Consider renaming <class 'keras.layers.recurrent.LSTMCell'> to avoid naming conflicts when loading with `tf.keras.models.load_model`. If renaming is not possible, pass the object in the `custom_objects` parameter of the load function.\n",
            "WARNING:absl:<keras.layers.recurrent.LSTMCell object at 0x7f199ebb3ed0> has the same name 'LSTMCell' as a built-in Keras object. Consider renaming <class 'keras.layers.recurrent.LSTMCell'> to avoid naming conflicts when loading with `tf.keras.models.load_model`. If renaming is not possible, pass the object in the `custom_objects` parameter of the load function.\n",
            "WARNING:absl:<keras.layers.recurrent.LSTMCell object at 0x7f19a04b5d50> has the same name 'LSTMCell' as a built-in Keras object. Consider renaming <class 'keras.layers.recurrent.LSTMCell'> to avoid naming conflicts when loading with `tf.keras.models.load_model`. If renaming is not possible, pass the object in the `custom_objects` parameter of the load function.\n",
            "WARNING:absl:<keras.layers.recurrent.LSTMCell object at 0x7f19a0484a50> has the same name 'LSTMCell' as a built-in Keras object. Consider renaming <class 'keras.layers.recurrent.LSTMCell'> to avoid naming conflicts when loading with `tf.keras.models.load_model`. If renaming is not possible, pass the object in the `custom_objects` parameter of the load function.\n",
            "WARNING:absl:<keras.layers.recurrent.LSTMCell object at 0x7f19a049f650> has the same name 'LSTMCell' as a built-in Keras object. Consider renaming <class 'keras.layers.recurrent.LSTMCell'> to avoid naming conflicts when loading with `tf.keras.models.load_model`. If renaming is not possible, pass the object in the `custom_objects` parameter of the load function.\n",
            "WARNING:absl:<keras.layers.recurrent.LSTMCell object at 0x7f1868c89310> has the same name 'LSTMCell' as a built-in Keras object. Consider renaming <class 'keras.layers.recurrent.LSTMCell'> to avoid naming conflicts when loading with `tf.keras.models.load_model`. If renaming is not possible, pass the object in the `custom_objects` parameter of the load function.\n"
          ]
        },
        {
          "name": "stdout",
          "output_type": "stream",
          "text": [
            "\b\b\b\b\b\b\b\b\b\b\b\b\b\b\b\b\b\b\b\b\b\b\b\b\b\b\b\b\b\b\b\b\b\b\b\b\b\b\b\b\b\b\b\b\b\b\b\b\b\b\b\b\b\b\b\b\b\b\b\b\b\b\b\b\b\b\b\b\b\b\b\b\b\b\b\b\b\b\b\b\b\b\b\b\r215/215 [==============================] - 60s 279ms/step - loss: 0.4923 - accuracy: 0.7734 - val_loss: 0.4996 - val_accuracy: 0.7769\n",
            "Epoch 21/50\n",
            "215/215 [==============================] - ETA: 0s - loss: 0.4797 - accuracy: 0.7787\n",
            "Epoch 21: val_accuracy improved from 0.77690 to 0.78215, saving model to tweets/bi_LSTM\n"
          ]
        },
        {
          "name": "stderr",
          "output_type": "stream",
          "text": [
            "WARNING:absl:Function `_wrapped_model` contains input name(s) USE_input with unsupported characters which will be renamed to use_input in the SavedModel.\n",
            "WARNING:absl:Found untraced functions such as lstm_cell_98_layer_call_fn, lstm_cell_98_layer_call_and_return_conditional_losses, lstm_cell_99_layer_call_fn, lstm_cell_99_layer_call_and_return_conditional_losses, lstm_cell_101_layer_call_fn while saving (showing 5 of 16). These functions will not be directly callable after loading.\n"
          ]
        },
        {
          "name": "stdout",
          "output_type": "stream",
          "text": [
            "INFO:tensorflow:Assets written to: tweets/bi_LSTM/assets\n"
          ]
        },
        {
          "name": "stderr",
          "output_type": "stream",
          "text": [
            "INFO:tensorflow:Assets written to: tweets/bi_LSTM/assets\n",
            "WARNING:absl:<keras.layers.recurrent.LSTMCell object at 0x7f199eb7fa10> has the same name 'LSTMCell' as a built-in Keras object. Consider renaming <class 'keras.layers.recurrent.LSTMCell'> to avoid naming conflicts when loading with `tf.keras.models.load_model`. If renaming is not possible, pass the object in the `custom_objects` parameter of the load function.\n",
            "WARNING:absl:<keras.layers.recurrent.LSTMCell object at 0x7f199eba1610> has the same name 'LSTMCell' as a built-in Keras object. Consider renaming <class 'keras.layers.recurrent.LSTMCell'> to avoid naming conflicts when loading with `tf.keras.models.load_model`. If renaming is not possible, pass the object in the `custom_objects` parameter of the load function.\n",
            "WARNING:absl:<keras.layers.recurrent.LSTMCell object at 0x7f199ebb3250> has the same name 'LSTMCell' as a built-in Keras object. Consider renaming <class 'keras.layers.recurrent.LSTMCell'> to avoid naming conflicts when loading with `tf.keras.models.load_model`. If renaming is not possible, pass the object in the `custom_objects` parameter of the load function.\n",
            "WARNING:absl:<keras.layers.recurrent.LSTMCell object at 0x7f199ebb3ed0> has the same name 'LSTMCell' as a built-in Keras object. Consider renaming <class 'keras.layers.recurrent.LSTMCell'> to avoid naming conflicts when loading with `tf.keras.models.load_model`. If renaming is not possible, pass the object in the `custom_objects` parameter of the load function.\n",
            "WARNING:absl:<keras.layers.recurrent.LSTMCell object at 0x7f19a04b5d50> has the same name 'LSTMCell' as a built-in Keras object. Consider renaming <class 'keras.layers.recurrent.LSTMCell'> to avoid naming conflicts when loading with `tf.keras.models.load_model`. If renaming is not possible, pass the object in the `custom_objects` parameter of the load function.\n",
            "WARNING:absl:<keras.layers.recurrent.LSTMCell object at 0x7f19a0484a50> has the same name 'LSTMCell' as a built-in Keras object. Consider renaming <class 'keras.layers.recurrent.LSTMCell'> to avoid naming conflicts when loading with `tf.keras.models.load_model`. If renaming is not possible, pass the object in the `custom_objects` parameter of the load function.\n",
            "WARNING:absl:<keras.layers.recurrent.LSTMCell object at 0x7f19a049f650> has the same name 'LSTMCell' as a built-in Keras object. Consider renaming <class 'keras.layers.recurrent.LSTMCell'> to avoid naming conflicts when loading with `tf.keras.models.load_model`. If renaming is not possible, pass the object in the `custom_objects` parameter of the load function.\n",
            "WARNING:absl:<keras.layers.recurrent.LSTMCell object at 0x7f1868c89310> has the same name 'LSTMCell' as a built-in Keras object. Consider renaming <class 'keras.layers.recurrent.LSTMCell'> to avoid naming conflicts when loading with `tf.keras.models.load_model`. If renaming is not possible, pass the object in the `custom_objects` parameter of the load function.\n"
          ]
        },
        {
          "name": "stdout",
          "output_type": "stream",
          "text": [
            "\b\b\b\b\b\b\b\b\b\b\b\b\b\b\b\b\b\b\b\b\b\b\b\b\b\b\b\b\b\b\b\b\b\b\b\b\b\b\b\b\b\b\b\b\b\b\b\b\b\b\b\b\b\b\b\b\b\b\b\b\b\b\b\b\b\b\b\b\b\b\b\b\b\b\b\b\b\b\b\b\b\b\b\b\r215/215 [==============================] - 60s 280ms/step - loss: 0.4797 - accuracy: 0.7787 - val_loss: 0.4861 - val_accuracy: 0.7822\n",
            "Epoch 22/50\n",
            "214/215 [============================>.] - ETA: 0s - loss: 0.4752 - accuracy: 0.7785\n",
            "Epoch 22: val_accuracy did not improve from 0.78215\n",
            "215/215 [==============================] - 9s 42ms/step - loss: 0.4752 - accuracy: 0.7785 - val_loss: 0.4945 - val_accuracy: 0.7690\n",
            "Epoch 23/50\n",
            "215/215 [==============================] - ETA: 0s - loss: 0.4753 - accuracy: 0.7829\n",
            "Epoch 23: val_accuracy did not improve from 0.78215\n",
            "215/215 [==============================] - 9s 41ms/step - loss: 0.4753 - accuracy: 0.7829 - val_loss: 0.4921 - val_accuracy: 0.7677\n",
            "Epoch 24/50\n",
            "215/215 [==============================] - ETA: 0s - loss: 0.4682 - accuracy: 0.7860\n",
            "Epoch 24: val_accuracy improved from 0.78215 to 0.78346, saving model to tweets/bi_LSTM\n"
          ]
        },
        {
          "name": "stderr",
          "output_type": "stream",
          "text": [
            "WARNING:absl:Function `_wrapped_model` contains input name(s) USE_input with unsupported characters which will be renamed to use_input in the SavedModel.\n",
            "WARNING:absl:Found untraced functions such as lstm_cell_98_layer_call_fn, lstm_cell_98_layer_call_and_return_conditional_losses, lstm_cell_99_layer_call_fn, lstm_cell_99_layer_call_and_return_conditional_losses, lstm_cell_101_layer_call_fn while saving (showing 5 of 16). These functions will not be directly callable after loading.\n"
          ]
        },
        {
          "name": "stdout",
          "output_type": "stream",
          "text": [
            "INFO:tensorflow:Assets written to: tweets/bi_LSTM/assets\n"
          ]
        },
        {
          "name": "stderr",
          "output_type": "stream",
          "text": [
            "INFO:tensorflow:Assets written to: tweets/bi_LSTM/assets\n",
            "WARNING:absl:<keras.layers.recurrent.LSTMCell object at 0x7f199eb7fa10> has the same name 'LSTMCell' as a built-in Keras object. Consider renaming <class 'keras.layers.recurrent.LSTMCell'> to avoid naming conflicts when loading with `tf.keras.models.load_model`. If renaming is not possible, pass the object in the `custom_objects` parameter of the load function.\n",
            "WARNING:absl:<keras.layers.recurrent.LSTMCell object at 0x7f199eba1610> has the same name 'LSTMCell' as a built-in Keras object. Consider renaming <class 'keras.layers.recurrent.LSTMCell'> to avoid naming conflicts when loading with `tf.keras.models.load_model`. If renaming is not possible, pass the object in the `custom_objects` parameter of the load function.\n",
            "WARNING:absl:<keras.layers.recurrent.LSTMCell object at 0x7f199ebb3250> has the same name 'LSTMCell' as a built-in Keras object. Consider renaming <class 'keras.layers.recurrent.LSTMCell'> to avoid naming conflicts when loading with `tf.keras.models.load_model`. If renaming is not possible, pass the object in the `custom_objects` parameter of the load function.\n",
            "WARNING:absl:<keras.layers.recurrent.LSTMCell object at 0x7f199ebb3ed0> has the same name 'LSTMCell' as a built-in Keras object. Consider renaming <class 'keras.layers.recurrent.LSTMCell'> to avoid naming conflicts when loading with `tf.keras.models.load_model`. If renaming is not possible, pass the object in the `custom_objects` parameter of the load function.\n",
            "WARNING:absl:<keras.layers.recurrent.LSTMCell object at 0x7f19a04b5d50> has the same name 'LSTMCell' as a built-in Keras object. Consider renaming <class 'keras.layers.recurrent.LSTMCell'> to avoid naming conflicts when loading with `tf.keras.models.load_model`. If renaming is not possible, pass the object in the `custom_objects` parameter of the load function.\n",
            "WARNING:absl:<keras.layers.recurrent.LSTMCell object at 0x7f19a0484a50> has the same name 'LSTMCell' as a built-in Keras object. Consider renaming <class 'keras.layers.recurrent.LSTMCell'> to avoid naming conflicts when loading with `tf.keras.models.load_model`. If renaming is not possible, pass the object in the `custom_objects` parameter of the load function.\n",
            "WARNING:absl:<keras.layers.recurrent.LSTMCell object at 0x7f19a049f650> has the same name 'LSTMCell' as a built-in Keras object. Consider renaming <class 'keras.layers.recurrent.LSTMCell'> to avoid naming conflicts when loading with `tf.keras.models.load_model`. If renaming is not possible, pass the object in the `custom_objects` parameter of the load function.\n",
            "WARNING:absl:<keras.layers.recurrent.LSTMCell object at 0x7f1868c89310> has the same name 'LSTMCell' as a built-in Keras object. Consider renaming <class 'keras.layers.recurrent.LSTMCell'> to avoid naming conflicts when loading with `tf.keras.models.load_model`. If renaming is not possible, pass the object in the `custom_objects` parameter of the load function.\n"
          ]
        },
        {
          "name": "stdout",
          "output_type": "stream",
          "text": [
            "\b\b\b\b\b\b\b\b\b\b\b\b\b\b\b\b\b\b\b\b\b\b\b\b\b\b\b\b\b\b\b\b\b\b\b\b\b\b\b\b\b\b\b\b\b\b\b\b\b\b\b\b\b\b\b\b\b\b\b\b\b\b\b\b\b\b\b\b\b\b\b\b\b\b\b\b\b\b\b\b\b\b\b\b\r215/215 [==============================] - 60s 281ms/step - loss: 0.4682 - accuracy: 0.7860 - val_loss: 0.4927 - val_accuracy: 0.7835\n",
            "Epoch 25/50\n",
            "215/215 [==============================] - ETA: 0s - loss: 0.4717 - accuracy: 0.7841\n",
            "Epoch 25: val_accuracy did not improve from 0.78346\n",
            "215/215 [==============================] - 10s 47ms/step - loss: 0.4717 - accuracy: 0.7841 - val_loss: 0.4798 - val_accuracy: 0.7808\n",
            "Epoch 26/50\n",
            "214/215 [============================>.] - ETA: 0s - loss: 0.4720 - accuracy: 0.7826\n",
            "Epoch 26: val_accuracy did not improve from 0.78346\n",
            "215/215 [==============================] - 9s 41ms/step - loss: 0.4719 - accuracy: 0.7826 - val_loss: 0.4911 - val_accuracy: 0.7782\n",
            "Epoch 27/50\n",
            "215/215 [==============================] - ETA: 0s - loss: 0.4674 - accuracy: 0.7883\n",
            "Epoch 27: val_accuracy did not improve from 0.78346\n",
            "215/215 [==============================] - 9s 42ms/step - loss: 0.4674 - accuracy: 0.7883 - val_loss: 0.4938 - val_accuracy: 0.7612\n",
            "Epoch 28/50\n",
            "214/215 [============================>.] - ETA: 0s - loss: 0.4646 - accuracy: 0.7869\n",
            "Epoch 28: val_accuracy did not improve from 0.78346\n",
            "215/215 [==============================] - 9s 41ms/step - loss: 0.4645 - accuracy: 0.7870 - val_loss: 0.4941 - val_accuracy: 0.7756\n",
            "Epoch 29/50\n",
            "214/215 [============================>.] - ETA: 0s - loss: 0.4622 - accuracy: 0.7909\n",
            "Epoch 29: val_accuracy did not improve from 0.78346\n",
            "215/215 [==============================] - 9s 41ms/step - loss: 0.4621 - accuracy: 0.7909 - val_loss: 0.4993 - val_accuracy: 0.7703\n",
            "Epoch 30/50\n",
            "215/215 [==============================] - ETA: 0s - loss: 0.5118 - accuracy: 0.7552\n",
            "Epoch 30: val_accuracy did not improve from 0.78346\n",
            "215/215 [==============================] - 9s 41ms/step - loss: 0.5118 - accuracy: 0.7552 - val_loss: 0.5339 - val_accuracy: 0.7415\n",
            "Epoch 31/50\n",
            "215/215 [==============================] - ETA: 0s - loss: 0.5004 - accuracy: 0.7702\n",
            "Epoch 31: val_accuracy did not improve from 0.78346\n",
            "215/215 [==============================] - 9s 41ms/step - loss: 0.5004 - accuracy: 0.7702 - val_loss: 0.4999 - val_accuracy: 0.7743\n",
            "Epoch 32/50\n",
            "215/215 [==============================] - ETA: 0s - loss: 0.4845 - accuracy: 0.7781\n",
            "Epoch 32: val_accuracy did not improve from 0.78346\n",
            "215/215 [==============================] - 9s 41ms/step - loss: 0.4845 - accuracy: 0.7781 - val_loss: 0.4986 - val_accuracy: 0.7717\n",
            "Epoch 33/50\n",
            "214/215 [============================>.] - ETA: 0s - loss: 0.4765 - accuracy: 0.7815\n",
            "Epoch 33: val_accuracy did not improve from 0.78346\n",
            "215/215 [==============================] - 9s 42ms/step - loss: 0.4764 - accuracy: 0.7816 - val_loss: 0.4944 - val_accuracy: 0.7743\n",
            "Epoch 34/50\n",
            "215/215 [==============================] - ETA: 0s - loss: 0.4713 - accuracy: 0.7838\n",
            "Epoch 34: val_accuracy did not improve from 0.78346\n",
            "215/215 [==============================] - 9s 42ms/step - loss: 0.4713 - accuracy: 0.7838 - val_loss: 0.4904 - val_accuracy: 0.7835\n",
            "Epoch 35/50\n",
            "215/215 [==============================] - ETA: 0s - loss: 0.4676 - accuracy: 0.7832\n",
            "Epoch 35: val_accuracy did not improve from 0.78346\n",
            "215/215 [==============================] - 9s 42ms/step - loss: 0.4676 - accuracy: 0.7832 - val_loss: 0.4954 - val_accuracy: 0.7769\n",
            "Epoch 36/50\n",
            "214/215 [============================>.] - ETA: 0s - loss: 0.4654 - accuracy: 0.7868\n",
            "Epoch 36: val_accuracy did not improve from 0.78346\n",
            "215/215 [==============================] - 9s 41ms/step - loss: 0.4653 - accuracy: 0.7869 - val_loss: 0.4919 - val_accuracy: 0.7756\n",
            "Epoch 37/50\n",
            "215/215 [==============================] - ETA: 0s - loss: 0.4646 - accuracy: 0.7874\n",
            "Epoch 37: val_accuracy did not improve from 0.78346\n",
            "215/215 [==============================] - 9s 41ms/step - loss: 0.4646 - accuracy: 0.7874 - val_loss: 0.5012 - val_accuracy: 0.7612\n",
            "Epoch 38/50\n",
            "214/215 [============================>.] - ETA: 0s - loss: 0.4860 - accuracy: 0.7783\n",
            "Epoch 38: val_accuracy did not improve from 0.78346\n",
            "215/215 [==============================] - 9s 41ms/step - loss: 0.4860 - accuracy: 0.7784 - val_loss: 0.4992 - val_accuracy: 0.7769\n",
            "Epoch 39/50\n",
            "215/215 [==============================] - ETA: 0s - loss: 0.4612 - accuracy: 0.7883\n",
            "Epoch 39: val_accuracy did not improve from 0.78346\n",
            "215/215 [==============================] - 9s 41ms/step - loss: 0.4612 - accuracy: 0.7883 - val_loss: 0.4912 - val_accuracy: 0.7664\n",
            "Epoch 40/50\n",
            "215/215 [==============================] - ETA: 0s - loss: 0.4528 - accuracy: 0.7969\n",
            "Epoch 40: val_accuracy did not improve from 0.78346\n",
            "215/215 [==============================] - 9s 41ms/step - loss: 0.4528 - accuracy: 0.7969 - val_loss: 0.4853 - val_accuracy: 0.7782\n",
            "Epoch 41/50\n",
            "214/215 [============================>.] - ETA: 0s - loss: 0.4444 - accuracy: 0.8014\n",
            "Epoch 41: val_accuracy did not improve from 0.78346\n",
            "215/215 [==============================] - 9s 42ms/step - loss: 0.4443 - accuracy: 0.8015 - val_loss: 0.4910 - val_accuracy: 0.7717\n",
            "Epoch 42/50\n",
            "215/215 [==============================] - ETA: 0s - loss: 0.4437 - accuracy: 0.8009\n",
            "Epoch 42: val_accuracy did not improve from 0.78346\n",
            "215/215 [==============================] - 9s 41ms/step - loss: 0.4437 - accuracy: 0.8009 - val_loss: 0.4883 - val_accuracy: 0.7808\n",
            "Epoch 43/50\n",
            "214/215 [============================>.] - ETA: 0s - loss: 0.4404 - accuracy: 0.8010\n",
            "Epoch 43: val_accuracy did not improve from 0.78346\n",
            "215/215 [==============================] - 9s 42ms/step - loss: 0.4403 - accuracy: 0.8010 - val_loss: 0.4870 - val_accuracy: 0.7795\n",
            "Epoch 44/50\n",
            "214/215 [============================>.] - ETA: 0s - loss: 0.4342 - accuracy: 0.8055\n",
            "Epoch 44: val_accuracy did not improve from 0.78346\n",
            "215/215 [==============================] - 9s 42ms/step - loss: 0.4341 - accuracy: 0.8055 - val_loss: 0.4956 - val_accuracy: 0.7743\n",
            "Epoch 45/50\n",
            "214/215 [============================>.] - ETA: 0s - loss: 0.4305 - accuracy: 0.8088\n",
            "Epoch 45: val_accuracy did not improve from 0.78346\n",
            "215/215 [==============================] - 9s 41ms/step - loss: 0.4305 - accuracy: 0.8089 - val_loss: 0.5105 - val_accuracy: 0.7651\n",
            "Epoch 46/50\n",
            "214/215 [============================>.] - ETA: 0s - loss: 0.4404 - accuracy: 0.8011\n",
            "Epoch 46: val_accuracy did not improve from 0.78346\n",
            "215/215 [==============================] - 9s 42ms/step - loss: 0.4403 - accuracy: 0.8012 - val_loss: 0.4878 - val_accuracy: 0.7769\n",
            "Epoch 47/50\n",
            "214/215 [============================>.] - ETA: 0s - loss: 0.4268 - accuracy: 0.8112\n",
            "Epoch 47: val_accuracy did not improve from 0.78346\n",
            "215/215 [==============================] - 9s 41ms/step - loss: 0.4267 - accuracy: 0.8112 - val_loss: 0.4882 - val_accuracy: 0.7795\n",
            "Epoch 48/50\n",
            "215/215 [==============================] - ETA: 0s - loss: 0.4382 - accuracy: 0.8035\n",
            "Epoch 48: val_accuracy did not improve from 0.78346\n",
            "215/215 [==============================] - 9s 41ms/step - loss: 0.4382 - accuracy: 0.8035 - val_loss: 0.5030 - val_accuracy: 0.7585\n",
            "Epoch 49/50\n",
            "215/215 [==============================] - ETA: 0s - loss: 0.4219 - accuracy: 0.8155\n",
            "Epoch 49: val_accuracy did not improve from 0.78346\n",
            "215/215 [==============================] - 9s 41ms/step - loss: 0.4219 - accuracy: 0.8155 - val_loss: 0.4990 - val_accuracy: 0.7730\n",
            "Epoch 50/50\n",
            "215/215 [==============================] - ETA: 0s - loss: 0.4100 - accuracy: 0.8201\n",
            "Epoch 50: val_accuracy did not improve from 0.78346\n",
            "215/215 [==============================] - 9s 42ms/step - loss: 0.4100 - accuracy: 0.8201 - val_loss: 0.4970 - val_accuracy: 0.7795\n"
          ]
        }
      ],
      "source": [
        "history_5 = model_4.fit(train_dataset,\n",
        "                        epochs=50,\n",
        "                        steps_per_epoch = len(train_dataset),\n",
        "                        validation_data = test_dataset,\n",
        "                        validation_steps = len(test_dataset),\n",
        "                        callbacks = [create_model_checkpoint(\"bi_LSTM\")]\n",
        "                        )"
      ]
    },
    {
      "cell_type": "markdown",
      "metadata": {
        "id": "20elIWOTOyYu"
      },
      "source": [
        "#### GRU Unit"
      ]
    },
    {
      "cell_type": "code",
      "execution_count": null,
      "metadata": {
        "colab": {
          "base_uri": "https://localhost:8080/"
        },
        "id": "T_BnRogpND3e",
        "outputId": "80fb1995-fa02-4cd7-fa86-40d6048a3b5b"
      },
      "outputs": [
        {
          "name": "stdout",
          "output_type": "stream",
          "text": [
            "Model: \"model_4_USE\"\n",
            "_________________________________________________________________\n",
            " Layer (type)                Output Shape              Param #   \n",
            "=================================================================\n",
            " USE (KerasLayer)            (None, 512)               256797824 \n",
            "                                                                 \n",
            " reshape_26 (Reshape)        (None, 32, 16)            0         \n",
            "                                                                 \n",
            " gru_16 (GRU)                (None, 32, 32)            4800      \n",
            "                                                                 \n",
            " gru_17 (GRU)                (None, 32, 64)            18816     \n",
            "                                                                 \n",
            " max_pooling1d_38 (MaxPoolin  (None, 16, 64)           0         \n",
            " g1D)                                                            \n",
            "                                                                 \n",
            " dropout_83 (Dropout)        (None, 16, 64)            0         \n",
            "                                                                 \n",
            " batch_normalization_64 (Bat  (None, 16, 64)           256       \n",
            " chNormalization)                                                \n",
            "                                                                 \n",
            " gru_18 (GRU)                (None, 16, 128)           74496     \n",
            "                                                                 \n",
            " gru_19 (GRU)                (None, 16, 256)           296448    \n",
            "                                                                 \n",
            " dropout_84 (Dropout)        (None, 16, 256)           0         \n",
            "                                                                 \n",
            " global_average_pooling1d_24  (None, 256)              0         \n",
            "  (GlobalAveragePooling1D)                                       \n",
            "                                                                 \n",
            " dense_67 (Dense)            (None, 1)                 257       \n",
            "                                                                 \n",
            "=================================================================\n",
            "Total params: 257,192,897\n",
            "Trainable params: 394,945\n",
            "Non-trainable params: 256,797,952\n",
            "_________________________________________________________________\n"
          ]
        }
      ],
      "source": [
        "# Create model using the Sequential API\n",
        "model_4 = tf.keras.Sequential([\n",
        "  sentence_encoder_layer, # take in sentences and then encode them into an embedding\n",
        "  tfl.Reshape((32, 16), input_shape=(512,)),\n",
        "\n",
        "  tfl.GRU(32, return_sequences = True),\n",
        "  tfl.GRU(64, return_sequences = True),\n",
        "  tfl.MaxPool1D(2),\n",
        "  tfl.Dropout(0.8),\n",
        "  tfl.BatchNormalization(),\n",
        "\n",
        "   tfl.GRU(128, return_sequences = True),\n",
        "   tfl.GRU(256, return_sequences = True),\n",
        "   tfl.Dropout(0.8),\n",
        "\n",
        "    tfl.GlobalAveragePooling1D(),\n",
        "    # tfl.Dense(128, \"relu\"),\n",
        "    # tfl.Dropout(0.7),\n",
        "    # tfl.BatchNormalization(),\n",
        "    # tfl.Dense(256, \"relu\"),\n",
        "    # tfl.Dropout(0.8),\n",
        "  tfl.Dense(1, activation=\"sigmoid\")\n",
        "], name=\"model_4_USE\")\n",
        "\n",
        "# Compile model\n",
        "model_4.compile(loss=\"binary_crossentropy\",\n",
        "                optimizer=tf.keras.optimizers.Adam(),\n",
        "                metrics=[\"accuracy\"])\n",
        "\n",
        "model_4.summary()"
      ]
    },
    {
      "cell_type": "code",
      "execution_count": null,
      "metadata": {
        "colab": {
          "base_uri": "https://localhost:8080/"
        },
        "id": "yokMp6OmO9IQ",
        "outputId": "8a4affb7-b282-4280-e8fd-6e8e373b7979"
      },
      "outputs": [
        {
          "name": "stdout",
          "output_type": "stream",
          "text": [
            "Epoch 1/10\n",
            "215/215 [==============================] - 13s 27ms/step - loss: 0.6322 - accuracy: 0.6474 - val_loss: 0.6650 - val_accuracy: 0.6273\n",
            "Epoch 2/10\n",
            "215/215 [==============================] - 4s 20ms/step - loss: 0.6063 - accuracy: 0.6766 - val_loss: 0.6379 - val_accuracy: 0.6417\n",
            "Epoch 3/10\n",
            "215/215 [==============================] - 4s 20ms/step - loss: 0.5795 - accuracy: 0.7016 - val_loss: 0.8994 - val_accuracy: 0.5656\n",
            "Epoch 4/10\n",
            "215/215 [==============================] - 4s 20ms/step - loss: 0.5743 - accuracy: 0.7091 - val_loss: 0.6543 - val_accuracy: 0.5971\n",
            "Epoch 5/10\n",
            "215/215 [==============================] - 4s 19ms/step - loss: 0.5537 - accuracy: 0.7280 - val_loss: 0.6966 - val_accuracy: 0.6430\n",
            "Epoch 6/10\n",
            "215/215 [==============================] - 4s 19ms/step - loss: 0.5502 - accuracy: 0.7293 - val_loss: 0.5797 - val_accuracy: 0.7126\n",
            "Epoch 7/10\n",
            "215/215 [==============================] - 4s 19ms/step - loss: 0.5434 - accuracy: 0.7366 - val_loss: 0.5244 - val_accuracy: 0.7493\n",
            "Epoch 8/10\n",
            "215/215 [==============================] - 4s 19ms/step - loss: 0.5354 - accuracy: 0.7423 - val_loss: 0.5443 - val_accuracy: 0.7323\n",
            "Epoch 9/10\n",
            "215/215 [==============================] - 4s 19ms/step - loss: 0.5242 - accuracy: 0.7498 - val_loss: 0.5473 - val_accuracy: 0.7375\n",
            "Epoch 10/10\n",
            "215/215 [==============================] - 4s 19ms/step - loss: 0.5187 - accuracy: 0.7572 - val_loss: 0.5078 - val_accuracy: 0.7690\n"
          ]
        }
      ],
      "source": [
        "history_5 = model_4.fit(train_dataset,\n",
        "                        epochs=10,\n",
        "                        steps_per_epoch = len(train_dataset),\n",
        "                        validation_data = test_dataset,\n",
        "                        validation_steps = len(test_dataset),\n",
        "                        # callbacks = [create_model_checkpoint(\"conv\")]\n",
        "                        )"
      ]
    },
    {
      "cell_type": "markdown",
      "metadata": {
        "id": "RXCp1CshQaQH"
      },
      "source": [
        "Interesting! Let's fit for some more epochs."
      ]
    },
    {
      "cell_type": "code",
      "execution_count": null,
      "metadata": {
        "colab": {
          "base_uri": "https://localhost:8080/"
        },
        "id": "6X4aRPFqPISP",
        "outputId": "45a5ffc3-82e5-4205-da16-4a070c8e1503"
      },
      "outputs": [
        {
          "name": "stdout",
          "output_type": "stream",
          "text": [
            "Saving model checkpoint to: tweets/GRU\n",
            "Epoch 1/50\n",
            "214/215 [============================>.] - ETA: 0s - loss: 0.5128 - accuracy: 0.7605\n",
            "Epoch 1: val_accuracy improved from -inf to 0.76640, saving model to tweets/GRU\n"
          ]
        },
        {
          "name": "stderr",
          "output_type": "stream",
          "text": [
            "WARNING:absl:Function `_wrapped_model` contains input name(s) USE_input with unsupported characters which will be renamed to use_input in the SavedModel.\n",
            "WARNING:absl:Found untraced functions such as gru_cell_16_layer_call_fn, gru_cell_16_layer_call_and_return_conditional_losses, gru_cell_17_layer_call_fn, gru_cell_17_layer_call_and_return_conditional_losses, gru_cell_18_layer_call_fn while saving (showing 5 of 8). These functions will not be directly callable after loading.\n"
          ]
        },
        {
          "name": "stdout",
          "output_type": "stream",
          "text": [
            "INFO:tensorflow:Assets written to: tweets/GRU/assets\n"
          ]
        },
        {
          "name": "stderr",
          "output_type": "stream",
          "text": [
            "INFO:tensorflow:Assets written to: tweets/GRU/assets\n",
            "WARNING:absl:<keras.layers.recurrent.GRUCell object at 0x7f199e0a5090> has the same name 'GRUCell' as a built-in Keras object. Consider renaming <class 'keras.layers.recurrent.GRUCell'> to avoid naming conflicts when loading with `tf.keras.models.load_model`. If renaming is not possible, pass the object in the `custom_objects` parameter of the load function.\n",
            "WARNING:absl:<keras.layers.recurrent.GRUCell object at 0x7f18fe441590> has the same name 'GRUCell' as a built-in Keras object. Consider renaming <class 'keras.layers.recurrent.GRUCell'> to avoid naming conflicts when loading with `tf.keras.models.load_model`. If renaming is not possible, pass the object in the `custom_objects` parameter of the load function.\n",
            "WARNING:absl:<keras.layers.recurrent.GRUCell object at 0x7f18fe7caa90> has the same name 'GRUCell' as a built-in Keras object. Consider renaming <class 'keras.layers.recurrent.GRUCell'> to avoid naming conflicts when loading with `tf.keras.models.load_model`. If renaming is not possible, pass the object in the `custom_objects` parameter of the load function.\n",
            "WARNING:absl:<keras.layers.recurrent.GRUCell object at 0x7f19a0b6e7d0> has the same name 'GRUCell' as a built-in Keras object. Consider renaming <class 'keras.layers.recurrent.GRUCell'> to avoid naming conflicts when loading with `tf.keras.models.load_model`. If renaming is not possible, pass the object in the `custom_objects` parameter of the load function.\n"
          ]
        },
        {
          "name": "stdout",
          "output_type": "stream",
          "text": [
            "\b\b\b\b\b\b\b\b\b\b\b\b\b\b\b\b\b\b\b\b\b\b\b\b\b\b\b\b\b\b\b\b\b\b\b\b\b\b\b\b\b\b\b\b\b\b\b\b\b\b\b\b\b\b\b\b\b\b\b\b\b\b\b\b\b\b\b\b\b\b\b\b\b\b\b\b\b\b\b\b\b\b\b\b\r215/215 [==============================] - 25s 116ms/step - loss: 0.5128 - accuracy: 0.7604 - val_loss: 0.5063 - val_accuracy: 0.7664\n",
            "Epoch 2/50\n",
            "214/215 [============================>.] - ETA: 0s - loss: 0.5088 - accuracy: 0.7629\n",
            "Epoch 2: val_accuracy improved from 0.76640 to 0.76903, saving model to tweets/GRU\n"
          ]
        },
        {
          "name": "stderr",
          "output_type": "stream",
          "text": [
            "WARNING:absl:Function `_wrapped_model` contains input name(s) USE_input with unsupported characters which will be renamed to use_input in the SavedModel.\n",
            "WARNING:absl:Found untraced functions such as gru_cell_16_layer_call_fn, gru_cell_16_layer_call_and_return_conditional_losses, gru_cell_17_layer_call_fn, gru_cell_17_layer_call_and_return_conditional_losses, gru_cell_18_layer_call_fn while saving (showing 5 of 8). These functions will not be directly callable after loading.\n"
          ]
        },
        {
          "name": "stdout",
          "output_type": "stream",
          "text": [
            "INFO:tensorflow:Assets written to: tweets/GRU/assets\n"
          ]
        },
        {
          "name": "stderr",
          "output_type": "stream",
          "text": [
            "INFO:tensorflow:Assets written to: tweets/GRU/assets\n",
            "WARNING:absl:<keras.layers.recurrent.GRUCell object at 0x7f199e0a5090> has the same name 'GRUCell' as a built-in Keras object. Consider renaming <class 'keras.layers.recurrent.GRUCell'> to avoid naming conflicts when loading with `tf.keras.models.load_model`. If renaming is not possible, pass the object in the `custom_objects` parameter of the load function.\n",
            "WARNING:absl:<keras.layers.recurrent.GRUCell object at 0x7f18fe441590> has the same name 'GRUCell' as a built-in Keras object. Consider renaming <class 'keras.layers.recurrent.GRUCell'> to avoid naming conflicts when loading with `tf.keras.models.load_model`. If renaming is not possible, pass the object in the `custom_objects` parameter of the load function.\n",
            "WARNING:absl:<keras.layers.recurrent.GRUCell object at 0x7f18fe7caa90> has the same name 'GRUCell' as a built-in Keras object. Consider renaming <class 'keras.layers.recurrent.GRUCell'> to avoid naming conflicts when loading with `tf.keras.models.load_model`. If renaming is not possible, pass the object in the `custom_objects` parameter of the load function.\n",
            "WARNING:absl:<keras.layers.recurrent.GRUCell object at 0x7f19a0b6e7d0> has the same name 'GRUCell' as a built-in Keras object. Consider renaming <class 'keras.layers.recurrent.GRUCell'> to avoid naming conflicts when loading with `tf.keras.models.load_model`. If renaming is not possible, pass the object in the `custom_objects` parameter of the load function.\n"
          ]
        },
        {
          "name": "stdout",
          "output_type": "stream",
          "text": [
            "\b\b\b\b\b\b\b\b\b\b\b\b\b\b\b\b\b\b\b\b\b\b\b\b\b\b\b\b\b\b\b\b\b\b\b\b\b\b\b\b\b\b\b\b\b\b\b\b\b\b\b\b\b\b\b\b\b\b\b\b\b\b\b\b\b\b\b\b\b\b\b\b\b\b\b\b\b\b\b\b\b\b\b\b\r215/215 [==============================] - 25s 116ms/step - loss: 0.5088 - accuracy: 0.7628 - val_loss: 0.5056 - val_accuracy: 0.7690\n",
            "Epoch 3/50\n",
            "213/215 [============================>.] - ETA: 0s - loss: 0.5092 - accuracy: 0.7653\n",
            "Epoch 3: val_accuracy did not improve from 0.76903\n",
            "215/215 [==============================] - 4s 20ms/step - loss: 0.5091 - accuracy: 0.7654 - val_loss: 0.5574 - val_accuracy: 0.7270\n",
            "Epoch 4/50\n",
            "214/215 [============================>.] - ETA: 0s - loss: 0.5006 - accuracy: 0.7751\n",
            "Epoch 4: val_accuracy did not improve from 0.76903\n",
            "215/215 [==============================] - 4s 20ms/step - loss: 0.5007 - accuracy: 0.7750 - val_loss: 0.5295 - val_accuracy: 0.7533\n",
            "Epoch 5/50\n",
            "213/215 [============================>.] - ETA: 0s - loss: 0.4979 - accuracy: 0.7732\n",
            "Epoch 5: val_accuracy did not improve from 0.76903\n",
            "215/215 [==============================] - 4s 19ms/step - loss: 0.4977 - accuracy: 0.7733 - val_loss: 0.5205 - val_accuracy: 0.7441\n",
            "Epoch 6/50\n",
            "214/215 [============================>.] - ETA: 0s - loss: 0.4931 - accuracy: 0.7722\n",
            "Epoch 6: val_accuracy improved from 0.76903 to 0.77034, saving model to tweets/GRU\n"
          ]
        },
        {
          "name": "stderr",
          "output_type": "stream",
          "text": [
            "WARNING:absl:Function `_wrapped_model` contains input name(s) USE_input with unsupported characters which will be renamed to use_input in the SavedModel.\n",
            "WARNING:absl:Found untraced functions such as gru_cell_16_layer_call_fn, gru_cell_16_layer_call_and_return_conditional_losses, gru_cell_17_layer_call_fn, gru_cell_17_layer_call_and_return_conditional_losses, gru_cell_18_layer_call_fn while saving (showing 5 of 8). These functions will not be directly callable after loading.\n"
          ]
        },
        {
          "name": "stdout",
          "output_type": "stream",
          "text": [
            "INFO:tensorflow:Assets written to: tweets/GRU/assets\n"
          ]
        },
        {
          "name": "stderr",
          "output_type": "stream",
          "text": [
            "INFO:tensorflow:Assets written to: tweets/GRU/assets\n",
            "WARNING:absl:<keras.layers.recurrent.GRUCell object at 0x7f199e0a5090> has the same name 'GRUCell' as a built-in Keras object. Consider renaming <class 'keras.layers.recurrent.GRUCell'> to avoid naming conflicts when loading with `tf.keras.models.load_model`. If renaming is not possible, pass the object in the `custom_objects` parameter of the load function.\n",
            "WARNING:absl:<keras.layers.recurrent.GRUCell object at 0x7f18fe441590> has the same name 'GRUCell' as a built-in Keras object. Consider renaming <class 'keras.layers.recurrent.GRUCell'> to avoid naming conflicts when loading with `tf.keras.models.load_model`. If renaming is not possible, pass the object in the `custom_objects` parameter of the load function.\n",
            "WARNING:absl:<keras.layers.recurrent.GRUCell object at 0x7f18fe7caa90> has the same name 'GRUCell' as a built-in Keras object. Consider renaming <class 'keras.layers.recurrent.GRUCell'> to avoid naming conflicts when loading with `tf.keras.models.load_model`. If renaming is not possible, pass the object in the `custom_objects` parameter of the load function.\n",
            "WARNING:absl:<keras.layers.recurrent.GRUCell object at 0x7f19a0b6e7d0> has the same name 'GRUCell' as a built-in Keras object. Consider renaming <class 'keras.layers.recurrent.GRUCell'> to avoid naming conflicts when loading with `tf.keras.models.load_model`. If renaming is not possible, pass the object in the `custom_objects` parameter of the load function.\n"
          ]
        },
        {
          "name": "stdout",
          "output_type": "stream",
          "text": [
            "\b\b\b\b\b\b\b\b\b\b\b\b\b\b\b\b\b\b\b\b\b\b\b\b\b\b\b\b\b\b\b\b\b\b\b\b\b\b\b\b\b\b\b\b\b\b\b\b\b\b\b\b\b\b\b\b\b\b\b\b\b\b\b\b\b\b\b\b\b\b\b\b\b\b\b\b\b\b\b\b\b\b\b\b\r215/215 [==============================] - 25s 116ms/step - loss: 0.4931 - accuracy: 0.7721 - val_loss: 0.5007 - val_accuracy: 0.7703\n",
            "Epoch 7/50\n",
            "214/215 [============================>.] - ETA: 0s - loss: 0.4928 - accuracy: 0.7791\n",
            "Epoch 7: val_accuracy did not improve from 0.77034\n",
            "215/215 [==============================] - 4s 20ms/step - loss: 0.4928 - accuracy: 0.7790 - val_loss: 0.5747 - val_accuracy: 0.7165\n",
            "Epoch 8/50\n",
            "214/215 [============================>.] - ETA: 0s - loss: 0.4881 - accuracy: 0.7761\n",
            "Epoch 8: val_accuracy improved from 0.77034 to 0.78609, saving model to tweets/GRU\n"
          ]
        },
        {
          "name": "stderr",
          "output_type": "stream",
          "text": [
            "WARNING:absl:Function `_wrapped_model` contains input name(s) USE_input with unsupported characters which will be renamed to use_input in the SavedModel.\n",
            "WARNING:absl:Found untraced functions such as gru_cell_16_layer_call_fn, gru_cell_16_layer_call_and_return_conditional_losses, gru_cell_17_layer_call_fn, gru_cell_17_layer_call_and_return_conditional_losses, gru_cell_18_layer_call_fn while saving (showing 5 of 8). These functions will not be directly callable after loading.\n"
          ]
        },
        {
          "name": "stdout",
          "output_type": "stream",
          "text": [
            "INFO:tensorflow:Assets written to: tweets/GRU/assets\n"
          ]
        },
        {
          "name": "stderr",
          "output_type": "stream",
          "text": [
            "INFO:tensorflow:Assets written to: tweets/GRU/assets\n",
            "WARNING:absl:<keras.layers.recurrent.GRUCell object at 0x7f199e0a5090> has the same name 'GRUCell' as a built-in Keras object. Consider renaming <class 'keras.layers.recurrent.GRUCell'> to avoid naming conflicts when loading with `tf.keras.models.load_model`. If renaming is not possible, pass the object in the `custom_objects` parameter of the load function.\n",
            "WARNING:absl:<keras.layers.recurrent.GRUCell object at 0x7f18fe441590> has the same name 'GRUCell' as a built-in Keras object. Consider renaming <class 'keras.layers.recurrent.GRUCell'> to avoid naming conflicts when loading with `tf.keras.models.load_model`. If renaming is not possible, pass the object in the `custom_objects` parameter of the load function.\n",
            "WARNING:absl:<keras.layers.recurrent.GRUCell object at 0x7f18fe7caa90> has the same name 'GRUCell' as a built-in Keras object. Consider renaming <class 'keras.layers.recurrent.GRUCell'> to avoid naming conflicts when loading with `tf.keras.models.load_model`. If renaming is not possible, pass the object in the `custom_objects` parameter of the load function.\n",
            "WARNING:absl:<keras.layers.recurrent.GRUCell object at 0x7f19a0b6e7d0> has the same name 'GRUCell' as a built-in Keras object. Consider renaming <class 'keras.layers.recurrent.GRUCell'> to avoid naming conflicts when loading with `tf.keras.models.load_model`. If renaming is not possible, pass the object in the `custom_objects` parameter of the load function.\n"
          ]
        },
        {
          "name": "stdout",
          "output_type": "stream",
          "text": [
            "\b\b\b\b\b\b\b\b\b\b\b\b\b\b\b\b\b\b\b\b\b\b\b\b\b\b\b\b\b\b\b\b\b\b\b\b\b\b\b\b\b\b\b\b\b\b\b\b\b\b\b\b\b\b\b\b\b\b\b\b\b\b\b\b\b\b\b\b\b\b\b\b\b\b\b\b\b\b\b\b\b\b\b\b\r215/215 [==============================] - 26s 120ms/step - loss: 0.4881 - accuracy: 0.7761 - val_loss: 0.4886 - val_accuracy: 0.7861\n",
            "Epoch 9/50\n",
            "214/215 [============================>.] - ETA: 0s - loss: 0.4911 - accuracy: 0.7744\n",
            "Epoch 9: val_accuracy did not improve from 0.78609\n",
            "215/215 [==============================] - 4s 19ms/step - loss: 0.4911 - accuracy: 0.7743 - val_loss: 0.4871 - val_accuracy: 0.7835\n",
            "Epoch 10/50\n",
            "214/215 [============================>.] - ETA: 0s - loss: 0.4821 - accuracy: 0.7812\n",
            "Epoch 10: val_accuracy improved from 0.78609 to 0.78871, saving model to tweets/GRU\n"
          ]
        },
        {
          "name": "stderr",
          "output_type": "stream",
          "text": [
            "WARNING:absl:Function `_wrapped_model` contains input name(s) USE_input with unsupported characters which will be renamed to use_input in the SavedModel.\n",
            "WARNING:absl:Found untraced functions such as gru_cell_16_layer_call_fn, gru_cell_16_layer_call_and_return_conditional_losses, gru_cell_17_layer_call_fn, gru_cell_17_layer_call_and_return_conditional_losses, gru_cell_18_layer_call_fn while saving (showing 5 of 8). These functions will not be directly callable after loading.\n"
          ]
        },
        {
          "name": "stdout",
          "output_type": "stream",
          "text": [
            "INFO:tensorflow:Assets written to: tweets/GRU/assets\n"
          ]
        },
        {
          "name": "stderr",
          "output_type": "stream",
          "text": [
            "INFO:tensorflow:Assets written to: tweets/GRU/assets\n",
            "WARNING:absl:<keras.layers.recurrent.GRUCell object at 0x7f199e0a5090> has the same name 'GRUCell' as a built-in Keras object. Consider renaming <class 'keras.layers.recurrent.GRUCell'> to avoid naming conflicts when loading with `tf.keras.models.load_model`. If renaming is not possible, pass the object in the `custom_objects` parameter of the load function.\n",
            "WARNING:absl:<keras.layers.recurrent.GRUCell object at 0x7f18fe441590> has the same name 'GRUCell' as a built-in Keras object. Consider renaming <class 'keras.layers.recurrent.GRUCell'> to avoid naming conflicts when loading with `tf.keras.models.load_model`. If renaming is not possible, pass the object in the `custom_objects` parameter of the load function.\n",
            "WARNING:absl:<keras.layers.recurrent.GRUCell object at 0x7f18fe7caa90> has the same name 'GRUCell' as a built-in Keras object. Consider renaming <class 'keras.layers.recurrent.GRUCell'> to avoid naming conflicts when loading with `tf.keras.models.load_model`. If renaming is not possible, pass the object in the `custom_objects` parameter of the load function.\n",
            "WARNING:absl:<keras.layers.recurrent.GRUCell object at 0x7f19a0b6e7d0> has the same name 'GRUCell' as a built-in Keras object. Consider renaming <class 'keras.layers.recurrent.GRUCell'> to avoid naming conflicts when loading with `tf.keras.models.load_model`. If renaming is not possible, pass the object in the `custom_objects` parameter of the load function.\n"
          ]
        },
        {
          "name": "stdout",
          "output_type": "stream",
          "text": [
            "\b\b\b\b\b\b\b\b\b\b\b\b\b\b\b\b\b\b\b\b\b\b\b\b\b\b\b\b\b\b\b\b\b\b\b\b\b\b\b\b\b\b\b\b\b\b\b\b\b\b\b\b\b\b\b\b\b\b\b\b\b\b\b\b\b\b\b\b\b\b\b\b\b\b\b\b\b\b\b\b\b\b\b\b\r215/215 [==============================] - 26s 123ms/step - loss: 0.4820 - accuracy: 0.7813 - val_loss: 0.4922 - val_accuracy: 0.7887\n",
            "Epoch 11/50\n",
            "213/215 [============================>.] - ETA: 0s - loss: 0.4791 - accuracy: 0.7807\n",
            "Epoch 11: val_accuracy did not improve from 0.78871\n",
            "215/215 [==============================] - 4s 20ms/step - loss: 0.4789 - accuracy: 0.7810 - val_loss: 0.4830 - val_accuracy: 0.7822\n",
            "Epoch 12/50\n",
            "214/215 [============================>.] - ETA: 0s - loss: 0.4742 - accuracy: 0.7846\n",
            "Epoch 12: val_accuracy improved from 0.78871 to 0.79134, saving model to tweets/GRU\n"
          ]
        },
        {
          "name": "stderr",
          "output_type": "stream",
          "text": [
            "WARNING:absl:Function `_wrapped_model` contains input name(s) USE_input with unsupported characters which will be renamed to use_input in the SavedModel.\n",
            "WARNING:absl:Found untraced functions such as gru_cell_16_layer_call_fn, gru_cell_16_layer_call_and_return_conditional_losses, gru_cell_17_layer_call_fn, gru_cell_17_layer_call_and_return_conditional_losses, gru_cell_18_layer_call_fn while saving (showing 5 of 8). These functions will not be directly callable after loading.\n"
          ]
        },
        {
          "name": "stdout",
          "output_type": "stream",
          "text": [
            "INFO:tensorflow:Assets written to: tweets/GRU/assets\n"
          ]
        },
        {
          "name": "stderr",
          "output_type": "stream",
          "text": [
            "INFO:tensorflow:Assets written to: tweets/GRU/assets\n",
            "WARNING:absl:<keras.layers.recurrent.GRUCell object at 0x7f199e0a5090> has the same name 'GRUCell' as a built-in Keras object. Consider renaming <class 'keras.layers.recurrent.GRUCell'> to avoid naming conflicts when loading with `tf.keras.models.load_model`. If renaming is not possible, pass the object in the `custom_objects` parameter of the load function.\n",
            "WARNING:absl:<keras.layers.recurrent.GRUCell object at 0x7f18fe441590> has the same name 'GRUCell' as a built-in Keras object. Consider renaming <class 'keras.layers.recurrent.GRUCell'> to avoid naming conflicts when loading with `tf.keras.models.load_model`. If renaming is not possible, pass the object in the `custom_objects` parameter of the load function.\n",
            "WARNING:absl:<keras.layers.recurrent.GRUCell object at 0x7f18fe7caa90> has the same name 'GRUCell' as a built-in Keras object. Consider renaming <class 'keras.layers.recurrent.GRUCell'> to avoid naming conflicts when loading with `tf.keras.models.load_model`. If renaming is not possible, pass the object in the `custom_objects` parameter of the load function.\n",
            "WARNING:absl:<keras.layers.recurrent.GRUCell object at 0x7f19a0b6e7d0> has the same name 'GRUCell' as a built-in Keras object. Consider renaming <class 'keras.layers.recurrent.GRUCell'> to avoid naming conflicts when loading with `tf.keras.models.load_model`. If renaming is not possible, pass the object in the `custom_objects` parameter of the load function.\n"
          ]
        },
        {
          "name": "stdout",
          "output_type": "stream",
          "text": [
            "\b\b\b\b\b\b\b\b\b\b\b\b\b\b\b\b\b\b\b\b\b\b\b\b\b\b\b\b\b\b\b\b\b\b\b\b\b\b\b\b\b\b\b\b\b\b\b\b\b\b\b\b\b\b\b\b\b\b\b\b\b\b\b\b\b\b\b\b\b\b\b\b\b\b\b\b\b\b\b\b\b\b\b\b\r215/215 [==============================] - 25s 117ms/step - loss: 0.4742 - accuracy: 0.7847 - val_loss: 0.4916 - val_accuracy: 0.7913\n",
            "Epoch 13/50\n",
            "214/215 [============================>.] - ETA: 0s - loss: 0.4742 - accuracy: 0.7846\n",
            "Epoch 13: val_accuracy did not improve from 0.79134\n",
            "215/215 [==============================] - 4s 20ms/step - loss: 0.4742 - accuracy: 0.7845 - val_loss: 0.4920 - val_accuracy: 0.7546\n",
            "Epoch 14/50\n",
            "213/215 [============================>.] - ETA: 0s - loss: 0.4702 - accuracy: 0.7858\n",
            "Epoch 14: val_accuracy did not improve from 0.79134\n",
            "215/215 [==============================] - 4s 19ms/step - loss: 0.4702 - accuracy: 0.7860 - val_loss: 0.5031 - val_accuracy: 0.7861\n",
            "Epoch 15/50\n",
            "214/215 [============================>.] - ETA: 0s - loss: 0.4682 - accuracy: 0.7909\n",
            "Epoch 15: val_accuracy did not improve from 0.79134\n",
            "215/215 [==============================] - 4s 20ms/step - loss: 0.4682 - accuracy: 0.7909 - val_loss: 0.4858 - val_accuracy: 0.7900\n",
            "Epoch 16/50\n",
            "215/215 [==============================] - ETA: 0s - loss: 0.4555 - accuracy: 0.7962\n",
            "Epoch 16: val_accuracy improved from 0.79134 to 0.79790, saving model to tweets/GRU\n"
          ]
        },
        {
          "name": "stderr",
          "output_type": "stream",
          "text": [
            "WARNING:absl:Function `_wrapped_model` contains input name(s) USE_input with unsupported characters which will be renamed to use_input in the SavedModel.\n",
            "WARNING:absl:Found untraced functions such as gru_cell_16_layer_call_fn, gru_cell_16_layer_call_and_return_conditional_losses, gru_cell_17_layer_call_fn, gru_cell_17_layer_call_and_return_conditional_losses, gru_cell_18_layer_call_fn while saving (showing 5 of 8). These functions will not be directly callable after loading.\n"
          ]
        },
        {
          "name": "stdout",
          "output_type": "stream",
          "text": [
            "INFO:tensorflow:Assets written to: tweets/GRU/assets\n"
          ]
        },
        {
          "name": "stderr",
          "output_type": "stream",
          "text": [
            "INFO:tensorflow:Assets written to: tweets/GRU/assets\n",
            "WARNING:absl:<keras.layers.recurrent.GRUCell object at 0x7f199e0a5090> has the same name 'GRUCell' as a built-in Keras object. Consider renaming <class 'keras.layers.recurrent.GRUCell'> to avoid naming conflicts when loading with `tf.keras.models.load_model`. If renaming is not possible, pass the object in the `custom_objects` parameter of the load function.\n",
            "WARNING:absl:<keras.layers.recurrent.GRUCell object at 0x7f18fe441590> has the same name 'GRUCell' as a built-in Keras object. Consider renaming <class 'keras.layers.recurrent.GRUCell'> to avoid naming conflicts when loading with `tf.keras.models.load_model`. If renaming is not possible, pass the object in the `custom_objects` parameter of the load function.\n",
            "WARNING:absl:<keras.layers.recurrent.GRUCell object at 0x7f18fe7caa90> has the same name 'GRUCell' as a built-in Keras object. Consider renaming <class 'keras.layers.recurrent.GRUCell'> to avoid naming conflicts when loading with `tf.keras.models.load_model`. If renaming is not possible, pass the object in the `custom_objects` parameter of the load function.\n",
            "WARNING:absl:<keras.layers.recurrent.GRUCell object at 0x7f19a0b6e7d0> has the same name 'GRUCell' as a built-in Keras object. Consider renaming <class 'keras.layers.recurrent.GRUCell'> to avoid naming conflicts when loading with `tf.keras.models.load_model`. If renaming is not possible, pass the object in the `custom_objects` parameter of the load function.\n"
          ]
        },
        {
          "name": "stdout",
          "output_type": "stream",
          "text": [
            "\b\b\b\b\b\b\b\b\b\b\b\b\b\b\b\b\b\b\b\b\b\b\b\b\b\b\b\b\b\b\b\b\b\b\b\b\b\b\b\b\b\b\b\b\b\b\b\b\b\b\b\b\b\b\b\b\b\b\b\b\b\b\b\b\b\b\b\b\b\b\b\b\b\b\b\b\b\b\b\b\b\b\b\b\r215/215 [==============================] - 25s 117ms/step - loss: 0.4555 - accuracy: 0.7962 - val_loss: 0.4683 - val_accuracy: 0.7979\n",
            "Epoch 17/50\n",
            "214/215 [============================>.] - ETA: 0s - loss: 0.4606 - accuracy: 0.7903\n",
            "Epoch 17: val_accuracy did not improve from 0.79790\n",
            "215/215 [==============================] - 4s 19ms/step - loss: 0.4606 - accuracy: 0.7904 - val_loss: 0.4744 - val_accuracy: 0.7782\n",
            "Epoch 18/50\n",
            "214/215 [============================>.] - ETA: 0s - loss: 0.4578 - accuracy: 0.7959\n",
            "Epoch 18: val_accuracy did not improve from 0.79790\n",
            "215/215 [==============================] - 4s 19ms/step - loss: 0.4578 - accuracy: 0.7958 - val_loss: 0.4921 - val_accuracy: 0.7835\n",
            "Epoch 19/50\n",
            "214/215 [============================>.] - ETA: 0s - loss: 0.4535 - accuracy: 0.7956\n",
            "Epoch 19: val_accuracy did not improve from 0.79790\n",
            "215/215 [==============================] - 4s 19ms/step - loss: 0.4535 - accuracy: 0.7955 - val_loss: 0.4856 - val_accuracy: 0.7769\n",
            "Epoch 20/50\n",
            "215/215 [==============================] - ETA: 0s - loss: 0.4553 - accuracy: 0.7964\n",
            "Epoch 20: val_accuracy did not improve from 0.79790\n",
            "215/215 [==============================] - 4s 19ms/step - loss: 0.4553 - accuracy: 0.7964 - val_loss: 0.4766 - val_accuracy: 0.7769\n",
            "Epoch 21/50\n",
            "214/215 [============================>.] - ETA: 0s - loss: 0.4484 - accuracy: 0.8010\n",
            "Epoch 21: val_accuracy did not improve from 0.79790\n",
            "215/215 [==============================] - 4s 19ms/step - loss: 0.4483 - accuracy: 0.8010 - val_loss: 0.4589 - val_accuracy: 0.7940\n",
            "Epoch 22/50\n",
            "215/215 [==============================] - ETA: 0s - loss: 0.4483 - accuracy: 0.8026\n",
            "Epoch 22: val_accuracy improved from 0.79790 to 0.79921, saving model to tweets/GRU\n"
          ]
        },
        {
          "name": "stderr",
          "output_type": "stream",
          "text": [
            "WARNING:absl:Function `_wrapped_model` contains input name(s) USE_input with unsupported characters which will be renamed to use_input in the SavedModel.\n",
            "WARNING:absl:Found untraced functions such as gru_cell_16_layer_call_fn, gru_cell_16_layer_call_and_return_conditional_losses, gru_cell_17_layer_call_fn, gru_cell_17_layer_call_and_return_conditional_losses, gru_cell_18_layer_call_fn while saving (showing 5 of 8). These functions will not be directly callable after loading.\n"
          ]
        },
        {
          "name": "stdout",
          "output_type": "stream",
          "text": [
            "INFO:tensorflow:Assets written to: tweets/GRU/assets\n"
          ]
        },
        {
          "name": "stderr",
          "output_type": "stream",
          "text": [
            "INFO:tensorflow:Assets written to: tweets/GRU/assets\n",
            "WARNING:absl:<keras.layers.recurrent.GRUCell object at 0x7f199e0a5090> has the same name 'GRUCell' as a built-in Keras object. Consider renaming <class 'keras.layers.recurrent.GRUCell'> to avoid naming conflicts when loading with `tf.keras.models.load_model`. If renaming is not possible, pass the object in the `custom_objects` parameter of the load function.\n",
            "WARNING:absl:<keras.layers.recurrent.GRUCell object at 0x7f18fe441590> has the same name 'GRUCell' as a built-in Keras object. Consider renaming <class 'keras.layers.recurrent.GRUCell'> to avoid naming conflicts when loading with `tf.keras.models.load_model`. If renaming is not possible, pass the object in the `custom_objects` parameter of the load function.\n",
            "WARNING:absl:<keras.layers.recurrent.GRUCell object at 0x7f18fe7caa90> has the same name 'GRUCell' as a built-in Keras object. Consider renaming <class 'keras.layers.recurrent.GRUCell'> to avoid naming conflicts when loading with `tf.keras.models.load_model`. If renaming is not possible, pass the object in the `custom_objects` parameter of the load function.\n",
            "WARNING:absl:<keras.layers.recurrent.GRUCell object at 0x7f19a0b6e7d0> has the same name 'GRUCell' as a built-in Keras object. Consider renaming <class 'keras.layers.recurrent.GRUCell'> to avoid naming conflicts when loading with `tf.keras.models.load_model`. If renaming is not possible, pass the object in the `custom_objects` parameter of the load function.\n"
          ]
        },
        {
          "name": "stdout",
          "output_type": "stream",
          "text": [
            "\b\b\b\b\b\b\b\b\b\b\b\b\b\b\b\b\b\b\b\b\b\b\b\b\b\b\b\b\b\b\b\b\b\b\b\b\b\b\b\b\b\b\b\b\b\b\b\b\b\b\b\b\b\b\b\b\b\b\b\b\b\b\b\b\b\b\b\b\b\b\b\b\b\b\b\b\b\b\b\b\b\b\b\b\r215/215 [==============================] - 25s 116ms/step - loss: 0.4483 - accuracy: 0.8026 - val_loss: 0.4616 - val_accuracy: 0.7992\n",
            "Epoch 23/50\n",
            "213/215 [============================>.] - ETA: 0s - loss: 0.4463 - accuracy: 0.7990\n",
            "Epoch 23: val_accuracy did not improve from 0.79921\n",
            "215/215 [==============================] - 4s 20ms/step - loss: 0.4462 - accuracy: 0.7990 - val_loss: 0.4680 - val_accuracy: 0.7887\n",
            "Epoch 24/50\n",
            "214/215 [============================>.] - ETA: 0s - loss: 0.4383 - accuracy: 0.8056\n",
            "Epoch 24: val_accuracy did not improve from 0.79921\n",
            "215/215 [==============================] - 4s 20ms/step - loss: 0.4383 - accuracy: 0.8057 - val_loss: 0.4577 - val_accuracy: 0.7874\n",
            "Epoch 25/50\n",
            "214/215 [============================>.] - ETA: 0s - loss: 0.4424 - accuracy: 0.8015\n",
            "Epoch 25: val_accuracy did not improve from 0.79921\n",
            "215/215 [==============================] - 4s 20ms/step - loss: 0.4424 - accuracy: 0.8015 - val_loss: 0.4585 - val_accuracy: 0.7874\n",
            "Epoch 26/50\n",
            "214/215 [============================>.] - ETA: 0s - loss: 0.4390 - accuracy: 0.8008\n",
            "Epoch 26: val_accuracy did not improve from 0.79921\n",
            "215/215 [==============================] - 4s 20ms/step - loss: 0.4389 - accuracy: 0.8009 - val_loss: 0.4647 - val_accuracy: 0.7913\n",
            "Epoch 27/50\n",
            "214/215 [============================>.] - ETA: 0s - loss: 0.4337 - accuracy: 0.8036\n",
            "Epoch 27: val_accuracy did not improve from 0.79921\n",
            "215/215 [==============================] - 4s 20ms/step - loss: 0.4336 - accuracy: 0.8036 - val_loss: 0.4612 - val_accuracy: 0.7874\n",
            "Epoch 28/50\n",
            "214/215 [============================>.] - ETA: 0s - loss: 0.4308 - accuracy: 0.8068\n",
            "Epoch 28: val_accuracy did not improve from 0.79921\n",
            "215/215 [==============================] - 4s 19ms/step - loss: 0.4307 - accuracy: 0.8069 - val_loss: 0.4560 - val_accuracy: 0.7927\n",
            "Epoch 29/50\n",
            "214/215 [============================>.] - ETA: 0s - loss: 0.4293 - accuracy: 0.8132\n",
            "Epoch 29: val_accuracy did not improve from 0.79921\n",
            "215/215 [==============================] - 4s 19ms/step - loss: 0.4293 - accuracy: 0.8133 - val_loss: 0.4817 - val_accuracy: 0.7835\n",
            "Epoch 30/50\n",
            "214/215 [============================>.] - ETA: 0s - loss: 0.4245 - accuracy: 0.8134\n",
            "Epoch 30: val_accuracy did not improve from 0.79921\n",
            "215/215 [==============================] - 4s 20ms/step - loss: 0.4245 - accuracy: 0.8134 - val_loss: 0.4888 - val_accuracy: 0.7887\n",
            "Epoch 31/50\n",
            "213/215 [============================>.] - ETA: 0s - loss: 0.4307 - accuracy: 0.8091\n",
            "Epoch 31: val_accuracy did not improve from 0.79921\n",
            "215/215 [==============================] - 4s 19ms/step - loss: 0.4305 - accuracy: 0.8091 - val_loss: 0.4639 - val_accuracy: 0.7861\n",
            "Epoch 32/50\n",
            "214/215 [============================>.] - ETA: 0s - loss: 0.4293 - accuracy: 0.8116\n",
            "Epoch 32: val_accuracy did not improve from 0.79921\n",
            "215/215 [==============================] - 4s 19ms/step - loss: 0.4292 - accuracy: 0.8117 - val_loss: 0.4846 - val_accuracy: 0.7913\n",
            "Epoch 33/50\n",
            "214/215 [============================>.] - ETA: 0s - loss: 0.4231 - accuracy: 0.8134\n",
            "Epoch 33: val_accuracy did not improve from 0.79921\n",
            "215/215 [==============================] - 4s 20ms/step - loss: 0.4230 - accuracy: 0.8134 - val_loss: 0.4577 - val_accuracy: 0.7979\n",
            "Epoch 34/50\n",
            "214/215 [============================>.] - ETA: 0s - loss: 0.4165 - accuracy: 0.8164\n",
            "Epoch 34: val_accuracy did not improve from 0.79921\n",
            "215/215 [==============================] - 4s 20ms/step - loss: 0.4165 - accuracy: 0.8165 - val_loss: 0.4978 - val_accuracy: 0.7808\n",
            "Epoch 35/50\n",
            "214/215 [============================>.] - ETA: 0s - loss: 0.4189 - accuracy: 0.8128\n",
            "Epoch 35: val_accuracy improved from 0.79921 to 0.80971, saving model to tweets/GRU\n"
          ]
        },
        {
          "name": "stderr",
          "output_type": "stream",
          "text": [
            "WARNING:absl:Function `_wrapped_model` contains input name(s) USE_input with unsupported characters which will be renamed to use_input in the SavedModel.\n",
            "WARNING:absl:Found untraced functions such as gru_cell_16_layer_call_fn, gru_cell_16_layer_call_and_return_conditional_losses, gru_cell_17_layer_call_fn, gru_cell_17_layer_call_and_return_conditional_losses, gru_cell_18_layer_call_fn while saving (showing 5 of 8). These functions will not be directly callable after loading.\n"
          ]
        },
        {
          "name": "stdout",
          "output_type": "stream",
          "text": [
            "INFO:tensorflow:Assets written to: tweets/GRU/assets\n"
          ]
        },
        {
          "name": "stderr",
          "output_type": "stream",
          "text": [
            "INFO:tensorflow:Assets written to: tweets/GRU/assets\n",
            "WARNING:absl:<keras.layers.recurrent.GRUCell object at 0x7f199e0a5090> has the same name 'GRUCell' as a built-in Keras object. Consider renaming <class 'keras.layers.recurrent.GRUCell'> to avoid naming conflicts when loading with `tf.keras.models.load_model`. If renaming is not possible, pass the object in the `custom_objects` parameter of the load function.\n",
            "WARNING:absl:<keras.layers.recurrent.GRUCell object at 0x7f18fe441590> has the same name 'GRUCell' as a built-in Keras object. Consider renaming <class 'keras.layers.recurrent.GRUCell'> to avoid naming conflicts when loading with `tf.keras.models.load_model`. If renaming is not possible, pass the object in the `custom_objects` parameter of the load function.\n",
            "WARNING:absl:<keras.layers.recurrent.GRUCell object at 0x7f18fe7caa90> has the same name 'GRUCell' as a built-in Keras object. Consider renaming <class 'keras.layers.recurrent.GRUCell'> to avoid naming conflicts when loading with `tf.keras.models.load_model`. If renaming is not possible, pass the object in the `custom_objects` parameter of the load function.\n",
            "WARNING:absl:<keras.layers.recurrent.GRUCell object at 0x7f19a0b6e7d0> has the same name 'GRUCell' as a built-in Keras object. Consider renaming <class 'keras.layers.recurrent.GRUCell'> to avoid naming conflicts when loading with `tf.keras.models.load_model`. If renaming is not possible, pass the object in the `custom_objects` parameter of the load function.\n"
          ]
        },
        {
          "name": "stdout",
          "output_type": "stream",
          "text": [
            "\b\b\b\b\b\b\b\b\b\b\b\b\b\b\b\b\b\b\b\b\b\b\b\b\b\b\b\b\b\b\b\b\b\b\b\b\b\b\b\b\b\b\b\b\b\b\b\b\b\b\b\b\b\b\b\b\b\b\b\b\b\b\b\b\b\b\b\b\b\b\b\b\b\b\b\b\b\b\b\b\b\b\b\b\r215/215 [==============================] - 24s 113ms/step - loss: 0.4188 - accuracy: 0.8128 - val_loss: 0.4658 - val_accuracy: 0.8097\n",
            "Epoch 36/50\n",
            "212/215 [============================>.] - ETA: 0s - loss: 0.4191 - accuracy: 0.8144\n",
            "Epoch 36: val_accuracy did not improve from 0.80971\n",
            "215/215 [==============================] - 4s 19ms/step - loss: 0.4187 - accuracy: 0.8145 - val_loss: 0.4601 - val_accuracy: 0.7887\n",
            "Epoch 37/50\n",
            "213/215 [============================>.] - ETA: 0s - loss: 0.4141 - accuracy: 0.8150\n",
            "Epoch 37: val_accuracy did not improve from 0.80971\n",
            "215/215 [==============================] - 4s 20ms/step - loss: 0.4139 - accuracy: 0.8152 - val_loss: 0.5211 - val_accuracy: 0.7717\n",
            "Epoch 38/50\n",
            "214/215 [============================>.] - ETA: 0s - loss: 0.4110 - accuracy: 0.8164\n",
            "Epoch 38: val_accuracy did not improve from 0.80971\n",
            "215/215 [==============================] - 4s 20ms/step - loss: 0.4109 - accuracy: 0.8165 - val_loss: 0.5054 - val_accuracy: 0.7887\n",
            "Epoch 39/50\n",
            "214/215 [============================>.] - ETA: 0s - loss: 0.4094 - accuracy: 0.8213\n",
            "Epoch 39: val_accuracy did not improve from 0.80971\n",
            "215/215 [==============================] - 6s 26ms/step - loss: 0.4093 - accuracy: 0.8213 - val_loss: 0.4792 - val_accuracy: 0.7953\n",
            "Epoch 40/50\n",
            "215/215 [==============================] - ETA: 0s - loss: 0.4048 - accuracy: 0.8222\n",
            "Epoch 40: val_accuracy did not improve from 0.80971\n",
            "215/215 [==============================] - 4s 19ms/step - loss: 0.4048 - accuracy: 0.8222 - val_loss: 0.4783 - val_accuracy: 0.7966\n",
            "Epoch 41/50\n",
            "213/215 [============================>.] - ETA: 0s - loss: 0.4052 - accuracy: 0.8217\n",
            "Epoch 41: val_accuracy did not improve from 0.80971\n",
            "215/215 [==============================] - 4s 19ms/step - loss: 0.4053 - accuracy: 0.8216 - val_loss: 0.4942 - val_accuracy: 0.7822\n",
            "Epoch 42/50\n",
            "212/215 [============================>.] - ETA: 0s - loss: 0.4029 - accuracy: 0.8284\n",
            "Epoch 42: val_accuracy did not improve from 0.80971\n",
            "215/215 [==============================] - 4s 19ms/step - loss: 0.4031 - accuracy: 0.8277 - val_loss: 0.4680 - val_accuracy: 0.7913\n",
            "Epoch 43/50\n",
            "215/215 [==============================] - ETA: 0s - loss: 0.4011 - accuracy: 0.8258\n",
            "Epoch 43: val_accuracy did not improve from 0.80971\n",
            "215/215 [==============================] - 4s 19ms/step - loss: 0.4011 - accuracy: 0.8258 - val_loss: 0.4502 - val_accuracy: 0.7966\n",
            "Epoch 44/50\n",
            "213/215 [============================>.] - ETA: 0s - loss: 0.3998 - accuracy: 0.8245\n",
            "Epoch 44: val_accuracy did not improve from 0.80971\n",
            "215/215 [==============================] - 4s 20ms/step - loss: 0.4000 - accuracy: 0.8242 - val_loss: 0.4727 - val_accuracy: 0.8018\n",
            "Epoch 45/50\n",
            "213/215 [============================>.] - ETA: 0s - loss: 0.4014 - accuracy: 0.8260\n",
            "Epoch 45: val_accuracy did not improve from 0.80971\n",
            "215/215 [==============================] - 4s 20ms/step - loss: 0.4014 - accuracy: 0.8260 - val_loss: 0.4863 - val_accuracy: 0.7887\n",
            "Epoch 46/50\n",
            "215/215 [==============================] - ETA: 0s - loss: 0.3930 - accuracy: 0.8263\n",
            "Epoch 46: val_accuracy did not improve from 0.80971\n",
            "215/215 [==============================] - 4s 19ms/step - loss: 0.3930 - accuracy: 0.8263 - val_loss: 0.4758 - val_accuracy: 0.7900\n",
            "Epoch 47/50\n",
            "214/215 [============================>.] - ETA: 0s - loss: 0.3949 - accuracy: 0.8300\n",
            "Epoch 47: val_accuracy did not improve from 0.80971\n",
            "215/215 [==============================] - 4s 19ms/step - loss: 0.3949 - accuracy: 0.8301 - val_loss: 0.4955 - val_accuracy: 0.7874\n",
            "Epoch 48/50\n",
            "215/215 [==============================] - ETA: 0s - loss: 0.3924 - accuracy: 0.8331\n",
            "Epoch 48: val_accuracy did not improve from 0.80971\n",
            "215/215 [==============================] - 4s 19ms/step - loss: 0.3924 - accuracy: 0.8331 - val_loss: 0.4748 - val_accuracy: 0.8031\n",
            "Epoch 49/50\n",
            "214/215 [============================>.] - ETA: 0s - loss: 0.3908 - accuracy: 0.8290\n",
            "Epoch 49: val_accuracy did not improve from 0.80971\n",
            "215/215 [==============================] - 4s 19ms/step - loss: 0.3908 - accuracy: 0.8291 - val_loss: 0.5318 - val_accuracy: 0.7572\n",
            "Epoch 50/50\n",
            "214/215 [============================>.] - ETA: 0s - loss: 0.3872 - accuracy: 0.8346\n",
            "Epoch 50: val_accuracy did not improve from 0.80971\n",
            "215/215 [==============================] - 4s 20ms/step - loss: 0.3871 - accuracy: 0.8346 - val_loss: 0.4991 - val_accuracy: 0.7835\n"
          ]
        }
      ],
      "source": [
        "history_5 = model_4.fit(train_dataset,\n",
        "                        epochs=50,\n",
        "                        steps_per_epoch = len(train_dataset),\n",
        "                        validation_data = test_dataset,\n",
        "                        validation_steps = len(test_dataset),\n",
        "                        callbacks = [create_model_checkpoint(\"GRU\")]\n",
        "                        )"
      ]
    },
    {
      "cell_type": "code",
      "execution_count": null,
      "metadata": {
        "colab": {
          "base_uri": "https://localhost:8080/"
        },
        "id": "6lD7DAP7QiPs",
        "outputId": "bb520151-09d3-485c-92b6-d78a08393306"
      },
      "outputs": [
        {
          "name": "stdout",
          "output_type": "stream",
          "text": [
            "24/24 [==============================] - 2s 12ms/step - loss: 0.4658 - accuracy: 0.8097\n"
          ]
        },
        {
          "data": {
            "text/plain": [
              "[0.46581578254699707, 0.8097112774848938]"
            ]
          },
          "execution_count": 99,
          "metadata": {},
          "output_type": "execute_result"
        }
      ],
      "source": [
        "best_gru_model = tf.keras.models.load_model(\"/content/tweets/GRU\")\n",
        "best_gru_model.evaluate(test_dataset)"
      ]
    },
    {
      "cell_type": "markdown",
      "metadata": {
        "id": "8-ceh-QrbJ80"
      },
      "source": [
        "#### Final Model"
      ]
    },
    {
      "cell_type": "markdown",
      "metadata": {
        "id": "DXwY_A6oa-_d"
      },
      "source": [
        "Out of all these, the Conv model is performing the best. However, I found out that usung just a feed forward network is giving us better result. We'll use this as final model. After further experimentation, I found out that a simple, shallower model is performing as better than a deeper one."
      ]
    },
    {
      "cell_type": "code",
      "execution_count": null,
      "metadata": {
        "colab": {
          "base_uri": "https://localhost:8080/"
        },
        "id": "1cde7CGnbFUC",
        "outputId": "c7a38916-0f8f-4e58-e5f3-f94765f8db98"
      },
      "outputs": [
        {
          "name": "stdout",
          "output_type": "stream",
          "text": [
            "Model: \"model_2_USE\"\n",
            "_________________________________________________________________\n",
            " Layer (type)                Output Shape              Param #   \n",
            "=================================================================\n",
            " USE (KerasLayer)            (None, 512)               256797824 \n",
            "                                                                 \n",
            " dense_59 (Dense)            (None, 64)                32832     \n",
            "                                                                 \n",
            " dropout_72 (Dropout)        (None, 64)                0         \n",
            "                                                                 \n",
            " batch_normalization_73 (Bat  (None, 64)               256       \n",
            " chNormalization)                                                \n",
            "                                                                 \n",
            " dense_60 (Dense)            (None, 128)               8320      \n",
            "                                                                 \n",
            " dropout_73 (Dropout)        (None, 128)               0         \n",
            "                                                                 \n",
            " batch_normalization_74 (Bat  (None, 128)              512       \n",
            " chNormalization)                                                \n",
            "                                                                 \n",
            " dense_61 (Dense)            (None, 256)               33024     \n",
            "                                                                 \n",
            " dropout_74 (Dropout)        (None, 256)               0         \n",
            "                                                                 \n",
            " batch_normalization_75 (Bat  (None, 256)              1024      \n",
            " chNormalization)                                                \n",
            "                                                                 \n",
            " dense_62 (Dense)            (None, 512)               131584    \n",
            "                                                                 \n",
            " dropout_75 (Dropout)        (None, 512)               0         \n",
            "                                                                 \n",
            " batch_normalization_76 (Bat  (None, 512)              2048      \n",
            " chNormalization)                                                \n",
            "                                                                 \n",
            " dense_63 (Dense)            (None, 1)                 513       \n",
            "                                                                 \n",
            "=================================================================\n",
            "Total params: 257,007,937\n",
            "Trainable params: 208,193\n",
            "Non-trainable params: 256,799,744\n",
            "_________________________________________________________________\n"
          ]
        }
      ],
      "source": [
        "# Create model using the Sequential API\n",
        "model_f = tf.keras.Sequential([\n",
        "  sentence_encoder_layer, # take in sentences and then encode them into an embedding\n",
        "#   tfl.Reshape((512, 1), input_shape=(512,)),\n",
        "\n",
        "#   tfl.Conv1D(64, 11, padding=\"valid\"),\n",
        "#   tfl.Conv1D(128, 11, padding=\"valid\"),\n",
        "#   tfl.MaxPool1D(4),\n",
        "#   tfl.Dropout(0.6),\n",
        "#   tfl.BatchNormalization(),\n",
        "\n",
        "#   tfl.Conv1D(128, 7, padding=\"valid\"),\n",
        "#   tfl.Conv1D(256, 7, padding=\"valid\"),\n",
        "#   tfl.MaxPool1D(4),\n",
        "#   tfl.Dropout(0.6),\n",
        "#   tfl.BatchNormalization(),\n",
        "\n",
        "#   tfl.Conv1D(128, 7, padding=\"valid\"),\n",
        "#   tfl.Conv1D(256, 7, padding=\"valid\"),\n",
        "#   tfl.MaxPool1D(2),\n",
        "#   tfl.Dropout(0.7),\n",
        "#   tfl.BatchNormalization(),\n",
        "\n",
        "#   tfl.Conv1D(512, 7, padding=\"valid\"),\n",
        "#   tfl.Conv1D(1024, 7, padding=\"valid\"),\n",
        "#   tfl.Dropout(0.7),\n",
        "#   tfl.BatchNormalization(),\n",
        "\n",
        "#   tfl.GlobalAveragePooling1D(),\n",
        "#   tfl.Dense(32, activation=\"relu\"),\n",
        "#   tfl.Dropout(0.3),\n",
        "#   tfl.BatchNormalization(),\n",
        "\n",
        "  tfl.Dense(64, activation=\"relu\"),\n",
        "  tfl.Dropout(0.6),\n",
        "  tfl.BatchNormalization(),\n",
        "  \n",
        "  tfl.Dense(128, activation=\"relu\"),\n",
        "  tfl.Dropout(0.7),\n",
        "  tfl.BatchNormalization(),\n",
        "\n",
        "  tfl.Dense(256, activation=\"relu\"),\n",
        "  tfl.Dropout(0.7),\n",
        "  tfl.BatchNormalization(),\n",
        "\n",
        "  tfl.Dense(512, activation=\"relu\"),\n",
        "  tfl.Dropout(0.8),\n",
        "  tfl.BatchNormalization(),\n",
        "#   tfl.GlobalMaxPooling1D(),\n",
        "  tfl.Dense(1, activation=\"sigmoid\")\n",
        "], name=\"model_2_USE\")\n",
        "\n",
        "# Compile model\n",
        "model_f.compile(loss=\"binary_crossentropy\",\n",
        "                optimizer=tf.keras.optimizers.Adam(),\n",
        "                metrics=[\"accuracy\"])\n",
        "\n",
        "model_f.summary()"
      ]
    },
    {
      "cell_type": "code",
      "execution_count": null,
      "metadata": {
        "colab": {
          "base_uri": "https://localhost:8080/"
        },
        "id": "bb8ily8ObTGY",
        "outputId": "b3e48990-2d9a-4706-b595-87b2be71fd57"
      },
      "outputs": [
        {
          "name": "stdout",
          "output_type": "stream",
          "text": [
            "Saving model checkpoint to: tweets/final\n",
            "Epoch 1/100\n",
            "215/215 [==============================] - ETA: 0s - loss: 0.4985 - accuracy: 0.7764\n",
            "Epoch 1: val_accuracy improved from -inf to 0.79790, saving model to tweets/final\n"
          ]
        },
        {
          "name": "stderr",
          "output_type": "stream",
          "text": [
            "WARNING:absl:Function `_wrapped_model` contains input name(s) USE_input with unsupported characters which will be renamed to use_input in the SavedModel.\n"
          ]
        },
        {
          "name": "stdout",
          "output_type": "stream",
          "text": [
            "INFO:tensorflow:Assets written to: tweets/final/assets\n"
          ]
        },
        {
          "name": "stderr",
          "output_type": "stream",
          "text": [
            "INFO:tensorflow:Assets written to: tweets/final/assets\n"
          ]
        },
        {
          "name": "stdout",
          "output_type": "stream",
          "text": [
            "\b\b\b\b\b\b\b\b\b\b\b\b\b\b\b\b\b\b\b\b\b\b\b\b\b\b\b\b\b\b\b\b\b\b\b\b\b\b\b\b\b\b\b\b\b\b\b\b\b\b\b\b\b\b\b\b\b\b\b\b\b\b\b\b\b\b\b\b\b\b\b\b\b\b\b\b\b\b\b\b\b\b\b\b\r215/215 [==============================] - 14s 66ms/step - loss: 0.4985 - accuracy: 0.7764 - val_loss: 0.4514 - val_accuracy: 0.7979\n",
            "Epoch 2/100\n",
            "213/215 [============================>.] - ETA: 0s - loss: 0.4999 - accuracy: 0.7832\n",
            "Epoch 2: val_accuracy improved from 0.79790 to 0.80315, saving model to tweets/final\n"
          ]
        },
        {
          "name": "stderr",
          "output_type": "stream",
          "text": [
            "WARNING:absl:Function `_wrapped_model` contains input name(s) USE_input with unsupported characters which will be renamed to use_input in the SavedModel.\n"
          ]
        },
        {
          "name": "stdout",
          "output_type": "stream",
          "text": [
            "INFO:tensorflow:Assets written to: tweets/final/assets\n"
          ]
        },
        {
          "name": "stderr",
          "output_type": "stream",
          "text": [
            "INFO:tensorflow:Assets written to: tweets/final/assets\n"
          ]
        },
        {
          "name": "stdout",
          "output_type": "stream",
          "text": [
            "\b\b\b\b\b\b\b\b\b\b\b\b\b\b\b\b\b\b\b\b\b\b\b\b\b\b\b\b\b\b\b\b\b\b\b\b\b\b\b\b\b\b\b\b\b\b\b\b\b\b\b\b\b\b\b\b\b\b\b\b\b\b\b\b\b\b\b\b\b\b\b\b\b\b\b\b\b\b\b\b\b\b\b\b\r215/215 [==============================] - 13s 60ms/step - loss: 0.5002 - accuracy: 0.7829 - val_loss: 0.4461 - val_accuracy: 0.8031\n",
            "Epoch 3/100\n",
            "212/215 [============================>.] - ETA: 0s - loss: 0.4946 - accuracy: 0.7895\n",
            "Epoch 3: val_accuracy improved from 0.80315 to 0.81365, saving model to tweets/final\n"
          ]
        },
        {
          "name": "stderr",
          "output_type": "stream",
          "text": [
            "WARNING:absl:Function `_wrapped_model` contains input name(s) USE_input with unsupported characters which will be renamed to use_input in the SavedModel.\n"
          ]
        },
        {
          "name": "stdout",
          "output_type": "stream",
          "text": [
            "INFO:tensorflow:Assets written to: tweets/final/assets\n"
          ]
        },
        {
          "name": "stderr",
          "output_type": "stream",
          "text": [
            "INFO:tensorflow:Assets written to: tweets/final/assets\n"
          ]
        },
        {
          "name": "stdout",
          "output_type": "stream",
          "text": [
            "\b\b\b\b\b\b\b\b\b\b\b\b\b\b\b\b\b\b\b\b\b\b\b\b\b\b\b\b\b\b\b\b\b\b\b\b\b\b\b\b\b\b\b\b\b\b\b\b\b\b\b\b\b\b\b\b\b\b\b\b\b\b\b\b\b\b\b\b\b\b\b\b\b\b\b\b\b\b\b\b\b\b\b\b\r215/215 [==============================] - 14s 64ms/step - loss: 0.4952 - accuracy: 0.7892 - val_loss: 0.4382 - val_accuracy: 0.8136\n",
            "Epoch 4/100\n",
            "212/215 [============================>.] - ETA: 0s - loss: 0.4848 - accuracy: 0.7866\n",
            "Epoch 4: val_accuracy did not improve from 0.81365\n",
            "215/215 [==============================] - 3s 14ms/step - loss: 0.4855 - accuracy: 0.7860 - val_loss: 0.4443 - val_accuracy: 0.8031\n",
            "Epoch 5/100\n",
            "213/215 [============================>.] - ETA: 0s - loss: 0.4806 - accuracy: 0.7943\n",
            "Epoch 5: val_accuracy improved from 0.81365 to 0.81496, saving model to tweets/final\n"
          ]
        },
        {
          "name": "stderr",
          "output_type": "stream",
          "text": [
            "WARNING:absl:Function `_wrapped_model` contains input name(s) USE_input with unsupported characters which will be renamed to use_input in the SavedModel.\n"
          ]
        },
        {
          "name": "stdout",
          "output_type": "stream",
          "text": [
            "INFO:tensorflow:Assets written to: tweets/final/assets\n"
          ]
        },
        {
          "name": "stderr",
          "output_type": "stream",
          "text": [
            "INFO:tensorflow:Assets written to: tweets/final/assets\n"
          ]
        },
        {
          "name": "stdout",
          "output_type": "stream",
          "text": [
            "\b\b\b\b\b\b\b\b\b\b\b\b\b\b\b\b\b\b\b\b\b\b\b\b\b\b\b\b\b\b\b\b\b\b\b\b\b\b\b\b\b\b\b\b\b\b\b\b\b\b\b\b\b\b\b\b\b\b\b\b\b\b\b\b\b\b\b\b\b\b\b\b\b\b\b\b\b\b\b\b\b\b\b\b\r215/215 [==============================] - 12s 58ms/step - loss: 0.4807 - accuracy: 0.7939 - val_loss: 0.4327 - val_accuracy: 0.8150\n",
            "Epoch 6/100\n",
            "212/215 [============================>.] - ETA: 0s - loss: 0.4744 - accuracy: 0.7958\n",
            "Epoch 6: val_accuracy did not improve from 0.81496\n",
            "215/215 [==============================] - 3s 14ms/step - loss: 0.4748 - accuracy: 0.7958 - val_loss: 0.4367 - val_accuracy: 0.8058\n",
            "Epoch 7/100\n",
            "213/215 [============================>.] - ETA: 0s - loss: 0.4740 - accuracy: 0.8003\n",
            "Epoch 7: val_accuracy did not improve from 0.81496\n",
            "215/215 [==============================] - 3s 14ms/step - loss: 0.4742 - accuracy: 0.8001 - val_loss: 0.4312 - val_accuracy: 0.8097\n",
            "Epoch 8/100\n",
            "211/215 [============================>.] - ETA: 0s - loss: 0.4648 - accuracy: 0.8070\n",
            "Epoch 8: val_accuracy did not improve from 0.81496\n",
            "215/215 [==============================] - 3s 14ms/step - loss: 0.4645 - accuracy: 0.8074 - val_loss: 0.4281 - val_accuracy: 0.8123\n",
            "Epoch 9/100\n",
            "213/215 [============================>.] - ETA: 0s - loss: 0.4705 - accuracy: 0.8037\n",
            "Epoch 9: val_accuracy did not improve from 0.81496\n",
            "215/215 [==============================] - 3s 14ms/step - loss: 0.4705 - accuracy: 0.8036 - val_loss: 0.4311 - val_accuracy: 0.8136\n",
            "Epoch 10/100\n",
            "215/215 [==============================] - ETA: 0s - loss: 0.4694 - accuracy: 0.7984\n",
            "Epoch 10: val_accuracy did not improve from 0.81496\n",
            "215/215 [==============================] - 3s 14ms/step - loss: 0.4694 - accuracy: 0.7984 - val_loss: 0.4422 - val_accuracy: 0.8097\n",
            "Epoch 11/100\n",
            "212/215 [============================>.] - ETA: 0s - loss: 0.4627 - accuracy: 0.8084\n",
            "Epoch 11: val_accuracy did not improve from 0.81496\n",
            "215/215 [==============================] - 3s 14ms/step - loss: 0.4626 - accuracy: 0.8086 - val_loss: 0.4377 - val_accuracy: 0.8110\n",
            "Epoch 12/100\n",
            "214/215 [============================>.] - ETA: 0s - loss: 0.4577 - accuracy: 0.8056\n",
            "Epoch 12: val_accuracy improved from 0.81496 to 0.81890, saving model to tweets/final\n"
          ]
        },
        {
          "name": "stderr",
          "output_type": "stream",
          "text": [
            "WARNING:absl:Function `_wrapped_model` contains input name(s) USE_input with unsupported characters which will be renamed to use_input in the SavedModel.\n"
          ]
        },
        {
          "name": "stdout",
          "output_type": "stream",
          "text": [
            "INFO:tensorflow:Assets written to: tweets/final/assets\n"
          ]
        },
        {
          "name": "stderr",
          "output_type": "stream",
          "text": [
            "INFO:tensorflow:Assets written to: tweets/final/assets\n"
          ]
        },
        {
          "name": "stdout",
          "output_type": "stream",
          "text": [
            "\b\b\b\b\b\b\b\b\b\b\b\b\b\b\b\b\b\b\b\b\b\b\b\b\b\b\b\b\b\b\b\b\b\b\b\b\b\b\b\b\b\b\b\b\b\b\b\b\b\b\b\b\b\b\b\b\b\b\b\b\b\b\b\b\b\b\b\b\b\b\b\b\b\b\b\b\b\b\b\b\b\b\b\b\r215/215 [==============================] - 13s 61ms/step - loss: 0.4579 - accuracy: 0.8055 - val_loss: 0.4309 - val_accuracy: 0.8189\n",
            "Epoch 13/100\n",
            "215/215 [==============================] - ETA: 0s - loss: 0.4568 - accuracy: 0.8124\n",
            "Epoch 13: val_accuracy did not improve from 0.81890\n",
            "215/215 [==============================] - 3s 13ms/step - loss: 0.4568 - accuracy: 0.8124 - val_loss: 0.4362 - val_accuracy: 0.8150\n",
            "Epoch 14/100\n",
            "211/215 [============================>.] - ETA: 0s - loss: 0.4563 - accuracy: 0.8119\n",
            "Epoch 14: val_accuracy did not improve from 0.81890\n",
            "215/215 [==============================] - 3s 14ms/step - loss: 0.4568 - accuracy: 0.8120 - val_loss: 0.4347 - val_accuracy: 0.8136\n",
            "Epoch 15/100\n",
            "214/215 [============================>.] - ETA: 0s - loss: 0.4542 - accuracy: 0.8122\n",
            "Epoch 15: val_accuracy did not improve from 0.81890\n",
            "215/215 [==============================] - 3s 14ms/step - loss: 0.4543 - accuracy: 0.8121 - val_loss: 0.4335 - val_accuracy: 0.8150\n",
            "Epoch 16/100\n",
            "212/215 [============================>.] - ETA: 0s - loss: 0.4480 - accuracy: 0.8134\n",
            "Epoch 16: val_accuracy improved from 0.81890 to 0.82415, saving model to tweets/final\n"
          ]
        },
        {
          "name": "stderr",
          "output_type": "stream",
          "text": [
            "WARNING:absl:Function `_wrapped_model` contains input name(s) USE_input with unsupported characters which will be renamed to use_input in the SavedModel.\n"
          ]
        },
        {
          "name": "stdout",
          "output_type": "stream",
          "text": [
            "INFO:tensorflow:Assets written to: tweets/final/assets\n"
          ]
        },
        {
          "name": "stderr",
          "output_type": "stream",
          "text": [
            "INFO:tensorflow:Assets written to: tweets/final/assets\n"
          ]
        },
        {
          "name": "stdout",
          "output_type": "stream",
          "text": [
            "\b\b\b\b\b\b\b\b\b\b\b\b\b\b\b\b\b\b\b\b\b\b\b\b\b\b\b\b\b\b\b\b\b\b\b\b\b\b\b\b\b\b\b\b\b\b\b\b\b\b\b\b\b\b\b\b\b\b\b\b\b\b\b\b\b\b\b\b\b\b\b\b\b\b\b\b\b\b\b\b\b\b\b\b\r215/215 [==============================] - 13s 61ms/step - loss: 0.4477 - accuracy: 0.8131 - val_loss: 0.4258 - val_accuracy: 0.8241\n",
            "Epoch 17/100\n",
            "214/215 [============================>.] - ETA: 0s - loss: 0.4473 - accuracy: 0.8129\n",
            "Epoch 17: val_accuracy did not improve from 0.82415\n",
            "215/215 [==============================] - 3s 14ms/step - loss: 0.4475 - accuracy: 0.8128 - val_loss: 0.4350 - val_accuracy: 0.8228\n",
            "Epoch 18/100\n",
            "212/215 [============================>.] - ETA: 0s - loss: 0.4401 - accuracy: 0.8191\n",
            "Epoch 18: val_accuracy did not improve from 0.82415\n",
            "215/215 [==============================] - 3s 14ms/step - loss: 0.4401 - accuracy: 0.8191 - val_loss: 0.4350 - val_accuracy: 0.8097\n",
            "Epoch 19/100\n",
            "214/215 [============================>.] - ETA: 0s - loss: 0.4390 - accuracy: 0.8160\n",
            "Epoch 19: val_accuracy did not improve from 0.82415\n",
            "215/215 [==============================] - 3s 14ms/step - loss: 0.4392 - accuracy: 0.8159 - val_loss: 0.4292 - val_accuracy: 0.8163\n",
            "Epoch 20/100\n",
            "211/215 [============================>.] - ETA: 0s - loss: 0.4297 - accuracy: 0.8238\n",
            "Epoch 20: val_accuracy did not improve from 0.82415\n",
            "215/215 [==============================] - 3s 14ms/step - loss: 0.4295 - accuracy: 0.8239 - val_loss: 0.4274 - val_accuracy: 0.8136\n",
            "Epoch 21/100\n",
            "213/215 [============================>.] - ETA: 0s - loss: 0.4306 - accuracy: 0.8234\n",
            "Epoch 21: val_accuracy did not improve from 0.82415\n",
            "215/215 [==============================] - 3s 14ms/step - loss: 0.4308 - accuracy: 0.8234 - val_loss: 0.4275 - val_accuracy: 0.8176\n",
            "Epoch 22/100\n",
            "212/215 [============================>.] - ETA: 0s - loss: 0.4294 - accuracy: 0.8197\n",
            "Epoch 22: val_accuracy did not improve from 0.82415\n",
            "215/215 [==============================] - 3s 14ms/step - loss: 0.4298 - accuracy: 0.8194 - val_loss: 0.4293 - val_accuracy: 0.8189\n",
            "Epoch 23/100\n",
            "213/215 [============================>.] - ETA: 0s - loss: 0.4249 - accuracy: 0.8226\n",
            "Epoch 23: val_accuracy did not improve from 0.82415\n",
            "215/215 [==============================] - 3s 14ms/step - loss: 0.4251 - accuracy: 0.8225 - val_loss: 0.4264 - val_accuracy: 0.8228\n",
            "Epoch 24/100\n",
            "213/215 [============================>.] - ETA: 0s - loss: 0.4318 - accuracy: 0.8257\n",
            "Epoch 24: val_accuracy improved from 0.82415 to 0.82546, saving model to tweets/final\n"
          ]
        },
        {
          "name": "stderr",
          "output_type": "stream",
          "text": [
            "WARNING:absl:Function `_wrapped_model` contains input name(s) USE_input with unsupported characters which will be renamed to use_input in the SavedModel.\n"
          ]
        },
        {
          "name": "stdout",
          "output_type": "stream",
          "text": [
            "INFO:tensorflow:Assets written to: tweets/final/assets\n"
          ]
        },
        {
          "name": "stderr",
          "output_type": "stream",
          "text": [
            "INFO:tensorflow:Assets written to: tweets/final/assets\n"
          ]
        },
        {
          "name": "stdout",
          "output_type": "stream",
          "text": [
            "\b\b\b\b\b\b\b\b\b\b\b\b\b\b\b\b\b\b\b\b\b\b\b\b\b\b\b\b\b\b\b\b\b\b\b\b\b\b\b\b\b\b\b\b\b\b\b\b\b\b\b\b\b\b\b\b\b\b\b\b\b\b\b\b\b\b\b\b\b\b\b\b\b\b\b\b\b\b\b\b\b\b\b\b\r215/215 [==============================] - 13s 59ms/step - loss: 0.4321 - accuracy: 0.8254 - val_loss: 0.4277 - val_accuracy: 0.8255\n",
            "Epoch 25/100\n",
            "212/215 [============================>.] - ETA: 0s - loss: 0.4219 - accuracy: 0.8292\n",
            "Epoch 25: val_accuracy improved from 0.82546 to 0.82940, saving model to tweets/final\n"
          ]
        },
        {
          "name": "stderr",
          "output_type": "stream",
          "text": [
            "WARNING:absl:Function `_wrapped_model` contains input name(s) USE_input with unsupported characters which will be renamed to use_input in the SavedModel.\n"
          ]
        },
        {
          "name": "stdout",
          "output_type": "stream",
          "text": [
            "INFO:tensorflow:Assets written to: tweets/final/assets\n"
          ]
        },
        {
          "name": "stderr",
          "output_type": "stream",
          "text": [
            "INFO:tensorflow:Assets written to: tweets/final/assets\n"
          ]
        },
        {
          "name": "stdout",
          "output_type": "stream",
          "text": [
            "\b\b\b\b\b\b\b\b\b\b\b\b\b\b\b\b\b\b\b\b\b\b\b\b\b\b\b\b\b\b\b\b\b\b\b\b\b\b\b\b\b\b\b\b\b\b\b\b\b\b\b\b\b\b\b\b\b\b\b\b\b\b\b\b\b\b\b\b\b\b\b\b\b\b\b\b\b\b\b\b\b\b\b\b\r215/215 [==============================] - 13s 62ms/step - loss: 0.4214 - accuracy: 0.8293 - val_loss: 0.4220 - val_accuracy: 0.8294\n",
            "Epoch 26/100\n",
            "211/215 [============================>.] - ETA: 0s - loss: 0.4217 - accuracy: 0.8269\n",
            "Epoch 26: val_accuracy did not improve from 0.82940\n",
            "215/215 [==============================] - 3s 14ms/step - loss: 0.4216 - accuracy: 0.8266 - val_loss: 0.4288 - val_accuracy: 0.8255\n",
            "Epoch 27/100\n",
            "212/215 [============================>.] - ETA: 0s - loss: 0.4185 - accuracy: 0.8290\n",
            "Epoch 27: val_accuracy improved from 0.82940 to 0.83202, saving model to tweets/final\n"
          ]
        },
        {
          "name": "stderr",
          "output_type": "stream",
          "text": [
            "WARNING:absl:Function `_wrapped_model` contains input name(s) USE_input with unsupported characters which will be renamed to use_input in the SavedModel.\n"
          ]
        },
        {
          "name": "stdout",
          "output_type": "stream",
          "text": [
            "INFO:tensorflow:Assets written to: tweets/final/assets\n"
          ]
        },
        {
          "name": "stderr",
          "output_type": "stream",
          "text": [
            "INFO:tensorflow:Assets written to: tweets/final/assets\n"
          ]
        },
        {
          "name": "stdout",
          "output_type": "stream",
          "text": [
            "\b\b\b\b\b\b\b\b\b\b\b\b\b\b\b\b\b\b\b\b\b\b\b\b\b\b\b\b\b\b\b\b\b\b\b\b\b\b\b\b\b\b\b\b\b\b\b\b\b\b\b\b\b\b\b\b\b\b\b\b\b\b\b\b\b\b\b\b\b\b\b\b\b\b\b\b\b\b\b\b\b\b\b\b\r215/215 [==============================] - 13s 59ms/step - loss: 0.4187 - accuracy: 0.8289 - val_loss: 0.4256 - val_accuracy: 0.8320\n",
            "Epoch 28/100\n",
            "214/215 [============================>.] - ETA: 0s - loss: 0.4155 - accuracy: 0.8264\n",
            "Epoch 28: val_accuracy did not improve from 0.83202\n",
            "215/215 [==============================] - 3s 14ms/step - loss: 0.4157 - accuracy: 0.8263 - val_loss: 0.4310 - val_accuracy: 0.8215\n",
            "Epoch 29/100\n",
            "215/215 [==============================] - ETA: 0s - loss: 0.4219 - accuracy: 0.8266\n",
            "Epoch 29: val_accuracy did not improve from 0.83202\n",
            "215/215 [==============================] - 3s 14ms/step - loss: 0.4219 - accuracy: 0.8266 - val_loss: 0.4286 - val_accuracy: 0.8320\n",
            "Epoch 30/100\n",
            "211/215 [============================>.] - ETA: 0s - loss: 0.4138 - accuracy: 0.8292\n",
            "Epoch 30: val_accuracy did not improve from 0.83202\n",
            "215/215 [==============================] - 3s 14ms/step - loss: 0.4139 - accuracy: 0.8292 - val_loss: 0.4334 - val_accuracy: 0.8294\n",
            "Epoch 31/100\n",
            "213/215 [============================>.] - ETA: 0s - loss: 0.4055 - accuracy: 0.8335\n",
            "Epoch 31: val_accuracy improved from 0.83202 to 0.83596, saving model to tweets/final\n"
          ]
        },
        {
          "name": "stderr",
          "output_type": "stream",
          "text": [
            "WARNING:absl:Function `_wrapped_model` contains input name(s) USE_input with unsupported characters which will be renamed to use_input in the SavedModel.\n"
          ]
        },
        {
          "name": "stdout",
          "output_type": "stream",
          "text": [
            "INFO:tensorflow:Assets written to: tweets/final/assets\n"
          ]
        },
        {
          "name": "stderr",
          "output_type": "stream",
          "text": [
            "INFO:tensorflow:Assets written to: tweets/final/assets\n"
          ]
        },
        {
          "name": "stdout",
          "output_type": "stream",
          "text": [
            "\b\b\b\b\b\b\b\b\b\b\b\b\b\b\b\b\b\b\b\b\b\b\b\b\b\b\b\b\b\b\b\b\b\b\b\b\b\b\b\b\b\b\b\b\b\b\b\b\b\b\b\b\b\b\b\b\b\b\b\b\b\b\b\b\b\b\b\b\b\b\b\b\b\b\b\b\b\b\b\b\b\b\b\b\r215/215 [==============================] - 13s 62ms/step - loss: 0.4053 - accuracy: 0.8333 - val_loss: 0.4301 - val_accuracy: 0.8360\n",
            "Epoch 32/100\n",
            "212/215 [============================>.] - ETA: 0s - loss: 0.4146 - accuracy: 0.8286\n",
            "Epoch 32: val_accuracy did not improve from 0.83596\n",
            "215/215 [==============================] - 3s 14ms/step - loss: 0.4154 - accuracy: 0.8279 - val_loss: 0.4426 - val_accuracy: 0.8228\n",
            "Epoch 33/100\n",
            "211/215 [============================>.] - ETA: 0s - loss: 0.4064 - accuracy: 0.8346\n",
            "Epoch 33: val_accuracy did not improve from 0.83596\n",
            "215/215 [==============================] - 3s 14ms/step - loss: 0.4062 - accuracy: 0.8347 - val_loss: 0.4316 - val_accuracy: 0.8268\n",
            "Epoch 34/100\n",
            "214/215 [============================>.] - ETA: 0s - loss: 0.4024 - accuracy: 0.8381\n",
            "Epoch 34: val_accuracy did not improve from 0.83596\n",
            "215/215 [==============================] - 3s 14ms/step - loss: 0.4025 - accuracy: 0.8380 - val_loss: 0.4283 - val_accuracy: 0.8346\n",
            "Epoch 35/100\n",
            "211/215 [============================>.] - ETA: 0s - loss: 0.3984 - accuracy: 0.8400\n",
            "Epoch 35: val_accuracy did not improve from 0.83596\n",
            "215/215 [==============================] - 3s 14ms/step - loss: 0.3984 - accuracy: 0.8401 - val_loss: 0.4282 - val_accuracy: 0.8320\n",
            "Epoch 36/100\n",
            "212/215 [============================>.] - ETA: 0s - loss: 0.4046 - accuracy: 0.8345\n",
            "Epoch 36: val_accuracy did not improve from 0.83596\n",
            "215/215 [==============================] - 3s 14ms/step - loss: 0.4052 - accuracy: 0.8339 - val_loss: 0.4287 - val_accuracy: 0.8215\n",
            "Epoch 37/100\n",
            "212/215 [============================>.] - ETA: 0s - loss: 0.3950 - accuracy: 0.8392\n",
            "Epoch 37: val_accuracy did not improve from 0.83596\n",
            "215/215 [==============================] - 3s 14ms/step - loss: 0.3952 - accuracy: 0.8390 - val_loss: 0.4313 - val_accuracy: 0.8281\n",
            "Epoch 38/100\n",
            "211/215 [============================>.] - ETA: 0s - loss: 0.4026 - accuracy: 0.8387\n",
            "Epoch 38: val_accuracy did not improve from 0.83596\n",
            "215/215 [==============================] - 3s 14ms/step - loss: 0.4024 - accuracy: 0.8388 - val_loss: 0.4308 - val_accuracy: 0.8294\n",
            "Epoch 39/100\n",
            "212/215 [============================>.] - ETA: 0s - loss: 0.4039 - accuracy: 0.8368\n",
            "Epoch 39: val_accuracy did not improve from 0.83596\n",
            "215/215 [==============================] - 3s 14ms/step - loss: 0.4036 - accuracy: 0.8369 - val_loss: 0.4355 - val_accuracy: 0.8241\n",
            "Epoch 40/100\n",
            "214/215 [============================>.] - ETA: 0s - loss: 0.3915 - accuracy: 0.8424\n",
            "Epoch 40: val_accuracy did not improve from 0.83596\n",
            "215/215 [==============================] - 3s 14ms/step - loss: 0.3917 - accuracy: 0.8423 - val_loss: 0.4293 - val_accuracy: 0.8215\n",
            "Epoch 41/100\n",
            "214/215 [============================>.] - ETA: 0s - loss: 0.3969 - accuracy: 0.8367\n",
            "Epoch 41: val_accuracy did not improve from 0.83596\n",
            "215/215 [==============================] - 3s 15ms/step - loss: 0.3971 - accuracy: 0.8366 - val_loss: 0.4331 - val_accuracy: 0.8189\n",
            "Epoch 42/100\n",
            "212/215 [============================>.] - ETA: 0s - loss: 0.3872 - accuracy: 0.8384\n",
            "Epoch 42: val_accuracy did not improve from 0.83596\n",
            "215/215 [==============================] - 3s 14ms/step - loss: 0.3869 - accuracy: 0.8384 - val_loss: 0.4314 - val_accuracy: 0.8281\n",
            "Epoch 43/100\n",
            "214/215 [============================>.] - ETA: 0s - loss: 0.3923 - accuracy: 0.8427\n",
            "Epoch 43: val_accuracy did not improve from 0.83596\n",
            "215/215 [==============================] - 3s 15ms/step - loss: 0.3926 - accuracy: 0.8426 - val_loss: 0.4263 - val_accuracy: 0.8320\n",
            "Epoch 44/100\n",
            "213/215 [============================>.] - ETA: 0s - loss: 0.3905 - accuracy: 0.8417\n",
            "Epoch 44: val_accuracy did not improve from 0.83596\n",
            "215/215 [==============================] - 3s 14ms/step - loss: 0.3911 - accuracy: 0.8415 - val_loss: 0.4256 - val_accuracy: 0.8202\n",
            "Epoch 45/100\n",
            "212/215 [============================>.] - ETA: 0s - loss: 0.3911 - accuracy: 0.8446\n",
            "Epoch 45: val_accuracy did not improve from 0.83596\n",
            "215/215 [==============================] - 3s 14ms/step - loss: 0.3908 - accuracy: 0.8447 - val_loss: 0.4249 - val_accuracy: 0.8307\n",
            "Epoch 46/100\n",
            "212/215 [============================>.] - ETA: 0s - loss: 0.3916 - accuracy: 0.8383\n",
            "Epoch 46: val_accuracy did not improve from 0.83596\n",
            "215/215 [==============================] - 3s 14ms/step - loss: 0.3919 - accuracy: 0.8382 - val_loss: 0.4277 - val_accuracy: 0.8307\n",
            "Epoch 47/100\n",
            "214/215 [============================>.] - ETA: 0s - loss: 0.3864 - accuracy: 0.8385\n",
            "Epoch 47: val_accuracy did not improve from 0.83596\n",
            "215/215 [==============================] - 3s 14ms/step - loss: 0.3866 - accuracy: 0.8384 - val_loss: 0.4303 - val_accuracy: 0.8294\n",
            "Epoch 48/100\n",
            "212/215 [============================>.] - ETA: 0s - loss: 0.3788 - accuracy: 0.8463\n",
            "Epoch 48: val_accuracy did not improve from 0.83596\n",
            "215/215 [==============================] - 4s 19ms/step - loss: 0.3794 - accuracy: 0.8454 - val_loss: 0.4302 - val_accuracy: 0.8215\n",
            "Epoch 49/100\n",
            "213/215 [============================>.] - ETA: 0s - loss: 0.3806 - accuracy: 0.8460\n",
            "Epoch 49: val_accuracy did not improve from 0.83596\n",
            "215/215 [==============================] - 3s 15ms/step - loss: 0.3810 - accuracy: 0.8454 - val_loss: 0.4259 - val_accuracy: 0.8294\n",
            "Epoch 50/100\n",
            "213/215 [============================>.] - ETA: 0s - loss: 0.3750 - accuracy: 0.8495\n",
            "Epoch 50: val_accuracy did not improve from 0.83596\n",
            "215/215 [==============================] - 3s 14ms/step - loss: 0.3748 - accuracy: 0.8495 - val_loss: 0.4292 - val_accuracy: 0.8241\n",
            "Epoch 51/100\n",
            "215/215 [==============================] - ETA: 0s - loss: 0.3803 - accuracy: 0.8501\n",
            "Epoch 51: val_accuracy did not improve from 0.83596\n",
            "215/215 [==============================] - 3s 15ms/step - loss: 0.3803 - accuracy: 0.8501 - val_loss: 0.4239 - val_accuracy: 0.8346\n",
            "Epoch 52/100\n",
            "213/215 [============================>.] - ETA: 0s - loss: 0.3725 - accuracy: 0.8498\n",
            "Epoch 52: val_accuracy did not improve from 0.83596\n",
            "215/215 [==============================] - 3s 14ms/step - loss: 0.3727 - accuracy: 0.8498 - val_loss: 0.4269 - val_accuracy: 0.8320\n",
            "Epoch 53/100\n",
            "214/215 [============================>.] - ETA: 0s - loss: 0.3671 - accuracy: 0.8537\n",
            "Epoch 53: val_accuracy did not improve from 0.83596\n",
            "215/215 [==============================] - 3s 14ms/step - loss: 0.3672 - accuracy: 0.8536 - val_loss: 0.4287 - val_accuracy: 0.8346\n",
            "Epoch 54/100\n",
            "213/215 [============================>.] - ETA: 0s - loss: 0.3724 - accuracy: 0.8474\n",
            "Epoch 54: val_accuracy did not improve from 0.83596\n",
            "215/215 [==============================] - 3s 14ms/step - loss: 0.3721 - accuracy: 0.8476 - val_loss: 0.4256 - val_accuracy: 0.8333\n",
            "Epoch 55/100\n",
            "213/215 [============================>.] - ETA: 0s - loss: 0.3671 - accuracy: 0.8470\n",
            "Epoch 55: val_accuracy did not improve from 0.83596\n",
            "215/215 [==============================] - 3s 15ms/step - loss: 0.3676 - accuracy: 0.8466 - val_loss: 0.4318 - val_accuracy: 0.8241\n",
            "Epoch 56/100\n",
            "214/215 [============================>.] - ETA: 0s - loss: 0.3682 - accuracy: 0.8541\n",
            "Epoch 56: val_accuracy did not improve from 0.83596\n",
            "215/215 [==============================] - 3s 14ms/step - loss: 0.3683 - accuracy: 0.8540 - val_loss: 0.4251 - val_accuracy: 0.8346\n",
            "Epoch 57/100\n",
            "213/215 [============================>.] - ETA: 0s - loss: 0.3665 - accuracy: 0.8542\n",
            "Epoch 57: val_accuracy did not improve from 0.83596\n",
            "215/215 [==============================] - 3s 15ms/step - loss: 0.3662 - accuracy: 0.8545 - val_loss: 0.4279 - val_accuracy: 0.8241\n",
            "Epoch 58/100\n",
            "214/215 [============================>.] - ETA: 0s - loss: 0.3649 - accuracy: 0.8559\n",
            "Epoch 58: val_accuracy did not improve from 0.83596\n",
            "215/215 [==============================] - 3s 15ms/step - loss: 0.3650 - accuracy: 0.8558 - val_loss: 0.4298 - val_accuracy: 0.8307\n",
            "Epoch 59/100\n",
            "212/215 [============================>.] - ETA: 0s - loss: 0.3740 - accuracy: 0.8494\n",
            "Epoch 59: val_accuracy did not improve from 0.83596\n",
            "215/215 [==============================] - 3s 14ms/step - loss: 0.3736 - accuracy: 0.8493 - val_loss: 0.4272 - val_accuracy: 0.8307\n",
            "Epoch 60/100\n",
            "211/215 [============================>.] - ETA: 0s - loss: 0.3606 - accuracy: 0.8552\n",
            "Epoch 60: val_accuracy did not improve from 0.83596\n",
            "215/215 [==============================] - 3s 15ms/step - loss: 0.3606 - accuracy: 0.8555 - val_loss: 0.4279 - val_accuracy: 0.8268\n",
            "Epoch 61/100\n",
            "214/215 [============================>.] - ETA: 0s - loss: 0.3572 - accuracy: 0.8611\n",
            "Epoch 61: val_accuracy did not improve from 0.83596\n",
            "215/215 [==============================] - 3s 14ms/step - loss: 0.3574 - accuracy: 0.8610 - val_loss: 0.4323 - val_accuracy: 0.8202\n",
            "Epoch 62/100\n",
            "211/215 [============================>.] - ETA: 0s - loss: 0.3639 - accuracy: 0.8550\n",
            "Epoch 62: val_accuracy did not improve from 0.83596\n",
            "215/215 [==============================] - 3s 15ms/step - loss: 0.3634 - accuracy: 0.8549 - val_loss: 0.4323 - val_accuracy: 0.8202\n",
            "Epoch 63/100\n",
            "215/215 [==============================] - ETA: 0s - loss: 0.3579 - accuracy: 0.8607\n",
            "Epoch 63: val_accuracy did not improve from 0.83596\n",
            "215/215 [==============================] - 3s 15ms/step - loss: 0.3579 - accuracy: 0.8607 - val_loss: 0.4381 - val_accuracy: 0.8294\n",
            "Epoch 64/100\n",
            "213/215 [============================>.] - ETA: 0s - loss: 0.3417 - accuracy: 0.8644\n",
            "Epoch 64: val_accuracy did not improve from 0.83596\n",
            "215/215 [==============================] - 3s 14ms/step - loss: 0.3420 - accuracy: 0.8638 - val_loss: 0.4439 - val_accuracy: 0.8215\n",
            "Epoch 65/100\n",
            "214/215 [============================>.] - ETA: 0s - loss: 0.3556 - accuracy: 0.8553\n",
            "Epoch 65: val_accuracy did not improve from 0.83596\n",
            "215/215 [==============================] - 3s 15ms/step - loss: 0.3559 - accuracy: 0.8552 - val_loss: 0.4354 - val_accuracy: 0.8241\n",
            "Epoch 66/100\n",
            "213/215 [============================>.] - ETA: 0s - loss: 0.3566 - accuracy: 0.8539\n",
            "Epoch 66: val_accuracy did not improve from 0.83596\n",
            "215/215 [==============================] - 3s 15ms/step - loss: 0.3565 - accuracy: 0.8537 - val_loss: 0.4420 - val_accuracy: 0.8268\n",
            "Epoch 67/100\n",
            "213/215 [============================>.] - ETA: 0s - loss: 0.3595 - accuracy: 0.8539\n",
            "Epoch 67: val_accuracy did not improve from 0.83596\n",
            "215/215 [==============================] - 3s 15ms/step - loss: 0.3596 - accuracy: 0.8536 - val_loss: 0.4425 - val_accuracy: 0.8202\n",
            "Epoch 68/100\n",
            "213/215 [============================>.] - ETA: 0s - loss: 0.3464 - accuracy: 0.8559\n",
            "Epoch 68: val_accuracy did not improve from 0.83596\n",
            "215/215 [==============================] - 3s 15ms/step - loss: 0.3465 - accuracy: 0.8561 - val_loss: 0.4389 - val_accuracy: 0.8228\n",
            "Epoch 69/100\n",
            "212/215 [============================>.] - ETA: 0s - loss: 0.3562 - accuracy: 0.8557\n",
            "Epoch 69: val_accuracy did not improve from 0.83596\n",
            "215/215 [==============================] - 3s 14ms/step - loss: 0.3561 - accuracy: 0.8559 - val_loss: 0.4454 - val_accuracy: 0.8150\n",
            "Epoch 70/100\n",
            "215/215 [==============================] - ETA: 0s - loss: 0.3483 - accuracy: 0.8610\n",
            "Epoch 70: val_accuracy did not improve from 0.83596\n",
            "215/215 [==============================] - 3s 15ms/step - loss: 0.3483 - accuracy: 0.8610 - val_loss: 0.4487 - val_accuracy: 0.8163\n",
            "Epoch 71/100\n",
            "212/215 [============================>.] - ETA: 0s - loss: 0.3496 - accuracy: 0.8614\n",
            "Epoch 71: val_accuracy did not improve from 0.83596\n",
            "215/215 [==============================] - 3s 15ms/step - loss: 0.3489 - accuracy: 0.8619 - val_loss: 0.4408 - val_accuracy: 0.8294\n",
            "Epoch 72/100\n",
            "213/215 [============================>.] - ETA: 0s - loss: 0.3374 - accuracy: 0.8665\n",
            "Epoch 72: val_accuracy did not improve from 0.83596\n",
            "215/215 [==============================] - 3s 15ms/step - loss: 0.3378 - accuracy: 0.8661 - val_loss: 0.4408 - val_accuracy: 0.8215\n",
            "Epoch 73/100\n",
            "213/215 [============================>.] - ETA: 0s - loss: 0.3378 - accuracy: 0.8634\n",
            "Epoch 73: val_accuracy did not improve from 0.83596\n",
            "215/215 [==============================] - 3s 15ms/step - loss: 0.3375 - accuracy: 0.8636 - val_loss: 0.4497 - val_accuracy: 0.8150\n",
            "Epoch 74/100\n",
            "214/215 [============================>.] - ETA: 0s - loss: 0.3447 - accuracy: 0.8584\n",
            "Epoch 74: val_accuracy did not improve from 0.83596\n",
            "215/215 [==============================] - 3s 14ms/step - loss: 0.3449 - accuracy: 0.8582 - val_loss: 0.4468 - val_accuracy: 0.8189\n",
            "Epoch 75/100\n",
            "211/215 [============================>.] - ETA: 0s - loss: 0.3435 - accuracy: 0.8603\n",
            "Epoch 75: val_accuracy did not improve from 0.83596\n",
            "215/215 [==============================] - 3s 15ms/step - loss: 0.3437 - accuracy: 0.8601 - val_loss: 0.4376 - val_accuracy: 0.8150\n",
            "Epoch 76/100\n",
            "215/215 [==============================] - ETA: 0s - loss: 0.3420 - accuracy: 0.8623\n",
            "Epoch 76: val_accuracy did not improve from 0.83596\n",
            "215/215 [==============================] - 3s 14ms/step - loss: 0.3420 - accuracy: 0.8623 - val_loss: 0.4419 - val_accuracy: 0.8110\n",
            "Epoch 77/100\n",
            "211/215 [============================>.] - ETA: 0s - loss: 0.3440 - accuracy: 0.8603\n",
            "Epoch 77: val_accuracy did not improve from 0.83596\n",
            "215/215 [==============================] - 3s 14ms/step - loss: 0.3436 - accuracy: 0.8603 - val_loss: 0.4432 - val_accuracy: 0.8202\n",
            "Epoch 78/100\n",
            "212/215 [============================>.] - ETA: 0s - loss: 0.3393 - accuracy: 0.8607\n",
            "Epoch 78: val_accuracy did not improve from 0.83596\n",
            "215/215 [==============================] - 3s 15ms/step - loss: 0.3388 - accuracy: 0.8609 - val_loss: 0.4521 - val_accuracy: 0.8176\n",
            "Epoch 79/100\n",
            "215/215 [==============================] - ETA: 0s - loss: 0.3366 - accuracy: 0.8669\n",
            "Epoch 79: val_accuracy did not improve from 0.83596\n",
            "215/215 [==============================] - 3s 15ms/step - loss: 0.3366 - accuracy: 0.8669 - val_loss: 0.4534 - val_accuracy: 0.8163\n",
            "Epoch 80/100\n",
            "213/215 [============================>.] - ETA: 0s - loss: 0.3361 - accuracy: 0.8633\n",
            "Epoch 80: val_accuracy did not improve from 0.83596\n",
            "215/215 [==============================] - 3s 15ms/step - loss: 0.3363 - accuracy: 0.8632 - val_loss: 0.4496 - val_accuracy: 0.8176\n",
            "Epoch 81/100\n",
            "212/215 [============================>.] - ETA: 0s - loss: 0.3389 - accuracy: 0.8639\n",
            "Epoch 81: val_accuracy did not improve from 0.83596\n",
            "215/215 [==============================] - 3s 15ms/step - loss: 0.3385 - accuracy: 0.8644 - val_loss: 0.4478 - val_accuracy: 0.8215\n",
            "Epoch 82/100\n",
            "214/215 [============================>.] - ETA: 0s - loss: 0.3281 - accuracy: 0.8687\n",
            "Epoch 82: val_accuracy did not improve from 0.83596\n",
            "215/215 [==============================] - 3s 15ms/step - loss: 0.3283 - accuracy: 0.8686 - val_loss: 0.4458 - val_accuracy: 0.8202\n",
            "Epoch 83/100\n",
            "214/215 [============================>.] - ETA: 0s - loss: 0.3381 - accuracy: 0.8659\n",
            "Epoch 83: val_accuracy did not improve from 0.83596\n",
            "215/215 [==============================] - 3s 15ms/step - loss: 0.3383 - accuracy: 0.8658 - val_loss: 0.4411 - val_accuracy: 0.8136\n",
            "Epoch 84/100\n",
            "213/215 [============================>.] - ETA: 0s - loss: 0.3365 - accuracy: 0.8637\n",
            "Epoch 84: val_accuracy did not improve from 0.83596\n",
            "215/215 [==============================] - 3s 15ms/step - loss: 0.3363 - accuracy: 0.8635 - val_loss: 0.4457 - val_accuracy: 0.8176\n",
            "Epoch 85/100\n",
            "215/215 [==============================] - ETA: 0s - loss: 0.3242 - accuracy: 0.8711\n",
            "Epoch 85: val_accuracy did not improve from 0.83596\n",
            "215/215 [==============================] - 3s 15ms/step - loss: 0.3242 - accuracy: 0.8711 - val_loss: 0.4549 - val_accuracy: 0.8097\n",
            "Epoch 86/100\n",
            "212/215 [============================>.] - ETA: 0s - loss: 0.3287 - accuracy: 0.8701\n",
            "Epoch 86: val_accuracy did not improve from 0.83596\n",
            "215/215 [==============================] - 3s 14ms/step - loss: 0.3286 - accuracy: 0.8701 - val_loss: 0.4474 - val_accuracy: 0.8176\n",
            "Epoch 87/100\n",
            "212/215 [============================>.] - ETA: 0s - loss: 0.3253 - accuracy: 0.8731\n",
            "Epoch 87: val_accuracy did not improve from 0.83596\n",
            "215/215 [==============================] - 3s 15ms/step - loss: 0.3248 - accuracy: 0.8733 - val_loss: 0.4384 - val_accuracy: 0.8163\n",
            "Epoch 88/100\n",
            "215/215 [==============================] - ETA: 0s - loss: 0.3229 - accuracy: 0.8730\n",
            "Epoch 88: val_accuracy did not improve from 0.83596\n",
            "215/215 [==============================] - 3s 15ms/step - loss: 0.3229 - accuracy: 0.8730 - val_loss: 0.4458 - val_accuracy: 0.8176\n",
            "Epoch 89/100\n",
            "212/215 [============================>.] - ETA: 0s - loss: 0.3246 - accuracy: 0.8713\n",
            "Epoch 89: val_accuracy did not improve from 0.83596\n",
            "215/215 [==============================] - 3s 14ms/step - loss: 0.3242 - accuracy: 0.8714 - val_loss: 0.4499 - val_accuracy: 0.8123\n",
            "Epoch 90/100\n",
            "212/215 [============================>.] - ETA: 0s - loss: 0.3283 - accuracy: 0.8670\n",
            "Epoch 90: val_accuracy did not improve from 0.83596\n",
            "215/215 [==============================] - 3s 15ms/step - loss: 0.3280 - accuracy: 0.8672 - val_loss: 0.4453 - val_accuracy: 0.8189\n",
            "Epoch 91/100\n",
            "215/215 [==============================] - ETA: 0s - loss: 0.3311 - accuracy: 0.8669\n",
            "Epoch 91: val_accuracy did not improve from 0.83596\n",
            "215/215 [==============================] - 3s 15ms/step - loss: 0.3311 - accuracy: 0.8669 - val_loss: 0.4427 - val_accuracy: 0.8202\n",
            "Epoch 92/100\n",
            "213/215 [============================>.] - ETA: 0s - loss: 0.3124 - accuracy: 0.8781\n",
            "Epoch 92: val_accuracy did not improve from 0.83596\n",
            "215/215 [==============================] - 3s 15ms/step - loss: 0.3124 - accuracy: 0.8780 - val_loss: 0.4571 - val_accuracy: 0.8215\n",
            "Epoch 93/100\n",
            "213/215 [============================>.] - ETA: 0s - loss: 0.3256 - accuracy: 0.8715\n",
            "Epoch 93: val_accuracy did not improve from 0.83596\n",
            "215/215 [==============================] - 3s 15ms/step - loss: 0.3258 - accuracy: 0.8711 - val_loss: 0.4508 - val_accuracy: 0.8189\n",
            "Epoch 94/100\n",
            "213/215 [============================>.] - ETA: 0s - loss: 0.3299 - accuracy: 0.8718\n",
            "Epoch 94: val_accuracy did not improve from 0.83596\n",
            "215/215 [==============================] - 3s 15ms/step - loss: 0.3296 - accuracy: 0.8720 - val_loss: 0.4514 - val_accuracy: 0.8097\n",
            "Epoch 95/100\n",
            "213/215 [============================>.] - ETA: 0s - loss: 0.3227 - accuracy: 0.8721\n",
            "Epoch 95: val_accuracy did not improve from 0.83596\n",
            "215/215 [==============================] - 3s 15ms/step - loss: 0.3231 - accuracy: 0.8717 - val_loss: 0.4454 - val_accuracy: 0.8150\n",
            "Epoch 96/100\n",
            "213/215 [============================>.] - ETA: 0s - loss: 0.3239 - accuracy: 0.8696\n",
            "Epoch 96: val_accuracy did not improve from 0.83596\n",
            "215/215 [==============================] - 3s 15ms/step - loss: 0.3237 - accuracy: 0.8698 - val_loss: 0.4519 - val_accuracy: 0.8110\n",
            "Epoch 97/100\n",
            "215/215 [==============================] - ETA: 0s - loss: 0.3210 - accuracy: 0.8715\n",
            "Epoch 97: val_accuracy did not improve from 0.83596\n",
            "215/215 [==============================] - 3s 15ms/step - loss: 0.3210 - accuracy: 0.8715 - val_loss: 0.4560 - val_accuracy: 0.8136\n",
            "Epoch 98/100\n",
            "211/215 [============================>.] - ETA: 0s - loss: 0.3238 - accuracy: 0.8704\n",
            "Epoch 98: val_accuracy did not improve from 0.83596\n",
            "215/215 [==============================] - 3s 15ms/step - loss: 0.3234 - accuracy: 0.8702 - val_loss: 0.4512 - val_accuracy: 0.8071\n",
            "Epoch 99/100\n",
            "214/215 [============================>.] - ETA: 0s - loss: 0.3189 - accuracy: 0.8719\n",
            "Epoch 99: val_accuracy did not improve from 0.83596\n",
            "215/215 [==============================] - 3s 15ms/step - loss: 0.3191 - accuracy: 0.8718 - val_loss: 0.4486 - val_accuracy: 0.8189\n",
            "Epoch 100/100\n",
            "212/215 [============================>.] - ETA: 0s - loss: 0.3201 - accuracy: 0.8731\n",
            "Epoch 100: val_accuracy did not improve from 0.83596\n",
            "215/215 [==============================] - 3s 15ms/step - loss: 0.3198 - accuracy: 0.8730 - val_loss: 0.4545 - val_accuracy: 0.8136\n"
          ]
        }
      ],
      "source": [
        "history_f = model_f.fit(train_dataset,\n",
        "                        epochs=100,\n",
        "                        steps_per_epoch = len(train_dataset),\n",
        "                        validation_data = test_dataset,\n",
        "                        validation_steps = len(test_dataset),\n",
        "                        callbacks = [create_model_checkpoint(\"final\")]\n",
        "                        )"
      ]
    },
    {
      "cell_type": "code",
      "execution_count": null,
      "metadata": {
        "colab": {
          "base_uri": "https://localhost:8080/"
        },
        "id": "8jOtsAyvbxS-",
        "outputId": "f4a80970-d6a3-43d0-aa1c-3b5f58aa223c"
      },
      "outputs": [
        {
          "name": "stdout",
          "output_type": "stream",
          "text": [
            "24/24 [==============================] - 1s 10ms/step - loss: 0.4301 - accuracy: 0.8360\n"
          ]
        },
        {
          "data": {
            "text/plain": [
              "[0.4301317632198334, 0.8359580039978027]"
            ]
          },
          "execution_count": 56,
          "metadata": {},
          "output_type": "execute_result"
        }
      ],
      "source": [
        "best_model = tf.keras.models.load_model(\"tweets/final\")\n",
        "best_model.evaluate(test_dataset)"
      ]
    },
    {
      "cell_type": "code",
      "execution_count": null,
      "metadata": {
        "colab": {
          "base_uri": "https://localhost:8080/"
        },
        "id": "e_Cv9zmXerXD",
        "outputId": "15488604-bfe5-4711-bc87-9de004a5dcc7"
      },
      "outputs": [
        {
          "name": "stdout",
          "output_type": "stream",
          "text": [
            "215/215 [==============================] - 2s 10ms/step - loss: 0.3657 - accuracy: 0.8701\n"
          ]
        },
        {
          "data": {
            "text/plain": [
              "[0.36571821570396423, 0.8700730204582214]"
            ]
          },
          "execution_count": 57,
          "metadata": {},
          "output_type": "execute_result"
        }
      ],
      "source": [
        "best_model.evaluate(train_dataset)"
      ]
    },
    {
      "cell_type": "code",
      "execution_count": 65,
      "metadata": {
        "id": "eEZzP-ERweb5"
      },
      "outputs": [],
      "source": [
        "def get_submission_file(model, data = test_text, id=id, file_name=\"sub.csv\"):\n",
        "    preds = model.predict(data)\n",
        "    preds_final = tf.squeeze(tf.round(preds))\n",
        "    sub = pd.DataFrame({\"id\": id, \"target\": preds_final})\n",
        "    sub[\"target\"] = sub[\"target\"].apply(lambda x:int(x))\n",
        "    sub.to_csv(file_name, index=False)\n",
        "    return sub"
      ]
    },
    {
      "cell_type": "code",
      "execution_count": null,
      "metadata": {
        "id": "rLvutcaw3T_6"
      },
      "outputs": [],
      "source": [
        "sub = get_submission_file(best_model)"
      ]
    },
    {
      "cell_type": "code",
      "execution_count": null,
      "metadata": {
        "colab": {
          "base_uri": "https://localhost:8080/",
          "height": 423
        },
        "id": "hEp-P9SV3aEG",
        "outputId": "c4bd03bc-94a2-4d2e-c50d-386fe3b1ea0e"
      },
      "outputs": [
        {
          "data": {
            "text/html": [
              "\n",
              "  <div id=\"df-e432044d-7226-4fd0-87af-2fcbc2c7e755\">\n",
              "    <div class=\"colab-df-container\">\n",
              "      <div>\n",
              "<style scoped>\n",
              "    .dataframe tbody tr th:only-of-type {\n",
              "        vertical-align: middle;\n",
              "    }\n",
              "\n",
              "    .dataframe tbody tr th {\n",
              "        vertical-align: top;\n",
              "    }\n",
              "\n",
              "    .dataframe thead th {\n",
              "        text-align: right;\n",
              "    }\n",
              "</style>\n",
              "<table border=\"1\" class=\"dataframe\">\n",
              "  <thead>\n",
              "    <tr style=\"text-align: right;\">\n",
              "      <th></th>\n",
              "      <th>id</th>\n",
              "      <th>target</th>\n",
              "    </tr>\n",
              "  </thead>\n",
              "  <tbody>\n",
              "    <tr>\n",
              "      <th>0</th>\n",
              "      <td>0</td>\n",
              "      <td>0</td>\n",
              "    </tr>\n",
              "    <tr>\n",
              "      <th>1</th>\n",
              "      <td>2</td>\n",
              "      <td>1</td>\n",
              "    </tr>\n",
              "    <tr>\n",
              "      <th>2</th>\n",
              "      <td>3</td>\n",
              "      <td>1</td>\n",
              "    </tr>\n",
              "    <tr>\n",
              "      <th>3</th>\n",
              "      <td>9</td>\n",
              "      <td>1</td>\n",
              "    </tr>\n",
              "    <tr>\n",
              "      <th>4</th>\n",
              "      <td>11</td>\n",
              "      <td>1</td>\n",
              "    </tr>\n",
              "    <tr>\n",
              "      <th>...</th>\n",
              "      <td>...</td>\n",
              "      <td>...</td>\n",
              "    </tr>\n",
              "    <tr>\n",
              "      <th>3258</th>\n",
              "      <td>10861</td>\n",
              "      <td>1</td>\n",
              "    </tr>\n",
              "    <tr>\n",
              "      <th>3259</th>\n",
              "      <td>10865</td>\n",
              "      <td>1</td>\n",
              "    </tr>\n",
              "    <tr>\n",
              "      <th>3260</th>\n",
              "      <td>10868</td>\n",
              "      <td>1</td>\n",
              "    </tr>\n",
              "    <tr>\n",
              "      <th>3261</th>\n",
              "      <td>10874</td>\n",
              "      <td>1</td>\n",
              "    </tr>\n",
              "    <tr>\n",
              "      <th>3262</th>\n",
              "      <td>10875</td>\n",
              "      <td>0</td>\n",
              "    </tr>\n",
              "  </tbody>\n",
              "</table>\n",
              "<p>3263 rows × 2 columns</p>\n",
              "</div>\n",
              "      <button class=\"colab-df-convert\" onclick=\"convertToInteractive('df-e432044d-7226-4fd0-87af-2fcbc2c7e755')\"\n",
              "              title=\"Convert this dataframe to an interactive table.\"\n",
              "              style=\"display:none;\">\n",
              "        \n",
              "  <svg xmlns=\"http://www.w3.org/2000/svg\" height=\"24px\"viewBox=\"0 0 24 24\"\n",
              "       width=\"24px\">\n",
              "    <path d=\"M0 0h24v24H0V0z\" fill=\"none\"/>\n",
              "    <path d=\"M18.56 5.44l.94 2.06.94-2.06 2.06-.94-2.06-.94-.94-2.06-.94 2.06-2.06.94zm-11 1L8.5 8.5l.94-2.06 2.06-.94-2.06-.94L8.5 2.5l-.94 2.06-2.06.94zm10 10l.94 2.06.94-2.06 2.06-.94-2.06-.94-.94-2.06-.94 2.06-2.06.94z\"/><path d=\"M17.41 7.96l-1.37-1.37c-.4-.4-.92-.59-1.43-.59-.52 0-1.04.2-1.43.59L10.3 9.45l-7.72 7.72c-.78.78-.78 2.05 0 2.83L4 21.41c.39.39.9.59 1.41.59.51 0 1.02-.2 1.41-.59l7.78-7.78 2.81-2.81c.8-.78.8-2.07 0-2.86zM5.41 20L4 18.59l7.72-7.72 1.47 1.35L5.41 20z\"/>\n",
              "  </svg>\n",
              "      </button>\n",
              "      \n",
              "  <style>\n",
              "    .colab-df-container {\n",
              "      display:flex;\n",
              "      flex-wrap:wrap;\n",
              "      gap: 12px;\n",
              "    }\n",
              "\n",
              "    .colab-df-convert {\n",
              "      background-color: #E8F0FE;\n",
              "      border: none;\n",
              "      border-radius: 50%;\n",
              "      cursor: pointer;\n",
              "      display: none;\n",
              "      fill: #1967D2;\n",
              "      height: 32px;\n",
              "      padding: 0 0 0 0;\n",
              "      width: 32px;\n",
              "    }\n",
              "\n",
              "    .colab-df-convert:hover {\n",
              "      background-color: #E2EBFA;\n",
              "      box-shadow: 0px 1px 2px rgba(60, 64, 67, 0.3), 0px 1px 3px 1px rgba(60, 64, 67, 0.15);\n",
              "      fill: #174EA6;\n",
              "    }\n",
              "\n",
              "    [theme=dark] .colab-df-convert {\n",
              "      background-color: #3B4455;\n",
              "      fill: #D2E3FC;\n",
              "    }\n",
              "\n",
              "    [theme=dark] .colab-df-convert:hover {\n",
              "      background-color: #434B5C;\n",
              "      box-shadow: 0px 1px 3px 1px rgba(0, 0, 0, 0.15);\n",
              "      filter: drop-shadow(0px 1px 2px rgba(0, 0, 0, 0.3));\n",
              "      fill: #FFFFFF;\n",
              "    }\n",
              "  </style>\n",
              "\n",
              "      <script>\n",
              "        const buttonEl =\n",
              "          document.querySelector('#df-e432044d-7226-4fd0-87af-2fcbc2c7e755 button.colab-df-convert');\n",
              "        buttonEl.style.display =\n",
              "          google.colab.kernel.accessAllowed ? 'block' : 'none';\n",
              "\n",
              "        async function convertToInteractive(key) {\n",
              "          const element = document.querySelector('#df-e432044d-7226-4fd0-87af-2fcbc2c7e755');\n",
              "          const dataTable =\n",
              "            await google.colab.kernel.invokeFunction('convertToInteractive',\n",
              "                                                     [key], {});\n",
              "          if (!dataTable) return;\n",
              "\n",
              "          const docLinkHtml = 'Like what you see? Visit the ' +\n",
              "            '<a target=\"_blank\" href=https://colab.research.google.com/notebooks/data_table.ipynb>data table notebook</a>'\n",
              "            + ' to learn more about interactive tables.';\n",
              "          element.innerHTML = '';\n",
              "          dataTable['output_type'] = 'display_data';\n",
              "          await google.colab.output.renderOutput(dataTable, element);\n",
              "          const docLink = document.createElement('div');\n",
              "          docLink.innerHTML = docLinkHtml;\n",
              "          element.appendChild(docLink);\n",
              "        }\n",
              "      </script>\n",
              "    </div>\n",
              "  </div>\n",
              "  "
            ],
            "text/plain": [
              "         id  target\n",
              "0         0       0\n",
              "1         2       1\n",
              "2         3       1\n",
              "3         9       1\n",
              "4        11       1\n",
              "...     ...     ...\n",
              "3258  10861       1\n",
              "3259  10865       1\n",
              "3260  10868       1\n",
              "3261  10874       1\n",
              "3262  10875       0\n",
              "\n",
              "[3263 rows x 2 columns]"
            ]
          },
          "execution_count": 60,
          "metadata": {},
          "output_type": "execute_result"
        }
      ],
      "source": [
        "sub"
      ]
    },
    {
      "cell_type": "markdown",
      "metadata": {
        "id": "w6d4uEHVxQq7"
      },
      "source": [
        "## Creating a Multivariate Model"
      ]
    },
    {
      "cell_type": "markdown",
      "metadata": {},
      "source": [
        "Untill now, we are using just the `text` column of the data. Next, we'll create a multivariate model to use the `keyword` along with the `text` column."
      ]
    },
    {
      "cell_type": "markdown",
      "metadata": {
        "id": "CfB_d87ozGVW"
      },
      "source": [
        "### Using \"USE\" For both the `text` and `keyword`"
      ]
    },
    {
      "cell_type": "markdown",
      "metadata": {
        "id": "MSkayZwTxQq7"
      },
      "source": [
        "We'll use the `text` as well as the `keyword` columns, in hope that this will improve accuracy. We will use the above \"USE\" embeddings for the `keyword` column too."
      ]
    },
    {
      "cell_type": "code",
      "execution_count": 9,
      "metadata": {
        "id": "k5QNphhSxQq8"
      },
      "outputs": [],
      "source": [
        "import tensorflow_hub as hub\n",
        "# We can use this encoding layer in place of our text_vectorizer and embedding layer\n",
        "sentence_encoder_layer = hub.KerasLayer(\"https://tfhub.dev/google/universal-sentence-encoder/4\",\n",
        "                                        input_shape=[], # shape of inputs coming to our model \n",
        "                                        dtype=tf.string, # data type of inputs coming to the USE layer\n",
        "                                        trainable=False, # keep the pretrained weights (we'll create a feature extractor)\n",
        "                                        name=\"USE\") "
      ]
    },
    {
      "cell_type": "code",
      "execution_count": 106,
      "metadata": {
        "colab": {
          "base_uri": "https://localhost:8080/"
        },
        "id": "lmi3C3KixQq8",
        "outputId": "873a4ca5-0a75-457e-928b-9705a7f42175"
      },
      "outputs": [
        {
          "name": "stdout",
          "output_type": "stream",
          "text": [
            "Model: \"model_24\"\n",
            "__________________________________________________________________________________________________\n",
            " Layer (type)                   Output Shape         Param #     Connected to                     \n",
            "==================================================================================================\n",
            " text_input (InputLayer)        [(None,)]            0           []                               \n",
            "                                                                                                  \n",
            " keyword_input (InputLayer)     [(None,)]            0           []                               \n",
            "                                                                                                  \n",
            " USE (KerasLayer)               (None, 512)          256797824   ['text_input[0][0]',             \n",
            "                                                                  'keyword_input[0][0]']          \n",
            "                                                                                                  \n",
            " dense_114 (Dense)              (None, 64)           32832       ['USE[36][0]']                   \n",
            "                                                                                                  \n",
            " dense_115 (Dense)              (None, 64)           32832       ['USE[37][0]']                   \n",
            "                                                                                                  \n",
            " concatenate_26 (Concatenate)   (None, 128)          0           ['dense_114[0][0]',              \n",
            "                                                                  'dense_115[0][0]']              \n",
            "                                                                                                  \n",
            " dropout_59 (Dropout)           (None, 128)          0           ['concatenate_26[0][0]']         \n",
            "                                                                                                  \n",
            " batch_normalization_62 (BatchN  (None, 128)         512         ['dropout_59[0][0]']             \n",
            " ormalization)                                                                                    \n",
            "                                                                                                  \n",
            " dense_116 (Dense)              (None, 128)          16512       ['batch_normalization_62[0][0]'] \n",
            "                                                                                                  \n",
            " dropout_60 (Dropout)           (None, 128)          0           ['dense_116[0][0]']              \n",
            "                                                                                                  \n",
            " batch_normalization_63 (BatchN  (None, 128)         512         ['dropout_60[0][0]']             \n",
            " ormalization)                                                                                    \n",
            "                                                                                                  \n",
            " dense_117 (Dense)              (None, 1)            129         ['batch_normalization_63[0][0]'] \n",
            "                                                                                                  \n",
            "==================================================================================================\n",
            "Total params: 256,881,153\n",
            "Trainable params: 82,817\n",
            "Non-trainable params: 256,798,336\n",
            "__________________________________________________________________________________________________\n"
          ]
        }
      ],
      "source": [
        "text_input = tfl.Input(shape=[], dtype=tf.string, name=\"text_input\")\n",
        "text_embedding = sentence_encoder_layer(text_input)\n",
        "text_x = tfl.Dense(64, activation=\"relu\")(text_embedding)\n",
        "\n",
        "keyword_input = tfl.Input(shape=[], dtype=tf.string, name=\"keyword_input\")\n",
        "keyword_embedding = sentence_encoder_layer(keyword_input)\n",
        "keyword_x = tfl.Dense(64, activation=\"relu\")(keyword_embedding)\n",
        "\n",
        "x = tfl.Concatenate()([text_x, keyword_x])\n",
        "x = tfl.Dropout(0.8)(x)\n",
        "x = tfl.BatchNormalization()(x)\n",
        "\n",
        "x = tfl.Dense(128, activation=\"relu\")(x)\n",
        "x = tfl.Dropout(0.8)(x)\n",
        "x = tfl.BatchNormalization()(x)\n",
        "\n",
        "# x = tfl.Dense(256, activation=\"relu\")(x)\n",
        "# x = tfl.Dropout(0.7)(x)\n",
        "# x = tfl.BatchNormalization()(x)\n",
        "\n",
        "# x = tfl.Dense(512, activation=\"relu\")(x)\n",
        "# x = tfl.Dropout(0.8)(x)\n",
        "# x = tfl.BatchNormalization()(x)\n",
        "\n",
        "output = tfl.Dense(1, activation=\"sigmoid\")(x)\n",
        "\n",
        "multi_model = tf.keras.Model(inputs=[text_input, keyword_input], outputs=output)\n",
        "multi_model.compile(loss=\"binary_crossentropy\",\n",
        "                    optimizer=tf.keras.optimizers.Adam(),\n",
        "                    metrics=[\"accuracy\"])\n",
        "        \n",
        "multi_model.summary()"
      ]
    },
    {
      "cell_type": "code",
      "execution_count": null,
      "metadata": {
        "colab": {
          "base_uri": "https://localhost:8080/",
          "height": 1000
        },
        "id": "SAXMpT316eYd",
        "outputId": "7adc344d-a724-44d3-92fc-fac086013b4a"
      },
      "outputs": [
        {
          "data": {
            "image/png": "[encoded data removed]",
            "text/plain": [
              "<IPython.core.display.Image object>"
            ]
          },
          "execution_count": 69,
          "metadata": {},
          "output_type": "execute_result"
        }
      ],
      "source": [
        "from tensorflow.keras.utils import plot_model\n",
        "plot_model(multi_model, show_shapes=True)"
      ]
    },
    {
      "cell_type": "code",
      "execution_count": 88,
      "metadata": {
        "id": "rOTDCJhHxQq9"
      },
      "outputs": [],
      "source": [
        "train_data = train.drop(columns=[\"target\"], axis=1)\n",
        "target = train[\"target\"]"
      ]
    },
    {
      "cell_type": "code",
      "execution_count": 89,
      "metadata": {
        "id": "21CPS0uwxQq9"
      },
      "outputs": [],
      "source": [
        "X_train, X_test, y_train, y_test = train_test_split(train_data, target, test_size=0.2, random_state=42)"
      ]
    },
    {
      "cell_type": "code",
      "execution_count": 90,
      "metadata": {
        "id": "NcojKn74xQq9"
      },
      "outputs": [],
      "source": [
        "train_text = X_train[\"text\"]\n",
        "train_keyword = X_train[\"keyword\"]\n",
        "\n",
        "test_text = X_test[\"text\"]\n",
        "test_keyword = X_test[\"keyword\"]"
      ]
    },
    {
      "cell_type": "code",
      "execution_count": 91,
      "metadata": {
        "id": "y1ukyX5-xQq9"
      },
      "outputs": [],
      "source": [
        "train_text_data = tf.data.Dataset.from_tensor_slices(train_text)\n",
        "train_keyword_data = tf.data.Dataset.from_tensor_slices(train_keyword)\n",
        "train_target_data = tf.data.Dataset.from_tensor_slices(y_train)\n",
        "train_dataset = tf.data.Dataset.zip(((train_text_data, train_keyword_data), train_target_data))\n",
        "train_dataset = train_dataset.batch(64).prefetch(tf.data.AUTOTUNE)\n",
        "\n",
        "test_text_data = tf.data.Dataset.from_tensor_slices(test_text)\n",
        "test_keyword_data = tf.data.Dataset.from_tensor_slices(test_keyword)\n",
        "test_target_data = tf.data.Dataset.from_tensor_slices(y_test)\n",
        "test_dataset = tf.data.Dataset.zip(((test_text_data, test_keyword_data), test_target_data)) \n",
        "test_dataset = test_dataset.batch(64).prefetch(tf.data.AUTOTUNE)\n",
        "\n",
        "final_test_text_data = tf.data.Dataset.from_tensor_slices(test[\"text\"])\n",
        "final_test_keyword_data = tf.data.Dataset.from_tensor_slices(test[\"keyword\"])\n",
        "final_test_dataset = tf.data.Dataset.zip(((final_test_text_data, final_test_keyword_data),)) \n",
        "final_test_dataset = final_test_dataset.batch(64).prefetch(tf.data.AUTOTUNE)"
      ]
    },
    {
      "cell_type": "code",
      "execution_count": 109,
      "metadata": {
        "colab": {
          "base_uri": "https://localhost:8080/"
        },
        "id": "EhS6u1pwxQq-",
        "outputId": "706d1058-9464-4e46-e776-4c4757cfeeaf"
      },
      "outputs": [
        {
          "name": "stdout",
          "output_type": "stream",
          "text": [
            "Saving model checkpoint to: tweets/multi\n",
            "Epoch 1/100\n",
            "95/96 [============================>.] - ETA: 0s - loss: 0.4609 - accuracy: 0.7928\n",
            "Epoch 1: val_accuracy improved from -inf to 0.81287, saving model to tweets/multi\n",
            "INFO:tensorflow:Assets written to: tweets/multi/assets\n"
          ]
        },
        {
          "name": "stderr",
          "output_type": "stream",
          "text": [
            "INFO:tensorflow:Assets written to: tweets/multi/assets\n"
          ]
        },
        {
          "name": "stdout",
          "output_type": "stream",
          "text": [
            "\b\b\b\b\b\b\b\b\b\b\b\b\b\b\b\b\b\b\b\b\b\b\b\b\b\b\b\b\b\b\b\b\b\b\b\b\b\b\b\b\b\b\b\b\b\b\b\b\b\b\b\b\b\b\b\b\b\b\b\b\b\b\b\b\b\b\b\b\b\b\b\b\b\b\b\b\b\b\b\b\b\b\r96/96 [==============================] - 14s 144ms/step - loss: 0.4608 - accuracy: 0.7927 - val_loss: 0.4175 - val_accuracy: 0.8129\n",
            "Epoch 2/100\n",
            "95/96 [============================>.] - ETA: 0s - loss: 0.4542 - accuracy: 0.7992\n",
            "Epoch 2: val_accuracy improved from 0.81287 to 0.82206, saving model to tweets/multi\n",
            "INFO:tensorflow:Assets written to: tweets/multi/assets\n"
          ]
        },
        {
          "name": "stderr",
          "output_type": "stream",
          "text": [
            "INFO:tensorflow:Assets written to: tweets/multi/assets\n"
          ]
        },
        {
          "name": "stdout",
          "output_type": "stream",
          "text": [
            "\b\b\b\b\b\b\b\b\b\b\b\b\b\b\b\b\b\b\b\b\b\b\b\b\b\b\b\b\b\b\b\b\b\b\b\b\b\b\b\b\b\b\b\b\b\b\b\b\b\b\b\b\b\b\b\b\b\b\b\b\b\b\b\b\b\b\b\b\b\b\b\b\b\b\b\b\b\b\b\b\b\b\r96/96 [==============================] - 13s 133ms/step - loss: 0.4542 - accuracy: 0.7993 - val_loss: 0.4142 - val_accuracy: 0.8221\n",
            "Epoch 3/100\n",
            "96/96 [==============================] - ETA: 0s - loss: 0.4620 - accuracy: 0.8006\n",
            "Epoch 3: val_accuracy did not improve from 0.82206\n",
            "96/96 [==============================] - 2s 22ms/step - loss: 0.4620 - accuracy: 0.8006 - val_loss: 0.4180 - val_accuracy: 0.8162\n",
            "Epoch 4/100\n",
            "93/96 [============================>.] - ETA: 0s - loss: 0.4465 - accuracy: 0.8017\n",
            "Epoch 4: val_accuracy did not improve from 0.82206\n",
            "96/96 [==============================] - 2s 21ms/step - loss: 0.4471 - accuracy: 0.8019 - val_loss: 0.4162 - val_accuracy: 0.8148\n",
            "Epoch 5/100\n",
            "95/96 [============================>.] - ETA: 0s - loss: 0.4462 - accuracy: 0.8043\n",
            "Epoch 5: val_accuracy improved from 0.82206 to 0.82797, saving model to tweets/multi\n",
            "INFO:tensorflow:Assets written to: tweets/multi/assets\n"
          ]
        },
        {
          "name": "stderr",
          "output_type": "stream",
          "text": [
            "INFO:tensorflow:Assets written to: tweets/multi/assets\n"
          ]
        },
        {
          "name": "stdout",
          "output_type": "stream",
          "text": [
            "\b\b\b\b\b\b\b\b\b\b\b\b\b\b\b\b\b\b\b\b\b\b\b\b\b\b\b\b\b\b\b\b\b\b\b\b\b\b\b\b\b\b\b\b\b\b\b\b\b\b\b\b\b\b\b\b\b\b\b\b\b\b\b\b\b\b\b\b\b\b\b\b\b\b\b\b\b\b\b\b\b\b\r96/96 [==============================] - 11s 120ms/step - loss: 0.4459 - accuracy: 0.8046 - val_loss: 0.4078 - val_accuracy: 0.8280\n",
            "Epoch 6/100\n",
            "95/96 [============================>.] - ETA: 0s - loss: 0.4466 - accuracy: 0.8125\n",
            "Epoch 6: val_accuracy did not improve from 0.82797\n",
            "96/96 [==============================] - 2s 22ms/step - loss: 0.4465 - accuracy: 0.8128 - val_loss: 0.4133 - val_accuracy: 0.8227\n",
            "Epoch 7/100\n",
            "96/96 [==============================] - ETA: 0s - loss: 0.4415 - accuracy: 0.8090\n",
            "Epoch 7: val_accuracy did not improve from 0.82797\n",
            "96/96 [==============================] - 2s 22ms/step - loss: 0.4415 - accuracy: 0.8090 - val_loss: 0.4105 - val_accuracy: 0.8227\n",
            "Epoch 8/100\n",
            "94/96 [============================>.] - ETA: 0s - loss: 0.4370 - accuracy: 0.8112\n",
            "Epoch 8: val_accuracy did not improve from 0.82797\n",
            "96/96 [==============================] - 2s 22ms/step - loss: 0.4367 - accuracy: 0.8111 - val_loss: 0.4114 - val_accuracy: 0.8227\n",
            "Epoch 9/100\n",
            "94/96 [============================>.] - ETA: 0s - loss: 0.4328 - accuracy: 0.8143\n",
            "Epoch 9: val_accuracy improved from 0.82797 to 0.82863, saving model to tweets/multi\n",
            "INFO:tensorflow:Assets written to: tweets/multi/assets\n"
          ]
        },
        {
          "name": "stderr",
          "output_type": "stream",
          "text": [
            "INFO:tensorflow:Assets written to: tweets/multi/assets\n"
          ]
        },
        {
          "name": "stdout",
          "output_type": "stream",
          "text": [
            "\b\b\b\b\b\b\b\b\b\b\b\b\b\b\b\b\b\b\b\b\b\b\b\b\b\b\b\b\b\b\b\b\b\b\b\b\b\b\b\b\b\b\b\b\b\b\b\b\b\b\b\b\b\b\b\b\b\b\b\b\b\b\b\b\b\b\b\b\b\b\b\b\b\b\b\b\b\b\b\b\b\b\r96/96 [==============================] - 13s 138ms/step - loss: 0.4325 - accuracy: 0.8143 - val_loss: 0.4087 - val_accuracy: 0.8286\n",
            "Epoch 10/100\n",
            "94/96 [============================>.] - ETA: 0s - loss: 0.4308 - accuracy: 0.8122\n",
            "Epoch 10: val_accuracy did not improve from 0.82863\n",
            "96/96 [==============================] - 2s 22ms/step - loss: 0.4304 - accuracy: 0.8128 - val_loss: 0.4084 - val_accuracy: 0.8253\n",
            "Epoch 11/100\n",
            "96/96 [==============================] - ETA: 0s - loss: 0.4280 - accuracy: 0.8082\n",
            "Epoch 11: val_accuracy did not improve from 0.82863\n",
            "96/96 [==============================] - 2s 22ms/step - loss: 0.4280 - accuracy: 0.8082 - val_loss: 0.4068 - val_accuracy: 0.8214\n",
            "Epoch 12/100\n",
            "94/96 [============================>.] - ETA: 0s - loss: 0.4216 - accuracy: 0.8152\n",
            "Epoch 12: val_accuracy did not improve from 0.82863\n",
            "96/96 [==============================] - 2s 21ms/step - loss: 0.4214 - accuracy: 0.8151 - val_loss: 0.4064 - val_accuracy: 0.8214\n",
            "Epoch 13/100\n",
            "94/96 [============================>.] - ETA: 0s - loss: 0.4209 - accuracy: 0.8167\n",
            "Epoch 13: val_accuracy did not improve from 0.82863\n",
            "96/96 [==============================] - 2s 22ms/step - loss: 0.4210 - accuracy: 0.8159 - val_loss: 0.4067 - val_accuracy: 0.8221\n",
            "Epoch 14/100\n",
            "93/96 [============================>.] - ETA: 0s - loss: 0.4263 - accuracy: 0.8157\n",
            "Epoch 14: val_accuracy did not improve from 0.82863\n",
            "96/96 [==============================] - 2s 21ms/step - loss: 0.4269 - accuracy: 0.8154 - val_loss: 0.4066 - val_accuracy: 0.8227\n",
            "Epoch 15/100\n",
            "95/96 [============================>.] - ETA: 0s - loss: 0.4198 - accuracy: 0.8196\n",
            "Epoch 15: val_accuracy did not improve from 0.82863\n",
            "96/96 [==============================] - 2s 22ms/step - loss: 0.4197 - accuracy: 0.8197 - val_loss: 0.4066 - val_accuracy: 0.8207\n",
            "Epoch 16/100\n",
            "95/96 [============================>.] - ETA: 0s - loss: 0.4189 - accuracy: 0.8188\n",
            "Epoch 16: val_accuracy did not improve from 0.82863\n",
            "96/96 [==============================] - 2s 21ms/step - loss: 0.4189 - accuracy: 0.8187 - val_loss: 0.4077 - val_accuracy: 0.8194\n",
            "Epoch 17/100\n",
            "94/96 [============================>.] - ETA: 0s - loss: 0.4065 - accuracy: 0.8266\n",
            "Epoch 17: val_accuracy did not improve from 0.82863\n",
            "96/96 [==============================] - 2s 21ms/step - loss: 0.4060 - accuracy: 0.8271 - val_loss: 0.4068 - val_accuracy: 0.8234\n",
            "Epoch 18/100\n",
            "95/96 [============================>.] - ETA: 0s - loss: 0.4174 - accuracy: 0.8186\n",
            "Epoch 18: val_accuracy did not improve from 0.82863\n",
            "96/96 [==============================] - 3s 28ms/step - loss: 0.4171 - accuracy: 0.8189 - val_loss: 0.4071 - val_accuracy: 0.8175\n",
            "Epoch 19/100\n",
            "93/96 [============================>.] - ETA: 0s - loss: 0.4109 - accuracy: 0.8276\n",
            "Epoch 19: val_accuracy did not improve from 0.82863\n",
            "96/96 [==============================] - 2s 21ms/step - loss: 0.4105 - accuracy: 0.8277 - val_loss: 0.4053 - val_accuracy: 0.8253\n",
            "Epoch 20/100\n",
            "95/96 [============================>.] - ETA: 0s - loss: 0.4003 - accuracy: 0.8258\n",
            "Epoch 20: val_accuracy did not improve from 0.82863\n",
            "96/96 [==============================] - 2s 21ms/step - loss: 0.4002 - accuracy: 0.8259 - val_loss: 0.4044 - val_accuracy: 0.8267\n",
            "Epoch 21/100\n",
            "96/96 [==============================] - ETA: 0s - loss: 0.4044 - accuracy: 0.8235\n",
            "Epoch 21: val_accuracy did not improve from 0.82863\n",
            "96/96 [==============================] - 2s 22ms/step - loss: 0.4044 - accuracy: 0.8235 - val_loss: 0.4037 - val_accuracy: 0.8221\n",
            "Epoch 22/100\n",
            "93/96 [============================>.] - ETA: 0s - loss: 0.3960 - accuracy: 0.8288\n",
            "Epoch 22: val_accuracy improved from 0.82863 to 0.82928, saving model to tweets/multi\n",
            "INFO:tensorflow:Assets written to: tweets/multi/assets\n"
          ]
        },
        {
          "name": "stderr",
          "output_type": "stream",
          "text": [
            "INFO:tensorflow:Assets written to: tweets/multi/assets\n"
          ]
        },
        {
          "name": "stdout",
          "output_type": "stream",
          "text": [
            "\b\b\b\b\b\b\b\b\b\b\b\b\b\b\b\b\b\b\b\b\b\b\b\b\b\b\b\b\b\b\b\b\b\b\b\b\b\b\b\b\b\b\b\b\b\b\b\b\b\b\b\b\b\b\b\b\b\b\b\b\b\b\b\b\b\b\b\b\b\b\b\b\b\b\b\b\b\b\b\b\b\b\r96/96 [==============================] - 11s 119ms/step - loss: 0.3954 - accuracy: 0.8289 - val_loss: 0.4033 - val_accuracy: 0.8293\n",
            "Epoch 23/100\n",
            "95/96 [============================>.] - ETA: 0s - loss: 0.4039 - accuracy: 0.8250\n",
            "Epoch 23: val_accuracy did not improve from 0.82928\n",
            "96/96 [==============================] - 2s 22ms/step - loss: 0.4036 - accuracy: 0.8251 - val_loss: 0.4051 - val_accuracy: 0.8201\n",
            "Epoch 24/100\n",
            "94/96 [============================>.] - ETA: 0s - loss: 0.3962 - accuracy: 0.8300\n",
            "Epoch 24: val_accuracy did not improve from 0.82928\n",
            "96/96 [==============================] - 2s 23ms/step - loss: 0.3958 - accuracy: 0.8297 - val_loss: 0.4055 - val_accuracy: 0.8221\n",
            "Epoch 25/100\n",
            "94/96 [============================>.] - ETA: 0s - loss: 0.4009 - accuracy: 0.8285\n",
            "Epoch 25: val_accuracy did not improve from 0.82928\n",
            "96/96 [==============================] - 2s 22ms/step - loss: 0.3999 - accuracy: 0.8292 - val_loss: 0.4053 - val_accuracy: 0.8201\n",
            "Epoch 26/100\n",
            "95/96 [============================>.] - ETA: 0s - loss: 0.3950 - accuracy: 0.8299\n",
            "Epoch 26: val_accuracy did not improve from 0.82928\n",
            "96/96 [==============================] - 2s 22ms/step - loss: 0.3950 - accuracy: 0.8299 - val_loss: 0.4055 - val_accuracy: 0.8253\n",
            "Epoch 27/100\n",
            "96/96 [==============================] - ETA: 0s - loss: 0.3908 - accuracy: 0.8322\n",
            "Epoch 27: val_accuracy did not improve from 0.82928\n",
            "96/96 [==============================] - 2s 21ms/step - loss: 0.3908 - accuracy: 0.8322 - val_loss: 0.4041 - val_accuracy: 0.8260\n",
            "Epoch 28/100\n",
            "93/96 [============================>.] - ETA: 0s - loss: 0.3945 - accuracy: 0.8298\n",
            "Epoch 28: val_accuracy did not improve from 0.82928\n",
            "96/96 [==============================] - 2s 21ms/step - loss: 0.3954 - accuracy: 0.8295 - val_loss: 0.4030 - val_accuracy: 0.8234\n",
            "Epoch 29/100\n",
            "95/96 [============================>.] - ETA: 0s - loss: 0.3837 - accuracy: 0.8416\n",
            "Epoch 29: val_accuracy did not improve from 0.82928\n",
            "96/96 [==============================] - 2s 22ms/step - loss: 0.3836 - accuracy: 0.8417 - val_loss: 0.4045 - val_accuracy: 0.8253\n",
            "Epoch 30/100\n",
            "95/96 [============================>.] - ETA: 0s - loss: 0.3882 - accuracy: 0.8350\n",
            "Epoch 30: val_accuracy did not improve from 0.82928\n",
            "96/96 [==============================] - 2s 22ms/step - loss: 0.3879 - accuracy: 0.8351 - val_loss: 0.4076 - val_accuracy: 0.8221\n",
            "Epoch 31/100\n",
            "94/96 [============================>.] - ETA: 0s - loss: 0.3882 - accuracy: 0.8369\n",
            "Epoch 31: val_accuracy did not improve from 0.82928\n",
            "96/96 [==============================] - 2s 22ms/step - loss: 0.3881 - accuracy: 0.8368 - val_loss: 0.4090 - val_accuracy: 0.8168\n",
            "Epoch 32/100\n",
            "95/96 [============================>.] - ETA: 0s - loss: 0.3854 - accuracy: 0.8350\n",
            "Epoch 32: val_accuracy improved from 0.82928 to 0.83519, saving model to tweets/multi\n",
            "INFO:tensorflow:Assets written to: tweets/multi/assets\n"
          ]
        },
        {
          "name": "stderr",
          "output_type": "stream",
          "text": [
            "INFO:tensorflow:Assets written to: tweets/multi/assets\n"
          ]
        },
        {
          "name": "stdout",
          "output_type": "stream",
          "text": [
            "\b\b\b\b\b\b\b\b\b\b\b\b\b\b\b\b\b\b\b\b\b\b\b\b\b\b\b\b\b\b\b\b\b\b\b\b\b\b\b\b\b\b\b\b\b\b\b\b\b\b\b\b\b\b\b\b\b\b\b\b\b\b\b\b\b\b\b\b\b\b\b\b\b\b\b\b\b\b\b\b\b\b\r96/96 [==============================] - 12s 126ms/step - loss: 0.3850 - accuracy: 0.8353 - val_loss: 0.4070 - val_accuracy: 0.8352\n",
            "Epoch 33/100\n",
            "94/96 [============================>.] - ETA: 0s - loss: 0.3881 - accuracy: 0.8338\n",
            "Epoch 33: val_accuracy did not improve from 0.83519\n",
            "96/96 [==============================] - 2s 23ms/step - loss: 0.3874 - accuracy: 0.8343 - val_loss: 0.4058 - val_accuracy: 0.8267\n",
            "Epoch 34/100\n",
            "94/96 [============================>.] - ETA: 0s - loss: 0.3825 - accuracy: 0.8396\n",
            "Epoch 34: val_accuracy did not improve from 0.83519\n",
            "96/96 [==============================] - 2s 21ms/step - loss: 0.3818 - accuracy: 0.8399 - val_loss: 0.4068 - val_accuracy: 0.8240\n",
            "Epoch 35/100\n",
            "93/96 [============================>.] - ETA: 0s - loss: 0.3843 - accuracy: 0.8397\n",
            "Epoch 35: val_accuracy did not improve from 0.83519\n",
            "96/96 [==============================] - 2s 21ms/step - loss: 0.3830 - accuracy: 0.8399 - val_loss: 0.4076 - val_accuracy: 0.8260\n",
            "Epoch 36/100\n",
            "95/96 [============================>.] - ETA: 0s - loss: 0.3824 - accuracy: 0.8357\n",
            "Epoch 36: val_accuracy did not improve from 0.83519\n",
            "96/96 [==============================] - 2s 21ms/step - loss: 0.3820 - accuracy: 0.8359 - val_loss: 0.4074 - val_accuracy: 0.8234\n",
            "Epoch 37/100\n",
            "93/96 [============================>.] - ETA: 0s - loss: 0.3835 - accuracy: 0.8394\n",
            "Epoch 37: val_accuracy did not improve from 0.83519\n",
            "96/96 [==============================] - 2s 21ms/step - loss: 0.3827 - accuracy: 0.8394 - val_loss: 0.4075 - val_accuracy: 0.8293\n",
            "Epoch 38/100\n",
            "95/96 [============================>.] - ETA: 0s - loss: 0.3680 - accuracy: 0.8451\n",
            "Epoch 38: val_accuracy did not improve from 0.83519\n",
            "96/96 [==============================] - 2s 21ms/step - loss: 0.3679 - accuracy: 0.8451 - val_loss: 0.4111 - val_accuracy: 0.8247\n",
            "Epoch 39/100\n",
            "96/96 [==============================] - ETA: 0s - loss: 0.3718 - accuracy: 0.8441\n",
            "Epoch 39: val_accuracy did not improve from 0.83519\n",
            "96/96 [==============================] - 2s 22ms/step - loss: 0.3718 - accuracy: 0.8441 - val_loss: 0.4124 - val_accuracy: 0.8214\n",
            "Epoch 40/100\n",
            "95/96 [============================>.] - ETA: 0s - loss: 0.3710 - accuracy: 0.8434\n",
            "Epoch 40: val_accuracy did not improve from 0.83519\n",
            "96/96 [==============================] - 2s 22ms/step - loss: 0.3713 - accuracy: 0.8433 - val_loss: 0.4120 - val_accuracy: 0.8221\n",
            "Epoch 41/100\n",
            "94/96 [============================>.] - ETA: 0s - loss: 0.3707 - accuracy: 0.8413\n",
            "Epoch 41: val_accuracy did not improve from 0.83519\n",
            "96/96 [==============================] - 2s 22ms/step - loss: 0.3699 - accuracy: 0.8415 - val_loss: 0.4122 - val_accuracy: 0.8260\n",
            "Epoch 42/100\n",
            "95/96 [============================>.] - ETA: 0s - loss: 0.3675 - accuracy: 0.8444\n",
            "Epoch 42: val_accuracy did not improve from 0.83519\n",
            "96/96 [==============================] - 2s 22ms/step - loss: 0.3673 - accuracy: 0.8446 - val_loss: 0.4131 - val_accuracy: 0.8273\n",
            "Epoch 43/100\n",
            "94/96 [============================>.] - ETA: 0s - loss: 0.3704 - accuracy: 0.8409\n",
            "Epoch 43: val_accuracy did not improve from 0.83519\n",
            "96/96 [==============================] - 2s 21ms/step - loss: 0.3700 - accuracy: 0.8410 - val_loss: 0.4124 - val_accuracy: 0.8234\n",
            "Epoch 44/100\n",
            "94/96 [============================>.] - ETA: 0s - loss: 0.3752 - accuracy: 0.8399\n",
            "Epoch 44: val_accuracy did not improve from 0.83519\n",
            "96/96 [==============================] - 2s 21ms/step - loss: 0.3744 - accuracy: 0.8404 - val_loss: 0.4128 - val_accuracy: 0.8207\n",
            "Epoch 45/100\n",
            "95/96 [============================>.] - ETA: 0s - loss: 0.3684 - accuracy: 0.8462\n",
            "Epoch 45: val_accuracy did not improve from 0.83519\n",
            "96/96 [==============================] - 2s 22ms/step - loss: 0.3682 - accuracy: 0.8463 - val_loss: 0.4109 - val_accuracy: 0.8253\n",
            "Epoch 46/100\n",
            "95/96 [============================>.] - ETA: 0s - loss: 0.3713 - accuracy: 0.8405\n",
            "Epoch 46: val_accuracy did not improve from 0.83519\n",
            "96/96 [==============================] - 2s 22ms/step - loss: 0.3710 - accuracy: 0.8407 - val_loss: 0.4120 - val_accuracy: 0.8221\n",
            "Epoch 47/100\n",
            "95/96 [============================>.] - ETA: 0s - loss: 0.3703 - accuracy: 0.8459\n",
            "Epoch 47: val_accuracy did not improve from 0.83519\n",
            "96/96 [==============================] - 2s 22ms/step - loss: 0.3701 - accuracy: 0.8461 - val_loss: 0.4113 - val_accuracy: 0.8273\n",
            "Epoch 48/100\n",
            "94/96 [============================>.] - ETA: 0s - loss: 0.3646 - accuracy: 0.8487\n",
            "Epoch 48: val_accuracy did not improve from 0.83519\n",
            "96/96 [==============================] - 2s 22ms/step - loss: 0.3638 - accuracy: 0.8489 - val_loss: 0.4107 - val_accuracy: 0.8273\n",
            "Epoch 49/100\n",
            "94/96 [============================>.] - ETA: 0s - loss: 0.3613 - accuracy: 0.8497\n",
            "Epoch 49: val_accuracy did not improve from 0.83519\n",
            "96/96 [==============================] - 2s 23ms/step - loss: 0.3607 - accuracy: 0.8502 - val_loss: 0.4141 - val_accuracy: 0.8240\n",
            "Epoch 50/100\n",
            "94/96 [============================>.] - ETA: 0s - loss: 0.3600 - accuracy: 0.8464\n",
            "Epoch 50: val_accuracy did not improve from 0.83519\n",
            "96/96 [==============================] - 2s 22ms/step - loss: 0.3594 - accuracy: 0.8468 - val_loss: 0.4133 - val_accuracy: 0.8260\n",
            "Epoch 51/100\n",
            "94/96 [============================>.] - ETA: 0s - loss: 0.3587 - accuracy: 0.8487\n",
            "Epoch 51: val_accuracy did not improve from 0.83519\n",
            "96/96 [==============================] - 2s 21ms/step - loss: 0.3582 - accuracy: 0.8491 - val_loss: 0.4153 - val_accuracy: 0.8227\n",
            "Epoch 52/100\n",
            "94/96 [============================>.] - ETA: 0s - loss: 0.3619 - accuracy: 0.8418\n",
            "Epoch 52: val_accuracy did not improve from 0.83519\n",
            "96/96 [==============================] - 2s 22ms/step - loss: 0.3607 - accuracy: 0.8423 - val_loss: 0.4154 - val_accuracy: 0.8175\n",
            "Epoch 53/100\n",
            "94/96 [============================>.] - ETA: 0s - loss: 0.3577 - accuracy: 0.8496\n",
            "Epoch 53: val_accuracy did not improve from 0.83519\n",
            "96/96 [==============================] - 2s 22ms/step - loss: 0.3572 - accuracy: 0.8499 - val_loss: 0.4146 - val_accuracy: 0.8247\n",
            "Epoch 54/100\n",
            "96/96 [==============================] - ETA: 0s - loss: 0.3679 - accuracy: 0.8437\n",
            "Epoch 54: val_accuracy did not improve from 0.83519\n",
            "96/96 [==============================] - 2s 22ms/step - loss: 0.3679 - accuracy: 0.8437 - val_loss: 0.4140 - val_accuracy: 0.8214\n",
            "Epoch 55/100\n",
            "94/96 [============================>.] - ETA: 0s - loss: 0.3448 - accuracy: 0.8542\n",
            "Epoch 55: val_accuracy did not improve from 0.83519\n",
            "96/96 [==============================] - 2s 21ms/step - loss: 0.3442 - accuracy: 0.8548 - val_loss: 0.4153 - val_accuracy: 0.8214\n",
            "Epoch 56/100\n",
            "95/96 [============================>.] - ETA: 0s - loss: 0.3570 - accuracy: 0.8528\n",
            "Epoch 56: val_accuracy did not improve from 0.83519\n",
            "96/96 [==============================] - 3s 28ms/step - loss: 0.3571 - accuracy: 0.8528 - val_loss: 0.4182 - val_accuracy: 0.8155\n",
            "Epoch 57/100\n",
            "94/96 [============================>.] - ETA: 0s - loss: 0.3622 - accuracy: 0.8497\n",
            "Epoch 57: val_accuracy did not improve from 0.83519\n",
            "96/96 [==============================] - 2s 23ms/step - loss: 0.3610 - accuracy: 0.8502 - val_loss: 0.4162 - val_accuracy: 0.8168\n",
            "Epoch 58/100\n",
            "94/96 [============================>.] - ETA: 0s - loss: 0.3650 - accuracy: 0.8467\n",
            "Epoch 58: val_accuracy did not improve from 0.83519\n",
            "96/96 [==============================] - 2s 23ms/step - loss: 0.3646 - accuracy: 0.8469 - val_loss: 0.4172 - val_accuracy: 0.8148\n",
            "Epoch 59/100\n",
            "94/96 [============================>.] - ETA: 0s - loss: 0.3595 - accuracy: 0.8506\n",
            "Epoch 59: val_accuracy did not improve from 0.83519\n",
            "96/96 [==============================] - 2s 22ms/step - loss: 0.3579 - accuracy: 0.8512 - val_loss: 0.4181 - val_accuracy: 0.8155\n",
            "Epoch 60/100\n",
            "94/96 [============================>.] - ETA: 0s - loss: 0.3484 - accuracy: 0.8539\n",
            "Epoch 60: val_accuracy did not improve from 0.83519\n",
            "96/96 [==============================] - 2s 22ms/step - loss: 0.3473 - accuracy: 0.8542 - val_loss: 0.4195 - val_accuracy: 0.8142\n",
            "Epoch 61/100\n",
            "94/96 [============================>.] - ETA: 0s - loss: 0.3556 - accuracy: 0.8562\n",
            "Epoch 61: val_accuracy did not improve from 0.83519\n",
            "96/96 [==============================] - 2s 22ms/step - loss: 0.3556 - accuracy: 0.8556 - val_loss: 0.4177 - val_accuracy: 0.8148\n",
            "Epoch 62/100\n",
            "96/96 [==============================] - ETA: 0s - loss: 0.3533 - accuracy: 0.8566\n",
            "Epoch 62: val_accuracy did not improve from 0.83519\n",
            "96/96 [==============================] - 2s 22ms/step - loss: 0.3533 - accuracy: 0.8566 - val_loss: 0.4175 - val_accuracy: 0.8188\n",
            "Epoch 63/100\n",
            "94/96 [============================>.] - ETA: 0s - loss: 0.3553 - accuracy: 0.8476\n",
            "Epoch 63: val_accuracy did not improve from 0.83519\n",
            "96/96 [==============================] - 2s 23ms/step - loss: 0.3552 - accuracy: 0.8476 - val_loss: 0.4208 - val_accuracy: 0.8168\n",
            "Epoch 64/100\n",
            "94/96 [============================>.] - ETA: 0s - loss: 0.3572 - accuracy: 0.8484\n",
            "Epoch 64: val_accuracy did not improve from 0.83519\n",
            "96/96 [==============================] - 2s 22ms/step - loss: 0.3565 - accuracy: 0.8486 - val_loss: 0.4230 - val_accuracy: 0.8181\n",
            "Epoch 65/100\n",
            "96/96 [==============================] - ETA: 0s - loss: 0.3530 - accuracy: 0.8514\n",
            "Epoch 65: val_accuracy did not improve from 0.83519\n",
            "96/96 [==============================] - 2s 21ms/step - loss: 0.3530 - accuracy: 0.8514 - val_loss: 0.4224 - val_accuracy: 0.8162\n",
            "Epoch 66/100\n",
            "94/96 [============================>.] - ETA: 0s - loss: 0.3647 - accuracy: 0.8442\n",
            "Epoch 66: val_accuracy did not improve from 0.83519\n",
            "96/96 [==============================] - 2s 22ms/step - loss: 0.3636 - accuracy: 0.8446 - val_loss: 0.4174 - val_accuracy: 0.8162\n",
            "Epoch 67/100\n",
            "95/96 [============================>.] - ETA: 0s - loss: 0.3536 - accuracy: 0.8533\n",
            "Epoch 67: val_accuracy did not improve from 0.83519\n",
            "96/96 [==============================] - 2s 21ms/step - loss: 0.3537 - accuracy: 0.8530 - val_loss: 0.4195 - val_accuracy: 0.8122\n",
            "Epoch 68/100\n",
            "94/96 [============================>.] - ETA: 0s - loss: 0.3416 - accuracy: 0.8614\n",
            "Epoch 68: val_accuracy did not improve from 0.83519\n",
            "96/96 [==============================] - 2s 22ms/step - loss: 0.3416 - accuracy: 0.8609 - val_loss: 0.4247 - val_accuracy: 0.8096\n",
            "Epoch 69/100\n",
            "96/96 [==============================] - ETA: 0s - loss: 0.3457 - accuracy: 0.8504\n",
            "Epoch 69: val_accuracy did not improve from 0.83519\n",
            "96/96 [==============================] - 2s 22ms/step - loss: 0.3457 - accuracy: 0.8504 - val_loss: 0.4213 - val_accuracy: 0.8155\n",
            "Epoch 70/100\n",
            "94/96 [============================>.] - ETA: 0s - loss: 0.3327 - accuracy: 0.8592\n",
            "Epoch 70: val_accuracy did not improve from 0.83519\n",
            "96/96 [==============================] - 2s 22ms/step - loss: 0.3322 - accuracy: 0.8591 - val_loss: 0.4232 - val_accuracy: 0.8155\n",
            "Epoch 71/100\n",
            "94/96 [============================>.] - ETA: 0s - loss: 0.3510 - accuracy: 0.8547\n",
            "Epoch 71: val_accuracy did not improve from 0.83519\n",
            "96/96 [==============================] - 2s 22ms/step - loss: 0.3502 - accuracy: 0.8548 - val_loss: 0.4238 - val_accuracy: 0.8155\n",
            "Epoch 72/100\n",
            "95/96 [============================>.] - ETA: 0s - loss: 0.3533 - accuracy: 0.8464\n",
            "Epoch 72: val_accuracy did not improve from 0.83519\n",
            "96/96 [==============================] - 2s 22ms/step - loss: 0.3530 - accuracy: 0.8466 - val_loss: 0.4214 - val_accuracy: 0.8181\n",
            "Epoch 73/100\n",
            "95/96 [============================>.] - ETA: 0s - loss: 0.3463 - accuracy: 0.8538\n",
            "Epoch 73: val_accuracy did not improve from 0.83519\n",
            "96/96 [==============================] - 2s 22ms/step - loss: 0.3461 - accuracy: 0.8538 - val_loss: 0.4240 - val_accuracy: 0.8148\n",
            "Epoch 74/100\n",
            "95/96 [============================>.] - ETA: 0s - loss: 0.3457 - accuracy: 0.8544\n",
            "Epoch 74: val_accuracy did not improve from 0.83519\n",
            "96/96 [==============================] - 2s 22ms/step - loss: 0.3455 - accuracy: 0.8545 - val_loss: 0.4236 - val_accuracy: 0.8155\n",
            "Epoch 75/100\n",
            "95/96 [============================>.] - ETA: 0s - loss: 0.3438 - accuracy: 0.8561\n",
            "Epoch 75: val_accuracy did not improve from 0.83519\n",
            "96/96 [==============================] - 2s 22ms/step - loss: 0.3435 - accuracy: 0.8563 - val_loss: 0.4210 - val_accuracy: 0.8214\n",
            "Epoch 76/100\n",
            "95/96 [============================>.] - ETA: 0s - loss: 0.3432 - accuracy: 0.8561\n",
            "Epoch 76: val_accuracy did not improve from 0.83519\n",
            "96/96 [==============================] - 2s 21ms/step - loss: 0.3429 - accuracy: 0.8563 - val_loss: 0.4232 - val_accuracy: 0.8168\n",
            "Epoch 77/100\n",
            "94/96 [============================>.] - ETA: 0s - loss: 0.3447 - accuracy: 0.8607\n",
            "Epoch 77: val_accuracy did not improve from 0.83519\n",
            "96/96 [==============================] - 2s 21ms/step - loss: 0.3434 - accuracy: 0.8616 - val_loss: 0.4216 - val_accuracy: 0.8221\n",
            "Epoch 78/100\n",
            "94/96 [============================>.] - ETA: 0s - loss: 0.3364 - accuracy: 0.8599\n",
            "Epoch 78: val_accuracy did not improve from 0.83519\n",
            "96/96 [==============================] - 2s 22ms/step - loss: 0.3356 - accuracy: 0.8607 - val_loss: 0.4241 - val_accuracy: 0.8201\n",
            "Epoch 79/100\n",
            "96/96 [==============================] - ETA: 0s - loss: 0.3397 - accuracy: 0.8616\n",
            "Epoch 79: val_accuracy did not improve from 0.83519\n",
            "96/96 [==============================] - 2s 21ms/step - loss: 0.3397 - accuracy: 0.8616 - val_loss: 0.4221 - val_accuracy: 0.8221\n",
            "Epoch 80/100\n",
            "96/96 [==============================] - ETA: 0s - loss: 0.3380 - accuracy: 0.8550\n",
            "Epoch 80: val_accuracy did not improve from 0.83519\n",
            "96/96 [==============================] - 2s 21ms/step - loss: 0.3380 - accuracy: 0.8550 - val_loss: 0.4232 - val_accuracy: 0.8221\n",
            "Epoch 81/100\n",
            "93/96 [============================>.] - ETA: 0s - loss: 0.3361 - accuracy: 0.8567\n",
            "Epoch 81: val_accuracy did not improve from 0.83519\n",
            "96/96 [==============================] - 2s 22ms/step - loss: 0.3352 - accuracy: 0.8571 - val_loss: 0.4257 - val_accuracy: 0.8280\n",
            "Epoch 82/100\n",
            "95/96 [============================>.] - ETA: 0s - loss: 0.3330 - accuracy: 0.8567\n",
            "Epoch 82: val_accuracy did not improve from 0.83519\n",
            "96/96 [==============================] - 2s 21ms/step - loss: 0.3331 - accuracy: 0.8568 - val_loss: 0.4239 - val_accuracy: 0.8207\n",
            "Epoch 83/100\n",
            "93/96 [============================>.] - ETA: 0s - loss: 0.3344 - accuracy: 0.8646\n",
            "Epoch 83: val_accuracy did not improve from 0.83519\n",
            "96/96 [==============================] - 2s 21ms/step - loss: 0.3345 - accuracy: 0.8642 - val_loss: 0.4237 - val_accuracy: 0.8260\n",
            "Epoch 84/100\n",
            "94/96 [============================>.] - ETA: 0s - loss: 0.3361 - accuracy: 0.8562\n",
            "Epoch 84: val_accuracy did not improve from 0.83519\n",
            "96/96 [==============================] - 2s 23ms/step - loss: 0.3357 - accuracy: 0.8566 - val_loss: 0.4239 - val_accuracy: 0.8175\n",
            "Epoch 85/100\n",
            "96/96 [==============================] - ETA: 0s - loss: 0.3393 - accuracy: 0.8584\n",
            "Epoch 85: val_accuracy did not improve from 0.83519\n",
            "96/96 [==============================] - 2s 22ms/step - loss: 0.3393 - accuracy: 0.8584 - val_loss: 0.4229 - val_accuracy: 0.8221\n",
            "Epoch 86/100\n",
            "94/96 [============================>.] - ETA: 0s - loss: 0.3316 - accuracy: 0.8604\n",
            "Epoch 86: val_accuracy did not improve from 0.83519\n",
            "96/96 [==============================] - 3s 29ms/step - loss: 0.3319 - accuracy: 0.8601 - val_loss: 0.4221 - val_accuracy: 0.8207\n",
            "Epoch 87/100\n",
            "94/96 [============================>.] - ETA: 0s - loss: 0.3346 - accuracy: 0.8629\n",
            "Epoch 87: val_accuracy did not improve from 0.83519\n",
            "96/96 [==============================] - 2s 22ms/step - loss: 0.3338 - accuracy: 0.8630 - val_loss: 0.4256 - val_accuracy: 0.8194\n",
            "Epoch 88/100\n",
            "94/96 [============================>.] - ETA: 0s - loss: 0.3319 - accuracy: 0.8619\n",
            "Epoch 88: val_accuracy did not improve from 0.83519\n",
            "96/96 [==============================] - 2s 22ms/step - loss: 0.3320 - accuracy: 0.8616 - val_loss: 0.4261 - val_accuracy: 0.8207\n",
            "Epoch 89/100\n",
            "96/96 [==============================] - ETA: 0s - loss: 0.3369 - accuracy: 0.8563\n",
            "Epoch 89: val_accuracy did not improve from 0.83519\n",
            "96/96 [==============================] - 2s 21ms/step - loss: 0.3369 - accuracy: 0.8563 - val_loss: 0.4281 - val_accuracy: 0.8188\n",
            "Epoch 90/100\n",
            "94/96 [============================>.] - ETA: 0s - loss: 0.3282 - accuracy: 0.8655\n",
            "Epoch 90: val_accuracy did not improve from 0.83519\n",
            "96/96 [==============================] - 2s 22ms/step - loss: 0.3292 - accuracy: 0.8650 - val_loss: 0.4279 - val_accuracy: 0.8135\n",
            "Epoch 91/100\n",
            "95/96 [============================>.] - ETA: 0s - loss: 0.3319 - accuracy: 0.8579\n",
            "Epoch 91: val_accuracy did not improve from 0.83519\n",
            "96/96 [==============================] - 2s 22ms/step - loss: 0.3316 - accuracy: 0.8581 - val_loss: 0.4248 - val_accuracy: 0.8148\n",
            "Epoch 92/100\n",
            "96/96 [==============================] - ETA: 0s - loss: 0.3258 - accuracy: 0.8645\n",
            "Epoch 92: val_accuracy did not improve from 0.83519\n",
            "96/96 [==============================] - 2s 21ms/step - loss: 0.3258 - accuracy: 0.8645 - val_loss: 0.4260 - val_accuracy: 0.8148\n",
            "Epoch 93/100\n",
            "94/96 [============================>.] - ETA: 0s - loss: 0.3325 - accuracy: 0.8612\n",
            "Epoch 93: val_accuracy did not improve from 0.83519\n",
            "96/96 [==============================] - 2s 22ms/step - loss: 0.3322 - accuracy: 0.8614 - val_loss: 0.4283 - val_accuracy: 0.8135\n",
            "Epoch 94/100\n",
            "95/96 [============================>.] - ETA: 0s - loss: 0.3157 - accuracy: 0.8707\n",
            "Epoch 94: val_accuracy did not improve from 0.83519\n",
            "96/96 [==============================] - 2s 21ms/step - loss: 0.3159 - accuracy: 0.8708 - val_loss: 0.4300 - val_accuracy: 0.8162\n",
            "Epoch 95/100\n",
            "94/96 [============================>.] - ETA: 0s - loss: 0.3350 - accuracy: 0.8577\n",
            "Epoch 95: val_accuracy did not improve from 0.83519\n",
            "96/96 [==============================] - 2s 22ms/step - loss: 0.3355 - accuracy: 0.8573 - val_loss: 0.4281 - val_accuracy: 0.8227\n",
            "Epoch 96/100\n",
            "95/96 [============================>.] - ETA: 0s - loss: 0.3269 - accuracy: 0.8633\n",
            "Epoch 96: val_accuracy did not improve from 0.83519\n",
            "96/96 [==============================] - 2s 22ms/step - loss: 0.3268 - accuracy: 0.8634 - val_loss: 0.4235 - val_accuracy: 0.8201\n",
            "Epoch 97/100\n",
            "96/96 [==============================] - ETA: 0s - loss: 0.3230 - accuracy: 0.8666\n",
            "Epoch 97: val_accuracy did not improve from 0.83519\n",
            "96/96 [==============================] - 2s 21ms/step - loss: 0.3230 - accuracy: 0.8666 - val_loss: 0.4267 - val_accuracy: 0.8181\n",
            "Epoch 98/100\n",
            "94/96 [============================>.] - ETA: 0s - loss: 0.3300 - accuracy: 0.8610\n",
            "Epoch 98: val_accuracy did not improve from 0.83519\n",
            "96/96 [==============================] - 2s 22ms/step - loss: 0.3292 - accuracy: 0.8616 - val_loss: 0.4258 - val_accuracy: 0.8162\n",
            "Epoch 99/100\n",
            "94/96 [============================>.] - ETA: 0s - loss: 0.3322 - accuracy: 0.8599\n",
            "Epoch 99: val_accuracy did not improve from 0.83519\n",
            "96/96 [==============================] - 2s 22ms/step - loss: 0.3314 - accuracy: 0.8604 - val_loss: 0.4285 - val_accuracy: 0.8175\n",
            "Epoch 100/100\n",
            "93/96 [============================>.] - ETA: 0s - loss: 0.3174 - accuracy: 0.8656\n",
            "Epoch 100: val_accuracy did not improve from 0.83519\n",
            "96/96 [==============================] - 2s 22ms/step - loss: 0.3167 - accuracy: 0.8658 - val_loss: 0.4282 - val_accuracy: 0.8207\n"
          ]
        }
      ],
      "source": [
        "multi_history = multi_model.fit(train_dataset,\n",
        "                epochs=100,\n",
        "                steps_per_epoch = len(train_dataset),\n",
        "                validation_data = test_dataset,\n",
        "                validation_steps = len(test_dataset),\n",
        "                callbacks = [create_model_checkpoint(\"multi\")],\n",
        ")"
      ]
    },
    {
      "cell_type": "code",
      "execution_count": 110,
      "metadata": {
        "colab": {
          "base_uri": "https://localhost:8080/"
        },
        "id": "nOsbbRmqPDpp",
        "outputId": "00640a35-1cad-4895-ade2-b0d032533f4a"
      },
      "outputs": [
        {
          "name": "stdout",
          "output_type": "stream",
          "text": [
            "96/96 [==============================] - 2s 16ms/step - loss: 0.2284 - accuracy: 0.9230\n",
            "24/24 [==============================] - 0s 15ms/step - loss: 0.4282 - accuracy: 0.8207\n"
          ]
        },
        {
          "data": {
            "text/plain": [
              "([0.2284156233072281, 0.9229758381843567],\n",
              " [0.42818939685821533, 0.820748507976532])"
            ]
          },
          "execution_count": 110,
          "metadata": {},
          "output_type": "execute_result"
        }
      ],
      "source": [
        "multi_model.evaluate(train_dataset), multi_model.evaluate(test_dataset)"
      ]
    },
    {
      "cell_type": "code",
      "execution_count": 111,
      "metadata": {
        "colab": {
          "base_uri": "https://localhost:8080/"
        },
        "id": "xEZ9A46IziGt",
        "outputId": "c177854b-ca04-49fd-d1be-a5ad75915009"
      },
      "outputs": [
        {
          "name": "stdout",
          "output_type": "stream",
          "text": [
            "24/24 [==============================] - 1s 16ms/step - loss: 0.4070 - accuracy: 0.8352\n"
          ]
        },
        {
          "data": {
            "text/plain": [
              "[0.40698298811912537, 0.8351936936378479]"
            ]
          },
          "execution_count": 111,
          "metadata": {},
          "output_type": "execute_result"
        }
      ],
      "source": [
        "best_model = tf.keras.models.load_model(\"tweets/multi\")\n",
        "best_model.evaluate(test_dataset)"
      ]
    },
    {
      "cell_type": "code",
      "execution_count": 112,
      "metadata": {
        "colab": {
          "base_uri": "https://localhost:8080/"
        },
        "id": "WkBglulzzq6p",
        "outputId": "af536464-77b7-4860-dbd4-4ae9d918c35d"
      },
      "outputs": [
        {
          "name": "stdout",
          "output_type": "stream",
          "text": [
            "96/96 [==============================] - 1s 16ms/step - loss: 0.3124 - accuracy: 0.8744\n"
          ]
        },
        {
          "data": {
            "text/plain": [
              "[0.3124329149723053, 0.8743636012077332]"
            ]
          },
          "execution_count": 112,
          "metadata": {},
          "output_type": "execute_result"
        }
      ],
      "source": [
        "best_model.evaluate(train_dataset)"
      ]
    },
    {
      "cell_type": "code",
      "execution_count": 113,
      "metadata": {
        "colab": {
          "base_uri": "https://localhost:8080/",
          "height": 423
        },
        "id": "QiazcW8Cz8G_",
        "outputId": "6aff0659-4452-4cb0-d35f-4a3d5ab594b0"
      },
      "outputs": [
        {
          "data": {
            "text/html": [
              "\n",
              "  <div id=\"df-d88b437c-a3ef-4186-9bc9-6c9be1199537\">\n",
              "    <div class=\"colab-df-container\">\n",
              "      <div>\n",
              "<style scoped>\n",
              "    .dataframe tbody tr th:only-of-type {\n",
              "        vertical-align: middle;\n",
              "    }\n",
              "\n",
              "    .dataframe tbody tr th {\n",
              "        vertical-align: top;\n",
              "    }\n",
              "\n",
              "    .dataframe thead th {\n",
              "        text-align: right;\n",
              "    }\n",
              "</style>\n",
              "<table border=\"1\" class=\"dataframe\">\n",
              "  <thead>\n",
              "    <tr style=\"text-align: right;\">\n",
              "      <th></th>\n",
              "      <th>id</th>\n",
              "      <th>target</th>\n",
              "    </tr>\n",
              "  </thead>\n",
              "  <tbody>\n",
              "    <tr>\n",
              "      <th>0</th>\n",
              "      <td>0</td>\n",
              "      <td>1</td>\n",
              "    </tr>\n",
              "    <tr>\n",
              "      <th>1</th>\n",
              "      <td>2</td>\n",
              "      <td>1</td>\n",
              "    </tr>\n",
              "    <tr>\n",
              "      <th>2</th>\n",
              "      <td>3</td>\n",
              "      <td>1</td>\n",
              "    </tr>\n",
              "    <tr>\n",
              "      <th>3</th>\n",
              "      <td>9</td>\n",
              "      <td>1</td>\n",
              "    </tr>\n",
              "    <tr>\n",
              "      <th>4</th>\n",
              "      <td>11</td>\n",
              "      <td>1</td>\n",
              "    </tr>\n",
              "    <tr>\n",
              "      <th>...</th>\n",
              "      <td>...</td>\n",
              "      <td>...</td>\n",
              "    </tr>\n",
              "    <tr>\n",
              "      <th>3258</th>\n",
              "      <td>10861</td>\n",
              "      <td>1</td>\n",
              "    </tr>\n",
              "    <tr>\n",
              "      <th>3259</th>\n",
              "      <td>10865</td>\n",
              "      <td>1</td>\n",
              "    </tr>\n",
              "    <tr>\n",
              "      <th>3260</th>\n",
              "      <td>10868</td>\n",
              "      <td>1</td>\n",
              "    </tr>\n",
              "    <tr>\n",
              "      <th>3261</th>\n",
              "      <td>10874</td>\n",
              "      <td>0</td>\n",
              "    </tr>\n",
              "    <tr>\n",
              "      <th>3262</th>\n",
              "      <td>10875</td>\n",
              "      <td>0</td>\n",
              "    </tr>\n",
              "  </tbody>\n",
              "</table>\n",
              "<p>3263 rows × 2 columns</p>\n",
              "</div>\n",
              "      <button class=\"colab-df-convert\" onclick=\"convertToInteractive('df-d88b437c-a3ef-4186-9bc9-6c9be1199537')\"\n",
              "              title=\"Convert this dataframe to an interactive table.\"\n",
              "              style=\"display:none;\">\n",
              "        \n",
              "  <svg xmlns=\"http://www.w3.org/2000/svg\" height=\"24px\"viewBox=\"0 0 24 24\"\n",
              "       width=\"24px\">\n",
              "    <path d=\"M0 0h24v24H0V0z\" fill=\"none\"/>\n",
              "    <path d=\"M18.56 5.44l.94 2.06.94-2.06 2.06-.94-2.06-.94-.94-2.06-.94 2.06-2.06.94zm-11 1L8.5 8.5l.94-2.06 2.06-.94-2.06-.94L8.5 2.5l-.94 2.06-2.06.94zm10 10l.94 2.06.94-2.06 2.06-.94-2.06-.94-.94-2.06-.94 2.06-2.06.94z\"/><path d=\"M17.41 7.96l-1.37-1.37c-.4-.4-.92-.59-1.43-.59-.52 0-1.04.2-1.43.59L10.3 9.45l-7.72 7.72c-.78.78-.78 2.05 0 2.83L4 21.41c.39.39.9.59 1.41.59.51 0 1.02-.2 1.41-.59l7.78-7.78 2.81-2.81c.8-.78.8-2.07 0-2.86zM5.41 20L4 18.59l7.72-7.72 1.47 1.35L5.41 20z\"/>\n",
              "  </svg>\n",
              "      </button>\n",
              "      \n",
              "  <style>\n",
              "    .colab-df-container {\n",
              "      display:flex;\n",
              "      flex-wrap:wrap;\n",
              "      gap: 12px;\n",
              "    }\n",
              "\n",
              "    .colab-df-convert {\n",
              "      background-color: #E8F0FE;\n",
              "      border: none;\n",
              "      border-radius: 50%;\n",
              "      cursor: pointer;\n",
              "      display: none;\n",
              "      fill: #1967D2;\n",
              "      height: 32px;\n",
              "      padding: 0 0 0 0;\n",
              "      width: 32px;\n",
              "    }\n",
              "\n",
              "    .colab-df-convert:hover {\n",
              "      background-color: #E2EBFA;\n",
              "      box-shadow: 0px 1px 2px rgba(60, 64, 67, 0.3), 0px 1px 3px 1px rgba(60, 64, 67, 0.15);\n",
              "      fill: #174EA6;\n",
              "    }\n",
              "\n",
              "    [theme=dark] .colab-df-convert {\n",
              "      background-color: #3B4455;\n",
              "      fill: #D2E3FC;\n",
              "    }\n",
              "\n",
              "    [theme=dark] .colab-df-convert:hover {\n",
              "      background-color: #434B5C;\n",
              "      box-shadow: 0px 1px 3px 1px rgba(0, 0, 0, 0.15);\n",
              "      filter: drop-shadow(0px 1px 2px rgba(0, 0, 0, 0.3));\n",
              "      fill: #FFFFFF;\n",
              "    }\n",
              "  </style>\n",
              "\n",
              "      <script>\n",
              "        const buttonEl =\n",
              "          document.querySelector('#df-d88b437c-a3ef-4186-9bc9-6c9be1199537 button.colab-df-convert');\n",
              "        buttonEl.style.display =\n",
              "          google.colab.kernel.accessAllowed ? 'block' : 'none';\n",
              "\n",
              "        async function convertToInteractive(key) {\n",
              "          const element = document.querySelector('#df-d88b437c-a3ef-4186-9bc9-6c9be1199537');\n",
              "          const dataTable =\n",
              "            await google.colab.kernel.invokeFunction('convertToInteractive',\n",
              "                                                     [key], {});\n",
              "          if (!dataTable) return;\n",
              "\n",
              "          const docLinkHtml = 'Like what you see? Visit the ' +\n",
              "            '<a target=\"_blank\" href=https://colab.research.google.com/notebooks/data_table.ipynb>data table notebook</a>'\n",
              "            + ' to learn more about interactive tables.';\n",
              "          element.innerHTML = '';\n",
              "          dataTable['output_type'] = 'display_data';\n",
              "          await google.colab.output.renderOutput(dataTable, element);\n",
              "          const docLink = document.createElement('div');\n",
              "          docLink.innerHTML = docLinkHtml;\n",
              "          element.appendChild(docLink);\n",
              "        }\n",
              "      </script>\n",
              "    </div>\n",
              "  </div>\n",
              "  "
            ],
            "text/plain": [
              "         id  target\n",
              "0         0       1\n",
              "1         2       1\n",
              "2         3       1\n",
              "3         9       1\n",
              "4        11       1\n",
              "...     ...     ...\n",
              "3258  10861       1\n",
              "3259  10865       1\n",
              "3260  10868       1\n",
              "3261  10874       0\n",
              "3262  10875       0\n",
              "\n",
              "[3263 rows x 2 columns]"
            ]
          },
          "execution_count": 113,
          "metadata": {},
          "output_type": "execute_result"
        }
      ],
      "source": [
        "sub = get_submission_file(best_model, data=final_test_dataset)\n",
        "sub"
      ]
    },
    {
      "cell_type": "code",
      "execution_count": null,
      "metadata": {
        "colab": {
          "base_uri": "https://localhost:8080/"
        },
        "id": "gUJG-gEB7y74",
        "outputId": "e5940e2c-0cee-41b9-9d6b-470a53351a8c"
      },
      "outputs": [
        {
          "name": "stdout",
          "output_type": "stream",
          "text": [
            "Model: \"multi_model_2\"\n",
            "__________________________________________________________________________________________________\n",
            " Layer (type)                   Output Shape         Param #     Connected to                     \n",
            "==================================================================================================\n",
            " text_input (InputLayer)        [(None,)]            0           []                               \n",
            "                                                                                                  \n",
            " USE (KerasLayer)               (None, 512)          256797824   ['text_input[0][0]',             \n",
            "                                                                  'keyword_input[0][0]']          \n",
            "                                                                                                  \n",
            " keyword_input (InputLayer)     [(None,)]            0           []                               \n",
            "                                                                                                  \n",
            " reshape_6 (Reshape)            (None, 512, 1)       0           ['USE[17][0]']                   \n",
            "                                                                                                  \n",
            " bidirectional_7 (Bidirectional  (None, 128)         33792       ['reshape_6[0][0]']              \n",
            " )                                                                                                \n",
            "                                                                                                  \n",
            " dense_42 (Dense)               (None, 128)          65664       ['USE[18][0]']                   \n",
            "                                                                                                  \n",
            " concatenate_8 (Concatenate)    (None, 256)          0           ['bidirectional_7[0][0]',        \n",
            "                                                                  'dense_42[0][0]']               \n",
            "                                                                                                  \n",
            " batch_normalization_32 (BatchN  (None, 256)         1024        ['concatenate_8[0][0]']          \n",
            " ormalization)                                                                                    \n",
            "                                                                                                  \n",
            " dense_43 (Dense)               (None, 128)          32896       ['batch_normalization_32[0][0]'] \n",
            "                                                                                                  \n",
            " dropout_31 (Dropout)           (None, 128)          0           ['dense_43[0][0]']               \n",
            "                                                                                                  \n",
            " batch_normalization_33 (BatchN  (None, 128)         512         ['dropout_31[0][0]']             \n",
            " ormalization)                                                                                    \n",
            "                                                                                                  \n",
            " dense_44 (Dense)               (None, 256)          33024       ['batch_normalization_33[0][0]'] \n",
            "                                                                                                  \n",
            " dropout_32 (Dropout)           (None, 256)          0           ['dense_44[0][0]']               \n",
            "                                                                                                  \n",
            " batch_normalization_34 (BatchN  (None, 256)         1024        ['dropout_32[0][0]']             \n",
            " ormalization)                                                                                    \n",
            "                                                                                                  \n",
            " dense_45 (Dense)               (None, 512)          131584      ['batch_normalization_34[0][0]'] \n",
            "                                                                                                  \n",
            " dropout_33 (Dropout)           (None, 512)          0           ['dense_45[0][0]']               \n",
            "                                                                                                  \n",
            " batch_normalization_35 (BatchN  (None, 512)         2048        ['dropout_33[0][0]']             \n",
            " ormalization)                                                                                    \n",
            "                                                                                                  \n",
            " dense_46 (Dense)               (None, 1)            513         ['batch_normalization_35[0][0]'] \n",
            "                                                                                                  \n",
            "==================================================================================================\n",
            "Total params: 257,099,905\n",
            "Trainable params: 299,777\n",
            "Non-trainable params: 256,800,128\n",
            "__________________________________________________________________________________________________\n"
          ]
        }
      ],
      "source": [
        "text_input = tfl.Input(shape=[], dtype=tf.string, name=\"text_input\")\n",
        "text_embedding = sentence_encoder_layer(text_input)\n",
        "text_x = tfl.Reshape((512, 1), input_shape=(512,))(text_embedding)\n",
        "text_x = tfl.Bidirectional(tfl.LSTM(64))(text_x)\n",
        "\n",
        "keyword_input = tfl.Input(shape=[], dtype=tf.string, name=\"keyword_input\")\n",
        "keyword_embedding = sentence_encoder_layer(keyword_input)\n",
        "keyword_x = tfl.Dense(128, activation=\"relu\")(keyword_embedding)\n",
        "# keyword_x = tfl.Dropout(0.6)(keyword_x)\n",
        "\n",
        "x = tfl.Concatenate()([text_x, keyword_x])\n",
        "x = tfl.BatchNormalization()(x)\n",
        "\n",
        "x = tfl.Dense(128, activation=\"relu\")(x)\n",
        "x = tfl.Dropout(0.7)(x)\n",
        "x = tfl.BatchNormalization()(x)\n",
        "\n",
        "x = tfl.Dense(256, activation=\"relu\")(x)\n",
        "x = tfl.Dropout(0.7)(x)\n",
        "x = tfl.BatchNormalization()(x)\n",
        "\n",
        "x = tfl.Dense(512, activation=\"relu\")(x)\n",
        "x = tfl.Dropout(0.8)(x)\n",
        "x = tfl.BatchNormalization()(x)\n",
        "\n",
        "output = tfl.Dense(1, activation=\"sigmoid\")(x)\n",
        "\n",
        "multi_model_2 = tf.keras.Model(inputs=[text_input, keyword_input], outputs=output, name=\"multi_model_2\")\n",
        "multi_model_2.compile(loss=\"binary_crossentropy\",\n",
        "                    optimizer=tf.keras.optimizers.Adam(),\n",
        "                    metrics=[\"accuracy\"])\n",
        "        \n",
        "multi_model_2.summary()"
      ]
    },
    {
      "cell_type": "code",
      "execution_count": null,
      "metadata": {
        "colab": {
          "base_uri": "https://localhost:8080/",
          "height": 1000
        },
        "id": "xOlJvwOl8I8E",
        "outputId": "0cde75d6-a8f9-496f-e49f-9ef32d60f365"
      },
      "outputs": [
        {
          "data": {
            "image/png": "[encoded data removed]",
            "text/plain": [
              "<IPython.core.display.Image object>"
            ]
          },
          "execution_count": 78,
          "metadata": {},
          "output_type": "execute_result"
        }
      ],
      "source": [
        "plot_model(multi_model_2, show_shapes=True)"
      ]
    },
    {
      "cell_type": "code",
      "execution_count": null,
      "metadata": {
        "colab": {
          "base_uri": "https://localhost:8080/",
          "height": 1000
        },
        "id": "GHTD3ujX62Sx",
        "outputId": "faacd625-d635-4252-9e3e-77b64362d37c"
      },
      "outputs": [
        {
          "name": "stdout",
          "output_type": "stream",
          "text": [
            "Epoch 1/50\n",
            "96/96 [==============================] - 6s 60ms/step - loss: 0.5575 - accuracy: 0.7318 - val_loss: 0.5543 - val_accuracy: 0.7177\n",
            "Epoch 2/50\n",
            "96/96 [==============================] - 6s 60ms/step - loss: 0.5513 - accuracy: 0.7356 - val_loss: 0.5618 - val_accuracy: 0.7144\n",
            "Epoch 3/50\n",
            "96/96 [==============================] - 6s 59ms/step - loss: 0.5472 - accuracy: 0.7346 - val_loss: 0.8495 - val_accuracy: 0.6047\n",
            "Epoch 4/50\n",
            "96/96 [==============================] - 6s 65ms/step - loss: 0.5452 - accuracy: 0.7369 - val_loss: 0.6124 - val_accuracy: 0.6973\n",
            "Epoch 5/50\n",
            "96/96 [==============================] - 6s 59ms/step - loss: 0.5417 - accuracy: 0.7425 - val_loss: 0.8525 - val_accuracy: 0.6021\n",
            "Epoch 6/50\n",
            "96/96 [==============================] - 6s 60ms/step - loss: 0.5419 - accuracy: 0.7413 - val_loss: 0.5778 - val_accuracy: 0.7137\n",
            "Epoch 7/50\n",
            "96/96 [==============================] - 6s 60ms/step - loss: 0.5306 - accuracy: 0.7505 - val_loss: 0.5410 - val_accuracy: 0.7301\n",
            "Epoch 8/50\n",
            "96/96 [==============================] - 6s 60ms/step - loss: 0.5344 - accuracy: 0.7484 - val_loss: 0.9599 - val_accuracy: 0.5837\n",
            "Epoch 9/50\n",
            "96/96 [==============================] - 6s 60ms/step - loss: 0.5292 - accuracy: 0.7507 - val_loss: 2.8447 - val_accuracy: 0.4209\n",
            "Epoch 10/50\n",
            "96/96 [==============================] - 6s 61ms/step - loss: 0.5283 - accuracy: 0.7518 - val_loss: 0.6497 - val_accuracy: 0.6376\n",
            "Epoch 11/50\n",
            "96/96 [==============================] - 6s 61ms/step - loss: 0.5310 - accuracy: 0.7509 - val_loss: 0.5463 - val_accuracy: 0.7262\n",
            "Epoch 12/50\n",
            "96/96 [==============================] - 6s 61ms/step - loss: 0.5274 - accuracy: 0.7518 - val_loss: 0.5593 - val_accuracy: 0.7144\n",
            "Epoch 13/50\n",
            "96/96 [==============================] - 6s 61ms/step - loss: 0.5166 - accuracy: 0.7584 - val_loss: 0.5352 - val_accuracy: 0.7334\n",
            "Epoch 14/50\n",
            "96/96 [==============================] - 8s 83ms/step - loss: 0.5241 - accuracy: 0.7517 - val_loss: 0.5405 - val_accuracy: 0.7177\n",
            "Epoch 15/50\n",
            "96/96 [==============================] - 8s 86ms/step - loss: 0.5140 - accuracy: 0.7569 - val_loss: 0.5730 - val_accuracy: 0.7190\n",
            "Epoch 16/50\n",
            "96/96 [==============================] - 6s 61ms/step - loss: 0.5218 - accuracy: 0.7604 - val_loss: 0.5349 - val_accuracy: 0.7328\n",
            "Epoch 17/50\n",
            "96/96 [==============================] - 6s 59ms/step - loss: 0.5197 - accuracy: 0.7599 - val_loss: 0.5534 - val_accuracy: 0.7308\n",
            "Epoch 18/50\n",
            "96/96 [==============================] - 5s 57ms/step - loss: 0.5153 - accuracy: 0.7556 - val_loss: 0.6185 - val_accuracy: 0.6809\n",
            "Epoch 19/50\n",
            "96/96 [==============================] - 7s 73ms/step - loss: 0.5200 - accuracy: 0.7556 - val_loss: 0.5477 - val_accuracy: 0.7367\n",
            "Epoch 20/50\n",
            "96/96 [==============================] - 5s 56ms/step - loss: 0.5103 - accuracy: 0.7643 - val_loss: 0.5728 - val_accuracy: 0.7301\n",
            "Epoch 21/50\n",
            "96/96 [==============================] - 6s 58ms/step - loss: 0.5112 - accuracy: 0.7586 - val_loss: 0.5409 - val_accuracy: 0.7380\n",
            "Epoch 22/50\n",
            "96/96 [==============================] - 6s 60ms/step - loss: 0.5140 - accuracy: 0.7637 - val_loss: 0.5759 - val_accuracy: 0.7209\n",
            "Epoch 23/50\n",
            "96/96 [==============================] - 6s 59ms/step - loss: 0.5079 - accuracy: 0.7606 - val_loss: 0.5324 - val_accuracy: 0.7479\n",
            "Epoch 24/50\n",
            "96/96 [==============================] - 6s 59ms/step - loss: 0.5045 - accuracy: 0.7645 - val_loss: 0.5300 - val_accuracy: 0.7406\n"
          ]
        },
        {
          "ename": "KeyboardInterrupt",
          "evalue": "ignored",
          "output_type": "error",
          "traceback": [
            "\u001b[0;31m---------------------------------------------------------------------------\u001b[0m",
            "\u001b[0;31mKeyboardInterrupt\u001b[0m                         Traceback (most recent call last)",
            "\u001b[0;32m<ipython-input-82-12f8b977f2fa>\u001b[0m in \u001b[0;36m<module>\u001b[0;34m()\u001b[0m\n\u001b[1;32m      3\u001b[0m                 \u001b[0msteps_per_epoch\u001b[0m \u001b[0;34m=\u001b[0m \u001b[0mlen\u001b[0m\u001b[0;34m(\u001b[0m\u001b[0mtrain_dataset\u001b[0m\u001b[0;34m)\u001b[0m\u001b[0;34m,\u001b[0m\u001b[0;34m\u001b[0m\u001b[0;34m\u001b[0m\u001b[0m\n\u001b[1;32m      4\u001b[0m                 \u001b[0mvalidation_data\u001b[0m \u001b[0;34m=\u001b[0m \u001b[0mtest_dataset\u001b[0m\u001b[0;34m,\u001b[0m\u001b[0;34m\u001b[0m\u001b[0;34m\u001b[0m\u001b[0m\n\u001b[0;32m----> 5\u001b[0;31m                 \u001b[0mvalidation_steps\u001b[0m \u001b[0;34m=\u001b[0m \u001b[0mlen\u001b[0m\u001b[0;34m(\u001b[0m\u001b[0mtest_dataset\u001b[0m\u001b[0;34m)\u001b[0m\u001b[0;34m,\u001b[0m\u001b[0;34m\u001b[0m\u001b[0;34m\u001b[0m\u001b[0m\n\u001b[0m\u001b[1;32m      6\u001b[0m                 \u001b[0;31m# callbacks = [create_model_checkpoint(\"multi\")],\u001b[0m\u001b[0;34m\u001b[0m\u001b[0;34m\u001b[0m\u001b[0;34m\u001b[0m\u001b[0m\n\u001b[1;32m      7\u001b[0m )\n",
            "\u001b[0;32m/usr/local/lib/python3.7/dist-packages/keras/utils/traceback_utils.py\u001b[0m in \u001b[0;36merror_handler\u001b[0;34m(*args, **kwargs)\u001b[0m\n\u001b[1;32m     62\u001b[0m     \u001b[0mfiltered_tb\u001b[0m \u001b[0;34m=\u001b[0m \u001b[0;32mNone\u001b[0m\u001b[0;34m\u001b[0m\u001b[0;34m\u001b[0m\u001b[0m\n\u001b[1;32m     63\u001b[0m     \u001b[0;32mtry\u001b[0m\u001b[0;34m:\u001b[0m\u001b[0;34m\u001b[0m\u001b[0;34m\u001b[0m\u001b[0m\n\u001b[0;32m---> 64\u001b[0;31m       \u001b[0;32mreturn\u001b[0m \u001b[0mfn\u001b[0m\u001b[0;34m(\u001b[0m\u001b[0;34m*\u001b[0m\u001b[0margs\u001b[0m\u001b[0;34m,\u001b[0m \u001b[0;34m**\u001b[0m\u001b[0mkwargs\u001b[0m\u001b[0;34m)\u001b[0m\u001b[0;34m\u001b[0m\u001b[0;34m\u001b[0m\u001b[0m\n\u001b[0m\u001b[1;32m     65\u001b[0m     \u001b[0;32mexcept\u001b[0m \u001b[0mException\u001b[0m \u001b[0;32mas\u001b[0m \u001b[0me\u001b[0m\u001b[0;34m:\u001b[0m  \u001b[0;31m# pylint: disable=broad-except\u001b[0m\u001b[0;34m\u001b[0m\u001b[0;34m\u001b[0m\u001b[0m\n\u001b[1;32m     66\u001b[0m       \u001b[0mfiltered_tb\u001b[0m \u001b[0;34m=\u001b[0m \u001b[0m_process_traceback_frames\u001b[0m\u001b[0;34m(\u001b[0m\u001b[0me\u001b[0m\u001b[0;34m.\u001b[0m\u001b[0m__traceback__\u001b[0m\u001b[0;34m)\u001b[0m\u001b[0;34m\u001b[0m\u001b[0;34m\u001b[0m\u001b[0m\n",
            "\u001b[0;32m/usr/local/lib/python3.7/dist-packages/keras/engine/training.py\u001b[0m in \u001b[0;36mfit\u001b[0;34m(self, x, y, batch_size, epochs, verbose, callbacks, validation_split, validation_data, shuffle, class_weight, sample_weight, initial_epoch, steps_per_epoch, validation_steps, validation_batch_size, validation_freq, max_queue_size, workers, use_multiprocessing)\u001b[0m\n\u001b[1;32m   1371\u001b[0m       \u001b[0mlogs\u001b[0m \u001b[0;34m=\u001b[0m \u001b[0;32mNone\u001b[0m\u001b[0;34m\u001b[0m\u001b[0;34m\u001b[0m\u001b[0m\n\u001b[1;32m   1372\u001b[0m       \u001b[0;32mfor\u001b[0m \u001b[0mepoch\u001b[0m\u001b[0;34m,\u001b[0m \u001b[0miterator\u001b[0m \u001b[0;32min\u001b[0m \u001b[0mdata_handler\u001b[0m\u001b[0;34m.\u001b[0m\u001b[0menumerate_epochs\u001b[0m\u001b[0;34m(\u001b[0m\u001b[0;34m)\u001b[0m\u001b[0;34m:\u001b[0m\u001b[0;34m\u001b[0m\u001b[0;34m\u001b[0m\u001b[0m\n\u001b[0;32m-> 1373\u001b[0;31m         \u001b[0mself\u001b[0m\u001b[0;34m.\u001b[0m\u001b[0mreset_metrics\u001b[0m\u001b[0;34m(\u001b[0m\u001b[0;34m)\u001b[0m\u001b[0;34m\u001b[0m\u001b[0;34m\u001b[0m\u001b[0m\n\u001b[0m\u001b[1;32m   1374\u001b[0m         \u001b[0mcallbacks\u001b[0m\u001b[0;34m.\u001b[0m\u001b[0mon_epoch_begin\u001b[0m\u001b[0;34m(\u001b[0m\u001b[0mepoch\u001b[0m\u001b[0;34m)\u001b[0m\u001b[0;34m\u001b[0m\u001b[0;34m\u001b[0m\u001b[0m\n\u001b[1;32m   1375\u001b[0m         \u001b[0;32mwith\u001b[0m \u001b[0mdata_handler\u001b[0m\u001b[0;34m.\u001b[0m\u001b[0mcatch_stop_iteration\u001b[0m\u001b[0;34m(\u001b[0m\u001b[0;34m)\u001b[0m\u001b[0;34m:\u001b[0m\u001b[0;34m\u001b[0m\u001b[0;34m\u001b[0m\u001b[0m\n",
            "\u001b[0;31mKeyboardInterrupt\u001b[0m: "
          ]
        }
      ],
      "source": [
        "multi_history_2 = multi_model_2.fit(train_dataset,\n",
        "                epochs=50,\n",
        "                steps_per_epoch = len(train_dataset),\n",
        "                validation_data = test_dataset,\n",
        "                validation_steps = len(test_dataset),\n",
        "                # callbacks = [create_model_checkpoint(\"multi\")],\n",
        ")"
      ]
    },
    {
      "cell_type": "markdown",
      "metadata": {
        "id": "wf-rZFOZ5QDU"
      },
      "source": [
        "### Using Character Level Encoding for `keyword`"
      ]
    },
    {
      "cell_type": "code",
      "execution_count": null,
      "metadata": {
        "id": "K0GHYusl-nLh"
      },
      "outputs": [],
      "source": [
        "import tensorflow_hub as hub\n",
        "# We can use this encoding layer in place of our text_vectorizer and embedding layer\n",
        "sentence_encoder_layer = hub.KerasLayer(\"https://tfhub.dev/google/universal-sentence-encoder/4\",\n",
        "                                        input_shape=[], # shape of inputs coming to our model \n",
        "                                        dtype=tf.string, # data type of inputs coming to the USE layer\n",
        "                                        trainable=False, # keep the pretrained weights (we'll create a feature extractor)\n",
        "                                        name=\"USE\") "
      ]
    },
    {
      "cell_type": "code",
      "execution_count": 13,
      "metadata": {
        "colab": {
          "base_uri": "https://localhost:8080/"
        },
        "id": "F1Bo75uO-nLh",
        "outputId": "cfc34199-5826-43cc-e9ca-617def79498d"
      },
      "outputs": [
        {
          "data": {
            "text/plain": [
              "('m i l i t a r y', 'c r a s h')"
            ]
          },
          "execution_count": 13,
          "metadata": {},
          "output_type": "execute_result"
        }
      ],
      "source": [
        "train_keyword_char = list(train_keyword.apply(lambda x: \" \".join(list(x))))\n",
        "test_keyword_char = list(test_keyword.apply(lambda x: \" \".join(list(x))))\n",
        "final_test_keyword_char = list(test[\"keyword\"].apply(lambda x: \" \".join(list(x))))\n",
        "train_keyword_char[0], final_test_keyword_char[0]"
      ]
    },
    {
      "cell_type": "code",
      "execution_count": 14,
      "metadata": {
        "colab": {
          "base_uri": "https://localhost:8080/"
        },
        "id": "XN9KGXLs-nLh",
        "outputId": "baef5ce1-3c3f-43b9-ea96-da40f72df086"
      },
      "outputs": [
        {
          "data": {
            "text/plain": [
              "(41, 7, 16.224503202496305, 33.0)"
            ]
          },
          "execution_count": 14,
          "metadata": {},
          "output_type": "execute_result"
        }
      ],
      "source": [
        "char_lens = [len(x) for x in train_keyword_char]\n",
        "max(char_lens), min(char_lens), np.mean(char_lens), np.percentile(char_lens, 95)\n"
      ]
    },
    {
      "cell_type": "code",
      "execution_count": 15,
      "metadata": {
        "id": "jLNKhPuc-nLh"
      },
      "outputs": [],
      "source": [
        "vectorizer = tfl.TextVectorization(max_tokens=30,output_sequence_length=30, name=\"vectorizer\")\n",
        "vectorizer.adapt(train_keyword_char)"
      ]
    },
    {
      "cell_type": "code",
      "execution_count": 16,
      "metadata": {
        "colab": {
          "base_uri": "https://localhost:8080/"
        },
        "id": "Zrjn3uc8-nLi",
        "outputId": "4bae76f3-b960-455d-c166-434a186277be"
      },
      "outputs": [
        {
          "data": {
            "text/plain": [
              "(30, ['', '[UNK]', 'e', 'a', 'r'])"
            ]
          },
          "execution_count": 16,
          "metadata": {},
          "output_type": "execute_result"
        }
      ],
      "source": [
        "vocab = vectorizer.get_vocabulary()\n",
        "len(vocab), vocab[:5]"
      ]
    },
    {
      "cell_type": "code",
      "execution_count": 17,
      "metadata": {
        "id": "WrZajGjy-nLi"
      },
      "outputs": [],
      "source": [
        "char_embed = tfl.Embedding(len(vocab), 32, name=\"char_embed\")"
      ]
    },
    {
      "cell_type": "code",
      "execution_count": 79,
      "metadata": {
        "colab": {
          "base_uri": "https://localhost:8080/"
        },
        "id": "BXDBCVnC-nLi",
        "outputId": "1d3eb871-ba90-495a-b4e0-701badac8149"
      },
      "outputs": [
        {
          "name": "stdout",
          "output_type": "stream",
          "text": [
            "Model: \"model_18\"\n",
            "__________________________________________________________________________________________________\n",
            " Layer (type)                   Output Shape         Param #     Connected to                     \n",
            "==================================================================================================\n",
            " keyword_input (InputLayer)     [(None,)]            0           []                               \n",
            "                                                                                                  \n",
            " vectorizer (TextVectorization)  (None, 30)          0           ['keyword_input[0][0]']          \n",
            "                                                                                                  \n",
            " char_embed (Embedding)         (None, 30, 32)       960         ['vectorizer[24][0]']            \n",
            "                                                                                                  \n",
            " text_input (InputLayer)        [(None,)]            0           []                               \n",
            "                                                                                                  \n",
            " reshape_21 (Reshape)           (None, 3, 320)       0           ['char_embed[24][0]']            \n",
            "                                                                                                  \n",
            " USE (KerasLayer)               (None, 512)          256797824   ['text_input[0][0]']             \n",
            "                                                                                                  \n",
            " global_max_pooling1d_13 (Globa  (None, 320)         0           ['reshape_21[0][0]']             \n",
            " lMaxPooling1D)                                                                                   \n",
            "                                                                                                  \n",
            " dense_91 (Dense)               (None, 32)           16416       ['USE[25][0]']                   \n",
            "                                                                                                  \n",
            " dense_92 (Dense)               (None, 32)           10272       ['global_max_pooling1d_13[0][0]']\n",
            "                                                                                                  \n",
            " concatenate_20 (Concatenate)   (None, 64)           0           ['dense_91[0][0]',               \n",
            "                                                                  'dense_92[0][0]']               \n",
            "                                                                                                  \n",
            " dropout_51 (Dropout)           (None, 64)           0           ['concatenate_20[0][0]']         \n",
            "                                                                                                  \n",
            " batch_normalization_51 (BatchN  (None, 64)          256         ['dropout_51[0][0]']             \n",
            " ormalization)                                                                                    \n",
            "                                                                                                  \n",
            " dense_93 (Dense)               (None, 1)            65          ['batch_normalization_51[0][0]'] \n",
            "                                                                                                  \n",
            "==================================================================================================\n",
            "Total params: 256,825,793\n",
            "Trainable params: 27,841\n",
            "Non-trainable params: 256,797,952\n",
            "__________________________________________________________________________________________________\n"
          ]
        }
      ],
      "source": [
        "text_input = tfl.Input(shape=[], dtype=tf.string, name=\"text_input\")\n",
        "text_embedding = sentence_encoder_layer(text_input)\n",
        "text_x = tfl.Dense(32, activation=\"relu\")(text_embedding)\n",
        "\n",
        "keyword_input = tfl.Input(shape=[], dtype=tf.string, name=\"keyword_input\")\n",
        "keyword_vectorizer = vectorizer(keyword_input)\n",
        "keyword_embedding = char_embed(keyword_vectorizer)\n",
        "keyword_embedding = tfl.Reshape((3, 32*10))(keyword_embedding)\n",
        "keyword_embedding = tfl.GlobalMaxPool1D()(keyword_embedding)\n",
        "keyword_x = tfl.Dense(32, activation=\"relu\")(keyword_embedding)\n",
        "\n",
        "x = tfl.Concatenate()([text_x, keyword_x])\n",
        "x = tfl.Dropout(0.8)(x)\n",
        "x = tfl.BatchNormalization()(x)\n",
        "\n",
        "# x = tfl.Dense(128, activation=\"relu\")(x)\n",
        "# x = tfl.Dropout(0.8)(x)\n",
        "# x = tfl.BatchNormalization()(x)\n",
        "\n",
        "# x = tfl.Dense(256, activation=\"relu\")(x)\n",
        "# x = tfl.Dropout(0.8)(x)\n",
        "# x = tfl.BatchNormalization()(x)\n",
        "\n",
        "# x = tfl.Dense(512, activation=\"relu\")(x)\n",
        "# x = tfl.Dropout(0.8)(x)\n",
        "# x = tfl.BatchNormalization()(x)\n",
        "\n",
        "output = tfl.Dense(1, activation=\"sigmoid\")(x)\n",
        "\n",
        "multi_model_2 = tf.keras.Model(inputs=[text_input, keyword_input], outputs=output)\n",
        "multi_model_2.compile(loss=\"binary_crossentropy\",\n",
        "                    optimizer=tf.keras.optimizers.Adam(),\n",
        "                    metrics=[\"accuracy\"])\n",
        "        \n",
        "multi_model_2.summary()"
      ]
    },
    {
      "cell_type": "code",
      "execution_count": 44,
      "metadata": {
        "colab": {
          "base_uri": "https://localhost:8080/",
          "height": 1000
        },
        "id": "5vB4E4xL-6wp",
        "outputId": "faa5e70d-7f28-47c6-84a7-0e5fc5da4bee"
      },
      "outputs": [
        {
          "data": {
            "image/png": "[encoded data removed]",
            "text/plain": [
              "<IPython.core.display.Image object>"
            ]
          },
          "execution_count": 44,
          "metadata": {},
          "output_type": "execute_result"
        }
      ],
      "source": [
        "tf.keras.utils.plot_model(multi_model_2, show_shapes=True)"
      ]
    },
    {
      "cell_type": "code",
      "execution_count": 76,
      "metadata": {
        "id": "K3N-YB2f-nLi"
      },
      "outputs": [],
      "source": [
        "train_text_data = tf.data.Dataset.from_tensor_slices(train_text)\n",
        "train_keyword_data = tf.data.Dataset.from_tensor_slices(train_keyword_char)\n",
        "train_target_data = tf.data.Dataset.from_tensor_slices(y_train)\n",
        "train_dataset = tf.data.Dataset.zip(((train_text_data, train_keyword_data), train_target_data))\n",
        "train_dataset = train_dataset.batch(32).prefetch(tf.data.AUTOTUNE)\n",
        "\n",
        "test_text_data = tf.data.Dataset.from_tensor_slices(test_text)\n",
        "test_keyword_data = tf.data.Dataset.from_tensor_slices(test_keyword_char)\n",
        "test_target_data = tf.data.Dataset.from_tensor_slices(y_test)\n",
        "test_dataset = tf.data.Dataset.zip(((test_text_data, test_keyword_data), test_target_data)) \n",
        "test_dataset = test_dataset.batch(32).prefetch(tf.data.AUTOTUNE)\n",
        "\n",
        "final_test_text_data = tf.data.Dataset.from_tensor_slices(test[\"text\"])\n",
        "final_test_keyword_data = tf.data.Dataset.from_tensor_slices(final_test_keyword_char)\n",
        "final_test_dataset = tf.data.Dataset.zip(((final_test_text_data, final_test_keyword_data),)) \n",
        "final_test_dataset = final_test_dataset.batch(32).prefetch(tf.data.AUTOTUNE)"
      ]
    },
    {
      "cell_type": "code",
      "execution_count": 81,
      "metadata": {
        "colab": {
          "base_uri": "https://localhost:8080/"
        },
        "id": "Ee7IYxQg-nLj",
        "outputId": "dd06d68b-402c-4fb1-de9a-ba7996327752"
      },
      "outputs": [
        {
          "name": "stdout",
          "output_type": "stream",
          "text": [
            "Saving model checkpoint to: tweets/multi\n",
            "Epoch 1/20\n",
            "191/191 [==============================] - ETA: 0s - loss: 0.4543 - accuracy: 0.7934\n",
            "Epoch 1: val_accuracy improved from -inf to 0.82009, saving model to tweets/multi\n",
            "INFO:tensorflow:Assets written to: tweets/multi/assets\n"
          ]
        },
        {
          "name": "stderr",
          "output_type": "stream",
          "text": [
            "INFO:tensorflow:Assets written to: tweets/multi/assets\n"
          ]
        },
        {
          "name": "stdout",
          "output_type": "stream",
          "text": [
            "\b\b\b\b\b\b\b\b\b\b\b\b\b\b\b\b\b\b\b\b\b\b\b\b\b\b\b\b\b\b\b\b\b\b\b\b\b\b\b\b\b\b\b\b\b\b\b\b\b\b\b\b\b\b\b\b\b\b\b\b\b\b\b\b\b\b\b\b\b\b\b\b\b\b\b\b\b\b\b\b\b\b\b\b\r191/191 [==============================] - 15s 76ms/step - loss: 0.4543 - accuracy: 0.7934 - val_loss: 0.4117 - val_accuracy: 0.8201\n",
            "Epoch 2/20\n",
            "187/191 [============================>.] - ETA: 0s - loss: 0.4505 - accuracy: 0.7961\n",
            "Epoch 2: val_accuracy improved from 0.82009 to 0.82469, saving model to tweets/multi\n",
            "INFO:tensorflow:Assets written to: tweets/multi/assets\n"
          ]
        },
        {
          "name": "stderr",
          "output_type": "stream",
          "text": [
            "INFO:tensorflow:Assets written to: tweets/multi/assets\n"
          ]
        },
        {
          "name": "stdout",
          "output_type": "stream",
          "text": [
            "\b\b\b\b\b\b\b\b\b\b\b\b\b\b\b\b\b\b\b\b\b\b\b\b\b\b\b\b\b\b\b\b\b\b\b\b\b\b\b\b\b\b\b\b\b\b\b\b\b\b\b\b\b\b\b\b\b\b\b\b\b\b\b\b\b\b\b\b\b\b\b\b\b\b\b\b\b\b\b\b\b\b\b\b\r191/191 [==============================] - 13s 70ms/step - loss: 0.4502 - accuracy: 0.7960 - val_loss: 0.4099 - val_accuracy: 0.8247\n",
            "Epoch 3/20\n",
            "189/191 [============================>.] - ETA: 0s - loss: 0.4544 - accuracy: 0.7955\n",
            "Epoch 3: val_accuracy did not improve from 0.82469\n",
            "191/191 [==============================] - 3s 14ms/step - loss: 0.4539 - accuracy: 0.7955 - val_loss: 0.4117 - val_accuracy: 0.8240\n",
            "Epoch 4/20\n",
            "187/191 [============================>.] - ETA: 0s - loss: 0.4489 - accuracy: 0.8006\n",
            "Epoch 4: val_accuracy did not improve from 0.82469\n",
            "191/191 [==============================] - 3s 14ms/step - loss: 0.4484 - accuracy: 0.8005 - val_loss: 0.4137 - val_accuracy: 0.8214\n",
            "Epoch 5/20\n",
            "188/191 [============================>.] - ETA: 0s - loss: 0.4468 - accuracy: 0.7972\n",
            "Epoch 5: val_accuracy did not improve from 0.82469\n",
            "191/191 [==============================] - 3s 14ms/step - loss: 0.4461 - accuracy: 0.7975 - val_loss: 0.4130 - val_accuracy: 0.8201\n",
            "Epoch 6/20\n",
            "191/191 [==============================] - ETA: 0s - loss: 0.4342 - accuracy: 0.8079\n",
            "Epoch 6: val_accuracy did not improve from 0.82469\n",
            "191/191 [==============================] - 3s 14ms/step - loss: 0.4342 - accuracy: 0.8079 - val_loss: 0.4106 - val_accuracy: 0.8188\n",
            "Epoch 7/20\n",
            "190/191 [============================>.] - ETA: 0s - loss: 0.4399 - accuracy: 0.7984\n",
            "Epoch 7: val_accuracy did not improve from 0.82469\n",
            "191/191 [==============================] - 3s 14ms/step - loss: 0.4398 - accuracy: 0.7985 - val_loss: 0.4094 - val_accuracy: 0.8201\n",
            "Epoch 8/20\n",
            "189/191 [============================>.] - ETA: 0s - loss: 0.4310 - accuracy: 0.8087\n",
            "Epoch 8: val_accuracy did not improve from 0.82469\n",
            "191/191 [==============================] - 3s 14ms/step - loss: 0.4310 - accuracy: 0.8083 - val_loss: 0.4117 - val_accuracy: 0.8207\n",
            "Epoch 9/20\n",
            "189/191 [============================>.] - ETA: 0s - loss: 0.4299 - accuracy: 0.8085\n",
            "Epoch 9: val_accuracy did not improve from 0.82469\n",
            "191/191 [==============================] - 3s 14ms/step - loss: 0.4300 - accuracy: 0.8083 - val_loss: 0.4078 - val_accuracy: 0.8188\n",
            "Epoch 10/20\n",
            "188/191 [============================>.] - ETA: 0s - loss: 0.4315 - accuracy: 0.8060\n",
            "Epoch 10: val_accuracy did not improve from 0.82469\n",
            "191/191 [==============================] - 3s 14ms/step - loss: 0.4309 - accuracy: 0.8065 - val_loss: 0.4107 - val_accuracy: 0.8207\n",
            "Epoch 11/20\n",
            "187/191 [============================>.] - ETA: 0s - loss: 0.4297 - accuracy: 0.8077\n",
            "Epoch 11: val_accuracy did not improve from 0.82469\n",
            "191/191 [==============================] - 3s 14ms/step - loss: 0.4302 - accuracy: 0.8074 - val_loss: 0.4113 - val_accuracy: 0.8194\n",
            "Epoch 12/20\n",
            "190/191 [============================>.] - ETA: 0s - loss: 0.4347 - accuracy: 0.8056\n",
            "Epoch 12: val_accuracy did not improve from 0.82469\n",
            "191/191 [==============================] - 3s 14ms/step - loss: 0.4347 - accuracy: 0.8057 - val_loss: 0.4106 - val_accuracy: 0.8188\n",
            "Epoch 13/20\n",
            "191/191 [==============================] - ETA: 0s - loss: 0.4358 - accuracy: 0.8023\n",
            "Epoch 13: val_accuracy did not improve from 0.82469\n",
            "191/191 [==============================] - 3s 14ms/step - loss: 0.4358 - accuracy: 0.8023 - val_loss: 0.4112 - val_accuracy: 0.8221\n",
            "Epoch 14/20\n",
            "189/191 [============================>.] - ETA: 0s - loss: 0.4273 - accuracy: 0.8062\n",
            "Epoch 14: val_accuracy did not improve from 0.82469\n",
            "191/191 [==============================] - 3s 14ms/step - loss: 0.4266 - accuracy: 0.8064 - val_loss: 0.4126 - val_accuracy: 0.8227\n",
            "Epoch 15/20\n",
            "188/191 [============================>.] - ETA: 0s - loss: 0.4324 - accuracy: 0.8062\n",
            "Epoch 15: val_accuracy did not improve from 0.82469\n",
            "191/191 [==============================] - 3s 14ms/step - loss: 0.4321 - accuracy: 0.8064 - val_loss: 0.4111 - val_accuracy: 0.8194\n",
            "Epoch 16/20\n",
            "191/191 [==============================] - ETA: 0s - loss: 0.4305 - accuracy: 0.8057\n",
            "Epoch 16: val_accuracy did not improve from 0.82469\n",
            "191/191 [==============================] - 3s 14ms/step - loss: 0.4305 - accuracy: 0.8057 - val_loss: 0.4147 - val_accuracy: 0.8194\n",
            "Epoch 17/20\n",
            "187/191 [============================>.] - ETA: 0s - loss: 0.4252 - accuracy: 0.8092\n",
            "Epoch 17: val_accuracy did not improve from 0.82469\n",
            "191/191 [==============================] - 3s 14ms/step - loss: 0.4254 - accuracy: 0.8087 - val_loss: 0.4139 - val_accuracy: 0.8194\n",
            "Epoch 18/20\n",
            "187/191 [============================>.] - ETA: 0s - loss: 0.4260 - accuracy: 0.8150\n",
            "Epoch 18: val_accuracy did not improve from 0.82469\n",
            "191/191 [==============================] - 3s 14ms/step - loss: 0.4258 - accuracy: 0.8147 - val_loss: 0.4145 - val_accuracy: 0.8227\n",
            "Epoch 19/20\n",
            "190/191 [============================>.] - ETA: 0s - loss: 0.4332 - accuracy: 0.8025\n",
            "Epoch 19: val_accuracy did not improve from 0.82469\n",
            "191/191 [==============================] - 3s 14ms/step - loss: 0.4331 - accuracy: 0.8026 - val_loss: 0.4131 - val_accuracy: 0.8188\n",
            "Epoch 20/20\n",
            "191/191 [==============================] - ETA: 0s - loss: 0.4283 - accuracy: 0.8093\n",
            "Epoch 20: val_accuracy did not improve from 0.82469\n",
            "191/191 [==============================] - 3s 14ms/step - loss: 0.4283 - accuracy: 0.8093 - val_loss: 0.4119 - val_accuracy: 0.8207\n"
          ]
        }
      ],
      "source": [
        "history_multi_2 = multi_model_2.fit(train_dataset,\n",
        "                epochs=20,\n",
        "                steps_per_epoch = len(train_dataset),\n",
        "                validation_data = test_dataset,\n",
        "                validation_steps = len(test_dataset),\n",
        "                callbacks = [create_model_checkpoint(\"multi\")],\n",
        ")"
      ]
    },
    {
      "cell_type": "code",
      "execution_count": 82,
      "metadata": {
        "colab": {
          "base_uri": "https://localhost:8080/"
        },
        "id": "gijhrPB3NQkE",
        "outputId": "297d1779-01be-4ae3-ca43-6730151a2348"
      },
      "outputs": [
        {
          "name": "stdout",
          "output_type": "stream",
          "text": [
            "191/191 [==============================] - 2s 10ms/step - loss: 0.3425 - accuracy: 0.8551\n",
            "48/48 [==============================] - 0s 10ms/step - loss: 0.4119 - accuracy: 0.8207\n"
          ]
        },
        {
          "data": {
            "text/plain": [
              "([0.3424815833568573, 0.8551486134529114],\n",
              " [0.41191965341567993, 0.820748507976532])"
            ]
          },
          "execution_count": 82,
          "metadata": {},
          "output_type": "execute_result"
        }
      ],
      "source": [
        "multi_model_2.evaluate(train_dataset), multi_model_2.evaluate(test_dataset)"
      ]
    },
    {
      "cell_type": "code",
      "execution_count": 83,
      "metadata": {
        "id": "4huo94jD_HqQ"
      },
      "outputs": [],
      "source": [
        "best_model = tf.keras.models.load_model(\"tweets/multi\")"
      ]
    },
    {
      "cell_type": "code",
      "execution_count": 84,
      "metadata": {
        "colab": {
          "base_uri": "https://localhost:8080/"
        },
        "id": "YL2o2hGDLwVU",
        "outputId": "6830ca4b-d073-440a-8cb8-fececa9dab6e"
      },
      "outputs": [
        {
          "name": "stdout",
          "output_type": "stream",
          "text": [
            "191/191 [==============================] - 3s 10ms/step - loss: 0.3667 - accuracy: 0.8410\n",
            "48/48 [==============================] - 0s 10ms/step - loss: 0.4099 - accuracy: 0.8247\n"
          ]
        },
        {
          "data": {
            "text/plain": [
              "([0.3666802644729614, 0.8410248160362244],\n",
              " [0.40988689661026, 0.8246881365776062])"
            ]
          },
          "execution_count": 84,
          "metadata": {},
          "output_type": "execute_result"
        }
      ],
      "source": [
        "best_model.evaluate(train_dataset), best_model.evaluate(test_dataset)"
      ]
    },
    {
      "cell_type": "code",
      "execution_count": 85,
      "metadata": {
        "colab": {
          "base_uri": "https://localhost:8080/",
          "height": 423
        },
        "id": "mBugi522L4A5",
        "outputId": "542d2893-f60f-473b-f35a-5964266db853"
      },
      "outputs": [
        {
          "data": {
            "text/html": [
              "\n",
              "  <div id=\"df-f254bcb0-f443-41ed-889d-7c954cdb5305\">\n",
              "    <div class=\"colab-df-container\">\n",
              "      <div>\n",
              "<style scoped>\n",
              "    .dataframe tbody tr th:only-of-type {\n",
              "        vertical-align: middle;\n",
              "    }\n",
              "\n",
              "    .dataframe tbody tr th {\n",
              "        vertical-align: top;\n",
              "    }\n",
              "\n",
              "    .dataframe thead th {\n",
              "        text-align: right;\n",
              "    }\n",
              "</style>\n",
              "<table border=\"1\" class=\"dataframe\">\n",
              "  <thead>\n",
              "    <tr style=\"text-align: right;\">\n",
              "      <th></th>\n",
              "      <th>id</th>\n",
              "      <th>target</th>\n",
              "    </tr>\n",
              "  </thead>\n",
              "  <tbody>\n",
              "    <tr>\n",
              "      <th>0</th>\n",
              "      <td>0</td>\n",
              "      <td>0</td>\n",
              "    </tr>\n",
              "    <tr>\n",
              "      <th>1</th>\n",
              "      <td>2</td>\n",
              "      <td>1</td>\n",
              "    </tr>\n",
              "    <tr>\n",
              "      <th>2</th>\n",
              "      <td>3</td>\n",
              "      <td>1</td>\n",
              "    </tr>\n",
              "    <tr>\n",
              "      <th>3</th>\n",
              "      <td>9</td>\n",
              "      <td>1</td>\n",
              "    </tr>\n",
              "    <tr>\n",
              "      <th>4</th>\n",
              "      <td>11</td>\n",
              "      <td>1</td>\n",
              "    </tr>\n",
              "    <tr>\n",
              "      <th>...</th>\n",
              "      <td>...</td>\n",
              "      <td>...</td>\n",
              "    </tr>\n",
              "    <tr>\n",
              "      <th>3258</th>\n",
              "      <td>10861</td>\n",
              "      <td>1</td>\n",
              "    </tr>\n",
              "    <tr>\n",
              "      <th>3259</th>\n",
              "      <td>10865</td>\n",
              "      <td>1</td>\n",
              "    </tr>\n",
              "    <tr>\n",
              "      <th>3260</th>\n",
              "      <td>10868</td>\n",
              "      <td>1</td>\n",
              "    </tr>\n",
              "    <tr>\n",
              "      <th>3261</th>\n",
              "      <td>10874</td>\n",
              "      <td>0</td>\n",
              "    </tr>\n",
              "    <tr>\n",
              "      <th>3262</th>\n",
              "      <td>10875</td>\n",
              "      <td>0</td>\n",
              "    </tr>\n",
              "  </tbody>\n",
              "</table>\n",
              "<p>3263 rows × 2 columns</p>\n",
              "</div>\n",
              "      <button class=\"colab-df-convert\" onclick=\"convertToInteractive('df-f254bcb0-f443-41ed-889d-7c954cdb5305')\"\n",
              "              title=\"Convert this dataframe to an interactive table.\"\n",
              "              style=\"display:none;\">\n",
              "        \n",
              "  <svg xmlns=\"http://www.w3.org/2000/svg\" height=\"24px\"viewBox=\"0 0 24 24\"\n",
              "       width=\"24px\">\n",
              "    <path d=\"M0 0h24v24H0V0z\" fill=\"none\"/>\n",
              "    <path d=\"M18.56 5.44l.94 2.06.94-2.06 2.06-.94-2.06-.94-.94-2.06-.94 2.06-2.06.94zm-11 1L8.5 8.5l.94-2.06 2.06-.94-2.06-.94L8.5 2.5l-.94 2.06-2.06.94zm10 10l.94 2.06.94-2.06 2.06-.94-2.06-.94-.94-2.06-.94 2.06-2.06.94z\"/><path d=\"M17.41 7.96l-1.37-1.37c-.4-.4-.92-.59-1.43-.59-.52 0-1.04.2-1.43.59L10.3 9.45l-7.72 7.72c-.78.78-.78 2.05 0 2.83L4 21.41c.39.39.9.59 1.41.59.51 0 1.02-.2 1.41-.59l7.78-7.78 2.81-2.81c.8-.78.8-2.07 0-2.86zM5.41 20L4 18.59l7.72-7.72 1.47 1.35L5.41 20z\"/>\n",
              "  </svg>\n",
              "      </button>\n",
              "      \n",
              "  <style>\n",
              "    .colab-df-container {\n",
              "      display:flex;\n",
              "      flex-wrap:wrap;\n",
              "      gap: 12px;\n",
              "    }\n",
              "\n",
              "    .colab-df-convert {\n",
              "      background-color: #E8F0FE;\n",
              "      border: none;\n",
              "      border-radius: 50%;\n",
              "      cursor: pointer;\n",
              "      display: none;\n",
              "      fill: #1967D2;\n",
              "      height: 32px;\n",
              "      padding: 0 0 0 0;\n",
              "      width: 32px;\n",
              "    }\n",
              "\n",
              "    .colab-df-convert:hover {\n",
              "      background-color: #E2EBFA;\n",
              "      box-shadow: 0px 1px 2px rgba(60, 64, 67, 0.3), 0px 1px 3px 1px rgba(60, 64, 67, 0.15);\n",
              "      fill: #174EA6;\n",
              "    }\n",
              "\n",
              "    [theme=dark] .colab-df-convert {\n",
              "      background-color: #3B4455;\n",
              "      fill: #D2E3FC;\n",
              "    }\n",
              "\n",
              "    [theme=dark] .colab-df-convert:hover {\n",
              "      background-color: #434B5C;\n",
              "      box-shadow: 0px 1px 3px 1px rgba(0, 0, 0, 0.15);\n",
              "      filter: drop-shadow(0px 1px 2px rgba(0, 0, 0, 0.3));\n",
              "      fill: #FFFFFF;\n",
              "    }\n",
              "  </style>\n",
              "\n",
              "      <script>\n",
              "        const buttonEl =\n",
              "          document.querySelector('#df-f254bcb0-f443-41ed-889d-7c954cdb5305 button.colab-df-convert');\n",
              "        buttonEl.style.display =\n",
              "          google.colab.kernel.accessAllowed ? 'block' : 'none';\n",
              "\n",
              "        async function convertToInteractive(key) {\n",
              "          const element = document.querySelector('#df-f254bcb0-f443-41ed-889d-7c954cdb5305');\n",
              "          const dataTable =\n",
              "            await google.colab.kernel.invokeFunction('convertToInteractive',\n",
              "                                                     [key], {});\n",
              "          if (!dataTable) return;\n",
              "\n",
              "          const docLinkHtml = 'Like what you see? Visit the ' +\n",
              "            '<a target=\"_blank\" href=https://colab.research.google.com/notebooks/data_table.ipynb>data table notebook</a>'\n",
              "            + ' to learn more about interactive tables.';\n",
              "          element.innerHTML = '';\n",
              "          dataTable['output_type'] = 'display_data';\n",
              "          await google.colab.output.renderOutput(dataTable, element);\n",
              "          const docLink = document.createElement('div');\n",
              "          docLink.innerHTML = docLinkHtml;\n",
              "          element.appendChild(docLink);\n",
              "        }\n",
              "      </script>\n",
              "    </div>\n",
              "  </div>\n",
              "  "
            ],
            "text/plain": [
              "         id  target\n",
              "0         0       0\n",
              "1         2       1\n",
              "2         3       1\n",
              "3         9       1\n",
              "4        11       1\n",
              "...     ...     ...\n",
              "3258  10861       1\n",
              "3259  10865       1\n",
              "3260  10868       1\n",
              "3261  10874       0\n",
              "3262  10875       0\n",
              "\n",
              "[3263 rows x 2 columns]"
            ]
          },
          "execution_count": 85,
          "metadata": {},
          "output_type": "execute_result"
        }
      ],
      "source": [
        "sub = get_submission_file(best_model, data=final_test_dataset)\n",
        "sub"
      ]
    },
    {
      "cell_type": "code",
      "execution_count": 86,
      "metadata": {
        "colab": {
          "base_uri": "https://localhost:8080/"
        },
        "id": "d0_XL5xvMQxp",
        "outputId": "a166ceb3-ac89-4f5f-dd1b-2eac82bf3dc3"
      },
      "outputs": [
        {
          "data": {
            "text/plain": [
              "0    2112\n",
              "1    1151\n",
              "Name: target, dtype: int64"
            ]
          },
          "execution_count": 86,
          "metadata": {},
          "output_type": "execute_result"
        }
      ],
      "source": [
        "sub[\"target\"].value_counts()"
      ]
    },
    {
      "cell_type": "markdown",
      "metadata": {},
      "source": [
        "This will be all for now."
      ]
    }
  ],
  "metadata": {
    "accelerator": "GPU",
    "colab": {
      "collapsed_sections": [
        "cZ2YDBjo75b8",
        "UkxKiye473DF",
        "2_6D_aCL8ir5",
        "Mu1JnlEv9W31",
        "xKXvbf2T8z1i",
        "CVjnGmnYH39e",
        "7m6JFMm5IcQH",
        "asLPU6qkMjxe",
        "20elIWOTOyYu"
      ],
      "name": "modeling.ipynb",
      "provenance": []
    },
    "gpuClass": "standard",
    "kernelspec": {
      "display_name": "Python 3.8.5",
      "language": "python",
      "name": "python3"
    },
    "language_info": {
      "codemirror_mode": {
        "name": "ipython",
        "version": 3
      },
      "file_extension": ".py",
      "mimetype": "text/x-python",
      "name": "python",
      "nbconvert_exporter": "python",
      "pygments_lexer": "ipython3",
      "version": "3.8.5"
    },
    "vscode": {
      "interpreter": {
        "hash": "98a06921e42c4ae689d578665f28201be7cad9b45c4149f8887161f1353af971"
      }
    }
  },
  "nbformat": 4,
  "nbformat_minor": 0
}
