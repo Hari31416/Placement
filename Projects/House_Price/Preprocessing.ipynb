{
 "cells": [
  {
   "cell_type": "markdown",
   "metadata": {},
   "source": [
    "<table class=\"tfo-notebook-buttons\" align=\"left\">\n",
    "<td style=\"border: none;\">\n",
    "<a target=\"blank\" href=\"https://colab.research.google.com/github/Hari31416/Portfolio/blob/main/ML/Housing_Price/Preprocessing.ipynb?hl=en\"><img src=\"https://colab.research.google.com/img/colab_favicon_256px.png\" width=\"28\" height=\"28\"/>Run on Google Colab</a></td>\n",
    "<td style=\"border: none;\">\n",
    "<a target=\"blank\" href=\"https://github.com/Hari31416/Portfolio/blob/main/Housing_Price/ML/Preprocessing.ipynb\"><img src=\"https://cdn.icon-icons.com/icons2/2368/PNG/512/github_logo_icon_143772.png\" width=\"28\" height=\"28\"/>View on Github</a></td>\n",
    "<td style=\"border: none;\">\n",
    "</table>"
   ]
  },
  {
   "cell_type": "markdown",
   "metadata": {},
   "source": [
    "## Imports"
   ]
  },
  {
   "cell_type": "code",
   "execution_count": 42,
   "metadata": {},
   "outputs": [],
   "source": [
    "import pandas as pd\n",
    "from sklearn.preprocessing import OneHotEncoder, StandardScaler"
   ]
  },
  {
   "cell_type": "markdown",
   "metadata": {},
   "source": [
    "## Loading Data"
   ]
  },
  {
   "cell_type": "code",
   "execution_count": 43,
   "metadata": {},
   "outputs": [],
   "source": [
    "test_c = pd.read_csv(\"data/test_cleaned.csv\")\n",
    "train_c = pd.read_csv(\"data/train_cleaned.csv\")"
   ]
  },
  {
   "cell_type": "markdown",
   "metadata": {},
   "source": [
    "## Outliers"
   ]
  },
  {
   "cell_type": "markdown",
   "metadata": {},
   "source": [
    "During EDA, we found that the data contains some outliers. We can remove them from the train dataset. However, as we need to make prediction for all the entries in the test dataset, we can not remove them from the test dataset. "
   ]
  },
  {
   "cell_type": "markdown",
   "metadata": {},
   "source": [
    "## Preprocessing"
   ]
  },
  {
   "cell_type": "markdown",
   "metadata": {},
   "source": [
    "### Functions"
   ]
  },
  {
   "cell_type": "code",
   "execution_count": 44,
   "metadata": {},
   "outputs": [],
   "source": [
    "def get_detail(column):\n",
    "    \"\"\" Get the detail of the column \n",
    "    \n",
    "    Args:\n",
    "        column (str): the column name\n",
    "    \n",
    "    Returns:\n",
    "        str: the detail of the column\n",
    "    \"\"\"\n",
    "    text = \"\"\n",
    "    with open(\"data_description.txt\") as f:\n",
    "        text = f.read()\n",
    "   \n",
    "    start = text.find(f\"{column}:\")\n",
    "    end = text.find(\":\", start+len(column)+5)\n",
    "    texts_found = text[start:end].strip().split(\"\\n\")\n",
    "    if len(texts_found)>1:\n",
    "        print(\"\\n\".join(texts_found[:-2]))\n",
    "    else:\n",
    "        print(\"No such column\")"
   ]
  },
  {
   "cell_type": "code",
   "execution_count": 45,
   "metadata": {},
   "outputs": [],
   "source": [
    "str_cols = train_c.columns[train_c.dtypes == 'object']\n",
    "str_cols = list(str_cols)"
   ]
  },
  {
   "cell_type": "markdown",
   "metadata": {},
   "source": [
    "### Should We Use All The Columns?"
   ]
  },
  {
   "cell_type": "markdown",
   "metadata": {},
   "source": [
    "A ton of non-numerical columns are in the dataset. If we use all of them, the resulting dataframe after we have converted the non-numerical columns to numerical columns will be very large. So, we need to take only a few of these columns."
   ]
  },
  {
   "cell_type": "code",
   "execution_count": 46,
   "metadata": {},
   "outputs": [],
   "source": [
    "train_c_str = train_c[str_cols]\n",
    "test_c_str = test_c[str_cols]\n",
    "train_c_nums = train_c.drop(str_cols, axis=1)\n",
    "test_c_nums = test_c.drop(str_cols, axis=1)"
   ]
  },
  {
   "cell_type": "code",
   "execution_count": 47,
   "metadata": {},
   "outputs": [],
   "source": [
    "ohe = OneHotEncoder(sparse=False)\n",
    "train_c_str_ohe = ohe.fit_transform(train_c_str)\n",
    "test_c_str_ohe = ohe.transform(test_c_str)\n"
   ]
  },
  {
   "cell_type": "code",
   "execution_count": 48,
   "metadata": {},
   "outputs": [
    {
     "data": {
      "text/plain": [
       "((1460, 266), (1459, 266))"
      ]
     },
     "execution_count": 48,
     "metadata": {},
     "output_type": "execute_result"
    }
   ],
   "source": [
    "train_c_str_ohe.shape, test_c_str_ohe.shape"
   ]
  },
  {
   "cell_type": "markdown",
   "metadata": {},
   "source": [
    "As we can see, after one-hot encoding, the dataset contains 266 columns just for the non-numeric columns. "
   ]
  },
  {
   "cell_type": "markdown",
   "metadata": {},
   "source": [
    "### Which columns should we use?"
   ]
  },
  {
   "cell_type": "markdown",
   "metadata": {},
   "source": [
    "#### Using Ranking System"
   ]
  },
  {
   "cell_type": "markdown",
   "metadata": {},
   "source": [
    "Let's have a look on the columns and what they specify."
   ]
  },
  {
   "cell_type": "code",
   "execution_count": 49,
   "metadata": {},
   "outputs": [
    {
     "name": "stdout",
     "output_type": "stream",
     "text": [
      "MSZoning: Identifies the general zoning classification of the sale.\n",
      "\t\t\n",
      "       A\tAgriculture\n",
      "       C\tCommercial\n",
      "       FV\tFloating Village Residential\n",
      "       I\tIndustrial\n",
      "       RH\tResidential High Density\n",
      "       RL\tResidential Low Density\n",
      "       RP\tResidential Low Density Park \n",
      "       RM\tResidential Medium Density\n",
      "\n",
      "\n",
      "**************************************************\n",
      "\n",
      "\n",
      "Street: Type of road access to property\n",
      "\n",
      "       Grvl\tGravel\t\n",
      "       Pave\tPaved\n",
      "\n",
      "\n",
      "**************************************************\n",
      "\n",
      "\n",
      "Alley: Type of alley access to property\n",
      "\n",
      "       Grvl\tGravel\n",
      "       Pave\tPaved\n",
      "       NA \tNo alley access\n",
      "\n",
      "\n",
      "**************************************************\n",
      "\n",
      "\n",
      "LotShape: General shape of property\n",
      "\n",
      "       Reg\tRegular\t\n",
      "       IR1\tSlightly irregular\n",
      "       IR2\tModerately Irregular\n",
      "       IR3\tIrregular\n",
      "\n",
      "\n",
      "**************************************************\n",
      "\n",
      "\n",
      "LandContour: Flatness of the property\n",
      "\n",
      "       Lvl\tNear Flat/Level\t\n",
      "       Bnk\tBanked - Quick and significant rise from street grade to building\n",
      "       HLS\tHillside - Significant slope from side to side\n",
      "       Low\tDepression\n",
      "\n",
      "\n",
      "**************************************************\n",
      "\n",
      "\n",
      "Utilities: Type of utilities available\n",
      "\t\t\n",
      "       AllPub\tAll public Utilities (E,G,W,& S)\t\n",
      "       NoSewr\tElectricity, Gas, and Water (Septic Tank)\n",
      "       NoSeWa\tElectricity and Gas Only\n",
      "       ELO\tElectricity only\t\n",
      "\n",
      "\n",
      "**************************************************\n",
      "\n",
      "\n",
      "LotConfig: Lot configuration\n",
      "\n",
      "       Inside\tInside lot\n",
      "       Corner\tCorner lot\n",
      "       CulDSac\tCul-de-sac\n",
      "       FR2\tFrontage on 2 sides of property\n",
      "       FR3\tFrontage on 3 sides of property\n",
      "\n",
      "\n",
      "**************************************************\n",
      "\n",
      "\n",
      "LandSlope: Slope of property\n",
      "\t\t\n",
      "       Gtl\tGentle slope\n",
      "       Mod\tModerate Slope\t\n",
      "       Sev\tSevere Slope\n",
      "\n",
      "\n",
      "**************************************************\n",
      "\n",
      "\n",
      "Neighborhood: Physical locations within Ames city limits\n",
      "\n",
      "       Blmngtn\tBloomington Heights\n",
      "       Blueste\tBluestem\n",
      "       BrDale\tBriardale\n",
      "       BrkSide\tBrookside\n",
      "       ClearCr\tClear Creek\n",
      "       CollgCr\tCollege Creek\n",
      "       Crawfor\tCrawford\n",
      "       Edwards\tEdwards\n",
      "       Gilbert\tGilbert\n",
      "       IDOTRR\tIowa DOT and Rail Road\n",
      "       MeadowV\tMeadow Village\n",
      "       Mitchel\tMitchell\n",
      "       Names\tNorth Ames\n",
      "       NoRidge\tNorthridge\n",
      "       NPkVill\tNorthpark Villa\n",
      "       NridgHt\tNorthridge Heights\n",
      "       NWAmes\tNorthwest Ames\n",
      "       OldTown\tOld Town\n",
      "       SWISU\tSouth & West of Iowa State University\n",
      "       Sawyer\tSawyer\n",
      "       SawyerW\tSawyer West\n",
      "       Somerst\tSomerset\n",
      "       StoneBr\tStone Brook\n",
      "       Timber\tTimberland\n",
      "       Veenker\tVeenker\n",
      "\n",
      "\n",
      "**************************************************\n",
      "\n",
      "\n",
      "Condition1: Proximity to various conditions\n",
      "\t\n",
      "       Artery\tAdjacent to arterial street\n",
      "       Feedr\tAdjacent to feeder street\t\n",
      "       Norm\tNormal\t\n",
      "       RRNn\tWithin 200' of North-South Railroad\n",
      "       RRAn\tAdjacent to North-South Railroad\n",
      "       PosN\tNear positive off-site feature--park, greenbelt, etc.\n",
      "       PosA\tAdjacent to postive off-site feature\n",
      "       RRNe\tWithin 200' of East-West Railroad\n",
      "       RRAe\tAdjacent to East-West Railroad\n",
      "\n",
      "\n",
      "**************************************************\n",
      "\n",
      "\n",
      "Condition2: Proximity to various conditions (if more than one is present)\n",
      "\t\t\n",
      "       Artery\tAdjacent to arterial street\n",
      "       Feedr\tAdjacent to feeder street\t\n",
      "       Norm\tNormal\t\n",
      "       RRNn\tWithin 200' of North-South Railroad\n",
      "       RRAn\tAdjacent to North-South Railroad\n",
      "       PosN\tNear positive off-site feature--park, greenbelt, etc.\n",
      "       PosA\tAdjacent to postive off-site feature\n",
      "       RRNe\tWithin 200' of East-West Railroad\n",
      "       RRAe\tAdjacent to East-West Railroad\n",
      "\n",
      "\n",
      "**************************************************\n",
      "\n",
      "\n",
      "BldgType: Type of dwelling\n",
      "\t\t\n",
      "       1Fam\tSingle-family Detached\t\n",
      "       2FmCon\tTwo-family Conversion; originally built as one-family dwelling\n",
      "       Duplx\tDuplex\n",
      "       TwnhsE\tTownhouse End Unit\n",
      "       TwnhsI\tTownhouse Inside Unit\n",
      "\n",
      "\n",
      "**************************************************\n",
      "\n",
      "\n",
      "HouseStyle: Style of dwelling\n",
      "\t\n",
      "\n",
      "\n",
      "**************************************************\n",
      "\n",
      "\n",
      "RoofStyle: Type of roof\n",
      "\n",
      "       Flat\tFlat\n",
      "       Gable\tGable\n",
      "       Gambrel\tGabrel (Barn)\n",
      "       Hip\tHip\n",
      "       Mansard\tMansard\n",
      "       Shed\tShed\n",
      "\n",
      "\n",
      "**************************************************\n",
      "\n",
      "\n",
      "RoofMatl: Roof material\n",
      "\n",
      "       ClyTile\tClay or Tile\n",
      "       CompShg\tStandard (Composite) Shingle\n",
      "       Membran\tMembrane\n",
      "       Metal\tMetal\n",
      "       Roll\tRoll\n",
      "       Tar&Grv\tGravel & Tar\n",
      "       WdShake\tWood Shakes\n",
      "       WdShngl\tWood Shingles\n",
      "\n",
      "\n",
      "**************************************************\n",
      "\n",
      "\n",
      "Exterior1st: Exterior covering on house\n",
      "\n",
      "       AsbShng\tAsbestos Shingles\n",
      "       AsphShn\tAsphalt Shingles\n",
      "       BrkComm\tBrick Common\n",
      "       BrkFace\tBrick Face\n",
      "       CBlock\tCinder Block\n",
      "       CemntBd\tCement Board\n",
      "       HdBoard\tHard Board\n",
      "       ImStucc\tImitation Stucco\n",
      "       MetalSd\tMetal Siding\n",
      "       Other\tOther\n",
      "       Plywood\tPlywood\n",
      "       PreCast\tPreCast\t\n",
      "       Stone\tStone\n",
      "       Stucco\tStucco\n",
      "       VinylSd\tVinyl Siding\n",
      "       Wd Sdng\tWood Siding\n",
      "       WdShing\tWood Shingles\n",
      "\n",
      "\n",
      "**************************************************\n",
      "\n",
      "\n",
      "Exterior2nd: Exterior covering on house (if more than one material)\n",
      "\n",
      "       AsbShng\tAsbestos Shingles\n",
      "       AsphShn\tAsphalt Shingles\n",
      "       BrkComm\tBrick Common\n",
      "       BrkFace\tBrick Face\n",
      "       CBlock\tCinder Block\n",
      "       CemntBd\tCement Board\n",
      "       HdBoard\tHard Board\n",
      "       ImStucc\tImitation Stucco\n",
      "       MetalSd\tMetal Siding\n",
      "       Other\tOther\n",
      "       Plywood\tPlywood\n",
      "       PreCast\tPreCast\n",
      "       Stone\tStone\n",
      "       Stucco\tStucco\n",
      "       VinylSd\tVinyl Siding\n",
      "       Wd Sdng\tWood Siding\n",
      "       WdShing\tWood Shingles\n",
      "\n",
      "\n",
      "**************************************************\n",
      "\n",
      "\n",
      "MasVnrType: Masonry veneer type\n",
      "\n",
      "       BrkCmn\tBrick Common\n",
      "       BrkFace\tBrick Face\n",
      "       CBlock\tCinder Block\n",
      "       None\tNone\n",
      "       Stone\tStone\n",
      "\n",
      "\n",
      "**************************************************\n",
      "\n",
      "\n",
      "ExterQual: Evaluates the quality of the material on the exterior \n",
      "\t\t\n",
      "       Ex\tExcellent\n",
      "       Gd\tGood\n",
      "       TA\tAverage/Typical\n",
      "       Fa\tFair\n",
      "       Po\tPoor\n",
      "\n",
      "\n",
      "**************************************************\n",
      "\n",
      "\n",
      "ExterCond: Evaluates the present condition of the material on the exterior\n",
      "\t\t\n",
      "       Ex\tExcellent\n",
      "       Gd\tGood\n",
      "       TA\tAverage/Typical\n",
      "       Fa\tFair\n",
      "       Po\tPoor\n",
      "\n",
      "\n",
      "**************************************************\n",
      "\n",
      "\n",
      "Foundation: Type of foundation\n",
      "\t\t\n",
      "       BrkTil\tBrick & Tile\n",
      "       CBlock\tCinder Block\n",
      "       PConc\tPoured Contrete\t\n",
      "       Slab\tSlab\n",
      "       Stone\tStone\n",
      "       Wood\tWood\n",
      "\n",
      "\n",
      "**************************************************\n",
      "\n",
      "\n",
      "BsmtQual: Evaluates the height of the basement\n",
      "\n",
      "       Ex\tExcellent (100+ inches)\t\n",
      "       Gd\tGood (90-99 inches)\n",
      "       TA\tTypical (80-89 inches)\n",
      "       Fa\tFair (70-79 inches)\n",
      "       Po\tPoor (<70 inches\n",
      "       NA\tNo Basement\n",
      "\n",
      "\n",
      "**************************************************\n",
      "\n",
      "\n",
      "BsmtCond: Evaluates the general condition of the basement\n",
      "\n",
      "       Ex\tExcellent\n",
      "       Gd\tGood\n",
      "       TA\tTypical - slight dampness allowed\n",
      "       Fa\tFair - dampness or some cracking or settling\n",
      "       Po\tPoor - Severe cracking, settling, or wetness\n",
      "       NA\tNo Basement\n",
      "\n",
      "\n",
      "**************************************************\n",
      "\n",
      "\n",
      "BsmtExposure: Refers to walkout or garden level walls\n",
      "\n",
      "       Gd\tGood Exposure\n",
      "       Av\tAverage Exposure (split levels or foyers typically score average or above)\t\n",
      "       Mn\tMimimum Exposure\n",
      "       No\tNo Exposure\n",
      "       NA\tNo Basement\n",
      "\n",
      "\n",
      "**************************************************\n",
      "\n",
      "\n",
      "BsmtFinType1: Rating of basement finished area\n",
      "\n",
      "       GLQ\tGood Living Quarters\n",
      "       ALQ\tAverage Living Quarters\n",
      "       BLQ\tBelow Average Living Quarters\t\n",
      "       Rec\tAverage Rec Room\n",
      "       LwQ\tLow Quality\n",
      "       Unf\tUnfinshed\n",
      "       NA\tNo Basement\n",
      "\n",
      "\n",
      "**************************************************\n",
      "\n",
      "\n",
      "BsmtFinType2: Rating of basement finished area (if multiple types)\n",
      "\n",
      "       GLQ\tGood Living Quarters\n",
      "       ALQ\tAverage Living Quarters\n",
      "       BLQ\tBelow Average Living Quarters\t\n",
      "       Rec\tAverage Rec Room\n",
      "       LwQ\tLow Quality\n",
      "       Unf\tUnfinshed\n",
      "       NA\tNo Basement\n",
      "\n",
      "\n",
      "**************************************************\n",
      "\n",
      "\n",
      "Heating: Type of heating\n",
      "\t\t\n",
      "       Floor\tFloor Furnace\n",
      "       GasA\tGas forced warm air furnace\n",
      "       GasW\tGas hot water or steam heat\n",
      "       Grav\tGravity furnace\t\n",
      "       OthW\tHot water or steam heat other than gas\n",
      "       Wall\tWall furnace\n",
      "\n",
      "\n",
      "**************************************************\n",
      "\n",
      "\n",
      "HeatingQC: Heating quality and condition\n",
      "\n",
      "       Ex\tExcellent\n",
      "       Gd\tGood\n",
      "       TA\tAverage/Typical\n",
      "       Fa\tFair\n",
      "       Po\tPoor\n",
      "\n",
      "\n",
      "**************************************************\n",
      "\n",
      "\n",
      "CentralAir: Central air conditioning\n",
      "\n",
      "       N\tNo\n",
      "       Y\tYes\n",
      "\n",
      "\n",
      "**************************************************\n",
      "\n",
      "\n",
      "Electrical: Electrical system\n",
      "\n",
      "       SBrkr\tStandard Circuit Breakers & Romex\n",
      "       FuseA\tFuse Box over 60 AMP and all Romex wiring (Average)\t\n",
      "       FuseF\t60 AMP Fuse Box and mostly Romex wiring (Fair)\n",
      "       FuseP\t60 AMP Fuse Box and mostly knob & tube wiring (poor)\n",
      "       Mix\tMixed\n",
      "\n",
      "\n",
      "**************************************************\n",
      "\n",
      "\n",
      "KitchenQual: Kitchen quality\n",
      "\n",
      "       Ex\tExcellent\n",
      "       Gd\tGood\n",
      "       TA\tTypical/Average\n",
      "       Fa\tFair\n",
      "       Po\tPoor\n",
      "\n",
      "\n",
      "**************************************************\n",
      "\n",
      "\n",
      "Functional: Home functionality (Assume typical unless deductions are warranted)\n",
      "\n",
      "       Typ\tTypical Functionality\n",
      "       Min1\tMinor Deductions 1\n",
      "       Min2\tMinor Deductions 2\n",
      "       Mod\tModerate Deductions\n",
      "       Maj1\tMajor Deductions 1\n",
      "       Maj2\tMajor Deductions 2\n",
      "       Sev\tSeverely Damaged\n",
      "       Sal\tSalvage only\n",
      "\n",
      "\n",
      "**************************************************\n",
      "\n",
      "\n",
      "FireplaceQu: Fireplace quality\n",
      "\n",
      "       Ex\tExcellent - Exceptional Masonry Fireplace\n",
      "       Gd\tGood - Masonry Fireplace in main level\n",
      "       TA\tAverage - Prefabricated Fireplace in main living area or Masonry Fireplace in basement\n",
      "       Fa\tFair - Prefabricated Fireplace in basement\n",
      "       Po\tPoor - Ben Franklin Stove\n",
      "       NA\tNo Fireplace\n",
      "\n",
      "\n",
      "**************************************************\n",
      "\n",
      "\n",
      "GarageType: Garage location\n",
      "\t\t\n",
      "       2Types\tMore than one type of garage\n",
      "       Attchd\tAttached to home\n",
      "       Basment\tBasement Garage\n",
      "       BuiltIn\tBuilt-In (Garage part of house - typically has room above garage)\n",
      "       CarPort\tCar Port\n",
      "       Detchd\tDetached from home\n",
      "       NA\tNo Garage\n",
      "\n",
      "\n",
      "**************************************************\n",
      "\n",
      "\n",
      "GarageFinish: Interior finish of the garage\n",
      "\n",
      "       Fin\tFinished\n",
      "       RFn\tRough Finished\t\n",
      "       Unf\tUnfinished\n",
      "       NA\tNo Garage\n",
      "\n",
      "\n",
      "**************************************************\n",
      "\n",
      "\n",
      "GarageQual: Garage quality\n",
      "\n",
      "       Ex\tExcellent\n",
      "       Gd\tGood\n",
      "       TA\tTypical/Average\n",
      "       Fa\tFair\n",
      "       Po\tPoor\n",
      "       NA\tNo Garage\n",
      "\n",
      "\n",
      "**************************************************\n",
      "\n",
      "\n",
      "GarageCond: Garage condition\n",
      "\n",
      "       Ex\tExcellent\n",
      "       Gd\tGood\n",
      "       TA\tTypical/Average\n",
      "       Fa\tFair\n",
      "       Po\tPoor\n",
      "       NA\tNo Garage\n",
      "\n",
      "\n",
      "**************************************************\n",
      "\n",
      "\n",
      "PavedDrive: Paved driveway\n",
      "\n",
      "       Y\tPaved \n",
      "       P\tPartial Pavement\n",
      "       N\tDirt/Gravel\n",
      "\n",
      "\n",
      "**************************************************\n",
      "\n",
      "\n",
      "PoolQC: Pool quality\n",
      "\t\t\n",
      "       Ex\tExcellent\n",
      "       Gd\tGood\n",
      "       TA\tAverage/Typical\n",
      "       Fa\tFair\n",
      "       NA\tNo Pool\n",
      "\n",
      "\n",
      "**************************************************\n",
      "\n",
      "\n",
      "Fence: Fence quality\n",
      "\t\t\n",
      "       GdPrv\tGood Privacy\n",
      "       MnPrv\tMinimum Privacy\n",
      "       GdWo\tGood Wood\n",
      "       MnWw\tMinimum Wood/Wire\n",
      "       NA\tNo Fence\n",
      "\n",
      "\n",
      "**************************************************\n",
      "\n",
      "\n",
      "MiscFeature: Miscellaneous feature not covered in other categories\n",
      "\t\t\n",
      "       Elev\tElevator\n",
      "       Gar2\t2nd Garage (if not described in garage section)\n",
      "       Othr\tOther\n",
      "       Shed\tShed (over 100 SF)\n",
      "       TenC\tTennis Court\n",
      "       NA\tNone\n",
      "\n",
      "\n",
      "**************************************************\n",
      "\n",
      "\n",
      "SaleType: Type of sale\n",
      "\t\t\n",
      "       WD \tWarranty Deed - Conventional\n",
      "       CWD\tWarranty Deed - Cash\n",
      "       VWD\tWarranty Deed - VA Loan\n",
      "       New\tHome just constructed and sold\n",
      "       COD\tCourt Officer Deed/Estate\n",
      "       Con\tContract 15% Down payment regular terms\n",
      "       ConLw\tContract Low Down payment and low interest\n",
      "       ConLI\tContract Low Interest\n",
      "       ConLD\tContract Low Down\n",
      "       Oth\tOther\n",
      "\n",
      "\n",
      "**************************************************\n",
      "\n",
      "\n",
      "SaleCondition: Condition of sale\n",
      "\n",
      "       Normal\tNormal Sale\n",
      "       Abnorml\tAbnormal Sale -  trade, foreclosure, short sale\n",
      "       AdjLand\tAdjoining Land Purchase\n",
      "       Alloca\tAllocation - two linked properties with separate deeds, typically condo with a garage unit\t\n",
      "\n",
      "\n",
      "**************************************************\n",
      "\n",
      "\n"
     ]
    }
   ],
   "source": [
    "for col in str_cols:\n",
    "    get_detail(col)\n",
    "    print(\"\\n\")\n",
    "    print(\"**********\"*5)\n",
    "    print(\"\\n\")"
   ]
  },
  {
   "cell_type": "markdown",
   "metadata": {},
   "source": [
    "There are a lot of columns where comparative adjectives like \"excellent\", \"good\", \"bad\" are used. Since these adjectives give a sense of 'ranking', we can convert them to numerical values. The encoding, we'll use is as follows:\n",
    "\n",
    "Ex\tExcellent >> 5\n",
    "\n",
    "Gd\tGood >> 4\n",
    "\n",
    "TA\tTypical - slight dampness allowed >> 3\n",
    "\n",
    "Fa\tFair - dampness or some cracking or settling >> 2\n",
    "\n",
    "Po\tPoor - Severe cracking, settling, or wetness >> 1\n",
    "\n",
    "NA\tNo Basement >> 0\n"
   ]
  },
  {
   "cell_type": "markdown",
   "metadata": {},
   "source": [
    "In BsmtFinType columns, we have an extra adjective \"Unf\". This adjective is used to indicate that the basement is not finished. We'll merge it to `NA`."
   ]
  },
  {
   "cell_type": "markdown",
   "metadata": {},
   "source": [
    "List of columns which can be transformed to numerical values by the method described above are: `\"ExterQual, ExterCond, BsmtQual, BsmtCond, BsmtExposure, BsmtFinType1, BsmtFinType2,  HeatingQC, KitchenQual, FireplaceQu, GarageQual, GarageCond, PoolQC, Fence\"`."
   ]
  },
  {
   "cell_type": "markdown",
   "metadata": {},
   "source": [
    "Apart from these, we also have some columns which don't give a direct sense of 'ranking' but we can, instead of dropping them, convert them to numerical values using a generalization of the method described above. These columns are: `\"LotShape\", \"Utilities\", \"GarageFinish\", \"LandContour\", \"LandSlope\", \"CentralAir\", \"PavedDrive\"`. Let's add these columns too."
   ]
  },
  {
   "cell_type": "code",
   "execution_count": 50,
   "metadata": {},
   "outputs": [
    {
     "data": {
      "text/plain": [
       "['ExterQual',\n",
       " 'ExterCond',\n",
       " 'BsmtQual',\n",
       " 'BsmtCond',\n",
       " 'BsmtExposure',\n",
       " 'BsmtFinType1',\n",
       " 'BsmtFinType2',\n",
       " 'HeatingQC',\n",
       " 'KitchenQual',\n",
       " 'FireplaceQu',\n",
       " 'GarageQual',\n",
       " 'GarageCond',\n",
       " 'PoolQC',\n",
       " 'Fence',\n",
       " 'LotShape',\n",
       " 'Utilities',\n",
       " 'GarageFinish',\n",
       " 'LandContour',\n",
       " 'LandSlope',\n",
       " 'CentralAir',\n",
       " 'PavedDrive']"
      ]
     },
     "execution_count": 50,
     "metadata": {},
     "output_type": "execute_result"
    }
   ],
   "source": [
    "cols = \"ExterQual, ExterCond, BsmtQual, BsmtCond, BsmtExposure, BsmtFinType1, BsmtFinType2, HeatingQC, KitchenQual, FireplaceQu, GarageQual, GarageCond, PoolQC, Fence, LotShape, Utilities, GarageFinish, LandContour, LandSlope, CentralAir, PavedDrive\".split(\", \")\n",
    "cols"
   ]
  },
  {
   "cell_type": "markdown",
   "metadata": {},
   "source": [
    "Next we make a function to convert these columns to numerical values."
   ]
  },
  {
   "cell_type": "code",
   "execution_count": 51,
   "metadata": {},
   "outputs": [],
   "source": [
    "zero = [\"NA\", \"Unf\", \"None\", \"No\"]\n",
    "one = [\"Po\", \"No\", \"LwQ\", \"IR3\", \"ELO\", \"Low\", \"Sev\", \"Yes\", \"N\"]\n",
    "two = [\"Fa\", \"Mn\", \"Rec\", \"MnWw\", \"IR2\", \"Unf\", \"HLS\"]\n",
    "three = [\"TA\", \"BLQ\", \"GdWo\", \"IR1\", \"NoSeWa\", \"RFn\", \"Bnk\", \"Mod\",\"P\"]\n",
    "four = [\"Gd\", \"ALQ\", \"Av\", \"MnPrv\", \"NoSewr\"]\n",
    "five = [\"Ex\", \"GLQ\", \"GdPrv\", \"Reg\", \"AllPub\", \"Fin\", \"Lvl\", \"Gtl\", \"Y\"]\n",
    "\n",
    "num_dict = {\n",
    "    0:zero,\n",
    "    1:one,\n",
    "    2:two,\n",
    "    3:three,\n",
    "    4:four,\n",
    "    5:five\n",
    "}\n",
    "\n",
    "def make_numeric(column, data):\n",
    "    \"\"\" Make the column numeric\n",
    "    \n",
    "    Args:\n",
    "        column (str): the column name\n",
    "        data (pandas.DataFrame): the dataframe\n",
    "    \n",
    "    Returns:\n",
    "        pandas.DataFrame: the dataframe with the column numeric\n",
    "    \"\"\"\n",
    "    \n",
    "    for key, value in num_dict.items():\n",
    "        for val in value:\n",
    "            data[column] = data[column].replace(val, key)\n",
    "    data[column] = data[column].astype(int)\n",
    "    return data\n",
    "    "
   ]
  },
  {
   "cell_type": "code",
   "execution_count": 52,
   "metadata": {},
   "outputs": [],
   "source": [
    "data = train_c_str.copy()\n",
    "for col in cols:\n",
    "    data = make_numeric(col, data)"
   ]
  },
  {
   "cell_type": "code",
   "execution_count": 53,
   "metadata": {},
   "outputs": [
    {
     "name": "stdout",
     "output_type": "stream",
     "text": [
      "ExterQual int64\n",
      "ExterCond int64\n",
      "BsmtQual int64\n",
      "BsmtCond int64\n",
      "BsmtExposure int64\n",
      "BsmtFinType1 int64\n",
      "BsmtFinType2 int64\n",
      "HeatingQC int64\n",
      "KitchenQual int64\n",
      "FireplaceQu int64\n",
      "GarageQual int64\n",
      "GarageCond int64\n",
      "PoolQC int64\n",
      "Fence int64\n",
      "LotShape int64\n",
      "Utilities int64\n",
      "GarageFinish int64\n",
      "LandContour int64\n",
      "LandSlope int64\n",
      "CentralAir int64\n",
      "PavedDrive int64\n"
     ]
    }
   ],
   "source": [
    "for col in cols:\n",
    "    print(col, data[col].dtype)"
   ]
  },
  {
   "cell_type": "code",
   "execution_count": 54,
   "metadata": {},
   "outputs": [
    {
     "data": {
      "text/plain": [
       "0"
      ]
     },
     "execution_count": 54,
     "metadata": {},
     "output_type": "execute_result"
    }
   ],
   "source": [
    "train_c_nums = pd.concat([train_c_nums, data[cols]], axis=1)\n",
    "(train_c_nums.dtypes == \"object\").sum()"
   ]
  },
  {
   "cell_type": "markdown",
   "metadata": {},
   "source": [
    "Great! Let's do the same for train dataset."
   ]
  },
  {
   "cell_type": "code",
   "execution_count": 55,
   "metadata": {},
   "outputs": [],
   "source": [
    "data = test_c_str.copy()\n",
    "for col in cols:\n",
    "    data = make_numeric(col, data)"
   ]
  },
  {
   "cell_type": "code",
   "execution_count": 56,
   "metadata": {},
   "outputs": [
    {
     "name": "stdout",
     "output_type": "stream",
     "text": [
      "ExterQual int64\n",
      "ExterCond int64\n",
      "BsmtQual int64\n",
      "BsmtCond int64\n",
      "BsmtExposure int64\n",
      "BsmtFinType1 int64\n",
      "BsmtFinType2 int64\n",
      "HeatingQC int64\n",
      "KitchenQual int64\n",
      "FireplaceQu int64\n",
      "GarageQual int64\n",
      "GarageCond int64\n",
      "PoolQC int64\n",
      "Fence int64\n",
      "LotShape int64\n",
      "Utilities int64\n",
      "GarageFinish int64\n",
      "LandContour int64\n",
      "LandSlope int64\n",
      "CentralAir int64\n",
      "PavedDrive int64\n"
     ]
    }
   ],
   "source": [
    "for col in cols:\n",
    "    print(col, data[col].dtype)"
   ]
  },
  {
   "cell_type": "code",
   "execution_count": 57,
   "metadata": {},
   "outputs": [
    {
     "data": {
      "text/plain": [
       "0"
      ]
     },
     "execution_count": 57,
     "metadata": {},
     "output_type": "execute_result"
    }
   ],
   "source": [
    "test_c_nums = pd.concat([test_c_nums, data[cols]], axis=1)\n",
    "(test_c_nums.dtypes == \"object\").sum()"
   ]
  },
  {
   "cell_type": "markdown",
   "metadata": {},
   "source": [
    "We'll remove these columns from the non-numerical columns list."
   ]
  },
  {
   "cell_type": "code",
   "execution_count": 58,
   "metadata": {},
   "outputs": [
    {
     "data": {
      "text/plain": [
       "Index(['MSZoning', 'Street', 'Alley', 'LotConfig', 'Neighborhood',\n",
       "       'Condition1', 'Condition2', 'BldgType', 'HouseStyle', 'RoofStyle',\n",
       "       'RoofMatl', 'Exterior1st', 'Exterior2nd', 'MasVnrType', 'Foundation',\n",
       "       'Heating', 'Electrical', 'Functional', 'GarageType', 'MiscFeature',\n",
       "       'SaleType', 'SaleCondition'],\n",
       "      dtype='object')"
      ]
     },
     "execution_count": 58,
     "metadata": {},
     "output_type": "execute_result"
    }
   ],
   "source": [
    "train_c_str = train_c_str.drop(cols, axis=1)\n",
    "test_c_str = test_c_str.drop(cols, axis=1)\n",
    "train_c_str.columns"
   ]
  },
  {
   "cell_type": "code",
   "execution_count": 59,
   "metadata": {},
   "outputs": [
    {
     "data": {
      "text/plain": [
       "22"
      ]
     },
     "execution_count": 59,
     "metadata": {},
     "output_type": "execute_result"
    }
   ],
   "source": [
    "len(train_c_str.columns)"
   ]
  },
  {
   "cell_type": "markdown",
   "metadata": {},
   "source": [
    "#### The Remaing Columns"
   ]
  },
  {
   "cell_type": "markdown",
   "metadata": {},
   "source": [
    "This still leaves us with 22 columns. Some of them have a lot of categories in them. What should we do with it? Well, I'm going to drop almost all of them, except some of them."
   ]
  },
  {
   "cell_type": "code",
   "execution_count": 60,
   "metadata": {},
   "outputs": [],
   "source": [
    "not_to_drop = [\"MSZoning\", \"Neighborhood\", \"SaleType\", \"SaleCondition\"]\n",
    "to_drop = []\n",
    "for col in train_c_str.columns:\n",
    "    if col not in not_to_drop:\n",
    "        to_drop.append(col)"
   ]
  },
  {
   "cell_type": "code",
   "execution_count": 61,
   "metadata": {},
   "outputs": [
    {
     "data": {
      "text/plain": [
       "(1460, 4)"
      ]
     },
     "execution_count": 61,
     "metadata": {},
     "output_type": "execute_result"
    }
   ],
   "source": [
    "train_c_str = train_c_str.drop(to_drop, axis=1)\n",
    "test_c_str = test_c_str.drop(to_drop, axis=1)\n",
    "train_c_str.shape"
   ]
  },
  {
   "cell_type": "markdown",
   "metadata": {},
   "source": [
    "Next, we'll use pandas `get_dummy` to convert these to numerical values."
   ]
  },
  {
   "cell_type": "code",
   "execution_count": 62,
   "metadata": {},
   "outputs": [],
   "source": [
    "train_c_str = pd.get_dummies(train_c_str, drop_first=True)\n",
    "test_c_str = pd.get_dummies(test_c_str, drop_first=True)"
   ]
  },
  {
   "cell_type": "markdown",
   "metadata": {},
   "source": [
    "Finally, concatenate these."
   ]
  },
  {
   "cell_type": "code",
   "execution_count": 63,
   "metadata": {},
   "outputs": [],
   "source": [
    "train_c_nums = pd.concat([train_c_nums, train_c_str], axis=1)\n",
    "test_c_nums = pd.concat([test_c_nums, test_c_str], axis=1)"
   ]
  },
  {
   "cell_type": "code",
   "execution_count": 64,
   "metadata": {},
   "outputs": [
    {
     "data": {
      "text/plain": [
       "((1460, 100), (1459, 99))"
      ]
     },
     "execution_count": 64,
     "metadata": {},
     "output_type": "execute_result"
    }
   ],
   "source": [
    "train_c_nums.shape, test_c_nums.shape"
   ]
  },
  {
   "cell_type": "markdown",
   "metadata": {},
   "source": [
    "Let's check whether all the columns are numerical or not."
   ]
  },
  {
   "cell_type": "code",
   "execution_count": 65,
   "metadata": {},
   "outputs": [
    {
     "data": {
      "text/plain": [
       "0"
      ]
     },
     "execution_count": 65,
     "metadata": {},
     "output_type": "execute_result"
    }
   ],
   "source": [
    "(train_c_nums.dtypes == \"object\").sum()"
   ]
  },
  {
   "cell_type": "code",
   "execution_count": 66,
   "metadata": {},
   "outputs": [
    {
     "data": {
      "text/plain": [
       "0"
      ]
     },
     "execution_count": 66,
     "metadata": {},
     "output_type": "execute_result"
    }
   ],
   "source": [
    "(test_c_nums.dtypes == \"object\").sum()"
   ]
  },
  {
   "cell_type": "markdown",
   "metadata": {},
   "source": [
    "So, all the columns are numerical. Next, we need to standardize them. But first, we have to drop some of the columns as they don't give any information."
   ]
  },
  {
   "cell_type": "markdown",
   "metadata": {},
   "source": [
    "### Dropping Irrelevant Columns"
   ]
  },
  {
   "cell_type": "markdown",
   "metadata": {},
   "source": [
    "#### ID Column"
   ]
  },
  {
   "cell_type": "code",
   "execution_count": 67,
   "metadata": {},
   "outputs": [],
   "source": [
    "train_Id = train_c_nums[\"Id\"]\n",
    "test_Id = test_c_nums[\"Id\"]"
   ]
  },
  {
   "cell_type": "code",
   "execution_count": 68,
   "metadata": {},
   "outputs": [],
   "source": [
    "train_Id.to_csv(\"data/train_Id.csv\", index=False)\n",
    "test_Id.to_csv(\"data/test_Id.csv\", index=False)"
   ]
  },
  {
   "cell_type": "code",
   "execution_count": 33,
   "metadata": {},
   "outputs": [],
   "source": [
    "train_c_nums = train_c_nums.drop([\"Id\"], axis=1)\n",
    "test_c_nums = test_c_nums.drop([\"Id\"], axis=1)"
   ]
  },
  {
   "cell_type": "markdown",
   "metadata": {},
   "source": [
    "#### Year Columns"
   ]
  },
  {
   "cell_type": "markdown",
   "metadata": {},
   "source": [
    "We'll create a new feature, the age of the house by using the column `YearBuilt`. Then we'll drop the column `YearBuilt`."
   ]
  },
  {
   "cell_type": "code",
   "execution_count": 71,
   "metadata": {},
   "outputs": [],
   "source": [
    "train_c_nums[\"Age\"] = train_c_nums[\"YrSold\"] - train_c_nums[\"YearBuilt\"]\n",
    "test_c_nums[\"Age\"] = test_c_nums[\"YrSold\"] - test_c_nums[\"YearBuilt\"]"
   ]
  },
  {
   "cell_type": "code",
   "execution_count": 72,
   "metadata": {},
   "outputs": [],
   "source": [
    "years_cols = [\"YearBuilt\", \"YearRemodAdd\", \"GarageYrBlt\"]\n",
    "train_c_nums = train_c_nums.drop(years_cols, axis=1)\n",
    "test_c_nums = test_c_nums.drop(years_cols, axis=1)"
   ]
  },
  {
   "cell_type": "markdown",
   "metadata": {},
   "source": [
    "#### The Target Column"
   ]
  },
  {
   "cell_type": "code",
   "execution_count": 39,
   "metadata": {},
   "outputs": [],
   "source": [
    "X = train_c_nums.drop(\"SalePrice\", axis=1)\n",
    "y = train_c_nums[\"SalePrice\"]"
   ]
  },
  {
   "cell_type": "code",
   "execution_count": 40,
   "metadata": {},
   "outputs": [],
   "source": [
    "y.to_csv(\"data/y.csv\", index=False)"
   ]
  },
  {
   "cell_type": "code",
   "execution_count": 41,
   "metadata": {},
   "outputs": [],
   "source": [
    "assert X.shape[1] == test_c_nums.shape[1] ,\"Number of columns are not equal\""
   ]
  },
  {
   "cell_type": "markdown",
   "metadata": {},
   "source": [
    "### Normalizing the Data"
   ]
  },
  {
   "cell_type": "markdown",
   "metadata": {},
   "source": [
    "We don't need to standardize all the columns, in fact, some of the columns must not be standardized. We'll standardize only those columns which have a huge range, say greater than 10."
   ]
  },
  {
   "cell_type": "code",
   "execution_count": 74,
   "metadata": {},
   "outputs": [],
   "source": [
    "def get_range(column, data):\n",
    "    \"\"\" Get the range of the column\n",
    "    \n",
    "    Args:\n",
    "        column (str): the column name\n",
    "        data (pandas.DataFrame): the dataframe\n",
    "    \n",
    "    Returns:\n",
    "        tuple: the range of the column\n",
    "    \"\"\"\n",
    "    \n",
    "    return data[column].max() - data[column].min()"
   ]
  },
  {
   "cell_type": "code",
   "execution_count": 75,
   "metadata": {},
   "outputs": [
    {
     "data": {
      "text/plain": [
       "['MSSubClass',\n",
       " 'LotFrontage',\n",
       " 'LotArea',\n",
       " 'MasVnrArea',\n",
       " 'BsmtFinSF1',\n",
       " 'BsmtFinSF2',\n",
       " 'BsmtUnfSF',\n",
       " 'TotalBsmtSF',\n",
       " '1stFlrSF',\n",
       " '2ndFlrSF',\n",
       " 'LowQualFinSF',\n",
       " 'GrLivArea',\n",
       " 'TotRmsAbvGrd',\n",
       " 'GarageArea',\n",
       " 'WoodDeckSF',\n",
       " 'OpenPorchSF',\n",
       " 'EnclosedPorch',\n",
       " '3SsnPorch',\n",
       " 'ScreenPorch',\n",
       " 'PoolArea',\n",
       " 'MiscVal',\n",
       " 'MoSold',\n",
       " 'Age']"
      ]
     },
     "execution_count": 75,
     "metadata": {},
     "output_type": "execute_result"
    }
   ],
   "source": [
    "large_range = []\n",
    "for col in X.columns:\n",
    "    range_ = get_range(col, X)\n",
    "    if range_>10:\n",
    "        large_range.append(col)\n",
    "large_range"
   ]
  },
  {
   "cell_type": "markdown",
   "metadata": {},
   "source": [
    "We need to normalize only these columns."
   ]
  },
  {
   "cell_type": "code",
   "execution_count": 76,
   "metadata": {},
   "outputs": [],
   "source": [
    "X_to_standardize = X[large_range]\n",
    "test_to_standardize = test_c_nums[large_range]\n",
    "\n",
    "X_done = X.drop(large_range, axis=1)\n",
    "test_done = test_c_nums.drop(large_range, axis=1)"
   ]
  },
  {
   "cell_type": "code",
   "execution_count": 77,
   "metadata": {},
   "outputs": [
    {
     "data": {
      "text/plain": [
       "((1459, 23), (1459, 74))"
      ]
     },
     "execution_count": 77,
     "metadata": {},
     "output_type": "execute_result"
    }
   ],
   "source": [
    "test_to_standardize.shape, test_done.shape"
   ]
  },
  {
   "cell_type": "code",
   "execution_count": 78,
   "metadata": {},
   "outputs": [
    {
     "data": {
      "text/plain": [
       "((1460, 23), (1460, 73))"
      ]
     },
     "execution_count": 78,
     "metadata": {},
     "output_type": "execute_result"
    }
   ],
   "source": [
    "X_to_standardize.shape, X_done.shape"
   ]
  },
  {
   "cell_type": "markdown",
   "metadata": {},
   "source": [
    "Using `StandardScaler` from `sklearn.preprocessing` we can standardize the data."
   ]
  },
  {
   "cell_type": "code",
   "execution_count": 79,
   "metadata": {},
   "outputs": [],
   "source": [
    "scaler = StandardScaler()\n",
    "scaler.fit(X_to_standardize)\n",
    "X_standard = scaler.transform(X_to_standardize)\n",
    "\n",
    "scaler.fit(test_to_standardize)\n",
    "test_standard = scaler.transform(test_to_standardize)"
   ]
  },
  {
   "cell_type": "code",
   "execution_count": 80,
   "metadata": {},
   "outputs": [],
   "source": [
    "X_standard = pd.DataFrame(X_standard, columns=X_to_standardize.columns)\n",
    "test_standard = pd.DataFrame(test_standard, columns=test_to_standardize.columns)"
   ]
  },
  {
   "cell_type": "code",
   "execution_count": 81,
   "metadata": {},
   "outputs": [],
   "source": [
    "X = pd.concat([X_done, X_standard], axis=1)\n",
    "test_c_nums = pd.concat([test_done, test_standard], axis=1)"
   ]
  },
  {
   "cell_type": "code",
   "execution_count": 82,
   "metadata": {},
   "outputs": [
    {
     "data": {
      "text/plain": [
       "((1460, 96), (1459, 97))"
      ]
     },
     "execution_count": 82,
     "metadata": {},
     "output_type": "execute_result"
    }
   ],
   "source": [
    "X.shape, test_c_nums.shape"
   ]
  },
  {
   "cell_type": "code",
   "execution_count": 83,
   "metadata": {},
   "outputs": [
    {
     "data": {
      "text/html": [
       "<div>\n",
       "<style scoped>\n",
       "    .dataframe tbody tr th:only-of-type {\n",
       "        vertical-align: middle;\n",
       "    }\n",
       "\n",
       "    .dataframe tbody tr th {\n",
       "        vertical-align: top;\n",
       "    }\n",
       "\n",
       "    .dataframe thead th {\n",
       "        text-align: right;\n",
       "    }\n",
       "</style>\n",
       "<table border=\"1\" class=\"dataframe\">\n",
       "  <thead>\n",
       "    <tr style=\"text-align: right;\">\n",
       "      <th></th>\n",
       "      <th>OverallQual</th>\n",
       "      <th>OverallCond</th>\n",
       "      <th>BsmtFullBath</th>\n",
       "      <th>BsmtHalfBath</th>\n",
       "      <th>FullBath</th>\n",
       "      <th>HalfBath</th>\n",
       "      <th>BedroomAbvGr</th>\n",
       "      <th>KitchenAbvGr</th>\n",
       "      <th>Fireplaces</th>\n",
       "      <th>GarageCars</th>\n",
       "      <th>...</th>\n",
       "      <th>GarageArea</th>\n",
       "      <th>WoodDeckSF</th>\n",
       "      <th>OpenPorchSF</th>\n",
       "      <th>EnclosedPorch</th>\n",
       "      <th>3SsnPorch</th>\n",
       "      <th>ScreenPorch</th>\n",
       "      <th>PoolArea</th>\n",
       "      <th>MiscVal</th>\n",
       "      <th>MoSold</th>\n",
       "      <th>Age</th>\n",
       "    </tr>\n",
       "  </thead>\n",
       "  <tbody>\n",
       "    <tr>\n",
       "      <th>count</th>\n",
       "      <td>1460.000000</td>\n",
       "      <td>1460.000000</td>\n",
       "      <td>1460.000000</td>\n",
       "      <td>1460.000000</td>\n",
       "      <td>1460.000000</td>\n",
       "      <td>1460.000000</td>\n",
       "      <td>1460.000000</td>\n",
       "      <td>1460.000000</td>\n",
       "      <td>1460.000000</td>\n",
       "      <td>1460.000000</td>\n",
       "      <td>...</td>\n",
       "      <td>1.460000e+03</td>\n",
       "      <td>1.460000e+03</td>\n",
       "      <td>1.460000e+03</td>\n",
       "      <td>1.460000e+03</td>\n",
       "      <td>1.460000e+03</td>\n",
       "      <td>1.460000e+03</td>\n",
       "      <td>1.460000e+03</td>\n",
       "      <td>1.460000e+03</td>\n",
       "      <td>1.460000e+03</td>\n",
       "      <td>1.460000e+03</td>\n",
       "    </tr>\n",
       "    <tr>\n",
       "      <th>mean</th>\n",
       "      <td>6.099315</td>\n",
       "      <td>5.575342</td>\n",
       "      <td>0.425342</td>\n",
       "      <td>0.057534</td>\n",
       "      <td>1.565068</td>\n",
       "      <td>0.382877</td>\n",
       "      <td>2.866438</td>\n",
       "      <td>1.046575</td>\n",
       "      <td>0.613014</td>\n",
       "      <td>1.767123</td>\n",
       "      <td>...</td>\n",
       "      <td>-2.022735e-17</td>\n",
       "      <td>2.190029e-16</td>\n",
       "      <td>3.357284e-17</td>\n",
       "      <td>1.379034e-16</td>\n",
       "      <td>-4.005738e-16</td>\n",
       "      <td>1.199193e-16</td>\n",
       "      <td>-7.945889e-16</td>\n",
       "      <td>2.409602e-16</td>\n",
       "      <td>-6.395189e-17</td>\n",
       "      <td>-1.126572e-16</td>\n",
       "    </tr>\n",
       "    <tr>\n",
       "      <th>std</th>\n",
       "      <td>1.382997</td>\n",
       "      <td>1.112799</td>\n",
       "      <td>0.518911</td>\n",
       "      <td>0.238753</td>\n",
       "      <td>0.550916</td>\n",
       "      <td>0.502885</td>\n",
       "      <td>0.815778</td>\n",
       "      <td>0.220338</td>\n",
       "      <td>0.644666</td>\n",
       "      <td>0.747315</td>\n",
       "      <td>...</td>\n",
       "      <td>1.000343e+00</td>\n",
       "      <td>1.000343e+00</td>\n",
       "      <td>1.000343e+00</td>\n",
       "      <td>1.000343e+00</td>\n",
       "      <td>1.000343e+00</td>\n",
       "      <td>1.000343e+00</td>\n",
       "      <td>1.000343e+00</td>\n",
       "      <td>1.000343e+00</td>\n",
       "      <td>1.000343e+00</td>\n",
       "      <td>1.000343e+00</td>\n",
       "    </tr>\n",
       "    <tr>\n",
       "      <th>min</th>\n",
       "      <td>1.000000</td>\n",
       "      <td>1.000000</td>\n",
       "      <td>0.000000</td>\n",
       "      <td>0.000000</td>\n",
       "      <td>0.000000</td>\n",
       "      <td>0.000000</td>\n",
       "      <td>0.000000</td>\n",
       "      <td>0.000000</td>\n",
       "      <td>0.000000</td>\n",
       "      <td>0.000000</td>\n",
       "      <td>...</td>\n",
       "      <td>-2.212963e+00</td>\n",
       "      <td>-7.521758e-01</td>\n",
       "      <td>-7.044833e-01</td>\n",
       "      <td>-3.593249e-01</td>\n",
       "      <td>-1.163393e-01</td>\n",
       "      <td>-2.702084e-01</td>\n",
       "      <td>-6.869175e-02</td>\n",
       "      <td>-8.768781e-02</td>\n",
       "      <td>-1.969111e+00</td>\n",
       "      <td>-1.282839e+00</td>\n",
       "    </tr>\n",
       "    <tr>\n",
       "      <th>25%</th>\n",
       "      <td>5.000000</td>\n",
       "      <td>5.000000</td>\n",
       "      <td>0.000000</td>\n",
       "      <td>0.000000</td>\n",
       "      <td>1.000000</td>\n",
       "      <td>0.000000</td>\n",
       "      <td>2.000000</td>\n",
       "      <td>1.000000</td>\n",
       "      <td>0.000000</td>\n",
       "      <td>1.000000</td>\n",
       "      <td>...</td>\n",
       "      <td>-6.479160e-01</td>\n",
       "      <td>-7.521758e-01</td>\n",
       "      <td>-7.044833e-01</td>\n",
       "      <td>-3.593249e-01</td>\n",
       "      <td>-1.163393e-01</td>\n",
       "      <td>-2.702084e-01</td>\n",
       "      <td>-6.869175e-02</td>\n",
       "      <td>-8.768781e-02</td>\n",
       "      <td>-4.891101e-01</td>\n",
       "      <td>-9.516316e-01</td>\n",
       "    </tr>\n",
       "    <tr>\n",
       "      <th>50%</th>\n",
       "      <td>6.000000</td>\n",
       "      <td>5.000000</td>\n",
       "      <td>0.000000</td>\n",
       "      <td>0.000000</td>\n",
       "      <td>2.000000</td>\n",
       "      <td>0.000000</td>\n",
       "      <td>3.000000</td>\n",
       "      <td>1.000000</td>\n",
       "      <td>1.000000</td>\n",
       "      <td>2.000000</td>\n",
       "      <td>...</td>\n",
       "      <td>3.284429e-02</td>\n",
       "      <td>-7.521758e-01</td>\n",
       "      <td>-3.270298e-01</td>\n",
       "      <td>-3.593249e-01</td>\n",
       "      <td>-1.163393e-01</td>\n",
       "      <td>-2.702084e-01</td>\n",
       "      <td>-6.869175e-02</td>\n",
       "      <td>-8.768781e-02</td>\n",
       "      <td>-1.191097e-01</td>\n",
       "      <td>-5.737148e-02</td>\n",
       "    </tr>\n",
       "    <tr>\n",
       "      <th>75%</th>\n",
       "      <td>7.000000</td>\n",
       "      <td>6.000000</td>\n",
       "      <td>1.000000</td>\n",
       "      <td>0.000000</td>\n",
       "      <td>2.000000</td>\n",
       "      <td>1.000000</td>\n",
       "      <td>3.000000</td>\n",
       "      <td>1.000000</td>\n",
       "      <td>1.000000</td>\n",
       "      <td>2.000000</td>\n",
       "      <td>...</td>\n",
       "      <td>4.820057e-01</td>\n",
       "      <td>5.886506e-01</td>\n",
       "      <td>3.221901e-01</td>\n",
       "      <td>-3.593249e-01</td>\n",
       "      <td>-1.163393e-01</td>\n",
       "      <td>-2.702084e-01</td>\n",
       "      <td>-6.869175e-02</td>\n",
       "      <td>-8.768781e-02</td>\n",
       "      <td>6.208910e-01</td>\n",
       "      <td>5.719226e-01</td>\n",
       "    </tr>\n",
       "    <tr>\n",
       "      <th>max</th>\n",
       "      <td>10.000000</td>\n",
       "      <td>9.000000</td>\n",
       "      <td>3.000000</td>\n",
       "      <td>2.000000</td>\n",
       "      <td>3.000000</td>\n",
       "      <td>2.000000</td>\n",
       "      <td>8.000000</td>\n",
       "      <td>3.000000</td>\n",
       "      <td>3.000000</td>\n",
       "      <td>4.000000</td>\n",
       "      <td>...</td>\n",
       "      <td>4.421526e+00</td>\n",
       "      <td>6.087635e+00</td>\n",
       "      <td>7.554198e+00</td>\n",
       "      <td>8.675309e+00</td>\n",
       "      <td>1.721723e+01</td>\n",
       "      <td>8.341462e+00</td>\n",
       "      <td>1.830618e+01</td>\n",
       "      <td>3.116527e+01</td>\n",
       "      <td>2.100892e+00</td>\n",
       "      <td>3.287824e+00</td>\n",
       "    </tr>\n",
       "  </tbody>\n",
       "</table>\n",
       "<p>8 rows × 96 columns</p>\n",
       "</div>"
      ],
      "text/plain": [
       "       OverallQual  OverallCond  BsmtFullBath  BsmtHalfBath     FullBath  \\\n",
       "count  1460.000000  1460.000000   1460.000000   1460.000000  1460.000000   \n",
       "mean      6.099315     5.575342      0.425342      0.057534     1.565068   \n",
       "std       1.382997     1.112799      0.518911      0.238753     0.550916   \n",
       "min       1.000000     1.000000      0.000000      0.000000     0.000000   \n",
       "25%       5.000000     5.000000      0.000000      0.000000     1.000000   \n",
       "50%       6.000000     5.000000      0.000000      0.000000     2.000000   \n",
       "75%       7.000000     6.000000      1.000000      0.000000     2.000000   \n",
       "max      10.000000     9.000000      3.000000      2.000000     3.000000   \n",
       "\n",
       "          HalfBath  BedroomAbvGr  KitchenAbvGr   Fireplaces   GarageCars  ...  \\\n",
       "count  1460.000000   1460.000000   1460.000000  1460.000000  1460.000000  ...   \n",
       "mean      0.382877      2.866438      1.046575     0.613014     1.767123  ...   \n",
       "std       0.502885      0.815778      0.220338     0.644666     0.747315  ...   \n",
       "min       0.000000      0.000000      0.000000     0.000000     0.000000  ...   \n",
       "25%       0.000000      2.000000      1.000000     0.000000     1.000000  ...   \n",
       "50%       0.000000      3.000000      1.000000     1.000000     2.000000  ...   \n",
       "75%       1.000000      3.000000      1.000000     1.000000     2.000000  ...   \n",
       "max       2.000000      8.000000      3.000000     3.000000     4.000000  ...   \n",
       "\n",
       "         GarageArea    WoodDeckSF   OpenPorchSF  EnclosedPorch     3SsnPorch  \\\n",
       "count  1.460000e+03  1.460000e+03  1.460000e+03   1.460000e+03  1.460000e+03   \n",
       "mean  -2.022735e-17  2.190029e-16  3.357284e-17   1.379034e-16 -4.005738e-16   \n",
       "std    1.000343e+00  1.000343e+00  1.000343e+00   1.000343e+00  1.000343e+00   \n",
       "min   -2.212963e+00 -7.521758e-01 -7.044833e-01  -3.593249e-01 -1.163393e-01   \n",
       "25%   -6.479160e-01 -7.521758e-01 -7.044833e-01  -3.593249e-01 -1.163393e-01   \n",
       "50%    3.284429e-02 -7.521758e-01 -3.270298e-01  -3.593249e-01 -1.163393e-01   \n",
       "75%    4.820057e-01  5.886506e-01  3.221901e-01  -3.593249e-01 -1.163393e-01   \n",
       "max    4.421526e+00  6.087635e+00  7.554198e+00   8.675309e+00  1.721723e+01   \n",
       "\n",
       "        ScreenPorch      PoolArea       MiscVal        MoSold           Age  \n",
       "count  1.460000e+03  1.460000e+03  1.460000e+03  1.460000e+03  1.460000e+03  \n",
       "mean   1.199193e-16 -7.945889e-16  2.409602e-16 -6.395189e-17 -1.126572e-16  \n",
       "std    1.000343e+00  1.000343e+00  1.000343e+00  1.000343e+00  1.000343e+00  \n",
       "min   -2.702084e-01 -6.869175e-02 -8.768781e-02 -1.969111e+00 -1.282839e+00  \n",
       "25%   -2.702084e-01 -6.869175e-02 -8.768781e-02 -4.891101e-01 -9.516316e-01  \n",
       "50%   -2.702084e-01 -6.869175e-02 -8.768781e-02 -1.191097e-01 -5.737148e-02  \n",
       "75%   -2.702084e-01 -6.869175e-02 -8.768781e-02  6.208910e-01  5.719226e-01  \n",
       "max    8.341462e+00  1.830618e+01  3.116527e+01  2.100892e+00  3.287824e+00  \n",
       "\n",
       "[8 rows x 96 columns]"
      ]
     },
     "execution_count": 83,
     "metadata": {},
     "output_type": "execute_result"
    }
   ],
   "source": [
    "X.describe()"
   ]
  },
  {
   "cell_type": "markdown",
   "metadata": {},
   "source": [
    "Okay, this should be all!"
   ]
  },
  {
   "cell_type": "code",
   "execution_count": 84,
   "metadata": {},
   "outputs": [],
   "source": [
    "X.to_csv(\"data/train_final.csv\", index=False)\n",
    "test_c_nums.to_csv(\"data/test_final.csv\", index=False)"
   ]
  }
 ],
 "metadata": {
  "kernelspec": {
   "display_name": "Python 3.9.12 ('data-science')",
   "language": "python",
   "name": "python3"
  },
  "language_info": {
   "codemirror_mode": {
    "name": "ipython",
    "version": 3
   },
   "file_extension": ".py",
   "mimetype": "text/x-python",
   "name": "python",
   "nbconvert_exporter": "python",
   "pygments_lexer": "ipython3",
   "version": "3.9.12"
  },
  "orig_nbformat": 4,
  "vscode": {
   "interpreter": {
    "hash": "2efee1efa502125d01e6b4768ba06d9453d29f3642bfd14ad5d4a769de82e88c"
   }
  }
 },
 "nbformat": 4,
 "nbformat_minor": 2
}
