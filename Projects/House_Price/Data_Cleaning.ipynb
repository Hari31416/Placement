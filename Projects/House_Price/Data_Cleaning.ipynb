{
 "cells": [
  {
   "cell_type": "markdown",
   "metadata": {},
   "source": [
    "<table class=\"tfo-notebook-buttons\" align=\"left\">\n",
    "<td style=\"border: none;\">\n",
    "<a target=\"blank\" href=\"https://colab.research.google.com/github/Hari31416/Portfolio/blob/main/ML/Housing_Price/Data_Cleaning.ipynb?hl=en\"><img src=\"https://colab.research.google.com/img/colab_favicon_256px.png\" width=\"28\" height=\"28\"/>Run on Google Colab</a></td>\n",
    "<td style=\"border: none;\">\n",
    "<a target=\"blank\" href=\"https://github.com/Hari31416/Portfolio/blob/main/ML/Housing_Price/Data_Cleaning.ipynb\"><img src=\"https://cdn.icon-icons.com/icons2/2368/PNG/512/github_logo_icon_143772.png\" width=\"28\" height=\"28\"/>View on Github</a></td>\n",
    "<td style=\"border: none;\">\n",
    "</table>"
   ]
  },
  {
   "cell_type": "markdown",
   "metadata": {},
   "source": [
    "## Content\n",
    "1. [Importing the libraries](#import)\n",
    "2. [Data Field](#data-fields)\n",
    "    - [Getting More Information about Data Field](#more-info)\n",
    "3. [Load Data](#load-data)\n",
    "    - [Priliminary Analysis](#preliminary-analysis)\n",
    "4. [Data Cleaning](#data-cleaning)\n",
    "    1. [Alley](#alley)\n",
    "    2. [Basement](#basement)\n",
    "        - [BsmtCond](#BsmtCond)\n",
    "        - [BsmtExposure](#BsmtExposure)\n",
    "        - [BsmtFinSF1](#BsmtFinSF1)\n",
    "        - [BsmtFinSF2](#BsmtFinSF2)\n",
    "        - [BsmtFinType1](#BsmtFinType1)\n",
    "        - [BsmtFinType2](#BsmtFinType2)\n",
    "        - [BsmtFullBath](#BsmtFullBath)\n",
    "        - [BsmtHalfBath](#BsmtHalfBath)\n",
    "        - [BsmtQual](#BsmtQual)\n",
    "        - [BsmtUnfSF](#BsmtUnfSF)\n",
    "        - [TotalBsmtSF](#TotalBsmtSF)\n",
    "    3. [Exterior](#exterior)\n",
    "        - [Exterior1st](#exterior1st)\n",
    "        - [Exterior2nd](#exterior2nd)\n",
    "    4. [Fence](#fence)\n",
    "    5. [FireplaceQu](#FireplaceQu)\n",
    "    6. [Functional](#Functional)\n",
    "    7. [Garage](#garage)\n",
    "        - [GarageArea](#GarageArea)\n",
    "        - [GarageCars](#GarageCars)\n",
    "        - [GarageCond](#GarageCond)\n",
    "        - [GarageFinish](#GarageFinish)\n",
    "        - [GarageQual](#GarageQual)\n",
    "        - [GarageType](#GarageType)\n",
    "        - [GarageYrBlt](#GarageYrBlt)\n",
    "    8. [KitchenQual](#KitchenQual)\n",
    "    9. [LotFrontage](#LotFrontage)\n",
    "    10. [Masonry Veneer](#Masonry)\n",
    "        - [MasVnrType](#MasVnrType)\n",
    "        - [MasVnrArea](#MasVnrArea)\n",
    "    11. [MiscFeature](#MiscFeature)\n",
    "    12. [PoolQC](#PoolQC)\n",
    "    13. [SaleType](#SaleType)\n",
    "    14. [Utilities](#Utilities)\n",
    "    15. [MSZoning](#MSZoning)\n",
    "    16. [Electrical](#Electrical)\n",
    "\n",
    "5. [Final Thoughts](#final-thoughts)"
   ]
  },
  {
   "cell_type": "markdown",
   "metadata": {},
   "source": [
    "<a name='import'></a>"
   ]
  },
  {
   "cell_type": "markdown",
   "metadata": {},
   "source": [
    "## Imports"
   ]
  },
  {
   "cell_type": "code",
   "execution_count": 1,
   "metadata": {},
   "outputs": [],
   "source": [
    "import pandas as pd"
   ]
  },
  {
   "cell_type": "markdown",
   "metadata": {},
   "source": [
    "<a name=\"data-fields\"></a>"
   ]
  },
  {
   "cell_type": "markdown",
   "metadata": {},
   "source": [
    "## Data Fields"
   ]
  },
  {
   "cell_type": "markdown",
   "metadata": {},
   "source": [
    "Here's a brief version of what you'll find in the data description file.\n",
    "\n",
    "<ul>\n",
    "<li><strong>SalePrice</strong> - the property's sale price in dollars. This is the target variable that you're trying to predict.</li>\n",
    "<li><strong>MSSubClass</strong>: The building class</li>\n",
    "<li><strong>MSZoning</strong>: The general zoning classification</li>\n",
    "<li><strong>LotFrontage</strong>: Linear feet of street connected to property</li>\n",
    "<li><strong>LotArea</strong>: Lot size in square feet</li>\n",
    "<li><strong>Street</strong>: Type of road access</li>\n",
    "<li><strong>Alley</strong>: Type of alley access</li>\n",
    "<li><strong>LotShape</strong>: General shape of property</li>\n",
    "<li><strong>LandContour</strong>: Flatness of the property</li>\n",
    "<li><strong>Utilities</strong>: Type of utilities available</li>\n",
    "<li><strong>LotConfig</strong>: Lot configuration</li>\n",
    "<li><strong>LandSlope</strong>: Slope of property</li>\n",
    "<li><strong>Neighborhood</strong>: Physical locations within Ames city limits</li>\n",
    "<li><strong>Condition1</strong>: Proximity to main road or railroad</li>\n",
    "<li><strong>Condition2</strong>: Proximity to main road or railroad (if a second is present)</li>\n",
    "<li><strong>BldgType</strong>: Type of dwelling</li>\n",
    "<li><strong>HouseStyle</strong>: Style of dwelling</li>\n",
    "<li><strong>OverallQual</strong>: Overall material and finish quality</li>\n",
    "<li><strong>OverallCond</strong>: Overall condition rating</li>\n",
    "<li><strong>YearBuilt</strong>: Original construction date</li>\n",
    "<li><strong>YearRemodAdd</strong>: Remodel date</li>\n",
    "<li><strong>RoofStyle</strong>: Type of roof</li>\n",
    "<li><strong>RoofMatl</strong>: Roof material</li>\n",
    "<li><strong>Exterior1st</strong>: Exterior covering on house</li>\n",
    "<li><strong>Exterior2nd</strong>: Exterior covering on house (if more than one material)</li>\n",
    "<li><strong>MasVnrType</strong>: Masonry veneer type</li>\n",
    "<li><strong>MasVnrArea</strong>: Masonry veneer area in square feet</li>\n",
    "<li><strong>ExterQual</strong>: Exterior material quality</li>\n",
    "<li><strong>ExterCond</strong>: Present condition of the material on the exterior</li>\n",
    "<li><strong>Foundation</strong>: Type of foundation</li>\n",
    "<li><strong>BsmtQual</strong>: Height of the basement</li>\n",
    "<li><strong>BsmtCond</strong>: General condition of the basement</li>\n",
    "<li><strong>BsmtExposure</strong>: Walkout or garden level basement walls</li>\n",
    "<li><strong>BsmtFinType1</strong>: Quality of basement finished area</li>\n",
    "<li><strong>BsmtFinSF1</strong>: Type 1 finished square feet</li>\n",
    "<li><strong>BsmtFinType2</strong>: Quality of second finished area (if present)</li>\n",
    "<li><strong>BsmtFinSF2</strong>: Type 2 finished square feet</li>\n",
    "<li><strong>BsmtUnfSF</strong>: Unfinished square feet of basement area</li>\n",
    "<li><strong>TotalBsmtSF</strong>: Total square feet of basement area</li>\n",
    "<li><strong>Heating</strong>: Type of heating</li>\n",
    "<li><strong>HeatingQC</strong>: Heating quality and condition</li>\n",
    "<li><strong>CentralAir</strong>: Central air conditioning</li>\n",
    "<li><strong>Electrical</strong>: Electrical system</li>\n",
    "<li><strong>1stFlrSF</strong>: First Floor square feet</li>\n",
    "<li><strong>2ndFlrSF</strong>: Second floor square feet</li>\n",
    "<li><strong>LowQualFinSF</strong>: Low quality finished square feet (all floors)</li>\n",
    "<li><strong>GrLivArea</strong>: Above grade (ground) living area square feet</li>\n",
    "<li><strong>BsmtFullBath</strong>: Basement full bathrooms</li>\n",
    "<li><strong>BsmtHalfBath</strong>: Basement half bathrooms</li>\n",
    "<li><strong>FullBath</strong>: Full bathrooms above grade</li>\n",
    "<li><strong>HalfBath</strong>: Half baths above grade</li>\n",
    "<li><strong>Bedroom</strong>: Number of bedrooms above basement level</li>\n",
    "<li><strong>Kitchen</strong>: Number of kitchens</li>\n",
    "<li><strong>KitchenQual</strong>: Kitchen quality</li>\n",
    "<li><strong>TotRmsAbvGrd</strong>: Total rooms above grade (does not include bathrooms)</li>\n",
    "<li><strong>Functional</strong>: Home functionality rating</li>\n",
    "<li><strong>Fireplaces</strong>: Number of fireplaces</li>\n",
    "<li><strong>FireplaceQu</strong>: Fireplace quality</li>\n",
    "<li><strong>GarageType</strong>: Garage location</li>\n",
    "<li><strong>GarageYrBlt</strong>: Year garage was built</li>\n",
    "<li><strong>GarageFinish</strong>: Interior finish of the garage</li>\n",
    "<li><strong>GarageCars</strong>: Size of garage in car capacity</li>\n",
    "<li><strong>GarageArea</strong>: Size of garage in square feet</li>\n",
    "<li><strong>GarageQual</strong>: Garage quality</li>\n",
    "<li><strong>GarageCond</strong>: Garage condition</li>\n",
    "<li><strong>PavedDrive</strong>: Paved driveway</li>\n",
    "<li><strong>WoodDeckSF</strong>: Wood deck area in square feet</li>\n",
    "<li><strong>OpenPorchSF</strong>: Open porch area in square feet</li>\n",
    "<li><strong>EnclosedPorch</strong>: Enclosed porch area in square feet</li>\n",
    "<li><strong>3SsnPorch</strong>: Three season porch area in square feet</li>\n",
    "<li><strong>ScreenPorch</strong>: Screen porch area in square feet</li>\n",
    "<li><strong>PoolArea</strong>: Pool area in square feet</li>\n",
    "<li><strong>PoolQC</strong>: Pool quality</li>\n",
    "<li><strong>Fence</strong>: Fence quality</li>\n",
    "<li><strong>MiscFeature</strong>: Miscellaneous feature not covered in other categories</li>\n",
    "<li><strong>MiscVal</strong>: $Value of miscellaneous feature</li>\n",
    "<li><strong>MoSold</strong>: Month Sold</li>\n",
    "<li><strong>YrSold</strong>: Year Sold</li>\n",
    "<li><strong>SaleType</strong>: Type of sale</li>\n",
    "<li><strong>SaleCondition</strong>: Condition of sale</li>\n",
    "</ul>"
   ]
  },
  {
   "cell_type": "markdown",
   "metadata": {},
   "source": [
    "<a name='more-info'></a>"
   ]
  },
  {
   "cell_type": "markdown",
   "metadata": {},
   "source": [
    "### Getting More Details"
   ]
  },
  {
   "cell_type": "markdown",
   "metadata": {},
   "source": [
    "Here we'll create a function which returns details about the column, given the column name."
   ]
  },
  {
   "cell_type": "code",
   "execution_count": 2,
   "metadata": {},
   "outputs": [],
   "source": [
    "def get_detail(column):\n",
    "    \"\"\" Get the detail of the column \n",
    "    \n",
    "    Args:\n",
    "        column (str): the column name\n",
    "    \n",
    "    Returns:\n",
    "        str: the detail of the column\n",
    "    \"\"\"\n",
    "    text = \"\"\n",
    "    with open(\"data_description.txt\") as f:\n",
    "        text = f.read()\n",
    "    \n",
    "    try:\n",
    "        start = text.find(f\"{column}:\")\n",
    "        end = text.find(\":\", start+len(column)+5)\n",
    "        texts_found = text[start:end].strip().split(\"\\n\")\n",
    "        print(\"\\n\".join(texts_found[:-2]))\n",
    "    except:\n",
    "        print(\"No such column\")"
   ]
  },
  {
   "cell_type": "code",
   "execution_count": 125,
   "metadata": {},
   "outputs": [
    {
     "name": "stdout",
     "output_type": "stream",
     "text": [
      "MSZoning: Identifies the general zoning classification of the sale.\n",
      "\t\t\n",
      "       A\tAgriculture\n",
      "       C\tCommercial\n",
      "       FV\tFloating Village Residential\n",
      "       I\tIndustrial\n",
      "       RH\tResidential High Density\n",
      "       RL\tResidential Low Density\n",
      "       RP\tResidential Low Density Park \n",
      "       RM\tResidential Medium Density\n"
     ]
    }
   ],
   "source": [
    "get_detail(\"MSZoning\")"
   ]
  },
  {
   "cell_type": "markdown",
   "metadata": {},
   "source": [
    "<a name = \"load-data\"></a>\n",
    "## Loading the Data"
   ]
  },
  {
   "cell_type": "code",
   "execution_count": 4,
   "metadata": {},
   "outputs": [],
   "source": [
    "test = pd.read_csv('test.csv')\n",
    "train = pd.read_csv('train.csv')"
   ]
  },
  {
   "cell_type": "markdown",
   "metadata": {},
   "source": [
    "<a id = \"preliminary-analysis\"></a>"
   ]
  },
  {
   "cell_type": "markdown",
   "metadata": {},
   "source": [
    "### Priliminary Analysis"
   ]
  },
  {
   "cell_type": "code",
   "execution_count": 5,
   "metadata": {},
   "outputs": [
    {
     "name": "stdout",
     "output_type": "stream",
     "text": [
      "<class 'pandas.core.frame.DataFrame'>\n",
      "RangeIndex: 1460 entries, 0 to 1459\n",
      "Data columns (total 81 columns):\n",
      " #   Column         Non-Null Count  Dtype  \n",
      "---  ------         --------------  -----  \n",
      " 0   Id             1460 non-null   int64  \n",
      " 1   MSSubClass     1460 non-null   int64  \n",
      " 2   MSZoning       1460 non-null   object \n",
      " 3   LotFrontage    1201 non-null   float64\n",
      " 4   LotArea        1460 non-null   int64  \n",
      " 5   Street         1460 non-null   object \n",
      " 6   Alley          91 non-null     object \n",
      " 7   LotShape       1460 non-null   object \n",
      " 8   LandContour    1460 non-null   object \n",
      " 9   Utilities      1460 non-null   object \n",
      " 10  LotConfig      1460 non-null   object \n",
      " 11  LandSlope      1460 non-null   object \n",
      " 12  Neighborhood   1460 non-null   object \n",
      " 13  Condition1     1460 non-null   object \n",
      " 14  Condition2     1460 non-null   object \n",
      " 15  BldgType       1460 non-null   object \n",
      " 16  HouseStyle     1460 non-null   object \n",
      " 17  OverallQual    1460 non-null   int64  \n",
      " 18  OverallCond    1460 non-null   int64  \n",
      " 19  YearBuilt      1460 non-null   int64  \n",
      " 20  YearRemodAdd   1460 non-null   int64  \n",
      " 21  RoofStyle      1460 non-null   object \n",
      " 22  RoofMatl       1460 non-null   object \n",
      " 23  Exterior1st    1460 non-null   object \n",
      " 24  Exterior2nd    1460 non-null   object \n",
      " 25  MasVnrType     1452 non-null   object \n",
      " 26  MasVnrArea     1452 non-null   float64\n",
      " 27  ExterQual      1460 non-null   object \n",
      " 28  ExterCond      1460 non-null   object \n",
      " 29  Foundation     1460 non-null   object \n",
      " 30  BsmtQual       1423 non-null   object \n",
      " 31  BsmtCond       1423 non-null   object \n",
      " 32  BsmtExposure   1422 non-null   object \n",
      " 33  BsmtFinType1   1423 non-null   object \n",
      " 34  BsmtFinSF1     1460 non-null   int64  \n",
      " 35  BsmtFinType2   1422 non-null   object \n",
      " 36  BsmtFinSF2     1460 non-null   int64  \n",
      " 37  BsmtUnfSF      1460 non-null   int64  \n",
      " 38  TotalBsmtSF    1460 non-null   int64  \n",
      " 39  Heating        1460 non-null   object \n",
      " 40  HeatingQC      1460 non-null   object \n",
      " 41  CentralAir     1460 non-null   object \n",
      " 42  Electrical     1459 non-null   object \n",
      " 43  1stFlrSF       1460 non-null   int64  \n",
      " 44  2ndFlrSF       1460 non-null   int64  \n",
      " 45  LowQualFinSF   1460 non-null   int64  \n",
      " 46  GrLivArea      1460 non-null   int64  \n",
      " 47  BsmtFullBath   1460 non-null   int64  \n",
      " 48  BsmtHalfBath   1460 non-null   int64  \n",
      " 49  FullBath       1460 non-null   int64  \n",
      " 50  HalfBath       1460 non-null   int64  \n",
      " 51  BedroomAbvGr   1460 non-null   int64  \n",
      " 52  KitchenAbvGr   1460 non-null   int64  \n",
      " 53  KitchenQual    1460 non-null   object \n",
      " 54  TotRmsAbvGrd   1460 non-null   int64  \n",
      " 55  Functional     1460 non-null   object \n",
      " 56  Fireplaces     1460 non-null   int64  \n",
      " 57  FireplaceQu    770 non-null    object \n",
      " 58  GarageType     1379 non-null   object \n",
      " 59  GarageYrBlt    1379 non-null   float64\n",
      " 60  GarageFinish   1379 non-null   object \n",
      " 61  GarageCars     1460 non-null   int64  \n",
      " 62  GarageArea     1460 non-null   int64  \n",
      " 63  GarageQual     1379 non-null   object \n",
      " 64  GarageCond     1379 non-null   object \n",
      " 65  PavedDrive     1460 non-null   object \n",
      " 66  WoodDeckSF     1460 non-null   int64  \n",
      " 67  OpenPorchSF    1460 non-null   int64  \n",
      " 68  EnclosedPorch  1460 non-null   int64  \n",
      " 69  3SsnPorch      1460 non-null   int64  \n",
      " 70  ScreenPorch    1460 non-null   int64  \n",
      " 71  PoolArea       1460 non-null   int64  \n",
      " 72  PoolQC         7 non-null      object \n",
      " 73  Fence          281 non-null    object \n",
      " 74  MiscFeature    54 non-null     object \n",
      " 75  MiscVal        1460 non-null   int64  \n",
      " 76  MoSold         1460 non-null   int64  \n",
      " 77  YrSold         1460 non-null   int64  \n",
      " 78  SaleType       1460 non-null   object \n",
      " 79  SaleCondition  1460 non-null   object \n",
      " 80  SalePrice      1460 non-null   int64  \n",
      "dtypes: float64(3), int64(35), object(43)\n",
      "memory usage: 924.0+ KB\n"
     ]
    }
   ],
   "source": [
    "train.info()"
   ]
  },
  {
   "cell_type": "code",
   "execution_count": 6,
   "metadata": {},
   "outputs": [
    {
     "data": {
      "text/plain": [
       "LotFrontage      259\n",
       "Alley           1369\n",
       "MasVnrType         8\n",
       "MasVnrArea         8\n",
       "BsmtQual          37\n",
       "BsmtCond          37\n",
       "BsmtExposure      38\n",
       "BsmtFinType1      37\n",
       "BsmtFinType2      38\n",
       "Electrical         1\n",
       "FireplaceQu      690\n",
       "GarageType        81\n",
       "GarageYrBlt       81\n",
       "GarageFinish      81\n",
       "GarageQual        81\n",
       "GarageCond        81\n",
       "PoolQC          1453\n",
       "Fence           1179\n",
       "MiscFeature     1406\n",
       "dtype: int64"
      ]
     },
     "execution_count": 6,
     "metadata": {},
     "output_type": "execute_result"
    }
   ],
   "source": [
    "train_nulls = train.isna().sum()[train.isna().sum() != 0]\n",
    "train_nulls"
   ]
  },
  {
   "cell_type": "markdown",
   "metadata": {},
   "source": [
    "A lot of null values!"
   ]
  },
  {
   "cell_type": "code",
   "execution_count": 7,
   "metadata": {},
   "outputs": [
    {
     "name": "stdout",
     "output_type": "stream",
     "text": [
      "<class 'pandas.core.frame.DataFrame'>\n",
      "RangeIndex: 1459 entries, 0 to 1458\n",
      "Data columns (total 80 columns):\n",
      " #   Column         Non-Null Count  Dtype  \n",
      "---  ------         --------------  -----  \n",
      " 0   Id             1459 non-null   int64  \n",
      " 1   MSSubClass     1459 non-null   int64  \n",
      " 2   MSZoning       1455 non-null   object \n",
      " 3   LotFrontage    1232 non-null   float64\n",
      " 4   LotArea        1459 non-null   int64  \n",
      " 5   Street         1459 non-null   object \n",
      " 6   Alley          107 non-null    object \n",
      " 7   LotShape       1459 non-null   object \n",
      " 8   LandContour    1459 non-null   object \n",
      " 9   Utilities      1457 non-null   object \n",
      " 10  LotConfig      1459 non-null   object \n",
      " 11  LandSlope      1459 non-null   object \n",
      " 12  Neighborhood   1459 non-null   object \n",
      " 13  Condition1     1459 non-null   object \n",
      " 14  Condition2     1459 non-null   object \n",
      " 15  BldgType       1459 non-null   object \n",
      " 16  HouseStyle     1459 non-null   object \n",
      " 17  OverallQual    1459 non-null   int64  \n",
      " 18  OverallCond    1459 non-null   int64  \n",
      " 19  YearBuilt      1459 non-null   int64  \n",
      " 20  YearRemodAdd   1459 non-null   int64  \n",
      " 21  RoofStyle      1459 non-null   object \n",
      " 22  RoofMatl       1459 non-null   object \n",
      " 23  Exterior1st    1458 non-null   object \n",
      " 24  Exterior2nd    1458 non-null   object \n",
      " 25  MasVnrType     1443 non-null   object \n",
      " 26  MasVnrArea     1444 non-null   float64\n",
      " 27  ExterQual      1459 non-null   object \n",
      " 28  ExterCond      1459 non-null   object \n",
      " 29  Foundation     1459 non-null   object \n",
      " 30  BsmtQual       1415 non-null   object \n",
      " 31  BsmtCond       1414 non-null   object \n",
      " 32  BsmtExposure   1415 non-null   object \n",
      " 33  BsmtFinType1   1417 non-null   object \n",
      " 34  BsmtFinSF1     1458 non-null   float64\n",
      " 35  BsmtFinType2   1417 non-null   object \n",
      " 36  BsmtFinSF2     1458 non-null   float64\n",
      " 37  BsmtUnfSF      1458 non-null   float64\n",
      " 38  TotalBsmtSF    1458 non-null   float64\n",
      " 39  Heating        1459 non-null   object \n",
      " 40  HeatingQC      1459 non-null   object \n",
      " 41  CentralAir     1459 non-null   object \n",
      " 42  Electrical     1459 non-null   object \n",
      " 43  1stFlrSF       1459 non-null   int64  \n",
      " 44  2ndFlrSF       1459 non-null   int64  \n",
      " 45  LowQualFinSF   1459 non-null   int64  \n",
      " 46  GrLivArea      1459 non-null   int64  \n",
      " 47  BsmtFullBath   1457 non-null   float64\n",
      " 48  BsmtHalfBath   1457 non-null   float64\n",
      " 49  FullBath       1459 non-null   int64  \n",
      " 50  HalfBath       1459 non-null   int64  \n",
      " 51  BedroomAbvGr   1459 non-null   int64  \n",
      " 52  KitchenAbvGr   1459 non-null   int64  \n",
      " 53  KitchenQual    1458 non-null   object \n",
      " 54  TotRmsAbvGrd   1459 non-null   int64  \n",
      " 55  Functional     1457 non-null   object \n",
      " 56  Fireplaces     1459 non-null   int64  \n",
      " 57  FireplaceQu    729 non-null    object \n",
      " 58  GarageType     1383 non-null   object \n",
      " 59  GarageYrBlt    1381 non-null   float64\n",
      " 60  GarageFinish   1381 non-null   object \n",
      " 61  GarageCars     1458 non-null   float64\n",
      " 62  GarageArea     1458 non-null   float64\n",
      " 63  GarageQual     1381 non-null   object \n",
      " 64  GarageCond     1381 non-null   object \n",
      " 65  PavedDrive     1459 non-null   object \n",
      " 66  WoodDeckSF     1459 non-null   int64  \n",
      " 67  OpenPorchSF    1459 non-null   int64  \n",
      " 68  EnclosedPorch  1459 non-null   int64  \n",
      " 69  3SsnPorch      1459 non-null   int64  \n",
      " 70  ScreenPorch    1459 non-null   int64  \n",
      " 71  PoolArea       1459 non-null   int64  \n",
      " 72  PoolQC         3 non-null      object \n",
      " 73  Fence          290 non-null    object \n",
      " 74  MiscFeature    51 non-null     object \n",
      " 75  MiscVal        1459 non-null   int64  \n",
      " 76  MoSold         1459 non-null   int64  \n",
      " 77  YrSold         1459 non-null   int64  \n",
      " 78  SaleType       1458 non-null   object \n",
      " 79  SaleCondition  1459 non-null   object \n",
      "dtypes: float64(11), int64(26), object(43)\n",
      "memory usage: 912.0+ KB\n"
     ]
    }
   ],
   "source": [
    "test.info()"
   ]
  },
  {
   "cell_type": "code",
   "execution_count": 8,
   "metadata": {},
   "outputs": [
    {
     "data": {
      "text/plain": [
       "MSZoning           4\n",
       "LotFrontage      227\n",
       "Alley           1352\n",
       "Utilities          2\n",
       "Exterior1st        1\n",
       "Exterior2nd        1\n",
       "MasVnrType        16\n",
       "MasVnrArea        15\n",
       "BsmtQual          44\n",
       "BsmtCond          45\n",
       "BsmtExposure      44\n",
       "BsmtFinType1      42\n",
       "BsmtFinSF1         1\n",
       "BsmtFinType2      42\n",
       "BsmtFinSF2         1\n",
       "BsmtUnfSF          1\n",
       "TotalBsmtSF        1\n",
       "BsmtFullBath       2\n",
       "BsmtHalfBath       2\n",
       "KitchenQual        1\n",
       "Functional         2\n",
       "FireplaceQu      730\n",
       "GarageType        76\n",
       "GarageYrBlt       78\n",
       "GarageFinish      78\n",
       "GarageCars         1\n",
       "GarageArea         1\n",
       "GarageQual        78\n",
       "GarageCond        78\n",
       "PoolQC          1456\n",
       "Fence           1169\n",
       "MiscFeature     1408\n",
       "SaleType           1\n",
       "dtype: int64"
      ]
     },
     "execution_count": 8,
     "metadata": {},
     "output_type": "execute_result"
    }
   ],
   "source": [
    "test_nulls = test.isna().sum()[test.isna().sum() != 0]\n",
    "test_nulls"
   ]
  },
  {
   "cell_type": "markdown",
   "metadata": {},
   "source": [
    "Great! More null values! In this notebook, we are mainly concerned with data cleaning. So, let's get started.\n",
    "\n",
    "Test data has more null values than the train data. We'll make a list of all the columns which have missing values and deal with them one by one. But first, let's see if all the columns with missing values in test data are included in the train data or not."
   ]
  },
  {
   "cell_type": "code",
   "execution_count": 9,
   "metadata": {},
   "outputs": [],
   "source": [
    "train_nulls_cols = list(train_nulls.index)\n",
    "test_nulls_cols = list(test_nulls.index)"
   ]
  },
  {
   "cell_type": "code",
   "execution_count": 124,
   "metadata": {},
   "outputs": [
    {
     "data": {
      "text/plain": [
       "['Electrical']"
      ]
     },
     "execution_count": 124,
     "metadata": {},
     "output_type": "execute_result"
    }
   ],
   "source": [
    "different_cols = []\n",
    "for col in train_nulls_cols:\n",
    "    if col in test_nulls_cols:\n",
    "        pass\n",
    "    else:\n",
    "        different_cols.append(col)\n",
    "    \n",
    "different_cols"
   ]
  },
  {
   "cell_type": "markdown",
   "metadata": {},
   "source": [
    "So, `Electrical` column is the only column which has missing values in train data but not in test data. All other columns of train are included in test data."
   ]
  },
  {
   "cell_type": "code",
   "execution_count": 11,
   "metadata": {},
   "outputs": [
    {
     "data": {
      "text/plain": [
       "['Alley',\n",
       " 'BsmtCond',\n",
       " 'BsmtExposure',\n",
       " 'BsmtFinSF1',\n",
       " 'BsmtFinSF2',\n",
       " 'BsmtFinType1',\n",
       " 'BsmtFinType2',\n",
       " 'BsmtFullBath',\n",
       " 'BsmtHalfBath',\n",
       " 'BsmtQual',\n",
       " 'BsmtUnfSF',\n",
       " 'Exterior1st',\n",
       " 'Exterior2nd',\n",
       " 'Fence',\n",
       " 'FireplaceQu',\n",
       " 'Functional',\n",
       " 'GarageArea',\n",
       " 'GarageCars',\n",
       " 'GarageCond',\n",
       " 'GarageFinish',\n",
       " 'GarageQual',\n",
       " 'GarageType',\n",
       " 'GarageYrBlt',\n",
       " 'KitchenQual',\n",
       " 'LotFrontage',\n",
       " 'MSZoning',\n",
       " 'MasVnrArea',\n",
       " 'MasVnrType',\n",
       " 'MiscFeature',\n",
       " 'PoolQC',\n",
       " 'SaleType',\n",
       " 'TotalBsmtSF',\n",
       " 'Utilities']"
      ]
     },
     "execution_count": 11,
     "metadata": {},
     "output_type": "execute_result"
    }
   ],
   "source": [
    "test_nulls_cols.sort()\n",
    "test_nulls_cols"
   ]
  },
  {
   "cell_type": "markdown",
   "metadata": {},
   "source": [
    "We'll do the data cleaning alphabetically. So, let's start with `Alley` column."
   ]
  },
  {
   "cell_type": "markdown",
   "metadata": {},
   "source": [
    "<a id = \"data-cleaning\"></a>"
   ]
  },
  {
   "cell_type": "markdown",
   "metadata": {},
   "source": [
    "## Data Cleaning"
   ]
  },
  {
   "cell_type": "markdown",
   "metadata": {},
   "source": [
    "Before starting, one things we have to keep in mind is that not to use `dropna` function. The reasons are:\n",
    "1. We already have very little data. There are same number of rows in train and test data. If we drop some rows from train set, our models will not perform that well.\n",
    "2. Kaggle wants us to give predictions on all the test data. So, obviously, we have to use all the data. (This fact is going to cause us even more problems in the future, escpecially when we are dealing with outliers.)"
   ]
  },
  {
   "cell_type": "markdown",
   "metadata": {},
   "source": [
    "<a id = \"alley\"></a>"
   ]
  },
  {
   "cell_type": "code",
   "execution_count": 12,
   "metadata": {},
   "outputs": [],
   "source": [
    "def percentage_none(column, df):\n",
    "    \"\"\"\n",
    "    Calculate the percentage of missing values in a column\n",
    "\n",
    "    Attributes:\n",
    "    -----------\n",
    "        column (str): the column name\n",
    "        df (pandas.DataFrame): the dataframe to calculate the percentage of missing values\n",
    "\n",
    "    Returns:\n",
    "    --------\n",
    "        float: the percentage of missing values in the column\n",
    "            Default: train\n",
    "    \"\"\"\n",
    "    none_rows = df[column].isnull().sum()\n",
    "    return none_rows / len(df)"
   ]
  },
  {
   "cell_type": "markdown",
   "metadata": {},
   "source": [
    "### Alley"
   ]
  },
  {
   "cell_type": "markdown",
   "metadata": {},
   "source": [
    "Let's get detail about the `Alley` column."
   ]
  },
  {
   "cell_type": "code",
   "execution_count": 13,
   "metadata": {},
   "outputs": [
    {
     "name": "stdout",
     "output_type": "stream",
     "text": [
      "0.9376712328767123\n",
      "0.9266620973269363\n"
     ]
    }
   ],
   "source": [
    "print(percentage_none(\"Alley\", train))\n",
    "print(percentage_none(\"Alley\", test))"
   ]
  },
  {
   "cell_type": "code",
   "execution_count": 14,
   "metadata": {},
   "outputs": [
    {
     "name": "stdout",
     "output_type": "stream",
     "text": [
      "Alley: Type of alley access to property\n",
      "\n",
      "       Grvl\tGravel\n",
      "       Pave\tPaved\n",
      "       NA \tNo alley access\n"
     ]
    }
   ],
   "source": [
    "get_detail(\"Alley\")"
   ]
  },
  {
   "cell_type": "markdown",
   "metadata": {},
   "source": [
    "Hmm, over 93% of the houses have `Alley` as `NA`, in both the train and test data. But, from the description of the column, it seems that `NA` means that there is no alley. Only thing we need to do is to replace `NA` with some other value which represents that there is no alley. We'll use string \"None\" for this. Why am I using \"None\"? Well, a lot of missing values in this data are because the facilty or object defined by that column does not exist in the house. We'll be using \"None\" for all of them."
   ]
  },
  {
   "cell_type": "code",
   "execution_count": 15,
   "metadata": {},
   "outputs": [],
   "source": [
    "train[\"Alley\"].fillna(\"None\", inplace=True)\n",
    "test[\"Alley\"].fillna(\"None\", inplace=True)"
   ]
  },
  {
   "cell_type": "code",
   "execution_count": 16,
   "metadata": {},
   "outputs": [
    {
     "name": "stdout",
     "output_type": "stream",
     "text": [
      "0.0\n",
      "0.0\n"
     ]
    }
   ],
   "source": [
    "print(percentage_none(\"Alley\", train))\n",
    "print(percentage_none(\"Alley\", test))"
   ]
  },
  {
   "cell_type": "markdown",
   "metadata": {},
   "source": [
    "<a id=\"basement\"></a>"
   ]
  },
  {
   "cell_type": "markdown",
   "metadata": {},
   "source": [
    "### Basement"
   ]
  },
  {
   "cell_type": "markdown",
   "metadata": {},
   "source": [
    "There are a lot of features related with basement. We'll  deal with them one by one."
   ]
  },
  {
   "cell_type": "markdown",
   "metadata": {},
   "source": [
    "<a id = \"BsmtCond\"></a>\n",
    "#### BsmtCond"
   ]
  },
  {
   "cell_type": "code",
   "execution_count": 17,
   "metadata": {},
   "outputs": [
    {
     "name": "stdout",
     "output_type": "stream",
     "text": [
      "0.025342465753424658\n",
      "0.030843043180260453\n"
     ]
    }
   ],
   "source": [
    "print(percentage_none(\"BsmtCond\", train))\n",
    "print(percentage_none(\"BsmtCond\", test))"
   ]
  },
  {
   "cell_type": "code",
   "execution_count": 18,
   "metadata": {},
   "outputs": [
    {
     "name": "stdout",
     "output_type": "stream",
     "text": [
      "BsmtCond: Evaluates the general condition of the basement\n",
      "\n",
      "       Ex\tExcellent\n",
      "       Gd\tGood\n",
      "       TA\tTypical - slight dampness allowed\n",
      "       Fa\tFair - dampness or some cracking or settling\n",
      "       Po\tPoor - Severe cracking, settling, or wetness\n",
      "       NA\tNo Basement\n"
     ]
    }
   ],
   "source": [
    "get_detail(\"BsmtCond\")"
   ]
  },
  {
   "cell_type": "markdown",
   "metadata": {},
   "source": [
    "Again, `NA` means there is no basement. So, we'll replace `NA` with \"None\"."
   ]
  },
  {
   "cell_type": "code",
   "execution_count": 19,
   "metadata": {},
   "outputs": [],
   "source": [
    "train[\"BsmtCond\"].fillna(\"None\", inplace=True)\n",
    "test[\"BsmtCond\"].fillna(\"None\", inplace=True)"
   ]
  },
  {
   "cell_type": "code",
   "execution_count": 20,
   "metadata": {},
   "outputs": [
    {
     "name": "stdout",
     "output_type": "stream",
     "text": [
      "0.0\n",
      "0.0\n"
     ]
    }
   ],
   "source": [
    "print(percentage_none(\"BsmtCond\", train))\n",
    "print(percentage_none(\"BsmtCond\", test))"
   ]
  },
  {
   "cell_type": "markdown",
   "metadata": {},
   "source": [
    "<a id = \"BsmtExposure\"></a>\n",
    "#### BsmtExposure"
   ]
  },
  {
   "cell_type": "code",
   "execution_count": 21,
   "metadata": {},
   "outputs": [
    {
     "name": "stdout",
     "output_type": "stream",
     "text": [
      "0.026027397260273973\n",
      "0.03015764222069911\n"
     ]
    }
   ],
   "source": [
    "print(percentage_none(\"BsmtExposure\", train))\n",
    "print(percentage_none(\"BsmtExposure\", test))"
   ]
  },
  {
   "cell_type": "code",
   "execution_count": 22,
   "metadata": {},
   "outputs": [
    {
     "name": "stdout",
     "output_type": "stream",
     "text": [
      "BsmtExposure: Refers to walkout or garden level walls\n",
      "\n",
      "       Gd\tGood Exposure\n",
      "       Av\tAverage Exposure (split levels or foyers typically score average or above)\t\n",
      "       Mn\tMimimum Exposure\n",
      "       No\tNo Exposure\n",
      "       NA\tNo Basement\n"
     ]
    }
   ],
   "source": [
    "get_detail(\"BsmtExposure\")"
   ]
  },
  {
   "cell_type": "markdown",
   "metadata": {},
   "source": [
    "The same here. It is getting repetative, let's follow the DRY principle and make a function which will replace `NA` with \"None\" for both train and test set."
   ]
  },
  {
   "cell_type": "code",
   "execution_count": 23,
   "metadata": {},
   "outputs": [],
   "source": [
    "def fill_na_for_none(column, dfs = [train, test]):\n",
    "    \"\"\"Fills NA with 'None' for the column\n",
    "\n",
    "    Attributes:\n",
    "    -----------\n",
    "        column (str): the column name\n",
    "        dfs (list): the dataframes to fill the NA with 'None'\n",
    "    \n",
    "    Returns:\n",
    "    --------    \n",
    "        None\n",
    "    \"\"\"\n",
    "    print(\"Filling NaN for {}\".format(column))\n",
    "    print(\"Percenatge of NA before...\")\n",
    "    if dfs[0][column].dtype == \"object\":\n",
    "        fill_value = \"None\"\n",
    "    \n",
    "    else:\n",
    "        fill_value = 0\n",
    "    for df in dfs:\n",
    "        print(percentage_none(column, df))\n",
    "        df[column].fillna(fill_value, inplace=True)\n",
    "    \n",
    "    print(\"Percentage of NA after...\")\n",
    "    for df in dfs:\n",
    "        print(percentage_none(column, df))"
   ]
  },
  {
   "cell_type": "code",
   "execution_count": 24,
   "metadata": {},
   "outputs": [
    {
     "name": "stdout",
     "output_type": "stream",
     "text": [
      "Filling NaN for BsmtExposure\n",
      "Percenatge of NA before...\n",
      "0.026027397260273973\n",
      "0.03015764222069911\n",
      "Percentage of NA after...\n",
      "0.0\n",
      "0.0\n"
     ]
    }
   ],
   "source": [
    "fill_na_for_none(\"BsmtExposure\")"
   ]
  },
  {
   "cell_type": "markdown",
   "metadata": {},
   "source": [
    "Much better! :)"
   ]
  },
  {
   "cell_type": "markdown",
   "metadata": {},
   "source": [
    "<a id = \"BsmtFinSF1\"></a>\n",
    "#### BsmtFinSF1"
   ]
  },
  {
   "cell_type": "code",
   "execution_count": 25,
   "metadata": {},
   "outputs": [
    {
     "name": "stdout",
     "output_type": "stream",
     "text": [
      "BsmtFinSF1: Type 1 finished square feet\n"
     ]
    }
   ],
   "source": [
    "get_detail(\"BsmtFinSF1\")"
   ]
  },
  {
   "cell_type": "markdown",
   "metadata": {},
   "source": [
    "Here, since `BsmtFinSF1` is a numeric column, we'll replace `NA` with 0, which makes sense as there is basement to begin with."
   ]
  },
  {
   "cell_type": "code",
   "execution_count": 26,
   "metadata": {},
   "outputs": [
    {
     "name": "stdout",
     "output_type": "stream",
     "text": [
      "Filling NaN for BsmtFinSF1\n",
      "Percenatge of NA before...\n",
      "0.0\n",
      "0.0006854009595613434\n",
      "Percentage of NA after...\n",
      "0.0\n",
      "0.0\n"
     ]
    }
   ],
   "source": [
    "fill_na_for_none(\"BsmtFinSF1\")"
   ]
  },
  {
   "cell_type": "markdown",
   "metadata": {},
   "source": [
    "<a id = \"BsmtFinSF2\"></a>\n",
    "#### BsmtFinSF2"
   ]
  },
  {
   "cell_type": "code",
   "execution_count": 27,
   "metadata": {},
   "outputs": [
    {
     "name": "stdout",
     "output_type": "stream",
     "text": [
      "BsmtFinSF2: Type 2 finished square feet\n"
     ]
    }
   ],
   "source": [
    "get_detail(\"BsmtFinSF2\")"
   ]
  },
  {
   "cell_type": "markdown",
   "metadata": {},
   "source": [
    "Same here."
   ]
  },
  {
   "cell_type": "code",
   "execution_count": 28,
   "metadata": {},
   "outputs": [
    {
     "name": "stdout",
     "output_type": "stream",
     "text": [
      "Filling NaN for BsmtFinSF2\n",
      "Percenatge of NA before...\n",
      "0.0\n",
      "0.0006854009595613434\n",
      "Percentage of NA after...\n",
      "0.0\n",
      "0.0\n"
     ]
    }
   ],
   "source": [
    "fill_na_for_none(\"BsmtFinSF2\")"
   ]
  },
  {
   "cell_type": "markdown",
   "metadata": {},
   "source": [
    "<a id = \"BsmtFinType1\"></a>\n",
    "#### BsmtFinType1"
   ]
  },
  {
   "cell_type": "code",
   "execution_count": 29,
   "metadata": {},
   "outputs": [
    {
     "name": "stdout",
     "output_type": "stream",
     "text": [
      "BsmtFinType1: Rating of basement finished area\n",
      "\n",
      "       GLQ\tGood Living Quarters\n",
      "       ALQ\tAverage Living Quarters\n",
      "       BLQ\tBelow Average Living Quarters\t\n",
      "       Rec\tAverage Rec Room\n",
      "       LwQ\tLow Quality\n",
      "       Unf\tUnfinshed\n",
      "       NA\tNo Basement\n"
     ]
    }
   ],
   "source": [
    "get_detail(\"BsmtFinType1\")"
   ]
  },
  {
   "cell_type": "markdown",
   "metadata": {},
   "source": [
    "The same."
   ]
  },
  {
   "cell_type": "code",
   "execution_count": 30,
   "metadata": {},
   "outputs": [
    {
     "name": "stdout",
     "output_type": "stream",
     "text": [
      "Filling NaN for BsmtFinType1\n",
      "Percenatge of NA before...\n",
      "0.025342465753424658\n",
      "0.02878684030157642\n",
      "Percentage of NA after...\n",
      "0.0\n",
      "0.0\n"
     ]
    }
   ],
   "source": [
    "fill_na_for_none(\"BsmtFinType1\")"
   ]
  },
  {
   "cell_type": "markdown",
   "metadata": {},
   "source": [
    "<a id = \"BsmtFinType2\"></a>\n",
    "#### BsmtFinType2"
   ]
  },
  {
   "cell_type": "code",
   "execution_count": 31,
   "metadata": {},
   "outputs": [
    {
     "name": "stdout",
     "output_type": "stream",
     "text": [
      "BsmtFinType2: Rating of basement finished area (if multiple types)\n",
      "\n",
      "       GLQ\tGood Living Quarters\n",
      "       ALQ\tAverage Living Quarters\n",
      "       BLQ\tBelow Average Living Quarters\t\n",
      "       Rec\tAverage Rec Room\n",
      "       LwQ\tLow Quality\n",
      "       Unf\tUnfinshed\n",
      "       NA\tNo Basement\n"
     ]
    }
   ],
   "source": [
    "get_detail(\"BsmtFinType2\")"
   ]
  },
  {
   "cell_type": "code",
   "execution_count": 32,
   "metadata": {},
   "outputs": [
    {
     "name": "stdout",
     "output_type": "stream",
     "text": [
      "Filling NaN for BsmtFinType2\n",
      "Percenatge of NA before...\n",
      "0.026027397260273973\n",
      "0.02878684030157642\n",
      "Percentage of NA after...\n",
      "0.0\n",
      "0.0\n"
     ]
    }
   ],
   "source": [
    "fill_na_for_none(\"BsmtFinType2\")"
   ]
  },
  {
   "cell_type": "markdown",
   "metadata": {},
   "source": [
    "<a id = \"BsmtFullBath\"></a>\n",
    "#### BsmtFullBath"
   ]
  },
  {
   "cell_type": "code",
   "execution_count": 33,
   "metadata": {},
   "outputs": [
    {
     "name": "stdout",
     "output_type": "stream",
     "text": [
      "BsmtFullBath: Basement full bathrooms\n"
     ]
    }
   ],
   "source": [
    "get_detail(\"BsmtFullBath\")"
   ]
  },
  {
   "cell_type": "code",
   "execution_count": 34,
   "metadata": {},
   "outputs": [
    {
     "data": {
      "text/plain": [
       "0       1\n",
       "1       0\n",
       "2       1\n",
       "3       1\n",
       "4       1\n",
       "       ..\n",
       "1455    0\n",
       "1456    1\n",
       "1457    0\n",
       "1458    1\n",
       "1459    1\n",
       "Name: BsmtFullBath, Length: 1460, dtype: int64"
      ]
     },
     "execution_count": 34,
     "metadata": {},
     "output_type": "execute_result"
    }
   ],
   "source": [
    "train[\"BsmtFullBath\"]"
   ]
  },
  {
   "cell_type": "code",
   "execution_count": 35,
   "metadata": {},
   "outputs": [
    {
     "name": "stdout",
     "output_type": "stream",
     "text": [
      "Filling NaN for BsmtFullBath\n",
      "Percenatge of NA before...\n",
      "0.0\n",
      "0.0013708019191226869\n",
      "Percentage of NA after...\n",
      "0.0\n",
      "0.0\n"
     ]
    }
   ],
   "source": [
    "fill_na_for_none(\"BsmtFullBath\")"
   ]
  },
  {
   "cell_type": "markdown",
   "metadata": {},
   "source": [
    "This is a numerical column. So, we'll replace `NA` with 0. Fortunately, our function already takes care of this!"
   ]
  },
  {
   "cell_type": "markdown",
   "metadata": {},
   "source": [
    "<a id = \"BsmtHalfBath\"></a>\n",
    "#### BsmtHalfBath"
   ]
  },
  {
   "cell_type": "code",
   "execution_count": 36,
   "metadata": {},
   "outputs": [
    {
     "name": "stdout",
     "output_type": "stream",
     "text": [
      "BsmtHalfBath: Basement half bathrooms\n"
     ]
    }
   ],
   "source": [
    "get_detail(\"BsmtHalfBath\")"
   ]
  },
  {
   "cell_type": "code",
   "execution_count": 37,
   "metadata": {},
   "outputs": [
    {
     "name": "stdout",
     "output_type": "stream",
     "text": [
      "Filling NaN for BsmtHalfBath\n",
      "Percenatge of NA before...\n",
      "0.0\n",
      "0.0013708019191226869\n",
      "Percentage of NA after...\n",
      "0.0\n",
      "0.0\n"
     ]
    }
   ],
   "source": [
    "fill_na_for_none(\"BsmtHalfBath\")"
   ]
  },
  {
   "cell_type": "markdown",
   "metadata": {},
   "source": [
    "Same here!"
   ]
  },
  {
   "cell_type": "markdown",
   "metadata": {},
   "source": [
    "<a id = \"BsmtQual\"></a>\n",
    "#### BsmtQual"
   ]
  },
  {
   "cell_type": "code",
   "execution_count": 38,
   "metadata": {},
   "outputs": [
    {
     "name": "stdout",
     "output_type": "stream",
     "text": [
      "BsmtQual: Evaluates the height of the basement\n",
      "\n",
      "       Ex\tExcellent (100+ inches)\t\n",
      "       Gd\tGood (90-99 inches)\n",
      "       TA\tTypical (80-89 inches)\n",
      "       Fa\tFair (70-79 inches)\n",
      "       Po\tPoor (<70 inches\n",
      "       NA\tNo Basement\n"
     ]
    }
   ],
   "source": [
    "get_detail(\"BsmtQual\")"
   ]
  },
  {
   "cell_type": "markdown",
   "metadata": {},
   "source": [
    "It's getting boring, isn't it? Well, we can make a function which will replace `NA` with \"None\" for both train and test set for every columns associated with basement, but I'll leave it for now."
   ]
  },
  {
   "cell_type": "code",
   "execution_count": 39,
   "metadata": {},
   "outputs": [
    {
     "name": "stdout",
     "output_type": "stream",
     "text": [
      "Filling NaN for BsmtQual\n",
      "Percenatge of NA before...\n",
      "0.025342465753424658\n",
      "0.03015764222069911\n",
      "Percentage of NA after...\n",
      "0.0\n",
      "0.0\n"
     ]
    }
   ],
   "source": [
    "fill_na_for_none(\"BsmtQual\")"
   ]
  },
  {
   "cell_type": "markdown",
   "metadata": {},
   "source": [
    "<a id = \"BsmtUnfSF\"></a>\n",
    "#### BsmtUnfSF"
   ]
  },
  {
   "cell_type": "code",
   "execution_count": 40,
   "metadata": {},
   "outputs": [
    {
     "name": "stdout",
     "output_type": "stream",
     "text": [
      "BsmtUnfSF: Unfinished square feet of basement area\n"
     ]
    }
   ],
   "source": [
    "get_detail(\"BsmtUnfSF\")"
   ]
  },
  {
   "cell_type": "code",
   "execution_count": 41,
   "metadata": {},
   "outputs": [
    {
     "name": "stdout",
     "output_type": "stream",
     "text": [
      "Filling NaN for BsmtUnfSF\n",
      "Percenatge of NA before...\n",
      "0.0\n",
      "0.0006854009595613434\n",
      "Percentage of NA after...\n",
      "0.0\n",
      "0.0\n"
     ]
    }
   ],
   "source": [
    "fill_na_for_none(\"BsmtUnfSF\")"
   ]
  },
  {
   "cell_type": "markdown",
   "metadata": {},
   "source": [
    "<a id=\"TotalBsmtSF\"></a>\n",
    "#### TotalBsmtSF"
   ]
  },
  {
   "cell_type": "code",
   "execution_count": 42,
   "metadata": {},
   "outputs": [
    {
     "name": "stdout",
     "output_type": "stream",
     "text": [
      "TotalBsmtSF: Total square feet of basement area\n"
     ]
    }
   ],
   "source": [
    "get_detail(\"TotalBsmtSF\")"
   ]
  },
  {
   "cell_type": "code",
   "execution_count": 43,
   "metadata": {},
   "outputs": [
    {
     "name": "stdout",
     "output_type": "stream",
     "text": [
      "Filling NaN for TotalBsmtSF\n",
      "Percenatge of NA before...\n",
      "0.0\n",
      "0.0006854009595613434\n",
      "Percentage of NA after...\n",
      "0.0\n",
      "0.0\n"
     ]
    }
   ],
   "source": [
    "fill_na_for_none(\"TotalBsmtSF\")"
   ]
  },
  {
   "cell_type": "markdown",
   "metadata": {},
   "source": [
    "Oof! We survived! :)"
   ]
  },
  {
   "cell_type": "markdown",
   "metadata": {},
   "source": [
    "<a id=\"exterior\"></a>\n",
    "### Exterior"
   ]
  },
  {
   "cell_type": "markdown",
   "metadata": {},
   "source": [
    "<a id=\"exterior1st\"></a>\n",
    "### Exterior1st"
   ]
  },
  {
   "cell_type": "code",
   "execution_count": 44,
   "metadata": {},
   "outputs": [
    {
     "name": "stdout",
     "output_type": "stream",
     "text": [
      "Exterior1st: Exterior covering on house\n",
      "\n",
      "       AsbShng\tAsbestos Shingles\n",
      "       AsphShn\tAsphalt Shingles\n",
      "       BrkComm\tBrick Common\n",
      "       BrkFace\tBrick Face\n",
      "       CBlock\tCinder Block\n",
      "       CemntBd\tCement Board\n",
      "       HdBoard\tHard Board\n",
      "       ImStucc\tImitation Stucco\n",
      "       MetalSd\tMetal Siding\n",
      "       Other\tOther\n",
      "       Plywood\tPlywood\n",
      "       PreCast\tPreCast\t\n",
      "       Stone\tStone\n",
      "       Stucco\tStucco\n",
      "       VinylSd\tVinyl Siding\n",
      "       Wd Sdng\tWood Siding\n",
      "       WdShing\tWood Shingles\n"
     ]
    }
   ],
   "source": [
    "get_detail(\"Exterior1st\")"
   ]
  },
  {
   "cell_type": "code",
   "execution_count": 45,
   "metadata": {},
   "outputs": [
    {
     "data": {
      "text/plain": [
       "0"
      ]
     },
     "execution_count": 45,
     "metadata": {},
     "output_type": "execute_result"
    }
   ],
   "source": [
    "train[\"Exterior1st\"].isna().sum()"
   ]
  },
  {
   "cell_type": "code",
   "execution_count": 46,
   "metadata": {},
   "outputs": [
    {
     "data": {
      "text/plain": [
       "1"
      ]
     },
     "execution_count": 46,
     "metadata": {},
     "output_type": "execute_result"
    }
   ],
   "source": [
    "test[\"Exterior1st\"].isna().sum()"
   ]
  },
  {
   "cell_type": "markdown",
   "metadata": {},
   "source": [
    "So, there is one row, where we have a missing value corresponding to `Exterior1st`. There are a lot of way to deal this missing value. \n",
    "1. You can define a new category for it, however, this won't be that good since there is only one such row.\n",
    "2. You can find some other column which is related to `Exterior1st` column and fill the empty value using that column.\n",
    "3. Or, you can find the find the most common value of `Exterior1st` column and fill the empty value using that value.\n",
    "\n",
    "I'll use the thirs approach."
   ]
  },
  {
   "cell_type": "code",
   "execution_count": 47,
   "metadata": {},
   "outputs": [
    {
     "data": {
      "text/plain": [
       "(VinylSd    515\n",
       " HdBoard    222\n",
       " MetalSd    220\n",
       " Wd Sdng    206\n",
       " Plywood    108\n",
       " Name: Exterior1st, dtype: int64,\n",
       " VinylSd    510\n",
       " MetalSd    230\n",
       " HdBoard    220\n",
       " Wd Sdng    205\n",
       " Plywood    113\n",
       " Name: Exterior1st, dtype: int64)"
      ]
     },
     "execution_count": 47,
     "metadata": {},
     "output_type": "execute_result"
    }
   ],
   "source": [
    "train[\"Exterior1st\"].value_counts()[:5], test[\"Exterior1st\"].value_counts()[:5]"
   ]
  },
  {
   "cell_type": "markdown",
   "metadata": {},
   "source": [
    "It seems that \"VinylSd\" is the most popular type of exterior covering used in both the train and test data. We'll fill the NA with this."
   ]
  },
  {
   "cell_type": "code",
   "execution_count": 48,
   "metadata": {},
   "outputs": [],
   "source": [
    "train[\"Exterior1st\"].fillna(\"VinylSd\", inplace = True)\n",
    "test[\"Exterior1st\"].fillna(\"VinylSd\", inplace = True)"
   ]
  },
  {
   "cell_type": "code",
   "execution_count": 49,
   "metadata": {},
   "outputs": [
    {
     "name": "stdout",
     "output_type": "stream",
     "text": [
      "0.0\n",
      "0.0\n"
     ]
    }
   ],
   "source": [
    "print(percentage_none(\"Exterior1st\", train))\n",
    "print(percentage_none(\"Exterior1st\", test))"
   ]
  },
  {
   "cell_type": "markdown",
   "metadata": {},
   "source": [
    "<a id=\"exterior2nd\"></a>\n",
    "### Exterior2nd"
   ]
  },
  {
   "cell_type": "code",
   "execution_count": 50,
   "metadata": {},
   "outputs": [
    {
     "name": "stdout",
     "output_type": "stream",
     "text": [
      "Exterior2nd: Exterior covering on house (if more than one material)\n",
      "\n",
      "       AsbShng\tAsbestos Shingles\n",
      "       AsphShn\tAsphalt Shingles\n",
      "       BrkComm\tBrick Common\n",
      "       BrkFace\tBrick Face\n",
      "       CBlock\tCinder Block\n",
      "       CemntBd\tCement Board\n",
      "       HdBoard\tHard Board\n",
      "       ImStucc\tImitation Stucco\n",
      "       MetalSd\tMetal Siding\n",
      "       Other\tOther\n",
      "       Plywood\tPlywood\n",
      "       PreCast\tPreCast\n",
      "       Stone\tStone\n",
      "       Stucco\tStucco\n",
      "       VinylSd\tVinyl Siding\n",
      "       Wd Sdng\tWood Siding\n",
      "       WdShing\tWood Shingles\n"
     ]
    }
   ],
   "source": [
    "get_detail(\"Exterior2nd\")"
   ]
  },
  {
   "cell_type": "code",
   "execution_count": 51,
   "metadata": {},
   "outputs": [
    {
     "name": "stdout",
     "output_type": "stream",
     "text": [
      "0\n",
      "1\n"
     ]
    }
   ],
   "source": [
    "print(train[\"Exterior2nd\"].isna().sum())\n",
    "print(test[\"Exterior2nd\"].isna().sum())"
   ]
  },
  {
   "cell_type": "markdown",
   "metadata": {},
   "source": [
    "Here too, we'll use the previous approach."
   ]
  },
  {
   "cell_type": "code",
   "execution_count": 52,
   "metadata": {},
   "outputs": [
    {
     "data": {
      "text/plain": [
       "(VinylSd    504\n",
       " MetalSd    214\n",
       " HdBoard    207\n",
       " Wd Sdng    197\n",
       " Plywood    142\n",
       " Name: Exterior2nd, dtype: int64,\n",
       " VinylSd    510\n",
       " MetalSd    233\n",
       " HdBoard    199\n",
       " Wd Sdng    194\n",
       " Plywood    128\n",
       " Name: Exterior2nd, dtype: int64)"
      ]
     },
     "execution_count": 52,
     "metadata": {},
     "output_type": "execute_result"
    }
   ],
   "source": [
    "train[\"Exterior2nd\"].value_counts()[:5], test[\"Exterior2nd\"].value_counts()[:5]"
   ]
  },
  {
   "cell_type": "code",
   "execution_count": 53,
   "metadata": {},
   "outputs": [],
   "source": [
    "train[\"Exterior2nd\"].fillna(\"VinylSd\", inplace = True)\n",
    "test[\"Exterior2nd\"].fillna(\"VinylSd\", inplace = True)"
   ]
  },
  {
   "cell_type": "code",
   "execution_count": 54,
   "metadata": {},
   "outputs": [
    {
     "name": "stdout",
     "output_type": "stream",
     "text": [
      "0\n",
      "0\n"
     ]
    }
   ],
   "source": [
    "print(train[\"Exterior2nd\"].isna().sum())\n",
    "print(test[\"Exterior2nd\"].isna().sum())"
   ]
  },
  {
   "cell_type": "markdown",
   "metadata": {},
   "source": [
    "<a id=\"fence\"></a>\n",
    "### Fence"
   ]
  },
  {
   "cell_type": "code",
   "execution_count": 55,
   "metadata": {},
   "outputs": [
    {
     "name": "stdout",
     "output_type": "stream",
     "text": [
      "Fence: Fence quality\n",
      "\t\t\n",
      "       GdPrv\tGood Privacy\n",
      "       MnPrv\tMinimum Privacy\n",
      "       GdWo\tGood Wood\n",
      "       MnWw\tMinimum Wood/Wire\n",
      "       NA\tNo Fence\n"
     ]
    }
   ],
   "source": [
    "get_detail(\"Fence\")"
   ]
  },
  {
   "cell_type": "markdown",
   "metadata": {},
   "source": [
    "Great! We can apply the same method we applied for basement."
   ]
  },
  {
   "cell_type": "code",
   "execution_count": 56,
   "metadata": {},
   "outputs": [
    {
     "name": "stdout",
     "output_type": "stream",
     "text": [
      "Filling NaN for Fence\n",
      "Percenatge of NA before...\n",
      "0.8075342465753425\n",
      "0.8012337217272104\n",
      "Percentage of NA after...\n",
      "0.0\n",
      "0.0\n"
     ]
    }
   ],
   "source": [
    "fill_na_for_none(\"Fence\")"
   ]
  },
  {
   "cell_type": "markdown",
   "metadata": {},
   "source": [
    "<a id=\"FireplaceQu\"></a>\n",
    "### FireplaceQu"
   ]
  },
  {
   "cell_type": "code",
   "execution_count": 57,
   "metadata": {},
   "outputs": [
    {
     "name": "stdout",
     "output_type": "stream",
     "text": [
      "FireplaceQu: Fireplace quality\n",
      "\n",
      "       Ex\tExcellent - Exceptional Masonry Fireplace\n",
      "       Gd\tGood - Masonry Fireplace in main level\n",
      "       TA\tAverage - Prefabricated Fireplace in main living area or Masonry Fireplace in basement\n",
      "       Fa\tFair - Prefabricated Fireplace in basement\n",
      "       Po\tPoor - Ben Franklin Stove\n",
      "       NA\tNo Fireplace\n"
     ]
    }
   ],
   "source": [
    "get_detail(\"FireplaceQu\")"
   ]
  },
  {
   "cell_type": "markdown",
   "metadata": {},
   "source": [
    "Same here!"
   ]
  },
  {
   "cell_type": "code",
   "execution_count": 58,
   "metadata": {},
   "outputs": [
    {
     "name": "stdout",
     "output_type": "stream",
     "text": [
      "Filling NaN for FireplaceQu\n",
      "Percenatge of NA before...\n",
      "0.4726027397260274\n",
      "0.5003427004797807\n",
      "Percentage of NA after...\n",
      "0.0\n",
      "0.0\n"
     ]
    }
   ],
   "source": [
    "fill_na_for_none(\"FireplaceQu\")"
   ]
  },
  {
   "cell_type": "markdown",
   "metadata": {},
   "source": [
    "<a id=\"Functional\"></a>\n",
    "### Functional"
   ]
  },
  {
   "cell_type": "code",
   "execution_count": 59,
   "metadata": {},
   "outputs": [
    {
     "name": "stdout",
     "output_type": "stream",
     "text": [
      "Functional: Home functionality (Assume typical unless deductions are warranted)\n",
      "\n",
      "       Typ\tTypical Functionality\n",
      "       Min1\tMinor Deductions 1\n",
      "       Min2\tMinor Deductions 2\n",
      "       Mod\tModerate Deductions\n",
      "       Maj1\tMajor Deductions 1\n",
      "       Maj2\tMajor Deductions 2\n",
      "       Sev\tSeverely Damaged\n",
      "       Sal\tSalvage only\n"
     ]
    }
   ],
   "source": [
    "get_detail(\"Functional\")"
   ]
  },
  {
   "cell_type": "code",
   "execution_count": 60,
   "metadata": {},
   "outputs": [
    {
     "name": "stdout",
     "output_type": "stream",
     "text": [
      "0.0\n",
      "0.0013708019191226869\n"
     ]
    },
    {
     "data": {
      "text/plain": [
       "2"
      ]
     },
     "execution_count": 60,
     "metadata": {},
     "output_type": "execute_result"
    }
   ],
   "source": [
    "print(percentage_none(\"Functional\", train))\n",
    "print(percentage_none(\"Functional\", test))\n",
    "test[\"Functional\"].isna().sum()"
   ]
  },
  {
   "cell_type": "markdown",
   "metadata": {},
   "source": [
    "Two missing values in this column for test data."
   ]
  },
  {
   "cell_type": "code",
   "execution_count": 61,
   "metadata": {},
   "outputs": [
    {
     "data": {
      "text/html": [
       "<div>\n",
       "<style scoped>\n",
       "    .dataframe tbody tr th:only-of-type {\n",
       "        vertical-align: middle;\n",
       "    }\n",
       "\n",
       "    .dataframe tbody tr th {\n",
       "        vertical-align: top;\n",
       "    }\n",
       "\n",
       "    .dataframe thead th {\n",
       "        text-align: right;\n",
       "    }\n",
       "</style>\n",
       "<table border=\"1\" class=\"dataframe\">\n",
       "  <thead>\n",
       "    <tr style=\"text-align: right;\">\n",
       "      <th></th>\n",
       "      <th>756</th>\n",
       "      <th>1013</th>\n",
       "    </tr>\n",
       "  </thead>\n",
       "  <tbody>\n",
       "    <tr>\n",
       "      <th>Id</th>\n",
       "      <td>2217</td>\n",
       "      <td>2474</td>\n",
       "    </tr>\n",
       "    <tr>\n",
       "      <th>MSSubClass</th>\n",
       "      <td>20</td>\n",
       "      <td>50</td>\n",
       "    </tr>\n",
       "    <tr>\n",
       "      <th>MSZoning</th>\n",
       "      <td>NaN</td>\n",
       "      <td>RM</td>\n",
       "    </tr>\n",
       "    <tr>\n",
       "      <th>LotFrontage</th>\n",
       "      <td>80</td>\n",
       "      <td>60</td>\n",
       "    </tr>\n",
       "    <tr>\n",
       "      <th>LotArea</th>\n",
       "      <td>14584</td>\n",
       "      <td>10320</td>\n",
       "    </tr>\n",
       "    <tr>\n",
       "      <th>...</th>\n",
       "      <td>...</td>\n",
       "      <td>...</td>\n",
       "    </tr>\n",
       "    <tr>\n",
       "      <th>MiscVal</th>\n",
       "      <td>0</td>\n",
       "      <td>0</td>\n",
       "    </tr>\n",
       "    <tr>\n",
       "      <th>MoSold</th>\n",
       "      <td>2</td>\n",
       "      <td>9</td>\n",
       "    </tr>\n",
       "    <tr>\n",
       "      <th>YrSold</th>\n",
       "      <td>2008</td>\n",
       "      <td>2007</td>\n",
       "    </tr>\n",
       "    <tr>\n",
       "      <th>SaleType</th>\n",
       "      <td>WD</td>\n",
       "      <td>COD</td>\n",
       "    </tr>\n",
       "    <tr>\n",
       "      <th>SaleCondition</th>\n",
       "      <td>Abnorml</td>\n",
       "      <td>Abnorml</td>\n",
       "    </tr>\n",
       "  </tbody>\n",
       "</table>\n",
       "<p>80 rows × 2 columns</p>\n",
       "</div>"
      ],
      "text/plain": [
       "                  756      1013\n",
       "Id                2217     2474\n",
       "MSSubClass          20       50\n",
       "MSZoning           NaN       RM\n",
       "LotFrontage         80       60\n",
       "LotArea          14584    10320\n",
       "...                ...      ...\n",
       "MiscVal              0        0\n",
       "MoSold               2        9\n",
       "YrSold            2008     2007\n",
       "SaleType            WD      COD\n",
       "SaleCondition  Abnorml  Abnorml\n",
       "\n",
       "[80 rows x 2 columns]"
      ]
     },
     "execution_count": 61,
     "metadata": {},
     "output_type": "execute_result"
    }
   ],
   "source": [
    "test[test[\"Functional\"].isna()].T"
   ]
  },
  {
   "cell_type": "markdown",
   "metadata": {},
   "source": [
    "Here, we'll apply the method we used in case of `Exterior1st` column."
   ]
  },
  {
   "cell_type": "code",
   "execution_count": 62,
   "metadata": {},
   "outputs": [
    {
     "data": {
      "text/plain": [
       "(Typ     1360\n",
       " Min2      34\n",
       " Min1      31\n",
       " Mod       15\n",
       " Maj1      14\n",
       " Name: Functional, dtype: int64,\n",
       " Typ     1357\n",
       " Min2      36\n",
       " Min1      34\n",
       " Mod       20\n",
       " Maj1       5\n",
       " Name: Functional, dtype: int64)"
      ]
     },
     "execution_count": 62,
     "metadata": {},
     "output_type": "execute_result"
    }
   ],
   "source": [
    "train[\"Functional\"].value_counts()[:5], test[\"Functional\"].value_counts()[:5]"
   ]
  },
  {
   "cell_type": "markdown",
   "metadata": {},
   "source": [
    "\"Typ\" which corresponds to \"Typical Functionality\" for outnumbers any other type of functionality. We can safely use this."
   ]
  },
  {
   "cell_type": "code",
   "execution_count": 63,
   "metadata": {},
   "outputs": [],
   "source": [
    "train[\"Functional\"].fillna(\"Typ\", inplace = True)\n",
    "test[\"Functional\"].fillna(\"Typ\", inplace = True)"
   ]
  },
  {
   "cell_type": "code",
   "execution_count": 64,
   "metadata": {},
   "outputs": [
    {
     "name": "stdout",
     "output_type": "stream",
     "text": [
      "0.0\n",
      "0.0\n"
     ]
    }
   ],
   "source": [
    "print(percentage_none(\"Functional\", train))\n",
    "print(percentage_none(\"Functional\", test))"
   ]
  },
  {
   "cell_type": "markdown",
   "metadata": {},
   "source": [
    "<a id=\"garage\"></a>\n",
    "### Garage"
   ]
  },
  {
   "cell_type": "markdown",
   "metadata": {},
   "source": [
    "Again, we have a lot of columns related to garage. We'll deal them individually."
   ]
  },
  {
   "cell_type": "markdown",
   "metadata": {},
   "source": [
    "<a id=\"GarageArea\"></a>\n",
    "#### GarageArea"
   ]
  },
  {
   "cell_type": "code",
   "execution_count": 65,
   "metadata": {},
   "outputs": [
    {
     "name": "stdout",
     "output_type": "stream",
     "text": [
      "GarageArea: Size of garage in square feet\n"
     ]
    }
   ],
   "source": [
    "get_detail(\"GarageArea\")"
   ]
  },
  {
   "cell_type": "markdown",
   "metadata": {},
   "source": [
    "We have a numerical column. `NA` corresponds to the situation when we don't have any garage in first place. So, we'll replace `NA` with 0."
   ]
  },
  {
   "cell_type": "code",
   "execution_count": 66,
   "metadata": {},
   "outputs": [
    {
     "name": "stdout",
     "output_type": "stream",
     "text": [
      "Filling NaN for GarageArea\n",
      "Percenatge of NA before...\n",
      "0.0\n",
      "0.0006854009595613434\n",
      "Percentage of NA after...\n",
      "0.0\n",
      "0.0\n"
     ]
    }
   ],
   "source": [
    "fill_na_for_none(\"GarageArea\")"
   ]
  },
  {
   "cell_type": "markdown",
   "metadata": {},
   "source": [
    "<a id=\"GarageCars\"></a>\n",
    "#### GarageCars"
   ]
  },
  {
   "cell_type": "code",
   "execution_count": 67,
   "metadata": {},
   "outputs": [
    {
     "name": "stdout",
     "output_type": "stream",
     "text": [
      "GarageCars: Size of garage in car capacity\n"
     ]
    }
   ],
   "source": [
    "get_detail(\"GarageCars\")"
   ]
  },
  {
   "cell_type": "markdown",
   "metadata": {},
   "source": [
    "Same as `GarageArea`."
   ]
  },
  {
   "cell_type": "code",
   "execution_count": 68,
   "metadata": {},
   "outputs": [
    {
     "name": "stdout",
     "output_type": "stream",
     "text": [
      "Filling NaN for GarageCars\n",
      "Percenatge of NA before...\n",
      "0.0\n",
      "0.0006854009595613434\n",
      "Percentage of NA after...\n",
      "0.0\n",
      "0.0\n"
     ]
    }
   ],
   "source": [
    "fill_na_for_none(\"GarageCars\")"
   ]
  },
  {
   "cell_type": "markdown",
   "metadata": {},
   "source": [
    "<a id=\"GarageCond\"></a>\n",
    "#### GarageCond"
   ]
  },
  {
   "cell_type": "code",
   "execution_count": 69,
   "metadata": {},
   "outputs": [
    {
     "name": "stdout",
     "output_type": "stream",
     "text": [
      "GarageCond: Garage condition\n",
      "\n",
      "       Ex\tExcellent\n",
      "       Gd\tGood\n",
      "       TA\tTypical/Average\n",
      "       Fa\tFair\n",
      "       Po\tPoor\n",
      "       NA\tNo Garage\n"
     ]
    }
   ],
   "source": [
    "get_detail(\"GarageCond\")"
   ]
  },
  {
   "cell_type": "markdown",
   "metadata": {},
   "source": [
    "A non-numerical column. So, we'll replace `NA` with \"None\". Of course we don't have to do anything as our function already takes care of it!"
   ]
  },
  {
   "cell_type": "code",
   "execution_count": 70,
   "metadata": {},
   "outputs": [
    {
     "name": "stdout",
     "output_type": "stream",
     "text": [
      "Filling NaN for GarageCond\n",
      "Percenatge of NA before...\n",
      "0.05547945205479452\n",
      "0.053461274845784786\n",
      "Percentage of NA after...\n",
      "0.0\n",
      "0.0\n"
     ]
    }
   ],
   "source": [
    "fill_na_for_none(\"GarageCond\")"
   ]
  },
  {
   "cell_type": "markdown",
   "metadata": {},
   "source": [
    "<a id=\"GarageFinish\"></a>\n",
    "#### GarageFinish"
   ]
  },
  {
   "cell_type": "code",
   "execution_count": 71,
   "metadata": {},
   "outputs": [
    {
     "name": "stdout",
     "output_type": "stream",
     "text": [
      "GarageFinish: Interior finish of the garage\n",
      "\n",
      "       Fin\tFinished\n",
      "       RFn\tRough Finished\t\n",
      "       Unf\tUnfinished\n",
      "       NA\tNo Garage\n"
     ]
    }
   ],
   "source": [
    "get_detail(\"GarageFinish\")"
   ]
  },
  {
   "cell_type": "markdown",
   "metadata": {},
   "source": [
    "Same here!"
   ]
  },
  {
   "cell_type": "code",
   "execution_count": 72,
   "metadata": {},
   "outputs": [
    {
     "name": "stdout",
     "output_type": "stream",
     "text": [
      "Filling NaN for GarageFinish\n",
      "Percenatge of NA before...\n",
      "0.05547945205479452\n",
      "0.053461274845784786\n",
      "Percentage of NA after...\n",
      "0.0\n",
      "0.0\n"
     ]
    }
   ],
   "source": [
    "fill_na_for_none(\"GarageFinish\")"
   ]
  },
  {
   "cell_type": "markdown",
   "metadata": {},
   "source": [
    "<a id=\"GarageQual\"></a>\n",
    "#### GarageQual"
   ]
  },
  {
   "cell_type": "code",
   "execution_count": 73,
   "metadata": {},
   "outputs": [
    {
     "name": "stdout",
     "output_type": "stream",
     "text": [
      "GarageQual: Garage quality\n",
      "\n",
      "       Ex\tExcellent\n",
      "       Gd\tGood\n",
      "       TA\tTypical/Average\n",
      "       Fa\tFair\n",
      "       Po\tPoor\n",
      "       NA\tNo Garage\n"
     ]
    }
   ],
   "source": [
    "get_detail(\"GarageQual\")"
   ]
  },
  {
   "cell_type": "markdown",
   "metadata": {},
   "source": [
    "Same!"
   ]
  },
  {
   "cell_type": "code",
   "execution_count": 74,
   "metadata": {},
   "outputs": [
    {
     "name": "stdout",
     "output_type": "stream",
     "text": [
      "Filling NaN for GarageQual\n",
      "Percenatge of NA before...\n",
      "0.05547945205479452\n",
      "0.053461274845784786\n",
      "Percentage of NA after...\n",
      "0.0\n",
      "0.0\n"
     ]
    }
   ],
   "source": [
    "fill_na_for_none(\"GarageQual\")"
   ]
  },
  {
   "cell_type": "markdown",
   "metadata": {},
   "source": [
    "<a id=\"GarageType\"></a>\n",
    "#### GarageType"
   ]
  },
  {
   "cell_type": "code",
   "execution_count": 75,
   "metadata": {},
   "outputs": [
    {
     "name": "stdout",
     "output_type": "stream",
     "text": [
      "GarageType: Garage location\n",
      "\t\t\n",
      "       2Types\tMore than one type of garage\n",
      "       Attchd\tAttached to home\n",
      "       Basment\tBasement Garage\n",
      "       BuiltIn\tBuilt-In (Garage part of house - typically has room above garage)\n",
      "       CarPort\tCar Port\n",
      "       Detchd\tDetached from home\n",
      "       NA\tNo Garage\n"
     ]
    }
   ],
   "source": [
    "get_detail(\"GarageType\")"
   ]
  },
  {
   "cell_type": "markdown",
   "metadata": {},
   "source": [
    "You guessed it! :)"
   ]
  },
  {
   "cell_type": "code",
   "execution_count": 76,
   "metadata": {},
   "outputs": [
    {
     "name": "stdout",
     "output_type": "stream",
     "text": [
      "Filling NaN for GarageType\n",
      "Percenatge of NA before...\n",
      "0.05547945205479452\n",
      "0.0520904729266621\n",
      "Percentage of NA after...\n",
      "0.0\n",
      "0.0\n"
     ]
    }
   ],
   "source": [
    "fill_na_for_none(\"GarageType\")"
   ]
  },
  {
   "cell_type": "markdown",
   "metadata": {},
   "source": [
    "<a id=\"GarageYrBlt\"></a>\n",
    "#### GarageYrBlt"
   ]
  },
  {
   "cell_type": "code",
   "execution_count": 77,
   "metadata": {},
   "outputs": [
    {
     "name": "stdout",
     "output_type": "stream",
     "text": [
      "GarageYrBlt: Year garage was built\n"
     ]
    }
   ],
   "source": [
    "get_detail(\"GarageYrBlt\")"
   ]
  },
  {
   "cell_type": "code",
   "execution_count": 78,
   "metadata": {},
   "outputs": [
    {
     "name": "stdout",
     "output_type": "stream",
     "text": [
      "81\n",
      "78\n"
     ]
    }
   ],
   "source": [
    "print(train[\"GarageYrBlt\"].isna().sum())\n",
    "print(test[\"GarageYrBlt\"].isna().sum())"
   ]
  },
  {
   "cell_type": "markdown",
   "metadata": {},
   "source": [
    "This one is a bit interesting. The column `GarageYrBlt` lists the year the garage was built in. Of course, if there is no garage to start with, the year build will be `NA`. The question is: should we use 0 to fill the missing values in this column? Let's have a look at the year these garages are built."
   ]
  },
  {
   "cell_type": "code",
   "execution_count": 79,
   "metadata": {},
   "outputs": [
    {
     "data": {
      "text/plain": [
       "count    1379.000000\n",
       "mean     1978.506164\n",
       "std        24.689725\n",
       "min      1900.000000\n",
       "25%      1961.000000\n",
       "50%      1980.000000\n",
       "75%      2002.000000\n",
       "max      2010.000000\n",
       "Name: GarageYrBlt, dtype: float64"
      ]
     },
     "execution_count": 79,
     "metadata": {},
     "output_type": "execute_result"
    }
   ],
   "source": [
    "train[\"GarageYrBlt\"].describe()"
   ]
  },
  {
   "cell_type": "markdown",
   "metadata": {},
   "source": [
    "These are built from 1900 to 2010.\n",
    "\n",
    "Now, as some of houses does not have garage, the value in column `GarageYrBlt` should be very far away from the values where the `GarageYrBlt` is not `NA`. So, we can safely replace `NA` with 0."
   ]
  },
  {
   "cell_type": "code",
   "execution_count": 80,
   "metadata": {},
   "outputs": [
    {
     "name": "stdout",
     "output_type": "stream",
     "text": [
      "Filling NaN for GarageYrBlt\n",
      "Percenatge of NA before...\n",
      "0.05547945205479452\n",
      "0.053461274845784786\n",
      "Percentage of NA after...\n",
      "0.0\n",
      "0.0\n"
     ]
    }
   ],
   "source": [
    "fill_na_for_none(\"GarageYrBlt\")"
   ]
  },
  {
   "cell_type": "markdown",
   "metadata": {},
   "source": [
    "This completes the cleaning of the `Garage` column."
   ]
  },
  {
   "cell_type": "markdown",
   "metadata": {},
   "source": [
    "<a id = \"KitchenQual\"></a>\n",
    "### KitchenQual"
   ]
  },
  {
   "cell_type": "code",
   "execution_count": 81,
   "metadata": {},
   "outputs": [
    {
     "name": "stdout",
     "output_type": "stream",
     "text": [
      "KitchenQual: Kitchen quality\n",
      "\n",
      "       Ex\tExcellent\n",
      "       Gd\tGood\n",
      "       TA\tTypical/Average\n",
      "       Fa\tFair\n",
      "       Po\tPoor\n"
     ]
    }
   ],
   "source": [
    "get_detail(\"KitchenQual\")"
   ]
  },
  {
   "cell_type": "code",
   "execution_count": 82,
   "metadata": {},
   "outputs": [
    {
     "name": "stdout",
     "output_type": "stream",
     "text": [
      "0\n",
      "1\n"
     ]
    }
   ],
   "source": [
    "print(train[\"KitchenQual\"].isna().sum())\n",
    "print(test[\"KitchenQual\"].isna().sum())"
   ]
  },
  {
   "cell_type": "markdown",
   "metadata": {},
   "source": [
    "Just one value in the test data is missing. We'll use the same method we used for `Exterior1st` column."
   ]
  },
  {
   "cell_type": "code",
   "execution_count": 83,
   "metadata": {},
   "outputs": [
    {
     "data": {
      "text/plain": [
       "(TA    735\n",
       " Gd    586\n",
       " Ex    100\n",
       " Fa     39\n",
       " Name: KitchenQual, dtype: int64,\n",
       " TA    757\n",
       " Gd    565\n",
       " Ex    105\n",
       " Fa     31\n",
       " Name: KitchenQual, dtype: int64)"
      ]
     },
     "execution_count": 83,
     "metadata": {},
     "output_type": "execute_result"
    }
   ],
   "source": [
    "train[\"KitchenQual\"].value_counts()[:5], test[\"KitchenQual\"].value_counts()[:5]"
   ]
  },
  {
   "cell_type": "code",
   "execution_count": 84,
   "metadata": {},
   "outputs": [],
   "source": [
    "train[\"KitchenQual\"].fillna(\"TA\", inplace = True)\n",
    "test[\"KitchenQual\"].fillna(\"TA\", inplace = True)"
   ]
  },
  {
   "cell_type": "code",
   "execution_count": 85,
   "metadata": {},
   "outputs": [
    {
     "name": "stdout",
     "output_type": "stream",
     "text": [
      "0\n",
      "0\n"
     ]
    }
   ],
   "source": [
    "print(train[\"KitchenQual\"].isna().sum())\n",
    "print(test[\"KitchenQual\"].isna().sum())"
   ]
  },
  {
   "cell_type": "markdown",
   "metadata": {},
   "source": [
    "<a id=\"LotFrontage\"></a>\n",
    "### LotFrontage"
   ]
  },
  {
   "cell_type": "code",
   "execution_count": 86,
   "metadata": {},
   "outputs": [
    {
     "name": "stdout",
     "output_type": "stream",
     "text": [
      "LotFrontage: Linear feet of street connected to property\n"
     ]
    }
   ],
   "source": [
    "get_detail(\"LotFrontage\")"
   ]
  },
  {
   "cell_type": "code",
   "execution_count": 87,
   "metadata": {},
   "outputs": [
    {
     "name": "stdout",
     "output_type": "stream",
     "text": [
      "259\n",
      "227\n"
     ]
    }
   ],
   "source": [
    "print(train[\"LotFrontage\"].isna().sum())\n",
    "print(test[\"LotFrontage\"].isna().sum())"
   ]
  },
  {
   "cell_type": "markdown",
   "metadata": {},
   "source": [
    "A lot of values are missing. This will be interesting. :)"
   ]
  },
  {
   "cell_type": "code",
   "execution_count": 88,
   "metadata": {},
   "outputs": [
    {
     "data": {
      "text/plain": [
       "count    1201.000000\n",
       "mean       70.049958\n",
       "std        24.284752\n",
       "min        21.000000\n",
       "25%        59.000000\n",
       "50%        69.000000\n",
       "75%        80.000000\n",
       "max       313.000000\n",
       "Name: LotFrontage, dtype: float64"
      ]
     },
     "execution_count": 88,
     "metadata": {},
     "output_type": "execute_result"
    }
   ],
   "source": [
    "train[\"LotFrontage\"].describe()"
   ]
  },
  {
   "cell_type": "markdown",
   "metadata": {},
   "source": [
    "The standard deviation and range of the values are huge. We can't use mean or some other statistical method to fill the missing values. The description of the column says: **Linear feet of street connected to property**. The dataset contains a column which gives *Physical locations within Ames city limits*. Also, we have the `MSZoning` column which *Identifies the general zoning classification of the sale* of the house. We will use these two columns to fill the missing values."
   ]
  },
  {
   "cell_type": "code",
   "execution_count": 89,
   "metadata": {},
   "outputs": [],
   "source": [
    "lotfrontage_train = train.groupby([\"Neighborhood\", \"MSZoning\"])[\"LotFrontage\"].mean()\n",
    "lotfrontage_test = test.groupby([\"Neighborhood\", \"MSZoning\"])[\"LotFrontage\"].mean()"
   ]
  },
  {
   "cell_type": "code",
   "execution_count": 90,
   "metadata": {},
   "outputs": [],
   "source": [
    "def lot_frontage_fill_train(row):\n",
    "\n",
    "    LotFrontage = str(row[\"LotFrontage\"]).lower()\n",
    "    if LotFrontage != \"nan\":\n",
    "        return float(LotFrontage)\n",
    "    neighborhood = row[\"Neighborhood\"]\n",
    "    mszoning = row[\"MSZoning\"]\n",
    "    try:\n",
    "        num = round(float(lotfrontage_train[(neighborhood, mszoning)]),2)\n",
    "    except:\n",
    "        num = None\n",
    "    return num\n",
    "\n",
    "def lot_frontage_fill_test(row):\n",
    "\n",
    "    LotFrontage = str(row[\"LotFrontage\"]).lower()\n",
    "    if LotFrontage != \"nan\":\n",
    "        return float(LotFrontage)\n",
    "    neighborhood = row[\"Neighborhood\"]\n",
    "    mszoning = row[\"MSZoning\"]\n",
    "    try:\n",
    "        num = round(float(lotfrontage_test[(neighborhood, mszoning)]),2)\n",
    "    except:\n",
    "        num = None\n",
    "    return num"
   ]
  },
  {
   "cell_type": "code",
   "execution_count": 91,
   "metadata": {},
   "outputs": [],
   "source": [
    "train[\"LotFrontage\"] =  train.apply(lot_frontage_fill_train, axis = 1)"
   ]
  },
  {
   "cell_type": "code",
   "execution_count": 92,
   "metadata": {},
   "outputs": [],
   "source": [
    "test[\"LotFrontage\"] =  test.apply(lot_frontage_fill_test, axis = 1)"
   ]
  },
  {
   "cell_type": "code",
   "execution_count": 93,
   "metadata": {},
   "outputs": [
    {
     "name": "stdout",
     "output_type": "stream",
     "text": [
      "1\n",
      "5\n"
     ]
    }
   ],
   "source": [
    "print(train[\"LotFrontage\"].isna().sum())\n",
    "print(test[\"LotFrontage\"].isna().sum())"
   ]
  },
  {
   "cell_type": "markdown",
   "metadata": {},
   "source": [
    "There are still some missing values. This is happening because we already had some missing values in both `lotfrontage_train` and `lotfrontage_test`. Now, since we have very few missing values, we'll just use the mean to fill them."
   ]
  },
  {
   "cell_type": "code",
   "execution_count": 94,
   "metadata": {},
   "outputs": [
    {
     "data": {
      "text/plain": [
       "(70.62, 69.29)"
      ]
     },
     "execution_count": 94,
     "metadata": {},
     "output_type": "execute_result"
    }
   ],
   "source": [
    "train_mean = round(train[\"LotFrontage\"].mean(),2)\n",
    "test_mean = round(test[\"LotFrontage\"].mean(),2)\n",
    "train_mean, test_mean"
   ]
  },
  {
   "cell_type": "code",
   "execution_count": 95,
   "metadata": {},
   "outputs": [],
   "source": [
    "train[\"LotFrontage\"].fillna(train_mean, inplace = True)\n",
    "test[\"LotFrontage\"].fillna(test_mean, inplace = True)"
   ]
  },
  {
   "cell_type": "code",
   "execution_count": 96,
   "metadata": {},
   "outputs": [
    {
     "name": "stdout",
     "output_type": "stream",
     "text": [
      "0\n",
      "0\n"
     ]
    }
   ],
   "source": [
    "print(train[\"LotFrontage\"].isna().sum())\n",
    "print(test[\"LotFrontage\"].isna().sum())"
   ]
  },
  {
   "cell_type": "markdown",
   "metadata": {},
   "source": [
    "Great! Onwards to Masonry veneer."
   ]
  },
  {
   "cell_type": "markdown",
   "metadata": {},
   "source": [
    "<a id = \"Masonry\"></a>\n",
    "### Masonry veneer"
   ]
  },
  {
   "cell_type": "markdown",
   "metadata": {},
   "source": [
    "<a id = \"MasVnrArea\"></a>\n",
    "#### MasVnrArea"
   ]
  },
  {
   "cell_type": "code",
   "execution_count": 97,
   "metadata": {},
   "outputs": [
    {
     "name": "stdout",
     "output_type": "stream",
     "text": [
      "MasVnrArea: Masonry veneer area in square feet\n"
     ]
    }
   ],
   "source": [
    "get_detail(\"MasVnrArea\")"
   ]
  },
  {
   "cell_type": "code",
   "execution_count": 98,
   "metadata": {},
   "outputs": [
    {
     "name": "stdout",
     "output_type": "stream",
     "text": [
      "8\n",
      "15\n"
     ]
    }
   ],
   "source": [
    "print(train[\"MasVnrArea\"].isna().sum())\n",
    "print(test[\"MasVnrArea\"].isna().sum())"
   ]
  },
  {
   "cell_type": "markdown",
   "metadata": {},
   "source": [
    "We can fill the `NA` values with 0."
   ]
  },
  {
   "cell_type": "code",
   "execution_count": 99,
   "metadata": {},
   "outputs": [
    {
     "name": "stdout",
     "output_type": "stream",
     "text": [
      "Filling NaN for MasVnrArea\n",
      "Percenatge of NA before...\n",
      "0.005479452054794521\n",
      "0.01028101439342015\n",
      "Percentage of NA after...\n",
      "0.0\n",
      "0.0\n"
     ]
    }
   ],
   "source": [
    "fill_na_for_none(\"MasVnrArea\")"
   ]
  },
  {
   "cell_type": "markdown",
   "metadata": {},
   "source": [
    "<a id = \"MasVnrType\"></a>\n",
    "#### MasVnrType"
   ]
  },
  {
   "cell_type": "code",
   "execution_count": 100,
   "metadata": {},
   "outputs": [
    {
     "name": "stdout",
     "output_type": "stream",
     "text": [
      "MasVnrType: Masonry veneer type\n",
      "\n",
      "       BrkCmn\tBrick Common\n",
      "       BrkFace\tBrick Face\n",
      "       CBlock\tCinder Block\n",
      "       None\tNone\n",
      "       Stone\tStone\n"
     ]
    }
   ],
   "source": [
    "get_detail(\"MasVnrType\")"
   ]
  },
  {
   "cell_type": "markdown",
   "metadata": {},
   "source": [
    "Here the `None` values are replaced with \"None\"."
   ]
  },
  {
   "cell_type": "code",
   "execution_count": 101,
   "metadata": {},
   "outputs": [
    {
     "name": "stdout",
     "output_type": "stream",
     "text": [
      "Filling NaN for MasVnrType\n",
      "Percenatge of NA before...\n",
      "0.005479452054794521\n",
      "0.010966415352981495\n",
      "Percentage of NA after...\n",
      "0.0\n",
      "0.0\n"
     ]
    }
   ],
   "source": [
    "fill_na_for_none(\"MasVnrType\")"
   ]
  },
  {
   "cell_type": "markdown",
   "metadata": {},
   "source": [
    "<a id=\"MiscFeature\"></a>\n",
    "### MiscFeature"
   ]
  },
  {
   "cell_type": "code",
   "execution_count": 102,
   "metadata": {},
   "outputs": [
    {
     "name": "stdout",
     "output_type": "stream",
     "text": [
      "MiscFeature: Miscellaneous feature not covered in other categories\n",
      "\t\t\n",
      "       Elev\tElevator\n",
      "       Gar2\t2nd Garage (if not described in garage section)\n",
      "       Othr\tOther\n",
      "       Shed\tShed (over 100 SF)\n",
      "       TenC\tTennis Court\n",
      "       NA\tNone\n"
     ]
    }
   ],
   "source": [
    "get_detail(\"MiscFeature\")"
   ]
  },
  {
   "cell_type": "markdown",
   "metadata": {},
   "source": [
    "Here, too, `NA` values can be filled with \"None\"."
   ]
  },
  {
   "cell_type": "code",
   "execution_count": 103,
   "metadata": {},
   "outputs": [
    {
     "name": "stdout",
     "output_type": "stream",
     "text": [
      "Filling NaN for MiscFeature\n",
      "Percenatge of NA before...\n",
      "0.963013698630137\n",
      "0.9650445510623715\n",
      "Percentage of NA after...\n",
      "0.0\n",
      "0.0\n"
     ]
    }
   ],
   "source": [
    "fill_na_for_none(\"MiscFeature\")"
   ]
  },
  {
   "cell_type": "markdown",
   "metadata": {},
   "source": [
    "<a id=\"PoolQC\"></a>\n",
    "### PoolQC"
   ]
  },
  {
   "cell_type": "code",
   "execution_count": 104,
   "metadata": {},
   "outputs": [
    {
     "name": "stdout",
     "output_type": "stream",
     "text": [
      "PoolQC: Pool quality\n",
      "\t\t\n",
      "       Ex\tExcellent\n",
      "       Gd\tGood\n",
      "       TA\tAverage/Typical\n",
      "       Fa\tFair\n",
      "       NA\tNo Pool\n"
     ]
    }
   ],
   "source": [
    "get_detail(\"PoolQC\")"
   ]
  },
  {
   "cell_type": "markdown",
   "metadata": {},
   "source": [
    "So, `NA` means no pool!"
   ]
  },
  {
   "cell_type": "code",
   "execution_count": 105,
   "metadata": {},
   "outputs": [
    {
     "name": "stdout",
     "output_type": "stream",
     "text": [
      "Filling NaN for PoolQC\n",
      "Percenatge of NA before...\n",
      "0.9952054794520548\n",
      "0.997943797121316\n",
      "Percentage of NA after...\n",
      "0.0\n",
      "0.0\n"
     ]
    }
   ],
   "source": [
    "fill_na_for_none(\"PoolQC\")"
   ]
  },
  {
   "cell_type": "markdown",
   "metadata": {},
   "source": [
    "<a id=\"SaleType\"></a>\n",
    "### SaleType"
   ]
  },
  {
   "cell_type": "code",
   "execution_count": 106,
   "metadata": {},
   "outputs": [
    {
     "name": "stdout",
     "output_type": "stream",
     "text": [
      "SaleType: Type of sale\n",
      "\t\t\n",
      "       WD \tWarranty Deed - Conventional\n",
      "       CWD\tWarranty Deed - Cash\n",
      "       VWD\tWarranty Deed - VA Loan\n",
      "       New\tHome just constructed and sold\n",
      "       COD\tCourt Officer Deed/Estate\n",
      "       Con\tContract 15% Down payment regular terms\n",
      "       ConLw\tContract Low Down payment and low interest\n",
      "       ConLI\tContract Low Interest\n",
      "       ConLD\tContract Low Down\n",
      "       Oth\tOther\n"
     ]
    }
   ],
   "source": [
    "get_detail(\"SaleType\")"
   ]
  },
  {
   "cell_type": "code",
   "execution_count": 107,
   "metadata": {},
   "outputs": [
    {
     "name": "stdout",
     "output_type": "stream",
     "text": [
      "0\n",
      "1\n"
     ]
    }
   ],
   "source": [
    "print(train[\"SaleType\"].isna().sum())\n",
    "print(test[\"SaleType\"].isna().sum())"
   ]
  },
  {
   "cell_type": "markdown",
   "metadata": {},
   "source": [
    "Just one missing value in test set. We can fill the `NA` with the most common value in the column."
   ]
  },
  {
   "cell_type": "code",
   "execution_count": 108,
   "metadata": {},
   "outputs": [
    {
     "data": {
      "text/plain": [
       "WD       1258\n",
       "New       117\n",
       "COD        44\n",
       "ConLD      17\n",
       "CWD         8\n",
       "ConLI       4\n",
       "Oth         4\n",
       "ConLw       3\n",
       "Con         3\n",
       "Name: SaleType, dtype: int64"
      ]
     },
     "execution_count": 108,
     "metadata": {},
     "output_type": "execute_result"
    }
   ],
   "source": [
    "test[\"SaleType\"].value_counts()"
   ]
  },
  {
   "cell_type": "code",
   "execution_count": 109,
   "metadata": {},
   "outputs": [],
   "source": [
    "test[\"SaleType\"].fillna(\"WD\", inplace = True)"
   ]
  },
  {
   "cell_type": "code",
   "execution_count": 110,
   "metadata": {},
   "outputs": [
    {
     "name": "stdout",
     "output_type": "stream",
     "text": [
      "0\n",
      "0\n"
     ]
    }
   ],
   "source": [
    "print(train[\"SaleType\"].isna().sum())\n",
    "print(test[\"SaleType\"].isna().sum())"
   ]
  },
  {
   "cell_type": "markdown",
   "metadata": {},
   "source": [
    "<a id=\"Utilities\"></a>\n",
    "### Utilities"
   ]
  },
  {
   "cell_type": "code",
   "execution_count": 111,
   "metadata": {},
   "outputs": [
    {
     "name": "stdout",
     "output_type": "stream",
     "text": [
      "Utilities: Type of utilities available\n",
      "\t\t\n",
      "       AllPub\tAll public Utilities (E,G,W,& S)\t\n",
      "       NoSewr\tElectricity, Gas, and Water (Septic Tank)\n",
      "       NoSeWa\tElectricity and Gas Only\n",
      "       ELO\tElectricity only\t\n"
     ]
    }
   ],
   "source": [
    "get_detail(\"Utilities\")"
   ]
  },
  {
   "cell_type": "code",
   "execution_count": 112,
   "metadata": {},
   "outputs": [
    {
     "name": "stdout",
     "output_type": "stream",
     "text": [
      "0\n",
      "2\n"
     ]
    }
   ],
   "source": [
    "print(train[\"Utilities\"].isna().sum())\n",
    "print(test[\"Utilities\"].isna().sum())"
   ]
  },
  {
   "cell_type": "markdown",
   "metadata": {},
   "source": [
    "Just two missing values in test set. Again, we will fill the `NA` with the most common value."
   ]
  },
  {
   "cell_type": "code",
   "execution_count": 113,
   "metadata": {},
   "outputs": [
    {
     "data": {
      "text/plain": [
       "AllPub    1457\n",
       "Name: Utilities, dtype: int64"
      ]
     },
     "execution_count": 113,
     "metadata": {},
     "output_type": "execute_result"
    }
   ],
   "source": [
    "test[\"Utilities\"].value_counts()"
   ]
  },
  {
   "cell_type": "code",
   "execution_count": 114,
   "metadata": {},
   "outputs": [],
   "source": [
    "test[\"Utilities\"].fillna(\"AllPub\", inplace = True)"
   ]
  },
  {
   "cell_type": "markdown",
   "metadata": {},
   "source": [
    "<a id=\"MSZoning\"></a>\n",
    "### MSZoning"
   ]
  },
  {
   "cell_type": "code",
   "execution_count": 126,
   "metadata": {},
   "outputs": [
    {
     "name": "stdout",
     "output_type": "stream",
     "text": [
      "MSZoning: Identifies the general zoning classification of the sale.\n",
      "\t\t\n",
      "       A\tAgriculture\n",
      "       C\tCommercial\n",
      "       FV\tFloating Village Residential\n",
      "       I\tIndustrial\n",
      "       RH\tResidential High Density\n",
      "       RL\tResidential Low Density\n",
      "       RP\tResidential Low Density Park \n",
      "       RM\tResidential Medium Density\n"
     ]
    }
   ],
   "source": [
    "get_detail(\"MSZoning\")"
   ]
  },
  {
   "cell_type": "code",
   "execution_count": 129,
   "metadata": {},
   "outputs": [
    {
     "data": {
      "text/plain": [
       "RL         1114\n",
       "RM          242\n",
       "FV           74\n",
       "C (all)      15\n",
       "RH           10\n",
       "Name: MSZoning, dtype: int64"
      ]
     },
     "execution_count": 129,
     "metadata": {},
     "output_type": "execute_result"
    }
   ],
   "source": [
    "test[\"MSZoning\"].value_counts()[:5]"
   ]
  },
  {
   "cell_type": "code",
   "execution_count": 131,
   "metadata": {},
   "outputs": [
    {
     "data": {
      "text/plain": [
       "4"
      ]
     },
     "execution_count": 131,
     "metadata": {},
     "output_type": "execute_result"
    }
   ],
   "source": [
    "test[\"MSZoning\"].isnull().sum()"
   ]
  },
  {
   "cell_type": "markdown",
   "metadata": {},
   "source": [
    "There are just four missing values. We'll fill them with the most common value, that is, with \"RL\"."
   ]
  },
  {
   "cell_type": "code",
   "execution_count": 133,
   "metadata": {},
   "outputs": [],
   "source": [
    "test[\"MSZoning\"].fillna(\"RL\", inplace = True)"
   ]
  },
  {
   "cell_type": "markdown",
   "metadata": {},
   "source": [
    "<a id=\"Electrical\"></a>\n",
    "### Electrical"
   ]
  },
  {
   "cell_type": "markdown",
   "metadata": {},
   "source": [
    "I almost forgot this. This is the one exceptional column where we have a missing value in the train set but not in test set. Let's deal with it."
   ]
  },
  {
   "cell_type": "code",
   "execution_count": 115,
   "metadata": {},
   "outputs": [
    {
     "name": "stdout",
     "output_type": "stream",
     "text": [
      "Electrical: Electrical system\n",
      "\n",
      "       SBrkr\tStandard Circuit Breakers & Romex\n",
      "       FuseA\tFuse Box over 60 AMP and all Romex wiring (Average)\t\n",
      "       FuseF\t60 AMP Fuse Box and mostly Romex wiring (Fair)\n",
      "       FuseP\t60 AMP Fuse Box and mostly knob & tube wiring (poor)\n",
      "       Mix\tMixed\n"
     ]
    }
   ],
   "source": [
    "get_detail(\"Electrical\")"
   ]
  },
  {
   "cell_type": "code",
   "execution_count": 116,
   "metadata": {},
   "outputs": [
    {
     "data": {
      "text/plain": [
       "SBrkr    1334\n",
       "FuseA      94\n",
       "FuseF      27\n",
       "FuseP       3\n",
       "Mix         1\n",
       "Name: Electrical, dtype: int64"
      ]
     },
     "execution_count": 116,
     "metadata": {},
     "output_type": "execute_result"
    }
   ],
   "source": [
    "train[\"Electrical\"].value_counts()[:5]"
   ]
  },
  {
   "cell_type": "markdown",
   "metadata": {},
   "source": [
    "Since there is just one missing value, we'll just fill it with the most common value."
   ]
  },
  {
   "cell_type": "code",
   "execution_count": 117,
   "metadata": {},
   "outputs": [],
   "source": [
    "train[\"Electrical\"].fillna(\"SBrkr\", inplace = True)"
   ]
  },
  {
   "cell_type": "code",
   "execution_count": 118,
   "metadata": {},
   "outputs": [
    {
     "name": "stdout",
     "output_type": "stream",
     "text": [
      "0\n",
      "0\n"
     ]
    }
   ],
   "source": [
    "print(train[\"Electrical\"].isna().sum())\n",
    "print(test[\"Electrical\"].isna().sum())"
   ]
  },
  {
   "cell_type": "markdown",
   "metadata": {},
   "source": [
    "<a id=\"final-thoughts\"></a>\n",
    "## Final Thoughts"
   ]
  },
  {
   "cell_type": "markdown",
   "metadata": {},
   "source": [
    "Let's do a sanity check."
   ]
  },
  {
   "cell_type": "code",
   "execution_count": 119,
   "metadata": {},
   "outputs": [
    {
     "data": {
      "text/plain": [
       "Series([], dtype: int64)"
      ]
     },
     "execution_count": 119,
     "metadata": {},
     "output_type": "execute_result"
    }
   ],
   "source": [
    "train.isna().sum()[train.isna().sum() != 0]"
   ]
  },
  {
   "cell_type": "code",
   "execution_count": 134,
   "metadata": {},
   "outputs": [
    {
     "data": {
      "text/plain": [
       "Series([], dtype: int64)"
      ]
     },
     "execution_count": 134,
     "metadata": {},
     "output_type": "execute_result"
    }
   ],
   "source": [
    "test.isna().sum()[test.isna().sum() != 0]"
   ]
  },
  {
   "cell_type": "markdown",
   "metadata": {},
   "source": [
    "Great! It seems there is no missing value in both the train set and test set.\n",
    "\n",
    "Next step is EDA and Data Engineering."
   ]
  },
  {
   "cell_type": "markdown",
   "metadata": {},
   "source": [
    "Note that there are a lot of repetations in what we did. One of the reason for this is the fact that we dealt with the columns with missing values one by one as we did not know what type of beahaviour we should expect. Now that we know it, we can write a function to automat a lot of task we did. For example, the columns which we filled the `NA` values as \"None\" or 0 can be filled automatically by making a list of these columns and running our function `fill_na_with_none` on them. We can make a similar function for filling the values by the most common value in that column to deal with some of the other columns that we encountered, like `Electrical`, `Utilities` etc.. This will considerably reduce the amount of code we have to write."
   ]
  },
  {
   "cell_type": "markdown",
   "metadata": {},
   "source": [
    "Let's save the dataframes to a csv file."
   ]
  },
  {
   "cell_type": "code",
   "execution_count": 135,
   "metadata": {},
   "outputs": [],
   "source": [
    "train.to_csv(\"data/train_cleaned.csv\", index = False)\n",
    "test.to_csv(\"data/test_cleaned.csv\", index = False)"
   ]
  },
  {
   "cell_type": "code",
   "execution_count": null,
   "metadata": {},
   "outputs": [],
   "source": []
  }
 ],
 "metadata": {
  "interpreter": {
   "hash": "852f6817c374c63ade76971e91c27771dd3e6e8efc4a3caead6137c0182519f6"
  },
  "kernelspec": {
   "display_name": "Python 3.8.5 64-bit ('data_sciences': conda)",
   "language": "python",
   "name": "python3"
  },
  "language_info": {
   "codemirror_mode": {
    "name": "ipython",
    "version": 3
   },
   "file_extension": ".py",
   "mimetype": "text/x-python",
   "name": "python",
   "nbconvert_exporter": "python",
   "pygments_lexer": "ipython3",
   "version": "3.8.5"
  },
  "orig_nbformat": 4
 },
 "nbformat": 4,
 "nbformat_minor": 2
}
