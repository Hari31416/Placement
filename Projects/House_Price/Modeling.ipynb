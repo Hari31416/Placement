{
 "cells": [
  {
   "cell_type": "markdown",
   "metadata": {},
   "source": [
    "<table class=\"tfo-notebook-buttons\" align=\"left\">\n",
    "<td style=\"border: none;\">\n",
    "<a target=\"blank\" href=\"https://colab.research.google.com/github/Hari31416/Portfolio/blob/main/ML/Housing_Price/Modeling.ipynb?hl=en\"><img src=\"https://colab.research.google.com/img/colab_favicon_256px.png\" width=\"28\" height=\"28\"/>Run on Google Colab</a></td>\n",
    "<td style=\"border: none;\">\n",
    "<a target=\"blank\" href=\"https://github.com/Hari31416/Portfolio/blob/main/Housing_Price/ML/Modeling.ipynb\"><img src=\"https://cdn.icon-icons.com/icons2/2368/PNG/512/github_logo_icon_143772.png\" width=\"28\" height=\"28\"/>View on Github</a></td>\n",
    "<td style=\"border: none;\">\n",
    "</table>"
   ]
  },
  {
   "cell_type": "markdown",
   "metadata": {},
   "source": [
    "# Imports"
   ]
  },
  {
   "cell_type": "code",
   "execution_count": 74,
   "metadata": {},
   "outputs": [],
   "source": [
    "import pandas as pd\n",
    "import numpy as np\n",
    "import matplotlib.pyplot as plt\n",
    "\n",
    "from sklearn.linear_model import LinearRegression, ElasticNet, Lasso, Ridge\n",
    "from sklearn.ensemble import RandomForestRegressor, GradientBoostingRegressor, VotingRegressor\n",
    "from xgboost import XGBRegressor\n",
    "from sklearn.model_selection import train_test_split, cross_val_score, GridSearchCV\n",
    "from sklearn.preprocessing import PolynomialFeatures\n",
    "from sklearn.svm import SVR\n",
    "from sklearn.metrics import mean_squared_error, r2_score, mean_squared_log_error\n"
   ]
  },
  {
   "cell_type": "markdown",
   "metadata": {},
   "source": [
    "# Preprocessing"
   ]
  },
  {
   "cell_type": "markdown",
   "metadata": {},
   "source": [
    "## Loading The Data"
   ]
  },
  {
   "cell_type": "markdown",
   "metadata": {},
   "source": [
    "Let's start by loading the data."
   ]
  },
  {
   "cell_type": "code",
   "execution_count": 2,
   "metadata": {},
   "outputs": [],
   "source": [
    "X = pd.read_csv('data/train_final.csv')\n",
    "test = pd.read_csv('data/test_final.csv')\n",
    "y = pd.read_csv('data/y.csv')"
   ]
  },
  {
   "cell_type": "markdown",
   "metadata": {},
   "source": [
    "Next step is to create the train and test sets as the data is already normalized."
   ]
  },
  {
   "cell_type": "markdown",
   "metadata": {},
   "source": [
    "## Making The Train and Test Sets"
   ]
  },
  {
   "cell_type": "code",
   "execution_count": 3,
   "metadata": {},
   "outputs": [
    {
     "data": {
      "text/plain": [
       "1460"
      ]
     },
     "execution_count": 3,
     "metadata": {},
     "output_type": "execute_result"
    }
   ],
   "source": [
    "len(X)"
   ]
  },
  {
   "cell_type": "markdown",
   "metadata": {},
   "source": [
    "We see that we have just 1460 training examles. So, we should not be using a lot of examples for the test set. ABout 150 examples have to suffice."
   ]
  },
  {
   "cell_type": "code",
   "execution_count": 4,
   "metadata": {},
   "outputs": [
    {
     "data": {
      "text/plain": [
       "(1168, 292)"
      ]
     },
     "execution_count": 4,
     "metadata": {},
     "output_type": "execute_result"
    }
   ],
   "source": [
    "X_train, X_test, y_train, y_test = train_test_split(X, y, test_size=0.20, random_state=42)\n",
    "len(X_train), len(X_test)"
   ]
  },
  {
   "cell_type": "markdown",
   "metadata": {},
   "source": [
    "# Modeling"
   ]
  },
  {
   "cell_type": "markdown",
   "metadata": {},
   "source": [
    "## Creating Some Functions"
   ]
  },
  {
   "cell_type": "code",
   "execution_count": 5,
   "metadata": {},
   "outputs": [],
   "source": [
    "def evaluate_model(y_true, y_pred = None, model=None, X_test=None):\n",
    "    \"\"\"\n",
    "    Evaluates a model by computing the mean squared error and the r2 score.\n",
    "\n",
    "    Parameters\n",
    "    ----------\n",
    "    y_true : pandas.Series\n",
    "        The true values of the target variable.\n",
    "    y_pred : pandas.Series\n",
    "        The predicted values of the target variable.\n",
    "        if None, the model is evaluated on the test set. `model` and `X_test` must be provided.\n",
    "    model : sklearn.linear_model.LinearRegression\n",
    "        The model to evaluate. Optional if `y_pred` is provided.\n",
    "    X_test : pandas.DataFrame\n",
    "        The test set. Optional if `y_pred` is provided.\n",
    "\n",
    "    Returns\n",
    "    -------\n",
    "    rmse : float\n",
    "        The root mean squared error.\n",
    "    r2 : float\n",
    "        The r2 score.\n",
    "    rmsle : float\n",
    "        The root mean squared log error.\n",
    "    \"\"\"\n",
    "    rmse = mean_squared_error(y_true, np.abs(y_pred))**0.5\n",
    "    r_score = r2_score(y_true, y_pred)\n",
    "    rmsle = mean_squared_log_error(y_true, np.abs(y_pred))**0.5\n",
    "    result = {'rmse': rmse, 'r2': r_score, 'rmsle': rmsle}\n",
    "    print('RMSE:', rmse)\n",
    "    print('RMSLE:', rmsle)\n",
    "    print('R2:', r_score)\n",
    "    return result"
   ]
  },
  {
   "cell_type": "markdown",
   "metadata": {},
   "source": [
    "## The Base Model"
   ]
  },
  {
   "cell_type": "markdown",
   "metadata": {},
   "source": [
    "Let's create a base model. We'll use a linear regression model with default parameters for this"
   ]
  },
  {
   "cell_type": "code",
   "execution_count": 6,
   "metadata": {},
   "outputs": [
    {
     "data": {
      "text/html": [
       "<style>#sk-container-id-1 {color: black;background-color: white;}#sk-container-id-1 pre{padding: 0;}#sk-container-id-1 div.sk-toggleable {background-color: white;}#sk-container-id-1 label.sk-toggleable__label {cursor: pointer;display: block;width: 100%;margin-bottom: 0;padding: 0.3em;box-sizing: border-box;text-align: center;}#sk-container-id-1 label.sk-toggleable__label-arrow:before {content: \"▸\";float: left;margin-right: 0.25em;color: #696969;}#sk-container-id-1 label.sk-toggleable__label-arrow:hover:before {color: black;}#sk-container-id-1 div.sk-estimator:hover label.sk-toggleable__label-arrow:before {color: black;}#sk-container-id-1 div.sk-toggleable__content {max-height: 0;max-width: 0;overflow: hidden;text-align: left;background-color: #f0f8ff;}#sk-container-id-1 div.sk-toggleable__content pre {margin: 0.2em;color: black;border-radius: 0.25em;background-color: #f0f8ff;}#sk-container-id-1 input.sk-toggleable__control:checked~div.sk-toggleable__content {max-height: 200px;max-width: 100%;overflow: auto;}#sk-container-id-1 input.sk-toggleable__control:checked~label.sk-toggleable__label-arrow:before {content: \"▾\";}#sk-container-id-1 div.sk-estimator input.sk-toggleable__control:checked~label.sk-toggleable__label {background-color: #d4ebff;}#sk-container-id-1 div.sk-label input.sk-toggleable__control:checked~label.sk-toggleable__label {background-color: #d4ebff;}#sk-container-id-1 input.sk-hidden--visually {border: 0;clip: rect(1px 1px 1px 1px);clip: rect(1px, 1px, 1px, 1px);height: 1px;margin: -1px;overflow: hidden;padding: 0;position: absolute;width: 1px;}#sk-container-id-1 div.sk-estimator {font-family: monospace;background-color: #f0f8ff;border: 1px dotted black;border-radius: 0.25em;box-sizing: border-box;margin-bottom: 0.5em;}#sk-container-id-1 div.sk-estimator:hover {background-color: #d4ebff;}#sk-container-id-1 div.sk-parallel-item::after {content: \"\";width: 100%;border-bottom: 1px solid gray;flex-grow: 1;}#sk-container-id-1 div.sk-label:hover label.sk-toggleable__label {background-color: #d4ebff;}#sk-container-id-1 div.sk-serial::before {content: \"\";position: absolute;border-left: 1px solid gray;box-sizing: border-box;top: 0;bottom: 0;left: 50%;z-index: 0;}#sk-container-id-1 div.sk-serial {display: flex;flex-direction: column;align-items: center;background-color: white;padding-right: 0.2em;padding-left: 0.2em;position: relative;}#sk-container-id-1 div.sk-item {position: relative;z-index: 1;}#sk-container-id-1 div.sk-parallel {display: flex;align-items: stretch;justify-content: center;background-color: white;position: relative;}#sk-container-id-1 div.sk-item::before, #sk-container-id-1 div.sk-parallel-item::before {content: \"\";position: absolute;border-left: 1px solid gray;box-sizing: border-box;top: 0;bottom: 0;left: 50%;z-index: -1;}#sk-container-id-1 div.sk-parallel-item {display: flex;flex-direction: column;z-index: 1;position: relative;background-color: white;}#sk-container-id-1 div.sk-parallel-item:first-child::after {align-self: flex-end;width: 50%;}#sk-container-id-1 div.sk-parallel-item:last-child::after {align-self: flex-start;width: 50%;}#sk-container-id-1 div.sk-parallel-item:only-child::after {width: 0;}#sk-container-id-1 div.sk-dashed-wrapped {border: 1px dashed gray;margin: 0 0.4em 0.5em 0.4em;box-sizing: border-box;padding-bottom: 0.4em;background-color: white;}#sk-container-id-1 div.sk-label label {font-family: monospace;font-weight: bold;display: inline-block;line-height: 1.2em;}#sk-container-id-1 div.sk-label-container {text-align: center;}#sk-container-id-1 div.sk-container {/* jupyter's `normalize.less` sets `[hidden] { display: none; }` but bootstrap.min.css set `[hidden] { display: none !important; }` so we also need the `!important` here to be able to override the default hidden behavior on the sphinx rendered scikit-learn.org. See: https://github.com/scikit-learn/scikit-learn/issues/21755 */display: inline-block !important;position: relative;}#sk-container-id-1 div.sk-text-repr-fallback {display: none;}</style><div id=\"sk-container-id-1\" class=\"sk-top-container\"><div class=\"sk-text-repr-fallback\"><pre>LinearRegression()</pre><b>In a Jupyter environment, please rerun this cell to show the HTML representation or trust the notebook. <br />On GitHub, the HTML representation is unable to render, please try loading this page with nbviewer.org.</b></div><div class=\"sk-container\" hidden><div class=\"sk-item\"><div class=\"sk-estimator sk-toggleable\"><input class=\"sk-toggleable__control sk-hidden--visually\" id=\"sk-estimator-id-1\" type=\"checkbox\" checked><label for=\"sk-estimator-id-1\" class=\"sk-toggleable__label sk-toggleable__label-arrow\">LinearRegression</label><div class=\"sk-toggleable__content\"><pre>LinearRegression()</pre></div></div></div></div></div>"
      ],
      "text/plain": [
       "LinearRegression()"
      ]
     },
     "execution_count": 6,
     "metadata": {},
     "output_type": "execute_result"
    }
   ],
   "source": [
    "lr_base = LinearRegression()\n",
    "lr_base.fit(X_train, y_train)"
   ]
  },
  {
   "cell_type": "code",
   "execution_count": 7,
   "metadata": {},
   "outputs": [
    {
     "name": "stdout",
     "output_type": "stream",
     "text": [
      "RMSE: 32138.47833846781\n",
      "RMSLE: 0.1541983866756769\n",
      "R2: 0.8653405654450067\n"
     ]
    }
   ],
   "source": [
    "y_pred = lr_base.predict(X_test)\n",
    "base_model_result = evaluate_model(y_test, y_pred)"
   ]
  },
  {
   "cell_type": "code",
   "execution_count": 8,
   "metadata": {},
   "outputs": [
    {
     "name": "stdout",
     "output_type": "stream",
     "text": [
      "RMSE: 29118.759892183152\n",
      "RMSLE: 0.15192016521373325\n",
      "R2: 0.8578430688532068\n"
     ]
    },
    {
     "data": {
      "text/plain": [
       "{'rmse': 29118.759892183152,\n",
       " 'r2': 0.8578430688532068,\n",
       " 'rmsle': 0.15192016521373325}"
      ]
     },
     "execution_count": 8,
     "metadata": {},
     "output_type": "execute_result"
    }
   ],
   "source": [
    "y_pred = lr_base.predict(X_train)\n",
    "evaluate_model(y_train, y_pred)"
   ]
  },
  {
   "cell_type": "markdown",
   "metadata": {},
   "source": [
    "Now, as our base model is here, we can start experimenting."
   ]
  },
  {
   "cell_type": "markdown",
   "metadata": {},
   "source": [
    "## Polynomial Model"
   ]
  },
  {
   "cell_type": "markdown",
   "metadata": {},
   "source": [
    "Let's fit a polynomial model of order 2 on the training data."
   ]
  },
  {
   "cell_type": "code",
   "execution_count": 9,
   "metadata": {},
   "outputs": [],
   "source": [
    "pf = PolynomialFeatures(degree=2)\n",
    "X_train_pf = pf.fit_transform(X_train)\n",
    "X_test_pf = pf.fit_transform(X_test)"
   ]
  },
  {
   "cell_type": "code",
   "execution_count": 10,
   "metadata": {},
   "outputs": [
    {
     "data": {
      "text/html": [
       "<style>#sk-container-id-2 {color: black;background-color: white;}#sk-container-id-2 pre{padding: 0;}#sk-container-id-2 div.sk-toggleable {background-color: white;}#sk-container-id-2 label.sk-toggleable__label {cursor: pointer;display: block;width: 100%;margin-bottom: 0;padding: 0.3em;box-sizing: border-box;text-align: center;}#sk-container-id-2 label.sk-toggleable__label-arrow:before {content: \"▸\";float: left;margin-right: 0.25em;color: #696969;}#sk-container-id-2 label.sk-toggleable__label-arrow:hover:before {color: black;}#sk-container-id-2 div.sk-estimator:hover label.sk-toggleable__label-arrow:before {color: black;}#sk-container-id-2 div.sk-toggleable__content {max-height: 0;max-width: 0;overflow: hidden;text-align: left;background-color: #f0f8ff;}#sk-container-id-2 div.sk-toggleable__content pre {margin: 0.2em;color: black;border-radius: 0.25em;background-color: #f0f8ff;}#sk-container-id-2 input.sk-toggleable__control:checked~div.sk-toggleable__content {max-height: 200px;max-width: 100%;overflow: auto;}#sk-container-id-2 input.sk-toggleable__control:checked~label.sk-toggleable__label-arrow:before {content: \"▾\";}#sk-container-id-2 div.sk-estimator input.sk-toggleable__control:checked~label.sk-toggleable__label {background-color: #d4ebff;}#sk-container-id-2 div.sk-label input.sk-toggleable__control:checked~label.sk-toggleable__label {background-color: #d4ebff;}#sk-container-id-2 input.sk-hidden--visually {border: 0;clip: rect(1px 1px 1px 1px);clip: rect(1px, 1px, 1px, 1px);height: 1px;margin: -1px;overflow: hidden;padding: 0;position: absolute;width: 1px;}#sk-container-id-2 div.sk-estimator {font-family: monospace;background-color: #f0f8ff;border: 1px dotted black;border-radius: 0.25em;box-sizing: border-box;margin-bottom: 0.5em;}#sk-container-id-2 div.sk-estimator:hover {background-color: #d4ebff;}#sk-container-id-2 div.sk-parallel-item::after {content: \"\";width: 100%;border-bottom: 1px solid gray;flex-grow: 1;}#sk-container-id-2 div.sk-label:hover label.sk-toggleable__label {background-color: #d4ebff;}#sk-container-id-2 div.sk-serial::before {content: \"\";position: absolute;border-left: 1px solid gray;box-sizing: border-box;top: 0;bottom: 0;left: 50%;z-index: 0;}#sk-container-id-2 div.sk-serial {display: flex;flex-direction: column;align-items: center;background-color: white;padding-right: 0.2em;padding-left: 0.2em;position: relative;}#sk-container-id-2 div.sk-item {position: relative;z-index: 1;}#sk-container-id-2 div.sk-parallel {display: flex;align-items: stretch;justify-content: center;background-color: white;position: relative;}#sk-container-id-2 div.sk-item::before, #sk-container-id-2 div.sk-parallel-item::before {content: \"\";position: absolute;border-left: 1px solid gray;box-sizing: border-box;top: 0;bottom: 0;left: 50%;z-index: -1;}#sk-container-id-2 div.sk-parallel-item {display: flex;flex-direction: column;z-index: 1;position: relative;background-color: white;}#sk-container-id-2 div.sk-parallel-item:first-child::after {align-self: flex-end;width: 50%;}#sk-container-id-2 div.sk-parallel-item:last-child::after {align-self: flex-start;width: 50%;}#sk-container-id-2 div.sk-parallel-item:only-child::after {width: 0;}#sk-container-id-2 div.sk-dashed-wrapped {border: 1px dashed gray;margin: 0 0.4em 0.5em 0.4em;box-sizing: border-box;padding-bottom: 0.4em;background-color: white;}#sk-container-id-2 div.sk-label label {font-family: monospace;font-weight: bold;display: inline-block;line-height: 1.2em;}#sk-container-id-2 div.sk-label-container {text-align: center;}#sk-container-id-2 div.sk-container {/* jupyter's `normalize.less` sets `[hidden] { display: none; }` but bootstrap.min.css set `[hidden] { display: none !important; }` so we also need the `!important` here to be able to override the default hidden behavior on the sphinx rendered scikit-learn.org. See: https://github.com/scikit-learn/scikit-learn/issues/21755 */display: inline-block !important;position: relative;}#sk-container-id-2 div.sk-text-repr-fallback {display: none;}</style><div id=\"sk-container-id-2\" class=\"sk-top-container\"><div class=\"sk-text-repr-fallback\"><pre>LinearRegression()</pre><b>In a Jupyter environment, please rerun this cell to show the HTML representation or trust the notebook. <br />On GitHub, the HTML representation is unable to render, please try loading this page with nbviewer.org.</b></div><div class=\"sk-container\" hidden><div class=\"sk-item\"><div class=\"sk-estimator sk-toggleable\"><input class=\"sk-toggleable__control sk-hidden--visually\" id=\"sk-estimator-id-2\" type=\"checkbox\" checked><label for=\"sk-estimator-id-2\" class=\"sk-toggleable__label sk-toggleable__label-arrow\">LinearRegression</label><div class=\"sk-toggleable__content\"><pre>LinearRegression()</pre></div></div></div></div></div>"
      ],
      "text/plain": [
       "LinearRegression()"
      ]
     },
     "execution_count": 10,
     "metadata": {},
     "output_type": "execute_result"
    }
   ],
   "source": [
    "lr_pf = LinearRegression()\n",
    "lr_pf.fit(X_train_pf, y_train)\n"
   ]
  },
  {
   "cell_type": "code",
   "execution_count": 11,
   "metadata": {},
   "outputs": [
    {
     "name": "stdout",
     "output_type": "stream",
     "text": [
      "RMSE: 62383.446792123694\n",
      "RMSLE: 0.6513896550335707\n",
      "R2: 0.45445931058852507\n"
     ]
    }
   ],
   "source": [
    "y_pred = lr_pf.predict(X_test_pf)\n",
    "poly_reg_result =  evaluate_model(y_test, y_pred)"
   ]
  },
  {
   "cell_type": "code",
   "execution_count": 12,
   "metadata": {},
   "outputs": [
    {
     "name": "stdout",
     "output_type": "stream",
     "text": [
      "RMSE: 62383.446792123694\n",
      "RMSLE: 0.6513896550335707\n",
      "R2: 0.49262986624751437\n"
     ]
    }
   ],
   "source": [
    "y_pred = lr_pf.predict(X_test_pf)\n",
    "y_pred = np.abs(y_pred)\n",
    "poly_reg_result =  evaluate_model(y_test, y_pred)"
   ]
  },
  {
   "cell_type": "markdown",
   "metadata": {},
   "source": [
    "It is performing worse than the base model. What's more, sometimes, the model in return negative values for the predictions."
   ]
  },
  {
   "cell_type": "code",
   "execution_count": 13,
   "metadata": {},
   "outputs": [
    {
     "name": "stdout",
     "output_type": "stream",
     "text": [
      "RMSE: 171.7282218850227\n",
      "RMSLE: 0.0011835439871835081\n",
      "R2: 0.9999950556906533\n"
     ]
    },
    {
     "data": {
      "text/plain": [
       "{'rmse': 171.7282218850227,\n",
       " 'r2': 0.9999950556906533,\n",
       " 'rmsle': 0.0011835439871835081}"
      ]
     },
     "execution_count": 13,
     "metadata": {},
     "output_type": "execute_result"
    }
   ],
   "source": [
    "evaluate_model(y_train, lr_pf.predict(X_train_pf))"
   ]
  },
  {
   "cell_type": "markdown",
   "metadata": {},
   "source": [
    "So this is why the model is perfoming this terribly on test set. The model is overfitting quite severely. Let's try some regularization techniques and grid search to find the best parameters."
   ]
  },
  {
   "cell_type": "markdown",
   "metadata": {},
   "source": [
    "#### First Iteration"
   ]
  },
  {
   "cell_type": "code",
   "execution_count": 14,
   "metadata": {},
   "outputs": [
    {
     "name": "stdout",
     "output_type": "stream",
     "text": [
      "Fitting 3 folds for each of 25 candidates, totalling 75 fits\n",
      "[CV 2/3; 1/25] START alpha=0.01, l1_ratio=0.1...................................\n",
      "[CV 1/3; 1/25] START alpha=0.01, l1_ratio=0.1...................................\n",
      "[CV 1/3; 2/25] START alpha=0.01, l1_ratio=0.3...................................\n",
      "[CV 3/3; 1/25] START alpha=0.01, l1_ratio=0.1...................................\n"
     ]
    },
    {
     "name": "stderr",
     "output_type": "stream",
     "text": [
      "/home/hari31416/anaconda3/envs/data-science/lib/python3.9/site-packages/sklearn/linear_model/_coordinate_descent.py:648: ConvergenceWarning: Objective did not converge. You might want to increase the number of iterations, check the scale of the features or consider increasing regularisation. Duality gap: 8.065e+09, tolerance: 4.477e+08\n",
      "  model = cd_fast.enet_coordinate_descent(\n"
     ]
    },
    {
     "name": "stdout",
     "output_type": "stream",
     "text": [
      "[CV 2/3; 1/25] END alpha=0.01, l1_ratio=0.1;, score=-1954858119.514 total time= 3.0min\n",
      "[CV 2/3; 2/25] START alpha=0.01, l1_ratio=0.3...................................\n"
     ]
    },
    {
     "name": "stderr",
     "output_type": "stream",
     "text": [
      "/home/hari31416/anaconda3/envs/data-science/lib/python3.9/site-packages/sklearn/linear_model/_coordinate_descent.py:648: ConvergenceWarning: Objective did not converge. You might want to increase the number of iterations, check the scale of the features or consider increasing regularisation. Duality gap: 8.751e+09, tolerance: 4.483e+08\n",
      "  model = cd_fast.enet_coordinate_descent(\n"
     ]
    },
    {
     "name": "stdout",
     "output_type": "stream",
     "text": [
      "[CV 1/3; 2/25] END alpha=0.01, l1_ratio=0.3;, score=-4530104101.416 total time= 3.4min\n",
      "[CV 3/3; 2/25] START alpha=0.01, l1_ratio=0.3...................................\n"
     ]
    },
    {
     "name": "stderr",
     "output_type": "stream",
     "text": [
      "/home/hari31416/anaconda3/envs/data-science/lib/python3.9/site-packages/sklearn/linear_model/_coordinate_descent.py:648: ConvergenceWarning: Objective did not converge. You might want to increase the number of iterations, check the scale of the features or consider increasing regularisation. Duality gap: 1.035e+10, tolerance: 4.483e+08\n",
      "  model = cd_fast.enet_coordinate_descent(\n"
     ]
    },
    {
     "name": "stdout",
     "output_type": "stream",
     "text": [
      "[CV 1/3; 1/25] END alpha=0.01, l1_ratio=0.1;, score=-4079294526.781 total time= 3.5min\n",
      "[CV 1/3; 3/25] START alpha=0.01, l1_ratio=0.5...................................\n"
     ]
    },
    {
     "name": "stderr",
     "output_type": "stream",
     "text": [
      "/home/hari31416/anaconda3/envs/data-science/lib/python3.9/site-packages/sklearn/linear_model/_coordinate_descent.py:648: ConvergenceWarning: Objective did not converge. You might want to increase the number of iterations, check the scale of the features or consider increasing regularisation. Duality gap: 1.014e+10, tolerance: 4.968e+08\n",
      "  model = cd_fast.enet_coordinate_descent(\n"
     ]
    },
    {
     "name": "stdout",
     "output_type": "stream",
     "text": [
      "[CV 3/3; 1/25] END alpha=0.01, l1_ratio=0.1;, score=-1419667559.424 total time= 3.6min\n",
      "[CV 2/3; 3/25] START alpha=0.01, l1_ratio=0.5...................................\n"
     ]
    },
    {
     "ename": "KeyboardInterrupt",
     "evalue": "",
     "output_type": "error",
     "traceback": [
      "\u001b[0;31m---------------------------------------------------------------------------\u001b[0m",
      "\u001b[0;31mKeyboardInterrupt\u001b[0m                         Traceback (most recent call last)",
      "\u001b[1;32m/media/hari31416/Hari_SSD/Users/harik/Desktop/Placement/Projects/House_Price/Modeling.ipynb Cell 32\u001b[0m in \u001b[0;36m<cell line: 4>\u001b[0;34m()\u001b[0m\n\u001b[1;32m      <a href='vscode-notebook-cell:/media/hari31416/Hari_SSD/Users/harik/Desktop/Placement/Projects/House_Price/Modeling.ipynb#X43sZmlsZQ%3D%3D?line=1'>2</a>\u001b[0m base_model \u001b[39m=\u001b[39m ElasticNet(random_state\u001b[39m=\u001b[39m\u001b[39m42\u001b[39m, max_iter\u001b[39m=\u001b[39m\u001b[39m10000\u001b[39m)\n\u001b[1;32m      <a href='vscode-notebook-cell:/media/hari31416/Hari_SSD/Users/harik/Desktop/Placement/Projects/House_Price/Modeling.ipynb#X43sZmlsZQ%3D%3D?line=2'>3</a>\u001b[0m grid_model \u001b[39m=\u001b[39m GridSearchCV(base_model, param_grid, cv\u001b[39m=\u001b[39m\u001b[39m3\u001b[39m, scoring\u001b[39m=\u001b[39m\u001b[39m'\u001b[39m\u001b[39mneg_mean_squared_error\u001b[39m\u001b[39m'\u001b[39m, verbose \u001b[39m=\u001b[39m\u001b[39m10\u001b[39m, n_jobs\u001b[39m=\u001b[39m\u001b[39m4\u001b[39m)\n\u001b[0;32m----> <a href='vscode-notebook-cell:/media/hari31416/Hari_SSD/Users/harik/Desktop/Placement/Projects/House_Price/Modeling.ipynb#X43sZmlsZQ%3D%3D?line=3'>4</a>\u001b[0m grid_model\u001b[39m.\u001b[39;49mfit(X_train_pf, y_train)\n",
      "File \u001b[0;32m~/anaconda3/envs/data-science/lib/python3.9/site-packages/sklearn/model_selection/_search.py:875\u001b[0m, in \u001b[0;36mBaseSearchCV.fit\u001b[0;34m(self, X, y, groups, **fit_params)\u001b[0m\n\u001b[1;32m    869\u001b[0m     results \u001b[39m=\u001b[39m \u001b[39mself\u001b[39m\u001b[39m.\u001b[39m_format_results(\n\u001b[1;32m    870\u001b[0m         all_candidate_params, n_splits, all_out, all_more_results\n\u001b[1;32m    871\u001b[0m     )\n\u001b[1;32m    873\u001b[0m     \u001b[39mreturn\u001b[39;00m results\n\u001b[0;32m--> 875\u001b[0m \u001b[39mself\u001b[39;49m\u001b[39m.\u001b[39;49m_run_search(evaluate_candidates)\n\u001b[1;32m    877\u001b[0m \u001b[39m# multimetric is determined here because in the case of a callable\u001b[39;00m\n\u001b[1;32m    878\u001b[0m \u001b[39m# self.scoring the return type is only known after calling\u001b[39;00m\n\u001b[1;32m    879\u001b[0m first_test_score \u001b[39m=\u001b[39m all_out[\u001b[39m0\u001b[39m][\u001b[39m\"\u001b[39m\u001b[39mtest_scores\u001b[39m\u001b[39m\"\u001b[39m]\n",
      "File \u001b[0;32m~/anaconda3/envs/data-science/lib/python3.9/site-packages/sklearn/model_selection/_search.py:1375\u001b[0m, in \u001b[0;36mGridSearchCV._run_search\u001b[0;34m(self, evaluate_candidates)\u001b[0m\n\u001b[1;32m   1373\u001b[0m \u001b[39mdef\u001b[39;00m \u001b[39m_run_search\u001b[39m(\u001b[39mself\u001b[39m, evaluate_candidates):\n\u001b[1;32m   1374\u001b[0m     \u001b[39m\"\"\"Search all candidates in param_grid\"\"\"\u001b[39;00m\n\u001b[0;32m-> 1375\u001b[0m     evaluate_candidates(ParameterGrid(\u001b[39mself\u001b[39;49m\u001b[39m.\u001b[39;49mparam_grid))\n",
      "File \u001b[0;32m~/anaconda3/envs/data-science/lib/python3.9/site-packages/sklearn/model_selection/_search.py:822\u001b[0m, in \u001b[0;36mBaseSearchCV.fit.<locals>.evaluate_candidates\u001b[0;34m(candidate_params, cv, more_results)\u001b[0m\n\u001b[1;32m    814\u001b[0m \u001b[39mif\u001b[39;00m \u001b[39mself\u001b[39m\u001b[39m.\u001b[39mverbose \u001b[39m>\u001b[39m \u001b[39m0\u001b[39m:\n\u001b[1;32m    815\u001b[0m     \u001b[39mprint\u001b[39m(\n\u001b[1;32m    816\u001b[0m         \u001b[39m\"\u001b[39m\u001b[39mFitting \u001b[39m\u001b[39m{0}\u001b[39;00m\u001b[39m folds for each of \u001b[39m\u001b[39m{1}\u001b[39;00m\u001b[39m candidates,\u001b[39m\u001b[39m\"\u001b[39m\n\u001b[1;32m    817\u001b[0m         \u001b[39m\"\u001b[39m\u001b[39m totalling \u001b[39m\u001b[39m{2}\u001b[39;00m\u001b[39m fits\u001b[39m\u001b[39m\"\u001b[39m\u001b[39m.\u001b[39mformat(\n\u001b[1;32m    818\u001b[0m             n_splits, n_candidates, n_candidates \u001b[39m*\u001b[39m n_splits\n\u001b[1;32m    819\u001b[0m         )\n\u001b[1;32m    820\u001b[0m     )\n\u001b[0;32m--> 822\u001b[0m out \u001b[39m=\u001b[39m parallel(\n\u001b[1;32m    823\u001b[0m     delayed(_fit_and_score)(\n\u001b[1;32m    824\u001b[0m         clone(base_estimator),\n\u001b[1;32m    825\u001b[0m         X,\n\u001b[1;32m    826\u001b[0m         y,\n\u001b[1;32m    827\u001b[0m         train\u001b[39m=\u001b[39;49mtrain,\n\u001b[1;32m    828\u001b[0m         test\u001b[39m=\u001b[39;49mtest,\n\u001b[1;32m    829\u001b[0m         parameters\u001b[39m=\u001b[39;49mparameters,\n\u001b[1;32m    830\u001b[0m         split_progress\u001b[39m=\u001b[39;49m(split_idx, n_splits),\n\u001b[1;32m    831\u001b[0m         candidate_progress\u001b[39m=\u001b[39;49m(cand_idx, n_candidates),\n\u001b[1;32m    832\u001b[0m         \u001b[39m*\u001b[39;49m\u001b[39m*\u001b[39;49mfit_and_score_kwargs,\n\u001b[1;32m    833\u001b[0m     )\n\u001b[1;32m    834\u001b[0m     \u001b[39mfor\u001b[39;49;00m (cand_idx, parameters), (split_idx, (train, test)) \u001b[39min\u001b[39;49;00m product(\n\u001b[1;32m    835\u001b[0m         \u001b[39menumerate\u001b[39;49m(candidate_params), \u001b[39menumerate\u001b[39;49m(cv\u001b[39m.\u001b[39;49msplit(X, y, groups))\n\u001b[1;32m    836\u001b[0m     )\n\u001b[1;32m    837\u001b[0m )\n\u001b[1;32m    839\u001b[0m \u001b[39mif\u001b[39;00m \u001b[39mlen\u001b[39m(out) \u001b[39m<\u001b[39m \u001b[39m1\u001b[39m:\n\u001b[1;32m    840\u001b[0m     \u001b[39mraise\u001b[39;00m \u001b[39mValueError\u001b[39;00m(\n\u001b[1;32m    841\u001b[0m         \u001b[39m\"\u001b[39m\u001b[39mNo fits were performed. \u001b[39m\u001b[39m\"\u001b[39m\n\u001b[1;32m    842\u001b[0m         \u001b[39m\"\u001b[39m\u001b[39mWas the CV iterator empty? \u001b[39m\u001b[39m\"\u001b[39m\n\u001b[1;32m    843\u001b[0m         \u001b[39m\"\u001b[39m\u001b[39mWere there no candidates?\u001b[39m\u001b[39m\"\u001b[39m\n\u001b[1;32m    844\u001b[0m     )\n",
      "File \u001b[0;32m~/anaconda3/envs/data-science/lib/python3.9/site-packages/joblib/parallel.py:1056\u001b[0m, in \u001b[0;36mParallel.__call__\u001b[0;34m(self, iterable)\u001b[0m\n\u001b[1;32m   1053\u001b[0m     \u001b[39mself\u001b[39m\u001b[39m.\u001b[39m_iterating \u001b[39m=\u001b[39m \u001b[39mFalse\u001b[39;00m\n\u001b[1;32m   1055\u001b[0m \u001b[39mwith\u001b[39;00m \u001b[39mself\u001b[39m\u001b[39m.\u001b[39m_backend\u001b[39m.\u001b[39mretrieval_context():\n\u001b[0;32m-> 1056\u001b[0m     \u001b[39mself\u001b[39;49m\u001b[39m.\u001b[39;49mretrieve()\n\u001b[1;32m   1057\u001b[0m \u001b[39m# Make sure that we get a last message telling us we are done\u001b[39;00m\n\u001b[1;32m   1058\u001b[0m elapsed_time \u001b[39m=\u001b[39m time\u001b[39m.\u001b[39mtime() \u001b[39m-\u001b[39m \u001b[39mself\u001b[39m\u001b[39m.\u001b[39m_start_time\n",
      "File \u001b[0;32m~/anaconda3/envs/data-science/lib/python3.9/site-packages/joblib/parallel.py:935\u001b[0m, in \u001b[0;36mParallel.retrieve\u001b[0;34m(self)\u001b[0m\n\u001b[1;32m    933\u001b[0m \u001b[39mtry\u001b[39;00m:\n\u001b[1;32m    934\u001b[0m     \u001b[39mif\u001b[39;00m \u001b[39mgetattr\u001b[39m(\u001b[39mself\u001b[39m\u001b[39m.\u001b[39m_backend, \u001b[39m'\u001b[39m\u001b[39msupports_timeout\u001b[39m\u001b[39m'\u001b[39m, \u001b[39mFalse\u001b[39;00m):\n\u001b[0;32m--> 935\u001b[0m         \u001b[39mself\u001b[39m\u001b[39m.\u001b[39m_output\u001b[39m.\u001b[39mextend(job\u001b[39m.\u001b[39;49mget(timeout\u001b[39m=\u001b[39;49m\u001b[39mself\u001b[39;49m\u001b[39m.\u001b[39;49mtimeout))\n\u001b[1;32m    936\u001b[0m     \u001b[39melse\u001b[39;00m:\n\u001b[1;32m    937\u001b[0m         \u001b[39mself\u001b[39m\u001b[39m.\u001b[39m_output\u001b[39m.\u001b[39mextend(job\u001b[39m.\u001b[39mget())\n",
      "File \u001b[0;32m~/anaconda3/envs/data-science/lib/python3.9/site-packages/joblib/_parallel_backends.py:542\u001b[0m, in \u001b[0;36mLokyBackend.wrap_future_result\u001b[0;34m(future, timeout)\u001b[0m\n\u001b[1;32m    539\u001b[0m \u001b[39m\"\"\"Wrapper for Future.result to implement the same behaviour as\u001b[39;00m\n\u001b[1;32m    540\u001b[0m \u001b[39mAsyncResults.get from multiprocessing.\"\"\"\u001b[39;00m\n\u001b[1;32m    541\u001b[0m \u001b[39mtry\u001b[39;00m:\n\u001b[0;32m--> 542\u001b[0m     \u001b[39mreturn\u001b[39;00m future\u001b[39m.\u001b[39;49mresult(timeout\u001b[39m=\u001b[39;49mtimeout)\n\u001b[1;32m    543\u001b[0m \u001b[39mexcept\u001b[39;00m CfTimeoutError \u001b[39mas\u001b[39;00m e:\n\u001b[1;32m    544\u001b[0m     \u001b[39mraise\u001b[39;00m \u001b[39mTimeoutError\u001b[39;00m \u001b[39mfrom\u001b[39;00m \u001b[39me\u001b[39;00m\n",
      "File \u001b[0;32m~/anaconda3/envs/data-science/lib/python3.9/concurrent/futures/_base.py:441\u001b[0m, in \u001b[0;36mFuture.result\u001b[0;34m(self, timeout)\u001b[0m\n\u001b[1;32m    438\u001b[0m \u001b[39melif\u001b[39;00m \u001b[39mself\u001b[39m\u001b[39m.\u001b[39m_state \u001b[39m==\u001b[39m FINISHED:\n\u001b[1;32m    439\u001b[0m     \u001b[39mreturn\u001b[39;00m \u001b[39mself\u001b[39m\u001b[39m.\u001b[39m__get_result()\n\u001b[0;32m--> 441\u001b[0m \u001b[39mself\u001b[39;49m\u001b[39m.\u001b[39;49m_condition\u001b[39m.\u001b[39;49mwait(timeout)\n\u001b[1;32m    443\u001b[0m \u001b[39mif\u001b[39;00m \u001b[39mself\u001b[39m\u001b[39m.\u001b[39m_state \u001b[39min\u001b[39;00m [CANCELLED, CANCELLED_AND_NOTIFIED]:\n\u001b[1;32m    444\u001b[0m     \u001b[39mraise\u001b[39;00m CancelledError()\n",
      "File \u001b[0;32m~/anaconda3/envs/data-science/lib/python3.9/threading.py:312\u001b[0m, in \u001b[0;36mCondition.wait\u001b[0;34m(self, timeout)\u001b[0m\n\u001b[1;32m    310\u001b[0m \u001b[39mtry\u001b[39;00m:    \u001b[39m# restore state no matter what (e.g., KeyboardInterrupt)\u001b[39;00m\n\u001b[1;32m    311\u001b[0m     \u001b[39mif\u001b[39;00m timeout \u001b[39mis\u001b[39;00m \u001b[39mNone\u001b[39;00m:\n\u001b[0;32m--> 312\u001b[0m         waiter\u001b[39m.\u001b[39;49macquire()\n\u001b[1;32m    313\u001b[0m         gotit \u001b[39m=\u001b[39m \u001b[39mTrue\u001b[39;00m\n\u001b[1;32m    314\u001b[0m     \u001b[39melse\u001b[39;00m:\n",
      "\u001b[0;31mKeyboardInterrupt\u001b[0m: "
     ]
    }
   ],
   "source": [
    "param_grid = {\"alpha\": [0.01, 0.1, 1, 10, 100], \"l1_ratio\": [0.1,0.3, 0.5, 0.7, 0.9]}\n",
    "base_model = ElasticNet(random_state=42, max_iter=10000)\n",
    "grid_model = GridSearchCV(base_model, param_grid, cv=3, scoring='neg_mean_squared_error', verbose =10, n_jobs=4)\n",
    "grid_model.fit(X_train_pf, y_train)"
   ]
  },
  {
   "cell_type": "code",
   "execution_count": 54,
   "metadata": {},
   "outputs": [
    {
     "data": {
      "text/plain": [
       "{'alpha': 1, 'l1_ratio': 0.5}"
      ]
     },
     "execution_count": 54,
     "metadata": {},
     "output_type": "execute_result"
    }
   ],
   "source": [
    "grid_model.best_params_"
   ]
  },
  {
   "cell_type": "markdown",
   "metadata": {},
   "source": [
    "#### Second Iteration"
   ]
  },
  {
   "cell_type": "code",
   "execution_count": 55,
   "metadata": {},
   "outputs": [
    {
     "data": {
      "text/plain": [
       "GridSearchCV(cv=3, estimator=ElasticNet(max_iter=10000, random_state=42),\n",
       "             param_grid={'alpha': [0.8, 1, 2, 5], 'l1_ratio': [0.4, 0.5, 0.6]},\n",
       "             scoring='neg_mean_squared_error')"
      ]
     },
     "execution_count": 55,
     "metadata": {},
     "output_type": "execute_result"
    }
   ],
   "source": [
    "param_grid = {\"alpha\": [0.8, 1, 2, 5], \"l1_ratio\": [0.4, 0.5, 0.6,]}\n",
    "base_model = ElasticNet(random_state=42, max_iter=10000)\n",
    "grid_model = GridSearchCV(base_model, param_grid, cv=3, scoring='neg_mean_squared_error')\n",
    "grid_model.fit(X_train, y_train)"
   ]
  },
  {
   "cell_type": "code",
   "execution_count": 56,
   "metadata": {},
   "outputs": [
    {
     "data": {
      "text/plain": [
       "{'alpha': 0.8, 'l1_ratio': 0.5}"
      ]
     },
     "execution_count": 56,
     "metadata": {},
     "output_type": "execute_result"
    }
   ],
   "source": [
    "grid_model.best_params_"
   ]
  },
  {
   "cell_type": "markdown",
   "metadata": {},
   "source": [
    "#### Third Iteration"
   ]
  },
  {
   "cell_type": "code",
   "execution_count": 59,
   "metadata": {},
   "outputs": [
    {
     "data": {
      "text/plain": [
       "GridSearchCV(cv=3, estimator=ElasticNet(max_iter=10000, random_state=42),\n",
       "             param_grid={'alpha': [0.6, 0.7, 0.8, 0.9],\n",
       "                         'l1_ratio': [0.45, 0.5, 0.55]},\n",
       "             scoring='neg_mean_squared_error')"
      ]
     },
     "execution_count": 59,
     "metadata": {},
     "output_type": "execute_result"
    }
   ],
   "source": [
    "param_grid = {\"alpha\": [0.6, 0.7, 0.8, 0.9], \"l1_ratio\": [0.45, 0.5, 0.55,]}\n",
    "base_model = ElasticNet(random_state=42, max_iter=10000)\n",
    "grid_model = GridSearchCV(base_model, param_grid, cv=3, scoring='neg_mean_squared_error')\n",
    "grid_model.fit(X_train, y_train)"
   ]
  },
  {
   "cell_type": "code",
   "execution_count": 60,
   "metadata": {},
   "outputs": [
    {
     "data": {
      "text/plain": [
       "{'alpha': 0.8, 'l1_ratio': 0.45}"
      ]
     },
     "execution_count": 60,
     "metadata": {},
     "output_type": "execute_result"
    }
   ],
   "source": [
    "grid_model.best_params_"
   ]
  },
  {
   "cell_type": "markdown",
   "metadata": {},
   "source": [
    "This is the final parameters that we have selected."
   ]
  },
  {
   "cell_type": "code",
   "execution_count": 61,
   "metadata": {},
   "outputs": [
    {
     "data": {
      "text/plain": [
       "ElasticNet(alpha=0.8, l1_ratio=0.45, max_iter=10000, random_state=42)"
      ]
     },
     "execution_count": 61,
     "metadata": {},
     "output_type": "execute_result"
    }
   ],
   "source": [
    "el_net_best_model = grid_model.best_estimator_\n",
    "el_net_best_model.fit(X_train, y_train)"
   ]
  },
  {
   "cell_type": "code",
   "execution_count": 19,
   "metadata": {},
   "outputs": [
    {
     "name": "stderr",
     "output_type": "stream",
     "text": [
      "/home/hari31416/anaconda3/envs/data-science/lib/python3.9/site-packages/sklearn/linear_model/_coordinate_descent.py:648: ConvergenceWarning: Objective did not converge. You might want to increase the number of iterations, check the scale of the features or consider increasing regularisation. Duality gap: 1.384e+11, tolerance: 6.967e+08\n",
      "  model = cd_fast.enet_coordinate_descent(\n"
     ]
    },
    {
     "data": {
      "text/html": [
       "<style>#sk-container-id-4 {color: black;background-color: white;}#sk-container-id-4 pre{padding: 0;}#sk-container-id-4 div.sk-toggleable {background-color: white;}#sk-container-id-4 label.sk-toggleable__label {cursor: pointer;display: block;width: 100%;margin-bottom: 0;padding: 0.3em;box-sizing: border-box;text-align: center;}#sk-container-id-4 label.sk-toggleable__label-arrow:before {content: \"▸\";float: left;margin-right: 0.25em;color: #696969;}#sk-container-id-4 label.sk-toggleable__label-arrow:hover:before {color: black;}#sk-container-id-4 div.sk-estimator:hover label.sk-toggleable__label-arrow:before {color: black;}#sk-container-id-4 div.sk-toggleable__content {max-height: 0;max-width: 0;overflow: hidden;text-align: left;background-color: #f0f8ff;}#sk-container-id-4 div.sk-toggleable__content pre {margin: 0.2em;color: black;border-radius: 0.25em;background-color: #f0f8ff;}#sk-container-id-4 input.sk-toggleable__control:checked~div.sk-toggleable__content {max-height: 200px;max-width: 100%;overflow: auto;}#sk-container-id-4 input.sk-toggleable__control:checked~label.sk-toggleable__label-arrow:before {content: \"▾\";}#sk-container-id-4 div.sk-estimator input.sk-toggleable__control:checked~label.sk-toggleable__label {background-color: #d4ebff;}#sk-container-id-4 div.sk-label input.sk-toggleable__control:checked~label.sk-toggleable__label {background-color: #d4ebff;}#sk-container-id-4 input.sk-hidden--visually {border: 0;clip: rect(1px 1px 1px 1px);clip: rect(1px, 1px, 1px, 1px);height: 1px;margin: -1px;overflow: hidden;padding: 0;position: absolute;width: 1px;}#sk-container-id-4 div.sk-estimator {font-family: monospace;background-color: #f0f8ff;border: 1px dotted black;border-radius: 0.25em;box-sizing: border-box;margin-bottom: 0.5em;}#sk-container-id-4 div.sk-estimator:hover {background-color: #d4ebff;}#sk-container-id-4 div.sk-parallel-item::after {content: \"\";width: 100%;border-bottom: 1px solid gray;flex-grow: 1;}#sk-container-id-4 div.sk-label:hover label.sk-toggleable__label {background-color: #d4ebff;}#sk-container-id-4 div.sk-serial::before {content: \"\";position: absolute;border-left: 1px solid gray;box-sizing: border-box;top: 0;bottom: 0;left: 50%;z-index: 0;}#sk-container-id-4 div.sk-serial {display: flex;flex-direction: column;align-items: center;background-color: white;padding-right: 0.2em;padding-left: 0.2em;position: relative;}#sk-container-id-4 div.sk-item {position: relative;z-index: 1;}#sk-container-id-4 div.sk-parallel {display: flex;align-items: stretch;justify-content: center;background-color: white;position: relative;}#sk-container-id-4 div.sk-item::before, #sk-container-id-4 div.sk-parallel-item::before {content: \"\";position: absolute;border-left: 1px solid gray;box-sizing: border-box;top: 0;bottom: 0;left: 50%;z-index: -1;}#sk-container-id-4 div.sk-parallel-item {display: flex;flex-direction: column;z-index: 1;position: relative;background-color: white;}#sk-container-id-4 div.sk-parallel-item:first-child::after {align-self: flex-end;width: 50%;}#sk-container-id-4 div.sk-parallel-item:last-child::after {align-self: flex-start;width: 50%;}#sk-container-id-4 div.sk-parallel-item:only-child::after {width: 0;}#sk-container-id-4 div.sk-dashed-wrapped {border: 1px dashed gray;margin: 0 0.4em 0.5em 0.4em;box-sizing: border-box;padding-bottom: 0.4em;background-color: white;}#sk-container-id-4 div.sk-label label {font-family: monospace;font-weight: bold;display: inline-block;line-height: 1.2em;}#sk-container-id-4 div.sk-label-container {text-align: center;}#sk-container-id-4 div.sk-container {/* jupyter's `normalize.less` sets `[hidden] { display: none; }` but bootstrap.min.css set `[hidden] { display: none !important; }` so we also need the `!important` here to be able to override the default hidden behavior on the sphinx rendered scikit-learn.org. See: https://github.com/scikit-learn/scikit-learn/issues/21755 */display: inline-block !important;position: relative;}#sk-container-id-4 div.sk-text-repr-fallback {display: none;}</style><div id=\"sk-container-id-4\" class=\"sk-top-container\"><div class=\"sk-text-repr-fallback\"><pre>ElasticNet(alpha=0.8, l1_ratio=0.45, max_iter=10000, random_state=42)</pre><b>In a Jupyter environment, please rerun this cell to show the HTML representation or trust the notebook. <br />On GitHub, the HTML representation is unable to render, please try loading this page with nbviewer.org.</b></div><div class=\"sk-container\" hidden><div class=\"sk-item\"><div class=\"sk-estimator sk-toggleable\"><input class=\"sk-toggleable__control sk-hidden--visually\" id=\"sk-estimator-id-4\" type=\"checkbox\" checked><label for=\"sk-estimator-id-4\" class=\"sk-toggleable__label sk-toggleable__label-arrow\">ElasticNet</label><div class=\"sk-toggleable__content\"><pre>ElasticNet(alpha=0.8, l1_ratio=0.45, max_iter=10000, random_state=42)</pre></div></div></div></div></div>"
      ],
      "text/plain": [
       "ElasticNet(alpha=0.8, l1_ratio=0.45, max_iter=10000, random_state=42)"
      ]
     },
     "execution_count": 19,
     "metadata": {},
     "output_type": "execute_result"
    }
   ],
   "source": [
    "best_model = ElasticNet(alpha=0.8, l1_ratio=0.45, max_iter=10000, random_state=42)\n",
    "best_model.fit(X_train_pf, y_train)"
   ]
  },
  {
   "cell_type": "code",
   "execution_count": 20,
   "metadata": {},
   "outputs": [
    {
     "name": "stdout",
     "output_type": "stream",
     "text": [
      "RMSE: 29005.36216118497\n",
      "RMSLE: 0.1566086678726068\n",
      "R2: 0.8903161337110814\n"
     ]
    },
    {
     "data": {
      "text/plain": [
       "{'rmse': 29005.36216118497,\n",
       " 'r2': 0.8903161337110814,\n",
       " 'rmsle': 0.1566086678726068}"
      ]
     },
     "execution_count": 20,
     "metadata": {},
     "output_type": "execute_result"
    }
   ],
   "source": [
    "y_pred = best_model.predict(X_test_pf)\n",
    "evaluate_model(y_test, y_pred)"
   ]
  },
  {
   "cell_type": "code",
   "execution_count": 50,
   "metadata": {},
   "outputs": [
    {
     "name": "stdout",
     "output_type": "stream",
     "text": [
      "rmse: 9501.954771838984\n",
      "R2: 0.9849317806911022\n",
      "Ratio: 0.05258276604347236\n"
     ]
    },
    {
     "data": {
      "text/plain": [
       "{'rmse': 9501.954771838984,\n",
       " 'r2': 0.9849317806911022,\n",
       " 'ratio': 0.05258276604347236}"
      ]
     },
     "execution_count": 50,
     "metadata": {},
     "output_type": "execute_result"
    }
   ],
   "source": [
    "evaluate_model(y_train, el_net_best_model.predict(X_train_pf))"
   ]
  },
  {
   "cell_type": "code",
   "execution_count": 63,
   "metadata": {},
   "outputs": [
    {
     "name": "stderr",
     "output_type": "stream",
     "text": [
      "/tmp/ipykernel_49962/585238634.py:2: DataConversionWarning: A column-vector y was passed when a 1d array was expected. Please change the shape of y to (n_samples,), for example using ravel().\n",
      "  rfr.fit(X_train, y_train)\n"
     ]
    },
    {
     "name": "stdout",
     "output_type": "stream",
     "text": [
      "RMSE: 29223.796751083584\n",
      "RMSLE: 0.15685349019660383\n",
      "R2: 0.8886578910101094\n",
      "RMSE: 15179.200831632425\n",
      "RMSLE: 0.08982802361550549\n",
      "R2: 0.9613704096341464\n"
     ]
    },
    {
     "data": {
      "text/plain": [
       "{'rmse': 15179.200831632425,\n",
       " 'r2': 0.9613704096341464,\n",
       " 'rmsle': 0.08982802361550549}"
      ]
     },
     "execution_count": 63,
     "metadata": {},
     "output_type": "execute_result"
    }
   ],
   "source": [
    "rfr = RandomForestRegressor(random_state=42, max_depth=8, n_estimators=5000, max_features=0.3)\n",
    "rfr.fit(X_train, y_train)\n",
    "evaluate_model(y_test, rfr.predict(X_test))\n",
    "evaluate_model(y_train, rfr.predict(X_train))"
   ]
  },
  {
   "cell_type": "code",
   "execution_count": 71,
   "metadata": {},
   "outputs": [
    {
     "data": {
      "text/plain": [
       "Index(['OverallQual', 'GrLivArea', 'GarageCars', 'ExterQual', 'TotalBsmtSF',\n",
       "       'Age', 'KitchenQual', 'GarageArea', '1stFlrSF', 'BsmtQual', '2ndFlrSF',\n",
       "       'BsmtFinSF1', 'LotArea', 'FullBath', 'TotRmsAbvGrd', 'GarageFinish',\n",
       "       'FireplaceQu', 'LotFrontage', 'Fireplaces', 'MasVnrArea', 'OpenPorchSF',\n",
       "       'BsmtUnfSF', 'WoodDeckSF', 'OverallCond', 'BsmtFinType1',\n",
       "       'BedroomAbvGr', 'MSSubClass', 'PoolArea', 'MoSold', 'ScreenPorch',\n",
       "       'CentralAir', 'PoolQC', 'BsmtFullBath', 'HalfBath', 'LandContour',\n",
       "       'HeatingQC', 'Neighborhood_NoRidge', 'LotShape', 'BsmtExposure',\n",
       "       'GarageQual', 'YrSold', 'GarageCond', 'LandSlope', 'MSZoning_RM',\n",
       "       'Neighborhood_Edwards', 'KitchenAbvGr', 'Fence', 'SaleType_New',\n",
       "       'SaleCondition_Partial', 'BsmtCond', 'Neighborhood_Crawfor',\n",
       "       'BsmtFinSF2', 'MSZoning_RL', 'Neighborhood_NridgHt', 'EnclosedPorch',\n",
       "       'SaleType_WD', 'SaleCondition_Normal', 'ExterCond', 'BsmtFinType2',\n",
       "       'Neighborhood_OldTown', 'Neighborhood_StoneBr', 'Neighborhood_ClearCr',\n",
       "       'PavedDrive', 'Neighborhood_Somerst', 'Neighborhood_CollgCr',\n",
       "       '3SsnPorch', 'LowQualFinSF', 'SaleCondition_Family',\n",
       "       'Neighborhood_NAmes', 'Neighborhood_Timber', 'SaleCondition_Alloca',\n",
       "       'Neighborhood_Gilbert', 'MSZoning_FV', 'BsmtHalfBath',\n",
       "       'Neighborhood_NWAmes', 'MiscVal', 'Neighborhood_SWISU',\n",
       "       'Neighborhood_Veenker', 'Neighborhood_BrkSide', 'Neighborhood_Mitchel',\n",
       "       'Neighborhood_SawyerW', 'SaleType_CWD', 'Neighborhood_Sawyer',\n",
       "       'Neighborhood_IDOTRR', 'MSZoning_RH', 'Neighborhood_MeadowV',\n",
       "       'SaleType_Con', 'Neighborhood_BrDale', 'SaleType_ConLD',\n",
       "       'Neighborhood_NPkVill', 'SaleType_ConLI', 'SaleCondition_AdjLand',\n",
       "       'SaleType_Oth', 'SaleType_ConLw', 'Neighborhood_Blueste', 'Utilities'],\n",
       "      dtype='object')"
      ]
     },
     "execution_count": 71,
     "metadata": {},
     "output_type": "execute_result"
    }
   ],
   "source": [
    "X.columns[np.argsort(rfr.feature_importances_)][::-1]"
   ]
  },
  {
   "cell_type": "code",
   "execution_count": 68,
   "metadata": {},
   "outputs": [
    {
     "data": {
      "text/plain": [
       "array([26, 36, 64, 66, 68, 63, 48, 62, 37, 61])"
      ]
     },
     "execution_count": 68,
     "metadata": {},
     "output_type": "execute_result"
    }
   ],
   "source": [
    "np.argsort(rfr.feature_importances_)[:10]"
   ]
  },
  {
   "cell_type": "code",
   "execution_count": 66,
   "metadata": {},
   "outputs": [
    {
     "name": "stderr",
     "output_type": "stream",
     "text": [
      "/home/hari31416/anaconda3/envs/data-science/lib/python3.9/site-packages/sklearn/ensemble/_gb.py:570: DataConversionWarning: A column-vector y was passed when a 1d array was expected. Please change the shape of y to (n_samples, ), for example using ravel().\n",
      "  y = column_or_1d(y, warn=True)\n"
     ]
    },
    {
     "name": "stdout",
     "output_type": "stream",
     "text": [
      "RMSE: 24882.247448243586\n",
      "RMSLE: 0.13810378787485203\n",
      "R2: 0.9192829325178503\n",
      "RMSE: 192.9376094686447\n",
      "RMSLE: 0.0013255224202318296\n",
      "R2: 0.9999937589728014\n"
     ]
    },
    {
     "data": {
      "text/plain": [
       "{'rmse': 192.9376094686447,\n",
       " 'r2': 0.9999937589728014,\n",
       " 'rmsle': 0.0013255224202318296}"
      ]
     },
     "execution_count": 66,
     "metadata": {},
     "output_type": "execute_result"
    }
   ],
   "source": [
    "gbr = GradientBoostingRegressor(random_state=42, max_depth=5, n_estimators=1000, max_features=0.8)\n",
    "gbr.fit(X_train, y_train)\n",
    "evaluate_model(y_test, gbr.predict(X_test))\n",
    "evaluate_model(y_train, gbr.predict(X_train))"
   ]
  },
  {
   "cell_type": "code",
   "execution_count": 53,
   "metadata": {},
   "outputs": [
    {
     "name": "stdout",
     "output_type": "stream",
     "text": [
      "RMSE: 28201.588978611937\n",
      "RMSLE: 0.14293472670247137\n",
      "R2: 0.8963108478784984\n"
     ]
    },
    {
     "data": {
      "text/plain": [
       "{'rmse': 28201.588978611937,\n",
       " 'r2': 0.8963108478784984,\n",
       " 'rmsle': 0.14293472670247137}"
      ]
     },
     "execution_count": 53,
     "metadata": {},
     "output_type": "execute_result"
    }
   ],
   "source": [
    "xgbr = XGBRegressor(n_estimators=100, learning_rate=0.05, n_jobs=4)\n",
    "xgbr.fit(X_train, y_train)\n",
    "evaluate_model(y_test, xgbr.predict(X_test))"
   ]
  },
  {
   "cell_type": "code",
   "execution_count": 54,
   "metadata": {},
   "outputs": [
    {
     "name": "stdout",
     "output_type": "stream",
     "text": [
      "RMSE: 8872.79543828638\n",
      "RMSLE: 0.056089302619715085\n",
      "R2: 0.9868009332008183\n"
     ]
    },
    {
     "data": {
      "text/plain": [
       "{'rmse': 8872.79543828638,\n",
       " 'r2': 0.9868009332008183,\n",
       " 'rmsle': 0.056089302619715085}"
      ]
     },
     "execution_count": 54,
     "metadata": {},
     "output_type": "execute_result"
    }
   ],
   "source": [
    "evaluate_model(y_train, xgbr.predict(X_train))"
   ]
  },
  {
   "cell_type": "code",
   "execution_count": 73,
   "metadata": {},
   "outputs": [
    {
     "data": {
      "text/plain": [
       "Index(['OverallQual', 'GarageCars', 'TotRmsAbvGrd', 'BsmtQual', 'GrLivArea',\n",
       "       'KitchenQual', 'GarageFinish', 'Neighborhood_Edwards', 'BsmtFinSF1',\n",
       "       '1stFlrSF', 'FullBath', 'TotalBsmtSF', 'GarageCond', 'FireplaceQu',\n",
       "       '2ndFlrSF', 'CentralAir', 'KitchenAbvGr', 'MSZoning_RM', 'ExterQual',\n",
       "       'PoolQC', 'Age', 'GarageArea', 'BsmtFinType1', 'PoolArea',\n",
       "       'SaleType_CWD', 'LotArea', 'SaleType_WD', 'LandContour', 'SaleType_New',\n",
       "       'OverallCond', 'SaleCondition_Family', 'Neighborhood_OldTown',\n",
       "       'EnclosedPorch', 'Neighborhood_Mitchel', 'MSSubClass',\n",
       "       'Neighborhood_NAmes', 'BsmtCond', 'LotFrontage', 'BsmtExposure',\n",
       "       'GarageQual', 'Neighborhood_Sawyer', 'OpenPorchSF', 'LotShape',\n",
       "       'Neighborhood_Crawfor', 'MasVnrArea', 'BedroomAbvGr',\n",
       "       'Neighborhood_StoneBr', 'BsmtUnfSF', 'Neighborhood_ClearCr',\n",
       "       'BsmtFullBath', 'ScreenPorch', 'WoodDeckSF', 'Neighborhood_SWISU',\n",
       "       'Neighborhood_NWAmes', 'Neighborhood_NoRidge', 'Fireplaces',\n",
       "       'LowQualFinSF', 'Neighborhood_CollgCr', 'MSZoning_FV',\n",
       "       'SaleCondition_Normal', 'BsmtFinSF2', 'MoSold', 'HeatingQC',\n",
       "       'BsmtHalfBath', 'Fence', 'ExterCond', 'SaleType_ConLD',\n",
       "       'Neighborhood_IDOTRR', '3SsnPorch', 'MiscVal', 'BsmtFinType2',\n",
       "       'HalfBath', 'Neighborhood_Timber', 'Neighborhood_Somerst',\n",
       "       'MSZoning_RL', 'PavedDrive', 'Neighborhood_SawyerW', 'YrSold',\n",
       "       'Neighborhood_BrkSide', 'LandSlope', 'Neighborhood_MeadowV',\n",
       "       'Neighborhood_Gilbert', 'MSZoning_RH', 'Neighborhood_NridgHt',\n",
       "       'SaleCondition_Partial', 'SaleType_ConLI', 'SaleCondition_Alloca',\n",
       "       'SaleCondition_AdjLand', 'SaleType_Oth', 'SaleType_ConLw', 'Utilities',\n",
       "       'Neighborhood_Blueste', 'SaleType_Con', 'Neighborhood_Veenker',\n",
       "       'Neighborhood_NPkVill', 'Neighborhood_BrDale'],\n",
       "      dtype='object')"
      ]
     },
     "execution_count": 73,
     "metadata": {},
     "output_type": "execute_result"
    }
   ],
   "source": [
    "X.columns[np.argsort(xgbr.feature_importances_)][::-1]"
   ]
  },
  {
   "cell_type": "code",
   "execution_count": 83,
   "metadata": {},
   "outputs": [
    {
     "name": "stderr",
     "output_type": "stream",
     "text": [
      "/home/hari31416/anaconda3/envs/data-science/lib/python3.9/site-packages/sklearn/ensemble/_voting.py:600: DataConversionWarning: A column-vector y was passed when a 1d array was expected. Please change the shape of y to (n_samples, ), for example using ravel().\n",
      "  y = column_or_1d(y, warn=True)\n"
     ]
    },
    {
     "name": "stdout",
     "output_type": "stream",
     "text": [
      "RMSE: 27007.41898114873\n",
      "RMSLE: 0.13927379584834518\n",
      "R2: 0.9049061721338707\n",
      "RMSE: 6282.07953101501\n",
      "RMSLE: 0.03960599311013163\n",
      "R2: 0.9933834873173598\n"
     ]
    },
    {
     "data": {
      "text/plain": [
       "{'rmse': 6282.07953101501,\n",
       " 'r2': 0.9933834873173598,\n",
       " 'rmsle': 0.03960599311013163}"
      ]
     },
     "execution_count": 83,
     "metadata": {},
     "output_type": "execute_result"
    }
   ],
   "source": [
    "vr = VotingRegressor([('rfr', rfr), ('gbr', gbr), ('xgbr', xgbr)])\n",
    "vr.fit(X_train_pf, y_train)\n",
    "evaluate_model(y_test, vr.predict(X_test_pf))\n",
    "evaluate_model(y_train, vr.predict(X_train_pf))"
   ]
  },
  {
   "cell_type": "markdown",
   "metadata": {},
   "source": [
    "### Neural Network"
   ]
  },
  {
   "cell_type": "code",
   "execution_count": 21,
   "metadata": {},
   "outputs": [],
   "source": [
    "import tensorflow.keras.layers as layers\n",
    "from tensorflow.keras.models import Sequential"
   ]
  },
  {
   "cell_type": "code",
   "execution_count": 22,
   "metadata": {},
   "outputs": [
    {
     "name": "stdout",
     "output_type": "stream",
     "text": [
      "Model: \"sequential\"\n",
      "_________________________________________________________________\n",
      " Layer (type)                Output Shape              Param #   \n",
      "=================================================================\n",
      " dense (Dense)               (None, 64)                6208      \n",
      "                                                                 \n",
      " dense_1 (Dense)             (None, 128)               8320      \n",
      "                                                                 \n",
      " dropout (Dropout)           (None, 128)               0         \n",
      "                                                                 \n",
      " dense_2 (Dense)             (None, 128)               16512     \n",
      "                                                                 \n",
      " dropout_1 (Dropout)         (None, 128)               0         \n",
      "                                                                 \n",
      " dense_3 (Dense)             (None, 256)               33024     \n",
      "                                                                 \n",
      " dense_4 (Dense)             (None, 1)                 257       \n",
      "                                                                 \n",
      "=================================================================\n",
      "Total params: 64,321\n",
      "Trainable params: 64,321\n",
      "Non-trainable params: 0\n",
      "_________________________________________________________________\n"
     ]
    },
    {
     "name": "stderr",
     "output_type": "stream",
     "text": [
      "2022-10-08 17:46:20.384372: I tensorflow/core/platform/cpu_feature_guard.cc:193] This TensorFlow binary is optimized with oneAPI Deep Neural Network Library (oneDNN) to use the following CPU instructions in performance-critical operations:  AVX2 FMA\n",
      "To enable them in other operations, rebuild TensorFlow with the appropriate compiler flags.\n"
     ]
    }
   ],
   "source": [
    "model = Sequential()\n",
    "model.add(layers.Dense(64, activation='relu', input_shape=(X_train.shape[1],)))\n",
    "model.add(layers.Dense(128, activation='relu'))\n",
    "model.add(layers.Dropout(0.3))\n",
    "model.add(layers.Dense(128, activation='relu'))\n",
    "model.add(layers.Dropout(0.3))\n",
    "model.add(layers.Dense(256, activation='relu'))\n",
    "model.add(layers.Dense(1))\n",
    "model.summary()"
   ]
  },
  {
   "cell_type": "code",
   "execution_count": 23,
   "metadata": {},
   "outputs": [
    {
     "name": "stdout",
     "output_type": "stream",
     "text": [
      "Epoch 1/100\n",
      "37/37 [==============================] - 2s 14ms/step - loss: 34284236800.0000 - mae: 166918.7188 - val_loss: 19269224448.0000 - val_mae: 112510.6953\n",
      "Epoch 2/100\n",
      "37/37 [==============================] - 0s 7ms/step - loss: 8255147008.0000 - mae: 67420.2578 - val_loss: 6846290944.0000 - val_mae: 54947.6602\n",
      "Epoch 3/100\n",
      "37/37 [==============================] - 0s 7ms/step - loss: 6611357184.0000 - mae: 59466.5273 - val_loss: 6573229568.0000 - val_mae: 56087.5078\n",
      "Epoch 4/100\n",
      "37/37 [==============================] - 0s 7ms/step - loss: 6490858496.0000 - mae: 58591.9844 - val_loss: 6602700800.0000 - val_mae: 59281.8008\n",
      "Epoch 5/100\n",
      "37/37 [==============================] - 0s 7ms/step - loss: 6433541120.0000 - mae: 59277.7109 - val_loss: 6479004160.0000 - val_mae: 55983.0469\n",
      "Epoch 6/100\n",
      "37/37 [==============================] - 0s 7ms/step - loss: 6218891776.0000 - mae: 57307.2383 - val_loss: 6434256384.0000 - val_mae: 56578.3633\n",
      "Epoch 7/100\n",
      "37/37 [==============================] - 0s 7ms/step - loss: 6286458368.0000 - mae: 58009.7812 - val_loss: 6460274688.0000 - val_mae: 54376.1680\n",
      "Epoch 8/100\n",
      "37/37 [==============================] - 0s 7ms/step - loss: 6148747776.0000 - mae: 57636.2656 - val_loss: 6464384512.0000 - val_mae: 53878.0898\n",
      "Epoch 9/100\n",
      "37/37 [==============================] - 0s 7ms/step - loss: 6454659072.0000 - mae: 58392.1094 - val_loss: 6281451008.0000 - val_mae: 55679.0156\n",
      "Epoch 10/100\n",
      "37/37 [==============================] - 0s 8ms/step - loss: 6177449472.0000 - mae: 57444.4805 - val_loss: 6250395648.0000 - val_mae: 54044.6094\n",
      "Epoch 11/100\n",
      "37/37 [==============================] - 0s 8ms/step - loss: 6161965568.0000 - mae: 56952.5000 - val_loss: 6228755456.0000 - val_mae: 53298.0703\n",
      "Epoch 12/100\n",
      "37/37 [==============================] - 0s 7ms/step - loss: 6078367744.0000 - mae: 56635.5938 - val_loss: 6343638528.0000 - val_mae: 52380.2266\n",
      "Epoch 13/100\n",
      "37/37 [==============================] - 0s 7ms/step - loss: 6003292672.0000 - mae: 56248.7109 - val_loss: 6042174464.0000 - val_mae: 52724.8047\n",
      "Epoch 14/100\n",
      "37/37 [==============================] - 0s 9ms/step - loss: 5870980608.0000 - mae: 55256.2070 - val_loss: 5988195840.0000 - val_mae: 56647.0820\n",
      "Epoch 15/100\n",
      "37/37 [==============================] - 0s 7ms/step - loss: 5611712512.0000 - mae: 54865.7500 - val_loss: 5934375936.0000 - val_mae: 51019.9023\n",
      "Epoch 16/100\n",
      "37/37 [==============================] - 0s 7ms/step - loss: 5613461504.0000 - mae: 54347.8477 - val_loss: 5728859136.0000 - val_mae: 55351.7344\n",
      "Epoch 17/100\n",
      "37/37 [==============================] - 0s 7ms/step - loss: 5740897280.0000 - mae: 54773.1523 - val_loss: 5489533952.0000 - val_mae: 51503.7617\n",
      "Epoch 18/100\n",
      "37/37 [==============================] - 0s 7ms/step - loss: 5305367552.0000 - mae: 53171.8984 - val_loss: 5278660096.0000 - val_mae: 50053.4062\n",
      "Epoch 19/100\n",
      "37/37 [==============================] - 0s 8ms/step - loss: 5140796416.0000 - mae: 51694.8555 - val_loss: 5184966144.0000 - val_mae: 46630.4531\n",
      "Epoch 20/100\n",
      "37/37 [==============================] - 0s 7ms/step - loss: 4715189760.0000 - mae: 49190.0312 - val_loss: 4693383680.0000 - val_mae: 48346.3320\n",
      "Epoch 21/100\n",
      "37/37 [==============================] - 0s 8ms/step - loss: 4488099840.0000 - mae: 47686.3594 - val_loss: 4331909632.0000 - val_mae: 42240.2969\n",
      "Epoch 22/100\n",
      "37/37 [==============================] - 0s 8ms/step - loss: 3942540800.0000 - mae: 45030.0273 - val_loss: 3739584768.0000 - val_mae: 40054.4414\n",
      "Epoch 23/100\n",
      "37/37 [==============================] - 0s 8ms/step - loss: 3148574208.0000 - mae: 39266.3633 - val_loss: 3113973248.0000 - val_mae: 32293.1641\n",
      "Epoch 24/100\n",
      "37/37 [==============================] - 0s 8ms/step - loss: 2396748800.0000 - mae: 34151.7344 - val_loss: 2377586688.0000 - val_mae: 27173.8242\n",
      "Epoch 25/100\n",
      "37/37 [==============================] - 0s 7ms/step - loss: 1933087360.0000 - mae: 30199.3418 - val_loss: 2219355904.0000 - val_mae: 25026.3750\n",
      "Epoch 26/100\n",
      "37/37 [==============================] - 0s 8ms/step - loss: 1720951040.0000 - mae: 28692.0410 - val_loss: 2211623168.0000 - val_mae: 24475.9375\n",
      "Epoch 27/100\n",
      "37/37 [==============================] - 0s 8ms/step - loss: 1816861568.0000 - mae: 28661.6973 - val_loss: 2369761280.0000 - val_mae: 25960.3848\n",
      "Epoch 28/100\n",
      "37/37 [==============================] - 0s 8ms/step - loss: 1585995392.0000 - mae: 27512.5430 - val_loss: 2277108992.0000 - val_mae: 23898.7227\n",
      "Epoch 29/100\n",
      "37/37 [==============================] - 0s 8ms/step - loss: 1781112320.0000 - mae: 28766.1914 - val_loss: 2230861056.0000 - val_mae: 23125.1250\n",
      "Epoch 30/100\n",
      "37/37 [==============================] - 0s 8ms/step - loss: 1436203520.0000 - mae: 26444.7930 - val_loss: 2260939520.0000 - val_mae: 23027.2109\n",
      "Epoch 31/100\n",
      "37/37 [==============================] - 0s 8ms/step - loss: 1421532288.0000 - mae: 25994.8750 - val_loss: 2305040128.0000 - val_mae: 23045.8809\n",
      "Epoch 32/100\n",
      "37/37 [==============================] - 0s 8ms/step - loss: 1589621632.0000 - mae: 27266.2441 - val_loss: 2366548480.0000 - val_mae: 23611.4336\n",
      "Epoch 33/100\n",
      "37/37 [==============================] - 0s 8ms/step - loss: 1594579712.0000 - mae: 27226.0801 - val_loss: 2387908352.0000 - val_mae: 23570.8770\n",
      "Epoch 34/100\n",
      "37/37 [==============================] - 0s 8ms/step - loss: 1511306752.0000 - mae: 26637.1836 - val_loss: 2522220032.0000 - val_mae: 23859.5898\n",
      "Epoch 35/100\n",
      "37/37 [==============================] - 0s 8ms/step - loss: 1427951616.0000 - mae: 25447.7637 - val_loss: 2532649472.0000 - val_mae: 24233.4473\n",
      "Epoch 36/100\n",
      "37/37 [==============================] - 0s 7ms/step - loss: 1422780160.0000 - mae: 26126.6465 - val_loss: 2435120640.0000 - val_mae: 22647.9102\n",
      "Epoch 37/100\n",
      "37/37 [==============================] - 0s 7ms/step - loss: 1326591616.0000 - mae: 25341.0957 - val_loss: 2457625344.0000 - val_mae: 22526.5312\n",
      "Epoch 38/100\n",
      "37/37 [==============================] - 0s 8ms/step - loss: 1209073152.0000 - mae: 24400.4277 - val_loss: 2619920128.0000 - val_mae: 23759.8281\n",
      "Epoch 39/100\n",
      "37/37 [==============================] - 0s 8ms/step - loss: 1390977664.0000 - mae: 25383.8672 - val_loss: 2616137984.0000 - val_mae: 23828.9395\n",
      "Epoch 40/100\n",
      "37/37 [==============================] - 0s 8ms/step - loss: 1448146688.0000 - mae: 25373.6875 - val_loss: 2541362688.0000 - val_mae: 22250.7695\n",
      "Epoch 41/100\n",
      "37/37 [==============================] - 0s 7ms/step - loss: 1425787776.0000 - mae: 25289.6562 - val_loss: 2544634624.0000 - val_mae: 22345.8750\n",
      "Epoch 42/100\n",
      "37/37 [==============================] - 0s 9ms/step - loss: 1364678400.0000 - mae: 25382.9922 - val_loss: 2673211136.0000 - val_mae: 23439.3301\n",
      "Epoch 43/100\n",
      "37/37 [==============================] - 0s 7ms/step - loss: 1390992768.0000 - mae: 25392.6973 - val_loss: 2543322880.0000 - val_mae: 22129.0410\n",
      "Epoch 44/100\n",
      "37/37 [==============================] - 0s 6ms/step - loss: 1502643968.0000 - mae: 26328.5488 - val_loss: 2728302592.0000 - val_mae: 24949.3047\n",
      "Epoch 45/100\n",
      "37/37 [==============================] - 0s 5ms/step - loss: 1379320064.0000 - mae: 24817.4395 - val_loss: 2591819776.0000 - val_mae: 23022.6094\n",
      "Epoch 46/100\n",
      "37/37 [==============================] - 0s 5ms/step - loss: 1278983808.0000 - mae: 24770.1602 - val_loss: 2628316672.0000 - val_mae: 23609.0371\n",
      "Epoch 47/100\n",
      "37/37 [==============================] - 0s 6ms/step - loss: 1186447360.0000 - mae: 24091.7988 - val_loss: 2651102720.0000 - val_mae: 23766.9570\n",
      "Epoch 48/100\n",
      "37/37 [==============================] - 0s 6ms/step - loss: 1245069824.0000 - mae: 24426.7891 - val_loss: 2564879616.0000 - val_mae: 21956.6992\n",
      "Epoch 49/100\n",
      "37/37 [==============================] - 0s 6ms/step - loss: 1340203776.0000 - mae: 24366.3242 - val_loss: 2574998016.0000 - val_mae: 21961.8262\n",
      "Epoch 50/100\n",
      "37/37 [==============================] - 0s 6ms/step - loss: 1218443648.0000 - mae: 23935.9785 - val_loss: 2558341376.0000 - val_mae: 21754.7598\n",
      "Epoch 51/100\n",
      "37/37 [==============================] - 0s 6ms/step - loss: 1372784512.0000 - mae: 23993.3203 - val_loss: 2639532288.0000 - val_mae: 22454.1465\n",
      "Epoch 52/100\n",
      "37/37 [==============================] - 0s 7ms/step - loss: 1370768640.0000 - mae: 24542.7012 - val_loss: 2526868224.0000 - val_mae: 22054.4629\n",
      "Epoch 53/100\n",
      "37/37 [==============================] - 0s 8ms/step - loss: 1457225216.0000 - mae: 24103.8359 - val_loss: 2567101952.0000 - val_mae: 22623.2500\n",
      "Epoch 54/100\n",
      "37/37 [==============================] - 0s 8ms/step - loss: 1418572672.0000 - mae: 25706.8242 - val_loss: 2656674304.0000 - val_mae: 24581.4453\n",
      "Epoch 55/100\n",
      "37/37 [==============================] - 0s 7ms/step - loss: 1294512768.0000 - mae: 24610.8203 - val_loss: 2549039104.0000 - val_mae: 22133.8828\n",
      "Epoch 56/100\n",
      "37/37 [==============================] - 0s 8ms/step - loss: 1337307776.0000 - mae: 24564.6113 - val_loss: 2481061376.0000 - val_mae: 22072.4355\n",
      "Epoch 57/100\n",
      "37/37 [==============================] - 0s 8ms/step - loss: 1153640320.0000 - mae: 23664.8770 - val_loss: 2555084544.0000 - val_mae: 21919.4316\n",
      "Epoch 58/100\n",
      "37/37 [==============================] - 0s 7ms/step - loss: 1289611520.0000 - mae: 24718.0762 - val_loss: 2918550528.0000 - val_mae: 26571.0000\n",
      "Epoch 59/100\n",
      "37/37 [==============================] - 0s 7ms/step - loss: 1144977152.0000 - mae: 23741.7988 - val_loss: 2600237312.0000 - val_mae: 22056.5039\n",
      "Epoch 60/100\n",
      "37/37 [==============================] - 0s 8ms/step - loss: 1504153344.0000 - mae: 26110.3633 - val_loss: 2592171008.0000 - val_mae: 22784.2148\n",
      "Epoch 61/100\n",
      "37/37 [==============================] - 0s 7ms/step - loss: 1289617024.0000 - mae: 24210.7715 - val_loss: 2585614848.0000 - val_mae: 21804.7852\n",
      "Epoch 62/100\n",
      "37/37 [==============================] - 0s 8ms/step - loss: 1325261312.0000 - mae: 24715.0352 - val_loss: 2690111232.0000 - val_mae: 24122.4902\n",
      "Epoch 63/100\n",
      "37/37 [==============================] - 0s 7ms/step - loss: 1171138304.0000 - mae: 23653.8027 - val_loss: 2584146176.0000 - val_mae: 21419.3027\n",
      "Epoch 64/100\n",
      "37/37 [==============================] - 0s 7ms/step - loss: 1335848576.0000 - mae: 24071.3340 - val_loss: 2569514240.0000 - val_mae: 22475.8906\n",
      "Epoch 65/100\n",
      "37/37 [==============================] - 0s 8ms/step - loss: 1049278592.0000 - mae: 23281.2480 - val_loss: 2586945280.0000 - val_mae: 21864.2656\n",
      "Epoch 66/100\n",
      "37/37 [==============================] - 0s 7ms/step - loss: 1211272320.0000 - mae: 24565.6797 - val_loss: 2639460864.0000 - val_mae: 22013.1895\n",
      "Epoch 67/100\n",
      "37/37 [==============================] - 0s 8ms/step - loss: 1237189888.0000 - mae: 24103.9512 - val_loss: 2727253760.0000 - val_mae: 23131.4473\n",
      "Epoch 68/100\n",
      "37/37 [==============================] - 0s 7ms/step - loss: 1219673216.0000 - mae: 23220.9590 - val_loss: 2596136960.0000 - val_mae: 21821.3867\n",
      "Epoch 69/100\n",
      "37/37 [==============================] - 0s 8ms/step - loss: 1310061952.0000 - mae: 23738.5820 - val_loss: 2563661568.0000 - val_mae: 21425.6797\n",
      "Epoch 70/100\n",
      "37/37 [==============================] - 0s 7ms/step - loss: 1252612864.0000 - mae: 23781.3828 - val_loss: 2587447808.0000 - val_mae: 21668.1426\n",
      "Epoch 71/100\n",
      "37/37 [==============================] - 0s 6ms/step - loss: 1237977344.0000 - mae: 24134.8594 - val_loss: 2534799616.0000 - val_mae: 21857.4551\n",
      "Epoch 72/100\n",
      "37/37 [==============================] - 0s 7ms/step - loss: 1269235200.0000 - mae: 24631.5273 - val_loss: 2567940864.0000 - val_mae: 21866.3535\n",
      "Epoch 73/100\n",
      "37/37 [==============================] - 0s 8ms/step - loss: 1193888384.0000 - mae: 23886.9648 - val_loss: 2546810880.0000 - val_mae: 21291.0430\n",
      "Epoch 74/100\n",
      "37/37 [==============================] - 0s 7ms/step - loss: 1245702400.0000 - mae: 24048.3281 - val_loss: 2742663168.0000 - val_mae: 22872.5312\n",
      "Epoch 75/100\n",
      "37/37 [==============================] - 0s 8ms/step - loss: 1224157440.0000 - mae: 23834.3594 - val_loss: 2557282304.0000 - val_mae: 21184.8770\n",
      "Epoch 76/100\n",
      "37/37 [==============================] - 0s 7ms/step - loss: 1446727040.0000 - mae: 24708.7988 - val_loss: 2703035136.0000 - val_mae: 24459.2168\n",
      "Epoch 77/100\n",
      "37/37 [==============================] - 0s 7ms/step - loss: 1209581440.0000 - mae: 23916.7520 - val_loss: 2536860672.0000 - val_mae: 21381.3555\n",
      "Epoch 78/100\n",
      "37/37 [==============================] - 0s 7ms/step - loss: 1200665600.0000 - mae: 23196.0176 - val_loss: 2799396608.0000 - val_mae: 26100.4453\n",
      "Epoch 79/100\n",
      "37/37 [==============================] - 0s 7ms/step - loss: 1176742656.0000 - mae: 23771.1035 - val_loss: 2546180352.0000 - val_mae: 21060.8066\n",
      "Epoch 80/100\n",
      "37/37 [==============================] - 0s 7ms/step - loss: 1068638336.0000 - mae: 22661.8750 - val_loss: 2604077312.0000 - val_mae: 21488.5918\n",
      "Epoch 81/100\n",
      "37/37 [==============================] - 0s 7ms/step - loss: 1231724928.0000 - mae: 24417.1055 - val_loss: 2563996416.0000 - val_mae: 20952.9805\n",
      "Epoch 82/100\n",
      "37/37 [==============================] - 0s 8ms/step - loss: 1102710144.0000 - mae: 22524.9004 - val_loss: 2748583680.0000 - val_mae: 22570.9336\n",
      "Epoch 83/100\n",
      "37/37 [==============================] - 0s 8ms/step - loss: 1195193600.0000 - mae: 22866.9863 - val_loss: 2583885056.0000 - val_mae: 21315.5703\n",
      "Epoch 84/100\n",
      "37/37 [==============================] - 0s 7ms/step - loss: 1177717760.0000 - mae: 22880.4082 - val_loss: 2552852736.0000 - val_mae: 20760.7539\n",
      "Epoch 85/100\n",
      "37/37 [==============================] - 0s 7ms/step - loss: 1192709120.0000 - mae: 23059.9766 - val_loss: 2544905216.0000 - val_mae: 21461.8496\n",
      "Epoch 86/100\n",
      "37/37 [==============================] - 0s 8ms/step - loss: 1273534208.0000 - mae: 23074.7617 - val_loss: 2483030784.0000 - val_mae: 20969.8086\n",
      "Epoch 87/100\n",
      "37/37 [==============================] - 0s 8ms/step - loss: 1234621696.0000 - mae: 23999.1738 - val_loss: 2481659136.0000 - val_mae: 21124.2363\n",
      "Epoch 88/100\n",
      "37/37 [==============================] - 0s 8ms/step - loss: 1157695232.0000 - mae: 23299.9512 - val_loss: 2530061824.0000 - val_mae: 21019.9258\n",
      "Epoch 89/100\n",
      "37/37 [==============================] - 0s 8ms/step - loss: 1084433024.0000 - mae: 22662.7969 - val_loss: 2532059392.0000 - val_mae: 21209.2266\n",
      "Epoch 90/100\n",
      "37/37 [==============================] - 0s 8ms/step - loss: 1216292096.0000 - mae: 22704.6719 - val_loss: 2530449920.0000 - val_mae: 21356.6699\n",
      "Epoch 91/100\n",
      "37/37 [==============================] - 0s 8ms/step - loss: 1496292096.0000 - mae: 24119.3125 - val_loss: 2679665152.0000 - val_mae: 25921.4434\n",
      "Epoch 92/100\n",
      "37/37 [==============================] - 0s 7ms/step - loss: 1356144128.0000 - mae: 24290.3145 - val_loss: 2522252288.0000 - val_mae: 22244.7480\n",
      "Epoch 93/100\n",
      "37/37 [==============================] - 0s 8ms/step - loss: 1254594048.0000 - mae: 24501.6172 - val_loss: 2422007040.0000 - val_mae: 20802.0840\n",
      "Epoch 94/100\n",
      "37/37 [==============================] - 0s 6ms/step - loss: 1316415616.0000 - mae: 24095.7754 - val_loss: 2462625280.0000 - val_mae: 21963.0059\n",
      "Epoch 95/100\n",
      "37/37 [==============================] - 0s 6ms/step - loss: 1114672384.0000 - mae: 23218.1543 - val_loss: 2755013376.0000 - val_mae: 26887.3652\n",
      "Epoch 96/100\n",
      "37/37 [==============================] - 0s 8ms/step - loss: 1235704448.0000 - mae: 23893.8477 - val_loss: 2622961152.0000 - val_mae: 22449.5059\n",
      "Epoch 97/100\n",
      "37/37 [==============================] - 0s 7ms/step - loss: 1262805760.0000 - mae: 23459.0879 - val_loss: 2480959488.0000 - val_mae: 21045.0586\n",
      "Epoch 98/100\n",
      "37/37 [==============================] - 0s 8ms/step - loss: 1103706112.0000 - mae: 21917.1387 - val_loss: 2516960000.0000 - val_mae: 20777.0684\n",
      "Epoch 99/100\n",
      "37/37 [==============================] - 0s 7ms/step - loss: 1122333056.0000 - mae: 22170.9766 - val_loss: 2499992576.0000 - val_mae: 20642.7285\n",
      "Epoch 100/100\n",
      "37/37 [==============================] - 0s 8ms/step - loss: 1374063872.0000 - mae: 23998.9180 - val_loss: 2485551616.0000 - val_mae: 21353.6328\n"
     ]
    }
   ],
   "source": [
    "model.compile(optimizer='adam', loss='mse', metrics=['mae'])\n",
    "history = model.fit(X, y, epochs=100, validation_split=0.2)"
   ]
  },
  {
   "cell_type": "code",
   "execution_count": 24,
   "metadata": {},
   "outputs": [
    {
     "data": {
      "text/plain": [
       "<matplotlib.legend.Legend at 0x7fde1c639850>"
      ]
     },
     "execution_count": 24,
     "metadata": {},
     "output_type": "execute_result"
    },
    {
     "data": {
      "image/png": "[encoded data removed]",
      "text/plain": [
       "<Figure size 864x576 with 1 Axes>"
      ]
     },
     "metadata": {
      "needs_background": "light"
     },
     "output_type": "display_data"
    }
   ],
   "source": [
    "plt.figure(figsize=(12,8))\n",
    "plt.plot(history.history['loss'], label='train')\n",
    "plt.plot(history.history['val_loss'], label='test')\n",
    "plt.legend()"
   ]
  },
  {
   "cell_type": "code",
   "execution_count": 79,
   "metadata": {},
   "outputs": [],
   "source": [
    "test.drop(['Id'], axis=1, inplace=True)"
   ]
  },
  {
   "cell_type": "code",
   "execution_count": 84,
   "metadata": {},
   "outputs": [],
   "source": [
    "test_pf = pf.fit_transform(test)"
   ]
  },
  {
   "cell_type": "code",
   "execution_count": 85,
   "metadata": {},
   "outputs": [],
   "source": [
    "pred = vr.predict(test_pf)\n",
    "label = pd.read_csv('data/test_Id.csv')\n",
    "assert len(pred) == len(label)\n",
    "sub = pd.DataFrame(label[\"Id\"], columns=[\"Id\"])\n",
    "sub[\"SalePrice\"] = pred\n",
    "sub.to_csv('data/submission_3.csv', index=False)"
   ]
  },
  {
   "cell_type": "code",
   "execution_count": 59,
   "metadata": {},
   "outputs": [
    {
     "name": "stdout",
     "output_type": "stream",
     "text": [
      "Successfully submitted to House Prices - Advanced Regression Techniques\n"
     ]
    },
    {
     "name": "stderr",
     "output_type": "stream",
     "text": [
      "\n",
      "  0%|          | 0.00/22.6k [00:00<?, ?B/s]\n",
      " 35%|███▌      | 8.00k/22.6k [00:00<00:00, 69.7kB/s]\n",
      "100%|██████████| 22.6k/22.6k [00:05<00:00, 4.08kB/s]\n"
     ]
    }
   ],
   "source": [
    "!kaggle competitions submit -c house-prices-advanced-regression-techniques -f data\\submissions\\submission_2.csv -m \"Second submission\""
   ]
  }
 ],
 "metadata": {
  "kernelspec": {
   "display_name": "Python 3.9.12 ('data-science')",
   "language": "python",
   "name": "python3"
  },
  "language_info": {
   "codemirror_mode": {
    "name": "ipython",
    "version": 3
   },
   "file_extension": ".py",
   "mimetype": "text/x-python",
   "name": "python",
   "nbconvert_exporter": "python",
   "pygments_lexer": "ipython3",
   "version": "3.9.12"
  },
  "orig_nbformat": 4,
  "vscode": {
   "interpreter": {
    "hash": "2efee1efa502125d01e6b4768ba06d9453d29f3642bfd14ad5d4a769de82e88c"
   }
  }
 },
 "nbformat": 4,
 "nbformat_minor": 2
}
