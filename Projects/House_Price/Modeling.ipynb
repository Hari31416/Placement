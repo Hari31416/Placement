{
 "cells": [
  {
   "cell_type": "markdown",
   "metadata": {},
   "source": [
    "<table class=\"tfo-notebook-buttons\" align=\"left\">\n",
    "<td style=\"border: none;\">\n",
    "<a target=\"blank\" href=\"https://colab.research.google.com/github/Hari31416/Portfolio/blob/main/ML/Housing_Price/Modeling.ipynb?hl=en\"><img src=\"https://colab.research.google.com/img/colab_favicon_256px.png\" width=\"28\" height=\"28\"/>Run on Google Colab</a></td>\n",
    "<td style=\"border: none;\">\n",
    "<a target=\"blank\" href=\"https://github.com/Hari31416/Portfolio/blob/main/Housing_Price/ML/Modeling.ipynb\"><img src=\"https://cdn.icon-icons.com/icons2/2368/PNG/512/github_logo_icon_143772.png\" width=\"28\" height=\"28\"/>View on Github</a></td>\n",
    "<td style=\"border: none;\">\n",
    "</table>"
   ]
  },
  {
   "cell_type": "markdown",
   "metadata": {},
   "source": [
    "# Imports"
   ]
  },
  {
   "cell_type": "code",
   "execution_count": 2,
   "metadata": {},
   "outputs": [],
   "source": [
    "import pandas as pd\n",
    "import numpy as np\n",
    "import matplotlib.pyplot as plt\n",
    "\n",
    "from sklearn.linear_model import LinearRegression, ElasticNet, Lasso, Ridge\n",
    "from sklearn.model_selection import train_test_split, cross_val_score, GridSearchCV\n",
    "from sklearn.preprocessing import PolynomialFeatures\n",
    "from sklearn.svm import SVR\n",
    "from sklearn.metrics import mean_squared_error, r2_score\n"
   ]
  },
  {
   "cell_type": "markdown",
   "metadata": {},
   "source": [
    "# Preprocessing"
   ]
  },
  {
   "cell_type": "markdown",
   "metadata": {},
   "source": [
    "## Loading The Data"
   ]
  },
  {
   "cell_type": "markdown",
   "metadata": {},
   "source": [
    "Let's start by loading the data."
   ]
  },
  {
   "cell_type": "code",
   "execution_count": 3,
   "metadata": {},
   "outputs": [],
   "source": [
    "X = pd.read_csv('data/train_final.csv')\n",
    "test = pd.read_csv('data/test_final.csv')\n",
    "y = pd.read_csv('data/y.csv')"
   ]
  },
  {
   "cell_type": "markdown",
   "metadata": {},
   "source": [
    "Next step is to create the train and test sets as the data is already normalized."
   ]
  },
  {
   "cell_type": "markdown",
   "metadata": {},
   "source": [
    "## Making The Train and Test Sets"
   ]
  },
  {
   "cell_type": "code",
   "execution_count": 4,
   "metadata": {},
   "outputs": [
    {
     "data": {
      "text/plain": [
       "1460"
      ]
     },
     "execution_count": 4,
     "metadata": {},
     "output_type": "execute_result"
    }
   ],
   "source": [
    "len(X)"
   ]
  },
  {
   "cell_type": "markdown",
   "metadata": {},
   "source": [
    "We see that we have just 1460 training examles. So, we should not be using a lot of examples for the test set. ABout 150 examples have to suffice."
   ]
  },
  {
   "cell_type": "code",
   "execution_count": 5,
   "metadata": {},
   "outputs": [
    {
     "data": {
      "text/plain": [
       "(1314, 146)"
      ]
     },
     "execution_count": 5,
     "metadata": {},
     "output_type": "execute_result"
    }
   ],
   "source": [
    "X_train, X_test, y_train, y_test = train_test_split(X, y, test_size=0.10, random_state=42)\n",
    "len(X_train), len(X_test)"
   ]
  },
  {
   "cell_type": "markdown",
   "metadata": {},
   "source": [
    "# Modeling"
   ]
  },
  {
   "cell_type": "markdown",
   "metadata": {},
   "source": [
    "## Creating Some Functions"
   ]
  },
  {
   "cell_type": "code",
   "execution_count": 19,
   "metadata": {},
   "outputs": [],
   "source": [
    "def evaluate_model(y_true, y_pred = None, model=None, X_test=None):\n",
    "    \"\"\"\n",
    "    Evaluates a model by computing the mean squared error and the r2 score.\n",
    "\n",
    "    Parameters\n",
    "    ----------\n",
    "    y_true : pandas.Series\n",
    "        The true values of the target variable.\n",
    "    y_pred : pandas.Series\n",
    "        The predicted values of the target variable.\n",
    "        if None, the model is evaluated on the test set. `model` and `X_test` must be provided.\n",
    "    model : sklearn.linear_model.LinearRegression\n",
    "        The model to evaluate. Optional if `y_pred` is provided.\n",
    "    X_test : pandas.DataFrame\n",
    "        The test set. Optional if `y_pred` is provided.\n",
    "\n",
    "    Returns\n",
    "    -------\n",
    "    rmse : float\n",
    "        The root mean squared error.\n",
    "    r2 : float\n",
    "        The r2 score.\n",
    "    ratio : float\n",
    "        The ratio of the mean squared error to the mean value of the target variable.\n",
    "    \"\"\"\n",
    "    rmse = mean_squared_error(y_true, y_pred)**0.5\n",
    "    r_score = r2_score(y_true, y_pred)\n",
    "    ratio = (rmse / y_true.mean()).values[0]\n",
    "    result = {'rmse': rmse, 'r2': r_score, 'ratio': ratio}\n",
    "    print('rmse:', rmse)\n",
    "    print('R2:', r_score)\n",
    "    print('Ratio:', ratio)\n",
    "    return result"
   ]
  },
  {
   "cell_type": "markdown",
   "metadata": {},
   "source": [
    "## The Base Model"
   ]
  },
  {
   "cell_type": "markdown",
   "metadata": {},
   "source": [
    "Let's create a base model. We'll use a linear regression model with default parameters for this"
   ]
  },
  {
   "cell_type": "code",
   "execution_count": 8,
   "metadata": {},
   "outputs": [
    {
     "data": {
      "text/plain": [
       "LinearRegression()"
      ]
     },
     "execution_count": 8,
     "metadata": {},
     "output_type": "execute_result"
    }
   ],
   "source": [
    "lr_base = LinearRegression()\n",
    "lr_base.fit(X_train, y_train)"
   ]
  },
  {
   "cell_type": "code",
   "execution_count": 35,
   "metadata": {},
   "outputs": [
    {
     "name": "stdout",
     "output_type": "stream",
     "text": [
      "rmse: 47435.83771241819\n",
      "R2: 0.753721417512423\n",
      "Ratio: 0.25939742165697893\n"
     ]
    }
   ],
   "source": [
    "y_pred = lr_base.predict(X_test)\n",
    "base_model_result = evaluate_model(y_test, y_pred)"
   ]
  },
  {
   "cell_type": "code",
   "execution_count": 21,
   "metadata": {},
   "outputs": [
    {
     "name": "stdout",
     "output_type": "stream",
     "text": [
      "rmse: 38107.493570595456\n",
      "R2: 0.7576423209884251\n",
      "Ratio: 0.21088265173229595\n"
     ]
    },
    {
     "data": {
      "text/plain": [
       "{'rmse': 38107.493570595456,\n",
       " 'r2': 0.7576423209884251,\n",
       " 'ratio': 0.21088265173229595}"
      ]
     },
     "execution_count": 21,
     "metadata": {},
     "output_type": "execute_result"
    }
   ],
   "source": [
    "y_pred = lr_base.predict(X_train)\n",
    "evaluate_model(y_train, y_pred)"
   ]
  },
  {
   "cell_type": "markdown",
   "metadata": {},
   "source": [
    "Now, as our base model is here, we can start experimenting."
   ]
  },
  {
   "cell_type": "markdown",
   "metadata": {},
   "source": [
    "## Polynomial Model"
   ]
  },
  {
   "cell_type": "markdown",
   "metadata": {},
   "source": [
    "Let's fit a polynomial model of order 2 on the training data."
   ]
  },
  {
   "cell_type": "code",
   "execution_count": 38,
   "metadata": {},
   "outputs": [],
   "source": [
    "pf = PolynomialFeatures(degree=2)\n",
    "X_train_pf = pf.fit_transform(X_train)\n",
    "X_test_pf = pf.fit_transform(X_test)"
   ]
  },
  {
   "cell_type": "code",
   "execution_count": 42,
   "metadata": {},
   "outputs": [
    {
     "data": {
      "text/plain": [
       "LinearRegression()"
      ]
     },
     "execution_count": 42,
     "metadata": {},
     "output_type": "execute_result"
    }
   ],
   "source": [
    "lr_pf = LinearRegression()\n",
    "lr_pf.fit(X_train_pf, y_train)\n"
   ]
  },
  {
   "cell_type": "code",
   "execution_count": 43,
   "metadata": {},
   "outputs": [
    {
     "name": "stdout",
     "output_type": "stream",
     "text": [
      "rmse: 68232.86347065943\n",
      "R2: 0.4904337089356018\n",
      "Ratio: 0.37312356458982066\n"
     ]
    }
   ],
   "source": [
    "y_pred = lr_pf.predict(X_test_pf)\n",
    "poly_reg_result =  evaluate_model(y_test, y_pred)"
   ]
  },
  {
   "cell_type": "code",
   "execution_count": 44,
   "metadata": {},
   "outputs": [
    {
     "name": "stdout",
     "output_type": "stream",
     "text": [
      "rmse: 56795.40174109139\n",
      "R2: 0.646947047454522\n",
      "Ratio: 0.31057912085221945\n"
     ]
    }
   ],
   "source": [
    "y_pred = lr_pf.predict(X_test_pf)\n",
    "y_pred = np.abs(y_pred)\n",
    "poly_reg_result =  evaluate_model(y_test, y_pred)"
   ]
  },
  {
   "cell_type": "markdown",
   "metadata": {},
   "source": [
    "It is performing worse than the base model. What's more, sometimes, the model in return negative values for the predictions."
   ]
  },
  {
   "cell_type": "code",
   "execution_count": 46,
   "metadata": {},
   "outputs": [
    {
     "name": "stdout",
     "output_type": "stream",
     "text": [
      "rmse: 161.90692028798085\n",
      "R2: 0.9999956251130148\n",
      "Ratio: 0.0008959749772282216\n"
     ]
    },
    {
     "data": {
      "text/plain": [
       "{'rmse': 161.90692028798085,\n",
       " 'r2': 0.9999956251130148,\n",
       " 'ratio': 0.0008959749772282216}"
      ]
     },
     "execution_count": 46,
     "metadata": {},
     "output_type": "execute_result"
    }
   ],
   "source": [
    "evaluate_model(y_train, lr_pf.predict(X_train_pf))"
   ]
  },
  {
   "cell_type": "markdown",
   "metadata": {},
   "source": [
    "So this is why the model is perfoming this terribly on test set. The model is overfitting quite severely. Let's try some regularization techniques and grid search to find the best parameters."
   ]
  },
  {
   "cell_type": "markdown",
   "metadata": {},
   "source": [
    "#### First Iteration"
   ]
  },
  {
   "cell_type": "code",
   "execution_count": null,
   "metadata": {},
   "outputs": [],
   "source": [
    "param_grid = {\"alpha\": [0.01, 0.1, 1, 10, 100], \"l1_ratio\": [0.1,0.3, 0.5, 0.7, 0.9]}\n",
    "base_model = ElasticNet(random_state=42, max_iter=10000)\n",
    "grid_model = GridSearchCV(base_model, param_grid, cv=3, scoring='neg_mean_squared_error', verbose =1)\n",
    "grid_model.fit(X_train_pf, y_train)"
   ]
  },
  {
   "cell_type": "code",
   "execution_count": 54,
   "metadata": {},
   "outputs": [
    {
     "data": {
      "text/plain": [
       "{'alpha': 1, 'l1_ratio': 0.5}"
      ]
     },
     "execution_count": 54,
     "metadata": {},
     "output_type": "execute_result"
    }
   ],
   "source": [
    "grid_model.best_params_"
   ]
  },
  {
   "cell_type": "markdown",
   "metadata": {},
   "source": [
    "#### Second Iteration"
   ]
  },
  {
   "cell_type": "code",
   "execution_count": 55,
   "metadata": {},
   "outputs": [
    {
     "data": {
      "text/plain": [
       "GridSearchCV(cv=3, estimator=ElasticNet(max_iter=10000, random_state=42),\n",
       "             param_grid={'alpha': [0.8, 1, 2, 5], 'l1_ratio': [0.4, 0.5, 0.6]},\n",
       "             scoring='neg_mean_squared_error')"
      ]
     },
     "execution_count": 55,
     "metadata": {},
     "output_type": "execute_result"
    }
   ],
   "source": [
    "param_grid = {\"alpha\": [0.8, 1, 2, 5], \"l1_ratio\": [0.4, 0.5, 0.6,]}\n",
    "base_model = ElasticNet(random_state=42, max_iter=10000)\n",
    "grid_model = GridSearchCV(base_model, param_grid, cv=3, scoring='neg_mean_squared_error')\n",
    "grid_model.fit(X_train, y_train)"
   ]
  },
  {
   "cell_type": "code",
   "execution_count": 56,
   "metadata": {},
   "outputs": [
    {
     "data": {
      "text/plain": [
       "{'alpha': 0.8, 'l1_ratio': 0.5}"
      ]
     },
     "execution_count": 56,
     "metadata": {},
     "output_type": "execute_result"
    }
   ],
   "source": [
    "grid_model.best_params_"
   ]
  },
  {
   "cell_type": "markdown",
   "metadata": {},
   "source": [
    "#### Third Iteration"
   ]
  },
  {
   "cell_type": "code",
   "execution_count": 59,
   "metadata": {},
   "outputs": [
    {
     "data": {
      "text/plain": [
       "GridSearchCV(cv=3, estimator=ElasticNet(max_iter=10000, random_state=42),\n",
       "             param_grid={'alpha': [0.6, 0.7, 0.8, 0.9],\n",
       "                         'l1_ratio': [0.45, 0.5, 0.55]},\n",
       "             scoring='neg_mean_squared_error')"
      ]
     },
     "execution_count": 59,
     "metadata": {},
     "output_type": "execute_result"
    }
   ],
   "source": [
    "param_grid = {\"alpha\": [0.6, 0.7, 0.8, 0.9], \"l1_ratio\": [0.45, 0.5, 0.55,]}\n",
    "base_model = ElasticNet(random_state=42, max_iter=10000)\n",
    "grid_model = GridSearchCV(base_model, param_grid, cv=3, scoring='neg_mean_squared_error')\n",
    "grid_model.fit(X_train, y_train)"
   ]
  },
  {
   "cell_type": "code",
   "execution_count": 60,
   "metadata": {},
   "outputs": [
    {
     "data": {
      "text/plain": [
       "{'alpha': 0.8, 'l1_ratio': 0.45}"
      ]
     },
     "execution_count": 60,
     "metadata": {},
     "output_type": "execute_result"
    }
   ],
   "source": [
    "grid_model.best_params_"
   ]
  },
  {
   "cell_type": "markdown",
   "metadata": {},
   "source": [
    "This is the final parameters that we have selected."
   ]
  },
  {
   "cell_type": "code",
   "execution_count": 61,
   "metadata": {},
   "outputs": [
    {
     "data": {
      "text/plain": [
       "ElasticNet(alpha=0.8, l1_ratio=0.45, max_iter=10000, random_state=42)"
      ]
     },
     "execution_count": 61,
     "metadata": {},
     "output_type": "execute_result"
    }
   ],
   "source": [
    "el_net_best_model = grid_model.best_estimator_\n",
    "el_net_best_model.fit(X_train, y_train)"
   ]
  },
  {
   "cell_type": "code",
   "execution_count": null,
   "metadata": {},
   "outputs": [],
   "source": [
    "y_pred = el_net_best_model.predict(X_test_pf)\n",
    "evaluate_model(y_test, y_pred)"
   ]
  },
  {
   "cell_type": "code",
   "execution_count": 50,
   "metadata": {},
   "outputs": [
    {
     "name": "stdout",
     "output_type": "stream",
     "text": [
      "rmse: 9501.954771838984\n",
      "R2: 0.9849317806911022\n",
      "Ratio: 0.05258276604347236\n"
     ]
    },
    {
     "data": {
      "text/plain": [
       "{'rmse': 9501.954771838984,\n",
       " 'r2': 0.9849317806911022,\n",
       " 'ratio': 0.05258276604347236}"
      ]
     },
     "execution_count": 50,
     "metadata": {},
     "output_type": "execute_result"
    }
   ],
   "source": [
    "evaluate_model(y_train, el_net_best_model.predict(X_train_pf))"
   ]
  },
  {
   "cell_type": "markdown",
   "metadata": {},
   "source": [
    "### Neural Network"
   ]
  },
  {
   "cell_type": "code",
   "execution_count": 32,
   "metadata": {},
   "outputs": [],
   "source": [
    "import tensorflow.keras.layers as layers\n",
    "from tensorflow.keras.models import Sequential"
   ]
  },
  {
   "cell_type": "code",
   "execution_count": 40,
   "metadata": {},
   "outputs": [
    {
     "name": "stdout",
     "output_type": "stream",
     "text": [
      "Model: \"sequential_2\"\n",
      "_________________________________________________________________\n",
      "Layer (type)                 Output Shape              Param #   \n",
      "=================================================================\n",
      "dense_7 (Dense)              (None, 64)                6144      \n",
      "_________________________________________________________________\n",
      "dense_8 (Dense)              (None, 128)               8320      \n",
      "_________________________________________________________________\n",
      "dropout_1 (Dropout)          (None, 128)               0         \n",
      "_________________________________________________________________\n",
      "dense_9 (Dense)              (None, 128)               16512     \n",
      "_________________________________________________________________\n",
      "dropout_2 (Dropout)          (None, 128)               0         \n",
      "_________________________________________________________________\n",
      "dense_10 (Dense)             (None, 256)               33024     \n",
      "_________________________________________________________________\n",
      "dense_11 (Dense)             (None, 1)                 257       \n",
      "=================================================================\n",
      "Total params: 64,257\n",
      "Trainable params: 64,257\n",
      "Non-trainable params: 0\n",
      "_________________________________________________________________\n"
     ]
    }
   ],
   "source": [
    "model = Sequential()\n",
    "model.add(layers.Dense(64, activation='relu', input_shape=(X_train.shape[1],)))\n",
    "model.add(layers.Dense(128, activation='relu'))\n",
    "model.add(layers.Dropout(0.3))\n",
    "model.add(layers.Dense(128, activation='relu'))\n",
    "model.add(layers.Dropout(0.3))\n",
    "model.add(layers.Dense(256, activation='relu'))\n",
    "model.add(layers.Dense(1))\n",
    "model.summary()"
   ]
  },
  {
   "cell_type": "code",
   "execution_count": 56,
   "metadata": {},
   "outputs": [
    {
     "name": "stdout",
     "output_type": "stream",
     "text": [
      "Epoch 1/100\n",
      "37/37 [==============================] - 3s 20ms/step - loss: 1200752512.0000 - mae: 22975.6738 - val_loss: 2534296320.0000 - val_mae: 19430.7891\n",
      "Epoch 2/100\n",
      "37/37 [==============================] - 0s 6ms/step - loss: 1067497152.0000 - mae: 21547.6836 - val_loss: 2481639936.0000 - val_mae: 19285.6816\n",
      "Epoch 3/100\n",
      "37/37 [==============================] - 0s 6ms/step - loss: 1147287296.0000 - mae: 22612.2773 - val_loss: 2558787840.0000 - val_mae: 20035.2949\n",
      "Epoch 4/100\n",
      "37/37 [==============================] - 0s 5ms/step - loss: 1115879168.0000 - mae: 21925.0098 - val_loss: 2566669568.0000 - val_mae: 20472.4727\n",
      "Epoch 5/100\n",
      "37/37 [==============================] - 0s 5ms/step - loss: 949824704.0000 - mae: 21706.7441 - val_loss: 2530386944.0000 - val_mae: 19196.4980\n",
      "Epoch 6/100\n",
      "37/37 [==============================] - 0s 5ms/step - loss: 1008728064.0000 - mae: 21786.8457 - val_loss: 2558280704.0000 - val_mae: 21061.6523\n",
      "Epoch 7/100\n",
      "37/37 [==============================] - 0s 5ms/step - loss: 1027830144.0000 - mae: 21609.3828 - val_loss: 2472806144.0000 - val_mae: 19258.7949\n",
      "Epoch 8/100\n",
      "37/37 [==============================] - 0s 5ms/step - loss: 1124599936.0000 - mae: 23127.2402 - val_loss: 2512368384.0000 - val_mae: 19419.4199\n",
      "Epoch 9/100\n",
      "37/37 [==============================] - 0s 5ms/step - loss: 960730240.0000 - mae: 21159.2305 - val_loss: 2579512064.0000 - val_mae: 20673.4551\n",
      "Epoch 10/100\n",
      "37/37 [==============================] - 0s 5ms/step - loss: 1151215488.0000 - mae: 22526.0957 - val_loss: 2542822144.0000 - val_mae: 19406.4414\n",
      "Epoch 11/100\n",
      "37/37 [==============================] - 0s 5ms/step - loss: 1026110592.0000 - mae: 22074.8027 - val_loss: 2645882880.0000 - val_mae: 21286.5820\n",
      "Epoch 12/100\n",
      "37/37 [==============================] - 0s 5ms/step - loss: 1034796608.0000 - mae: 21846.2793 - val_loss: 2563097600.0000 - val_mae: 22032.7402\n",
      "Epoch 13/100\n",
      "37/37 [==============================] - 0s 6ms/step - loss: 1122208896.0000 - mae: 22605.4785 - val_loss: 2595826688.0000 - val_mae: 19411.6035\n",
      "Epoch 14/100\n",
      "37/37 [==============================] - 0s 7ms/step - loss: 1040338880.0000 - mae: 21982.2031 - val_loss: 2613452800.0000 - val_mae: 20015.0137\n",
      "Epoch 15/100\n",
      "37/37 [==============================] - 0s 6ms/step - loss: 1020336256.0000 - mae: 21966.6562 - val_loss: 2586476544.0000 - val_mae: 19180.7773\n",
      "Epoch 16/100\n",
      "37/37 [==============================] - 0s 5ms/step - loss: 1053284608.0000 - mae: 21646.8125 - val_loss: 2610793728.0000 - val_mae: 19921.1914\n",
      "Epoch 17/100\n",
      "37/37 [==============================] - 0s 5ms/step - loss: 1032054848.0000 - mae: 22143.9082 - val_loss: 2619875840.0000 - val_mae: 19667.8574\n",
      "Epoch 18/100\n",
      "37/37 [==============================] - 0s 5ms/step - loss: 1001342528.0000 - mae: 21273.0957 - val_loss: 2519603968.0000 - val_mae: 19285.6367\n",
      "Epoch 19/100\n",
      "37/37 [==============================] - 0s 5ms/step - loss: 1253027072.0000 - mae: 23970.9551 - val_loss: 2492779776.0000 - val_mae: 19645.4355\n",
      "Epoch 20/100\n",
      "37/37 [==============================] - 0s 5ms/step - loss: 1012496960.0000 - mae: 22422.8066 - val_loss: 2538594304.0000 - val_mae: 19808.9883\n",
      "Epoch 21/100\n",
      "37/37 [==============================] - 0s 5ms/step - loss: 1199365120.0000 - mae: 23669.6973 - val_loss: 2548878848.0000 - val_mae: 19328.5781\n",
      "Epoch 22/100\n",
      "37/37 [==============================] - 0s 5ms/step - loss: 1115612288.0000 - mae: 21991.0039 - val_loss: 2530541312.0000 - val_mae: 20880.5352\n",
      "Epoch 23/100\n",
      "37/37 [==============================] - 0s 5ms/step - loss: 1158851584.0000 - mae: 22903.7480 - val_loss: 2509329152.0000 - val_mae: 19127.8203\n",
      "Epoch 24/100\n",
      "37/37 [==============================] - 0s 5ms/step - loss: 1036631616.0000 - mae: 22102.9688 - val_loss: 2568766464.0000 - val_mae: 19801.0371\n",
      "Epoch 25/100\n",
      "37/37 [==============================] - 0s 5ms/step - loss: 1177333248.0000 - mae: 23403.9629 - val_loss: 2508914432.0000 - val_mae: 19151.8398\n",
      "Epoch 26/100\n",
      "37/37 [==============================] - 0s 5ms/step - loss: 965753536.0000 - mae: 21527.6172 - val_loss: 2479189504.0000 - val_mae: 19385.1035\n",
      "Epoch 27/100\n",
      "37/37 [==============================] - 0s 5ms/step - loss: 975375552.0000 - mae: 21132.5996 - val_loss: 2614308608.0000 - val_mae: 19787.2090\n",
      "Epoch 28/100\n",
      "37/37 [==============================] - 0s 5ms/step - loss: 1200852480.0000 - mae: 22071.6465 - val_loss: 2518744320.0000 - val_mae: 20074.1816\n",
      "Epoch 29/100\n",
      "37/37 [==============================] - 0s 5ms/step - loss: 972720768.0000 - mae: 21565.9512 - val_loss: 2593939968.0000 - val_mae: 21608.8301\n",
      "Epoch 30/100\n",
      "37/37 [==============================] - 0s 5ms/step - loss: 1136842752.0000 - mae: 22975.1074 - val_loss: 2402572544.0000 - val_mae: 19620.0449\n",
      "Epoch 31/100\n",
      "37/37 [==============================] - 0s 5ms/step - loss: 1130749184.0000 - mae: 22217.5762 - val_loss: 2478258688.0000 - val_mae: 19322.7969\n",
      "Epoch 32/100\n",
      "37/37 [==============================] - 0s 5ms/step - loss: 1002651200.0000 - mae: 21370.5938 - val_loss: 2475010560.0000 - val_mae: 20133.4102\n",
      "Epoch 33/100\n",
      "37/37 [==============================] - 0s 5ms/step - loss: 1019784256.0000 - mae: 21717.4766 - val_loss: 2539815424.0000 - val_mae: 20696.6660\n",
      "Epoch 34/100\n",
      "37/37 [==============================] - 0s 5ms/step - loss: 1057263680.0000 - mae: 21822.6465 - val_loss: 2487572992.0000 - val_mae: 21958.1699\n",
      "Epoch 35/100\n",
      "37/37 [==============================] - 0s 5ms/step - loss: 1070931392.0000 - mae: 21861.5156 - val_loss: 2413754880.0000 - val_mae: 18951.9512\n",
      "Epoch 36/100\n",
      "37/37 [==============================] - 0s 5ms/step - loss: 1126239232.0000 - mae: 22039.9766 - val_loss: 2547526144.0000 - val_mae: 19860.7559\n",
      "Epoch 37/100\n",
      "37/37 [==============================] - 0s 5ms/step - loss: 1056134976.0000 - mae: 22307.3457 - val_loss: 2430733056.0000 - val_mae: 19038.7363\n",
      "Epoch 38/100\n",
      "37/37 [==============================] - 0s 5ms/step - loss: 1026491392.0000 - mae: 21084.0137 - val_loss: 2469108224.0000 - val_mae: 19592.6406\n",
      "Epoch 39/100\n",
      "37/37 [==============================] - 0s 8ms/step - loss: 981126656.0000 - mae: 21669.9414 - val_loss: 2459275264.0000 - val_mae: 18807.7285\n",
      "Epoch 40/100\n",
      "37/37 [==============================] - 0s 6ms/step - loss: 1190587904.0000 - mae: 22551.4570 - val_loss: 2489253888.0000 - val_mae: 23039.8711\n",
      "Epoch 41/100\n",
      "37/37 [==============================] - 0s 5ms/step - loss: 1011572480.0000 - mae: 22132.1016 - val_loss: 2655932928.0000 - val_mae: 21493.1367\n",
      "Epoch 42/100\n",
      "37/37 [==============================] - 0s 5ms/step - loss: 1150540032.0000 - mae: 22910.6875 - val_loss: 2463197184.0000 - val_mae: 19473.2285\n",
      "Epoch 43/100\n",
      "37/37 [==============================] - 0s 5ms/step - loss: 976910464.0000 - mae: 21921.8359 - val_loss: 2459693568.0000 - val_mae: 18849.1426\n",
      "Epoch 44/100\n",
      "37/37 [==============================] - 0s 5ms/step - loss: 1007065024.0000 - mae: 21510.3301 - val_loss: 2546876160.0000 - val_mae: 19443.8438\n",
      "Epoch 45/100\n",
      "37/37 [==============================] - 0s 5ms/step - loss: 1011341760.0000 - mae: 22049.5820 - val_loss: 2531800064.0000 - val_mae: 19417.4199\n",
      "Epoch 46/100\n",
      "37/37 [==============================] - 0s 5ms/step - loss: 1144056576.0000 - mae: 21575.0645 - val_loss: 2375229696.0000 - val_mae: 18995.6328\n",
      "Epoch 47/100\n",
      "37/37 [==============================] - 0s 5ms/step - loss: 1022153984.0000 - mae: 21986.7441 - val_loss: 2545651200.0000 - val_mae: 20052.3730\n",
      "Epoch 48/100\n",
      "37/37 [==============================] - 0s 5ms/step - loss: 1083196672.0000 - mae: 21855.4141 - val_loss: 2434903040.0000 - val_mae: 19735.6387\n",
      "Epoch 49/100\n",
      "37/37 [==============================] - 0s 5ms/step - loss: 1140770304.0000 - mae: 22265.5605 - val_loss: 2398442240.0000 - val_mae: 18854.6934\n",
      "Epoch 50/100\n",
      "37/37 [==============================] - 0s 5ms/step - loss: 1166498432.0000 - mae: 23022.8672 - val_loss: 2332108544.0000 - val_mae: 20856.6152\n",
      "Epoch 51/100\n",
      "37/37 [==============================] - 0s 5ms/step - loss: 911499776.0000 - mae: 20689.3672 - val_loss: 2339357184.0000 - val_mae: 18941.7598\n",
      "Epoch 52/100\n",
      "37/37 [==============================] - 0s 5ms/step - loss: 1059000832.0000 - mae: 22097.5195 - val_loss: 2466492672.0000 - val_mae: 20073.3691\n",
      "Epoch 53/100\n",
      "37/37 [==============================] - 0s 5ms/step - loss: 1019363072.0000 - mae: 22117.8125 - val_loss: 2331582720.0000 - val_mae: 18732.8320\n",
      "Epoch 54/100\n",
      "37/37 [==============================] - 0s 5ms/step - loss: 1015628224.0000 - mae: 20958.3633 - val_loss: 2452802048.0000 - val_mae: 20115.8965\n",
      "Epoch 55/100\n",
      "37/37 [==============================] - 0s 5ms/step - loss: 975001728.0000 - mae: 21789.2285 - val_loss: 2408624128.0000 - val_mae: 19235.9824\n",
      "Epoch 56/100\n",
      "37/37 [==============================] - 0s 5ms/step - loss: 896142464.0000 - mae: 20952.2188 - val_loss: 2421306624.0000 - val_mae: 18878.7148\n",
      "Epoch 57/100\n",
      "37/37 [==============================] - 0s 5ms/step - loss: 1026502016.0000 - mae: 21305.3535 - val_loss: 2397236736.0000 - val_mae: 19418.7148\n",
      "Epoch 58/100\n",
      "37/37 [==============================] - 0s 5ms/step - loss: 1058798720.0000 - mae: 21655.4648 - val_loss: 2362805504.0000 - val_mae: 19055.2656\n",
      "Epoch 59/100\n",
      "37/37 [==============================] - 0s 5ms/step - loss: 1095975936.0000 - mae: 22732.4297 - val_loss: 2429264896.0000 - val_mae: 20737.0312\n",
      "Epoch 60/100\n",
      "37/37 [==============================] - 0s 5ms/step - loss: 1188746752.0000 - mae: 23183.1406 - val_loss: 2443291904.0000 - val_mae: 19747.0430\n",
      "Epoch 61/100\n",
      "37/37 [==============================] - 0s 5ms/step - loss: 1029999808.0000 - mae: 21245.1348 - val_loss: 2577142272.0000 - val_mae: 20868.6680\n",
      "Epoch 62/100\n",
      "37/37 [==============================] - 0s 6ms/step - loss: 1032775296.0000 - mae: 21184.6602 - val_loss: 2357436672.0000 - val_mae: 20654.2188\n",
      "Epoch 63/100\n",
      "37/37 [==============================] - 0s 7ms/step - loss: 1005022720.0000 - mae: 21389.4707 - val_loss: 2317537024.0000 - val_mae: 19109.6523\n",
      "Epoch 64/100\n",
      "37/37 [==============================] - 0s 6ms/step - loss: 988322624.0000 - mae: 20980.5332 - val_loss: 2355075072.0000 - val_mae: 19252.9434\n",
      "Epoch 65/100\n",
      "37/37 [==============================] - 0s 5ms/step - loss: 882976704.0000 - mae: 20347.7715 - val_loss: 2443397376.0000 - val_mae: 20096.6660\n",
      "Epoch 66/100\n",
      "37/37 [==============================] - 0s 5ms/step - loss: 979969920.0000 - mae: 21811.7715 - val_loss: 2459730944.0000 - val_mae: 19644.0527\n",
      "Epoch 67/100\n",
      "37/37 [==============================] - 0s 6ms/step - loss: 1020426688.0000 - mae: 21422.7930 - val_loss: 2380769280.0000 - val_mae: 18954.1289\n",
      "Epoch 68/100\n",
      "37/37 [==============================] - 0s 5ms/step - loss: 1067768960.0000 - mae: 22012.8535 - val_loss: 2364486656.0000 - val_mae: 19182.9629\n",
      "Epoch 69/100\n",
      "37/37 [==============================] - 0s 5ms/step - loss: 917398976.0000 - mae: 20936.9629 - val_loss: 2414099200.0000 - val_mae: 19100.8066\n",
      "Epoch 70/100\n",
      "37/37 [==============================] - 0s 5ms/step - loss: 872654784.0000 - mae: 20546.9160 - val_loss: 2371707392.0000 - val_mae: 18754.6426\n",
      "Epoch 71/100\n",
      "37/37 [==============================] - 0s 6ms/step - loss: 977660672.0000 - mae: 21851.4648 - val_loss: 2384795648.0000 - val_mae: 20024.6035\n",
      "Epoch 72/100\n",
      "37/37 [==============================] - 0s 5ms/step - loss: 954244352.0000 - mae: 21375.0645 - val_loss: 2412438784.0000 - val_mae: 19299.6602\n",
      "Epoch 73/100\n",
      "37/37 [==============================] - 0s 5ms/step - loss: 989348544.0000 - mae: 21589.1992 - val_loss: 2337564928.0000 - val_mae: 19134.3223\n",
      "Epoch 74/100\n",
      "37/37 [==============================] - 0s 5ms/step - loss: 944779008.0000 - mae: 21183.0625 - val_loss: 2411692800.0000 - val_mae: 18885.9648\n",
      "Epoch 75/100\n",
      "37/37 [==============================] - 0s 5ms/step - loss: 1016610112.0000 - mae: 21833.1250 - val_loss: 2614927360.0000 - val_mae: 22552.8887\n",
      "Epoch 76/100\n",
      "37/37 [==============================] - 0s 5ms/step - loss: 1066057024.0000 - mae: 21595.2773 - val_loss: 2434691072.0000 - val_mae: 20004.7090\n",
      "Epoch 77/100\n",
      "37/37 [==============================] - 0s 5ms/step - loss: 1034657664.0000 - mae: 21516.2031 - val_loss: 2338993920.0000 - val_mae: 18992.0723\n",
      "Epoch 78/100\n",
      "37/37 [==============================] - 0s 5ms/step - loss: 973319040.0000 - mae: 21264.6406 - val_loss: 2288660736.0000 - val_mae: 18899.4785\n",
      "Epoch 79/100\n",
      "37/37 [==============================] - 0s 5ms/step - loss: 972140352.0000 - mae: 21478.8613 - val_loss: 2366522368.0000 - val_mae: 18857.5078\n",
      "Epoch 80/100\n",
      "37/37 [==============================] - 0s 5ms/step - loss: 1055400512.0000 - mae: 21763.6660 - val_loss: 2418791424.0000 - val_mae: 19064.7852\n",
      "Epoch 81/100\n",
      "37/37 [==============================] - 0s 5ms/step - loss: 961624896.0000 - mae: 21611.9570 - val_loss: 2420479232.0000 - val_mae: 20141.7383\n",
      "Epoch 82/100\n",
      "37/37 [==============================] - 0s 5ms/step - loss: 970092608.0000 - mae: 21171.2754 - val_loss: 2332580864.0000 - val_mae: 19053.6855\n",
      "Epoch 83/100\n",
      "37/37 [==============================] - 0s 5ms/step - loss: 997874688.0000 - mae: 21309.8867 - val_loss: 2336455424.0000 - val_mae: 20065.7930\n",
      "Epoch 84/100\n",
      "37/37 [==============================] - 0s 5ms/step - loss: 995357760.0000 - mae: 21973.2715 - val_loss: 2436987392.0000 - val_mae: 18956.7305\n",
      "Epoch 85/100\n",
      "37/37 [==============================] - 0s 5ms/step - loss: 966209280.0000 - mae: 20797.8887 - val_loss: 2432673280.0000 - val_mae: 19816.1484\n",
      "Epoch 86/100\n",
      "37/37 [==============================] - 0s 5ms/step - loss: 878944320.0000 - mae: 20369.3516 - val_loss: 2432366336.0000 - val_mae: 19102.8340\n",
      "Epoch 87/100\n",
      "37/37 [==============================] - 0s 5ms/step - loss: 957210624.0000 - mae: 21633.9844 - val_loss: 2440186624.0000 - val_mae: 19141.6172\n",
      "Epoch 88/100\n",
      "37/37 [==============================] - 0s 5ms/step - loss: 866937856.0000 - mae: 20805.1133 - val_loss: 2431362816.0000 - val_mae: 19209.9102\n",
      "Epoch 89/100\n",
      "37/37 [==============================] - 0s 6ms/step - loss: 967363200.0000 - mae: 22116.4512 - val_loss: 2353939968.0000 - val_mae: 18860.8848\n",
      "Epoch 90/100\n",
      "37/37 [==============================] - 0s 6ms/step - loss: 1224559744.0000 - mae: 23944.0547 - val_loss: 2365122816.0000 - val_mae: 19071.5293\n",
      "Epoch 91/100\n",
      "37/37 [==============================] - 0s 5ms/step - loss: 996374080.0000 - mae: 23121.8027 - val_loss: 2468259072.0000 - val_mae: 24066.0859\n",
      "Epoch 92/100\n",
      "37/37 [==============================] - 0s 8ms/step - loss: 1128215424.0000 - mae: 23634.1035 - val_loss: 2264451840.0000 - val_mae: 19971.5098\n",
      "Epoch 93/100\n",
      "37/37 [==============================] - 0s 6ms/step - loss: 958483520.0000 - mae: 21828.5391 - val_loss: 2208380160.0000 - val_mae: 18768.4375\n",
      "Epoch 94/100\n",
      "37/37 [==============================] - 0s 5ms/step - loss: 1108620032.0000 - mae: 22020.1035 - val_loss: 2269475840.0000 - val_mae: 19080.6035\n",
      "Epoch 95/100\n",
      "37/37 [==============================] - 0s 5ms/step - loss: 965173568.0000 - mae: 20931.5703 - val_loss: 2244193280.0000 - val_mae: 19166.7812\n",
      "Epoch 96/100\n",
      "37/37 [==============================] - 0s 5ms/step - loss: 897852992.0000 - mae: 20555.0527 - val_loss: 2250854912.0000 - val_mae: 18377.3750\n",
      "Epoch 97/100\n",
      "37/37 [==============================] - 0s 5ms/step - loss: 1085703552.0000 - mae: 22108.1211 - val_loss: 2440532224.0000 - val_mae: 20049.2930\n",
      "Epoch 98/100\n",
      "37/37 [==============================] - 0s 6ms/step - loss: 1186149376.0000 - mae: 22723.1270 - val_loss: 2465877760.0000 - val_mae: 22517.5703\n",
      "Epoch 99/100\n",
      "37/37 [==============================] - 0s 5ms/step - loss: 971332736.0000 - mae: 21905.7852 - val_loss: 2266769152.0000 - val_mae: 18678.9648\n",
      "Epoch 100/100\n",
      "37/37 [==============================] - 0s 5ms/step - loss: 1012276992.0000 - mae: 21443.6172 - val_loss: 2279436800.0000 - val_mae: 19042.2988\n"
     ]
    }
   ],
   "source": [
    "model.compile(optimizer='adam', loss='mse', metrics=['mae'])\n",
    "history = model.fit(X, y, epochs=100, validation_split=0.2)"
   ]
  },
  {
   "cell_type": "code",
   "execution_count": 57,
   "metadata": {},
   "outputs": [
    {
     "data": {
      "text/plain": [
       "<matplotlib.legend.Legend at 0x2a6d3d33df0>"
      ]
     },
     "execution_count": 57,
     "metadata": {},
     "output_type": "execute_result"
    },
    {
     "data": {
      "image/png": "[encoded data removed]",
      "text/plain": [
       "<Figure size 864x576 with 1 Axes>"
      ]
     },
     "metadata": {},
     "output_type": "display_data"
    }
   ],
   "source": [
    "plt.figure(figsize=(12,8))\n",
    "plt.plot(history.history['loss'], label='train')\n",
    "plt.plot(history.history['val_loss'], label='test')\n",
    "plt.legend()"
   ]
  },
  {
   "cell_type": "code",
   "execution_count": 58,
   "metadata": {},
   "outputs": [],
   "source": [
    "pred = model.predict(test)\n",
    "label = pd.read_csv('data/test_Id.csv')\n",
    "assert len(pred) == len(label)\n",
    "sub = pd.DataFrame(label[\"Id\"], columns=[\"Id\"])\n",
    "sub[\"SalePrice\"] = pred\n",
    "sub.to_csv('data\\submissions\\submission_2.csv', index=False)"
   ]
  },
  {
   "cell_type": "code",
   "execution_count": 59,
   "metadata": {},
   "outputs": [
    {
     "name": "stdout",
     "output_type": "stream",
     "text": [
      "Successfully submitted to House Prices - Advanced Regression Techniques\n"
     ]
    },
    {
     "name": "stderr",
     "output_type": "stream",
     "text": [
      "\n",
      "  0%|          | 0.00/22.6k [00:00<?, ?B/s]\n",
      " 35%|███▌      | 8.00k/22.6k [00:00<00:00, 69.7kB/s]\n",
      "100%|██████████| 22.6k/22.6k [00:05<00:00, 4.08kB/s]\n"
     ]
    }
   ],
   "source": [
    "!kaggle competitions submit -c house-prices-advanced-regression-techniques -f data\\submissions\\submission_2.csv -m \"Second submission\""
   ]
  }
 ],
 "metadata": {
  "kernelspec": {
   "display_name": "Python 3.8.5",
   "language": "python",
   "name": "python3"
  },
  "language_info": {
   "codemirror_mode": {
    "name": "ipython",
    "version": 3
   },
   "file_extension": ".py",
   "mimetype": "text/x-python",
   "name": "python",
   "nbconvert_exporter": "python",
   "pygments_lexer": "ipython3",
   "version": "3.8.5"
  },
  "orig_nbformat": 4,
  "vscode": {
   "interpreter": {
    "hash": "98a06921e42c4ae689d578665f28201be7cad9b45c4149f8887161f1353af971"
   }
  }
 },
 "nbformat": 4,
 "nbformat_minor": 2
}
