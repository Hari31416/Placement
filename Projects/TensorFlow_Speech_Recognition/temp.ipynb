{
 "cells": [
  {
   "cell_type": "code",
   "execution_count": 1,
   "metadata": {},
   "outputs": [],
   "source": [
    "import sys\n",
    "sys.path.append('../../tools')"
   ]
  },
  {
   "cell_type": "code",
   "execution_count": 2,
   "metadata": {
    "scrolled": true
   },
   "outputs": [],
   "source": [
    "from files.notebook import Notebook"
   ]
  },
  {
   "cell_type": "code",
   "execution_count": 3,
   "metadata": {},
   "outputs": [],
   "source": [
    "nb = Notebook()"
   ]
  },
  {
   "cell_type": "code",
   "execution_count": 6,
   "metadata": {},
   "outputs": [
    {
     "name": "stdout",
     "output_type": "stream",
     "text": [
      "Converting the Notebook to HTML.\n",
      "Looking for the Headers and their positions.\n",
      "Getting correct order of the Headers.\n",
      "Creating the Contents.\n",
      "Content copied to clipboard.\n"
     ]
    }
   ],
   "source": [
    "text = nb.create_content(nb.notebooks[0], return_string=True)"
   ]
  },
  {
   "cell_type": "code",
   "execution_count": 7,
   "metadata": {},
   "outputs": [
    {
     "name": "stdout",
     "output_type": "stream",
     "text": [
      "<h2 id=\"Contents\">Contents<a href=\"#Contents\"></a></h2>\n",
      "        <ol>\n",
      "        <li><a class=\"\" href=\"#Imports\">Imports</a></li>\n",
      "<li><a class=\"\" href=\"#Preprocessing\">Preprocessing</a></li>\n",
      "<ol><li><a class=\"\" href=\"#Extracting-Data\">Extracting Data</a></li>\n",
      "<ol><li><a class=\"\" href=\"#Removing-the-_backgroundnoise-folder\">Removing the _backgroundnoise folder</a></li>\n",
      "</ol><li><a class=\"\" href=\"#Loading-the-Data\">Loading the Data</a></li>\n",
      "<li><a class=\"\" href=\"#Creating-Train,-Test,-Val-Split\">Creating Train, Test, Val Split</a></li>\n",
      "<li><a class=\"\" href=\"#Reading-Audio-Files\">Reading Audio Files</a></li>\n",
      "<ol><li><a class=\"\" href=\"#Decoding-Binary-Audio-File\">Decoding Binary Audio File</a></li>\n",
      "<li><a class=\"\" href=\"#Decoding-the-Label\">Decoding the Label</a></li>\n",
      "<li><a class=\"\" href=\"#Plotting-The-Waveform\">Plotting The Waveform</a></li>\n",
      "<li><a class=\"\" href=\"#Getting-Spectrogram\">Getting Spectrogram</a></li>\n",
      "<li><a class=\"\" href=\"#Getting-Label-ID\">Getting Label ID</a></li>\n",
      "<li><a class=\"\" href=\"#Create-the-DataSet\">Create the DataSet</a></li>\n",
      "</ol><li><a class=\"\" href=\"#Modeling\">Modeling</a></li>\n",
      "<ol><li><a class=\"\" href=\"#The-Base-Model\">The Base Model</a></li>\n",
      "</ol><li><a class=\"\" href=\"#Inference\">Inference</a></li>\n",
      "<ol><li><a class=\"\" href=\"#Saving-the-Model\">Saving the Model</a></li>\n",
      "</ol><li><a class=\"\" href=\"#Analyzing-the-Predictions-of-the-Model\">Analyzing the Predictions of the Model</a></li>\n",
      "<ol><li><a class=\"\" href=\"#Plotting-Confusion-Matrix\">Plotting Confusion Matrix</a></li>\n",
      "</ol><li><a class=\"\" href=\"#Creating-the-Submission-File\">Creating the Submission File</a></li>\n",
      "</ol>\n"
     ]
    }
   ],
   "source": [
    "print(text)"
   ]
  },
  {
   "cell_type": "code",
   "execution_count": 8,
   "metadata": {},
   "outputs": [
    {
     "name": "stderr",
     "output_type": "stream",
     "text": [
      "Exporting notebooks...: 100%|██████████| 2/2 [00:01<00:00,  1.95it/s]\n"
     ]
    }
   ],
   "source": [
    "files = nb.export_directory()"
   ]
  },
  {
   "cell_type": "code",
   "execution_count": 9,
   "metadata": {},
   "outputs": [
    {
     "data": {
      "text/plain": [
       "['././Preprocessing_Models.html', '././temp.html']"
      ]
     },
     "execution_count": 9,
     "metadata": {},
     "output_type": "execute_result"
    }
   ],
   "source": [
    "files"
   ]
  },
  {
   "cell_type": "code",
   "execution_count": 10,
   "metadata": {},
   "outputs": [
    {
     "name": "stdout",
     "output_type": "stream",
     "text": [
      "<ul><li>\n",
      "            <a href=\"Projects/House_Price/Preprocessing_Models.html\" target=\"blank\" class=\"links\">Preprocessing Models</a>\n",
      "          </li></ul>\n"
     ]
    }
   ],
   "source": [
    "start = \"<ul>\"\n",
    "end = \"</ul>\"\n",
    "for f in files:\n",
    "    if \"temp\" in f:\n",
    "        continue\n",
    "    file = f.split(\"/\")[-1]\n",
    "    name = file.split(\".\")[0]\n",
    "    name = name.replace(\"_\", \" \")\n",
    "    start+=f\"\"\"<li>\n",
    "            <a href=\"Projects/House_Price/{file}\" target=\"blank\" class=\"links\">{name}</a>\n",
    "          </li>\"\"\"\n",
    "start+=end\n",
    "print(start)"
   ]
  },
  {
   "cell_type": "code",
   "execution_count": 20,
   "metadata": {},
   "outputs": [
    {
     "name": "stderr",
     "output_type": "stream",
     "text": [
      "QXcbClipboard::setMimeData: Cannot set X11 selection owner\n"
     ]
    }
   ],
   "source": [
    "import pyperclip\n",
    "pyperclip.copy(text)"
   ]
  },
  {
   "cell_type": "code",
   "execution_count": 13,
   "metadata": {},
   "outputs": [
    {
     "data": {
      "text/plain": [
       "['.\\\\Easy_1.ipynb',\n",
       " '.\\\\Easy_2.ipynb',\n",
       " '.\\\\Easy_3.ipynb',\n",
       " '.\\\\Hard_1.ipynb',\n",
       " '.\\\\Medium_1.ipynb',\n",
       " '.\\\\Medium_2.ipynb',\n",
       " '.\\\\temp.ipynb']"
      ]
     },
     "execution_count": 13,
     "metadata": {},
     "output_type": "execute_result"
    }
   ],
   "source": [
    "nb.notebooks"
   ]
  },
  {
   "cell_type": "code",
   "execution_count": 15,
   "metadata": {},
   "outputs": [
    {
     "data": {
      "text/plain": [
       "'.\\\\Easy_3.html'"
      ]
     },
     "execution_count": 15,
     "metadata": {},
     "output_type": "execute_result"
    }
   ],
   "source": [
    "nb.export_notebook(nb.notebooks[2])"
   ]
  },
  {
   "cell_type": "code",
   "execution_count": null,
   "metadata": {},
   "outputs": [],
   "source": []
  }
 ],
 "metadata": {
  "kernelspec": {
   "display_name": "Python 3 (ipykernel)",
   "language": "python",
   "name": "python3"
  },
  "language_info": {
   "codemirror_mode": {
    "name": "ipython",
    "version": 3
   },
   "file_extension": ".py",
   "mimetype": "text/x-python",
   "name": "python",
   "nbconvert_exporter": "python",
   "pygments_lexer": "ipython3",
   "version": "3.9.12"
  },
  "vscode": {
   "interpreter": {
    "hash": "2efee1efa502125d01e6b4768ba06d9453d29f3642bfd14ad5d4a769de82e88c"
   }
  }
 },
 "nbformat": 4,
 "nbformat_minor": 2
}
