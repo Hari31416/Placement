{
 "cells": [
  {
   "cell_type": "code",
   "execution_count": 3,
   "metadata": {},
   "outputs": [],
   "source": [
    "import sys\n",
    "sys.path.append('../tools')"
   ]
  },
  {
   "cell_type": "code",
   "execution_count": 4,
   "metadata": {
    "scrolled": true
   },
   "outputs": [],
   "source": [
    "from files.notebook import Notebook"
   ]
  },
  {
   "cell_type": "code",
   "execution_count": 5,
   "metadata": {},
   "outputs": [],
   "source": [
    "nb = Notebook(\"House_Price\")"
   ]
  },
  {
   "cell_type": "code",
   "execution_count": 13,
   "metadata": {},
   "outputs": [
    {
     "name": "stdout",
     "output_type": "stream",
     "text": [
      "Converting the Notebook to HTML.\n",
      "Looking for the Headers and their positions.\n",
      "Getting correct order of the Headers.\n",
      "Creating the Contents.\n",
      "Content copied to clipboard.\n"
     ]
    },
    {
     "name": "stderr",
     "output_type": "stream",
     "text": [
      "QXcbClipboard::setMimeData: Cannot set X11 selection owner\n"
     ]
    }
   ],
   "source": [
    "text = nb.create_content(nb.notebooks[-1], return_string=True)"
   ]
  },
  {
   "cell_type": "code",
   "execution_count": 14,
   "metadata": {},
   "outputs": [
    {
     "name": "stdout",
     "output_type": "stream",
     "text": [
      "<h2 id=\"Contents\">Contents<a href=\"#Contents\"></a></h2>\n",
      "        <ol>\n",
      "        <ol><li><a class=\"\" href=\"#Assignment\">Assignment</a></li>\n",
      "<li><a class=\"\" href=\"#Object-References\">Object References</a></li>\n",
      "<li><a class=\"\" href=\"#Object-Identity\">Object Identity</a></li>\n",
      "<ol><li><a class=\"\" href=\"#Small-Integers\">Small Integers</a></li>\n",
      "</ol><li><a class=\"\" href=\"#Reserved-Words-(Keywords)\">Reserved Words (Keywords)</a></li>\n",
      "</ol>\n"
     ]
    }
   ],
   "source": [
    "print(text)"
   ]
  },
  {
   "cell_type": "code",
   "execution_count": 6,
   "metadata": {},
   "outputs": [
    {
     "name": "stderr",
     "output_type": "stream",
     "text": [
      "Exporting notebooks...:   0%|          | 0/4 [00:00<?, ?it/s]\n"
     ]
    },
    {
     "ename": "FileNotFoundError",
     "evalue": "[Errno 2] No such file or directory: 'House_Price/House_Price/Data_Cleaning.ipynb'",
     "output_type": "error",
     "traceback": [
      "\u001b[0;31m---------------------------------------------------------------------------\u001b[0m",
      "\u001b[0;31mAttributeError\u001b[0m                            Traceback (most recent call last)",
      "File \u001b[0;32m~/anaconda3/envs/data-science/lib/python3.9/site-packages/nbformat/__init__.py:165\u001b[0m, in \u001b[0;36mread\u001b[0;34m(fp, as_version, capture_validation_error, **kwargs)\u001b[0m\n\u001b[1;32m    164\u001b[0m \u001b[39mtry\u001b[39;00m:\n\u001b[0;32m--> 165\u001b[0m     buf \u001b[39m=\u001b[39m fp\u001b[39m.\u001b[39;49mread()\n\u001b[1;32m    166\u001b[0m \u001b[39mexcept\u001b[39;00m \u001b[39mAttributeError\u001b[39;00m:\n",
      "\u001b[0;31mAttributeError\u001b[0m: 'str' object has no attribute 'read'",
      "\nDuring handling of the above exception, another exception occurred:\n",
      "\u001b[0;31mFileNotFoundError\u001b[0m                         Traceback (most recent call last)",
      "\u001b[1;32m/media/hari31416/Hari_SSD/Users/harik/Desktop/Placement/Projects/temp.ipynb Cell 6\u001b[0m in \u001b[0;36m<cell line: 1>\u001b[0;34m()\u001b[0m\n\u001b[0;32m----> <a href='vscode-notebook-cell:/media/hari31416/Hari_SSD/Users/harik/Desktop/Placement/Projects/temp.ipynb#W6sZmlsZQ%3D%3D?line=0'>1</a>\u001b[0m files \u001b[39m=\u001b[39m nb\u001b[39m.\u001b[39;49mexport_directory()\n",
      "File \u001b[0;32m/media/hari31416/Hari_SSD/Users/harik/Desktop/Placement/Projects/../tools/files/notebook.py:88\u001b[0m, in \u001b[0;36mNotebook.export_directory\u001b[0;34m(self)\u001b[0m\n\u001b[1;32m     86\u001b[0m file_paths \u001b[39m=\u001b[39m []\n\u001b[1;32m     87\u001b[0m \u001b[39mfor\u001b[39;00m file \u001b[39min\u001b[39;00m tqdm\u001b[39m.\u001b[39mtqdm(\u001b[39mself\u001b[39m\u001b[39m.\u001b[39mnotebooks, desc\u001b[39m=\u001b[39m\u001b[39m\"\u001b[39m\u001b[39mExporting notebooks...\u001b[39m\u001b[39m\"\u001b[39m):\n\u001b[0;32m---> 88\u001b[0m     path \u001b[39m=\u001b[39m \u001b[39mself\u001b[39;49m\u001b[39m.\u001b[39;49mexport_notebook(os\u001b[39m.\u001b[39;49mpath\u001b[39m.\u001b[39;49mjoin(\u001b[39mself\u001b[39;49m\u001b[39m.\u001b[39;49mdirectory, file))\n\u001b[1;32m     89\u001b[0m     file_paths\u001b[39m.\u001b[39mappend(path)\n\u001b[1;32m     90\u001b[0m \u001b[39mreturn\u001b[39;00m file_paths\n",
      "File \u001b[0;32m/media/hari31416/Hari_SSD/Users/harik/Desktop/Placement/Projects/../tools/files/notebook.py:60\u001b[0m, in \u001b[0;36mNotebook.export_notebook\u001b[0;34m(self, notebook_path, output_path)\u001b[0m\n\u001b[1;32m     44\u001b[0m \u001b[39m\"\"\"\u001b[39;00m\n\u001b[1;32m     45\u001b[0m \u001b[39mExport a notebook to an HTML file.\u001b[39;00m\n\u001b[1;32m     46\u001b[0m \n\u001b[0;32m   (...)\u001b[0m\n\u001b[1;32m     57\u001b[0m \u001b[39m    Path to the output  html file.\u001b[39;00m\n\u001b[1;32m     58\u001b[0m \u001b[39m\"\"\"\u001b[39;00m\n\u001b[1;32m     59\u001b[0m \u001b[39m# Extracting html from the notebook\u001b[39;00m\n\u001b[0;32m---> 60\u001b[0m notebook \u001b[39m=\u001b[39m nbformat\u001b[39m.\u001b[39;49mread(notebook_path, as_version\u001b[39m=\u001b[39;49m\u001b[39m4\u001b[39;49m)\n\u001b[1;32m     61\u001b[0m html_exporter \u001b[39m=\u001b[39m HTMLExporter(template_name\u001b[39m=\u001b[39m\u001b[39m\"\u001b[39m\u001b[39mclassic\u001b[39m\u001b[39m\"\u001b[39m)\n\u001b[1;32m     62\u001b[0m (body, _) \u001b[39m=\u001b[39m html_exporter\u001b[39m.\u001b[39mfrom_notebook_node(notebook)\n",
      "File \u001b[0;32m~/anaconda3/envs/data-science/lib/python3.9/site-packages/nbformat/__init__.py:167\u001b[0m, in \u001b[0;36mread\u001b[0;34m(fp, as_version, capture_validation_error, **kwargs)\u001b[0m\n\u001b[1;32m    165\u001b[0m     buf \u001b[39m=\u001b[39m fp\u001b[39m.\u001b[39mread()\n\u001b[1;32m    166\u001b[0m \u001b[39mexcept\u001b[39;00m \u001b[39mAttributeError\u001b[39;00m:\n\u001b[0;32m--> 167\u001b[0m     \u001b[39mwith\u001b[39;00m \u001b[39mopen\u001b[39;49m(fp, encoding\u001b[39m=\u001b[39;49m\u001b[39m\"\u001b[39;49m\u001b[39mutf-8\u001b[39;49m\u001b[39m\"\u001b[39;49m) \u001b[39mas\u001b[39;00m f:\n\u001b[1;32m    168\u001b[0m         \u001b[39mreturn\u001b[39;00m reads(f\u001b[39m.\u001b[39mread(), as_version, capture_validation_error, \u001b[39m*\u001b[39m\u001b[39m*\u001b[39mkwargs)\n\u001b[1;32m    170\u001b[0m \u001b[39mreturn\u001b[39;00m reads(buf, as_version, capture_validation_error, \u001b[39m*\u001b[39m\u001b[39m*\u001b[39mkwargs)\n",
      "\u001b[0;31mFileNotFoundError\u001b[0m: [Errno 2] No such file or directory: 'House_Price/House_Price/Data_Cleaning.ipynb'"
     ]
    }
   ],
   "source": [
    "files = nb.export_directory()"
   ]
  },
  {
   "cell_type": "code",
   "execution_count": 16,
   "metadata": {},
   "outputs": [
    {
     "data": {
      "text/plain": [
       "['././Scope_and_Namespace.html',\n",
       " '././temp.html',\n",
       " '././Terminology.html',\n",
       " '././Variables_and_Pointers.html']"
      ]
     },
     "execution_count": 16,
     "metadata": {},
     "output_type": "execute_result"
    }
   ],
   "source": [
    "files"
   ]
  },
  {
   "cell_type": "code",
   "execution_count": 19,
   "metadata": {},
   "outputs": [
    {
     "name": "stdout",
     "output_type": "stream",
     "text": [
      "<ul><li>\n",
      "            <a href=\"Notes/Python/Scope_and_Namespace.html\" target=\"blank\" class=\"links\">Scope and Namespace</a>\n",
      "          </li><li>\n",
      "            <a href=\"Notes/Python/Terminology.html\" target=\"blank\" class=\"links\">Terminology</a>\n",
      "          </li><li>\n",
      "            <a href=\"Notes/Python/Variables_and_Pointers.html\" target=\"blank\" class=\"links\">Variables and Pointers</a>\n",
      "          </li></ul>\n"
     ]
    }
   ],
   "source": [
    "start = \"<ul>\"\n",
    "end = \"</ul>\"\n",
    "for f in files:\n",
    "    if \"temp\" in f:\n",
    "        continue\n",
    "    file = f.split(\"/\")[-1]\n",
    "    name = file.split(\".\")[0]\n",
    "    name = name.replace(\"_\", \" \")\n",
    "    start+=f\"\"\"<li>\n",
    "            <a href=\"Notes/Python/{file}\" target=\"blank\" class=\"links\">{name}</a>\n",
    "          </li>\"\"\"\n",
    "start+=end\n",
    "print(start)"
   ]
  },
  {
   "cell_type": "code",
   "execution_count": 20,
   "metadata": {},
   "outputs": [
    {
     "name": "stderr",
     "output_type": "stream",
     "text": [
      "QXcbClipboard::setMimeData: Cannot set X11 selection owner\n"
     ]
    }
   ],
   "source": [
    "import pyperclip\n",
    "pyperclip.copy(text)"
   ]
  },
  {
   "cell_type": "code",
   "execution_count": 13,
   "metadata": {},
   "outputs": [
    {
     "data": {
      "text/plain": [
       "['.\\\\Easy_1.ipynb',\n",
       " '.\\\\Easy_2.ipynb',\n",
       " '.\\\\Easy_3.ipynb',\n",
       " '.\\\\Hard_1.ipynb',\n",
       " '.\\\\Medium_1.ipynb',\n",
       " '.\\\\Medium_2.ipynb',\n",
       " '.\\\\temp.ipynb']"
      ]
     },
     "execution_count": 13,
     "metadata": {},
     "output_type": "execute_result"
    }
   ],
   "source": [
    "nb.notebooks"
   ]
  },
  {
   "cell_type": "code",
   "execution_count": 15,
   "metadata": {},
   "outputs": [
    {
     "data": {
      "text/plain": [
       "'.\\\\Easy_3.html'"
      ]
     },
     "execution_count": 15,
     "metadata": {},
     "output_type": "execute_result"
    }
   ],
   "source": [
    "nb.export_notebook(nb.notebooks[2])"
   ]
  },
  {
   "cell_type": "code",
   "execution_count": null,
   "metadata": {},
   "outputs": [],
   "source": []
  }
 ],
 "metadata": {
  "kernelspec": {
   "display_name": "Python 3 (ipykernel)",
   "language": "python",
   "name": "python3"
  },
  "language_info": {
   "codemirror_mode": {
    "name": "ipython",
    "version": 3
   },
   "file_extension": ".py",
   "mimetype": "text/x-python",
   "name": "python",
   "nbconvert_exporter": "python",
   "pygments_lexer": "ipython3",
   "version": "3.9.12"
  },
  "vscode": {
   "interpreter": {
    "hash": "2efee1efa502125d01e6b4768ba06d9453d29f3642bfd14ad5d4a769de82e88c"
   }
  }
 },
 "nbformat": 4,
 "nbformat_minor": 2
}
