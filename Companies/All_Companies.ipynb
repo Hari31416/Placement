{
 "cells": [
  {
   "cell_type": "markdown",
   "metadata": {},
   "source": [
    "# Imports"
   ]
  },
  {
   "cell_type": "code",
   "execution_count": 1,
   "metadata": {},
   "outputs": [],
   "source": [
    "import webdriver_manager\n",
    "from selenium.webdriver.common.by import By\n",
    "from selenium.webdriver.common.keys import Keys\n",
    "from selenium import webdriver\n",
    "from webdriver_manager.chrome import ChromeDriverManager\n",
    "from webdriver_manager.firefox import GeckoDriverManager\n",
    "from selenium.webdriver.chrome.service import Service as ChromeService\n",
    "from IPython.display import clear_output\n",
    "import time\n",
    "import pandas as pd\n",
    "import IPython\n",
    "import os\n",
    "from decouple import config"
   ]
  },
  {
   "cell_type": "markdown",
   "metadata": {},
   "source": [
    "# Driver and Functions"
   ]
  },
  {
   "cell_type": "code",
   "execution_count": 2,
   "metadata": {},
   "outputs": [
    {
     "name": "stderr",
     "output_type": "stream",
     "text": [
      "[WDM] - Downloading: 100%|██████████| 7.26M/7.26M [00:00<00:00, 22.5MB/s]\n"
     ]
    }
   ],
   "source": [
    "driver = webdriver.Chrome(service=ChromeService(ChromeDriverManager().install()))"
   ]
  },
  {
   "cell_type": "code",
   "execution_count": 3,
   "metadata": {},
   "outputs": [],
   "source": [
    "def login():\n",
    "    driver.get(\"https://ocs.iitd.ac.in/portal/login\")\n",
    "    ID = config(\"OCS_ID\")\n",
    "    password = config(\"OCS_PASSWORD\")\n",
    "    driver.get(\"https://ocs.iitd.ac.in/portal/login\")\n",
    "    driver.find_element(By.ID, \"mat-input-0\").send_keys(ID)\n",
    "    driver.find_element(By.ID, \"mat-input-1\").send_keys(password)\n",
    "    captcha = driver.find_element(By.TAG_NAME, \"object\")\n",
    "    captcha.screenshot(\"captcha.png\")\n",
    "    IPython.display.display(IPython.display.Image(\"captcha.png\"))\n",
    "    captcha_code = input(\"Enter the captcha code: \")\n",
    "    driver.find_element(By.ID, \"mat-input-2\").send_keys(captcha_code)\n",
    "    driver.find_element(By.TAG_NAME, \"button\").click()"
   ]
  },
  {
   "cell_type": "code",
   "execution_count": 4,
   "metadata": {},
   "outputs": [],
   "source": [
    "def list_companies(url = \"https://ocs.iitd.ac.in/portal/student/applications\", class1= \"mat-select-value-5\", class2 = \"mat-option-14\"):\n",
    "    driver.get(url)\n",
    "    driver.find_element(By.ID, class1).click()\n",
    "    driver.find_element(By.ID, class2).click()\n",
    "    max_rows = int(driver.find_element(By.CLASS_NAME, \"mat-paginator-range-label\").text.split(\" \")[-1])\n",
    "    return max_rows"
   ]
  },
  {
   "cell_type": "code",
   "execution_count": 5,
   "metadata": {},
   "outputs": [],
   "source": [
    "def result(max_rows):\n",
    "    companies = []\n",
    "    profiles = []\n",
    "    page_num = 0\n",
    "    per_page = 50\n",
    "    while page_num*per_page<=max_rows:\n",
    "        print(f\"Currently on page {page_num+1}\", end=\"\\r\")\n",
    "        table = driver.find_element(By.TAG_NAME, \"table\")\n",
    "        rows = table.find_elements(By.TAG_NAME, \"tr\")\n",
    "        for i in range(1, len(rows)):\n",
    "            data = rows[i].find_element(By.TAG_NAME, \"td\").text.split(\"\\n\")[0]\n",
    "            company = data.split(\"(\")[0]\n",
    "            profile = data.split(\"(\")[1].split(\")\")[0]\n",
    "            companies.append(company.strip())\n",
    "            profiles.append(profile.strip())\n",
    "        next_btn = driver.find_elements(By.CLASS_NAME, \"mat-button-wrapper\")[1]\n",
    "        next_btn.click()\n",
    "        page_num+=1\n",
    "    all_companies = pd.DataFrame([companies, profiles]).T\n",
    "    all_companies.columns = [\"Company\", \"Profile\"]\n",
    "    return all_companies"
   ]
  },
  {
   "cell_type": "code",
   "execution_count": 6,
   "metadata": {},
   "outputs": [],
   "source": [
    "def logout():\n",
    "    for item in driver.find_elements(By.TAG_NAME ,\"mat-icon\"):\n",
    "        if item.text == \"exit_to_app\":\n",
    "            item.click()\n",
    "            return None"
   ]
  },
  {
   "cell_type": "markdown",
   "metadata": {},
   "source": [
    "# Start"
   ]
  },
  {
   "cell_type": "code",
   "execution_count": 7,
   "metadata": {},
   "outputs": [
    {
     "data": {
      "image/png": "[encoded data removed]",
      "text/plain": [
       "<IPython.core.display.Image object>"
      ]
     },
     "metadata": {},
     "output_type": "display_data"
    }
   ],
   "source": [
    "login()\n",
    "os.remove(\"captcha.png\")"
   ]
  },
  {
   "cell_type": "markdown",
   "metadata": {},
   "source": [
    "## MSC List"
   ]
  },
  {
   "cell_type": "code",
   "execution_count": 8,
   "metadata": {},
   "outputs": [
    {
     "name": "stdout",
     "output_type": "stream",
     "text": [
      "Currently on page 3\r"
     ]
    }
   ],
   "source": [
    "max_rows = list_companies()\n",
    "msc_df = result(max_rows=max_rows)"
   ]
  },
  {
   "cell_type": "code",
   "execution_count": 9,
   "metadata": {},
   "outputs": [
    {
     "data": {
      "text/html": [
       "<div>\n",
       "<style scoped>\n",
       "    .dataframe tbody tr th:only-of-type {\n",
       "        vertical-align: middle;\n",
       "    }\n",
       "\n",
       "    .dataframe tbody tr th {\n",
       "        vertical-align: top;\n",
       "    }\n",
       "\n",
       "    .dataframe thead th {\n",
       "        text-align: right;\n",
       "    }\n",
       "</style>\n",
       "<table border=\"1\" class=\"dataframe\">\n",
       "  <thead>\n",
       "    <tr style=\"text-align: right;\">\n",
       "      <th></th>\n",
       "      <th>Company</th>\n",
       "      <th>Profile</th>\n",
       "    </tr>\n",
       "  </thead>\n",
       "  <tbody>\n",
       "    <tr>\n",
       "      <th>0</th>\n",
       "      <td>Truminds Software Systems</td>\n",
       "      <td>Software Development Engineer</td>\n",
       "    </tr>\n",
       "    <tr>\n",
       "      <th>1</th>\n",
       "      <td>EnKash</td>\n",
       "      <td>Software Engineer</td>\n",
       "    </tr>\n",
       "    <tr>\n",
       "      <th>2</th>\n",
       "      <td>Advantage Club</td>\n",
       "      <td>Back End Developer</td>\n",
       "    </tr>\n",
       "    <tr>\n",
       "      <th>3</th>\n",
       "      <td>Advantage Club</td>\n",
       "      <td>Product Manager</td>\n",
       "    </tr>\n",
       "    <tr>\n",
       "      <th>4</th>\n",
       "      <td>Advantage Club</td>\n",
       "      <td>Business Analyst</td>\n",
       "    </tr>\n",
       "    <tr>\n",
       "      <th>...</th>\n",
       "      <td>...</td>\n",
       "      <td>...</td>\n",
       "    </tr>\n",
       "    <tr>\n",
       "      <th>144</th>\n",
       "      <td>Agnikul Cosmos Pvt Ltd</td>\n",
       "      <td>LabVIEW Engineer</td>\n",
       "    </tr>\n",
       "    <tr>\n",
       "      <th>145</th>\n",
       "      <td>Agnikul Cosmos Pvt Ltd</td>\n",
       "      <td>Launch Vehicle Composites Engineer</td>\n",
       "    </tr>\n",
       "    <tr>\n",
       "      <th>146</th>\n",
       "      <td>Premji Invest</td>\n",
       "      <td>Research Associate - Private Equity/ Private M...</td>\n",
       "    </tr>\n",
       "    <tr>\n",
       "      <th>147</th>\n",
       "      <td>Google</td>\n",
       "      <td>Software Engineer</td>\n",
       "    </tr>\n",
       "    <tr>\n",
       "      <th>148</th>\n",
       "      <td>National Health Authority</td>\n",
       "      <td>Young Engineering Professionals</td>\n",
       "    </tr>\n",
       "  </tbody>\n",
       "</table>\n",
       "<p>149 rows × 2 columns</p>\n",
       "</div>"
      ],
      "text/plain": [
       "                       Company  \\\n",
       "0    Truminds Software Systems   \n",
       "1                       EnKash   \n",
       "2               Advantage Club   \n",
       "3               Advantage Club   \n",
       "4               Advantage Club   \n",
       "..                         ...   \n",
       "144     Agnikul Cosmos Pvt Ltd   \n",
       "145     Agnikul Cosmos Pvt Ltd   \n",
       "146              Premji Invest   \n",
       "147                     Google   \n",
       "148  National Health Authority   \n",
       "\n",
       "                                               Profile  \n",
       "0                        Software Development Engineer  \n",
       "1                                    Software Engineer  \n",
       "2                                   Back End Developer  \n",
       "3                                      Product Manager  \n",
       "4                                     Business Analyst  \n",
       "..                                                 ...  \n",
       "144                                   LabVIEW Engineer  \n",
       "145                 Launch Vehicle Composites Engineer  \n",
       "146  Research Associate - Private Equity/ Private M...  \n",
       "147                                  Software Engineer  \n",
       "148                    Young Engineering Professionals  \n",
       "\n",
       "[149 rows x 2 columns]"
      ]
     },
     "execution_count": 9,
     "metadata": {},
     "output_type": "execute_result"
    }
   ],
   "source": [
    "msc_df"
   ]
  },
  {
   "cell_type": "markdown",
   "metadata": {},
   "source": [
    "## All List"
   ]
  },
  {
   "cell_type": "code",
   "execution_count": 10,
   "metadata": {},
   "outputs": [],
   "source": [
    "# url = \"https://ocs.iitd.ac.in/portal/student/companies\"\n",
    "# class1= \"mat-select-value-3\"\n",
    "# class2 = \"mat-option-10\"\n",
    "# max_rows = list_companies(url = url, class1=class1, class2=class2)\n",
    "# all_df = result(max_rows=max_rows)"
   ]
  },
  {
   "cell_type": "code",
   "execution_count": 11,
   "metadata": {},
   "outputs": [],
   "source": [
    "# all_df"
   ]
  },
  {
   "cell_type": "code",
   "execution_count": 12,
   "metadata": {},
   "outputs": [],
   "source": [
    "logout()"
   ]
  },
  {
   "cell_type": "code",
   "execution_count": 13,
   "metadata": {},
   "outputs": [],
   "source": [
    "driver.close()"
   ]
  },
  {
   "cell_type": "markdown",
   "metadata": {},
   "source": [
    "# Analysis"
   ]
  },
  {
   "cell_type": "markdown",
   "metadata": {},
   "source": [
    "## Loading the Older List"
   ]
  },
  {
   "cell_type": "code",
   "execution_count": 14,
   "metadata": {},
   "outputs": [],
   "source": [
    "msc_old = pd.read_csv(\"msc.csv\")\n",
    "# all_old = pd.read_csv(\"all.csv\")"
   ]
  },
  {
   "cell_type": "markdown",
   "metadata": {},
   "source": [
    "## Comparing"
   ]
  },
  {
   "cell_type": "code",
   "execution_count": 15,
   "metadata": {},
   "outputs": [
    {
     "name": "stdout",
     "output_type": "stream",
     "text": [
      "Some things have changed!\n"
     ]
    }
   ],
   "source": [
    "if len(msc_old)!=len(msc_df):\n",
    "    print(\"Some things have changed!\")\n",
    "    changed = True\n",
    "else:\n",
    "    print(\"Everything is the Same.\")\n",
    "    changed = False"
   ]
  },
  {
   "cell_type": "code",
   "execution_count": 16,
   "metadata": {},
   "outputs": [
    {
     "name": "stdout",
     "output_type": "stream",
     "text": [
      "A total of 2 Positions have been ADDED.\n"
     ]
    }
   ],
   "source": [
    "if changed:\n",
    "    diff = len(msc_old)-len(msc_df)\n",
    "    if diff<0:\n",
    "        print(f\"A total of {-diff} Positions have been ADDED.\")\n",
    "    else:\n",
    "        print(f\"A total of {diff} Positions have been REMOVED.\")\n",
    "else:\n",
    "    diff = 0"
   ]
  },
  {
   "cell_type": "code",
   "execution_count": 17,
   "metadata": {},
   "outputs": [],
   "source": [
    "def compare(diff = diff, anyway = False):\n",
    "    old_list = msc_old[\"Company\"].values +\" \"+ msc_old[\"Profile\"].values\n",
    "    new_list = msc_df[\"Company\"].values +\" \"+ msc_df[\"Profile\"].values\n",
    "    if diff<0 or anyway:\n",
    "        print(\"Added Positions are:\\n\")\n",
    "        for c in new_list:\n",
    "            if c not in old_list:\n",
    "                print(c)\n",
    "    elif diff>0 or anyway:\n",
    "        print(\"Removed Positions are:\\n\")\n",
    "        for c in old_list:\n",
    "            if c not in new_list:\n",
    "                print(c)"
   ]
  },
  {
   "cell_type": "code",
   "execution_count": 18,
   "metadata": {},
   "outputs": [
    {
     "name": "stdout",
     "output_type": "stream",
     "text": [
      "Added Positions are:\n",
      "\n",
      "EnKash Software Engineer\n",
      "Blocktickets Pvt Ltd Project Manager\n"
     ]
    }
   ],
   "source": [
    "compare(diff = diff, anyway = False)"
   ]
  },
  {
   "cell_type": "markdown",
   "metadata": {},
   "source": [
    "## Saving the Latest List"
   ]
  },
  {
   "cell_type": "code",
   "execution_count": 19,
   "metadata": {},
   "outputs": [],
   "source": [
    "msc_df.to_csv(\"msc.csv\", index=False)\n",
    "# all_df.to_csv(\"all.csv\", index=False)"
   ]
  },
  {
   "cell_type": "code",
   "execution_count": 20,
   "metadata": {},
   "outputs": [],
   "source": [
    "# all_df"
   ]
  },
  {
   "cell_type": "code",
   "execution_count": 21,
   "metadata": {},
   "outputs": [
    {
     "data": {
      "text/html": [
       "<div>\n",
       "<style scoped>\n",
       "    .dataframe tbody tr th:only-of-type {\n",
       "        vertical-align: middle;\n",
       "    }\n",
       "\n",
       "    .dataframe tbody tr th {\n",
       "        vertical-align: top;\n",
       "    }\n",
       "\n",
       "    .dataframe thead th {\n",
       "        text-align: right;\n",
       "    }\n",
       "</style>\n",
       "<table border=\"1\" class=\"dataframe\">\n",
       "  <thead>\n",
       "    <tr style=\"text-align: right;\">\n",
       "      <th></th>\n",
       "      <th>Company</th>\n",
       "      <th>Profile</th>\n",
       "    </tr>\n",
       "  </thead>\n",
       "  <tbody>\n",
       "    <tr>\n",
       "      <th>0</th>\n",
       "      <td>Truminds Software Systems</td>\n",
       "      <td>Software Development Engineer</td>\n",
       "    </tr>\n",
       "    <tr>\n",
       "      <th>1</th>\n",
       "      <td>EnKash</td>\n",
       "      <td>Software Engineer</td>\n",
       "    </tr>\n",
       "    <tr>\n",
       "      <th>2</th>\n",
       "      <td>Advantage Club</td>\n",
       "      <td>Back End Developer</td>\n",
       "    </tr>\n",
       "    <tr>\n",
       "      <th>3</th>\n",
       "      <td>Advantage Club</td>\n",
       "      <td>Product Manager</td>\n",
       "    </tr>\n",
       "    <tr>\n",
       "      <th>4</th>\n",
       "      <td>Advantage Club</td>\n",
       "      <td>Business Analyst</td>\n",
       "    </tr>\n",
       "    <tr>\n",
       "      <th>...</th>\n",
       "      <td>...</td>\n",
       "      <td>...</td>\n",
       "    </tr>\n",
       "    <tr>\n",
       "      <th>144</th>\n",
       "      <td>Agnikul Cosmos Pvt Ltd</td>\n",
       "      <td>LabVIEW Engineer</td>\n",
       "    </tr>\n",
       "    <tr>\n",
       "      <th>145</th>\n",
       "      <td>Agnikul Cosmos Pvt Ltd</td>\n",
       "      <td>Launch Vehicle Composites Engineer</td>\n",
       "    </tr>\n",
       "    <tr>\n",
       "      <th>146</th>\n",
       "      <td>Premji Invest</td>\n",
       "      <td>Research Associate - Private Equity/ Private M...</td>\n",
       "    </tr>\n",
       "    <tr>\n",
       "      <th>147</th>\n",
       "      <td>Google</td>\n",
       "      <td>Software Engineer</td>\n",
       "    </tr>\n",
       "    <tr>\n",
       "      <th>148</th>\n",
       "      <td>National Health Authority</td>\n",
       "      <td>Young Engineering Professionals</td>\n",
       "    </tr>\n",
       "  </tbody>\n",
       "</table>\n",
       "<p>149 rows × 2 columns</p>\n",
       "</div>"
      ],
      "text/plain": [
       "                       Company  \\\n",
       "0    Truminds Software Systems   \n",
       "1                       EnKash   \n",
       "2               Advantage Club   \n",
       "3               Advantage Club   \n",
       "4               Advantage Club   \n",
       "..                         ...   \n",
       "144     Agnikul Cosmos Pvt Ltd   \n",
       "145     Agnikul Cosmos Pvt Ltd   \n",
       "146              Premji Invest   \n",
       "147                     Google   \n",
       "148  National Health Authority   \n",
       "\n",
       "                                               Profile  \n",
       "0                        Software Development Engineer  \n",
       "1                                    Software Engineer  \n",
       "2                                   Back End Developer  \n",
       "3                                      Product Manager  \n",
       "4                                     Business Analyst  \n",
       "..                                                 ...  \n",
       "144                                   LabVIEW Engineer  \n",
       "145                 Launch Vehicle Composites Engineer  \n",
       "146  Research Associate - Private Equity/ Private M...  \n",
       "147                                  Software Engineer  \n",
       "148                    Young Engineering Professionals  \n",
       "\n",
       "[149 rows x 2 columns]"
      ]
     },
     "execution_count": 21,
     "metadata": {},
     "output_type": "execute_result"
    }
   ],
   "source": [
    "msc_df"
   ]
  },
  {
   "cell_type": "code",
   "execution_count": 22,
   "metadata": {},
   "outputs": [
    {
     "data": {
      "text/plain": [
       "Sony Group Corporation          12\n",
       "Agnikul Cosmos Pvt Ltd          11\n",
       "MIKO                            10\n",
       "Fast Retailing                   7\n",
       "FourthFrontier                   7\n",
       "                                ..\n",
       "EnKash                           1\n",
       "Agnikul Cosmos India Pvt Ltd     1\n",
       "WorldQuant                       1\n",
       "HSBC                             1\n",
       "National Health Authority        1\n",
       "Name: Company, Length: 71, dtype: int64"
      ]
     },
     "execution_count": 22,
     "metadata": {},
     "output_type": "execute_result"
    }
   ],
   "source": [
    "msc_df[\"Company\"].value_counts()"
   ]
  }
 ],
 "metadata": {
  "kernelspec": {
   "display_name": "Python 3.9.12 ('data-science')",
   "language": "python",
   "name": "python3"
  },
  "language_info": {
   "codemirror_mode": {
    "name": "ipython",
    "version": 3
   },
   "file_extension": ".py",
   "mimetype": "text/x-python",
   "name": "python",
   "nbconvert_exporter": "python",
   "pygments_lexer": "ipython3",
   "version": "3.9.12"
  },
  "orig_nbformat": 4,
  "vscode": {
   "interpreter": {
    "hash": "2efee1efa502125d01e6b4768ba06d9453d29f3642bfd14ad5d4a769de82e88c"
   }
  }
 },
 "nbformat": 4,
 "nbformat_minor": 2
}
