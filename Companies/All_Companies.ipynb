{
 "cells": [
  {
   "cell_type": "markdown",
   "metadata": {},
   "source": [
    "# Imports"
   ]
  },
  {
   "cell_type": "code",
   "execution_count": 1,
   "metadata": {},
   "outputs": [],
   "source": [
    "import webdriver_manager\n",
    "from selenium.webdriver.common.by import By\n",
    "from selenium.webdriver.common.keys import Keys\n",
    "from selenium import webdriver\n",
    "from webdriver_manager.chrome import ChromeDriverManager\n",
    "from webdriver_manager.firefox import GeckoDriverManager\n",
    "from selenium.webdriver.chrome.service import Service as ChromeService\n",
    "from IPython.display import clear_output\n",
    "import time\n",
    "import pandas as pd\n",
    "import IPython\n",
    "import os\n",
    "from decouple import config\n",
    "import re"
   ]
  },
  {
   "cell_type": "markdown",
   "metadata": {},
   "source": [
    "# Driver and Functions"
   ]
  },
  {
   "cell_type": "code",
   "execution_count": 2,
   "metadata": {},
   "outputs": [
    {
     "name": "stderr",
     "output_type": "stream",
     "text": [
      "[WDM] - Downloading: 100%|██████████| 6.96M/6.96M [00:01<00:00, 4.63MB/s]\n"
     ]
    }
   ],
   "source": [
    "driver = webdriver.Chrome(service=ChromeService(ChromeDriverManager().install()))"
   ]
  },
  {
   "cell_type": "code",
   "execution_count": 3,
   "metadata": {},
   "outputs": [],
   "source": [
    "def login():\n",
    "    driver.get(\"https://ocs.iitd.ac.in/portal/login\")\n",
    "    ID = config(\"OCS_ID\")\n",
    "    password = config(\"OCS_PASSWORD\")\n",
    "    driver.get(\"https://ocs.iitd.ac.in/portal/login\")\n",
    "    driver.find_element(By.ID, \"mat-input-0\").send_keys(ID)\n",
    "    driver.find_element(By.ID, \"mat-input-1\").send_keys(password)\n",
    "    captcha = driver.find_element(By.TAG_NAME, \"object\")\n",
    "    captcha.screenshot(\"captcha.png\")\n",
    "    IPython.display.display(IPython.display.Image(\"captcha.png\"))\n",
    "    captcha_code = input(\"Enter the captcha code: \")\n",
    "    driver.find_element(By.ID, \"mat-input-2\").send_keys(captcha_code)\n",
    "    driver.find_element(By.TAG_NAME, \"button\").click()"
   ]
  },
  {
   "cell_type": "code",
   "execution_count": 4,
   "metadata": {},
   "outputs": [],
   "source": [
    "def list_companies(url = \"https://ocs.iitd.ac.in/portal/student/applications\", class1= \"mat-select-value-5\", class2 = \"mat-option-14\"):\n",
    "    driver.get(url)\n",
    "    driver.find_element(By.ID, class1).click()\n",
    "    driver.find_element(By.ID, class2).click()\n",
    "    max_rows = int(driver.find_element(By.CLASS_NAME, \"mat-paginator-range-label\").text.split(\" \")[-1])\n",
    "    return max_rows"
   ]
  },
  {
   "cell_type": "code",
   "execution_count": 5,
   "metadata": {},
   "outputs": [],
   "source": [
    "def result(max_rows):\n",
    "    companies = []\n",
    "    profiles = []\n",
    "    page_num = 0\n",
    "    per_page = 50\n",
    "    while page_num*per_page<=max_rows:\n",
    "        print(f\"Currently on page {page_num+1}\", end=\"\\r\")\n",
    "        table = driver.find_element(By.TAG_NAME, \"table\")\n",
    "        rows = table.find_elements(By.TAG_NAME, \"tr\")\n",
    "        for i in range(1, len(rows)):\n",
    "            data = rows[i].find_element(By.TAG_NAME, \"td\").text.split(\"\\n\")[0]\n",
    "            company = data.split(\"(\")[0]\n",
    "            profile = data.split(\"(\")[1].split(\")\")[0]\n",
    "            companies.append(company.strip())\n",
    "            profiles.append(profile.strip())\n",
    "        next_btn = driver.find_elements(By.CLASS_NAME, \"mat-button-wrapper\")[1]\n",
    "        next_btn.click()\n",
    "        page_num+=1\n",
    "    all_companies = pd.DataFrame([companies, profiles]).T\n",
    "    all_companies.columns = [\"Company\", \"Profile\"]\n",
    "    return all_companies"
   ]
  },
  {
   "cell_type": "code",
   "execution_count": 6,
   "metadata": {},
   "outputs": [],
   "source": [
    "def logout():\n",
    "    for item in driver.find_elements(By.TAG_NAME ,\"mat-icon\"):\n",
    "        if item.text == \"exit_to_app\":\n",
    "            item.click()\n",
    "            return None"
   ]
  },
  {
   "cell_type": "markdown",
   "metadata": {},
   "source": [
    "# Start"
   ]
  },
  {
   "cell_type": "code",
   "execution_count": 7,
   "metadata": {},
   "outputs": [
    {
     "data": {
      "image/png": "[encoded data removed]",
      "text/plain": [
       "<IPython.core.display.Image object>"
      ]
     },
     "metadata": {},
     "output_type": "display_data"
    }
   ],
   "source": [
    "login()\n",
    "os.remove(\"captcha.png\")"
   ]
  },
  {
   "cell_type": "markdown",
   "metadata": {},
   "source": [
    "## MSC List"
   ]
  },
  {
   "cell_type": "code",
   "execution_count": 9,
   "metadata": {},
   "outputs": [
    {
     "name": "stdout",
     "output_type": "stream",
     "text": [
      "Currently on page 2\r"
     ]
    }
   ],
   "source": [
    "max_rows = list_companies()\n",
    "msc_df = result(max_rows=max_rows)"
   ]
  },
  {
   "cell_type": "code",
   "execution_count": 10,
   "metadata": {},
   "outputs": [
    {
     "data": {
      "text/html": [
       "<div>\n",
       "<style scoped>\n",
       "    .dataframe tbody tr th:only-of-type {\n",
       "        vertical-align: middle;\n",
       "    }\n",
       "\n",
       "    .dataframe tbody tr th {\n",
       "        vertical-align: top;\n",
       "    }\n",
       "\n",
       "    .dataframe thead th {\n",
       "        text-align: right;\n",
       "    }\n",
       "</style>\n",
       "<table border=\"1\" class=\"dataframe\">\n",
       "  <thead>\n",
       "    <tr style=\"text-align: right;\">\n",
       "      <th></th>\n",
       "      <th>Company</th>\n",
       "      <th>Profile</th>\n",
       "    </tr>\n",
       "  </thead>\n",
       "  <tbody>\n",
       "    <tr>\n",
       "      <th>0</th>\n",
       "      <td>Infoglen LLC</td>\n",
       "      <td>Salesforce Technology Freshers</td>\n",
       "    </tr>\n",
       "    <tr>\n",
       "      <th>1</th>\n",
       "      <td>IntelliBlock Technologies Private Limited</td>\n",
       "      <td>Blockchain Developer</td>\n",
       "    </tr>\n",
       "    <tr>\n",
       "      <th>2</th>\n",
       "      <td>ProtoTech Solutions</td>\n",
       "      <td>Associate Software Developer</td>\n",
       "    </tr>\n",
       "    <tr>\n",
       "      <th>3</th>\n",
       "      <td>Polyone Polymers India Pvt. Ltd.</td>\n",
       "      <td>R&amp;D Chemist</td>\n",
       "    </tr>\n",
       "    <tr>\n",
       "      <th>4</th>\n",
       "      <td>Optimum</td>\n",
       "      <td>Core Role</td>\n",
       "    </tr>\n",
       "    <tr>\n",
       "      <th>...</th>\n",
       "      <td>...</td>\n",
       "      <td>...</td>\n",
       "    </tr>\n",
       "    <tr>\n",
       "      <th>64</th>\n",
       "      <td>Agnikul Cosmos Pvt Ltd</td>\n",
       "      <td>Additive Manufacturing Specialist</td>\n",
       "    </tr>\n",
       "    <tr>\n",
       "      <th>65</th>\n",
       "      <td>Agnikul Cosmos Pvt Ltd</td>\n",
       "      <td>LabVIEW Engineer</td>\n",
       "    </tr>\n",
       "    <tr>\n",
       "      <th>66</th>\n",
       "      <td>Agnikul Cosmos Pvt Ltd</td>\n",
       "      <td>Launch Vehicle Composites Engineer</td>\n",
       "    </tr>\n",
       "    <tr>\n",
       "      <th>67</th>\n",
       "      <td>Advantage Club</td>\n",
       "      <td>iOS Developer</td>\n",
       "    </tr>\n",
       "    <tr>\n",
       "      <th>68</th>\n",
       "      <td>Advantage Club</td>\n",
       "      <td>Quality Analyst and Testing Engineer</td>\n",
       "    </tr>\n",
       "  </tbody>\n",
       "</table>\n",
       "<p>69 rows × 2 columns</p>\n",
       "</div>"
      ],
      "text/plain": [
       "                                      Company  \\\n",
       "0                                Infoglen LLC   \n",
       "1   IntelliBlock Technologies Private Limited   \n",
       "2                         ProtoTech Solutions   \n",
       "3            Polyone Polymers India Pvt. Ltd.   \n",
       "4                                     Optimum   \n",
       "..                                        ...   \n",
       "64                     Agnikul Cosmos Pvt Ltd   \n",
       "65                     Agnikul Cosmos Pvt Ltd   \n",
       "66                     Agnikul Cosmos Pvt Ltd   \n",
       "67                             Advantage Club   \n",
       "68                             Advantage Club   \n",
       "\n",
       "                                 Profile  \n",
       "0         Salesforce Technology Freshers  \n",
       "1                   Blockchain Developer  \n",
       "2           Associate Software Developer  \n",
       "3                            R&D Chemist  \n",
       "4                              Core Role  \n",
       "..                                   ...  \n",
       "64     Additive Manufacturing Specialist  \n",
       "65                      LabVIEW Engineer  \n",
       "66    Launch Vehicle Composites Engineer  \n",
       "67                         iOS Developer  \n",
       "68  Quality Analyst and Testing Engineer  \n",
       "\n",
       "[69 rows x 2 columns]"
      ]
     },
     "execution_count": 10,
     "metadata": {},
     "output_type": "execute_result"
    }
   ],
   "source": [
    "msc_df"
   ]
  },
  {
   "cell_type": "markdown",
   "metadata": {},
   "source": [
    "## All List"
   ]
  },
  {
   "cell_type": "code",
   "execution_count": 8,
   "metadata": {},
   "outputs": [
    {
     "name": "stdout",
     "output_type": "stream",
     "text": [
      "Currently on page 8\r"
     ]
    }
   ],
   "source": [
    "url = \"https://ocs.iitd.ac.in/portal/student/companies\"\n",
    "class1= \"mat-select-value-3\"\n",
    "class2 = \"mat-option-10\"\n",
    "max_rows = list_companies(url = url, class1=class1, class2=class2)\n",
    "all_df = result(max_rows=max_rows)"
   ]
  },
  {
   "cell_type": "code",
   "execution_count": 9,
   "metadata": {},
   "outputs": [
    {
     "data": {
      "text/html": [
       "<div>\n",
       "<style scoped>\n",
       "    .dataframe tbody tr th:only-of-type {\n",
       "        vertical-align: middle;\n",
       "    }\n",
       "\n",
       "    .dataframe tbody tr th {\n",
       "        vertical-align: top;\n",
       "    }\n",
       "\n",
       "    .dataframe thead th {\n",
       "        text-align: right;\n",
       "    }\n",
       "</style>\n",
       "<table border=\"1\" class=\"dataframe\">\n",
       "  <thead>\n",
       "    <tr style=\"text-align: right;\">\n",
       "      <th></th>\n",
       "      <th>Company</th>\n",
       "      <th>Profile</th>\n",
       "    </tr>\n",
       "  </thead>\n",
       "  <tbody>\n",
       "    <tr>\n",
       "      <th>0</th>\n",
       "      <td>Air India</td>\n",
       "      <td>Digital Technology Trainee - NLP</td>\n",
       "    </tr>\n",
       "    <tr>\n",
       "      <th>1</th>\n",
       "      <td>Air India</td>\n",
       "      <td>Digital Technology Trainee – CRM Platform Tech...</td>\n",
       "    </tr>\n",
       "    <tr>\n",
       "      <th>2</th>\n",
       "      <td>Air India</td>\n",
       "      <td>Digital Technology Trainee- E Ops</td>\n",
       "    </tr>\n",
       "    <tr>\n",
       "      <th>3</th>\n",
       "      <td>Air India</td>\n",
       "      <td>Digital Technology Trainees – Business Analyst</td>\n",
       "    </tr>\n",
       "    <tr>\n",
       "      <th>4</th>\n",
       "      <td>Air India</td>\n",
       "      <td>Digital Technology Trainees – Data Analyst</td>\n",
       "    </tr>\n",
       "    <tr>\n",
       "      <th>...</th>\n",
       "      <td>...</td>\n",
       "      <td>...</td>\n",
       "    </tr>\n",
       "    <tr>\n",
       "      <th>390</th>\n",
       "      <td>Virohan Private Limited</td>\n",
       "      <td>Associate Product Manager</td>\n",
       "    </tr>\n",
       "    <tr>\n",
       "      <th>391</th>\n",
       "      <td>Vyapar App</td>\n",
       "      <td>Software Developer</td>\n",
       "    </tr>\n",
       "    <tr>\n",
       "      <th>392</th>\n",
       "      <td>www.enerzinx.com</td>\n",
       "      <td>Application Engineer - I</td>\n",
       "    </tr>\n",
       "    <tr>\n",
       "      <th>393</th>\n",
       "      <td>Zen Linen International Private Limited</td>\n",
       "      <td>Management Engineer Trainee</td>\n",
       "    </tr>\n",
       "    <tr>\n",
       "      <th>394</th>\n",
       "      <td>Zomato Limited</td>\n",
       "      <td>Sde</td>\n",
       "    </tr>\n",
       "  </tbody>\n",
       "</table>\n",
       "<p>395 rows × 2 columns</p>\n",
       "</div>"
      ],
      "text/plain": [
       "                                     Company  \\\n",
       "0                                  Air India   \n",
       "1                                  Air India   \n",
       "2                                  Air India   \n",
       "3                                  Air India   \n",
       "4                                  Air India   \n",
       "..                                       ...   \n",
       "390                  Virohan Private Limited   \n",
       "391                               Vyapar App   \n",
       "392                         www.enerzinx.com   \n",
       "393  Zen Linen International Private Limited   \n",
       "394                           Zomato Limited   \n",
       "\n",
       "                                               Profile  \n",
       "0                     Digital Technology Trainee - NLP  \n",
       "1    Digital Technology Trainee – CRM Platform Tech...  \n",
       "2                    Digital Technology Trainee- E Ops  \n",
       "3       Digital Technology Trainees – Business Analyst  \n",
       "4           Digital Technology Trainees – Data Analyst  \n",
       "..                                                 ...  \n",
       "390                          Associate Product Manager  \n",
       "391                                 Software Developer  \n",
       "392                           Application Engineer - I  \n",
       "393                        Management Engineer Trainee  \n",
       "394                                                Sde  \n",
       "\n",
       "[395 rows x 2 columns]"
      ]
     },
     "execution_count": 9,
     "metadata": {},
     "output_type": "execute_result"
    }
   ],
   "source": [
    "all_df"
   ]
  },
  {
   "cell_type": "code",
   "execution_count": 10,
   "metadata": {},
   "outputs": [],
   "source": [
    "logout()"
   ]
  },
  {
   "cell_type": "code",
   "execution_count": 11,
   "metadata": {},
   "outputs": [],
   "source": [
    "driver.close()"
   ]
  },
  {
   "cell_type": "markdown",
   "metadata": {},
   "source": [
    "# Analysis"
   ]
  },
  {
   "cell_type": "markdown",
   "metadata": {},
   "source": [
    "## Loading the Older List"
   ]
  },
  {
   "cell_type": "code",
   "execution_count": 12,
   "metadata": {},
   "outputs": [],
   "source": [
    "msc_old = pd.read_csv(\"msc.csv\")\n",
    "all_old = pd.read_csv(\"all.csv\")"
   ]
  },
  {
   "cell_type": "markdown",
   "metadata": {},
   "source": [
    "## Comparing"
   ]
  },
  {
   "cell_type": "code",
   "execution_count": 12,
   "metadata": {},
   "outputs": [
    {
     "name": "stdout",
     "output_type": "stream",
     "text": [
      "Some things have changed!\n"
     ]
    }
   ],
   "source": [
    "if len(msc_old)!=len(msc_df):\n",
    "    print(\"Some things have changed!\")\n",
    "    changed = True\n",
    "else:\n",
    "    print(\"Everything is the Same.\")\n",
    "    changed = False"
   ]
  },
  {
   "cell_type": "code",
   "execution_count": 13,
   "metadata": {},
   "outputs": [
    {
     "name": "stdout",
     "output_type": "stream",
     "text": [
      "A total of 103 Positions have been REMOVED.\n"
     ]
    }
   ],
   "source": [
    "if changed:\n",
    "    diff = len(msc_old)-len(msc_df)\n",
    "    if diff<0:\n",
    "        print(f\"A total of {-diff} Positions have been ADDED.\")\n",
    "    else:\n",
    "        print(f\"A total of {diff} Positions have been REMOVED.\")\n",
    "else:\n",
    "    diff = 0"
   ]
  },
  {
   "cell_type": "code",
   "execution_count": 14,
   "metadata": {},
   "outputs": [],
   "source": [
    "def compare(diff = diff, anyway = False):\n",
    "    old_list = msc_old[\"Company\"].values +\" \"+ msc_old[\"Profile\"].values\n",
    "    new_list = msc_df[\"Company\"].values +\" \"+ msc_df[\"Profile\"].values\n",
    "    if diff<0 or anyway:\n",
    "        print(\"Added Positions are:\\n\")\n",
    "        for c in new_list:\n",
    "            if c not in old_list:\n",
    "                print(c)\n",
    "    elif diff>0 or anyway:\n",
    "        print(\"Removed Positions are:\\n\")\n",
    "        for c in old_list:\n",
    "            if c not in new_list:\n",
    "                print(c)"
   ]
  },
  {
   "cell_type": "code",
   "execution_count": 15,
   "metadata": {},
   "outputs": [
    {
     "name": "stdout",
     "output_type": "stream",
     "text": [
      "Added Positions are:\n",
      "\n"
     ]
    }
   ],
   "source": [
    "compare(diff = diff, anyway = True)"
   ]
  },
  {
   "cell_type": "markdown",
   "metadata": {},
   "source": [
    "## Saving the Latest List"
   ]
  },
  {
   "cell_type": "code",
   "execution_count": 16,
   "metadata": {},
   "outputs": [],
   "source": [
    "msc_df.to_csv(\"msc.csv\", index=False)\n",
    "# all_df.to_csv(\"all.csv\", index=False)"
   ]
  },
  {
   "cell_type": "code",
   "execution_count": 20,
   "metadata": {},
   "outputs": [],
   "source": [
    "# all_df"
   ]
  },
  {
   "cell_type": "code",
   "execution_count": 17,
   "metadata": {},
   "outputs": [
    {
     "data": {
      "text/html": [
       "<div>\n",
       "<style scoped>\n",
       "    .dataframe tbody tr th:only-of-type {\n",
       "        vertical-align: middle;\n",
       "    }\n",
       "\n",
       "    .dataframe tbody tr th {\n",
       "        vertical-align: top;\n",
       "    }\n",
       "\n",
       "    .dataframe thead th {\n",
       "        text-align: right;\n",
       "    }\n",
       "</style>\n",
       "<table border=\"1\" class=\"dataframe\">\n",
       "  <thead>\n",
       "    <tr style=\"text-align: right;\">\n",
       "      <th></th>\n",
       "      <th>Company</th>\n",
       "      <th>Profile</th>\n",
       "    </tr>\n",
       "  </thead>\n",
       "  <tbody>\n",
       "    <tr>\n",
       "      <th>0</th>\n",
       "      <td>Infoglen LLC</td>\n",
       "      <td>Salesforce Technology Freshers</td>\n",
       "    </tr>\n",
       "    <tr>\n",
       "      <th>1</th>\n",
       "      <td>IntelliBlock Technologies Private Limited</td>\n",
       "      <td>Blockchain Developer</td>\n",
       "    </tr>\n",
       "    <tr>\n",
       "      <th>2</th>\n",
       "      <td>ProtoTech Solutions</td>\n",
       "      <td>Associate Software Developer</td>\n",
       "    </tr>\n",
       "    <tr>\n",
       "      <th>3</th>\n",
       "      <td>Polyone Polymers India Pvt. Ltd.</td>\n",
       "      <td>R&amp;D Chemist</td>\n",
       "    </tr>\n",
       "    <tr>\n",
       "      <th>4</th>\n",
       "      <td>Optimum</td>\n",
       "      <td>Core Role</td>\n",
       "    </tr>\n",
       "    <tr>\n",
       "      <th>...</th>\n",
       "      <td>...</td>\n",
       "      <td>...</td>\n",
       "    </tr>\n",
       "    <tr>\n",
       "      <th>64</th>\n",
       "      <td>Agnikul Cosmos Pvt Ltd</td>\n",
       "      <td>Additive Manufacturing Specialist</td>\n",
       "    </tr>\n",
       "    <tr>\n",
       "      <th>65</th>\n",
       "      <td>Agnikul Cosmos Pvt Ltd</td>\n",
       "      <td>LabVIEW Engineer</td>\n",
       "    </tr>\n",
       "    <tr>\n",
       "      <th>66</th>\n",
       "      <td>Agnikul Cosmos Pvt Ltd</td>\n",
       "      <td>Launch Vehicle Composites Engineer</td>\n",
       "    </tr>\n",
       "    <tr>\n",
       "      <th>67</th>\n",
       "      <td>Advantage Club</td>\n",
       "      <td>iOS Developer</td>\n",
       "    </tr>\n",
       "    <tr>\n",
       "      <th>68</th>\n",
       "      <td>Advantage Club</td>\n",
       "      <td>Quality Analyst and Testing Engineer</td>\n",
       "    </tr>\n",
       "  </tbody>\n",
       "</table>\n",
       "<p>69 rows × 2 columns</p>\n",
       "</div>"
      ],
      "text/plain": [
       "                                      Company  \\\n",
       "0                                Infoglen LLC   \n",
       "1   IntelliBlock Technologies Private Limited   \n",
       "2                         ProtoTech Solutions   \n",
       "3            Polyone Polymers India Pvt. Ltd.   \n",
       "4                                     Optimum   \n",
       "..                                        ...   \n",
       "64                     Agnikul Cosmos Pvt Ltd   \n",
       "65                     Agnikul Cosmos Pvt Ltd   \n",
       "66                     Agnikul Cosmos Pvt Ltd   \n",
       "67                             Advantage Club   \n",
       "68                             Advantage Club   \n",
       "\n",
       "                                 Profile  \n",
       "0         Salesforce Technology Freshers  \n",
       "1                   Blockchain Developer  \n",
       "2           Associate Software Developer  \n",
       "3                            R&D Chemist  \n",
       "4                              Core Role  \n",
       "..                                   ...  \n",
       "64     Additive Manufacturing Specialist  \n",
       "65                      LabVIEW Engineer  \n",
       "66    Launch Vehicle Composites Engineer  \n",
       "67                         iOS Developer  \n",
       "68  Quality Analyst and Testing Engineer  \n",
       "\n",
       "[69 rows x 2 columns]"
      ]
     },
     "execution_count": 17,
     "metadata": {},
     "output_type": "execute_result"
    }
   ],
   "source": [
    "msc_df"
   ]
  },
  {
   "cell_type": "code",
   "execution_count": 22,
   "metadata": {},
   "outputs": [
    {
     "data": {
      "text/plain": [
       "Sony Group Corporation                  12\n",
       "Agnikul Cosmos Pvt Ltd                  11\n",
       "MIKO                                    10\n",
       "Fast Retailing                           7\n",
       "FourthFrontier                           7\n",
       "                                        ..\n",
       "Raphe mPhibr Pvt Ltd                     1\n",
       "Aganitha Cognitive Solutions Pvt Ltd     1\n",
       "Godrej Capital                           1\n",
       "Vantage Research                         1\n",
       "Racyics GmbH                             1\n",
       "Name: Company, Length: 85, dtype: int64"
      ]
     },
     "execution_count": 22,
     "metadata": {},
     "output_type": "execute_result"
    }
   ],
   "source": [
    "msc_df[\"Company\"].value_counts()"
   ]
  },
  {
   "attachments": {},
   "cell_type": "markdown",
   "metadata": {},
   "source": [
    "# Saving All Companies"
   ]
  },
  {
   "cell_type": "code",
   "execution_count": null,
   "metadata": {},
   "outputs": [],
   "source": [
    "Stop"
   ]
  },
  {
   "cell_type": "code",
   "execution_count": 33,
   "metadata": {},
   "outputs": [],
   "source": [
    "def save_html(max_rows):\n",
    "    companies = []\n",
    "    profiles = []\n",
    "    file_links = []\n",
    "    page_num = 14\n",
    "    per_page = 50\n",
    "    while page_num*per_page<=max_rows:\n",
    "        # print(f\"Currently on page {page_num+1}\", end=\"\\r\")\n",
    "        table = driver.find_element(By.TAG_NAME, \"table\")\n",
    "        rows = table.find_elements(By.TAG_NAME, \"tr\")\n",
    "        for i in range(1, len(rows)):\n",
    "            print(f\"Currently on page {page_num+1} and row {i}\", end=\"\\r\")\n",
    "            data = rows[i].find_element(By.TAG_NAME, \"td\").text.split(\"\\n\")[0]\n",
    "            company = data.split(\"(\")[0]\n",
    "            profile = data.split(\"(\")[1].split(\")\")[0]\n",
    "            companies.append(company.strip())\n",
    "            profiles.append(profile.strip())\n",
    "\n",
    "            #Get the file name\n",
    "            name = company.strip()+\" \"+profile.strip()\n",
    "            #remove any special characters\n",
    "            name = re.sub(r\"[^a-zA-Z0-9_\\s]\", \"\", name)\n",
    "            if len(name)>60:\n",
    "                name = name[:60]\n",
    "            name = os.path.join(\"All\", name)\n",
    "            file_name = f\"{name}_{page_num * 50 + i}.html\"\n",
    "            file_links.append(file_name)\n",
    "\n",
    "            #Open the link\n",
    "            rows[i].find_elements(By.TAG_NAME, \"td\")[0].click()\n",
    "            # switch to new window\n",
    "            driver.switch_to.window(driver.window_handles[1])\n",
    "            time.sleep(1)\n",
    "            # save the html\n",
    "            with open(file_name, \"w\") as f:\n",
    "                f.write(driver.page_source)\n",
    "            # close the window\n",
    "            driver.close()\n",
    "            # switch back to main window\n",
    "            driver.switch_to.window(driver.window_handles[0])\n",
    "            \n",
    "        next_btn = driver.find_elements(By.CLASS_NAME, \"mat-button-wrapper\")[1]\n",
    "        next_btn.click()\n",
    "        page_num+=1\n",
    "    all_companies = pd.DataFrame([companies, profiles]).T\n",
    "    all_companies.columns = [\"Company\", \"Profile\"]\n",
    "    return all_companies, file_links"
   ]
  },
  {
   "cell_type": "code",
   "execution_count": 31,
   "metadata": {},
   "outputs": [],
   "source": [
    "max_rows = max_rows+150"
   ]
  },
  {
   "cell_type": "code",
   "execution_count": 32,
   "metadata": {},
   "outputs": [
    {
     "data": {
      "text/plain": [
       "835"
      ]
     },
     "execution_count": 32,
     "metadata": {},
     "output_type": "execute_result"
    }
   ],
   "source": [
    "max_rows"
   ]
  },
  {
   "cell_type": "code",
   "execution_count": 34,
   "metadata": {},
   "outputs": [
    {
     "name": "stdout",
     "output_type": "stream",
     "text": [
      "Currently on page 17 and row 35\r"
     ]
    }
   ],
   "source": [
    "all_cs, file_links = save_html(max_rows=max_rows)"
   ]
  },
  {
   "cell_type": "code",
   "execution_count": 35,
   "metadata": {},
   "outputs": [],
   "source": [
    "logout()"
   ]
  },
  {
   "cell_type": "code",
   "execution_count": 36,
   "metadata": {},
   "outputs": [],
   "source": [
    "all_cs[\"File\"] = file_links"
   ]
  },
  {
   "cell_type": "code",
   "execution_count": 37,
   "metadata": {},
   "outputs": [],
   "source": [
    "all_cs.to_csv(\"all_companies.csv\", index=False)"
   ]
  },
  {
   "attachments": {},
   "cell_type": "markdown",
   "metadata": {},
   "source": [
    "# More Info"
   ]
  },
  {
   "cell_type": "code",
   "execution_count": 12,
   "metadata": {},
   "outputs": [],
   "source": [
    "import glob\n",
    "import bs4\n",
    "import tqdm\n",
    "import pandas as pd\n",
    "import re"
   ]
  },
  {
   "cell_type": "code",
   "execution_count": 2,
   "metadata": {},
   "outputs": [],
   "source": [
    "files = glob.glob(\"All/*.html\")\n",
    "sample = files[0]\n",
    "\n",
    "with open(sample, \"r\") as f:\n",
    "    html = f.read()\n",
    "\n",
    "soup = bs4.BeautifulSoup(html, \"html.parser\")"
   ]
  },
  {
   "cell_type": "code",
   "execution_count": 6,
   "metadata": {},
   "outputs": [],
   "source": [
    "tables = soup.find_all(\"table\")\n",
    "ct = tables[0]\n",
    "jt = tables[1]\n",
    "st = tables[2]\n",
    "spt = tables[3]"
   ]
  },
  {
   "cell_type": "code",
   "execution_count": 7,
   "metadata": {},
   "outputs": [
    {
     "name": "stdout",
     "output_type": "stream",
     "text": [
      "1K Kirana Bazaar Product Analyst\n"
     ]
    }
   ],
   "source": [
    "company_name = ct.find_all(\"tr\")[0].find_all(\"td\")[1].text\n",
    "designation = jt.find_all(\"tr\")[0].find_all(\"td\")[1].text\n",
    "print(company_name, designation)"
   ]
  },
  {
   "cell_type": "code",
   "execution_count": 8,
   "metadata": {},
   "outputs": [
    {
     "name": "stdout",
     "output_type": "stream",
     "text": [
      "1,500,000 INR\n",
      "1,478,400 INR\n",
      "750,000 INR\n"
     ]
    }
   ],
   "source": [
    "ctc = st.find_all(\"tr\")[0].find_all(\"td\")[1].text\n",
    "ctc_num = ctc.split(\" \")[0]\n",
    "ctc_unit = ctc.split(\" \")[1]\n",
    "gross_ctc = st.find_all(\"tr\")[1].find_all(\"td\")[1].text\n",
    "gross_ctc_num = gross_ctc.split(\" \")[0]\n",
    "gross_ctc_unit = gross_ctc.split(\" \")[1]\n",
    "base = st.find_all(\"tr\")[2].find_all(\"td\")[1].text\n",
    "base_num = base.split(\" \")[0]\n",
    "base_unit = base.split(\" \")[1]\n",
    "print(ctc_num, ctc_unit)\n",
    "print(gross_ctc_num, gross_ctc_unit)\n",
    "print(base_num, base_unit)"
   ]
  },
  {
   "cell_type": "code",
   "execution_count": 23,
   "metadata": {},
   "outputs": [
    {
     "data": {
      "text/plain": [
       "'Resume Shortlist:YesWritten Test:NoOnline Test:YesGroup Discussion:NoMedical Test:NoPersonal Interview:YesNo. of Rounds:4No. of Offers:2Minimum CGPA:7'"
      ]
     },
     "execution_count": 23,
     "metadata": {},
     "output_type": "execute_result"
    }
   ],
   "source": [
    "spt.text"
   ]
  },
  {
   "cell_type": "code",
   "execution_count": 28,
   "metadata": {},
   "outputs": [
    {
     "name": "stdout",
     "output_type": "stream",
     "text": [
      "2\n"
     ]
    }
   ],
   "source": [
    "regex = re.compile(r\"Offers:(\\d+)\")\n",
    "offers = regex.findall(spt.text)\n",
    "if offers:\n",
    "    offers = int(offers[0])\n",
    "else:\n",
    "    offers = 0\n",
    "print(offers)"
   ]
  },
  {
   "cell_type": "code",
   "execution_count": 24,
   "metadata": {},
   "outputs": [],
   "source": [
    "\n",
    "match = re.match(r\"Offers:\\d\",\n",
    "    spt.text)\n",
    "match"
   ]
  },
  {
   "cell_type": "code",
   "execution_count": 37,
   "metadata": {},
   "outputs": [],
   "source": [
    "def get_details(file):\n",
    "    with open(file, \"r\") as f:\n",
    "        html = f.read()\n",
    "\n",
    "    soup = bs4.BeautifulSoup(html, \"html.parser\")\n",
    "    tables = soup.find_all(\"table\")\n",
    "    ct = tables[0]\n",
    "    jt = tables[1]\n",
    "    st = tables[2]\n",
    "    spt = tables[3]\n",
    "    company_name = ct.find_all(\"tr\")[0].find_all(\"td\")[1].text\n",
    "    designation = jt.find_all(\"tr\")[0].find_all(\"td\")[1].text\n",
    "    def convert_unit(unit):\n",
    "        if unit.lower() == \"inr\":\n",
    "            return \"\"\n",
    "        else:\n",
    "            return unit\n",
    "    ctc = st.find_all(\"tr\")[0].find_all(\"td\")[1].text\n",
    "    ctc_num = ctc.split(\" \")[0]\n",
    "    ctc_unit = ctc.split(\" \")[1]\n",
    "    ctc = f\"{ctc_num} {convert_unit(ctc_unit)}\".strip()\n",
    "\n",
    "    gross_ctc = st.find_all(\"tr\")[1].find_all(\"td\")[1].text\n",
    "    gross_ctc_num = gross_ctc.split(\" \")[0]\n",
    "    gross_ctc_unit = gross_ctc.split(\" \")[1]\n",
    "    gross_ctc = f\"{gross_ctc_num} {convert_unit(gross_ctc_unit)}\".strip()\n",
    "\n",
    "    base = st.find_all(\"tr\")[2].find_all(\"td\")[1].text\n",
    "    base_num = base.split(\" \")[0]\n",
    "    base_unit = base.split(\" \")[1]\n",
    "    base = f\"{base_num} {convert_unit(base_unit)}\".strip()\n",
    "\n",
    "    regex = re.compile(r\"Offers:(\\d+)\")\n",
    "    offers = regex.findall(spt.text)\n",
    "    if offers:\n",
    "        offers = int(offers[0])\n",
    "    else:\n",
    "        offers = 0\n",
    "    if offers>100:\n",
    "        return [None, None, None, None, None, 0]\n",
    "\n",
    "    return [company_name, designation, ctc, gross_ctc, base, offers]"
   ]
  },
  {
   "cell_type": "code",
   "execution_count": 38,
   "metadata": {},
   "outputs": [
    {
     "name": "stderr",
     "output_type": "stream",
     "text": [
      "  7%|▋         | 60/828 [00:01<00:14, 54.81it/s]"
     ]
    },
    {
     "name": "stdout",
     "output_type": "stream",
     "text": [
      "All/Fujitsu RD India Applied Researcher_418.html\n"
     ]
    },
    {
     "name": "stderr",
     "output_type": "stream",
     "text": [
      " 52%|█████▏    | 431/828 [00:07<00:07, 52.43it/s]"
     ]
    },
    {
     "name": "stdout",
     "output_type": "stream",
     "text": [
      "All/HCL Technologies Technical Lead  Medical Softwarization_442.html\n"
     ]
    },
    {
     "name": "stderr",
     "output_type": "stream",
     "text": [
      " 64%|██████▍   | 533/828 [00:09<00:04, 63.57it/s]"
     ]
    },
    {
     "name": "stdout",
     "output_type": "stream",
     "text": [
      "All/MavenirSystemsP_69.html\n"
     ]
    },
    {
     "name": "stderr",
     "output_type": "stream",
     "text": [
      " 66%|██████▌   | 548/828 [00:09<00:04, 66.13it/s]"
     ]
    },
    {
     "name": "stdout",
     "output_type": "stream",
     "text": [
      "All/MerilyticsSeniorAnalystDatascience_71.html\n",
      "All/MerilyticsSeniorBusinessAnalyst_72.html\n"
     ]
    },
    {
     "name": "stderr",
     "output_type": "stream",
     "text": [
      " 69%|██████▊   | 569/828 [00:09<00:04, 64.00it/s]"
     ]
    },
    {
     "name": "stdout",
     "output_type": "stream",
     "text": [
      "All/OLXAutosDataEngineer_90.html\n"
     ]
    },
    {
     "name": "stderr",
     "output_type": "stream",
     "text": [
      "100%|██████████| 828/828 [00:14<00:00, 56.07it/s]\n"
     ]
    }
   ],
   "source": [
    "detils = []\n",
    "for i in tqdm.tqdm(range(len(files))):\n",
    "    try:\n",
    "        detils.append(get_details(files[i]))\n",
    "    except:\n",
    "        print(files[i])"
   ]
  },
  {
   "cell_type": "code",
   "execution_count": 44,
   "metadata": {},
   "outputs": [
    {
     "data": {
      "text/html": [
       "<div>\n",
       "<style scoped>\n",
       "    .dataframe tbody tr th:only-of-type {\n",
       "        vertical-align: middle;\n",
       "    }\n",
       "\n",
       "    .dataframe tbody tr th {\n",
       "        vertical-align: top;\n",
       "    }\n",
       "\n",
       "    .dataframe thead th {\n",
       "        text-align: right;\n",
       "    }\n",
       "</style>\n",
       "<table border=\"1\" class=\"dataframe\">\n",
       "  <thead>\n",
       "    <tr style=\"text-align: right;\">\n",
       "      <th></th>\n",
       "      <th>Company</th>\n",
       "      <th>Designation</th>\n",
       "      <th>CTC</th>\n",
       "      <th>Gross</th>\n",
       "      <th>Base</th>\n",
       "      <th>Offers</th>\n",
       "    </tr>\n",
       "  </thead>\n",
       "  <tbody>\n",
       "    <tr>\n",
       "      <th>0</th>\n",
       "      <td>1K Kirana Bazaar</td>\n",
       "      <td>Product Analyst</td>\n",
       "      <td>1,500,000</td>\n",
       "      <td>1,478,400</td>\n",
       "      <td>750,000</td>\n",
       "      <td>2</td>\n",
       "    </tr>\n",
       "    <tr>\n",
       "      <th>1</th>\n",
       "      <td>1K Kirana Bazaar</td>\n",
       "      <td>Software Engineer</td>\n",
       "      <td>1,500,000</td>\n",
       "      <td>1,478,400</td>\n",
       "      <td>750,000</td>\n",
       "      <td>10</td>\n",
       "    </tr>\n",
       "    <tr>\n",
       "      <th>2</th>\n",
       "      <td>1K Kirana Bazaar</td>\n",
       "      <td>Program Manager (Business)</td>\n",
       "      <td>1,500,000</td>\n",
       "      <td>1,478,400</td>\n",
       "      <td>750,000</td>\n",
       "      <td>1</td>\n",
       "    </tr>\n",
       "    <tr>\n",
       "      <th>3</th>\n",
       "      <td>1K Kirana Bazaar</td>\n",
       "      <td>Program Manager (Supply Chain Management)</td>\n",
       "      <td>1,500,000</td>\n",
       "      <td>1,478,400</td>\n",
       "      <td>750,000</td>\n",
       "      <td>1</td>\n",
       "    </tr>\n",
       "    <tr>\n",
       "      <th>4</th>\n",
       "      <td>50 Hertz Ltd</td>\n",
       "      <td>Business Analyst</td>\n",
       "      <td>700,000</td>\n",
       "      <td>650,000</td>\n",
       "      <td>650,000</td>\n",
       "      <td>5</td>\n",
       "    </tr>\n",
       "  </tbody>\n",
       "</table>\n",
       "</div>"
      ],
      "text/plain": [
       "            Company                                Designation        CTC  \\\n",
       "0  1K Kirana Bazaar                            Product Analyst  1,500,000   \n",
       "1  1K Kirana Bazaar                          Software Engineer  1,500,000   \n",
       "2  1K Kirana Bazaar                 Program Manager (Business)  1,500,000   \n",
       "3  1K Kirana Bazaar  Program Manager (Supply Chain Management)  1,500,000   \n",
       "4      50 Hertz Ltd                           Business Analyst    700,000   \n",
       "\n",
       "       Gross     Base  Offers  \n",
       "0  1,478,400  750,000       2  \n",
       "1  1,478,400  750,000      10  \n",
       "2  1,478,400  750,000       1  \n",
       "3  1,478,400  750,000       1  \n",
       "4    650,000  650,000       5  "
      ]
     },
     "execution_count": 44,
     "metadata": {},
     "output_type": "execute_result"
    }
   ],
   "source": [
    "details = pd.DataFrame(detils)\n",
    "details.columns = [\"Company\", \"Designation\", \"CTC\", \"Gross\", \"Base\", \"Offers\"]\n",
    "details.dropna(inplace=True)\n",
    "details.head()"
   ]
  },
  {
   "cell_type": "code",
   "execution_count": 45,
   "metadata": {},
   "outputs": [
    {
     "data": {
      "text/plain": [
       "5      170\n",
       "2      158\n",
       "3      108\n",
       "1      102\n",
       "10      90\n",
       "4       61\n",
       "15      26\n",
       "20      24\n",
       "8       20\n",
       "6       14\n",
       "11      11\n",
       "30       8\n",
       "50       8\n",
       "7        7\n",
       "25       5\n",
       "12       3\n",
       "17       1\n",
       "100      1\n",
       "9        1\n",
       "40       1\n",
       "Name: Offers, dtype: int64"
      ]
     },
     "execution_count": 45,
     "metadata": {},
     "output_type": "execute_result"
    }
   ],
   "source": [
    "details[\"Offers\"].value_counts()"
   ]
  },
  {
   "cell_type": "code",
   "execution_count": 46,
   "metadata": {},
   "outputs": [
    {
     "data": {
      "text/plain": [
       "4987"
      ]
     },
     "execution_count": 46,
     "metadata": {},
     "output_type": "execute_result"
    }
   ],
   "source": [
    "details[\"Offers\"].sum()"
   ]
  },
  {
   "cell_type": "code",
   "execution_count": 47,
   "metadata": {},
   "outputs": [],
   "source": [
    "details.to_csv(\"details.csv\", index=False)"
   ]
  }
 ],
 "metadata": {
  "kernelspec": {
   "display_name": "Python 3.9.12 ('data-science')",
   "language": "python",
   "name": "python3"
  },
  "language_info": {
   "codemirror_mode": {
    "name": "ipython",
    "version": 3
   },
   "file_extension": ".py",
   "mimetype": "text/x-python",
   "name": "python",
   "nbconvert_exporter": "python",
   "pygments_lexer": "ipython3",
   "version": "3.9.15"
  },
  "orig_nbformat": 4,
  "vscode": {
   "interpreter": {
    "hash": "2efee1efa502125d01e6b4768ba06d9453d29f3642bfd14ad5d4a769de82e88c"
   }
  }
 },
 "nbformat": 4,
 "nbformat_minor": 2
}
