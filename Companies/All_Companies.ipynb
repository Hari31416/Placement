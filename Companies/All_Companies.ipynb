{
 "cells": [
  {
   "cell_type": "markdown",
   "metadata": {},
   "source": [
    "# Imports"
   ]
  },
  {
   "cell_type": "code",
   "execution_count": 1,
   "metadata": {},
   "outputs": [],
   "source": [
    "import webdriver_manager\n",
    "from selenium.webdriver.common.by import By\n",
    "from selenium.webdriver.common.keys import Keys\n",
    "from selenium import webdriver\n",
    "from webdriver_manager.chrome import ChromeDriverManager\n",
    "from webdriver_manager.firefox import GeckoDriverManager\n",
    "from selenium.webdriver.chrome.service import Service as ChromeService\n",
    "from IPython.display import clear_output\n",
    "import time\n",
    "import pandas as pd\n",
    "import IPython\n",
    "import os"
   ]
  },
  {
   "cell_type": "markdown",
   "metadata": {},
   "source": [
    "# Driver and Functions"
   ]
  },
  {
   "cell_type": "code",
   "execution_count": 2,
   "metadata": {},
   "outputs": [],
   "source": [
    "driver = webdriver.Chrome(service=ChromeService(ChromeDriverManager().install()))"
   ]
  },
  {
   "cell_type": "code",
   "execution_count": 3,
   "metadata": {},
   "outputs": [],
   "source": [
    "def login():\n",
    "    driver.get(\"https://ocs.iitd.ac.in/portal/login\")\n",
    "    ID = \"phs217181\"\n",
    "    password = input(\"Enter your password: \")\n",
    "    driver.get(\"https://ocs.iitd.ac.in/portal/login\")\n",
    "    driver.find_element(By.ID, \"mat-input-0\").send_keys(ID)\n",
    "    driver.find_element(By.ID, \"mat-input-1\").send_keys(password)\n",
    "    captcha = driver.find_element(By.TAG_NAME, \"object\")\n",
    "    captcha.screenshot(\"captcha.png\")\n",
    "    IPython.display.display(IPython.display.Image(\"captcha.png\"))\n",
    "    captcha_code = input(\"Enter the captcha code: \")\n",
    "    driver.find_element(By.ID, \"mat-input-2\").send_keys(captcha_code)\n",
    "    driver.find_element(By.TAG_NAME, \"button\").click()"
   ]
  },
  {
   "cell_type": "code",
   "execution_count": 4,
   "metadata": {},
   "outputs": [],
   "source": [
    "def list_companies(url = \"https://ocs.iitd.ac.in/portal/student/applications\", class1= \"mat-select-value-5\", class2 = \"mat-option-14\"):\n",
    "    driver.get(url)\n",
    "    driver.find_element(By.ID, class1).click()\n",
    "    driver.find_element(By.ID, class2).click()\n",
    "    max_rows = int(driver.find_element(By.CLASS_NAME, \"mat-paginator-range-label\").text.split(\" \")[-1])\n",
    "    return max_rows"
   ]
  },
  {
   "cell_type": "code",
   "execution_count": 5,
   "metadata": {},
   "outputs": [],
   "source": [
    "def result(max_rows):\n",
    "    companies = []\n",
    "    profiles = []\n",
    "    page_num = 0\n",
    "    per_page = 50\n",
    "    while page_num*per_page<=max_rows:\n",
    "        print(f\"Currently on page {page_num+1}\", end=\"\\r\")\n",
    "        table = driver.find_element(By.TAG_NAME, \"table\")\n",
    "        rows = table.find_elements(By.TAG_NAME, \"tr\")\n",
    "        for i in range(1, len(rows)):\n",
    "            data = rows[i].find_element(By.TAG_NAME, \"td\").text.split(\"\\n\")[0]\n",
    "            company = data.split(\"(\")[0]\n",
    "            profile = data.split(\"(\")[1].split(\")\")[0]\n",
    "            companies.append(company.strip())\n",
    "            profiles.append(profile.strip())\n",
    "        next_btn = driver.find_elements(By.CLASS_NAME, \"mat-button-wrapper\")[1]\n",
    "        next_btn.click()\n",
    "        page_num+=1\n",
    "    all_companies = pd.DataFrame([companies, profiles]).T\n",
    "    all_companies.columns = [\"Company\", \"Profile\"]\n",
    "    return all_companies"
   ]
  },
  {
   "cell_type": "code",
   "execution_count": 6,
   "metadata": {},
   "outputs": [],
   "source": [
    "def logout():\n",
    "    for item in driver.find_elements(By.TAG_NAME ,\"mat-icon\"):\n",
    "        if item.text == \"exit_to_app\":\n",
    "            item.click()\n",
    "            return None"
   ]
  },
  {
   "cell_type": "markdown",
   "metadata": {},
   "source": [
    "# Start"
   ]
  },
  {
   "cell_type": "code",
   "execution_count": 7,
   "metadata": {},
   "outputs": [
    {
     "data": {
      "image/png": "[encoded data removed]",
      "text/plain": [
       "<IPython.core.display.Image object>"
      ]
     },
     "metadata": {},
     "output_type": "display_data"
    }
   ],
   "source": [
    "login()\n",
    "os.remove(\"captcha.png\")"
   ]
  },
  {
   "cell_type": "markdown",
   "metadata": {},
   "source": [
    "## MSC List"
   ]
  },
  {
   "cell_type": "code",
   "execution_count": 8,
   "metadata": {},
   "outputs": [
    {
     "name": "stdout",
     "output_type": "stream",
     "text": [
      "Currently on page 3\r"
     ]
    }
   ],
   "source": [
    "max_rows = list_companies()\n",
    "msc_df = result(max_rows=max_rows)"
   ]
  },
  {
   "cell_type": "code",
   "execution_count": 9,
   "metadata": {},
   "outputs": [
    {
     "data": {
      "text/html": [
       "<div>\n",
       "<style scoped>\n",
       "    .dataframe tbody tr th:only-of-type {\n",
       "        vertical-align: middle;\n",
       "    }\n",
       "\n",
       "    .dataframe tbody tr th {\n",
       "        vertical-align: top;\n",
       "    }\n",
       "\n",
       "    .dataframe thead th {\n",
       "        text-align: right;\n",
       "    }\n",
       "</style>\n",
       "<table border=\"1\" class=\"dataframe\">\n",
       "  <thead>\n",
       "    <tr style=\"text-align: right;\">\n",
       "      <th></th>\n",
       "      <th>Company</th>\n",
       "      <th>Profile</th>\n",
       "    </tr>\n",
       "  </thead>\n",
       "  <tbody>\n",
       "    <tr>\n",
       "      <th>0</th>\n",
       "      <td>Javis</td>\n",
       "      <td>Software Development Engineer I</td>\n",
       "    </tr>\n",
       "    <tr>\n",
       "      <th>1</th>\n",
       "      <td>Javis</td>\n",
       "      <td>Data Engineer I</td>\n",
       "    </tr>\n",
       "    <tr>\n",
       "      <th>2</th>\n",
       "      <td>Javis</td>\n",
       "      <td>Machine Learning Engineer I</td>\n",
       "    </tr>\n",
       "    <tr>\n",
       "      <th>3</th>\n",
       "      <td>Javis</td>\n",
       "      <td>Software Development Engineer I</td>\n",
       "    </tr>\n",
       "    <tr>\n",
       "      <th>4</th>\n",
       "      <td>Truminds Software Systems</td>\n",
       "      <td>Software Development Engineer</td>\n",
       "    </tr>\n",
       "    <tr>\n",
       "      <th>...</th>\n",
       "      <td>...</td>\n",
       "      <td>...</td>\n",
       "    </tr>\n",
       "    <tr>\n",
       "      <th>97</th>\n",
       "      <td>Sony Group Corporation</td>\n",
       "      <td>JAF11 : Software testing engineer</td>\n",
       "    </tr>\n",
       "    <tr>\n",
       "      <th>98</th>\n",
       "      <td>Sony Group Corporation</td>\n",
       "      <td>JAF12 : Image Sensor device/pixel Research&amp;Dev...</td>\n",
       "    </tr>\n",
       "    <tr>\n",
       "      <th>99</th>\n",
       "      <td>Piramal</td>\n",
       "      <td>Management Trainee - Business Intelligence Unit</td>\n",
       "    </tr>\n",
       "    <tr>\n",
       "      <th>100</th>\n",
       "      <td>DMI Finance</td>\n",
       "      <td>AM - Analytics</td>\n",
       "    </tr>\n",
       "    <tr>\n",
       "      <th>101</th>\n",
       "      <td>BLEND360</td>\n",
       "      <td>Business Analyst_Masters</td>\n",
       "    </tr>\n",
       "  </tbody>\n",
       "</table>\n",
       "<p>102 rows × 2 columns</p>\n",
       "</div>"
      ],
      "text/plain": [
       "                       Company  \\\n",
       "0                        Javis   \n",
       "1                        Javis   \n",
       "2                        Javis   \n",
       "3                        Javis   \n",
       "4    Truminds Software Systems   \n",
       "..                         ...   \n",
       "97      Sony Group Corporation   \n",
       "98      Sony Group Corporation   \n",
       "99                     Piramal   \n",
       "100                DMI Finance   \n",
       "101                   BLEND360   \n",
       "\n",
       "                                               Profile  \n",
       "0                      Software Development Engineer I  \n",
       "1                                      Data Engineer I  \n",
       "2                          Machine Learning Engineer I  \n",
       "3                      Software Development Engineer I  \n",
       "4                        Software Development Engineer  \n",
       "..                                                 ...  \n",
       "97                   JAF11 : Software testing engineer  \n",
       "98   JAF12 : Image Sensor device/pixel Research&Dev...  \n",
       "99     Management Trainee - Business Intelligence Unit  \n",
       "100                                     AM - Analytics  \n",
       "101                           Business Analyst_Masters  \n",
       "\n",
       "[102 rows x 2 columns]"
      ]
     },
     "execution_count": 9,
     "metadata": {},
     "output_type": "execute_result"
    }
   ],
   "source": [
    "msc_df"
   ]
  },
  {
   "cell_type": "markdown",
   "metadata": {},
   "source": [
    "## All List"
   ]
  },
  {
   "cell_type": "code",
   "execution_count": null,
   "metadata": {},
   "outputs": [],
   "source": [
    "# url = \"https://ocs.iitd.ac.in/portal/student/companies\"\n",
    "# class1= \"mat-select-value-3\"\n",
    "# class2 = \"mat-option-10\"\n",
    "# max_rows = list_companies(url = url, class1=class1, class2=class2)\n",
    "# all_df = result(max_rows=max_rows)"
   ]
  },
  {
   "cell_type": "code",
   "execution_count": 10,
   "metadata": {},
   "outputs": [],
   "source": [
    "# all_df"
   ]
  },
  {
   "cell_type": "code",
   "execution_count": 11,
   "metadata": {},
   "outputs": [],
   "source": [
    "logout()"
   ]
  },
  {
   "cell_type": "code",
   "execution_count": 12,
   "metadata": {},
   "outputs": [],
   "source": [
    "driver.close()"
   ]
  },
  {
   "cell_type": "markdown",
   "metadata": {},
   "source": [
    "# Analysis"
   ]
  },
  {
   "cell_type": "markdown",
   "metadata": {},
   "source": [
    "## Loading the Older List"
   ]
  },
  {
   "cell_type": "code",
   "execution_count": 13,
   "metadata": {},
   "outputs": [],
   "source": [
    "msc_old = pd.read_csv(\"msc.csv\")\n",
    "# all_old = pd.read_csv(\"all.csv\")"
   ]
  },
  {
   "cell_type": "markdown",
   "metadata": {},
   "source": [
    "## Comparing"
   ]
  },
  {
   "cell_type": "code",
   "execution_count": 14,
   "metadata": {},
   "outputs": [
    {
     "name": "stdout",
     "output_type": "stream",
     "text": [
      "Some things have changed!\n"
     ]
    }
   ],
   "source": [
    "if len(msc_old)!=len(msc_df):\n",
    "    print(\"Some things have changed!\")\n",
    "    changed = True\n",
    "else:\n",
    "    print(\"Everything is the Same.\")\n",
    "    changed = False"
   ]
  },
  {
   "cell_type": "code",
   "execution_count": 15,
   "metadata": {},
   "outputs": [
    {
     "name": "stdout",
     "output_type": "stream",
     "text": [
      "A total of 5 Positions have been ADDED.\n"
     ]
    }
   ],
   "source": [
    "if changed:\n",
    "    diff = len(msc_old)-len(msc_df)\n",
    "    if diff<0:\n",
    "        print(f\"A total of {-diff} Positions have been ADDED.\")\n",
    "    else:\n",
    "        print(f\"A total of {diff} Positions have been REMOVED.\")\n",
    "else:\n",
    "    diff = 0"
   ]
  },
  {
   "cell_type": "code",
   "execution_count": 16,
   "metadata": {},
   "outputs": [],
   "source": [
    "def compare(diff = diff, anyway = False):\n",
    "    old_list = msc_old[\"Company\"].values\n",
    "    new_list = msc_df[\"Company\"].values\n",
    "    if diff<0 or anyway:\n",
    "        print(\"Added Companies are:\\n\")\n",
    "        for c in new_list:\n",
    "            if c not in old_list:\n",
    "                print(c)\n",
    "    elif diff>0 or anyway:\n",
    "        print(\"Removed Companies are:\\n\")\n",
    "        for c in old_list:\n",
    "            if c not in new_list:\n",
    "                print(c)"
   ]
  },
  {
   "cell_type": "code",
   "execution_count": 17,
   "metadata": {},
   "outputs": [
    {
     "name": "stdout",
     "output_type": "stream",
     "text": [
      "Added Companies are:\n",
      "\n",
      "MIKO\n",
      "MIKO\n",
      "MIKO\n",
      "MIKO\n",
      "MIKO\n"
     ]
    }
   ],
   "source": [
    "compare(diff = diff, anyway = False)"
   ]
  },
  {
   "cell_type": "markdown",
   "metadata": {},
   "source": [
    "## Saving the Latest List"
   ]
  },
  {
   "cell_type": "code",
   "execution_count": 18,
   "metadata": {},
   "outputs": [],
   "source": [
    "msc_df.to_csv(\"msc.csv\", index=False)\n",
    "# all_df.to_csv(\"all.csv\", index=False)"
   ]
  },
  {
   "cell_type": "code",
   "execution_count": 19,
   "metadata": {},
   "outputs": [
    {
     "data": {
      "text/html": [
       "<div>\n",
       "<style scoped>\n",
       "    .dataframe tbody tr th:only-of-type {\n",
       "        vertical-align: middle;\n",
       "    }\n",
       "\n",
       "    .dataframe tbody tr th {\n",
       "        vertical-align: top;\n",
       "    }\n",
       "\n",
       "    .dataframe thead th {\n",
       "        text-align: right;\n",
       "    }\n",
       "</style>\n",
       "<table border=\"1\" class=\"dataframe\">\n",
       "  <thead>\n",
       "    <tr style=\"text-align: right;\">\n",
       "      <th></th>\n",
       "      <th>Company</th>\n",
       "      <th>Profile</th>\n",
       "    </tr>\n",
       "  </thead>\n",
       "  <tbody>\n",
       "    <tr>\n",
       "      <th>0</th>\n",
       "      <td>GroMo</td>\n",
       "      <td>Vitrak Technologies Pvt Ltd</td>\n",
       "    </tr>\n",
       "    <tr>\n",
       "      <th>1</th>\n",
       "      <td>Schlumberger</td>\n",
       "      <td>Modelling and Simulation Engineer</td>\n",
       "    </tr>\n",
       "    <tr>\n",
       "      <th>2</th>\n",
       "      <td>University Of Petroleum Energy Studies</td>\n",
       "      <td>Assistant Professor</td>\n",
       "    </tr>\n",
       "    <tr>\n",
       "      <th>3</th>\n",
       "      <td>Big Basket</td>\n",
       "      <td>Software Engineer</td>\n",
       "    </tr>\n",
       "    <tr>\n",
       "      <th>4</th>\n",
       "      <td>BLEND360</td>\n",
       "      <td>Business Analyst_Masters</td>\n",
       "    </tr>\n",
       "    <tr>\n",
       "      <th>...</th>\n",
       "      <td>...</td>\n",
       "      <td>...</td>\n",
       "    </tr>\n",
       "    <tr>\n",
       "      <th>504</th>\n",
       "      <td>Wipro Enterprises</td>\n",
       "      <td>P</td>\n",
       "    </tr>\n",
       "    <tr>\n",
       "      <th>505</th>\n",
       "      <td>WorldQuant</td>\n",
       "      <td>Quantitative Researcher</td>\n",
       "    </tr>\n",
       "    <tr>\n",
       "      <th>506</th>\n",
       "      <td>zHealth</td>\n",
       "      <td>Software Development Engineer I</td>\n",
       "    </tr>\n",
       "    <tr>\n",
       "      <th>507</th>\n",
       "      <td>Zomato Limited</td>\n",
       "      <td>Sde</td>\n",
       "    </tr>\n",
       "    <tr>\n",
       "      <th>508</th>\n",
       "      <td>Zupee</td>\n",
       "      <td>Founder's Team</td>\n",
       "    </tr>\n",
       "  </tbody>\n",
       "</table>\n",
       "<p>509 rows × 2 columns</p>\n",
       "</div>"
      ],
      "text/plain": [
       "                                    Company                            Profile\n",
       "0                                     GroMo        Vitrak Technologies Pvt Ltd\n",
       "1                              Schlumberger  Modelling and Simulation Engineer\n",
       "2    University Of Petroleum Energy Studies                Assistant Professor\n",
       "3                                Big Basket                  Software Engineer\n",
       "4                                  BLEND360           Business Analyst_Masters\n",
       "..                                      ...                                ...\n",
       "504                       Wipro Enterprises                                  P\n",
       "505                              WorldQuant            Quantitative Researcher\n",
       "506                                 zHealth    Software Development Engineer I\n",
       "507                          Zomato Limited                                Sde\n",
       "508                                   Zupee                     Founder's Team\n",
       "\n",
       "[509 rows x 2 columns]"
      ]
     },
     "execution_count": 19,
     "metadata": {},
     "output_type": "execute_result"
    }
   ],
   "source": [
    "all_df"
   ]
  },
  {
   "cell_type": "code",
   "execution_count": 20,
   "metadata": {},
   "outputs": [
    {
     "data": {
      "text/html": [
       "<div>\n",
       "<style scoped>\n",
       "    .dataframe tbody tr th:only-of-type {\n",
       "        vertical-align: middle;\n",
       "    }\n",
       "\n",
       "    .dataframe tbody tr th {\n",
       "        vertical-align: top;\n",
       "    }\n",
       "\n",
       "    .dataframe thead th {\n",
       "        text-align: right;\n",
       "    }\n",
       "</style>\n",
       "<table border=\"1\" class=\"dataframe\">\n",
       "  <thead>\n",
       "    <tr style=\"text-align: right;\">\n",
       "      <th></th>\n",
       "      <th>Company</th>\n",
       "      <th>Profile</th>\n",
       "    </tr>\n",
       "  </thead>\n",
       "  <tbody>\n",
       "    <tr>\n",
       "      <th>0</th>\n",
       "      <td>Truminds Software Systems</td>\n",
       "      <td>Software Development Engineer</td>\n",
       "    </tr>\n",
       "    <tr>\n",
       "      <th>1</th>\n",
       "      <td>Mistral Solutions Pvt Ltd</td>\n",
       "      <td>Software Engineer</td>\n",
       "    </tr>\n",
       "    <tr>\n",
       "      <th>2</th>\n",
       "      <td>Mistral Solutions Pvt Ltd</td>\n",
       "      <td>FPGA/VLSI Engineer</td>\n",
       "    </tr>\n",
       "    <tr>\n",
       "      <th>3</th>\n",
       "      <td>Mistral Solutions Pvt Ltd</td>\n",
       "      <td>RF/Analog Engineer</td>\n",
       "    </tr>\n",
       "    <tr>\n",
       "      <th>4</th>\n",
       "      <td>Raphe mPhibr Pvt Ltd</td>\n",
       "      <td>Research Engineer</td>\n",
       "    </tr>\n",
       "    <tr>\n",
       "      <th>...</th>\n",
       "      <td>...</td>\n",
       "      <td>...</td>\n",
       "    </tr>\n",
       "    <tr>\n",
       "      <th>92</th>\n",
       "      <td>Sony Group Corporation</td>\n",
       "      <td>JAF10 : GPU Software Engineer for Low Level Co...</td>\n",
       "    </tr>\n",
       "    <tr>\n",
       "      <th>93</th>\n",
       "      <td>Sony Group Corporation</td>\n",
       "      <td>JAF11 : Software testing engineer</td>\n",
       "    </tr>\n",
       "    <tr>\n",
       "      <th>94</th>\n",
       "      <td>Sony Group Corporation</td>\n",
       "      <td>JAF12 : Image Sensor device/pixel Research&amp;Dev...</td>\n",
       "    </tr>\n",
       "    <tr>\n",
       "      <th>95</th>\n",
       "      <td>Piramal</td>\n",
       "      <td>Management Trainee - Business Intelligence Unit</td>\n",
       "    </tr>\n",
       "    <tr>\n",
       "      <th>96</th>\n",
       "      <td>DMI Finance</td>\n",
       "      <td>AM - Analytics</td>\n",
       "    </tr>\n",
       "  </tbody>\n",
       "</table>\n",
       "<p>97 rows × 2 columns</p>\n",
       "</div>"
      ],
      "text/plain": [
       "                      Company  \\\n",
       "0   Truminds Software Systems   \n",
       "1   Mistral Solutions Pvt Ltd   \n",
       "2   Mistral Solutions Pvt Ltd   \n",
       "3   Mistral Solutions Pvt Ltd   \n",
       "4        Raphe mPhibr Pvt Ltd   \n",
       "..                        ...   \n",
       "92     Sony Group Corporation   \n",
       "93     Sony Group Corporation   \n",
       "94     Sony Group Corporation   \n",
       "95                    Piramal   \n",
       "96                DMI Finance   \n",
       "\n",
       "                                              Profile  \n",
       "0                       Software Development Engineer  \n",
       "1                                   Software Engineer  \n",
       "2                                  FPGA/VLSI Engineer  \n",
       "3                                  RF/Analog Engineer  \n",
       "4                                   Research Engineer  \n",
       "..                                                ...  \n",
       "92  JAF10 : GPU Software Engineer for Low Level Co...  \n",
       "93                  JAF11 : Software testing engineer  \n",
       "94  JAF12 : Image Sensor device/pixel Research&Dev...  \n",
       "95    Management Trainee - Business Intelligence Unit  \n",
       "96                                     AM - Analytics  \n",
       "\n",
       "[97 rows x 2 columns]"
      ]
     },
     "execution_count": 20,
     "metadata": {},
     "output_type": "execute_result"
    }
   ],
   "source": [
    "msc_df"
   ]
  },
  {
   "cell_type": "code",
   "execution_count": 22,
   "metadata": {},
   "outputs": [
    {
     "data": {
      "text/plain": [
       "array(['Vitrak Technologies Pvt Ltd', 'Modelling and Simulation Engineer',\n",
       "       'Assistant Professor', 'Software Engineer',\n",
       "       'Business Analyst_Masters', 'Business Intelligence',\n",
       "       'Data Engineer', 'Data Engineer_Masters', 'Data Scientist',\n",
       "       'Data Scientist_Masters', 'Associate Product Manager - Gaming',\n",
       "       'Investment Associate', 'Associate', 'Senior Associate',\n",
       "       'Software Development Engineer',\n",
       "       'Post graduate Engineer Trainee - CSE',\n",
       "       'Post Graduate Engineer Trainee - Electrical',\n",
       "       'Post Graduate Engineer Trainee - Mechanical', 'Business Analyst',\n",
       "       'Assistant Product Manager', 'Senior Associate Engineer',\n",
       "       'Structural Engineer',\n",
       "       'Research Associate - Neurobiology for Engineers',\n",
       "       'Quantitative Strategist', 'Systems Engineer',\n",
       "       'Management Trainee', 'Product Analyst', 'Program Manager', 'Asia',\n",
       "       'Hydraulics Engineer', 'Aerospace Systems', 'Trainee Engineer',\n",
       "       'Associate - Data Science', 'Associate - Software Developer',\n",
       "       'DevOps/IT Lead for PuzzleMe', 'Full stack engineer',\n",
       "       'Associate Manager', 'Quant Developer', 'Gradate Engineer',\n",
       "       'Backend Engineer', 'Infrastructure Engineer', 'Security Engineer',\n",
       "       'Site Reliability Engineer', 'I', 'Analyst',\n",
       "       'Graduate Engineer Trainee', 'Trainee Analyst',\n",
       "       'Software Developer Engineer',\n",
       "       'Subsidiary of Baxter International Inc.', 'Project Manager',\n",
       "       'Software Dev', 'Associate Software Engineer',\n",
       "       'Software Engineer- Trainee',\n",
       "       'Associate Software Engineer / Engineer', 'RESEARCH ENGINEER',\n",
       "       'Software Development Engineer-1', 'Product Engineer',\n",
       "       'Internship Trainee', 'Software Developer',\n",
       "       'Graduate Trainee Engineer',\n",
       "       'Data Scientist / Machine Learning Engineer',\n",
       "       'Trainee Software Engineer', 'Consultant',\n",
       "       'Senior Business Analyst', 'Associate Consultant',\n",
       "       'Proposal Engineer',\n",
       "       'Business Evangelist - Strategy, Branding & Sales',\n",
       "       'Software Development Engineer 1', 'Quantitative Research Analyst',\n",
       "       'Title : Software Engineer Role : Firmware Developer',\n",
       "       'Project Engineer', 'Applied Researcher', 'Researcher AI LAB',\n",
       "       'Researcher AI LAB ?Pre-doctorial Program: 2 years employment?',\n",
       "       'Researcher Quantum Laboratory', 'Software Developer Fujitsu R&D',\n",
       "       'EEDP', 'India', 'Application Developer', 'Cloud Developer',\n",
       "       'Trainee Programmer Analyst', 'Embedded Electronics Engineer',\n",
       "       'Junior Software Engineer', 'Salesforce Technology Freshers',\n",
       "       'Lead - Experience Design',\n",
       "       'Associate Software Engineer- ontology', 'Junior Data Scientist',\n",
       "       'Research Analyst', 'Assistant Professor/Associate Professor',\n",
       "       'Associate Consultant, Consultant', 'Senior Engineer',\n",
       "       'Associate Software Developer', 'Research Engineer',\n",
       "       'Data Engineer I', 'Machine Learning Engineer I',\n",
       "       'Software Development Engineer I',\n",
       "       'Software Development Engineer TS1',\n",
       "       'Software Development Engineer TS2',\n",
       "       'Full Time Analyst - Quantitative Research',\n",
       "       'Industrial Operations Engineer', 'Machine Learning Engineer',\n",
       "       'SDE', 'Graduate Trainee', 'Software Engineer 1',\n",
       "       'Assistant Manager', 'P', 'Senior Analog Design Engineer',\n",
       "       'Staff Analog Design Engineer', 'Senior Analyst - Data science',\n",
       "       'Senior Technical Associate', 'SDE Frontend', 'FPGA/VLSI Engineer',\n",
       "       'RF/Analog Engineer', 'High Performance DPI Engineer',\n",
       "       'Full Stack Developer', 'Designer', 'American Express',\n",
       "       'Core Role', 'Operations Research Scientist I', 'SDE -1',\n",
       "       'R&D Chemist', 'Management Trainee - R&D',\n",
       "       'Management Trainee - Sales', 'Management Trainee - Sales Textile',\n",
       "       'Associate Software Development Engineer',\n",
       "       'Senior Associate Data Science L1',\n",
       "       'Senior Engineer- Modem Systems', 'Framework Engineer', '10xAR',\n",
       "       'AI Engineer', 'AI Scientist', 'Electrical Engineer',\n",
       "       'Embedded Hardware Engineer', 'Mechanical Design Engineer',\n",
       "       'Power Electronics Engineer', 'Chief Engineer',\n",
       "       'Trainee Engineer -Design', 'Trainee Engineer- Tech Innovations',\n",
       "       'Trainee Engineer-Design', 'Web Engineer', 'Process Engineer',\n",
       "       'Engineer', 'SSIR', 'Civil Engineer', 'Mechanical Engineer',\n",
       "       'Post Graduate Trainee Engineer', 'Associate Data Scientist',\n",
       "       'Communications/Signal Processing Algorithm Engineer',\n",
       "       'Digital/Analog Design Engineer',\n",
       "       'Embedded Hardware/Software Engineer', 'Operations Trainee',\n",
       "       'Software Engineer Trainee - Technology Specialist Group',\n",
       "       'Intermediate Full Stack Developer', 'Design Trainee',\n",
       "       'Post Graduate Engineer Trainee – Drives & Power Electronics',\n",
       "       'Post Graduate Engineer Trainee - Control Systems',\n",
       "       'Post Graduate Engineer Trainee – Robotic Motion Planning & Control',\n",
       "       'Software Engineering', 'Post Graduate Engineer Trainee',\n",
       "       'FUTURE FOUNDER INTERN INVITED', 'Technical Executive',\n",
       "       'R&D UFLP- Unilever Future Leaders programme',\n",
       "       'UFLP- UnileverFuture Leaders programme', 'Production Manager',\n",
       "       'Revenue Manager', 'Textile Post Graduate Traine',\n",
       "       'Junior Developer', 'Machine Learning Platform Engineer',\n",
       "       'AI Architect', 'Business Consultant', 'Digital Consultant',\n",
       "       'Strategy Consultant', 'S&C Delivery Associate', 'Analyst Level 2',\n",
       "       'Quantitative Trading Analyst', 'Software Design Engineer 1',\n",
       "       'Design Verification Engineer', 'Silicon Design Engineer',\n",
       "       'Silicon Design Engineer - DFT',\n",
       "       'Silicon Design Engineer - Software', 'Silicon Design Engineer 2',\n",
       "       'System Software Designer', 'Management Trainee- Analytics',\n",
       "       'Data scientist', 'Product/Ops analyst', 'Software engineer',\n",
       "       'Android Developer', 'Backend Developer', 'FrontEnd Develper',\n",
       "       'IOS Developer', 'UX Designer', 'Game Developer', 'SDE - I',\n",
       "       'Associate Consultant- India Consulting', 'GTE', 'PGTE',\n",
       "       'Associate Engineer', 'Associate Engineer - MAS',\n",
       "       'Member of Technical Staff', 'Graduate Developer',\n",
       "       'Graduate Quant Researcher', 'Graduate Trader', 'Product Manager',\n",
       "       'Graduate Analyst', 'Software Developer - University Hire',\n",
       "       'AM - Analytics', 'Quantitative Developer',\n",
       "       'Cloud Software Engineer', 'Cyber Security Engineer',\n",
       "       'Data Science Engineer', 'Embedded_CTO', 'Engineer - Hardware',\n",
       "       'Engineer – Embedded SW_MBU', 'Engineer – IT Security',\n",
       "       'Engineer – Mobile Apps', 'Engineer – Systems DVT',\n",
       "       'Failure Analysis Engineer', 'Firmware Developer',\n",
       "       'Python Automation Engineers', 'SW TSE - Cloud',\n",
       "       'System Integration Engineer', 'Solution Intelligence Analyst I',\n",
       "       'Backend Engineer / Digital Business Reform Department',\n",
       "       'Data Engineer / Digital Business Reform Department',\n",
       "       'Data Scientist / Digital Business Reform Department',\n",
       "       'Front-end Engineer / Digital Business Reform Department',\n",
       "       'Mobile Application Engineer / Digital Business Reform Department',\n",
       "       'QA Engineer/ Digital Business Reform Department',\n",
       "       'Software Developer / Digital Business Reform Department',\n",
       "       'Associate Product Manager 1', 'Assistant Manager - Analytics',\n",
       "       'Quantitative Researcher', 'Associate Product Manager',\n",
       "       'Business Associate', '1', '2', '3', '4', '5', 'Associate- Growth',\n",
       "       'Analog Mixed Signal Design Engineer',\n",
       "       'Digital Verification Engineer', 'JRS Biotechnology',\n",
       "       'Hardware Engineer',\n",
       "       'EV Powertrain Hardware Graduate Engineer Trainee',\n",
       "       'EV Powertrain Software Graduate Engineer Trainee',\n",
       "       'Graduate Mechatronics Engineer Trainee',\n",
       "       'Graduate Software Engineer Trainee',\n",
       "       'Senior Communication Systems Engineer',\n",
       "       'Senior Digital IC Design Engineer or Senior. Physical Design/DFT Engineer',\n",
       "       'Senior RF/MS IC Design Engineer',\n",
       "       'Senior Signal Integrity Engineer', 'Senior Software Engineer',\n",
       "       'Business Analyst - McKinsey Digital', 'Sales and Trading',\n",
       "       'Strats and Quants', 'Data Science',\n",
       "       'Business and Operations Analyst', 'Formal Verification Engineer',\n",
       "       'System Software Engineer', 'ENGR II, DESIGN_TL_ANALOG',\n",
       "       'ENGR II, DIGITAL_TL', 'ENGR II, DIGITAL_TL_VERIFICATION',\n",
       "       'ENGR II, PRODUCT_TL', 'ENGR II, TEST_TL',\n",
       "       'Software Engineer Level - 3 - Developer',\n",
       "       'Member Technical Staff', 'Associate Business Analyst',\n",
       "       'Associate Data Engineer',\n",
       "       'Management Trainee - Business Intelligence Unit',\n",
       "       'Management Trainee - Technology', 'Engineer Modem Systems',\n",
       "       'Engineer- AI Systems', 'Engineer- MM Systems',\n",
       "       'Engineer- Modem Firmware', 'Engineer- RFIC',\n",
       "       'Core Engineering Analyst - Bangalore',\n",
       "       'Quant Research & Trading Analyst',\n",
       "       'Quant Research and Trading Analyst – Singapore',\n",
       "       'Physical Design, CPU or SOC - Full time',\n",
       "       'Physical Design, SOC or CPU - Full time',\n",
       "       'Silicon Verification - Full-time -',\n",
       "       'Silicon Verification - Full-time', 'SOFTWARE ENGINEER', 'INITO',\n",
       "       'Senior Engineer/Engineer', 'Software Engineering/Product',\n",
       "       'Engineer I - IC Design', 'Software Development Engineer - I',\n",
       "       'JAF1 : XR System Engineer',\n",
       "       'JAF10 : GPU Software Engineer for Low Level Component and Tools for PlayStation',\n",
       "       'JAF11 : Software testing engineer',\n",
       "       'JAF12 : Image Sensor device/pixel Research&Development',\n",
       "       'JAF2 : Software and Hardware engineer for Robotics Platform',\n",
       "       'JAF3 : Visual Recognition Computation Systems and Architecture, Research Engineer',\n",
       "       'JAF4 : Software Engineer, Parallel Programming and Machine Learning',\n",
       "       'JAF5 : R&D Engineer of Privacy Computing Technology',\n",
       "       'JAF6 : Deep Learning, Researcher/Research Engineer/Software Engineer',\n",
       "       'JAF7 : Software Engineer, Embedded Linux software development',\n",
       "       'JAF8 : PlayStation Network Software Systems Engineer, Production Operations Engineer',\n",
       "       'JAF9 : Platform Engineer for PlayStation Network',\n",
       "       'Platform Software Engineer', 'Graduate Software Developer',\n",
       "       'Graduate Software Developer - Monteral, Paris, London',\n",
       "       'Development Engineer', 'Design Engineer', 'Strategy& Associate',\n",
       "       'Advanced Chip Design and DFT Flow Engineer',\n",
       "       'Analog/Mixed-mode Engineer',\n",
       "       'Chip Design and Advanced Design Flow Engineer',\n",
       "       'Chip Design Engineer',\n",
       "       'Design/Process Co-Optimization and R&D Engineer in Advanced Nodes',\n",
       "       'IT Infrastructure Engineer', 'Machine Learning SW Engineer',\n",
       "       'Memory Design Engineer', 'Physical Design / APR Engineer',\n",
       "       'RC Solution Engineer',\n",
       "       'Timing/Power/IREM/ECO Design Flow Engineer', 'Analog Engineer',\n",
       "       'Digital Engineer', 'WinZO', 'Design Engineer - EEE',\n",
       "       'Design Engineer - Mech', 'Hardware Design Engineer',\n",
       "       'Network Engineer', 'Senior Quality Assurance Engineer',\n",
       "       'Software Engineer I', 'Scientist-Modeling and Simulation',\n",
       "       'Senior Scientist - Modeling and Simulation', 'Program Associate',\n",
       "       'Investment Analyst', 'Sde', \"Founder's Team\"], dtype=object)"
      ]
     },
     "execution_count": 22,
     "metadata": {},
     "output_type": "execute_result"
    }
   ],
   "source": [
    "all_df[\"Profile\"].unique()"
   ]
  },
  {
   "cell_type": "code",
   "execution_count": null,
   "metadata": {},
   "outputs": [],
   "source": []
  }
 ],
 "metadata": {
  "kernelspec": {
   "display_name": "Python 3.9.12 ('data-science')",
   "language": "python",
   "name": "python3"
  },
  "language_info": {
   "codemirror_mode": {
    "name": "ipython",
    "version": 3
   },
   "file_extension": ".py",
   "mimetype": "text/x-python",
   "name": "python",
   "nbconvert_exporter": "python",
   "pygments_lexer": "ipython3",
   "version": "3.9.12"
  },
  "orig_nbformat": 4,
  "vscode": {
   "interpreter": {
    "hash": "2efee1efa502125d01e6b4768ba06d9453d29f3642bfd14ad5d4a769de82e88c"
   }
  }
 },
 "nbformat": 4,
 "nbformat_minor": 2
}
