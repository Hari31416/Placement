{
 "cells": [
  {
   "cell_type": "code",
   "execution_count": 31,
   "metadata": {},
   "outputs": [],
   "source": [
    "import pandas as pd\n",
    "import numpy as np\n",
    "import seaborn as sns\n",
    "import matplotlib.pyplot as plt\n",
    "import plotly.express as px"
   ]
  },
  {
   "cell_type": "code",
   "execution_count": 2,
   "metadata": {},
   "outputs": [],
   "source": [
    "html_start = \"\"\"<!DOCTYPE html>\n",
    "<html lang=\"en\">\n",
    "<head>\n",
    "    <meta charset=\"UTF-8\">\n",
    "    <meta name=\"viewport\" content=\"width=device-width, initial-scale=1.0\">\n",
    "    <meta http-equiv=\"X-UA-Compatible\" content=\"ie=edge\">\n",
    "    <title>Companies</title>\n",
    "    <link rel=\"stylesheet\" href=\"https://stackpath.bootstrapcdn.com/bootstrap/4.3.1/css/bootstrap.min.css\" integrity=\"sha384-ggOyR0iXCbMQv3Xipma34MD+dH/1fQ784/j6cY/iJTQUOhcWr7x9JvoRxT2MZw1T\" crossorigin=\"anonymous\">\n",
    "    <script src=\"https://code.jquery.com/jquery-3.3.1.slim.min.js\" integrity=\"sha384-q8i/X+965DzO0rT7abK41JStQIAqVgRVzpbzo5smXKp4YfRvH+8abtTE1Pi6jizo\" crossorigin=\"anonymous\"></script>\n",
    " <style>\n",
    "    body {\n",
    "      background-color: rgb(41, 41, 46);\n",
    "    }\n",
    "\n",
    "    .links {\n",
    "      text-decoration: none;\n",
    "      color: rgb(135, 192, 241);\n",
    "    }\n",
    "  </style>\n",
    "</head>\n",
    "<body>\n",
    "    <div class=\"container-fluid\">\n",
    "        <h1 class=\"px-3 py-2 text-center text-light\">Companies</h1>\"\"\""
   ]
  },
  {
   "cell_type": "code",
   "execution_count": 3,
   "metadata": {},
   "outputs": [],
   "source": [
    "c = pd.read_csv('Companies_to_Look_For_P.csv')\n",
    "c.dropna(inplace=True, thresh=5)"
   ]
  },
  {
   "cell_type": "code",
   "execution_count": 4,
   "metadata": {},
   "outputs": [],
   "source": [
    "c[\"CTC\"] = c[\"Salary\"].apply(lambda x: float(x.split(\" \")[0]))\n",
    "c[\"Base Salary\"] = c[\"Salary\"].apply(lambda x: float(x.split(\" \")[1]))"
   ]
  },
  {
   "cell_type": "code",
   "execution_count": 5,
   "metadata": {},
   "outputs": [],
   "source": [
    "c.drop(columns=[\"Salary\"], inplace=True)"
   ]
  },
  {
   "cell_type": "code",
   "execution_count": 6,
   "metadata": {},
   "outputs": [],
   "source": [
    "c[\"Preference\"] = c[\"Preference\"].astype(int)\n",
    "c[\"Positions\"] = c[\"Positions\"].astype(int)"
   ]
  },
  {
   "cell_type": "code",
   "execution_count": 7,
   "metadata": {},
   "outputs": [],
   "source": [
    "c.sort_values(by=[\"Preference\", \"CTC\", \"Positions\"], inplace=True, ascending=[True, False, False])"
   ]
  },
  {
   "cell_type": "code",
   "execution_count": 8,
   "metadata": {},
   "outputs": [
    {
     "data": {
      "text/html": [
       "<div>\n",
       "<style scoped>\n",
       "    .dataframe tbody tr th:only-of-type {\n",
       "        vertical-align: middle;\n",
       "    }\n",
       "\n",
       "    .dataframe tbody tr th {\n",
       "        vertical-align: top;\n",
       "    }\n",
       "\n",
       "    .dataframe thead th {\n",
       "        text-align: right;\n",
       "    }\n",
       "</style>\n",
       "<table border=\"1\" class=\"dataframe\">\n",
       "  <thead>\n",
       "    <tr style=\"text-align: right;\">\n",
       "      <th></th>\n",
       "      <th>Company</th>\n",
       "      <th>Designation</th>\n",
       "      <th>Profile</th>\n",
       "      <th>Location</th>\n",
       "      <th>Preference</th>\n",
       "      <th>Apllied</th>\n",
       "      <th>Current Status</th>\n",
       "      <th>Remarks</th>\n",
       "      <th>Positions</th>\n",
       "      <th>CTC</th>\n",
       "      <th>Base Salary</th>\n",
       "    </tr>\n",
       "  </thead>\n",
       "  <tbody>\n",
       "    <tr>\n",
       "      <th>1</th>\n",
       "      <td>Javis</td>\n",
       "      <td>Machine Learning Engineer</td>\n",
       "      <td>Analyst</td>\n",
       "      <td>Bangalore Mumbai Gurgaon</td>\n",
       "      <td>1</td>\n",
       "      <td>Y</td>\n",
       "      <td>Applied</td>\n",
       "      <td>Applied;</td>\n",
       "      <td>2</td>\n",
       "      <td>36.0</td>\n",
       "      <td>20.0</td>\n",
       "    </tr>\n",
       "    <tr>\n",
       "      <th>2</th>\n",
       "      <td>PayU</td>\n",
       "      <td>Associate Data Scientist</td>\n",
       "      <td>Analyst</td>\n",
       "      <td>Bangalore Gurgaon</td>\n",
       "      <td>1</td>\n",
       "      <td>Y</td>\n",
       "      <td>Coding Test Done on 12 Oct</td>\n",
       "      <td>Applied;Coding Test on 12 Oct;</td>\n",
       "      <td>5</td>\n",
       "      <td>22.0</td>\n",
       "      <td>18.0</td>\n",
       "    </tr>\n",
       "    <tr>\n",
       "      <th>3</th>\n",
       "      <td>FourthFrontier</td>\n",
       "      <td>Data Scientist</td>\n",
       "      <td>Analyst</td>\n",
       "      <td>Bangalore</td>\n",
       "      <td>1</td>\n",
       "      <td>NaN</td>\n",
       "      <td>NaN</td>\n",
       "      <td>NaN</td>\n",
       "      <td>1</td>\n",
       "      <td>22.0</td>\n",
       "      <td>22.0</td>\n",
       "    </tr>\n",
       "    <tr>\n",
       "      <th>4</th>\n",
       "      <td>Javis</td>\n",
       "      <td>Data Engineer</td>\n",
       "      <td>Analyst</td>\n",
       "      <td>Bangalore Mumbai Gurgaon</td>\n",
       "      <td>2</td>\n",
       "      <td>Y</td>\n",
       "      <td>Applied</td>\n",
       "      <td>Applied;</td>\n",
       "      <td>2</td>\n",
       "      <td>36.0</td>\n",
       "      <td>20.0</td>\n",
       "    </tr>\n",
       "    <tr>\n",
       "      <th>5</th>\n",
       "      <td>Javis</td>\n",
       "      <td>SDE (Frontend)</td>\n",
       "      <td>IT</td>\n",
       "      <td>Bangalore Mumbai Gurgaon</td>\n",
       "      <td>2</td>\n",
       "      <td>Y</td>\n",
       "      <td>Applied</td>\n",
       "      <td>Applied;</td>\n",
       "      <td>2</td>\n",
       "      <td>36.0</td>\n",
       "      <td>20.0</td>\n",
       "    </tr>\n",
       "  </tbody>\n",
       "</table>\n",
       "</div>"
      ],
      "text/plain": [
       "          Company                Designation  Profile  \\\n",
       "1           Javis  Machine Learning Engineer  Analyst   \n",
       "2            PayU   Associate Data Scientist  Analyst   \n",
       "3  FourthFrontier             Data Scientist  Analyst   \n",
       "4           Javis              Data Engineer  Analyst   \n",
       "5           Javis             SDE (Frontend)       IT   \n",
       "\n",
       "                   Location  Preference Apllied              Current Status  \\\n",
       "1  Bangalore Mumbai Gurgaon           1       Y                     Applied   \n",
       "2         Bangalore Gurgaon           1       Y  Coding Test Done on 12 Oct   \n",
       "3                 Bangalore           1     NaN                         NaN   \n",
       "4  Bangalore Mumbai Gurgaon           2       Y                     Applied   \n",
       "5  Bangalore Mumbai Gurgaon           2       Y                     Applied   \n",
       "\n",
       "                          Remarks  Positions   CTC  Base Salary  \n",
       "1                        Applied;          2  36.0         20.0  \n",
       "2  Applied;Coding Test on 12 Oct;          5  22.0         18.0  \n",
       "3                             NaN          1  22.0         22.0  \n",
       "4                        Applied;          2  36.0         20.0  \n",
       "5                        Applied;          2  36.0         20.0  "
      ]
     },
     "execution_count": 8,
     "metadata": {},
     "output_type": "execute_result"
    }
   ],
   "source": [
    "c.reset_index(inplace=True, drop=True)\n",
    "c.set_index(np.arange(1, len(c) + 1), inplace=True)\n",
    "c.head()"
   ]
  },
  {
   "cell_type": "code",
   "execution_count": 9,
   "metadata": {},
   "outputs": [],
   "source": [
    "html_start+= c.to_html(classes='table table-striped table-hover table-bordered table-dark', index=True, justify='center', border=0, escape=False)\n",
    "html_start = html_start.replace(\"\"\" style=\"text-align: right;\">\"\"\", \">\")\n",
    "html_start = html_start.replace(\"\"\"border=\"1\" \"\"\", \"\")\n",
    "html_start = html_start.replace(\"dataframe\", \"\")\n",
    "html_start+=\"</div></body></html>\""
   ]
  },
  {
   "cell_type": "code",
   "execution_count": 10,
   "metadata": {},
   "outputs": [],
   "source": [
    "with open(\"index.html\", \"w\") as f:\n",
    "    f.write(html_start)"
   ]
  },
  {
   "cell_type": "code",
   "execution_count": 21,
   "metadata": {},
   "outputs": [
    {
     "data": {
      "text/plain": [
       "61"
      ]
     },
     "execution_count": 21,
     "metadata": {},
     "output_type": "execute_result"
    }
   ],
   "source": [
    "len(c)"
   ]
  },
  {
   "cell_type": "markdown",
   "metadata": {},
   "source": [
    "# Some Visualizations"
   ]
  },
  {
   "cell_type": "code",
   "execution_count": 25,
   "metadata": {},
   "outputs": [
    {
     "data": {
      "text/plain": [
       "[3, 14, 39, 58, 61]"
      ]
     },
     "execution_count": 25,
     "metadata": {},
     "output_type": "execute_result"
    }
   ],
   "source": [
    "pref = [1,2,3,4,5]\n",
    "num_companies = [len(c[c[\"Preference\"] <= i]) for i in pref]\n",
    "num_companies"
   ]
  },
  {
   "cell_type": "code",
   "execution_count": 30,
   "metadata": {},
   "outputs": [
    {
     "data": {
      "application/vnd.jupyter.widget-view+json": {
       "model_id": "a0ad125716c242adbaf96539e02bc0dc",
       "version_major": 2,
       "version_minor": 0
      },
      "image/png": "[encoded data removed]",
      "text/html": [
       "\n",
       "            <div style=\"display: inline-block;\">\n",
       "                <div class=\"jupyter-widgets widget-label\" style=\"text-align: center;\">\n",
       "                    Figure\n",
       "                </div>\n",
       "                <img src='data:image/png;base64,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' width=640.0/>\n",
       "            </div>\n",
       "        "
      ],
      "text/plain": [
       "Canvas(toolbar=Toolbar(toolitems=[('Home', 'Reset original view', 'home', 'home'), ('Back', 'Back to previous …"
      ]
     },
     "metadata": {},
     "output_type": "display_data"
    }
   ],
   "source": [
    "%matplotlib widget\n",
    "# plt.figure(figsize=(10, 7))\n",
    "sns.barplot(x=pref, y=num_companies)\n",
    "plt.title(\"Number of Companies\")\n",
    "plt.xlabel(\"Preference\")\n",
    "plt.ylabel(\"Number of Companies\");"
   ]
  },
  {
   "cell_type": "code",
   "execution_count": 44,
   "metadata": {},
   "outputs": [
    {
     "data": {
      "application/vnd.plotly.v1+json": {
       "config": {
        "plotlyServerURL": "https://plot.ly"
       },
       "data": [
        {
         "alignmentgroup": "True",
         "hovertemplate": "Preference=%{x}<br>Number of Companies=%{y}<br>color=%{marker.color}<extra></extra>",
         "legendgroup": "",
         "marker": {
          "color": [
           1,
           2,
           3,
           4,
           5
          ],
          "coloraxis": "coloraxis",
          "pattern": {
           "shape": ""
          }
         },
         "name": "",
         "offsetgroup": "",
         "orientation": "v",
         "showlegend": false,
         "textposition": "auto",
         "type": "bar",
         "x": [
          1,
          2,
          3,
          4,
          5
         ],
         "xaxis": "x",
         "y": [
          3,
          14,
          39,
          58,
          61
         ],
         "yaxis": "y"
        }
       ],
       "layout": {
        "barmode": "relative",
        "coloraxis": {
         "colorbar": {
          "title": {
           "text": "color"
          }
         },
         "colorscale": [
          [
           0,
           "#0d0887"
          ],
          [
           0.1111111111111111,
           "#46039f"
          ],
          [
           0.2222222222222222,
           "#7201a8"
          ],
          [
           0.3333333333333333,
           "#9c179e"
          ],
          [
           0.4444444444444444,
           "#bd3786"
          ],
          [
           0.5555555555555556,
           "#d8576b"
          ],
          [
           0.6666666666666666,
           "#ed7953"
          ],
          [
           0.7777777777777778,
           "#fb9f3a"
          ],
          [
           0.8888888888888888,
           "#fdca26"
          ],
          [
           1,
           "#f0f921"
          ]
         ]
        },
        "legend": {
         "tracegroupgap": 0
        },
        "margin": {
         "t": 60
        },
        "template": {
         "data": {
          "bar": [
           {
            "error_x": {
             "color": "#2a3f5f"
            },
            "error_y": {
             "color": "#2a3f5f"
            },
            "marker": {
             "line": {
              "color": "#E5ECF6",
              "width": 0.5
             },
             "pattern": {
              "fillmode": "overlay",
              "size": 10,
              "solidity": 0.2
             }
            },
            "type": "bar"
           }
          ],
          "barpolar": [
           {
            "marker": {
             "line": {
              "color": "#E5ECF6",
              "width": 0.5
             },
             "pattern": {
              "fillmode": "overlay",
              "size": 10,
              "solidity": 0.2
             }
            },
            "type": "barpolar"
           }
          ],
          "carpet": [
           {
            "aaxis": {
             "endlinecolor": "#2a3f5f",
             "gridcolor": "white",
             "linecolor": "white",
             "minorgridcolor": "white",
             "startlinecolor": "#2a3f5f"
            },
            "baxis": {
             "endlinecolor": "#2a3f5f",
             "gridcolor": "white",
             "linecolor": "white",
             "minorgridcolor": "white",
             "startlinecolor": "#2a3f5f"
            },
            "type": "carpet"
           }
          ],
          "choropleth": [
           {
            "colorbar": {
             "outlinewidth": 0,
             "ticks": ""
            },
            "type": "choropleth"
           }
          ],
          "contour": [
           {
            "colorbar": {
             "outlinewidth": 0,
             "ticks": ""
            },
            "colorscale": [
             [
              0,
              "#0d0887"
             ],
             [
              0.1111111111111111,
              "#46039f"
             ],
             [
              0.2222222222222222,
              "#7201a8"
             ],
             [
              0.3333333333333333,
              "#9c179e"
             ],
             [
              0.4444444444444444,
              "#bd3786"
             ],
             [
              0.5555555555555556,
              "#d8576b"
             ],
             [
              0.6666666666666666,
              "#ed7953"
             ],
             [
              0.7777777777777778,
              "#fb9f3a"
             ],
             [
              0.8888888888888888,
              "#fdca26"
             ],
             [
              1,
              "#f0f921"
             ]
            ],
            "type": "contour"
           }
          ],
          "contourcarpet": [
           {
            "colorbar": {
             "outlinewidth": 0,
             "ticks": ""
            },
            "type": "contourcarpet"
           }
          ],
          "heatmap": [
           {
            "colorbar": {
             "outlinewidth": 0,
             "ticks": ""
            },
            "colorscale": [
             [
              0,
              "#0d0887"
             ],
             [
              0.1111111111111111,
              "#46039f"
             ],
             [
              0.2222222222222222,
              "#7201a8"
             ],
             [
              0.3333333333333333,
              "#9c179e"
             ],
             [
              0.4444444444444444,
              "#bd3786"
             ],
             [
              0.5555555555555556,
              "#d8576b"
             ],
             [
              0.6666666666666666,
              "#ed7953"
             ],
             [
              0.7777777777777778,
              "#fb9f3a"
             ],
             [
              0.8888888888888888,
              "#fdca26"
             ],
             [
              1,
              "#f0f921"
             ]
            ],
            "type": "heatmap"
           }
          ],
          "heatmapgl": [
           {
            "colorbar": {
             "outlinewidth": 0,
             "ticks": ""
            },
            "colorscale": [
             [
              0,
              "#0d0887"
             ],
             [
              0.1111111111111111,
              "#46039f"
             ],
             [
              0.2222222222222222,
              "#7201a8"
             ],
             [
              0.3333333333333333,
              "#9c179e"
             ],
             [
              0.4444444444444444,
              "#bd3786"
             ],
             [
              0.5555555555555556,
              "#d8576b"
             ],
             [
              0.6666666666666666,
              "#ed7953"
             ],
             [
              0.7777777777777778,
              "#fb9f3a"
             ],
             [
              0.8888888888888888,
              "#fdca26"
             ],
             [
              1,
              "#f0f921"
             ]
            ],
            "type": "heatmapgl"
           }
          ],
          "histogram": [
           {
            "marker": {
             "pattern": {
              "fillmode": "overlay",
              "size": 10,
              "solidity": 0.2
             }
            },
            "type": "histogram"
           }
          ],
          "histogram2d": [
           {
            "colorbar": {
             "outlinewidth": 0,
             "ticks": ""
            },
            "colorscale": [
             [
              0,
              "#0d0887"
             ],
             [
              0.1111111111111111,
              "#46039f"
             ],
             [
              0.2222222222222222,
              "#7201a8"
             ],
             [
              0.3333333333333333,
              "#9c179e"
             ],
             [
              0.4444444444444444,
              "#bd3786"
             ],
             [
              0.5555555555555556,
              "#d8576b"
             ],
             [
              0.6666666666666666,
              "#ed7953"
             ],
             [
              0.7777777777777778,
              "#fb9f3a"
             ],
             [
              0.8888888888888888,
              "#fdca26"
             ],
             [
              1,
              "#f0f921"
             ]
            ],
            "type": "histogram2d"
           }
          ],
          "histogram2dcontour": [
           {
            "colorbar": {
             "outlinewidth": 0,
             "ticks": ""
            },
            "colorscale": [
             [
              0,
              "#0d0887"
             ],
             [
              0.1111111111111111,
              "#46039f"
             ],
             [
              0.2222222222222222,
              "#7201a8"
             ],
             [
              0.3333333333333333,
              "#9c179e"
             ],
             [
              0.4444444444444444,
              "#bd3786"
             ],
             [
              0.5555555555555556,
              "#d8576b"
             ],
             [
              0.6666666666666666,
              "#ed7953"
             ],
             [
              0.7777777777777778,
              "#fb9f3a"
             ],
             [
              0.8888888888888888,
              "#fdca26"
             ],
             [
              1,
              "#f0f921"
             ]
            ],
            "type": "histogram2dcontour"
           }
          ],
          "mesh3d": [
           {
            "colorbar": {
             "outlinewidth": 0,
             "ticks": ""
            },
            "type": "mesh3d"
           }
          ],
          "parcoords": [
           {
            "line": {
             "colorbar": {
              "outlinewidth": 0,
              "ticks": ""
             }
            },
            "type": "parcoords"
           }
          ],
          "pie": [
           {
            "automargin": true,
            "type": "pie"
           }
          ],
          "scatter": [
           {
            "fillpattern": {
             "fillmode": "overlay",
             "size": 10,
             "solidity": 0.2
            },
            "type": "scatter"
           }
          ],
          "scatter3d": [
           {
            "line": {
             "colorbar": {
              "outlinewidth": 0,
              "ticks": ""
             }
            },
            "marker": {
             "colorbar": {
              "outlinewidth": 0,
              "ticks": ""
             }
            },
            "type": "scatter3d"
           }
          ],
          "scattercarpet": [
           {
            "marker": {
             "colorbar": {
              "outlinewidth": 0,
              "ticks": ""
             }
            },
            "type": "scattercarpet"
           }
          ],
          "scattergeo": [
           {
            "marker": {
             "colorbar": {
              "outlinewidth": 0,
              "ticks": ""
             }
            },
            "type": "scattergeo"
           }
          ],
          "scattergl": [
           {
            "marker": {
             "colorbar": {
              "outlinewidth": 0,
              "ticks": ""
             }
            },
            "type": "scattergl"
           }
          ],
          "scattermapbox": [
           {
            "marker": {
             "colorbar": {
              "outlinewidth": 0,
              "ticks": ""
             }
            },
            "type": "scattermapbox"
           }
          ],
          "scatterpolar": [
           {
            "marker": {
             "colorbar": {
              "outlinewidth": 0,
              "ticks": ""
             }
            },
            "type": "scatterpolar"
           }
          ],
          "scatterpolargl": [
           {
            "marker": {
             "colorbar": {
              "outlinewidth": 0,
              "ticks": ""
             }
            },
            "type": "scatterpolargl"
           }
          ],
          "scatterternary": [
           {
            "marker": {
             "colorbar": {
              "outlinewidth": 0,
              "ticks": ""
             }
            },
            "type": "scatterternary"
           }
          ],
          "surface": [
           {
            "colorbar": {
             "outlinewidth": 0,
             "ticks": ""
            },
            "colorscale": [
             [
              0,
              "#0d0887"
             ],
             [
              0.1111111111111111,
              "#46039f"
             ],
             [
              0.2222222222222222,
              "#7201a8"
             ],
             [
              0.3333333333333333,
              "#9c179e"
             ],
             [
              0.4444444444444444,
              "#bd3786"
             ],
             [
              0.5555555555555556,
              "#d8576b"
             ],
             [
              0.6666666666666666,
              "#ed7953"
             ],
             [
              0.7777777777777778,
              "#fb9f3a"
             ],
             [
              0.8888888888888888,
              "#fdca26"
             ],
             [
              1,
              "#f0f921"
             ]
            ],
            "type": "surface"
           }
          ],
          "table": [
           {
            "cells": {
             "fill": {
              "color": "#EBF0F8"
             },
             "line": {
              "color": "white"
             }
            },
            "header": {
             "fill": {
              "color": "#C8D4E3"
             },
             "line": {
              "color": "white"
             }
            },
            "type": "table"
           }
          ]
         },
         "layout": {
          "annotationdefaults": {
           "arrowcolor": "#2a3f5f",
           "arrowhead": 0,
           "arrowwidth": 1
          },
          "autotypenumbers": "strict",
          "coloraxis": {
           "colorbar": {
            "outlinewidth": 0,
            "ticks": ""
           }
          },
          "colorscale": {
           "diverging": [
            [
             0,
             "#8e0152"
            ],
            [
             0.1,
             "#c51b7d"
            ],
            [
             0.2,
             "#de77ae"
            ],
            [
             0.3,
             "#f1b6da"
            ],
            [
             0.4,
             "#fde0ef"
            ],
            [
             0.5,
             "#f7f7f7"
            ],
            [
             0.6,
             "#e6f5d0"
            ],
            [
             0.7,
             "#b8e186"
            ],
            [
             0.8,
             "#7fbc41"
            ],
            [
             0.9,
             "#4d9221"
            ],
            [
             1,
             "#276419"
            ]
           ],
           "sequential": [
            [
             0,
             "#0d0887"
            ],
            [
             0.1111111111111111,
             "#46039f"
            ],
            [
             0.2222222222222222,
             "#7201a8"
            ],
            [
             0.3333333333333333,
             "#9c179e"
            ],
            [
             0.4444444444444444,
             "#bd3786"
            ],
            [
             0.5555555555555556,
             "#d8576b"
            ],
            [
             0.6666666666666666,
             "#ed7953"
            ],
            [
             0.7777777777777778,
             "#fb9f3a"
            ],
            [
             0.8888888888888888,
             "#fdca26"
            ],
            [
             1,
             "#f0f921"
            ]
           ],
           "sequentialminus": [
            [
             0,
             "#0d0887"
            ],
            [
             0.1111111111111111,
             "#46039f"
            ],
            [
             0.2222222222222222,
             "#7201a8"
            ],
            [
             0.3333333333333333,
             "#9c179e"
            ],
            [
             0.4444444444444444,
             "#bd3786"
            ],
            [
             0.5555555555555556,
             "#d8576b"
            ],
            [
             0.6666666666666666,
             "#ed7953"
            ],
            [
             0.7777777777777778,
             "#fb9f3a"
            ],
            [
             0.8888888888888888,
             "#fdca26"
            ],
            [
             1,
             "#f0f921"
            ]
           ]
          },
          "colorway": [
           "#636efa",
           "#EF553B",
           "#00cc96",
           "#ab63fa",
           "#FFA15A",
           "#19d3f3",
           "#FF6692",
           "#B6E880",
           "#FF97FF",
           "#FECB52"
          ],
          "font": {
           "color": "#2a3f5f"
          },
          "geo": {
           "bgcolor": "white",
           "lakecolor": "white",
           "landcolor": "#E5ECF6",
           "showlakes": true,
           "showland": true,
           "subunitcolor": "white"
          },
          "hoverlabel": {
           "align": "left"
          },
          "hovermode": "closest",
          "mapbox": {
           "style": "light"
          },
          "paper_bgcolor": "white",
          "plot_bgcolor": "#E5ECF6",
          "polar": {
           "angularaxis": {
            "gridcolor": "white",
            "linecolor": "white",
            "ticks": ""
           },
           "bgcolor": "#E5ECF6",
           "radialaxis": {
            "gridcolor": "white",
            "linecolor": "white",
            "ticks": ""
           }
          },
          "scene": {
           "xaxis": {
            "backgroundcolor": "#E5ECF6",
            "gridcolor": "white",
            "gridwidth": 2,
            "linecolor": "white",
            "showbackground": true,
            "ticks": "",
            "zerolinecolor": "white"
           },
           "yaxis": {
            "backgroundcolor": "#E5ECF6",
            "gridcolor": "white",
            "gridwidth": 2,
            "linecolor": "white",
            "showbackground": true,
            "ticks": "",
            "zerolinecolor": "white"
           },
           "zaxis": {
            "backgroundcolor": "#E5ECF6",
            "gridcolor": "white",
            "gridwidth": 2,
            "linecolor": "white",
            "showbackground": true,
            "ticks": "",
            "zerolinecolor": "white"
           }
          },
          "shapedefaults": {
           "line": {
            "color": "#2a3f5f"
           }
          },
          "ternary": {
           "aaxis": {
            "gridcolor": "white",
            "linecolor": "white",
            "ticks": ""
           },
           "baxis": {
            "gridcolor": "white",
            "linecolor": "white",
            "ticks": ""
           },
           "bgcolor": "#E5ECF6",
           "caxis": {
            "gridcolor": "white",
            "linecolor": "white",
            "ticks": ""
           }
          },
          "title": {
           "x": 0.05
          },
          "xaxis": {
           "automargin": true,
           "gridcolor": "white",
           "linecolor": "white",
           "ticks": "",
           "title": {
            "standoff": 15
           },
           "zerolinecolor": "white",
           "zerolinewidth": 2
          },
          "yaxis": {
           "automargin": true,
           "gridcolor": "white",
           "linecolor": "white",
           "ticks": "",
           "title": {
            "standoff": 15
           },
           "zerolinecolor": "white",
           "zerolinewidth": 2
          }
         }
        },
        "title": {
         "text": "Number of Companies"
        },
        "xaxis": {
         "anchor": "y",
         "domain": [
          0,
          1
         ],
         "title": {
          "text": "Preference"
         }
        },
        "yaxis": {
         "anchor": "x",
         "domain": [
          0,
          1
         ],
         "title": {
          "text": "Number of Companies"
         }
        }
       }
      }
     },
     "metadata": {},
     "output_type": "display_data"
    }
   ],
   "source": [
    "fig = px.bar(x=pref, y=num_companies, labels={\"x\": \"Preference\", \"y\": \"Number of Companies\"}, color = pref)\n",
    "fig.update_layout(title=\"Number of Companies\")\n",
    "#set color of bars\n",
    "# fig.update_traces(marker_color='rgb(135, 192, 241)')\n",
    "fig.show()"
   ]
  },
  {
   "cell_type": "code",
   "execution_count": 48,
   "metadata": {},
   "outputs": [
    {
     "data": {
      "application/vnd.plotly.v1+json": {
       "config": {
        "plotlyServerURL": "https://plot.ly"
       },
       "data": [
        {
         "alignmentgroup": "True",
         "hovertemplate": "color=Analyst<br>Profile=%{x}<br>Number of Companies=%{y}<extra></extra>",
         "legendgroup": "Analyst",
         "marker": {
          "color": "#636efa",
          "pattern": {
           "shape": ""
          }
         },
         "name": "Analyst",
         "offsetgroup": "Analyst",
         "orientation": "v",
         "showlegend": true,
         "textposition": "auto",
         "type": "bar",
         "x": [
          "Analyst"
         ],
         "xaxis": "x",
         "y": [
          29
         ],
         "yaxis": "y"
        },
        {
         "alignmentgroup": "True",
         "hovertemplate": "color=IT<br>Profile=%{x}<br>Number of Companies=%{y}<extra></extra>",
         "legendgroup": "IT",
         "marker": {
          "color": "#EF553B",
          "pattern": {
           "shape": ""
          }
         },
         "name": "IT",
         "offsetgroup": "IT",
         "orientation": "v",
         "showlegend": true,
         "textposition": "auto",
         "type": "bar",
         "x": [
          "IT"
         ],
         "xaxis": "x",
         "y": [
          22
         ],
         "yaxis": "y"
        },
        {
         "alignmentgroup": "True",
         "hovertemplate": "color=Management<br>Profile=%{x}<br>Number of Companies=%{y}<extra></extra>",
         "legendgroup": "Management",
         "marker": {
          "color": "#00cc96",
          "pattern": {
           "shape": ""
          }
         },
         "name": "Management",
         "offsetgroup": "Management",
         "orientation": "v",
         "showlegend": true,
         "textposition": "auto",
         "type": "bar",
         "x": [
          "Management"
         ],
         "xaxis": "x",
         "y": [
          4
         ],
         "yaxis": "y"
        },
        {
         "alignmentgroup": "True",
         "hovertemplate": "color=Finance<br>Profile=%{x}<br>Number of Companies=%{y}<extra></extra>",
         "legendgroup": "Finance",
         "marker": {
          "color": "#ab63fa",
          "pattern": {
           "shape": ""
          }
         },
         "name": "Finance",
         "offsetgroup": "Finance",
         "orientation": "v",
         "showlegend": true,
         "textposition": "auto",
         "type": "bar",
         "x": [
          "Finance"
         ],
         "xaxis": "x",
         "y": [
          2
         ],
         "yaxis": "y"
        },
        {
         "alignmentgroup": "True",
         "hovertemplate": "color=Core<br>Profile=%{x}<br>Number of Companies=%{y}<extra></extra>",
         "legendgroup": "Core",
         "marker": {
          "color": "#FFA15A",
          "pattern": {
           "shape": ""
          }
         },
         "name": "Core",
         "offsetgroup": "Core",
         "orientation": "v",
         "showlegend": true,
         "textposition": "auto",
         "type": "bar",
         "x": [
          "Core"
         ],
         "xaxis": "x",
         "y": [
          2
         ],
         "yaxis": "y"
        },
        {
         "alignmentgroup": "True",
         "hovertemplate": "color=IT (ML)<br>Profile=%{x}<br>Number of Companies=%{y}<extra></extra>",
         "legendgroup": "IT (ML)",
         "marker": {
          "color": "#19d3f3",
          "pattern": {
           "shape": ""
          }
         },
         "name": "IT (ML)",
         "offsetgroup": "IT (ML)",
         "orientation": "v",
         "showlegend": true,
         "textposition": "auto",
         "type": "bar",
         "x": [
          "IT (ML)"
         ],
         "xaxis": "x",
         "y": [
          1
         ],
         "yaxis": "y"
        },
        {
         "alignmentgroup": "True",
         "hovertemplate": "color=Other<br>Profile=%{x}<br>Number of Companies=%{y}<extra></extra>",
         "legendgroup": "Other",
         "marker": {
          "color": "#FF6692",
          "pattern": {
           "shape": ""
          }
         },
         "name": "Other",
         "offsetgroup": "Other",
         "orientation": "v",
         "showlegend": true,
         "textposition": "auto",
         "type": "bar",
         "x": [
          "Other"
         ],
         "xaxis": "x",
         "y": [
          1
         ],
         "yaxis": "y"
        }
       ],
       "layout": {
        "barmode": "relative",
        "legend": {
         "title": {
          "text": "color"
         },
         "tracegroupgap": 0
        },
        "margin": {
         "t": 60
        },
        "template": {
         "data": {
          "bar": [
           {
            "error_x": {
             "color": "#2a3f5f"
            },
            "error_y": {
             "color": "#2a3f5f"
            },
            "marker": {
             "line": {
              "color": "#E5ECF6",
              "width": 0.5
             },
             "pattern": {
              "fillmode": "overlay",
              "size": 10,
              "solidity": 0.2
             }
            },
            "type": "bar"
           }
          ],
          "barpolar": [
           {
            "marker": {
             "line": {
              "color": "#E5ECF6",
              "width": 0.5
             },
             "pattern": {
              "fillmode": "overlay",
              "size": 10,
              "solidity": 0.2
             }
            },
            "type": "barpolar"
           }
          ],
          "carpet": [
           {
            "aaxis": {
             "endlinecolor": "#2a3f5f",
             "gridcolor": "white",
             "linecolor": "white",
             "minorgridcolor": "white",
             "startlinecolor": "#2a3f5f"
            },
            "baxis": {
             "endlinecolor": "#2a3f5f",
             "gridcolor": "white",
             "linecolor": "white",
             "minorgridcolor": "white",
             "startlinecolor": "#2a3f5f"
            },
            "type": "carpet"
           }
          ],
          "choropleth": [
           {
            "colorbar": {
             "outlinewidth": 0,
             "ticks": ""
            },
            "type": "choropleth"
           }
          ],
          "contour": [
           {
            "colorbar": {
             "outlinewidth": 0,
             "ticks": ""
            },
            "colorscale": [
             [
              0,
              "#0d0887"
             ],
             [
              0.1111111111111111,
              "#46039f"
             ],
             [
              0.2222222222222222,
              "#7201a8"
             ],
             [
              0.3333333333333333,
              "#9c179e"
             ],
             [
              0.4444444444444444,
              "#bd3786"
             ],
             [
              0.5555555555555556,
              "#d8576b"
             ],
             [
              0.6666666666666666,
              "#ed7953"
             ],
             [
              0.7777777777777778,
              "#fb9f3a"
             ],
             [
              0.8888888888888888,
              "#fdca26"
             ],
             [
              1,
              "#f0f921"
             ]
            ],
            "type": "contour"
           }
          ],
          "contourcarpet": [
           {
            "colorbar": {
             "outlinewidth": 0,
             "ticks": ""
            },
            "type": "contourcarpet"
           }
          ],
          "heatmap": [
           {
            "colorbar": {
             "outlinewidth": 0,
             "ticks": ""
            },
            "colorscale": [
             [
              0,
              "#0d0887"
             ],
             [
              0.1111111111111111,
              "#46039f"
             ],
             [
              0.2222222222222222,
              "#7201a8"
             ],
             [
              0.3333333333333333,
              "#9c179e"
             ],
             [
              0.4444444444444444,
              "#bd3786"
             ],
             [
              0.5555555555555556,
              "#d8576b"
             ],
             [
              0.6666666666666666,
              "#ed7953"
             ],
             [
              0.7777777777777778,
              "#fb9f3a"
             ],
             [
              0.8888888888888888,
              "#fdca26"
             ],
             [
              1,
              "#f0f921"
             ]
            ],
            "type": "heatmap"
           }
          ],
          "heatmapgl": [
           {
            "colorbar": {
             "outlinewidth": 0,
             "ticks": ""
            },
            "colorscale": [
             [
              0,
              "#0d0887"
             ],
             [
              0.1111111111111111,
              "#46039f"
             ],
             [
              0.2222222222222222,
              "#7201a8"
             ],
             [
              0.3333333333333333,
              "#9c179e"
             ],
             [
              0.4444444444444444,
              "#bd3786"
             ],
             [
              0.5555555555555556,
              "#d8576b"
             ],
             [
              0.6666666666666666,
              "#ed7953"
             ],
             [
              0.7777777777777778,
              "#fb9f3a"
             ],
             [
              0.8888888888888888,
              "#fdca26"
             ],
             [
              1,
              "#f0f921"
             ]
            ],
            "type": "heatmapgl"
           }
          ],
          "histogram": [
           {
            "marker": {
             "pattern": {
              "fillmode": "overlay",
              "size": 10,
              "solidity": 0.2
             }
            },
            "type": "histogram"
           }
          ],
          "histogram2d": [
           {
            "colorbar": {
             "outlinewidth": 0,
             "ticks": ""
            },
            "colorscale": [
             [
              0,
              "#0d0887"
             ],
             [
              0.1111111111111111,
              "#46039f"
             ],
             [
              0.2222222222222222,
              "#7201a8"
             ],
             [
              0.3333333333333333,
              "#9c179e"
             ],
             [
              0.4444444444444444,
              "#bd3786"
             ],
             [
              0.5555555555555556,
              "#d8576b"
             ],
             [
              0.6666666666666666,
              "#ed7953"
             ],
             [
              0.7777777777777778,
              "#fb9f3a"
             ],
             [
              0.8888888888888888,
              "#fdca26"
             ],
             [
              1,
              "#f0f921"
             ]
            ],
            "type": "histogram2d"
           }
          ],
          "histogram2dcontour": [
           {
            "colorbar": {
             "outlinewidth": 0,
             "ticks": ""
            },
            "colorscale": [
             [
              0,
              "#0d0887"
             ],
             [
              0.1111111111111111,
              "#46039f"
             ],
             [
              0.2222222222222222,
              "#7201a8"
             ],
             [
              0.3333333333333333,
              "#9c179e"
             ],
             [
              0.4444444444444444,
              "#bd3786"
             ],
             [
              0.5555555555555556,
              "#d8576b"
             ],
             [
              0.6666666666666666,
              "#ed7953"
             ],
             [
              0.7777777777777778,
              "#fb9f3a"
             ],
             [
              0.8888888888888888,
              "#fdca26"
             ],
             [
              1,
              "#f0f921"
             ]
            ],
            "type": "histogram2dcontour"
           }
          ],
          "mesh3d": [
           {
            "colorbar": {
             "outlinewidth": 0,
             "ticks": ""
            },
            "type": "mesh3d"
           }
          ],
          "parcoords": [
           {
            "line": {
             "colorbar": {
              "outlinewidth": 0,
              "ticks": ""
             }
            },
            "type": "parcoords"
           }
          ],
          "pie": [
           {
            "automargin": true,
            "type": "pie"
           }
          ],
          "scatter": [
           {
            "fillpattern": {
             "fillmode": "overlay",
             "size": 10,
             "solidity": 0.2
            },
            "type": "scatter"
           }
          ],
          "scatter3d": [
           {
            "line": {
             "colorbar": {
              "outlinewidth": 0,
              "ticks": ""
             }
            },
            "marker": {
             "colorbar": {
              "outlinewidth": 0,
              "ticks": ""
             }
            },
            "type": "scatter3d"
           }
          ],
          "scattercarpet": [
           {
            "marker": {
             "colorbar": {
              "outlinewidth": 0,
              "ticks": ""
             }
            },
            "type": "scattercarpet"
           }
          ],
          "scattergeo": [
           {
            "marker": {
             "colorbar": {
              "outlinewidth": 0,
              "ticks": ""
             }
            },
            "type": "scattergeo"
           }
          ],
          "scattergl": [
           {
            "marker": {
             "colorbar": {
              "outlinewidth": 0,
              "ticks": ""
             }
            },
            "type": "scattergl"
           }
          ],
          "scattermapbox": [
           {
            "marker": {
             "colorbar": {
              "outlinewidth": 0,
              "ticks": ""
             }
            },
            "type": "scattermapbox"
           }
          ],
          "scatterpolar": [
           {
            "marker": {
             "colorbar": {
              "outlinewidth": 0,
              "ticks": ""
             }
            },
            "type": "scatterpolar"
           }
          ],
          "scatterpolargl": [
           {
            "marker": {
             "colorbar": {
              "outlinewidth": 0,
              "ticks": ""
             }
            },
            "type": "scatterpolargl"
           }
          ],
          "scatterternary": [
           {
            "marker": {
             "colorbar": {
              "outlinewidth": 0,
              "ticks": ""
             }
            },
            "type": "scatterternary"
           }
          ],
          "surface": [
           {
            "colorbar": {
             "outlinewidth": 0,
             "ticks": ""
            },
            "colorscale": [
             [
              0,
              "#0d0887"
             ],
             [
              0.1111111111111111,
              "#46039f"
             ],
             [
              0.2222222222222222,
              "#7201a8"
             ],
             [
              0.3333333333333333,
              "#9c179e"
             ],
             [
              0.4444444444444444,
              "#bd3786"
             ],
             [
              0.5555555555555556,
              "#d8576b"
             ],
             [
              0.6666666666666666,
              "#ed7953"
             ],
             [
              0.7777777777777778,
              "#fb9f3a"
             ],
             [
              0.8888888888888888,
              "#fdca26"
             ],
             [
              1,
              "#f0f921"
             ]
            ],
            "type": "surface"
           }
          ],
          "table": [
           {
            "cells": {
             "fill": {
              "color": "#EBF0F8"
             },
             "line": {
              "color": "white"
             }
            },
            "header": {
             "fill": {
              "color": "#C8D4E3"
             },
             "line": {
              "color": "white"
             }
            },
            "type": "table"
           }
          ]
         },
         "layout": {
          "annotationdefaults": {
           "arrowcolor": "#2a3f5f",
           "arrowhead": 0,
           "arrowwidth": 1
          },
          "autotypenumbers": "strict",
          "coloraxis": {
           "colorbar": {
            "outlinewidth": 0,
            "ticks": ""
           }
          },
          "colorscale": {
           "diverging": [
            [
             0,
             "#8e0152"
            ],
            [
             0.1,
             "#c51b7d"
            ],
            [
             0.2,
             "#de77ae"
            ],
            [
             0.3,
             "#f1b6da"
            ],
            [
             0.4,
             "#fde0ef"
            ],
            [
             0.5,
             "#f7f7f7"
            ],
            [
             0.6,
             "#e6f5d0"
            ],
            [
             0.7,
             "#b8e186"
            ],
            [
             0.8,
             "#7fbc41"
            ],
            [
             0.9,
             "#4d9221"
            ],
            [
             1,
             "#276419"
            ]
           ],
           "sequential": [
            [
             0,
             "#0d0887"
            ],
            [
             0.1111111111111111,
             "#46039f"
            ],
            [
             0.2222222222222222,
             "#7201a8"
            ],
            [
             0.3333333333333333,
             "#9c179e"
            ],
            [
             0.4444444444444444,
             "#bd3786"
            ],
            [
             0.5555555555555556,
             "#d8576b"
            ],
            [
             0.6666666666666666,
             "#ed7953"
            ],
            [
             0.7777777777777778,
             "#fb9f3a"
            ],
            [
             0.8888888888888888,
             "#fdca26"
            ],
            [
             1,
             "#f0f921"
            ]
           ],
           "sequentialminus": [
            [
             0,
             "#0d0887"
            ],
            [
             0.1111111111111111,
             "#46039f"
            ],
            [
             0.2222222222222222,
             "#7201a8"
            ],
            [
             0.3333333333333333,
             "#9c179e"
            ],
            [
             0.4444444444444444,
             "#bd3786"
            ],
            [
             0.5555555555555556,
             "#d8576b"
            ],
            [
             0.6666666666666666,
             "#ed7953"
            ],
            [
             0.7777777777777778,
             "#fb9f3a"
            ],
            [
             0.8888888888888888,
             "#fdca26"
            ],
            [
             1,
             "#f0f921"
            ]
           ]
          },
          "colorway": [
           "#636efa",
           "#EF553B",
           "#00cc96",
           "#ab63fa",
           "#FFA15A",
           "#19d3f3",
           "#FF6692",
           "#B6E880",
           "#FF97FF",
           "#FECB52"
          ],
          "font": {
           "color": "#2a3f5f"
          },
          "geo": {
           "bgcolor": "white",
           "lakecolor": "white",
           "landcolor": "#E5ECF6",
           "showlakes": true,
           "showland": true,
           "subunitcolor": "white"
          },
          "hoverlabel": {
           "align": "left"
          },
          "hovermode": "closest",
          "mapbox": {
           "style": "light"
          },
          "paper_bgcolor": "white",
          "plot_bgcolor": "#E5ECF6",
          "polar": {
           "angularaxis": {
            "gridcolor": "white",
            "linecolor": "white",
            "ticks": ""
           },
           "bgcolor": "#E5ECF6",
           "radialaxis": {
            "gridcolor": "white",
            "linecolor": "white",
            "ticks": ""
           }
          },
          "scene": {
           "xaxis": {
            "backgroundcolor": "#E5ECF6",
            "gridcolor": "white",
            "gridwidth": 2,
            "linecolor": "white",
            "showbackground": true,
            "ticks": "",
            "zerolinecolor": "white"
           },
           "yaxis": {
            "backgroundcolor": "#E5ECF6",
            "gridcolor": "white",
            "gridwidth": 2,
            "linecolor": "white",
            "showbackground": true,
            "ticks": "",
            "zerolinecolor": "white"
           },
           "zaxis": {
            "backgroundcolor": "#E5ECF6",
            "gridcolor": "white",
            "gridwidth": 2,
            "linecolor": "white",
            "showbackground": true,
            "ticks": "",
            "zerolinecolor": "white"
           }
          },
          "shapedefaults": {
           "line": {
            "color": "#2a3f5f"
           }
          },
          "ternary": {
           "aaxis": {
            "gridcolor": "white",
            "linecolor": "white",
            "ticks": ""
           },
           "baxis": {
            "gridcolor": "white",
            "linecolor": "white",
            "ticks": ""
           },
           "bgcolor": "#E5ECF6",
           "caxis": {
            "gridcolor": "white",
            "linecolor": "white",
            "ticks": ""
           }
          },
          "title": {
           "x": 0.05
          },
          "xaxis": {
           "automargin": true,
           "gridcolor": "white",
           "linecolor": "white",
           "ticks": "",
           "title": {
            "standoff": 15
           },
           "zerolinecolor": "white",
           "zerolinewidth": 2
          },
          "yaxis": {
           "automargin": true,
           "gridcolor": "white",
           "linecolor": "white",
           "ticks": "",
           "title": {
            "standoff": 15
           },
           "zerolinecolor": "white",
           "zerolinewidth": 2
          }
         }
        },
        "title": {
         "text": "Number of Companies by Profile"
        },
        "xaxis": {
         "anchor": "y",
         "domain": [
          0,
          1
         ],
         "title": {
          "text": "Profile"
         }
        },
        "yaxis": {
         "anchor": "x",
         "domain": [
          0,
          1
         ],
         "title": {
          "text": "Number of Companies"
         }
        }
       }
      }
     },
     "metadata": {},
     "output_type": "display_data"
    }
   ],
   "source": [
    "#Plot by Profile count\n",
    "profile_count = c[\"Profile\"].value_counts()\n",
    "fig = px.bar(x=profile_count.index, y=profile_count.values, labels={\"x\": \"Profile\", \"y\": \"Number of Companies\"}, color = profile_count.index)\n",
    "fig.update_layout(title=\"Number of Companies by Profile\")\n",
    "fig.show()"
   ]
  }
 ],
 "metadata": {
  "kernelspec": {
   "display_name": "Python 3.9.12 ('data-science')",
   "language": "python",
   "name": "python3"
  },
  "language_info": {
   "codemirror_mode": {
    "name": "ipython",
    "version": 3
   },
   "file_extension": ".py",
   "mimetype": "text/x-python",
   "name": "python",
   "nbconvert_exporter": "python",
   "pygments_lexer": "ipython3",
   "version": "3.9.12"
  },
  "orig_nbformat": 4,
  "vscode": {
   "interpreter": {
    "hash": "2efee1efa502125d01e6b4768ba06d9453d29f3642bfd14ad5d4a769de82e88c"
   }
  }
 },
 "nbformat": 4,
 "nbformat_minor": 2
}
