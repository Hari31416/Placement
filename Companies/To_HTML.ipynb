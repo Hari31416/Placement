{
 "cells": [
  {
   "cell_type": "code",
   "execution_count": 38,
   "metadata": {},
   "outputs": [],
   "source": [
    "import pandas as pd\n",
    "import numpy as np\n",
    "import seaborn as sns\n",
    "import matplotlib.pyplot as plt\n",
    "import plotly.express as px"
   ]
  },
  {
   "cell_type": "code",
   "execution_count": 39,
   "metadata": {},
   "outputs": [],
   "source": [
    "html_start = \"\"\"<!DOCTYPE html>\n",
    "<html lang=\"en\">\n",
    "<head>\n",
    "    <meta charset=\"UTF-8\">\n",
    "    <meta name=\"viewport\" content=\"width=device-width, initial-scale=1.0\">\n",
    "    <meta http-equiv=\"X-UA-Compatible\" content=\"ie=edge\">\n",
    "    <title>Companies</title>\n",
    "    <link rel=\"stylesheet\" href=\"https://stackpath.bootstrapcdn.com/bootstrap/4.3.1/css/bootstrap.min.css\" integrity=\"sha384-ggOyR0iXCbMQv3Xipma34MD+dH/1fQ784/j6cY/iJTQUOhcWr7x9JvoRxT2MZw1T\" crossorigin=\"anonymous\">\n",
    "    <script src=\"https://code.jquery.com/jquery-3.3.1.slim.min.js\" integrity=\"sha384-q8i/X+965DzO0rT7abK41JStQIAqVgRVzpbzo5smXKp4YfRvH+8abtTE1Pi6jizo\" crossorigin=\"anonymous\"></script>\n",
    " <style>\n",
    "    body {\n",
    "      background-color: rgb(41, 41, 46);\n",
    "    }\n",
    "\n",
    "    .links {\n",
    "      text-decoration: none;\n",
    "      color: rgb(135, 192, 241);\n",
    "    }\n",
    "  </style>\n",
    "</head>\n",
    "<body>\n",
    "    <div class=\"container-fluid\">\n",
    "        <h1 class=\"px-3 py-2 text-center text-light\">Companies</h1>\"\"\""
   ]
  },
  {
   "cell_type": "code",
   "execution_count": 40,
   "metadata": {},
   "outputs": [],
   "source": [
    "c = pd.read_csv('Companies_to_Look_For_P.csv')\n",
    "c.dropna(inplace=True, thresh=5)"
   ]
  },
  {
   "cell_type": "code",
   "execution_count": 41,
   "metadata": {},
   "outputs": [],
   "source": [
    "c[\"CTC\"] = c[\"Salary\"].apply(lambda x: float(x.split(\" \")[0]))\n",
    "c[\"Base Salary\"] = c[\"Salary\"].apply(lambda x: float(x.split(\" \")[1]))"
   ]
  },
  {
   "cell_type": "code",
   "execution_count": 42,
   "metadata": {},
   "outputs": [],
   "source": [
    "c.drop(columns=[\"Salary\"], inplace=True)"
   ]
  },
  {
   "cell_type": "code",
   "execution_count": 43,
   "metadata": {},
   "outputs": [],
   "source": [
    "c[\"Preference\"] = c[\"Preference\"].astype(int)\n",
    "c[\"Positions\"] = c[\"Positions\"].astype(int)"
   ]
  },
  {
   "cell_type": "code",
   "execution_count": 44,
   "metadata": {},
   "outputs": [],
   "source": [
    "c.sort_values(by=[\"Preference\", \"CTC\", \"Positions\"], inplace=True, ascending=[True, False, False])"
   ]
  },
  {
   "cell_type": "code",
   "execution_count": 45,
   "metadata": {},
   "outputs": [
    {
     "data": {
      "text/html": [
       "<div>\n",
       "<style scoped>\n",
       "    .dataframe tbody tr th:only-of-type {\n",
       "        vertical-align: middle;\n",
       "    }\n",
       "\n",
       "    .dataframe tbody tr th {\n",
       "        vertical-align: top;\n",
       "    }\n",
       "\n",
       "    .dataframe thead th {\n",
       "        text-align: right;\n",
       "    }\n",
       "</style>\n",
       "<table border=\"1\" class=\"dataframe\">\n",
       "  <thead>\n",
       "    <tr style=\"text-align: right;\">\n",
       "      <th></th>\n",
       "      <th>Company</th>\n",
       "      <th>Designation</th>\n",
       "      <th>Profile</th>\n",
       "      <th>Location</th>\n",
       "      <th>Preference</th>\n",
       "      <th>Apllied</th>\n",
       "      <th>Current Status</th>\n",
       "      <th>Remarks</th>\n",
       "      <th>Positions</th>\n",
       "      <th>CTC</th>\n",
       "      <th>Base Salary</th>\n",
       "    </tr>\n",
       "  </thead>\n",
       "  <tbody>\n",
       "    <tr>\n",
       "      <th>1</th>\n",
       "      <td>Javis</td>\n",
       "      <td>Machine Learning Engineer</td>\n",
       "      <td>Analyst</td>\n",
       "      <td>Bangalore Mumbai Gurgaon</td>\n",
       "      <td>1</td>\n",
       "      <td>Y</td>\n",
       "      <td>Applied</td>\n",
       "      <td>Applied;</td>\n",
       "      <td>2</td>\n",
       "      <td>36.0</td>\n",
       "      <td>20.0</td>\n",
       "    </tr>\n",
       "    <tr>\n",
       "      <th>2</th>\n",
       "      <td>PayU</td>\n",
       "      <td>Associate Data Scientist</td>\n",
       "      <td>Analyst</td>\n",
       "      <td>Bangalore Gurgaon</td>\n",
       "      <td>1</td>\n",
       "      <td>Y</td>\n",
       "      <td>Coding Test Done on 12 Oct</td>\n",
       "      <td>Applied;Coding Test on 12 Oct;</td>\n",
       "      <td>5</td>\n",
       "      <td>22.0</td>\n",
       "      <td>18.0</td>\n",
       "    </tr>\n",
       "    <tr>\n",
       "      <th>3</th>\n",
       "      <td>FourthFrontier</td>\n",
       "      <td>Data Scientist</td>\n",
       "      <td>Analyst</td>\n",
       "      <td>Bangalore</td>\n",
       "      <td>1</td>\n",
       "      <td>NaN</td>\n",
       "      <td>NaN</td>\n",
       "      <td>NaN</td>\n",
       "      <td>1</td>\n",
       "      <td>22.0</td>\n",
       "      <td>22.0</td>\n",
       "    </tr>\n",
       "    <tr>\n",
       "      <th>4</th>\n",
       "      <td>SLB</td>\n",
       "      <td>Data Scientist</td>\n",
       "      <td>Analyst</td>\n",
       "      <td>Pune</td>\n",
       "      <td>1</td>\n",
       "      <td>NaN</td>\n",
       "      <td>NaN</td>\n",
       "      <td>NaN</td>\n",
       "      <td>3</td>\n",
       "      <td>16.0</td>\n",
       "      <td>15.0</td>\n",
       "    </tr>\n",
       "    <tr>\n",
       "      <th>5</th>\n",
       "      <td>SLB</td>\n",
       "      <td>Machine Learning Engineer</td>\n",
       "      <td>Analyst</td>\n",
       "      <td>Pune</td>\n",
       "      <td>1</td>\n",
       "      <td>NaN</td>\n",
       "      <td>NaN</td>\n",
       "      <td>NaN</td>\n",
       "      <td>2</td>\n",
       "      <td>16.0</td>\n",
       "      <td>15.0</td>\n",
       "    </tr>\n",
       "  </tbody>\n",
       "</table>\n",
       "</div>"
      ],
      "text/plain": [
       "          Company                Designation  Profile  \\\n",
       "1           Javis  Machine Learning Engineer  Analyst   \n",
       "2            PayU   Associate Data Scientist  Analyst   \n",
       "3  FourthFrontier             Data Scientist  Analyst   \n",
       "4             SLB             Data Scientist  Analyst   \n",
       "5             SLB  Machine Learning Engineer  Analyst   \n",
       "\n",
       "                   Location  Preference Apllied              Current Status  \\\n",
       "1  Bangalore Mumbai Gurgaon           1       Y                     Applied   \n",
       "2         Bangalore Gurgaon           1       Y  Coding Test Done on 12 Oct   \n",
       "3                 Bangalore           1     NaN                         NaN   \n",
       "4                      Pune           1     NaN                         NaN   \n",
       "5                      Pune           1     NaN                         NaN   \n",
       "\n",
       "                          Remarks  Positions   CTC  Base Salary  \n",
       "1                        Applied;          2  36.0         20.0  \n",
       "2  Applied;Coding Test on 12 Oct;          5  22.0         18.0  \n",
       "3                             NaN          1  22.0         22.0  \n",
       "4                             NaN          3  16.0         15.0  \n",
       "5                             NaN          2  16.0         15.0  "
      ]
     },
     "execution_count": 45,
     "metadata": {},
     "output_type": "execute_result"
    }
   ],
   "source": [
    "c.reset_index(inplace=True, drop=True)\n",
    "c.set_index(np.arange(1, len(c) + 1), inplace=True)\n",
    "c.head()"
   ]
  },
  {
   "cell_type": "code",
   "execution_count": 46,
   "metadata": {},
   "outputs": [],
   "source": [
    "html_start+= c.to_html(classes='table table-striped table-hover table-bordered table-dark', index=True, justify='center', border=0, escape=False)\n",
    "html_start = html_start.replace(\"\"\" style=\"text-align: right;\">\"\"\", \">\")\n",
    "html_start = html_start.replace(\"\"\"border=\"1\" \"\"\", \"\")\n",
    "html_start = html_start.replace(\"dataframe\", \"\")\n",
    "html_start+=\"</div></body></html>\""
   ]
  },
  {
   "cell_type": "code",
   "execution_count": 47,
   "metadata": {},
   "outputs": [],
   "source": [
    "with open(\"index.html\", \"w\") as f:\n",
    "    f.write(html_start)"
   ]
  },
  {
   "cell_type": "code",
   "execution_count": 48,
   "metadata": {},
   "outputs": [
    {
     "data": {
      "text/plain": [
       "74"
      ]
     },
     "execution_count": 48,
     "metadata": {},
     "output_type": "execute_result"
    }
   ],
   "source": [
    "len(c)"
   ]
  },
  {
   "cell_type": "markdown",
   "metadata": {},
   "source": [
    "# Some Visualizations"
   ]
  },
  {
   "cell_type": "code",
   "execution_count": 49,
   "metadata": {},
   "outputs": [],
   "source": [
    "pref = [1,2,3,4,5]\n",
    "num_companies = [len(c[c[\"Preference\"] <= i]) for i in pref]"
   ]
  },
  {
   "cell_type": "code",
   "execution_count": 50,
   "metadata": {},
   "outputs": [
    {
     "data": {
      "application/vnd.jupyter.widget-view+json": {
       "model_id": "ec724970b4a94b549ff6190f4d56f690",
       "version_major": 2,
       "version_minor": 0
      },
      "image/png": "[encoded data removed]",
      "text/html": [
       "\n",
       "            <div style=\"display: inline-block;\">\n",
       "                <div class=\"jupyter-widgets widget-label\" style=\"text-align: center;\">\n",
       "                    Figure\n",
       "                </div>\n",
       "                <img src='data:image/png;base64,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' width=640.0/>\n",
       "            </div>\n",
       "        "
      ],
      "text/plain": [
       "Canvas(toolbar=Toolbar(toolitems=[('Home', 'Reset original view', 'home', 'home'), ('Back', 'Back to previous …"
      ]
     },
     "metadata": {},
     "output_type": "display_data"
    }
   ],
   "source": [
    "%matplotlib widget\n",
    "# plt.figure(figsize=(10, 7))\n",
    "sns.barplot(x=pref, y=num_companies)\n",
    "plt.title(\"Number of Companies\")\n",
    "plt.xlabel(\"Preference\")\n",
    "plt.ylabel(\"Number of Companies\");"
   ]
  },
  {
   "cell_type": "code",
   "execution_count": 51,
   "metadata": {},
   "outputs": [
    {
     "data": {
      "application/vnd.plotly.v1+json": {
       "config": {
        "plotlyServerURL": "https://plot.ly"
       },
       "data": [
        {
         "alignmentgroup": "True",
         "hovertemplate": "Preference=%{x}<br>Number of Companies=%{y}<br>color=%{marker.color}<extra></extra>",
         "legendgroup": "",
         "marker": {
          "color": [
           5,
           20,
           50,
           71,
           74
          ],
          "coloraxis": "coloraxis",
          "pattern": {
           "shape": ""
          }
         },
         "name": "",
         "offsetgroup": "",
         "orientation": "v",
         "showlegend": false,
         "textposition": "auto",
         "type": "bar",
         "x": [
          1,
          2,
          3,
          4,
          5
         ],
         "xaxis": "x",
         "y": [
          5,
          20,
          50,
          71,
          74
         ],
         "yaxis": "y"
        }
       ],
       "layout": {
        "barmode": "relative",
        "coloraxis": {
         "colorbar": {
          "title": {
           "text": "color"
          }
         },
         "colorscale": [
          [
           0,
           "#0d0887"
          ],
          [
           0.1111111111111111,
           "#46039f"
          ],
          [
           0.2222222222222222,
           "#7201a8"
          ],
          [
           0.3333333333333333,
           "#9c179e"
          ],
          [
           0.4444444444444444,
           "#bd3786"
          ],
          [
           0.5555555555555556,
           "#d8576b"
          ],
          [
           0.6666666666666666,
           "#ed7953"
          ],
          [
           0.7777777777777778,
           "#fb9f3a"
          ],
          [
           0.8888888888888888,
           "#fdca26"
          ],
          [
           1,
           "#f0f921"
          ]
         ]
        },
        "legend": {
         "tracegroupgap": 0
        },
        "margin": {
         "t": 60
        },
        "template": {
         "data": {
          "bar": [
           {
            "error_x": {
             "color": "#2a3f5f"
            },
            "error_y": {
             "color": "#2a3f5f"
            },
            "marker": {
             "line": {
              "color": "#E5ECF6",
              "width": 0.5
             },
             "pattern": {
              "fillmode": "overlay",
              "size": 10,
              "solidity": 0.2
             }
            },
            "type": "bar"
           }
          ],
          "barpolar": [
           {
            "marker": {
             "line": {
              "color": "#E5ECF6",
              "width": 0.5
             },
             "pattern": {
              "fillmode": "overlay",
              "size": 10,
              "solidity": 0.2
             }
            },
            "type": "barpolar"
           }
          ],
          "carpet": [
           {
            "aaxis": {
             "endlinecolor": "#2a3f5f",
             "gridcolor": "white",
             "linecolor": "white",
             "minorgridcolor": "white",
             "startlinecolor": "#2a3f5f"
            },
            "baxis": {
             "endlinecolor": "#2a3f5f",
             "gridcolor": "white",
             "linecolor": "white",
             "minorgridcolor": "white",
             "startlinecolor": "#2a3f5f"
            },
            "type": "carpet"
           }
          ],
          "choropleth": [
           {
            "colorbar": {
             "outlinewidth": 0,
             "ticks": ""
            },
            "type": "choropleth"
           }
          ],
          "contour": [
           {
            "colorbar": {
             "outlinewidth": 0,
             "ticks": ""
            },
            "colorscale": [
             [
              0,
              "#0d0887"
             ],
             [
              0.1111111111111111,
              "#46039f"
             ],
             [
              0.2222222222222222,
              "#7201a8"
             ],
             [
              0.3333333333333333,
              "#9c179e"
             ],
             [
              0.4444444444444444,
              "#bd3786"
             ],
             [
              0.5555555555555556,
              "#d8576b"
             ],
             [
              0.6666666666666666,
              "#ed7953"
             ],
             [
              0.7777777777777778,
              "#fb9f3a"
             ],
             [
              0.8888888888888888,
              "#fdca26"
             ],
             [
              1,
              "#f0f921"
             ]
            ],
            "type": "contour"
           }
          ],
          "contourcarpet": [
           {
            "colorbar": {
             "outlinewidth": 0,
             "ticks": ""
            },
            "type": "contourcarpet"
           }
          ],
          "heatmap": [
           {
            "colorbar": {
             "outlinewidth": 0,
             "ticks": ""
            },
            "colorscale": [
             [
              0,
              "#0d0887"
             ],
             [
              0.1111111111111111,
              "#46039f"
             ],
             [
              0.2222222222222222,
              "#7201a8"
             ],
             [
              0.3333333333333333,
              "#9c179e"
             ],
             [
              0.4444444444444444,
              "#bd3786"
             ],
             [
              0.5555555555555556,
              "#d8576b"
             ],
             [
              0.6666666666666666,
              "#ed7953"
             ],
             [
              0.7777777777777778,
              "#fb9f3a"
             ],
             [
              0.8888888888888888,
              "#fdca26"
             ],
             [
              1,
              "#f0f921"
             ]
            ],
            "type": "heatmap"
           }
          ],
          "heatmapgl": [
           {
            "colorbar": {
             "outlinewidth": 0,
             "ticks": ""
            },
            "colorscale": [
             [
              0,
              "#0d0887"
             ],
             [
              0.1111111111111111,
              "#46039f"
             ],
             [
              0.2222222222222222,
              "#7201a8"
             ],
             [
              0.3333333333333333,
              "#9c179e"
             ],
             [
              0.4444444444444444,
              "#bd3786"
             ],
             [
              0.5555555555555556,
              "#d8576b"
             ],
             [
              0.6666666666666666,
              "#ed7953"
             ],
             [
              0.7777777777777778,
              "#fb9f3a"
             ],
             [
              0.8888888888888888,
              "#fdca26"
             ],
             [
              1,
              "#f0f921"
             ]
            ],
            "type": "heatmapgl"
           }
          ],
          "histogram": [
           {
            "marker": {
             "pattern": {
              "fillmode": "overlay",
              "size": 10,
              "solidity": 0.2
             }
            },
            "type": "histogram"
           }
          ],
          "histogram2d": [
           {
            "colorbar": {
             "outlinewidth": 0,
             "ticks": ""
            },
            "colorscale": [
             [
              0,
              "#0d0887"
             ],
             [
              0.1111111111111111,
              "#46039f"
             ],
             [
              0.2222222222222222,
              "#7201a8"
             ],
             [
              0.3333333333333333,
              "#9c179e"
             ],
             [
              0.4444444444444444,
              "#bd3786"
             ],
             [
              0.5555555555555556,
              "#d8576b"
             ],
             [
              0.6666666666666666,
              "#ed7953"
             ],
             [
              0.7777777777777778,
              "#fb9f3a"
             ],
             [
              0.8888888888888888,
              "#fdca26"
             ],
             [
              1,
              "#f0f921"
             ]
            ],
            "type": "histogram2d"
           }
          ],
          "histogram2dcontour": [
           {
            "colorbar": {
             "outlinewidth": 0,
             "ticks": ""
            },
            "colorscale": [
             [
              0,
              "#0d0887"
             ],
             [
              0.1111111111111111,
              "#46039f"
             ],
             [
              0.2222222222222222,
              "#7201a8"
             ],
             [
              0.3333333333333333,
              "#9c179e"
             ],
             [
              0.4444444444444444,
              "#bd3786"
             ],
             [
              0.5555555555555556,
              "#d8576b"
             ],
             [
              0.6666666666666666,
              "#ed7953"
             ],
             [
              0.7777777777777778,
              "#fb9f3a"
             ],
             [
              0.8888888888888888,
              "#fdca26"
             ],
             [
              1,
              "#f0f921"
             ]
            ],
            "type": "histogram2dcontour"
           }
          ],
          "mesh3d": [
           {
            "colorbar": {
             "outlinewidth": 0,
             "ticks": ""
            },
            "type": "mesh3d"
           }
          ],
          "parcoords": [
           {
            "line": {
             "colorbar": {
              "outlinewidth": 0,
              "ticks": ""
             }
            },
            "type": "parcoords"
           }
          ],
          "pie": [
           {
            "automargin": true,
            "type": "pie"
           }
          ],
          "scatter": [
           {
            "fillpattern": {
             "fillmode": "overlay",
             "size": 10,
             "solidity": 0.2
            },
            "type": "scatter"
           }
          ],
          "scatter3d": [
           {
            "line": {
             "colorbar": {
              "outlinewidth": 0,
              "ticks": ""
             }
            },
            "marker": {
             "colorbar": {
              "outlinewidth": 0,
              "ticks": ""
             }
            },
            "type": "scatter3d"
           }
          ],
          "scattercarpet": [
           {
            "marker": {
             "colorbar": {
              "outlinewidth": 0,
              "ticks": ""
             }
            },
            "type": "scattercarpet"
           }
          ],
          "scattergeo": [
           {
            "marker": {
             "colorbar": {
              "outlinewidth": 0,
              "ticks": ""
             }
            },
            "type": "scattergeo"
           }
          ],
          "scattergl": [
           {
            "marker": {
             "colorbar": {
              "outlinewidth": 0,
              "ticks": ""
             }
            },
            "type": "scattergl"
           }
          ],
          "scattermapbox": [
           {
            "marker": {
             "colorbar": {
              "outlinewidth": 0,
              "ticks": ""
             }
            },
            "type": "scattermapbox"
           }
          ],
          "scatterpolar": [
           {
            "marker": {
             "colorbar": {
              "outlinewidth": 0,
              "ticks": ""
             }
            },
            "type": "scatterpolar"
           }
          ],
          "scatterpolargl": [
           {
            "marker": {
             "colorbar": {
              "outlinewidth": 0,
              "ticks": ""
             }
            },
            "type": "scatterpolargl"
           }
          ],
          "scatterternary": [
           {
            "marker": {
             "colorbar": {
              "outlinewidth": 0,
              "ticks": ""
             }
            },
            "type": "scatterternary"
           }
          ],
          "surface": [
           {
            "colorbar": {
             "outlinewidth": 0,
             "ticks": ""
            },
            "colorscale": [
             [
              0,
              "#0d0887"
             ],
             [
              0.1111111111111111,
              "#46039f"
             ],
             [
              0.2222222222222222,
              "#7201a8"
             ],
             [
              0.3333333333333333,
              "#9c179e"
             ],
             [
              0.4444444444444444,
              "#bd3786"
             ],
             [
              0.5555555555555556,
              "#d8576b"
             ],
             [
              0.6666666666666666,
              "#ed7953"
             ],
             [
              0.7777777777777778,
              "#fb9f3a"
             ],
             [
              0.8888888888888888,
              "#fdca26"
             ],
             [
              1,
              "#f0f921"
             ]
            ],
            "type": "surface"
           }
          ],
          "table": [
           {
            "cells": {
             "fill": {
              "color": "#EBF0F8"
             },
             "line": {
              "color": "white"
             }
            },
            "header": {
             "fill": {
              "color": "#C8D4E3"
             },
             "line": {
              "color": "white"
             }
            },
            "type": "table"
           }
          ]
         },
         "layout": {
          "annotationdefaults": {
           "arrowcolor": "#2a3f5f",
           "arrowhead": 0,
           "arrowwidth": 1
          },
          "autotypenumbers": "strict",
          "coloraxis": {
           "colorbar": {
            "outlinewidth": 0,
            "ticks": ""
           }
          },
          "colorscale": {
           "diverging": [
            [
             0,
             "#8e0152"
            ],
            [
             0.1,
             "#c51b7d"
            ],
            [
             0.2,
             "#de77ae"
            ],
            [
             0.3,
             "#f1b6da"
            ],
            [
             0.4,
             "#fde0ef"
            ],
            [
             0.5,
             "#f7f7f7"
            ],
            [
             0.6,
             "#e6f5d0"
            ],
            [
             0.7,
             "#b8e186"
            ],
            [
             0.8,
             "#7fbc41"
            ],
            [
             0.9,
             "#4d9221"
            ],
            [
             1,
             "#276419"
            ]
           ],
           "sequential": [
            [
             0,
             "#0d0887"
            ],
            [
             0.1111111111111111,
             "#46039f"
            ],
            [
             0.2222222222222222,
             "#7201a8"
            ],
            [
             0.3333333333333333,
             "#9c179e"
            ],
            [
             0.4444444444444444,
             "#bd3786"
            ],
            [
             0.5555555555555556,
             "#d8576b"
            ],
            [
             0.6666666666666666,
             "#ed7953"
            ],
            [
             0.7777777777777778,
             "#fb9f3a"
            ],
            [
             0.8888888888888888,
             "#fdca26"
            ],
            [
             1,
             "#f0f921"
            ]
           ],
           "sequentialminus": [
            [
             0,
             "#0d0887"
            ],
            [
             0.1111111111111111,
             "#46039f"
            ],
            [
             0.2222222222222222,
             "#7201a8"
            ],
            [
             0.3333333333333333,
             "#9c179e"
            ],
            [
             0.4444444444444444,
             "#bd3786"
            ],
            [
             0.5555555555555556,
             "#d8576b"
            ],
            [
             0.6666666666666666,
             "#ed7953"
            ],
            [
             0.7777777777777778,
             "#fb9f3a"
            ],
            [
             0.8888888888888888,
             "#fdca26"
            ],
            [
             1,
             "#f0f921"
            ]
           ]
          },
          "colorway": [
           "#636efa",
           "#EF553B",
           "#00cc96",
           "#ab63fa",
           "#FFA15A",
           "#19d3f3",
           "#FF6692",
           "#B6E880",
           "#FF97FF",
           "#FECB52"
          ],
          "font": {
           "color": "#2a3f5f"
          },
          "geo": {
           "bgcolor": "white",
           "lakecolor": "white",
           "landcolor": "#E5ECF6",
           "showlakes": true,
           "showland": true,
           "subunitcolor": "white"
          },
          "hoverlabel": {
           "align": "left"
          },
          "hovermode": "closest",
          "mapbox": {
           "style": "light"
          },
          "paper_bgcolor": "white",
          "plot_bgcolor": "#E5ECF6",
          "polar": {
           "angularaxis": {
            "gridcolor": "white",
            "linecolor": "white",
            "ticks": ""
           },
           "bgcolor": "#E5ECF6",
           "radialaxis": {
            "gridcolor": "white",
            "linecolor": "white",
            "ticks": ""
           }
          },
          "scene": {
           "xaxis": {
            "backgroundcolor": "#E5ECF6",
            "gridcolor": "white",
            "gridwidth": 2,
            "linecolor": "white",
            "showbackground": true,
            "ticks": "",
            "zerolinecolor": "white"
           },
           "yaxis": {
            "backgroundcolor": "#E5ECF6",
            "gridcolor": "white",
            "gridwidth": 2,
            "linecolor": "white",
            "showbackground": true,
            "ticks": "",
            "zerolinecolor": "white"
           },
           "zaxis": {
            "backgroundcolor": "#E5ECF6",
            "gridcolor": "white",
            "gridwidth": 2,
            "linecolor": "white",
            "showbackground": true,
            "ticks": "",
            "zerolinecolor": "white"
           }
          },
          "shapedefaults": {
           "line": {
            "color": "#2a3f5f"
           }
          },
          "ternary": {
           "aaxis": {
            "gridcolor": "white",
            "linecolor": "white",
            "ticks": ""
           },
           "baxis": {
            "gridcolor": "white",
            "linecolor": "white",
            "ticks": ""
           },
           "bgcolor": "#E5ECF6",
           "caxis": {
            "gridcolor": "white",
            "linecolor": "white",
            "ticks": ""
           }
          },
          "title": {
           "x": 0.05
          },
          "xaxis": {
           "automargin": true,
           "gridcolor": "white",
           "linecolor": "white",
           "ticks": "",
           "title": {
            "standoff": 15
           },
           "zerolinecolor": "white",
           "zerolinewidth": 2
          },
          "yaxis": {
           "automargin": true,
           "gridcolor": "white",
           "linecolor": "white",
           "ticks": "",
           "title": {
            "standoff": 15
           },
           "zerolinecolor": "white",
           "zerolinewidth": 2
          }
         }
        },
        "title": {
         "text": "Number of Companies"
        },
        "xaxis": {
         "anchor": "y",
         "domain": [
          0,
          1
         ],
         "title": {
          "text": "Preference"
         }
        },
        "yaxis": {
         "anchor": "x",
         "domain": [
          0,
          1
         ],
         "title": {
          "text": "Number of Companies"
         }
        }
       }
      }
     },
     "metadata": {},
     "output_type": "display_data"
    }
   ],
   "source": [
    "fig = px.bar(x=pref, y=num_companies, labels={\"x\": \"Preference\", \"y\": \"Number of Companies\"}, color = num_companies)\n",
    "fig.update_layout(title=\"Number of Companies\")\n",
    "fig.show()"
   ]
  },
  {
   "cell_type": "code",
   "execution_count": 52,
   "metadata": {},
   "outputs": [
    {
     "data": {
      "application/vnd.plotly.v1+json": {
       "config": {
        "plotlyServerURL": "https://plot.ly"
       },
       "data": [
        {
         "alignmentgroup": "True",
         "hovertemplate": "color=Analyst<br>Profile=%{x}<br>Number of Companies=%{y}<extra></extra>",
         "legendgroup": "Analyst",
         "marker": {
          "color": "#636efa",
          "pattern": {
           "shape": ""
          }
         },
         "name": "Analyst",
         "offsetgroup": "Analyst",
         "orientation": "v",
         "showlegend": true,
         "textposition": "auto",
         "type": "bar",
         "x": [
          "Analyst"
         ],
         "xaxis": "x",
         "y": [
          38
         ],
         "yaxis": "y"
        },
        {
         "alignmentgroup": "True",
         "hovertemplate": "color=IT<br>Profile=%{x}<br>Number of Companies=%{y}<extra></extra>",
         "legendgroup": "IT",
         "marker": {
          "color": "#EF553B",
          "pattern": {
           "shape": ""
          }
         },
         "name": "IT",
         "offsetgroup": "IT",
         "orientation": "v",
         "showlegend": true,
         "textposition": "auto",
         "type": "bar",
         "x": [
          "IT"
         ],
         "xaxis": "x",
         "y": [
          26
         ],
         "yaxis": "y"
        },
        {
         "alignmentgroup": "True",
         "hovertemplate": "color=Management<br>Profile=%{x}<br>Number of Companies=%{y}<extra></extra>",
         "legendgroup": "Management",
         "marker": {
          "color": "#00cc96",
          "pattern": {
           "shape": ""
          }
         },
         "name": "Management",
         "offsetgroup": "Management",
         "orientation": "v",
         "showlegend": true,
         "textposition": "auto",
         "type": "bar",
         "x": [
          "Management"
         ],
         "xaxis": "x",
         "y": [
          4
         ],
         "yaxis": "y"
        },
        {
         "alignmentgroup": "True",
         "hovertemplate": "color=Finance<br>Profile=%{x}<br>Number of Companies=%{y}<extra></extra>",
         "legendgroup": "Finance",
         "marker": {
          "color": "#ab63fa",
          "pattern": {
           "shape": ""
          }
         },
         "name": "Finance",
         "offsetgroup": "Finance",
         "orientation": "v",
         "showlegend": true,
         "textposition": "auto",
         "type": "bar",
         "x": [
          "Finance"
         ],
         "xaxis": "x",
         "y": [
          2
         ],
         "yaxis": "y"
        },
        {
         "alignmentgroup": "True",
         "hovertemplate": "color=Core<br>Profile=%{x}<br>Number of Companies=%{y}<extra></extra>",
         "legendgroup": "Core",
         "marker": {
          "color": "#FFA15A",
          "pattern": {
           "shape": ""
          }
         },
         "name": "Core",
         "offsetgroup": "Core",
         "orientation": "v",
         "showlegend": true,
         "textposition": "auto",
         "type": "bar",
         "x": [
          "Core"
         ],
         "xaxis": "x",
         "y": [
          2
         ],
         "yaxis": "y"
        },
        {
         "alignmentgroup": "True",
         "hovertemplate": "color=IT (ML)<br>Profile=%{x}<br>Number of Companies=%{y}<extra></extra>",
         "legendgroup": "IT (ML)",
         "marker": {
          "color": "#19d3f3",
          "pattern": {
           "shape": ""
          }
         },
         "name": "IT (ML)",
         "offsetgroup": "IT (ML)",
         "orientation": "v",
         "showlegend": true,
         "textposition": "auto",
         "type": "bar",
         "x": [
          "IT (ML)"
         ],
         "xaxis": "x",
         "y": [
          1
         ],
         "yaxis": "y"
        },
        {
         "alignmentgroup": "True",
         "hovertemplate": "color=Other<br>Profile=%{x}<br>Number of Companies=%{y}<extra></extra>",
         "legendgroup": "Other",
         "marker": {
          "color": "#FF6692",
          "pattern": {
           "shape": ""
          }
         },
         "name": "Other",
         "offsetgroup": "Other",
         "orientation": "v",
         "showlegend": true,
         "textposition": "auto",
         "type": "bar",
         "x": [
          "Other"
         ],
         "xaxis": "x",
         "y": [
          1
         ],
         "yaxis": "y"
        }
       ],
       "layout": {
        "barmode": "relative",
        "legend": {
         "title": {
          "text": "color"
         },
         "tracegroupgap": 0
        },
        "margin": {
         "t": 60
        },
        "template": {
         "data": {
          "bar": [
           {
            "error_x": {
             "color": "#2a3f5f"
            },
            "error_y": {
             "color": "#2a3f5f"
            },
            "marker": {
             "line": {
              "color": "#E5ECF6",
              "width": 0.5
             },
             "pattern": {
              "fillmode": "overlay",
              "size": 10,
              "solidity": 0.2
             }
            },
            "type": "bar"
           }
          ],
          "barpolar": [
           {
            "marker": {
             "line": {
              "color": "#E5ECF6",
              "width": 0.5
             },
             "pattern": {
              "fillmode": "overlay",
              "size": 10,
              "solidity": 0.2
             }
            },
            "type": "barpolar"
           }
          ],
          "carpet": [
           {
            "aaxis": {
             "endlinecolor": "#2a3f5f",
             "gridcolor": "white",
             "linecolor": "white",
             "minorgridcolor": "white",
             "startlinecolor": "#2a3f5f"
            },
            "baxis": {
             "endlinecolor": "#2a3f5f",
             "gridcolor": "white",
             "linecolor": "white",
             "minorgridcolor": "white",
             "startlinecolor": "#2a3f5f"
            },
            "type": "carpet"
           }
          ],
          "choropleth": [
           {
            "colorbar": {
             "outlinewidth": 0,
             "ticks": ""
            },
            "type": "choropleth"
           }
          ],
          "contour": [
           {
            "colorbar": {
             "outlinewidth": 0,
             "ticks": ""
            },
            "colorscale": [
             [
              0,
              "#0d0887"
             ],
             [
              0.1111111111111111,
              "#46039f"
             ],
             [
              0.2222222222222222,
              "#7201a8"
             ],
             [
              0.3333333333333333,
              "#9c179e"
             ],
             [
              0.4444444444444444,
              "#bd3786"
             ],
             [
              0.5555555555555556,
              "#d8576b"
             ],
             [
              0.6666666666666666,
              "#ed7953"
             ],
             [
              0.7777777777777778,
              "#fb9f3a"
             ],
             [
              0.8888888888888888,
              "#fdca26"
             ],
             [
              1,
              "#f0f921"
             ]
            ],
            "type": "contour"
           }
          ],
          "contourcarpet": [
           {
            "colorbar": {
             "outlinewidth": 0,
             "ticks": ""
            },
            "type": "contourcarpet"
           }
          ],
          "heatmap": [
           {
            "colorbar": {
             "outlinewidth": 0,
             "ticks": ""
            },
            "colorscale": [
             [
              0,
              "#0d0887"
             ],
             [
              0.1111111111111111,
              "#46039f"
             ],
             [
              0.2222222222222222,
              "#7201a8"
             ],
             [
              0.3333333333333333,
              "#9c179e"
             ],
             [
              0.4444444444444444,
              "#bd3786"
             ],
             [
              0.5555555555555556,
              "#d8576b"
             ],
             [
              0.6666666666666666,
              "#ed7953"
             ],
             [
              0.7777777777777778,
              "#fb9f3a"
             ],
             [
              0.8888888888888888,
              "#fdca26"
             ],
             [
              1,
              "#f0f921"
             ]
            ],
            "type": "heatmap"
           }
          ],
          "heatmapgl": [
           {
            "colorbar": {
             "outlinewidth": 0,
             "ticks": ""
            },
            "colorscale": [
             [
              0,
              "#0d0887"
             ],
             [
              0.1111111111111111,
              "#46039f"
             ],
             [
              0.2222222222222222,
              "#7201a8"
             ],
             [
              0.3333333333333333,
              "#9c179e"
             ],
             [
              0.4444444444444444,
              "#bd3786"
             ],
             [
              0.5555555555555556,
              "#d8576b"
             ],
             [
              0.6666666666666666,
              "#ed7953"
             ],
             [
              0.7777777777777778,
              "#fb9f3a"
             ],
             [
              0.8888888888888888,
              "#fdca26"
             ],
             [
              1,
              "#f0f921"
             ]
            ],
            "type": "heatmapgl"
           }
          ],
          "histogram": [
           {
            "marker": {
             "pattern": {
              "fillmode": "overlay",
              "size": 10,
              "solidity": 0.2
             }
            },
            "type": "histogram"
           }
          ],
          "histogram2d": [
           {
            "colorbar": {
             "outlinewidth": 0,
             "ticks": ""
            },
            "colorscale": [
             [
              0,
              "#0d0887"
             ],
             [
              0.1111111111111111,
              "#46039f"
             ],
             [
              0.2222222222222222,
              "#7201a8"
             ],
             [
              0.3333333333333333,
              "#9c179e"
             ],
             [
              0.4444444444444444,
              "#bd3786"
             ],
             [
              0.5555555555555556,
              "#d8576b"
             ],
             [
              0.6666666666666666,
              "#ed7953"
             ],
             [
              0.7777777777777778,
              "#fb9f3a"
             ],
             [
              0.8888888888888888,
              "#fdca26"
             ],
             [
              1,
              "#f0f921"
             ]
            ],
            "type": "histogram2d"
           }
          ],
          "histogram2dcontour": [
           {
            "colorbar": {
             "outlinewidth": 0,
             "ticks": ""
            },
            "colorscale": [
             [
              0,
              "#0d0887"
             ],
             [
              0.1111111111111111,
              "#46039f"
             ],
             [
              0.2222222222222222,
              "#7201a8"
             ],
             [
              0.3333333333333333,
              "#9c179e"
             ],
             [
              0.4444444444444444,
              "#bd3786"
             ],
             [
              0.5555555555555556,
              "#d8576b"
             ],
             [
              0.6666666666666666,
              "#ed7953"
             ],
             [
              0.7777777777777778,
              "#fb9f3a"
             ],
             [
              0.8888888888888888,
              "#fdca26"
             ],
             [
              1,
              "#f0f921"
             ]
            ],
            "type": "histogram2dcontour"
           }
          ],
          "mesh3d": [
           {
            "colorbar": {
             "outlinewidth": 0,
             "ticks": ""
            },
            "type": "mesh3d"
           }
          ],
          "parcoords": [
           {
            "line": {
             "colorbar": {
              "outlinewidth": 0,
              "ticks": ""
             }
            },
            "type": "parcoords"
           }
          ],
          "pie": [
           {
            "automargin": true,
            "type": "pie"
           }
          ],
          "scatter": [
           {
            "fillpattern": {
             "fillmode": "overlay",
             "size": 10,
             "solidity": 0.2
            },
            "type": "scatter"
           }
          ],
          "scatter3d": [
           {
            "line": {
             "colorbar": {
              "outlinewidth": 0,
              "ticks": ""
             }
            },
            "marker": {
             "colorbar": {
              "outlinewidth": 0,
              "ticks": ""
             }
            },
            "type": "scatter3d"
           }
          ],
          "scattercarpet": [
           {
            "marker": {
             "colorbar": {
              "outlinewidth": 0,
              "ticks": ""
             }
            },
            "type": "scattercarpet"
           }
          ],
          "scattergeo": [
           {
            "marker": {
             "colorbar": {
              "outlinewidth": 0,
              "ticks": ""
             }
            },
            "type": "scattergeo"
           }
          ],
          "scattergl": [
           {
            "marker": {
             "colorbar": {
              "outlinewidth": 0,
              "ticks": ""
             }
            },
            "type": "scattergl"
           }
          ],
          "scattermapbox": [
           {
            "marker": {
             "colorbar": {
              "outlinewidth": 0,
              "ticks": ""
             }
            },
            "type": "scattermapbox"
           }
          ],
          "scatterpolar": [
           {
            "marker": {
             "colorbar": {
              "outlinewidth": 0,
              "ticks": ""
             }
            },
            "type": "scatterpolar"
           }
          ],
          "scatterpolargl": [
           {
            "marker": {
             "colorbar": {
              "outlinewidth": 0,
              "ticks": ""
             }
            },
            "type": "scatterpolargl"
           }
          ],
          "scatterternary": [
           {
            "marker": {
             "colorbar": {
              "outlinewidth": 0,
              "ticks": ""
             }
            },
            "type": "scatterternary"
           }
          ],
          "surface": [
           {
            "colorbar": {
             "outlinewidth": 0,
             "ticks": ""
            },
            "colorscale": [
             [
              0,
              "#0d0887"
             ],
             [
              0.1111111111111111,
              "#46039f"
             ],
             [
              0.2222222222222222,
              "#7201a8"
             ],
             [
              0.3333333333333333,
              "#9c179e"
             ],
             [
              0.4444444444444444,
              "#bd3786"
             ],
             [
              0.5555555555555556,
              "#d8576b"
             ],
             [
              0.6666666666666666,
              "#ed7953"
             ],
             [
              0.7777777777777778,
              "#fb9f3a"
             ],
             [
              0.8888888888888888,
              "#fdca26"
             ],
             [
              1,
              "#f0f921"
             ]
            ],
            "type": "surface"
           }
          ],
          "table": [
           {
            "cells": {
             "fill": {
              "color": "#EBF0F8"
             },
             "line": {
              "color": "white"
             }
            },
            "header": {
             "fill": {
              "color": "#C8D4E3"
             },
             "line": {
              "color": "white"
             }
            },
            "type": "table"
           }
          ]
         },
         "layout": {
          "annotationdefaults": {
           "arrowcolor": "#2a3f5f",
           "arrowhead": 0,
           "arrowwidth": 1
          },
          "autotypenumbers": "strict",
          "coloraxis": {
           "colorbar": {
            "outlinewidth": 0,
            "ticks": ""
           }
          },
          "colorscale": {
           "diverging": [
            [
             0,
             "#8e0152"
            ],
            [
             0.1,
             "#c51b7d"
            ],
            [
             0.2,
             "#de77ae"
            ],
            [
             0.3,
             "#f1b6da"
            ],
            [
             0.4,
             "#fde0ef"
            ],
            [
             0.5,
             "#f7f7f7"
            ],
            [
             0.6,
             "#e6f5d0"
            ],
            [
             0.7,
             "#b8e186"
            ],
            [
             0.8,
             "#7fbc41"
            ],
            [
             0.9,
             "#4d9221"
            ],
            [
             1,
             "#276419"
            ]
           ],
           "sequential": [
            [
             0,
             "#0d0887"
            ],
            [
             0.1111111111111111,
             "#46039f"
            ],
            [
             0.2222222222222222,
             "#7201a8"
            ],
            [
             0.3333333333333333,
             "#9c179e"
            ],
            [
             0.4444444444444444,
             "#bd3786"
            ],
            [
             0.5555555555555556,
             "#d8576b"
            ],
            [
             0.6666666666666666,
             "#ed7953"
            ],
            [
             0.7777777777777778,
             "#fb9f3a"
            ],
            [
             0.8888888888888888,
             "#fdca26"
            ],
            [
             1,
             "#f0f921"
            ]
           ],
           "sequentialminus": [
            [
             0,
             "#0d0887"
            ],
            [
             0.1111111111111111,
             "#46039f"
            ],
            [
             0.2222222222222222,
             "#7201a8"
            ],
            [
             0.3333333333333333,
             "#9c179e"
            ],
            [
             0.4444444444444444,
             "#bd3786"
            ],
            [
             0.5555555555555556,
             "#d8576b"
            ],
            [
             0.6666666666666666,
             "#ed7953"
            ],
            [
             0.7777777777777778,
             "#fb9f3a"
            ],
            [
             0.8888888888888888,
             "#fdca26"
            ],
            [
             1,
             "#f0f921"
            ]
           ]
          },
          "colorway": [
           "#636efa",
           "#EF553B",
           "#00cc96",
           "#ab63fa",
           "#FFA15A",
           "#19d3f3",
           "#FF6692",
           "#B6E880",
           "#FF97FF",
           "#FECB52"
          ],
          "font": {
           "color": "#2a3f5f"
          },
          "geo": {
           "bgcolor": "white",
           "lakecolor": "white",
           "landcolor": "#E5ECF6",
           "showlakes": true,
           "showland": true,
           "subunitcolor": "white"
          },
          "hoverlabel": {
           "align": "left"
          },
          "hovermode": "closest",
          "mapbox": {
           "style": "light"
          },
          "paper_bgcolor": "white",
          "plot_bgcolor": "#E5ECF6",
          "polar": {
           "angularaxis": {
            "gridcolor": "white",
            "linecolor": "white",
            "ticks": ""
           },
           "bgcolor": "#E5ECF6",
           "radialaxis": {
            "gridcolor": "white",
            "linecolor": "white",
            "ticks": ""
           }
          },
          "scene": {
           "xaxis": {
            "backgroundcolor": "#E5ECF6",
            "gridcolor": "white",
            "gridwidth": 2,
            "linecolor": "white",
            "showbackground": true,
            "ticks": "",
            "zerolinecolor": "white"
           },
           "yaxis": {
            "backgroundcolor": "#E5ECF6",
            "gridcolor": "white",
            "gridwidth": 2,
            "linecolor": "white",
            "showbackground": true,
            "ticks": "",
            "zerolinecolor": "white"
           },
           "zaxis": {
            "backgroundcolor": "#E5ECF6",
            "gridcolor": "white",
            "gridwidth": 2,
            "linecolor": "white",
            "showbackground": true,
            "ticks": "",
            "zerolinecolor": "white"
           }
          },
          "shapedefaults": {
           "line": {
            "color": "#2a3f5f"
           }
          },
          "ternary": {
           "aaxis": {
            "gridcolor": "white",
            "linecolor": "white",
            "ticks": ""
           },
           "baxis": {
            "gridcolor": "white",
            "linecolor": "white",
            "ticks": ""
           },
           "bgcolor": "#E5ECF6",
           "caxis": {
            "gridcolor": "white",
            "linecolor": "white",
            "ticks": ""
           }
          },
          "title": {
           "x": 0.05
          },
          "xaxis": {
           "automargin": true,
           "gridcolor": "white",
           "linecolor": "white",
           "ticks": "",
           "title": {
            "standoff": 15
           },
           "zerolinecolor": "white",
           "zerolinewidth": 2
          },
          "yaxis": {
           "automargin": true,
           "gridcolor": "white",
           "linecolor": "white",
           "ticks": "",
           "title": {
            "standoff": 15
           },
           "zerolinecolor": "white",
           "zerolinewidth": 2
          }
         }
        },
        "title": {
         "text": "Number of Companies by Profile"
        },
        "xaxis": {
         "anchor": "y",
         "domain": [
          0,
          1
         ],
         "title": {
          "text": "Profile"
         }
        },
        "yaxis": {
         "anchor": "x",
         "domain": [
          0,
          1
         ],
         "title": {
          "text": "Number of Companies"
         }
        }
       }
      }
     },
     "metadata": {},
     "output_type": "display_data"
    }
   ],
   "source": [
    "#Plot by Profile count\n",
    "profile_count = c[\"Profile\"].value_counts()\n",
    "fig = px.bar(x=profile_count.index, y=profile_count.values, labels={\"x\": \"Profile\", \"y\": \"Number of Companies\"}, color = profile_count.index)\n",
    "fig.update_layout(title=\"Number of Companies by Profile\")\n",
    "fig.show()"
   ]
  }
 ],
 "metadata": {
  "kernelspec": {
   "display_name": "Python 3.9.12 ('data-science')",
   "language": "python",
   "name": "python3"
  },
  "language_info": {
   "codemirror_mode": {
    "name": "ipython",
    "version": 3
   },
   "file_extension": ".py",
   "mimetype": "text/x-python",
   "name": "python",
   "nbconvert_exporter": "python",
   "pygments_lexer": "ipython3",
   "version": "3.9.12"
  },
  "orig_nbformat": 4,
  "vscode": {
   "interpreter": {
    "hash": "2efee1efa502125d01e6b4768ba06d9453d29f3642bfd14ad5d4a769de82e88c"
   }
  }
 },
 "nbformat": 4,
 "nbformat_minor": 2
}
