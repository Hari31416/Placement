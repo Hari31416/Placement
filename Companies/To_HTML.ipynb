{
 "cells": [
  {
   "cell_type": "code",
   "execution_count": 1,
   "metadata": {},
   "outputs": [],
   "source": [
    "import pandas as pd\n",
    "import numpy as np\n",
    "import seaborn as sns\n",
    "import matplotlib.pyplot as plt\n",
    "import plotly.express as px"
   ]
  },
  {
   "cell_type": "code",
   "execution_count": 2,
   "metadata": {},
   "outputs": [],
   "source": [
    "html_start = \"\"\"<!DOCTYPE html>\n",
    "<html lang=\"en\">\n",
    "<head>\n",
    "    <meta charset=\"UTF-8\">\n",
    "    <meta name=\"viewport\" content=\"width=device-width, initial-scale=1.0\">\n",
    "    <meta http-equiv=\"X-UA-Compatible\" content=\"ie=edge\">\n",
    "    <title>Companies</title>\n",
    "    <link rel=\"stylesheet\" href=\"https://stackpath.bootstrapcdn.com/bootstrap/4.3.1/css/bootstrap.min.css\" integrity=\"sha384-ggOyR0iXCbMQv3Xipma34MD+dH/1fQ784/j6cY/iJTQUOhcWr7x9JvoRxT2MZw1T\" crossorigin=\"anonymous\">\n",
    "    <script src=\"https://code.jquery.com/jquery-3.3.1.slim.min.js\" integrity=\"sha384-q8i/X+965DzO0rT7abK41JStQIAqVgRVzpbzo5smXKp4YfRvH+8abtTE1Pi6jizo\" crossorigin=\"anonymous\"></script>\n",
    " <style>\n",
    "    body {\n",
    "      background-color: rgb(41, 41, 46);\n",
    "    }\n",
    "\n",
    "    .links {\n",
    "      text-decoration: none;\n",
    "      color: rgb(135, 192, 241);\n",
    "    }\n",
    "  </style>\n",
    "</head>\n",
    "<body>\n",
    "    <div class=\"container-fluid\">\n",
    "        <h1 class=\"px-3 py-2 text-center text-light\">Companies</h1>\"\"\""
   ]
  },
  {
   "cell_type": "code",
   "execution_count": 3,
   "metadata": {},
   "outputs": [],
   "source": [
    "c = pd.read_csv('Companies_to_Look_For_P.csv')\n",
    "c.dropna(inplace=True, thresh=5)"
   ]
  },
  {
   "cell_type": "code",
   "execution_count": 4,
   "metadata": {},
   "outputs": [],
   "source": [
    "c[\"CTC\"] = c[\"Salary\"].apply(lambda x: float(x.split(\" \")[0]))\n",
    "c[\"Base Salary\"] = c[\"Salary\"].apply(lambda x: float(x.split(\" \")[1]))"
   ]
  },
  {
   "cell_type": "code",
   "execution_count": 5,
   "metadata": {},
   "outputs": [],
   "source": [
    "c.drop(columns=[\"Salary\"], inplace=True)"
   ]
  },
  {
   "cell_type": "code",
   "execution_count": 6,
   "metadata": {},
   "outputs": [],
   "source": [
    "c[\"Preference\"] = c[\"Preference\"].astype(int)\n",
    "c[\"Positions\"] = c[\"Positions\"].astype(int)"
   ]
  },
  {
   "cell_type": "code",
   "execution_count": 7,
   "metadata": {},
   "outputs": [],
   "source": [
    "c.sort_values(by=[\"Preference\", \"CTC\", \"Positions\"], inplace=True, ascending=[True, False, False])"
   ]
  },
  {
   "cell_type": "code",
   "execution_count": 8,
   "metadata": {},
   "outputs": [
    {
     "data": {
      "text/html": [
       "<div>\n",
       "<style scoped>\n",
       "    .dataframe tbody tr th:only-of-type {\n",
       "        vertical-align: middle;\n",
       "    }\n",
       "\n",
       "    .dataframe tbody tr th {\n",
       "        vertical-align: top;\n",
       "    }\n",
       "\n",
       "    .dataframe thead th {\n",
       "        text-align: right;\n",
       "    }\n",
       "</style>\n",
       "<table border=\"1\" class=\"dataframe\">\n",
       "  <thead>\n",
       "    <tr style=\"text-align: right;\">\n",
       "      <th></th>\n",
       "      <th>Company</th>\n",
       "      <th>Designation</th>\n",
       "      <th>Profile</th>\n",
       "      <th>Location</th>\n",
       "      <th>Preference</th>\n",
       "      <th>Apllied</th>\n",
       "      <th>Current Status</th>\n",
       "      <th>Remarks</th>\n",
       "      <th>Positions</th>\n",
       "      <th>CTC</th>\n",
       "      <th>Base Salary</th>\n",
       "    </tr>\n",
       "  </thead>\n",
       "  <tbody>\n",
       "    <tr>\n",
       "      <th>1</th>\n",
       "      <td>Javis</td>\n",
       "      <td>Machine Learning Engineer</td>\n",
       "      <td>Analyst</td>\n",
       "      <td>Bangalore Mumbai Gurgaon</td>\n",
       "      <td>1</td>\n",
       "      <td>Y</td>\n",
       "      <td>Applied</td>\n",
       "      <td>Applied;</td>\n",
       "      <td>2</td>\n",
       "      <td>36.0</td>\n",
       "      <td>20.0</td>\n",
       "    </tr>\n",
       "    <tr>\n",
       "      <th>2</th>\n",
       "      <td>PayU</td>\n",
       "      <td>Associate Data Scientist</td>\n",
       "      <td>Analyst</td>\n",
       "      <td>Bangalore Gurgaon</td>\n",
       "      <td>1</td>\n",
       "      <td>Y</td>\n",
       "      <td>Coding Test Done on 12 Oct</td>\n",
       "      <td>Applied;Coding Test on 12 Oct;</td>\n",
       "      <td>5</td>\n",
       "      <td>22.0</td>\n",
       "      <td>18.0</td>\n",
       "    </tr>\n",
       "    <tr>\n",
       "      <th>3</th>\n",
       "      <td>FourthFrontier</td>\n",
       "      <td>Data Scientist</td>\n",
       "      <td>Analyst</td>\n",
       "      <td>Bangalore</td>\n",
       "      <td>1</td>\n",
       "      <td>NaN</td>\n",
       "      <td>NaN</td>\n",
       "      <td>NaN</td>\n",
       "      <td>1</td>\n",
       "      <td>22.0</td>\n",
       "      <td>22.0</td>\n",
       "    </tr>\n",
       "    <tr>\n",
       "      <th>4</th>\n",
       "      <td>SLB</td>\n",
       "      <td>Data Scientist</td>\n",
       "      <td>Analyst</td>\n",
       "      <td>Pune</td>\n",
       "      <td>1</td>\n",
       "      <td>NaN</td>\n",
       "      <td>NaN</td>\n",
       "      <td>NaN</td>\n",
       "      <td>3</td>\n",
       "      <td>16.0</td>\n",
       "      <td>15.0</td>\n",
       "    </tr>\n",
       "    <tr>\n",
       "      <th>5</th>\n",
       "      <td>SLB</td>\n",
       "      <td>Machine Learning Engineer</td>\n",
       "      <td>Analyst</td>\n",
       "      <td>Pune</td>\n",
       "      <td>1</td>\n",
       "      <td>NaN</td>\n",
       "      <td>NaN</td>\n",
       "      <td>NaN</td>\n",
       "      <td>2</td>\n",
       "      <td>16.0</td>\n",
       "      <td>15.0</td>\n",
       "    </tr>\n",
       "  </tbody>\n",
       "</table>\n",
       "</div>"
      ],
      "text/plain": [
       "          Company                Designation  Profile  \\\n",
       "1           Javis  Machine Learning Engineer  Analyst   \n",
       "2            PayU   Associate Data Scientist  Analyst   \n",
       "3  FourthFrontier             Data Scientist  Analyst   \n",
       "4             SLB             Data Scientist  Analyst   \n",
       "5             SLB  Machine Learning Engineer  Analyst   \n",
       "\n",
       "                   Location  Preference Apllied              Current Status  \\\n",
       "1  Bangalore Mumbai Gurgaon           1       Y                     Applied   \n",
       "2         Bangalore Gurgaon           1       Y  Coding Test Done on 12 Oct   \n",
       "3                 Bangalore           1     NaN                         NaN   \n",
       "4                      Pune           1     NaN                         NaN   \n",
       "5                      Pune           1     NaN                         NaN   \n",
       "\n",
       "                          Remarks  Positions   CTC  Base Salary  \n",
       "1                        Applied;          2  36.0         20.0  \n",
       "2  Applied;Coding Test on 12 Oct;          5  22.0         18.0  \n",
       "3                             NaN          1  22.0         22.0  \n",
       "4                             NaN          3  16.0         15.0  \n",
       "5                             NaN          2  16.0         15.0  "
      ]
     },
     "execution_count": 8,
     "metadata": {},
     "output_type": "execute_result"
    }
   ],
   "source": [
    "c.reset_index(inplace=True, drop=True)\n",
    "c.set_index(np.arange(1, len(c) + 1), inplace=True)\n",
    "c.head()"
   ]
  },
  {
   "cell_type": "code",
   "execution_count": 9,
   "metadata": {},
   "outputs": [],
   "source": [
    "html_start+= c.to_html(classes='table table-striped table-hover table-bordered table-dark', index=True, justify='center', border=0, escape=False)\n",
    "html_start = html_start.replace(\"\"\" style=\"text-align: right;\">\"\"\", \">\")\n",
    "html_start = html_start.replace(\"\"\"border=\"1\" \"\"\", \"\")\n",
    "html_start = html_start.replace(\"dataframe\", \"\")\n",
    "html_start+=\"</div></body></html>\""
   ]
  },
  {
   "cell_type": "code",
   "execution_count": 10,
   "metadata": {},
   "outputs": [],
   "source": [
    "with open(\"index.html\", \"w\") as f:\n",
    "    f.write(html_start)"
   ]
  },
  {
   "cell_type": "code",
   "execution_count": 11,
   "metadata": {},
   "outputs": [
    {
     "data": {
      "text/plain": [
       "75"
      ]
     },
     "execution_count": 11,
     "metadata": {},
     "output_type": "execute_result"
    }
   ],
   "source": [
    "len(c)"
   ]
  },
  {
   "cell_type": "markdown",
   "metadata": {},
   "source": [
    "# Some Visualizations"
   ]
  },
  {
   "cell_type": "code",
   "execution_count": 12,
   "metadata": {},
   "outputs": [],
   "source": [
    "pref = [1,2,3,4,5]\n",
    "num_companies = [len(c[c[\"Preference\"] <= i]) for i in pref]"
   ]
  },
  {
   "cell_type": "code",
   "execution_count": 13,
   "metadata": {},
   "outputs": [
    {
     "data": {
      "application/vnd.jupyter.widget-view+json": {
       "model_id": "6be2c2445acd4532865217c2eb1910a8",
       "version_major": 2,
       "version_minor": 0
      },
      "image/png": "[encoded data removed]",
      "text/html": [
       "\n",
       "            <div style=\"display: inline-block;\">\n",
       "                <div class=\"jupyter-widgets widget-label\" style=\"text-align: center;\">\n",
       "                    Figure\n",
       "                </div>\n",
       "                <img src='data:image/png;base64,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' width=640.0/>\n",
       "            </div>\n",
       "        "
      ],
      "text/plain": [
       "Canvas(toolbar=Toolbar(toolitems=[('Home', 'Reset original view', 'home', 'home'), ('Back', 'Back to previous …"
      ]
     },
     "metadata": {},
     "output_type": "display_data"
    }
   ],
   "source": [
    "%matplotlib widget\n",
    "# plt.figure(figsize=(10, 7))\n",
    "sns.barplot(x=pref, y=num_companies)\n",
    "plt.title(\"Number of Companies\")\n",
    "plt.xlabel(\"Preference\")\n",
    "plt.ylabel(\"Number of Companies\");"
   ]
  },
  {
   "cell_type": "code",
   "execution_count": 14,
   "metadata": {},
   "outputs": [
    {
     "data": {
      "application/vnd.plotly.v1+json": {
       "config": {
        "plotlyServerURL": "https://plot.ly"
       },
       "data": [
        {
         "alignmentgroup": "True",
         "hovertemplate": "Preference=%{x}<br>Number of Companies=%{y}<br>color=%{marker.color}<extra></extra>",
         "legendgroup": "",
         "marker": {
          "color": [
           5,
           20,
           51,
           72,
           75
          ],
          "coloraxis": "coloraxis",
          "pattern": {
           "shape": ""
          }
         },
         "name": "",
         "offsetgroup": "",
         "orientation": "v",
         "showlegend": false,
         "textposition": "auto",
         "type": "bar",
         "x": [
          1,
          2,
          3,
          4,
          5
         ],
         "xaxis": "x",
         "y": [
          5,
          20,
          51,
          72,
          75
         ],
         "yaxis": "y"
        }
       ],
       "layout": {
        "barmode": "relative",
        "coloraxis": {
         "colorbar": {
          "title": {
           "text": "color"
          }
         },
         "colorscale": [
          [
           0,
           "#0d0887"
          ],
          [
           0.1111111111111111,
           "#46039f"
          ],
          [
           0.2222222222222222,
           "#7201a8"
          ],
          [
           0.3333333333333333,
           "#9c179e"
          ],
          [
           0.4444444444444444,
           "#bd3786"
          ],
          [
           0.5555555555555556,
           "#d8576b"
          ],
          [
           0.6666666666666666,
           "#ed7953"
          ],
          [
           0.7777777777777778,
           "#fb9f3a"
          ],
          [
           0.8888888888888888,
           "#fdca26"
          ],
          [
           1,
           "#f0f921"
          ]
         ]
        },
        "legend": {
         "tracegroupgap": 0
        },
        "margin": {
         "t": 60
        },
        "template": {
         "data": {
          "bar": [
           {
            "error_x": {
             "color": "#2a3f5f"
            },
            "error_y": {
             "color": "#2a3f5f"
            },
            "marker": {
             "line": {
              "color": "#E5ECF6",
              "width": 0.5
             },
             "pattern": {
              "fillmode": "overlay",
              "size": 10,
              "solidity": 0.2
             }
            },
            "type": "bar"
           }
          ],
          "barpolar": [
           {
            "marker": {
             "line": {
              "color": "#E5ECF6",
              "width": 0.5
             },
             "pattern": {
              "fillmode": "overlay",
              "size": 10,
              "solidity": 0.2
             }
            },
            "type": "barpolar"
           }
          ],
          "carpet": [
           {
            "aaxis": {
             "endlinecolor": "#2a3f5f",
             "gridcolor": "white",
             "linecolor": "white",
             "minorgridcolor": "white",
             "startlinecolor": "#2a3f5f"
            },
            "baxis": {
             "endlinecolor": "#2a3f5f",
             "gridcolor": "white",
             "linecolor": "white",
             "minorgridcolor": "white",
             "startlinecolor": "#2a3f5f"
            },
            "type": "carpet"
           }
          ],
          "choropleth": [
           {
            "colorbar": {
             "outlinewidth": 0,
             "ticks": ""
            },
            "type": "choropleth"
           }
          ],
          "contour": [
           {
            "colorbar": {
             "outlinewidth": 0,
             "ticks": ""
            },
            "colorscale": [
             [
              0,
              "#0d0887"
             ],
             [
              0.1111111111111111,
              "#46039f"
             ],
             [
              0.2222222222222222,
              "#7201a8"
             ],
             [
              0.3333333333333333,
              "#9c179e"
             ],
             [
              0.4444444444444444,
              "#bd3786"
             ],
             [
              0.5555555555555556,
              "#d8576b"
             ],
             [
              0.6666666666666666,
              "#ed7953"
             ],
             [
              0.7777777777777778,
              "#fb9f3a"
             ],
             [
              0.8888888888888888,
              "#fdca26"
             ],
             [
              1,
              "#f0f921"
             ]
            ],
            "type": "contour"
           }
          ],
          "contourcarpet": [
           {
            "colorbar": {
             "outlinewidth": 0,
             "ticks": ""
            },
            "type": "contourcarpet"
           }
          ],
          "heatmap": [
           {
            "colorbar": {
             "outlinewidth": 0,
             "ticks": ""
            },
            "colorscale": [
             [
              0,
              "#0d0887"
             ],
             [
              0.1111111111111111,
              "#46039f"
             ],
             [
              0.2222222222222222,
              "#7201a8"
             ],
             [
              0.3333333333333333,
              "#9c179e"
             ],
             [
              0.4444444444444444,
              "#bd3786"
             ],
             [
              0.5555555555555556,
              "#d8576b"
             ],
             [
              0.6666666666666666,
              "#ed7953"
             ],
             [
              0.7777777777777778,
              "#fb9f3a"
             ],
             [
              0.8888888888888888,
              "#fdca26"
             ],
             [
              1,
              "#f0f921"
             ]
            ],
            "type": "heatmap"
           }
          ],
          "heatmapgl": [
           {
            "colorbar": {
             "outlinewidth": 0,
             "ticks": ""
            },
            "colorscale": [
             [
              0,
              "#0d0887"
             ],
             [
              0.1111111111111111,
              "#46039f"
             ],
             [
              0.2222222222222222,
              "#7201a8"
             ],
             [
              0.3333333333333333,
              "#9c179e"
             ],
             [
              0.4444444444444444,
              "#bd3786"
             ],
             [
              0.5555555555555556,
              "#d8576b"
             ],
             [
              0.6666666666666666,
              "#ed7953"
             ],
             [
              0.7777777777777778,
              "#fb9f3a"
             ],
             [
              0.8888888888888888,
              "#fdca26"
             ],
             [
              1,
              "#f0f921"
             ]
            ],
            "type": "heatmapgl"
           }
          ],
          "histogram": [
           {
            "marker": {
             "pattern": {
              "fillmode": "overlay",
              "size": 10,
              "solidity": 0.2
             }
            },
            "type": "histogram"
           }
          ],
          "histogram2d": [
           {
            "colorbar": {
             "outlinewidth": 0,
             "ticks": ""
            },
            "colorscale": [
             [
              0,
              "#0d0887"
             ],
             [
              0.1111111111111111,
              "#46039f"
             ],
             [
              0.2222222222222222,
              "#7201a8"
             ],
             [
              0.3333333333333333,
              "#9c179e"
             ],
             [
              0.4444444444444444,
              "#bd3786"
             ],
             [
              0.5555555555555556,
              "#d8576b"
             ],
             [
              0.6666666666666666,
              "#ed7953"
             ],
             [
              0.7777777777777778,
              "#fb9f3a"
             ],
             [
              0.8888888888888888,
              "#fdca26"
             ],
             [
              1,
              "#f0f921"
             ]
            ],
            "type": "histogram2d"
           }
          ],
          "histogram2dcontour": [
           {
            "colorbar": {
             "outlinewidth": 0,
             "ticks": ""
            },
            "colorscale": [
             [
              0,
              "#0d0887"
             ],
             [
              0.1111111111111111,
              "#46039f"
             ],
             [
              0.2222222222222222,
              "#7201a8"
             ],
             [
              0.3333333333333333,
              "#9c179e"
             ],
             [
              0.4444444444444444,
              "#bd3786"
             ],
             [
              0.5555555555555556,
              "#d8576b"
             ],
             [
              0.6666666666666666,
              "#ed7953"
             ],
             [
              0.7777777777777778,
              "#fb9f3a"
             ],
             [
              0.8888888888888888,
              "#fdca26"
             ],
             [
              1,
              "#f0f921"
             ]
            ],
            "type": "histogram2dcontour"
           }
          ],
          "mesh3d": [
           {
            "colorbar": {
             "outlinewidth": 0,
             "ticks": ""
            },
            "type": "mesh3d"
           }
          ],
          "parcoords": [
           {
            "line": {
             "colorbar": {
              "outlinewidth": 0,
              "ticks": ""
             }
            },
            "type": "parcoords"
           }
          ],
          "pie": [
           {
            "automargin": true,
            "type": "pie"
           }
          ],
          "scatter": [
           {
            "fillpattern": {
             "fillmode": "overlay",
             "size": 10,
             "solidity": 0.2
            },
            "type": "scatter"
           }
          ],
          "scatter3d": [
           {
            "line": {
             "colorbar": {
              "outlinewidth": 0,
              "ticks": ""
             }
            },
            "marker": {
             "colorbar": {
              "outlinewidth": 0,
              "ticks": ""
             }
            },
            "type": "scatter3d"
           }
          ],
          "scattercarpet": [
           {
            "marker": {
             "colorbar": {
              "outlinewidth": 0,
              "ticks": ""
             }
            },
            "type": "scattercarpet"
           }
          ],
          "scattergeo": [
           {
            "marker": {
             "colorbar": {
              "outlinewidth": 0,
              "ticks": ""
             }
            },
            "type": "scattergeo"
           }
          ],
          "scattergl": [
           {
            "marker": {
             "colorbar": {
              "outlinewidth": 0,
              "ticks": ""
             }
            },
            "type": "scattergl"
           }
          ],
          "scattermapbox": [
           {
            "marker": {
             "colorbar": {
              "outlinewidth": 0,
              "ticks": ""
             }
            },
            "type": "scattermapbox"
           }
          ],
          "scatterpolar": [
           {
            "marker": {
             "colorbar": {
              "outlinewidth": 0,
              "ticks": ""
             }
            },
            "type": "scatterpolar"
           }
          ],
          "scatterpolargl": [
           {
            "marker": {
             "colorbar": {
              "outlinewidth": 0,
              "ticks": ""
             }
            },
            "type": "scatterpolargl"
           }
          ],
          "scatterternary": [
           {
            "marker": {
             "colorbar": {
              "outlinewidth": 0,
              "ticks": ""
             }
            },
            "type": "scatterternary"
           }
          ],
          "surface": [
           {
            "colorbar": {
             "outlinewidth": 0,
             "ticks": ""
            },
            "colorscale": [
             [
              0,
              "#0d0887"
             ],
             [
              0.1111111111111111,
              "#46039f"
             ],
             [
              0.2222222222222222,
              "#7201a8"
             ],
             [
              0.3333333333333333,
              "#9c179e"
             ],
             [
              0.4444444444444444,
              "#bd3786"
             ],
             [
              0.5555555555555556,
              "#d8576b"
             ],
             [
              0.6666666666666666,
              "#ed7953"
             ],
             [
              0.7777777777777778,
              "#fb9f3a"
             ],
             [
              0.8888888888888888,
              "#fdca26"
             ],
             [
              1,
              "#f0f921"
             ]
            ],
            "type": "surface"
           }
          ],
          "table": [
           {
            "cells": {
             "fill": {
              "color": "#EBF0F8"
             },
             "line": {
              "color": "white"
             }
            },
            "header": {
             "fill": {
              "color": "#C8D4E3"
             },
             "line": {
              "color": "white"
             }
            },
            "type": "table"
           }
          ]
         },
         "layout": {
          "annotationdefaults": {
           "arrowcolor": "#2a3f5f",
           "arrowhead": 0,
           "arrowwidth": 1
          },
          "autotypenumbers": "strict",
          "coloraxis": {
           "colorbar": {
            "outlinewidth": 0,
            "ticks": ""
           }
          },
          "colorscale": {
           "diverging": [
            [
             0,
             "#8e0152"
            ],
            [
             0.1,
             "#c51b7d"
            ],
            [
             0.2,
             "#de77ae"
            ],
            [
             0.3,
             "#f1b6da"
            ],
            [
             0.4,
             "#fde0ef"
            ],
            [
             0.5,
             "#f7f7f7"
            ],
            [
             0.6,
             "#e6f5d0"
            ],
            [
             0.7,
             "#b8e186"
            ],
            [
             0.8,
             "#7fbc41"
            ],
            [
             0.9,
             "#4d9221"
            ],
            [
             1,
             "#276419"
            ]
           ],
           "sequential": [
            [
             0,
             "#0d0887"
            ],
            [
             0.1111111111111111,
             "#46039f"
            ],
            [
             0.2222222222222222,
             "#7201a8"
            ],
            [
             0.3333333333333333,
             "#9c179e"
            ],
            [
             0.4444444444444444,
             "#bd3786"
            ],
            [
             0.5555555555555556,
             "#d8576b"
            ],
            [
             0.6666666666666666,
             "#ed7953"
            ],
            [
             0.7777777777777778,
             "#fb9f3a"
            ],
            [
             0.8888888888888888,
             "#fdca26"
            ],
            [
             1,
             "#f0f921"
            ]
           ],
           "sequentialminus": [
            [
             0,
             "#0d0887"
            ],
            [
             0.1111111111111111,
             "#46039f"
            ],
            [
             0.2222222222222222,
             "#7201a8"
            ],
            [
             0.3333333333333333,
             "#9c179e"
            ],
            [
             0.4444444444444444,
             "#bd3786"
            ],
            [
             0.5555555555555556,
             "#d8576b"
            ],
            [
             0.6666666666666666,
             "#ed7953"
            ],
            [
             0.7777777777777778,
             "#fb9f3a"
            ],
            [
             0.8888888888888888,
             "#fdca26"
            ],
            [
             1,
             "#f0f921"
            ]
           ]
          },
          "colorway": [
           "#636efa",
           "#EF553B",
           "#00cc96",
           "#ab63fa",
           "#FFA15A",
           "#19d3f3",
           "#FF6692",
           "#B6E880",
           "#FF97FF",
           "#FECB52"
          ],
          "font": {
           "color": "#2a3f5f"
          },
          "geo": {
           "bgcolor": "white",
           "lakecolor": "white",
           "landcolor": "#E5ECF6",
           "showlakes": true,
           "showland": true,
           "subunitcolor": "white"
          },
          "hoverlabel": {
           "align": "left"
          },
          "hovermode": "closest",
          "mapbox": {
           "style": "light"
          },
          "paper_bgcolor": "white",
          "plot_bgcolor": "#E5ECF6",
          "polar": {
           "angularaxis": {
            "gridcolor": "white",
            "linecolor": "white",
            "ticks": ""
           },
           "bgcolor": "#E5ECF6",
           "radialaxis": {
            "gridcolor": "white",
            "linecolor": "white",
            "ticks": ""
           }
          },
          "scene": {
           "xaxis": {
            "backgroundcolor": "#E5ECF6",
            "gridcolor": "white",
            "gridwidth": 2,
            "linecolor": "white",
            "showbackground": true,
            "ticks": "",
            "zerolinecolor": "white"
           },
           "yaxis": {
            "backgroundcolor": "#E5ECF6",
            "gridcolor": "white",
            "gridwidth": 2,
            "linecolor": "white",
            "showbackground": true,
            "ticks": "",
            "zerolinecolor": "white"
           },
           "zaxis": {
            "backgroundcolor": "#E5ECF6",
            "gridcolor": "white",
            "gridwidth": 2,
            "linecolor": "white",
            "showbackground": true,
            "ticks": "",
            "zerolinecolor": "white"
           }
          },
          "shapedefaults": {
           "line": {
            "color": "#2a3f5f"
           }
          },
          "ternary": {
           "aaxis": {
            "gridcolor": "white",
            "linecolor": "white",
            "ticks": ""
           },
           "baxis": {
            "gridcolor": "white",
            "linecolor": "white",
            "ticks": ""
           },
           "bgcolor": "#E5ECF6",
           "caxis": {
            "gridcolor": "white",
            "linecolor": "white",
            "ticks": ""
           }
          },
          "title": {
           "x": 0.05
          },
          "xaxis": {
           "automargin": true,
           "gridcolor": "white",
           "linecolor": "white",
           "ticks": "",
           "title": {
            "standoff": 15
           },
           "zerolinecolor": "white",
           "zerolinewidth": 2
          },
          "yaxis": {
           "automargin": true,
           "gridcolor": "white",
           "linecolor": "white",
           "ticks": "",
           "title": {
            "standoff": 15
           },
           "zerolinecolor": "white",
           "zerolinewidth": 2
          }
         }
        },
        "title": {
         "text": "Number of Companies"
        },
        "xaxis": {
         "anchor": "y",
         "domain": [
          0,
          1
         ],
         "title": {
          "text": "Preference"
         }
        },
        "yaxis": {
         "anchor": "x",
         "domain": [
          0,
          1
         ],
         "title": {
          "text": "Number of Companies"
         }
        }
       }
      }
     },
     "metadata": {},
     "output_type": "display_data"
    }
   ],
   "source": [
    "fig = px.bar(x=pref, y=num_companies, labels={\"x\": \"Preference\", \"y\": \"Number of Companies\"}, color = num_companies)\n",
    "fig.update_layout(title=\"Number of Companies\")\n",
    "fig.show()"
   ]
  },
  {
   "cell_type": "code",
   "execution_count": 15,
   "metadata": {},
   "outputs": [
    {
     "data": {
      "application/vnd.plotly.v1+json": {
       "config": {
        "plotlyServerURL": "https://plot.ly"
       },
       "data": [
        {
         "alignmentgroup": "True",
         "hovertemplate": "color=Analyst<br>Profile=%{x}<br>Number of Companies=%{y}<extra></extra>",
         "legendgroup": "Analyst",
         "marker": {
          "color": "#636efa",
          "pattern": {
           "shape": ""
          }
         },
         "name": "Analyst",
         "offsetgroup": "Analyst",
         "orientation": "v",
         "showlegend": true,
         "textposition": "auto",
         "type": "bar",
         "x": [
          "Analyst"
         ],
         "xaxis": "x",
         "y": [
          38
         ],
         "yaxis": "y"
        },
        {
         "alignmentgroup": "True",
         "hovertemplate": "color=IT<br>Profile=%{x}<br>Number of Companies=%{y}<extra></extra>",
         "legendgroup": "IT",
         "marker": {
          "color": "#EF553B",
          "pattern": {
           "shape": ""
          }
         },
         "name": "IT",
         "offsetgroup": "IT",
         "orientation": "v",
         "showlegend": true,
         "textposition": "auto",
         "type": "bar",
         "x": [
          "IT"
         ],
         "xaxis": "x",
         "y": [
          26
         ],
         "yaxis": "y"
        },
        {
         "alignmentgroup": "True",
         "hovertemplate": "color=Management<br>Profile=%{x}<br>Number of Companies=%{y}<extra></extra>",
         "legendgroup": "Management",
         "marker": {
          "color": "#00cc96",
          "pattern": {
           "shape": ""
          }
         },
         "name": "Management",
         "offsetgroup": "Management",
         "orientation": "v",
         "showlegend": true,
         "textposition": "auto",
         "type": "bar",
         "x": [
          "Management"
         ],
         "xaxis": "x",
         "y": [
          4
         ],
         "yaxis": "y"
        },
        {
         "alignmentgroup": "True",
         "hovertemplate": "color=IT (ML)<br>Profile=%{x}<br>Number of Companies=%{y}<extra></extra>",
         "legendgroup": "IT (ML)",
         "marker": {
          "color": "#ab63fa",
          "pattern": {
           "shape": ""
          }
         },
         "name": "IT (ML)",
         "offsetgroup": "IT (ML)",
         "orientation": "v",
         "showlegend": true,
         "textposition": "auto",
         "type": "bar",
         "x": [
          "IT (ML)"
         ],
         "xaxis": "x",
         "y": [
          2
         ],
         "yaxis": "y"
        },
        {
         "alignmentgroup": "True",
         "hovertemplate": "color=Finance<br>Profile=%{x}<br>Number of Companies=%{y}<extra></extra>",
         "legendgroup": "Finance",
         "marker": {
          "color": "#FFA15A",
          "pattern": {
           "shape": ""
          }
         },
         "name": "Finance",
         "offsetgroup": "Finance",
         "orientation": "v",
         "showlegend": true,
         "textposition": "auto",
         "type": "bar",
         "x": [
          "Finance"
         ],
         "xaxis": "x",
         "y": [
          2
         ],
         "yaxis": "y"
        },
        {
         "alignmentgroup": "True",
         "hovertemplate": "color=Core<br>Profile=%{x}<br>Number of Companies=%{y}<extra></extra>",
         "legendgroup": "Core",
         "marker": {
          "color": "#19d3f3",
          "pattern": {
           "shape": ""
          }
         },
         "name": "Core",
         "offsetgroup": "Core",
         "orientation": "v",
         "showlegend": true,
         "textposition": "auto",
         "type": "bar",
         "x": [
          "Core"
         ],
         "xaxis": "x",
         "y": [
          2
         ],
         "yaxis": "y"
        },
        {
         "alignmentgroup": "True",
         "hovertemplate": "color=Other<br>Profile=%{x}<br>Number of Companies=%{y}<extra></extra>",
         "legendgroup": "Other",
         "marker": {
          "color": "#FF6692",
          "pattern": {
           "shape": ""
          }
         },
         "name": "Other",
         "offsetgroup": "Other",
         "orientation": "v",
         "showlegend": true,
         "textposition": "auto",
         "type": "bar",
         "x": [
          "Other"
         ],
         "xaxis": "x",
         "y": [
          1
         ],
         "yaxis": "y"
        }
       ],
       "layout": {
        "barmode": "relative",
        "legend": {
         "title": {
          "text": "color"
         },
         "tracegroupgap": 0
        },
        "margin": {
         "t": 60
        },
        "template": {
         "data": {
          "bar": [
           {
            "error_x": {
             "color": "#2a3f5f"
            },
            "error_y": {
             "color": "#2a3f5f"
            },
            "marker": {
             "line": {
              "color": "#E5ECF6",
              "width": 0.5
             },
             "pattern": {
              "fillmode": "overlay",
              "size": 10,
              "solidity": 0.2
             }
            },
            "type": "bar"
           }
          ],
          "barpolar": [
           {
            "marker": {
             "line": {
              "color": "#E5ECF6",
              "width": 0.5
             },
             "pattern": {
              "fillmode": "overlay",
              "size": 10,
              "solidity": 0.2
             }
            },
            "type": "barpolar"
           }
          ],
          "carpet": [
           {
            "aaxis": {
             "endlinecolor": "#2a3f5f",
             "gridcolor": "white",
             "linecolor": "white",
             "minorgridcolor": "white",
             "startlinecolor": "#2a3f5f"
            },
            "baxis": {
             "endlinecolor": "#2a3f5f",
             "gridcolor": "white",
             "linecolor": "white",
             "minorgridcolor": "white",
             "startlinecolor": "#2a3f5f"
            },
            "type": "carpet"
           }
          ],
          "choropleth": [
           {
            "colorbar": {
             "outlinewidth": 0,
             "ticks": ""
            },
            "type": "choropleth"
           }
          ],
          "contour": [
           {
            "colorbar": {
             "outlinewidth": 0,
             "ticks": ""
            },
            "colorscale": [
             [
              0,
              "#0d0887"
             ],
             [
              0.1111111111111111,
              "#46039f"
             ],
             [
              0.2222222222222222,
              "#7201a8"
             ],
             [
              0.3333333333333333,
              "#9c179e"
             ],
             [
              0.4444444444444444,
              "#bd3786"
             ],
             [
              0.5555555555555556,
              "#d8576b"
             ],
             [
              0.6666666666666666,
              "#ed7953"
             ],
             [
              0.7777777777777778,
              "#fb9f3a"
             ],
             [
              0.8888888888888888,
              "#fdca26"
             ],
             [
              1,
              "#f0f921"
             ]
            ],
            "type": "contour"
           }
          ],
          "contourcarpet": [
           {
            "colorbar": {
             "outlinewidth": 0,
             "ticks": ""
            },
            "type": "contourcarpet"
           }
          ],
          "heatmap": [
           {
            "colorbar": {
             "outlinewidth": 0,
             "ticks": ""
            },
            "colorscale": [
             [
              0,
              "#0d0887"
             ],
             [
              0.1111111111111111,
              "#46039f"
             ],
             [
              0.2222222222222222,
              "#7201a8"
             ],
             [
              0.3333333333333333,
              "#9c179e"
             ],
             [
              0.4444444444444444,
              "#bd3786"
             ],
             [
              0.5555555555555556,
              "#d8576b"
             ],
             [
              0.6666666666666666,
              "#ed7953"
             ],
             [
              0.7777777777777778,
              "#fb9f3a"
             ],
             [
              0.8888888888888888,
              "#fdca26"
             ],
             [
              1,
              "#f0f921"
             ]
            ],
            "type": "heatmap"
           }
          ],
          "heatmapgl": [
           {
            "colorbar": {
             "outlinewidth": 0,
             "ticks": ""
            },
            "colorscale": [
             [
              0,
              "#0d0887"
             ],
             [
              0.1111111111111111,
              "#46039f"
             ],
             [
              0.2222222222222222,
              "#7201a8"
             ],
             [
              0.3333333333333333,
              "#9c179e"
             ],
             [
              0.4444444444444444,
              "#bd3786"
             ],
             [
              0.5555555555555556,
              "#d8576b"
             ],
             [
              0.6666666666666666,
              "#ed7953"
             ],
             [
              0.7777777777777778,
              "#fb9f3a"
             ],
             [
              0.8888888888888888,
              "#fdca26"
             ],
             [
              1,
              "#f0f921"
             ]
            ],
            "type": "heatmapgl"
           }
          ],
          "histogram": [
           {
            "marker": {
             "pattern": {
              "fillmode": "overlay",
              "size": 10,
              "solidity": 0.2
             }
            },
            "type": "histogram"
           }
          ],
          "histogram2d": [
           {
            "colorbar": {
             "outlinewidth": 0,
             "ticks": ""
            },
            "colorscale": [
             [
              0,
              "#0d0887"
             ],
             [
              0.1111111111111111,
              "#46039f"
             ],
             [
              0.2222222222222222,
              "#7201a8"
             ],
             [
              0.3333333333333333,
              "#9c179e"
             ],
             [
              0.4444444444444444,
              "#bd3786"
             ],
             [
              0.5555555555555556,
              "#d8576b"
             ],
             [
              0.6666666666666666,
              "#ed7953"
             ],
             [
              0.7777777777777778,
              "#fb9f3a"
             ],
             [
              0.8888888888888888,
              "#fdca26"
             ],
             [
              1,
              "#f0f921"
             ]
            ],
            "type": "histogram2d"
           }
          ],
          "histogram2dcontour": [
           {
            "colorbar": {
             "outlinewidth": 0,
             "ticks": ""
            },
            "colorscale": [
             [
              0,
              "#0d0887"
             ],
             [
              0.1111111111111111,
              "#46039f"
             ],
             [
              0.2222222222222222,
              "#7201a8"
             ],
             [
              0.3333333333333333,
              "#9c179e"
             ],
             [
              0.4444444444444444,
              "#bd3786"
             ],
             [
              0.5555555555555556,
              "#d8576b"
             ],
             [
              0.6666666666666666,
              "#ed7953"
             ],
             [
              0.7777777777777778,
              "#fb9f3a"
             ],
             [
              0.8888888888888888,
              "#fdca26"
             ],
             [
              1,
              "#f0f921"
             ]
            ],
            "type": "histogram2dcontour"
           }
          ],
          "mesh3d": [
           {
            "colorbar": {
             "outlinewidth": 0,
             "ticks": ""
            },
            "type": "mesh3d"
           }
          ],
          "parcoords": [
           {
            "line": {
             "colorbar": {
              "outlinewidth": 0,
              "ticks": ""
             }
            },
            "type": "parcoords"
           }
          ],
          "pie": [
           {
            "automargin": true,
            "type": "pie"
           }
          ],
          "scatter": [
           {
            "fillpattern": {
             "fillmode": "overlay",
             "size": 10,
             "solidity": 0.2
            },
            "type": "scatter"
           }
          ],
          "scatter3d": [
           {
            "line": {
             "colorbar": {
              "outlinewidth": 0,
              "ticks": ""
             }
            },
            "marker": {
             "colorbar": {
              "outlinewidth": 0,
              "ticks": ""
             }
            },
            "type": "scatter3d"
           }
          ],
          "scattercarpet": [
           {
            "marker": {
             "colorbar": {
              "outlinewidth": 0,
              "ticks": ""
             }
            },
            "type": "scattercarpet"
           }
          ],
          "scattergeo": [
           {
            "marker": {
             "colorbar": {
              "outlinewidth": 0,
              "ticks": ""
             }
            },
            "type": "scattergeo"
           }
          ],
          "scattergl": [
           {
            "marker": {
             "colorbar": {
              "outlinewidth": 0,
              "ticks": ""
             }
            },
            "type": "scattergl"
           }
          ],
          "scattermapbox": [
           {
            "marker": {
             "colorbar": {
              "outlinewidth": 0,
              "ticks": ""
             }
            },
            "type": "scattermapbox"
           }
          ],
          "scatterpolar": [
           {
            "marker": {
             "colorbar": {
              "outlinewidth": 0,
              "ticks": ""
             }
            },
            "type": "scatterpolar"
           }
          ],
          "scatterpolargl": [
           {
            "marker": {
             "colorbar": {
              "outlinewidth": 0,
              "ticks": ""
             }
            },
            "type": "scatterpolargl"
           }
          ],
          "scatterternary": [
           {
            "marker": {
             "colorbar": {
              "outlinewidth": 0,
              "ticks": ""
             }
            },
            "type": "scatterternary"
           }
          ],
          "surface": [
           {
            "colorbar": {
             "outlinewidth": 0,
             "ticks": ""
            },
            "colorscale": [
             [
              0,
              "#0d0887"
             ],
             [
              0.1111111111111111,
              "#46039f"
             ],
             [
              0.2222222222222222,
              "#7201a8"
             ],
             [
              0.3333333333333333,
              "#9c179e"
             ],
             [
              0.4444444444444444,
              "#bd3786"
             ],
             [
              0.5555555555555556,
              "#d8576b"
             ],
             [
              0.6666666666666666,
              "#ed7953"
             ],
             [
              0.7777777777777778,
              "#fb9f3a"
             ],
             [
              0.8888888888888888,
              "#fdca26"
             ],
             [
              1,
              "#f0f921"
             ]
            ],
            "type": "surface"
           }
          ],
          "table": [
           {
            "cells": {
             "fill": {
              "color": "#EBF0F8"
             },
             "line": {
              "color": "white"
             }
            },
            "header": {
             "fill": {
              "color": "#C8D4E3"
             },
             "line": {
              "color": "white"
             }
            },
            "type": "table"
           }
          ]
         },
         "layout": {
          "annotationdefaults": {
           "arrowcolor": "#2a3f5f",
           "arrowhead": 0,
           "arrowwidth": 1
          },
          "autotypenumbers": "strict",
          "coloraxis": {
           "colorbar": {
            "outlinewidth": 0,
            "ticks": ""
           }
          },
          "colorscale": {
           "diverging": [
            [
             0,
             "#8e0152"
            ],
            [
             0.1,
             "#c51b7d"
            ],
            [
             0.2,
             "#de77ae"
            ],
            [
             0.3,
             "#f1b6da"
            ],
            [
             0.4,
             "#fde0ef"
            ],
            [
             0.5,
             "#f7f7f7"
            ],
            [
             0.6,
             "#e6f5d0"
            ],
            [
             0.7,
             "#b8e186"
            ],
            [
             0.8,
             "#7fbc41"
            ],
            [
             0.9,
             "#4d9221"
            ],
            [
             1,
             "#276419"
            ]
           ],
           "sequential": [
            [
             0,
             "#0d0887"
            ],
            [
             0.1111111111111111,
             "#46039f"
            ],
            [
             0.2222222222222222,
             "#7201a8"
            ],
            [
             0.3333333333333333,
             "#9c179e"
            ],
            [
             0.4444444444444444,
             "#bd3786"
            ],
            [
             0.5555555555555556,
             "#d8576b"
            ],
            [
             0.6666666666666666,
             "#ed7953"
            ],
            [
             0.7777777777777778,
             "#fb9f3a"
            ],
            [
             0.8888888888888888,
             "#fdca26"
            ],
            [
             1,
             "#f0f921"
            ]
           ],
           "sequentialminus": [
            [
             0,
             "#0d0887"
            ],
            [
             0.1111111111111111,
             "#46039f"
            ],
            [
             0.2222222222222222,
             "#7201a8"
            ],
            [
             0.3333333333333333,
             "#9c179e"
            ],
            [
             0.4444444444444444,
             "#bd3786"
            ],
            [
             0.5555555555555556,
             "#d8576b"
            ],
            [
             0.6666666666666666,
             "#ed7953"
            ],
            [
             0.7777777777777778,
             "#fb9f3a"
            ],
            [
             0.8888888888888888,
             "#fdca26"
            ],
            [
             1,
             "#f0f921"
            ]
           ]
          },
          "colorway": [
           "#636efa",
           "#EF553B",
           "#00cc96",
           "#ab63fa",
           "#FFA15A",
           "#19d3f3",
           "#FF6692",
           "#B6E880",
           "#FF97FF",
           "#FECB52"
          ],
          "font": {
           "color": "#2a3f5f"
          },
          "geo": {
           "bgcolor": "white",
           "lakecolor": "white",
           "landcolor": "#E5ECF6",
           "showlakes": true,
           "showland": true,
           "subunitcolor": "white"
          },
          "hoverlabel": {
           "align": "left"
          },
          "hovermode": "closest",
          "mapbox": {
           "style": "light"
          },
          "paper_bgcolor": "white",
          "plot_bgcolor": "#E5ECF6",
          "polar": {
           "angularaxis": {
            "gridcolor": "white",
            "linecolor": "white",
            "ticks": ""
           },
           "bgcolor": "#E5ECF6",
           "radialaxis": {
            "gridcolor": "white",
            "linecolor": "white",
            "ticks": ""
           }
          },
          "scene": {
           "xaxis": {
            "backgroundcolor": "#E5ECF6",
            "gridcolor": "white",
            "gridwidth": 2,
            "linecolor": "white",
            "showbackground": true,
            "ticks": "",
            "zerolinecolor": "white"
           },
           "yaxis": {
            "backgroundcolor": "#E5ECF6",
            "gridcolor": "white",
            "gridwidth": 2,
            "linecolor": "white",
            "showbackground": true,
            "ticks": "",
            "zerolinecolor": "white"
           },
           "zaxis": {
            "backgroundcolor": "#E5ECF6",
            "gridcolor": "white",
            "gridwidth": 2,
            "linecolor": "white",
            "showbackground": true,
            "ticks": "",
            "zerolinecolor": "white"
           }
          },
          "shapedefaults": {
           "line": {
            "color": "#2a3f5f"
           }
          },
          "ternary": {
           "aaxis": {
            "gridcolor": "white",
            "linecolor": "white",
            "ticks": ""
           },
           "baxis": {
            "gridcolor": "white",
            "linecolor": "white",
            "ticks": ""
           },
           "bgcolor": "#E5ECF6",
           "caxis": {
            "gridcolor": "white",
            "linecolor": "white",
            "ticks": ""
           }
          },
          "title": {
           "x": 0.05
          },
          "xaxis": {
           "automargin": true,
           "gridcolor": "white",
           "linecolor": "white",
           "ticks": "",
           "title": {
            "standoff": 15
           },
           "zerolinecolor": "white",
           "zerolinewidth": 2
          },
          "yaxis": {
           "automargin": true,
           "gridcolor": "white",
           "linecolor": "white",
           "ticks": "",
           "title": {
            "standoff": 15
           },
           "zerolinecolor": "white",
           "zerolinewidth": 2
          }
         }
        },
        "title": {
         "text": "Number of Companies by Profile"
        },
        "xaxis": {
         "anchor": "y",
         "domain": [
          0,
          1
         ],
         "title": {
          "text": "Profile"
         }
        },
        "yaxis": {
         "anchor": "x",
         "domain": [
          0,
          1
         ],
         "title": {
          "text": "Number of Companies"
         }
        }
       }
      }
     },
     "metadata": {},
     "output_type": "display_data"
    }
   ],
   "source": [
    "#Plot by Profile count\n",
    "profile_count = c[\"Profile\"].value_counts()\n",
    "fig = px.bar(x=profile_count.index, y=profile_count.values, labels={\"x\": \"Profile\", \"y\": \"Number of Companies\"}, color = profile_count.index)\n",
    "fig.update_layout(title=\"Number of Companies by Profile\")\n",
    "fig.show()"
   ]
  }
 ],
 "metadata": {
  "kernelspec": {
   "display_name": "Python 3.9.12 ('data-science')",
   "language": "python",
   "name": "python3"
  },
  "language_info": {
   "codemirror_mode": {
    "name": "ipython",
    "version": 3
   },
   "file_extension": ".py",
   "mimetype": "text/x-python",
   "name": "python",
   "nbconvert_exporter": "python",
   "pygments_lexer": "ipython3",
   "version": "3.9.12"
  },
  "orig_nbformat": 4,
  "vscode": {
   "interpreter": {
    "hash": "2efee1efa502125d01e6b4768ba06d9453d29f3642bfd14ad5d4a769de82e88c"
   }
  }
 },
 "nbformat": 4,
 "nbformat_minor": 2
}
