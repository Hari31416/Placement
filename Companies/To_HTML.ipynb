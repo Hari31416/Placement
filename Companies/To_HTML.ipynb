{
 "cells": [
  {
   "cell_type": "code",
   "execution_count": 11,
   "metadata": {},
   "outputs": [],
   "source": [
    "import pandas as pd\n",
    "import numpy as np"
   ]
  },
  {
   "cell_type": "code",
   "execution_count": 12,
   "metadata": {},
   "outputs": [],
   "source": [
    "html_start = \"\"\"<!DOCTYPE html>\n",
    "<html lang=\"en\">\n",
    "<head>\n",
    "    <meta charset=\"UTF-8\">\n",
    "    <meta name=\"viewport\" content=\"width=device-width, initial-scale=1.0\">\n",
    "    <meta http-equiv=\"X-UA-Compatible\" content=\"ie=edge\">\n",
    "    <title>Companies</title>\n",
    "    <link rel=\"stylesheet\" href=\"https://stackpath.bootstrapcdn.com/bootstrap/4.3.1/css/bootstrap.min.css\" integrity=\"sha384-ggOyR0iXCbMQv3Xipma34MD+dH/1fQ784/j6cY/iJTQUOhcWr7x9JvoRxT2MZw1T\" crossorigin=\"anonymous\">\n",
    "    <script src=\"https://code.jquery.com/jquery-3.3.1.slim.min.js\" integrity=\"sha384-q8i/X+965DzO0rT7abK41JStQIAqVgRVzpbzo5smXKp4YfRvH+8abtTE1Pi6jizo\" crossorigin=\"anonymous\"></script>\n",
    " <style>\n",
    "    body {\n",
    "      background-color: rgb(41, 41, 46);\n",
    "    }\n",
    "\n",
    "    .links {\n",
    "      text-decoration: none;\n",
    "      color: rgb(135, 192, 241);\n",
    "    }\n",
    "  </style>\n",
    "</head>\n",
    "<body>\n",
    "    <div class=\"container-fluid\">\n",
    "        <h1 class=\"px-3 py-2 text-center text-light\">Companies</h1>\"\"\""
   ]
  },
  {
   "cell_type": "code",
   "execution_count": 13,
   "metadata": {},
   "outputs": [],
   "source": [
    "c = pd.read_csv('Companies_to_Look_For_P.csv')\n",
    "c.dropna(inplace=True, thresh=5)"
   ]
  },
  {
   "cell_type": "code",
   "execution_count": 14,
   "metadata": {},
   "outputs": [],
   "source": [
    "c[\"CTC\"] = c[\"Salary\"].apply(lambda x: float(x.split(\" \")[0]))\n",
    "c[\"Base Salary\"] = c[\"Salary\"].apply(lambda x: float(x.split(\" \")[1]))"
   ]
  },
  {
   "cell_type": "code",
   "execution_count": 15,
   "metadata": {},
   "outputs": [],
   "source": [
    "c.drop(columns=[\"Salary\"], inplace=True)"
   ]
  },
  {
   "cell_type": "code",
   "execution_count": 16,
   "metadata": {},
   "outputs": [],
   "source": [
    "c[\"Preference\"] = c[\"Preference\"].astype(int)\n",
    "c[\"Positions\"] = c[\"Positions\"].astype(int)"
   ]
  },
  {
   "cell_type": "code",
   "execution_count": 17,
   "metadata": {},
   "outputs": [],
   "source": [
    "c.sort_values(by=[\"Preference\", \"CTC\", \"Positions\"], inplace=True, ascending=[True, False, False])"
   ]
  },
  {
   "cell_type": "code",
   "execution_count": 18,
   "metadata": {},
   "outputs": [
    {
     "data": {
      "text/html": [
       "<div>\n",
       "<style scoped>\n",
       "    .dataframe tbody tr th:only-of-type {\n",
       "        vertical-align: middle;\n",
       "    }\n",
       "\n",
       "    .dataframe tbody tr th {\n",
       "        vertical-align: top;\n",
       "    }\n",
       "\n",
       "    .dataframe thead th {\n",
       "        text-align: right;\n",
       "    }\n",
       "</style>\n",
       "<table border=\"1\" class=\"dataframe\">\n",
       "  <thead>\n",
       "    <tr style=\"text-align: right;\">\n",
       "      <th></th>\n",
       "      <th>Company</th>\n",
       "      <th>Designation</th>\n",
       "      <th>Profile</th>\n",
       "      <th>Location</th>\n",
       "      <th>Preference</th>\n",
       "      <th>Apllied</th>\n",
       "      <th>Current Status</th>\n",
       "      <th>Remarks</th>\n",
       "      <th>Positions</th>\n",
       "      <th>CTC</th>\n",
       "      <th>Base Salary</th>\n",
       "    </tr>\n",
       "  </thead>\n",
       "  <tbody>\n",
       "    <tr>\n",
       "      <th>1</th>\n",
       "      <td>Javis</td>\n",
       "      <td>Machine Learning Engineer</td>\n",
       "      <td>Analyst</td>\n",
       "      <td>Bangalore Mumbai Gurgaon</td>\n",
       "      <td>1</td>\n",
       "      <td>NaN</td>\n",
       "      <td>NaN</td>\n",
       "      <td>NaN</td>\n",
       "      <td>2</td>\n",
       "      <td>36.0</td>\n",
       "      <td>20.0</td>\n",
       "    </tr>\n",
       "    <tr>\n",
       "      <th>2</th>\n",
       "      <td>PayU</td>\n",
       "      <td>Associate Data Scientist</td>\n",
       "      <td>Analyst</td>\n",
       "      <td>Bangalore Gurgaon</td>\n",
       "      <td>1</td>\n",
       "      <td>Y</td>\n",
       "      <td>Coding Test Done on 12 Oct</td>\n",
       "      <td>Applied;Coding Test on 12 Oct;</td>\n",
       "      <td>5</td>\n",
       "      <td>22.0</td>\n",
       "      <td>18.0</td>\n",
       "    </tr>\n",
       "    <tr>\n",
       "      <th>3</th>\n",
       "      <td>FourthFrontier</td>\n",
       "      <td>Data Scientist</td>\n",
       "      <td>Analyst</td>\n",
       "      <td>Bangalore</td>\n",
       "      <td>1</td>\n",
       "      <td>NaN</td>\n",
       "      <td>NaN</td>\n",
       "      <td>NaN</td>\n",
       "      <td>1</td>\n",
       "      <td>22.0</td>\n",
       "      <td>22.0</td>\n",
       "    </tr>\n",
       "    <tr>\n",
       "      <th>4</th>\n",
       "      <td>Javis</td>\n",
       "      <td>Data Engineer</td>\n",
       "      <td>Analyst</td>\n",
       "      <td>Bangalore Mumbai Gurgaon</td>\n",
       "      <td>2</td>\n",
       "      <td>NaN</td>\n",
       "      <td>NaN</td>\n",
       "      <td>NaN</td>\n",
       "      <td>2</td>\n",
       "      <td>36.0</td>\n",
       "      <td>20.0</td>\n",
       "    </tr>\n",
       "    <tr>\n",
       "      <th>5</th>\n",
       "      <td>Javis</td>\n",
       "      <td>SDE (Frontend)</td>\n",
       "      <td>IT</td>\n",
       "      <td>Bangalore Mumbai Gurgaon</td>\n",
       "      <td>2</td>\n",
       "      <td>NaN</td>\n",
       "      <td>NaN</td>\n",
       "      <td>NaN</td>\n",
       "      <td>2</td>\n",
       "      <td>36.0</td>\n",
       "      <td>20.0</td>\n",
       "    </tr>\n",
       "  </tbody>\n",
       "</table>\n",
       "</div>"
      ],
      "text/plain": [
       "          Company                Designation  Profile  \\\n",
       "1           Javis  Machine Learning Engineer  Analyst   \n",
       "2            PayU   Associate Data Scientist  Analyst   \n",
       "3  FourthFrontier             Data Scientist  Analyst   \n",
       "4           Javis              Data Engineer  Analyst   \n",
       "5           Javis             SDE (Frontend)       IT   \n",
       "\n",
       "                   Location  Preference Apllied              Current Status  \\\n",
       "1  Bangalore Mumbai Gurgaon           1     NaN                         NaN   \n",
       "2         Bangalore Gurgaon           1       Y  Coding Test Done on 12 Oct   \n",
       "3                 Bangalore           1     NaN                         NaN   \n",
       "4  Bangalore Mumbai Gurgaon           2     NaN                         NaN   \n",
       "5  Bangalore Mumbai Gurgaon           2     NaN                         NaN   \n",
       "\n",
       "                          Remarks  Positions   CTC  Base Salary  \n",
       "1                             NaN          2  36.0         20.0  \n",
       "2  Applied;Coding Test on 12 Oct;          5  22.0         18.0  \n",
       "3                             NaN          1  22.0         22.0  \n",
       "4                             NaN          2  36.0         20.0  \n",
       "5                             NaN          2  36.0         20.0  "
      ]
     },
     "execution_count": 18,
     "metadata": {},
     "output_type": "execute_result"
    }
   ],
   "source": [
    "c.reset_index(inplace=True, drop=True)\n",
    "c.set_index(np.arange(1, len(c) + 1), inplace=True)\n",
    "c.head()"
   ]
  },
  {
   "cell_type": "code",
   "execution_count": 19,
   "metadata": {},
   "outputs": [],
   "source": [
    "html_start+= c.to_html(classes='table table-striped table-hover table-bordered table-dark', index=True, justify='center', border=0, escape=False)\n",
    "html_start = html_start.replace(\"\"\" style=\"text-align: right;\">\"\"\", \">\")\n",
    "html_start = html_start.replace(\"\"\"border=\"1\" \"\"\", \"\")\n",
    "html_start = html_start.replace(\"dataframe\", \"\")\n",
    "html_start+=\"</div></body></html>\""
   ]
  },
  {
   "cell_type": "code",
   "execution_count": 20,
   "metadata": {},
   "outputs": [],
   "source": [
    "with open(\"index.html\", \"w\") as f:\n",
    "    f.write(html_start)"
   ]
  }
 ],
 "metadata": {
  "kernelspec": {
   "display_name": "Python 3.9.12 ('data-science')",
   "language": "python",
   "name": "python3"
  },
  "language_info": {
   "codemirror_mode": {
    "name": "ipython",
    "version": 3
   },
   "file_extension": ".py",
   "mimetype": "text/x-python",
   "name": "python",
   "nbconvert_exporter": "python",
   "pygments_lexer": "ipython3",
   "version": "3.9.12"
  },
  "orig_nbformat": 4,
  "vscode": {
   "interpreter": {
    "hash": "2efee1efa502125d01e6b4768ba06d9453d29f3642bfd14ad5d4a769de82e88c"
   }
  }
 },
 "nbformat": 4,
 "nbformat_minor": 2
}
