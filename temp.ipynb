{
 "cells": [],
 "metadata": {
  "kernelspec": {
   "display_name": "Python 3.7.13 ('msc-project')",
   "language": "python",
   "name": "python3"
  },
  "language_info": {
   "codemirror_mode": {
    "name": "ipython",
    "version": 3
   },
   "file_extension": ".py",
   "mimetype": "text/x-python",
   "name": "python",
   "nbconvert_exporter": "python",
   "pygments_lexer": "ipython3",
   "version": "3.7.13"
  },
  "orig_nbformat": 4,
  "vscode": {
   "interpreter": {
    "hash": "918fdfad2e61d8a951372016f413ccb8750dd461c26f6783cebbdc4b0449aa6a"
   }
  }
 },
 "nbformat": 4,
 "nbformat_minor": 2
}
