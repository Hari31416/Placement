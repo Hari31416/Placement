{
 "cells": [
  {
   "cell_type": "markdown",
   "metadata": {},
   "source": [
    "# LinkedList\n"
   ]
  },
  {
   "cell_type": "markdown",
   "metadata": {},
   "source": [
    "A linked list is represented by a pointer to the first node of the linked list. The first node is called the head. If the linked list is empty, then the value of the head points to NULL.\n",
    "\n",
    "1. Each node in a list consists of at least two parts:\n",
    "2. A Data Item (we can store integer, strings or any type of data).\n",
    "   Pointer (Or Reference) to the next node (connects one node to another) or An address of another node\n"
   ]
  },
  {
   "cell_type": "code",
   "execution_count": 4,
   "metadata": {},
   "outputs": [],
   "source": [
    "class Node:\n",
    "   \n",
    "    # Function to initialize the node object\n",
    "    def __init__(self, data, next=None):\n",
    "        self.data = data  # Assign data\n",
    "        self.next = next  # Initialize \n",
    "                          # next as null\n",
    "    def __str__(self):\n",
    "        return str(self.data)\n",
    "# Linked List class\n",
    "class LinkedList:\n",
    "     \n",
    "    # Function to initialize the Linked \n",
    "    # List object\n",
    "    def __init__(self): \n",
    "        self.head = None"
   ]
  },
  {
   "cell_type": "code",
   "execution_count": 15,
   "metadata": {},
   "outputs": [],
   "source": [
    "llist = LinkedList()\n",
    "llist.head = Node(1)\n",
    "second = Node(\"two\")\n",
    "third = Node(3)\n",
    "llist.head.next = second\n",
    "second.next = third"
   ]
  },
  {
   "cell_type": "markdown",
   "metadata": {},
   "source": [
    "## Transverse a Linked List\n"
   ]
  },
  {
   "cell_type": "code",
   "execution_count": 16,
   "metadata": {},
   "outputs": [
    {
     "name": "stdout",
     "output_type": "stream",
     "text": [
      "1\n",
      "two\n",
      "3\n"
     ]
    }
   ],
   "source": [
    "while llist.head:\n",
    "    print(llist.head.data)\n",
    "    llist.head = llist.head.next"
   ]
  },
  {
   "cell_type": "markdown",
   "metadata": {},
   "source": [
    "# Inserting a Node\n"
   ]
  },
  {
   "cell_type": "markdown",
   "metadata": {},
   "source": [
    "## Insert at the Beginning\n"
   ]
  },
  {
   "cell_type": "code",
   "execution_count": 17,
   "metadata": {},
   "outputs": [],
   "source": [
    "def push(self, data):\n",
    "    new_node = Node(data)\n",
    "    new_node.next = self.head\n",
    "    self.head = new_node\n",
    "    return self"
   ]
  },
  {
   "cell_type": "markdown",
   "metadata": {},
   "source": [
    "## Insert After a Node\n"
   ]
  },
  {
   "cell_type": "code",
   "execution_count": 18,
   "metadata": {},
   "outputs": [],
   "source": [
    "def insert_after(self, prev_node, data):\n",
    "    if prev_node is None:\n",
    "        return None\n",
    "    new_nod = Node(data)\n",
    "    new_nod.next = prev_node.next\n",
    "    prev_node.next = new_nod"
   ]
  },
  {
   "cell_type": "markdown",
   "metadata": {},
   "source": [
    "## Insert at the End\n"
   ]
  },
  {
   "cell_type": "code",
   "execution_count": 20,
   "metadata": {},
   "outputs": [],
   "source": [
    "def append(self, data):\n",
    "    new_node = Node(data)\n",
    "    if self.head is None:\n",
    "        self.head = new_node\n",
    "        return None\n",
    "    last = self.head\n",
    "    while last.next:\n",
    "        last = last.next\n",
    "    last.next = new_node"
   ]
  },
  {
   "cell_type": "markdown",
   "metadata": {},
   "source": [
    "# Deleting a Node"
   ]
  },
  {
   "cell_type": "markdown",
   "metadata": {},
   "source": [
    "## From Beginning"
   ]
  },
  {
   "cell_type": "code",
   "execution_count": 24,
   "metadata": {},
   "outputs": [],
   "source": [
    "def remove_first(self):\n",
    "    if self.head is None:\n",
    "        return None\n",
    "    self.head = self.head.next"
   ]
  },
  {
   "cell_type": "markdown",
   "metadata": {},
   "source": [
    "## From End"
   ]
  },
  {
   "cell_type": "code",
   "execution_count": 26,
   "metadata": {},
   "outputs": [],
   "source": [
    "def pop(self):\n",
    "    if self.head is None:\n",
    "        return None\n",
    "    temp = self.head\n",
    "    while temp.next.next:\n",
    "        temp = temp.next\n",
    "    temp.next = None"
   ]
  },
  {
   "cell_type": "markdown",
   "metadata": {},
   "source": [
    "## Remove a Value"
   ]
  },
  {
   "cell_type": "code",
   "execution_count": 27,
   "metadata": {},
   "outputs": [],
   "source": [
    "def remove(self, key):\n",
    "    head_node = self.next\n",
    "    if head_node is not None:\n",
    "        if head_node.data == key:\n",
    "            self.head = head_node.next\n",
    "            head_node = None\n",
    "            return None\n",
    "    while head_node is not None:\n",
    "        if head_node.data == key:\n",
    "            break\n",
    "        prev = head_node\n",
    "        head_node = head_node.next\n",
    "    if head_node is None:\n",
    "        return -1\n",
    "    prev.next = head_node.next\n",
    "    head_node = None\n"
   ]
  },
  {
   "cell_type": "markdown",
   "metadata": {},
   "source": [
    "# Putting All Together"
   ]
  },
  {
   "cell_type": "code",
   "execution_count": 49,
   "metadata": {},
   "outputs": [],
   "source": [
    "class Node:\n",
    "    def __init__(self, data, next=None):\n",
    "        self.data = data\n",
    "        self.next = next\n",
    "\n",
    "    def __str__(self):\n",
    "        return str(self.data)\n",
    "\n",
    "\n",
    "class LinkedList:\n",
    "    def __init__(self):\n",
    "        self.head = None\n",
    "\n",
    "    def push(self, data):\n",
    "        new_node = Node(data)\n",
    "        if self.head is None:\n",
    "            self.head = new_node\n",
    "            return None\n",
    "        new_node.next = self.head\n",
    "        self.head = new_node\n",
    "\n",
    "    def insert_after(self, prev_node, data):\n",
    "        if prev_node is None:\n",
    "            return None\n",
    "        new_nod = Node(data)\n",
    "        new_nod.next = prev_node.next\n",
    "        prev_node.next = new_nod\n",
    "\n",
    "    def append(self, data):\n",
    "        new_node = Node(data)\n",
    "        if self.head is None:\n",
    "            self.head = new_node\n",
    "            return None\n",
    "        last = self.head\n",
    "        while last.next:\n",
    "            last = last.next\n",
    "        last.next = new_node\n",
    "\n",
    "    def transverse(self):\n",
    "        current = self.head\n",
    "        while current:\n",
    "            print(current.data)\n",
    "            current = current.next\n",
    "\n",
    "    def remove_first(self):\n",
    "        if self.head is None:\n",
    "            return None\n",
    "        self.head = self.head.next\n",
    "\n",
    "    def pop(self):\n",
    "        if self.head is None:\n",
    "            return None\n",
    "        temp = self.head\n",
    "        while temp.next.next:\n",
    "            temp = temp.next\n",
    "        temp.next = None\n",
    "\n",
    "    def remove(self, key):\n",
    "        head_node = self.head\n",
    "        if head_node is not None:\n",
    "            if head_node.data == key:\n",
    "                self.head = head_node.next\n",
    "                head_node = None\n",
    "                return None\n",
    "        while head_node is not None:\n",
    "            if head_node.data == key:\n",
    "                break\n",
    "            prev = head_node\n",
    "            head_node = head_node.next\n",
    "        if head_node is None:\n",
    "            return -1\n",
    "        prev.next = head_node.next\n",
    "        head_node = None\n"
   ]
  },
  {
   "cell_type": "code",
   "execution_count": 37,
   "metadata": {},
   "outputs": [],
   "source": [
    "llist = LinkedList()\n",
    "llist.push(1)"
   ]
  },
  {
   "cell_type": "code",
   "execution_count": 31,
   "metadata": {},
   "outputs": [],
   "source": [
    "llist = LinkedList()\n",
    "# llist.append(1)\n",
    "llist.push(1)\n",
    "llist.push(2)\n",
    "llist.insert_after(llist.head, 3)"
   ]
  },
  {
   "cell_type": "code",
   "execution_count": 32,
   "metadata": {},
   "outputs": [
    {
     "name": "stdout",
     "output_type": "stream",
     "text": [
      "2\n",
      "3\n",
      "1\n",
      "4\n"
     ]
    }
   ],
   "source": [
    "llist.append(4)\n",
    "llist.transverse()"
   ]
  },
  {
   "cell_type": "code",
   "execution_count": 33,
   "metadata": {},
   "outputs": [],
   "source": [
    "llist.remove(2)"
   ]
  },
  {
   "cell_type": "code",
   "execution_count": 34,
   "metadata": {},
   "outputs": [
    {
     "name": "stdout",
     "output_type": "stream",
     "text": [
      "3\n",
      "1\n",
      "4\n"
     ]
    }
   ],
   "source": [
    "# llist.append(4)\n",
    "llist.transverse()"
   ]
  },
  {
   "cell_type": "code",
   "execution_count": 44,
   "metadata": {},
   "outputs": [],
   "source": [
    "llist.remove_first()"
   ]
  },
  {
   "cell_type": "code",
   "execution_count": 45,
   "metadata": {},
   "outputs": [],
   "source": [
    "llist.transverse()"
   ]
  },
  {
   "cell_type": "markdown",
   "metadata": {},
   "source": [
    "## Using the `LinkedList` Class"
   ]
  },
  {
   "cell_type": "markdown",
   "metadata": {},
   "source": [
    "## Remove duplicates from an unsorted linked list"
   ]
  },
  {
   "cell_type": "markdown",
   "metadata": {},
   "source": [
    "Write a `remove_duplicates()` function that takes a list and deletes any duplicate nodes from the list. The list is not sorted. \n",
    "For example if the linked list is 12->11->12->21->41->43->21 then `remove_duplicates()` should convert the list to 12->11->21->41->43. "
   ]
  },
  {
   "cell_type": "code",
   "execution_count": 136,
   "metadata": {},
   "outputs": [],
   "source": [
    "def remove_duplicates(self):\n",
    "    temp = self.head\n",
    "    hash = []\n",
    "    while temp.next:\n",
    "        if temp.next.data in hash:\n",
    "            temp.next = temp.next.next\n",
    "            # temp.next.next = None\n",
    "        else:\n",
    "            hash.append(temp.next.data)\n",
    "            temp2 = temp\n",
    "            temp = temp.next\n",
    "    # if temp:\n",
    "    #     if temp.data in hash:\n",
    "    #         temp2.next = None\n",
    "    print(hash)"
   ]
  },
  {
   "cell_type": "code",
   "execution_count": 137,
   "metadata": {},
   "outputs": [],
   "source": [
    "list = LinkedList()\n",
    "list.head = Node(10)\n",
    "list.head.next = Node(12)\n",
    "list.head.next.next = Node(11)\n",
    "list.head.next.next.next = Node(11)\n",
    "list.head.next.next.next.next = Node(12)\n",
    "list.head.next.next.next.next.next = Node(11)\n",
    "list.head.next.next.next.next.next.next = Node(10)"
   ]
  },
  {
   "cell_type": "code",
   "execution_count": 138,
   "metadata": {},
   "outputs": [
    {
     "name": "stdout",
     "output_type": "stream",
     "text": [
      "Linked List before removing duplicates :\n",
      "10\n",
      "12\n",
      "11\n",
      "11\n",
      "12\n",
      "11\n",
      "10\n",
      "[12, 11, 10]\n",
      "Linked List after removing duplicates :\n",
      "10\n",
      "12\n",
      "11\n",
      "10\n"
     ]
    }
   ],
   "source": [
    "print(\"Linked List before removing duplicates :\")\n",
    "list.transverse()\n",
    "remove_duplicates(list)\n",
    "print(\"Linked List after removing duplicates :\")\n",
    "list.transverse()"
   ]
  },
  {
   "cell_type": "code",
   "execution_count": 139,
   "metadata": {},
   "outputs": [
    {
     "name": "stdout",
     "output_type": "stream",
     "text": [
      "Linked List before removing duplicates :\n",
      "2\n",
      "2\n",
      "2\n",
      "11\n",
      "2\n",
      "11\n",
      "10\n",
      "[2, 11, 10]\n",
      "Linked List after removing duplicates :\n",
      "2\n",
      "2\n",
      "11\n",
      "10\n"
     ]
    }
   ],
   "source": [
    "list = LinkedList()\n",
    "list.head = Node(2)\n",
    "list.head.next = Node(2)\n",
    "list.head.next.next = Node(2)\n",
    "list.head.next.next.next = Node(11)\n",
    "list.head.next.next.next.next = Node(2)\n",
    "list.head.next.next.next.next.next = Node(11)\n",
    "list.head.next.next.next.next.next.next = Node(10)\n",
    "\n",
    "print(\"Linked List before removing duplicates :\")\n",
    "list.transverse()\n",
    "remove_duplicates(list)\n",
    "print(\"Linked List after removing duplicates :\")\n",
    "list.transverse()"
   ]
  },
  {
   "cell_type": "markdown",
   "metadata": {},
   "source": [
    "## The LinkedList Class from ADT"
   ]
  },
  {
   "cell_type": "code",
   "execution_count": 26,
   "metadata": {},
   "outputs": [],
   "source": [
    "from ADT import LinkedList"
   ]
  },
  {
   "cell_type": "code",
   "execution_count": 27,
   "metadata": {},
   "outputs": [],
   "source": [
    "ll = LinkedList()"
   ]
  },
  {
   "cell_type": "code",
   "execution_count": 28,
   "metadata": {},
   "outputs": [
    {
     "name": "stdout",
     "output_type": "stream",
     "text": [
      "Two\n",
      "2\n",
      "1\n"
     ]
    }
   ],
   "source": [
    "ll.push(1)\n",
    "ll.push(\"Two\")\n",
    "ll.insert_after(ll.head, 2)\n",
    "ll.print_list()"
   ]
  },
  {
   "cell_type": "code",
   "execution_count": 29,
   "metadata": {},
   "outputs": [],
   "source": [
    "ll.remove(2)"
   ]
  },
  {
   "cell_type": "code",
   "execution_count": 30,
   "metadata": {},
   "outputs": [
    {
     "name": "stdout",
     "output_type": "stream",
     "text": [
      "Two\n",
      "1\n"
     ]
    }
   ],
   "source": [
    "ll.print_list()"
   ]
  },
  {
   "cell_type": "code",
   "execution_count": 31,
   "metadata": {},
   "outputs": [
    {
     "data": {
      "text/plain": [
       "2"
      ]
     },
     "execution_count": 31,
     "metadata": {},
     "output_type": "execute_result"
    }
   ],
   "source": [
    "len(ll)"
   ]
  },
  {
   "cell_type": "code",
   "execution_count": 32,
   "metadata": {},
   "outputs": [
    {
     "data": {
      "text/plain": [
       "'Two'"
      ]
     },
     "execution_count": 32,
     "metadata": {},
     "output_type": "execute_result"
    }
   ],
   "source": [
    "ll.pop()"
   ]
  },
  {
   "cell_type": "code",
   "execution_count": 33,
   "metadata": {},
   "outputs": [
    {
     "name": "stdout",
     "output_type": "stream",
     "text": [
      "1\n"
     ]
    }
   ],
   "source": [
    "ll.print_list()"
   ]
  },
  {
   "cell_type": "code",
   "execution_count": null,
   "metadata": {},
   "outputs": [],
   "source": []
  }
 ],
 "metadata": {
  "kernelspec": {
   "display_name": "Python 3.9.12",
   "language": "python",
   "name": "python3"
  },
  "language_info": {
   "codemirror_mode": {
    "name": "ipython",
    "version": 3
   },
   "file_extension": ".py",
   "mimetype": "text/x-python",
   "name": "python",
   "nbconvert_exporter": "python",
   "pygments_lexer": "ipython3",
   "version": "3.9.12"
  },
  "orig_nbformat": 4,
  "vscode": {
   "interpreter": {
    "hash": "de718a8ad747ee7ac49283422c9dd388de3f9fba8ab4214a5db121921f189761"
   }
  }
 },
 "nbformat": 4,
 "nbformat_minor": 2
}
