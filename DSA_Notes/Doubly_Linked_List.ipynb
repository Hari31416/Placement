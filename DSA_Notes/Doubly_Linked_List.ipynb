{
 "cells": [
  {
   "cell_type": "markdown",
   "metadata": {},
   "source": [
    "# Doubly Linked List"
   ]
  },
  {
   "cell_type": "markdown",
   "metadata": {},
   "source": [
    "A Doubly Linked List (DLL) contains an extra pointer, typically called previous pointer, together with next pointer and data which are there in singly linked list."
   ]
  },
  {
   "cell_type": "code",
   "execution_count": 3,
   "metadata": {},
   "outputs": [],
   "source": [
    "# EMPTY ERROR CLASS\n",
    "class Empty(Exception):\n",
    "    \"\"\"\n",
    "    To be raised when the list is empty and user want to access it\n",
    "    \"\"\"\n",
    "\n",
    "    pass\n",
    "\n",
    "\n",
    "# NONETYPE ERROR CLASS\n",
    "class NoneType(Exception):\n",
    "    \"\"\"\n",
    "    To be raised when the user wants to access a node that is not in the list\n",
    "    \"\"\"\n",
    "\n",
    "    pass\n",
    "\n",
    "\n",
    "class Node:\n",
    "    \"\"\"\n",
    "    A lightweighted node class to be used for other ADT's.\n",
    "    \"\"\"\n",
    "\n",
    "    def __init__(self, data, next=None, prev=None):\n",
    "        \"\"\"\n",
    "        Initialize a node with data and next/prev pointers.\n",
    "\n",
    "        Parameters:\n",
    "        -----------\n",
    "        data: Any\n",
    "            The data to be stored in the node.\n",
    "        next: Node optional\n",
    "            The next node in the list.\n",
    "        prev: Node optional\n",
    "            The previous node in the list.\n",
    "\n",
    "        Returns:\n",
    "        --------\n",
    "        None\n",
    "        \"\"\"\n",
    "        self.data = data\n",
    "        self.next = next\n",
    "        self.prev = prev\n",
    "\n",
    "    def __str__(self) -> str:\n",
    "        return str(self.data)"
   ]
  },
  {
   "cell_type": "markdown",
   "metadata": {},
   "source": [
    "## Adding A Node at Front"
   ]
  },
  {
   "cell_type": "markdown",
   "metadata": {},
   "source": [
    "Here are the steps to add a new node to the beginning of the DLL.\n",
    "1. Create the new node.\n",
    "2. Set the next of the new_node to the current head.\n",
    "3. If the current head is not none, set the prev of the current head to the new_node.\n",
    "4. Set the new_node as the head.\n",
    "5. Increment the lenght."
   ]
  },
  {
   "cell_type": "code",
   "execution_count": null,
   "metadata": {},
   "outputs": [],
   "source": [
    "def push(self, data):\n",
    "    \"\"\"\n",
    "    Pushes a node to the beginning of the linked list\n",
    "\n",
    "    Parameters:\n",
    "    -----------\n",
    "    data: Any\n",
    "        The data to be stored in the node.\n",
    "\n",
    "    Returns:\n",
    "    --------\n",
    "    None\n",
    "    \"\"\"\n",
    "    # Create a new node\n",
    "    new_node = Node(data)\n",
    "    # Check whether the list is empty\n",
    "    if self.head is None:\n",
    "        # Set the new_node as the head\n",
    "        self.head = new_node\n",
    "    else:\n",
    "        # Set the prev of head to new_node\n",
    "        self.head.prev = new_node\n",
    "        # Set the next of new_node to head\n",
    "        new_node.next = self.head"
   ]
  },
  {
   "cell_type": "markdown",
   "metadata": {},
   "source": [
    "## Inserting a Node After a Given Node"
   ]
  },
  {
   "cell_type": "markdown",
   "metadata": {},
   "source": [
    "Steps are as follows:\n",
    "1. Create the new node.\n",
    "2. If prev_node is None, raise error.\n",
    "3. Set the new_node's next as the next of the prev_node.\n",
    "4. Set the next of the prev_node to the new_node.\n",
    "5. Set the prev of the new_node to the prev_node.\n",
    "6. Set the prev of the new_node's next to the new_node after making sure that it is not None.\n",
    "7. Increment the length."
   ]
  },
  {
   "cell_type": "code",
   "execution_count": 2,
   "metadata": {},
   "outputs": [],
   "source": [
    "def insert_after(self, prev, data):\n",
    "    \"\"\"\n",
    "    Inserts a new node after the given previous node.\n",
    "\n",
    "    Parameters:\n",
    "    -----------\n",
    "    prev: Node\n",
    "        The node before the new node.\n",
    "    data: Any\n",
    "        The data to be stored in the node.\n",
    "\n",
    "    Returns:\n",
    "    --------\n",
    "    None\n",
    "    \"\"\"\n",
    "    # Check if the given node is not None\n",
    "    if prev is None:\n",
    "        raise NoneType(\"The given node is None.\")\n",
    "    # Create a new node\n",
    "    new_node = Node(data)\n",
    "    # Set the new_node's next to the prev_node's next\n",
    "    new_node.next = prev.next\n",
    "    # Set the prev_node's next to the new node\n",
    "    prev.next = new_node\n",
    "    # Set the new_node's prev to the prev_node\n",
    "    new_node.prev = prev\n",
    "    # Check if the new_node's next is not None\n",
    "    if new_node.next is not None:\n",
    "        # Set the new_node's next's prev to the new node\n",
    "        new_node.next.prev = new_node\n",
    "    # Increment the length\n",
    "    self._length += 1"
   ]
  },
  {
   "cell_type": "markdown",
   "metadata": {},
   "source": [
    "## Add A Node at End"
   ]
  },
  {
   "cell_type": "markdown",
   "metadata": {},
   "source": [
    "Here are the steps:\n",
    "1. Create the new node.\n",
    "2. Check if the current head is None. If yes then make the new_node as head.\n",
    "3. If not then navigate to the last node.\n",
    "4. Set the next of the last node the new_node.\n",
    "5. Set the prev of the new_node to the last node."
   ]
  },
  {
   "cell_type": "code",
   "execution_count": 4,
   "metadata": {},
   "outputs": [],
   "source": [
    "def append(self, data):\n",
    "    \"\"\"\n",
    "    Appends a new node to the end of the DLL\n",
    "\n",
    "    Parameters:\n",
    "    -----------\n",
    "    data: Any\n",
    "        The data to be stored in the node.\n",
    "\n",
    "    Returns:\n",
    "    --------\n",
    "    None\n",
    "    \"\"\"\n",
    "    # Create a new node\n",
    "    new_node = Node(data)\n",
    "    # Check if the head is None\n",
    "    if self.head is None:\n",
    "        # Set the head to the new node\n",
    "        self.head = new_node\n",
    "    else:\n",
    "        # Set the current node to the head\n",
    "        current = self.head\n",
    "        # Loop until the current node's next is None ie the end of the list\n",
    "        while current.next is not None:\n",
    "            # Set the current node to the current node's next\n",
    "            current = current.next\n",
    "        # Set the current node's next to the new node\n",
    "        current.next = new_node\n",
    "        # Set the new_node's prev to the current node\n",
    "        new_node.prev = current\n",
    "    # Increment the length\n",
    "    self._length += 1"
   ]
  },
  {
   "cell_type": "markdown",
   "metadata": {},
   "source": [
    "## Add a Node Before a Given Node"
   ]
  },
  {
   "cell_type": "markdown",
   "metadata": {},
   "source": [
    "Here are the steps:\n",
    "1. If the given next_node is None, raise NoneType Error.\n",
    "2. Create the new node.\n",
    "3. Set the next of the new_node to the next_node.\n",
    "4. Check if the prev of the next_node is None which will entail that it is the head. In this case, set the new_node as the head.\n",
    "5. Else, set the next of the prev of the new_node to the new_node.\n",
    "6. Set the prev of the next_node to the new_node.\n",
    "7. Increment the length."
   ]
  },
  {
   "cell_type": "code",
   "execution_count": 5,
   "metadata": {},
   "outputs": [],
   "source": [
    "def insert_before(self, next_node, data):\n",
    "    \"\"\"\n",
    "    Inserts a node before the given node.\n",
    "\n",
    "    Parameters:\n",
    "    -----------\n",
    "    next_node: Node\n",
    "        The node after the new node.\n",
    "    data: Any\n",
    "        The data to be stored in the node.\n",
    "\n",
    "    Returns:\n",
    "    --------\n",
    "    None\n",
    "    \"\"\"\n",
    "    # Check if the given node is not None\n",
    "    if next_node is None:\n",
    "        raise NoneType(\"The given node is None.\")\n",
    "    # Create a new node\n",
    "    new_node = Node(data)\n",
    "    # Set the next of the new node to the next_node\n",
    "    new_node.next = next_node\n",
    "    # Set the new_node's prev to the next_node's prev\n",
    "    new_node.prev = next_node.prev\n",
    "    # Check if the next_node's prev is None\n",
    "    if next_node.prev is None:\n",
    "        # Set the head to the new node\n",
    "        self.head = new_node\n",
    "    else:\n",
    "        # Set the new_node's prev's next to the new node\n",
    "        new_node.prev.next = new_node\n",
    "    # set the prev of the next_node to the new node\n",
    "    next_node.prev = new_node\n",
    "    # Increment the length\n",
    "    self._length += 1"
   ]
  },
  {
   "cell_type": "markdown",
   "metadata": {},
   "source": [
    "## Deleting the Last Node"
   ]
  },
  {
   "cell_type": "markdown",
   "metadata": {},
   "source": [
    "Here are the steps:\n",
    "1. Raise error if the DLL is empty.\n",
    "2. Loop through the DLL to reach the last node.\n",
    "3. Make the next of the prev of the last node to None\n",
    "4. Get the data of the last_node to return.\n",
    "5. Decrement the length."
   ]
  },
  {
   "cell_type": "code",
   "execution_count": 19,
   "metadata": {},
   "outputs": [],
   "source": [
    "def pop(self):\n",
    "    \"\"\"\n",
    "    Removes the last node from the DLL.\n",
    "\n",
    "    Parameters:\n",
    "    -----------\n",
    "    None\n",
    "\n",
    "    Returns:\n",
    "    --------\n",
    "    data: Any\n",
    "        The data of the removed node.\n",
    "    \"\"\"\n",
    "    # Check if the head is None\n",
    "    if self.head is None:\n",
    "        raise Empty(\"The linked list is empty.\")\n",
    "    # Set the current node to the head\n",
    "    current = self.head\n",
    "    # Loop until the current node's next is None ie the end of the list\n",
    "    while current.next is not None:\n",
    "        # Set the current node to the current node's next\n",
    "        current = current.next\n",
    "    # Set the current node's prev's next to None\n",
    "    current.prev.next = None\n",
    "    # Get the data\n",
    "    data = current.data\n",
    "    # Decrement the length\n",
    "    self._length -= 1\n",
    "    # Return the data\n",
    "    return data"
   ]
  },
  {
   "cell_type": "markdown",
   "metadata": {},
   "source": [
    "# The Class from ADT Module"
   ]
  },
  {
   "cell_type": "code",
   "execution_count": 1,
   "metadata": {},
   "outputs": [],
   "source": [
    "from ADT import DoublyLinkedList"
   ]
  },
  {
   "cell_type": "code",
   "execution_count": 2,
   "metadata": {},
   "outputs": [],
   "source": [
    "dll = DoublyLinkedList()"
   ]
  },
  {
   "cell_type": "code",
   "execution_count": 3,
   "metadata": {},
   "outputs": [],
   "source": [
    "dll.push(\"ONE\")\n",
    "dll.insert_before(dll.head, \"TWO\")\n",
    "dll.insert_after(dll.head.next, \"THREE\")"
   ]
  },
  {
   "cell_type": "code",
   "execution_count": 4,
   "metadata": {},
   "outputs": [
    {
     "name": "stdout",
     "output_type": "stream",
     "text": [
      "TWO\n",
      "ONE\n",
      "THREE\n"
     ]
    }
   ],
   "source": [
    "dll.print_list()"
   ]
  },
  {
   "cell_type": "code",
   "execution_count": 5,
   "metadata": {},
   "outputs": [
    {
     "data": {
      "text/plain": [
       "3"
      ]
     },
     "execution_count": 5,
     "metadata": {},
     "output_type": "execute_result"
    }
   ],
   "source": [
    "len(dll)"
   ]
  },
  {
   "cell_type": "code",
   "execution_count": 6,
   "metadata": {},
   "outputs": [
    {
     "name": "stdout",
     "output_type": "stream",
     "text": [
      "THREE\n"
     ]
    },
    {
     "data": {
      "text/plain": [
       "'THREE'"
      ]
     },
     "execution_count": 6,
     "metadata": {},
     "output_type": "execute_result"
    }
   ],
   "source": [
    "dll.pop()"
   ]
  },
  {
   "cell_type": "code",
   "execution_count": 7,
   "metadata": {},
   "outputs": [
    {
     "data": {
      "text/plain": [
       "2"
      ]
     },
     "execution_count": 7,
     "metadata": {},
     "output_type": "execute_result"
    }
   ],
   "source": [
    "len(dll)"
   ]
  },
  {
   "cell_type": "code",
   "execution_count": 8,
   "metadata": {},
   "outputs": [
    {
     "name": "stdout",
     "output_type": "stream",
     "text": [
      "ONE\n"
     ]
    },
    {
     "data": {
      "text/plain": [
       "'ONE'"
      ]
     },
     "execution_count": 8,
     "metadata": {},
     "output_type": "execute_result"
    }
   ],
   "source": [
    "dll.pop()"
   ]
  },
  {
   "cell_type": "code",
   "execution_count": 9,
   "metadata": {},
   "outputs": [
    {
     "name": "stdout",
     "output_type": "stream",
     "text": [
      "TWO\n"
     ]
    }
   ],
   "source": [
    "dll.print_list()"
   ]
  },
  {
   "cell_type": "code",
   "execution_count": 10,
   "metadata": {},
   "outputs": [],
   "source": [
    "dll.head.next"
   ]
  },
  {
   "cell_type": "code",
   "execution_count": 14,
   "metadata": {},
   "outputs": [
    {
     "ename": "Empty",
     "evalue": "The linked list is empty.",
     "output_type": "error",
     "traceback": [
      "\u001b[0;31m---------------------------------------------------------------------------\u001b[0m",
      "\u001b[0;31mEmpty\u001b[0m                                     Traceback (most recent call last)",
      "\u001b[1;32m/media/hari31416/Hari_SSD/Users/harik/Desktop/summer-2022/Problems/Notes/Doubly_Linked_List.ipynb Cell 30\u001b[0m in \u001b[0;36m<cell line: 1>\u001b[0;34m()\u001b[0m\n\u001b[0;32m----> <a href='vscode-notebook-cell:/media/hari31416/Hari_SSD/Users/harik/Desktop/summer-2022/Problems/Notes/Doubly_Linked_List.ipynb#ch0000029?line=0'>1</a>\u001b[0m dll\u001b[39m.\u001b[39;49mpop()\n",
      "File \u001b[0;32m/media/hari31416/Hari_SSD/Users/harik/Desktop/summer-2022/Problems/Notes/ADT.py:430\u001b[0m, in \u001b[0;36mDoublyLinkedList.pop\u001b[0;34m(self)\u001b[0m\n\u001b[1;32m    428\u001b[0m \u001b[39m# Check if the head is None\u001b[39;00m\n\u001b[1;32m    429\u001b[0m \u001b[39mif\u001b[39;00m \u001b[39mself\u001b[39m\u001b[39m.\u001b[39mhead \u001b[39mis\u001b[39;00m \u001b[39mNone\u001b[39;00m:\n\u001b[0;32m--> 430\u001b[0m     \u001b[39mraise\u001b[39;00m Empty(\u001b[39m\"\u001b[39m\u001b[39mThe linked list is empty.\u001b[39m\u001b[39m\"\u001b[39m)\n\u001b[1;32m    431\u001b[0m \u001b[39m# Set the current node to the head\u001b[39;00m\n\u001b[1;32m    432\u001b[0m current \u001b[39m=\u001b[39m \u001b[39mself\u001b[39m\u001b[39m.\u001b[39mhead\n",
      "\u001b[0;31mEmpty\u001b[0m: The linked list is empty."
     ]
    }
   ],
   "source": [
    "dll.pop()"
   ]
  },
  {
   "cell_type": "code",
   "execution_count": 12,
   "metadata": {},
   "outputs": [
    {
     "data": {
      "text/plain": [
       "0"
      ]
     },
     "execution_count": 12,
     "metadata": {},
     "output_type": "execute_result"
    }
   ],
   "source": [
    "len(dll)"
   ]
  },
  {
   "cell_type": "code",
   "execution_count": 13,
   "metadata": {},
   "outputs": [
    {
     "ename": "Empty",
     "evalue": "The linked list is empty.",
     "output_type": "error",
     "traceback": [
      "\u001b[0;31m---------------------------------------------------------------------------\u001b[0m",
      "\u001b[0;31mEmpty\u001b[0m                                     Traceback (most recent call last)",
      "\u001b[1;32m/media/hari31416/Hari_SSD/Users/harik/Desktop/summer-2022/Problems/Notes/Doubly_Linked_List.ipynb Cell 32\u001b[0m in \u001b[0;36m<cell line: 1>\u001b[0;34m()\u001b[0m\n\u001b[0;32m----> <a href='vscode-notebook-cell:/media/hari31416/Hari_SSD/Users/harik/Desktop/summer-2022/Problems/Notes/Doubly_Linked_List.ipynb#ch0000031?line=0'>1</a>\u001b[0m dll\u001b[39m.\u001b[39;49mprint_list()\n",
      "File \u001b[0;32m/media/hari31416/Hari_SSD/Users/harik/Desktop/summer-2022/Problems/Notes/ADT.py:405\u001b[0m, in \u001b[0;36mDoublyLinkedList.print_list\u001b[0;34m(self)\u001b[0m\n\u001b[1;32m    403\u001b[0m \u001b[39m# Check if the head is None\u001b[39;00m\n\u001b[1;32m    404\u001b[0m \u001b[39mif\u001b[39;00m \u001b[39mself\u001b[39m\u001b[39m.\u001b[39mhead \u001b[39mis\u001b[39;00m \u001b[39mNone\u001b[39;00m:\n\u001b[0;32m--> 405\u001b[0m     \u001b[39mraise\u001b[39;00m Empty(\u001b[39m\"\u001b[39m\u001b[39mThe linked list is empty.\u001b[39m\u001b[39m\"\u001b[39m)\n\u001b[1;32m    406\u001b[0m \u001b[39m# Set the current node to the head\u001b[39;00m\n\u001b[1;32m    407\u001b[0m current \u001b[39m=\u001b[39m \u001b[39mself\u001b[39m\u001b[39m.\u001b[39mhead\n",
      "\u001b[0;31mEmpty\u001b[0m: The linked list is empty."
     ]
    }
   ],
   "source": [
    "dll.print_list()"
   ]
  },
  {
   "cell_type": "markdown",
   "metadata": {},
   "source": []
  }
 ],
 "metadata": {
  "kernelspec": {
   "display_name": "Python 3.10.4 64-bit",
   "language": "python",
   "name": "python3"
  },
  "language_info": {
   "codemirror_mode": {
    "name": "ipython",
    "version": 3
   },
   "file_extension": ".py",
   "mimetype": "text/x-python",
   "name": "python",
   "nbconvert_exporter": "python",
   "pygments_lexer": "ipython3",
   "version": "3.10.4"
  },
  "orig_nbformat": 4,
  "vscode": {
   "interpreter": {
    "hash": "916dbcbb3f70747c44a77c7bcd40155683ae19c65e1c03b4aa3499c5328201f1"
   }
  }
 },
 "nbformat": 4,
 "nbformat_minor": 2
}
