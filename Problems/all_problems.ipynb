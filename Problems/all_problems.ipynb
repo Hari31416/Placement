{
 "cells": [
  {
   "cell_type": "code",
   "execution_count": 1,
   "metadata": {},
   "outputs": [],
   "source": [
    "import sys\n",
    "sys.path.append(\"../tools\")\n",
    "from files.notebook import Notebook\n",
    "import re\n",
    "import pandas as pd\n",
    "import warnings\n",
    "warnings.filterwarnings(\"ignore\")"
   ]
  },
  {
   "cell_type": "markdown",
   "metadata": {},
   "source": [
    "## LeetCode Problems"
   ]
  },
  {
   "cell_type": "code",
   "execution_count": 2,
   "metadata": {},
   "outputs": [],
   "source": [
    "nb = Notebook(\"LeetCode\")\n",
    "all_notebooks = [notebook for notebook in nb.notebooks if \"temp\" not in notebook]"
   ]
  },
  {
   "cell_type": "code",
   "execution_count": 3,
   "metadata": {},
   "outputs": [
    {
     "data": {
      "text/plain": [
       "['LeetCode/Medium_1.ipynb',\n",
       " 'LeetCode/Easy_1.ipynb',\n",
       " 'LeetCode/Easy_2.ipynb',\n",
       " 'LeetCode/Easy_3.ipynb',\n",
       " 'LeetCode/Easy_4.ipynb',\n",
       " 'LeetCode/Easy_5.ipynb',\n",
       " 'LeetCode/Easy_6.ipynb',\n",
       " 'LeetCode/Hard_1.ipynb',\n",
       " 'LeetCode/Medium_2.ipynb',\n",
       " 'LeetCode/Medium_3.ipynb']"
      ]
     },
     "execution_count": 3,
     "metadata": {},
     "output_type": "execute_result"
    }
   ],
   "source": [
    "all_notebooks"
   ]
  },
  {
   "cell_type": "code",
   "execution_count": 4,
   "metadata": {},
   "outputs": [],
   "source": [
    "def find_problems(notebook):\n",
    "    content = nb.create_content(notebook, return_string=True, verbose=0)\n",
    "    reg = re.compile(r\"\"\"#\\d+\\.-(.*)\">\\d+\"\"\")\n",
    "    problems = reg.findall(content)\n",
    "    problems = [problem.replace(\"-\", \" \") for problem in problems]\n",
    "    return problems"
   ]
  },
  {
   "cell_type": "code",
   "execution_count": 5,
   "metadata": {},
   "outputs": [
    {
     "name": "stderr",
     "output_type": "stream",
     "text": [
      "qt.qpa.plugin: Could not find the Qt platform plugin \"wayland\" in \"\"\n",
      "QXcbClipboard::setMimeData: Cannot set X11 selection owner\n",
      "QXcbClipboard::setMimeData: Cannot set X11 selection owner\n",
      "QXcbClipboard::setMimeData: Cannot set X11 selection owner\n",
      "QXcbClipboard::setMimeData: Cannot set X11 selection owner\n",
      "QXcbClipboard::setMimeData: Cannot set X11 selection owner\n",
      "QXcbClipboard::setMimeData: Cannot set X11 selection owner\n"
     ]
    }
   ],
   "source": [
    "problems = [find_problems(notebook) for notebook in all_notebooks]"
   ]
  },
  {
   "cell_type": "code",
   "execution_count": 6,
   "metadata": {},
   "outputs": [
    {
     "data": {
      "text/plain": [
       "['Medium_1',\n",
       " 'Easy_1',\n",
       " 'Easy_2',\n",
       " 'Easy_3',\n",
       " 'Easy_4',\n",
       " 'Easy_5',\n",
       " 'Easy_6',\n",
       " 'Hard_1',\n",
       " 'Medium_2',\n",
       " 'Medium_3']"
      ]
     },
     "execution_count": 6,
     "metadata": {},
     "output_type": "execute_result"
    }
   ],
   "source": [
    "problem_notebooks = [notebook.split(\"/\")[-1].split(\".\")[0] for notebook in all_notebooks]\n",
    "problem_notebooks"
   ]
  },
  {
   "cell_type": "code",
   "execution_count": 7,
   "metadata": {},
   "outputs": [],
   "source": [
    "df = pd.DataFrame(problems).T\n",
    "df.columns=problem_notebooks"
   ]
  },
  {
   "cell_type": "code",
   "execution_count": 8,
   "metadata": {},
   "outputs": [
    {
     "data": {
      "text/html": [
       "<div>\n",
       "<style scoped>\n",
       "    .dataframe tbody tr th:only-of-type {\n",
       "        vertical-align: middle;\n",
       "    }\n",
       "\n",
       "    .dataframe tbody tr th {\n",
       "        vertical-align: top;\n",
       "    }\n",
       "\n",
       "    .dataframe thead th {\n",
       "        text-align: right;\n",
       "    }\n",
       "</style>\n",
       "<table border=\"1\" class=\"dataframe\">\n",
       "  <thead>\n",
       "    <tr style=\"text-align: right;\">\n",
       "      <th></th>\n",
       "      <th>Medium_1</th>\n",
       "      <th>Easy_1</th>\n",
       "      <th>Easy_2</th>\n",
       "      <th>Easy_3</th>\n",
       "      <th>Easy_4</th>\n",
       "      <th>Easy_5</th>\n",
       "      <th>Easy_6</th>\n",
       "      <th>Hard_1</th>\n",
       "      <th>Medium_2</th>\n",
       "      <th>Medium_3</th>\n",
       "    </tr>\n",
       "  </thead>\n",
       "  <tbody>\n",
       "    <tr>\n",
       "      <th>0</th>\n",
       "      <td>Add Two Numbers</td>\n",
       "      <td>Roman to Integer</td>\n",
       "      <td>Merge Sorted Array</td>\n",
       "      <td>Happy Number</td>\n",
       "      <td>Palindrome Number</td>\n",
       "      <td>Contains Duplicate II</td>\n",
       "      <td>Reverse String</td>\n",
       "      <td>Regular Expression Matching</td>\n",
       "      <td>Permutations</td>\n",
       "      <td>String Compression</td>\n",
       "    </tr>\n",
       "    <tr>\n",
       "      <th>1</th>\n",
       "      <td>Longest Substring Without Repeating Characters</td>\n",
       "      <td>Longest Common Prefix</td>\n",
       "      <td>Pascal's Triangle</td>\n",
       "      <td>Delete Node in a Linked List</td>\n",
       "      <td>Remove Element</td>\n",
       "      <td>Summary Ranges</td>\n",
       "      <td>Intersection of Two Arrays II</td>\n",
       "      <td>None</td>\n",
       "      <td>Find First and Last Position of Element in Sor...</td>\n",
       "      <td>Reverse Words in a String</td>\n",
       "    </tr>\n",
       "    <tr>\n",
       "      <th>2</th>\n",
       "      <td>Longest Palindromic Substring</td>\n",
       "      <td>Valid Parentheses</td>\n",
       "      <td>Valid Palindrome</td>\n",
       "      <td>Linked List Cycle</td>\n",
       "      <td>Search Insert Position</td>\n",
       "      <td>Power of Two</td>\n",
       "      <td>First Unique Character in a String</td>\n",
       "      <td>None</td>\n",
       "      <td>Remove Nth Node From End of List</td>\n",
       "      <td>Integer to Roman</td>\n",
       "    </tr>\n",
       "    <tr>\n",
       "      <th>3</th>\n",
       "      <td>Reverse Integer</td>\n",
       "      <td>Merge Two Sorted Lists</td>\n",
       "      <td>Best Time to Buy and Sell Stock</td>\n",
       "      <td>Intersection of Two Linked Lists</td>\n",
       "      <td>Length of Last Word</td>\n",
       "      <td>Add Digits</td>\n",
       "      <td>Fizz Buzz</td>\n",
       "      <td>None</td>\n",
       "      <td>3Sum</td>\n",
       "      <td>Multiply Strings</td>\n",
       "    </tr>\n",
       "    <tr>\n",
       "      <th>4</th>\n",
       "      <td>String to Integer (atoi)</td>\n",
       "      <td>Remove Duplicates from Sorted Array</td>\n",
       "      <td>Single Number</td>\n",
       "      <td>Reverse Linked List</td>\n",
       "      <td>Add Binary</td>\n",
       "      <td>Ugly Number</td>\n",
       "      <td>Power of Three</td>\n",
       "      <td>None</td>\n",
       "      <td>Generate Parentheses</td>\n",
       "      <td>Remove Duplicates from Sorted List II</td>\n",
       "    </tr>\n",
       "    <tr>\n",
       "      <th>5</th>\n",
       "      <td>Container With Most Water</td>\n",
       "      <td>Implement strStr()</td>\n",
       "      <td>Majority Element</td>\n",
       "      <td>Contains Duplicate</td>\n",
       "      <td>Remove Duplicates from Sorted List</td>\n",
       "      <td>First Bad Version</td>\n",
       "      <td>Middle of the Linked List</td>\n",
       "      <td>None</td>\n",
       "      <td>Search in Rotated Sorted Array</td>\n",
       "      <td>None</td>\n",
       "    </tr>\n",
       "    <tr>\n",
       "      <th>6</th>\n",
       "      <td>Letter Combinations of a Phone Number</td>\n",
       "      <td>Plus One</td>\n",
       "      <td>Binary Tree Inorder Traversal</td>\n",
       "      <td>Palindrome Linked List</td>\n",
       "      <td>Pascal's Triangle II</td>\n",
       "      <td>Word Pattern</td>\n",
       "      <td>Nim Game</td>\n",
       "      <td>None</td>\n",
       "      <td>Valid Sudoku</td>\n",
       "      <td>None</td>\n",
       "    </tr>\n",
       "    <tr>\n",
       "      <th>7</th>\n",
       "      <td>Divide Two Integers</td>\n",
       "      <td>Sqrt(x)</td>\n",
       "      <td>Excel Sheet Column Number</td>\n",
       "      <td>Valid Anagram</td>\n",
       "      <td>Excel Sheet Column Title</td>\n",
       "      <td>Range Sum Query   Immutable</td>\n",
       "      <td>Intersection of Two Arrays</td>\n",
       "      <td>None</td>\n",
       "      <td>Count and Say</td>\n",
       "      <td>None</td>\n",
       "    </tr>\n",
       "    <tr>\n",
       "      <th>8</th>\n",
       "      <td>Rotate Image</td>\n",
       "      <td>Climbing Stairs</td>\n",
       "      <td>Reverse Bits</td>\n",
       "      <td>Missing Number</td>\n",
       "      <td>Remove Linked List Elements</td>\n",
       "      <td>Counting Bits</td>\n",
       "      <td>Reverse Vowels of a String</td>\n",
       "      <td>None</td>\n",
       "      <td>Pow(x, n)</td>\n",
       "      <td>None</td>\n",
       "    </tr>\n",
       "    <tr>\n",
       "      <th>9</th>\n",
       "      <td>Group Anagrams</td>\n",
       "      <td>Two Sum</td>\n",
       "      <td>Number of 1 Bits</td>\n",
       "      <td>None</td>\n",
       "      <td>Isomorphic Strings</td>\n",
       "      <td>Power of Four</td>\n",
       "      <td>Third Maximum Number</td>\n",
       "      <td>None</td>\n",
       "      <td>Maximum Subarray</td>\n",
       "      <td>None</td>\n",
       "    </tr>\n",
       "  </tbody>\n",
       "</table>\n",
       "</div>"
      ],
      "text/plain": [
       "                                         Medium_1  \\\n",
       "0                                 Add Two Numbers   \n",
       "1  Longest Substring Without Repeating Characters   \n",
       "2                   Longest Palindromic Substring   \n",
       "3                                 Reverse Integer   \n",
       "4                        String to Integer (atoi)   \n",
       "5                       Container With Most Water   \n",
       "6           Letter Combinations of a Phone Number   \n",
       "7                             Divide Two Integers   \n",
       "8                                    Rotate Image   \n",
       "9                                  Group Anagrams   \n",
       "\n",
       "                                Easy_1                           Easy_2  \\\n",
       "0                     Roman to Integer               Merge Sorted Array   \n",
       "1                Longest Common Prefix                Pascal's Triangle   \n",
       "2                    Valid Parentheses                 Valid Palindrome   \n",
       "3               Merge Two Sorted Lists  Best Time to Buy and Sell Stock   \n",
       "4  Remove Duplicates from Sorted Array                    Single Number   \n",
       "5                   Implement strStr()                 Majority Element   \n",
       "6                             Plus One    Binary Tree Inorder Traversal   \n",
       "7                              Sqrt(x)        Excel Sheet Column Number   \n",
       "8                      Climbing Stairs                     Reverse Bits   \n",
       "9                              Two Sum                 Number of 1 Bits   \n",
       "\n",
       "                             Easy_3                              Easy_4  \\\n",
       "0                      Happy Number                   Palindrome Number   \n",
       "1      Delete Node in a Linked List                      Remove Element   \n",
       "2                 Linked List Cycle              Search Insert Position   \n",
       "3  Intersection of Two Linked Lists                 Length of Last Word   \n",
       "4               Reverse Linked List                          Add Binary   \n",
       "5                Contains Duplicate  Remove Duplicates from Sorted List   \n",
       "6            Palindrome Linked List                Pascal's Triangle II   \n",
       "7                     Valid Anagram            Excel Sheet Column Title   \n",
       "8                    Missing Number         Remove Linked List Elements   \n",
       "9                              None                  Isomorphic Strings   \n",
       "\n",
       "                        Easy_5                              Easy_6  \\\n",
       "0        Contains Duplicate II                      Reverse String   \n",
       "1               Summary Ranges       Intersection of Two Arrays II   \n",
       "2                 Power of Two  First Unique Character in a String   \n",
       "3                   Add Digits                           Fizz Buzz   \n",
       "4                  Ugly Number                      Power of Three   \n",
       "5            First Bad Version           Middle of the Linked List   \n",
       "6                 Word Pattern                            Nim Game   \n",
       "7  Range Sum Query   Immutable          Intersection of Two Arrays   \n",
       "8                Counting Bits          Reverse Vowels of a String   \n",
       "9                Power of Four                Third Maximum Number   \n",
       "\n",
       "                        Hard_1  \\\n",
       "0  Regular Expression Matching   \n",
       "1                         None   \n",
       "2                         None   \n",
       "3                         None   \n",
       "4                         None   \n",
       "5                         None   \n",
       "6                         None   \n",
       "7                         None   \n",
       "8                         None   \n",
       "9                         None   \n",
       "\n",
       "                                            Medium_2  \\\n",
       "0                                       Permutations   \n",
       "1  Find First and Last Position of Element in Sor...   \n",
       "2                   Remove Nth Node From End of List   \n",
       "3                                               3Sum   \n",
       "4                               Generate Parentheses   \n",
       "5                     Search in Rotated Sorted Array   \n",
       "6                                       Valid Sudoku   \n",
       "7                                      Count and Say   \n",
       "8                                          Pow(x, n)   \n",
       "9                                   Maximum Subarray   \n",
       "\n",
       "                                Medium_3  \n",
       "0                     String Compression  \n",
       "1              Reverse Words in a String  \n",
       "2                       Integer to Roman  \n",
       "3                       Multiply Strings  \n",
       "4  Remove Duplicates from Sorted List II  \n",
       "5                                   None  \n",
       "6                                   None  \n",
       "7                                   None  \n",
       "8                                   None  \n",
       "9                                   None  "
      ]
     },
     "execution_count": 8,
     "metadata": {},
     "output_type": "execute_result"
    }
   ],
   "source": [
    "df"
   ]
  },
  {
   "cell_type": "markdown",
   "metadata": {},
   "source": [
    "## GFG Problems"
   ]
  },
  {
   "cell_type": "code",
   "execution_count": 9,
   "metadata": {},
   "outputs": [],
   "source": [
    "nb = Notebook(\"GeeksforGeeks\")\n",
    "all_notebooks = [notebook for notebook in nb.notebooks if \"temp\" not in notebook]"
   ]
  },
  {
   "cell_type": "code",
   "execution_count": 10,
   "metadata": {},
   "outputs": [
    {
     "data": {
      "text/plain": [
       "['GeeksforGeeks/Easy_1.ipynb',\n",
       " 'GeeksforGeeks/Easy_2.ipynb',\n",
       " 'GeeksforGeeks/Easy_3.ipynb',\n",
       " 'GeeksforGeeks/Easy_4.ipynb']"
      ]
     },
     "execution_count": 10,
     "metadata": {},
     "output_type": "execute_result"
    }
   ],
   "source": [
    "all_notebooks"
   ]
  },
  {
   "cell_type": "code",
   "execution_count": 11,
   "metadata": {},
   "outputs": [],
   "source": [
    "def find_problems(notebook):\n",
    "    content = nb.create_content(notebook, return_string=True, verbose=0)\n",
    "    reg = re.compile(r\"\"\"#\\d+\\.-(.*)\">\\d+\"\"\")\n",
    "    problems = reg.findall(content)\n",
    "    problems = [problem.replace(\"-\", \" \") for problem in problems]\n",
    "    return problems"
   ]
  },
  {
   "cell_type": "code",
   "execution_count": 12,
   "metadata": {},
   "outputs": [
    {
     "name": "stderr",
     "output_type": "stream",
     "text": [
      "QXcbClipboard::setMimeData: Cannot set X11 selection owner\n",
      "QXcbClipboard::setMimeData: Cannot set X11 selection owner\n",
      "QXcbClipboard::setMimeData: Cannot set X11 selection owner\n",
      "QXcbClipboard::setMimeData: Cannot set X11 selection owner\n"
     ]
    }
   ],
   "source": [
    "problems = [find_problems(notebook) for notebook in all_notebooks]"
   ]
  },
  {
   "cell_type": "code",
   "execution_count": 13,
   "metadata": {},
   "outputs": [
    {
     "data": {
      "text/plain": [
       "['Easy_1', 'Easy_2', 'Easy_3', 'Easy_4']"
      ]
     },
     "execution_count": 13,
     "metadata": {},
     "output_type": "execute_result"
    }
   ],
   "source": [
    "problem_notebooks = [notebook.split(\"/\")[-1].split(\".\")[0] for notebook in all_notebooks]\n",
    "problem_notebooks"
   ]
  },
  {
   "cell_type": "code",
   "execution_count": 14,
   "metadata": {},
   "outputs": [],
   "source": [
    "df2 = pd.DataFrame(problems).T\n",
    "df2.columns=problem_notebooks"
   ]
  },
  {
   "cell_type": "code",
   "execution_count": 15,
   "metadata": {},
   "outputs": [
    {
     "data": {
      "text/html": [
       "<div>\n",
       "<style scoped>\n",
       "    .dataframe tbody tr th:only-of-type {\n",
       "        vertical-align: middle;\n",
       "    }\n",
       "\n",
       "    .dataframe tbody tr th {\n",
       "        vertical-align: top;\n",
       "    }\n",
       "\n",
       "    .dataframe thead th {\n",
       "        text-align: right;\n",
       "    }\n",
       "</style>\n",
       "<table border=\"1\" class=\"dataframe\">\n",
       "  <thead>\n",
       "    <tr style=\"text-align: right;\">\n",
       "      <th></th>\n",
       "      <th>Easy_1</th>\n",
       "      <th>Easy_2</th>\n",
       "      <th>Easy_3</th>\n",
       "      <th>Easy_4</th>\n",
       "    </tr>\n",
       "  </thead>\n",
       "  <tbody>\n",
       "    <tr>\n",
       "      <th>0</th>\n",
       "      <td>Subarray with given sum</td>\n",
       "      <td>Peak element</td>\n",
       "      <td>Delete without head pointer</td>\n",
       "      <td>Stock buy and sell</td>\n",
       "    </tr>\n",
       "    <tr>\n",
       "      <th>1</th>\n",
       "      <td>Check for BST</td>\n",
       "      <td>Check if Linked List is Palindrome</td>\n",
       "      <td>Rotate Array</td>\n",
       "      <td>Array Subset of another array</td>\n",
       "    </tr>\n",
       "    <tr>\n",
       "      <th>2</th>\n",
       "      <td>Missing number in array</td>\n",
       "      <td>Diameter of a Binary Tree</td>\n",
       "      <td>Add two numbers represented by linked lists</td>\n",
       "      <td>Find all pairs with a given sum</td>\n",
       "    </tr>\n",
       "    <tr>\n",
       "      <th>3</th>\n",
       "      <td>Left View of Binary Tree</td>\n",
       "      <td>Equilibrium Point</td>\n",
       "      <td>Common elements</td>\n",
       "      <td>Count distinct elements in every window</td>\n",
       "    </tr>\n",
       "    <tr>\n",
       "      <th>4</th>\n",
       "      <td>Detect Loop in linked list</td>\n",
       "      <td>Parenthesis Checker</td>\n",
       "      <td>Largest subarray with 0 sum</td>\n",
       "      <td>None</td>\n",
       "    </tr>\n",
       "    <tr>\n",
       "      <th>5</th>\n",
       "      <td>Find duplicates in an array</td>\n",
       "      <td>Count pairs with given sum</td>\n",
       "      <td>Longest Common Prefix in an Array</td>\n",
       "      <td>None</td>\n",
       "    </tr>\n",
       "    <tr>\n",
       "      <th>6</th>\n",
       "      <td>Sort an array of 0s, 1s and 2s</td>\n",
       "      <td>Leaders in an array</td>\n",
       "      <td>Swapping pairs make sum equal</td>\n",
       "      <td>None</td>\n",
       "    </tr>\n",
       "    <tr>\n",
       "      <th>7</th>\n",
       "      <td>Nth node from end of linked list</td>\n",
       "      <td>Check for Balanced Tree</td>\n",
       "      <td>Maximum no of 1's row</td>\n",
       "      <td>None</td>\n",
       "    </tr>\n",
       "    <tr>\n",
       "      <th>8</th>\n",
       "      <td>Finding middle element in a linked list</td>\n",
       "      <td>Remove duplicate element from sorted Linked List</td>\n",
       "      <td>Anagram</td>\n",
       "      <td>None</td>\n",
       "    </tr>\n",
       "    <tr>\n",
       "      <th>9</th>\n",
       "      <td>Reverse a linked list</td>\n",
       "      <td>Find Transition Point</td>\n",
       "      <td>Maximize Toys</td>\n",
       "      <td>None</td>\n",
       "    </tr>\n",
       "  </tbody>\n",
       "</table>\n",
       "</div>"
      ],
      "text/plain": [
       "                                    Easy_1  \\\n",
       "0                  Subarray with given sum   \n",
       "1                            Check for BST   \n",
       "2                  Missing number in array   \n",
       "3                 Left View of Binary Tree   \n",
       "4               Detect Loop in linked list   \n",
       "5              Find duplicates in an array   \n",
       "6           Sort an array of 0s, 1s and 2s   \n",
       "7         Nth node from end of linked list   \n",
       "8  Finding middle element in a linked list   \n",
       "9                    Reverse a linked list   \n",
       "\n",
       "                                             Easy_2  \\\n",
       "0                                      Peak element   \n",
       "1                Check if Linked List is Palindrome   \n",
       "2                         Diameter of a Binary Tree   \n",
       "3                                 Equilibrium Point   \n",
       "4                               Parenthesis Checker   \n",
       "5                        Count pairs with given sum   \n",
       "6                               Leaders in an array   \n",
       "7                           Check for Balanced Tree   \n",
       "8  Remove duplicate element from sorted Linked List   \n",
       "9                             Find Transition Point   \n",
       "\n",
       "                                        Easy_3  \\\n",
       "0                  Delete without head pointer   \n",
       "1                                 Rotate Array   \n",
       "2  Add two numbers represented by linked lists   \n",
       "3                              Common elements   \n",
       "4                  Largest subarray with 0 sum   \n",
       "5            Longest Common Prefix in an Array   \n",
       "6                Swapping pairs make sum equal   \n",
       "7                        Maximum no of 1's row   \n",
       "8                                      Anagram   \n",
       "9                                Maximize Toys   \n",
       "\n",
       "                                    Easy_4  \n",
       "0                       Stock buy and sell  \n",
       "1            Array Subset of another array  \n",
       "2          Find all pairs with a given sum  \n",
       "3  Count distinct elements in every window  \n",
       "4                                     None  \n",
       "5                                     None  \n",
       "6                                     None  \n",
       "7                                     None  \n",
       "8                                     None  \n",
       "9                                     None  "
      ]
     },
     "execution_count": 15,
     "metadata": {},
     "output_type": "execute_result"
    }
   ],
   "source": [
    "df2"
   ]
  },
  {
   "cell_type": "markdown",
   "metadata": {},
   "source": [
    "## To HTML"
   ]
  },
  {
   "cell_type": "code",
   "execution_count": 16,
   "metadata": {},
   "outputs": [],
   "source": [
    "html_start = \"\"\"<!DOCTYPE html>\n",
    "<html lang=\"en\">\n",
    "<head>\n",
    "    <meta charset=\"UTF-8\">\n",
    "    <meta name=\"viewport\" content=\"width=device-width, initial-scale=1.0\">\n",
    "    <meta http-equiv=\"X-UA-Compatible\" content=\"ie=edge\">\n",
    "    <title>All Problems</title>\n",
    "    <link rel=\"stylesheet\" href=\"https://stackpath.bootstrapcdn.com/bootstrap/4.3.1/css/bootstrap.min.css\" integrity=\"sha384-ggOyR0iXCbMQv3Xipma34MD+dH/1fQ784/j6cY/iJTQUOhcWr7x9JvoRxT2MZw1T\" crossorigin=\"anonymous\">\n",
    "    <script src=\"https://code.jquery.com/jquery-3.3.1.slim.min.js\" integrity=\"sha384-q8i/X+965DzO0rT7abK41JStQIAqVgRVzpbzo5smXKp4YfRvH+8abtTE1Pi6jizo\" crossorigin=\"anonymous\"></script>\n",
    " <style>\n",
    "    body {\n",
    "      background-color: rgb(41, 41, 46);\n",
    "    }\n",
    "\n",
    "    .links {\n",
    "      text-decoration: none;\n",
    "      color: rgb(135, 192, 241);\n",
    "    }\n",
    "  </style>\n",
    "</head>\n",
    "<body>\n",
    "    <div class=\"container\">\n",
    "        <h1 class=\"pt-3 text-center\">All Problems</h1>\n",
    "        <h2 class=\"py-1\">LeetCode</h2>\"\"\""
   ]
  },
  {
   "cell_type": "code",
   "execution_count": 17,
   "metadata": {},
   "outputs": [],
   "source": [
    "html_start+=df.to_html(index=False)\n",
    "html_start+=\"\"\"<h2 class=\"py-1\">GeeksforGeeks</h2>\"\"\"\n",
    "html_start+=df2.to_html(index=False)\n",
    "html_start+=\"\"\"</div>\n",
    "</body>\n",
    "</html>\"\"\"\n"
   ]
  },
  {
   "cell_type": "code",
   "execution_count": 18,
   "metadata": {},
   "outputs": [],
   "source": [
    "html_start = html_start.replace(\"\"\"style=\"text-align: right;\"\"\", \"\")\n",
    "html_start = html_start.replace(\"\"\"border=\"1\" \"\"\", \"\")\n",
    "html_start = html_start.replace(\"dataframe\", \"table table-striped\")"
   ]
  },
  {
   "cell_type": "code",
   "execution_count": 19,
   "metadata": {},
   "outputs": [],
   "source": [
    "with open(\"All_Problems.html\", \"w\") as f:\n",
    "    f.write(html_start)"
   ]
  }
 ],
 "metadata": {
  "kernelspec": {
   "display_name": "Python 3.9.12 ('data-science')",
   "language": "python",
   "name": "python3"
  },
  "language_info": {
   "codemirror_mode": {
    "name": "ipython",
    "version": 3
   },
   "file_extension": ".py",
   "mimetype": "text/x-python",
   "name": "python",
   "nbconvert_exporter": "python",
   "pygments_lexer": "ipython3",
   "version": "3.9.12"
  },
  "orig_nbformat": 4,
  "vscode": {
   "interpreter": {
    "hash": "2efee1efa502125d01e6b4768ba06d9453d29f3642bfd14ad5d4a769de82e88c"
   }
  }
 },
 "nbformat": 4,
 "nbformat_minor": 2
}
