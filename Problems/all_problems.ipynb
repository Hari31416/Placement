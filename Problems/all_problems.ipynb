{
 "cells": [
  {
   "cell_type": "code",
   "execution_count": 16,
   "metadata": {},
   "outputs": [],
   "source": [
    "import sys\n",
    "sys.path.append(\"../tools\")\n",
    "from files.notebook import Notebook\n",
    "import re\n",
    "import pandas as pd"
   ]
  },
  {
   "cell_type": "markdown",
   "metadata": {},
   "source": [
    "## LeetCode Problems"
   ]
  },
  {
   "cell_type": "code",
   "execution_count": 17,
   "metadata": {},
   "outputs": [],
   "source": [
    "nb = Notebook(\"LeetCode\")\n",
    "all_notebooks = [notebook for notebook in nb.notebooks if \"temp\" not in notebook]"
   ]
  },
  {
   "cell_type": "code",
   "execution_count": 18,
   "metadata": {},
   "outputs": [
    {
     "data": {
      "text/plain": [
       "['LeetCode/Easy_1.ipynb',\n",
       " 'LeetCode/Easy_2.ipynb',\n",
       " 'LeetCode/Easy_3.ipynb',\n",
       " 'LeetCode/Easy_4.ipynb',\n",
       " 'LeetCode/Easy_5.ipynb',\n",
       " 'LeetCode/Hard_1.ipynb',\n",
       " 'LeetCode/Medium_1.ipynb',\n",
       " 'LeetCode/Medium_2.ipynb']"
      ]
     },
     "execution_count": 18,
     "metadata": {},
     "output_type": "execute_result"
    }
   ],
   "source": [
    "all_notebooks"
   ]
  },
  {
   "cell_type": "code",
   "execution_count": 19,
   "metadata": {},
   "outputs": [],
   "source": [
    "def find_problems(notebook):\n",
    "    content = nb.create_content(notebook, return_string=True)\n",
    "    reg = re.compile(r\"\"\"#\\d+\\.-(.*)\">\\d+\"\"\")\n",
    "    problems = reg.findall(content)\n",
    "    problems = [problem.replace(\"-\", \" \") for problem in problems]\n",
    "    return problems"
   ]
  },
  {
   "cell_type": "code",
   "execution_count": 20,
   "metadata": {},
   "outputs": [
    {
     "name": "stdout",
     "output_type": "stream",
     "text": [
      "Converting the Notebook to HTML.\n",
      "Looking for the Headers and their positions.\n",
      "Getting correct order of the Headers.\n",
      "Creating the Contents.\n",
      "Content copied to clipboard.\n",
      "Converting the Notebook to HTML.\n"
     ]
    },
    {
     "name": "stderr",
     "output_type": "stream",
     "text": [
      "QXcbClipboard::setMimeData: Cannot set X11 selection owner\n"
     ]
    },
    {
     "name": "stdout",
     "output_type": "stream",
     "text": [
      "Looking for the Headers and their positions.\n",
      "Getting correct order of the Headers.\n",
      "Creating the Contents.\n",
      "Content copied to clipboard.\n",
      "Converting the Notebook to HTML.\n"
     ]
    },
    {
     "name": "stderr",
     "output_type": "stream",
     "text": [
      "QXcbClipboard::setMimeData: Cannot set X11 selection owner\n"
     ]
    },
    {
     "name": "stdout",
     "output_type": "stream",
     "text": [
      "Looking for the Headers and their positions.\n",
      "Getting correct order of the Headers.\n",
      "Creating the Contents.\n",
      "Content copied to clipboard.\n",
      "Converting the Notebook to HTML.\n"
     ]
    },
    {
     "name": "stderr",
     "output_type": "stream",
     "text": [
      "QXcbClipboard::setMimeData: Cannot set X11 selection owner\n"
     ]
    },
    {
     "name": "stdout",
     "output_type": "stream",
     "text": [
      "Looking for the Headers and their positions.\n",
      "Getting correct order of the Headers.\n",
      "Creating the Contents.\n",
      "Content copied to clipboard.\n",
      "Converting the Notebook to HTML.\n"
     ]
    },
    {
     "name": "stderr",
     "output_type": "stream",
     "text": [
      "QXcbClipboard::setMimeData: Cannot set X11 selection owner\n"
     ]
    },
    {
     "name": "stdout",
     "output_type": "stream",
     "text": [
      "Looking for the Headers and their positions.\n",
      "Getting correct order of the Headers.\n",
      "Creating the Contents.\n",
      "Content copied to clipboard.\n",
      "Converting the Notebook to HTML.\n"
     ]
    },
    {
     "name": "stderr",
     "output_type": "stream",
     "text": [
      "QXcbClipboard::setMimeData: Cannot set X11 selection owner\n"
     ]
    },
    {
     "name": "stdout",
     "output_type": "stream",
     "text": [
      "Looking for the Headers and their positions.\n",
      "Getting correct order of the Headers.\n",
      "Creating the Contents.\n",
      "Content copied to clipboard.\n",
      "Converting the Notebook to HTML.\n"
     ]
    },
    {
     "name": "stderr",
     "output_type": "stream",
     "text": [
      "QXcbClipboard::setMimeData: Cannot set X11 selection owner\n"
     ]
    },
    {
     "name": "stdout",
     "output_type": "stream",
     "text": [
      "Looking for the Headers and their positions.\n",
      "Getting correct order of the Headers.\n",
      "Creating the Contents.\n",
      "Content copied to clipboard.\n",
      "Converting the Notebook to HTML.\n"
     ]
    },
    {
     "name": "stderr",
     "output_type": "stream",
     "text": [
      "QXcbClipboard::setMimeData: Cannot set X11 selection owner\n"
     ]
    },
    {
     "name": "stdout",
     "output_type": "stream",
     "text": [
      "Looking for the Headers and their positions.\n",
      "Getting correct order of the Headers.\n",
      "Creating the Contents.\n",
      "Content copied to clipboard.\n"
     ]
    },
    {
     "name": "stderr",
     "output_type": "stream",
     "text": [
      "QXcbClipboard::setMimeData: Cannot set X11 selection owner\n"
     ]
    }
   ],
   "source": [
    "problems = [find_problems(notebook) for notebook in all_notebooks]"
   ]
  },
  {
   "cell_type": "code",
   "execution_count": 21,
   "metadata": {},
   "outputs": [
    {
     "data": {
      "text/plain": [
       "['Easy_1',\n",
       " 'Easy_2',\n",
       " 'Easy_3',\n",
       " 'Easy_4',\n",
       " 'Easy_5',\n",
       " 'Hard_1',\n",
       " 'Medium_1',\n",
       " 'Medium_2']"
      ]
     },
     "execution_count": 21,
     "metadata": {},
     "output_type": "execute_result"
    }
   ],
   "source": [
    "problem_notebooks = [notebook.split(\"/\")[-1].split(\".\")[0] for notebook in all_notebooks]\n",
    "problem_notebooks"
   ]
  },
  {
   "cell_type": "code",
   "execution_count": 22,
   "metadata": {},
   "outputs": [],
   "source": [
    "df = pd.DataFrame(problems).T\n",
    "df.columns=problem_notebooks"
   ]
  },
  {
   "cell_type": "code",
   "execution_count": 23,
   "metadata": {},
   "outputs": [
    {
     "data": {
      "text/html": [
       "<div>\n",
       "<style scoped>\n",
       "    .dataframe tbody tr th:only-of-type {\n",
       "        vertical-align: middle;\n",
       "    }\n",
       "\n",
       "    .dataframe tbody tr th {\n",
       "        vertical-align: top;\n",
       "    }\n",
       "\n",
       "    .dataframe thead th {\n",
       "        text-align: right;\n",
       "    }\n",
       "</style>\n",
       "<table border=\"1\" class=\"dataframe\">\n",
       "  <thead>\n",
       "    <tr style=\"text-align: right;\">\n",
       "      <th></th>\n",
       "      <th>Easy_1</th>\n",
       "      <th>Easy_2</th>\n",
       "      <th>Easy_3</th>\n",
       "      <th>Easy_4</th>\n",
       "      <th>Easy_5</th>\n",
       "      <th>Hard_1</th>\n",
       "      <th>Medium_1</th>\n",
       "      <th>Medium_2</th>\n",
       "    </tr>\n",
       "  </thead>\n",
       "  <tbody>\n",
       "    <tr>\n",
       "      <th>0</th>\n",
       "      <td>Two Sum</td>\n",
       "      <td>Merge Sorted Array</td>\n",
       "      <td>Happy Number</td>\n",
       "      <td>Palindrome Number</td>\n",
       "      <td>Contains Duplicate II</td>\n",
       "      <td>Regular Expression Matching</td>\n",
       "      <td>Add Two Numbers</td>\n",
       "      <td>Permutations</td>\n",
       "    </tr>\n",
       "    <tr>\n",
       "      <th>1</th>\n",
       "      <td>Roman to Integer</td>\n",
       "      <td>Pascal's Triangle</td>\n",
       "      <td>Delete Node in a Linked List</td>\n",
       "      <td>Remove Element</td>\n",
       "      <td>Summary Ranges</td>\n",
       "      <td>None</td>\n",
       "      <td>Longest Substring Without Repeating Characters</td>\n",
       "      <td>Find First and Last Position of Element in Sor...</td>\n",
       "    </tr>\n",
       "    <tr>\n",
       "      <th>2</th>\n",
       "      <td>Longest Common Prefix</td>\n",
       "      <td>Valid Palindrome</td>\n",
       "      <td>Linked List Cycle</td>\n",
       "      <td>Search Insert Position</td>\n",
       "      <td>Power of Two</td>\n",
       "      <td>None</td>\n",
       "      <td>Longest Palindromic Substring</td>\n",
       "      <td>None</td>\n",
       "    </tr>\n",
       "    <tr>\n",
       "      <th>3</th>\n",
       "      <td>Valid Parentheses</td>\n",
       "      <td>Best Time to Buy and Sell Stock</td>\n",
       "      <td>Intersection of Two Linked Lists</td>\n",
       "      <td>Length of Last Word</td>\n",
       "      <td>Add Digits</td>\n",
       "      <td>None</td>\n",
       "      <td>Reverse Integer</td>\n",
       "      <td>None</td>\n",
       "    </tr>\n",
       "    <tr>\n",
       "      <th>4</th>\n",
       "      <td>Merge Two Sorted Lists</td>\n",
       "      <td>Single Number</td>\n",
       "      <td>Reverse Linked List</td>\n",
       "      <td>Add Binary</td>\n",
       "      <td>Ugly Number</td>\n",
       "      <td>None</td>\n",
       "      <td>String to Integer (atoi)</td>\n",
       "      <td>None</td>\n",
       "    </tr>\n",
       "    <tr>\n",
       "      <th>5</th>\n",
       "      <td>Remove Duplicates from Sorted Array</td>\n",
       "      <td>Majority Element</td>\n",
       "      <td>Contains Duplicate</td>\n",
       "      <td>Remove Duplicates from Sorted List</td>\n",
       "      <td>First Bad Version</td>\n",
       "      <td>None</td>\n",
       "      <td>Container With Most Water</td>\n",
       "      <td>None</td>\n",
       "    </tr>\n",
       "    <tr>\n",
       "      <th>6</th>\n",
       "      <td>Implement strStr()</td>\n",
       "      <td>Binary Tree Inorder Traversal</td>\n",
       "      <td>Palindrome Linked List</td>\n",
       "      <td>Pascal's Triangle II</td>\n",
       "      <td>Word Pattern</td>\n",
       "      <td>None</td>\n",
       "      <td>Letter Combinations of a Phone Number</td>\n",
       "      <td>None</td>\n",
       "    </tr>\n",
       "    <tr>\n",
       "      <th>7</th>\n",
       "      <td>Plus One</td>\n",
       "      <td>Excel Sheet Column Number</td>\n",
       "      <td>Valid Anagram</td>\n",
       "      <td>Excel Sheet Column Title</td>\n",
       "      <td>Range Sum Query   Immutable</td>\n",
       "      <td>None</td>\n",
       "      <td>Divide Two Integers</td>\n",
       "      <td>None</td>\n",
       "    </tr>\n",
       "    <tr>\n",
       "      <th>8</th>\n",
       "      <td>Sqrt(x)</td>\n",
       "      <td>Reverse Bits</td>\n",
       "      <td>Missing Number</td>\n",
       "      <td>Remove Linked List Elements</td>\n",
       "      <td>Counting Bits</td>\n",
       "      <td>None</td>\n",
       "      <td>Rotate Image</td>\n",
       "      <td>None</td>\n",
       "    </tr>\n",
       "    <tr>\n",
       "      <th>9</th>\n",
       "      <td>Climbing Stairs</td>\n",
       "      <td>Number of 1 Bits</td>\n",
       "      <td>Reverse String</td>\n",
       "      <td>Isomorphic Strings</td>\n",
       "      <td>Power of Four</td>\n",
       "      <td>None</td>\n",
       "      <td>Group Anagrams</td>\n",
       "      <td>None</td>\n",
       "    </tr>\n",
       "    <tr>\n",
       "      <th>10</th>\n",
       "      <td>None</td>\n",
       "      <td>None</td>\n",
       "      <td>Intersection of Two Arrays II</td>\n",
       "      <td>None</td>\n",
       "      <td>None</td>\n",
       "      <td>None</td>\n",
       "      <td>None</td>\n",
       "      <td>None</td>\n",
       "    </tr>\n",
       "    <tr>\n",
       "      <th>11</th>\n",
       "      <td>None</td>\n",
       "      <td>None</td>\n",
       "      <td>First Unique Character in a String</td>\n",
       "      <td>None</td>\n",
       "      <td>None</td>\n",
       "      <td>None</td>\n",
       "      <td>None</td>\n",
       "      <td>None</td>\n",
       "    </tr>\n",
       "    <tr>\n",
       "      <th>12</th>\n",
       "      <td>None</td>\n",
       "      <td>None</td>\n",
       "      <td>Fizz Buzz</td>\n",
       "      <td>None</td>\n",
       "      <td>None</td>\n",
       "      <td>None</td>\n",
       "      <td>None</td>\n",
       "      <td>None</td>\n",
       "    </tr>\n",
       "    <tr>\n",
       "      <th>13</th>\n",
       "      <td>None</td>\n",
       "      <td>None</td>\n",
       "      <td>Power of Three</td>\n",
       "      <td>None</td>\n",
       "      <td>None</td>\n",
       "      <td>None</td>\n",
       "      <td>None</td>\n",
       "      <td>None</td>\n",
       "    </tr>\n",
       "  </tbody>\n",
       "</table>\n",
       "</div>"
      ],
      "text/plain": [
       "                                 Easy_1                           Easy_2  \\\n",
       "0                               Two Sum               Merge Sorted Array   \n",
       "1                      Roman to Integer                Pascal's Triangle   \n",
       "2                 Longest Common Prefix                 Valid Palindrome   \n",
       "3                     Valid Parentheses  Best Time to Buy and Sell Stock   \n",
       "4                Merge Two Sorted Lists                    Single Number   \n",
       "5   Remove Duplicates from Sorted Array                 Majority Element   \n",
       "6                    Implement strStr()    Binary Tree Inorder Traversal   \n",
       "7                              Plus One        Excel Sheet Column Number   \n",
       "8                               Sqrt(x)                     Reverse Bits   \n",
       "9                       Climbing Stairs                 Number of 1 Bits   \n",
       "10                                 None                             None   \n",
       "11                                 None                             None   \n",
       "12                                 None                             None   \n",
       "13                                 None                             None   \n",
       "\n",
       "                                Easy_3                              Easy_4  \\\n",
       "0                         Happy Number                   Palindrome Number   \n",
       "1         Delete Node in a Linked List                      Remove Element   \n",
       "2                    Linked List Cycle              Search Insert Position   \n",
       "3     Intersection of Two Linked Lists                 Length of Last Word   \n",
       "4                  Reverse Linked List                          Add Binary   \n",
       "5                   Contains Duplicate  Remove Duplicates from Sorted List   \n",
       "6               Palindrome Linked List                Pascal's Triangle II   \n",
       "7                        Valid Anagram            Excel Sheet Column Title   \n",
       "8                       Missing Number         Remove Linked List Elements   \n",
       "9                       Reverse String                  Isomorphic Strings   \n",
       "10       Intersection of Two Arrays II                                None   \n",
       "11  First Unique Character in a String                                None   \n",
       "12                           Fizz Buzz                                None   \n",
       "13                      Power of Three                                None   \n",
       "\n",
       "                         Easy_5                       Hard_1  \\\n",
       "0         Contains Duplicate II  Regular Expression Matching   \n",
       "1                Summary Ranges                         None   \n",
       "2                  Power of Two                         None   \n",
       "3                    Add Digits                         None   \n",
       "4                   Ugly Number                         None   \n",
       "5             First Bad Version                         None   \n",
       "6                  Word Pattern                         None   \n",
       "7   Range Sum Query   Immutable                         None   \n",
       "8                 Counting Bits                         None   \n",
       "9                 Power of Four                         None   \n",
       "10                         None                         None   \n",
       "11                         None                         None   \n",
       "12                         None                         None   \n",
       "13                         None                         None   \n",
       "\n",
       "                                          Medium_1  \\\n",
       "0                                  Add Two Numbers   \n",
       "1   Longest Substring Without Repeating Characters   \n",
       "2                    Longest Palindromic Substring   \n",
       "3                                  Reverse Integer   \n",
       "4                         String to Integer (atoi)   \n",
       "5                        Container With Most Water   \n",
       "6            Letter Combinations of a Phone Number   \n",
       "7                              Divide Two Integers   \n",
       "8                                     Rotate Image   \n",
       "9                                   Group Anagrams   \n",
       "10                                            None   \n",
       "11                                            None   \n",
       "12                                            None   \n",
       "13                                            None   \n",
       "\n",
       "                                             Medium_2  \n",
       "0                                        Permutations  \n",
       "1   Find First and Last Position of Element in Sor...  \n",
       "2                                                None  \n",
       "3                                                None  \n",
       "4                                                None  \n",
       "5                                                None  \n",
       "6                                                None  \n",
       "7                                                None  \n",
       "8                                                None  \n",
       "9                                                None  \n",
       "10                                               None  \n",
       "11                                               None  \n",
       "12                                               None  \n",
       "13                                               None  "
      ]
     },
     "execution_count": 23,
     "metadata": {},
     "output_type": "execute_result"
    }
   ],
   "source": [
    "df"
   ]
  },
  {
   "cell_type": "markdown",
   "metadata": {},
   "source": [
    "## GFG Problems"
   ]
  },
  {
   "cell_type": "code",
   "execution_count": 24,
   "metadata": {},
   "outputs": [],
   "source": [
    "nb = Notebook(\"GeeksforGeeks\")\n",
    "all_notebooks = [notebook for notebook in nb.notebooks if \"temp\" not in notebook]"
   ]
  },
  {
   "cell_type": "code",
   "execution_count": 25,
   "metadata": {},
   "outputs": [
    {
     "data": {
      "text/plain": [
       "['GeeksforGeeks/Easy_1.ipynb', 'GeeksforGeeks/Easy_2.ipynb']"
      ]
     },
     "execution_count": 25,
     "metadata": {},
     "output_type": "execute_result"
    }
   ],
   "source": [
    "all_notebooks"
   ]
  },
  {
   "cell_type": "code",
   "execution_count": 26,
   "metadata": {},
   "outputs": [],
   "source": [
    "def find_problems(notebook):\n",
    "    content = nb.create_content(notebook, return_string=True)\n",
    "    reg = re.compile(r\"\"\"#\\d+\\.-(.*)\">\\d+\"\"\")\n",
    "    problems = reg.findall(content)\n",
    "    problems = [problem.replace(\"-\", \" \") for problem in problems]\n",
    "    return problems"
   ]
  },
  {
   "cell_type": "code",
   "execution_count": 27,
   "metadata": {},
   "outputs": [
    {
     "name": "stdout",
     "output_type": "stream",
     "text": [
      "Converting the Notebook to HTML.\n",
      "Looking for the Headers and their positions.\n",
      "Getting correct order of the Headers.\n",
      "Creating the Contents.\n",
      "Content copied to clipboard.\n",
      "Converting the Notebook to HTML.\n"
     ]
    },
    {
     "name": "stderr",
     "output_type": "stream",
     "text": [
      "QXcbClipboard::setMimeData: Cannot set X11 selection owner\n"
     ]
    },
    {
     "name": "stdout",
     "output_type": "stream",
     "text": [
      "Looking for the Headers and their positions.\n",
      "Getting correct order of the Headers.\n",
      "Creating the Contents.\n",
      "Content copied to clipboard.\n"
     ]
    },
    {
     "name": "stderr",
     "output_type": "stream",
     "text": [
      "QXcbClipboard::setMimeData: Cannot set X11 selection owner\n"
     ]
    }
   ],
   "source": [
    "problems = [find_problems(notebook) for notebook in all_notebooks]"
   ]
  },
  {
   "cell_type": "code",
   "execution_count": 28,
   "metadata": {},
   "outputs": [
    {
     "data": {
      "text/plain": [
       "['Easy_1', 'Easy_2']"
      ]
     },
     "execution_count": 28,
     "metadata": {},
     "output_type": "execute_result"
    }
   ],
   "source": [
    "problem_notebooks = [notebook.split(\"/\")[-1].split(\".\")[0] for notebook in all_notebooks]\n",
    "problem_notebooks"
   ]
  },
  {
   "cell_type": "code",
   "execution_count": 29,
   "metadata": {},
   "outputs": [],
   "source": [
    "df2 = pd.DataFrame(problems).T\n",
    "df2.columns=problem_notebooks"
   ]
  },
  {
   "cell_type": "code",
   "execution_count": 30,
   "metadata": {},
   "outputs": [
    {
     "data": {
      "text/html": [
       "<div>\n",
       "<style scoped>\n",
       "    .dataframe tbody tr th:only-of-type {\n",
       "        vertical-align: middle;\n",
       "    }\n",
       "\n",
       "    .dataframe tbody tr th {\n",
       "        vertical-align: top;\n",
       "    }\n",
       "\n",
       "    .dataframe thead th {\n",
       "        text-align: right;\n",
       "    }\n",
       "</style>\n",
       "<table border=\"1\" class=\"dataframe\">\n",
       "  <thead>\n",
       "    <tr style=\"text-align: right;\">\n",
       "      <th></th>\n",
       "      <th>Easy_1</th>\n",
       "      <th>Easy_2</th>\n",
       "    </tr>\n",
       "  </thead>\n",
       "  <tbody>\n",
       "    <tr>\n",
       "      <th>0</th>\n",
       "      <td>Subarray with given sum</td>\n",
       "      <td>Peak element</td>\n",
       "    </tr>\n",
       "    <tr>\n",
       "      <th>1</th>\n",
       "      <td>Check for BST</td>\n",
       "      <td>Check if Linked List is Palindrome</td>\n",
       "    </tr>\n",
       "    <tr>\n",
       "      <th>2</th>\n",
       "      <td>Missing number in array</td>\n",
       "      <td>Diameter of a Binary Tree</td>\n",
       "    </tr>\n",
       "    <tr>\n",
       "      <th>3</th>\n",
       "      <td>Left View of Binary Tree</td>\n",
       "      <td>Equilibrium Point</td>\n",
       "    </tr>\n",
       "    <tr>\n",
       "      <th>4</th>\n",
       "      <td>Detect Loop in linked list</td>\n",
       "      <td>Parenthesis Checker</td>\n",
       "    </tr>\n",
       "    <tr>\n",
       "      <th>5</th>\n",
       "      <td>Find duplicates in an array</td>\n",
       "      <td>Count pairs with given sum</td>\n",
       "    </tr>\n",
       "    <tr>\n",
       "      <th>6</th>\n",
       "      <td>Sort an array of 0s, 1s and 2s</td>\n",
       "      <td>Leaders in an array</td>\n",
       "    </tr>\n",
       "    <tr>\n",
       "      <th>7</th>\n",
       "      <td>Nth node from end of linked list</td>\n",
       "      <td>Check for Balanced Tree</td>\n",
       "    </tr>\n",
       "    <tr>\n",
       "      <th>8</th>\n",
       "      <td>Finding middle element in a linked list</td>\n",
       "      <td>Remove duplicate element from sorted Linked List</td>\n",
       "    </tr>\n",
       "    <tr>\n",
       "      <th>9</th>\n",
       "      <td>Reverse a linked list</td>\n",
       "      <td>Find Transition Point</td>\n",
       "    </tr>\n",
       "  </tbody>\n",
       "</table>\n",
       "</div>"
      ],
      "text/plain": [
       "                                    Easy_1  \\\n",
       "0                  Subarray with given sum   \n",
       "1                            Check for BST   \n",
       "2                  Missing number in array   \n",
       "3                 Left View of Binary Tree   \n",
       "4               Detect Loop in linked list   \n",
       "5              Find duplicates in an array   \n",
       "6           Sort an array of 0s, 1s and 2s   \n",
       "7         Nth node from end of linked list   \n",
       "8  Finding middle element in a linked list   \n",
       "9                    Reverse a linked list   \n",
       "\n",
       "                                             Easy_2  \n",
       "0                                      Peak element  \n",
       "1                Check if Linked List is Palindrome  \n",
       "2                         Diameter of a Binary Tree  \n",
       "3                                 Equilibrium Point  \n",
       "4                               Parenthesis Checker  \n",
       "5                        Count pairs with given sum  \n",
       "6                               Leaders in an array  \n",
       "7                           Check for Balanced Tree  \n",
       "8  Remove duplicate element from sorted Linked List  \n",
       "9                             Find Transition Point  "
      ]
     },
     "execution_count": 30,
     "metadata": {},
     "output_type": "execute_result"
    }
   ],
   "source": [
    "df2"
   ]
  }
 ],
 "metadata": {
  "kernelspec": {
   "display_name": "Python 3.9.12 ('data-science')",
   "language": "python",
   "name": "python3"
  },
  "language_info": {
   "codemirror_mode": {
    "name": "ipython",
    "version": 3
   },
   "file_extension": ".py",
   "mimetype": "text/x-python",
   "name": "python",
   "nbconvert_exporter": "python",
   "pygments_lexer": "ipython3",
   "version": "3.9.12"
  },
  "orig_nbformat": 4,
  "vscode": {
   "interpreter": {
    "hash": "2efee1efa502125d01e6b4768ba06d9453d29f3642bfd14ad5d4a769de82e88c"
   }
  }
 },
 "nbformat": 4,
 "nbformat_minor": 2
}
