{
 "cells": [
  {
   "cell_type": "markdown",
   "metadata": {},
   "source": [
    "# 1. Add Two Numbers\n"
   ]
  },
  {
   "cell_type": "markdown",
   "metadata": {},
   "source": [
    "<div><div><p>You are given two <strong>non-empty</strong> linked lists representing two non-negative integers. The digits are stored in <strong>reverse order</strong>, and each of their nodes contains a single digit. Add the two numbers and return the sum&nbsp;as a linked list.</p>\n",
    "\n",
    "<p>You may assume the two numbers do not contain any leading zero, except the number 0 itself.</p>\n",
    "\n",
    "<p>&nbsp;</p>\n",
    "<p><strong>Example 1:</strong></p>\n",
    "<img alt=\"\" src=\"https://assets.leetcode.com/uploads/2020/10/02/addtwonumber1.jpg\" style=\"width: 483px; height: 342px;\">\n",
    "<pre><strong>Input:</strong> l1 = [2,4,3], l2 = [5,6,4]\n",
    "<strong>Output:</strong> [7,0,8]\n",
    "<strong>Explanation:</strong> 342 + 465 = 807.\n",
    "</pre>\n",
    "\n",
    "<p><strong>Example 2:</strong></p>\n",
    "\n",
    "<pre><strong>Input:</strong> l1 = [0], l2 = [0]\n",
    "<strong>Output:</strong> [0]\n",
    "</pre>\n",
    "\n",
    "<p><strong>Example 3:</strong></p>\n",
    "\n",
    "<pre><strong>Input:</strong> l1 = [9,9,9,9,9,9,9], l2 = [9,9,9,9]\n",
    "<strong>Output:</strong> [8,9,9,9,0,0,0,1]\n",
    "</pre>\n",
    "\n",
    "<p>&nbsp;</p>\n",
    "<p><strong>Constraints:</strong></p>\n",
    "\n",
    "<ul>\n",
    "\t<li>The number of nodes in each linked list is in the range <code>[1, 100]</code>.</li>\n",
    "\t<li><code>0 &lt;= Node.val &lt;= 9</code></li>\n",
    "\t<li>It is guaranteed that the list represents a number that does not have leading zeros.</li>\n",
    "</ul>\n",
    "</div></div>\n"
   ]
  },
  {
   "cell_type": "code",
   "execution_count": 2,
   "metadata": {},
   "outputs": [],
   "source": [
    "class ListNode:\n",
    "    def __init__(self, val=0, next=None):\n",
    "        self.val = val\n",
    "        self.next = next\n",
    "\n",
    "\n",
    "class Solution:\n",
    "    def addTwoNumbers(self, l1, l2):\n",
    "        sum_node = ListNode()\n",
    "        s_head = sum_node\n",
    "        carry = 0\n",
    "        h1 = l1\n",
    "        h2 = l2\n",
    "        while h1 and h2:\n",
    "            sum_ = h1.val + h2.val + carry\n",
    "            carry = sum_ // 10\n",
    "            s_head.val = sum_ % 10\n",
    "            s_head.next = ListNode()\n",
    "            s_head = s_head.next\n",
    "            h1, h2 = h1.next, h2.next\n",
    "        h = h1 if h1 else h2\n",
    "        while h:\n",
    "            sum_ = h.val + carry\n",
    "            carry = sum_ // 10\n",
    "            s_head.val = sum_ % 10\n",
    "            s_head.next = ListNode()\n",
    "            s_head = s_head.next\n",
    "            h = h.next\n",
    "        s_head = sum_node\n",
    "        if carry:\n",
    "            while s_head.next:\n",
    "                s_head = s_head.next\n",
    "            s_head.val = carry\n",
    "        else:\n",
    "            while s_head.next.next:\n",
    "                s_head = s_head.next\n",
    "            s_head.next = None\n",
    "        return sum_node\n"
   ]
  },
  {
   "cell_type": "markdown",
   "metadata": {},
   "source": [
    "# 2. Longest Substring Without Repeating Characters\n"
   ]
  },
  {
   "cell_type": "markdown",
   "metadata": {},
   "source": [
    "<div><p>Given a string <code>s</code>, find the length of the <strong>longest substring</strong> without repeating characters.</p>\n",
    "\n",
    "<p>&nbsp;</p>\n",
    "<p><strong>Example 1:</strong></p>\n",
    "\n",
    "<pre><strong>Input:</strong> s = \"abcabcbb\"\n",
    "<strong>Output:</strong> 3\n",
    "<strong>Explanation:</strong> The answer is \"abc\", with the length of 3.\n",
    "</pre>\n",
    "\n",
    "<p><strong>Example 2:</strong></p>\n",
    "\n",
    "<pre><strong>Input:</strong> s = \"bbbbb\"\n",
    "<strong>Output:</strong> 1\n",
    "<strong>Explanation:</strong> The answer is \"b\", with the length of 1.\n",
    "</pre>\n",
    "\n",
    "<p><strong>Example 3:</strong></p>\n",
    "\n",
    "<pre><strong>Input:</strong> s = \"pwwkew\"\n",
    "<strong>Output:</strong> 3\n",
    "<strong>Explanation:</strong> The answer is \"wke\", with the length of 3.\n",
    "Notice that the answer must be a substring, \"pwke\" is a subsequence and not a substring.\n",
    "</pre>\n",
    "\n",
    "<p>&nbsp;</p>\n",
    "<p><strong>Constraints:</strong></p>\n",
    "\n",
    "<ul>\n",
    "\t<li><code>0 &lt;= s.length &lt;= 5 * 10<sup>4</sup></code></li>\n",
    "\t<li><code>s</code> consists of English letters, digits, symbols and spaces.</li>\n",
    "</ul>\n",
    "</div>\n"
   ]
  },
  {
   "cell_type": "code",
   "execution_count": 44,
   "metadata": {},
   "outputs": [],
   "source": [
    "def largest_substring(s):\n",
    "    if not s:\n",
    "        return 0\n",
    "    already_in = []\n",
    "    max_num = 0\n",
    "    for i, char in enumerate(s):\n",
    "        if char not in already_in:\n",
    "            already_in.append(char)\n",
    "        else:\n",
    "            j = already_in.index(char)\n",
    "            already_in = already_in[j + 1 :]\n",
    "            already_in.append(char)\n",
    "        if len(already_in) > max_num:\n",
    "            max_num = len(already_in)\n",
    "    return max_num\n"
   ]
  },
  {
   "cell_type": "code",
   "execution_count": 45,
   "metadata": {},
   "outputs": [
    {
     "data": {
      "text/plain": [
       "3"
      ]
     },
     "execution_count": 45,
     "metadata": {},
     "output_type": "execute_result"
    }
   ],
   "source": [
    "largest_substring(\"davd\")\n"
   ]
  },
  {
   "cell_type": "code",
   "execution_count": 46,
   "metadata": {},
   "outputs": [
    {
     "data": {
      "text/plain": [
       "3"
      ]
     },
     "execution_count": 46,
     "metadata": {},
     "output_type": "execute_result"
    }
   ],
   "source": [
    "largest_substring(\"aabaab!bb\")\n"
   ]
  },
  {
   "cell_type": "code",
   "execution_count": 83,
   "metadata": {},
   "outputs": [],
   "source": [
    "def largest_substring(s):\n",
    "    if not s:\n",
    "        return 0\n",
    "    already_in = []\n",
    "    max_num = 0\n",
    "    hash = {}\n",
    "    for i, char in enumerate(s):\n",
    "        if char not in already_in:\n",
    "            already_in.append(char)\n",
    "            hash[char] = i\n",
    "        else:\n",
    "            hash[char] = i\n",
    "            j = hash[char]\n",
    "            already_in = already_in[j:]\n",
    "            already_in.append(char)\n",
    "        if len(already_in) > max_num:\n",
    "            max_num = len(already_in)\n",
    "        print(already_in)\n",
    "    return max_num\n"
   ]
  },
  {
   "cell_type": "code",
   "execution_count": 84,
   "metadata": {},
   "outputs": [
    {
     "name": "stdout",
     "output_type": "stream",
     "text": [
      "['a']\n",
      "['a']\n",
      "['a', 'b']\n",
      "['a']\n",
      "['a']\n",
      "['a', 'b']\n",
      "['a', 'b', '!']\n",
      "['b']\n",
      "['b']\n"
     ]
    },
    {
     "data": {
      "text/plain": [
       "3"
      ]
     },
     "execution_count": 84,
     "metadata": {},
     "output_type": "execute_result"
    }
   ],
   "source": [
    "largest_substring(\"aabaab!bb\")\n"
   ]
  },
  {
   "cell_type": "code",
   "execution_count": 85,
   "metadata": {},
   "outputs": [
    {
     "name": "stdout",
     "output_type": "stream",
     "text": [
      "['d']\n",
      "['d', 'v']\n",
      "['d']\n",
      "['d', 'f']\n"
     ]
    },
    {
     "data": {
      "text/plain": [
       "2"
      ]
     },
     "execution_count": 85,
     "metadata": {},
     "output_type": "execute_result"
    }
   ],
   "source": [
    "largest_substring(\"dvdf\")\n"
   ]
  },
  {
   "cell_type": "markdown",
   "metadata": {},
   "source": [
    "# _3. Longest Palindromic Substring_\n"
   ]
  },
  {
   "cell_type": "markdown",
   "metadata": {},
   "source": [
    "<div><p>Given a string <code>s</code>, return <em>the longest palindromic substring</em> in <code>s</code>.</p>\n",
    "\n",
    "<p>&nbsp;</p>\n",
    "<p><strong>Example 1:</strong></p>\n",
    "\n",
    "<pre><strong>Input:</strong> s = \"babad\"\n",
    "<strong>Output:</strong> \"bab\"\n",
    "<strong>Explanation:</strong> \"aba\" is also a valid answer.\n",
    "</pre>\n",
    "\n",
    "<p><strong>Example 2:</strong></p>\n",
    "\n",
    "<pre><strong>Input:</strong> s = \"cbbd\"\n",
    "<strong>Output:</strong> \"bb\"\n",
    "</pre>\n",
    "\n",
    "<p>&nbsp;</p>\n",
    "<p><strong>Constraints:</strong></p>\n",
    "\n",
    "<ul>\n",
    "\t<li><code>1 &lt;= s.length &lt;= 1000</code></li>\n",
    "\t<li><code>s</code> consist of only digits and English letters.</li>\n",
    "</ul>\n",
    "</div>\n"
   ]
  },
  {
   "cell_type": "code",
   "execution_count": 120,
   "metadata": {},
   "outputs": [],
   "source": [
    "def longest_pali(s):\n",
    "    current_pali = s[0]\n",
    "    largest_pali = \"\"\n",
    "    hash = {\n",
    "        s[0]: 0,\n",
    "    }\n",
    "    for i, char in enumerate(s[1:]):\n",
    "        print(current_pali)\n",
    "        current_pali += char\n",
    "        if char in hash:\n",
    "            current_pali = s[hash[char] : i + 1]\n",
    "            if (\n",
    "                len(current_pali) > len(largest_pali)\n",
    "                and current_pali == current_pali[::-1]\n",
    "            ):\n",
    "                largest_pali = current_pali\n",
    "        else:\n",
    "            hash[char] = i + 1\n",
    "    print(hash)\n",
    "    return len(largest_pali)\n"
   ]
  },
  {
   "cell_type": "code",
   "execution_count": 121,
   "metadata": {},
   "outputs": [
    {
     "name": "stdout",
     "output_type": "stream",
     "text": [
      "b\n",
      "ba\n",
      "ba\n",
      "ab\n",
      "{'b': 0, 'a': 1, 'd': 4}\n"
     ]
    },
    {
     "data": {
      "text/plain": [
       "0"
      ]
     },
     "execution_count": 121,
     "metadata": {},
     "output_type": "execute_result"
    }
   ],
   "source": [
    "longest_pali(\"babad\")\n"
   ]
  },
  {
   "cell_type": "markdown",
   "metadata": {},
   "source": [
    "# 4. Reverse Integer\n"
   ]
  },
  {
   "cell_type": "markdown",
   "metadata": {},
   "source": [
    "<div><p>Given a signed 32-bit integer <code>x</code>, return <code>x</code><em> with its digits reversed</em>. If reversing <code>x</code> causes the value to go outside the signed 32-bit integer range <code>[-2<sup>31</sup>, 2<sup>31</sup> - 1]</code>, then return <code>0</code>.</p>\n",
    "\n",
    "<p><strong>Assume the environment does not allow you to store 64-bit integers (signed or unsigned).</strong></p>\n",
    "\n",
    "<p>&nbsp;</p>\n",
    "<p><strong>Example 1:</strong></p>\n",
    "\n",
    "<pre><strong>Input:</strong> x = 123\n",
    "<strong>Output:</strong> 321\n",
    "</pre>\n",
    "\n",
    "<p><strong>Example 2:</strong></p>\n",
    "\n",
    "<pre><strong>Input:</strong> x = -123\n",
    "<strong>Output:</strong> -321\n",
    "</pre>\n",
    "\n",
    "<p><strong>Example 3:</strong></p>\n",
    "\n",
    "<pre><strong>Input:</strong> x = 120\n",
    "<strong>Output:</strong> 21\n",
    "</pre>\n",
    "\n",
    "<p>&nbsp;</p>\n",
    "<p><strong>Constraints:</strong></p>\n",
    "\n",
    "<ul>\n",
    "\t<li><code>-2<sup>31</sup> &lt;= x &lt;= 2<sup>31</sup> - 1</code></li>\n",
    "</ul>\n",
    "</div>\n"
   ]
  },
  {
   "cell_type": "code",
   "execution_count": 133,
   "metadata": {},
   "outputs": [],
   "source": [
    "def reverse(x):\n",
    "    str_x = str(x)\n",
    "    neg = False\n",
    "    if str_x.startswith(\"-\"):\n",
    "        str_x = str_x[1:]\n",
    "        neg = True\n",
    "    reverse_str = str_x[::-1]\n",
    "    reverse_int = int(reverse_str)\n",
    "    if neg:\n",
    "        reverse_int = -reverse_int\n",
    "    if reverse_int <= -(2**31) or reverse_int >= 2**31 - 1:\n",
    "        return 0\n",
    "    return reverse_int\n"
   ]
  },
  {
   "cell_type": "code",
   "execution_count": 134,
   "metadata": {},
   "outputs": [
    {
     "data": {
      "text/plain": [
       "-321"
      ]
     },
     "execution_count": 134,
     "metadata": {},
     "output_type": "execute_result"
    }
   ],
   "source": [
    "reverse(-123)\n"
   ]
  },
  {
   "cell_type": "code",
   "execution_count": 128,
   "metadata": {},
   "outputs": [
    {
     "data": {
      "text/plain": [
       "'-123'"
      ]
     },
     "execution_count": 128,
     "metadata": {},
     "output_type": "execute_result"
    }
   ],
   "source": [
    "str_x = \"-123\"\n",
    "if str_x.endswith(\"-\"):\n",
    "    str_x = str_x[-1:]\n",
    "str_x\n"
   ]
  },
  {
   "cell_type": "code",
   "execution_count": 136,
   "metadata": {},
   "outputs": [
    {
     "data": {
      "text/plain": [
       "2147483648"
      ]
     },
     "execution_count": 136,
     "metadata": {},
     "output_type": "execute_result"
    }
   ],
   "source": [
    "2**31\n"
   ]
  },
  {
   "cell_type": "markdown",
   "metadata": {},
   "source": [
    "# 5. String to Integer (atoi)\n"
   ]
  },
  {
   "cell_type": "markdown",
   "metadata": {},
   "source": [
    "<div><p>Implement the <code>myAtoi(string s)</code> function, which converts a string to a 32-bit signed integer (similar to C/C++'s <code>atoi</code> function).</p>\n",
    "\n",
    "<p>The algorithm for <code>myAtoi(string s)</code> is as follows:</p>\n",
    "\n",
    "<ol>\n",
    "\t<li>Read in and ignore any leading whitespace.</li>\n",
    "\t<li>Check if the next character (if not already at the end of the string) is <code>'-'</code> or <code>'+'</code>. Read this character in if it is either. This determines if the final result is negative or positive respectively. Assume the result is positive if neither is present.</li>\n",
    "\t<li>Read in next the characters until the next non-digit character or the end of the input is reached. The rest of the string is ignored.</li>\n",
    "\t<li>Convert these digits into an integer (i.e. <code>\"123\" -&gt; 123</code>, <code>\"0032\" -&gt; 32</code>). If no digits were read, then the integer is <code>0</code>. Change the sign as necessary (from step 2).</li>\n",
    "\t<li>If the integer is out of the 32-bit signed integer range <code>[-2<sup>31</sup>, 2<sup>31</sup> - 1]</code>, then clamp the integer so that it remains in the range. Specifically, integers less than <code>-2<sup>31</sup></code> should be clamped to <code>-2<sup>31</sup></code>, and integers greater than <code>2<sup>31</sup> - 1</code> should be clamped to <code>2<sup>31</sup> - 1</code>.</li>\n",
    "\t<li>Return the integer as the final result.</li>\n",
    "</ol>\n",
    "\n",
    "<p><strong>Note:</strong></p>\n",
    "\n",
    "<ul>\n",
    "\t<li>Only the space character <code>' '</code> is considered a whitespace character.</li>\n",
    "\t<li><strong>Do not ignore</strong> any characters other than the leading whitespace or the rest of the string after the digits.</li>\n",
    "</ul>\n",
    "\n",
    "<p>&nbsp;</p>\n",
    "<p><strong>Example 1:</strong></p>\n",
    "\n",
    "<pre><strong>Input:</strong> s = \"42\"\n",
    "<strong>Output:</strong> 42\n",
    "<strong>Explanation:</strong> The underlined characters are what is read in, the caret is the current reader position.\n",
    "Step 1: \"42\" (no characters read because there is no leading whitespace)\n",
    "         ^\n",
    "Step 2: \"42\" (no characters read because there is neither a '-' nor '+')\n",
    "         ^\n",
    "Step 3: \"<u>42</u>\" (\"42\" is read in)\n",
    "           ^\n",
    "The parsed integer is 42.\n",
    "Since 42 is in the range [-2<sup>31</sup>, 2<sup>31</sup> - 1], the final result is 42.\n",
    "</pre>\n",
    "\n",
    "<p><strong>Example 2:</strong></p>\n",
    "\n",
    "<pre><strong>Input:</strong> s = \"   -42\"\n",
    "<strong>Output:</strong> -42\n",
    "<strong>Explanation:</strong>\n",
    "Step 1: \"<u>   </u>-42\" (leading whitespace is read and ignored)\n",
    "            ^\n",
    "Step 2: \"   <u>-</u>42\" ('-' is read, so the result should be negative)\n",
    "             ^\n",
    "Step 3: \"   -<u>42</u>\" (\"42\" is read in)\n",
    "               ^\n",
    "The parsed integer is -42.\n",
    "Since -42 is in the range [-2<sup>31</sup>, 2<sup>31</sup> - 1], the final result is -42.\n",
    "</pre>\n",
    "\n",
    "<p><strong>Example 3:</strong></p>\n",
    "\n",
    "<pre><strong>Input:</strong> s = \"4193 with words\"\n",
    "<strong>Output:</strong> 4193\n",
    "<strong>Explanation:</strong>\n",
    "Step 1: \"4193 with words\" (no characters read because there is no leading whitespace)\n",
    "         ^\n",
    "Step 2: \"4193 with words\" (no characters read because there is neither a '-' nor '+')\n",
    "         ^\n",
    "Step 3: \"<u>4193</u> with words\" (\"4193\" is read in; reading stops because the next character is a non-digit)\n",
    "             ^\n",
    "The parsed integer is 4193.\n",
    "Since 4193 is in the range [-2<sup>31</sup>, 2<sup>31</sup> - 1], the final result is 4193.\n",
    "</pre>\n",
    "\n",
    "<p>&nbsp;</p>\n",
    "<p><strong>Constraints:</strong></p>\n",
    "\n",
    "<ul>\n",
    "\t<li><code>0 &lt;= s.length &lt;= 200</code></li>\n",
    "\t<li><code>s</code> consists of English letters (lower-case and upper-case), digits (<code>0-9</code>), <code>' '</code>, <code>'+'</code>, <code>'-'</code>, and <code>'.'</code>.</li>\n",
    "</ul>\n",
    "</div>\n"
   ]
  },
  {
   "cell_type": "code",
   "execution_count": 149,
   "metadata": {},
   "outputs": [],
   "source": [
    "def myatoi(s):\n",
    "    s = s.strip()\n",
    "    positive = True\n",
    "    signed = True\n",
    "    if s[0] == \"+\":\n",
    "        pass\n",
    "    elif s[0] == \"-\":\n",
    "        positive = False\n",
    "    else:\n",
    "        signed = False\n",
    "    nums = []\n",
    "    digits = \"0 1 2 3 4 5 6 7 8 9\".split()\n",
    "    if signed:\n",
    "        s = s[1:]\n",
    "    for char in s:\n",
    "        if char in digits:\n",
    "            nums.append(int(char))\n",
    "        else:\n",
    "            break\n",
    "    num = 0\n",
    "    print(nums)\n",
    "    for i, d in enumerate(nums):\n",
    "        num += d * 10 ** (len(nums) - i - 1)\n",
    "    if not positive:\n",
    "        num = -num\n",
    "\n",
    "    if num <= -(2**31) or num >= 2**31 - 1:\n",
    "        return 0\n",
    "    else:\n",
    "        return num\n"
   ]
  },
  {
   "cell_type": "code",
   "execution_count": 150,
   "metadata": {},
   "outputs": [
    {
     "name": "stdout",
     "output_type": "stream",
     "text": [
      "[4, 1, 9, 3]\n"
     ]
    },
    {
     "data": {
      "text/plain": [
       "-4193"
      ]
     },
     "execution_count": 150,
     "metadata": {},
     "output_type": "execute_result"
    }
   ],
   "source": [
    "myatoi(\"   -4193 with words\")\n"
   ]
  },
  {
   "cell_type": "markdown",
   "metadata": {},
   "source": [
    "# _6. Container With Most Water_\n"
   ]
  },
  {
   "cell_type": "markdown",
   "metadata": {},
   "source": [
    "<div><p>You are given an integer array <code>height</code> of length <code>n</code>. There are <code>n</code> vertical lines drawn such that the two endpoints of the <code>i<sup>th</sup></code> line are <code>(i, 0)</code> and <code>(i, height[i])</code>.</p>\n",
    "\n",
    "<p>Find two lines that together with the x-axis form a container, such that the container contains the most water.</p>\n",
    "\n",
    "<p>Return <em>the maximum amount of water a container can store</em>.</p>\n",
    "\n",
    "<p><strong>Notice</strong> that you may not slant the container.</p>\n",
    "\n",
    "<p>&nbsp;</p>\n",
    "<p><strong>Example 1:</strong></p>\n",
    "<img alt=\"\" src=\"https://s3-lc-upload.s3.amazonaws.com/uploads/2018/07/17/question_11.jpg\" style=\"width: 600px; height: 287px;\">\n",
    "<pre><strong>Input:</strong> height = [1,8,6,2,5,4,8,3,7]\n",
    "<strong>Output:</strong> 49\n",
    "<strong>Explanation:</strong> The above vertical lines are represented by array [1,8,6,2,5,4,8,3,7]. In this case, the max area of water (blue section) the container can contain is 49.\n",
    "</pre>\n",
    "\n",
    "<p><strong>Example 2:</strong></p>\n",
    "\n",
    "<pre><strong>Input:</strong> height = [1,1]\n",
    "<strong>Output:</strong> 1\n",
    "</pre>\n",
    "\n",
    "<p>&nbsp;</p>\n",
    "<p><strong>Constraints:</strong></p>\n",
    "\n",
    "<ul>\n",
    "\t<li><code>n == height.length</code></li>\n",
    "\t<li><code>2 &lt;= n &lt;= 10<sup>5</sup></code></li>\n",
    "\t<li><code>0 &lt;= height[i] &lt;= 10<sup>4</sup></code></li>\n",
    "</ul>\n",
    "</div>\n"
   ]
  },
  {
   "cell_type": "code",
   "execution_count": 13,
   "metadata": {},
   "outputs": [],
   "source": [
    "def max_area(height):\n",
    "    max_area = 0\n",
    "    for i, a in enumerate(height):\n",
    "        for j, b in enumerate(height):\n",
    "            area = (i - j) * (min([a, b]))\n",
    "            if area > max_area:\n",
    "                max_area = area\n",
    "    return max_area\n"
   ]
  },
  {
   "cell_type": "code",
   "execution_count": 14,
   "metadata": {},
   "outputs": [
    {
     "data": {
      "text/plain": [
       "49"
      ]
     },
     "execution_count": 14,
     "metadata": {},
     "output_type": "execute_result"
    }
   ],
   "source": [
    "height = [1, 8, 6, 2, 5, 4, 8, 3, 7]\n",
    "max_area(height)\n"
   ]
  },
  {
   "cell_type": "code",
   "execution_count": 15,
   "metadata": {},
   "outputs": [],
   "source": [
    "def print_list(nums):\n",
    "    left = 1\n",
    "    right = len(nums)-2\n",
    "    a = nums[0]\n",
    "    b = nums[-1]\n",
    "    # print(a, b)\n",
    "    while True:\n",
    "        a_new = nums[left]\n",
    "        b_new = nums[right]\n",
    "        print(\"AB\", a, b)\n",
    "        print(a_new, b_new)\n",
    "        if left-1<right+1:\n",
    "            return a_new, b_new, left, right\n",
    "        if a>a_new and b>b_new:\n",
    "            return a, b, left-1, right+1\n",
    "        if a<=a_new:\n",
    "            left+=1\n",
    "            a = a_new\n",
    "        if b<=b_new:\n",
    "            right-=1\n",
    "            b = b_new\n",
    "        "
   ]
  },
  {
   "cell_type": "code",
   "execution_count": 16,
   "metadata": {},
   "outputs": [],
   "source": [
    "def get_optimum(num):\n",
    "    a_left = num[0]\n",
    "    a_right = num[-1]\n",
    "    left = 0\n",
    "    right = len(num) - 1\n",
    "    while True:\n",
    "        a_left_new = num[left + 1]\n",
    "        a_right_new = num[right - 1]\n",
    "        if right - 1 < left + 1:\n",
    "            break\n",
    "        if a_left > a_left_new:\n",
    "            break\n",
    "        else:\n",
    "            a_left = a_left_new\n",
    "            left += 1\n",
    "        if a_right > a_right_new:\n",
    "            break\n",
    "        else:\n",
    "            a_right = a_right_new\n",
    "            right -= 1\n",
    "        # left+=1\n",
    "        # right-=1\n",
    "        # a_left = a_left_new\n",
    "        # a_right = a_right_new\n",
    "    return a_left, a_right, left, right\n"
   ]
  },
  {
   "cell_type": "code",
   "execution_count": 17,
   "metadata": {},
   "outputs": [
    {
     "name": "stdout",
     "output_type": "stream",
     "text": [
      "AB 1 7\n",
      "8 8\n"
     ]
    },
    {
     "data": {
      "text/plain": [
       "((8, 8, 1, 7), (8, 8, 1, 7))"
      ]
     },
     "execution_count": 17,
     "metadata": {},
     "output_type": "execute_result"
    }
   ],
   "source": [
    "print_list([1, 8, 6, 2, 5, 4, 9, 8, 7]), get_optimum([1, 8, 6, 2, 5, 4, 9, 8, 7])\n"
   ]
  },
  {
   "cell_type": "code",
   "execution_count": 18,
   "metadata": {},
   "outputs": [
    {
     "name": "stdout",
     "output_type": "stream",
     "text": [
      "AB 0 0\n",
      "10 10\n"
     ]
    },
    {
     "data": {
      "text/plain": [
       "((10, 10, 1, 2), (10, 10, 1, 2))"
      ]
     },
     "execution_count": 18,
     "metadata": {},
     "output_type": "execute_result"
    }
   ],
   "source": [
    "print_list([0, 10, 10, 0]), get_optimum([0, 10, 10, 0])\n"
   ]
  },
  {
   "cell_type": "code",
   "execution_count": 19,
   "metadata": {},
   "outputs": [
    {
     "name": "stdout",
     "output_type": "stream",
     "text": [
      "AB 1 7\n",
      "8 3\n"
     ]
    },
    {
     "data": {
      "text/plain": [
       "((8, 3, 1, 7), (8, 7, 1, 8))"
      ]
     },
     "execution_count": 19,
     "metadata": {},
     "output_type": "execute_result"
    }
   ],
   "source": [
    "print_list([1, 8, 6, 2, 5, 4, 8, 3, 7]), get_optimum([1, 8, 6, 2, 5, 4, 8, 3, 7])\n"
   ]
  },
  {
   "cell_type": "code",
   "execution_count": 20,
   "metadata": {},
   "outputs": [],
   "source": [
    "def max_area(height):\n",
    "    if len(height) == 2:\n",
    "        return min(height)\n",
    "    if len(height) == 3:\n",
    "        return max(\n",
    "            [\n",
    "                min(height[0], height[1]),\n",
    "                2 * min(height[0], height[2], min(height[1], height[2])),\n",
    "            ]\n",
    "        )\n",
    "    a, b, l, h = get_optimum(height)\n",
    "    print(a, b, l, h)\n",
    "    return abs(min(a, b) * (h - l))\n"
   ]
  },
  {
   "cell_type": "code",
   "execution_count": 21,
   "metadata": {},
   "outputs": [],
   "source": [
    "def max_area(height):\n",
    "    i = 0\n",
    "    left = 0\n",
    "    right = len(height) - 1\n",
    "    a = height[left]\n",
    "    b = height[right]\n",
    "    max_area = min(a, b) * (right - left)\n",
    "    print(a, b)\n",
    "    while True:\n",
    "        if not i % 2:\n",
    "            left += 1\n",
    "        else:\n",
    "            right -= 1\n",
    "        a = height[left]\n",
    "        b = height[right]\n",
    "        print(a, b)\n",
    "        area = min(a, b) * (right - left)\n",
    "        if max_area < area:\n",
    "            max_area = area\n",
    "        if left + 1 > right - 1:\n",
    "            break\n",
    "        i += 1\n",
    "    while True:\n",
    "        if i % 2:\n",
    "            left += 1\n",
    "        else:\n",
    "            right -= 1\n",
    "        a = height[left]\n",
    "        b = height[right]\n",
    "        print(a, b)\n",
    "        area = min(a, b) * (right - left)\n",
    "        if max_area < area:\n",
    "            max_area = area\n",
    "        if left + 1 > right - 1:\n",
    "            break\n",
    "        i += 1\n",
    "    return max_area\n"
   ]
  },
  {
   "cell_type": "code",
   "execution_count": 22,
   "metadata": {},
   "outputs": [
    {
     "name": "stdout",
     "output_type": "stream",
     "text": [
      "1 7\n",
      "8 7\n",
      "8 3\n",
      "6 3\n",
      "6 8\n",
      "2 8\n",
      "2 4\n",
      "5 4\n",
      "5 5\n"
     ]
    },
    {
     "data": {
      "text/plain": [
       "49"
      ]
     },
     "execution_count": 22,
     "metadata": {},
     "output_type": "execute_result"
    }
   ],
   "source": [
    "height = [1, 8, 6, 2, 5, 4, 8, 3, 7]\n",
    "max_area(height)\n"
   ]
  },
  {
   "cell_type": "code",
   "execution_count": 2,
   "metadata": {},
   "outputs": [
    {
     "name": "stdout",
     "output_type": "stream",
     "text": [
      "0 0\n",
      "10 0\n",
      "10 12\n",
      "12 12\n"
     ]
    },
    {
     "data": {
      "text/plain": [
       "10"
      ]
     },
     "execution_count": 2,
     "metadata": {},
     "output_type": "execute_result"
    }
   ],
   "source": [
    "height = [0, 10, 12, 0]\n",
    "max_area(height)\n"
   ]
  },
  {
   "cell_type": "code",
   "execution_count": 3,
   "metadata": {},
   "outputs": [
    {
     "name": "stdout",
     "output_type": "stream",
     "text": [
      "1 3\n",
      "2 3\n",
      "2 4\n",
      "4 4\n"
     ]
    },
    {
     "data": {
      "text/plain": [
       "4"
      ]
     },
     "execution_count": 3,
     "metadata": {},
     "output_type": "execute_result"
    }
   ],
   "source": [
    "height = [1, 2, 4, 3]\n",
    "max_area(height)\n"
   ]
  },
  {
   "cell_type": "code",
   "execution_count": 4,
   "metadata": {},
   "outputs": [
    {
     "name": "stdout",
     "output_type": "stream",
     "text": [
      "1 3\n",
      "2 3\n",
      "2 2\n"
     ]
    },
    {
     "data": {
      "text/plain": [
       "2"
      ]
     },
     "execution_count": 4,
     "metadata": {},
     "output_type": "execute_result"
    }
   ],
   "source": [
    "height = [1, 2, 3]\n",
    "max_area(height)\n"
   ]
  },
  {
   "cell_type": "code",
   "execution_count": 5,
   "metadata": {},
   "outputs": [
    {
     "name": "stdout",
     "output_type": "stream",
     "text": [
      "2 9\n",
      "3 9\n",
      "3 8\n",
      "10 8\n",
      "10 7\n",
      "5 7\n",
      "5 5\n"
     ]
    },
    {
     "data": {
      "text/plain": [
       "24"
      ]
     },
     "execution_count": 5,
     "metadata": {},
     "output_type": "execute_result"
    }
   ],
   "source": [
    "height = [2, 3, 10, 5, 7, 8, 9]\n",
    "max_area(height)\n"
   ]
  },
  {
   "cell_type": "code",
   "execution_count": 13,
   "metadata": {},
   "outputs": [
    {
     "name": "stdout",
     "output_type": "stream",
     "text": [
      "1 1\n",
      "1\n"
     ]
    },
    {
     "data": {
      "text/plain": [
       "2"
      ]
     },
     "execution_count": 13,
     "metadata": {},
     "output_type": "execute_result"
    }
   ],
   "source": [
    "height = [1, 1]\n",
    "max_area(height)\n"
   ]
  },
  {
   "cell_type": "markdown",
   "metadata": {},
   "source": [
    "# 7. Letter Combinations of a Phone Number\n"
   ]
  },
  {
   "cell_type": "markdown",
   "metadata": {},
   "source": [
    "<div><p>Given a string containing digits from <code>2-9</code> inclusive, return all possible letter combinations that the number could represent. Return the answer in <strong>any order</strong>.</p>\n",
    "\n",
    "<p>A mapping of digits to letters (just like on the telephone buttons) is given below. Note that 1 does not map to any letters.</p>\n",
    "<img alt=\"\" src=\"https://assets.leetcode.com/uploads/2022/03/15/1200px-telephone-keypad2svg.png\" style=\"width: 300px; height: 243px;\">\n",
    "<p>&nbsp;</p>\n",
    "<p><strong>Example 1:</strong></p>\n",
    "\n",
    "<pre><strong>Input:</strong> digits = \"23\"\n",
    "<strong>Output:</strong> [\"ad\",\"ae\",\"af\",\"bd\",\"be\",\"bf\",\"cd\",\"ce\",\"cf\"]\n",
    "</pre>\n",
    "\n",
    "<p><strong>Example 2:</strong></p>\n",
    "\n",
    "<pre><strong>Input:</strong> digits = \"\"\n",
    "<strong>Output:</strong> []\n",
    "</pre>\n",
    "\n",
    "<p><strong>Example 3:</strong></p>\n",
    "\n",
    "<pre><strong>Input:</strong> digits = \"2\"\n",
    "<strong>Output:</strong> [\"a\",\"b\",\"c\"]\n",
    "</pre>\n",
    "\n",
    "<p>&nbsp;</p>\n",
    "<p><strong>Constraints:</strong></p>\n",
    "\n",
    "<ul>\n",
    "\t<li><code>0 &lt;= digits.length &lt;= 4</code></li>\n",
    "\t<li><code>digits[i]</code> is a digit in the range <code>['2', '9']</code>.</li>\n",
    "</ul>\n",
    "</div>\n"
   ]
  },
  {
   "cell_type": "code",
   "execution_count": 118,
   "metadata": {},
   "outputs": [],
   "source": [
    "def letter_combination(digits):\n",
    "    if not digits:\n",
    "        return []\n",
    "    letters = {\n",
    "        \"2\": \"a b c\".split(),\n",
    "        \"3\": \"d e f\".split(),\n",
    "        \"4\": \"g h i\".split(),\n",
    "        \"5\": \"j k l\".split(),\n",
    "        \"6\": \"m n o\".split(),\n",
    "        \"7\": \"p q r s\".split(),\n",
    "        \"8\": \"t u v\".split(),\n",
    "        \"9\": \"w x y z\".split(),\n",
    "        \"1\": [\"\"],\n",
    "    }\n",
    "    for i in range(4):\n",
    "        digits += \"1\"\n",
    "    combinations = []\n",
    "    for a1 in letters[digits[0]]:\n",
    "        for a2 in letters[digits[1]]:\n",
    "            for a3 in letters[digits[2]]:\n",
    "                for a4 in letters[digits[3]]:\n",
    "                    combinations.append(\n",
    "                        \"{a1}{a2}{a3}{a4}\".format(a1=a1, a2=a2, a3=a3, a4=a4)\n",
    "                    )\n",
    "    return combinations\n"
   ]
  },
  {
   "cell_type": "code",
   "execution_count": 119,
   "metadata": {},
   "outputs": [
    {
     "data": {
      "text/plain": [
       "['ad', 'ae', 'af', 'bd', 'be', 'bf', 'cd', 'ce', 'cf']"
      ]
     },
     "execution_count": 119,
     "metadata": {},
     "output_type": "execute_result"
    }
   ],
   "source": [
    "letter_combination(\"23\")\n"
   ]
  },
  {
   "cell_type": "code",
   "execution_count": 120,
   "metadata": {},
   "outputs": [
    {
     "data": {
      "text/plain": [
       "['a', 'b', 'c']"
      ]
     },
     "execution_count": 120,
     "metadata": {},
     "output_type": "execute_result"
    }
   ],
   "source": [
    "letter_combination(\"2\")\n"
   ]
  },
  {
   "cell_type": "markdown",
   "metadata": {},
   "source": [
    "# _8. Divide Two Integers_\n"
   ]
  },
  {
   "cell_type": "markdown",
   "metadata": {},
   "source": [
    "<div><p>Given two integers <code>dividend</code> and <code>divisor</code>, divide two integers <strong>without</strong> using multiplication, division, and mod operator.</p>\n",
    "\n",
    "<p>The integer division should truncate toward zero, which means losing its fractional part. For example, <code>8.345</code> would be truncated to <code>8</code>, and <code>-2.7335</code> would be truncated to <code>-2</code>.</p>\n",
    "\n",
    "<p>Return <em>the <strong>quotient</strong> after dividing </em><code>dividend</code><em> by </em><code>divisor</code>.</p>\n",
    "\n",
    "<p><strong>Note: </strong>Assume we are dealing with an environment that could only store integers within the <strong>32-bit</strong> signed integer range: <code>[−2<sup>31</sup>, 2<sup>31</sup> − 1]</code>. For this problem, if the quotient is <strong>strictly greater than</strong> <code>2<sup>31</sup> - 1</code>, then return <code>2<sup>31</sup> - 1</code>, and if the quotient is <strong>strictly less than</strong> <code>-2<sup>31</sup></code>, then return <code>-2<sup>31</sup></code>.</p>\n",
    "\n",
    "<p>&nbsp;</p>\n",
    "<p><strong>Example 1:</strong></p>\n",
    "\n",
    "<pre><strong>Input:</strong> dividend = 10, divisor = 3\n",
    "<strong>Output:</strong> 3\n",
    "<strong>Explanation:</strong> 10/3 = 3.33333.. which is truncated to 3.\n",
    "</pre>\n",
    "\n",
    "<p><strong>Example 2:</strong></p>\n",
    "\n",
    "<pre><strong>Input:</strong> dividend = 7, divisor = -3\n",
    "<strong>Output:</strong> -2\n",
    "<strong>Explanation:</strong> 7/-3 = -2.33333.. which is truncated to -2.\n",
    "</pre>\n",
    "\n",
    "<p>&nbsp;</p>\n",
    "<p><strong>Constraints:</strong></p>\n",
    "\n",
    "<ul>\n",
    "\t<li><code>-2<sup>31</sup> &lt;= dividend, divisor &lt;= 2<sup>31</sup> - 1</code></li>\n",
    "\t<li><code>divisor != 0</code></li>\n",
    "</ul>\n",
    "</div>\n"
   ]
  },
  {
   "cell_type": "code",
   "execution_count": 44,
   "metadata": {},
   "outputs": [
    {
     "data": {
      "text/plain": [
       "6"
      ]
     },
     "execution_count": 44,
     "metadata": {},
     "output_type": "execute_result"
    }
   ],
   "source": [
    "int(6.66)"
   ]
  },
  {
   "cell_type": "code",
   "execution_count": 46,
   "metadata": {},
   "outputs": [
    {
     "data": {
      "text/plain": [
       "-77"
      ]
     },
     "execution_count": 46,
     "metadata": {},
     "output_type": "execute_result"
    }
   ],
   "source": [
    "int(-231/3)"
   ]
  },
  {
   "cell_type": "code",
   "execution_count": 37,
   "metadata": {},
   "outputs": [],
   "source": [
    "def divide(dividend, divisor):\n",
    "    import math\n",
    "    sign = -1 if ((dividend < 0) ^ (divisor < 0)) else 1\n",
    "    dividend = abs(dividend)\n",
    "    divisor = abs(divisor)\n",
    "    # if divisor == 1:\n",
    "    #     return sign*dividend\n",
    "    quoteint = math.exp(math.log(dividend)-math.log(divisor))\n",
    "    quoteint = int(quoteint*sign)\n",
    "    if quoteint>(2**31-1):\n",
    "        return 2**31-1\n",
    "    elif quoteint<-2**31:\n",
    "        return -2**31\n",
    "    else:\n",
    "        return quoteint"
   ]
  },
  {
   "cell_type": "code",
   "execution_count": 38,
   "metadata": {},
   "outputs": [
    {
     "data": {
      "text/plain": [
       "16"
      ]
     },
     "execution_count": 38,
     "metadata": {},
     "output_type": "execute_result"
    }
   ],
   "source": [
    "divide(50, 3)\n"
   ]
  },
  {
   "cell_type": "code",
   "execution_count": 39,
   "metadata": {},
   "outputs": [
    {
     "data": {
      "text/plain": [
       "17"
      ]
     },
     "execution_count": 39,
     "metadata": {},
     "output_type": "execute_result"
    }
   ],
   "source": [
    "divide(51, 3)\n"
   ]
  },
  {
   "cell_type": "code",
   "execution_count": 47,
   "metadata": {},
   "outputs": [
    {
     "data": {
      "text/plain": [
       "-76"
      ]
     },
     "execution_count": 47,
     "metadata": {},
     "output_type": "execute_result"
    }
   ],
   "source": [
    "divide(-231, 3)\n"
   ]
  },
  {
   "cell_type": "code",
   "execution_count": 41,
   "metadata": {},
   "outputs": [
    {
     "data": {
      "text/plain": [
       "1"
      ]
     },
     "execution_count": 41,
     "metadata": {},
     "output_type": "execute_result"
    }
   ],
   "source": [
    "divide(-2, -2)\n"
   ]
  },
  {
   "cell_type": "code",
   "execution_count": 34,
   "metadata": {},
   "outputs": [
    {
     "data": {
      "text/plain": [
       "2147483648"
      ]
     },
     "execution_count": 34,
     "metadata": {},
     "output_type": "execute_result"
    }
   ],
   "source": [
    "2**31\n"
   ]
  },
  {
   "cell_type": "code",
   "execution_count": 42,
   "metadata": {},
   "outputs": [
    {
     "name": "stdout",
     "output_type": "stream",
     "text": [
      "CPU times: user 3 µs, sys: 0 ns, total: 3 µs\n",
      "Wall time: 6.68 µs\n"
     ]
    },
    {
     "data": {
      "text/plain": [
       "2147483647"
      ]
     },
     "execution_count": 42,
     "metadata": {},
     "output_type": "execute_result"
    }
   ],
   "source": [
    "%time\n",
    "divide(-2147483648, -1)"
   ]
  },
  {
   "cell_type": "code",
   "execution_count": 43,
   "metadata": {},
   "outputs": [
    {
     "name": "stdout",
     "output_type": "stream",
     "text": [
      "CPU times: user 5 µs, sys: 1 µs, total: 6 µs\n",
      "Wall time: 10.3 µs\n"
     ]
    },
    {
     "data": {
      "text/plain": [
       "3067833"
      ]
     },
     "execution_count": 43,
     "metadata": {},
     "output_type": "execute_result"
    }
   ],
   "source": [
    "%time\n",
    "divide(21474835, 7)"
   ]
  },
  {
   "cell_type": "markdown",
   "metadata": {},
   "source": [
    "# 9. Rotate Image\n"
   ]
  },
  {
   "cell_type": "markdown",
   "metadata": {},
   "source": [
    "<div><p>You are given an <code>n x n</code> 2D <code>matrix</code> representing an image, rotate the image by <strong>90</strong> degrees (clockwise).</p>\n",
    "\n",
    "<p>You have to rotate the image <a href=\"https://en.wikipedia.org/wiki/In-place_algorithm\" target=\"_blank\"><strong>in-place</strong></a>, which means you have to modify the input 2D matrix directly. <strong>DO NOT</strong> allocate another 2D matrix and do the rotation.</p>\n",
    "\n",
    "<p>&nbsp;</p>\n",
    "<p><strong>Example 1:</strong></p>\n",
    "<img alt=\"\" src=\"https://assets.leetcode.com/uploads/2020/08/28/mat1.jpg\" style=\"width: 500px; height: 188px;\">\n",
    "<pre><strong>Input:</strong> matrix = [[1,2,3],[4,5,6],[7,8,9]]\n",
    "<strong>Output:</strong> [[7,4,1],[8,5,2],[9,6,3]]\n",
    "</pre>\n",
    "\n",
    "<p><strong>Example 2:</strong></p>\n",
    "<img alt=\"\" src=\"https://assets.leetcode.com/uploads/2020/08/28/mat2.jpg\" style=\"width: 500px; height: 201px;\">\n",
    "<pre><strong>Input:</strong> matrix = [[5,1,9,11],[2,4,8,10],[13,3,6,7],[15,14,12,16]]\n",
    "<strong>Output:</strong> [[15,13,2,5],[14,3,4,1],[12,6,8,9],[16,7,10,11]]\n",
    "</pre>\n",
    "\n",
    "<p>&nbsp;</p>\n",
    "<p><strong>Constraints:</strong></p>\n",
    "\n",
    "<ul>\n",
    "\t<li><code>n == matrix.length == matrix[i].length</code></li>\n",
    "\t<li><code>1 &lt;= n &lt;= 20</code></li>\n",
    "\t<li><code>-1000 &lt;= matrix[i][j] &lt;= 1000</code></li>\n",
    "</ul>\n",
    "</div>\n"
   ]
  },
  {
   "cell_type": "code",
   "execution_count": 59,
   "metadata": {},
   "outputs": [
    {
     "data": {
      "text/plain": [
       "[[15, 13, 2, 15], [14, 3, 3, 13], [12, 6, 3, 2], [16, 2, 13, 15]]"
      ]
     },
     "execution_count": 59,
     "metadata": {},
     "output_type": "execute_result"
    }
   ],
   "source": [
    "import copy\n",
    "\n",
    "matrix = [[5, 1, 9, 11], [2, 4, 8, 10], [13, 3, 6, 7], [15, 14, 12, 16]]\n",
    "# new_matrix = copy.deepcopy(matrix)\n",
    "for i in range(4):\n",
    "    for j in range(4):\n",
    "        neg_j = 4 - j - 1\n",
    "        matrix[i][j] = matrix[neg_j][i]\n",
    "\n",
    "matrix\n"
   ]
  },
  {
   "cell_type": "code",
   "execution_count": 56,
   "metadata": {},
   "outputs": [],
   "source": [
    "import copy\n",
    "\n",
    "matrix = [[5, 1, 9, 11], [2, 4, 8, 10], [13, 3, 6, 7], [15, 14, 12, 16]]\n",
    "new_matrix = copy.deepcopy(matrix)\n",
    "for i in range(4):\n",
    "    for j in range(4):\n",
    "        neg_j = 4 - j - 1\n",
    "        matrix[i][j] = new_matrix[neg_j][i]\n"
   ]
  },
  {
   "cell_type": "code",
   "execution_count": 57,
   "metadata": {},
   "outputs": [
    {
     "data": {
      "text/plain": [
       "[[15, 13, 2, 5], [14, 3, 4, 1], [12, 6, 8, 9], [16, 7, 10, 11]]"
      ]
     },
     "execution_count": 57,
     "metadata": {},
     "output_type": "execute_result"
    }
   ],
   "source": [
    "matrix\n"
   ]
  },
  {
   "cell_type": "code",
   "execution_count": 58,
   "metadata": {},
   "outputs": [
    {
     "data": {
      "text/plain": [
       "[[15, 13, 2, 5], [14, 3, 4, 1], [12, 6, 8, 9], [16, 7, 10, 11]]"
      ]
     },
     "execution_count": 58,
     "metadata": {},
     "output_type": "execute_result"
    }
   ],
   "source": [
    "def rotate(matrix):\n",
    "    n = len(matrix)\n",
    "    # Transpose\n",
    "    for i in range(n):\n",
    "        for j in range(i + 1, n):\n",
    "            matrix[j][i], matrix[i][j] = matrix[i][j], matrix[j][i]\n",
    "    # Reverse\n",
    "    for i in range(n):\n",
    "        for j in range(n // 2):\n",
    "            matrix[i][j], matrix[i][-j - 1] = matrix[i][-j - 1], matrix[i][j]\n",
    "\n",
    "\n",
    "matrix = [[5, 1, 9, 11], [2, 4, 8, 10], [13, 3, 6, 7], [15, 14, 12, 16]]\n",
    "rotate(matrix)\n",
    "matrix\n"
   ]
  },
  {
   "cell_type": "markdown",
   "metadata": {},
   "source": [
    "# 10. Group Anagrams\n"
   ]
  },
  {
   "cell_type": "markdown",
   "metadata": {},
   "source": [
    "<div><p>Given an array of strings <code>strs</code>, group <strong>the anagrams</strong> together. You can return the answer in <strong>any order</strong>.</p>\n",
    "\n",
    "<p>An <strong>Anagram</strong> is a word or phrase formed by rearranging the letters of a different word or phrase, typically using all the original letters exactly once.</p>\n",
    "\n",
    "<p>&nbsp;</p>\n",
    "<p><strong>Example 1:</strong></p>\n",
    "<pre><strong>Input:</strong> strs = [\"eat\",\"tea\",\"tan\",\"ate\",\"nat\",\"bat\"]\n",
    "<strong>Output:</strong> [[\"bat\"],[\"nat\",\"tan\"],[\"ate\",\"eat\",\"tea\"]]\n",
    "</pre><p><strong>Example 2:</strong></p>\n",
    "<pre><strong>Input:</strong> strs = [\"\"]\n",
    "<strong>Output:</strong> [[\"\"]]\n",
    "</pre><p><strong>Example 3:</strong></p>\n",
    "<pre><strong>Input:</strong> strs = [\"a\"]\n",
    "<strong>Output:</strong> [[\"a\"]]\n",
    "</pre>\n",
    "<p>&nbsp;</p>\n",
    "<p><strong>Constraints:</strong></p>\n",
    "\n",
    "<ul>\n",
    "\t<li><code>1 &lt;= strs.length &lt;= 10<sup>4</sup></code></li>\n",
    "\t<li><code>0 &lt;= strs[i].length &lt;= 100</code></li>\n",
    "\t<li><code>strs[i]</code> consists of lowercase English letters.</li>\n",
    "</ul>\n",
    "</div>\n"
   ]
  },
  {
   "cell_type": "code",
   "execution_count": 10,
   "metadata": {},
   "outputs": [],
   "source": [
    "def group_anagram(strs):\n",
    "    sorted_strs = list(map(lambda x:\"\".join(sorted(x)), strs))\n",
    "    groups = {}\n",
    "    for i in range(len(strs)):\n",
    "        if sorted_strs[i] in groups:\n",
    "            groups[sorted_strs[i]].append(strs[i])\n",
    "        else:\n",
    "            groups[sorted_strs[i]]=[strs[i]]\n",
    "    result = []\n",
    "    for value in groups.values():\n",
    "        result.append(value)\n",
    "    return result"
   ]
  },
  {
   "cell_type": "code",
   "execution_count": 11,
   "metadata": {},
   "outputs": [
    {
     "data": {
      "text/plain": [
       "[['eat', 'tea', 'ate'], ['tan', 'nat'], ['bat']]"
      ]
     },
     "execution_count": 11,
     "metadata": {},
     "output_type": "execute_result"
    }
   ],
   "source": [
    "strs = [\"eat\",\"tea\",\"tan\",\"ate\",\"nat\",\"bat\"]\n",
    "group_anagram(strs)"
   ]
  },
  {
   "cell_type": "code",
   "execution_count": 12,
   "metadata": {},
   "outputs": [
    {
     "data": {
      "text/plain": [
       "[['a']]"
      ]
     },
     "execution_count": 12,
     "metadata": {},
     "output_type": "execute_result"
    }
   ],
   "source": [
    "strs = [\"a\"]\n",
    "group_anagram(strs)"
   ]
  }
 ],
 "metadata": {
  "kernelspec": {
   "display_name": "Python 3.9.12 ('data-science')",
   "language": "python",
   "name": "python3"
  },
  "language_info": {
   "codemirror_mode": {
    "name": "ipython",
    "version": 3
   },
   "file_extension": ".py",
   "mimetype": "text/x-python",
   "name": "python",
   "nbconvert_exporter": "python",
   "pygments_lexer": "ipython3",
   "version": "3.9.12"
  },
  "orig_nbformat": 4,
  "vscode": {
   "interpreter": {
    "hash": "2efee1efa502125d01e6b4768ba06d9453d29f3642bfd14ad5d4a769de82e88c"
   }
  }
 },
 "nbformat": 4,
 "nbformat_minor": 2
}
