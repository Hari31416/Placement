{
 "cells": [
  {
   "cell_type": "markdown",
   "metadata": {},
   "source": [
    "# 1. String Compression"
   ]
  },
  {
   "cell_type": "markdown",
   "metadata": {},
   "source": [
    "<div><p>Given an array of characters <code>chars</code>, compress it using the following algorithm:</p>\n",
    "\n",
    "<p>Begin with an empty string <code>s</code>. For each group of <strong>consecutive repeating characters</strong> in <code>chars</code>:</p>\n",
    "\n",
    "<ul>\n",
    "\t<li>If the group's length is <code>1</code>, append the character to <code>s</code>.</li>\n",
    "\t<li>Otherwise, append the character followed by the group's length.</li>\n",
    "</ul>\n",
    "\n",
    "<p>The compressed string <code>s</code> <strong>should not be returned separately</strong>, but instead, be stored <strong>in the input character array <code>chars</code></strong>. Note that group lengths that are <code>10</code> or longer will be split into multiple characters in <code>chars</code>.</p>\n",
    "\n",
    "<p>After you are done <strong>modifying the input array,</strong> return <em>the new length of the array</em>.</p>\n",
    "\n",
    "<p>You must write an algorithm that uses only constant extra space.</p>\n",
    "\n",
    "<p>&nbsp;</p>\n",
    "<p><strong>Example 1:</strong></p>\n",
    "\n",
    "<pre><strong>Input:</strong> chars = [\"a\",\"a\",\"b\",\"b\",\"c\",\"c\",\"c\"]\n",
    "<strong>Output:</strong> Return 6, and the first 6 characters of the input array should be: [\"a\",\"2\",\"b\",\"2\",\"c\",\"3\"]\n",
    "<strong>Explanation:</strong> The groups are \"aa\", \"bb\", and \"ccc\". This compresses to \"a2b2c3\".\n",
    "</pre>\n",
    "\n",
    "<p><strong>Example 2:</strong></p>\n",
    "\n",
    "<pre><strong>Input:</strong> chars = [\"a\"]\n",
    "<strong>Output:</strong> Return 1, and the first character of the input array should be: [\"a\"]\n",
    "<strong>Explanation:</strong> The only group is \"a\", which remains uncompressed since it's a single character.\n",
    "</pre>\n",
    "\n",
    "<p><strong>Example 3:</strong></p>\n",
    "\n",
    "<pre><strong>Input:</strong> chars = [\"a\",\"b\",\"b\",\"b\",\"b\",\"b\",\"b\",\"b\",\"b\",\"b\",\"b\",\"b\",\"b\"]\n",
    "<strong>Output:</strong> Return 4, and the first 4 characters of the input array should be: [\"a\",\"b\",\"1\",\"2\"].\n",
    "<strong>Explanation:</strong> The groups are \"a\" and \"bbbbbbbbbbbb\". This compresses to \"ab12\".</pre>\n",
    "\n",
    "<p>&nbsp;</p>\n",
    "<p><strong>Constraints:</strong></p>\n",
    "\n",
    "<ul>\n",
    "\t<li><code>1 &lt;= chars.length &lt;= 2000</code></li>\n",
    "\t<li><code>chars[i]</code> is a lowercase English letter, uppercase English letter, digit, or symbol.</li>\n",
    "</ul>\n",
    "</div>"
   ]
  },
  {
   "cell_type": "code",
   "execution_count": 12,
   "metadata": {},
   "outputs": [],
   "source": [
    "def compress(chars):\n",
    "    count = 1\n",
    "    c = chars[0]\n",
    "    string = \"\"\n",
    "    j=0\n",
    "    for i in range(len(chars)-1):\n",
    "        new_c = chars[i+1]\n",
    "        if new_c==c:\n",
    "            count+=1\n",
    "        else:\n",
    "            if count>1:\n",
    "                string+=f\"{c}{count}\"\n",
    "                chars[j]=c\n",
    "                j+=1\n",
    "                for n in str(count):\n",
    "                    chars[j]=n\n",
    "                    j+=1\n",
    "            else:\n",
    "                string+=c\n",
    "                chars[j]=c\n",
    "                j+=1\n",
    "            count=1\n",
    "        c = new_c\n",
    "    if count>1:\n",
    "        string+=f\"{c}{count}\"\n",
    "        chars[j]=c\n",
    "        j+=1\n",
    "        for n in str(count):\n",
    "            chars[j]=n\n",
    "            j+=1\n",
    "    else:\n",
    "        string+=c\n",
    "        chars[j]=c\n",
    "    return len(string)"
   ]
  },
  {
   "cell_type": "code",
   "execution_count": 16,
   "metadata": {},
   "outputs": [
    {
     "data": {
      "text/plain": [
       "(4, ['a', 'b', '1', '2'])"
      ]
     },
     "execution_count": 16,
     "metadata": {},
     "output_type": "execute_result"
    }
   ],
   "source": [
    "chars = [\"a\",\"b\",\"b\",\"b\",\"b\",\"b\",\"b\",\"b\",\"b\",\"b\",\"b\",\"b\",\"b\"]\n",
    "len_ = compress(chars)\n",
    "len_, chars[:len_]"
   ]
  },
  {
   "cell_type": "markdown",
   "metadata": {},
   "source": [
    "# 2. Reverse Words in a String"
   ]
  },
  {
   "cell_type": "markdown",
   "metadata": {},
   "source": [
    "<div><p>Given an input string <code>s</code>, reverse the order of the <strong>words</strong>.</p>\n",
    "\n",
    "<p>A <strong>word</strong> is defined as a sequence of non-space characters. The <strong>words</strong> in <code>s</code> will be separated by at least one space.</p>\n",
    "\n",
    "<p>Return <em>a string of the words in reverse order concatenated by a single space.</em></p>\n",
    "\n",
    "<p><b>Note</b> that <code>s</code> may contain leading or trailing spaces or multiple spaces between two words. The returned string should only have a single space separating the words. Do not include any extra spaces.</p>\n",
    "\n",
    "<p>&nbsp;</p>\n",
    "<p><strong>Example 1:</strong></p>\n",
    "\n",
    "<pre><strong>Input:</strong> s = \"the sky is blue\"\n",
    "<strong>Output:</strong> \"blue is sky the\"\n",
    "</pre>\n",
    "\n",
    "<p><strong>Example 2:</strong></p>\n",
    "\n",
    "<pre><strong>Input:</strong> s = \"  hello world  \"\n",
    "<strong>Output:</strong> \"world hello\"\n",
    "<strong>Explanation:</strong> Your reversed string should not contain leading or trailing spaces.\n",
    "</pre>\n",
    "\n",
    "<p><strong>Example 3:</strong></p>\n",
    "\n",
    "<pre><strong>Input:</strong> s = \"a good   example\"\n",
    "<strong>Output:</strong> \"example good a\"\n",
    "<strong>Explanation:</strong> You need to reduce multiple spaces between two words to a single space in the reversed string.\n",
    "</pre>\n",
    "\n",
    "<p>&nbsp;</p>\n",
    "<p><strong>Constraints:</strong></p>\n",
    "\n",
    "<ul>\n",
    "\t<li><code>1 &lt;= s.length &lt;= 10<sup>4</sup></code></li>\n",
    "\t<li><code>s</code> contains English letters (upper-case and lower-case), digits, and spaces <code>' '</code>.</li>\n",
    "\t<li>There is <strong>at least one</strong> word in <code>s</code>.</li>\n",
    "</ul>\n",
    "\n",
    "<p>&nbsp;</p>\n",
    "<p><b data-stringify-type=\"bold\">Follow-up:&nbsp;</b>If the string data type is mutable in your language, can&nbsp;you solve it&nbsp;<b data-stringify-type=\"bold\">in-place</b>&nbsp;with&nbsp;<code data-stringify-type=\"code\">O(1)</code>&nbsp;extra space?</p>\n",
    "</div>"
   ]
  },
  {
   "cell_type": "code",
   "execution_count": 14,
   "metadata": {},
   "outputs": [],
   "source": [
    "def reverse_words(s):\n",
    "    s_list = s.split()\n",
    "    s_list = s_list[::-1]\n",
    "    return \" \".join(s_list)"
   ]
  },
  {
   "cell_type": "code",
   "execution_count": 15,
   "metadata": {},
   "outputs": [
    {
     "data": {
      "text/plain": [
       "'example good a'"
      ]
     },
     "execution_count": 15,
     "metadata": {},
     "output_type": "execute_result"
    }
   ],
   "source": [
    "s = \"  a good   example  \"\n",
    "reverse_words(s)"
   ]
  },
  {
   "cell_type": "code",
   "execution_count": 10,
   "metadata": {},
   "outputs": [
    {
     "data": {
      "text/plain": [
       "['a', 'good', 'example']"
      ]
     },
     "execution_count": 10,
     "metadata": {},
     "output_type": "execute_result"
    }
   ],
   "source": [
    "s = \"a good   example  \"\n",
    "s.split()"
   ]
  },
  {
   "cell_type": "markdown",
   "metadata": {},
   "source": [
    "# 3. Integer to Roman"
   ]
  },
  {
   "cell_type": "markdown",
   "metadata": {},
   "source": [
    "<div><p>Roman numerals are represented by seven different symbols:&nbsp;<code>I</code>, <code>V</code>, <code>X</code>, <code>L</code>, <code>C</code>, <code>D</code> and <code>M</code>.</p>\n",
    "\n",
    "<pre><strong>Symbol</strong>       <strong>Value</strong>\n",
    "I             1\n",
    "V             5\n",
    "X             10\n",
    "L             50\n",
    "C             100\n",
    "D             500\n",
    "M             1000</pre>\n",
    "\n",
    "<p>For example,&nbsp;<code>2</code> is written as <code>II</code>&nbsp;in Roman numeral, just two one's added together. <code>12</code> is written as&nbsp;<code>XII</code>, which is simply <code>X + II</code>. The number <code>27</code> is written as <code>XXVII</code>, which is <code>XX + V + II</code>.</p>\n",
    "\n",
    "<p>Roman numerals are usually written largest to smallest from left to right. However, the numeral for four is not <code>IIII</code>. Instead, the number four is written as <code>IV</code>. Because the one is before the five we subtract it making four. The same principle applies to the number nine, which is written as <code>IX</code>. There are six instances where subtraction is used:</p>\n",
    "\n",
    "<ul>\n",
    "\t<li><code>I</code> can be placed before <code>V</code> (5) and <code>X</code> (10) to make 4 and 9.&nbsp;</li>\n",
    "\t<li><code>X</code> can be placed before <code>L</code> (50) and <code>C</code> (100) to make 40 and 90.&nbsp;</li>\n",
    "\t<li><code>C</code> can be placed before <code>D</code> (500) and <code>M</code> (1000) to make 400 and 900.</li>\n",
    "</ul>\n",
    "\n",
    "<p>Given an integer, convert it to a roman numeral.</p>\n",
    "\n",
    "<p>&nbsp;</p>\n",
    "<p><strong>Example 1:</strong></p>\n",
    "\n",
    "<pre><strong>Input:</strong> num = 3\n",
    "<strong>Output:</strong> \"III\"\n",
    "<strong>Explanation:</strong> 3 is represented as 3 ones.\n",
    "</pre>\n",
    "\n",
    "<p><strong>Example 2:</strong></p>\n",
    "\n",
    "<pre><strong>Input:</strong> num = 58\n",
    "<strong>Output:</strong> \"LVIII\"\n",
    "<strong>Explanation:</strong> L = 50, V = 5, III = 3.\n",
    "</pre>\n",
    "\n",
    "<p><strong>Example 3:</strong></p>\n",
    "\n",
    "<pre><strong>Input:</strong> num = 1994\n",
    "<strong>Output:</strong> \"MCMXCIV\"\n",
    "<strong>Explanation:</strong> M = 1000, CM = 900, XC = 90 and IV = 4.\n",
    "</pre>\n",
    "\n",
    "<p>&nbsp;</p>\n",
    "<p><strong>Constraints:</strong></p>\n",
    "\n",
    "<ul>\n",
    "\t<li><code>1 &lt;= num &lt;= 3999</code></li>\n",
    "</ul>\n",
    "</div>"
   ]
  },
  {
   "cell_type": "code",
   "execution_count": 21,
   "metadata": {},
   "outputs": [
    {
     "data": {
      "text/plain": [
       "[1000, 900, 500, 100, 90, 50, 40, 10, 9, 5, 4, 1]"
      ]
     },
     "execution_count": 21,
     "metadata": {},
     "output_type": "execute_result"
    }
   ],
   "source": [
    "conversion = {\n",
    "    1000:\"M\",\n",
    "    900:\"CM\",\n",
    "    500:\"D\",\n",
    "    100:\"C\",\n",
    "    90:\"XC\",\n",
    "    50: \"L\",\n",
    "    40:\"XL\",\n",
    "    10:\"X\",\n",
    "    9:\"IX\",\n",
    "    5:\"V\",\n",
    "    4:\"IV\",\n",
    "    1:\"I\",\n",
    "}\n",
    "factors = sorted(list(conversion.keys()))\n",
    "factors = factors[::-1]\n",
    "factors"
   ]
  },
  {
   "cell_type": "code",
   "execution_count": 25,
   "metadata": {},
   "outputs": [
    {
     "data": {
      "text/plain": [
       "994"
      ]
     },
     "execution_count": 25,
     "metadata": {},
     "output_type": "execute_result"
    }
   ],
   "source": [
    "2994%1000"
   ]
  },
  {
   "cell_type": "code",
   "execution_count": 44,
   "metadata": {},
   "outputs": [],
   "source": [
    "def int_to_roman(num):\n",
    "    conversion = {\n",
    "        1000:\"M\",\n",
    "        900:\"CM\",\n",
    "        500:\"D\",\n",
    "        400:\"CD\",\n",
    "        100:\"C\",\n",
    "        90:\"XC\",\n",
    "        50: \"L\",\n",
    "        40:\"XL\",\n",
    "        10:\"X\",\n",
    "        9:\"IX\",\n",
    "        5:\"V\",\n",
    "        4:\"IV\",\n",
    "        1:\"I\",\n",
    "        }\n",
    "    factors = list(conversion.keys())\n",
    "    roman = \"\"\n",
    "    i=0\n",
    "    while num:\n",
    "        fact = factors[i]\n",
    "        times = num//fact\n",
    "        roman+=f\"{conversion[fact]}\"*times\n",
    "        num=num%fact\n",
    "        i+=1\n",
    "    return roman"
   ]
  },
  {
   "cell_type": "code",
   "execution_count": 49,
   "metadata": {},
   "outputs": [
    {
     "data": {
      "text/plain": [
       "'MMMCMXCIX'"
      ]
     },
     "execution_count": 49,
     "metadata": {},
     "output_type": "execute_result"
    }
   ],
   "source": [
    "int_to_roman(3999)"
   ]
  },
  {
   "cell_type": "markdown",
   "metadata": {},
   "source": [
    "# 4. Multiply Strings"
   ]
  },
  {
   "cell_type": "markdown",
   "metadata": {},
   "source": [
    "<div><p>Given two non-negative integers <code>num1</code> and <code>num2</code> represented as strings, return the product of <code>num1</code> and <code>num2</code>, also represented as a string.</p>\n",
    "\n",
    "<p><strong>Note:</strong>&nbsp;You must not use any built-in BigInteger library or convert the inputs to integer directly.</p>\n",
    "\n",
    "<p>&nbsp;</p>\n",
    "<p><strong>Example 1:</strong></p>\n",
    "<pre><strong>Input:</strong> num1 = \"2\", num2 = \"3\"\n",
    "<strong>Output:</strong> \"6\"\n",
    "</pre><p><strong>Example 2:</strong></p>\n",
    "<pre><strong>Input:</strong> num1 = \"123\", num2 = \"456\"\n",
    "<strong>Output:</strong> \"56088\"\n",
    "</pre>\n",
    "<p>&nbsp;</p>\n",
    "<p><strong>Constraints:</strong></p>\n",
    "\n",
    "<ul>\n",
    "\t<li><code>1 &lt;= num1.length, num2.length &lt;= 200</code></li>\n",
    "\t<li><code>num1</code> and <code>num2</code> consist of digits only.</li>\n",
    "\t<li>Both <code>num1</code> and <code>num2</code>&nbsp;do not contain any leading zero, except the number <code>0</code> itself.</li>\n",
    "</ul>\n",
    "</div>"
   ]
  },
  {
   "cell_type": "code",
   "execution_count": 8,
   "metadata": {},
   "outputs": [],
   "source": [
    "def str_to_int(string):\n",
    "    num = 0\n",
    "    for i, s in enumerate(string):\n",
    "        num+=int(s)*10**(len(string)-i-1)\n",
    "    return num\n",
    "\n",
    "def int_to_str(num):\n",
    "    num_str = \"\"\n",
    "    while num:\n",
    "        num_str+=str(num%10)\n",
    "        num = num//10\n",
    "    return num_str[::-1]"
   ]
  },
  {
   "cell_type": "code",
   "execution_count": 13,
   "metadata": {},
   "outputs": [],
   "source": [
    "def multiply(num1, num2):\n",
    "    num1_int = str_to_int(num1)\n",
    "    num2_int = str_to_int(num2)\n",
    "    num = num1_int*num2_int\n",
    "    final = int_to_str(num)\n",
    "    return final if final else \"0\"\n",
    "            "
   ]
  },
  {
   "cell_type": "code",
   "execution_count": 14,
   "metadata": {},
   "outputs": [
    {
     "data": {
      "text/plain": [
       "'56088'"
      ]
     },
     "execution_count": 14,
     "metadata": {},
     "output_type": "execute_result"
    }
   ],
   "source": [
    "multiply(\"123\", \"456\")"
   ]
  },
  {
   "cell_type": "markdown",
   "metadata": {},
   "source": [
    "# *5. Remove Duplicates from Sorted List II*"
   ]
  },
  {
   "cell_type": "markdown",
   "metadata": {},
   "source": [
    "<div><p>Given the <code>head</code> of a sorted linked list, <em>delete all nodes that have duplicate numbers, leaving only distinct numbers from the original list</em>. Return <em>the linked list <strong>sorted</strong> as well</em>.</p>\n",
    "\n",
    "<p>&nbsp;</p>\n",
    "<p><strong>Example 1:</strong></p>\n",
    "<img alt=\"\" src=\"https://assets.leetcode.com/uploads/2021/01/04/linkedlist1.jpg\" style=\"width: 500px; height: 142px;\">\n",
    "<pre><strong>Input:</strong> head = [1,2,3,3,4,4,5]\n",
    "<strong>Output:</strong> [1,2,5]\n",
    "</pre>\n",
    "\n",
    "<p><strong>Example 2:</strong></p>\n",
    "<img alt=\"\" src=\"https://assets.leetcode.com/uploads/2021/01/04/linkedlist2.jpg\" style=\"width: 500px; height: 205px;\">\n",
    "<pre><strong>Input:</strong> head = [1,1,1,2,3]\n",
    "<strong>Output:</strong> [2,3]\n",
    "</pre>\n",
    "\n",
    "<p>&nbsp;</p>\n",
    "<p><strong>Constraints:</strong></p>\n",
    "\n",
    "<ul>\n",
    "\t<li>The number of nodes in the list is in the range <code>[0, 300]</code>.</li>\n",
    "\t<li><code>-100 &lt;= Node.val &lt;= 100</code></li>\n",
    "\t<li>The list is guaranteed to be <strong>sorted</strong> in ascending order.</li>\n",
    "</ul>\n",
    "</div>"
   ]
  },
  {
   "cell_type": "markdown",
   "metadata": {},
   "source": [
    "# Fractional Knapsack (Trilogy)"
   ]
  },
  {
   "cell_type": "code",
   "execution_count": 58,
   "metadata": {},
   "outputs": [],
   "source": [
    "def sum_exist(arr, n):\n",
    "    if n in arr:\n",
    "        return True\n",
    "    for i in range(len(arr)):\n",
    "        for j in range(i, len(arr)):\n",
    "            if sum(arr[i:j+1])==n:\n",
    "                return True\n",
    "    return False"
   ]
  },
  {
   "cell_type": "code",
   "execution_count": 59,
   "metadata": {},
   "outputs": [
    {
     "data": {
      "text/plain": [
       "True"
      ]
     },
     "execution_count": 59,
     "metadata": {},
     "output_type": "execute_result"
    }
   ],
   "source": [
    "sum_exist([1,1,4,16,8], 20)"
   ]
  },
  {
   "cell_type": "code",
   "execution_count": 62,
   "metadata": {},
   "outputs": [],
   "source": [
    "def knaspack(A, B):\n",
    "    div = 0\n",
    "    while True:\n",
    "        if sum_exist(A, B):\n",
    "            return div\n",
    "        else:\n",
    "            div+=1\n",
    "            max_A = max(A)\n",
    "            if max_A<=1:\n",
    "                return -1\n",
    "            A.remove(max_A)\n",
    "            A.append(max_A//2)\n",
    "    return -1"
   ]
  },
  {
   "cell_type": "code",
   "execution_count": 63,
   "metadata": {},
   "outputs": [
    {
     "data": {
      "text/plain": [
       "28"
      ]
     },
     "execution_count": 63,
     "metadata": {},
     "output_type": "execute_result"
    }
   ],
   "source": [
    "arr = [2**28,2]\n",
    "n = 3\n",
    "knaspack(arr, n)"
   ]
  },
  {
   "cell_type": "code",
   "execution_count": 64,
   "metadata": {},
   "outputs": [
    {
     "data": {
      "text/plain": [
       "True"
      ]
     },
     "execution_count": 64,
     "metadata": {},
     "output_type": "execute_result"
    }
   ],
   "source": [
    "sum_exist([1,1,8], 10)"
   ]
  },
  {
   "cell_type": "markdown",
   "metadata": {},
   "source": [
    "# Infinity Stones"
   ]
  },
  {
   "cell_type": "code",
   "execution_count": 65,
   "metadata": {},
   "outputs": [],
   "source": [
    "def max_power(arr):\n",
    "    arr.sort()\n",
    "    arr = arr[::-1]\n",
    "    power = 0\n",
    "    i=0\n",
    "    while True:\n",
    "        new_power = arr[i]*(i+1)\n",
    "        if new_power<power:\n",
    "            return power\n",
    "        else:\n",
    "            power = new_power\n",
    "            i+=1\n"
   ]
  },
  {
   "cell_type": "code",
   "execution_count": 67,
   "metadata": {},
   "outputs": [
    {
     "data": {
      "text/plain": [
       "40"
      ]
     },
     "execution_count": 67,
     "metadata": {},
     "output_type": "execute_result"
    }
   ],
   "source": [
    "arr = [10, 20, 5, 25]\n",
    "max_power(arr = arr)"
   ]
  }
 ],
 "metadata": {
  "kernelspec": {
   "display_name": "Python 3.9.12 ('data-science')",
   "language": "python",
   "name": "python3"
  },
  "language_info": {
   "codemirror_mode": {
    "name": "ipython",
    "version": 3
   },
   "file_extension": ".py",
   "mimetype": "text/x-python",
   "name": "python",
   "nbconvert_exporter": "python",
   "pygments_lexer": "ipython3",
   "version": "3.9.12"
  },
  "orig_nbformat": 4,
  "vscode": {
   "interpreter": {
    "hash": "2efee1efa502125d01e6b4768ba06d9453d29f3642bfd14ad5d4a769de82e88c"
   }
  }
 },
 "nbformat": 4,
 "nbformat_minor": 2
}
