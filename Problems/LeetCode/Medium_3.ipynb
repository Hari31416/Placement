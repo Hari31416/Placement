{
 "cells": [
  {
   "cell_type": "markdown",
   "metadata": {},
   "source": [
    "# 1. String Compression"
   ]
  },
  {
   "cell_type": "markdown",
   "metadata": {},
   "source": [
    "<div><p>Given an array of characters <code>chars</code>, compress it using the following algorithm:</p>\n",
    "\n",
    "<p>Begin with an empty string <code>s</code>. For each group of <strong>consecutive repeating characters</strong> in <code>chars</code>:</p>\n",
    "\n",
    "<ul>\n",
    "\t<li>If the group's length is <code>1</code>, append the character to <code>s</code>.</li>\n",
    "\t<li>Otherwise, append the character followed by the group's length.</li>\n",
    "</ul>\n",
    "\n",
    "<p>The compressed string <code>s</code> <strong>should not be returned separately</strong>, but instead, be stored <strong>in the input character array <code>chars</code></strong>. Note that group lengths that are <code>10</code> or longer will be split into multiple characters in <code>chars</code>.</p>\n",
    "\n",
    "<p>After you are done <strong>modifying the input array,</strong> return <em>the new length of the array</em>.</p>\n",
    "\n",
    "<p>You must write an algorithm that uses only constant extra space.</p>\n",
    "\n",
    "<p>&nbsp;</p>\n",
    "<p><strong>Example 1:</strong></p>\n",
    "\n",
    "<pre><strong>Input:</strong> chars = [\"a\",\"a\",\"b\",\"b\",\"c\",\"c\",\"c\"]\n",
    "<strong>Output:</strong> Return 6, and the first 6 characters of the input array should be: [\"a\",\"2\",\"b\",\"2\",\"c\",\"3\"]\n",
    "<strong>Explanation:</strong> The groups are \"aa\", \"bb\", and \"ccc\". This compresses to \"a2b2c3\".\n",
    "</pre>\n",
    "\n",
    "<p><strong>Example 2:</strong></p>\n",
    "\n",
    "<pre><strong>Input:</strong> chars = [\"a\"]\n",
    "<strong>Output:</strong> Return 1, and the first character of the input array should be: [\"a\"]\n",
    "<strong>Explanation:</strong> The only group is \"a\", which remains uncompressed since it's a single character.\n",
    "</pre>\n",
    "\n",
    "<p><strong>Example 3:</strong></p>\n",
    "\n",
    "<pre><strong>Input:</strong> chars = [\"a\",\"b\",\"b\",\"b\",\"b\",\"b\",\"b\",\"b\",\"b\",\"b\",\"b\",\"b\",\"b\"]\n",
    "<strong>Output:</strong> Return 4, and the first 4 characters of the input array should be: [\"a\",\"b\",\"1\",\"2\"].\n",
    "<strong>Explanation:</strong> The groups are \"a\" and \"bbbbbbbbbbbb\". This compresses to \"ab12\".</pre>\n",
    "\n",
    "<p>&nbsp;</p>\n",
    "<p><strong>Constraints:</strong></p>\n",
    "\n",
    "<ul>\n",
    "\t<li><code>1 &lt;= chars.length &lt;= 2000</code></li>\n",
    "\t<li><code>chars[i]</code> is a lowercase English letter, uppercase English letter, digit, or symbol.</li>\n",
    "</ul>\n",
    "</div>"
   ]
  },
  {
   "cell_type": "code",
   "execution_count": 12,
   "metadata": {},
   "outputs": [],
   "source": [
    "def compress(chars):\n",
    "    count = 1\n",
    "    c = chars[0]\n",
    "    string = \"\"\n",
    "    j=0\n",
    "    for i in range(len(chars)-1):\n",
    "        new_c = chars[i+1]\n",
    "        if new_c==c:\n",
    "            count+=1\n",
    "        else:\n",
    "            if count>1:\n",
    "                string+=f\"{c}{count}\"\n",
    "                chars[j]=c\n",
    "                j+=1\n",
    "                for n in str(count):\n",
    "                    chars[j]=n\n",
    "                    j+=1\n",
    "            else:\n",
    "                string+=c\n",
    "                chars[j]=c\n",
    "                j+=1\n",
    "            count=1\n",
    "        c = new_c\n",
    "    if count>1:\n",
    "        string+=f\"{c}{count}\"\n",
    "        chars[j]=c\n",
    "        j+=1\n",
    "        for n in str(count):\n",
    "            chars[j]=n\n",
    "            j+=1\n",
    "    else:\n",
    "        string+=c\n",
    "        chars[j]=c\n",
    "    return len(string)"
   ]
  },
  {
   "cell_type": "code",
   "execution_count": 16,
   "metadata": {},
   "outputs": [
    {
     "data": {
      "text/plain": [
       "(4, ['a', 'b', '1', '2'])"
      ]
     },
     "execution_count": 16,
     "metadata": {},
     "output_type": "execute_result"
    }
   ],
   "source": [
    "chars = [\"a\",\"b\",\"b\",\"b\",\"b\",\"b\",\"b\",\"b\",\"b\",\"b\",\"b\",\"b\",\"b\"]\n",
    "len_ = compress(chars)\n",
    "len_, chars[:len_]"
   ]
  }
 ],
 "metadata": {
  "kernelspec": {
   "display_name": "Python 3.9.12 ('data-science')",
   "language": "python",
   "name": "python3"
  },
  "language_info": {
   "codemirror_mode": {
    "name": "ipython",
    "version": 3
   },
   "file_extension": ".py",
   "mimetype": "text/x-python",
   "name": "python",
   "nbconvert_exporter": "python",
   "pygments_lexer": "ipython3",
   "version": "3.9.12"
  },
  "orig_nbformat": 4,
  "vscode": {
   "interpreter": {
    "hash": "2efee1efa502125d01e6b4768ba06d9453d29f3642bfd14ad5d4a769de82e88c"
   }
  }
 },
 "nbformat": 4,
 "nbformat_minor": 2
}
