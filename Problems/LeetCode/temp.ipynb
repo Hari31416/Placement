{
 "cells": [
  {
   "cell_type": "code",
   "execution_count": 3,
   "metadata": {},
   "outputs": [],
   "source": [
    "import sys\n",
    "sys.path.append('../../tools')"
   ]
  },
  {
   "cell_type": "code",
   "execution_count": 7,
   "metadata": {},
   "outputs": [],
   "source": [
    "from files.notebook import Notebook"
   ]
  },
  {
   "cell_type": "code",
   "execution_count": 8,
   "metadata": {},
   "outputs": [],
   "source": [
    "nb = Notebook()"
   ]
  },
  {
   "cell_type": "code",
   "execution_count": 9,
   "metadata": {},
   "outputs": [
    {
     "name": "stderr",
     "output_type": "stream",
     "text": [
      "Exporting notebooks...: 100%|██████████| 7/7 [00:05<00:00,  1.32it/s]\n"
     ]
    }
   ],
   "source": [
    "files = nb.export_directory()"
   ]
  },
  {
   "cell_type": "code",
   "execution_count": 10,
   "metadata": {},
   "outputs": [
    {
     "data": {
      "text/plain": [
       "['.\\\\.\\\\Easy_1.html',\n",
       " '.\\\\.\\\\Easy_2.html',\n",
       " '.\\\\.\\\\Easy_3.html',\n",
       " '.\\\\.\\\\Hard_1.html',\n",
       " '.\\\\.\\\\Medium_1.html',\n",
       " '.\\\\.\\\\Medium_2.html',\n",
       " '.\\\\.\\\\temp.html']"
      ]
     },
     "execution_count": 10,
     "metadata": {},
     "output_type": "execute_result"
    }
   ],
   "source": [
    "files"
   ]
  },
  {
   "cell_type": "code",
   "execution_count": 12,
   "metadata": {},
   "outputs": [
    {
     "name": "stdout",
     "output_type": "stream",
     "text": [
      "<ul><li>\n",
      "            <a href=\"Problems/LeetCode/Easy_1.html\" target=\"blank\" class=\"links\">Easy 1</a>\n",
      "          </li><li>\n",
      "            <a href=\"Problems/LeetCode/Easy_2.html\" target=\"blank\" class=\"links\">Easy 2</a>\n",
      "          </li><li>\n",
      "            <a href=\"Problems/LeetCode/Easy_3.html\" target=\"blank\" class=\"links\">Easy 3</a>\n",
      "          </li><li>\n",
      "            <a href=\"Problems/LeetCode/Hard_1.html\" target=\"blank\" class=\"links\">Hard 1</a>\n",
      "          </li><li>\n",
      "            <a href=\"Problems/LeetCode/Medium_1.html\" target=\"blank\" class=\"links\">Medium 1</a>\n",
      "          </li><li>\n",
      "            <a href=\"Problems/LeetCode/Medium_2.html\" target=\"blank\" class=\"links\">Medium 2</a>\n",
      "          </li><li>\n",
      "            <a href=\"Problems/LeetCode/temp.html\" target=\"blank\" class=\"links\">temp</a>\n",
      "          </li></ul>\n"
     ]
    }
   ],
   "source": [
    "start = \"<ul>\"\n",
    "end = \"</ul>\"\n",
    "for f in files:\n",
    "    file = f.split(\"\\\\\")[-1]\n",
    "    name = file.split(\".\")[0]\n",
    "    name = name.replace(\"_\", \" \")\n",
    "    start+=f\"\"\"<li>\n",
    "            <a href=\"Problems/LeetCode/{file}\" target=\"blank\" class=\"links\">{name}</a>\n",
    "          </li>\"\"\"\n",
    "start+=end\n",
    "print(start)"
   ]
  },
  {
   "cell_type": "code",
   "execution_count": 13,
   "metadata": {},
   "outputs": [
    {
     "data": {
      "text/plain": [
       "['.\\\\Easy_1.ipynb',\n",
       " '.\\\\Easy_2.ipynb',\n",
       " '.\\\\Easy_3.ipynb',\n",
       " '.\\\\Hard_1.ipynb',\n",
       " '.\\\\Medium_1.ipynb',\n",
       " '.\\\\Medium_2.ipynb',\n",
       " '.\\\\temp.ipynb']"
      ]
     },
     "execution_count": 13,
     "metadata": {},
     "output_type": "execute_result"
    }
   ],
   "source": [
    "nb.notebooks"
   ]
  },
  {
   "cell_type": "code",
   "execution_count": 15,
   "metadata": {},
   "outputs": [
    {
     "data": {
      "text/plain": [
       "'.\\\\Easy_3.html'"
      ]
     },
     "execution_count": 15,
     "metadata": {},
     "output_type": "execute_result"
    }
   ],
   "source": [
    "nb.export_notebook(nb.notebooks[2])"
   ]
  },
  {
   "cell_type": "code",
   "execution_count": null,
   "metadata": {},
   "outputs": [],
   "source": []
  }
 ],
 "metadata": {
  "kernelspec": {
   "display_name": "Python 3.9.12 ('data-science')",
   "language": "python",
   "name": "python3"
  },
  "language_info": {
   "codemirror_mode": {
    "name": "ipython",
    "version": 3
   },
   "file_extension": ".py",
   "mimetype": "text/x-python",
   "name": "python",
   "nbconvert_exporter": "python",
   "pygments_lexer": "ipython3",
   "version": "3.9.12"
  },
  "orig_nbformat": 4,
  "vscode": {
   "interpreter": {
    "hash": "d74fc908eae79b02b8cce18e1a025ddee3cde1cb9b0b41023c6cc1f310bb259d"
   }
  }
 },
 "nbformat": 4,
 "nbformat_minor": 2
}
