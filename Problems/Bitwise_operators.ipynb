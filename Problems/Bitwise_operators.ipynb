{
 "cells": [
  {
   "cell_type": "markdown",
   "metadata": {},
   "source": [
    "# Python Bitwise Operators"
   ]
  },
  {
   "cell_type": "markdown",
   "metadata": {},
   "source": [
    "Operators are used to perform operations on values and variables. These are the special symbols that carry out arithmetic and logical computations. The value the operator operates on is known as Operand.  "
   ]
  },
  {
   "cell_type": "markdown",
   "metadata": {},
   "source": [
    "In Python, bitwise operators are used to performing bitwise calculations on integers. The integers are first converted into binary and then operations are performed on bit by bit, hence the name bitwise operators. Then the result is returned in decimal format. Following is the list of bitwise operators in Python."
   ]
  },
  {
   "cell_type": "markdown",
   "metadata": {},
   "source": [
    "<table><thead><tr><th>OPERATOR</th><th>DESCRIPTION</th><th>SYNTAX</th></tr></thead><tbody><tr><td>&amp;</td><td>Bitwise AND</td><td>x &amp; y</td></tr><tr><td>|</td><td>Bitwise OR</td><td>x | y</td></tr><tr><td>~</td><td>Bitwise NOT</td><td>~x</td></tr><tr><td>^</td><td>Bitwise XOR</td><td>x ^ y</td></tr><tr><td>&gt;&gt;</td><td>Bitwise right shift</td><td>x&gt;&gt;</td></tr><tr><td>&lt;&lt;</td><td>Bitwise left shift</td><td>x&lt;&lt;</td></tr></tbody></table>"
   ]
  },
  {
   "cell_type": "markdown",
   "metadata": {},
   "source": [
    "## Bitwise AND"
   ]
  },
  {
   "cell_type": "markdown",
   "metadata": {},
   "source": [
    "Returns 1 if both the bits are 1 else 0. For example:\n",
    "<pre>a = 10 = 1010 (Binary)\n",
    "b = 4 =  0100 (Binary)\n",
    "\n",
    "a & b = 1010\n",
    "         &\n",
    "        0100\n",
    "      = 0000\n",
    "      = 0 (Decimal)</pre>"
   ]
  },
  {
   "cell_type": "code",
   "execution_count": 1,
   "metadata": {},
   "outputs": [
    {
     "data": {
      "text/plain": [
       "0"
      ]
     },
     "execution_count": 1,
     "metadata": {},
     "output_type": "execute_result"
    }
   ],
   "source": [
    "a = 10\n",
    "b = 4\n",
    "a&b"
   ]
  },
  {
   "cell_type": "markdown",
   "metadata": {},
   "source": [
    "## Bitwise OR Operator"
   ]
  },
  {
   "cell_type": "markdown",
   "metadata": {},
   "source": [
    "Returns 1 if either of the bit is 1 else 0. eg:\n",
    "<pre>a = 10 = 1010 (Binary)\n",
    "b = 4 =  0100 (Binary)\n",
    "\n",
    "a | b = 1010\n",
    "         |\n",
    "        0100\n",
    "      = 1110\n",
    "      = 14 (Decimal)\n",
    "</pre>"
   ]
  },
  {
   "cell_type": "code",
   "execution_count": 2,
   "metadata": {},
   "outputs": [
    {
     "data": {
      "text/plain": [
       "14"
      ]
     },
     "execution_count": 2,
     "metadata": {},
     "output_type": "execute_result"
    }
   ],
   "source": [
    "a|b"
   ]
  },
  {
   "cell_type": "markdown",
   "metadata": {},
   "source": [
    "## Bitwise NOT Operator"
   ]
  },
  {
   "cell_type": "markdown",
   "metadata": {},
   "source": [
    "Returns one’s complement of the number. eg.\n",
    "<pre>\n",
    "a = 10 = 1010 (Binary)\n",
    "\n",
    "~a = ~1010\n",
    "   = -(1010 + 1)\n",
    "   = -(1011)\n",
    "   = -11 (Decimal)\n",
    "</pre>"
   ]
  },
  {
   "cell_type": "markdown",
   "metadata": {},
   "source": [
    "## Bitwise XOR Operator"
   ]
  },
  {
   "cell_type": "markdown",
   "metadata": {},
   "source": [
    "Returns 1 if one of the bits is 1 and the other is 0 else returns 0. eg.\n",
    "<pre>\n",
    "a = 10 = 1010 (Binary)\n",
    "b = 4 =  0100 (Binary)\n",
    "\n",
    "a ^ b = 1010\n",
    "         ^\n",
    "        0100\n",
    "      = 1110\n",
    "      = 14 (Decimal)\n",
    "</pre>"
   ]
  },
  {
   "cell_type": "code",
   "execution_count": 3,
   "metadata": {},
   "outputs": [
    {
     "data": {
      "text/plain": [
       "14"
      ]
     },
     "execution_count": 3,
     "metadata": {},
     "output_type": "execute_result"
    }
   ],
   "source": [
    "a^b"
   ]
  },
  {
   "cell_type": "markdown",
   "metadata": {},
   "source": [
    "## Bitwise Right Shift"
   ]
  },
  {
   "cell_type": "markdown",
   "metadata": {},
   "source": [
    "Shifts the bits of the number to the right and fills 0 on voids left( fills 1 in the case of a negative number) as a result. Similar effect as of dividing the number with some power of two. eg.\n",
    "<pre>\n",
    "1:\n",
    "a = 10 = 0000 1010 (Binary)\n",
    "a >> 1 = 0000 0101 = 5\n",
    "\n",
    "2:\n",
    "a = -10 = 1111 0110 (Binary)\n",
    "a >> 1 = 1111 1011 = -5 \n",
    "<pre>"
   ]
  },
  {
   "cell_type": "code",
   "execution_count": 4,
   "metadata": {},
   "outputs": [
    {
     "data": {
      "text/plain": [
       "5"
      ]
     },
     "execution_count": 4,
     "metadata": {},
     "output_type": "execute_result"
    }
   ],
   "source": [
    "a = 10\n",
    "a>>1"
   ]
  },
  {
   "cell_type": "code",
   "execution_count": 7,
   "metadata": {},
   "outputs": [
    {
     "data": {
      "text/plain": [
       "3"
      ]
     },
     "execution_count": 7,
     "metadata": {},
     "output_type": "execute_result"
    }
   ],
   "source": [
    "a = 25\n",
    "a>>3"
   ]
  },
  {
   "cell_type": "markdown",
   "metadata": {},
   "source": [
    "## Bitwise Left Shift"
   ]
  },
  {
   "cell_type": "markdown",
   "metadata": {},
   "source": [
    "Shifts the bits of the number to the left and fills 0 on voids right as a result. Similar effect as of multiplying the number with some power of two. eg.\n",
    "<pre>\n",
    "1:\n",
    "a = 5 = 0000 0101 (Binary)\n",
    "a << 1 = 0000 1010 = 10\n",
    "a << 2 = 0001 0100 = 20 \n",
    "\n",
    "2:\n",
    "b = -10 = 1111 0110 (Binary)\n",
    "b << 1 = 1110 1100 = -20\n",
    "b << 2 = 1101 1000 = -40 \n",
    "</pre>"
   ]
  },
  {
   "cell_type": "code",
   "execution_count": 8,
   "metadata": {},
   "outputs": [
    {
     "data": {
      "text/plain": [
       "20"
      ]
     },
     "execution_count": 8,
     "metadata": {},
     "output_type": "execute_result"
    }
   ],
   "source": [
    "a = 10\n",
    "a<<1"
   ]
  },
  {
   "cell_type": "code",
   "execution_count": 9,
   "metadata": {},
   "outputs": [
    {
     "data": {
      "text/plain": [
       "80"
      ]
     },
     "execution_count": 9,
     "metadata": {},
     "output_type": "execute_result"
    }
   ],
   "source": [
    "a = 10\n",
    "a<<3"
   ]
  },
  {
   "cell_type": "markdown",
   "metadata": {},
   "source": [
    "# The Methods Underlying These Operators"
   ]
  },
  {
   "cell_type": "markdown",
   "metadata": {},
   "source": [
    "Python implements these operators with 'magic methods' These methods are:"
   ]
  },
  {
   "cell_type": "markdown",
   "metadata": {},
   "source": [
    "<table>\n",
    "    <thead>\n",
    "        <tr>\n",
    "            <th>Magic Method</th>\n",
    "            <th>Operator</th>\n",
    "            <th>Syntax</th>\n",
    "        </tr>\n",
    "    </thead>\n",
    "    <tbody>\n",
    "        <tr>\n",
    "            <td><code>__and__</code></td>\n",
    "            <td>Bitwise AND</td>\n",
    "            <td>x &amp; y</td>\n",
    "        </tr>\n",
    "        <tr>\n",
    "            <td><code>__or__</code></td>\n",
    "            <td>Bitwise OR</td>\n",
    "            <td>x | y</td>\n",
    "        </tr>\n",
    "        <tr>\n",
    "            <td><code>__invert__</code></td>\n",
    "            <td>Bitwise NOT</td>\n",
    "            <td>~x</td>\n",
    "        </tr>\n",
    "        <tr>\n",
    "            <td><code>__xor__</code></td>\n",
    "            <td>Bitwise XOR</td>\n",
    "            <td>x ^ y</td>\n",
    "        </tr>\n",
    "        <tr>\n",
    "            <td><code>__lshift__</code></td>\n",
    "            <td>Bitwise right shift</td>\n",
    "            <td>x&gt;&gt;</td>\n",
    "        </tr>\n",
    "        <tr>\n",
    "            <td><code>__rshift__</code></td>\n",
    "            <td>Bitwise left shift</td>\n",
    "            <td>x&lt;&lt;</td>\n",
    "        </tr>\n",
    "    </tbody>\n",
    "</table>"
   ]
  }
 ],
 "metadata": {
  "kernelspec": {
   "display_name": "Python 3.9.12 ('data-science')",
   "language": "python",
   "name": "python3"
  },
  "language_info": {
   "codemirror_mode": {
    "name": "ipython",
    "version": 3
   },
   "file_extension": ".py",
   "mimetype": "text/x-python",
   "name": "python",
   "nbconvert_exporter": "python",
   "pygments_lexer": "ipython3",
   "version": "3.9.12"
  },
  "orig_nbformat": 4,
  "vscode": {
   "interpreter": {
    "hash": "2efee1efa502125d01e6b4768ba06d9453d29f3642bfd14ad5d4a769de82e88c"
   }
  }
 },
 "nbformat": 4,
 "nbformat_minor": 2
}
