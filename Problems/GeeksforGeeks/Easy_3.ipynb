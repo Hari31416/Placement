{
 "cells": [
  {
   "cell_type": "markdown",
   "metadata": {},
   "source": [
    "# 1. Delete without head pointer"
   ]
  },
  {
   "cell_type": "markdown",
   "metadata": {},
   "source": [
    "<div class=\"problems_problem_content__Xm_eO\"><p><span style=\"font-size:18px\">You are given a pointer/ reference to the node which is to be deleted from the&nbsp;linked list of <strong>N&nbsp;</strong>nodes. The task is to delete the node. Pointer/ reference to head node is not given.&nbsp;</span><br>\n",
    "<span style=\"font-size:18px\"><strong>Note:</strong> No head reference is given to you. It is&nbsp;guaranteed&nbsp;that the node to be deleted is<strong>&nbsp;</strong>not a tail node<strong>&nbsp;</strong>in the linked list.</span></p>\n",
    "\n",
    "<p><span style=\"font-size:18px\"><strong>Example 1:</strong></span></p>\n",
    "\n",
    "<pre><span style=\"font-size:18px\"><strong>Input:\n",
    "</strong>N = 2\n",
    "value[] = {1,2}\n",
    "node = 1\n",
    "<strong>Output: </strong>2<strong>\n",
    "Explanation: </strong>After deleting 1 from the\n",
    "linked list, we have remaining nodes\n",
    "as 2.</span>\n",
    "</pre>\n",
    "\n",
    "<p><span style=\"font-size:18px\"><strong>Example 2:</strong></span></p>\n",
    "\n",
    "<pre><span style=\"font-size:18px\"><strong>Input:\n",
    "</strong>N = 4\n",
    "value[] = {10,20,4,30}\n",
    "node = 20\n",
    "<strong>Output: </strong>10 4 30<strong>\n",
    "Explanation: </strong>After deleting 20 from\n",
    "the linked list, we have remaining\n",
    "nodes as 10, 4 and 30.</span></pre>\n",
    "\n",
    "<p><span style=\"font-size:18px\"><strong>Your Task:</strong><br>\n",
    "You only need to complete the <strong>function deleteNode </strong>that takes <strong>reference </strong>to the node that needs to be <strong>deleted</strong>. The <strong>printing </strong>is done <strong>automatically </strong>by the<strong> driver code</strong>.</span></p>\n",
    "\n",
    "<p><span style=\"font-size:18px\"><strong>Expected Time Complexity</strong> : O(1)<br>\n",
    "<strong>Expected Auxilliary Space</strong> : O(1)</span></p>\n",
    "\n",
    "<p><span style=\"font-size:18px\"><strong>Constraints:</strong><br>\n",
    "2 &lt;= N &lt;= 10<sup>3</sup></span></p>\n",
    "</div>"
   ]
  },
  {
   "cell_type": "code",
   "execution_count": 1,
   "metadata": {},
   "outputs": [],
   "source": [
    "def delete_node(self,curr_node):\n",
    "    curr_node.data = curr_node.next.data\n",
    "    curr_node.next = curr_node.next.next\n"
   ]
  }
 ],
 "metadata": {
  "kernelspec": {
   "display_name": "Python 3.9.12 ('data-science')",
   "language": "python",
   "name": "python3"
  },
  "language_info": {
   "codemirror_mode": {
    "name": "ipython",
    "version": 3
   },
   "file_extension": ".py",
   "mimetype": "text/x-python",
   "name": "python",
   "nbconvert_exporter": "python",
   "pygments_lexer": "ipython3",
   "version": "3.9.12"
  },
  "orig_nbformat": 4,
  "vscode": {
   "interpreter": {
    "hash": "2efee1efa502125d01e6b4768ba06d9453d29f3642bfd14ad5d4a769de82e88c"
   }
  }
 },
 "nbformat": 4,
 "nbformat_minor": 2
}
