{
 "cells": [
  {
   "cell_type": "markdown",
   "metadata": {},
   "source": [
    "# 1. Delete without head pointer"
   ]
  },
  {
   "cell_type": "markdown",
   "metadata": {},
   "source": [
    "<div class=\"problems_problem_content__Xm_eO\"><p><span style=\"font-size:18px\">You are given a pointer/ reference to the node which is to be deleted from the&nbsp;linked list of <strong>N&nbsp;</strong>nodes. The task is to delete the node. Pointer/ reference to head node is not given.&nbsp;</span><br>\n",
    "<span style=\"font-size:18px\"><strong>Note:</strong> No head reference is given to you. It is&nbsp;guaranteed&nbsp;that the node to be deleted is<strong>&nbsp;</strong>not a tail node<strong>&nbsp;</strong>in the linked list.</span></p>\n",
    "\n",
    "<p><span style=\"font-size:18px\"><strong>Example 1:</strong></span></p>\n",
    "\n",
    "<pre><span style=\"font-size:18px\"><strong>Input:\n",
    "</strong>N = 2\n",
    "value[] = {1,2}\n",
    "node = 1\n",
    "<strong>Output: </strong>2<strong>\n",
    "Explanation: </strong>After deleting 1 from the\n",
    "linked list, we have remaining nodes\n",
    "as 2.</span>\n",
    "</pre>\n",
    "\n",
    "<p><span style=\"font-size:18px\"><strong>Example 2:</strong></span></p>\n",
    "\n",
    "<pre><span style=\"font-size:18px\"><strong>Input:\n",
    "</strong>N = 4\n",
    "value[] = {10,20,4,30}\n",
    "node = 20\n",
    "<strong>Output: </strong>10 4 30<strong>\n",
    "Explanation: </strong>After deleting 20 from\n",
    "the linked list, we have remaining\n",
    "nodes as 10, 4 and 30.</span></pre>\n",
    "\n",
    "<p><span style=\"font-size:18px\"><strong>Your Task:</strong><br>\n",
    "You only need to complete the <strong>function deleteNode </strong>that takes <strong>reference </strong>to the node that needs to be <strong>deleted</strong>. The <strong>printing </strong>is done <strong>automatically </strong>by the<strong> driver code</strong>.</span></p>\n",
    "\n",
    "<p><span style=\"font-size:18px\"><strong>Expected Time Complexity</strong> : O(1)<br>\n",
    "<strong>Expected Auxilliary Space</strong> : O(1)</span></p>\n",
    "\n",
    "<p><span style=\"font-size:18px\"><strong>Constraints:</strong><br>\n",
    "2 &lt;= N &lt;= 10<sup>3</sup></span></p>\n",
    "</div>"
   ]
  },
  {
   "cell_type": "code",
   "execution_count": 1,
   "metadata": {},
   "outputs": [],
   "source": [
    "def delete_node(self,curr_node):\n",
    "    curr_node.data = curr_node.next.data\n",
    "    curr_node.next = curr_node.next.next\n"
   ]
  },
  {
   "cell_type": "markdown",
   "metadata": {},
   "source": [
    "# *2. Rotate Array*"
   ]
  },
  {
   "cell_type": "markdown",
   "metadata": {},
   "source": [
    "<div class=\"problems_problem_content__Xm_eO\"><p><span style=\"font-size:18px\">Given an unsorted array <strong>arr[]</strong> of size <strong>N.</strong>&nbsp;Rotate the array to the left (counter-clockwise direction) by <strong>D</strong> steps, where&nbsp;<strong>D</strong>&nbsp;is a positive integer.&nbsp;</span></p>\n",
    "\n",
    "<p>&nbsp;</p>\n",
    "\n",
    "<p><span style=\"font-size:18px\"><strong>Example 1:</strong></span></p>\n",
    "\n",
    "<pre><span style=\"font-size:18px\"><strong>Input:\n",
    "</strong>N = 5, D = 2\n",
    "arr[] = {1,2,3,4,5}\n",
    "<strong>Output: </strong>3 4 5 1 2<strong>\n",
    "</strong><strong>Explanation: </strong>1 2 3 4 5&nbsp; when rotated\n",
    "by 2 elements, it becomes 3 4 5 1 2.</span></pre>\n",
    "\n",
    "<p><span style=\"font-size:18px\"><strong>Example 2:</strong></span></p>\n",
    "\n",
    "<pre><span style=\"font-size:18px\"><strong>Input:\n",
    "</strong>N = 10, D = 3\n",
    "arr[] = {2,4,6,8,10,12,14,16,18,20}\n",
    "<strong>Output: </strong>8 10 12 14 16 18 20 2 4 6<strong>\n",
    "Explanation: </strong>2 4 6 8 10 12 14 16 18 20&nbsp;\n",
    "when rotated by 3 elements, it becomes \n",
    "8 10 12 14 16 18 20 2 4 6.</span>\n",
    "</pre>\n",
    "\n",
    "<p>&nbsp;</p>\n",
    "\n",
    "<p><span style=\"font-size:18px\"><strong>Your&nbsp;Task:</strong><br>\n",
    "Complete the function <strong>rotateArr</strong>() which takes the array, D and N as input parameters and&nbsp;rotates the array by D elements. The array must be modified in-place without using extra space.&nbsp;</span></p>\n",
    "\n",
    "<p>&nbsp;</p>\n",
    "\n",
    "<p><span style=\"font-size:18px\"><strong>Expected Time Complexity:&nbsp;</strong>O(N)<br>\n",
    "<strong>Expected Auxiliary Space:&nbsp;</strong>O(1)</span></p>\n",
    "\n",
    "<p>&nbsp;</p>\n",
    "\n",
    "<p><span style=\"font-size:18px\"><strong>Constraints:</strong><br>\n",
    "1 &lt;= N &lt;= 10</span><sup><span style=\"font-size:15px\">6</span></sup><br>\n",
    "<span style=\"font-size:18px\">1 &lt;= D &lt;= 10<sup>6</sup></span><br>\n",
    "<span style=\"font-size:18px\">0 &lt;=&nbsp;arr[i] &lt;= 10</span><sup>5</sup></p>\n",
    "</div>"
   ]
  },
  {
   "cell_type": "code",
   "execution_count": 1,
   "metadata": {},
   "outputs": [
    {
     "name": "stdout",
     "output_type": "stream",
     "text": [
      "[2, 4, 6, 8, 10, 12, 14, 16, 18, 20]\n",
      "[8, 10, 12, 2, 4, 6, 14, 16, 18, 20]\n",
      "[8, 10, 12, 14, 16, 18, 2, 4, 6, 20]\n"
     ]
    }
   ],
   "source": [
    "A = [2,4,6,8,10,12,14,16,18, 20]\n",
    "D = 3\n",
    "i = 0\n",
    "j = D\n",
    "N = len(A)\n",
    "print(A)\n",
    "while True:\n",
    "    for _ in range(D):\n",
    "        A[i], A[j] = A[j], A[i]\n",
    "        i+=1\n",
    "        j+=1\n",
    "    print(A)\n",
    "    if j>N-D:\n",
    "        break\n",
    "if j!=N:\n",
    "    while True:\n",
    "        A[i], A[-1]=A[-1], A[i]\n",
    "        i+=1\n",
    "        if i>N-1:\n",
    "            break"
   ]
  },
  {
   "cell_type": "code",
   "execution_count": 2,
   "metadata": {},
   "outputs": [
    {
     "data": {
      "text/plain": [
       "[8, 10, 12, 14, 16, 18, 20, 2, 4, 6]"
      ]
     },
     "execution_count": 2,
     "metadata": {},
     "output_type": "execute_result"
    }
   ],
   "source": [
    "A"
   ]
  },
  {
   "cell_type": "code",
   "execution_count": null,
   "metadata": {},
   "outputs": [],
   "source": [
    "def rotate()"
   ]
  },
  {
   "cell_type": "code",
   "execution_count": 3,
   "metadata": {},
   "outputs": [],
   "source": [
    "def rotate(A, D, N):\n",
    "    i = 0\n",
    "    j = D\n",
    "    N = len(A)\n",
    "    print(A)\n",
    "    if not D:\n",
    "        return \n",
    "    while True:\n",
    "        if j>N-D:\n",
    "            break\n",
    "        for _ in range(D):\n",
    "            A[i], A[j] = A[j], A[i]\n",
    "            i+=1\n",
    "            j+=1\n",
    "        print(A)\n",
    "    if j!=N:\n",
    "        while True:\n",
    "            A[i], A[-1]=A[-1], A[i]\n",
    "            i+=1\n",
    "            if i>N-1:\n",
    "                break"
   ]
  },
  {
   "cell_type": "code",
   "execution_count": 4,
   "metadata": {},
   "outputs": [],
   "source": [
    "with open(\"fileInput.txt\") as f:\n",
    "    lines = f.readlines()\n",
    "    N = int(lines[0].split(\" \")[0])\n",
    "    D = int(lines[0].split(\" \")[1])\n",
    "    A = lines[1].split(\" \")\n",
    "    A = map(lambda x: int(x), A)\n",
    "    A = list(A)"
   ]
  },
  {
   "cell_type": "code",
   "execution_count": 5,
   "metadata": {},
   "outputs": [
    {
     "name": "stdout",
     "output_type": "stream",
     "text": [
      "[40, 13, 27, 87, 95, 40, 96, 71, 35, 79, 68, 2, 98, 3, 18, 93, 53, 57, 2, 81, 87, 42, 66, 90, 45, 20, 41, 30, 32, 18, 98, 72, 82, 76, 10, 28, 68, 57, 98, 54, 87, 66, 7, 84, 20, 25, 29, 72, 33, 30, 4, 20, 71, 69, 9, 16, 41, 50, 97, 24, 19, 46, 47, 52, 22, 56, 80, 89, 65, 29, 42, 51, 94, 1, 35, 65, 25]\n",
      "25 40 13 27 87 95 40 96 71 35 79 68 2 98 3 18 93 53 57 2 81 87 42 66 90 45 20 41 30 32 18 98 72 82 76 10 28 68 57 98 54 87 66 7 84 20 25 29 72 33 30 4 20 71 69 9 16 41 50 97 24 19 46 47 52 22 56 80 89 65 29 42 51 94 1 35 65 "
     ]
    }
   ],
   "source": [
    "rotate(A, D, N)\n",
    "for a in A:\n",
    "    print(a, end=\" \")"
   ]
  },
  {
   "cell_type": "markdown",
   "metadata": {},
   "source": [
    "# 3. Add two numbers represented by linked lists"
   ]
  },
  {
   "cell_type": "markdown",
   "metadata": {},
   "source": [
    "<div class=\"problems_problem_content__Xm_eO\"><p><span style=\"font-size:18px\">Given two decimal numbers represented by two linked lists of size <strong>N</strong> and <strong>M </strong>respectively. The task is to return a linked list that represents the sum of these two numbers. </span></p>\n",
    "\n",
    "<p><span style=\"font-size:18px\">For example, the number <strong>190</strong> will be represented by the linked list, <strong>1-&gt;9-&gt;0-&gt;null, </strong>similarly <strong>25 </strong>by <strong>2-&gt;5-&gt;null. </strong>Sum of these two numbers is<strong> </strong>190 + 25 =<strong> 215, </strong>which will be represented by<strong> 2-&gt;1-&gt;5-&gt;null. </strong>You are required to return the head of the linked list<strong> 2-&gt;1-&gt;5-&gt;null.</strong></span></p>\n",
    "\n",
    "<p><span style=\"font-size:18px\"><strong>Example 1:</strong></span></p>\n",
    "\n",
    "<pre><span style=\"font-size:18px\"><strong>Input:\n",
    "</strong>N = 2\n",
    "valueN[] = {4,5}\n",
    "M = 3\n",
    "valueM[] = {3,4,5}\n",
    "<strong>Output: </strong>3 9 0&nbsp;&nbsp;<strong>\n",
    "Explanation: </strong>For the given two linked\n",
    "list (4 5) and (3 4 5), after adding\n",
    "the two linked list&nbsp;resultant linked\n",
    "list will be (3&nbsp;9 0).</span></pre>\n",
    "\n",
    "<p><span style=\"font-size:18px\"><strong>Example 2:</strong></span></p>\n",
    "\n",
    "<pre><span style=\"font-size:18px\"><strong>Input:\n",
    "</strong>N = 2\n",
    "valueN[] = {6,3}\n",
    "M = 1\n",
    "valueM[] = {7}\n",
    "<strong>Output: </strong>7 0<strong>\n",
    "Explanation: </strong>For the given two linked\n",
    "list (6 3) and (7), after adding the\n",
    "two linked list&nbsp;resultant linked list\n",
    "will be (7 0).</span></pre>\n",
    "\n",
    "<p><span style=\"font-size:18px\"><strong>Your&nbsp;Task:</strong><br>\n",
    "The task is to complete the function <strong>addTwoLists</strong>() which has node reference of both the linked lists and returns the head of the sum list. &nbsp;&nbsp;</span></p>\n",
    "\n",
    "<p><span style=\"font-size:18px\"><strong>Expected Time Complexity:&nbsp;</strong>O(N+M)<br>\n",
    "<strong>Expected Auxiliary Space:&nbsp;</strong>O(Max(N,M)) for the resultant list.</span></p>\n",
    "\n",
    "<p><span style=\"font-size:18px\"><strong>Constraints:</strong></span><br>\n",
    "<span style=\"font-size:18px\">1 &lt;= N, M &lt;= 5000</span></p>\n",
    "</div>"
   ]
  },
  {
   "cell_type": "code",
   "execution_count": 6,
   "metadata": {},
   "outputs": [],
   "source": [
    "def reverse_list(head):\n",
    "    prev = None\n",
    "    current = head\n",
    "    next = None\n",
    "    while current:\n",
    "        next = current.next\n",
    "        current.next = prev\n",
    "        prev = current\n",
    "        current = next\n",
    "    return prev\n",
    "def addTwoNumbers(l1, l2):\n",
    "    sum_node = ListNode()\n",
    "    s_head = sum_node\n",
    "    carry = 0\n",
    "    h1 = l1\n",
    "    h2 = l2\n",
    "    while h1 and h2:\n",
    "        sum_ = h1.data + h2.data + carry\n",
    "        carry = sum_ // 10\n",
    "        s_head.data = sum_ % 10\n",
    "        s_head.next = ListNode()\n",
    "        s_head = s_head.next\n",
    "        h1, h2 = h1.next, h2.next\n",
    "    h = h1 if h1 else h2\n",
    "    while h:\n",
    "        sum_ = h.data + carry\n",
    "        carry = sum_ // 10\n",
    "        s_head.data = sum_ % 10\n",
    "        s_head.next = ListNode()\n",
    "        s_head = s_head.next\n",
    "        h = h.next\n",
    "    s_head = sum_node\n",
    "    if carry:\n",
    "        while s_head.next:\n",
    "            s_head = s_head.next\n",
    "        s_head.data = carry\n",
    "    else:\n",
    "        while s_head.next.next:\n",
    "            s_head = s_head.next\n",
    "        s_head.next = None\n",
    "    return sum_node\n",
    "\n",
    "    first_r = reverse_list(first)\n",
    "    second_r = reverse_list(second)\n",
    "    return reverse_list(addTwoNumbers(first_r, second_r))"
   ]
  },
  {
   "cell_type": "markdown",
   "metadata": {},
   "source": [
    "# *4. Common elements*"
   ]
  },
  {
   "cell_type": "markdown",
   "metadata": {},
   "source": [
    "<div class=\"problems_problem_content__Xm_eO\"><p><span style=\"font-size:18px\">Given three arrays sorted in increasing order. Find the elements that are common in all three arrays.<br>\n",
    "<strong>Note:&nbsp;</strong></span><span style=\"font-size:18px\">can you take care of the duplicates without using any additional Data Structure?</span></p>\n",
    "\n",
    "<p><strong><span style=\"font-size:18px\">Example 1:</span></strong></p>\n",
    "\n",
    "<pre><span style=\"font-size:18px\"><strong>Input:\n",
    "</strong>n1 = 6; A = {1, 5, 10, 20, 40, 80}\n",
    "n2 = 5; B = {6, 7, 20, 80, 100}\n",
    "n3 = 8; C = {3, 4, 15, 20, 30, 70, 80, 120}\n",
    "<strong>Output:</strong> 20 80\n",
    "<strong>Explanation:</strong> 20 and 80 are the only\n",
    "common elements in A, B and C.</span></pre>\n",
    "\n",
    "<p>&nbsp;</p>\n",
    "\n",
    "<p><span style=\"font-size:18px\"><strong>Your Task: &nbsp;</strong><br>\n",
    "You don't need to read input or print anything. Your task is to complete the function <strong>commonElements() </strong>which take the 3 arrays A[], B[], C[] and their respective sizes n1, n2 and n3 as inputs and returns an array containing the common element present in all the 3 arrays in sorted order.&nbsp;<br>\n",
    "If there are no such elements return an empty array. In this case the output will be printed as -1.</span></p>\n",
    "\n",
    "<p>&nbsp;</p>\n",
    "\n",
    "<p><span style=\"font-size:18px\"><strong>Expected Time Complexity: </strong>O(n1 + n2 + n3)<br>\n",
    "<strong>Expected Auxiliary Space:</strong> O(n1 + n2 + n3)</span></p>\n",
    "\n",
    "<p>&nbsp;</p>\n",
    "\n",
    "<p><span style=\"font-size:18px\"><strong>Constraints:</strong><br>\n",
    "1 &lt;= n1, n2, n3 &lt;= 10^5<br>\n",
    "The array elements can be both positive or negative integers. </span></p>\n",
    "</div>"
   ]
  },
  {
   "cell_type": "code",
   "execution_count": 50,
   "metadata": {},
   "outputs": [],
   "source": [
    "def common(A, B, C, n1, n2, n3):\n",
    "    commons = []\n",
    "    arrays = {\n",
    "        n1:A,\n",
    "        n2:B,\n",
    "        n3:C,\n",
    "    }\n",
    "    if n1==n2 and n2==n3:\n",
    "        smallest = A\n",
    "        first = B\n",
    "        second = C\n",
    "    else:\n",
    "        smallest_index = [n1,n2,n3].index(min([n1,n2,n3]))\n",
    "        smallest = arrays[[n1, n2, n3][smallest_index]]\n",
    "        all = [n1, n2, n3]\n",
    "        all.remove(all[smallest_index])\n",
    "        first = arrays[all[0]]\n",
    "        second = arrays[all[1]]\n",
    "    l1, l2, l3 = 0, 0, 0\n",
    "    # print(smallest, first, second)\n",
    "    while l3<len(smallest):\n",
    "        # print(commons)\n",
    "        if l1>=len(first) or l2>=len(second):\n",
    "            break\n",
    "        curr_num = smallest[l3]\n",
    "        # print(curr_num, first[l1], second[l2])\n",
    "        if curr_num==first[l1] and curr_num==second[l2]:\n",
    "            commons.append(curr_num)\n",
    "            l1+=1\n",
    "            l2+=1\n",
    "            l3+=1\n",
    "            continue\n",
    "        if curr_num<first[l1] and curr_num<second[l2]:\n",
    "            l3+=1\n",
    "        if curr_num>first[l1]:\n",
    "            l1+=1\n",
    "        if curr_num>second[l2]:\n",
    "            l2+=1\n",
    "    if not commons:\n",
    "        return []\n",
    "    if len(commons)==1:\n",
    "        return commons\n",
    "    already_in = set()\n",
    "    result = []\n",
    "    for el in commons:\n",
    "        if el not in already_in:\n",
    "            already_in.add(el)\n",
    "            result.append(el)\n",
    "    # result = list(set(commons))\n",
    "    # result.sort()\n",
    "    \n",
    "    return result"
   ]
  },
  {
   "cell_type": "code",
   "execution_count": 47,
   "metadata": {},
   "outputs": [
    {
     "data": {
      "text/plain": [
       "[20, 80]"
      ]
     },
     "execution_count": 47,
     "metadata": {},
     "output_type": "execute_result"
    }
   ],
   "source": [
    "A = [1, 5, 10, 20, 40, 80]\n",
    "B = [6, 7, 20, 80, 100]\n",
    "C = [3, 4, 15, 20, 30, 70, 80, 120]\n",
    "n1 = len(A)\n",
    "n2 = len(B)\n",
    "n3 = len(C)\n",
    "common(A, B, C, n1, n2, n3)"
   ]
  },
  {
   "cell_type": "code",
   "execution_count": 51,
   "metadata": {},
   "outputs": [
    {
     "name": "stdout",
     "output_type": "stream",
     "text": [
      "2.06 µs ± 30.6 ns per loop (mean ± std. dev. of 7 runs, 100,000 loops each)\n"
     ]
    }
   ],
   "source": [
    "%%timeit\n",
    "A = [3, 3, 3]\n",
    "B = [3, 3, 3]\n",
    "C = [3, 3, 3]\n",
    "n1 = len(A)\n",
    "n2 = len(B)\n",
    "n3 = len(C)\n",
    "common(A, B, C, n1, n2, n3)"
   ]
  },
  {
   "cell_type": "markdown",
   "metadata": {},
   "source": [
    "# *5. Largest subarray with 0 sum*"
   ]
  },
  {
   "cell_type": "markdown",
   "metadata": {},
   "source": [
    "<div class=\"problems_problem_content__Xm_eO\"><p><span style=\"font-size:18px\">Given an array having both positive and negative integers. The task is to compute the&nbsp;length of the largest subarray with sum 0.</span></p>\n",
    "\n",
    "<p><span style=\"font-size:18px\"><strong>Example 1:</strong></span></p>\n",
    "\n",
    "<pre><span style=\"font-size:18px\"><strong>Input:\n",
    "</strong>N = 8\n",
    "A[] = {15,-2,2,-8,1,7,10,23}\n",
    "<strong>Output: </strong>5<strong>\n",
    "Explanation: </strong>The largest subarray with\n",
    "sum 0 will be&nbsp;-2 2 -8 1 7.</span></pre>\n",
    "\n",
    "<p><span style=\"font-size:18px\"><strong>Your Task:</strong><br>\n",
    "You just have to complete the function <strong>maxLen() </strong>which<strong>&nbsp;</strong>takes two arguments an array<strong> A</strong> and<strong> n,</strong> where n is the size of the array A and&nbsp;returns&nbsp;the length of the largest&nbsp;subarray with 0 sum.</span></p>\n",
    "\n",
    "<p><span style=\"font-size:18px\"><strong>Expected Time Complexity:&nbsp;</strong>O(N*log(N)).<br>\n",
    "<strong>Expected Auxiliary Space:&nbsp;</strong>O(N).</span></p>\n",
    "\n",
    "<p><span style=\"font-size:18px\"><strong>Constraints:</strong><br>\n",
    "1 &lt;= N &lt;= 10<sup>5</sup><br>\n",
    "-1000 &lt;= A[i] &lt;= 1000, for each valid i</span></p>\n",
    "</div>"
   ]
  },
  {
   "cell_type": "markdown",
   "metadata": {},
   "source": [
    "## Brute Force"
   ]
  },
  {
   "cell_type": "code",
   "execution_count": 57,
   "metadata": {},
   "outputs": [],
   "source": [
    "def max_len_b(arr, n):\n",
    "    max_l = 0\n",
    "    for i in range(n+1):\n",
    "        for j in range(i,n+1):\n",
    "            if i==j:\n",
    "                continue\n",
    "            if sum(arr[i:j]) ==0:\n",
    "                max_l = max(max_l, j-i)\n",
    "    return max_l"
   ]
  },
  {
   "cell_type": "code",
   "execution_count": 58,
   "metadata": {},
   "outputs": [
    {
     "data": {
      "text/plain": [
       "5"
      ]
     },
     "execution_count": 58,
     "metadata": {},
     "output_type": "execute_result"
    }
   ],
   "source": [
    "arr = [15,-2,2,-8,1,7,10,23]\n",
    "n = len(arr)\n",
    "max_len_b(arr,n)"
   ]
  },
  {
   "cell_type": "code",
   "execution_count": 59,
   "metadata": {},
   "outputs": [
    {
     "data": {
      "text/plain": [
       "4"
      ]
     },
     "execution_count": 59,
     "metadata": {},
     "output_type": "execute_result"
    }
   ],
   "source": [
    "arr = [1, -1, -1, 1]\n",
    "n = len(arr)\n",
    "max_len_b(arr,n)"
   ]
  },
  {
   "cell_type": "markdown",
   "metadata": {},
   "source": [
    "# 6. Longest Common Prefix in an Array"
   ]
  },
  {
   "cell_type": "markdown",
   "metadata": {},
   "source": [
    "<div class=\"problems_problem_content__Xm_eO\"><p><span style=\"font-size:18px\">Given a array of <strong>N</strong> strings, find the longest common prefix among all strings present in the array.</span></p>\n",
    "\n",
    "<p><br>\n",
    "<span style=\"font-size:18px\"><strong>Example 1:</strong></span></p>\n",
    "\n",
    "<pre><span style=\"font-size:18px\"><strong>Input:</strong>\n",
    "N = 4\n",
    "arr[] = {geeksforgeeks, geeks, geek,\n",
    "&nbsp;        geezer}\n",
    "<strong>Output:</strong> gee\n",
    "<strong>Explanation</strong>: \"gee\" is the longest common\n",
    "prefix in all the given strings.</span>\n",
    "</pre>\n",
    "\n",
    "<p><span style=\"font-size:18px\"><strong>Example 2:</strong></span></p>\n",
    "\n",
    "<pre><span style=\"font-size:18px\"><strong>Input</strong>: \n",
    "N = 2\n",
    "arr[] = {hello, world}\n",
    "<strong>Output:</strong> -1\n",
    "<strong>Explanation</strong>: There's no common prefix\n",
    "in the given strings.</span>\n",
    "</pre>\n",
    "\n",
    "<p><br>\n",
    "<span style=\"font-size:18px\"><strong>Your Task:</strong><br>\n",
    "You don't need to read input or print anything. Your task is to complete the function&nbsp;<strong>longestCommonPrefix()&nbsp;</strong>which takes the string array <strong>arr</strong>[] and its size <strong>N</strong> as inputs and <strong>returns</strong> the longest common prefix common in all the strings in the array. If there's no prefix common in all the strings, return \"-1\".</span></p>\n",
    "\n",
    "<p><br>\n",
    "<span style=\"font-size:18px\"><strong>Expected Time Complexity:&nbsp;</strong>O(N*max(|arr<sub>i</sub>|)).<br>\n",
    "<strong>Expected Auxiliary Space:&nbsp;</strong>O(max(|arr<sub>i</sub>|)) for result.</span></p>\n",
    "\n",
    "<p><br>\n",
    "<span style=\"font-size:18px\"><strong>Constraints:</strong><br>\n",
    "1 ≤ N ≤ 10<sup>3</sup><br>\n",
    "1 ≤ |arr<sub>i</sub>| ≤ 10<sup>3</sup></span></p>\n",
    "</div>"
   ]
  },
  {
   "cell_type": "code",
   "execution_count": 56,
   "metadata": {},
   "outputs": [],
   "source": [
    "def longest_common_prefix(arr, n):\n",
    "    matched = \"\"\n",
    "    j = 0\n",
    "    for i in range(len(arr[0])):\n",
    "        char = arr[0][i]\n",
    "        match = True\n",
    "        for word in arr:\n",
    "            try:\n",
    "                if word[j]!=char:\n",
    "                    match = False\n",
    "                    break\n",
    "            except IndexError:\n",
    "                return matched if matched else -1\n",
    "        if match:\n",
    "            matched+=char\n",
    "        else:\n",
    "            return matched if matched else -1\n",
    "        j+=1\n",
    "    return matched if matched else -1"
   ]
  },
  {
   "cell_type": "code",
   "execution_count": 57,
   "metadata": {},
   "outputs": [
    {
     "data": {
      "text/plain": [
       "-1"
      ]
     },
     "execution_count": 57,
     "metadata": {},
     "output_type": "execute_result"
    }
   ],
   "source": [
    "arr = ['geeksforgeeks', 'geeks', 'geek', 'eeezer']\n",
    "n = len(arr)\n",
    "longest_common_prefix(arr, n)"
   ]
  },
  {
   "cell_type": "markdown",
   "metadata": {},
   "source": [
    "# *7. Swapping pairs make sum equal*"
   ]
  },
  {
   "cell_type": "markdown",
   "metadata": {},
   "source": [
    "<div class=\"problems_problem_content__Xm_eO\"><p><span style=\"font-size:18px\">Given two arrays of integers <strong>A[]</strong> and <strong>B[]</strong> of size <strong>N</strong> and <strong>M</strong>, the task is to check if a pair of values (one value from each array) exists such that swapping the elements of the pair will make the sum of two arrays equal.</span></p>\n",
    "\n",
    "<p>&nbsp;</p>\n",
    "\n",
    "<p><span style=\"font-size:18px\"><strong>Example 1:</strong></span></p>\n",
    "\n",
    "<pre><span style=\"font-size:18px\"><strong>Input: </strong>N = 6, M = 4\n",
    "A[] = {4, 1, 2, 1, 1, 2}\n",
    "B[] = (3, 6, 3, 3)\n",
    "<strong>Output: </strong>1\n",
    "<strong>Explanation</strong>: Sum of elements in A[] = 11\n",
    "Sum of elements in B[] = 15, To get same \n",
    "sum from both arrays, we can swap following \n",
    "values: 1 from A[] and 3 from B[]</span></pre>\n",
    "\n",
    "<p><span style=\"font-size:18px\"><strong>Example 2:</strong></span></p>\n",
    "\n",
    "<pre><span style=\"font-size:18px\"><strong>Input: </strong>N = 4, M = 4\n",
    "A[] = {5, 7, 4, 6}\n",
    "B[] = {1, 2, 3, 8}\n",
    "<strong>Output:</strong> 1\n",
    "<strong>Explanation</strong>: We can swap 6 from array \n",
    "A[] and 2 from array B[]</span></pre>\n",
    "\n",
    "<p><span style=\"font-size:18px\"><strong>Your Task:</strong><br>\n",
    "This is a function problem. You don't need to take any input, as it is already accomplished by the driver code. You just need to complete the function <strong>findSwapValues</strong>() that takes array<strong> A, </strong>array<strong> B,&nbsp;</strong>integer<strong> N, </strong>and integer<strong> M&nbsp;</strong>as parameters and returns <strong>1</strong>&nbsp;if there exists any such pair otherwise returns&nbsp;<strong>-1</strong>.</span></p>\n",
    "\n",
    "<p>&nbsp;</p>\n",
    "\n",
    "<p><span style=\"font-size:18px\"><strong>Expected Time Complexity:</strong> O(MlogM+NlogN).<br>\n",
    "<strong>Expected Auxiliary Space:</strong> O(1).</span></p>\n",
    "\n",
    "<p>&nbsp;</p>\n",
    "\n",
    "<p><span style=\"font-size:18px\"><strong>Constraints:</strong><br>\n",
    "1 ≤ N, M ≤ 10<sup>6</sup></span></p>\n",
    "</div>"
   ]
  },
  {
   "cell_type": "markdown",
   "metadata": {},
   "source": [
    "# 8. Maximum no of 1's row"
   ]
  },
  {
   "cell_type": "markdown",
   "metadata": {},
   "source": [
    "<div class=\"problems_problem_content__Xm_eO\"><p><span style=\"font-size:18px\">Given a boolean 2D array, where each row is sorted. Find the row with the maximum number of 1s.</span></p>\n",
    "\n",
    "<p><span style=\"font-size:18px\"><strong>Example 1:</strong></span></p>\n",
    "\n",
    "<pre><span style=\"font-size:18px\"><strong>Input:</strong>\n",
    "N = 3, M = 4\n",
    "Mat[] = {{0 1 1 1},\n",
    "         {0 0 1 1},\n",
    "&nbsp;        {0 0 1 1}}\n",
    "<strong>Output:</strong> 0\n",
    "<strong>Explanation</strong>: Row 0 has 3 ones whereas\n",
    "rows 1 and 2 have just 2 ones.\n",
    "</span>\n",
    "</pre>\n",
    "\n",
    "<p><span style=\"font-size:18px\"><strong>Example 2:</strong></span></p>\n",
    "\n",
    "<pre><span style=\"font-size:18px\"><strong>Input</strong>: \n",
    "N = 2, M = 2\n",
    "Mat[] = {{0 1},\n",
    "&nbsp;        {1 1}}\n",
    "<strong>Output:</strong> 1\n",
    "<strong>Explanation</strong>: Row 1 has 2 ones whereas\n",
    "row 0 has just a single one. </span>\n",
    "</pre>\n",
    "\n",
    "<p><br>\n",
    "<span style=\"font-size:18px\"><strong>Your Task:</strong><br>\n",
    "You don't need to read input or print anything. Your task is to complete the function&nbsp;<strong>maxOnes ()&nbsp;</strong>which takes a 2D array Mat[][] and its dimensions N&nbsp;and M&nbsp;as inputs and returns the row index with the maximum number of 1s (0-based index). If there are multiple rows with the maximum number of ones, then return the row with the smaller index.</span></p>\n",
    "\n",
    "<p><br>\n",
    "<span style=\"font-size:18px\"><strong>Expected Time Complexity:&nbsp;</strong>O(NLogM).<br>\n",
    "<strong>Expected Auxiliary Space:&nbsp;</strong>O(1).</span></p>\n",
    "\n",
    "<p><br>\n",
    "<span style=\"font-size:18px\"><strong>Constraints:</strong><br>\n",
    "1 &lt;= N, M &lt;= 40<br>\n",
    "0 &lt;= M[ ][ ] &lt;= 1</span></p>\n",
    "</div>"
   ]
  },
  {
   "cell_type": "code",
   "execution_count": 58,
   "metadata": {},
   "outputs": [],
   "source": [
    "def max_ones(Mat):\n",
    "    sums = []\n",
    "    for arr in Mat:\n",
    "        sums.append(sum(arr))\n",
    "    return sums.index(max(sums))"
   ]
  },
  {
   "cell_type": "code",
   "execution_count": 59,
   "metadata": {},
   "outputs": [
    {
     "data": {
      "text/plain": [
       "2"
      ]
     },
     "execution_count": 59,
     "metadata": {},
     "output_type": "execute_result"
    }
   ],
   "source": [
    "Mat = [[0,1,1,1],\n",
    "        [1,1,0,0],\n",
    "        [1,1,1,1],\n",
    "        [0,0,0,1]]\n",
    "max_ones(Mat)"
   ]
  },
  {
   "cell_type": "markdown",
   "metadata": {},
   "source": [
    "# 9. Anagram"
   ]
  },
  {
   "cell_type": "markdown",
   "metadata": {},
   "source": [
    "<div class=\"problems_problem_content__Xm_eO\"><p><span style=\"font-size:18px\">Given two strings&nbsp;<strong>a&nbsp;</strong>and&nbsp;<strong>b&nbsp;</strong>consisting of lowercase characters. The task is to check whether two given strings are an anagram of each other or not. An anagram of a string is another string that contains the same characters, only the order of characters can be different. For example, act and tac are an anagram of each other.</span></p>\n",
    "\n",
    "<p><span style=\"font-size:18px\"><strong>Example 1:</strong></span></p>\n",
    "\n",
    "<pre><span style=\"font-size:18px\"><strong>Input:</strong>a = geeksforgeeks, b = forgeeksgeeks\n",
    "<strong>Output: </strong>YES\n",
    "<strong>Explanation: </strong>Both the string have same characters with\n",
    "        same frequency. So, both are anagrams.</span></pre>\n",
    "\n",
    "<p><span style=\"font-size:18px\"><strong>Example 2:</strong></span></p>\n",
    "\n",
    "<pre><span style=\"font-size:18px\"><strong>Input:</strong>a = allergy, b = allergic\n",
    "<strong>Output: </strong>NO\n",
    "<strong>Explanation: </strong>Characters in both the strings are \n",
    "&nbsp;       not same, so they are not anagrams.</span></pre>\n",
    "\n",
    "<p><span style=\"font-size:18px\"><strong>Your Task:</strong></span><br>\n",
    "<span style=\"font-size:18px\">You don't need to read input or print anything. Your&nbsp;</span><span style=\"font-size:18px\">task is to complete the function&nbsp;<strong>isAnagram()</strong> which takes the string <strong>a</strong> and string <strong>b</strong> as input parameter and check if the two strings are an anagram of each other. The function returns true if the strings are anagram else it returns false.</span></p>\n",
    "\n",
    "<p><strong><span style=\"font-size:18px\">Note: In python, you have to return True or False.</span></strong></p>\n",
    "\n",
    "<p><span style=\"font-size:18px\"><strong>Expected Time Complexity:</strong>O(|a|+|b|).<br>\n",
    "<strong>Expected Auxiliary Space:</strong>O(Number of distinct characters).</span></p>\n",
    "\n",
    "<p><span style=\"font-size:18px\"><strong>Note:</strong> |s| represents the length of string s.</span></p>\n",
    "\n",
    "<p><span style=\"font-size:18px\"><strong>Constraints:</strong><br>\n",
    "1 ≤ |a|,|b| ≤ 10<sup>5</sup></span></p>\n",
    "</div>"
   ]
  },
  {
   "cell_type": "code",
   "execution_count": 1,
   "metadata": {},
   "outputs": [],
   "source": [
    "def is_anagram(a, b):\n",
    "    if len(a)!=len(b):\n",
    "        return False\n",
    "    chars_a = {}\n",
    "    chars_b = {}\n",
    "    for c in a:\n",
    "        if c in chars_a:\n",
    "            chars_a[c]+=1\n",
    "        else:\n",
    "            chars_a[c] = 1\n",
    "    for c in b:\n",
    "        if c in chars_b:\n",
    "            chars_b[c]+=1\n",
    "        else:\n",
    "            chars_b[c] = 1\n",
    "    for k,v in chars_a.items():\n",
    "        if k not in chars_b:\n",
    "            return False\n",
    "        if chars_b[k]!=v:\n",
    "            return False\n",
    "    return True"
   ]
  },
  {
   "cell_type": "markdown",
   "metadata": {},
   "source": [
    "# 10. Maximize Toys"
   ]
  },
  {
   "cell_type": "markdown",
   "metadata": {},
   "source": [
    "<div class=\"problems_problem_content__Xm_eO\"><p><span style=\"font-size:18px\">Given an array <strong>arr[ ]</strong> of length <strong>N</strong> consisting cost of <strong>N</strong> toys and&nbsp;an integer <strong>K</strong> depicting the amount with you. Your task is to find maximum number of toys you can buy&nbsp;with <strong>K</strong> amount.&nbsp;</span></p>\n",
    "\n",
    "<p><strong><span style=\"font-size:18px\">Example 1:</span></strong></p>\n",
    "\n",
    "<pre><span style=\"font-size:18px\"><strong>Input:</strong> \n",
    "N = 7 \n",
    "K = 50\n",
    "arr[] = {1, 12, 5, 111, 200, 1000, 10}\n",
    "<strong>Output:</strong> 4\n",
    "<strong>Explaination:</strong> The costs of the toys \n",
    "you can buy are 1, 12, 5 and 10.</span></pre>\n",
    "\n",
    "<p><strong><span style=\"font-size:18px\">Example 2:</span></strong></p>\n",
    "\n",
    "<pre><span style=\"font-size:18px\"><strong>Input:</strong> \n",
    "N = 3 \n",
    "K = 100\n",
    "arr[] = {20, 30, 50}\n",
    "<strong>Output:</strong> 3\n",
    "<strong>Explaination:</strong> You can buy all toys.</span></pre>\n",
    "\n",
    "<p><span style=\"font-size:18px\"><strong>Your Task:</strong><br>\n",
    "You do not need to read input or print anything. Your task is to complete the function <strong>toyCount()</strong> which takes the integer <strong>N</strong>,&nbsp;integer <strong>K</strong> and the array <strong>arr[ ] </strong>as input parameters&nbsp;and returns the maximum count of toys you can have.</span></p>\n",
    "\n",
    "<p><span style=\"font-size:18px\"><strong>Expected Time Complexity:</strong> O(N * Log(N))<br>\n",
    "<strong>Expected Auxiliary Space:</strong> O(1)</span></p>\n",
    "\n",
    "<p><span style=\"font-size:18px\"><strong>Constraints:</strong><br>\n",
    "1 ≤ N ≤ 10<sup>5</sup><br>\n",
    "1 ≤ K, arr[i] ≤ 10<sup>9</sup></span></p>\n",
    "</div>"
   ]
  },
  {
   "cell_type": "code",
   "execution_count": 2,
   "metadata": {},
   "outputs": [],
   "source": [
    "def toy_count(N, K, arr):\n",
    "    arr.sort()\n",
    "    i = 0\n",
    "    while K>0 and i<N:\n",
    "        K-=arr[i]\n",
    "        i+=1\n",
    "    return i if i==N else i-1\n"
   ]
  }
 ],
 "metadata": {
  "kernelspec": {
   "display_name": "Python 3.9.12 ('data-science')",
   "language": "python",
   "name": "python3"
  },
  "language_info": {
   "codemirror_mode": {
    "name": "ipython",
    "version": 3
   },
   "file_extension": ".py",
   "mimetype": "text/x-python",
   "name": "python",
   "nbconvert_exporter": "python",
   "pygments_lexer": "ipython3",
   "version": "3.9.12"
  },
  "orig_nbformat": 4,
  "vscode": {
   "interpreter": {
    "hash": "2efee1efa502125d01e6b4768ba06d9453d29f3642bfd14ad5d4a769de82e88c"
   }
  }
 },
 "nbformat": 4,
 "nbformat_minor": 2
}
