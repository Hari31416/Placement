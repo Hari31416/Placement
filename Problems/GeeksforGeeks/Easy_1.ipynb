{
 "cells": [
  {
   "cell_type": "markdown",
   "metadata": {},
   "source": [
    "# 1. Subarray with given sum\n"
   ]
  },
  {
   "cell_type": "markdown",
   "metadata": {},
   "source": [
    "<div><p><span style=\"font-size:18px\">Given an unsorted array <strong>A </strong>of size <strong>N</strong> that contains only&nbsp;non-negative integers, find a continuous sub-array which adds to a given number <strong>S</strong>.</span></p>\n",
    "\n",
    "<p><span style=\"font-size:18px\">In case of multiple subarrays, return the subarray which comes first on moving from left to right.</span></p>\n",
    "\n",
    "<p>&nbsp;</p>\n",
    "\n",
    "<p><span style=\"font-size:18px\"><strong>Example 1:</strong></span></p>\n",
    "\n",
    "<pre><span style=\"font-size:18px\"><strong>Input:\n",
    "</strong>N = 5, S = 12\n",
    "A[] = {1,2,3,7,5}\n",
    "<strong>Output: </strong>2 4<strong>\n",
    "Explanation: </strong>The sum of elements \n",
    "from 2nd position to 4th position \n",
    "is 12.</span></pre>\n",
    "\n",
    "<p>&nbsp;</p>\n",
    "\n",
    "<p><span style=\"font-size:18px\"><strong>Example 2:</strong></span></p>\n",
    "\n",
    "<pre><span style=\"font-size:18px\"><strong>Input:\n",
    "</strong>N = 10, S = 15\n",
    "A[] = {1,2,3,4,5,6,7,8,9,10}\n",
    "<strong>Output: </strong>1 5<strong>\n",
    "Explanation: </strong>The sum of elements \n",
    "from 1st position to 5th position\n",
    "is 15.</span>\n",
    "</pre>\n",
    "\n",
    "<p>&nbsp;</p>\n",
    "\n",
    "<p><span style=\"font-size:18px\"><strong>Your Task:</strong><br>\n",
    "You don't need to read input or print anything. The task is to complete the function <strong>subarraySum</strong>() which takes arr, N and S as input parameters and returns an <strong>arraylist&nbsp;</strong>containing the&nbsp;<strong>starting </strong>and <strong>ending </strong>positions&nbsp;of the&nbsp;first such occurring subarray from the left where sum equals to S. The two indexes in the array should be according to 1-based indexing. If no such subarray is found, return an array consisting only one element that is -1.</span></p>\n",
    "\n",
    "<p>&nbsp;</p>\n",
    "\n",
    "<p><span style=\"font-size:18px\"><strong>Expected Time Complexity:&nbsp;</strong>O(N)<br>\n",
    "<strong>Expected Auxiliary Space:&nbsp;</strong>O(1)</span></p>\n",
    "\n",
    "<p>&nbsp;</p>\n",
    "\n",
    "<p><span style=\"font-size:18px\"><strong>Constraints:</strong><br>\n",
    "1 &lt;= N &lt;= 10<sup>5</sup></span><br>\n",
    "<span style=\"font-size:18px\">1 &lt;= A</span><sub>i</sub><span style=\"font-size:18px\"> &lt;= 10<sup>9</sup></span></p>\n",
    "\n",
    "<p>&nbsp;</p>\n",
    "</div>\n"
   ]
  },
  {
   "cell_type": "code",
   "execution_count": 48,
   "metadata": {},
   "outputs": [],
   "source": [
    "def subarray_sum(arr, n, s):\n",
    "    start, end, current_sum = 0, 0, 0\n",
    "    while True:\n",
    "        if end>n:\n",
    "            return [-1]\n",
    "        if current_sum<s:\n",
    "            current_sum+=arr[end]\n",
    "            end+=1\n",
    "        elif current_sum>s:\n",
    "            current_sum-=arr[start]\n",
    "            start+=1\n",
    "        else:\n",
    "            return (start+1, end)\n",
    "        # print(start, end, current_sum)"
   ]
  },
  {
   "cell_type": "code",
   "execution_count": 49,
   "metadata": {},
   "outputs": [
    {
     "data": {
      "text/plain": [
       "(2, 4)"
      ]
     },
     "execution_count": 49,
     "metadata": {},
     "output_type": "execute_result"
    }
   ],
   "source": [
    "arr = [1,2,3,7,5]\n",
    "n = len(arr)\n",
    "s = 12\n",
    "subarray_sum(arr, n, s)"
   ]
  },
  {
   "cell_type": "code",
   "execution_count": 51,
   "metadata": {},
   "outputs": [
    {
     "data": {
      "text/plain": [
       "(1, 3)"
      ]
     },
     "execution_count": 51,
     "metadata": {},
     "output_type": "execute_result"
    }
   ],
   "source": [
    "arr = [2,3,7]\n",
    "n = len(arr)\n",
    "s = 12\n",
    "subarray_sum(arr, n, s)"
   ]
  },
  {
   "cell_type": "code",
   "execution_count": 52,
   "metadata": {},
   "outputs": [
    {
     "data": {
      "text/plain": [
       "(38, 42)"
      ]
     },
     "execution_count": 52,
     "metadata": {},
     "output_type": "execute_result"
    }
   ],
   "source": [
    "arr = \"135 101 170 125 79 159 163 65 106 146 82 28 162 92 196 143 28 37 192 5 103 154 93 183 22 117 119 96 48 127 172 139 70 113 68 100 36 95 104 12 123 134\".split()\n",
    "arr = list(map(int, arr))\n",
    "n = len(arr)\n",
    "s = 468\n",
    "subarray_sum(arr, n, s)\n"
   ]
  },
  {
   "cell_type": "markdown",
   "metadata": {},
   "source": [
    "# 2. Check for BST\n"
   ]
  },
  {
   "cell_type": "markdown",
   "metadata": {},
   "source": [
    "<div><p><span style=\"font-size:18px\">Given the root of a&nbsp;binary tree. Check whether it is a BST or not.<br>\n",
    "<strong>Note: </strong>We are considering that BSTs can not contain duplicate Nodes.</span><br>\n",
    "<span style=\"font-size:18px\">A&nbsp;<strong>BST</strong>&nbsp;is defined as follows:</span></p>\n",
    "\n",
    "<ul>\n",
    "\t<li>\n",
    "\t<div><span style=\"font-size:18px\">The left subtree of a node contains only nodes with keys <strong>less than</strong> the node's key.</span></div>\n",
    "\t</li>\n",
    "\t<li>\n",
    "\t<div><span style=\"font-size:18px\">The right subtree of a node contains only nodes with keys <strong>greater than</strong> the node's key.</span></div>\n",
    "\t</li>\n",
    "\t<li>\n",
    "\t<div><span style=\"font-size:18px\">Both the left and right subtrees must also be binary search trees.</span></div>\n",
    "\t</li>\n",
    "</ul>\n",
    "\n",
    "<p>&nbsp;</p>\n",
    "\n",
    "<p><span style=\"font-size:18px\"><strong>Example 1:</strong></span></p>\n",
    "\n",
    "<pre><span style=\"font-size:18px\"><strong>Input:\n",
    "</strong>&nbsp; &nbsp;2\n",
    " /&nbsp; &nbsp; \\\n",
    "1&nbsp; &nbsp; &nbsp; 3\n",
    "<strong>Output: </strong>1 \n",
    "<strong>Explanation: </strong></span>\n",
    "<span style=\"font-size:18px\">The left subtree of root node contains node\n",
    "with key lesser than the root nodes key and \n",
    "the right subtree of root node contains node \n",
    "with key greater than the root nodes key.\n",
    "Hence, the tree is a BST.</span>\n",
    "</pre>\n",
    "\n",
    "<p><span style=\"font-size:18px\"><strong>Example 2:</strong></span></p>\n",
    "\n",
    "<pre><span style=\"font-size:18px\"><strong>Input:\n",
    "</strong>  2\n",
    "&nbsp;  \\\n",
    "&nbsp;   7\n",
    "&nbsp;    \\\n",
    "&nbsp;     6\n",
    "&nbsp;      \\\n",
    "&nbsp;       5\n",
    "&nbsp;        \\\n",
    "&nbsp;         9\n",
    "&nbsp;          \\\n",
    "&nbsp;           2\n",
    "&nbsp;            \\\n",
    "&nbsp;             6\n",
    "<strong>Output: </strong>0 \n",
    "<strong>Explanation: </strong>\n",
    "Since the node with value 7 has right subtree \n",
    "nodes with keys less than 7, this is not a BST.\n",
    "</span></pre>\n",
    "\n",
    "<p><span style=\"font-size:18px\"><strong>Your Task:</strong><br>\n",
    "You don't need to read input or print anything. Your task is to complete the function&nbsp;</span><span style=\"font-size:18px\"><strong>isBST()</strong> which takes the root of the tree as a parameter and returns <strong>true</strong>&nbsp;if the given binary tree is BST, else returns <strong>false</strong>.&nbsp;</span></p>\n",
    "\n",
    "<p><span style=\"font-size:18px\"><strong>Expected Time Complexity:</strong>&nbsp;O(N).<br>\n",
    "<strong>Expected Auxiliary Space:</strong>&nbsp;O(Height of the BST).</span></p>\n",
    "\n",
    "<p><span style=\"font-size:18px\"><strong>Constraints:</strong><br>\n",
    "0 &lt;= Number of edges &lt;= 100000</span></p>\n",
    "</div>\n"
   ]
  },
  {
   "cell_type": "code",
   "execution_count": 1,
   "metadata": {},
   "outputs": [],
   "source": [
    "MIN = -4294967296\n",
    "MAX = 4294967296\n",
    "def isBSTHelper(root, min, max):\n",
    "    if not root:\n",
    "        return True\n",
    "    if root.data<min or root.data>max:\n",
    "        return False\n",
    "    return isBSTHelper(root.left, min,root.data-1) and isBSTHelper(root.right, root.data+1, max)\n",
    "def isBST( root):\n",
    "    return isBSTHelper(root, MIN, MAX)"
   ]
  },
  {
   "cell_type": "markdown",
   "metadata": {},
   "source": [
    "# 3. Missing number in array\n"
   ]
  },
  {
   "cell_type": "markdown",
   "metadata": {},
   "source": [
    "<div><p><span style=\"font-size:18px\">Given an array of size&nbsp;<strong>N-1</strong>&nbsp;such that it only contains distinct integers in the range of&nbsp;<strong>1&nbsp;to N</strong>. Find the missing element.</span></p>\n",
    "\n",
    "<p><span style=\"font-size:18px\"><strong>Example 1:</strong></span></p>\n",
    "\n",
    "<pre><span style=\"font-size:18px\"><strong>Input:\n",
    "</strong>N = 5\n",
    "A[] = {1,2,3,5}\n",
    "<strong>Output: </strong>4</span>\n",
    "</pre>\n",
    "\n",
    "<p><span style=\"font-size:18px\"><strong>Example 2:</strong></span></p>\n",
    "\n",
    "<pre><span style=\"font-size:18px\"><strong>Input:\n",
    "</strong>N = 10\n",
    "A[] = {6,1,2,8,3,4,7,10,5}\n",
    "<strong>Output: </strong>9</span></pre>\n",
    "\n",
    "<p><br>\n",
    "<span style=\"font-size:18px\"><strong>Your Task :</strong><br>\n",
    "You don't need to read input or print anything.&nbsp;Complete the function&nbsp;<strong>MissingNumber()&nbsp;</strong>that takes array and N as input &nbsp;parameters and returns the value of the missing number.</span></p>\n",
    "\n",
    "<p><br>\n",
    "<span style=\"font-size:18px\"><strong>Expected Time Complexity:</strong>&nbsp;O(N)<br>\n",
    "<strong>Expected Auxiliary Space:</strong>&nbsp;O(1)</span></p>\n",
    "\n",
    "<p><br>\n",
    "<span style=\"font-size:18px\"><strong>Constraints:</strong><br>\n",
    "1 ≤ N ≤ 10<sup>6</sup><br>\n",
    "1 ≤ A[i] ≤ 10<sup>6</sup></span></p>\n",
    "</div>\n"
   ]
  },
  {
   "cell_type": "code",
   "execution_count": 50,
   "metadata": {},
   "outputs": [],
   "source": [
    "def missing_number(arr):\n",
    "    arr_set = set(arr)\n",
    "    if 1 not in arr:\n",
    "        return 1\n",
    "    for i in range(1, len(arr)+2):\n",
    "        if i not in arr_set:\n",
    "            return i "
   ]
  },
  {
   "cell_type": "code",
   "execution_count": 51,
   "metadata": {},
   "outputs": [
    {
     "data": {
      "text/plain": [
       "9"
      ]
     },
     "execution_count": 51,
     "metadata": {},
     "output_type": "execute_result"
    }
   ],
   "source": [
    "arr = [6,1,2,8,3,4,7,10,5]\n",
    "missing_number(arr)"
   ]
  },
  {
   "cell_type": "code",
   "execution_count": 52,
   "metadata": {},
   "outputs": [
    {
     "data": {
      "text/plain": [
       "4"
      ]
     },
     "execution_count": 52,
     "metadata": {},
     "output_type": "execute_result"
    }
   ],
   "source": [
    "arr = [1, 2, 3, 5]\n",
    "missing_number(arr)"
   ]
  },
  {
   "cell_type": "code",
   "execution_count": 53,
   "metadata": {},
   "outputs": [
    {
     "data": {
      "text/plain": [
       "5"
      ]
     },
     "execution_count": 53,
     "metadata": {},
     "output_type": "execute_result"
    }
   ],
   "source": [
    "arr = [1, 2, 3, 4]\n",
    "missing_number(arr)"
   ]
  },
  {
   "cell_type": "code",
   "execution_count": 54,
   "metadata": {},
   "outputs": [
    {
     "data": {
      "text/plain": [
       "1"
      ]
     },
     "execution_count": 54,
     "metadata": {},
     "output_type": "execute_result"
    }
   ],
   "source": [
    "arr = [2, 3, 4]\n",
    "missing_number(arr)"
   ]
  },
  {
   "cell_type": "markdown",
   "metadata": {},
   "source": [
    "# _4. Left View of Binary Tree_\n"
   ]
  },
  {
   "cell_type": "markdown",
   "metadata": {},
   "source": [
    "<div><p><span style=\"font-size:18px\">Given a Binary Tree, print Left view of it. Left view of a Binary Tree is set of nodes visible when tree is visited from Left side. The task is to complete the function <strong>leftView()</strong>, which accepts root of the tree as argument.</span></p>\n",
    "\n",
    "<p><span style=\"font-size:18px\">Left view of following tree is 1 2 4 8.</span></p>\n",
    "\n",
    "<p><span style=\"font-size:18px\">&nbsp;&nbsp;&nbsp;&nbsp;&nbsp;&nbsp;&nbsp;&nbsp;&nbsp; 1<br>\n",
    "&nbsp;&nbsp;&nbsp;&nbsp;&nbsp;&nbsp; /&nbsp;&nbsp;&nbsp;&nbsp; \\<br>\n",
    "&nbsp;&nbsp;&nbsp;&nbsp; 2&nbsp;&nbsp;&nbsp;&nbsp;&nbsp;&nbsp;&nbsp; 3<br>\n",
    "&nbsp;&nbsp; /&nbsp;&nbsp; &nbsp; \\ &nbsp;&nbsp; /&nbsp;&nbsp;&nbsp; \\<br>\n",
    "&nbsp; 4&nbsp;&nbsp;&nbsp;&nbsp; 5&nbsp;&nbsp; 6&nbsp;&nbsp;&nbsp; 7<br>\n",
    "&nbsp;&nbsp; \\<br>\n",
    "&nbsp;&nbsp;&nbsp;&nbsp; 8&nbsp; &nbsp;</span></p>\n",
    "\n",
    "<p><span style=\"font-size:18px\"><strong>Example 1:</strong></span></p>\n",
    "\n",
    "<pre><span style=\"font-size:18px\"><strong>Input:\n",
    "</strong>&nbsp;  1\n",
    "&nbsp;/&nbsp; \\\n",
    "3&nbsp; &nbsp; 2\n",
    "<strong>Output: </strong>1 3<strong>\n",
    "</strong></span>\n",
    "</pre>\n",
    "\n",
    "<p><span style=\"font-size:18px\"><strong>Example 2:</strong></span></p>\n",
    "\n",
    "<pre><span style=\"font-size:18px\"><strong>Input:\n",
    "</strong><img alt=\"\" src=\"https://media.geeksforgeeks.org/wp-content/cdn-uploads/20190221103723/leftview.jpg\" style=\"height:272px; width:285px\">\n",
    "<strong>Output: </strong>10 20 40\n",
    "</span></pre>\n",
    "\n",
    "<p><span style=\"font-size:18px\"><strong>Your Task:</strong><br>\n",
    "You just have to <strong>complete </strong>the function <strong>leftView() </strong>that returns an array containing the nodes that are in&nbsp;the left view. The newline is automatically appended by the driver code.</span><br>\n",
    "<span style=\"font-size:18px\"><strong>Expected Time Complexity:&nbsp;</strong>O(N).<br>\n",
    "<strong>Expected Auxiliary Space:&nbsp;</strong>O(N).</span></p>\n",
    "\n",
    "<p><span style=\"font-size:18px\"><strong>Constraints:</strong><br>\n",
    "0 &lt;= Number of nodes &lt;= 100<br>\n",
    "1 &lt;= Data of a node &lt;= 1000</span></p>\n",
    "</div>\n"
   ]
  },
  {
   "cell_type": "markdown",
   "metadata": {},
   "source": [
    "# 5. Detect Loop in linked list\n"
   ]
  },
  {
   "cell_type": "markdown",
   "metadata": {},
   "source": [
    "<div><p><span style=\"font-size:18px\">Given a linked list of <strong>N</strong> nodes. The task is to check if the&nbsp;linked list has a loop. Linked list can contain&nbsp;self loop.</span></p>\n",
    "\n",
    "<p><span style=\"font-size:18px\"><strong>Example 1:</strong></span></p>\n",
    "\n",
    "<pre><span style=\"font-size:18px\"><strong>Input:\n",
    "</strong>N = 3\n",
    "value[] = {1,3,4}\n",
    "x(position at which tail is connected) = 2\n",
    "<strong>Output: </strong>True<strong>\n",
    "Explanation: </strong>In above test case N = 3.\n",
    "</span><span style=\"font-size:18px\">The linked list with nodes N = 3 is\n",
    "given. Then value of&nbsp;x=2 is given which\n",
    "means last node is connected with xth\n",
    "node of linked list. Therefore, there\n",
    "exists a loop.</span></pre>\n",
    "\n",
    "<p><span style=\"font-size:18px\"><strong>Example 2:</strong></span></p>\n",
    "\n",
    "<pre><span style=\"font-size:18px\"><strong>Input:\n",
    "</strong>N = 4\n",
    "value[] = {1,8,3,4}\n",
    "x = 0\n",
    "<strong>Output: </strong>False<strong>\n",
    "Explanation: </strong>For N = 4 ,x = 0 means\n",
    "then lastNode-&gt;next = NULL, then\n",
    "the&nbsp;Linked list does not contains\n",
    "any loop.</span></pre>\n",
    "\n",
    "<p><span style=\"font-size:18px\"><strong>Your Task:</strong><br>\n",
    "The task is to complete the function <strong>detectloop</strong>() which contains reference to the head as only argument. This function should return <strong>true</strong>&nbsp;if linked list contains loop, else return <strong>false</strong>.</span></p>\n",
    "\n",
    "<p><span style=\"font-size:18px\"><strong>Expected Time Complexity:</strong>&nbsp;O(N)<br>\n",
    "<strong>Expected Auxiliary Space:</strong>&nbsp;O(1)</span></p>\n",
    "\n",
    "<p><span style=\"font-size:18px\"><strong>Constraints:</strong></span><br>\n",
    "<span style=\"font-size:18px\">1 ≤ N ≤ 10<sup>4</sup><br>\n",
    "1 ≤ Data on Node ≤ 10<sup>3</sup></span></p>\n",
    "</div>"
   ]
  },
  {
   "cell_type": "code",
   "execution_count": 27,
   "metadata": {},
   "outputs": [],
   "source": [
    "def detect_loop(head):\n",
    "    nodes = set()\n",
    "    current = head\n",
    "    while current.next:\n",
    "        if current in nodes:\n",
    "            return True\n",
    "        else:\n",
    "            nodes.add(current)\n",
    "        current = current.next\n",
    "    return False"
   ]
  },
  {
   "cell_type": "markdown",
   "metadata": {},
   "source": [
    "# 6. Find duplicates in an array\n"
   ]
  },
  {
   "cell_type": "markdown",
   "metadata": {},
   "source": [
    "<div><p><span style=\"font-size:18px\">Given an array a[] of size N which contains elements from 0 to N-1, you need to find all the elements occurring more than once in the given array.</span></p>\n",
    "\n",
    "<p><span style=\"font-size:18px\"><strong>Example 1:</strong></span></p>\n",
    "\n",
    "<pre><span style=\"font-size:18px\"><strong>Input:\n",
    "</strong>N = 4\n",
    "a[] = {0,3,1,2}\n",
    "<strong>Output: </strong>-1<strong>\n",
    "Explanation: </strong>N=4 and all elements from 0\n",
    "to (N-1 = 3) are present in the given\n",
    "array. Therefore output is -1.</span>\n",
    "</pre>\n",
    "\n",
    "<p><span style=\"font-size:18px\"><strong>Example 2:</strong></span></p>\n",
    "\n",
    "<pre><span style=\"font-size:18px\"><strong>Input:\n",
    "</strong>N = 5\n",
    "a[] = {2,3,1,2,3}\n",
    "<strong>Output: </strong>2 3&nbsp;<strong>\n",
    "Explanation: </strong>2 and 3 occur more than once\n",
    "in the given array.</span></pre>\n",
    "\n",
    "<p><span style=\"font-size:18px\"><strong>Your Task:</strong><br>\n",
    "Complete the function <strong>duplicates()</strong>&nbsp;which takes array a[] and n as input as parameters and returns a list of elements that occur more than once in the given array in sorted manner. If no such element is found, return list containing [-1].&nbsp;</span></p>\n",
    "\n",
    "<p><span style=\"font-size:18px\"><strong>Expected Time Complexity:</strong> O(n).<br>\n",
    "<strong>Expected Auxiliary Space:</strong> O(n).<br>\n",
    "Note : The extra space is only for the array to be returned.<br>\n",
    "Try and perform all operation withing the provided array.&nbsp;</span></p>\n",
    "\n",
    "<p><span style=\"font-size:18px\"><strong>Constraints:</strong><br>\n",
    "1 &lt;= N &lt;= 10<sup>5</sup><br>\n",
    "0 &lt;= A[i] &lt;= N-1, for each valid i</span></p>\n",
    "</div>\n"
   ]
  },
  {
   "cell_type": "code",
   "execution_count": 30,
   "metadata": {},
   "outputs": [],
   "source": [
    "def duplicates(arr):\n",
    "    duplis = set()\n",
    "    already_in = set()\n",
    "    for a in arr:\n",
    "        if a in already_in:\n",
    "            duplis.add(a)\n",
    "        else:\n",
    "            already_in.add(a)\n",
    "    duplis = list(duplis)\n",
    "    duplis.sort()\n",
    "    return duplis if len(duplis)>=1 else [-1]\n"
   ]
  },
  {
   "cell_type": "code",
   "execution_count": 31,
   "metadata": {},
   "outputs": [
    {
     "data": {
      "text/plain": [
       "[2, 3]"
      ]
     },
     "execution_count": 31,
     "metadata": {},
     "output_type": "execute_result"
    }
   ],
   "source": [
    "arr = [2, 3, 1, 2, 3]\n",
    "duplicates(arr) "
   ]
  },
  {
   "cell_type": "code",
   "execution_count": 32,
   "metadata": {},
   "outputs": [
    {
     "data": {
      "text/plain": [
       "[-1]"
      ]
     },
     "execution_count": 32,
     "metadata": {},
     "output_type": "execute_result"
    }
   ],
   "source": [
    "arr = [2, 3, 1]\n",
    "duplicates(arr)"
   ]
  },
  {
   "cell_type": "code",
   "execution_count": 33,
   "metadata": {},
   "outputs": [
    {
     "data": {
      "text/plain": [
       "[-1]"
      ]
     },
     "execution_count": 33,
     "metadata": {},
     "output_type": "execute_result"
    }
   ],
   "source": [
    "arr = [2]\n",
    "duplicates(arr)"
   ]
  },
  {
   "cell_type": "markdown",
   "metadata": {},
   "source": [
    "# 7. Sort an array of 0s, 1s and 2s\n"
   ]
  },
  {
   "cell_type": "markdown",
   "metadata": {},
   "source": [
    "<div><p><span style=\"font-size:18px\">Given an array of size N containing only 0s, 1s, and 2s; sort the array in ascending order.</span></p>\n",
    "\n",
    "<p><br>\n",
    "<span style=\"font-size:18px\"><strong>Example 1:</strong></span></p>\n",
    "\n",
    "<pre><span style=\"font-size:18px\"><strong>Input: </strong>\n",
    "N = 5\n",
    "arr[]= {0 2 1 2 0}\n",
    "<strong>Output:</strong>\n",
    "0 0 1 2 2\n",
    "<strong>Explanation:</strong>\n",
    "0s 1s and 2s are segregated \n",
    "into ascending order.</span></pre>\n",
    "\n",
    "<p><strong><span style=\"font-size:18px\">Example 2:</span></strong></p>\n",
    "\n",
    "<pre><span style=\"font-size:18px\"><strong>Input: </strong>\n",
    "N = 3\n",
    "arr[] = {0 1 0}\n",
    "<strong>Output:</strong>\n",
    "0 0 1\n",
    "<strong>Explanation:</strong>\n",
    "0s 1s and 2s are segregated \n",
    "into ascending order.</span></pre>\n",
    "\n",
    "<p><br>\n",
    "<span style=\"font-size:18px\"><strong>Your Task:</strong><br>\n",
    "You don't need to read input or print anything. Your task is to complete the function <strong>sort012() </strong>that takes an array arr and N as input parameters and <strong>sorts the array in-place. </strong></span></p>\n",
    "\n",
    "<p><br>\n",
    "<span style=\"font-size:18px\"><strong>Expected Time Complexity: </strong>O(N)<br>\n",
    "<strong>Expected Auxiliary Space:</strong> O(1)</span></p>\n",
    "\n",
    "<p><br>\n",
    "<span style=\"font-size:18px\"><strong>Constraints:</strong><br>\n",
    "1 &lt;= N &lt;= 10^6<br>\n",
    "0 &lt;= A[i] &lt;= 2</span></p>\n",
    "</div>\n"
   ]
  },
  {
   "cell_type": "code",
   "execution_count": 20,
   "metadata": {},
   "outputs": [],
   "source": [
    "def sort012(arr, N):\n",
    "    counts = {\n",
    "        0:0,\n",
    "        1:0,\n",
    "        2:0\n",
    "    }\n",
    "    for a in arr:\n",
    "        counts[a]+=1\n",
    "    print(counts)\n",
    "    for i in range(N):\n",
    "        if i<counts[0]:\n",
    "            arr[i] = 0\n",
    "        elif counts[0]<=i<counts[0]+counts[1]:\n",
    "            arr[i] = 1\n",
    "        else:\n",
    "            arr[i] = 2\n",
    "        "
   ]
  },
  {
   "cell_type": "code",
   "execution_count": 21,
   "metadata": {},
   "outputs": [
    {
     "name": "stdout",
     "output_type": "stream",
     "text": [
      "{0: 2, 1: 1, 2: 2}\n",
      "[0, 0, 1, 2, 2]\n"
     ]
    }
   ],
   "source": [
    "arr = [0, 2, 1, 2, 0]\n",
    "sort012(arr, len(arr))\n",
    "print(arr)"
   ]
  },
  {
   "cell_type": "markdown",
   "metadata": {},
   "source": [
    "# 8. Nth node from end of linked list\n"
   ]
  },
  {
   "cell_type": "markdown",
   "metadata": {},
   "source": [
    "<div><p><span style=\"font-size:18px\">Given a linked list consisting of <strong>L</strong> nodes and given a number <strong>N</strong>. The task is to find the <strong>N</strong><sup>th</sup> node from the end of the linked list.</span></p>\n",
    "\n",
    "<p><strong><span style=\"font-size:18px\">Example 1:</span></strong></p>\n",
    "\n",
    "<pre><strong><span style=\"font-size:18px\">Input:\n",
    "</span></strong><span style=\"font-size:18px\">N = 2\n",
    "LinkedList: 1-&gt;2-&gt;3-&gt;4-&gt;5-&gt;6-&gt;7-&gt;8-&gt;9\n",
    "<strong>Output: </strong>8<strong>\n",
    "Explanation: </strong>In the first example, there\n",
    "are 9 nodes in linked list and we need\n",
    "to find 2nd node from end.&nbsp;2nd node\n",
    "from end os 8.&nbsp;&nbsp;</span>\n",
    "</pre>\n",
    "\n",
    "<p><strong><span style=\"font-size:18px\">Example 2:</span></strong></p>\n",
    "\n",
    "<pre><strong><span style=\"font-size:18px\">Input:\n",
    "</span></strong><span style=\"font-size:18px\">N = 5\n",
    "LinkedList: 10-&gt;5-&gt;100-&gt;5\n",
    "<strong>Output: </strong>-1<strong>\n",
    "Explanation: </strong>In the second example, there\n",
    "are 4 nodes in the linked list and we\n",
    "need to find 5th from the end.&nbsp;Since 'n'\n",
    "is more than the number of nodes in the\n",
    "linked list, the output is -1.</span></pre>\n",
    "\n",
    "<p><span style=\"font-size:18px\"><strong>Your Task:</strong><br>\n",
    "The task is to complete the function <strong>getNthFromLast</strong>() which takes two <strong>arguments</strong>: <strong>reference </strong>to <strong>head and N</strong> and you need to<strong> return N<sup>th</sup> </strong>from the end or -1 in case node doesn't exist..</span></p>\n",
    "\n",
    "<p><span style=\"font-size:18px\"><strong>Note:</strong><br>\n",
    "Try to solve in single traversal.</span></p>\n",
    "\n",
    "<p><span style=\"font-size:18px\"><strong>Expected Time Complexity:&nbsp;</strong>O(N).<br>\n",
    "<strong>Expected Auxiliary Space:&nbsp;</strong>O(1).</span></p>\n",
    "\n",
    "<p><span style=\"font-size:18px\"><strong>Constraints:</strong><br>\n",
    "1 &lt;= L &lt;= 10<sup>6</sup><br>\n",
    "1 &lt;= N &lt;= 10<sup>6</sup></span></p>\n",
    "</div>\n"
   ]
  },
  {
   "cell_type": "code",
   "execution_count": 24,
   "metadata": {},
   "outputs": [],
   "source": [
    "def get_nth_from_last(head, n):\n",
    "    left, right = head, head\n",
    "    for _ in range(n):\n",
    "        if left is None:\n",
    "            return -1\n",
    "        left = left.next\n",
    "    while left:\n",
    "        right = right.next\n",
    "        left = left.next\n",
    "    return right.data"
   ]
  },
  {
   "cell_type": "markdown",
   "metadata": {},
   "source": [
    "# 9. Finding middle element in a linked list\n"
   ]
  },
  {
   "cell_type": "markdown",
   "metadata": {},
   "source": [
    "<div><p><span style=\"font-size:18px\">Given a singly linked list of <strong>N</strong> nodes.<br>\n",
    "The task is to find the <strong>middle</strong>&nbsp;of the linked list. For example, if the&nbsp;linked list is<br>\n",
    "<strong>1-&gt; 2-&gt;3-&gt;4-&gt;5</strong>,<strong>&nbsp;</strong>then the middle node of the list is&nbsp;<strong>3</strong>.<br>\n",
    "If there are&nbsp;two middle nodes(in case, when&nbsp;<strong>N</strong>&nbsp;is even),&nbsp;print the <strong>second middle</strong> element.<br>\n",
    "For example, if the linked list given is <strong>1-&gt;2-&gt;3-&gt;4-&gt;5-&gt;6</strong>, then the middle node of the list is <strong>4</strong>.</span></p>\n",
    "\n",
    "<p><strong><span style=\"font-size:18px\">Example 1:</span></strong></p>\n",
    "\n",
    "<pre><strong><span style=\"font-size:18px\">Input:</span></strong><strong><span style=\"font-size:18px\">\n",
    "</span></strong><span style=\"font-size:18px\">LinkedList: 1-&gt;2-&gt;3-&gt;4-&gt;5\n",
    "<strong>Output: </strong>3 \n",
    "<strong>Explanation:</strong> \n",
    "Middle of linked list is 3.</span>\n",
    "</pre>\n",
    "\n",
    "<p><strong><span style=\"font-size:18px\">Example 2:&nbsp;</span></strong></p>\n",
    "\n",
    "<pre><strong><span style=\"font-size:18px\">Input:</span></strong><strong><span style=\"font-size:18px\">\n",
    "</span></strong><span style=\"font-size:18px\">LinkedList: 2-&gt;4-&gt;6-&gt;7-&gt;5-&gt;1\n",
    "<strong>Output: </strong>7 \n",
    "<strong>Explanation:</strong> \n",
    "Middle of linked list is 7.</span>\n",
    "</pre>\n",
    "\n",
    "<p><span style=\"font-size:18px\"><strong>Your Task:</strong><br>\n",
    "The task is to complete the function<span style=\"font-size:18px\"> </span><strong>getMiddle</strong>() which takes a head reference as the only argument and should return the data at the middle node of the linked list.</span></p>\n",
    "\n",
    "<p><span style=\"font-size:18px\"><strong>Expected Time Complexity:&nbsp;</strong>O(N).<br>\n",
    "<strong>Expected Auxiliary Space:&nbsp;</strong>O(1).</span></p>\n",
    "\n",
    "<p><span style=\"font-size:18px\"><strong>Constraints:</strong><br>\n",
    "1 &lt;= N &lt;= 5000</span></p>\n",
    "</div>\n"
   ]
  },
  {
   "cell_type": "code",
   "execution_count": 25,
   "metadata": {},
   "outputs": [],
   "source": [
    "def get_middle(head):\n",
    "    left, right = head, head\n",
    "    i = 0\n",
    "    while left:\n",
    "        if i%2:\n",
    "            right = right.next\n",
    "        left = left.next\n",
    "        i+=1\n",
    "    return right.data"
   ]
  },
  {
   "cell_type": "markdown",
   "metadata": {},
   "source": [
    "# 10. Reverse a linked list\n"
   ]
  },
  {
   "cell_type": "markdown",
   "metadata": {},
   "source": [
    "<div><p><span style=\"font-size:18px\">Given a linked list of <strong>N </strong>nodes. The task is to reverse this list.</span></p>\n",
    "\n",
    "<p><strong><span style=\"font-size:18px\">Example 1:</span></strong></p>\n",
    "\n",
    "<pre><strong><span style=\"font-size:18px\">Input:\n",
    "</span></strong><span style=\"font-size:18px\">LinkedList: 1-&gt;2-&gt;3-&gt;4-&gt;5-&gt;6\n",
    "<strong>Output: </strong>6 5 4 3 2 1<strong>\n",
    "Explanation: </strong>After reversing the list, \n",
    "elements are 6-&gt;5-&gt;4-&gt;3-&gt;2-&gt;1.</span>\n",
    "</pre>\n",
    "\n",
    "<p><strong><span style=\"font-size:18px\">Example 2:</span></strong></p>\n",
    "\n",
    "<pre><strong><span style=\"font-size:18px\">Input:\n",
    "</span></strong><span style=\"font-size:18px\">LinkedList: 2-&gt;7-&gt;8-&gt;9-&gt;10\n",
    "<strong>Output: </strong>10 9 8 7 2<strong>\n",
    "Explanation: </strong>After reversing the list,\n",
    "elements are&nbsp;10-&gt;9-&gt;8-&gt;7-&gt;2.</span></pre>\n",
    "\n",
    "<p><span style=\"font-size:18px\"><strong>Your&nbsp;Task:</strong><br>\n",
    "The task is to complete the function <strong>reverseList</strong>() with&nbsp;head reference as the only argument and should return new head after reversing the list.</span></p>\n",
    "\n",
    "<p><span style=\"font-size:18px\"><strong>Expected Time Complexity:&nbsp;</strong>O(N).<br>\n",
    "<strong>Expected Auxiliary Space:&nbsp;</strong>O(1).</span></p>\n",
    "\n",
    "<p><span style=\"font-size:18px\"><strong>Constraints:</strong><br>\n",
    "1 &lt;= N &lt;= 10<sup>4</sup></span></p>\n",
    "\n",
    "<p>&nbsp;</p>\n",
    "</div>\n"
   ]
  },
  {
   "cell_type": "code",
   "execution_count": 26,
   "metadata": {},
   "outputs": [],
   "source": [
    "def reverse_list(head):\n",
    "    prev = None\n",
    "    current = head\n",
    "    next_ = None\n",
    "    while current:\n",
    "        next_ = current.next\n",
    "        current.next = prev\n",
    "        prev = current\n",
    "        current = next_\n",
    "    return prev"
   ]
  }
 ],
 "metadata": {
  "kernelspec": {
   "display_name": "Python 3.9.12 ('data-science')",
   "language": "python",
   "name": "python3"
  },
  "language_info": {
   "codemirror_mode": {
    "name": "ipython",
    "version": 3
   },
   "file_extension": ".py",
   "mimetype": "text/x-python",
   "name": "python",
   "nbconvert_exporter": "python",
   "pygments_lexer": "ipython3",
   "version": "3.9.12"
  },
  "orig_nbformat": 4,
  "vscode": {
   "interpreter": {
    "hash": "2efee1efa502125d01e6b4768ba06d9453d29f3642bfd14ad5d4a769de82e88c"
   }
  }
 },
 "nbformat": 4,
 "nbformat_minor": 2
}
