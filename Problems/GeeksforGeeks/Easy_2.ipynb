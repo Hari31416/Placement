{
 "cells": [
  {
   "cell_type": "markdown",
   "metadata": {},
   "source": [
    "# 1. Peak element"
   ]
  },
  {
   "cell_type": "markdown",
   "metadata": {},
   "source": [
    "<div class=\"problems_problem_content__Xm_eO\"><p><span style=\"font-size:18px\">An element is called a peak element if its value&nbsp;is not smaller than the value of&nbsp;its adjacent elements(if they exists).<br>\n",
    "Given an array <strong>arr[]</strong> of size&nbsp;<strong>N</strong>,&nbsp;<strong>Return the index of any one of its&nbsp;peak elements</strong>.<br>\n",
    "<strong>Note:&nbsp;</strong>The generated output will always be&nbsp;1 if the index that you&nbsp;return is correct. Otherwise output will be 0.&nbsp;</span></p>\n",
    "\n",
    "<p><br>\n",
    "<strong><span style=\"font-size:18px\">Example 1:</span></strong></p>\n",
    "\n",
    "<pre><strong><span style=\"font-size:18px\">Input: \n",
    "</span></strong><span style=\"font-size:18px\">N = 3\n",
    "arr[] = {1,2,3}\n",
    "</span><strong><span style=\"font-size:18px\">Possible Answer: </span></strong><span style=\"font-size:18px\">2\n",
    "<strong>Generated Output:</strong> 1\n",
    "<strong>Explanation:</strong> index 2 is 3.\n",
    "It is the peak element as it is \n",
    "greater than its neighbour 2.\n",
    "If 2 is returned then the generated output will be 1 else 0.</span>\n",
    "</pre>\n",
    "\n",
    "<p><strong><span style=\"font-size:18px\">Example 2:</span></strong></p>\n",
    "\n",
    "<pre><strong><span style=\"font-size:18px\">Input:\n",
    "</span></strong><span style=\"font-size:18px\">N = 2\n",
    "arr[] = {3,4}\n",
    "</span><strong><span style=\"font-size:18px\">Possible Answer: </span></strong><span style=\"font-size:18px\">1\n",
    "<strong>Output: </strong>1<strong>\n",
    "Explanation: </strong>4 (at index 1) is the \n",
    "peak element as it is greater than \n",
    "its only neighbour element 3.\n",
    "</span><span style=\"font-size:18px\">If 2 is returned then the generated output will be 1 else 0.</span>\n",
    "</pre>\n",
    "\n",
    "<p>&nbsp;</p>\n",
    "\n",
    "<p><strong><span style=\"font-size:18px\">Your Task:</span></strong><br>\n",
    "<span style=\"font-size:18px\">You don't have to read&nbsp;input or print anything. Complete the function <strong>peakElement</strong>() which takes the array arr[] and its size N as input parameters and return the&nbsp;index of any one of its peak elements.<br>\n",
    "<br>\n",
    "Can you solve the problem in expected time complexity?</span></p>\n",
    "\n",
    "<p>&nbsp;</p>\n",
    "\n",
    "<p><span style=\"font-size:18px\"><strong>Expected Time Complexity:</strong>&nbsp;O(log N)<br>\n",
    "<strong>Expected Auxiliary Space:</strong>&nbsp;O(1)</span></p>\n",
    "\n",
    "<p><br>\n",
    "<span style=\"font-size:18px\"><strong>Constraints:</strong><br>\n",
    "1 ≤ N ≤ 10<sup>5</sup><br>\n",
    "1 ≤ A[] ≤ 10<sup>6</sup></span></p>\n",
    "</div>"
   ]
  },
  {
   "cell_type": "code",
   "execution_count": 22,
   "metadata": {},
   "outputs": [],
   "source": [
    "def peak_element(arr, n):\n",
    "    if n ==1:\n",
    "        return 0\n",
    "    if arr[-1]>arr[-2]:\n",
    "        return len(arr)-1\n",
    "    if arr[0]>arr[1]:\n",
    "        return 0\n",
    "    for i in range(1, n-1):\n",
    "        if arr[i-1]<arr[i] and arr[i]> arr[i+1]:\n",
    "            return i\n",
    "    return 0"
   ]
  },
  {
   "cell_type": "code",
   "execution_count": 23,
   "metadata": {},
   "outputs": [
    {
     "data": {
      "text/plain": [
       "2"
      ]
     },
     "execution_count": 23,
     "metadata": {},
     "output_type": "execute_result"
    }
   ],
   "source": [
    "arr = [1,2,3]\n",
    "peak_element(arr, 3)"
   ]
  },
  {
   "cell_type": "code",
   "execution_count": 24,
   "metadata": {},
   "outputs": [
    {
     "data": {
      "text/plain": [
       "1"
      ]
     },
     "execution_count": 24,
     "metadata": {},
     "output_type": "execute_result"
    }
   ],
   "source": [
    "arr = [1,13]\n",
    "peak_element(arr, 2)"
   ]
  },
  {
   "cell_type": "code",
   "execution_count": 25,
   "metadata": {},
   "outputs": [
    {
     "data": {
      "text/plain": [
       "2"
      ]
     },
     "execution_count": 25,
     "metadata": {},
     "output_type": "execute_result"
    }
   ],
   "source": [
    "arr = [2,1, 3]\n",
    "peak_element(arr, 3)"
   ]
  },
  {
   "cell_type": "markdown",
   "metadata": {},
   "source": [
    "# *2. Check if Linked List is Palindrome*"
   ]
  },
  {
   "cell_type": "markdown",
   "metadata": {},
   "source": [
    "<div><p><span style=\"font-size:18px\">Given a singly linked list of size <strong>N</strong> of integers. The task is to check if the given linked list is palindrome or not.</span></p>\n",
    "\n",
    "<p><span style=\"font-size:18px\"><strong>Example 1:</strong></span></p>\n",
    "\n",
    "<pre><span style=\"font-size:18px\"><strong>Input:\n",
    "</strong>N = 3\n",
    "value[] = {1,2,1}\n",
    "<strong>Output: </strong>1<strong>\n",
    "Explanation: </strong>The given linked list is\n",
    "1 2 1 , which is a palindrome and\n",
    "Hence, the output is 1.</span>\n",
    "</pre>\n",
    "\n",
    "<p><span style=\"font-size:18px\"><strong>Example 2:</strong></span></p>\n",
    "\n",
    "<pre><span style=\"font-size:18px\"><strong>Input:\n",
    "</strong>N = 4\n",
    "value[] = {1,2,3,4}\n",
    "<strong>Output: </strong>0<strong>\n",
    "Explanation: </strong>The given linked list\n",
    "is 1 2 3 4 , which is not a palindrome\n",
    "and Hence, the output is 0.</span></pre>\n",
    "\n",
    "<p><span style=\"font-size:18px\"><strong>Your Task:</strong><br>\n",
    "The task is to complete the function&nbsp;<strong>isPalindrome</strong>() which takes head as reference as the only parameter and returns true or false if linked list is palindrome&nbsp;or not respectively.</span></p>\n",
    "\n",
    "<p><span style=\"font-size:18px\"><strong>Expected Time Complexity</strong>: O(N)<br>\n",
    "<strong>Expected Auxialliary Space Usage</strong>: O(1)&nbsp; (ie, you should not use the recursive stack space as well)</span></p>\n",
    "\n",
    "<p><span style=\"font-size:18px\"><strong>Constraints:</strong><br>\n",
    "1 &lt;= N&nbsp;&lt;= 10<sup>5</sup></span></p>\n",
    "</div>"
   ]
  },
  {
   "cell_type": "code",
   "execution_count": 1,
   "metadata": {},
   "outputs": [],
   "source": [
    "def is_palindrom(head):\n",
    "    h = head\n",
    "    string = \"\"\n",
    "    while h:\n",
    "        string+=str(h.data)\n",
    "        h = h.next\n",
    "    return string == string[::-1]"
   ]
  },
  {
   "cell_type": "markdown",
   "metadata": {},
   "source": [
    "# *3. Diameter of a Binary Tree*"
   ]
  },
  {
   "cell_type": "markdown",
   "metadata": {},
   "source": [
    "<div><p><span style=\"font-size:18px\">The diameter of a tree (sometimes called the width) is the number of nodes on the longest path between two end nodes. The diagram below shows two trees each with diameter nine, the leaves that form the ends of the longest path are shaded (note that there is more than one path in each tree of length nine, but no path longer than nine nodes).&nbsp;</span></p>\n",
    "\n",
    "<p><span style=\"font-size:18px\"><a href=\"http://geeksforgeeks.org/wp-content/uploads/tree_diameter.GIF\"><img alt=\"\" class=\"aligncenter size-full wp-image-5737\" src=\"https://contribute.geeksforgeeks.org/wp-content/uploads/diameter.jpg\" style=\"height:319px; width:635px\" title=\"tree_diameter\"></a></span></p>\n",
    "\n",
    "<p><span style=\"font-size:18px\"><strong>Example 1:</strong></span></p>\n",
    "\n",
    "<pre><span style=\"font-size:18px\"><strong>Input:\n",
    "</strong>&nbsp;&nbsp;&nbsp;&nbsp;   1\n",
    " &nbsp;&nbsp;&nbsp; /&nbsp;&nbsp;\\\n",
    " &nbsp;&nbsp; 2 &nbsp;&nbsp; 3\n",
    "<strong>Output: </strong>3</span>\n",
    "</pre>\n",
    "\n",
    "<p><span style=\"font-size:18px\"><strong>Example 2:</strong></span></p>\n",
    "\n",
    "<pre><span style=\"font-size:18px\"><strong>Input:\n",
    "</strong>&nbsp;&nbsp;&nbsp;&nbsp;&nbsp;&nbsp;&nbsp;&nbsp;&nbsp;10\n",
    " &nbsp;&nbsp;&nbsp;&nbsp;&nbsp;&nbsp; /&nbsp;&nbsp; \\\n",
    " &nbsp;&nbsp;&nbsp;&nbsp; 20&nbsp;&nbsp;&nbsp; 30\n",
    " &nbsp;&nbsp; /&nbsp;&nbsp; \\ \n",
    "&nbsp;&nbsp; 40&nbsp;&nbsp; 60\n",
    "<strong>Output: </strong>4\n",
    "</span></pre>\n",
    "\n",
    "<p><strong><span style=\"font-size:18px\">Your Task:</span></strong><br>\n",
    "<span style=\"font-size:18px\">You need to <strong>complete </strong>the <strong>function diameter()&nbsp;</strong>that takes <strong>root&nbsp;</strong>as <strong>parameter </strong>and <strong>returns </strong>the <strong>diameter</strong>.<br>\n",
    "<br>\n",
    "<strong>Expected Time Complexity:&nbsp;</strong>O(N).<br>\n",
    "<strong>Expected Auxiliary Space:&nbsp;</strong>O(Height of the Tree).</span></p>\n",
    "\n",
    "<p><span style=\"font-size:18px\"><strong>Constraints:</strong><br>\n",
    "1 &lt;= Number of nodes &lt;= 10000<br>\n",
    "1 &lt;= Data of a node &lt;= 1000</span></p>\n",
    "\n",
    "<p dir=\"ltr\">&nbsp;</p>\n",
    "</div>"
   ]
  },
  {
   "cell_type": "markdown",
   "metadata": {},
   "source": [
    "# 4. Equilibrium Point"
   ]
  },
  {
   "cell_type": "markdown",
   "metadata": {},
   "source": [
    "<div class=\"problems_problem_content__Xm_eO\"><p><span style=\"font-size:18px\">Given an array A of n&nbsp;positive numbers. The task is to find the first Equilibium Point in the array.&nbsp;<br>\n",
    "Equilibrium Point in an array is a position such that the sum of elements before it is equal to the sum of elements after it.</span></p>\n",
    "\n",
    "<p><strong><span style=\"font-size:18px\">Note: Retun the index of Equilibrium point. (1-based index)</span></strong></p>\n",
    "\n",
    "<p><span style=\"font-size:18px\"><strong>Example 1:</strong></span></p>\n",
    "\n",
    "<pre><span style=\"font-size:18px\"><strong>Input: \n",
    "</strong>n = 5 \n",
    "A[] = {1,3,5,2,2} \n",
    "<strong>Output: </strong>3<strong> \n",
    "Explanation: </strong>For second test case \n",
    "equilibrium point is at position 3 \n",
    "as elements before it (1+3) = \n",
    "elements after it (2+2).<strong> </strong></span>\n",
    "</pre>\n",
    "\n",
    "<p>&nbsp;</p>\n",
    "\n",
    "<p><span style=\"font-size:18px\"><strong>Example 2:</strong></span></p>\n",
    "\n",
    "<pre><strong>Input:\n",
    "</strong><span style=\"font-size:18px\">n = 1\n",
    "A[] = {1}\n",
    "<strong>Output: </strong>1<strong>\n",
    "Explanation:\n",
    "</strong>Since its the only element hence\n",
    "its the only equilibrium point.</span></pre>\n",
    "\n",
    "<p>&nbsp;</p>\n",
    "\n",
    "<p><span style=\"font-size:18px\"><strong>Your&nbsp;Task:</strong><br>\n",
    "The task is to complete the function <strong>equilibriumPoint()</strong> which takes the array and n&nbsp;as input parameters and returns the point of equilibrium. Return -1 if no such point exists. </span></p>\n",
    "\n",
    "<p><span style=\"font-size:18px\"><strong>Expected Time Complexity: </strong>O(n)<br>\n",
    "<strong>Expected Auxiliary Space:</strong> O(1)</span></p>\n",
    "\n",
    "<p><span style=\"font-size:18px\"><strong>Constraints:</strong><br>\n",
    "1 &lt;= n&nbsp;&lt;= 10<sup>6</sup><br>\n",
    "1 &lt;= A[i]&nbsp;&lt;= 10<sup>8</sup></span></p>\n",
    "</div>"
   ]
  },
  {
   "cell_type": "code",
   "execution_count": 11,
   "metadata": {},
   "outputs": [],
   "source": [
    "def equilibrium_point(A, N):\n",
    "    left_sum = 0\n",
    "    right_sum = sum(A)\n",
    "    for i in range(N):\n",
    "        right_sum -= A[i]\n",
    "        if left_sum == right_sum:\n",
    "            return i+1\n",
    "        left_sum += A[i]\n",
    "    return -1"
   ]
  },
  {
   "cell_type": "code",
   "execution_count": 12,
   "metadata": {},
   "outputs": [
    {
     "data": {
      "text/plain": [
       "3"
      ]
     },
     "execution_count": 12,
     "metadata": {},
     "output_type": "execute_result"
    }
   ],
   "source": [
    "A = [1,3,5,2,2]\n",
    "N = 5\n",
    "equilibrium_point(A, N)"
   ]
  },
  {
   "cell_type": "markdown",
   "metadata": {},
   "source": [
    "# 5. Parenthesis Checker"
   ]
  },
  {
   "cell_type": "markdown",
   "metadata": {},
   "source": [
    "<div class=\"problems_problem_content__Xm_eO\"><p><span style=\"font-size:18px\">Given an expression string <strong>x</strong>. Examine whether the pairs and the orders of “{“,”}”,”(“,”)”,”[“,”]” are correct in exp.<br>\n",
    "For example, the function should return 'true' for exp = “[()]{}{[()()]()}” and 'false' for exp = “[(])”.</span></p>\n",
    "\n",
    "<p><span style=\"font-size:18px\"><strong>Example 1:</strong></span></p>\n",
    "\n",
    "<pre><span style=\"font-size:18px\"><strong>Input</strong>:\n",
    "{([])}\n",
    "<strong>Output</strong>: \n",
    "true\n",
    "<strong>Explanation</strong>: \n",
    "<span style=\"color:#FF0000\">{</span> <span style=\"color:#00FF00\">(</span> <span style=\"color:#0000CD\">[</span> <span style=\"color:#0000CD\">]</span> <span style=\"color:#00FF00\">)</span> <span style=\"color:#FF0000\">}</span><span >. Same colored brackets can form \n",
    "balaced pairs, with 0 number of \n",
    "unbalanced bracket.</span>\n",
    "</span></pre>\n",
    "\n",
    "<p><span style=\"font-size:18px\"><strong>Example 2:</strong></span></p>\n",
    "\n",
    "<pre><span style=\"font-size:18px\"><strong>Input</strong>: \n",
    "()\n",
    "<strong>Output</strong>: \n",
    "true\n",
    "<strong>Explanation</strong>: \n",
    "<span style=\"color:#00FF00\">()</span><span>. Same bracket can form balanced pairs, \n",
    "and here only 1 type of bracket is \n",
    "present and in balanced way.</span></span>\n",
    "</pre>\n",
    "\n",
    "<p><span style=\"font-size:18px\"><strong>Example 3:</strong></span></p>\n",
    "\n",
    "<pre><span style=\"font-size:18px\"><strong>Input</strong>: \n",
    "([]\n",
    "<strong>Output</strong>: \n",
    "false\n",
    "<strong>Explanation</strong>: \n",
    "<span style=\"color:#00FF00\">(</span><span style=\"color:#0000CD\">[]</span>.<span> Here square bracket is balanced but \n",
    "the small bracket is not balanced and \n",
    "Hence , the output will be unbalanced.</span></span></pre>\n",
    "\n",
    "<p><span style=\"font-size:18px\"><strong>Your Task:</strong><br>\n",
    "This is a <strong>function </strong>problem. You only need to complete the function <strong>ispar()&nbsp;</strong>that takes a&nbsp;<strong>string </strong>as a&nbsp;<strong>parameter </strong>and returns a boolean value&nbsp;<strong>true </strong>if <strong>brackets </strong>are <strong>balanced </strong>else <strong>returns false</strong>. The <strong>printing </strong>is done <strong>automatically </strong>by the <strong>driver code</strong>.</span><br>\n",
    "<br>\n",
    "<span style=\"font-size:18px\"><strong>Expected Time Complexity</strong>: O(|x|)<br>\n",
    "<strong>Expected Auixilliary Space</strong>: O(|x|)</span><br>\n",
    "<br>\n",
    "<span style=\"font-size:18px\"><strong>Constraints:</strong><br>\n",
    "1 ≤ |x| ≤ </span><span style=\"font-size:18px\">32000</span></p>\n",
    "\n",
    "<p><span style=\"font-size:18px\"><strong>Note</strong>: The drive code prints \"balanced\" if function return true, otherwise it prints \"not balanced\".</span></p>\n",
    "</div>"
   ]
  },
  {
   "cell_type": "code",
   "execution_count": 35,
   "metadata": {},
   "outputs": [],
   "source": [
    "def ispar(x):\n",
    "    lefty = [\"(\", \"{\", \"[\"]\n",
    "    righty = [\")\", \"}\", \"]\"]\n",
    "    brackets = []\n",
    "    for bar in x:\n",
    "        if bar in lefty:\n",
    "            brackets.append(bar)\n",
    "        elif bar in righty:\n",
    "            if not brackets:\n",
    "                return False\n",
    "            if righty[lefty.index(brackets.pop())] != bar:\n",
    "                return False\n",
    "    return not len(brackets)  "
   ]
  },
  {
   "cell_type": "code",
   "execution_count": 36,
   "metadata": {},
   "outputs": [
    {
     "data": {
      "text/plain": [
       "True"
      ]
     },
     "execution_count": 36,
     "metadata": {},
     "output_type": "execute_result"
    }
   ],
   "source": [
    "s = \"{()[]}\"\n",
    "ispar(s)"
   ]
  },
  {
   "cell_type": "code",
   "execution_count": 37,
   "metadata": {},
   "outputs": [
    {
     "data": {
      "text/plain": [
       "False"
      ]
     },
     "execution_count": 37,
     "metadata": {},
     "output_type": "execute_result"
    }
   ],
   "source": [
    "s = \"{(){[]}\"\n",
    "ispar(s)"
   ]
  },
  {
   "cell_type": "code",
   "execution_count": 40,
   "metadata": {},
   "outputs": [
    {
     "data": {
      "text/plain": [
       "True"
      ]
     },
     "execution_count": 40,
     "metadata": {},
     "output_type": "execute_result"
    }
   ],
   "source": [
    "s = \"[()]{}{[()()]()}\"\n",
    "ispar(s)"
   ]
  },
  {
   "cell_type": "markdown",
   "metadata": {},
   "source": [
    "# *6. Count pairs with given sum*"
   ]
  },
  {
   "cell_type": "markdown",
   "metadata": {},
   "source": [
    "<div><p><span style=\"font-size:18px\">Given an array&nbsp;of <strong>N</strong> integers, and an integer&nbsp;<strong>K</strong>, find the number of pairs of elements&nbsp;in the array whose sum is equal to <strong>K</strong>.</span></p>\n",
    "\n",
    "<p><br>\n",
    "<span style=\"font-size:18px\"><strong>Example 1:</strong></span></p>\n",
    "\n",
    "<pre><span style=\"font-size:18px\"><strong>Input:\n",
    "</strong>N = 4, K = 6\n",
    "arr[] = {1,&nbsp;5,&nbsp;7, 1}\n",
    "<strong>Output:</strong> 2\n",
    "<strong>Explanation:</strong> \n",
    "arr[0] + arr[1] = 1 + 5 = 6 \n",
    "and arr[1] + arr[3] = 5 + 1 = 6.\n",
    "</span></pre>\n",
    "\n",
    "<p><br>\n",
    "<span style=\"font-size:18px\"><strong>Example 2:</strong></span></p>\n",
    "\n",
    "<pre><span style=\"font-size:18px\"><strong>Input:\n",
    "</strong>N = 4, K = 2\n",
    "arr[] = {1, 1, 1, 1}\n",
    "<strong>Output:</strong> 6\n",
    "<strong>Explanation:</strong>&nbsp;\n",
    "Each 1 will produce sum 2 with any 1.</span></pre>\n",
    "\n",
    "<p><br>\n",
    "<span style=\"font-size:18px\"><strong>Your Task:</strong><br>\n",
    "You don't need to read input or print anything. Your task is to complete the function&nbsp;<strong>getPairsCount()</strong>&nbsp;which takes&nbsp;<strong>arr[],</strong>&nbsp;<strong>n</strong>&nbsp;and&nbsp;<strong>k&nbsp;</strong>as input parameters and returns the number of pairs that have sum K.</span></p>\n",
    "\n",
    "<p><br>\n",
    "<span style=\"font-size:18px\"><strong>Expected Time Complexity:</strong>&nbsp;O(N)<br>\n",
    "<strong>Expected Auxiliary Space:</strong>&nbsp;O(N)<br>\n",
    "<br>\n",
    "<strong>Constraints:</strong><br>\n",
    "1 &lt;= N &lt;= 10<sup>5</sup><br>\n",
    "1 &lt;= K &lt;= 10<sup>8</sup><br>\n",
    "1 &lt;= Arr[i] &lt;= 10<sup>6</sup></span></p>\n",
    "\n",
    "<p>&nbsp;</p>\n",
    "</div>"
   ]
  },
  {
   "cell_type": "code",
   "execution_count": 53,
   "metadata": {},
   "outputs": [],
   "source": [
    "def get_pairs_count(arr, n, k):\n",
    "    sums = {k-key for key in arr}\n",
    "    print(sums)\n",
    "    count = 0\n",
    "    for a in arr:\n",
    "        if a in sums:\n",
    "            count+=1\n",
    "    return count"
   ]
  },
  {
   "cell_type": "code",
   "execution_count": 54,
   "metadata": {},
   "outputs": [
    {
     "name": "stdout",
     "output_type": "stream",
     "text": [
      "{1, 5, -1}\n"
     ]
    },
    {
     "data": {
      "text/plain": [
       "3"
      ]
     },
     "execution_count": 54,
     "metadata": {},
     "output_type": "execute_result"
    }
   ],
   "source": [
    "arr = [1, 5, 7, 1]\n",
    "n = len(arr)\n",
    "k = 6\n",
    "get_pairs_count(arr, n, k)"
   ]
  },
  {
   "cell_type": "code",
   "execution_count": null,
   "metadata": {},
   "outputs": [],
   "source": [
    "arr = [1, 5, 7, 1]\n",
    "n = len(arr)\n",
    "k = 6\n",
    "get_pairs_count(arr, n, k)"
   ]
  },
  {
   "cell_type": "markdown",
   "metadata": {},
   "source": [
    "# 7. Leaders in an array"
   ]
  },
  {
   "cell_type": "markdown",
   "metadata": {},
   "source": [
    "<div class=\"problems_problem_content__Xm_eO\"><p><span style=\"font-size:18px\">Given an array A of positive integers. Your task is to find the leaders in the array.&nbsp;An element of array is leader if it is greater than or equal to all the elements to its right side. The rightmost element is always a leader.&nbsp;</span></p>\n",
    "\n",
    "<p>&nbsp;</p>\n",
    "\n",
    "<p><span style=\"font-size:18px\"><strong>Example 1:</strong></span></p>\n",
    "\n",
    "<pre><span style=\"font-size:18px\"><strong>Input:\n",
    "</strong>n = 6\n",
    "A[] = {16,17,4,3,5,2}\n",
    "<strong>Output: </strong>17 5 2<strong>\n",
    "Explanation: </strong>The first leader is 17 \n",
    "as it is greater than all the elements\n",
    "to its right.&nbsp; Similarly, the next \n",
    "leader is 5. The right most element \n",
    "is always a leader so it is also \n",
    "included.</span>\n",
    "</pre>\n",
    "\n",
    "<p>&nbsp;</p>\n",
    "\n",
    "<p><span style=\"font-size:18px\"><strong>Example 2:</strong></span></p>\n",
    "\n",
    "<pre><span style=\"font-size:18px\"><strong>Input:\n",
    "</strong>n = 5\n",
    "A[] = {1,2,3,4,0}\n",
    "<strong>Output: </strong>4 0\n",
    "</span></pre>\n",
    "\n",
    "<p>&nbsp;</p>\n",
    "\n",
    "<p><span style=\"font-size:18px\"><strong>Your Task:</strong><br>\n",
    "You don't need to read input or print anything.&nbsp;The task is to complete the function <strong>leader</strong>() which takes array A and n&nbsp;as input parameters and&nbsp;returns an array of leaders in order of their appearance.</span></p>\n",
    "\n",
    "<p>&nbsp;</p>\n",
    "\n",
    "<p><span style=\"font-size:18px\"><strong>Expected Time Complexity:</strong></span><span style=\"font-size:18px\">&nbsp;O(n)</span><br>\n",
    "<span style=\"font-size:18px\"><strong>Expected Auxiliary Space:</strong>&nbsp;O(n)</span></p>\n",
    "\n",
    "<p>&nbsp;</p>\n",
    "\n",
    "<p><span style=\"font-size:18px\"><strong>Constraints:</strong><br>\n",
    "1 &lt;= n&nbsp;&lt;= 10<sup>7</sup><br>\n",
    "0 &lt;= A<sub>i</sub> &lt;= 10<sup>7</sup></span></p>\n",
    "</div>"
   ]
  },
  {
   "cell_type": "code",
   "execution_count": 24,
   "metadata": {},
   "outputs": [],
   "source": [
    "def leader(A):\n",
    "    leaders = []\n",
    "    greatest = -1\n",
    "    for i in range(len(A)):\n",
    "        term = A[-i-1]\n",
    "        if term >=greatest:\n",
    "            leaders.append(term)\n",
    "            greatest = term\n",
    "        # sum+=term\n",
    "    return leaders"
   ]
  },
  {
   "cell_type": "code",
   "execution_count": 25,
   "metadata": {},
   "outputs": [
    {
     "data": {
      "text/plain": [
       "[2, 5, 17]"
      ]
     },
     "execution_count": 25,
     "metadata": {},
     "output_type": "execute_result"
    }
   ],
   "source": [
    "A = [16,17,4,3,5,2]\n",
    "leader(A)"
   ]
  },
  {
   "cell_type": "code",
   "execution_count": 26,
   "metadata": {},
   "outputs": [
    {
     "data": {
      "text/plain": [
       "[0, 4]"
      ]
     },
     "execution_count": 26,
     "metadata": {},
     "output_type": "execute_result"
    }
   ],
   "source": [
    "A = [1,2,3,4,0]\n",
    "leader(A)"
   ]
  },
  {
   "cell_type": "markdown",
   "metadata": {},
   "source": [
    "# *8. Check for Balanced Tree*"
   ]
  },
  {
   "cell_type": "markdown",
   "metadata": {},
   "source": [
    "<div class=\"problems_problem_content__Xm_eO\"><p><span style=\"font-size:18px\">Given a binary tree, find if it is height balanced or not.&nbsp;<br>\n",
    "A tree is height balanced if difference between heights of left and right subtrees is <strong>not more than one</strong> for all nodes of tree.&nbsp;</span></p>\n",
    "\n",
    "<p><span style=\"font-size:18px\"><strong>A height balanced tree</strong><br>\n",
    "&nbsp; &nbsp; &nbsp; &nbsp; 1<br>\n",
    "&nbsp; &nbsp;&nbsp; /&nbsp;&nbsp;&nbsp;&nbsp; \\<br>\n",
    "&nbsp;&nbsp; 10&nbsp;&nbsp;&nbsp;&nbsp;&nbsp; 39<br>\n",
    "&nbsp; /<br>\n",
    "5</span></p>\n",
    "\n",
    "<p><span style=\"font-size:18px\"><strong>An unbalanced tree</strong><br>\n",
    "&nbsp; &nbsp; &nbsp; &nbsp; 1<br>\n",
    "&nbsp; &nbsp;&nbsp; /&nbsp;&nbsp;&nbsp;&nbsp;<br>\n",
    "&nbsp;&nbsp; 10&nbsp;&nbsp;&nbsp;<br>\n",
    "&nbsp; /<br>\n",
    "5</span></p>\n",
    "\n",
    "<p><span style=\"font-size:18px\"><strong>Example 1:</strong></span></p>\n",
    "\n",
    "<pre><span style=\"font-size:18px\"><strong>Input:\n",
    "</strong>&nbsp;&nbsp;&nbsp;&nbsp;&nbsp; 1\n",
    " &nbsp;&nbsp;&nbsp;/\n",
    "&nbsp;&nbsp; 2\n",
    " &nbsp; &nbsp;\\\n",
    " &nbsp; &nbsp; 3&nbsp;\n",
    "<strong>Output: </strong>0<strong>\n",
    "Explanation: </strong>The max difference in height\n",
    "of left subtree and right subtree is 2,\n",
    "which is greater than 1. Hence unbalanced</span>\n",
    "</pre>\n",
    "\n",
    "<p><span style=\"font-size:18px\"><strong>Example 2:</strong></span></p>\n",
    "\n",
    "<pre><span style=\"font-size:18px\"><strong>Input:\n",
    "</strong>&nbsp;&nbsp;&nbsp;&nbsp;&nbsp;&nbsp;&nbsp;10\n",
    " &nbsp;&nbsp;&nbsp;&nbsp;/&nbsp;&nbsp; \\\n",
    " &nbsp;&nbsp;&nbsp;20&nbsp;&nbsp; 30 \n",
    "&nbsp;&nbsp;/&nbsp;&nbsp; \\\n",
    " 40&nbsp;&nbsp; 60\n",
    "<strong>Output:</strong> 1<strong>\n",
    "Explanation: </strong>The max difference in height\n",
    "of left subtree and right subtree is 1.\n",
    "Hence balanced.<strong> </strong></span>\n",
    "</pre>\n",
    "\n",
    "<p><strong><span style=\"font-size:18px\">Your Task:</span></strong><br>\n",
    "<span style=\"font-size:18px\">You don't need to take input. Just complete the function<strong> isBalanced() </strong>that takes root <strong>node </strong>as parameter and returns <strong>true, </strong>if the tree is balanced else returns <strong>false</strong>.</span></p>\n",
    "\n",
    "<p><span style=\"font-size:18px\"><strong>Constraints:</strong><br>\n",
    "1 &lt;= Number of nodes &lt;= 10<sup>5</sup><br>\n",
    "0 &lt;= Data of a node &lt;= 10<sup>6</sup></span></p>\n",
    "\n",
    "<p><span style=\"font-size:18px\"><strong>Expected time complexity:&nbsp;</strong>O(N)</span><br>\n",
    "<span style=\"font-size:18px\"><strong>Expected auxiliary space:&nbsp;</strong>O(h) , where h = height of tree</span></p>\n",
    "</div>"
   ]
  },
  {
   "cell_type": "markdown",
   "metadata": {},
   "source": [
    "# 9. Remove duplicate element from sorted Linked List"
   ]
  },
  {
   "cell_type": "markdown",
   "metadata": {},
   "source": [
    "<div class=\"problems_problem_content__Xm_eO\"><p><span style=\"font-size:18px\">Given a singly linked list consisting of <strong>N</strong> nodes. The task is to remove duplicates (nodes with duplicate values) from the given list (if exists).</span><br>\n",
    "<span style=\"font-size:18px\"><strong>Note:</strong> Try not to use extra space. Expected time complexity is <strong>O(N)</strong>. The nodes are arranged in a <strong>sorted </strong>way.</span></p>\n",
    "\n",
    "<p><span style=\"font-size:18px\"><strong>Example 1:</strong></span></p>\n",
    "\n",
    "<pre><span style=\"font-size:18px\"><strong>Input:\n",
    "</strong>LinkedList: 2-&gt;2-&gt;4-&gt;5\n",
    "<strong>Output: </strong>2 4 5<strong>\n",
    "Explanation: </strong>In the given linked list \n",
    "2 -&gt;2 -&gt; 4-&gt; 5, only 2 occurs more \n",
    "than 1 time.</span>\n",
    "</pre>\n",
    "\n",
    "<p><span style=\"font-size:18px\"><strong>Example 2:</strong></span></p>\n",
    "\n",
    "<pre><span style=\"font-size:18px\"><strong>Input:\n",
    "</strong>LinkedList: 2-&gt;2-&gt;2-&gt;2-&gt;2\n",
    "<strong>Output: </strong>2<strong>\n",
    "Explanation: </strong>In the given linked list \n",
    "2 -&gt;2 -&gt;2 -&gt;2 -&gt;2, 2 is the only element\n",
    "and is repeated 5 times.</span></pre>\n",
    "\n",
    "<p><span style=\"font-size:18px\"><strong>Your Task:</strong><br>\n",
    "The task is to complete the function&nbsp;<strong>removeDuplicates</strong>() which should remove the duplicates from linked list and return the head of the linkedlist.</span></p>\n",
    "\n",
    "<p><span style=\"font-size:18px\"><strong>Expected Time Complexity</strong> : O(N)<br>\n",
    "<strong>Expected Auxilliary Space</strong> : O(1)</span></p>\n",
    "\n",
    "<p><span style=\"font-size:18px\"><strong>Constraints:</strong><br>\n",
    "1 &lt;= Number of nodes &lt;= 10<sup>4</sup></span></p>\n",
    "\n",
    "<p>&nbsp;</p>\n",
    "</div>"
   ]
  },
  {
   "cell_type": "code",
   "execution_count": 3,
   "metadata": {},
   "outputs": [],
   "source": [
    "def remove_duplicates(head):\n",
    "    current = head\n",
    "    current_data = current.data\n",
    "    while current.next:\n",
    "        next_data = current.next.data\n",
    "        if next_data == current_data:\n",
    "            current.data = current.next.data\n",
    "            current.next = current.next.next\n",
    "        else:\n",
    "            current_data = next_data\n",
    "            current = current.next\n",
    "    return head"
   ]
  },
  {
   "cell_type": "markdown",
   "metadata": {},
   "source": [
    "# 10. Find Transition Point"
   ]
  },
  {
   "cell_type": "markdown",
   "metadata": {},
   "source": [
    "<div class=\"problems_problem_content__Xm_eO\"><p><span style=\"font-size:18px\">Given a sorted array containing only 0s and 1s, find the transition point.&nbsp;</span></p>\n",
    "\n",
    "<p><br>\n",
    "<span style=\"font-size:18px\"><strong>Example 1:</strong></span></p>\n",
    "\n",
    "<pre><span style=\"font-size:18px\"><strong>Input:</strong>\n",
    "N = 5\n",
    "arr[] = {0,0,0,1,1}\n",
    "<strong>Output:</strong> 3\n",
    "<strong>Explanation:</strong> index 3 is the transition \n",
    "point where 1 begins.</span></pre>\n",
    "\n",
    "<p><br>\n",
    "<span style=\"font-size:18px\"><strong>Example 2:</strong></span></p>\n",
    "\n",
    "<pre><span style=\"font-size:18px\"><strong>Input:</strong>\n",
    "N = 4\n",
    "arr[] = {0,0,0,0}\n",
    "<strong>Output:</strong> -1\n",
    "<strong>Explanation:</strong> Since, there is no \"1\",\n",
    "the answer is -1.</span></pre>\n",
    "\n",
    "<p><br>\n",
    "<span style=\"font-size:18px\"><strong>Your Task:</strong><br>\n",
    "You don't need to read input or print anything. The task is to complete the function <strong>transitionPoint()</strong> that takes array and N as input parameters and returns the 0 based index of the position where \"0\" ends and \"1\" begins. If array does not have any 1s, return -1. If array does not have any 0s, return 0.</span></p>\n",
    "\n",
    "<p><br>\n",
    "<span style=\"font-size:18px\"><strong>Expected Time Complexity:</strong> O(LogN)<br>\n",
    "<strong>Expected Auxiliary Space: </strong>O(1)</span></p>\n",
    "\n",
    "<p><br>\n",
    "<span style=\"font-size:18px\"><strong>Constraints:</strong><br>\n",
    "1 ≤ N ≤ 500000<br>\n",
    "0 ≤ arr[i] ≤ 1</span></p>\n",
    "</div>"
   ]
  },
  {
   "cell_type": "code",
   "execution_count": 35,
   "metadata": {},
   "outputs": [],
   "source": [
    "def transition_point(arr, n):\n",
    "    pos = n-1\n",
    "    if not arr[pos]:\n",
    "        return -1\n",
    "    if not arr[pos]:\n",
    "        return -1\n",
    "    while arr[pos]==1:\n",
    "        pos -=1\n",
    "    return pos+1"
   ]
  },
  {
   "cell_type": "code",
   "execution_count": 36,
   "metadata": {},
   "outputs": [
    {
     "data": {
      "text/plain": [
       "3"
      ]
     },
     "execution_count": 36,
     "metadata": {},
     "output_type": "execute_result"
    }
   ],
   "source": [
    "arr = [0, 0, 0, 1, 1]\n",
    "n = 4\n",
    "transition_point(arr, n)"
   ]
  }
 ],
 "metadata": {
  "kernelspec": {
   "display_name": "Python 3.7.13 ('msc-project')",
   "language": "python",
   "name": "python3"
  },
  "language_info": {
   "codemirror_mode": {
    "name": "ipython",
    "version": 3
   },
   "file_extension": ".py",
   "mimetype": "text/x-python",
   "name": "python",
   "nbconvert_exporter": "python",
   "pygments_lexer": "ipython3",
   "version": "3.7.13"
  },
  "orig_nbformat": 4,
  "vscode": {
   "interpreter": {
    "hash": "fa5e0b5e350e2ea728d32bac1d29c4433d157848f5d1e6c8399ad60c17c24f73"
   }
  }
 },
 "nbformat": 4,
 "nbformat_minor": 2
}
