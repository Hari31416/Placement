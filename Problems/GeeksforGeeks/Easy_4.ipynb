{
 "cells": [
  {
   "cell_type": "markdown",
   "metadata": {},
   "source": [
    "# *1. Stock buy and sell*"
   ]
  },
  {
   "cell_type": "markdown",
   "metadata": {},
   "source": [
    "<div class=\"problems_problem_content__Xm_eO\"><p><span style=\"font-size:18px\">The cost of stock on each day is given in an array <strong>A</strong>[] of size <strong>N</strong>. Find all the segment of days on which you buy and sell the stock so that in between those days your profit is maximum.<br>\n",
    "<br>\n",
    "<strong>Note:</strong></span>&nbsp;<span style=\"font-size:18px\">Since there can be multiple solutions</span>, <span style=\"font-size:18px\">the driver code will return 1 if your answer is correct, otherwise, it will return 0. In case there's no profit the driver code will return the string \"<strong>No Profit</strong>\" for a correct solution.<br>\n",
    "<br>\n",
    "<strong>Example 1:</strong></span></p>\n",
    "\n",
    "<pre><span style=\"font-size:18px\"><strong>Input:</strong>\n",
    "N = 7\n",
    "A[] = {100,180,260,310,40,535,695}\n",
    "<strong>Output:</strong>\n",
    "1\n",
    "<strong>Explanation:\n",
    "</strong>One possible solution is (0 3) (4 6)\n",
    "We can buy stock on day 0,\n",
    "and sell it on 3rd day, which will \n",
    "give us maximum profit. Now, we buy \n",
    "stock on day 4 and sell it on day 6.</span>\n",
    "</pre>\n",
    "\n",
    "<p><span style=\"font-size:18px\"><strong>Example 2:</strong></span></p>\n",
    "\n",
    "<pre><span style=\"font-size:18px\"><strong>Input:</strong>\n",
    "N = 5\n",
    "A[] = {4,2,2,2,4}\n",
    "<strong>Output:</strong>\n",
    "1\n",
    "<strong>Explanation:\n",
    "</strong>There are multiple possible solutions.\n",
    "one of them is (3 4)<strong>\n",
    "</strong>We can buy stock on day 3,\n",
    "and sell it on 4th day, which will \n",
    "give us maximum profit.</span></pre>\n",
    "\n",
    "<p><br>\n",
    "<span style=\"font-size:18px\"><strong>Your Task:</strong><br>\n",
    "The task is to complete the function <strong>stockBuySell()</strong> which takes an array A[] and N as input parameters and finds the days of buying and selling stock. The function must return a 2D list of integers containing all the buy-sell pairs i.e. first value of pair will represent the day on which you buy&nbsp;the stock and second value represent the day on which you sell that stock. If there is No Profit, return an empty list. </span></p>\n",
    "\n",
    "<p><br>\n",
    "<span style=\"font-size:18px\"><strong>Expected Time Complexity:</strong> O(N)<br>\n",
    "<strong>Expected Auxiliary Space:</strong> O(N)</span></p>\n",
    "\n",
    "<p><br>\n",
    "<span style=\"font-size:18px\"><strong>Constraints:</strong><br>\n",
    "2 ≤&nbsp;N ≤&nbsp;10<sup>6</sup><br>\n",
    "0 ≤&nbsp;A[i] ≤&nbsp;10<sup>6</sup></span></p>\n",
    "</div>"
   ]
  },
  {
   "cell_type": "markdown",
   "metadata": {},
   "source": [
    "# 2. Array Subset of another array"
   ]
  },
  {
   "cell_type": "markdown",
   "metadata": {},
   "source": [
    "<div class=\"problems_problem_content__Xm_eO\"><p><span style=\"font-size:18px\">Given two arrays: <strong>a1[0..n-1]</strong> of size <strong>n</strong> and <strong>a2[0..m-1]</strong> of size <strong>m</strong>. Task is to check whether a2[] is a subset of a1[] or not. Both the arrays can be sorted or unsorted.&nbsp;</span><br>\n",
    "&nbsp;</p>\n",
    "\n",
    "<p><span style=\"font-size:18px\"><strong>Example 1:</strong></span></p>\n",
    "\n",
    "<pre><span style=\"font-size:18px\"><strong>Input</strong>:\n",
    "a1[] = {11, 1, 13, 21, 3, 7}\n",
    "a2[] = {11, 3, 7, 1}\n",
    "<strong>Output</strong>:\n",
    "Yes\n",
    "<strong>Explanation:</strong>\n",
    "a2[] is a subset of a1[]</span></pre>\n",
    "\n",
    "<p><br>\n",
    "<span style=\"font-size:18px\"><strong>Example 2:</strong></span></p>\n",
    "\n",
    "<pre><span style=\"font-size:18px\"><strong>Input</strong>:\n",
    "a1[] = {1, 2, 3, 4, 5, 6}\n",
    "a2[] = {1, 2, 4}\n",
    "<strong>Output</strong>:\n",
    "Yes\n",
    "<strong>Explanation:</strong>\n",
    "a2[] is a subset of a1[]</span></pre>\n",
    "\n",
    "<p><br>\n",
    "<span style=\"font-size:18px\"><strong>Example 3:</strong></span></p>\n",
    "\n",
    "<pre><span style=\"font-size:18px\"><strong>Input</strong>:\n",
    "a1[] = {10, 5, 2, 23, 19}\n",
    "a2[] = {19, 5, 3}<strong>\n",
    "Output</strong>:\n",
    "No<strong>\n",
    "Explanation:</strong>\n",
    "a2[] is not a subset of a1[]</span></pre>\n",
    "\n",
    "<p>&nbsp;</p>\n",
    "\n",
    "<p><span style=\"font-size:18px\"><strong>Your Task:&nbsp;&nbsp;</strong><br>\n",
    "You don't need to read input or print anything. Your task is to complete the function <strong>isSubset()</strong>&nbsp;which takes the array <strong>a1[]</strong>, <strong>a2[]</strong>, its size <strong>n </strong>and <strong>m </strong>as inputs and return \"Yes\" if arr2 is subset of arr1 else return \"No\" if arr2 is not subset of arr1.</span></p>\n",
    "\n",
    "<p>&nbsp;</p>\n",
    "\n",
    "<p><span style=\"font-size:18px\"><strong>Expected Time Complexity:</strong> O(n)<br>\n",
    "<strong>Expected Auxiliary Space:</strong> O(n)<br>\n",
    "<br>\n",
    "<br>\n",
    "<strong>Constraints:</strong><br>\n",
    "1 &lt;= n,m &lt;= 10<sup>5</sup><br>\n",
    "1 &lt;= a1[i], a2[j] &lt;= 10<sup>5</sup></span><br>\n",
    "</div>"
   ]
  },
  {
   "cell_type": "code",
   "execution_count": 1,
   "metadata": {},
   "outputs": [],
   "source": [
    "def is_subset( a1, a2, n, m):\n",
    "    seta1 = set(a1)\n",
    "    seta2 = set(a2)\n",
    "    duplicates = m-len(seta2)\n",
    "    set_all = seta1.union(seta2)\n",
    "    if len(set_all)+duplicates>n:\n",
    "        return \"No\"\n",
    "    return \"Yes\""
   ]
  },
  {
   "cell_type": "markdown",
   "metadata": {},
   "source": [
    "# 3. Find all pairs with a given sum"
   ]
  },
  {
   "cell_type": "markdown",
   "metadata": {},
   "source": [
    "<div class=\"problems_problem_content__Xm_eO\"><p><span style=\"font-size:18px\">Given two unsorted arrays <strong>A</strong> of size <strong>N</strong> and <strong>B</strong> of size <strong>M</strong> of distinct elements, the task is to find all pairs from both arrays whose sum is equal to <strong>X</strong>.</span></p>\n",
    "\n",
    "<p>&nbsp;</p>\n",
    "\n",
    "<p><span style=\"font-size:18px\"><strong>Example 1:</strong></span></p>\n",
    "\n",
    "<pre><span style=\"font-size:18px\"><strong>Input:</strong>\n",
    "A[] = {1, 2, 4, 5, 7}\n",
    "B[] = {5, 6, 3, 4, 8} \n",
    "X = 9 \n",
    "<strong>Output: \n",
    "</strong>1 8\n",
    "4 5 \n",
    "5 4\n",
    "<strong>Explanation:</strong>\n",
    "(1, 8), (4, 5), (5, 4) are the\n",
    "pairs which sum to 9.</span>\n",
    "</pre>\n",
    "\n",
    "<div><span style=\"font-size:18px\"><strong>Example 2:</strong></span></div>\n",
    "\n",
    "<pre><span style=\"font-size:18px\"><strong>Input:</strong>\n",
    "A[] = {-1, -2, 4, -6, 5, 7}\n",
    "B[] = {6, 3, 4, 0} \n",
    "X = 8 \n",
    "<strong>Output:</strong>\n",
    "4 4 \n",
    "5 3</span>\n",
    "</pre>\n",
    "\n",
    "<p><br>\n",
    "<span style=\"font-size:18px\"><strong>Your Task:&nbsp;&nbsp;</strong><br>\n",
    "You don't need to read input or print anything. Your task is to complete the function <strong>allPairs()</strong>&nbsp;which takes the array <strong>A[]</strong>,<strong> B[]</strong>, its size <strong>N </strong>and <strong>M </strong>respectively<strong> </strong>and<strong> </strong>an integer <strong>X&nbsp;</strong>as inputs and returns the sorted vector pair values of all the pairs u,v&nbsp;where u&nbsp;belongs to array&nbsp;A and v&nbsp;belongs to array B. If no such pair exist return empty vector pair.<br>\n",
    "<strong>Note :&nbsp;</strong>All pairs should be printed in <strong>increasing </strong>order of u. For eg. for two pairs (u<sub>1</sub>,v<sub>1</sub>) and (u<sub>2</sub>,v<sub>2</sub>), if u<sub>1</sub>&lt;u<sub>2</sub>&nbsp;then<br>\n",
    "(u<sub>1</sub>,v<sub>1</sub>) should be printed first else second.</span></p>\n",
    "\n",
    "<p><br>\n",
    "<span style=\"font-size:18px\"><strong>Expected Time Complexity:</strong> O(NLog(N))<br>\n",
    "<strong>Expected Auxiliary Space:</strong> O(N)</span></p>\n",
    "\n",
    "<p><br>\n",
    "<span style=\"font-size:18px\"><strong>Constraints:</strong><br>\n",
    "1 ≤ N, M&nbsp;≤ 10<sup>6</sup><br>\n",
    "-10<sup>6</sup> ≤ X, A[i], B[i] ≤ 10<sup>6</sup></span></p>\n",
    "</div>"
   ]
  },
  {
   "cell_type": "code",
   "execution_count": 3,
   "metadata": {},
   "outputs": [],
   "source": [
    " def all_pairs(A, B, X):\n",
    "    # Your code goes here \n",
    "    B_set = set(B)\n",
    "    A.sort()\n",
    "    pairs = []\n",
    "    for el in A:\n",
    "        if (X-el) in B_set:\n",
    "            pairs.append((el, X-el))\n",
    "    return pairs\n"
   ]
  },
  {
   "cell_type": "markdown",
   "metadata": {},
   "source": [
    "# *4. Count distinct elements in every window*"
   ]
  },
  {
   "cell_type": "markdown",
   "metadata": {},
   "source": [
    "<div class=\"problems_problem_content__Xm_eO\"><p><span style=\"font-size:18px\">Given an array of integers and a number K. Find the count of distinct elements in every window of size K in the array.</span></p>\n",
    "\n",
    "<p><strong><span style=\"font-size:18px\">Example 1:</span></strong></p>\n",
    "\n",
    "<pre><strong><span style=\"font-size:18px\">Input:\n",
    "</span></strong><span style=\"font-size:18px\">N = 7, K = 4\n",
    "A[] = {1,2,1,3,4,2,3}\n",
    "<strong>Output: </strong>3 4 4 3<strong>\n",
    "Explanation: </strong>Window 1 of size k = 4 is\n",
    "1 2 1 3. Number of distinct elements in\n",
    "this window are 3.&nbsp;\n",
    "Window 2&nbsp;of size k = 4 is&nbsp;2 1 3 4.&nbsp;</span><span style=\"font-size:18px\">Number\n",
    "of distinct elements in this window are 4.</span>\n",
    "<span style=\"font-size:18px\">Window 3&nbsp;of size k = 4 is&nbsp;1 3 4 2.&nbsp;</span><span style=\"font-size:18px\">Number\n",
    "of distinct elements in this window are 4.</span>\n",
    "<span style=\"font-size:18px\">Window 4&nbsp;of size k = 4 is&nbsp;</span><span style=\"font-size:18px\">3 4 2 3.&nbsp;Number\n",
    "of distinct elements in this window are 3.</span>\n",
    "</pre>\n",
    "\n",
    "<p><strong><span style=\"font-size:18px\">Example 2:</span></strong></p>\n",
    "\n",
    "<pre><strong><span style=\"font-size:18px\">Input:\n",
    "</span></strong><span style=\"font-size:18px\">N = 3, K = 2\n",
    "A[] = {4,1,1}\n",
    "<strong>Output: </strong>2 1</span></pre>\n",
    "\n",
    "<p><span style=\"font-size:18px\"><strong>Your Task:</strong><br>\n",
    "Your task is to complete the function&nbsp;<strong>countDistinct()</strong>&nbsp;which takes the array A[], the size of the array(N) and the window size(K) as inputs and returns an array containing the count of distinct elements in every contiguous window of size K in the array A[].</span></p>\n",
    "\n",
    "<p><span style=\"font-size:18px\"><strong>Expected Time Complexity:</strong>&nbsp;O(N).<br>\n",
    "<strong>Expected Auxiliary Space:</strong>&nbsp;O(N).</span></p>\n",
    "\n",
    "<p><span style=\"font-size:18px\"><strong>Constraints:</strong></span><br>\n",
    "<span style=\"font-size:18px\">1 &lt;= K&nbsp;&lt;= N&nbsp;&lt;= 10<sup>5</sup></span><br>\n",
    "<span style=\"font-size:18px\">1 &lt;= A[i] &lt;= 10<sup>5&nbsp;</sup>, for each valid i</span></p>\n",
    "</div>"
   ]
  },
  {
   "cell_type": "markdown",
   "metadata": {},
   "source": [
    "## Brute Force"
   ]
  },
  {
   "cell_type": "code",
   "execution_count": 4,
   "metadata": {},
   "outputs": [],
   "source": [
    "def count_distinct_b(A, N, K):\n",
    "    start = 0\n",
    "    end = start+K\n",
    "    distincts = []\n",
    "    def get_distinct(arr):\n",
    "        return len(set(arr))\n",
    "    while True:\n",
    "        if end>N:\n",
    "            return distincts\n",
    "        distinct = get_distinct(A[start:end])\n",
    "        distincts.append(distinct)\n",
    "        start+=1\n",
    "        end+=1\n",
    "    return distincts"
   ]
  },
  {
   "cell_type": "code",
   "execution_count": null,
   "metadata": {},
   "outputs": [],
   "source": []
  }
 ],
 "metadata": {
  "kernelspec": {
   "display_name": "Python 3.9.12 ('data-science')",
   "language": "python",
   "name": "python3"
  },
  "language_info": {
   "codemirror_mode": {
    "name": "ipython",
    "version": 3
   },
   "file_extension": ".py",
   "mimetype": "text/x-python",
   "name": "python",
   "nbconvert_exporter": "python",
   "pygments_lexer": "ipython3",
   "version": "3.9.12"
  },
  "orig_nbformat": 4,
  "vscode": {
   "interpreter": {
    "hash": "2efee1efa502125d01e6b4768ba06d9453d29f3642bfd14ad5d4a769de82e88c"
   }
  }
 },
 "nbformat": 4,
 "nbformat_minor": 2
}
